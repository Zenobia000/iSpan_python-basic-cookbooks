{
 "cells": [
  {
   "cell_type": "markdown",
   "source": "## 開發提示\n\n### 階段 1: 基本功能\n1. 先完成 `display_menu()` 與 `main()` 的基本迴圈\n2. 實作 `add_student()` 與 `show_all_students()`\n3. 測試資料結構是否正確\n\n### 階段 2: CRUD 功能\n1. 完成 `query_student()`\n2. 完成 `update_grade()`\n3. 完成 `delete_student()`\n\n### 階段 3: 統計分析\n1. 完成 `calculate_class_average()`\n2. 完成 `find_extremes()`\n3. 完成 `calculate_pass_rate()`\n4. 完成 `show_ranking()`\n5. 完成 `show_grade_distribution()`\n\n### 測試資料範例\n```python\n# 可以用以下資料測試\ntest_student_1 = {\"student_id\": \"A001\", \"name\": \"張小明\", \"grades\": [85, 92, 78]}\ntest_student_2 = {\"student_id\": \"A002\", \"name\": \"李小華\", \"grades\": [90, 88, 95]}\ntest_student_3 = {\"student_id\": \"A003\", \"name\": \"王大明\", \"grades\": [75, 80, 72]}\n```\n\n### 常用程式碼片段\n\n**檢查學號唯一性**:\n```python\nexisting_ids = {s[\"student_id\"] for s in students}\nif student_id in existing_ids:\n    print(\"錯誤: 學號已存在！\")\n```\n\n**使用推導式取得所有成績**:\n```python\nall_grades = [grade for student in students for grade in student['grades']]\n```\n\n**計算平均成績**:\n```python\nif student['grades']:\n    avg = sum(student['grades']) / len(student['grades'])\n```\n\n**格式化輸出**:\n```python\nprint(f\"{student['student_id']:<10} {student['name']:<10} {avg:<10.2f}\")\n```\n\n---\n\n**請開始開發，祝您順利！**",
   "metadata": {}
  },
  {
   "cell_type": "code",
   "source": "# ==================== 主程式 ====================\n\ndef main():\n    \"\"\"主程式\n    \n    功能：\n        1. 顯示選單\n        2. 接收使用者選擇\n        3. 呼叫對應的函式\n        4. 重複執行直到使用者選擇結束\n    \"\"\"\n    while True:\n        # TODO: 顯示選單\n        \n        # TODO: 接收使用者選擇\n        choice = input(\"請選擇功能 (0-6): \")\n        \n        # TODO: 處理使用者選擇\n        if choice == \"0\":\n            print(\"感謝使用，再見！\")\n            break\n        elif choice == \"1\":\n            # TODO: 呼叫新增學生函式\n            pass\n        elif choice == \"2\":\n            # TODO: 呼叫查詢成績函式\n            pass\n        elif choice == \"3\":\n            # TODO: 呼叫修改成績函式\n            pass\n        elif choice == \"4\":\n            # TODO: 呼叫刪除學生函式\n            pass\n        elif choice == \"5\":\n            # TODO: 呼叫統計分析函式\n            pass\n        elif choice == \"6\":\n            # TODO: 呼叫顯示所有學生函式\n            pass\n        else:\n            print(\"無效的選擇，請重新輸入！\")\n\n\n# 執行主程式\nif __name__ == \"__main__\":\n    main()",
   "metadata": {},
   "execution_count": null,
   "outputs": []
  },
  {
   "cell_type": "code",
   "source": "# ==================== 統計分析函式 ====================\n\ndef calculate_class_average(students):\n    \"\"\"計算班級平均成績\n    \n    Args:\n        students: 學生列表\n    \n    功能：\n        1. 使用推導式取得所有成績\n        2. 計算平均值\n        3. 顯示結果\n    \"\"\"\n    # TODO: 實作班級平均功能\n    pass\n\n\ndef find_extremes(students):\n    \"\"\"找出最高分與最低分\n    \n    Args:\n        students: 學生列表\n    \n    功能：\n        1. 取得所有成績\n        2. 找出最高/最低分\n        3. 顯示對應學生\n    \"\"\"\n    # TODO: 實作最高/最低分功能\n    pass\n\n\ndef calculate_pass_rate(students):\n    \"\"\"計算及格率\n    \n    Args:\n        students: 學生列表\n    \n    功能：\n        1. 取得所有成績\n        2. 計算及格成績數（≥60）\n        3. 計算百分比\n    \"\"\"\n    # TODO: 實作及格率統計功能\n    pass\n\n\ndef show_ranking(students):\n    \"\"\"顯示成績排名\n    \n    Args:\n        students: 學生列表\n    \n    功能：\n        1. 計算每位學生的平均成績\n        2. 排序（由高到低）\n        3. 顯示排名表格\n    \"\"\"\n    # TODO: 實作成績排名功能\n    pass\n\n\ndef show_grade_distribution(students):\n    \"\"\"顯示分數分布\n    \n    Args:\n        students: 學生列表\n    \n    功能：\n        1. 定義分數區間（90-100, 80-89...）\n        2. 統計各區間數量\n        3. 顯示長條圖\n    \"\"\"\n    # TODO: 實作分數分布功能\n    pass\n\n\ndef statistics_menu(students):\n    \"\"\"統計分析子選單\n    \n    Args:\n        students: 學生列表\n    \n    功能：\n        顯示統計分析選單並處理使用者選擇\n    \"\"\"\n    # TODO: 實作統計分析選單\n    pass",
   "metadata": {},
   "execution_count": null,
   "outputs": []
  },
  {
   "cell_type": "code",
   "source": "# 全域變數：學生列表\nstudents = []\n\n\n# ==================== 基本功能函式 ====================\n\ndef display_menu():\n    \"\"\"顯示主選單\"\"\"\n    # TODO: 實作選單顯示\n    pass\n\n\ndef add_student(students):\n    \"\"\"新增學生資料\n    \n    Args:\n        students: 學生列表\n    \n    功能：\n        1. 輸入學號（檢查唯一性）\n        2. 輸入姓名\n        3. 輸入多筆成績（驗證範圍 0-100）\n        4. 建立學生字典並加入列表\n    \"\"\"\n    # TODO: 實作新增學生功能\n    pass\n\n\ndef query_student(students):\n    \"\"\"查詢學生成績\n    \n    Args:\n        students: 學生列表\n    \n    功能：\n        1. 輸入關鍵字（學號或姓名）\n        2. 使用推導式查找學生\n        3. 顯示學生資訊與平均成績\n    \"\"\"\n    # TODO: 實作查詢功能\n    pass\n\n\ndef update_grade(students):\n    \"\"\"修改學生成績\n    \n    Args:\n        students: 學生列表\n    \n    功能：\n        1. 輸入學號查找學生\n        2. 顯示當前成績\n        3. 輸入新成績（驗證範圍）\n        4. 更新成績\n    \"\"\"\n    # TODO: 實作修改成績功能\n    pass\n\n\ndef delete_student(students):\n    \"\"\"刪除學生資料\n    \n    Args:\n        students: 學生列表\n    \n    功能：\n        1. 輸入學號查找學生\n        2. 要求確認\n        3. 刪除學生記錄\n    \"\"\"\n    # TODO: 實作刪除學生功能\n    pass\n\n\ndef show_all_students(students):\n    \"\"\"顯示所有學生資訊\n    \n    Args:\n        students: 學生列表\n    \n    功能：\n        1. 檢查是否有學生資料\n        2. 以表格形式顯示所有學生\n        3. 包含學號、姓名、成績、平均\n    \"\"\"\n    # TODO: 實作顯示所有學生功能\n    pass",
   "metadata": {},
   "execution_count": null,
   "outputs": []
  },
  {
   "cell_type": "markdown",
   "metadata": {},
   "source": "# Milestone 3: 學生成績管理系統 - 起始程式碼\n\n本檔案提供專案的基本架構，請依照 TODO 標記完成各項功能。\n\n---\n\n## 資料結構定義\n\n請使用以下資料結構：\n- **學生列表**: `students = []`\n- **學生字典**: `{\"student_id\": str, \"name\": str, \"grades\": list}`"
  }
 ],
 "metadata": {
  "kernelspec": {
   "display_name": "Python 3",
   "language": "python",
   "name": "python3"
  },
  "language_info": {
   "name": "python",
   "version": "3.8.0"
  }
 },
 "nbformat": 4,
 "nbformat_minor": 4
}