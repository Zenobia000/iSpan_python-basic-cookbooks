{
 "cells": [
  {
   "cell_type": "markdown",
   "metadata": {},
   "source": [
    "# Milestone 1: 簡易計算機 - 需求規格書\n",
    "\n",
    "本文件詳細說明簡易計算機的功能需求、技術規格與測試案例。"
   ]
  },
  {
   "cell_type": "markdown",
   "metadata": {},
   "source": [
    "---\n",
    "\n",
    "## 📋 Part I: 基本需求\n",
    "\n",
    "### 需求 1.1：使用者輸入功能\n",
    "\n",
    "**描述**：程式必須能夠正確取得使用者輸入的數字和運算符號。\n",
    "\n",
    "**規格**：\n",
    "- 提示使用者輸入第一個數字\n",
    "- 提示使用者輸入運算符號（+, -, *, /）\n",
    "- 提示使用者輸入第二個數字\n",
    "- 支援整數和浮點數輸入\n",
    "- 將字串輸入正確轉換為數值型態\n",
    "\n",
    "**技術實作**："
   ]
  },
  {
   "cell_type": "code",
   "execution_count": null,
   "metadata": {},
   "outputs": [],
   "source": [
    "# 正確做法：使用 float() 轉換輸入\n",
    "num1 = float(input(\"請輸入第一個數字: \"))\n",
    "operator = input(\"請輸入運算符號 (+, -, *, /): \")\n",
    "num2 = float(input(\"請輸入第二個數字: \"))\n",
    "\n",
    "print(f\"你輸入了：{num1} {operator} {num2}\")\n",
    "\n",
    "# ❌ 錯誤做法 1：未轉換型態\n",
    "# num1 = input(\"請輸入第一個數字: \")\n",
    "# num2 = input(\"請輸入第二個數字: \")\n",
    "# result = num1 + num2  # 這會是字串連接，不是數學運算\n",
    "\n",
    "# ❌ 錯誤做法 2：使用 int() 無法處理小數\n",
    "# num1 = int(input(\"請輸入第一個數字: \"))  # 輸入 3.5 會出錯"
   ]
  },
  {
   "cell_type": "markdown",
   "metadata": {},
   "source": [
    "**測試案例**："
   ]
  },
  {
   "cell_type": "code",
   "execution_count": null,
   "metadata": {},
   "outputs": [],
   "source": [
    "# 測試不同類型的數字輸入\n",
    "test_inputs = [\n",
    "    (\"10\", \"+\", \"5\"),      # 整數\n",
    "    (\"3.5\", \"*\", \"2\"),     # 小數與整數\n",
    "    (\"7.5\", \"/\", \"2.5\"),   # 兩個小數\n",
    "    (\"-5\", \"+\", \"3\"),      # 負數\n",
    "    (\"0\", \"-\", \"10\"),      # 包含零\n",
    "]\n",
    "\n",
    "print(\"輸入驗證測試：\")\n",
    "for num1_str, op, num2_str in test_inputs:\n",
    "    try:\n",
    "        num1 = float(num1_str)\n",
    "        num2 = float(num2_str)\n",
    "        print(f\"✅ {num1_str} {op} {num2_str} → 轉換成功：{num1} {op} {num2}\")\n",
    "    except ValueError as e:\n",
    "        print(f\"❌ {num1_str} {op} {num2_str} → 轉換失敗：{e}\")"
   ]
  },
  {
   "cell_type": "markdown",
   "metadata": {},
   "source": [
    "**驗收標準**：\n",
    "- [ ] 正確提示使用者輸入\n",
    "- [ ] 支援整數和小數輸入\n",
    "- [ ] 正確轉換字串為數值\n",
    "- [ ] 運算符號以字串形式保存"
   ]
  },
  {
   "cell_type": "markdown",
   "metadata": {},
   "source": [
    "---\n",
    "\n",
    "### 需求 1.2：四則運算功能\n",
    "\n",
    "**描述**：程式必須能執行基本的四則運算。\n",
    "\n",
    "**規格**：\n",
    "- 支援加法（+）\n",
    "- 支援減法（-）\n",
    "- 支援乘法（*）\n",
    "- 支援除法（/）\n",
    "- 正確處理浮點數運算\n",
    "\n",
    "**技術實作**："
   ]
  },
  {
   "cell_type": "code",
   "execution_count": null,
   "metadata": {},
   "outputs": [],
   "source": [
    "# 方法 1：基礎版（只支援加法）\n",
    "def basic_calculator(num1, operator, num2):\n",
    "    \"\"\"基礎計算機 - 只支援加法\"\"\"\n",
    "    if operator == \"+\":\n",
    "        return num1 + num2\n",
    "    else:\n",
    "        return \"運算符號不支援\"\n",
    "\n",
    "# 方法 2：完整版（需要條件判斷）\n",
    "def complete_calculator(num1, operator, num2):\n",
    "    \"\"\"完整計算機 - 支援四則運算\"\"\"\n",
    "    if operator == \"+\":\n",
    "        return num1 + num2\n",
    "    elif operator == \"-\":\n",
    "        return num1 - num2\n",
    "    elif operator == \"*\":\n",
    "        return num1 * num2\n",
    "    elif operator == \"/\":\n",
    "        return num1 / num2\n",
    "    else:\n",
    "        return \"無效的運算符號\"\n",
    "\n",
    "# 測試兩種版本\n",
    "print(\"=== 基礎版測試 ===\")\n",
    "print(basic_calculator(10, \"+\", 5))  # 15\n",
    "print(basic_calculator(10, \"-\", 5))  # 運算符號不支援\n",
    "\n",
    "print(\"\\n=== 完整版測試 ===\")\n",
    "print(complete_calculator(10, \"+\", 5))  # 15\n",
    "print(complete_calculator(10, \"-\", 5))  # 5\n",
    "print(complete_calculator(10, \"*\", 5))  # 50\n",
    "print(complete_calculator(10, \"/\", 5))  # 2.0"
   ]
  },
  {
   "cell_type": "markdown",
   "metadata": {},
   "source": [
    "**運算測試案例**："
   ]
  },
  {
   "cell_type": "code",
   "execution_count": null,
   "metadata": {},
   "outputs": [],
   "source": [
    "# 完整的四則運算測試\n",
    "test_calculations = [\n",
    "    (10, \"+\", 5, 15),        # 加法\n",
    "    (20, \"-\", 8, 12),        # 減法\n",
    "    (7, \"*\", 6, 42),         # 乘法\n",
    "    (15, \"/\", 3, 5.0),       # 除法\n",
    "    (3.5, \"+\", 2.5, 6.0),    # 小數加法\n",
    "    (10.5, \"/\", 2, 5.25),    # 小數除法\n",
    "    (-5, \"+\", 3, -2),        # 負數運算\n",
    "    (0, \"*\", 100, 0),        # 零的運算\n",
    "]\n",
    "\n",
    "print(\"四則運算測試：\")\n",
    "for num1, op, num2, expected in test_calculations:\n",
    "    result = complete_calculator(num1, op, num2)\n",
    "    status = \"✅\" if result == expected else \"❌\"\n",
    "    print(f\"{status} {num1} {op} {num2} = {result} (預期: {expected})\")"
   ]
  },
  {
   "cell_type": "markdown",
   "metadata": {},
   "source": [
    "**驗收標準**：\n",
    "- [ ] 加法運算正確\n",
    "- [ ] 減法運算正確\n",
    "- [ ] 乘法運算正確\n",
    "- [ ] 除法運算正確\n",
    "- [ ] 浮點數運算精確"
   ]
  },
  {
   "cell_type": "markdown",
   "metadata": {},
   "source": [
    "---\n",
    "\n",
    "### 需求 1.3：結果輸出格式化\n",
    "\n",
    "**描述**：程式必須以清楚易讀的格式顯示計算結果。\n",
    "\n",
    "**規格**：\n",
    "- 使用格式：`數字1 運算符號 數字2 = 結果`\n",
    "- 使用 f-string 進行格式化\n",
    "- 輸出應該美觀易讀\n",
    "\n",
    "**技術實作**："
   ]
  },
  {
   "cell_type": "code",
   "execution_count": null,
   "metadata": {},
   "outputs": [],
   "source": [
    "# 正確做法：使用 f-string 格式化\n",
    "def display_result(num1, operator, num2, result):\n",
    "    \"\"\"格式化顯示計算結果\"\"\"\n",
    "    print(f\"{num1} {operator} {num2} = {result}\")\n",
    "\n",
    "# 進階格式化：處理小數點位數\n",
    "def display_result_formatted(num1, operator, num2, result):\n",
    "    \"\"\"格式化顯示計算結果（進階版）\"\"\"\n",
    "    # 如果結果是整數，不顯示小數點\n",
    "    if isinstance(result, float) and result.is_integer():\n",
    "        result = int(result)\n",
    "    \n",
    "    print(f\"{num1} {operator} {num2} = {result}\")\n",
    "\n",
    "# 測試輸出格式\n",
    "print(\"=== 基本格式化 ===\")\n",
    "display_result(10, \"+\", 5, 15)\n",
    "display_result(3.5, \"*\", 2, 7.0)\n",
    "\n",
    "print(\"\\n=== 進階格式化 ===\")\n",
    "display_result_formatted(10, \"+\", 5, 15.0)    # 顯示為 15\n",
    "display_result_formatted(3.5, \"*\", 2, 7.0)    # 顯示為 7\n",
    "display_result_formatted(10, \"/\", 3, 3.333)   # 顯示為 3.333"
   ]
  },
  {
   "cell_type": "markdown",
   "metadata": {},
   "source": [
    "**輸出格式測試**："
   ]
  },
  {
   "cell_type": "code",
   "execution_count": null,
   "metadata": {},
   "outputs": [],
   "source": [
    "# 不同格式化方式比較\n",
    "num1, operator, num2, result = 10.0, \"+\", 5.0, 15.0\n",
    "\n",
    "print(\"不同輸出格式比較：\")\n",
    "print(f\"基本 print: {num1}{operator}{num2}={result}\")  # 不易讀\n",
    "print(f\"加空格: {num1} {operator} {num2} = {result}\")   # 易讀\n",
    "print(f\"加說明: 計算結果：{num1} {operator} {num2} = {result}\")  # 更清楚\n",
    "\n",
    "# 使用不同的字串格式化方法（比較）\n",
    "print(\"\\n字串格式化方法比較：\")\n",
    "print(\"%s %s %s = %s\" % (num1, operator, num2, result))    # % 格式化（舊）\n",
    "print(\"{} {} {} = {}\".format(num1, operator, num2, result))  # str.format()（中）\n",
    "print(f\"{num1} {operator} {num2} = {result}\")              # f-string（新，推薦）"
   ]
  },
  {
   "cell_type": "markdown",
   "metadata": {},
   "source": [
    "**驗收標準**：\n",
    "- [ ] 使用 f-string 格式化\n",
    "- [ ] 輸出格式清楚易讀\n",
    "- [ ] 包含運算符號和等號\n",
    "- [ ] 數字間有適當空格"
   ]
  },
  {
   "cell_type": "markdown",
   "metadata": {},
   "source": [
    "---\n",
    "\n",
    "## 🚀 Part II: 進階需求（選做）\n",
    "\n",
    "### 需求 2.1：除零錯誤處理\n",
    "\n",
    "**描述**：當除數為零時，程式不應該崩潰，而是顯示適當的錯誤訊息。\n",
    "\n",
    "**規格**：\n",
    "- 檢查除法運算的除數是否為零\n",
    "- 顯示友善的錯誤訊息\n",
    "- 程式不會因此崩潰\n",
    "\n",
    "**技術實作**："
   ]
  },
  {
   "cell_type": "code",
   "execution_count": null,
   "metadata": {},
   "outputs": [],
   "source": [
    "def safe_calculator(num1, operator, num2):\n",
    "    \"\"\"安全的計算機（處理除零錯誤）\"\"\"\n",
    "    if operator == \"+\":\n",
    "        return num1 + num2\n",
    "    elif operator == \"-\":\n",
    "        return num1 - num2\n",
    "    elif operator == \"*\":\n",
    "        return num1 * num2\n",
    "    elif operator == \"/\":\n",
    "        if num2 == 0:\n",
    "            return \"錯誤：不能除以零！\"\n",
    "        return num1 / num2\n",
    "    else:\n",
    "        return \"錯誤：無效的運算符號！\"\n",
    "\n",
    "# 測試除零處理\n",
    "print(\"除零錯誤處理測試：\")\n",
    "print(safe_calculator(10, \"/\", 0))   # 錯誤：不能除以零！\n",
    "print(safe_calculator(10, \"/\", 2))   # 5.0\n",
    "print(safe_calculator(0, \"/\", 5))    # 0.0（零除以其他數字是可以的）\n",
    "\n",
    "# 測試無效運算符號\n",
    "print(\"\\n無效運算符號測試：\")\n",
    "print(safe_calculator(10, \"$\", 5))   # 錯誤：無效的運算符號！\n",
    "print(safe_calculator(10, \"^\", 5))   # 錯誤：無效的運算符號！"
   ]
  },
  {
   "cell_type": "markdown",
   "metadata": {},
   "source": [
    "**錯誤處理測試案例**："
   ]
  },
  {
   "cell_type": "code",
   "execution_count": null,
   "metadata": {},
   "outputs": [],
   "source": [
    "# 完整的錯誤處理測試\n",
    "error_test_cases = [\n",
    "    (10, \"/\", 0, \"錯誤：不能除以零！\"),          # 除零\n",
    "    (5, \"/\", 0.0, \"錯誤：不能除以零！\"),        # 除以 0.0\n",
    "    (-7, \"/\", 0, \"錯誤：不能除以零！\"),         # 負數除零\n",
    "    (10, \"$\", 5, \"錯誤：無效的運算符號！\"),      # 無效符號\n",
    "    (10, \"^\", 5, \"錯誤：無效的運算符號！\"),      # 無效符號\n",
    "    (10, \"+\", 5, 15),                        # 正常情況\n",
    "]\n",
    "\n",
    "print(\"錯誤處理完整測試：\")\n",
    "for num1, op, num2, expected in error_test_cases:\n",
    "    result = safe_calculator(num1, op, num2)\n",
    "    status = \"✅\" if result == expected else \"❌\"\n",
    "    print(f\"{status} {num1} {op} {num2} → {result}\")"
   ]
  },
  {
   "cell_type": "markdown",
   "metadata": {},
   "source": [
    "**驗收標準**：\n",
    "- [ ] 除零時顯示錯誤訊息\n",
    "- [ ] 程式不會崩潰\n",
    "- [ ] 錯誤訊息清楚友善\n",
    "- [ ] 正常運算不受影響"
   ]
  },
  {
   "cell_type": "markdown",
   "metadata": {},
   "source": [
    "---\n",
    "\n",
    "### 需求 2.2：運算符號擴展\n",
    "\n",
    "**描述**：支援更多運算類型。\n",
    "\n",
    "**規格**：\n",
    "- 次方運算（**）\n",
    "- 餘數運算（%）\n",
    "- 整數除法（//）\n",
    "\n",
    "**技術實作**："
   ]
  },
  {
   "cell_type": "code",
   "execution_count": null,
   "metadata": {},
   "outputs": [],
   "source": [
    "def advanced_calculator(num1, operator, num2):\n",
    "    \"\"\"進階計算機（支援更多運算）\"\"\"\n",
    "    if operator == \"+\":\n",
    "        return num1 + num2\n",
    "    elif operator == \"-\":\n",
    "        return num1 - num2\n",
    "    elif operator == \"*\":\n",
    "        return num1 * num2\n",
    "    elif operator == \"/\":\n",
    "        if num2 == 0:\n",
    "            return \"錯誤：不能除以零！\"\n",
    "        return num1 / num2\n",
    "    elif operator == \"**\":\n",
    "        return num1 ** num2\n",
    "    elif operator == \"%\":\n",
    "        if num2 == 0:\n",
    "            return \"錯誤：不能對零求餘數！\"\n",
    "        return num1 % num2\n",
    "    elif operator == \"//\":\n",
    "        if num2 == 0:\n",
    "            return \"錯誤：不能除以零！\"\n",
    "        return num1 // num2\n",
    "    else:\n",
    "        return \"錯誤：無效的運算符號！\"\n",
    "\n",
    "# 測試進階運算\n",
    "print(\"進階運算測試：\")\n",
    "print(f\"2 ** 3 = {advanced_calculator(2, '**', 3)}\")     # 次方：8\n",
    "print(f\"10 % 3 = {advanced_calculator(10, '%', 3)}\")     # 餘數：1\n",
    "print(f\"10 // 3 = {advanced_calculator(10, '//', 3)}\")   # 整數除法：3\n",
    "print(f\"7.5 % 2.5 = {advanced_calculator(7.5, '%', 2.5)}\")  # 小數餘數：0.0"
   ]
  },
  {
   "cell_type": "markdown",
   "metadata": {},
   "source": [
    "**驗收標準**：\n",
    "- [ ] 次方運算正確\n",
    "- [ ] 餘數運算正確\n",
    "- [ ] 整數除法正確\n",
    "- [ ] 處理相關錯誤情況"
   ]
  },
  {
   "cell_type": "markdown",
   "metadata": {},
   "source": [
    "---\n",
    "\n",
    "## ✅ Part III: 完整測試案例\n",
    "\n",
    "### 測試案例 1：基本運算測試\n",
    "\n",
    "**情境**：測試四則運算是否正確\n",
    "\n",
    "**測試資料**："
   ]
  },
  {
   "cell_type": "code",
   "execution_count": null,
   "metadata": {},
   "outputs": [],
   "source": [
    "basic_tests = [\n",
    "    (10, \"+\", 5, 15),\n",
    "    (20, \"-\", 8, 12),\n",
    "    (7, \"*\", 6, 42),\n",
    "    (15, \"/\", 3, 5.0),\n",
    "    (3.5, \"+\", 2.5, 6.0),\n",
    "]\n",
    "\n",
    "print(\"=== 基本運算測試 ===\")\n",
    "for num1, op, num2, expected in basic_tests:\n",
    "    result = complete_calculator(num1, op, num2)\n",
    "    status = \"✅\" if result == expected else \"❌\"\n",
    "    print(f\"{status} {num1} {op} {num2} = {result}\")"
   ]
  },
  {
   "cell_type": "markdown",
   "metadata": {},
   "source": [
    "### 測試案例 2：邊界值測試\n",
    "\n",
    "**情境**：測試特殊數值的處理"
   ]
  },
  {
   "cell_type": "code",
   "execution_count": null,
   "metadata": {},
   "outputs": [],
   "source": [
    "boundary_tests = [\n",
    "    (0, \"+\", 5, 5),        # 零的運算\n",
    "    (-5, \"+\", 3, -2),      # 負數運算\n",
    "    (1, \"*\", 1000, 1000),  # 大數運算\n",
    "    (0.1, \"+\", 0.2, 0.3),  # 小數精度\n",
    "]\n",
    "\n",
    "print(\"=== 邊界值測試 ===\")\n",
    "for num1, op, num2, expected in boundary_tests:\n",
    "    result = complete_calculator(num1, op, num2)\n",
    "    # 處理浮點數精度問題\n",
    "    if isinstance(result, float) and isinstance(expected, float):\n",
    "        status = \"✅\" if abs(result - expected) < 0.0001 else \"❌\"\n",
    "    else:\n",
    "        status = \"✅\" if result == expected else \"❌\"\n",
    "    print(f\"{status} {num1} {op} {num2} = {result}\")"
   ]
  },
  {
   "cell_type": "markdown",
   "metadata": {},
   "source": [
    "### 測試案例 3：錯誤處理測試\n",
    "\n",
    "**情境**：測試錯誤情況的處理"
   ]
  },
  {
   "cell_type": "code",
   "execution_count": null,
   "metadata": {},
   "outputs": [],
   "source": [
    "error_tests = [\n",
    "    (10, \"/\", 0),      # 除零\n",
    "    (5, \"$\", 3),       # 無效運算符號\n",
    "    (0, \"/\", 0),       # 零除零\n",
    "]\n",
    "\n",
    "print(\"=== 錯誤處理測試 ===\")\n",
    "for num1, op, num2 in error_tests:\n",
    "    result = safe_calculator(num1, op, num2)\n",
    "    is_error = \"錯誤\" in str(result)\n",
    "    status = \"✅\" if is_error else \"❌\"\n",
    "    print(f\"{status} {num1} {op} {num2} → {result}\")"
   ]
  },
  {
   "cell_type": "markdown",
   "metadata": {},
   "source": [
    "---\n",
    "\n",
    "## 📋 需求檢核清單\n",
    "\n",
    "### 基本需求\n",
    "- [ ] 1.1 使用者輸入功能完整\n",
    "- [ ] 1.2 四則運算正確\n",
    "- [ ] 1.3 輸出格式化美觀\n",
    "\n",
    "### 進階需求（選做）\n",
    "- [ ] 2.1 除零錯誤處理\n",
    "- [ ] 2.2 運算符號擴展\n",
    "\n",
    "### 程式品質\n",
    "- [ ] 程式碼符合 PEP 8\n",
    "- [ ] 變數命名有意義\n",
    "- [ ] 使用 f-string 格式化\n",
    "- [ ] 有適當的註解\n",
    "\n",
    "### 測試覆蓋\n",
    "- [ ] 基本運算測試通過\n",
    "- [ ] 邊界值測試通過\n",
    "- [ ] 錯誤處理測試通過\n",
    "\n",
    "---\n",
    "\n",
    "**文件版本**：1.0  \n",
    "**最後更新**：2025-10-09"
   ]
  }
 ],
 "metadata": {
  "kernelspec": {
   "display_name": "Python 3",
   "language": "python",
   "name": "python3"
  },
  "language_info": {
   "codemirror_mode": {
    "name": "ipython",
    "version": 3
   },
   "file_extension": ".py",
   "mimetype": "text/x-python",
   "name": "python",
   "nbconvert_exporter": "python",
   "pygments_lexer": "ipython3",
   "version": "3.8.5"
  }
 },
 "nbformat": 4,
 "nbformat_minor": 4
}