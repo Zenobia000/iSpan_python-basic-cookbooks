{
 "cells": [
  {
   "cell_type": "markdown",
   "metadata": {},
   "source": "### 程式題 9（4 分）\n\n**題目**：JSON 資料更新\n\n讀取一個 JSON 檔案，更新其中某個欄位的值，再儲存回檔案。\n假設 config.json 包含 {\"theme\": \"light\"}，將 theme 改為 \"dark\"。\n\n**範例輸出**：\n```\n已更新 theme: light → dark\n已儲存到 config.json\n```"
  },
  {
   "cell_type": "code",
   "execution_count": null,
   "metadata": {},
   "outputs": [],
   "source": "# 在此撰寫你的程式碼\n"
  },
  {
   "cell_type": "markdown",
   "metadata": {},
   "source": "---"
  },
  {
   "cell_type": "markdown",
   "metadata": {},
   "source": "### 程式題 10（4 分）\n\n**題目**：JSON 型態檢查\n\n寫一個函式 check_json_types(data)，回傳 JSON 中每個值的型態統計。\n例如：{\"name\": \"Alice\", \"age\": 25, \"active\": true}\n應回傳：{\"string\": 1, \"number\": 1, \"boolean\": 1}\n\n**範例輸出**：\n```\n{\"string\": 1, \"number\": 1, \"boolean\": 1}\n```"
  },
  {
   "cell_type": "code",
   "execution_count": null,
   "metadata": {},
   "outputs": [],
   "source": "# 在此撰寫你的程式碼\n"
  },
  {
   "cell_type": "markdown",
   "metadata": {},
   "source": "---"
  },
  {
   "cell_type": "markdown",
   "metadata": {},
   "source": "### 第 16 題（3 分）\n\n以下哪個操作會引發 TypeError？\n\n(A) json.dumps([1, 2, 3])\n(B) json.dumps({\"key\": \"value\"})\n(C) json.dumps(datetime.now())\n(D) json.dumps(\"string\")\n\n**你的答案**：\n\n---"
  },
  {
   "cell_type": "markdown",
   "metadata": {},
   "source": "### 第 17 題（3 分）\n\n在實務中，JSON 最常用於？\n\n(A) 作業系統設定\n(B) API 資料交換\n(C) 影像處理\n(D) 密碼加密\n\n**你的答案**：\n\n---"
  },
  {
   "cell_type": "markdown",
   "metadata": {},
   "source": "### 第 18 題（3 分）\n\n以下哪個是有效的 JSON 值？\n\n(A) undefined\n(B) NaN\n(C) \"hello\"\n(D) Infinity\n\n**你的答案**：\n\n---"
  },
  {
   "cell_type": "markdown",
   "metadata": {},
   "source": "### 第 19 題（3 分）\n\nJSON 檔案的副檔名通常是？\n\n(A) .txt\n(B) .json\n(C) .js\n(D) .data\n\n**你的答案**：\n\n---"
  },
  {
   "cell_type": "markdown",
   "metadata": {},
   "source": "### 第 20 題（3 分）\n\nPython 字典的鍵可以是數字，但 JSON 物件的鍵？\n\n(A) 也可以是數字\n(B) 必須是字串\n(C) 可以是數字或字串\n(D) 可以是任何型態\n\n**你的答案**：\n\n---"
  },
  {
   "cell_type": "markdown",
   "metadata": {},
   "source": [
    "# 結構化資料: JSON | Structured Data: JSON\n\n## 📝 自我測驗 | Quiz\n\n---\n\n## 📋 測驗說明\n\n本測驗包含：\n- **Part A: 選擇題（15 題）** - 每題 4 分，共 60 分\n- **Part B: 程式題（8 題）** - 每題 5 分，共 40 分\n- **總分：100 分** | **及格：70 分**\n\n**建議時間**：30 分鐘\n\n---"
   ]
  },
  {
   "cell_type": "markdown",
   "metadata": {},
   "source": "## Part A: 選擇題（60 分）\n\n請選擇最適合的答案。"
  },
  {
   "cell_type": "markdown",
   "metadata": {},
   "source": [
    "### 第 1 題（4 分）\n\nJSON 代表什麼？\n\n(A) Java Serialized Object Notation\n(B) JavaScript Object Notation\n(C) JavaScript Oriented Network\n(D) Java Simple Object Network\n\n**你的答案**：\n\n---"
   ]
  },
  {
   "cell_type": "markdown",
   "metadata": {},
   "source": [
    "### 第 2 題（4 分）\n\n下列哪個**不是** JSON 支援的資料型態？\n\n(A) string（字串）\n(B) number（數字）\n(C) date（日期）\n(D) null（空值）\n\n**你的答案**：\n\n---"
   ]
  },
  {
   "cell_type": "markdown",
   "metadata": {},
   "source": [
    "### 第 3 題（4 分）\n\nPython 的 `json.dumps()` 方法的作用是？\n\n(A) 從檔案讀取 JSON\n(B) 將 Python 物件轉為 JSON 字串\n(C) 將 JSON 字串解析為 Python 物件\n(D) 驗證 JSON 格式\n\n**你的答案**：\n\n---"
   ]
  },
  {
   "cell_type": "markdown",
   "metadata": {},
   "source": [
    "### 第 4 題（4 分）\n\n以下哪個 JSON 格式是**正確的**？\n\n(A) {\"name\": \"Alice\", \"age\": 25}\n(B) {'name': 'Alice', 'age': 25}\n(C) {name: \"Alice\", age: 25}\n(D) {\"name\": \"Alice\", \"age\": 25,}\n\n**你的答案**：\n\n---"
   ]
  },
  {
   "cell_type": "markdown",
   "metadata": {},
   "source": [
    "### 第 5 題（4 分）\n\nPython 的 `True` 在 JSON 中會被轉換為？\n\n(A) True\n(B) true\n(C) TRUE\n(D) \"true\"\n\n**你的答案**：\n\n---"
   ]
  },
  {
   "cell_type": "markdown",
   "metadata": {},
   "source": [
    "### 第 6 題（4 分）\n\n`json.dump()` 和 `json.dumps()` 的主要差別是？\n\n(A) dump() 寫入檔案，dumps() 返回字串\n(B) dump() 返回字串，dumps() 寫入檔案\n(C) dump() 用於讀取，dumps() 用於寫入\n(D) 兩者功能完全相同\n\n**你的答案**：\n\n---"
   ]
  },
  {
   "cell_type": "markdown",
   "metadata": {},
   "source": [
    "### 第 7 題（4 分）\n\n若要在 JSON 輸出中保留中文字元，應使用哪個參數？\n\n(A) indent=2\n(B) ensure_ascii=False\n(C) encoding='utf-8'\n(D) chinese=True\n\n**你的答案**：\n\n---"
   ]
  },
  {
   "cell_type": "markdown",
   "metadata": {},
   "source": [
    "### 第 8 題（4 分）\n\nPython 的 `None` 會被轉換為 JSON 的？\n\n(A) None\n(B) null\n(C) undefined\n(D) \"None\"\n\n**你的答案**：\n\n---"
   ]
  },
  {
   "cell_type": "markdown",
   "metadata": {},
   "source": [
    "### 第 9 題（4 分）\n\n以下程式碼的輸出型態是什麼？\\n```python\\nimport json\\ndata = '{\"name\": \"Alice\"}'\\nresult = json.loads(data)\\ntype(result)\\n```\n\n(A) <class 'str'>\n(B) <class 'dict'>\n(C) <class 'list'>\n(D) <class 'json'>\n\n**你的答案**：\n\n---"
   ]
  },
  {
   "cell_type": "markdown",
   "metadata": {},
   "source": [
    "### 第 10 題（4 分）\n\nJSON 格式錯誤會引發哪種異常？\n\n(A) ValueError\n(B) TypeError\n(C) JSONDecodeError\n(D) SyntaxError\n\n**你的答案**：\n\n---"
   ]
  },
  {
   "cell_type": "markdown",
   "metadata": {},
   "source": [
    "### 第 11 題（4 分）\n\nPython 的 `tuple` 在轉換為 JSON 後會變成？\n\n(A) tuple\n(B) array（列表）\n(C) object（物件）\n(D) string（字串）\n\n**你的答案**：\n\n---"
   ]
  },
  {
   "cell_type": "markdown",
   "metadata": {},
   "source": [
    "### 第 12 題（4 分）\n\n若要格式化 JSON 輸出，使其縮排 2 個空格，應使用？\n\n(A) json.dumps(data, spaces=2)\n(B) json.dumps(data, indent=2)\n(C) json.dumps(data, format=2)\n(D) json.dumps(data, pretty=2)\n\n**你的答案**：\n\n---"
   ]
  },
  {
   "cell_type": "markdown",
   "metadata": {},
   "source": [
    "### 第 13 題（4 分）\n\nJSON 的鍵（key）必須是什麼型態？\n\n(A) 只能是整數\n(B) 只能是字串\n(C) 可以是任何型態\n(D) 可以是字串或整數\n\n**你的答案**：\n\n---"
   ]
  },
  {
   "cell_type": "markdown",
   "metadata": {},
   "source": [
    "### 第 14 題（4 分）\n\n以下哪個**無法**直接序列化為 JSON？\n\n(A) 字典（dict）\n(B) 列表（list）\n(C) 日期時間（datetime）\n(D) 布林值（bool）\n\n**你的答案**：\n\n---"
   ]
  },
  {
   "cell_type": "markdown",
   "metadata": {},
   "source": [
    "### 第 15 題（4 分）\n\n若要將 JSON 的鍵按字母順序排列，應使用哪個參數？\n\n(A) sort=True\n(B) sort_keys=True\n(C) ordered=True\n(D) sorted=True\n\n**你的答案**：\n\n---"
   ]
  },
  {
   "cell_type": "markdown",
   "metadata": {},
   "source": "## Part B: 程式題（40 分）\n\n請撰寫程式碼完成以下任務。"
  },
  {
   "cell_type": "markdown",
   "metadata": {},
   "source": [
    "### 程式題 1（5 分）\n\n**題目**：JSON 字串解析\n\n給定 JSON 字串 `'{\"name\": \"Alice\", \"age\": 25, \"city\": \"台北市\"}'`，\n解析並輸出：`姓名：Alice，年齡：25 歲，城市：台北市`\n\n**範例輸出**：\n```\n姓名：Alice，年齡：25 歲，城市：台北市\n```"
   ]
  },
  {
   "cell_type": "code",
   "execution_count": null,
   "metadata": {},
   "outputs": [],
   "source": "# 在此撰寫你的程式碼\n"
  },
  {
   "cell_type": "markdown",
   "metadata": {},
   "source": "---"
  },
  {
   "cell_type": "markdown",
   "metadata": {},
   "source": [
    "### 程式題 2（5 分）\n\n**題目**：列表轉 JSON\n\n建立一個包含 3 個學生資料的列表（每個學生有 name 和 score），\n將其轉換為格式化的 JSON 字串並顯示。\n\n**範例輸出**：\n```\n[\n  {\n    \"name\": \"Alice\",\n    \"score\": 95\n  },\n  ...\n]\n```"
   ]
  },
  {
   "cell_type": "code",
   "execution_count": null,
   "metadata": {},
   "outputs": [],
   "source": "# 在此撰寫你的程式碼\n"
  },
  {
   "cell_type": "markdown",
   "metadata": {},
   "source": "---"
  },
  {
   "cell_type": "markdown",
   "metadata": {},
   "source": [
    "### 程式題 3（5 分）\n\n**題目**：統計 JSON 資料\n\n給定學生成績 JSON：`[{\"name\": \"A\", \"score\": 85}, {\"name\": \"B\", \"score\": 92}, {\"name\": \"C\", \"score\": 78}]`\n計算並輸出平均分數和最高分學生的姓名。\n\n**範例輸出**：\n```\n平均分數: 85.0\n最高分: B (92 分)\n```"
   ]
  },
  {
   "cell_type": "code",
   "execution_count": null,
   "metadata": {},
   "outputs": [],
   "source": "# 在此撰寫你的程式碼\n"
  },
  {
   "cell_type": "markdown",
   "metadata": {},
   "source": "---"
  },
  {
   "cell_type": "markdown",
   "metadata": {},
   "source": [
    "### 程式題 4（5 分）\n\n**題目**：JSON 檔案寫入\n\n建立一個字典包含你的 favorite_books（書籍列表），\n儲存為 `books.json` 檔案（保留中文，格式化輸出）。\n\n**範例輸出**：\n```\n已儲存到 books.json\n```"
   ]
  },
  {
   "cell_type": "code",
   "execution_count": null,
   "metadata": {},
   "outputs": [],
   "source": "# 在此撰寫你的程式碼\n"
  },
  {
   "cell_type": "markdown",
   "metadata": {},
   "source": "---"
  },
  {
   "cell_type": "markdown",
   "metadata": {},
   "source": [
    "### 程式題 5（5 分）\n\n**題目**：巢狀資料存取\n\n給定 JSON：`{\"user\": {\"name\": \"Alice\", \"contact\": {\"email\": \"alice@example.com\"}}}`\n提取並顯示 email 地址。\n\n**範例輸出**：\n```\nEmail: alice@example.com\n```"
   ]
  },
  {
   "cell_type": "code",
   "execution_count": null,
   "metadata": {},
   "outputs": [],
   "source": "# 在此撰寫你的程式碼\n"
  },
  {
   "cell_type": "markdown",
   "metadata": {},
   "source": "---"
  },
  {
   "cell_type": "markdown",
   "metadata": {},
   "source": [
    "### 程式題 6（5 分）\n\n**題目**：JSON 格式驗證\n\n寫一個函式 `is_valid_json(json_string)`，\n檢查字串是否為有效的 JSON 格式，返回 True 或 False。\n\n**範例輸出**：\n```\nis_valid_json('{\"name\": \"Alice\"}')  # True\nis_valid_json('{name: \"Alice\"}')  # False\n```"
   ]
  },
  {
   "cell_type": "code",
   "execution_count": null,
   "metadata": {},
   "outputs": [],
   "source": "# 在此撰寫你的程式碼\n"
  },
  {
   "cell_type": "markdown",
   "metadata": {},
   "source": "---"
  },
  {
   "cell_type": "markdown",
   "metadata": {},
   "source": [
    "### 程式題 7（5 分）\n\n**題目**：合併 JSON 資料\n\n給定兩個字典：\n`config1 = {\"theme\": \"light\", \"size\": 14}`\n`config2 = {\"theme\": \"dark\", \"font\": \"Arial\"}`\n合併（config2 的值優先），轉為 JSON 字串並顯示。\n\n**範例輸出**：\n```\n{\"theme\": \"dark\", \"size\": 14, \"font\": \"Arial\"}\n```"
   ]
  },
  {
   "cell_type": "code",
   "execution_count": null,
   "metadata": {},
   "outputs": [],
   "source": "# 在此撰寫你的程式碼\n"
  },
  {
   "cell_type": "markdown",
   "metadata": {},
   "source": "---"
  },
  {
   "cell_type": "markdown",
   "metadata": {},
   "source": [
    "### 程式題 8（5 分）\n\n**題目**：JSON 資料過濾\n\n給定商品列表 JSON（每個商品有 name 和 price），\n篩選價格 >= 500 的商品，輸出為 JSON 字串。\n\n**範例輸出**：\n```\n[{\"name\": \"商品A\", \"price\": 599}, {\"name\": \"商品C\", \"price\": 1200}]\n```"
   ]
  },
  {
   "cell_type": "code",
   "execution_count": null,
   "metadata": {},
   "outputs": [],
   "source": "# 在此撰寫你的程式碼\n"
  },
  {
   "cell_type": "markdown",
   "metadata": {},
   "source": "---"
  },
  {
   "cell_type": "markdown",
   "metadata": {},
   "source": [
    "## 📊 評分標準\n\n### Part A 選擇題解答\n\n1. (B)\n2. (C)\n3. (B)\n4. (A)\n5. (B)\n6. (A)\n7. (B)\n8. (B)\n9. (B)\n10. (C)\n11. (B)\n12. (B)\n13. (B)\n14. (C)\n15. (B)\n\n### Part B 程式題評分重點\n\n1. **程式題 1**：正確解析 JSON 字串（3分）、格式化輸出（2分）\n2. **程式題 2**：正確建立資料結構（2分）、JSON 轉換與格式化（3分）\n3. **程式題 3**：正確解析 JSON（2分）、統計計算（2分）、格式化輸出（1分）\n4. **程式題 4**：建立字典（1分）、檔案寫入（2分）、參數設定（2分）\n5. **程式題 5**：巢狀資料存取（3分）、錯誤處理（2分）\n6. **程式題 6**：函式定義（1分）、異常處理（3分）、返回值（1分）\n7. **程式題 7**：字典合併（2分）、JSON 轉換（3分）\n8. **程式題 8**：資料篩選（3分）、JSON 輸出（2分）\n\n---"
   ]
  },
  {
   "cell_type": "markdown",
   "metadata": {},
   "source": [
    "## 🎯 學習建議\n\n根據你的分數：\n\n- **90-100 分**：優秀！已完全掌握 JSON 處理技巧\n  - 建議：挑戰更複雜的實作，如 JSON Schema 驗證\n  - 進階：學習 JSON Lines、JSONP 等擴展格式\n\n- **80-89 分**：良好！基本概念扎實\n  - 建議：加強進階主題（自訂編碼器、錯誤處理）\n  - 練習：完成 Milestone 7 待辦事項系統\n\n- **70-79 分**：及格，但需加強\n  - 建議：重新學習 `dumps()`/`loads()` vs `dump()`/`load()` 的差異\n  - 練習：多做 Part B 程式題，加強實作能力\n\n- **60-69 分**：基礎不穩\n  - 建議：重新閱讀 `01-lecture.ipynb`\n  - 練習：從頭完成 `04-exercises.ipynb` 所有習題\n\n- **60 分以下**：需要重新學習\n  - 建議：逐行理解 `02-worked-examples.ipynb` 的範例\n  - 練習：完成 `03-practice.ipynb` 課堂練習\n  - 求助：與講師或同學討論不理解的概念\n\n---"
   ]
  },
  {
   "cell_type": "markdown",
   "metadata": {},
   "source": [
    "## 💡 常見錯誤與提醒\n\n### 選擇題常見誤區\n\n1. **混淆 dumps/dump**：記住 dumps 多一個 's' 代表 string\n2. **JSON 語法**：必須用雙引號，不能有 trailing comma\n3. **型態轉換**：tuple → list, True → true, None → null\n4. **參數名稱**：`ensure_ascii`（不是 encoding）、`indent`（不是 spaces）\n\n### 程式題常見錯誤\n\n1. **忘記 import json**：每個程式碼區塊都要 import\n2. **中文顯示問題**：忘記設定 `ensure_ascii=False`\n3. **檔案編碼**：忘記設定 `encoding='utf-8'`\n4. **異常處理**：沒有處理 `JSONDecodeError`\n5. **巢狀存取**：不檢查鍵是否存在就直接存取\n\n---"
   ]
  },
  {
   "cell_type": "markdown",
   "metadata": {},
   "source": [
    "## 📚 參考解答（完成測驗後再查看）\n\n### 程式題參考解答\n\n#### 程式題 1\n```python\nimport json\njson_str = '{\"name\": \"Alice\", \"age\": 25, \"city\": \"台北市\"}'\ndata = json.loads(json_str)\nprint(f\"姓名：{data['name']}，年齡：{data['age']} 歲，城市：{data['city']}\")\n```\n\n#### 程式題 2\n```python\nimport json\nstudents = [\n    {\"name\": \"Alice\", \"score\": 95},\n    {\"name\": \"Bob\", \"score\": 88},\n    {\"name\": \"Charlie\", \"score\": 92}\n]\njson_str = json.dumps(students, ensure_ascii=False, indent=2)\nprint(json_str)\n```\n\n#### 程式題 3\n```python\nimport json\ndata = [{\"name\": \"A\", \"score\": 85}, {\"name\": \"B\", \"score\": 92}, {\"name\": \"C\", \"score\": 78}]\navg = sum(s['score'] for s in data) / len(data)\ntop_student = max(data, key=lambda x: x['score'])\nprint(f\"平均分數: {avg}\")\nprint(f\"最高分: {top_student['name']} ({top_student['score']} 分)\")\n```\n\n#### 程式題 6\n```python\nimport json\n\ndef is_valid_json(json_string):\n    try:\n        json.loads(json_string)\n        return True\n    except json.JSONDecodeError:\n        return False\n```\n\n---\n\n## 🎓 完成本測驗後\n\n恭喜完成 Ch24 JSON 自我測驗！\n\n**檢核清單**：\n- [ ] 完成所有選擇題\n- [ ] 完成所有程式題\n- [ ] 對照解答並計算分數\n- [ ] 理解所有錯誤並改正\n- [ ] 達到 70 分以上及格標準\n\n**下一步**：\n- 若未及格：重新學習本章內容\n- 若及格：進入 **Ch25: CSV 資料處理**\n- 挑戰：**Milestone 7: 待辦事項管理系統**\n\n祝學習順利！ 🚀"
   ]
  }
 ],
 "metadata": {
  "kernelspec": {
   "display_name": "Python 3",
   "language": "python",
   "name": "python3"
  },
  "language_info": {
   "name": "python",
   "version": "3.11.0"
  }
 },
 "nbformat": 4,
 "nbformat_minor": 2
}