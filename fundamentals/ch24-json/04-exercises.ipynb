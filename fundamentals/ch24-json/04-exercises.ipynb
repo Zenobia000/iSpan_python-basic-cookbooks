{
 "cells": [
  {
   "cell_type": "markdown",
   "metadata": {},
   "source": "# 結構化資料: JSON | Structured Data: JSON\n\n## ✍️ 課後習題 | Exercises\n\n---\n\n## 📋 習題說明\n\n本檔案包含 **12 題**，難度分級如下：\n- 🟢 **基礎題（1-4）**：熟悉基本語法\n- 🟡 **中級題（5-8）**：綜合應用\n- 🔴 **進階題（9-10）**：深入思考\n- 🟣 **挑戰題（11-12）**：擴展學習\n\n**建議完成時間**：90-120 分鐘\n\n**完成後請對照** `05-solutions.ipynb` **檢視解答**\n\n---"
  },
  {
   "cell_type": "markdown",
   "metadata": {},
   "source": "## 🟢 習題 1：儲存個人資料到JSON檔案\n\n**難度**：基礎 | **主題**：dump基本用法\n\n### 題目要求\n（詳細需求描述）\n\n### 範例輸入/輸出\n```\n（範例）\n```"
  },
  {
   "cell_type": "code",
   "execution_count": null,
   "metadata": {},
   "outputs": [],
   "source": "# 在此撰寫你的程式碼\n\n"
  },
  {
   "cell_type": "markdown",
   "metadata": {},
   "source": "---"
  },
  {
   "cell_type": "markdown",
   "metadata": {},
   "source": "## 🟢 習題 2：從JSON讀取並顯示資料\n\n**難度**：基礎 | **主題**：load基本用法\n\n### 題目要求\n（詳細需求描述）\n\n### 範例輸入/輸出\n```\n（範例）\n```"
  },
  {
   "cell_type": "code",
   "execution_count": null,
   "metadata": {},
   "outputs": [],
   "source": "# 在此撰寫你的程式碼\n\n"
  },
  {
   "cell_type": "markdown",
   "metadata": {},
   "source": "---"
  },
  {
   "cell_type": "markdown",
   "metadata": {},
   "source": "## 🟢 習題 3：JSON與字串互轉（dumps/loads）\n\n**難度**：基礎 | **主題**：記憶體操作\n\n### 題目要求\n（詳細需求描述）\n\n### 範例輸入/輸出\n```\n（範例）\n```"
  },
  {
   "cell_type": "code",
   "execution_count": null,
   "metadata": {},
   "outputs": [],
   "source": "# 在此撰寫你的程式碼\n\n"
  },
  {
   "cell_type": "markdown",
   "metadata": {},
   "source": "---"
  },
  {
   "cell_type": "markdown",
   "metadata": {},
   "source": "## 🟢 習題 4：儲存購物清單到JSON\n\n**難度**：基礎 | **主題**：列表處理\n\n### 題目要求\n（詳細需求描述）\n\n### 範例輸入/輸出\n```\n（範例）\n```"
  },
  {
   "cell_type": "code",
   "execution_count": null,
   "metadata": {},
   "outputs": [],
   "source": "# 在此撰寫你的程式碼\n\n"
  },
  {
   "cell_type": "markdown",
   "metadata": {},
   "source": "---"
  },
  {
   "cell_type": "markdown",
   "metadata": {},
   "source": "## 🟡 習題 5：實作通訊錄JSON管理\n\n**難度**：中級 | **主題**：字典操作\n\n### 題目要求\n（詳細需求描述）\n\n### 範例輸入/輸出\n```\n（範例）\n```"
  },
  {
   "cell_type": "code",
   "execution_count": null,
   "metadata": {},
   "outputs": [],
   "source": "# 在此撰寫你的程式碼\n\n"
  },
  {
   "cell_type": "markdown",
   "metadata": {},
   "source": "---"
  },
  {
   "cell_type": "markdown",
   "metadata": {},
   "source": "## 🟡 習題 6：格式化輸出JSON（indent=2）\n\n**難度**：中級 | **主題**：美化輸出\n\n### 題目要求\n（詳細需求描述）\n\n### 範例輸入/輸出\n```\n（範例）\n```"
  },
  {
   "cell_type": "code",
   "execution_count": null,
   "metadata": {},
   "outputs": [],
   "source": "# 在此撰寫你的程式碼\n\n"
  },
  {
   "cell_type": "markdown",
   "metadata": {},
   "source": "---"
  },
  {
   "cell_type": "markdown",
   "metadata": {},
   "source": "## 🟡 習題 7：處理中文JSON（ensure_ascii=False）\n\n**難度**：中級 | **主題**：編碼問題\n\n### 題目要求\n（詳細需求描述）\n\n### 範例輸入/輸出\n```\n（範例）\n```"
  },
  {
   "cell_type": "code",
   "execution_count": null,
   "metadata": {},
   "outputs": [],
   "source": "# 在此撰寫你的程式碼\n\n"
  },
  {
   "cell_type": "markdown",
   "metadata": {},
   "source": "---"
  },
  {
   "cell_type": "markdown",
   "metadata": {},
   "source": "## 🟡 習題 8：合併多個JSON檔案\n\n**難度**：中級 | **主題**：字典合併\n\n### 題目要求\n（詳細需求描述）\n\n### 範例輸入/輸出\n```\n（範例）\n```"
  },
  {
   "cell_type": "code",
   "execution_count": null,
   "metadata": {},
   "outputs": [],
   "source": "# 在此撰寫你的程式碼\n\n"
  },
  {
   "cell_type": "markdown",
   "metadata": {},
   "source": "---"
  },
  {
   "cell_type": "markdown",
   "metadata": {},
   "source": "## 🔴 習題 9：驗證JSON格式是否正確\n\n**難度**：進階 | **主題**：異常處理\n\n### 題目要求\n（詳細需求描述）\n\n### 範例輸入/輸出\n```\n（範例）\n```"
  },
  {
   "cell_type": "code",
   "execution_count": null,
   "metadata": {},
   "outputs": [],
   "source": "# 在此撰寫你的程式碼\n\n"
  },
  {
   "cell_type": "markdown",
   "metadata": {},
   "source": "---"
  },
  {
   "cell_type": "markdown",
   "metadata": {},
   "source": "## 🔴 習題 10：實作簡易資料庫（JSON儲存）\n\n**難度**：進階 | **主題**：CRUD操作\n\n### 題目要求\n（詳細需求描述）\n\n### 範例輸入/輸出\n```\n（範例）\n```"
  },
  {
   "cell_type": "code",
   "execution_count": null,
   "metadata": {},
   "outputs": [],
   "source": "# 在此撰寫你的程式碼\n\n"
  },
  {
   "cell_type": "markdown",
   "metadata": {},
   "source": "---"
  },
  {
   "cell_type": "markdown",
   "metadata": {},
   "source": "## 🟣 習題 11：JSON資料扁平化處理\n\n**難度**：挑戰 | **主題**：遞迴\n\n### 題目要求\n（詳細需求描述）\n\n### 範例輸入/輸出\n```\n（範例）\n```"
  },
  {
   "cell_type": "code",
   "execution_count": null,
   "metadata": {},
   "outputs": [],
   "source": "# 在此撰寫你的程式碼\n\n"
  },
  {
   "cell_type": "markdown",
   "metadata": {},
   "source": "---"
  },
  {
   "cell_type": "markdown",
   "metadata": {},
   "source": "## 🟣 習題 12：實作JSON Schema驗證\n\n**難度**：挑戰 | **主題**：進階應用\n\n### 題目要求\n（詳細需求描述）\n\n### 範例輸入/輸出\n```\n（範例）\n```"
  },
  {
   "cell_type": "code",
   "execution_count": null,
   "metadata": {},
   "outputs": [],
   "source": "# 在此撰寫你的程式碼\n\n"
  },
  {
   "cell_type": "markdown",
   "metadata": {},
   "source": "---"
  }
 ],
 "metadata": {
  "kernelspec": {
   "display_name": "Python 3",
   "language": "python",
   "name": "python3"
  },
  "language_info": {
   "codemirror_mode": {
    "name": "ipython",
    "version": 3
   },
   "file_extension": ".py",
   "mimetype": "text/x-python",
   "name": "python",
   "nbconvert_exporter": "python",
   "pygments_lexer": "ipython3",
   "version": "3.8.0"
  }
 },
 "nbformat": 4,
 "nbformat_minor": 4
}