{
 "cells": [
  {
   "cell_type": "markdown",
   "metadata": {},
   "source": [
    "# 結構化資料: JSON | Structured Data: JSON\n",
    "\n",
    "## ✍️ 課後習題 | Exercises\n",
    "\n",
    "---\n",
    "\n",
    "## 📋 習題說明\n",
    "\n",
    "本檔案包含 **20 題**，難度分級如下：\n",
    "- 🟢 **基礎題（1-6）**：熟悉基本語法\n",
    "- 🟡 **中級題（7-14）**：綜合應用\n",
    "- 🔴 **進階題（15-18）**：深入思考\n",
    "- 🟣 **挑戰題（19-20）**：擴展學習\n",
    "\n",
    "**建議完成時間**：90-120 分鐘\n",
    "\n",
    "**完成後請對照** `05-solutions.ipynb` **檢視解答**\n",
    "\n",
    "---"
   ]
  },
  {
   "cell_type": "markdown",
   "metadata": {},
   "source": [
    "## 🟢 習題 1：儲存個人資料到 JSON 檔案\n",
    "\n",
    "**難度**：基礎 | **主題**：dump 基本用法\n",
    "\n",
    "### 題目要求\n",
    "建立一個包含你個人資料的字典（姓名、年齡、城市、興趣列表），並將其儲存為 `profile.json` 檔案。\n",
    "\n",
    "要求：\n",
    "1. 使用 `json.dump()` 儲存檔案\n",
    "2. 保留中文字元（使用 `ensure_ascii=False`）\n",
    "3. 格式化輸出（使用 `indent=2`）\n",
    "\n",
    "### 範例輸出\n",
    "```\n",
    "個人資料已儲存到 profile.json\n",
    "```"
   ]
  },
  {
   "cell_type": "code",
   "execution_count": null,
   "metadata": {},
   "outputs": [],
   "source": [
    "# 在此撰寫你的程式碼\n"
   ]
  },
  {
   "cell_type": "markdown",
   "metadata": {},
   "source": [
    "---"
   ]
  },
  {
   "cell_type": "markdown",
   "metadata": {},
   "source": [
    "## 🟢 習題 2：從 JSON 讀取並顯示資料\n",
    "\n",
    "**難度**：基礎 | **主題**：load 基本用法\n",
    "\n",
    "### 題目要求\n",
    "讀取習題 1 建立的 `profile.json` 檔案，並以易讀的格式顯示所有資訊。\n",
    "\n",
    "要求：\n",
    "1. 使用 `json.load()` 讀取檔案\n",
    "2. 格式化顯示每個欄位\n",
    "3. 特別處理興趣列表（每個興趣獨立一行）\n",
    "\n",
    "### 範例輸出\n",
    "```\n",
    "=== 個人資料 ===\n",
    "姓名: 王小明\n",
    "年齡: 25 歲\n",
    "城市: 台北市\n",
    "興趣:\n",
    "  - 閱讀\n",
    "  - 旅遊\n",
    "  - 攝影\n",
    "```"
   ]
  },
  {
   "cell_type": "code",
   "execution_count": null,
   "metadata": {},
   "outputs": [],
   "source": [
    "# 在此撰寫你的程式碼\n"
   ]
  },
  {
   "cell_type": "markdown",
   "metadata": {},
   "source": [
    "---"
   ]
  },
  {
   "cell_type": "markdown",
   "metadata": {},
   "source": [
    "## 🟢 習題 3：JSON 與字串互轉\n",
    "\n",
    "**難度**：基礎 | **主題**：dumps/loads 操作\n",
    "\n",
    "### 題目要求\n",
    "建立一個商品資訊字典，執行以下操作：\n",
    "1. 使用 `json.dumps()` 轉為 JSON 字串\n",
    "2. 顯示 JSON 字串的內容和型態\n",
    "3. 使用 `json.loads()` 將字串解析回字典\n",
    "4. 驗證解析後的資料型態\n",
    "\n",
    "商品資訊應包含：name（名稱）、price（價格）、in_stock（是否有貨）、tags（標籤列表）\n",
    "\n",
    "### 範例輸出\n",
    "```\n",
    "JSON 字串: {\"name\": \"Python 書籍\", ...}\n",
    "型態: <class 'str'>\n",
    "\n",
    "解析後的資料: {'name': 'Python 書籍', ...}\n",
    "型態: <class 'dict'>\n",
    "```"
   ]
  },
  {
   "cell_type": "code",
   "execution_count": null,
   "metadata": {},
   "outputs": [],
   "source": [
    "# 在此撰寫你的程式碼\n"
   ]
  },
  {
   "cell_type": "markdown",
   "metadata": {},
   "source": [
    "---"
   ]
  },
  {
   "cell_type": "markdown",
   "metadata": {},
   "source": [
    "## 🟢 習題 4：儲存購物清單\n",
    "\n",
    "**難度**：基礎 | **主題**：列表處理\n",
    "\n",
    "### 題目要求\n",
    "建立一個購物清單（至少 5 個項目），每個項目是一個字典，包含：\n",
    "- item（品項）\n",
    "- quantity（數量）\n",
    "- price（單價）\n",
    "\n",
    "計算總金額，並將購物清單和總金額一起儲存為 `shopping_list.json`。\n",
    "\n",
    "### 範例輸出\n",
    "```\n",
    "購物清單已建立：\n",
    "- 蘋果 x 5 = 150 元\n",
    "- 牛奶 x 2 = 120 元\n",
    "...\n",
    "總金額: 520 元\n",
    "已儲存到 shopping_list.json\n",
    "```"
   ]
  },
  {
   "cell_type": "code",
   "execution_count": null,
   "metadata": {},
   "outputs": [],
   "source": [
    "# 在此撰寫你的程式碼\n"
   ]
  },
  {
   "cell_type": "markdown",
   "metadata": {},
   "source": [
    "---"
   ]
  },
  {
   "cell_type": "markdown",
   "metadata": {},
   "source": [
    "## 🟢 習題 5：JSON 型態轉換觀察\n",
    "\n",
    "**難度**：基礎 | **主題**：型態對應\n",
    "\n",
    "### 題目要求\n",
    "建立一個字典包含所有 Python 可以直接轉換為 JSON 的型態：\n",
    "- 字串、整數、浮點數、布林值、None、列表、字典\n",
    "\n",
    "將其轉為 JSON 字串後再解析回來，觀察並列出哪些型態發生了變化。\n",
    "\n",
    "### 範例輸出\n",
    "```\n",
    "型態轉換觀察：\n",
    "- tuple (1, 2, 3) → list [1, 2, 3]\n",
    "- True → true (JSON boolean)\n",
    "- None → null\n",
    "其他型態保持不變\n",
    "```"
   ]
  },
  {
   "cell_type": "code",
   "execution_count": null,
   "metadata": {},
   "outputs": [],
   "source": [
    "# 在此撰寫你的程式碼\n"
   ]
  },
  {
   "cell_type": "markdown",
   "metadata": {},
   "source": [
    "---"
   ]
  },
  {
   "cell_type": "markdown",
   "metadata": {},
   "source": [
    "## 🟢 習題 6：巢狀資料存取\n",
    "\n",
    "**難度**：基礎 | **主題**：巢狀結構\n",
    "\n",
    "### 題目要求\n",
    "給定以下 JSON 字串（公司組織資料），解析並回答問題：\n",
    "\n",
    "```python\n",
    "company_json = '''\n",
    "{\n",
    "  \"name\": \"科技公司\",\n",
    "  \"departments\": [\n",
    "    {\n",
    "      \"name\": \"工程部\",\n",
    "      \"employees\": [\n",
    "        {\"name\": \"Alice\", \"position\": \"工程師\", \"salary\": 80000},\n",
    "        {\"name\": \"Bob\", \"position\": \"資深工程師\", \"salary\": 100000}\n",
    "      ]\n",
    "    },\n",
    "    {\n",
    "      \"name\": \"行銷部\",\n",
    "      \"employees\": [\n",
    "        {\"name\": \"Charlie\", \"position\": \"行銷經理\", \"salary\": 90000}\n",
    "      ]\n",
    "    }\n",
    "  ]\n",
    "}\n",
    "'''\n",
    "```\n",
    "\n",
    "顯示：\n",
    "1. 公司名稱\n",
    "2. 部門數量\n",
    "3. 每個部門的名稱和員工數\n",
    "4. 工程部第一位員工的姓名和薪資\n",
    "5. 所有員工的平均薪資\n",
    "\n",
    "### 範例輸出\n",
    "```\n",
    "公司名稱: 科技公司\n",
    "部門數量: 2\n",
    "...\n",
    "```"
   ]
  },
  {
   "cell_type": "code",
   "execution_count": null,
   "metadata": {},
   "outputs": [],
   "source": [
    "# 在此撰寫你的程式碼\n"
   ]
  },
  {
   "cell_type": "markdown",
   "metadata": {},
   "source": [
    "---"
   ]
  },
  {
   "cell_type": "markdown",
   "metadata": {},
   "source": [
    "## 🟡 習題 7：通訊錄 JSON 管理\n",
    "\n",
    "**難度**：中級 | **主題**：字典操作\n",
    "\n",
    "### 題目要求\n",
    "實作通訊錄管理系統，包含以下功能：\n",
    "1. `add_contact(name, phone, email)` - 新增聯絡人\n",
    "2. `search_contact(name)` - 搜尋聯絡人\n",
    "3. `delete_contact(name)` - 刪除聯絡人\n",
    "4. `save_contacts()` - 儲存到 `contacts.json`\n",
    "5. `load_contacts()` - 從檔案載入\n",
    "\n",
    "測試你的函式：新增 3 位聯絡人、搜尋其中 1 位、刪除 1 位、儲存並重新載入。\n",
    "\n",
    "### 範例輸出\n",
    "```\n",
    "✓ 已新增聯絡人: 王小明\n",
    "✓ 找到聯絡人: 王小明 (0912-345-678)\n",
    "✓ 已刪除聯絡人: 李美華\n",
    "✓ 通訊錄已儲存\n",
    "```"
   ]
  },
  {
   "cell_type": "code",
   "execution_count": null,
   "metadata": {},
   "outputs": [],
   "source": [
    "# 在此撰寫你的程式碼\n"
   ]
  },
  {
   "cell_type": "markdown",
   "metadata": {},
   "source": [
    "---"
   ]
  },
  {
   "cell_type": "markdown",
   "metadata": {},
   "source": [
    "## 🟡 習題 8：格式化參數比較\n",
    "\n",
    "**難度**：中級 | **主題**：dumps 參數\n",
    "\n",
    "### 題目要求\n",
    "建立一個複雜的巢狀資料結構，使用不同的 `json.dumps()` 參數組合，比較輸出結果：\n",
    "\n",
    "1. 預設（無參數）\n",
    "2. `indent=2`\n",
    "3. `indent=2, sort_keys=True`\n",
    "4. `indent=2, ensure_ascii=False`\n",
    "5. `indent=2, ensure_ascii=False, sort_keys=True`\n",
    "\n",
    "顯示每種組合的輸出，並說明差異。\n",
    "\n",
    "### 範例資料\n",
    "```python\n",
    "data = {\n",
    "    \"姓名\": \"王小明\",\n",
    "    \"年齡\": 25,\n",
    "    \"技能\": [\"Python\", \"JavaScript\", \"資料分析\"],\n",
    "    \"地址\": {\"城市\": \"台北市\", \"區域\": \"信義區\"}\n",
    "}\n",
    "```"
   ]
  },
  {
   "cell_type": "code",
   "execution_count": null,
   "metadata": {},
   "outputs": [],
   "source": [
    "# 在此撰寫你的程式碼\n"
   ]
  },
  {
   "cell_type": "markdown",
   "metadata": {},
   "source": [
    "---"
   ]
  },
  {
   "cell_type": "markdown",
   "metadata": {},
   "source": [
    "## 🟡 習題 9：學生成績統計系統\n",
    "\n",
    "**難度**：中級 | **主題**：資料分析\n",
    "\n",
    "### 題目要求\n",
    "建立學生成績系統，包含至少 5 位學生的資料：\n",
    "- student_id（學號）\n",
    "- name（姓名）\n",
    "- scores（成績字典：math, english, science）\n",
    "\n",
    "計算並新增以下欄位到每位學生：\n",
    "- average（平均分數）\n",
    "- rank（排名，依平均分數）\n",
    "- grade（等第：A >= 90, B >= 80, C >= 70, D >= 60, F < 60）\n",
    "\n",
    "儲存完整資料到 `students.json`，並顯示統計摘要。\n",
    "\n",
    "### 範例輸出\n",
    "```\n",
    "=== 成績統計 ===\n",
    "總學生數: 5\n",
    "平均分數: 82.4\n",
    "最高分: 95.3 (Alice)\n",
    "最低分: 68.7 (Charlie)\n",
    "等第分布: A(2), B(2), C(1)\n",
    "```"
   ]
  },
  {
   "cell_type": "code",
   "execution_count": null,
   "metadata": {},
   "outputs": [],
   "source": [
    "# 在此撰寫你的程式碼\n"
   ]
  },
  {
   "cell_type": "markdown",
   "metadata": {},
   "source": [
    "---"
   ]
  },
  {
   "cell_type": "markdown",
   "metadata": {},
   "source": [
    "## 🟡 習題 10：合併多個 JSON 檔案\n",
    "\n",
    "**難度**：中級 | **主題**：檔案操作\n",
    "\n",
    "### 題目要求\n",
    "建立 3 個 JSON 檔案：\n",
    "- `users.json` - 使用者基本資料\n",
    "- `orders.json` - 訂單資料\n",
    "- `products.json` - 商品資料\n",
    "\n",
    "寫一個函式 `merge_json_files(files, output_file)`，將多個 JSON 檔案合併為一個，並：\n",
    "1. 保持原始檔案名稱作為鍵\n",
    "2. 儲存合併結果\n",
    "3. 顯示每個檔案的資料筆數\n",
    "\n",
    "### 範例輸出\n",
    "```\n",
    "合併 JSON 檔案：\n",
    "- users.json: 3 筆資料\n",
    "- orders.json: 5 筆資料\n",
    "- products.json: 8 筆資料\n",
    "✓ 已合併到 merged.json\n",
    "```"
   ]
  },
  {
   "cell_type": "code",
   "execution_count": null,
   "metadata": {},
   "outputs": [],
   "source": [
    "# 在此撰寫你的程式碼\n"
   ]
  },
  {
   "cell_type": "markdown",
   "metadata": {},
   "source": [
    "---"
   ]
  },
  {
   "cell_type": "markdown",
   "metadata": {},
   "source": [
    "## 🟡 習題 11：設定檔更新工具\n",
    "\n",
    "**難度**：中級 | **主題**：資料更新\n",
    "\n",
    "### 題目要求\n",
    "建立一個設定檔更新函式 `update_config(file_path, updates)`，功能：\n",
    "1. 讀取現有 JSON 設定檔\n",
    "2. 根據 `updates` 字典更新指定欄位\n",
    "3. 保持其他欄位不變\n",
    "4. 儲存更新後的設定\n",
    "5. 顯示更新的項目和新舊值\n",
    "\n",
    "測試資料：\n",
    "```python\n",
    "# 初始設定\n",
    "config = {\n",
    "    \"theme\": \"light\",\n",
    "    \"language\": \"en\",\n",
    "    \"font_size\": 14,\n",
    "    \"auto_save\": True\n",
    "}\n",
    "\n",
    "# 更新\n",
    "updates = {\n",
    "    \"theme\": \"dark\",\n",
    "    \"font_size\": 16\n",
    "}\n",
    "```\n",
    "\n",
    "### 範例輸出\n",
    "```\n",
    "更新設定：\n",
    "- theme: light → dark\n",
    "- font_size: 14 → 16\n",
    "✓ 設定已儲存\n",
    "```"
   ]
  },
  {
   "cell_type": "code",
   "execution_count": null,
   "metadata": {},
   "outputs": [],
   "source": [
    "# 在此撰寫你的程式碼\n"
   ]
  },
  {
   "cell_type": "markdown",
   "metadata": {},
   "source": [
    "---"
   ]
  },
  {
   "cell_type": "markdown",
   "metadata": {},
   "source": [
    "## 🟡 習題 12：JSON 資料篩選器\n",
    "\n",
    "**難度**：中級 | **主題**：資料過濾\n",
    "\n",
    "### 題目要求\n",
    "寫一個函式 `filter_json(data, conditions)`，根據條件篩選 JSON 資料。\n",
    "\n",
    "條件格式範例：\n",
    "```python\n",
    "conditions = {\n",
    "    'age': lambda x: x >= 18,\n",
    "    'city': lambda x: x == '台北市'\n",
    "}\n",
    "```\n",
    "\n",
    "測試資料：至少 10 位使用者，包含姓名、年齡、城市、email 等欄位。\n",
    "\n",
    "測試不同的篩選條件：\n",
    "1. 年齡 >= 25\n",
    "2. 城市為「台北市」\n",
    "3. 年齡在 20-30 之間且城市為「台北市」\n",
    "\n",
    "### 範例輸出\n",
    "```\n",
    "篩選條件：年齡 >= 25\n",
    "符合條件: 6 位使用者\n",
    "- 王小明 (28 歲, 台北市)\n",
    "- 李美華 (30 歲, 新北市)\n",
    "...\n",
    "```"
   ]
  },
  {
   "cell_type": "code",
   "execution_count": null,
   "metadata": {},
   "outputs": [],
   "source": [
    "# 在此撰寫你的程式碼\n"
   ]
  },
  {
   "cell_type": "markdown",
   "metadata": {},
   "source": [
    "---"
   ]
  },
  {
   "cell_type": "markdown",
   "metadata": {},
   "source": [
    "## 🟡 習題 13：JSON 資料統計分析\n",
    "\n",
    "**難度**：中級 | **主題**：資料分析\n",
    "\n",
    "### 題目要求\n",
    "給定一個 JSON 檔案包含電商訂單資料，計算以下統計：\n",
    "1. 總訂單數\n",
    "2. 總銷售額\n",
    "3. 平均訂單金額\n",
    "4. 最高/最低訂單金額\n",
    "5. 每個商品類別的銷售統計\n",
    "6. 每月的銷售趨勢\n",
    "\n",
    "訂單資料格式：\n",
    "```python\n",
    "{\n",
    "    \"order_id\": \"ORD001\",\n",
    "    \"date\": \"2025-10-01\",\n",
    "    \"items\": [\n",
    "        {\"product\": \"筆記本\", \"category\": \"文具\", \"price\": 150, \"quantity\": 2},\n",
    "        ...\n",
    "    ],\n",
    "    \"total\": 450\n",
    "}\n",
    "```\n",
    "\n",
    "將統計結果儲存為 `sales_report.json`。"
   ]
  },
  {
   "cell_type": "code",
   "execution_count": null,
   "metadata": {},
   "outputs": [],
   "source": [
    "# 在此撰寫你的程式碼\n"
   ]
  },
  {
   "cell_type": "markdown",
   "metadata": {},
   "source": [
    "---"
   ]
  },
  {
   "cell_type": "markdown",
   "metadata": {},
   "source": [
    "## 🟡 習題 14：JSON 資料比較工具\n",
    "\n",
    "**難度**：中級 | **主題**：資料比較\n",
    "\n",
    "### 題目要求\n",
    "寫一個函式 `compare_json(file1, file2)`，比較兩個 JSON 檔案的差異：\n",
    "1. 找出新增的鍵\n",
    "2. 找出刪除的鍵\n",
    "3. 找出值有變化的鍵（顯示舊值和新值）\n",
    "4. 計算相似度百分比\n",
    "\n",
    "生成比較報告並儲存為 `comparison_report.json`。\n",
    "\n",
    "### 範例輸出\n",
    "```\n",
    "=== JSON 比較報告 ===\n",
    "新增的鍵: ['new_field']\n",
    "刪除的鍵: ['old_field']\n",
    "變更的鍵:\n",
    "  - theme: 'light' → 'dark'\n",
    "  - font_size: 14 → 16\n",
    "相似度: 80%\n",
    "```"
   ]
  },
  {
   "cell_type": "code",
   "execution_count": null,
   "metadata": {},
   "outputs": [],
   "source": [
    "# 在此撰寫你的程式碼\n"
   ]
  },
  {
   "cell_type": "markdown",
   "metadata": {},
   "source": [
    "---"
   ]
  },
  {
   "cell_type": "markdown",
   "metadata": {},
   "source": [
    "## 🔴 習題 15：驗證 JSON 格式\n",
    "\n",
    "**難度**：進階 | **主題**：異常處理\n",
    "\n",
    "### 題目要求\n",
    "建立一個 JSON 驗證函式 `validate_json_file(file_path)`，功能：\n",
    "1. 檢查檔案是否存在\n",
    "2. 嘗試解析 JSON 內容\n",
    "3. 捕捉並詳細報告錯誤（錯誤類型、位置、訊息）\n",
    "4. 回傳驗證結果（是否有效、錯誤資訊）\n",
    "\n",
    "測試案例包括：\n",
    "- 正確的 JSON 檔案\n",
    "- 使用單引號的 JSON\n",
    "- 有 trailing comma 的 JSON\n",
    "- 未閉合的括號\n",
    "- 不存在的檔案\n",
    "\n",
    "### 範例輸出\n",
    "```\n",
    "檔案: valid.json\n",
    "✓ JSON 格式正確\n",
    "\n",
    "檔案: invalid.json\n",
    "✗ JSON 格式錯誤\n",
    "錯誤: Expecting property name enclosed in double quotes\n",
    "位置: 第 3 行, 第 5 列\n",
    "```"
   ]
  },
  {
   "cell_type": "code",
   "execution_count": null,
   "metadata": {},
   "outputs": [],
   "source": [
    "# 在此撰寫你的程式碼\n"
   ]
  },
  {
   "cell_type": "markdown",
   "metadata": {},
   "source": [
    "---"
   ]
  },
  {
   "cell_type": "markdown",
   "metadata": {},
   "source": [
    "## 🔴 習題 16：簡易資料庫 CRUD 系統\n",
    "\n",
    "**難度**：進階 | **主題**：完整應用\n",
    "\n",
    "### 題目要求\n",
    "實作一個完整的 JSON 資料庫系統（以書籍管理為例）：\n",
    "\n",
    "類別 `BookDatabase`，包含方法：\n",
    "- `__init__(file_path)` - 初始化，載入資料\n",
    "- `create(book_data)` - 新增書籍（自動生成 ID）\n",
    "- `read(book_id)` - 讀取書籍資料\n",
    "- `update(book_id, updates)` - 更新書籍資料\n",
    "- `delete(book_id)` - 刪除書籍\n",
    "- `search(keyword)` - 搜尋書籍（書名或作者）\n",
    "- `list_all()` - 列出所有書籍\n",
    "- `save()` - 儲存到檔案\n",
    "\n",
    "書籍資料包含：book_id, title, author, year, isbn, price\n",
    "\n",
    "測試所有功能並顯示執行結果。\n",
    "\n",
    "### 範例輸出\n",
    "```\n",
    "=== 書籍資料庫系統 ===\n",
    "✓ 已新增書籍: Python 入門 (ID: 1)\n",
    "✓ 已新增書籍: JavaScript 實戰 (ID: 2)\n",
    "✓ 搜尋「Python」找到 1 本書\n",
    "✓ 已更新書籍 ID 1\n",
    "✓ 已刪除書籍 ID 2\n",
    "目前書籍數: 1\n",
    "```"
   ]
  },
  {
   "cell_type": "code",
   "execution_count": null,
   "metadata": {},
   "outputs": [],
   "source": [
    "# 在此撰寫你的程式碼\n"
   ]
  },
  {
   "cell_type": "markdown",
   "metadata": {},
   "source": [
    "---"
   ]
  },
  {
   "cell_type": "markdown",
   "metadata": {},
   "source": [
    "## 🔴 習題 17：自訂型態序列化\n",
    "\n",
    "**難度**：進階 | **主題**：JSONEncoder\n",
    "\n",
    "### 題目要求\n",
    "建立自訂 JSONEncoder 處理以下型態：\n",
    "1. `datetime` - 使用 ISO 8601 格式\n",
    "2. `date` - 使用 YYYY-MM-DD 格式\n",
    "3. `set` - 轉為排序後的列表\n",
    "4. `Decimal` - 轉為字串保持精度\n",
    "5. 自訂 `Point` 類別（包含 x, y 座標）\n",
    "\n",
    "同時實作對應的 `object_hook` 解碼器，確保往返轉換正確。\n",
    "\n",
    "測試資料包含所有這些型態，驗證序列化後再反序列化能正確還原。\n",
    "\n",
    "### 範例輸出\n",
    "```\n",
    "原始資料型態:\n",
    "- created_at: <class 'datetime.datetime'>\n",
    "- tags: <class 'set'>\n",
    "- amount: <class 'decimal.Decimal'>\n",
    "- location: <class '__main__.Point'>\n",
    "\n",
    "序列化並反序列化後:\n",
    "✓ 所有型態成功還原\n",
    "✓ 資料內容一致\n",
    "```"
   ]
  },
  {
   "cell_type": "code",
   "execution_count": null,
   "metadata": {},
   "outputs": [],
   "source": [
    "# 在此撰寫你的程式碼\n"
   ]
  },
  {
   "cell_type": "markdown",
   "metadata": {},
   "source": [
    "---"
   ]
  },
  {
   "cell_type": "markdown",
   "metadata": {},
   "source": [
    "## 🔴 習題 18：JSON 效能測試\n",
    "\n",
    "**難度**：進階 | **主題**：效能分析\n",
    "\n",
    "### 題目要求\n",
    "比較不同 JSON 操作的效能：\n",
    "\n",
    "1. **寫入效能**：\n",
    "   - 測試寫入不同大小的資料（100, 1000, 10000 筆）\n",
    "   - 比較有無 `indent` 參數的差異\n",
    "\n",
    "2. **讀取效能**：\n",
    "   - 測試讀取不同大小的檔案\n",
    "   - 比較 `load()` vs `loads()`\n",
    "\n",
    "3. **序列化效能**：\n",
    "   - 簡單資料 vs 複雜巢狀資料\n",
    "   - 預設編碼器 vs 自訂編碼器\n",
    "\n",
    "使用 `time` 模組測量執行時間，製作效能報告表格。\n",
    "\n",
    "### 範例輸出\n",
    "```\n",
    "=== JSON 效能測試報告 ===\n",
    "\n",
    "寫入效能 (100 筆資料):\n",
    "- 無 indent: 0.0023 秒\n",
    "- indent=2: 0.0045 秒\n",
    "\n",
    "讀取效能 (1000 筆資料):\n",
    "- load(): 0.0156 秒\n",
    "- loads(): 0.0142 秒\n",
    "...\n",
    "```"
   ]
  },
  {
   "cell_type": "code",
   "execution_count": null,
   "metadata": {},
   "outputs": [],
   "source": [
    "# 在此撰寫你的程式碼\n"
   ]
  },
  {
   "cell_type": "markdown",
   "metadata": {},
   "source": [
    "---"
   ]
  },
  {
   "cell_type": "markdown",
   "metadata": {},
   "source": [
    "## 🟣 習題 19：JSON 資料扁平化與還原\n",
    "\n",
    "**難度**：挑戰 | **主題**：遞迴處理\n",
    "\n",
    "### 題目要求\n",
    "實作兩個函式處理巢狀 JSON 資料：\n",
    "\n",
    "1. `flatten_json(nested_json)` - 將巢狀結構扁平化\n",
    "   - 使用點號連接鍵名（例如：`user.address.city`）\n",
    "   - 處理列表（使用索引：`items[0].name`）\n",
    "\n",
    "2. `unflatten_json(flat_json)` - 還原巢狀結構\n",
    "   - 解析點號鍵名\n",
    "   - 重建列表和字典結構\n",
    "\n",
    "測試資料：\n",
    "```python\n",
    "nested = {\n",
    "    \"user\": {\n",
    "        \"name\": \"Alice\",\n",
    "        \"address\": {\n",
    "            \"city\": \"台北市\",\n",
    "            \"district\": \"信義區\"\n",
    "        }\n",
    "    },\n",
    "    \"orders\": [\n",
    "        {\"id\": 1, \"total\": 500},\n",
    "        {\"id\": 2, \"total\": 800}\n",
    "    ]\n",
    "}\n",
    "```\n",
    "\n",
    "驗證：扁平化後再還原應該得到原始資料。\n",
    "\n",
    "### 範例輸出\n",
    "```\n",
    "原始資料（巢狀）:\n",
    "{'user': {'name': 'Alice', ...}}\n",
    "\n",
    "扁平化後:\n",
    "{\n",
    "  'user.name': 'Alice',\n",
    "  'user.address.city': '台北市',\n",
    "  'orders[0].id': 1,\n",
    "  ...\n",
    "}\n",
    "\n",
    "還原後:\n",
    "✓ 與原始資料一致\n",
    "```"
   ]
  },
  {
   "cell_type": "code",
   "execution_count": null,
   "metadata": {},
   "outputs": [],
   "source": [
    "# 在此撰寫你的程式碼\n"
   ]
  },
  {
   "cell_type": "markdown",
   "metadata": {},
   "source": [
    "---"
   ]
  },
  {
   "cell_type": "markdown",
   "metadata": {},
   "source": [
    "## 🟣 習題 20：JSON Schema 驗證器\n",
    "\n",
    "**難度**：挑戰 | **主題**：資料驗證\n",
    "\n",
    "### 題目要求\n",
    "實作簡易的 JSON Schema 驗證器，檢查資料是否符合指定的結構。\n",
    "\n",
    "支援的驗證規則：\n",
    "1. **型態驗證**：string, number, boolean, array, object, null\n",
    "2. **必填欄位**：required 列表\n",
    "3. **數值範圍**：minimum, maximum\n",
    "4. **字串長度**：minLength, maxLength\n",
    "5. **陣列長度**：minItems, maxItems\n",
    "6. **列舉值**：enum\n",
    "7. **巢狀物件**：properties 遞迴驗證\n",
    "\n",
    "函式：`validate(data, schema)` → 回傳 `(is_valid, errors)`\n",
    "\n",
    "測試案例：\n",
    "```python\n",
    "schema = {\n",
    "    \"type\": \"object\",\n",
    "    \"required\": [\"name\", \"age\"],\n",
    "    \"properties\": {\n",
    "        \"name\": {\"type\": \"string\", \"minLength\": 2},\n",
    "        \"age\": {\"type\": \"number\", \"minimum\": 0, \"maximum\": 150},\n",
    "        \"email\": {\"type\": \"string\"},\n",
    "        \"status\": {\"type\": \"string\", \"enum\": [\"active\", \"inactive\"]}\n",
    "    }\n",
    "}\n",
    "```\n",
    "\n",
    "測試有效和無效的資料，顯示詳細的驗證錯誤。\n",
    "\n",
    "### 範例輸出\n",
    "```\n",
    "測試資料 1:\n",
    "✓ 驗證通過\n",
    "\n",
    "測試資料 2:\n",
    "✗ 驗證失敗\n",
    "錯誤:\n",
    "  - 缺少必填欄位: 'name'\n",
    "  - age: 200 超出最大值 150\n",
    "  - status: 'pending' 不在允許的值中\n",
    "```"
   ]
  },
  {
   "cell_type": "code",
   "execution_count": null,
   "metadata": {},
   "outputs": [],
   "source": [
    "# 在此撰寫你的程式碼\n"
   ]
  },
  {
   "cell_type": "markdown",
   "metadata": {},
   "source": [
    "---\n",
    "\n",
    "## 🎯 完成檢核\n",
    "\n",
    "完成習題後，請確認：\n",
    "- [ ] 基礎題（1-6）：熟悉 JSON 基本操作\n",
    "- [ ] 中級題（7-14）：能夠處理實務應用\n",
    "- [ ] 進階題（15-18）：掌握錯誤處理和進階技巧\n",
    "- [ ] 挑戰題（19-20）：理解遞迴和複雜演算法\n",
    "\n",
    "**下一步**：對照 `05-solutions.ipynb` 檢視解答，學習不同的解法和最佳實踐！"
   ]
  }
 ],
 "metadata": {
  "kernelspec": {
   "display_name": "Python 3",
   "language": "python",
   "name": "python3"
  },
  "language_info": {
   "name": "python",
   "version": "3.11.0"
  }
 },
 "nbformat": 4,
 "nbformat_minor": 2
}
