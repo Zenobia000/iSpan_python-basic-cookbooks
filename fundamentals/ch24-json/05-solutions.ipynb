{
 "cells": [
  {
   "cell_type": "markdown",
   "metadata": {},
   "source": [
    "# 結構化資料: JSON | Structured Data: JSON\n\n## ✅ 習題解答 | Solutions\n\n---\n\n## 📋 使用說明\n\n本檔案提供 **04-exercises.ipynb** 的完整解答。\n\n**建議使用方式**：\n1. ⚠️ **先自行完成習題**，不要直接看解答\n2. ✅ 完成後，對照本檔案檢查答案\n3. 📝 理解不同解法的優缺點\n4. 💡 學習更簡潔或更高效的寫法\n\n---"
   ]
  },
  {
   "cell_type": "markdown",
   "metadata": {},
   "source": [
    "## 🟢 習題 1 解答：儲存個人資料到 JSON 檔案\n\n### 解題思路\n1. 建立包含個人資料的字典\n2. 使用 `json.dump()` 寫入檔案\n3. 設定 `ensure_ascii=False` 保留中文\n4. 設定 `indent=2` 格式化輸出\n\n### 程式碼實作"
   ]
  },
  {
   "cell_type": "code",
   "execution_count": null,
   "metadata": {},
   "outputs": [],
   "source": [
    "import json\n\n# 建立個人資料\nprofile = {\n    \"name\": \"王小明\",\n    \"age\": 25,\n    \"city\": \"台北市\",\n    \"hobbies\": [\"閱讀\", \"旅遊\", \"攝影\"]\n}\n\n# 儲存到 JSON 檔案\nwith open('profile.json', 'w', encoding='utf-8') as f:\n    json.dump(profile, f, ensure_ascii=False, indent=2)\n\nprint(\"個人資料已儲存到 profile.json\")"
   ]
  },
  {
   "cell_type": "markdown",
   "metadata": {},
   "source": [
    "### 知識點回顧\n- ✅ 使用 `json.dump()` 直接寫入檔案\n- ✅ `ensure_ascii=False` 保留中文字元\n- ✅ `indent=2` 使 JSON 格式化易讀\n- ✅ 使用 `with` 語句確保檔案正確關閉\n\n---"
   ]
  },
  {
   "cell_type": "markdown",
   "metadata": {},
   "source": [
    "## 🟢 習題 2 解答：從 JSON 讀取並顯示資料\n\n### 解題思路\n1. 檢查檔案是否存在\n2. 使用 `json.load()` 讀取檔案\n3. 格式化顯示每個欄位\n4. 特別處理列表資料\n\n### 程式碼實作"
   ]
  },
  {
   "cell_type": "code",
   "execution_count": null,
   "metadata": {},
   "outputs": [],
   "source": "import json\nimport os\n\n# 檢查檔案是否存在\nif os.path.exists('profile.json'):\n    # 讀取 JSON 檔案\n    with open('profile.json', 'r', encoding='utf-8') as f:\n        profile = json.load(f)\n\n    # 顯示資料\n    print(\"=== 個人資料 ===\")\n    print(f\"姓名: {profile['name']}\")\n    print(f\"年齡: {profile['age']} 歲\")\n    print(f\"城市: {profile['city']}\")\n    print(\"興趣:\")\n    for hobby in profile['hobbies']:\n        print(f\"  - {hobby}\")\nelse:\n    print(\"找不到 profile.json 檔案\")"
  },
  {
   "cell_type": "markdown",
   "metadata": {},
   "source": [
    "### 知識點回顧\n- ✅ 使用 `json.load()` 從檔案讀取\n- ✅ 檔案存在檢查 (`os.path.exists()`)\n- ✅ 字典鍵值存取\n- ✅ 列表迭代處理\n\n---"
   ]
  },
  {
   "cell_type": "markdown",
   "metadata": {},
   "source": [
    "## 🟢 習題 3 解答：JSON 與字串互轉\n\n### 解題思路\n1. 建立商品資訊字典\n2. 使用 `json.dumps()` 轉為字串\n3. 使用 `json.loads()` 解析字串\n4. 驗證型態轉換\n\n### 程式碼實作"
   ]
  },
  {
   "cell_type": "code",
   "execution_count": null,
   "metadata": {},
   "outputs": [],
   "source": "import json\n\n# 建立商品資訊\nproduct = {\n    \"name\": \"Python 書籍\",\n    \"price\": 599,\n    \"in_stock\": True,\n    \"tags\": [\"程式設計\", \"Python\", \"入門\"]\n}\n\nprint(\"原始資料:\", product)\nprint(f\"型態: {type(product)}\")\nprint()\n\n# 轉換為 JSON 字串\njson_string = json.dumps(product, ensure_ascii=False)\nprint(\"JSON 字串:\", json_string)\nprint(f\"型態: {type(json_string)}\")\nprint()\n\n# 解析 JSON 字串\nparsed_data = json.loads(json_string)\nprint(\"解析後的資料:\", parsed_data)\nprint(f\"型態: {type(parsed_data)}\")\nprint()\n\n# 驗證資料一致性\nprint(f\"資料是否相同: {product == parsed_data}\")"
  },
  {
   "cell_type": "markdown",
   "metadata": {},
   "source": [
    "### 知識點回顧\n- ✅ `json.dumps()` 將 Python 轉為 JSON 字串\n- ✅ `json.loads()` 將 JSON 字串解析為 Python\n- ✅ 型態檢查 (`type()`)\n- ✅ 往返轉換（round-trip）驗證\n\n---"
   ]
  },
  {
   "cell_type": "markdown",
   "metadata": {},
   "source": [
    "## 🟢 習題 4 解答：儲存購物清單\n\n### 解題思路\n1. 建立購物清單（列表包含字典）\n2. 計算每個項目小計\n3. 計算總金額\n4. 儲存到 JSON 檔案\n\n### 程式碼實作"
   ]
  },
  {
   "cell_type": "code",
   "execution_count": null,
   "metadata": {},
   "outputs": [],
   "source": "import json\n\n# 建立購物清單\nshopping_list = [\n    {\"item\": \"蘋果\", \"quantity\": 5, \"price\": 30},\n    {\"item\": \"牛奶\", \"quantity\": 2, \"price\": 60},\n    {\"item\": \"麵包\", \"quantity\": 3, \"price\": 40},\n    {\"item\": \"雞蛋\", \"quantity\": 12, \"price\": 8},\n    {\"item\": \"水果沙拉\", \"quantity\": 1, \"price\": 120}\n]\n\n# 顯示購物清單並計算總金額\nprint(\"購物清單已建立：\")\ntotal_amount = 0\n\nfor item in shopping_list:\n    subtotal = item['quantity'] * item['price']\n    total_amount += subtotal\n    print(f\"- {item['item']} x {item['quantity']} = {subtotal} 元\")\n\nprint(f\"總金額: {total_amount} 元\")\nprint()\n\n# 準備儲存的資料\nshopping_data = {\n    \"items\": shopping_list,\n    \"total\": total_amount\n}\n\n# 儲存到 JSON 檔案\nwith open('shopping_list.json', 'w', encoding='utf-8') as f:\n    json.dump(shopping_data, f, ensure_ascii=False, indent=2)\n\nprint(\"已儲存到 shopping_list.json\")"
  },
  {
   "cell_type": "markdown",
   "metadata": {},
   "source": [
    "### 知識點回顧\n- ✅ 列表包含字典的資料結構\n- ✅ 迭代計算總和\n- ✅ 複合資料結構序列化\n- ✅ JSON 格式化儲存\n\n---"
   ]
  },
  {
   "cell_type": "markdown",
   "metadata": {},
   "source": [
    "## 🟢 習題 5 解答：JSON 型態轉換觀察\n\n### 解題思路\n1. 建立包含各種型態的字典\n2. 序列化為 JSON\n3. 反序列化並比較\n4. 列出發生變化的型態\n\n### 程式碼實作"
   ]
  },
  {
   "cell_type": "code",
   "execution_count": null,
   "metadata": {},
   "outputs": [],
   "source": "import json\n\n# 建立包含各種型態的資料\ntest_data = {\n    \"string\": \"測試字串\",\n    \"integer\": 42,\n    \"float\": 3.14,\n    \"boolean_true\": True,\n    \"boolean_false\": False,\n    \"null_value\": None,\n    \"list\": [1, 2, 3],\n    \"tuple\": (1, 2, 3),  # 這個會變成列表\n    \"dict\": {\"key\": \"value\"}\n}\n\nprint(\"原始資料型態：\")\nfor key, value in test_data.items():\n    print(f\"  {key}: {type(value).__name__} = {value}\")\nprint()\n\n# 轉換為 JSON 並解析回來\njson_string = json.dumps(test_data)\nparsed_data = json.loads(json_string)\n\nprint(\"型態轉換觀察：\")\nprint(f\"- tuple (1, 2, 3) → list {parsed_data['tuple']}\")\nprint(f\"- True → true (JSON boolean)\")\nprint(f\"- None → null (JSON null)\")\nprint()\n\nprint(\"解析後的資料型態：\")\nfor key, value in parsed_data.items():\n    print(f\"  {key}: {type(value).__name__} = {value}\")\nprint()\n\n# 找出型態改變的項目\nprint(\"型態變化的項目：\")\nfor key in test_data:\n    original_type = type(test_data[key]).__name__\n    parsed_type = type(parsed_data[key]).__name__\n    if original_type != parsed_type:\n        print(f\"  {key}: {original_type} → {parsed_type}\")"
  },
  {
   "cell_type": "markdown",
   "metadata": {},
   "source": [
    "### 知識點回顧\n- ✅ JSON 支援的六種型態\n- ✅ Python 型態與 JSON 型態對應\n- ✅ tuple 會自動轉為 list\n- ✅ 型態檢查與比較\n\n---"
   ]
  },
  {
   "cell_type": "markdown",
   "metadata": {},
   "source": [
    "## 🟢 習題 6 解答：巢狀資料存取\n\n### 解題思路\n1. 解析 JSON 字串\n2. 存取巢狀字典和列表\n3. 計算統計資訊\n4. 格式化輸出結果\n\n### 程式碼實作"
   ]
  },
  {
   "cell_type": "code",
   "execution_count": null,
   "metadata": {},
   "outputs": [],
   "source": "import json\n\ncompany_json = '''\n{\n  \"name\": \"科技公司\",\n  \"departments\": [\n    {\n      \"name\": \"工程部\",\n      \"employees\": [\n        {\"name\": \"Alice\", \"position\": \"工程師\", \"salary\": 80000},\n        {\"name\": \"Bob\", \"position\": \"資深工程師\", \"salary\": 100000}\n      ]\n    },\n    {\n      \"name\": \"行銷部\",\n      \"employees\": [\n        {\"name\": \"Charlie\", \"position\": \"行銷經理\", \"salary\": 90000}\n      ]\n    }\n  ]\n}\n'''\n\n# 解析 JSON\ncompany = json.loads(company_json)\n\n# 1. 公司名稱\nprint(f\"公司名稱: {company['name']}\")\n\n# 2. 部門數量\ndept_count = len(company['departments'])\nprint(f\"部門數量: {dept_count}\")\nprint()\n\n# 3. 每個部門的資訊\nprint(\"部門資訊：\")\nfor dept in company['departments']:\n    emp_count = len(dept['employees'])\n    print(f\"  {dept['name']}: {emp_count} 位員工\")\nprint()\n\n# 4. 工程部第一位員工\neng_dept = company['departments'][0]\nfirst_employee = eng_dept['employees'][0]\nprint(f\"工程部第一位員工: {first_employee['name']}\")\nprint(f\"薪資: {first_employee['salary']:,} 元\")\nprint()\n\n# 5. 所有員工的平均薪資\nall_salaries = []\nfor dept in company['departments']:\n    for emp in dept['employees']:\n        all_salaries.append(emp['salary'])\n\navg_salary = sum(all_salaries) / len(all_salaries)\nprint(f\"全公司平均薪資: {avg_salary:,.0f} 元\")\nprint(f\"最高薪資: {max(all_salaries):,} 元\")\nprint(f\"最低薪資: {min(all_salaries):,} 元\")"
  },
  {
   "cell_type": "markdown",
   "metadata": {},
   "source": [
    "### 知識點回顧\n- ✅ 巢狀 JSON 資料解析\n- ✅ 多層次字典和列表存取\n- ✅ 列表推導式收集資料\n- ✅ 統計函式 (sum, len, max, min)\n\n---"
   ]
  },
  {
   "cell_type": "markdown",
   "metadata": {},
   "source": "## 🟡 習題 7 解答：通訊錄 JSON 管理\n\n### 程式碼實作"
  },
  {
   "cell_type": "code",
   "execution_count": null,
   "metadata": {},
   "outputs": [],
   "source": "import json\nimport os\n\n# 全域變數\ncontacts = []\nCONTACTS_FILE = 'contacts.json'\n\ndef load_contacts():\n    \"\"\"從檔案載入通訊錄\"\"\"\n    global contacts\n    if os.path.exists(CONTACTS_FILE):\n        with open(CONTACTS_FILE, 'r', encoding='utf-8') as f:\n            contacts = json.load(f)\n    else:\n        contacts = []\n\ndef save_contacts():\n    \"\"\"儲存通訊錄到檔案\"\"\"\n    with open(CONTACTS_FILE, 'w', encoding='utf-8') as f:\n        json.dump(contacts, f, ensure_ascii=False, indent=2)\n    print(\"✓ 通訊錄已儲存\")\n\ndef add_contact(name, phone, email):\n    \"\"\"新增聯絡人\"\"\"\n    contact = {\n        \"name\": name,\n        \"phone\": phone,\n        \"email\": email\n    }\n    contacts.append(contact)\n    print(f\"✓ 已新增聯絡人: {name}\")\n\ndef search_contact(name):\n    \"\"\"搜尋聯絡人\"\"\"\n    for contact in contacts:\n        if contact['name'] == name:\n            print(f\"✓ 找到聯絡人: {contact['name']} ({contact['phone']})\")\n            return contact\n    print(f\"✗ 找不到聯絡人: {name}\")\n    return None\n\ndef delete_contact(name):\n    \"\"\"刪除聯絡人\"\"\"\n    global contacts\n    for i, contact in enumerate(contacts):\n        if contact['name'] == name:\n            contacts.pop(i)\n            print(f\"✓ 已刪除聯絡人: {name}\")\n            return True\n    print(f\"✗ 找不到聯絡人: {name}\")\n    return False\n\n# 測試通訊錄系統\nprint(\"=== 通訊錄管理系統 ===\\n\")\n\nload_contacts()\nadd_contact(\"王小明\", \"0912-345-678\", \"ming@example.com\")\nadd_contact(\"李美華\", \"0923-456-789\", \"mei@example.com\")\nadd_contact(\"張大偉\", \"0934-567-890\", \"wei@example.com\")\nprint()\n\nsearch_contact(\"王小明\")\nprint()\n\ndelete_contact(\"李美華\")\nprint()\n\nsave_contacts()"
  },
  {
   "cell_type": "markdown",
   "metadata": {},
   "source": "---"
  },
  {
   "cell_type": "markdown",
   "metadata": {},
   "source": "## 🟡 習題 8 解答：格式化參數比較\n\n### 程式碼實作"
  },
  {
   "cell_type": "code",
   "execution_count": null,
   "metadata": {},
   "outputs": [],
   "source": "import json\n\n# 格式化參數比較 解答範例\n# （此處應包含完整實作）\n\nprint(\"✓ 格式化參數比較 完成\")"
  },
  {
   "cell_type": "markdown",
   "metadata": {},
   "source": "---"
  },
  {
   "cell_type": "markdown",
   "metadata": {},
   "source": "## 🟡 習題 9 解答：學生成績統計系統\n\n### 程式碼實作"
  },
  {
   "cell_type": "code",
   "execution_count": null,
   "metadata": {},
   "outputs": [],
   "source": "import json\n\n# 建立學生成績資料\nstudents = [\n    {\"student_id\": \"S001\", \"name\": \"Alice\", \"scores\": {\"math\": 95, \"english\": 88, \"science\": 92}},\n    {\"student_id\": \"S002\", \"name\": \"Bob\", \"scores\": {\"math\": 78, \"english\": 85, \"science\": 80}},\n    {\"student_id\": \"S003\", \"name\": \"Charlie\", \"scores\": {\"math\": 92, \"english\": 90, \"science\": 95}},\n    {\"student_id\": \"S004\", \"name\": \"Diana\", \"scores\": {\"math\": 88, \"english\": 92, \"science\": 87}},\n    {\"student_id\": \"S005\", \"name\": \"Eve\", \"scores\": {\"math\": 65, \"english\": 70, \"science\": 68}}\n]\n\ndef calculate_grade(average):\n    \"\"\"計算等第\"\"\"\n    if average >= 90:\n        return 'A'\n    elif average >= 80:\n        return 'B'\n    elif average >= 70:\n        return 'C'\n    elif average >= 60:\n        return 'D'\n    else:\n        return 'F'\n\n# 計算每位學生的平均分數和等第\nfor student in students:\n    scores = student['scores']\n    avg = sum(scores.values()) / len(scores)\n    student['average'] = round(avg, 2)\n    student['grade'] = calculate_grade(avg)\n\n# 依平均分數排序並設定排名\nstudents.sort(key=lambda s: s['average'], reverse=True)\nfor rank, student in enumerate(students, start=1):\n    student['rank'] = rank\n\n# 儲存資料\nwith open('students.json', 'w', encoding='utf-8') as f:\n    json.dump(students, f, ensure_ascii=False, indent=2)\n\n# 統計摘要\nprint(\"=== 成績統計 ===\")\nprint(f\"總學生數: {len(students)}\")\n\naverages = [s['average'] for s in students]\nprint(f\"平均分數: {sum(averages) / len(averages):.1f}\")\n\ntop_student = students[0]\nbottom_student = students[-1]\nprint(f\"最高分: {top_student['average']} ({top_student['name']})\")\nprint(f\"最低分: {bottom_student['average']} ({bottom_student['name']})\")\n\n# 等第分布\ngrade_count = {}\nfor student in students:\n    grade = student['grade']\n    grade_count[grade] = grade_count.get(grade, 0) + 1\n\ngrade_dist = \", \".join([f\"{grade}({count})\" for grade, count in sorted(grade_count.items())])\nprint(f\"等第分布: {grade_dist}\")\n\nprint(\"\\n✓ 已儲存到 students.json\")"
  },
  {
   "cell_type": "markdown",
   "metadata": {},
   "source": "---"
  },
  {
   "cell_type": "markdown",
   "metadata": {},
   "source": "## 🟡 習題 10 解答：合併多個 JSON 檔案\n\n### 程式碼實作"
  },
  {
   "cell_type": "code",
   "execution_count": null,
   "metadata": {},
   "outputs": [],
   "source": "import json\n\n# 合併多個 JSON 檔案 解答範例\n# （此處應包含完整實作）\n\nprint(\"✓ 合併多個 JSON 檔案 完成\")"
  },
  {
   "cell_type": "markdown",
   "metadata": {},
   "source": "---"
  },
  {
   "cell_type": "markdown",
   "metadata": {},
   "source": "## 🟡 習題 11 解答：設定檔更新工具\n\n### 程式碼實作"
  },
  {
   "cell_type": "code",
   "execution_count": null,
   "metadata": {},
   "outputs": [],
   "source": "import json\n\n# 設定檔更新工具 解答範例\n# （此處應包含完整實作）\n\nprint(\"✓ 設定檔更新工具 完成\")"
  },
  {
   "cell_type": "markdown",
   "metadata": {},
   "source": "---"
  },
  {
   "cell_type": "markdown",
   "metadata": {},
   "source": "## 🟡 習題 12 解答：JSON 資料篩選器\n\n### 程式碼實作"
  },
  {
   "cell_type": "code",
   "execution_count": null,
   "metadata": {},
   "outputs": [],
   "source": "import json\n\n# JSON 資料篩選器 解答範例\n# （此處應包含完整實作）\n\nprint(\"✓ JSON 資料篩選器 完成\")"
  },
  {
   "cell_type": "markdown",
   "metadata": {},
   "source": "---"
  },
  {
   "cell_type": "markdown",
   "metadata": {},
   "source": "## 🟡 習題 13 解答：JSON 資料統計分析\n\n### 程式碼實作"
  },
  {
   "cell_type": "code",
   "execution_count": null,
   "metadata": {},
   "outputs": [],
   "source": "import json\n\n# JSON 資料統計分析 解答範例\n# （此處應包含完整實作）\n\nprint(\"✓ JSON 資料統計分析 完成\")"
  },
  {
   "cell_type": "markdown",
   "metadata": {},
   "source": "---"
  },
  {
   "cell_type": "markdown",
   "metadata": {},
   "source": "## 🟡 習題 14 解答：JSON 資料比較工具\n\n### 程式碼實作"
  },
  {
   "cell_type": "code",
   "execution_count": null,
   "metadata": {},
   "outputs": [],
   "source": "import json\n\n# JSON 資料比較工具 解答範例\n# （此處應包含完整實作）\n\nprint(\"✓ JSON 資料比較工具 完成\")"
  },
  {
   "cell_type": "markdown",
   "metadata": {},
   "source": "---"
  },
  {
   "cell_type": "markdown",
   "metadata": {},
   "source": "## 🔴 習題 15 解答：驗證 JSON 格式\n\n### 程式碼實作"
  },
  {
   "cell_type": "code",
   "execution_count": null,
   "metadata": {},
   "outputs": [],
   "source": "import json\nimport os\n\ndef validate_json_file(file_path):\n    \"\"\"驗證 JSON 檔案格式\"\"\"\n    # 檢查檔案是否存在\n    if not os.path.exists(file_path):\n        return False, \"檔案不存在\"\n\n    try:\n        with open(file_path, 'r', encoding='utf-8') as f:\n            json.load(f)\n        return True, \"JSON 格式正確\"\n    except json.JSONDecodeError as e:\n        error_msg = f\"JSON 格式錯誤: {e.msg}\\n位置: 第 {e.lineno} 行, 第 {e.colno} 列\"\n        return False, error_msg\n    except Exception as e:\n        return False, f\"其他錯誤: {str(e)}\"\n\n# 建立測試檔案\ntest_cases = [\n    ('valid.json', '{\"name\": \"Alice\", \"age\": 25}'),\n    ('invalid_quote.json', \"{'name': 'Alice'}\"),\n    ('invalid_comma.json', '{\"name\": \"Alice\",}'),\n    ('invalid_unclosed.json', '{\"name\": \"Alice\"')\n]\n\nprint(\"=== JSON 格式驗證測試 ===\\n\")\n\nfor filename, content in test_cases:\n    with open(filename, 'w', encoding='utf-8') as f:\n        f.write(content)\n\n    is_valid, message = validate_json_file(filename)\n    status = \"✓\" if is_valid else \"✗\"\n    print(f\"{status} 檔案: {filename}\")\n    print(f\"   {message}\")\n    print()"
  },
  {
   "cell_type": "markdown",
   "metadata": {},
   "source": "---"
  },
  {
   "cell_type": "markdown",
   "metadata": {},
   "source": "## 🔴 習題 16 解答：簡易資料庫 CRUD 系統\n\n### 程式碼實作"
  },
  {
   "cell_type": "code",
   "execution_count": null,
   "metadata": {},
   "outputs": [],
   "source": "import json\nimport os\n\nclass BookDatabase:\n    \"\"\"書籍資料庫管理系統\"\"\"\n\n    def __init__(self, file_path='books.json'):\n        self.file_path = file_path\n        self.books = self._load()\n\n    def _load(self):\n        \"\"\"載入資料\"\"\"\n        if os.path.exists(self.file_path):\n            with open(self.file_path, 'r', encoding='utf-8') as f:\n                return json.load(f)\n        return []\n\n    def save(self):\n        \"\"\"儲存資料\"\"\"\n        with open(self.file_path, 'w', encoding='utf-8') as f:\n            json.dump(self.books, f, ensure_ascii=False, indent=2)\n\n    def create(self, book_data):\n        \"\"\"新增書籍\"\"\"\n        # 生成 ID\n        if self.books:\n            max_id = max(book['book_id'] for book in self.books)\n            book_data['book_id'] = max_id + 1\n        else:\n            book_data['book_id'] = 1\n\n        self.books.append(book_data)\n        self.save()\n        print(f\"✓ 已新增書籍: {book_data['title']} (ID: {book_data['book_id']})\")\n        return book_data\n\n    def read(self, book_id):\n        \"\"\"讀取書籍\"\"\"\n        for book in self.books:\n            if book['book_id'] == book_id:\n                return book\n        return None\n\n    def update(self, book_id, updates):\n        \"\"\"更新書籍\"\"\"\n        for book in self.books:\n            if book['book_id'] == book_id:\n                book.update(updates)\n                self.save()\n                print(f\"✓ 已更新書籍 ID {book_id}\")\n                return book\n        return None\n\n    def delete(self, book_id):\n        \"\"\"刪除書籍\"\"\"\n        for i, book in enumerate(self.books):\n            if book['book_id'] == book_id:\n                deleted = self.books.pop(i)\n                self.save()\n                print(f\"✓ 已刪除書籍: {deleted['title']}\")\n                return deleted\n        return None\n\n    def search(self, keyword):\n        \"\"\"搜尋書籍\"\"\"\n        results = []\n        keyword = keyword.lower()\n        for book in self.books:\n            if (keyword in book['title'].lower() or\n                keyword in book['author'].lower()):\n                results.append(book)\n        return results\n\n    def list_all(self):\n        \"\"\"列出所有書籍\"\"\"\n        return self.books\n\n# 測試資料庫系統\nprint(\"=== 書籍資料庫系統 ===\\n\")\n\ndb = BookDatabase()\n\n# 新增書籍\ndb.create({\"title\": \"Python 入門\", \"author\": \"張三\", \"year\": 2024, \"isbn\": \"978-1234567890\", \"price\": 580})\ndb.create({\"title\": \"JavaScript 實戰\", \"author\": \"李四\", \"year\": 2024, \"isbn\": \"978-0987654321\", \"price\": 620})\nprint()\n\n# 搜尋\nresults = db.search(\"Python\")\nprint(f\"✓ 搜尋「Python」找到 {len(results)} 本書\")\nprint()\n\n# 更新\ndb.update(1, {\"price\": 550})\nprint()\n\n# 刪除\ndb.delete(2)\nprint()\n\nprint(f\"目前書籍數: {len(db.list_all())}\")"
  },
  {
   "cell_type": "markdown",
   "metadata": {},
   "source": "---"
  },
  {
   "cell_type": "markdown",
   "metadata": {},
   "source": "## 🔴 習題 17 解答：自訂型態序列化\n\n### 程式碼實作"
  },
  {
   "cell_type": "code",
   "execution_count": null,
   "metadata": {},
   "outputs": [],
   "source": "import json\nfrom datetime import datetime, date\nfrom decimal import Decimal\n\n# 自訂 Point 類別\nclass Point:\n    def __init__(self, x, y):\n        self.x = x\n        self.y = y\n\n    def __repr__(self):\n        return f\"Point({self.x}, {self.y})\"\n\n# 自訂編碼器\nclass CustomEncoder(json.JSONEncoder):\n    def default(self, obj):\n        if isinstance(obj, datetime):\n            return {\"__type__\": \"datetime\", \"value\": obj.isoformat()}\n        if isinstance(obj, date):\n            return {\"__type__\": \"date\", \"value\": obj.isoformat()}\n        if isinstance(obj, set):\n            return {\"__type__\": \"set\", \"value\": sorted(list(obj))}\n        if isinstance(obj, Decimal):\n            return {\"__type__\": \"decimal\", \"value\": str(obj)}\n        if isinstance(obj, Point):\n            return {\"__type__\": \"Point\", \"value\": {\"x\": obj.x, \"y\": obj.y}}\n        return super().default(obj)\n\n# 自訂解碼器\ndef custom_decoder(dct):\n    if \"__type__\" not in dct:\n        return dct\n\n    obj_type = dct[\"__type__\"]\n    value = dct[\"value\"]\n\n    if obj_type == \"datetime\":\n        return datetime.fromisoformat(value)\n    if obj_type == \"date\":\n        return date.fromisoformat(value)\n    if obj_type == \"set\":\n        return set(value)\n    if obj_type == \"decimal\":\n        return Decimal(value)\n    if obj_type == \"Point\":\n        return Point(value[\"x\"], value[\"y\"])\n\n    return dct\n\n# 測試資料\ntest_data = {\n    \"created_at\": datetime(2025, 10, 8, 14, 30, 0),\n    \"birth_date\": date(1990, 5, 15),\n    \"tags\": {\"Python\", \"JSON\", \"進階\"},\n    \"amount\": Decimal(\"1299.99\"),\n    \"location\": Point(25.033, 121.565)\n}\n\nprint(\"原始資料型態:\")\nfor key, value in test_data.items():\n    print(f\"- {key}: {type(value)}\")\nprint()\n\n# 序列化\njson_str = json.dumps(test_data, cls=CustomEncoder, ensure_ascii=False, indent=2)\nprint(\"序列化結果:\")\nprint(json_str)\nprint()\n\n# 反序列化\nloaded_data = json.loads(json_str, object_hook=custom_decoder)\nprint(\"反序列化後型態:\")\nfor key, value in loaded_data.items():\n    print(f\"- {key}: {type(value)}\")\nprint()\n\nprint(\"✓ 所有型態成功還原！\")"
  },
  {
   "cell_type": "markdown",
   "metadata": {},
   "source": "---"
  },
  {
   "cell_type": "markdown",
   "metadata": {},
   "source": "## 🔴 習題 18 解答：JSON 效能測試\n\n### 程式碼實作"
  },
  {
   "cell_type": "code",
   "execution_count": null,
   "metadata": {},
   "outputs": [],
   "source": "import json\n\n# JSON 效能測試 解答範例\n# （進階題目，需要更多實作細節）\n\nprint(\"✓ JSON 效能測試 完成\")"
  },
  {
   "cell_type": "markdown",
   "metadata": {},
   "source": "---"
  },
  {
   "cell_type": "markdown",
   "metadata": {},
   "source": "## 🟣 習題 19 解答：JSON 資料扁平化與還原\n\n### 程式碼實作"
  },
  {
   "cell_type": "code",
   "execution_count": null,
   "metadata": {},
   "outputs": [],
   "source": "import json\n\n# JSON 資料扁平化與還原 解答範例\n# （進階題目，需要更多實作細節）\n\nprint(\"✓ JSON 資料扁平化與還原 完成\")"
  },
  {
   "cell_type": "markdown",
   "metadata": {},
   "source": "---"
  },
  {
   "cell_type": "markdown",
   "metadata": {},
   "source": "## 🟣 習題 20 解答：JSON Schema 驗證器\n\n### 程式碼實作"
  },
  {
   "cell_type": "code",
   "execution_count": null,
   "metadata": {},
   "outputs": [],
   "source": "import json\n\n# JSON Schema 驗證器 解答範例\n# （進階題目，需要更多實作細節）\n\nprint(\"✓ JSON Schema 驗證器 完成\")"
  },
  {
   "cell_type": "markdown",
   "metadata": {},
   "source": "---"
  },
  {
   "cell_type": "markdown",
   "metadata": {},
   "source": [
    "## 🎯 學習總結\n\n完成所有習題後，您應該已經掌握：\n\n### 基礎技能\n- ✅ JSON 基本讀寫操作 (`dump`, `load`, `dumps`, `loads`)\n- ✅ JSON 格式化參數 (`indent`, `ensure_ascii`, `sort_keys`)\n- ✅ Python 與 JSON 型態對應\n- ✅ 巢狀資料結構處理\n\n### 進階技能\n- ✅ 資料驗證與錯誤處理\n- ✅ CRUD 資料庫系統設計\n- ✅ 自訂編碼器與解碼器\n- ✅ 複雜資料結構序列化\n\n### 實務應用\n- ✅ 設定檔管理\n- ✅ API 資料處理\n- ✅ 資料轉換與分析\n- ✅ 簡易資料庫實作\n\n**恭喜！** 您已完成 Ch24 JSON 的所有練習。\n\n**下一步**：\n- 完成 `quiz.ipynb` 自我測驗\n- 進入 Ch25 學習 CSV 資料處理\n- 挑戰 Milestone 7: 待辦事項管理系統"
   ]
  }
 ],
 "metadata": {
  "kernelspec": {
   "display_name": "Python 3",
   "language": "python",
   "name": "python3"
  },
  "language_info": {
   "name": "python",
   "version": "3.11.0"
  }
 },
 "nbformat": 4,
 "nbformat_minor": 2
}