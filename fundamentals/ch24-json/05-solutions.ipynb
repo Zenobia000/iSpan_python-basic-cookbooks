{
 "cells": [
  {
   "cell_type": "markdown",
   "metadata": {},
   "source": "# 結構化資料: JSON | Structured Data: JSON\n\n## ✅ 習題解答 | Solutions\n\n---\n\n## 📋 使用說明\n\n本檔案提供 **04-exercises.ipynb** 的完整解答。\n\n**建議使用方式**：\n1. ⚠️ **先自行完成習題**，不要直接看解答\n2. ✅ 完成後，對照本檔案檢查答案\n3. 📝 理解不同解法的優缺點\n4. 💡 學習更簡潔或更高效的寫法\n\n---"
  },
  {
   "cell_type": "markdown",
   "metadata": {},
   "source": "## 🟢 習題 1 解答：儲存個人資料到JSON檔案\n\n### 解題思路\n1. （分析步驟）\n2. （關鍵技巧）\n\n### 程式碼實作"
  },
  {
   "cell_type": "code",
   "execution_count": null,
   "metadata": {},
   "outputs": [],
   "source": "# 習題 1 參考解答\n# TODO: 實作完整解答\n\nprint(\"習題 1 解答\")\n# 程式碼..."
  },
  {
   "cell_type": "markdown",
   "metadata": {},
   "source": "### 知識點回顧\n- ✅ （重點 1）\n- ✅ （重點 2）\n\n### 其他解法\n（若有多種解法，可在此說明）\n\n---"
  },
  {
   "cell_type": "markdown",
   "metadata": {},
   "source": "## 🟢 習題 2 解答：從JSON讀取並顯示資料\n\n### 解題思路\n1. （分析步驟）\n2. （關鍵技巧）\n\n### 程式碼實作"
  },
  {
   "cell_type": "code",
   "execution_count": null,
   "metadata": {},
   "outputs": [],
   "source": "# 習題 2 參考解答\n# TODO: 實作完整解答\n\nprint(\"習題 2 解答\")\n# 程式碼..."
  },
  {
   "cell_type": "markdown",
   "metadata": {},
   "source": "### 知識點回顧\n- ✅ （重點 1）\n- ✅ （重點 2）\n\n### 其他解法\n（若有多種解法，可在此說明）\n\n---"
  },
  {
   "cell_type": "markdown",
   "metadata": {},
   "source": "## 🟢 習題 3 解答：JSON與字串互轉（dumps/loads）\n\n### 解題思路\n1. （分析步驟）\n2. （關鍵技巧）\n\n### 程式碼實作"
  },
  {
   "cell_type": "code",
   "execution_count": null,
   "metadata": {},
   "outputs": [],
   "source": "# 習題 3 參考解答\n# TODO: 實作完整解答\n\nprint(\"習題 3 解答\")\n# 程式碼..."
  },
  {
   "cell_type": "markdown",
   "metadata": {},
   "source": "### 知識點回顧\n- ✅ （重點 1）\n- ✅ （重點 2）\n\n### 其他解法\n（若有多種解法，可在此說明）\n\n---"
  },
  {
   "cell_type": "markdown",
   "metadata": {},
   "source": "## 🟢 習題 4 解答：儲存購物清單到JSON\n\n### 解題思路\n1. （分析步驟）\n2. （關鍵技巧）\n\n### 程式碼實作"
  },
  {
   "cell_type": "code",
   "execution_count": null,
   "metadata": {},
   "outputs": [],
   "source": "# 習題 4 參考解答\n# TODO: 實作完整解答\n\nprint(\"習題 4 解答\")\n# 程式碼..."
  },
  {
   "cell_type": "markdown",
   "metadata": {},
   "source": "### 知識點回顧\n- ✅ （重點 1）\n- ✅ （重點 2）\n\n### 其他解法\n（若有多種解法，可在此說明）\n\n---"
  },
  {
   "cell_type": "markdown",
   "metadata": {},
   "source": "## 🟡 習題 5 解答：實作通訊錄JSON管理\n\n### 解題思路\n1. （分析步驟）\n2. （關鍵技巧）\n\n### 程式碼實作"
  },
  {
   "cell_type": "code",
   "execution_count": null,
   "metadata": {},
   "outputs": [],
   "source": "# 習題 5 參考解答\n# TODO: 實作完整解答\n\nprint(\"習題 5 解答\")\n# 程式碼..."
  },
  {
   "cell_type": "markdown",
   "metadata": {},
   "source": "### 知識點回顧\n- ✅ （重點 1）\n- ✅ （重點 2）\n\n### 其他解法\n（若有多種解法，可在此說明）\n\n---"
  },
  {
   "cell_type": "markdown",
   "metadata": {},
   "source": "## 🟡 習題 6 解答：格式化輸出JSON（indent=2）\n\n### 解題思路\n1. （分析步驟）\n2. （關鍵技巧）\n\n### 程式碼實作"
  },
  {
   "cell_type": "code",
   "execution_count": null,
   "metadata": {},
   "outputs": [],
   "source": "# 習題 6 參考解答\n# TODO: 實作完整解答\n\nprint(\"習題 6 解答\")\n# 程式碼..."
  },
  {
   "cell_type": "markdown",
   "metadata": {},
   "source": "### 知識點回顧\n- ✅ （重點 1）\n- ✅ （重點 2）\n\n### 其他解法\n（若有多種解法，可在此說明）\n\n---"
  },
  {
   "cell_type": "markdown",
   "metadata": {},
   "source": "## 🟡 習題 7 解答：處理中文JSON（ensure_ascii=False）\n\n### 解題思路\n1. （分析步驟）\n2. （關鍵技巧）\n\n### 程式碼實作"
  },
  {
   "cell_type": "code",
   "execution_count": null,
   "metadata": {},
   "outputs": [],
   "source": "# 習題 7 參考解答\n# TODO: 實作完整解答\n\nprint(\"習題 7 解答\")\n# 程式碼..."
  },
  {
   "cell_type": "markdown",
   "metadata": {},
   "source": "### 知識點回顧\n- ✅ （重點 1）\n- ✅ （重點 2）\n\n### 其他解法\n（若有多種解法，可在此說明）\n\n---"
  },
  {
   "cell_type": "markdown",
   "metadata": {},
   "source": "## 🟡 習題 8 解答：合併多個JSON檔案\n\n### 解題思路\n1. （分析步驟）\n2. （關鍵技巧）\n\n### 程式碼實作"
  },
  {
   "cell_type": "code",
   "execution_count": null,
   "metadata": {},
   "outputs": [],
   "source": "# 習題 8 參考解答\n# TODO: 實作完整解答\n\nprint(\"習題 8 解答\")\n# 程式碼..."
  },
  {
   "cell_type": "markdown",
   "metadata": {},
   "source": "### 知識點回顧\n- ✅ （重點 1）\n- ✅ （重點 2）\n\n### 其他解法\n（若有多種解法，可在此說明）\n\n---"
  },
  {
   "cell_type": "markdown",
   "metadata": {},
   "source": "## 🔴 習題 9 解答：驗證JSON格式是否正確\n\n### 解題思路\n1. （分析步驟）\n2. （關鍵技巧）\n\n### 程式碼實作"
  },
  {
   "cell_type": "code",
   "execution_count": null,
   "metadata": {},
   "outputs": [],
   "source": "# 習題 9 參考解答\n# TODO: 實作完整解答\n\nprint(\"習題 9 解答\")\n# 程式碼..."
  },
  {
   "cell_type": "markdown",
   "metadata": {},
   "source": "### 知識點回顧\n- ✅ （重點 1）\n- ✅ （重點 2）\n\n### 其他解法\n（若有多種解法，可在此說明）\n\n---"
  },
  {
   "cell_type": "markdown",
   "metadata": {},
   "source": "## 🔴 習題 10 解答：實作簡易資料庫（JSON儲存）\n\n### 解題思路\n1. （分析步驟）\n2. （關鍵技巧）\n\n### 程式碼實作"
  },
  {
   "cell_type": "code",
   "execution_count": null,
   "metadata": {},
   "outputs": [],
   "source": "# 習題 10 參考解答\n# TODO: 實作完整解答\n\nprint(\"習題 10 解答\")\n# 程式碼..."
  },
  {
   "cell_type": "markdown",
   "metadata": {},
   "source": "### 知識點回顧\n- ✅ （重點 1）\n- ✅ （重點 2）\n\n### 其他解法\n（若有多種解法，可在此說明）\n\n---"
  },
  {
   "cell_type": "markdown",
   "metadata": {},
   "source": "## 🟣 習題 11 解答：JSON資料扁平化處理\n\n### 解題思路\n1. （分析步驟）\n2. （關鍵技巧）\n\n### 程式碼實作"
  },
  {
   "cell_type": "code",
   "execution_count": null,
   "metadata": {},
   "outputs": [],
   "source": "# 習題 11 參考解答\n# TODO: 實作完整解答\n\nprint(\"習題 11 解答\")\n# 程式碼..."
  },
  {
   "cell_type": "markdown",
   "metadata": {},
   "source": "### 知識點回顧\n- ✅ （重點 1）\n- ✅ （重點 2）\n\n### 其他解法\n（若有多種解法，可在此說明）\n\n---"
  },
  {
   "cell_type": "markdown",
   "metadata": {},
   "source": "## 🟣 習題 12 解答：實作JSON Schema驗證\n\n### 解題思路\n1. （分析步驟）\n2. （關鍵技巧）\n\n### 程式碼實作"
  },
  {
   "cell_type": "code",
   "execution_count": null,
   "metadata": {},
   "outputs": [],
   "source": "# 習題 12 參考解答\n# TODO: 實作完整解答\n\nprint(\"習題 12 解答\")\n# 程式碼..."
  },
  {
   "cell_type": "markdown",
   "metadata": {},
   "source": "### 知識點回顧\n- ✅ （重點 1）\n- ✅ （重點 2）\n\n### 其他解法\n（若有多種解法，可在此說明）\n\n---"
  }
 ],
 "metadata": {
  "kernelspec": {
   "display_name": "Python 3",
   "language": "python",
   "name": "python3"
  },
  "language_info": {
   "codemirror_mode": {
    "name": "ipython",
    "version": 3
   },
   "file_extension": ".py",
   "mimetype": "text/x-python",
   "name": "python",
   "nbconvert_exporter": "python",
   "pygments_lexer": "ipython3",
   "version": "3.8.0"
  }
 },
 "nbformat": 4,
 "nbformat_minor": 4
}