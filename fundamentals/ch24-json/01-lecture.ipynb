{
 "cells": [
  {
   "cell_type": "markdown",
   "metadata": {},
   "source": [
    "# Chapter 24: 結構化資料：JSON | Structured Data: JSON\n",
    "\n",
    "## 📖 講義 | Lecture Notes\n",
    "\n",
    "---\n",
    "\n",
    "## Part I: 理論基礎 | Theoretical Foundations"
   ]
  },
  {
   "cell_type": "markdown",
   "metadata": {},
   "source": [
    "### 📚 章節概覽（Chapter Overview）\n",
    "\n",
    "#### 學習目標（Learning Objectives）\n",
    "完成本章後，您將能夠：\n",
    "1. 理解 JSON 格式的結構與應用場景\n",
    "2. 掌握 Python json 模組的核心方法\n",
    "3. 處理 JSON 資料的序列化與反序列化\n",
    "4. 解決 JSON 處理中的常見問題（編碼、型態、錯誤）\n",
    "\n",
    "#### 先備知識（Prerequisites）\n",
    "- Chapter 23: 檔案操作基礎\n",
    "- Chapter 9: 字典（Dictionary）\n",
    "- Chapter 7: 列表（List）\n",
    "\n",
    "#### 預計時長（Estimated Time）\n",
    "- 理論學習：60 分鐘\n",
    "- 範例演練：30 分鐘\n",
    "- 總計：90 分鐘"
   ]
  },
  {
   "cell_type": "markdown",
   "metadata": {},
   "source": [
    "---\n",
    "\n",
    "### 🔑 核心概念（Key Concepts）\n",
    "\n",
    "#### 1. 什麼是 JSON？（What is JSON?）\n",
    "\n",
    "**定義**：JSON（JavaScript Object Notation）是一種輕量級的資料交換格式。\n",
    "\n",
    "**類比**：\n",
    "```\n",
    "Python 字典 = 程式內部的資料結構（記憶體中）\n",
    "JSON = 傳遞資料的「共通語言」（文字格式）\n",
    "就像不同國家的人用英文溝通，不同程式語言用 JSON 交換資料\n",
    "```\n",
    "\n",
    "#### 2. 為什麼需要 JSON？\n",
    "\n",
    "**問題**：Python 的 dict 無法直接傳給 JavaScript、Java 等其他語言\n",
    "\n",
    "**解決**：轉換為 JSON 字串（所有語言都能讀取文字）\n",
    "\n",
    "```python\n",
    "Python dict → JSON 字串 → JavaScript object\n",
    "```"
   ]
  },
  {
   "cell_type": "markdown",
   "metadata": {},
   "source": [
    "---\n",
    "\n",
    "## Part II: 實作演練 | Hands-on Practice"
   ]
  },
  {
   "cell_type": "markdown",
   "metadata": {},
   "source": [
    "### 💡 範例 1：基本序列化 - dumps()"
   ]
  },
  {
   "cell_type": "code",
   "execution_count": null,
   "metadata": {},
   "outputs": [],
   "source": [
    "import json\n",
    "\n",
    "# Python 字典\n",
    "student = {\n",
    "    \"name\": \"張小明\",\n",
    "    \"age\": 20,\n",
    "    \"courses\": [\"Python\", \"數學\"]\n",
    "}\n",
    "\n",
    "# 轉換為 JSON 字串\n",
    "json_string = json.dumps(student, ensure_ascii=False, indent=2)\n",
    "\n",
    "print(\"Python 型態:\", type(student))\n",
    "print(\"JSON 型態:\", type(json_string))\n",
    "print(\"\\nJSON 字串:\")\n",
    "print(json_string)"
   ]
  },
  {
   "cell_type": "markdown",
   "metadata": {},
   "source": [
    "### 💡 範例 2：寫入檔案 - dump()"
   ]
  },
  {
   "cell_type": "code",
   "execution_count": null,
   "metadata": {},
   "outputs": [],
   "source": [
    "# 寫入 JSON 檔案\n",
    "with open(\"student.json\", \"w\", encoding=\"utf-8\") as f:\n",
    "    json.dump(student, f, ensure_ascii=False, indent=2)\n",
    "\n",
    "print(\"✅ 資料已儲存至 student.json\")"
   ]
  },
  {
   "cell_type": "markdown",
   "metadata": {},
   "source": [
    "### 💡 範例 3：反序列化 - loads()"
   ]
  },
  {
   "cell_type": "code",
   "execution_count": null,
   "metadata": {},
   "outputs": [],
   "source": [
    "# JSON 字串\n",
    "json_text = '{\"name\": \"李小華\", \"age\": 22}'\n",
    "\n",
    "# 轉換為 Python 字典\n",
    "data = json.loads(json_text)\n",
    "\n",
    "print(\"型態:\", type(data))\n",
    "print(\"姓名:\", data['name'])\n",
    "print(\"年齡:\", data['age'])"
   ]
  },
  {
   "cell_type": "markdown",
   "metadata": {},
   "source": [
    "### 💡 範例 4：讀取檔案 - load()"
   ]
  },
  {
   "cell_type": "code",
   "execution_count": null,
   "metadata": {},
   "outputs": [],
   "source": [
    "# 從檔案讀取\n",
    "with open(\"student.json\", \"r\", encoding=\"utf-8\") as f:\n",
    "    loaded_data = json.load(f)\n",
    "\n",
    "print(\"讀取的資料:\", loaded_data)"
   ]
  },
  {
   "cell_type": "markdown",
   "metadata": {},
   "source": [
    "### 💡 範例 5：處理巢狀結構"
   ]
  },
  {
   "cell_type": "code",
   "execution_count": null,
   "metadata": {},
   "outputs": [],
   "source": [
    "# 複雜的巢狀結構\n",
    "company = {\n",
    "    \"name\": \"科技公司\",\n",
    "    \"employees\": [\n",
    "        {\"name\": \"王經理\", \"salary\": 80000},\n",
    "        {\"name\": \"陳工程師\", \"salary\": 60000}\n",
    "    ]\n",
    "}\n",
    "\n",
    "# 美化輸出\n",
    "print(json.dumps(company, ensure_ascii=False, indent=2))\n",
    "\n",
    "# 存取巢狀資料\n",
    "print(f\"\\n第一位員工: {company['employees'][0]['name']}\")"
   ]
  },
  {
   "cell_type": "markdown",
   "metadata": {},
   "source": [
    "### 💡 範例 6：錯誤處理"
   ]
  },
  {
   "cell_type": "code",
   "execution_count": null,
   "metadata": {},
   "outputs": [],
   "source": [
    "# 格式錯誤的 JSON\n",
    "invalid_json = \"{'name': '小明'}\"  # 單引號是錯誤的\n",
    "\n",
    "try:\n",
    "    data = json.loads(invalid_json)\n",
    "except json.JSONDecodeError as e:\n",
    "    print(f\"❌ JSON 格式錯誤: {e}\")\n",
    "\n",
    "# 正確的 JSON（雙引號）\n",
    "valid_json = '{\"name\": \"小明\"}'\n",
    "data = json.loads(valid_json)\n",
    "print(f\"\\n✅ 正確解析: {data}\")"
   ]
  },
  {
   "cell_type": "markdown",
   "metadata": {},
   "source": [
    "### 💡 範例 7：實務應用 - 設定檔"
   ]
  },
  {
   "cell_type": "code",
   "execution_count": null,
   "metadata": {},
   "outputs": [],
   "source": [
    "# 建立設定檔\n",
    "config = {\n",
    "    \"app_name\": \"我的應用程式\",\n",
    "    \"version\": \"1.0.0\",\n",
    "    \"settings\": {\n",
    "        \"theme\": \"dark\",\n",
    "        \"language\": \"zh-TW\"\n",
    "    }\n",
    "}\n",
    "\n",
    "# 儲存設定\n",
    "with open(\"config.json\", \"w\", encoding=\"utf-8\") as f:\n",
    "    json.dump(config, f, ensure_ascii=False, indent=2)\n",
    "\n",
    "print(\"✅ 設定檔已建立\")\n",
    "\n",
    "# 讀取設定\n",
    "with open(\"config.json\", \"r\", encoding=\"utf-8\") as f:\n",
    "    loaded_config = json.load(f)\n",
    "\n",
    "print(f\"\\n應用程式: {loaded_config['app_name']}\")\n",
    "print(f\"佈景主題: {loaded_config['settings']['theme']}\")"
   ]
  },
  {
   "cell_type": "markdown",
   "metadata": {},
   "source": [
    "### 💡 範例 8：JSON vs Python 型態對照"
   ]
  },
  {
   "cell_type": "code",
   "execution_count": null,
   "metadata": {},
   "outputs": [],
   "source": [
    "# 型態對照示範\n",
    "test_data = {\n",
    "    \"字串\": \"hello\",\n",
    "    \"數字\": 42,\n",
    "    \"浮點數\": 3.14,\n",
    "    \"布林值\": True,\n",
    "    \"空值\": None,\n",
    "    \"列表\": [1, 2, 3],\n",
    "    \"字典\": {\"key\": \"value\"}\n",
    "}\n",
    "\n",
    "json_str = json.dumps(test_data, ensure_ascii=False, indent=2)\n",
    "print(\"JSON 輸出:\")\n",
    "print(json_str)\n",
    "\n",
    "print(\"\\n型態對照:\")\n",
    "print(\"Python True → JSON:\", json.dumps(True))\n",
    "print(\"Python None → JSON:\", json.dumps(None))"
   ]
  },
  {
   "cell_type": "markdown",
   "metadata": {},
   "source": [
    "---\n",
    "\n",
    "## Part III: 本章總結 | Chapter Summary"
   ]
  },
  {
   "cell_type": "markdown",
   "metadata": {},
   "source": [
    "### 📊 知識回顧\n",
    "\n",
    "#### 核心方法\n",
    "\n",
    "| 方法 | 方向 | 用途 |\n",
    "|:-----|:-----|:-----|\n",
    "| `json.dumps()` | Python → JSON 字串 | 資料轉字串 |\n",
    "| `json.dump()` | Python → JSON 檔案 | 儲存檔案 |\n",
    "| `json.loads()` | JSON 字串 → Python | 解析字串 |\n",
    "| `json.load()` | JSON 檔案 → Python | 讀取檔案 |\n",
    "\n",
    "#### 重要參數\n",
    "```python\n",
    "json.dumps(data, ensure_ascii=False, indent=2)\n",
    "```\n",
    "- `ensure_ascii=False`: 保留中文\n",
    "- `indent=2`: 美化輸出\n",
    "\n",
    "#### 常見應用\n",
    "1. Web API 資料交換\n",
    "2. 應用程式設定檔\n",
    "3. 資料儲存與備份"
   ]
  },
  {
   "cell_type": "markdown",
   "metadata": {},
   "source": [
    "### ⚠️ 常見誤區\n",
    "\n",
    "1. **混淆字典與 JSON 字串**\n",
    "   - JSON 是字串，需要先用 `loads()` 轉換才能當字典用\n",
    "\n",
    "2. **忘記 ensure_ascii=False**\n",
    "   - 中文會變成 `\\uXXXX`\n",
    "\n",
    "3. **JSON 語法錯誤**\n",
    "   - 必須用雙引號 `\"`，不能用單引號 `'`\n",
    "   - 布林值是 `true`/`false`，不是 `True`/`False`"
   ]
  },
  {
   "cell_type": "markdown",
   "metadata": {},
   "source": [
    "### 🎯 自我檢核\n",
    "\n",
    "完成本講義後，請確認：\n",
    "\n",
    "- [ ] 理解 JSON 的用途\n",
    "- [ ] 會使用 dumps/dump 序列化\n",
    "- [ ] 會使用 loads/load 反序列化\n",
    "- [ ] 能處理巢狀結構\n",
    "- [ ] 知道如何處理錯誤\n",
    "\n",
    "---\n",
    "\n",
    "## 💪 即時練習\n",
    "\n",
    "建立一個字典儲存你的資料，並存成 JSON 檔案："
   ]
  },
  {
   "cell_type": "code",
   "execution_count": null,
   "metadata": {},
   "outputs": [],
   "source": [
    "# 請在此完成練習\n",
    "\n",
    "my_data = {\n",
    "    # 填入你的資料\n",
    "}\n",
    "\n",
    "# 儲存到檔案\n",
    "\n",
    "# 讀取並顯示\n"
   ]
  }
 ],
 "metadata": {
  "kernelspec": {
   "display_name": "Python 3",
   "language": "python",
   "name": "python3"
  },
  "language_info": {
   "name": "python",
   "version": "3.11.0"
  }
 },
 "nbformat": 4,
 "nbformat_minor": 4
}
