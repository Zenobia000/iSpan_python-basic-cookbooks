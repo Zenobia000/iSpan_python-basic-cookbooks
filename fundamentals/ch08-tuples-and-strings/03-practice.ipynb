{
 "cells": [
  {
   "cell_type": "markdown",
   "metadata": {},
   "source": [
    "# Chapter 8: Practice - 課堂練習\n",
    "\n",
    "本檔案包含 15 題課堂練習，涵蓋元組與字串的核心概念。\n",
    "\n",
    "**難度分布**：\n",
    "- 基礎題（1-5）：元組與字串基本操作\n",
    "- 進階題（6-12）：字串方法應用\n",
    "- 挑戰題（13-15）：綜合應用\n",
    "\n",
    "**練習方式**：\n",
    "1. 先自己思考並嘗試解答\n",
    "2. 在程式碼區塊中實作\n",
    "3. 執行測試驗證結果\n",
    "4. 對照 `05-solutions.ipynb` 檢視標準答案\n",
    "\n",
    "---"
   ]
  },
  {
   "cell_type": "markdown",
   "metadata": {},
   "source": [
    "## 基礎題 (1-5)\n",
    "\n",
    "### 練習 1：建立與存取元組\n",
    "\n",
    "**題目**：\n",
    "1. 建立一個包含 5 個整數的元組 `numbers`\n",
    "2. 印出第一個和最後一個元素\n",
    "3. 印出中間 3 個元素（使用切片）"
   ]
  },
  {
   "cell_type": "code",
   "execution_count": null,
   "metadata": {},
   "source": [
    "# 在此處撰寫程式碼\n"
   ],
   "outputs": []
  },
  {
   "cell_type": "markdown",
   "metadata": {},
   "source": [
    "### 練習 2：元組解包\n",
    "\n",
    "**題目**：\n",
    "有一個元組 `person = (\"Alice\", 25, \"Taipei\")`，包含姓名、年齡、城市。\n",
    "使用元組解包將這三個值分別存入變數 `name`, `age`, `city`，並印出格式化訊息。\n",
    "\n",
    "**預期輸出**：\n",
    "```\n",
    "Alice 今年 25 歲，住在 Taipei\n",
    "```"
   ]
  },
  {
   "cell_type": "code",
   "execution_count": null,
   "metadata": {},
   "source": [
    "person = (\"Alice\", 25, \"Taipei\")\n",
    "# 在此處撰寫程式碼\n"
   ],
   "outputs": []
  },
  {
   "cell_type": "markdown",
   "metadata": {},
   "source": [
    "### 練習 3：字串索引與切片\n",
    "\n",
    "**題目**：\n",
    "給定字串 `text = \"Programming\"`，使用切片完成：\n",
    "1. 取得前 4 個字元\n",
    "2. 取得後 4 個字元\n",
    "3. 取得所有偶數索引的字元\n",
    "4. 反轉字串"
   ]
  },
  {
   "cell_type": "code",
   "execution_count": null,
   "metadata": {},
   "source": [
    "text = \"Programming\"\n",
    "# 在此處撰寫程式碼\n"
   ],
   "outputs": []
  },
  {
   "cell_type": "markdown",
   "metadata": {},
   "source": [
    "### 練習 4：字串大小寫轉換\n",
    "\n",
    "**題目**：\n",
    "寫一個函式 `normalize_name(name)`，將姓名標準化：\n",
    "- 去除前後空白\n",
    "- 轉為 Title Case（每個單字首字母大寫）\n",
    "\n",
    "**測試**：\n",
    "```python\n",
    "normalize_name(\"  alice smith  \")  # \"Alice Smith\"\n",
    "normalize_name(\"BOB JONES\")        # \"Bob Jones\"\n",
    "```"
   ]
  },
  {
   "cell_type": "code",
   "execution_count": null,
   "metadata": {},
   "source": [
    "def normalize_name(name):\n",
    "    # 在此處撰寫程式碼\n",
    "    pass\n",
    "\n",
    "# 測試\n",
    "print(normalize_name(\"  alice smith  \"))\n",
    "print(normalize_name(\"BOB JONES\"))"
   ],
   "outputs": []
  },
  {
   "cell_type": "markdown",
   "metadata": {},
   "source": [
    "### 練習 5：字串搜尋\n",
    "\n",
    "**題目**：\n",
    "給定字串 `sentence = \"Python is awesome. I love Python!\"`\n",
    "1. 找出 \"Python\" 第一次出現的位置\n",
    "2. 找出 \"Python\" 最後一次出現的位置\n",
    "3. 計算 \"Python\" 出現的總次數"
   ]
  },
  {
   "cell_type": "code",
   "execution_count": null,
   "metadata": {},
   "source": [
    "sentence = \"Python is awesome. I love Python!\"\n",
    "# 在此處撰寫程式碼\n"
   ],
   "outputs": []
  },
  {
   "cell_type": "markdown",
   "metadata": {},
   "source": [
    "---\n",
    "\n",
    "## 進階題 (6-12)\n",
    "\n",
    "### 練習 6：分割與合併\n",
    "\n",
    "**題目**：\n",
    "1. 將字串 `\"apple,banana,orange\"` 分割成列表\n",
    "2. 將列表 `[\"Python\", \"Java\", \"C++\"]` 用 \" | \" 合併成字串"
   ]
  },
  {
   "cell_type": "code",
   "execution_count": null,
   "metadata": {},
   "source": [
    "# 在此處撰寫程式碼\n"
   ],
   "outputs": []
  },
  {
   "cell_type": "markdown",
   "metadata": {},
   "source": [
    "### 練習 7：星號解包\n",
    "\n",
    "**題目**：\n",
    "有一個元組 `scores = (95, 88, 92, 76, 89)`\n",
    "使用星號解包將第一個分數存入 `first`，最後一個存入 `last`，其餘存入 `middle`。"
   ]
  },
  {
   "cell_type": "code",
   "execution_count": null,
   "metadata": {},
   "source": [
    "scores = (95, 88, 92, 76, 89)\n",
    "# 在此處撰寫程式碼\n"
   ],
   "outputs": []
  },
  {
   "cell_type": "markdown",
   "metadata": {},
   "source": [
    "### 練習 8：字串替換\n",
    "\n",
    "**題目**：\n",
    "寫一個函式 `censor_text(text, bad_words)`，將文字中的敏感詞替換為 `***`。\n",
    "\n",
    "**測試**：\n",
    "```python\n",
    "text = \"This is bad and very bad.\"\n",
    "bad_words = [\"bad\"]\n",
    "censor_text(text, bad_words)  # \"This is *** and very ***.\"\n",
    "```"
   ]
  },
  {
   "cell_type": "code",
   "execution_count": null,
   "metadata": {},
   "source": [
    "def censor_text(text, bad_words):\n",
    "    # 在此處撰寫程式碼\n",
    "    pass\n",
    "\n",
    "# 測試\n",
    "text = \"This is bad and very bad.\"\n",
    "bad_words = [\"bad\"]\n",
    "print(censor_text(text, bad_words))"
   ],
   "outputs": []
  },
  {
   "cell_type": "markdown",
   "metadata": {},
   "source": [
    "### 練習 9：Email 驗證\n",
    "\n",
    "**題目**：\n",
    "寫一個函式 `is_valid_email(email)`，檢查 email 是否有效。\n",
    "有效的 email 必須：\n",
    "1. 包含恰好一個 `@`\n",
    "2. `@` 後面包含至少一個 `.`\n",
    "3. 長度至少 5 個字元\n",
    "\n",
    "**測試**：\n",
    "```python\n",
    "is_valid_email(\"test@example.com\")  # True\n",
    "is_valid_email(\"invalid.email\")     # False\n",
    "is_valid_email(\"test@@example.com\") # False\n",
    "```"
   ]
  },
  {
   "cell_type": "code",
   "execution_count": null,
   "metadata": {},
   "source": [
    "def is_valid_email(email):\n",
    "    # 在此處撰寫程式碼\n",
    "    pass\n",
    "\n",
    "# 測試\n",
    "print(is_valid_email(\"test@example.com\"))\n",
    "print(is_valid_email(\"invalid.email\"))\n",
    "print(is_valid_email(\"test@@example.com\"))"
   ],
   "outputs": []
  },
  {
   "cell_type": "markdown",
   "metadata": {},
   "source": [
    "### 練習 10：字串對齊\n",
    "\n",
    "**題目**：\n",
    "建立一個對齊的表格，顯示以下資料：\n",
    "```python\n",
    "products = [\n",
    "    (\"Apple\", 30),\n",
    "    (\"Banana\", 25),\n",
    "    (\"Orange\", 40)\n",
    "]\n",
    "```\n",
    "\n",
    "**預期輸出**：\n",
    "```\n",
    "商品名稱    數量\n",
    "--------------------\n",
    "Apple         30\n",
    "Banana        25\n",
    "Orange        40\n",
    "```"
   ]
  },
  {
   "cell_type": "code",
   "execution_count": null,
   "metadata": {},
   "source": [
    "products = [\n",
    "    (\"Apple\", 30),\n",
    "    (\"Banana\", 25),\n",
    "    (\"Orange\", 40)\n",
    "]\n",
    "\n",
    "# 在此處撰寫程式碼\n"
   ],
   "outputs": []
  },
  {
   "cell_type": "markdown",
   "metadata": {},
   "source": [
    "### 練習 11：字元類型判斷\n",
    "\n",
    "**題目**：\n",
    "寫一個函式 `classify_string(s)`，判斷字串的類型：\n",
    "- 如果全是數字，返回 \"數字\"\n",
    "- 如果全是字母，返回 \"字母\"\n",
    "- 如果是數字+字母，返回 \"數字字母混合\"\n",
    "- 其他情況返回 \"其他\"\n",
    "\n",
    "**測試**：\n",
    "```python\n",
    "classify_string(\"12345\")    # \"數字\"\n",
    "classify_string(\"hello\")    # \"字母\"\n",
    "classify_string(\"abc123\")   # \"數字字母混合\"\n",
    "classify_string(\"hello!\")   # \"其他\"\n",
    "```"
   ]
  },
  {
   "cell_type": "code",
   "execution_count": null,
   "metadata": {},
   "source": [
    "def classify_string(s):\n",
    "    # 在此處撰寫程式碼\n",
    "    pass\n",
    "\n",
    "# 測試\n",
    "print(classify_string(\"12345\"))\n",
    "print(classify_string(\"hello\"))\n",
    "print(classify_string(\"abc123\"))\n",
    "print(classify_string(\"hello!\"))"
   ],
   "outputs": []
  },
  {
   "cell_type": "markdown",
   "metadata": {},
   "source": [
    "### 練習 12：URL 解析\n",
    "\n",
    "**題目**：\n",
    "寫一個函式 `parse_url(url)`，解析 URL 並返回元組 `(protocol, domain, path)`。\n",
    "\n",
    "**範例**：\n",
    "```python\n",
    "parse_url(\"https://www.example.com/page\")\n",
    "# (\"https\", \"www.example.com\", \"/page\")\n",
    "```\n",
    "\n",
    "**提示**：使用 `split()` 方法"
   ]
  },
  {
   "cell_type": "code",
   "execution_count": null,
   "metadata": {},
   "source": [
    "def parse_url(url):\n",
    "    # 在此處撰寫程式碼\n",
    "    pass\n",
    "\n",
    "# 測試\n",
    "result = parse_url(\"https://www.example.com/page\")\n",
    "print(result)"
   ],
   "outputs": []
  },
  {
   "cell_type": "markdown",
   "metadata": {},
   "source": [
    "---\n",
    "\n",
    "## 挑戰題 (13-15)\n",
    "\n",
    "### 練習 13：回文檢查\n",
    "\n",
    "**題目**：\n",
    "寫一個函式 `is_palindrome(s)`，檢查字串是否為回文（正著讀和反著讀一樣）。\n",
    "- 忽略大小寫\n",
    "- 忽略空白和標點符號\n",
    "\n",
    "**測試**：\n",
    "```python\n",
    "is_palindrome(\"A man a plan a canal Panama\")  # True\n",
    "is_palindrome(\"race a car\")                   # False\n",
    "is_palindrome(\"Was it a car or a cat I saw?\") # True\n",
    "```"
   ]
  },
  {
   "cell_type": "code",
   "execution_count": null,
   "metadata": {},
   "source": [
    "def is_palindrome(s):\n",
    "    # 在此處撰寫程式碼\n",
    "    pass\n",
    "\n",
    "# 測試\n",
    "print(is_palindrome(\"A man a plan a canal Panama\"))\n",
    "print(is_palindrome(\"race a car\"))\n",
    "print(is_palindrome(\"Was it a car or a cat I saw?\"))"
   ],
   "outputs": []
  },
  {
   "cell_type": "markdown",
   "metadata": {},
   "source": [
    "### 練習 14：字數統計\n",
    "\n",
    "**題目**：\n",
    "寫一個函式 `word_frequency(text)`，統計文字中每個單字的出現次數。\n",
    "- 忽略大小寫\n",
    "- 移除標點符號\n",
    "- 返回字典 `{word: count}`\n",
    "\n",
    "**測試**：\n",
    "```python\n",
    "text = \"Python is great. Python is easy.\"\n",
    "word_frequency(text)\n",
    "# {'python': 2, 'is': 2, 'great': 1, 'easy': 1}\n",
    "```"
   ]
  },
  {
   "cell_type": "code",
   "execution_count": null,
   "metadata": {},
   "source": [
    "def word_frequency(text):\n",
    "    # 在此處撰寫程式碼\n",
    "    pass\n",
    "\n",
    "# 測試\n",
    "text = \"Python is great. Python is easy.\"\n",
    "print(word_frequency(text))"
   ],
   "outputs": []
  },
  {
   "cell_type": "markdown",
   "metadata": {},
   "source": [
    "### 練習 15：縮寫產生器\n",
    "\n",
    "**題目**：\n",
    "寫一個函式 `create_acronym(phrase)`，產生片語的縮寫。\n",
    "- 取每個單字的第一個字母\n",
    "- 轉為大寫\n",
    "- 忽略長度小於 3 的單字（如 \"a\", \"an\", \"the\"）\n",
    "\n",
    "**測試**：\n",
    "```python\n",
    "create_acronym(\"As Soon As Possible\")           # \"ASAP\"\n",
    "create_acronym(\"Laugh Out Loud\")                # \"LOL\"\n",
    "create_acronym(\"For Your Information\")          # \"FYI\"\n",
    "create_acronym(\"Artificial Intelligence\")       # \"AI\"\n",
    "```"
   ]
  },
  {
   "cell_type": "code",
   "execution_count": null,
   "metadata": {},
   "source": [
    "def create_acronym(phrase):\n",
    "    # 在此處撰寫程式碼\n",
    "    pass\n",
    "\n",
    "# 測試\n",
    "print(create_acronym(\"As Soon As Possible\"))\n",
    "print(create_acronym(\"Laugh Out Loud\"))\n",
    "print(create_acronym(\"For Your Information\"))\n",
    "print(create_acronym(\"Artificial Intelligence\"))"
   ],
   "outputs": []
  },
  {
   "cell_type": "markdown",
   "metadata": {},
   "source": [
    "---\n",
    "\n",
    "## 完成練習後\n",
    "\n",
    "恭喜完成課堂練習！接下來：\n",
    "\n",
    "1. **檢查答案**：對照 `05-solutions.ipynb` 查看標準解答\n",
    "2. **反思改進**：比較你的解法與標準答案的差異\n",
    "3. **繼續挑戰**：前往 `04-exercises.ipynb` 完成更多課後習題\n",
    "\n",
    "**學習建議**：\n",
    "- 如果基礎題有困難，重新閱讀 `01-lecture.ipynb`\n",
    "- 如果進階題有困難，參考 `02-worked-examples.ipynb`\n",
    "- 如果挑戰題有困難，先完成其他練習再回來\n",
    "\n",
    "**下一步**：完成 `04-exercises.ipynb` 的 20 題課後習題！"
   ]
  }
 ],
 "metadata": {
  "kernelspec": {
   "display_name": "Python 3",
   "language": "python",
   "name": "python3"
  },
  "language_info": {
   "codemirror_mode": {
    "name": "ipython",
    "version": 3
   },
   "file_extension": ".py",
   "mimetype": "text/x-python",
   "name": "python",
   "nbconvert_exporter": "python",
   "pygments_lexer": "ipython3",
   "version": "3.11.0"
  }
 },
 "nbformat": 4,
 "nbformat_minor": 4
}
