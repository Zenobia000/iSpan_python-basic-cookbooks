{
 "cells": [
  {
   "cell_type": "markdown",
   "metadata": {},
   "source": [
    "# Chapter 8: Solutions - 完整解答\n",
    "\n",
    "本檔案包含 `03-practice.ipynb` 和 `04-exercises.ipynb` 所有習題的完整解答。\n",
    "\n",
    "**使用建議**：\n",
    "1. 先獨立完成習題\n",
    "2. 再參考本解答\n",
    "3. 比較不同解法的優劣\n",
    "4. 學習更佳的寫法\n",
    "\n",
    "---"
   ]
  },
  {
   "cell_type": "markdown",
   "metadata": {},
   "source": [
    "## 課堂練習解答 (03-practice.ipynb)\n",
    "\n",
    "### 練習 1：建立與存取元組"
   ]
  },
  {
   "cell_type": "code",
   "execution_count": null,
   "metadata": {},
   "source": [
    "# 1. 建立元組\n",
    "numbers = (10, 20, 30, 40, 50)\n",
    "print(f\"元組：{numbers}\")\n",
    "\n",
    "# 2. 第一個和最後一個元素\n",
    "print(f\"第一個元素：{numbers[0]}\")\n",
    "print(f\"最後一個元素：{numbers[-1]}\")\n",
    "\n",
    "# 3. 中間 3 個元素\n",
    "middle = numbers[1:4]\n",
    "print(f\"中間 3 個：{middle}\")"
   ],
   "outputs": []
  },
  {
   "cell_type": "markdown",
   "metadata": {},
   "source": [
    "### 練習 2：元組解包"
   ]
  },
  {
   "cell_type": "code",
   "execution_count": null,
   "metadata": {},
   "source": [
    "person = (\"Alice\", 25, \"Taipei\")\n",
    "name, age, city = person\n",
    "print(f\"{name} 今年 {age} 歲，住在 {city}\")"
   ],
   "outputs": []
  },
  {
   "cell_type": "markdown",
   "metadata": {},
   "source": [
    "### 練習 3：字串索引與切片"
   ]
  },
  {
   "cell_type": "code",
   "execution_count": null,
   "metadata": {},
   "source": [
    "text = \"Programming\"\n",
    "\n",
    "# 1. 前 4 個字元\n",
    "print(f\"前 4 個：{text[:4]}\")  # \"Prog\"\n",
    "\n",
    "# 2. 後 4 個字元\n",
    "print(f\"後 4 個：{text[-4:]}\")  # \"ming\"\n",
    "\n",
    "# 3. 偶數索引\n",
    "print(f\"偶數索引：{text[::2]}\")  # \"Pormig\"\n",
    "\n",
    "# 4. 反轉\n",
    "print(f\"反轉：{text[::-1]}\")  # \"gnimmargorP\""
   ],
   "outputs": []
  },
  {
   "cell_type": "markdown",
   "metadata": {},
   "source": [
    "### 練習 4：字串大小寫轉換"
   ]
  },
  {
   "cell_type": "code",
   "execution_count": null,
   "metadata": {},
   "source": [
    "def normalize_name(name):\n",
    "    return name.strip().title()\n",
    "\n",
    "# 測試\n",
    "print(normalize_name(\"  alice smith  \"))  # \"Alice Smith\"\n",
    "print(normalize_name(\"BOB JONES\"))        # \"Bob Jones\""
   ],
   "outputs": []
  },
  {
   "cell_type": "markdown",
   "metadata": {},
   "source": [
    "### 練習 5：字串搜尋"
   ]
  },
  {
   "cell_type": "code",
   "execution_count": null,
   "metadata": {},
   "source": [
    "sentence = \"Python is awesome. I love Python!\"\n",
    "\n",
    "# 1. 第一次出現位置\n",
    "first = sentence.find(\"Python\")\n",
    "print(f\"第一次出現：{first}\")\n",
    "\n",
    "# 2. 最後一次出現位置\n",
    "last = sentence.rfind(\"Python\")\n",
    "print(f\"最後一次出現：{last}\")\n",
    "\n",
    "# 3. 出現總次數\n",
    "count = sentence.count(\"Python\")\n",
    "print(f\"出現次數：{count}\")"
   ],
   "outputs": []
  },
  {
   "cell_type": "markdown",
   "metadata": {},
   "source": [
    "### 練習 6：分割與合併"
   ]
  },
  {
   "cell_type": "code",
   "execution_count": null,
   "metadata": {},
   "source": [
    "# 1. 分割\n",
    "fruits = \"apple,banana,orange\".split(',')\n",
    "print(f\"分割：{fruits}\")\n",
    "\n",
    "# 2. 合併\n",
    "languages = [\"Python\", \"Java\", \"C++\"]\n",
    "result = \" | \".join(languages)\n",
    "print(f\"合併：{result}\")"
   ],
   "outputs": []
  },
  {
   "cell_type": "markdown",
   "metadata": {},
   "source": [
    "### 練習 7：星號解包"
   ]
  },
  {
   "cell_type": "code",
   "execution_count": null,
   "metadata": {},
   "source": [
    "scores = (95, 88, 92, 76, 89)\n",
    "first, *middle, last = scores\n",
    "\n",
    "print(f\"第一個：{first}\")\n",
    "print(f\"中間的：{middle}\")\n",
    "print(f\"最後一個：{last}\")"
   ],
   "outputs": []
  },
  {
   "cell_type": "markdown",
   "metadata": {},
   "source": [
    "### 練習 8：字串替換"
   ]
  },
  {
   "cell_type": "code",
   "execution_count": null,
   "metadata": {},
   "source": [
    "def censor_text(text, bad_words):\n",
    "    result = text\n",
    "    for word in bad_words:\n",
    "        result = result.replace(word, \"***\")\n",
    "    return result\n",
    "\n",
    "# 測試\n",
    "text = \"This is bad and very bad.\"\n",
    "bad_words = [\"bad\"]\n",
    "print(censor_text(text, bad_words))"
   ],
   "outputs": []
  },
  {
   "cell_type": "markdown",
   "metadata": {},
   "source": [
    "### 練習 9：Email 驗證"
   ]
  },
  {
   "cell_type": "code",
   "execution_count": null,
   "metadata": {},
   "source": [
    "def is_valid_email(email):\n",
    "    # 長度檢查\n",
    "    if len(email) < 5:\n",
    "        return False\n",
    "    \n",
    "    # @ 檢查\n",
    "    if email.count('@') != 1:\n",
    "        return False\n",
    "    \n",
    "    # @ 後面必須有 .\n",
    "    at_index = email.find('@')\n",
    "    after_at = email[at_index + 1:]\n",
    "    if '.' not in after_at:\n",
    "        return False\n",
    "    \n",
    "    return True\n",
    "\n",
    "# 測試\n",
    "print(is_valid_email(\"test@example.com\"))  # True\n",
    "print(is_valid_email(\"invalid.email\"))     # False\n",
    "print(is_valid_email(\"test@@example.com\")) # False"
   ],
   "outputs": []
  },
  {
   "cell_type": "markdown",
   "metadata": {},
   "source": [
    "### 練習 10：字串對齊"
   ]
  },
  {
   "cell_type": "code",
   "execution_count": null,
   "metadata": {},
   "source": [
    "products = [\n",
    "    (\"Apple\", 30),\n",
    "    (\"Banana\", 25),\n",
    "    (\"Orange\", 40)\n",
    "]\n",
    "\n",
    "# 表頭\n",
    "print(f\"{'商品名稱':<10} {'數量':>6}\")\n",
    "print(\"-\" * 20)\n",
    "\n",
    "# 資料行\n",
    "for name, qty in products:\n",
    "    print(f\"{name:<10} {qty:>6}\")"
   ],
   "outputs": []
  },
  {
   "cell_type": "markdown",
   "metadata": {},
   "source": [
    "### 練習 11：字元類型判斷"
   ]
  },
  {
   "cell_type": "code",
   "execution_count": null,
   "metadata": {},
   "source": [
    "def classify_string(s):\n",
    "    if s.isdigit():\n",
    "        return \"數字\"\n",
    "    elif s.isalpha():\n",
    "        return \"字母\"\n",
    "    elif s.isalnum():\n",
    "        return \"數字字母混合\"\n",
    "    else:\n",
    "        return \"其他\"\n",
    "\n",
    "# 測試\n",
    "print(classify_string(\"12345\"))    # \"數字\"\n",
    "print(classify_string(\"hello\"))    # \"字母\"\n",
    "print(classify_string(\"abc123\"))   # \"數字字母混合\"\n",
    "print(classify_string(\"hello!\"))   # \"其他\""
   ],
   "outputs": []
  },
  {
   "cell_type": "markdown",
   "metadata": {},
   "source": [
    "### 練習 12：URL 解析"
   ]
  },
  {
   "cell_type": "code",
   "execution_count": null,
   "metadata": {},
   "source": [
    "def parse_url(url):\n",
    "    # 分離協定\n",
    "    protocol, rest = url.split('://', 1)\n",
    "    \n",
    "    # 分離域名和路徑\n",
    "    if '/' in rest:\n",
    "        domain, path = rest.split('/', 1)\n",
    "        path = '/' + path\n",
    "    else:\n",
    "        domain = rest\n",
    "        path = '/'\n",
    "    \n",
    "    return (protocol, domain, path)\n",
    "\n",
    "# 測試\n",
    "result = parse_url(\"https://www.example.com/page\")\n",
    "print(result)  # (\"https\", \"www.example.com\", \"/page\")"
   ],
   "outputs": []
  },
  {
   "cell_type": "markdown",
   "metadata": {},
   "source": [
    "### 練習 13：回文檢查"
   ]
  },
  {
   "cell_type": "code",
   "execution_count": null,
   "metadata": {},
   "source": [
    "def is_palindrome(s):\n",
    "    # 轉小寫並只保留字母數字\n",
    "    cleaned = ''.join(c.lower() for c in s if c.isalnum())\n",
    "    # 比較與反轉\n",
    "    return cleaned == cleaned[::-1]\n",
    "\n",
    "# 測試\n",
    "print(is_palindrome(\"A man a plan a canal Panama\"))  # True\n",
    "print(is_palindrome(\"race a car\"))                   # False\n",
    "print(is_palindrome(\"Was it a car or a cat I saw?\")) # True"
   ],
   "outputs": []
  },
  {
   "cell_type": "markdown",
   "metadata": {},
   "source": [
    "### 練習 14：字數統計"
   ]
  },
  {
   "cell_type": "code",
   "execution_count": null,
   "metadata": {},
   "source": [
    "import string\n",
    "\n",
    "def word_frequency(text):\n",
    "    # 移除標點符號\n",
    "    translator = str.maketrans('', '', string.punctuation)\n",
    "    clean_text = text.translate(translator)\n",
    "    \n",
    "    # 分割並轉小寫\n",
    "    words = clean_text.lower().split()\n",
    "    \n",
    "    # 統計詞頻\n",
    "    freq = {}\n",
    "    for word in words:\n",
    "        freq[word] = freq.get(word, 0) + 1\n",
    "    \n",
    "    return freq\n",
    "\n",
    "# 測試\n",
    "text = \"Python is great. Python is easy.\"\n",
    "print(word_frequency(text))"
   ],
   "outputs": []
  },
  {
   "cell_type": "markdown",
   "metadata": {},
   "source": [
    "### 練習 15：縮寫產生器"
   ]
  },
  {
   "cell_type": "code",
   "execution_count": null,
   "metadata": {},
   "source": [
    "def create_acronym(phrase):\n",
    "    words = phrase.split()\n",
    "    # 只取長度 >= 3 的單字的首字母\n",
    "    acronym = ''.join(word[0].upper() for word in words if len(word) >= 3)\n",
    "    return acronym\n",
    "\n",
    "# 測試\n",
    "print(create_acronym(\"As Soon As Possible\"))      # \"ASAP\"\n",
    "print(create_acronym(\"Laugh Out Loud\"))           # \"LOL\"\n",
    "print(create_acronym(\"For Your Information\"))     # \"FYI\"\n",
    "print(create_acronym(\"Artificial Intelligence\"))  # \"AI\""
   ],
   "outputs": []
  },
  {
   "cell_type": "markdown",
   "metadata": {},
   "source": [
    "---\n",
    "\n",
    "## 課後習題解答 (04-exercises.ipynb)\n",
    "\n",
    "### Part I: 基礎題\n",
    "\n",
    "#### 習題 1：元組運算"
   ]
  },
  {
   "cell_type": "code",
   "execution_count": null,
   "metadata": {},
   "source": [
    "t1 = (1, 2, 3)\n",
    "t2 = (4, 5, 6)\n",
    "\n",
    "# 1. 連接\n",
    "combined = t1 + t2\n",
    "print(f\"連接：{combined}\")\n",
    "\n",
    "# 2. 重複\n",
    "repeated = t1 * 3\n",
    "print(f\"重複：{repeated}\")\n",
    "\n",
    "# 3. 最大值和最小值\n",
    "all_nums = t1 + t2\n",
    "print(f\"最大值：{max(all_nums)}\")\n",
    "print(f\"最小值：{min(all_nums)}\")\n",
    "\n",
    "# 4. 總和\n",
    "total = sum(t1) + sum(t2)\n",
    "print(f\"總和：{total}\")"
   ],
   "outputs": []
  },
  {
   "cell_type": "markdown",
   "metadata": {},
   "source": [
    "#### 習題 2：交換變數"
   ]
  },
  {
   "cell_type": "code",
   "execution_count": null,
   "metadata": {},
   "source": [
    "a, b, c = 1, 2, 3\n",
    "print(f\"交換前：a={a}, b={b}, c={c}\")\n",
    "\n",
    "# 循環右移\n",
    "a, b, c = c, a, b\n",
    "\n",
    "print(f\"交換後：a={a}, b={b}, c={c}\")"
   ],
   "outputs": []
  },
  {
   "cell_type": "markdown",
   "metadata": {},
   "source": [
    "#### 習題 3：字串切片技巧"
   ]
  },
  {
   "cell_type": "code",
   "execution_count": null,
   "metadata": {},
   "source": [
    "s = \"abcdefghij\"\n",
    "\n",
    "# 1. 奇數索引\n",
    "odd = s[1::2]\n",
    "print(f\"奇數索引：{odd}\")  # \"bdfhj\"\n",
    "\n",
    "# 2. 第 3 到第 7 個\n",
    "middle = s[2:7]\n",
    "print(f\"第3-7個：{middle}\")  # \"cdefg\"\n",
    "\n",
    "# 3. 反轉\n",
    "reversed_s = s[::-1]\n",
    "print(f\"反轉：{reversed_s}\")  # \"jihgfedcba\"\n",
    "\n",
    "# 4. 每隔2個取一個並反轉\n",
    "step_reversed = s[::-2]\n",
    "print(f\"步長-2：{step_reversed}\")  # \"jhfdb\""
   ],
   "outputs": []
  },
  {
   "cell_type": "markdown",
   "metadata": {},
   "source": [
    "#### 習題 4：移除空白"
   ]
  },
  {
   "cell_type": "code",
   "execution_count": null,
   "metadata": {},
   "source": [
    "def clean_input(text):\n",
    "    return ' '.join(text.split())\n",
    "\n",
    "# 測試\n",
    "print(repr(clean_input(\"  hello   world  \")))  # \"hello world\""
   ],
   "outputs": []
  },
  {
   "cell_type": "markdown",
   "metadata": {},
   "source": [
    "#### 習題 5：字串包含檢查"
   ]
  },
  {
   "cell_type": "code",
   "execution_count": null,
   "metadata": {},
   "source": [
    "def contains_any(text, keywords):\n",
    "    text_lower = text.lower()\n",
    "    return any(keyword.lower() in text_lower for keyword in keywords)\n",
    "\n",
    "# 測試\n",
    "print(contains_any(\"Python is great\", [\"python\", \"java\"]))  # True\n",
    "print(contains_any(\"Hello World\", [\"python\", \"java\"]))     # False"
   ],
   "outputs": []
  },
  {
   "cell_type": "markdown",
   "metadata": {},
   "source": [
    "#### 習題 6：計數字元"
   ]
  },
  {
   "cell_type": "code",
   "execution_count": null,
   "metadata": {},
   "source": [
    "def count_chars(text):\n",
    "    letters = sum(1 for c in text if c.isalpha())\n",
    "    digits = sum(1 for c in text if c.isdigit())\n",
    "    spaces = sum(1 for c in text if c.isspace())\n",
    "    others = len(text) - letters - digits - spaces\n",
    "    return (letters, digits, spaces, others)\n",
    "\n",
    "# 測試\n",
    "print(count_chars(\"Hello 123!\"))  # (5, 3, 1, 1)"
   ],
   "outputs": []
  },
  {
   "cell_type": "markdown",
   "metadata": {},
   "source": [
    "#### 習題 7：補零格式化"
   ]
  },
  {
   "cell_type": "code",
   "execution_count": null,
   "metadata": {},
   "source": [
    "def format_id(number):\n",
    "    return str(number).zfill(5)\n",
    "\n",
    "# 測試\n",
    "print(format_id(1))     # \"00001\"\n",
    "print(format_id(42))    # \"00042\"\n",
    "print(format_id(9999))  # \"09999\""
   ],
   "outputs": []
  },
  {
   "cell_type": "markdown",
   "metadata": {},
   "source": [
    "#### 習題 8：檔案副檔名"
   ]
  },
  {
   "cell_type": "code",
   "execution_count": null,
   "metadata": {},
   "source": [
    "def get_extension(filename):\n",
    "    if '.' in filename:\n",
    "        return filename.split('.')[-1]\n",
    "    return \"\"\n",
    "\n",
    "# 測試\n",
    "print(get_extension(\"report.pdf\"))      # \"pdf\"\n",
    "print(get_extension(\"image.png\"))       # \"png\"\n",
    "print(get_extension(\"data.tar.gz\"))     # \"gz\"\n",
    "print(get_extension(\"noextension\"))     # \"\""
   ],
   "outputs": []
  },
  {
   "cell_type": "markdown",
   "metadata": {},
   "source": [
    "### Part II: 中階題\n",
    "\n",
    "#### 習題 9：電話號碼格式化"
   ]
  },
  {
   "cell_type": "code",
   "execution_count": null,
   "metadata": {},
   "source": [
    "def format_phone(phone):\n",
    "    # 移除所有非數字字元\n",
    "    digits = ''.join(c for c in phone if c.isdigit())\n",
    "    # 格式化為 0912-345-678\n",
    "    return f\"{digits[:4]}-{digits[4:7]}-{digits[7:]}\"\n",
    "\n",
    "# 測試\n",
    "print(format_phone(\"0912345678\"))   # \"0912-345-678\"\n",
    "print(format_phone(\"0912-345678\"))  # \"0912-345-678\""
   ],
   "outputs": []
  },
  {
   "cell_type": "markdown",
   "metadata": {},
   "source": [
    "#### 習題 10：標題縮寫"
   ]
  },
  {
   "cell_type": "code",
   "execution_count": null,
   "metadata": {},
   "source": [
    "def title_case(text):\n",
    "    small_words = {'a', 'an', 'the', 'and', 'or', 'but', 'of', 'in', 'on', 'at'}\n",
    "    words = text.split()\n",
    "    result = []\n",
    "    \n",
    "    for i, word in enumerate(words):\n",
    "        if i == 0 or word.lower() not in small_words:\n",
    "            result.append(word.capitalize())\n",
    "        else:\n",
    "            result.append(word.lower())\n",
    "    \n",
    "    return ' '.join(result)\n",
    "\n",
    "# 測試\n",
    "print(title_case(\"the lord of the rings\"))  # \"The Lord of the Rings\""
   ],
   "outputs": []
  },
  {
   "cell_type": "markdown",
   "metadata": {},
   "source": [
    "#### 習題 11：解析全名"
   ]
  },
  {
   "cell_type": "code",
   "execution_count": null,
   "metadata": {},
   "source": [
    "def parse_name(full_name):\n",
    "    parts = full_name.split()\n",
    "    last_name = parts[-1]\n",
    "    first_name = ' '.join(parts[:-1])\n",
    "    return (first_name, last_name)\n",
    "\n",
    "# 測試\n",
    "print(parse_name(\"John Smith\"))        # (\"John\", \"Smith\")\n",
    "print(parse_name(\"John Paul Smith\"))   # (\"John Paul\", \"Smith\")"
   ],
   "outputs": []
  },
  {
   "cell_type": "markdown",
   "metadata": {},
   "source": [
    "#### 習題 12：隱藏敏感資訊"
   ]
  },
  {
   "cell_type": "code",
   "execution_count": null,
   "metadata": {},
   "source": [
    "def mask_credit_card(card_number):\n",
    "    return f\"{card_number[:4]}-****-****-{card_number[-4:]}\"\n",
    "\n",
    "# 測試\n",
    "print(mask_credit_card(\"1234567890123456\"))  # \"1234-****-****-3456\""
   ],
   "outputs": []
  },
  {
   "cell_type": "markdown",
   "metadata": {},
   "source": [
    "#### 習題 13：移除重複空白行"
   ]
  },
  {
   "cell_type": "code",
   "execution_count": null,
   "metadata": {},
   "source": [
    "def remove_blank_lines(text):\n",
    "    lines = text.splitlines()\n",
    "    non_blank = [line for line in lines if line.strip()]\n",
    "    return '\\n'.join(non_blank)\n",
    "\n",
    "# 測試\n",
    "text = \"\"\"Line 1\n",
    "\n",
    "Line 2\n",
    "\n",
    "\n",
    "Line 3\"\"\"\n",
    "print(repr(remove_blank_lines(text)))"
   ],
   "outputs": []
  },
  {
   "cell_type": "markdown",
   "metadata": {},
   "source": [
    "#### 習題 14：單字出現位置"
   ]
  },
  {
   "cell_type": "code",
   "execution_count": null,
   "metadata": {},
   "source": [
    "def find_word_positions(text, word):\n",
    "    positions = []\n",
    "    text_lower = text.lower()\n",
    "    word_lower = word.lower()\n",
    "    start = 0\n",
    "    \n",
    "    while True:\n",
    "        pos = text_lower.find(word_lower, start)\n",
    "        if pos == -1:\n",
    "            break\n",
    "        positions.append(pos)\n",
    "        start = pos + 1\n",
    "    \n",
    "    return positions\n",
    "\n",
    "# 測試\n",
    "print(find_word_positions(\"Python is great. Python is easy.\", \"python\"))"
   ],
   "outputs": []
  },
  {
   "cell_type": "markdown",
   "metadata": {},
   "source": [
    "#### 習題 15：產生 Slug"
   ]
  },
  {
   "cell_type": "code",
   "execution_count": null,
   "metadata": {},
   "source": [
    "def create_slug(title):\n",
    "    # 轉小寫\n",
    "    slug = title.lower()\n",
    "    # 空白轉連字號\n",
    "    slug = slug.replace(' ', '-')\n",
    "    # 只保留字母數字和連字號\n",
    "    slug = ''.join(c for c in slug if c.isalnum() or c == '-')\n",
    "    return slug\n",
    "\n",
    "# 測試\n",
    "print(create_slug(\"Hello World!\"))        # \"hello-world\"\n",
    "print(create_slug(\"Python 101: Basics\"))  # \"python-101-basics\""
   ],
   "outputs": []
  },
  {
   "cell_type": "markdown",
   "metadata": {},
   "source": [
    "#### 習題 16：CSV 行產生器"
   ]
  },
  {
   "cell_type": "code",
   "execution_count": null,
   "metadata": {},
   "source": [
    "def to_csv_line(data):\n",
    "    fields = []\n",
    "    for item in data:\n",
    "        s = str(item)\n",
    "        if ',' in s:\n",
    "            fields.append(f'\"{s}\"')\n",
    "        else:\n",
    "            fields.append(s)\n",
    "    return ','.join(fields)\n",
    "\n",
    "# 測試\n",
    "print(to_csv_line((\"Alice\", 25, \"Taipei\")))\n",
    "print(to_csv_line((\"Bob\", 30, \"New York, USA\")))"
   ],
   "outputs": []
  },
  {
   "cell_type": "markdown",
   "metadata": {},
   "source": [
    "### Part III: 挑戰題\n",
    "\n",
    "#### 習題 17：文字加密解密"
   ]
  },
  {
   "cell_type": "code",
   "execution_count": null,
   "metadata": {},
   "source": [
    "def encrypt(text, shift):\n",
    "    result = []\n",
    "    for char in text:\n",
    "        if char.isupper():\n",
    "            shifted = chr((ord(char) - ord('A') + shift) % 26 + ord('A'))\n",
    "            result.append(shifted)\n",
    "        elif char.islower():\n",
    "            shifted = chr((ord(char) - ord('a') + shift) % 26 + ord('a'))\n",
    "            result.append(shifted)\n",
    "        else:\n",
    "            result.append(char)\n",
    "    return ''.join(result)\n",
    "\n",
    "def decrypt(text, shift):\n",
    "    return encrypt(text, -shift)\n",
    "\n",
    "# 測試\n",
    "encrypted = encrypt(\"Hello, World!\", 3)\n",
    "print(f\"加密：{encrypted}\")\n",
    "decrypted = decrypt(encrypted, 3)\n",
    "print(f\"解密：{decrypted}\")"
   ],
   "outputs": []
  },
  {
   "cell_type": "markdown",
   "metadata": {},
   "source": [
    "#### 習題 18：最長公共前綴"
   ]
  },
  {
   "cell_type": "code",
   "execution_count": null,
   "metadata": {},
   "source": [
    "def longest_common_prefix(strings):\n",
    "    if not strings:\n",
    "        return \"\"\n",
    "    \n",
    "    # 以第一個字串為基準\n",
    "    prefix = strings[0]\n",
    "    \n",
    "    for s in strings[1:]:\n",
    "        # 縮短 prefix 直到匹配\n",
    "        while not s.startswith(prefix):\n",
    "            prefix = prefix[:-1]\n",
    "            if not prefix:\n",
    "                return \"\"\n",
    "    \n",
    "    return prefix\n",
    "\n",
    "# 測試\n",
    "print(longest_common_prefix([\"flower\", \"flow\", \"flight\"]))  # \"fl\"\n",
    "print(longest_common_prefix([\"dog\", \"racecar\", \"car\"]))     # \"\""
   ],
   "outputs": []
  },
  {
   "cell_type": "markdown",
   "metadata": {},
   "source": [
    "#### 習題 19：智慧分行"
   ]
  },
  {
   "cell_type": "code",
   "execution_count": null,
   "metadata": {},
   "source": [
    "def wrap_text(text, width):\n",
    "    words = text.split()\n",
    "    lines = []\n",
    "    current_line = []\n",
    "    current_length = 0\n",
    "    \n",
    "    for word in words:\n",
    "        word_length = len(word)\n",
    "        # 加上空白的長度\n",
    "        if current_line:\n",
    "            needed_length = current_length + 1 + word_length\n",
    "        else:\n",
    "            needed_length = word_length\n",
    "        \n",
    "        if needed_length <= width:\n",
    "            current_line.append(word)\n",
    "            current_length = needed_length\n",
    "        else:\n",
    "            if current_line:\n",
    "                lines.append(' '.join(current_line))\n",
    "            current_line = [word]\n",
    "            current_length = word_length\n",
    "    \n",
    "    if current_line:\n",
    "        lines.append(' '.join(current_line))\n",
    "    \n",
    "    return lines\n",
    "\n",
    "# 測試\n",
    "result = wrap_text(\"Python is a programming language\", 15)\n",
    "for line in result:\n",
    "    print(f\"'{line}'\")"
   ],
   "outputs": []
  },
  {
   "cell_type": "markdown",
   "metadata": {},
   "source": [
    "#### 習題 20：模板字串替換"
   ]
  },
  {
   "cell_type": "code",
   "execution_count": null,
   "metadata": {},
   "source": [
    "def render_template(template, data):\n",
    "    result = template\n",
    "    for key, value in data.items():\n",
    "        placeholder = f\"{{{{{key}}}}}\"\n",
    "        result = result.replace(placeholder, str(value))\n",
    "    return result\n",
    "\n",
    "# 測試\n",
    "template = \"Hello {{name}}, you are {{age}} years old.\"\n",
    "data = {\"name\": \"Alice\", \"age\": \"25\"}\n",
    "print(render_template(template, data))"
   ],
   "outputs": []
  },
  {
   "cell_type": "markdown",
   "metadata": {},
   "source": [
    "---\n",
    "\n",
    "## 學習總結\n",
    "\n",
    "### 元組重點技巧\n",
    "\n",
    "1. **元組解包**：\n",
    "   ```python\n",
    "   x, y = (1, 2)\n",
    "   first, *rest, last = (1, 2, 3, 4, 5)\n",
    "   ```\n",
    "\n",
    "2. **函式多回傳值**：\n",
    "   ```python\n",
    "   def get_stats():\n",
    "       return min_val, max_val, avg\n",
    "   ```\n",
    "\n",
    "3. **不可變性的應用**：\n",
    "   - 字典的鍵\n",
    "   - 常數資料\n",
    "   - 資料保護\n",
    "\n",
    "### 字串重點技巧\n",
    "\n",
    "1. **切片技巧**：\n",
    "   ```python\n",
    "   s[::-1]   # 反轉\n",
    "   s[::2]    # 間隔取值\n",
    "   s[1:-1]   # 去除首尾\n",
    "   ```\n",
    "\n",
    "2. **常用方法組合**：\n",
    "   ```python\n",
    "   ' '.join(text.split())  # 移除多餘空白\n",
    "   text.strip().lower()    # 清理並統一大小寫\n",
    "   ```\n",
    "\n",
    "3. **格式化輸出**：\n",
    "   ```python\n",
    "   f\"{name:<10}\"     # 靠左對齊\n",
    "   f\"{value:>10}\"    # 靠右對齊\n",
    "   f\"{num:05d}\"      # 補零\n",
    "   ```\n",
    "\n",
    "### 最佳實踐\n",
    "\n",
    "1. 優先使用 f-string 格式化\n",
    "2. 大量字串拼接用 `join()` 而非 `+`\n",
    "3. 使用元組解包簡化程式碼\n",
    "4. 不區分大小寫比較用 `lower()`\n",
    "5. 優先使用 `find()` 而非 `index()`（避免異常）\n",
    "\n",
    "---\n",
    "\n",
    "**恭喜完成 Chapter 8！繼續前往 `quiz.ipynb` 測驗學習成果！**"
   ]
  }
 ],
 "metadata": {
  "kernelspec": {
   "display_name": "Python 3",
   "language": "python",
   "name": "python3"
  },
  "language_info": {
   "codemirror_mode": {
    "name": "ipython",
    "version": 3
   },
   "file_extension": ".py",
   "mimetype": "text/x-python",
   "name": "python",
   "nbconvert_exporter": "python",
   "pygments_lexer": "ipython3",
   "version": "3.11.0"
  }
 },
 "nbformat": 4,
 "nbformat_minor": 4
}
