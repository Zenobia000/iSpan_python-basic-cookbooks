{
 "cells": [
  {
   "cell_type": "markdown",
   "metadata": {},
   "source": [
    "# Chapter 8: Exercises - 課後習題\n",
    "\n",
    "本檔案包含 20 題課後習題，全面測試元組與字串的應用能力。\n",
    "\n",
    "**難度分布**：\n",
    "- Part I: 基礎題（1-8）\n",
    "- Part II: 中階題（9-16）\n",
    "- Part III: 挑戰題（17-20）\n",
    "\n",
    "**作答要求**：\n",
    "- 獨立完成所有習題\n",
    "- 測試程式碼確保正確性\n",
    "- 完成後參考 `05-solutions.ipynb` 對照答案\n",
    "\n",
    "---"
   ]
  },
  {
   "cell_type": "markdown",
   "metadata": {},
   "source": [
    "## Part I: 基礎題 (1-8)\n",
    "\n",
    "### 習題 1：元組運算\n",
    "\n",
    "**題目**：\n",
    "給定兩個元組：\n",
    "```python\n",
    "t1 = (1, 2, 3)\n",
    "t2 = (4, 5, 6)\n",
    "```\n",
    "\n",
    "完成以下操作：\n",
    "1. 連接兩個元組\n",
    "2. 將 `t1` 重複 3 次\n",
    "3. 找出兩個元組的最大值和最小值\n",
    "4. 計算兩個元組的總和"
   ]
  },
  {
   "cell_type": "code",
   "execution_count": null,
   "metadata": {},
   "source": [
    "t1 = (1, 2, 3)\n",
    "t2 = (4, 5, 6)\n",
    "\n",
    "# 在此處撰寫程式碼\n"
   ],
   "outputs": []
  },
  {
   "cell_type": "markdown",
   "metadata": {},
   "source": [
    "### 習題 2：交換變數\n",
    "\n",
    "**題目**：\n",
    "使用元組解包，一行程式碼同時完成以下交換：\n",
    "```python\n",
    "a, b, c = 1, 2, 3\n",
    "# 交換後：a=2, b=3, c=1 (循環右移)\n",
    "```"
   ]
  },
  {
   "cell_type": "code",
   "execution_count": null,
   "metadata": {},
   "source": [
    "a, b, c = 1, 2, 3\n",
    "print(f\"交換前：a={a}, b={b}, c={c}\")\n",
    "\n",
    "# 在此處撰寫一行程式碼\n",
    "\n",
    "print(f\"交換後：a={a}, b={b}, c={c}\")"
   ],
   "outputs": []
  },
  {
   "cell_type": "markdown",
   "metadata": {},
   "source": [
    "### 習題 3：字串切片技巧\n",
    "\n",
    "**題目**：\n",
    "給定字串 `s = \"abcdefghij\"`，使用切片完成：\n",
    "1. 取得奇數索引的字元 (\"bdfhj\")\n",
    "2. 取得第 3 到第 7 個字元 (\"cdefg\")\n",
    "3. 反轉字串 (\"jihgfedcba\")\n",
    "4. 每隔 2 個取一個，並反轉 (\"jhfdb\")"
   ]
  },
  {
   "cell_type": "code",
   "execution_count": null,
   "metadata": {},
   "source": [
    "s = \"abcdefghij\"\n",
    "\n",
    "# 在此處撰寫程式碼\n"
   ],
   "outputs": []
  },
  {
   "cell_type": "markdown",
   "metadata": {},
   "source": [
    "### 習題 4：移除空白\n",
    "\n",
    "**題目**：\n",
    "寫一個函式 `clean_input(text)`，清理使用者輸入：\n",
    "- 去除前後空白\n",
    "- 將多個連續空白替換為單一空白\n",
    "\n",
    "**測試**：\n",
    "```python\n",
    "clean_input(\"  hello   world  \")  # \"hello world\"\n",
    "```"
   ]
  },
  {
   "cell_type": "code",
   "execution_count": null,
   "metadata": {},
   "source": [
    "def clean_input(text):\n",
    "    # 在此處撰寫程式碼\n",
    "    pass\n",
    "\n",
    "# 測試\n",
    "print(repr(clean_input(\"  hello   world  \")))"
   ],
   "outputs": []
  },
  {
   "cell_type": "markdown",
   "metadata": {},
   "source": [
    "### 習題 5：字串包含檢查\n",
    "\n",
    "**題目**：\n",
    "寫一個函式 `contains_any(text, keywords)`，檢查文字是否包含任一關鍵字。\n",
    "- 不區分大小寫\n",
    "\n",
    "**測試**：\n",
    "```python\n",
    "contains_any(\"Python is great\", [\"python\", \"java\"])  # True\n",
    "contains_any(\"Hello World\", [\"python\", \"java\"])     # False\n",
    "```"
   ]
  },
  {
   "cell_type": "code",
   "execution_count": null,
   "metadata": {},
   "source": [
    "def contains_any(text, keywords):\n",
    "    # 在此處撰寫程式碼\n",
    "    pass\n",
    "\n",
    "# 測試\n",
    "print(contains_any(\"Python is great\", [\"python\", \"java\"]))\n",
    "print(contains_any(\"Hello World\", [\"python\", \"java\"]))"
   ],
   "outputs": []
  },
  {
   "cell_type": "markdown",
   "metadata": {},
   "source": [
    "### 習題 6：計數字元\n",
    "\n",
    "**題目**：\n",
    "寫一個函式 `count_chars(text)`，返回元組 `(字母數, 數字數, 空白數, 其他字元數)`。\n",
    "\n",
    "**測試**：\n",
    "```python\n",
    "count_chars(\"Hello 123!\")  # (5, 3, 1, 1)\n",
    "```"
   ]
  },
  {
   "cell_type": "code",
   "execution_count": null,
   "metadata": {},
   "source": [
    "def count_chars(text):\n",
    "    # 在此處撰寫程式碼\n",
    "    pass\n",
    "\n",
    "# 測試\n",
    "print(count_chars(\"Hello 123!\"))"
   ],
   "outputs": []
  },
  {
   "cell_type": "markdown",
   "metadata": {},
   "source": [
    "### 習題 7：補零格式化\n",
    "\n",
    "**題目**：\n",
    "寫一個函式 `format_id(number)`，將數字格式化為 5 位數的 ID（前面補零）。\n",
    "\n",
    "**測試**：\n",
    "```python\n",
    "format_id(1)    # \"00001\"\n",
    "format_id(42)   # \"00042\"\n",
    "format_id(9999) # \"09999\"\n",
    "```"
   ]
  },
  {
   "cell_type": "code",
   "execution_count": null,
   "metadata": {},
   "source": [
    "def format_id(number):\n",
    "    # 在此處撰寫程式碼\n",
    "    pass\n",
    "\n",
    "# 測試\n",
    "print(format_id(1))\n",
    "print(format_id(42))\n",
    "print(format_id(9999))"
   ],
   "outputs": []
  },
  {
   "cell_type": "markdown",
   "metadata": {},
   "source": [
    "### 習題 8：檔案副檔名\n",
    "\n",
    "**題目**：\n",
    "寫一個函式 `get_extension(filename)`，取得檔案的副檔名。\n",
    "\n",
    "**測試**：\n",
    "```python\n",
    "get_extension(\"report.pdf\")      # \"pdf\"\n",
    "get_extension(\"image.png\")       # \"png\"\n",
    "get_extension(\"data.tar.gz\")     # \"gz\"\n",
    "get_extension(\"noextension\")     # \"\"\n",
    "```"
   ]
  },
  {
   "cell_type": "code",
   "execution_count": null,
   "metadata": {},
   "source": [
    "def get_extension(filename):\n",
    "    # 在此處撰寫程式碼\n",
    "    pass\n",
    "\n",
    "# 測試\n",
    "print(get_extension(\"report.pdf\"))\n",
    "print(get_extension(\"image.png\"))\n",
    "print(get_extension(\"data.tar.gz\"))\n",
    "print(get_extension(\"noextension\"))"
   ],
   "outputs": []
  },
  {
   "cell_type": "markdown",
   "metadata": {},
   "source": [
    "---\n",
    "\n",
    "## Part II: 中階題 (9-16)\n",
    "\n",
    "### 習題 9：電話號碼格式化\n",
    "\n",
    "**題目**：\n",
    "寫一個函式 `format_phone(phone)`，將電話號碼標準化為 `0912-345-678` 格式。\n",
    "- 輸入可能是 \"0912345678\" 或 \"0912-345678\" 等\n",
    "\n",
    "**測試**：\n",
    "```python\n",
    "format_phone(\"0912345678\")   # \"0912-345-678\"\n",
    "format_phone(\"0912-345678\")  # \"0912-345-678\"\n",
    "```"
   ]
  },
  {
   "cell_type": "code",
   "execution_count": null,
   "metadata": {},
   "source": [
    "def format_phone(phone):\n",
    "    # 在此處撰寫程式碼\n",
    "    pass\n",
    "\n",
    "# 測試\n",
    "print(format_phone(\"0912345678\"))\n",
    "print(format_phone(\"0912-345678\"))"
   ],
   "outputs": []
  },
  {
   "cell_type": "markdown",
   "metadata": {},
   "source": [
    "### 習題 10：標題縮寫\n",
    "\n",
    "**題目**：\n",
    "寫一個函式 `title_case(text)`，將文字轉為標題格式：\n",
    "- 每個單字首字母大寫\n",
    "- 但 \"a\", \"an\", \"the\", \"and\", \"or\", \"but\" 等小字保持小寫（除非在開頭）\n",
    "\n",
    "**測試**：\n",
    "```python\n",
    "title_case(\"the lord of the rings\")  # \"The Lord of the Rings\"\n",
    "```"
   ]
  },
  {
   "cell_type": "code",
   "execution_count": null,
   "metadata": {},
   "source": [
    "def title_case(text):\n",
    "    # 在此處撰寫程式碼\n",
    "    pass\n",
    "\n",
    "# 測試\n",
    "print(title_case(\"the lord of the rings\"))"
   ],
   "outputs": []
  },
  {
   "cell_type": "markdown",
   "metadata": {},
   "source": [
    "### 習題 11：解析全名\n",
    "\n",
    "**題目**：\n",
    "寫一個函式 `parse_name(full_name)`，將全名分割為 `(first_name, last_name)`。\n",
    "- 假設格式為 \"First Last\" 或 \"First Middle Last\"\n",
    "- 如果有中間名，將其併入 first_name\n",
    "\n",
    "**測試**：\n",
    "```python\n",
    "parse_name(\"John Smith\")         # (\"John\", \"Smith\")\n",
    "parse_name(\"John Paul Smith\")    # (\"John Paul\", \"Smith\")\n",
    "```"
   ]
  },
  {
   "cell_type": "code",
   "execution_count": null,
   "metadata": {},
   "source": [
    "def parse_name(full_name):\n",
    "    # 在此處撰寫程式碼\n",
    "    pass\n",
    "\n",
    "# 測試\n",
    "print(parse_name(\"John Smith\"))\n",
    "print(parse_name(\"John Paul Smith\"))"
   ],
   "outputs": []
  },
  {
   "cell_type": "markdown",
   "metadata": {},
   "source": [
    "### 習題 12：隱藏敏感資訊\n",
    "\n",
    "**題目**：\n",
    "寫一個函式 `mask_credit_card(card_number)`，隱藏信用卡號碼的中間數字。\n",
    "- 只顯示前 4 碼和後 4 碼\n",
    "- 中間用 `****` 代替\n",
    "\n",
    "**測試**：\n",
    "```python\n",
    "mask_credit_card(\"1234567890123456\")  # \"1234-****-****-3456\"\n",
    "```"
   ]
  },
  {
   "cell_type": "code",
   "execution_count": null,
   "metadata": {},
   "source": [
    "def mask_credit_card(card_number):\n",
    "    # 在此處撰寫程式碼\n",
    "    pass\n",
    "\n",
    "# 測試\n",
    "print(mask_credit_card(\"1234567890123456\"))"
   ],
   "outputs": []
  },
  {
   "cell_type": "markdown",
   "metadata": {},
   "source": [
    "### 習題 13：移除重複空白行\n",
    "\n",
    "**題目**：\n",
    "寫一個函式 `remove_blank_lines(text)`，移除文字中的空白行。\n",
    "\n",
    "**測試**：\n",
    "```python\n",
    "text = \"\"\"Line 1\n",
    "\n",
    "Line 2\n",
    "\n",
    "\n",
    "Line 3\"\"\"\n",
    "remove_blank_lines(text)\n",
    "# \"Line 1\\nLine 2\\nLine 3\"\n",
    "```"
   ]
  },
  {
   "cell_type": "code",
   "execution_count": null,
   "metadata": {},
   "source": [
    "def remove_blank_lines(text):\n",
    "    # 在此處撰寫程式碼\n",
    "    pass\n",
    "\n",
    "# 測試\n",
    "text = \"\"\"Line 1\n",
    "\n",
    "Line 2\n",
    "\n",
    "\n",
    "Line 3\"\"\"\n",
    "print(repr(remove_blank_lines(text)))"
   ],
   "outputs": []
  },
  {
   "cell_type": "markdown",
   "metadata": {},
   "source": [
    "### 習題 14：單字出現位置\n",
    "\n",
    "**題目**：\n",
    "寫一個函式 `find_word_positions(text, word)`，找出單字在文字中所有出現的位置（索引）。\n",
    "- 不區分大小寫\n",
    "- 返回索引列表\n",
    "\n",
    "**測試**：\n",
    "```python\n",
    "find_word_positions(\"Python is great. Python is easy.\", \"python\")\n",
    "# [0, 17]\n",
    "```"
   ]
  },
  {
   "cell_type": "code",
   "execution_count": null,
   "metadata": {},
   "source": [
    "def find_word_positions(text, word):\n",
    "    # 在此處撰寫程式碼\n",
    "    pass\n",
    "\n",
    "# 測試\n",
    "print(find_word_positions(\"Python is great. Python is easy.\", \"python\"))"
   ],
   "outputs": []
  },
  {
   "cell_type": "markdown",
   "metadata": {},
   "source": [
    "### 習題 15：產生 Slug\n",
    "\n",
    "**題目**：\n",
    "寫一個函式 `create_slug(title)`，將標題轉為 URL slug：\n",
    "- 轉小寫\n",
    "- 空白替換為連字號 `-`\n",
    "- 移除特殊字元（只保留字母、數字、連字號）\n",
    "\n",
    "**測試**：\n",
    "```python\n",
    "create_slug(\"Hello World!\")           # \"hello-world\"\n",
    "create_slug(\"Python 101: Basics\")     # \"python-101-basics\"\n",
    "```"
   ]
  },
  {
   "cell_type": "code",
   "execution_count": null,
   "metadata": {},
   "source": [
    "def create_slug(title):\n",
    "    # 在此處撰寫程式碼\n",
    "    pass\n",
    "\n",
    "# 測試\n",
    "print(create_slug(\"Hello World!\"))\n",
    "print(create_slug(\"Python 101: Basics\"))"
   ],
   "outputs": []
  },
  {
   "cell_type": "markdown",
   "metadata": {},
   "source": [
    "### 習題 16：CSV 行產生器\n",
    "\n",
    "**題目**：\n",
    "寫一個函式 `to_csv_line(data)`，將元組或列表轉為 CSV 格式的字串。\n",
    "- 欄位用逗號分隔\n",
    "- 如果欄位包含逗號，用雙引號包圍\n",
    "\n",
    "**測試**：\n",
    "```python\n",
    "to_csv_line((\"Alice\", 25, \"Taipei\"))           # \"Alice,25,Taipei\"\n",
    "to_csv_line((\"Bob\", 30, \"New York, USA\"))      # \"Bob,30,\\\"New York, USA\\\"\"\n",
    "```"
   ]
  },
  {
   "cell_type": "code",
   "execution_count": null,
   "metadata": {},
   "source": [
    "def to_csv_line(data):\n",
    "    # 在此處撰寫程式碼\n",
    "    pass\n",
    "\n",
    "# 測試\n",
    "print(to_csv_line((\"Alice\", 25, \"Taipei\")))\n",
    "print(to_csv_line((\"Bob\", 30, \"New York, USA\")))"
   ],
   "outputs": []
  },
  {
   "cell_type": "markdown",
   "metadata": {},
   "source": [
    "---\n",
    "\n",
    "## Part III: 挑戰題 (17-20)\n",
    "\n",
    "### 習題 17：文字加密解密\n",
    "\n",
    "**題目**：\n",
    "實作凱薩加密（Caesar Cipher）：\n",
    "1. `encrypt(text, shift)` - 加密文字（每個字母右移 shift 位）\n",
    "2. `decrypt(text, shift)` - 解密文字\n",
    "\n",
    "**規則**：\n",
    "- 只加密字母，保留大小寫\n",
    "- 非字母字元不變\n",
    "\n",
    "**測試**：\n",
    "```python\n",
    "encrypt(\"Hello, World!\", 3)  # \"Khoor, Zruog!\"\n",
    "decrypt(\"Khoor, Zruog!\", 3)  # \"Hello, World!\"\n",
    "```"
   ]
  },
  {
   "cell_type": "code",
   "execution_count": null,
   "metadata": {},
   "source": [
    "def encrypt(text, shift):\n",
    "    # 在此處撰寫程式碼\n",
    "    pass\n",
    "\n",
    "def decrypt(text, shift):\n",
    "    # 在此處撰寫程式碼\n",
    "    pass\n",
    "\n",
    "# 測試\n",
    "encrypted = encrypt(\"Hello, World!\", 3)\n",
    "print(f\"加密：{encrypted}\")\n",
    "decrypted = decrypt(encrypted, 3)\n",
    "print(f\"解密：{decrypted}\")"
   ],
   "outputs": []
  },
  {
   "cell_type": "markdown",
   "metadata": {},
   "source": [
    "### 習題 18：最長公共前綴\n",
    "\n",
    "**題目**：\n",
    "寫一個函式 `longest_common_prefix(strings)`，找出字串列表的最長公共前綴。\n",
    "\n",
    "**測試**：\n",
    "```python\n",
    "longest_common_prefix([\"flower\", \"flow\", \"flight\"])  # \"fl\"\n",
    "longest_common_prefix([\"dog\", \"racecar\", \"car\"])     # \"\"\n",
    "```"
   ]
  },
  {
   "cell_type": "code",
   "execution_count": null,
   "metadata": {},
   "source": [
    "def longest_common_prefix(strings):\n",
    "    # 在此處撰寫程式碼\n",
    "    pass\n",
    "\n",
    "# 測試\n",
    "print(longest_common_prefix([\"flower\", \"flow\", \"flight\"]))\n",
    "print(longest_common_prefix([\"dog\", \"racecar\", \"car\"]))"
   ],
   "outputs": []
  },
  {
   "cell_type": "markdown",
   "metadata": {},
   "source": [
    "### 習題 19：智慧分行\n",
    "\n",
    "**題目**：\n",
    "寫一個函式 `wrap_text(text, width)`，將文字分行，每行不超過 `width` 個字元。\n",
    "- 在單字邊界分行（不拆開單字）\n",
    "- 返回行列表\n",
    "\n",
    "**測試**：\n",
    "```python\n",
    "wrap_text(\"Python is a programming language\", 15)\n",
    "# [\"Python is a\", \"programming\", \"language\"]\n",
    "```"
   ]
  },
  {
   "cell_type": "code",
   "execution_count": null,
   "metadata": {},
   "source": [
    "def wrap_text(text, width):\n",
    "    # 在此處撰寫程式碼\n",
    "    pass\n",
    "\n",
    "# 測試\n",
    "result = wrap_text(\"Python is a programming language\", 15)\n",
    "for line in result:\n",
    "    print(f\"'{line}'\")"
   ],
   "outputs": []
  },
  {
   "cell_type": "markdown",
   "metadata": {},
   "source": [
    "### 習題 20：模板字串替換\n",
    "\n",
    "**題目**：\n",
    "寫一個函式 `render_template(template, data)`，替換模板中的變數。\n",
    "- 變數格式：`{{variable_name}}`\n",
    "- `data` 是字典，提供變數值\n",
    "\n",
    "**測試**：\n",
    "```python\n",
    "template = \"Hello {{name}}, you are {{age}} years old.\"\n",
    "data = {\"name\": \"Alice\", \"age\": \"25\"}\n",
    "render_template(template, data)\n",
    "# \"Hello Alice, you are 25 years old.\"\n",
    "```"
   ]
  },
  {
   "cell_type": "code",
   "execution_count": null,
   "metadata": {},
   "source": [
    "def render_template(template, data):\n",
    "    # 在此處撰寫程式碼\n",
    "    pass\n",
    "\n",
    "# 測試\n",
    "template = \"Hello {{name}}, you are {{age}} years old.\"\n",
    "data = {\"name\": \"Alice\", \"age\": \"25\"}\n",
    "print(render_template(template, data))"
   ],
   "outputs": []
  },
  {
   "cell_type": "markdown",
   "metadata": {},
   "source": [
    "---\n",
    "\n",
    "## 完成所有習題後\n",
    "\n",
    "恭喜完成 Chapter 8 的所有課後習題！\n",
    "\n",
    "### 下一步\n",
    "\n",
    "1. **檢查答案**：\n",
    "   - 參考 `05-solutions.ipynb` 查看完整解答\n",
    "   - 比較你的解法與標準答案\n",
    "   - 學習更優雅的寫法\n",
    "\n",
    "2. **自我測驗**：\n",
    "   - 完成 `quiz.ipynb` 的 25 題測驗\n",
    "   - 檢驗學習成效\n",
    "\n",
    "3. **複習鞏固**：\n",
    "   - 如果錯誤率高，重新閱讀 `01-lecture.ipynb`\n",
    "   - 參考 `02-worked-examples.ipynb` 學習實務技巧\n",
    "\n",
    "### 學習重點回顧\n",
    "\n",
    "**元組**：\n",
    "- 不可變序列，用於固定資料\n",
    "- 元組解包簡化程式碼\n",
    "- 函式多回傳值\n",
    "- 可作為字典的鍵\n",
    "\n",
    "**字串**：\n",
    "- 字元的不可變序列\n",
    "- 豐富的內建方法\n",
    "- 切片技巧\n",
    "- 格式化輸出\n",
    "- 文字處理與驗證\n",
    "\n",
    "**下一章預告**：\n",
    "Chapter 9 將學習字典（Dictionaries）與集合（Sets），這是 Python 最強大的資料結構！\n",
    "\n",
    "---\n",
    "\n",
    "*繼續加油！完成 `quiz.ipynb` 測驗你的學習成果！*"
   ]
  }
 ],
 "metadata": {
  "kernelspec": {
   "display_name": "Python 3",
   "language": "python",
   "name": "python3"
  },
  "language_info": {
   "codemirror_mode": {
    "name": "ipython",
    "version": 3
   },
   "file_extension": ".py",
   "mimetype": "text/x-python",
   "name": "python",
   "nbconvert_exporter": "python",
   "pygments_lexer": "ipython3",
   "version": "3.11.0"
  }
 },
 "nbformat": 4,
 "nbformat_minor": 4
}
