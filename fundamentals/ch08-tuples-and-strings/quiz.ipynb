{
 "cells": [
  {
   "cell_type": "markdown",
   "metadata": {},
   "source": [
    "# Chapter 8: Quiz - 自我測驗\n",
    "\n",
    "本測驗包含 25 題，全面評估你對元組與字串的掌握程度。\n",
    "\n",
    "**測驗結構**：\n",
    "- Part A: 選擇題（1-15）\n",
    "- Part B: 填空題（16-20）\n",
    "- Part C: 程式題（21-25）\n",
    "\n",
    "**評分標準**：\n",
    "- 23-25 題正確：優秀 ⭐⭐⭐\n",
    "- 20-22 題正確：良好 ⭐⭐\n",
    "- 17-19 題正確：及格 ⭐\n",
    "- 16 題以下：需加強\n",
    "\n",
    "**作答建議**：\n",
    "1. 限時 20 分鐘完成\n",
    "2. 獨立作答，不查閱資料\n",
    "3. 完成後對照答案\n",
    "4. 錯誤題目回去複習相關章節\n",
    "\n",
    "---"
   ]
  },
  {
   "cell_type": "markdown",
   "metadata": {},
   "source": [
    "## Part A: 選擇題（每題 1 分，共 15 分）\n",
    "\n",
    "### 題目 1\n",
    "以下哪個會創建一個元組？\n",
    "\n",
    "A) `t = (1)`  \n",
    "B) `t = [1,]`  \n",
    "C) `t = (1,)`  \n",
    "D) `t = {1}`\n",
    "\n",
    "**答案：**"
   ]
  },
  {
   "cell_type": "code",
   "execution_count": null,
   "metadata": {},
   "source": [
    "# 在此處填入答案（A/B/C/D）\n",
    "answer_1 = \"\""
   ],
   "outputs": []
  },
  {
   "cell_type": "markdown",
   "metadata": {},
   "source": [
    "### 題目 2\n",
    "以下哪個操作對元組是合法的？\n",
    "\n",
    "A) `t[0] = 10`  \n",
    "B) `t.append(10)`  \n",
    "C) `t = t + (10,)`  \n",
    "D) `t.remove(10)`\n",
    "\n",
    "**答案：**"
   ]
  },
  {
   "cell_type": "code",
   "execution_count": null,
   "metadata": {},
   "source": [
    "answer_2 = \"\""
   ],
   "outputs": []
  },
  {
   "cell_type": "markdown",
   "metadata": {},
   "source": [
    "### 題目 3\n",
    "`\"Hello\"[::-1]` 的結果是什麼？\n",
    "\n",
    "A) `\"Hello\"`  \n",
    "B) `\"olleH\"`  \n",
    "C) `\"Hllo\"`  \n",
    "D) 錯誤\n",
    "\n",
    "**答案：**"
   ]
  },
  {
   "cell_type": "code",
   "execution_count": null,
   "metadata": {},
   "source": [
    "answer_3 = \"\""
   ],
   "outputs": []
  },
  {
   "cell_type": "markdown",
   "metadata": {},
   "source": [
    "### 題目 4\n",
    "`\"Python\".find(\"z\")` 的返回值是？\n",
    "\n",
    "A) `0`  \n",
    "B) `None`  \n",
    "C) `-1`  \n",
    "D) `ValueError`\n",
    "\n",
    "**答案：**"
   ]
  },
  {
   "cell_type": "code",
   "execution_count": null,
   "metadata": {},
   "source": [
    "answer_4 = \"\""
   ],
   "outputs": []
  },
  {
   "cell_type": "markdown",
   "metadata": {},
   "source": [
    "### 題目 5\n",
    "以下哪個方法會改變原字串？\n",
    "\n",
    "A) `s.upper()`  \n",
    "B) `s.replace('a', 'b')`  \n",
    "C) `s.strip()`  \n",
    "D) 以上都不會\n",
    "\n",
    "**答案：**"
   ]
  },
  {
   "cell_type": "code",
   "execution_count": null,
   "metadata": {},
   "source": [
    "answer_5 = \"\""
   ],
   "outputs": []
  },
  {
   "cell_type": "markdown",
   "metadata": {},
   "source": [
    "### 題目 6\n",
    "`\"a,b,c\".split(',')` 的結果型態是？\n",
    "\n",
    "A) 字串  \n",
    "B) 元組  \n",
    "C) 列表  \n",
    "D) 集合\n",
    "\n",
    "**答案：**"
   ]
  },
  {
   "cell_type": "code",
   "execution_count": null,
   "metadata": {},
   "source": [
    "answer_6 = \"\""
   ],
   "outputs": []
  },
  {
   "cell_type": "markdown",
   "metadata": {},
   "source": [
    "### 題目 7\n",
    "以下程式碼的輸出是什麼？\n",
    "```python\n",
    "a, b = 1, 2\n",
    "a, b = b, a\n",
    "print(a, b)\n",
    "```\n",
    "\n",
    "A) `1 2`  \n",
    "B) `2 1`  \n",
    "C) `2 2`  \n",
    "D) 錯誤\n",
    "\n",
    "**答案：**"
   ]
  },
  {
   "cell_type": "code",
   "execution_count": null,
   "metadata": {},
   "source": [
    "answer_7 = \"\""
   ],
   "outputs": []
  },
  {
   "cell_type": "markdown",
   "metadata": {},
   "source": [
    "### 題目 8\n",
    "`\"  hello  \".strip()` 的結果是？\n",
    "\n",
    "A) `\"  hello  \"`  \n",
    "B) `\"hello  \"`  \n",
    "C) `\"  hello\"`  \n",
    "D) `\"hello\"`\n",
    "\n",
    "**答案：**"
   ]
  },
  {
   "cell_type": "code",
   "execution_count": null,
   "metadata": {},
   "source": [
    "answer_8 = \"\""
   ],
   "outputs": []
  },
  {
   "cell_type": "markdown",
   "metadata": {},
   "source": [
    "### 題目 9\n",
    "`\"123\".isdigit()` 的返回值是？\n",
    "\n",
    "A) `True`  \n",
    "B) `False`  \n",
    "C) `1`  \n",
    "D) `0`\n",
    "\n",
    "**答案：**"
   ]
  },
  {
   "cell_type": "code",
   "execution_count": null,
   "metadata": {},
   "source": [
    "answer_9 = \"\""
   ],
   "outputs": []
  },
  {
   "cell_type": "markdown",
   "metadata": {},
   "source": [
    "### 題目 10\n",
    "以下哪個可以作為字典的鍵？\n",
    "\n",
    "A) `[1, 2, 3]`  \n",
    "B) `(1, 2, 3)`  \n",
    "C) `{1, 2, 3}`  \n",
    "D) `{\"a\": 1}`\n",
    "\n",
    "**答案：**"
   ]
  },
  {
   "cell_type": "code",
   "execution_count": null,
   "metadata": {},
   "source": [
    "answer_10 = \"\""
   ],
   "outputs": []
  },
  {
   "cell_type": "markdown",
   "metadata": {},
   "source": [
    "### 題目 11\n",
    "`\"-\".join([\"a\", \"b\", \"c\"])` 的結果是？\n",
    "\n",
    "A) `\"a-b-c\"`  \n",
    "B) `\"abc\"`  \n",
    "C) `[\"a-b-c\"]`  \n",
    "D) 錯誤\n",
    "\n",
    "**答案：**"
   ]
  },
  {
   "cell_type": "code",
   "execution_count": null,
   "metadata": {},
   "source": [
    "answer_11 = \"\""
   ],
   "outputs": []
  },
  {
   "cell_type": "markdown",
   "metadata": {},
   "source": [
    "### 題目 12\n",
    "以下哪個字串方法不區分大小寫？\n",
    "\n",
    "A) `find()`  \n",
    "B) `replace()`  \n",
    "C) `count()`  \n",
    "D) 以上都區分大小寫\n",
    "\n",
    "**答案：**"
   ]
  },
  {
   "cell_type": "code",
   "execution_count": null,
   "metadata": {},
   "source": [
    "answer_12 = \"\""
   ],
   "outputs": []
  },
  {
   "cell_type": "markdown",
   "metadata": {},
   "source": [
    "### 題目 13\n",
    "`(1, 2) + (3, 4)` 的結果是？\n",
    "\n",
    "A) `(4, 6)`  \n",
    "B) `(1, 2, 3, 4)`  \n",
    "C) `[(1, 2), (3, 4)]`  \n",
    "D) 錯誤\n",
    "\n",
    "**答案：**"
   ]
  },
  {
   "cell_type": "code",
   "execution_count": null,
   "metadata": {},
   "source": [
    "answer_13 = \"\""
   ],
   "outputs": []
  },
  {
   "cell_type": "markdown",
   "metadata": {},
   "source": [
    "### 題目 14\n",
    "`\"42\".zfill(5)` 的結果是？\n",
    "\n",
    "A) `\"42000\"`  \n",
    "B) `\"00042\"`  \n",
    "C) `\"42   \"`  \n",
    "D) `\"   42\"`\n",
    "\n",
    "**答案：**"
   ]
  },
  {
   "cell_type": "code",
   "execution_count": null,
   "metadata": {},
   "source": [
    "answer_14 = \"\""
   ],
   "outputs": []
  },
  {
   "cell_type": "markdown",
   "metadata": {},
   "source": [
    "### 題目 15\n",
    "以下程式碼的輸出是什麼？\n",
    "```python\n",
    "first, *rest = (1, 2, 3, 4)\n",
    "print(type(rest))\n",
    "```\n",
    "\n",
    "A) `<class 'tuple'>`  \n",
    "B) `<class 'list'>`  \n",
    "C) `<class 'str'>`  \n",
    "D) 錯誤\n",
    "\n",
    "**答案：**"
   ]
  },
  {
   "cell_type": "code",
   "execution_count": null,
   "metadata": {},
   "source": [
    "answer_15 = \"\""
   ],
   "outputs": []
  },
  {
   "cell_type": "markdown",
   "metadata": {},
   "source": [
    "---\n",
    "\n",
    "## Part B: 填空題（每題 2 分，共 10 分）\n",
    "\n",
    "### 題目 16\n",
    "完成以下程式碼，使其印出 `\"PYTHON\"`：\n",
    "```python\n",
    "s = \"python\"\n",
    "print(s.______())\n",
    "```"
   ]
  },
  {
   "cell_type": "code",
   "execution_count": null,
   "metadata": {},
   "source": [
    "# 填入方法名稱\n",
    "answer_16 = \"\""
   ],
   "outputs": []
  },
  {
   "cell_type": "markdown",
   "metadata": {},
   "source": [
    "### 題目 17\n",
    "完成以下程式碼，使其印出 `3`（\"Python\" 中 'o' 的索引）：\n",
    "```python\n",
    "s = \"Python\"\n",
    "print(s.______(\"o\"))\n",
    "```"
   ]
  },
  {
   "cell_type": "code",
   "execution_count": null,
   "metadata": {},
   "source": [
    "# 填入方法名稱\n",
    "answer_17 = \"\""
   ],
   "outputs": []
  },
  {
   "cell_type": "markdown",
   "metadata": {},
   "source": [
    "### 題目 18\n",
    "完成以下程式碼，將列表轉為字串 `\"a-b-c\"`：\n",
    "```python\n",
    "lst = [\"a\", \"b\", \"c\"]\n",
    "result = ______.join(lst)\n",
    "```"
   ]
  },
  {
   "cell_type": "code",
   "execution_count": null,
   "metadata": {},
   "source": [
    "# 填入分隔符（包含引號）\n",
    "answer_18 = \"\""
   ],
   "outputs": []
  },
  {
   "cell_type": "markdown",
   "metadata": {},
   "source": [
    "### 題目 19\n",
    "完成以下程式碼，使用元組解包交換 a 和 b：\n",
    "```python\n",
    "a, b = 10, 20\n",
    "______, ______ = b, a\n",
    "```"
   ]
  },
  {
   "cell_type": "code",
   "execution_count": null,
   "metadata": {},
   "source": [
    "# 填入變數名稱（用逗號分隔）\n",
    "answer_19 = \"\""
   ],
   "outputs": []
  },
  {
   "cell_type": "markdown",
   "metadata": {},
   "source": [
    "### 題目 20\n",
    "完成以下程式碼，反轉字串：\n",
    "```python\n",
    "s = \"Hello\"\n",
    "reversed_s = s[______]\n",
    "```"
   ]
  },
  {
   "cell_type": "code",
   "execution_count": null,
   "metadata": {},
   "source": [
    "# 填入切片參數\n",
    "answer_20 = \"\""
   ],
   "outputs": []
  },
  {
   "cell_type": "markdown",
   "metadata": {},
   "source": [
    "---\n",
    "\n",
    "## Part C: 程式題（每題 3 分，共 15 分）\n",
    "\n",
    "### 題目 21\n",
    "寫一個函式 `swap_case(s)`，將字串的大小寫互換。\n",
    "\n",
    "**範例**：\n",
    "```python\n",
    "swap_case(\"Hello\")  # \"hELLO\"\n",
    "```"
   ]
  },
  {
   "cell_type": "code",
   "execution_count": null,
   "metadata": {},
   "source": [
    "def swap_case(s):\n",
    "    # 在此處撰寫程式碼\n",
    "    pass\n",
    "\n",
    "# 測試\n",
    "print(swap_case(\"Hello\"))  # 應輸出 \"hELLO\""
   ],
   "outputs": []
  },
  {
   "cell_type": "markdown",
   "metadata": {},
   "source": [
    "### 題目 22\n",
    "寫一個函式 `count_vowels(s)`，計算字串中母音字母（a, e, i, o, u）的數量。\n",
    "- 不區分大小寫\n",
    "\n",
    "**範例**：\n",
    "```python\n",
    "count_vowels(\"Hello World\")  # 3 (e, o, o)\n",
    "```"
   ]
  },
  {
   "cell_type": "code",
   "execution_count": null,
   "metadata": {},
   "source": [
    "def count_vowels(s):\n",
    "    # 在此處撰寫程式碼\n",
    "    pass\n",
    "\n",
    "# 測試\n",
    "print(count_vowels(\"Hello World\"))  # 應輸出 3"
   ],
   "outputs": []
  },
  {
   "cell_type": "markdown",
   "metadata": {},
   "source": [
    "### 題目 23\n",
    "寫一個函式 `remove_duplicates(t)`，移除元組中的重複元素，返回新元組。\n",
    "- 保持原順序\n",
    "\n",
    "**範例**：\n",
    "```python\n",
    "remove_duplicates((1, 2, 2, 3, 1))  # (1, 2, 3)\n",
    "```"
   ]
  },
  {
   "cell_type": "code",
   "execution_count": null,
   "metadata": {},
   "source": [
    "def remove_duplicates(t):\n",
    "    # 在此處撰寫程式碼\n",
    "    pass\n",
    "\n",
    "# 測試\n",
    "print(remove_duplicates((1, 2, 2, 3, 1)))  # 應輸出 (1, 2, 3)"
   ],
   "outputs": []
  },
  {
   "cell_type": "markdown",
   "metadata": {},
   "source": [
    "### 題目 24\n",
    "寫一個函式 `truncate(s, length)`，截斷字串至指定長度，並在結尾加上 `\"...\"`。\n",
    "- 如果字串長度 <= length，直接返回原字串\n",
    "\n",
    "**範例**：\n",
    "```python\n",
    "truncate(\"Hello World\", 5)  # \"Hello...\"\n",
    "truncate(\"Hi\", 5)           # \"Hi\"\n",
    "```"
   ]
  },
  {
   "cell_type": "code",
   "execution_count": null,
   "metadata": {},
   "source": [
    "def truncate(s, length):\n",
    "    # 在此處撰寫程式碼\n",
    "    pass\n",
    "\n",
    "# 測試\n",
    "print(truncate(\"Hello World\", 5))  # 應輸出 \"Hello...\"\n",
    "print(truncate(\"Hi\", 5))           # 應輸出 \"Hi\""
   ],
   "outputs": []
  },
  {
   "cell_type": "markdown",
   "metadata": {},
   "source": [
    "### 題目 25\n",
    "寫一個函式 `is_anagram(s1, s2)`，判斷兩個字串是否為字謎（相同字母不同順序）。\n",
    "- 不區分大小寫\n",
    "- 忽略空白\n",
    "\n",
    "**範例**：\n",
    "```python\n",
    "is_anagram(\"listen\", \"silent\")  # True\n",
    "is_anagram(\"hello\", \"world\")    # False\n",
    "```"
   ]
  },
  {
   "cell_type": "code",
   "execution_count": null,
   "metadata": {},
   "source": [
    "def is_anagram(s1, s2):\n",
    "    # 在此處撰寫程式碼\n",
    "    pass\n",
    "\n",
    "# 測試\n",
    "print(is_anagram(\"listen\", \"silent\"))  # 應輸出 True\n",
    "print(is_anagram(\"hello\", \"world\"))    # 應輸出 False"
   ],
   "outputs": []
  },
  {
   "cell_type": "markdown",
   "metadata": {},
   "source": [
    "---\n",
    "\n",
    "## 測驗答案\n",
    "\n",
    "完成所有題目後，執行下方程式碼查看答案並計算分數。"
   ]
  },
  {
   "cell_type": "code",
   "execution_count": null,
   "metadata": {},
   "source": [
    "# 標準答案\n",
    "correct_answers = {\n",
    "    1: \"C\",\n",
    "    2: \"C\",\n",
    "    3: \"B\",\n",
    "    4: \"C\",\n",
    "    5: \"D\",\n",
    "    6: \"C\",\n",
    "    7: \"B\",\n",
    "    8: \"D\",\n",
    "    9: \"A\",\n",
    "    10: \"B\",\n",
    "    11: \"A\",\n",
    "    12: \"D\",\n",
    "    13: \"B\",\n",
    "    14: \"B\",\n",
    "    15: \"B\",\n",
    "    16: \"upper\",\n",
    "    17: \"find\",  # 或 \"index\"\n",
    "    18: '\"-\"',\n",
    "    19: \"a, b\",\n",
    "    20: \"::-1\"\n",
    "}\n",
    "\n",
    "# 程式題參考答案\n",
    "print(\"=== 程式題參考答案 ===\")\n",
    "print(\"\\n題目 21: swap_case\")\n",
    "def swap_case_solution(s):\n",
    "    return s.swapcase()\n",
    "print(\"答案：return s.swapcase()\")\n",
    "\n",
    "print(\"\\n題目 22: count_vowels\")\n",
    "def count_vowels_solution(s):\n",
    "    vowels = \"aeiouAEIOU\"\n",
    "    return sum(1 for c in s if c in vowels)\n",
    "print(\"答案：sum(1 for c in s if c in 'aeiouAEIOU')\")\n",
    "\n",
    "print(\"\\n題目 23: remove_duplicates\")\n",
    "def remove_duplicates_solution(t):\n",
    "    seen = []\n",
    "    for item in t:\n",
    "        if item not in seen:\n",
    "            seen.append(item)\n",
    "    return tuple(seen)\n",
    "print(\"答案：使用列表記錄已見過的元素，最後轉回元組\")\n",
    "\n",
    "print(\"\\n題目 24: truncate\")\n",
    "def truncate_solution(s, length):\n",
    "    if len(s) <= length:\n",
    "        return s\n",
    "    return s[:length] + \"...\"\n",
    "print(\"答案：if len(s) <= length: return s; else: return s[:length] + '...'\")\n",
    "\n",
    "print(\"\\n題目 25: is_anagram\")\n",
    "def is_anagram_solution(s1, s2):\n",
    "    clean1 = s1.replace(' ', '').lower()\n",
    "    clean2 = s2.replace(' ', '').lower()\n",
    "    return sorted(clean1) == sorted(clean2)\n",
    "print(\"答案：sorted(s1.replace(' ', '').lower()) == sorted(s2.replace(' ', '').lower())\")\n",
    "\n",
    "print(\"\\n\" + \"=\" * 50)\n",
    "print(\"完成測驗後，請對照答案計算分數！\")\n",
    "print(\"=\" * 50)"
   ],
   "outputs": []
  },
  {
   "cell_type": "markdown",
   "metadata": {},
   "source": [
    "## 評分與反思\n",
    "\n",
    "### 計算你的分數\n",
    "\n",
    "- **Part A（選擇題）**：____ / 15 分\n",
    "- **Part B（填空題）**：____ / 10 分\n",
    "- **Part C（程式題）**：____ / 15 分\n",
    "- **總分**：____ / 40 分\n",
    "\n",
    "### 評級\n",
    "\n",
    "- **36-40 分**：優秀 ⭐⭐⭐ - 完全掌握元組與字串！\n",
    "- **32-35 分**：良好 ⭐⭐ - 大部分概念清楚，少數細節需加強\n",
    "- **28-31 分**：及格 ⭐ - 基礎概念掌握，需多練習\n",
    "- **27 分以下**：需加強 - 重新複習 `01-lecture.ipynb`\n",
    "\n",
    "### 錯題反思\n",
    "\n",
    "針對答錯的題目，回答以下問題：\n",
    "\n",
    "1. **我為什麼答錯？**\n",
    "   - [ ] 概念不清楚\n",
    "   - [ ] 粗心大意\n",
    "   - [ ] 方法記錯\n",
    "   - [ ] 語法不熟\n",
    "\n",
    "2. **需要複習的章節**：\n",
    "   - [ ] 元組基礎與解包\n",
    "   - [ ] 字串索引與切片\n",
    "   - [ ] 字串方法（大小寫、搜尋）\n",
    "   - [ ] 字串方法（分割、合併）\n",
    "   - [ ] 字串不可變性\n",
    "\n",
    "3. **改進計畫**：\n",
    "   - 重新閱讀相關章節\n",
    "   - 重做相關練習題\n",
    "   - 實作更多範例\n",
    "\n",
    "---\n",
    "\n",
    "## 下一步\n",
    "\n",
    "### 如果成績優秀（36+ 分）\n",
    "恭喜！你已經掌握 Chapter 8 的內容。繼續前往：\n",
    "- **Chapter 9**: 字典與集合\n",
    "\n",
    "### 如果需要加強（27 分以下）\n",
    "建議你：\n",
    "1. 重新閱讀 `01-lecture.ipynb`\n",
    "2. 仔細研究 `02-worked-examples.ipynb`\n",
    "3. 重做 `03-practice.ipynb` 和 `04-exercises.ipynb`\n",
    "4. 一週後再測驗一次\n",
    "\n",
    "---\n",
    "\n",
    "**加油！熟練掌握元組與字串是 Python 進階學習的重要基礎！**"
   ]
  }
 ],
 "metadata": {
  "kernelspec": {
   "display_name": "Python 3",
   "language": "python",
   "name": "python3"
  },
  "language_info": {
   "codemirror_mode": {
    "name": "ipython",
    "version": 3
   },
   "file_extension": ".py",
   "mimetype": "text/x-python",
   "name": "python",
   "nbconvert_exporter": "python",
   "pygments_lexer": "ipython3",
   "version": "3.11.0"
  }
 },
 "nbformat": 4,
 "nbformat_minor": 4
}
