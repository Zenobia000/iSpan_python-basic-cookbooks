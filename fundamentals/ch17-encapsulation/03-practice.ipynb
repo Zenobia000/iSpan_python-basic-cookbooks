{
 "cells": [
  {
   "cell_type": "markdown",
   "metadata": {},
   "source": [
    "# Ch17: Encapsulation (封裝) - 課堂練習\n",
    "\n",
    "本檔案包含 10 道課堂練習題，涵蓋公開/私有屬性、`@property` 裝飾器、計算屬性等核心概念。\n",
    "\n",
    "**練習目標**:\n",
    "- 理解私有屬性的使用時機\n",
    "- 掌握 `@property` 的 getter/setter 模式\n",
    "- 實作資料驗證邏輯\n",
    "- 建立計算屬性與唯讀屬性\n",
    "\n",
    "---"
   ]
  },
  {
   "cell_type": "markdown",
   "metadata": {},
   "source": [
    "## 練習 1: 銀行帳戶 - 基本封裝\n",
    "\n",
    "**題目**: 建立一個 `BankAccount` 類別，包含：\n",
    "- 私有屬性 `_balance`（餘額）\n",
    "- `deposit()` 存款方法\n",
    "- `withdraw()` 提款方法\n",
    "- `@property` 提供唯讀的 `balance` 屬性\n",
    "\n",
    "**需求**:\n",
    "- 提款金額不得超過餘額\n",
    "- 存款和提款金額必須為正數"
   ]
  },
  {
   "cell_type": "code",
   "execution_count": null,
   "metadata": {},
   "outputs": [],
   "source": [
    "# 請在此實作 BankAccount 類別\n",
    "class BankAccount:\n",
    "    pass\n",
    "\n",
    "\n",
    "# 測試程式碼\n",
    "account = BankAccount(1000)\n",
    "print(f\"初始餘額: {account.balance}\")\n",
    "\n",
    "account.deposit(500)\n",
    "print(f\"存款後: {account.balance}\")\n",
    "\n",
    "account.withdraw(300)\n",
    "print(f\"提款後: {account.balance}\")\n",
    "\n",
    "# 測試錯誤處理\n",
    "try:\n",
    "    account.withdraw(2000)\n",
    "except ValueError as e:\n",
    "    print(f\"錯誤: {e}\")"
   ]
  },
  {
   "cell_type": "markdown",
   "metadata": {},
   "source": [
    "---\n",
    "\n",
    "## 練習 2: Circle 類別 - 計算屬性\n",
    "\n",
    "**題目**: 建立一個 `Circle` 類別，包含：\n",
    "- 私有屬性 `_radius`（半徑）\n",
    "- `@property` 提供 `radius` 的 getter/setter（半徑必須為正數）\n",
    "- 唯讀計算屬性 `area`（面積）和 `circumference`（周長）\n",
    "\n",
    "**公式**:\n",
    "- 面積 = π × r²\n",
    "- 周長 = 2π × r\n",
    "- 使用 `math.pi`"
   ]
  },
  {
   "cell_type": "code",
   "execution_count": null,
   "metadata": {},
   "outputs": [],
   "source": [
    "import math\n",
    "\n",
    "# 請在此實作 Circle 類別\n",
    "class Circle:\n",
    "    pass\n",
    "\n",
    "\n",
    "# 測試程式碼\n",
    "circle = Circle(5)\n",
    "print(f\"半徑: {circle.radius}\")\n",
    "print(f\"面積: {circle.area:.2f}\")\n",
    "print(f\"周長: {circle.circumference:.2f}\")\n",
    "\n",
    "circle.radius = 10\n",
    "print(f\"\\n修改半徑後:\")\n",
    "print(f\"面積: {circle.area:.2f}\")\n",
    "print(f\"周長: {circle.circumference:.2f}\")"
   ]
  },
  {
   "cell_type": "markdown",
   "metadata": {},
   "source": [
    "---\n",
    "\n",
    "## 練習 3: Person 類別 - 年齡驗證\n",
    "\n",
    "**題目**: 建立一個 `Person` 類別，包含：\n",
    "- 公開屬性 `name`（姓名）\n",
    "- 私有屬性 `_age`（年齡）\n",
    "- `@property` 提供 `age` 的 getter/setter\n",
    "- 年齡必須在 0-150 之間\n",
    "- 提供 `is_adult` 唯讀屬性（18 歲以上為成年）"
   ]
  },
  {
   "cell_type": "code",
   "execution_count": null,
   "metadata": {},
   "outputs": [],
   "source": [
    "# 請在此實作 Person 類別\n",
    "class Person:\n",
    "    pass\n",
    "\n",
    "\n",
    "# 測試程式碼\n",
    "person = Person(\"Alice\", 25)\n",
    "print(f\"{person.name}, 年齡: {person.age}\")\n",
    "print(f\"是否成年: {person.is_adult}\")\n",
    "\n",
    "person.age = 16\n",
    "print(f\"\\n修改年齡後: {person.age}\")\n",
    "print(f\"是否成年: {person.is_adult}\")\n",
    "\n",
    "# 測試驗證\n",
    "try:\n",
    "    person.age = 200\n",
    "except ValueError as e:\n",
    "    print(f\"\\n錯誤: {e}\")"
   ]
  },
  {
   "cell_type": "markdown",
   "metadata": {},
   "source": [
    "---\n",
    "\n",
    "## 練習 4: Book 類別 - 價格管理\n",
    "\n",
    "**題目**: 建立一個 `Book` 類別，包含：\n",
    "- 公開屬性 `title`（書名）、`author`（作者）\n",
    "- 私有屬性 `_price`（價格）\n",
    "- `@property` 提供 `price` 的 getter/setter（價格必須為正數）\n",
    "- 計算屬性 `price_with_tax`（含稅價格，稅率 5%）"
   ]
  },
  {
   "cell_type": "code",
   "execution_count": null,
   "metadata": {},
   "outputs": [],
   "source": [
    "# 請在此實作 Book 類別\n",
    "class Book:\n",
    "    TAX_RATE = 0.05  # 5% 稅率\n",
    "    pass\n",
    "\n",
    "\n",
    "# 測試程式碼\n",
    "book = Book(\"Python 入門\", \"張三\", 500)\n",
    "print(f\"書名: {book.title}\")\n",
    "print(f\"作者: {book.author}\")\n",
    "print(f\"定價: ${book.price}\")\n",
    "print(f\"含稅價: ${book.price_with_tax:.2f}\")\n",
    "\n",
    "book.price = 600\n",
    "print(f\"\\n調整價格後: ${book.price_with_tax:.2f}\")"
   ]
  },
  {
   "cell_type": "markdown",
   "metadata": {},
   "source": [
    "---\n",
    "\n",
    "## 練習 5: Email 類別 - 格式驗證\n",
    "\n",
    "**題目**: 建立一個 `Email` 類別，包含：\n",
    "- 私有屬性 `_address`（電子郵件地址）\n",
    "- `@property` 提供 `address` 的 getter/setter\n",
    "- Email 格式必須包含 `@` 和 `.`\n",
    "- 提供唯讀屬性 `username`（@ 前的部分）和 `domain`（@ 後的部分）"
   ]
  },
  {
   "cell_type": "code",
   "execution_count": null,
   "metadata": {},
   "outputs": [],
   "source": [
    "# 請在此實作 Email 類別\n",
    "class Email:\n",
    "    pass\n",
    "\n",
    "\n",
    "# 測試程式碼\n",
    "email = Email(\"alice@example.com\")\n",
    "print(f\"Email: {email.address}\")\n",
    "print(f\"使用者名稱: {email.username}\")\n",
    "print(f\"網域: {email.domain}\")\n",
    "\n",
    "# 測試格式驗證\n",
    "try:\n",
    "    email.address = \"invalid-email\"\n",
    "except ValueError as e:\n",
    "    print(f\"\\n錯誤: {e}\")\n",
    "\n",
    "email.address = \"bob@test.org\"\n",
    "print(f\"\\n更新後:\")\n",
    "print(f\"Email: {email.address}\")\n",
    "print(f\"使用者名稱: {email.username}\")\n",
    "print(f\"網域: {email.domain}\")"
   ]
  },
  {
   "cell_type": "markdown",
   "metadata": {},
   "source": [
    "---\n",
    "\n",
    "## 練習 6: ShoppingCart 類別 - 商品管理\n",
    "\n",
    "**題目**: 建立一個 `ShoppingCart` 類別，包含：\n",
    "- 私有屬性 `_items`（商品列表，儲存字典 `{name: price}`）\n",
    "- `add_item(name, price)` 方法（價格必須為正數）\n",
    "- `remove_item(name)` 方法\n",
    "- 唯讀屬性 `total`（總金額）\n",
    "- 唯讀屬性 `item_count`（商品數量）"
   ]
  },
  {
   "cell_type": "code",
   "execution_count": null,
   "metadata": {},
   "outputs": [],
   "source": [
    "# 請在此實作 ShoppingCart 類別\n",
    "class ShoppingCart:\n",
    "    pass\n",
    "\n",
    "\n",
    "# 測試程式碼\n",
    "cart = ShoppingCart()\n",
    "cart.add_item(\"Apple\", 30)\n",
    "cart.add_item(\"Banana\", 20)\n",
    "cart.add_item(\"Orange\", 40)\n",
    "\n",
    "print(f\"商品數量: {cart.item_count}\")\n",
    "print(f\"總金額: ${cart.total}\")\n",
    "\n",
    "cart.remove_item(\"Banana\")\n",
    "print(f\"\\n移除 Banana 後:\")\n",
    "print(f\"商品數量: {cart.item_count}\")\n",
    "print(f\"總金額: ${cart.total}\")"
   ]
  },
  {
   "cell_type": "markdown",
   "metadata": {},
   "source": [
    "---\n",
    "\n",
    "## 練習 7: Timer 類別 - 時間管理\n",
    "\n",
    "**題目**: 建立一個 `Timer` 類別，包含：\n",
    "- 私有屬性 `_seconds`（秒數）\n",
    "- `@property` 提供 `seconds` 的 getter/setter（必須非負）\n",
    "- 唯讀屬性 `minutes` 和 `hours`（自動轉換）\n",
    "- `add_time(seconds)` 方法（增加秒數）\n",
    "\n",
    "**轉換公式**:\n",
    "- minutes = seconds // 60\n",
    "- hours = seconds // 3600"
   ]
  },
  {
   "cell_type": "code",
   "execution_count": null,
   "metadata": {},
   "outputs": [],
   "source": [
    "# 請在此實作 Timer 類別\n",
    "class Timer:\n",
    "    pass\n",
    "\n",
    "\n",
    "# 測試程式碼\n",
    "timer = Timer(3665)  # 1 小時 1 分 5 秒\n",
    "print(f\"秒數: {timer.seconds}\")\n",
    "print(f\"分鐘: {timer.minutes}\")\n",
    "print(f\"小時: {timer.hours}\")\n",
    "\n",
    "timer.add_time(3600)  # 加 1 小時\n",
    "print(f\"\\n增加 1 小時後:\")\n",
    "print(f\"秒數: {timer.seconds}\")\n",
    "print(f\"小時: {timer.hours}\")"
   ]
  },
  {
   "cell_type": "markdown",
   "metadata": {},
   "source": [
    "---\n",
    "\n",
    "## 練習 8: Grade 類別 - 成績管理\n",
    "\n",
    "**題目**: 建立一個 `Grade` 類別，包含：\n",
    "- 私有屬性 `_score`（分數，0-100）\n",
    "- `@property` 提供 `score` 的 getter/setter（驗證範圍）\n",
    "- 唯讀屬性 `letter_grade`（等第，A/B/C/D/F）\n",
    "- 唯讀屬性 `passed`（是否及格，60 分以上）\n",
    "\n",
    "**等第對照**:\n",
    "- A: 90-100\n",
    "- B: 80-89\n",
    "- C: 70-79\n",
    "- D: 60-69\n",
    "- F: 0-59"
   ]
  },
  {
   "cell_type": "code",
   "execution_count": null,
   "metadata": {},
   "outputs": [],
   "source": [
    "# 請在此實作 Grade 類別\n",
    "class Grade:\n",
    "    pass\n",
    "\n",
    "\n",
    "# 測試程式碼\n",
    "grade = Grade(85)\n",
    "print(f\"分數: {grade.score}\")\n",
    "print(f\"等第: {grade.letter_grade}\")\n",
    "print(f\"及格: {grade.passed}\")\n",
    "\n",
    "grade.score = 55\n",
    "print(f\"\\n修改分數後:\")\n",
    "print(f\"分數: {grade.score}\")\n",
    "print(f\"等第: {grade.letter_grade}\")\n",
    "print(f\"及格: {grade.passed}\")"
   ]
  },
  {
   "cell_type": "markdown",
   "metadata": {},
   "source": [
    "---\n",
    "\n",
    "## 練習 9: Password 類別 - 密碼強度\n",
    "\n",
    "**題目**: 建立一個 `Password` 類別，包含：\n",
    "- 私有屬性 `_value`（密碼）\n",
    "- `@property` 提供 `value` 的 getter/setter（長度至少 6）\n",
    "- 唯讀屬性 `length`（密碼長度）\n",
    "- 唯讀屬性 `strength`（強度：Weak/Medium/Strong）\n",
    "\n",
    "**強度判定**:\n",
    "- Strong: 長度 >= 12 且包含數字和字母\n",
    "- Medium: 長度 >= 8\n",
    "- Weak: 其他"
   ]
  },
  {
   "cell_type": "code",
   "execution_count": null,
   "metadata": {},
   "outputs": [],
   "source": [
    "# 請在此實作 Password 類別\n",
    "class Password:\n",
    "    pass\n",
    "\n",
    "\n",
    "# 測試程式碼\n",
    "pwd1 = Password(\"abc123\")\n",
    "print(f\"密碼長度: {pwd1.length}\")\n",
    "print(f\"強度: {pwd1.strength}\")\n",
    "\n",
    "pwd2 = Password(\"Password123456\")\n",
    "print(f\"\\n密碼長度: {pwd2.length}\")\n",
    "print(f\"強度: {pwd2.strength}\")\n",
    "\n",
    "pwd3 = Password(\"LongPass\")\n",
    "print(f\"\\n密碼長度: {pwd3.length}\")\n",
    "print(f\"強度: {pwd3.strength}\")"
   ]
  },
  {
   "cell_type": "markdown",
   "metadata": {},
   "source": [
    "---\n",
    "\n",
    "## 練習 10: Distance 類別 - 單位轉換\n",
    "\n",
    "**題目**: 建立一個 `Distance` 類別，包含：\n",
    "- 私有屬性 `_meters`（以公尺儲存）\n",
    "- `@property` 提供 `meters`、`kilometers`、`miles` 的 getter/setter\n",
    "- 所有單位都可以讀取和設定\n",
    "- 距離必須為非負數\n",
    "\n",
    "**轉換公式**:\n",
    "- 1 公里 = 1000 公尺\n",
    "- 1 英里 = 1609.34 公尺"
   ]
  },
  {
   "cell_type": "code",
   "execution_count": null,
   "metadata": {},
   "outputs": [],
   "source": [
    "# 請在此實作 Distance 類別\n",
    "class Distance:\n",
    "    pass\n",
    "\n",
    "\n",
    "# 測試程式碼\n",
    "dist = Distance(meters=5000)\n",
    "print(f\"公尺: {dist.meters}\")\n",
    "print(f\"公里: {dist.kilometers}\")\n",
    "print(f\"英里: {dist.miles:.2f}\")\n",
    "\n",
    "dist.kilometers = 10\n",
    "print(f\"\\n設定為 10 公里:\")\n",
    "print(f\"公尺: {dist.meters}\")\n",
    "print(f\"英里: {dist.miles:.2f}\")\n",
    "\n",
    "dist.miles = 1\n",
    "print(f\"\\n設定為 1 英里:\")\n",
    "print(f\"公尺: {dist.meters:.2f}\")\n",
    "print(f\"公里: {dist.kilometers:.2f}\")"
   ]
  },
  {
   "cell_type": "markdown",
   "metadata": {},
   "source": [
    "---\n",
    "\n",
    "## 📚 練習總結\n",
    "\n",
    "完成這 10 道練習後，你應該能夠：\n",
    "\n",
    "### ✅ 掌握的技能\n",
    "1. **私有屬性**: 使用 `_` 前綴保護內部資料\n",
    "2. **@property 裝飾器**: 提供 getter 讀取屬性\n",
    "3. **@property.setter**: 提供 setter 設定屬性\n",
    "4. **資料驗證**: 在 setter 中檢查資料有效性\n",
    "5. **計算屬性**: 基於其他屬性動態計算結果\n",
    "6. **唯讀屬性**: 只提供 getter，沒有 setter\n",
    "7. **單位轉換**: 透過 property 自動轉換單位\n",
    "\n",
    "### 💡 重要觀念\n",
    "- 封裝可以隱藏實作細節，提供簡潔介面\n",
    "- 驗證邏輯應該放在 setter 中，確保資料一致性\n",
    "- 計算屬性應該設為唯讀，避免資料不一致\n",
    "- 使用 property 讓屬性存取像一般屬性，但提供更多控制\n",
    "\n",
    "---\n",
    "\n",
    "**下一步**: 前往 `04-exercises.ipynb` 挑戰更多習題！"
   ]
  }
 ],
 "metadata": {
  "kernelspec": {
   "display_name": "Python 3",
   "language": "python",
   "name": "python3"
  },
  "language_info": {
   "codemirror_mode": {
    "name": "ipython",
    "version": 3
   },
   "file_extension": ".py",
   "mimetype": "text/x-python",
   "name": "python",
   "nbconvert_exporter": "python",
   "pygments_lexer": "ipython3",
   "version": "3.8.0"
  }
 },
 "nbformat": 4,
 "nbformat_minor": 4
}
