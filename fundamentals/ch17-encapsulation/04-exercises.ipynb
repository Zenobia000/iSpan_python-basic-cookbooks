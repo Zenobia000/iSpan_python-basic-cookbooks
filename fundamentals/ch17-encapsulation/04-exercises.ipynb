{
 "cells": [
  {
   "cell_type": "markdown",
   "metadata": {},
   "source": [
    "# Ch17: Encapsulation (封裝) - 課後習題\n",
    "\n",
    "本檔案包含 15 道課後習題，難度分為基礎、中等、挑戰三個層次。\n",
    "\n",
    "**難度分布**:\n",
    "- 基礎題 (1-6): 私有屬性、`@property` 基本用法\n",
    "- 中等題 (7-11): 驗證邏輯、計算屬性\n",
    "- 挑戰題 (12-15): 複雜封裝、Name Mangling、綜合應用\n",
    "\n",
    "---"
   ]
  },
  {
   "cell_type": "markdown",
   "metadata": {},
   "source": [
    "## 基礎題\n",
    "\n",
    "### 習題 1: Student 類別\n",
    "\n",
    "**題目**: 建立一個 `Student` 類別，包含：\n",
    "- 公開屬性 `name`（學生姓名）\n",
    "- 私有屬性 `_id`（學號）\n",
    "- `@property` 提供唯讀的 `id` 屬性\n",
    "- `__str__()` 方法顯示學生資訊"
   ]
  },
  {
   "cell_type": "code",
   "execution_count": null,
   "metadata": {},
   "outputs": [],
   "source": [
    "# 請在此實作 Student 類別\n"
   ]
  },
  {
   "cell_type": "markdown",
   "metadata": {},
   "source": [
    "---\n",
    "\n",
    "### 習題 2: Car 類別 - 速度控制\n",
    "\n",
    "**題目**: 建立一個 `Car` 類別，包含：\n",
    "- 公開屬性 `brand`（品牌）\n",
    "- 私有屬性 `_speed`（速度，初始為 0）\n",
    "- `@property` 提供 `speed` 的 getter/setter\n",
    "- 速度必須在 0-200 之間\n",
    "- 提供 `accelerate(amount)` 加速方法\n",
    "- 提供 `brake(amount)` 減速方法"
   ]
  },
  {
   "cell_type": "code",
   "execution_count": null,
   "metadata": {},
   "outputs": [],
   "source": [
    "# 請在此實作 Car 類別\n"
   ]
  },
  {
   "cell_type": "markdown",
   "metadata": {},
   "source": [
    "---\n",
    "\n",
    "### 習題 3: Square 類別 - 正方形\n",
    "\n",
    "**題目**: 建立一個 `Square` 類別，包含：\n",
    "- 私有屬性 `_side`（邊長）\n",
    "- `@property` 提供 `side` 的 getter/setter（必須為正數）\n",
    "- 唯讀計算屬性 `area`（面積）\n",
    "- 唯讀計算屬性 `perimeter`（周長）"
   ]
  },
  {
   "cell_type": "code",
   "execution_count": null,
   "metadata": {},
   "outputs": [],
   "source": [
    "# 請在此實作 Square 類別\n"
   ]
  },
  {
   "cell_type": "markdown",
   "metadata": {},
   "source": [
    "---\n",
    "\n",
    "### 習題 4: BankCard 類別 - 信用卡\n",
    "\n",
    "**題目**: 建立一個 `BankCard` 類別，包含：\n",
    "- 私有屬性 `_number`（卡號，16 位數字）\n",
    "- `@property` 提供唯讀的 `number` 屬性\n",
    "- 唯讀屬性 `masked_number`（遮罩卡號，只顯示後 4 碼，例如 \"****1234\"）\n",
    "- `__str__()` 方法顯示遮罩卡號"
   ]
  },
  {
   "cell_type": "code",
   "execution_count": null,
   "metadata": {},
   "outputs": [],
   "source": [
    "# 請在此實作 BankCard 類別\n"
   ]
  },
  {
   "cell_type": "markdown",
   "metadata": {},
   "source": [
    "---\n",
    "\n",
    "### 習題 5: Percentage 類別 - 百分比\n",
    "\n",
    "**題目**: 建立一個 `Percentage` 類別，包含：\n",
    "- 私有屬性 `_value`（百分比值，0-100）\n",
    "- `@property` 提供 `value` 的 getter/setter（驗證範圍）\n",
    "- 唯讀屬性 `decimal`（小數表示，例如 75% → 0.75）\n",
    "- `__str__()` 方法顯示百分比（例如 \"75%\"）"
   ]
  },
  {
   "cell_type": "code",
   "execution_count": null,
   "metadata": {},
   "outputs": [],
   "source": [
    "# 請在此實作 Percentage 類別\n"
   ]
  },
  {
   "cell_type": "markdown",
   "metadata": {},
   "source": [
    "---\n",
    "\n",
    "### 習題 6: Point 類別 - 二維座標\n",
    "\n",
    "**題目**: 建立一個 `Point` 類別，包含：\n",
    "- 私有屬性 `_x` 和 `_y`（座標）\n",
    "- `@property` 提供 `x` 和 `y` 的 getter/setter\n",
    "- 唯讀屬性 `distance_from_origin`（距離原點的距離，使用畢氏定理）\n",
    "- `__str__()` 方法顯示座標（例如 \"(3, 4)\"）"
   ]
  },
  {
   "cell_type": "code",
   "execution_count": null,
   "metadata": {},
   "outputs": [],
   "source": [
    "# 請在此實作 Point 類別\n"
   ]
  },
  {
   "cell_type": "markdown",
   "metadata": {},
   "source": [
    "---\n",
    "\n",
    "## 中等題\n",
    "\n",
    "### 習題 7: Employee 類別 - 員工薪資\n",
    "\n",
    "**題目**: 建立一個 `Employee` 類別，包含：\n",
    "- 公開屬性 `name`（姓名）\n",
    "- 私有屬性 `_salary`（月薪，必須為正數）\n",
    "- `@property` 提供 `salary` 的 getter/setter\n",
    "- 唯讀屬性 `annual_salary`（年薪 = 月薪 × 12）\n",
    "- `give_raise(percentage)` 方法（加薪，參數為百分比）"
   ]
  },
  {
   "cell_type": "code",
   "execution_count": null,
   "metadata": {},
   "outputs": [],
   "source": [
    "# 請在此實作 Employee 類別\n"
   ]
  },
  {
   "cell_type": "markdown",
   "metadata": {},
   "source": [
    "---\n",
    "\n",
    "### 習題 8: Fraction 類別 - 分數\n",
    "\n",
    "**題目**: 建立一個 `Fraction` 類別，包含：\n",
    "- 私有屬性 `_numerator`（分子）和 `_denominator`（分母）\n",
    "- `@property` 提供 `numerator` 和 `denominator` 的 getter/setter\n",
    "- 分母不能為 0\n",
    "- 唯讀屬性 `decimal`（小數表示）\n",
    "- `__str__()` 方法顯示分數（例如 \"3/4\"）"
   ]
  },
  {
   "cell_type": "code",
   "execution_count": null,
   "metadata": {},
   "outputs": [],
   "source": [
    "# 請在此實作 Fraction 類別\n"
   ]
  },
  {
   "cell_type": "markdown",
   "metadata": {},
   "source": [
    "---\n",
    "\n",
    "### 習題 9: OnlineOrder 類別 - 線上訂單\n",
    "\n",
    "**題目**: 建立一個 `OnlineOrder` 類別，包含：\n",
    "- 私有屬性 `_subtotal`（小計金額）\n",
    "- 私有屬性 `_shipping_fee`（運費）\n",
    "- `@property` 提供 `subtotal` 和 `shipping_fee` 的 getter/setter（必須非負）\n",
    "- 唯讀屬性 `total`（總金額 = 小計 + 運費）\n",
    "- `apply_free_shipping()` 方法（免運費）"
   ]
  },
  {
   "cell_type": "code",
   "execution_count": null,
   "metadata": {},
   "outputs": [],
   "source": [
    "# 請在此實作 OnlineOrder 類別\n"
   ]
  },
  {
   "cell_type": "markdown",
   "metadata": {},
   "source": [
    "---\n",
    "\n",
    "### 習題 10: ColorRGB 類別 - RGB 顏色\n",
    "\n",
    "**題目**: 建立一個 `ColorRGB` 類別，包含：\n",
    "- 私有屬性 `_red`、`_green`、`_blue`（RGB 值，0-255）\n",
    "- `@property` 提供 `red`、`green`、`blue` 的 getter/setter（驗證範圍）\n",
    "- 唯讀屬性 `hex_code`（16 進位顏色碼，例如 \"#FF0000\"）\n",
    "- `__str__()` 方法顯示 RGB 和 Hex（例如 \"RGB(255, 0, 0) #FF0000\"）"
   ]
  },
  {
   "cell_type": "code",
   "execution_count": null,
   "metadata": {},
   "outputs": [],
   "source": [
    "# 請在此實作 ColorRGB 類別\n"
   ]
  },
  {
   "cell_type": "markdown",
   "metadata": {},
   "source": [
    "---\n",
    "\n",
    "### 習題 11: ProgressBar 類別 - 進度條\n",
    "\n",
    "**題目**: 建立一個 `ProgressBar` 類別，包含：\n",
    "- 私有屬性 `_current`（當前進度）和 `_total`（總量）\n",
    "- `@property` 提供 `current` 和 `total` 的 getter/setter\n",
    "- `current` 不能超過 `total`，且都必須非負\n",
    "- 唯讀屬性 `percentage`（完成百分比，0-100）\n",
    "- `increment(amount=1)` 方法（增加進度）\n",
    "- `is_complete` 唯讀屬性（是否完成）"
   ]
  },
  {
   "cell_type": "code",
   "execution_count": null,
   "metadata": {},
   "outputs": [],
   "source": [
    "# 請在此實作 ProgressBar 類別\n"
   ]
  },
  {
   "cell_type": "markdown",
   "metadata": {},
   "source": [
    "---\n",
    "\n",
    "## 挑戰題\n",
    "\n",
    "### 習題 12: EmailValidator 類別 - 電子郵件驗證器\n",
    "\n",
    "**題目**: 建立一個 `EmailValidator` 類別，包含：\n",
    "- 私有屬性 `_email`（電子郵件地址）\n",
    "- `@property` 提供 `email` 的 getter/setter\n",
    "- Email 必須包含 `@` 和 `.`，且 `@` 只能有一個\n",
    "- `@` 前後都必須有字元\n",
    "- 唯讀屬性 `username`、`domain`、`extension`（例如 \"user@example.com\" → username=\"user\", domain=\"example\", extension=\"com\"）\n",
    "- `is_valid()` 方法（檢查 Email 格式）"
   ]
  },
  {
   "cell_type": "code",
   "execution_count": null,
   "metadata": {},
   "outputs": [],
   "source": [
    "# 請在此實作 EmailValidator 類別\n"
   ]
  },
  {
   "cell_type": "markdown",
   "metadata": {},
   "source": [
    "---\n",
    "\n",
    "### 習題 13: Date 類別 - 日期處理\n",
    "\n",
    "**題目**: 建立一個 `Date` 類別，包含：\n",
    "- 私有屬性 `_year`、`_month`、`_day`\n",
    "- `@property` 提供 `year`、`month`、`day` 的 getter/setter\n",
    "- 驗證：month 在 1-12，day 在 1-31（不考慮閏年）\n",
    "- 唯讀屬性 `formatted`（格式化日期，例如 \"2024-03-15\"）\n",
    "- `is_weekend()` 方法（判斷是否為週末，假設 2024-01-01 是星期一）\n",
    "- `add_days(n)` 方法（增加 n 天，簡化版不考慮跨月）"
   ]
  },
  {
   "cell_type": "code",
   "execution_count": null,
   "metadata": {},
   "outputs": [],
   "source": [
    "# 請在此實作 Date 類別\n"
   ]
  },
  {
   "cell_type": "markdown",
   "metadata": {},
   "source": [
    "---\n",
    "\n",
    "### 習題 14: Inventory 類別 - 庫存管理\n",
    "\n",
    "**題目**: 建立一個 `Inventory` 類別，包含：\n",
    "- 私有屬性 `_items`（字典，儲存 `{item_name: quantity}`）\n",
    "- 私有屬性 `_low_stock_threshold`（低庫存警戒值，預設 10）\n",
    "- `add_stock(item, quantity)` 方法（增加庫存）\n",
    "- `remove_stock(item, quantity)` 方法（減少庫存，不能為負）\n",
    "- `get_quantity(item)` 方法（查詢庫存）\n",
    "- 唯讀屬性 `low_stock_items`（返回低於警戒值的商品列表）\n",
    "- 唯讀屬性 `total_items`（總商品種類數）\n",
    "- 唯讀屬性 `total_quantity`（總庫存量）"
   ]
  },
  {
   "cell_type": "code",
   "execution_count": null,
   "metadata": {},
   "outputs": [],
   "source": [
    "# 請在此實作 Inventory 類別\n"
   ]
  },
  {
   "cell_type": "markdown",
   "metadata": {},
   "source": [
    "---\n",
    "\n",
    "### 習題 15: SecureConfig 類別 - 安全設定\n",
    "\n",
    "**題目**: 建立一個 `SecureConfig` 類別，包含：\n",
    "- 雙底線私有屬性 `__api_key`（API 金鑰）\n",
    "- 雙底線私有屬性 `__secret`（密鑰）\n",
    "- 私有方法 `__encrypt(value)`（簡單加密：反轉字串）\n",
    "- 私有方法 `__decrypt(value)`（簡單解密：反轉字串）\n",
    "- `set_api_key(key)` 方法（加密儲存 API 金鑰）\n",
    "- `get_api_key()` 方法（解密並返回 API 金鑰）\n",
    "- `set_secret(secret)` 方法（加密儲存密鑰）\n",
    "- `verify_secret(secret)` 方法（驗證密鑰是否正確）\n",
    "- 無法從外部直接存取 `__api_key` 和 `__secret`"
   ]
  },
  {
   "cell_type": "code",
   "execution_count": null,
   "metadata": {},
   "outputs": [],
   "source": [
    "# 請在此實作 SecureConfig 類別\n"
   ]
  },
  {
   "cell_type": "markdown",
   "metadata": {},
   "source": [
    "---\n",
    "\n",
    "## 📊 習題總結\n",
    "\n",
    "### 完成檢核表\n",
    "\n",
    "**基礎題 (1-6)**:\n",
    "- [ ] 習題 1: Student 類別\n",
    "- [ ] 習題 2: Car 類別\n",
    "- [ ] 習題 3: Square 類別\n",
    "- [ ] 習題 4: BankCard 類別\n",
    "- [ ] 習題 5: Percentage 類別\n",
    "- [ ] 習題 6: Point 類別\n",
    "\n",
    "**中等題 (7-11)**:\n",
    "- [ ] 習題 7: Employee 類別\n",
    "- [ ] 習題 8: Fraction 類別\n",
    "- [ ] 習題 9: OnlineOrder 類別\n",
    "- [ ] 習題 10: ColorRGB 類別\n",
    "- [ ] 習題 11: ProgressBar 類別\n",
    "\n",
    "**挑戰題 (12-15)**:\n",
    "- [ ] 習題 12: EmailValidator 類別\n",
    "- [ ] 習題 13: Date 類別\n",
    "- [ ] 習題 14: Inventory 類別\n",
    "- [ ] 習題 15: SecureConfig 類別\n",
    "\n",
    "### 學習目標\n",
    "完成這些習題後，你應該能夠：\n",
    "1. ✅ 熟練使用私有屬性保護資料\n",
    "2. ✅ 掌握 `@property` 裝飾器的完整用法\n",
    "3. ✅ 在 setter 中實作複雜的驗證邏輯\n",
    "4. ✅ 建立計算屬性和唯讀屬性\n",
    "5. ✅ 理解 Name Mangling 的使用時機\n",
    "6. ✅ 設計良好的封裝介面\n",
    "\n",
    "---\n",
    "\n",
    "**下一步**: 前往 `05-solutions.ipynb` 查看完整解答！"
   ]
  }
 ],
 "metadata": {
  "kernelspec": {
   "display_name": "Python 3",
   "language": "python",
   "name": "python3"
  },
  "language_info": {
   "codemirror_mode": {
    "name": "ipython",
    "version": 3
   },
   "file_extension": ".py",
   "mimetype": "text/x-python",
   "name": "python",
   "nbconvert_exporter": "python",
   "pygments_lexer": "ipython3",
   "version": "3.8.0"
  }
 },
 "nbformat": 4,
 "nbformat_minor": 4
}
