{
 "cells": [
  {
   "cell_type": "markdown",
   "metadata": {},
   "source": [
    "# Chapter 18: 繼承與多型 | Inheritance and Polymorphism\n",
    "\n",
    "## 📖 講義 | Lecture Notes\n",
    "\n",
    "---\n",
    "\n",
    "## Part I: 理論基礎 | Theoretical Foundations"
   ]
  },
  {
   "cell_type": "markdown",
   "metadata": {},
   "source": [
    "### 📚 章節概覽（Chapter Overview）\n",
    "\n",
    "#### 學習目標（Learning Objectives）\n",
    "完成本章後，您將能夠：\n",
    "1. 理解繼承的概念與應用場景\n",
    "2. 掌握單一繼承與多重繼承的語法\n",
    "3. 運用 `super()` 呼叫父類別方法\n",
    "4. 理解多型（Polymorphism）的威力\n",
    "5. 理解 MRO（Method Resolution Order）\n",
    "\n",
    "#### 先備知識（Prerequisites）\n",
    "- Chapter 16: 類別與物件\n",
    "- Chapter 17: 封裝\n",
    "\n",
    "#### 預計時長（Estimated Time）\n",
    "- 理論學習：60 分鐘\n",
    "- 範例演練：30 分鐘\n",
    "- 總計：90 分鐘"
   ]
  },
  {
   "cell_type": "markdown",
   "metadata": {},
   "source": [
    "---\n",
    "\n",
    "### 🔑 核心概念（Key Concepts）\n",
    "\n",
    "#### 1. 什麼是繼承？（What is Inheritance?）\n",
    "\n",
    "**定義**：繼承是一種機制，允許一個類別（子類別）獲取另一個類別（父類別）的屬性和方法。\n",
    "\n",
    "**類比**：\n",
    "```\n",
    "繼承就像家族遺傳：\n",
    "- 父母（父類別）：擁有基本特徵\n",
    "- 子女（子類別）：繼承父母特徵，並發展自己的特徵\n",
    "- is-a 關係：子女「是一個」人類\n",
    "```\n",
    "\n",
    "#### 2. 為什麼需要繼承？（Why Inheritance?）\n",
    "\n",
    "**First Principles 分析**：\n",
    "1. **問題**：多個類別有相同的屬性和方法，造成程式碼重複\n",
    "2. **解法**：將共同部分提取到父類別\n",
    "3. **好處**：\n",
    "   - 程式碼重用（Code Reuse）\n",
    "   - 易於維護（只需修改一處）\n",
    "   - 建立層次結構（Hierarchy）\n",
    "\n",
    "#### 3. 什麼是多型？（What is Polymorphism?）\n",
    "\n",
    "**定義**：多型是指用同一個介面操作不同類型物件的能力。\n",
    "\n",
    "**核心概念**：\n",
    "- 同一個方法名稱，不同的實作\n",
    "- 執行時期才決定呼叫哪個實作\n",
    "- \"Duck Typing\": 如果它走路像鴨子、叫聲像鴨子，那它就是鴨子"
   ]
  },
  {
   "cell_type": "markdown",
   "metadata": {},
   "source": [
    "---\n",
    "\n",
    "## Part II: 實作演練 | Hands-on Practice"
   ]
  },
  {
   "cell_type": "markdown",
   "metadata": {},
   "source": [
    "### 💡 範例 1：單一繼承基礎\n",
    "\n",
    "最基本的繼承：一個子類別繼承一個父類別"
   ]
  },
  {
   "cell_type": "code",
   "execution_count": null,
   "metadata": {},
   "outputs": [],
   "source": [
    "# 父類別（基類、超類別）\n",
    "class Animal:\n",
    "    def __init__(self, name):\n",
    "        self.name = name\n",
    "    \n",
    "    def eat(self):\n",
    "        print(f\"{self.name} is eating\")\n",
    "    \n",
    "    def sleep(self):\n",
    "        print(f\"{self.name} is sleeping\")\n",
    "\n",
    "# 子類別（衍生類別）\n",
    "class Dog(Animal):  # Dog 繼承 Animal\n",
    "    def bark(self):  # Dog 特有的方法\n",
    "        print(f\"{self.name} says: Woof! Woof!\")\n",
    "\n",
    "# 使用\n",
    "dog = Dog(\"Buddy\")\n",
    "dog.eat()    # 繼承自 Animal\n",
    "dog.sleep()  # 繼承自 Animal\n",
    "dog.bark()   # Dog 自己的方法"
   ]
  },
  {
   "cell_type": "code",
   "execution_count": null,
   "metadata": {},
   "outputs": [],
   "source": [
    "# 檢查繼承關係\n",
    "print(isinstance(dog, Dog))     # True\n",
    "print(isinstance(dog, Animal))  # True（Dog 是 Animal）\n",
    "print(issubclass(Dog, Animal))  # True"
   ]
  },
  {
   "cell_type": "markdown",
   "metadata": {},
   "source": [
    "**關鍵要點**：\n",
    "- 語法：`class ChildClass(ParentClass):`\n",
    "- 子類別自動獲得父類別的所有屬性和方法\n",
    "- 子類別可以添加自己特有的方法\n",
    "- `isinstance()` 檢查物件是否屬於某類別（包含繼承）\n",
    "- `issubclass()` 檢查類別之間的繼承關係"
   ]
  },
  {
   "cell_type": "markdown",
   "metadata": {},
   "source": [
    "---\n",
    "\n",
    "### 💡 範例 2：使用 super() 呼叫父類別方法"
   ]
  },
  {
   "cell_type": "code",
   "execution_count": null,
   "metadata": {},
   "outputs": [],
   "source": [
    "class Animal:\n",
    "    def __init__(self, name, age):\n",
    "        self.name = name\n",
    "        self.age = age\n",
    "        print(f\"Animal.__init__ called for {name}\")\n",
    "    \n",
    "    def info(self):\n",
    "        return f\"{self.name}, {self.age} years old\"\n",
    "\n",
    "class Dog(Animal):\n",
    "    def __init__(self, name, age, breed):\n",
    "        # 呼叫父類別的 __init__\n",
    "        super().__init__(name, age)\n",
    "        self.breed = breed\n",
    "        print(f\"Dog.__init__ called for {name}\")\n",
    "    \n",
    "    def info(self):\n",
    "        # 先取得父類別的資訊，再添加自己的\n",
    "        base_info = super().info()\n",
    "        return f\"{base_info}, breed: {self.breed}\"\n",
    "\n",
    "# 使用\n",
    "dog = Dog(\"Max\", 3, \"Golden Retriever\")\n",
    "print(dog.info())"
   ]
  },
  {
   "cell_type": "markdown",
   "metadata": {},
   "source": [
    "**super() 的重要性**：\n",
    "- `super().__init__()` 確保父類別被正確初始化\n",
    "- 不使用 `super()` 會導致父類別的初始化被跳過\n",
    "- 在方法覆寫時，可用 `super().method()` 擴展父類別功能"
   ]
  },
  {
   "cell_type": "markdown",
   "metadata": {},
   "source": [
    "---\n",
    "\n",
    "### 💡 範例 3：方法覆寫（Method Overriding）與多型"
   ]
  },
  {
   "cell_type": "code",
   "execution_count": null,
   "metadata": {},
   "outputs": [],
   "source": [
    "class Animal:\n",
    "    def __init__(self, name):\n",
    "        self.name = name\n",
    "    \n",
    "    def speak(self):\n",
    "        return \"Some generic sound\"\n",
    "\n",
    "class Dog(Animal):\n",
    "    def speak(self):  # 覆寫父類別的 speak()\n",
    "        return \"Woof! Woof!\"\n",
    "\n",
    "class Cat(Animal):\n",
    "    def speak(self):  # 覆寫父類別的 speak()\n",
    "        return \"Meow! Meow!\"\n",
    "\n",
    "class Cow(Animal):\n",
    "    def speak(self):  # 覆寫父類別的 speak()\n",
    "        return \"Moo! Moo!\"\n",
    "\n",
    "# 多型的威力：同一個函式，處理不同類型的物件\n",
    "def make_animal_speak(animal):\n",
    "    print(f\"{animal.name} says: {animal.speak()}\")\n",
    "\n",
    "# 測試\n",
    "animals = [\n",
    "    Dog(\"Buddy\"),\n",
    "    Cat(\"Whiskers\"),\n",
    "    Cow(\"Bessie\")\n",
    "]\n",
    "\n",
    "for animal in animals:\n",
    "    make_animal_speak(animal)  # 同一個函式，不同的行為！"
   ]
  },
  {
   "cell_type": "markdown",
   "metadata": {},
   "source": [
    "**多型的優勢**：\n",
    "- 寫出更通用的程式碼\n",
    "- 新增動物類別時，`make_animal_speak()` 不需修改\n",
    "- 這就是開放封閉原則（OCP）：對擴展開放，對修改封閉"
   ]
  },
  {
   "cell_type": "markdown",
   "metadata": {},
   "source": [
    "---\n",
    "\n",
    "### 💡 範例 4：多重繼承與 MRO"
   ]
  },
  {
   "cell_type": "code",
   "execution_count": null,
   "metadata": {},
   "outputs": [],
   "source": [
    "# 多重繼承：一個類別繼承多個父類別\n",
    "class Flyable:\n",
    "    def fly(self):\n",
    "        return \"I can fly!\"\n",
    "\n",
    "class Swimmable:\n",
    "    def swim(self):\n",
    "        return \"I can swim!\"\n",
    "\n",
    "class Duck(Flyable, Swimmable):  # 繼承兩個類別\n",
    "    def __init__(self, name):\n",
    "        self.name = name\n",
    "    \n",
    "    def quack(self):\n",
    "        return \"Quack! Quack!\"\n",
    "\n",
    "# 使用\n",
    "donald = Duck(\"Donald\")\n",
    "print(donald.fly())    # 從 Flyable 繼承\n",
    "print(donald.swim())   # 從 Swimmable 繼承\n",
    "print(donald.quack())  # Duck 自己的方法"
   ]
  },
  {
   "cell_type": "code",
   "execution_count": null,
   "metadata": {},
   "outputs": [],
   "source": [
    "# 查看 MRO（Method Resolution Order）\n",
    "print(\"Duck 的 MRO:\")\n",
    "print(Duck.mro())\n",
    "print()\n",
    "print(\"或使用 __mro__:\")\n",
    "for cls in Duck.__mro__:\n",
    "    print(cls)"
   ]
  },
  {
   "cell_type": "markdown",
   "metadata": {},
   "source": [
    "**MRO 重點**：\n",
    "- MRO 決定方法查找的順序\n",
    "- 順序：Duck → Flyable → Swimmable → object\n",
    "- Python 使用 C3 線性化算法計算 MRO\n",
    "- 可用 `.mro()` 或 `.__mro__` 查看"
   ]
  },
  {
   "cell_type": "markdown",
   "metadata": {},
   "source": [
    "---\n",
    "\n",
    "### 💡 範例 5：抽象基類概念（ABC）"
   ]
  },
  {
   "cell_type": "code",
   "execution_count": null,
   "metadata": {},
   "outputs": [],
   "source": [
    "from abc import ABC, abstractmethod\n",
    "\n",
    "# 抽象基類：定義介面規範\n",
    "class Shape(ABC):\n",
    "    @abstractmethod\n",
    "    def area(self):\n",
    "        \"\"\"所有形狀都必須實作 area() 方法\"\"\"\n",
    "        pass\n",
    "    \n",
    "    @abstractmethod\n",
    "    def perimeter(self):\n",
    "        \"\"\"所有形狀都必須實作 perimeter() 方法\"\"\"\n",
    "        pass\n",
    "\n",
    "class Rectangle(Shape):\n",
    "    def __init__(self, width, height):\n",
    "        self.width = width\n",
    "        self.height = height\n",
    "    \n",
    "    def area(self):\n",
    "        return self.width * self.height\n",
    "    \n",
    "    def perimeter(self):\n",
    "        return 2 * (self.width + self.height)\n",
    "\n",
    "class Circle(Shape):\n",
    "    def __init__(self, radius):\n",
    "        self.radius = radius\n",
    "    \n",
    "    def area(self):\n",
    "        import math\n",
    "        return math.pi * self.radius ** 2\n",
    "    \n",
    "    def perimeter(self):\n",
    "        import math\n",
    "        return 2 * math.pi * self.radius\n",
    "\n",
    "# 使用\n",
    "shapes = [\n",
    "    Rectangle(5, 3),\n",
    "    Circle(4)\n",
    "]\n",
    "\n",
    "for shape in shapes:\n",
    "    print(f\"{shape.__class__.__name__}:\")\n",
    "    print(f\"  Area: {shape.area():.2f}\")\n",
    "    print(f\"  Perimeter: {shape.perimeter():.2f}\")"
   ]
  },
  {
   "cell_type": "code",
   "execution_count": null,
   "metadata": {},
   "outputs": [],
   "source": [
    "# 嘗試直接實例化抽象基類（會報錯）\n",
    "try:\n",
    "    shape = Shape()\n",
    "except TypeError as e:\n",
    "    print(f\"錯誤：{e}\")"
   ]
  },
  {
   "cell_type": "code",
   "execution_count": null,
   "metadata": {},
   "outputs": [],
   "source": [
    "# 忘記實作抽象方法（會報錯）\n",
    "class Triangle(Shape):\n",
    "    def __init__(self, a, b, c):\n",
    "        self.a = a\n",
    "        self.b = b\n",
    "        self.c = c\n",
    "    \n",
    "    def area(self):\n",
    "        # 使用海龍公式\n",
    "        s = (self.a + self.b + self.c) / 2\n",
    "        return (s * (s - self.a) * (s - self.b) * (s - self.c)) ** 0.5\n",
    "    \n",
    "    # 忘記實作 perimeter()！\n",
    "\n",
    "try:\n",
    "    triangle = Triangle(3, 4, 5)\n",
    "except TypeError as e:\n",
    "    print(f\"錯誤：{e}\")"
   ]
  },
  {
   "cell_type": "markdown",
   "metadata": {},
   "source": [
    "**抽象基類的用途**：\n",
    "- 定義介面規範（Contract）\n",
    "- 強制子類別實作特定方法\n",
    "- 不能直接實例化\n",
    "- 用於建立框架和 API"
   ]
  },
  {
   "cell_type": "markdown",
   "metadata": {},
   "source": [
    "---\n",
    "\n",
    "### 💡 範例 6：繼承 vs 組合"
   ]
  },
  {
   "cell_type": "code",
   "execution_count": null,
   "metadata": {},
   "outputs": [],
   "source": [
    "# 方案 1：使用繼承（不推薦）\n",
    "class Engine:\n",
    "    def start(self):\n",
    "        print(\"Engine started\")\n",
    "\n",
    "class Car(Engine):  # Car is-a Engine？不合理！\n",
    "    pass\n",
    "\n",
    "# 方案 2：使用組合（推薦）\n",
    "class Engine:\n",
    "    def start(self):\n",
    "        print(\"Engine started\")\n",
    "    \n",
    "    def stop(self):\n",
    "        print(\"Engine stopped\")\n",
    "\n",
    "class Car:\n",
    "    def __init__(self):\n",
    "        self.engine = Engine()  # Car has-a Engine！合理！\n",
    "    \n",
    "    def start(self):\n",
    "        print(\"Car starting...\")\n",
    "        self.engine.start()\n",
    "        print(\"Car ready to go!\")\n",
    "    \n",
    "    def stop(self):\n",
    "        print(\"Car stopping...\")\n",
    "        self.engine.stop()\n",
    "        print(\"Car stopped.\")\n",
    "\n",
    "# 使用\n",
    "my_car = Car()\n",
    "my_car.start()\n",
    "print()\n",
    "my_car.stop()"
   ]
  },
  {
   "cell_type": "markdown",
   "metadata": {},
   "source": [
    "**繼承 vs 組合的判斷**：\n",
    "\n",
    "| 關係 | 使用 | 範例 |\n",
    "|:-----|:-----|:-----|\n",
    "| is-a（是一個） | 繼承 | Dog is an Animal |\n",
    "| has-a（有一個） | 組合 | Car has an Engine |\n",
    "| can-do（能做某事） | 組合 | Car can drive |\n",
    "\n",
    "**經驗法則**：\n",
    "- 優先考慮組合（Composition over Inheritance）\n",
    "- 只在真正的 is-a 關係時使用繼承\n",
    "- 組合更靈活，耦合度更低"
   ]
  },
  {
   "cell_type": "markdown",
   "metadata": {},
   "source": [
    "---\n",
    "\n",
    "## Part III: 本章總結 | Chapter Summary"
   ]
  },
  {
   "cell_type": "markdown",
   "metadata": {},
   "source": [
    "### 📊 知識回顧\n",
    "\n",
    "#### 核心概念\n",
    "1. **繼承**：子類別獲取父類別的屬性和方法\n",
    "2. **單一繼承**：`class Child(Parent):`\n",
    "3. **多重繼承**：`class Child(Parent1, Parent2):`\n",
    "4. **super()**：呼叫父類別方法\n",
    "5. **方法覆寫**：子類別重新定義父類別方法\n",
    "6. **多型**：同一介面，不同實作\n",
    "7. **MRO**：方法解析順序\n",
    "8. **ABC**：抽象基類，定義介面規範\n",
    "\n",
    "#### 重要語法\n",
    "```python\n",
    "# 繼承\n",
    "class ChildClass(ParentClass):\n",
    "    pass\n",
    "\n",
    "# 呼叫父類別方法\n",
    "super().__init__()\n",
    "super().method()\n",
    "\n",
    "# 檢查繼承關係\n",
    "isinstance(obj, Class)\n",
    "issubclass(ChildClass, ParentClass)\n",
    "\n",
    "# 查看 MRO\n",
    "ClassName.mro()\n",
    "ClassName.__mro__\n",
    "```\n",
    "\n",
    "#### 設計原則\n",
    "- is-a 關係 → 繼承\n",
    "- has-a 關係 → 組合\n",
    "- 組合優於繼承（Composition over Inheritance）\n",
    "- 里氏替換原則（LSP）：子類別應能替換父類別"
   ]
  },
  {
   "cell_type": "markdown",
   "metadata": {},
   "source": [
    "### ⚠️ 常見誤區（Common Pitfalls）\n",
    "\n",
    "| 誤區 | 錯誤示例 | 正確做法 |\n",
    "|:-----|:---------|:---------|\n",
    "| 忘記呼叫 super() | 子類別 `__init__` 不呼叫父類別 | `super().__init__()` |\n",
    "| 過度使用繼承 | 為了重用程式碼而建立不合理的繼承 | 考慮使用組合 |\n",
    "| 混淆 isinstance 和 type | `type(obj) == ParentClass` | `isinstance(obj, ParentClass)` |\n",
    "| 多重繼承順序錯誤 | 不了解 MRO 導致方法呼叫混亂 | 使用 `.mro()` 檢查順序 |"
   ]
  },
  {
   "cell_type": "markdown",
   "metadata": {},
   "source": [
    "---\n",
    "\n",
    "### 🎯 自我檢核（Self-Check）\n",
    "\n",
    "完成本講義後，請回答以下問題：\n",
    "\n",
    "1. 什麼是繼承？它解決了什麼問題？\n",
    "2. `super()` 的作用是什麼？為什麼要用它？\n",
    "3. 什麼是多型？它有什麼優勢？\n",
    "4. MRO 是什麼？如何查看 MRO？\n",
    "5. 什麼時候該用繼承？什麼時候該用組合？\n",
    "6. 抽象基類（ABC）的用途是什麼？\n",
    "\n",
    "**參考答案請見課後習題解答**"
   ]
  },
  {
   "cell_type": "markdown",
   "metadata": {},
   "source": [
    "---\n",
    "\n",
    "### 🔗 延伸閱讀（Further Reading）\n",
    "\n",
    "#### Python 官方文件\n",
    "- [Classes - Inheritance](https://docs.python.org/3/tutorial/classes.html#inheritance)\n",
    "- [super() built-in function](https://docs.python.org/3/library/functions.html#super)\n",
    "- [Abstract Base Classes](https://docs.python.org/3/library/abc.html)\n",
    "\n",
    "#### 推薦資源\n",
    "- [Real Python: Inheritance and Composition](https://realpython.com/inheritance-composition-python/)\n",
    "- [Python's super() considered super!](https://rhettinger.wordpress.com/2011/05/26/super-considered-super/)\n",
    "\n",
    "#### 下一步\n",
    "- **Chapter 19: 特殊方法與運算子重載** - 學習更多進階技巧\n",
    "- 完成 `02-worked-examples.ipynb` 加深理解\n",
    "- 完成 `03-practice.ipynb` 進行課堂練習"
   ]
  },
  {
   "cell_type": "markdown",
   "metadata": {},
   "source": [
    "---\n",
    "\n",
    "## 💪 即時練習（Quick Practice）\n",
    "\n",
    "請在下方 cell 完成以下任務：\n",
    "\n",
    "1. 建立一個 `Vehicle` 父類別，包含 `brand` 和 `model` 屬性\n",
    "2. 建立一個 `Car` 子類別，繼承 `Vehicle`，添加 `doors` 屬性\n",
    "3. 建立一個 `Motorcycle` 子類別，繼承 `Vehicle`，添加 `has_sidecar` 屬性\n",
    "4. 兩個子類別都要覆寫 `info()` 方法，顯示完整資訊\n",
    "5. 創建物件並測試"
   ]
  },
  {
   "cell_type": "code",
   "execution_count": null,
   "metadata": {},
   "outputs": [],
   "source": [
    "# 在此撰寫你的程式碼\n",
    "\n",
    "class Vehicle:\n",
    "    # 你的程式碼\n",
    "    pass\n",
    "\n",
    "class Car(Vehicle):\n",
    "    # 你的程式碼\n",
    "    pass\n",
    "\n",
    "class Motorcycle(Vehicle):\n",
    "    # 你的程式碼\n",
    "    pass\n",
    "\n",
    "# 測試\n",
    "# 你的程式碼"
   ]
  },
  {
   "cell_type": "markdown",
   "metadata": {},
   "source": [
    "---\n",
    "\n",
    "## 📝 課後作業預告\n",
    "\n",
    "請依序完成：\n",
    "1. `02-worked-examples.ipynb` - 詳解範例（必做）\n",
    "2. `03-practice.ipynb` - 課堂練習（必做）\n",
    "3. `04-exercises.ipynb` - 課後習題（必做）\n",
    "4. `quiz.ipynb` - 自我測驗（檢核學習成效）\n",
    "\n",
    "**預計完成時間**：3-4 小時"
   ]
  }
 ],
 "metadata": {
  "kernelspec": {
   "display_name": "Python 3",
   "language": "python",
   "name": "python3"
  },
  "language_info": {
   "codemirror_mode": {
    "name": "ipython",
    "version": 3
   },
   "file_extension": ".py",
   "mimetype": "text/x-python",
   "name": "python",
   "nbconvert_exporter": "python",
   "pygments_lexer": "ipython3",
   "version": "3.8.0"
  }
 },
 "nbformat": 4,
 "nbformat_minor": 4
}
