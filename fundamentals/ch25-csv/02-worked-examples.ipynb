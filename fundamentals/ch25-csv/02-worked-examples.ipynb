{
 "cells": [
  {
   "cell_type": "markdown",
   "metadata": {},
   "source": "# 結構化資料: CSV | Structured Data: CSV\n\n## 📝 詳解範例 | Worked Examples\n\n---\n\n## 💡 本檔案目的\n\n本檔案提供 **4 個循序漸進的詳解範例**，每個範例包含：\n1. **問題描述**：實際應用情境\n2. **分析思路**：如何拆解問題\n3. **逐步實作**：程式碼 + 註解\n4. **執行結果**：預期輸出\n5. **知識點總結**：學到什麼\n\n---"
  },
  {
   "cell_type": "markdown",
   "metadata": {},
   "source": "## 範例 1：學生成績CSV讀寫\n\n### 📋 問題描述\n讀取CSV成績單，計算平均分數\n\n難度：基礎\n\n### 🔍 分析思路\n1. （根據題目拆解步驟）\n2. （思考需要哪些技術）\n3. （設計資料結構）\n\n### 💻 逐步實作"
  },
  {
   "cell_type": "code",
   "execution_count": null,
   "metadata": {},
   "outputs": [],
   "source": "# 範例 1 程式碼\n# TODO: 根據需求實作完整程式碼\n\nprint(\"範例 1：學生成績CSV讀寫\")\n# 實作內容..."
  },
  {
   "cell_type": "markdown",
   "metadata": {},
   "source": "### 📚 知識點總結\n- ✅ （知識點 1）\n- ✅ （知識點 2）\n- ✅ （知識點 3）\n\n---"
  },
  {
   "cell_type": "markdown",
   "metadata": {},
   "source": "## 範例 2：使用DictReader處理有標題的CSV\n\n### 📋 問題描述\n以字典形式讀取CSV，更易於理解\n\n難度：中級\n\n### 🔍 分析思路\n1. （根據題目拆解步驟）\n2. （思考需要哪些技術）\n3. （設計資料結構）\n\n### 💻 逐步實作"
  },
  {
   "cell_type": "code",
   "execution_count": null,
   "metadata": {},
   "outputs": [],
   "source": "# 範例 2 程式碼\n# TODO: 根據需求實作完整程式碼\n\nprint(\"範例 2：使用DictReader處理有標題的CSV\")\n# 實作內容..."
  },
  {
   "cell_type": "markdown",
   "metadata": {},
   "source": "### 📚 知識點總結\n- ✅ （知識點 1）\n- ✅ （知識點 2）\n- ✅ （知識點 3）\n\n---"
  },
  {
   "cell_type": "markdown",
   "metadata": {},
   "source": "## 範例 3：CSV資料過濾與匯出\n\n### 📋 問題描述\n讀取CSV，篩選符合條件的資料，寫入新CSV\n\n難度：中級\n\n### 🔍 分析思路\n1. （根據題目拆解步驟）\n2. （思考需要哪些技術）\n3. （設計資料結構）\n\n### 💻 逐步實作"
  },
  {
   "cell_type": "code",
   "execution_count": null,
   "metadata": {},
   "outputs": [],
   "source": "# 範例 3 程式碼\n# TODO: 根據需求實作完整程式碼\n\nprint(\"範例 3：CSV資料過濾與匯出\")\n# 實作內容..."
  },
  {
   "cell_type": "markdown",
   "metadata": {},
   "source": "### 📚 知識點總結\n- ✅ （知識點 1）\n- ✅ （知識點 2）\n- ✅ （知識點 3）\n\n---"
  },
  {
   "cell_type": "markdown",
   "metadata": {},
   "source": "## 範例 4：Excel相容CSV處理（中文、逗號）\n\n### 📋 問題描述\n處理包含中文、逗號的CSV，確保Excel正確開啟\n\n難度：進階\n\n### 🔍 分析思路\n1. （根據題目拆解步驟）\n2. （思考需要哪些技術）\n3. （設計資料結構）\n\n### 💻 逐步實作"
  },
  {
   "cell_type": "code",
   "execution_count": null,
   "metadata": {},
   "outputs": [],
   "source": "# 範例 4 程式碼\n# TODO: 根據需求實作完整程式碼\n\nprint(\"範例 4：Excel相容CSV處理（中文、逗號）\")\n# 實作內容..."
  },
  {
   "cell_type": "markdown",
   "metadata": {},
   "source": "### 📚 知識點總結\n- ✅ （知識點 1）\n- ✅ （知識點 2）\n- ✅ （知識點 3）\n\n---"
  }
 ],
 "metadata": {
  "kernelspec": {
   "display_name": "Python 3",
   "language": "python",
   "name": "python3"
  },
  "language_info": {
   "codemirror_mode": {
    "name": "ipython",
    "version": 3
   },
   "file_extension": ".py",
   "mimetype": "text/x-python",
   "name": "python",
   "nbconvert_exporter": "python",
   "pygments_lexer": "ipython3",
   "version": "3.8.0"
  }
 },
 "nbformat": 4,
 "nbformat_minor": 4
}