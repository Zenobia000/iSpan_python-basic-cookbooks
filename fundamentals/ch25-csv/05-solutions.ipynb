{
 "cells": [
  {
   "cell_type": "markdown",
   "metadata": {},
   "source": "# 結構化資料: CSV | Structured Data: CSV\n\n## ✅ 習題解答 | Solutions\n\n---\n\n## 📋 使用說明\n\n本檔案提供 **04-exercises.ipynb** 的完整解答。\n\n**建議使用方式**：\n1. ⚠️ **先自行完成習題**，不要直接看解答\n2. ✅ 完成後，對照本檔案檢查答案\n3. 📝 理解不同解法的優缺點\n4. 💡 學習更簡潔或更高效的寫法\n\n---"
  },
  {
   "cell_type": "markdown",
   "metadata": {},
   "source": "## 🟢 習題 1 解答：建立簡單的CSV檔案（3欄x5列）\n\n### 解題思路\n1. （分析步驟）\n2. （關鍵技巧）\n\n### 程式碼實作"
  },
  {
   "cell_type": "code",
   "execution_count": null,
   "metadata": {},
   "outputs": [],
   "source": "# 習題 1 參考解答\n# TODO: 實作完整解答\n\nprint(\"習題 1 解答\")\n# 程式碼..."
  },
  {
   "cell_type": "markdown",
   "metadata": {},
   "source": "### 知識點回顧\n- ✅ （重點 1）\n- ✅ （重點 2）\n\n### 其他解法\n（若有多種解法，可在此說明）\n\n---"
  },
  {
   "cell_type": "markdown",
   "metadata": {},
   "source": "## 🟢 習題 2 解答：讀取CSV並顯示所有內容\n\n### 解題思路\n1. （分析步驟）\n2. （關鍵技巧）\n\n### 程式碼實作"
  },
  {
   "cell_type": "code",
   "execution_count": null,
   "metadata": {},
   "outputs": [],
   "source": "# 習題 2 參考解答\n# TODO: 實作完整解答\n\nprint(\"習題 2 解答\")\n# 程式碼..."
  },
  {
   "cell_type": "markdown",
   "metadata": {},
   "source": "### 知識點回顧\n- ✅ （重點 1）\n- ✅ （重點 2）\n\n### 其他解法\n（若有多種解法，可在此說明）\n\n---"
  },
  {
   "cell_type": "markdown",
   "metadata": {},
   "source": "## 🟢 習題 3 解答：計算CSV檔案的列數與欄數\n\n### 解題思路\n1. （分析步驟）\n2. （關鍵技巧）\n\n### 程式碼實作"
  },
  {
   "cell_type": "code",
   "execution_count": null,
   "metadata": {},
   "outputs": [],
   "source": "# 習題 3 參考解答\n# TODO: 實作完整解答\n\nprint(\"習題 3 解答\")\n# 程式碼..."
  },
  {
   "cell_type": "markdown",
   "metadata": {},
   "source": "### 知識點回顧\n- ✅ （重點 1）\n- ✅ （重點 2）\n\n### 其他解法\n（若有多種解法，可在此說明）\n\n---"
  },
  {
   "cell_type": "markdown",
   "metadata": {},
   "source": "## 🟢 習題 4 解答：使用DictWriter寫入有標題的CSV\n\n### 解題思路\n1. （分析步驟）\n2. （關鍵技巧）\n\n### 程式碼實作"
  },
  {
   "cell_type": "code",
   "execution_count": null,
   "metadata": {},
   "outputs": [],
   "source": "# 習題 4 參考解答\n# TODO: 實作完整解答\n\nprint(\"習題 4 解答\")\n# 程式碼..."
  },
  {
   "cell_type": "markdown",
   "metadata": {},
   "source": "### 知識點回顧\n- ✅ （重點 1）\n- ✅ （重點 2）\n\n### 其他解法\n（若有多種解法，可在此說明）\n\n---"
  },
  {
   "cell_type": "markdown",
   "metadata": {},
   "source": "## 🟡 習題 5 解答：合併兩個CSV檔案\n\n### 解題思路\n1. （分析步驟）\n2. （關鍵技巧）\n\n### 程式碼實作"
  },
  {
   "cell_type": "code",
   "execution_count": null,
   "metadata": {},
   "outputs": [],
   "source": "# 習題 5 參考解答\n# TODO: 實作完整解答\n\nprint(\"習題 5 解答\")\n# 程式碼..."
  },
  {
   "cell_type": "markdown",
   "metadata": {},
   "source": "### 知識點回顧\n- ✅ （重點 1）\n- ✅ （重點 2）\n\n### 其他解法\n（若有多種解法，可在此說明）\n\n---"
  },
  {
   "cell_type": "markdown",
   "metadata": {},
   "source": "## 🟡 習題 6 解答：CSV轉JSON格式\n\n### 解題思路\n1. （分析步驟）\n2. （關鍵技巧）\n\n### 程式碼實作"
  },
  {
   "cell_type": "code",
   "execution_count": null,
   "metadata": {},
   "outputs": [],
   "source": "# 習題 6 參考解答\n# TODO: 實作完整解答\n\nprint(\"習題 6 解答\")\n# 程式碼..."
  },
  {
   "cell_type": "markdown",
   "metadata": {},
   "source": "### 知識點回顧\n- ✅ （重點 1）\n- ✅ （重點 2）\n\n### 其他解法\n（若有多種解法，可在此說明）\n\n---"
  },
  {
   "cell_type": "markdown",
   "metadata": {},
   "source": "## 🟡 習題 7 解答：從CSV提取特定欄位\n\n### 解題思路\n1. （分析步驟）\n2. （關鍵技巧）\n\n### 程式碼實作"
  },
  {
   "cell_type": "code",
   "execution_count": null,
   "metadata": {},
   "outputs": [],
   "source": "# 習題 7 參考解答\n# TODO: 實作完整解答\n\nprint(\"習題 7 解答\")\n# 程式碼..."
  },
  {
   "cell_type": "markdown",
   "metadata": {},
   "source": "### 知識點回顧\n- ✅ （重點 1）\n- ✅ （重點 2）\n\n### 其他解法\n（若有多種解法，可在此說明）\n\n---"
  },
  {
   "cell_type": "markdown",
   "metadata": {},
   "source": "## 🟡 習題 8 解答：CSV排序（按某欄位）\n\n### 解題思路\n1. （分析步驟）\n2. （關鍵技巧）\n\n### 程式碼實作"
  },
  {
   "cell_type": "code",
   "execution_count": null,
   "metadata": {},
   "outputs": [],
   "source": "# 習題 8 參考解答\n# TODO: 實作完整解答\n\nprint(\"習題 8 解答\")\n# 程式碼..."
  },
  {
   "cell_type": "markdown",
   "metadata": {},
   "source": "### 知識點回顧\n- ✅ （重點 1）\n- ✅ （重點 2）\n\n### 其他解法\n（若有多種解法，可在此說明）\n\n---"
  },
  {
   "cell_type": "markdown",
   "metadata": {},
   "source": "## 🔴 習題 9 解答：處理包含逗號的欄位（引號處理）\n\n### 解題思路\n1. （分析步驟）\n2. （關鍵技巧）\n\n### 程式碼實作"
  },
  {
   "cell_type": "code",
   "execution_count": null,
   "metadata": {},
   "outputs": [],
   "source": "# 習題 9 參考解答\n# TODO: 實作完整解答\n\nprint(\"習題 9 解答\")\n# 程式碼..."
  },
  {
   "cell_type": "markdown",
   "metadata": {},
   "source": "### 知識點回顧\n- ✅ （重點 1）\n- ✅ （重點 2）\n\n### 其他解法\n（若有多種解法，可在此說明）\n\n---"
  },
  {
   "cell_type": "markdown",
   "metadata": {},
   "source": "## 🔴 習題 10 解答：實作CSV資料驗證工具\n\n### 解題思路\n1. （分析步驟）\n2. （關鍵技巧）\n\n### 程式碼實作"
  },
  {
   "cell_type": "code",
   "execution_count": null,
   "metadata": {},
   "outputs": [],
   "source": "# 習題 10 參考解答\n# TODO: 實作完整解答\n\nprint(\"習題 10 解答\")\n# 程式碼..."
  },
  {
   "cell_type": "markdown",
   "metadata": {},
   "source": "### 知識點回顧\n- ✅ （重點 1）\n- ✅ （重點 2）\n\n### 其他解法\n（若有多種解法，可在此說明）\n\n---"
  },
  {
   "cell_type": "markdown",
   "metadata": {},
   "source": "## 🟣 習題 11 解答：CSV轉Excel格式（.xlsx）\n\n### 解題思路\n1. （分析步驟）\n2. （關鍵技巧）\n\n### 程式碼實作"
  },
  {
   "cell_type": "code",
   "execution_count": null,
   "metadata": {},
   "outputs": [],
   "source": "# 習題 11 參考解答\n# TODO: 實作完整解答\n\nprint(\"習題 11 解答\")\n# 程式碼..."
  },
  {
   "cell_type": "markdown",
   "metadata": {},
   "source": "### 知識點回顧\n- ✅ （重點 1）\n- ✅ （重點 2）\n\n### 其他解法\n（若有多種解法，可在此說明）\n\n---"
  },
  {
   "cell_type": "markdown",
   "metadata": {},
   "source": "## 🟣 習題 12 解答：大型CSV分批處理（避免記憶體不足）\n\n### 解題思路\n1. （分析步驟）\n2. （關鍵技巧）\n\n### 程式碼實作"
  },
  {
   "cell_type": "code",
   "execution_count": null,
   "metadata": {},
   "outputs": [],
   "source": "# 習題 12 參考解答\n# TODO: 實作完整解答\n\nprint(\"習題 12 解答\")\n# 程式碼..."
  },
  {
   "cell_type": "markdown",
   "metadata": {},
   "source": "### 知識點回顧\n- ✅ （重點 1）\n- ✅ （重點 2）\n\n### 其他解法\n（若有多種解法，可在此說明）\n\n---"
  }
 ],
 "metadata": {
  "kernelspec": {
   "display_name": "Python 3",
   "language": "python",
   "name": "python3"
  },
  "language_info": {
   "codemirror_mode": {
    "name": "ipython",
    "version": 3
   },
   "file_extension": ".py",
   "mimetype": "text/x-python",
   "name": "python",
   "nbconvert_exporter": "python",
   "pygments_lexer": "ipython3",
   "version": "3.8.0"
  }
 },
 "nbformat": 4,
 "nbformat_minor": 4
}