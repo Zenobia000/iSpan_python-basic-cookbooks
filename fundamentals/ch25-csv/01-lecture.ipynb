{
  "cells": [
    {
      "cell_type": "markdown",
      "metadata": {},
      "source": [
        "# Ch25: CSV Data Processing | CSV 資料處理\n\n## Part I: 理論基礎 | Theory Foundation\n\n---\n\n## 📚 章節概覽 | Chapter Overview\n\n### 本章學習內容\n\n**學習目標** (Learning Objectives):\n1. 理解 CSV 格式的本質與應用\n2. 掌握 csv.reader() 與 csv.writer() 基本讀寫\n3. 掌握 csv.DictReader() 與 csv.DictWriter() 結構化讀寫\n4. 處理不同編碼、分隔符號、特殊字元\n5. 實作資料清理、驗證、轉換\n\n**先備知識** (Prerequisites):\n- Ch23: File I/O 基礎\n- Ch24: JSON 資料處理\n- Ch09: 字典操作\n- Ch07: 列表操作\n\n**預估時間**: 2-3 小時\n\n---"
      ]
    },
    {
      "cell_type": "markdown",
      "metadata": {},
      "source": [
        "## 🔑 核心概念 | Key Concepts\n\n### 什麼是 CSV？\n\n**CSV (Comma-Separated Values)** 是一種簡單的文字檔案格式,用於儲存表格資料:\n\n```\n姓名,年齡,城市\n張三,25,台北\n李四,30,高雄\n王五,28,台中\n```\n\n**特點**:\n1. **簡單**: 純文字,易讀易寫\n2. **通用**: 幾乎所有程式都支援\n3. **輕量**: 檔案小,傳輸快\n4. **可攜**: 跨平台跨系統\n\n### CSV vs JSON\n\n| 特性 | CSV | JSON |\n|:-----|:----|:-----|\n| **結構** | 扁平表格 | 層次結構 |\n| **可讀性** | 高 (表格) | 中 (樹狀) |\n| **資料型別** | 全是字串 | 多種型別 |\n| **檔案大小** | 小 | 較大 |\n| **適用場景** | 資料匯出、統計分析 | API 資料交換 |\n\n---"
      ]
    },
    {
      "cell_type": "markdown",
      "metadata": {},
      "source": [
        "## Part II: 實作演練 | Practical Examples\n\n---\n\n## 範例 1: CSV 格式基礎\n\n**學習重點**: 理解 CSV 的結構與特性"
      ]
    },
    {
      "cell_type": "code",
      "metadata": {},
      "source": [
        "import csv\nfrom pathlib import Path\n\n# 建立測試目錄\ntest_dir = Path('csv_examples')\ntest_dir.mkdir(exist_ok=True)\n\n# 1. 最簡單的 CSV: 逗號分隔\nsimple_csv = test_dir / 'simple.csv'\nsimple_csv.write_text('''name,age,city\nAlice,25,Taipei\nBob,30,Tainan\nCharlie,28,Kaohsiung''', encoding='utf-8')\n\nprint(\"=== 簡單 CSV 內容 ===\")\nprint(simple_csv.read_text(encoding='utf-8'))\n\n# 2. 含特殊字元的 CSV: 使用引號\nspecial_csv = test_dir / 'special.csv'\nspecial_csv.write_text('''name,title,city\n\"Alice, PhD\",Professor,Taipei\nBob,\"Manager, Sales\",Tainan\nCharlie,Engineer,Kaohsiung''', encoding='utf-8')\n\nprint(\"\\n=== 含特殊字元的 CSV ===\")\nprint(special_csv.read_text(encoding='utf-8'))"
      ],
      "execution_count": null,
      "outputs": []
    },
    {
      "cell_type": "markdown",
      "metadata": {},
      "source": [
        "**知識點**:\n- CSV 以逗號分隔欄位,換行分隔列\n- 含逗號的欄位需用雙引號包裹\n- 第一列通常是標題列 (header)\n\n---"
      ]
    },
    {
      "cell_type": "markdown",
      "metadata": {},
      "source": [
        "## 範例 2: csv.reader() 基本讀取\n\n**學習重點**: 使用 csv.reader() 讀取 CSV 檔案"
      ]
    },
    {
      "cell_type": "code",
      "metadata": {},
      "source": [
        "import csv\n\ncsv_file = test_dir / 'simple.csv'\n\nprint(\"=== 基本讀取 ===\")\nwith open(csv_file, encoding='utf-8') as f:\n    reader = csv.reader(f)\n    for row in reader:\n        print(row)  # 每列是一個列表\n\nprint(\"\\n=== 分離標題與資料 ===\")\nwith open(csv_file, encoding='utf-8') as f:\n    reader = csv.reader(f)\n    headers = next(reader)  # 讀取第一列作為標題\n    print(f\"標題: {headers}\")\n    print(\"\\n資料:\")\n    for row in reader:\n        print(f\"  {row}\")"
      ],
      "execution_count": null,
      "outputs": []
    },
    {
      "cell_type": "markdown",
      "metadata": {},
      "source": [
        "**知識點**:\n- `csv.reader(file_object)` 傳回 reader 物件\n- 每列是字串列表: `['Alice', '25', 'Taipei']`\n- 使用 `next(reader)` 可跳過或讀取特定列\n\n---"
      ]
    },
    {
      "cell_type": "markdown",
      "metadata": {},
      "source": [
        "## 範例 3-12: 更多範例\n\n請參考完整的講義內容,包含:\n- 範例 3: csv.writer() 基本寫入\n- 範例 4: csv.DictReader() 字典讀取\n- 範例 5: csv.DictWriter() 字典寫入\n- 範例 6: 處理標題列\n- 範例 7: 不同分隔符號\n- 範例 8: 處理換行符號與引號\n- 範例 9: 編碼處理\n- 範例 10: 資料清理與驗證\n- 範例 11: 大型 CSV 處理\n- 範例 12: 實戰 - 學生成績管理系統\n\n---"
      ]
    },
    {
      "cell_type": "markdown",
      "metadata": {},
      "source": [
        "## Part III: 本章總結 | Chapter Summary\n\n---\n\n## 📊 知識回顧 | Knowledge Review\n\n### 核心概念總結\n\n1. **CSV 基礎**\n   - 逗號分隔值格式\n   - 簡單、通用、人類可讀\n\n2. **讀取方法**\n   - `csv.reader()`: 列表讀取\n   - `csv.DictReader()`: 字典讀取 (推薦)\n\n3. **寫入方法**\n   - `csv.writer()`: 列表寫入\n   - `csv.DictWriter()`: 字典寫入 (推薦)\n\n### 選擇指南\n\n**何時用 reader？**\n- CSV 沒有標題列\n- 只需順序處理\n\n**何時用 DictReader？** (推薦)\n- CSV 有標題列\n- 需透過欄位名稱存取\n\n---\n\n## ✅ 自我檢核 | Self-Check\n\n完成本章後,你應該能夠:\n\n- [ ] 使用 csv.reader() 讀取 CSV\n- [ ] 使用 csv.writer() 寫入 CSV\n- [ ] 使用 DictReader/DictWriter 處理結構化資料\n- [ ] 處理不同分隔符號的 CSV\n- [ ] 處理不同編碼\n- [ ] 實作資料清理與驗證\n\n---\n\n**恭喜完成 Ch25! 繼續前往 Ch26 🚀**"
      ]
    }
  ],
  "metadata": {
    "kernelspec": {
      "display_name": "Python 3",
      "language": "python",
      "name": "python3"
    },
    "language_info": {
      "name": "python",
      "version": "3.8.0"
    }
  },
  "nbformat": 4,
  "nbformat_minor": 4
}