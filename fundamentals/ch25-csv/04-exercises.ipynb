{
 "cells": [
  {
   "cell_type": "markdown",
   "metadata": {},
   "source": "# 結構化資料: CSV | Structured Data: CSV\n\n## ✍️ 課後習題 | Exercises\n\n---\n\n## 📋 習題說明\n\n本檔案包含 **12 題**，難度分級如下：\n- 🟢 **基礎題（1-4）**：熟悉基本語法\n- 🟡 **中級題（5-8）**：綜合應用\n- 🔴 **進階題（9-10）**：深入思考\n- 🟣 **挑戰題（11-12）**：擴展學習\n\n**建議完成時間**：90-120 分鐘\n\n**完成後請對照** `05-solutions.ipynb` **檢視解答**\n\n---"
  },
  {
   "cell_type": "markdown",
   "metadata": {},
   "source": "## 🟢 習題 1：建立簡單的CSV檔案（3欄x5列）\n\n**難度**：基礎 | **主題**：writer基本用法\n\n### 題目要求\n（詳細需求描述）\n\n### 範例輸入/輸出\n```\n（範例）\n```"
  },
  {
   "cell_type": "code",
   "execution_count": null,
   "metadata": {},
   "outputs": [],
   "source": "# 在此撰寫你的程式碼\n\n"
  },
  {
   "cell_type": "markdown",
   "metadata": {},
   "source": "---"
  },
  {
   "cell_type": "markdown",
   "metadata": {},
   "source": "## 🟢 習題 2：讀取CSV並顯示所有內容\n\n**難度**：基礎 | **主題**：reader基本用法\n\n### 題目要求\n（詳細需求描述）\n\n### 範例輸入/輸出\n```\n（範例）\n```"
  },
  {
   "cell_type": "code",
   "execution_count": null,
   "metadata": {},
   "outputs": [],
   "source": "# 在此撰寫你的程式碼\n\n"
  },
  {
   "cell_type": "markdown",
   "metadata": {},
   "source": "---"
  },
  {
   "cell_type": "markdown",
   "metadata": {},
   "source": "## 🟢 習題 3：計算CSV檔案的列數與欄數\n\n**難度**：基礎 | **主題**：資料統計\n\n### 題目要求\n（詳細需求描述）\n\n### 範例輸入/輸出\n```\n（範例）\n```"
  },
  {
   "cell_type": "code",
   "execution_count": null,
   "metadata": {},
   "outputs": [],
   "source": "# 在此撰寫你的程式碼\n\n"
  },
  {
   "cell_type": "markdown",
   "metadata": {},
   "source": "---"
  },
  {
   "cell_type": "markdown",
   "metadata": {},
   "source": "## 🟢 習題 4：使用DictWriter寫入有標題的CSV\n\n**難度**：基礎 | **主題**：字典寫入\n\n### 題目要求\n（詳細需求描述）\n\n### 範例輸入/輸出\n```\n（範例）\n```"
  },
  {
   "cell_type": "code",
   "execution_count": null,
   "metadata": {},
   "outputs": [],
   "source": "# 在此撰寫你的程式碼\n\n"
  },
  {
   "cell_type": "markdown",
   "metadata": {},
   "source": "---"
  },
  {
   "cell_type": "markdown",
   "metadata": {},
   "source": "## 🟡 習題 5：合併兩個CSV檔案\n\n**難度**：中級 | **主題**：檔案合併\n\n### 題目要求\n（詳細需求描述）\n\n### 範例輸入/輸出\n```\n（範例）\n```"
  },
  {
   "cell_type": "code",
   "execution_count": null,
   "metadata": {},
   "outputs": [],
   "source": "# 在此撰寫你的程式碼\n\n"
  },
  {
   "cell_type": "markdown",
   "metadata": {},
   "source": "---"
  },
  {
   "cell_type": "markdown",
   "metadata": {},
   "source": "## 🟡 習題 6：CSV轉JSON格式\n\n**難度**：中級 | **主題**：格式轉換\n\n### 題目要求\n（詳細需求描述）\n\n### 範例輸入/輸出\n```\n（範例）\n```"
  },
  {
   "cell_type": "code",
   "execution_count": null,
   "metadata": {},
   "outputs": [],
   "source": "# 在此撰寫你的程式碼\n\n"
  },
  {
   "cell_type": "markdown",
   "metadata": {},
   "source": "---"
  },
  {
   "cell_type": "markdown",
   "metadata": {},
   "source": "## 🟡 習題 7：從CSV提取特定欄位\n\n**難度**：中級 | **主題**：欄位選擇\n\n### 題目要求\n（詳細需求描述）\n\n### 範例輸入/輸出\n```\n（範例）\n```"
  },
  {
   "cell_type": "code",
   "execution_count": null,
   "metadata": {},
   "outputs": [],
   "source": "# 在此撰寫你的程式碼\n\n"
  },
  {
   "cell_type": "markdown",
   "metadata": {},
   "source": "---"
  },
  {
   "cell_type": "markdown",
   "metadata": {},
   "source": "## 🟡 習題 8：CSV排序（按某欄位）\n\n**難度**：中級 | **主題**：資料排序\n\n### 題目要求\n（詳細需求描述）\n\n### 範例輸入/輸出\n```\n（範例）\n```"
  },
  {
   "cell_type": "code",
   "execution_count": null,
   "metadata": {},
   "outputs": [],
   "source": "# 在此撰寫你的程式碼\n\n"
  },
  {
   "cell_type": "markdown",
   "metadata": {},
   "source": "---"
  },
  {
   "cell_type": "markdown",
   "metadata": {},
   "source": "## 🔴 習題 9：處理包含逗號的欄位（引號處理）\n\n**難度**：進階 | **主題**：特殊字元\n\n### 題目要求\n（詳細需求描述）\n\n### 範例輸入/輸出\n```\n（範例）\n```"
  },
  {
   "cell_type": "code",
   "execution_count": null,
   "metadata": {},
   "outputs": [],
   "source": "# 在此撰寫你的程式碼\n\n"
  },
  {
   "cell_type": "markdown",
   "metadata": {},
   "source": "---"
  },
  {
   "cell_type": "markdown",
   "metadata": {},
   "source": "## 🔴 習題 10：實作CSV資料驗證工具\n\n**難度**：進階 | **主題**：資料清洗\n\n### 題目要求\n（詳細需求描述）\n\n### 範例輸入/輸出\n```\n（範例）\n```"
  },
  {
   "cell_type": "code",
   "execution_count": null,
   "metadata": {},
   "outputs": [],
   "source": "# 在此撰寫你的程式碼\n\n"
  },
  {
   "cell_type": "markdown",
   "metadata": {},
   "source": "---"
  },
  {
   "cell_type": "markdown",
   "metadata": {},
   "source": "## 🟣 習題 11：CSV轉Excel格式（.xlsx）\n\n**難度**：挑戰 | **主題**：openpyxl模組\n\n### 題目要求\n（詳細需求描述）\n\n### 範例輸入/輸出\n```\n（範例）\n```"
  },
  {
   "cell_type": "code",
   "execution_count": null,
   "metadata": {},
   "outputs": [],
   "source": "# 在此撰寫你的程式碼\n\n"
  },
  {
   "cell_type": "markdown",
   "metadata": {},
   "source": "---"
  },
  {
   "cell_type": "markdown",
   "metadata": {},
   "source": "## 🟣 習題 12：大型CSV分批處理（避免記憶體不足）\n\n**難度**：挑戰 | **主題**：效能優化\n\n### 題目要求\n（詳細需求描述）\n\n### 範例輸入/輸出\n```\n（範例）\n```"
  },
  {
   "cell_type": "code",
   "execution_count": null,
   "metadata": {},
   "outputs": [],
   "source": "# 在此撰寫你的程式碼\n\n"
  },
  {
   "cell_type": "markdown",
   "metadata": {},
   "source": "---"
  }
 ],
 "metadata": {
  "kernelspec": {
   "display_name": "Python 3",
   "language": "python",
   "name": "python3"
  },
  "language_info": {
   "codemirror_mode": {
    "name": "ipython",
    "version": 3
   },
   "file_extension": ".py",
   "mimetype": "text/x-python",
   "name": "python",
   "nbconvert_exporter": "python",
   "pygments_lexer": "ipython3",
   "version": "3.8.0"
  }
 },
 "nbformat": 4,
 "nbformat_minor": 4
}