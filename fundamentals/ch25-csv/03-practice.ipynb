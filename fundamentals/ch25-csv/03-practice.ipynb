{
 "cells": [
  {
   "cell_type": "markdown",
   "metadata": {},
   "source": "# 結構化資料: CSV | Structured Data: CSV\n\n## 🛠️ 課堂練習 | Practice\n\n---\n\n## 📋 練習說明\n\n本檔案包含 **6 個課堂練習**，用於現場實作，鞏固學習成果。\n\n**建議流程**：\n1. 閱讀題目要求\n2. 獨立思考解法\n3. 實際撰寫程式碼\n4. 執行測試\n5. 若遇到困難，可參考 `02-worked-examples.ipynb` 的範例\n\n**預計時間**：30 分鐘\n\n---"
  },
  {
   "cell_type": "markdown",
   "metadata": {},
   "source": "## 練習 1：建立簡單的CSV檔案（3欄x5列）\n\n**難度**：基礎 | **主題**：writer基本用法\n\n### 題目要求\n（詳細需求描述）\n\n### 提示\n- 提示 1\n- 提示 2"
  },
  {
   "cell_type": "code",
   "execution_count": null,
   "metadata": {},
   "outputs": [],
   "source": "# 在此撰寫你的程式碼\n\n"
  },
  {
   "cell_type": "markdown",
   "metadata": {},
   "source": "---"
  },
  {
   "cell_type": "markdown",
   "metadata": {},
   "source": "## 練習 2：讀取CSV並顯示所有內容\n\n**難度**：基礎 | **主題**：reader基本用法\n\n### 題目要求\n（詳細需求描述）\n\n### 提示\n- 提示 1\n- 提示 2"
  },
  {
   "cell_type": "code",
   "execution_count": null,
   "metadata": {},
   "outputs": [],
   "source": "# 在此撰寫你的程式碼\n\n"
  },
  {
   "cell_type": "markdown",
   "metadata": {},
   "source": "---"
  },
  {
   "cell_type": "markdown",
   "metadata": {},
   "source": "## 練習 3：計算CSV檔案的列數與欄數\n\n**難度**：基礎 | **主題**：資料統計\n\n### 題目要求\n（詳細需求描述）\n\n### 提示\n- 提示 1\n- 提示 2"
  },
  {
   "cell_type": "code",
   "execution_count": null,
   "metadata": {},
   "outputs": [],
   "source": "# 在此撰寫你的程式碼\n\n"
  },
  {
   "cell_type": "markdown",
   "metadata": {},
   "source": "---"
  },
  {
   "cell_type": "markdown",
   "metadata": {},
   "source": "## 練習 4：使用DictWriter寫入有標題的CSV\n\n**難度**：基礎 | **主題**：字典寫入\n\n### 題目要求\n（詳細需求描述）\n\n### 提示\n- 提示 1\n- 提示 2"
  },
  {
   "cell_type": "code",
   "execution_count": null,
   "metadata": {},
   "outputs": [],
   "source": "# 在此撰寫你的程式碼\n\n"
  },
  {
   "cell_type": "markdown",
   "metadata": {},
   "source": "---"
  },
  {
   "cell_type": "markdown",
   "metadata": {},
   "source": "## 練習 5：合併兩個CSV檔案\n\n**難度**：中級 | **主題**：檔案合併\n\n### 題目要求\n（詳細需求描述）\n\n### 提示\n- 提示 1\n- 提示 2"
  },
  {
   "cell_type": "code",
   "execution_count": null,
   "metadata": {},
   "outputs": [],
   "source": "# 在此撰寫你的程式碼\n\n"
  },
  {
   "cell_type": "markdown",
   "metadata": {},
   "source": "---"
  },
  {
   "cell_type": "markdown",
   "metadata": {},
   "source": "## 練習 6：CSV轉JSON格式\n\n**難度**：中級 | **主題**：格式轉換\n\n### 題目要求\n（詳細需求描述）\n\n### 提示\n- 提示 1\n- 提示 2"
  },
  {
   "cell_type": "code",
   "execution_count": null,
   "metadata": {},
   "outputs": [],
   "source": "# 在此撰寫你的程式碼\n\n"
  },
  {
   "cell_type": "markdown",
   "metadata": {},
   "source": "---"
  }
 ],
 "metadata": {
  "kernelspec": {
   "display_name": "Python 3",
   "language": "python",
   "name": "python3"
  },
  "language_info": {
   "codemirror_mode": {
    "name": "ipython",
    "version": 3
   },
   "file_extension": ".py",
   "mimetype": "text/x-python",
   "name": "python",
   "nbconvert_exporter": "python",
   "pygments_lexer": "ipython3",
   "version": "3.8.0"
  }
 },
 "nbformat": 4,
 "nbformat_minor": 4
}