{
 "cells": [
  {
   "cell_type": "markdown",
   "metadata": {},
   "source": "# 結構化資料: CSV | Structured Data: CSV\n\n## 📝 自我測驗 | Quiz\n\n---\n\n## 📋 測驗說明\n\n本測驗包含：\n- **Part A: 選擇題（10 題）** - 每題 5 分，共 50 分\n- **Part B: 程式題（5 題）** - 每題 10 分，共 50 分\n- **總分：100 分** | **及格：70 分**\n\n**建議時間**：25 分鐘\n\n---"
  },
  {
   "cell_type": "markdown",
   "metadata": {},
   "source": "## Part A: 選擇題（50 分）\n\n請選擇最適合的答案。"
  },
  {
   "cell_type": "markdown",
   "metadata": {},
   "source": "### 第 1 題（5 分）\n\n（題目內容）\n\n(A) 選項 A  \n(B) 選項 B  \n(C) 選項 C  \n(D) 選項 D  \n\n**你的答案**：\n\n---"
  },
  {
   "cell_type": "markdown",
   "metadata": {},
   "source": "### 第 2 題（5 分）\n\n（題目內容）\n\n(A) 選項 A  \n(B) 選項 B  \n(C) 選項 C  \n(D) 選項 D  \n\n**你的答案**：\n\n---"
  },
  {
   "cell_type": "markdown",
   "metadata": {},
   "source": "### 第 3 題（5 分）\n\n（題目內容）\n\n(A) 選項 A  \n(B) 選項 B  \n(C) 選項 C  \n(D) 選項 D  \n\n**你的答案**：\n\n---"
  },
  {
   "cell_type": "markdown",
   "metadata": {},
   "source": "### 第 4 題（5 分）\n\n（題目內容）\n\n(A) 選項 A  \n(B) 選項 B  \n(C) 選項 C  \n(D) 選項 D  \n\n**你的答案**：\n\n---"
  },
  {
   "cell_type": "markdown",
   "metadata": {},
   "source": "### 第 5 題（5 分）\n\n（題目內容）\n\n(A) 選項 A  \n(B) 選項 B  \n(C) 選項 C  \n(D) 選項 D  \n\n**你的答案**：\n\n---"
  },
  {
   "cell_type": "markdown",
   "metadata": {},
   "source": "### 第 6 題（5 分）\n\n（題目內容）\n\n(A) 選項 A  \n(B) 選項 B  \n(C) 選項 C  \n(D) 選項 D  \n\n**你的答案**：\n\n---"
  },
  {
   "cell_type": "markdown",
   "metadata": {},
   "source": "### 第 7 題（5 分）\n\n（題目內容）\n\n(A) 選項 A  \n(B) 選項 B  \n(C) 選項 C  \n(D) 選項 D  \n\n**你的答案**：\n\n---"
  },
  {
   "cell_type": "markdown",
   "metadata": {},
   "source": "### 第 8 題（5 分）\n\n（題目內容）\n\n(A) 選項 A  \n(B) 選項 B  \n(C) 選項 C  \n(D) 選項 D  \n\n**你的答案**：\n\n---"
  },
  {
   "cell_type": "markdown",
   "metadata": {},
   "source": "### 第 9 題（5 分）\n\n（題目內容）\n\n(A) 選項 A  \n(B) 選項 B  \n(C) 選項 C  \n(D) 選項 D  \n\n**你的答案**：\n\n---"
  },
  {
   "cell_type": "markdown",
   "metadata": {},
   "source": "### 第 10 題（5 分）\n\n（題目內容）\n\n(A) 選項 A  \n(B) 選項 B  \n(C) 選項 C  \n(D) 選項 D  \n\n**你的答案**：\n\n---"
  },
  {
   "cell_type": "markdown",
   "metadata": {},
   "source": "## Part B: 程式題（50 分）\n\n請撰寫程式碼完成以下任務。"
  },
  {
   "cell_type": "markdown",
   "metadata": {},
   "source": "### 程式題 1（10 分）\n\n**題目**：（描述）\n\n**範例輸入/輸出**：\n```\n（範例）\n```"
  },
  {
   "cell_type": "code",
   "execution_count": null,
   "metadata": {},
   "outputs": [],
   "source": "# 在此撰寫你的程式碼\n\n"
  },
  {
   "cell_type": "markdown",
   "metadata": {},
   "source": "---"
  },
  {
   "cell_type": "markdown",
   "metadata": {},
   "source": "### 程式題 2（10 分）\n\n**題目**：（描述）\n\n**範例輸入/輸出**：\n```\n（範例）\n```"
  },
  {
   "cell_type": "code",
   "execution_count": null,
   "metadata": {},
   "outputs": [],
   "source": "# 在此撰寫你的程式碼\n\n"
  },
  {
   "cell_type": "markdown",
   "metadata": {},
   "source": "---"
  },
  {
   "cell_type": "markdown",
   "metadata": {},
   "source": "### 程式題 3（10 分）\n\n**題目**：（描述）\n\n**範例輸入/輸出**：\n```\n（範例）\n```"
  },
  {
   "cell_type": "code",
   "execution_count": null,
   "metadata": {},
   "outputs": [],
   "source": "# 在此撰寫你的程式碼\n\n"
  },
  {
   "cell_type": "markdown",
   "metadata": {},
   "source": "---"
  },
  {
   "cell_type": "markdown",
   "metadata": {},
   "source": "### 程式題 4（10 分）\n\n**題目**：（描述）\n\n**範例輸入/輸出**：\n```\n（範例）\n```"
  },
  {
   "cell_type": "code",
   "execution_count": null,
   "metadata": {},
   "outputs": [],
   "source": "# 在此撰寫你的程式碼\n\n"
  },
  {
   "cell_type": "markdown",
   "metadata": {},
   "source": "---"
  },
  {
   "cell_type": "markdown",
   "metadata": {},
   "source": "### 程式題 5（10 分）\n\n**題目**：（描述）\n\n**範例輸入/輸出**：\n```\n（範例）\n```"
  },
  {
   "cell_type": "code",
   "execution_count": null,
   "metadata": {},
   "outputs": [],
   "source": "# 在此撰寫你的程式碼\n\n"
  },
  {
   "cell_type": "markdown",
   "metadata": {},
   "source": "---"
  },
  {
   "cell_type": "markdown",
   "metadata": {},
   "source": "## 📊 評分標準\n\n### Part A 選擇題解答\n1. (A/B/C/D)\n2. (A/B/C/D)\n... (在完成後填入正確答案)\n\n### Part B 程式題評分重點\n1. 程式題 1：（評分標準）\n2. 程式題 2：（評分標準）\n...\n\n---\n\n## 🎯 學習建議\n\n- **70 分以上**：恭喜！已充分掌握本章內容\n- **60-69 分**：基本概念良好，建議複習弱項\n- **60 分以下**：需要重新學習本章，完成所有練習題"
  }
 ],
 "metadata": {
  "kernelspec": {
   "display_name": "Python 3",
   "language": "python",
   "name": "python3"
  },
  "language_info": {
   "codemirror_mode": {
    "name": "ipython",
    "version": 3
   },
   "file_extension": ".py",
   "mimetype": "text/x-python",
   "name": "python",
   "nbconvert_exporter": "python",
   "pygments_lexer": "ipython3",
   "version": "3.8.0"
  }
 },
 "nbformat": 4,
 "nbformat_minor": 4
}