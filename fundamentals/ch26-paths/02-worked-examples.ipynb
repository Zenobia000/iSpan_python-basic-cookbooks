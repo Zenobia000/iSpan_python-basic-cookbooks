{
 "cells": [
  {
   "cell_type": "markdown",
   "metadata": {},
   "source": "# 路徑與檔案系統 | Paths and File Systems\n\n## 📝 詳解範例 | Worked Examples\n\n---\n\n## 💡 本檔案目的\n\n本檔案提供 **4 個循序漸進的詳解範例**，每個範例包含：\n1. **問題描述**：實際應用情境\n2. **分析思路**：如何拆解問題\n3. **逐步實作**：程式碼 + 註解\n4. **執行結果**：預期輸出\n5. **知識點總結**：學到什麼\n\n---"
  },
  {
   "cell_type": "markdown",
   "metadata": {},
   "source": "## 範例 1：使用pathlib建立和管理路徑\n\n### 📋 問題描述\n展示Path物件的基本操作\n\n難度：基礎\n\n### 🔍 分析思路\n1. （根據題目拆解步驟）\n2. （思考需要哪些技術）\n3. （設計資料結構）\n\n### 💻 逐步實作"
  },
  {
   "cell_type": "code",
   "execution_count": null,
   "metadata": {},
   "outputs": [],
   "source": "# 範例 1 程式碼\n# TODO: 根據需求實作完整程式碼\n\nprint(\"範例 1：使用pathlib建立和管理路徑\")\n# 實作內容..."
  },
  {
   "cell_type": "markdown",
   "metadata": {},
   "source": "### 📚 知識點總結\n- ✅ （知識點 1）\n- ✅ （知識點 2）\n- ✅ （知識點 3）\n\n---"
  },
  {
   "cell_type": "markdown",
   "metadata": {},
   "source": "## 範例 2：檔案系統資訊獲取\n\n### 📋 問題描述\n取得檔案大小、修改時間、是否存在等資訊\n\n難度：中級\n\n### 🔍 分析思路\n1. （根據題目拆解步驟）\n2. （思考需要哪些技術）\n3. （設計資料結構）\n\n### 💻 逐步實作"
  },
  {
   "cell_type": "code",
   "execution_count": null,
   "metadata": {},
   "outputs": [],
   "source": "# 範例 2 程式碼\n# TODO: 根據需求實作完整程式碼\n\nprint(\"範例 2：檔案系統資訊獲取\")\n# 實作內容..."
  },
  {
   "cell_type": "markdown",
   "metadata": {},
   "source": "### 📚 知識點總結\n- ✅ （知識點 1）\n- ✅ （知識點 2）\n- ✅ （知識點 3）\n\n---"
  },
  {
   "cell_type": "markdown",
   "metadata": {},
   "source": "## 範例 3：遞迴遍歷目錄\n\n### 📋 問題描述\n搜尋目錄下所有特定副檔名的檔案\n\n難度：中級\n\n### 🔍 分析思路\n1. （根據題目拆解步驟）\n2. （思考需要哪些技術）\n3. （設計資料結構）\n\n### 💻 逐步實作"
  },
  {
   "cell_type": "code",
   "execution_count": null,
   "metadata": {},
   "outputs": [],
   "source": "# 範例 3 程式碼\n# TODO: 根據需求實作完整程式碼\n\nprint(\"範例 3：遞迴遍歷目錄\")\n# 實作內容..."
  },
  {
   "cell_type": "markdown",
   "metadata": {},
   "source": "### 📚 知識點總結\n- ✅ （知識點 1）\n- ✅ （知識點 2）\n- ✅ （知識點 3）\n\n---"
  },
  {
   "cell_type": "markdown",
   "metadata": {},
   "source": "## 範例 4：跨平台路徑處理\n\n### 📋 問題描述\n處理Windows和Linux路徑差異\n\n難度：進階\n\n### 🔍 分析思路\n1. （根據題目拆解步驟）\n2. （思考需要哪些技術）\n3. （設計資料結構）\n\n### 💻 逐步實作"
  },
  {
   "cell_type": "code",
   "execution_count": null,
   "metadata": {},
   "outputs": [],
   "source": "# 範例 4 程式碼\n# TODO: 根據需求實作完整程式碼\n\nprint(\"範例 4：跨平台路徑處理\")\n# 實作內容..."
  },
  {
   "cell_type": "markdown",
   "metadata": {},
   "source": "### 📚 知識點總結\n- ✅ （知識點 1）\n- ✅ （知識點 2）\n- ✅ （知識點 3）\n\n---"
  }
 ],
 "metadata": {
  "kernelspec": {
   "display_name": "Python 3",
   "language": "python",
   "name": "python3"
  },
  "language_info": {
   "codemirror_mode": {
    "name": "ipython",
    "version": 3
   },
   "file_extension": ".py",
   "mimetype": "text/x-python",
   "name": "python",
   "nbconvert_exporter": "python",
   "pygments_lexer": "ipython3",
   "version": "3.8.0"
  }
 },
 "nbformat": 4,
 "nbformat_minor": 4
}