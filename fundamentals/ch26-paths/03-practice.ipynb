{
 "cells": [
  {
   "cell_type": "markdown",
   "metadata": {},
   "source": [
    "# 路徑與檔案系統 | Paths and File Systems\n",
    "\n",
    "## 🛠️ 課堂練習 | Practice\n",
    "\n",
    "---\n",
    "\n",
    "## 📋 練習說明\n",
    "\n",
    "本檔案包含 **12 個課堂練習**，用於現場實作，鞏固學習成果。\n",
    "\n",
    "**建議流程**：\n",
    "1. 閱讀題目要求\n",
    "2. 獨立思考解法\n",
    "3. 實際撰寫程式碼\n",
    "4. 執行測試\n",
    "5. 若遇到困難，可參考 `02-worked-examples.ipynb` 的範例\n",
    "\n",
    "**預計時間**：40 分鐘\n",
    "\n",
    "---"
   ]
  },
  {
   "cell_type": "markdown",
   "metadata": {},
   "source": [
    "## 練習 1：建立 Path 物件\n",
    "\n",
    "**難度**：基礎 | **主題**：Path 基本操作\n",
    "\n",
    "### 題目要求\n",
    "使用 `pathlib.Path` 完成以下任務：\n",
    "1. 建立相對路徑 `data/files/report.txt`\n",
    "2. 使用 `/` 運算子組合路徑：`project` + `src` + `main.py`\n",
    "3. 取得當前工作目錄\n",
    "4. 取得使用者家目錄\n",
    "\n",
    "### 提示\n",
    "- 使用 `Path()` 建立路徑物件\n",
    "- 使用 `Path.cwd()` 取得當前目錄\n",
    "- 使用 `Path.home()` 取得家目錄"
   ]
  },
  {
   "cell_type": "code",
   "execution_count": null,
   "metadata": {},
   "outputs": [],
   "source": [
    "# 在此撰寫你的程式碼\n",
    "from pathlib import Path\n",
    "\n"
   ]
  },
  {
   "cell_type": "markdown",
   "metadata": {},
   "source": [
    "---"
   ]
  },
  {
   "cell_type": "markdown",
   "metadata": {},
   "source": [
    "## 練習 2：路徑屬性提取\n",
    "\n",
    "**難度**：基礎 | **主題**：name, stem, suffix, parent\n",
    "\n",
    "### 題目要求\n",
    "給定路徑 `'/home/user/documents/report.final.pdf'`，提取並顯示：\n",
    "1. 完整檔名\n",
    "2. 主檔名（不含副檔名）\n",
    "3. 副檔名\n",
    "4. 所有副檔名\n",
    "5. 父目錄\n",
    "6. 路徑的所有組成部分\n",
    "\n",
    "### 提示\n",
    "- `.name` - 完整檔名\n",
    "- `.stem` - 主檔名\n",
    "- `.suffix` - 副檔名\n",
    "- `.suffixes` - 所有副檔名列表\n",
    "- `.parent` - 父目錄\n",
    "- `.parts` - 路徑組成部分"
   ]
  },
  {
   "cell_type": "code",
   "execution_count": null,
   "metadata": {},
   "outputs": [],
   "source": [
    "# 在此撰寫你的程式碼\n",
    "from pathlib import Path\n",
    "\n"
   ]
  },
  {
   "cell_type": "markdown",
   "metadata": {},
   "source": [
    "---"
   ]
  },
  {
   "cell_type": "markdown",
   "metadata": {},
   "source": [
    "## 練習 3：修改路徑\n",
    "\n",
    "**難度**：基礎 | **主題**：with_suffix, with_name\n",
    "\n",
    "### 題目要求\n",
    "給定路徑 `'data/report.txt'`：\n",
    "1. 修改副檔名為 `.pdf`\n",
    "2. 修改檔名為 `summary.txt`\n",
    "3. 同時修改檔名和副檔名為 `final_report.md`\n",
    "\n",
    "### 提示\n",
    "- `.with_suffix(new_suffix)` - 修改副檔名\n",
    "- `.with_name(new_name)` - 修改完整檔名\n",
    "- 記得 Path 是不可變的，會返回新物件"
   ]
  },
  {
   "cell_type": "code",
   "execution_count": null,
   "metadata": {},
   "outputs": [],
   "source": [
    "# 在此撰寫你的程式碼\n",
    "from pathlib import Path\n",
    "\n"
   ]
  },
  {
   "cell_type": "markdown",
   "metadata": {},
   "source": [
    "---"
   ]
  },
  {
   "cell_type": "markdown",
   "metadata": {},
   "source": [
    "## 練習 4：路徑檢查函式\n",
    "\n",
    "**難度**：中級 | **主題**：exists, is_file, is_dir, is_absolute\n",
    "\n",
    "### 題目要求\n",
    "建立函式 `check_path(path_str)`，檢查並報告：\n",
    "- 路徑是否存在\n",
    "- 如果存在，是檔案還是目錄\n",
    "- 是否為絕對路徑\n",
    "\n",
    "測試至少兩個路徑（一個存在，一個不存在）。\n",
    "\n",
    "### 提示\n",
    "- `.exists()` - 檢查是否存在\n",
    "- `.is_file()` - 是否為檔案\n",
    "- `.is_dir()` - 是否為目錄\n",
    "- `.is_absolute()` - 是否為絕對路徑"
   ]
  },
  {
   "cell_type": "code",
   "execution_count": null,
   "metadata": {},
   "outputs": [],
   "source": [
    "# 在此撰寫你的程式碼\n",
    "from pathlib import Path\n",
    "\n"
   ]
  },
  {
   "cell_type": "markdown",
   "metadata": {},
   "source": [
    "---"
   ]
  },
  {
   "cell_type": "markdown",
   "metadata": {},
   "source": [
    "## 練習 5：建立與刪除目錄\n",
    "\n",
    "**難度**：中級 | **主題**：mkdir, rmdir\n",
    "\n",
    "### 題目要求\n",
    "1. 建立目錄 `test_practice`\n",
    "2. 在其中建立多層子目錄 `test_practice/level1/level2/level3`\n",
    "3. 驗證目錄已建立\n",
    "4. 從內到外刪除所有目錄\n",
    "\n",
    "### 提示\n",
    "- `.mkdir(parents=True, exist_ok=True)` - 建立多層目錄\n",
    "- `.exists()` - 驗證\n",
    "- `.rmdir()` - 刪除空目錄\n",
    "- 刪除時從最深層開始"
   ]
  },
  {
   "cell_type": "code",
   "execution_count": null,
   "metadata": {},
   "outputs": [],
   "source": [
    "# 在此撰寫你的程式碼\n",
    "from pathlib import Path\n",
    "\n"
   ]
  },
  {
   "cell_type": "markdown",
   "metadata": {},
   "source": [
    "---"
   ]
  },
  {
   "cell_type": "markdown",
   "metadata": {},
   "source": [
    "## 練習 6：檔案讀寫\n",
    "\n",
    "**難度**：中級 | **主題**：write_text, read_text, stat, unlink\n",
    "\n",
    "### 題目要求\n",
    "1. 建立檔案 `practice.txt`，寫入 `\"Path practice exercise\"`\n",
    "2. 讀取並顯示檔案內容\n",
    "3. 顯示檔案大小（bytes）\n",
    "4. 刪除檔案並確認\n",
    "\n",
    "### 提示\n",
    "- `.write_text(content)` - 寫入文字\n",
    "- `.read_text()` - 讀取文字\n",
    "- `.stat().st_size` - 檔案大小\n",
    "- `.unlink()` - 刪除檔案"
   ]
  },
  {
   "cell_type": "code",
   "execution_count": null,
   "metadata": {},
   "outputs": [],
   "source": [
    "# 在此撰寫你的程式碼\n",
    "from pathlib import Path\n",
    "\n"
   ]
  },
  {
   "cell_type": "markdown",
   "metadata": {},
   "source": [
    "---"
   ]
  },
  {
   "cell_type": "markdown",
   "metadata": {},
   "source": [
    "## 練習 7：遍歷目錄\n",
    "\n",
    "**難度**：中級 | **主題**：iterdir\n",
    "\n",
    "### 題目要求\n",
    "1. 建立目錄 `iterate_test`\n",
    "2. 在其中建立 5 個檔案：`file1.txt`, `file2.py`, `data.csv`, `notes.md`, `script.js`\n",
    "3. 使用 `iterdir()` 遍歷並顯示所有項目\n",
    "4. 只顯示檔案（排除目錄）\n",
    "5. 清理測試環境\n",
    "\n",
    "### 提示\n",
    "- `.iterdir()` - 遍歷目錄\n",
    "- `.is_file()` - 過濾檔案\n",
    "- 使用 for 迴圈處理"
   ]
  },
  {
   "cell_type": "code",
   "execution_count": null,
   "metadata": {},
   "outputs": [],
   "source": [
    "# 在此撰寫你的程式碼\n",
    "from pathlib import Path\n",
    "\n"
   ]
  },
  {
   "cell_type": "markdown",
   "metadata": {},
   "source": [
    "---"
   ]
  },
  {
   "cell_type": "markdown",
   "metadata": {},
   "source": [
    "## 練習 8：Glob 模式匹配\n",
    "\n",
    "**難度**：中級 | **主題**：glob\n",
    "\n",
    "### 題目要求\n",
    "建立測試目錄 `glob_test`，包含以下檔案：\n",
    "- `test1.txt`, `test2.txt`, `test3.txt`\n",
    "- `data.csv`, `report.pdf`\n",
    "- `script.py`, `readme.md`\n",
    "\n",
    "使用 glob 找出：\n",
    "1. 所有 `.txt` 檔案\n",
    "2. 所有檔案\n",
    "3. 檔名以 `test` 開頭的檔案\n",
    "\n",
    "### 提示\n",
    "- `.glob('*.txt')` - 匹配特定副檔名\n",
    "- `.glob('*')` - 匹配所有\n",
    "- `.glob('test*')` - 匹配開頭"
   ]
  },
  {
   "cell_type": "code",
   "execution_count": null,
   "metadata": {},
   "outputs": [],
   "source": [
    "# 在此撰寫你的程式碼\n",
    "from pathlib import Path\n",
    "\n"
   ]
  },
  {
   "cell_type": "markdown",
   "metadata": {},
   "source": [
    "---"
   ]
  },
  {
   "cell_type": "markdown",
   "metadata": {},
   "source": [
    "## 練習 9：遞迴搜尋\n",
    "\n",
    "**難度**：中級 | **主題**：rglob\n",
    "\n",
    "### 題目要求\n",
    "建立以下目錄結構：\n",
    "```\n",
    "rglob_test/\n",
    "├── root.txt\n",
    "├── root.py\n",
    "└── subdir/\n",
    "    ├── nested.txt\n",
    "    └── deep/\n",
    "        └── deep.txt\n",
    "```\n",
    "\n",
    "使用 `rglob()` 遞迴找出所有 `.txt` 檔案（包含所有層級）。\n",
    "\n",
    "### 提示\n",
    "- `.rglob('*.txt')` - 遞迴搜尋\n",
    "- 使用 `relative_to()` 顯示相對路徑"
   ]
  },
  {
   "cell_type": "code",
   "execution_count": null,
   "metadata": {},
   "outputs": [],
   "source": [
    "# 在此撰寫你的程式碼\n",
    "from pathlib import Path\n",
    "\n"
   ]
  },
  {
   "cell_type": "markdown",
   "metadata": {},
   "source": [
    "---"
   ]
  },
  {
   "cell_type": "markdown",
   "metadata": {},
   "source": [
    "## 練習 10：重新命名檔案\n",
    "\n",
    "**難度**：中級 | **主題**：rename\n",
    "\n",
    "### 題目要求\n",
    "1. 建立檔案 `original.txt`，寫入一些內容\n",
    "2. 重新命名為 `renamed.txt`\n",
    "3. 驗證舊檔案不存在，新檔案存在\n",
    "4. 清理新檔案\n",
    "\n",
    "### 提示\n",
    "- `.rename(target)` - 重新命名\n",
    "- `.exists()` - 驗證存在性\n",
    "- rename 會移動檔案，原路徑失效"
   ]
  },
  {
   "cell_type": "code",
   "execution_count": null,
   "metadata": {},
   "outputs": [],
   "source": [
    "# 在此撰寫你的程式碼\n",
    "from pathlib import Path\n",
    "\n"
   ]
  },
  {
   "cell_type": "markdown",
   "metadata": {},
   "source": [
    "---"
   ]
  },
  {
   "cell_type": "markdown",
   "metadata": {},
   "source": [
    "## 練習 11：路徑解析\n",
    "\n",
    "**難度**：中級 | **主題**：resolve, absolute\n",
    "\n",
    "### 題目要求\n",
    "1. 建立包含 `..` 和 `.` 的路徑：`'./data/../data/./file.txt'`\n",
    "2. 使用 `resolve()` 正規化為標準絕對路徑\n",
    "3. 比較原路徑與解析後的路徑\n",
    "\n",
    "### 提示\n",
    "- `.resolve()` - 解析為絕對路徑並正規化\n",
    "- 會移除 `..` 和 `.`\n",
    "- 不需要路徑實際存在"
   ]
  },
  {
   "cell_type": "code",
   "execution_count": null,
   "metadata": {},
   "outputs": [],
   "source": [
    "# 在此撰寫你的程式碼\n",
    "from pathlib import Path\n",
    "\n"
   ]
  },
  {
   "cell_type": "markdown",
   "metadata": {},
   "source": [
    "---"
   ]
  },
  {
   "cell_type": "markdown",
   "metadata": {},
   "source": [
    "## 練習 12：統計檔案副檔名\n",
    "\n",
    "**難度**：進階 | **主題**：綜合應用\n",
    "\n",
    "### 題目要求\n",
    "建立函式 `count_extensions(directory)`，統計目錄中各種副檔名的檔案數量。\n",
    "\n",
    "測試目錄包含：\n",
    "- 3 個 `.txt` 檔案\n",
    "- 2 個 `.py` 檔案\n",
    "- 1 個 `.csv` 檔案\n",
    "- 1 個 `.md` 檔案\n",
    "\n",
    "輸出格式：\n",
    "```\n",
    "檔案統計:\n",
    "  .txt: 3 個\n",
    "  .py: 2 個\n",
    "  .csv: 1 個\n",
    "  .md: 1 個\n",
    "總計: 7 個檔案\n",
    "```\n",
    "\n",
    "### 提示\n",
    "- 使用字典儲存統計結果\n",
    "- `.suffix` 取得副檔名\n",
    "- `.glob('*')` 或 `.iterdir()` 遍歷檔案"
   ]
  },
  {
   "cell_type": "code",
   "execution_count": null,
   "metadata": {},
   "outputs": [],
   "source": [
    "# 在此撰寫你的程式碼\n",
    "from pathlib import Path\n",
    "\n"
   ]
  },
  {
   "cell_type": "markdown",
   "metadata": {},
   "source": [
    "---\n",
    "\n",
    "## 🎯 練習完成！\n",
    "\n",
    "完成以上 12 個練習後，你應該已經掌握：\n",
    "- ✅ Path 物件的建立與基本操作\n",
    "- ✅ 路徑屬性的提取與修改\n",
    "- ✅ 檔案與目錄的檢查方法\n",
    "- ✅ 基本檔案操作（建立、讀寫、刪除）\n",
    "- ✅ 目錄遍歷與搜尋\n",
    "- ✅ Glob 模式匹配\n",
    "- ✅ 路徑解析與正規化\n",
    "- ✅ 綜合應用能力\n",
    "\n",
    "### 下一步\n",
    "- 對照 `05-solutions.ipynb` 檢查答案\n",
    "- 完成 `04-exercises.ipynb` 課後習題\n",
    "- 挑戰 `quiz.ipynb` 自我測驗"
   ]
  }
 ],
 "metadata": {
  "kernelspec": {
   "display_name": "Python 3",
   "language": "python",
   "name": "python3"
  },
  "language_info": {
   "name": "python",
   "version": "3.11.0"
  }
 },
 "nbformat": 4,
 "nbformat_minor": 4
}
