{
 "cells": [
  {
   "cell_type": "markdown",
   "metadata": {},
   "source": "# 路徑與檔案系統 | Paths and File Systems\n\n## 🛠️ 課堂練習 | Practice\n\n---\n\n## 📋 練習說明\n\n本檔案包含 **6 個課堂練習**，用於現場實作，鞏固學習成果。\n\n**建議流程**：\n1. 閱讀題目要求\n2. 獨立思考解法\n3. 實際撰寫程式碼\n4. 執行測試\n5. 若遇到困難，可參考 `02-worked-examples.ipynb` 的範例\n\n**預計時間**：30 分鐘\n\n---"
  },
  {
   "cell_type": "markdown",
   "metadata": {},
   "source": "## 練習 1：取得當前工作目錄\n\n**難度**：基礎 | **主題**：Path.cwd()\n\n### 題目要求\n（詳細需求描述）\n\n### 提示\n- 提示 1\n- 提示 2"
  },
  {
   "cell_type": "code",
   "execution_count": null,
   "metadata": {},
   "outputs": [],
   "source": "# 在此撰寫你的程式碼\n\n"
  },
  {
   "cell_type": "markdown",
   "metadata": {},
   "source": "---"
  },
  {
   "cell_type": "markdown",
   "metadata": {},
   "source": "## 練習 2：檢查檔案是否存在\n\n**難度**：基礎 | **主題**：.exists()\n\n### 題目要求\n（詳細需求描述）\n\n### 提示\n- 提示 1\n- 提示 2"
  },
  {
   "cell_type": "code",
   "execution_count": null,
   "metadata": {},
   "outputs": [],
   "source": "# 在此撰寫你的程式碼\n\n"
  },
  {
   "cell_type": "markdown",
   "metadata": {},
   "source": "---"
  },
  {
   "cell_type": "markdown",
   "metadata": {},
   "source": "## 練習 3：取得檔案的父目錄\n\n**難度**：基礎 | **主題**：.parent\n\n### 題目要求\n（詳細需求描述）\n\n### 提示\n- 提示 1\n- 提示 2"
  },
  {
   "cell_type": "code",
   "execution_count": null,
   "metadata": {},
   "outputs": [],
   "source": "# 在此撰寫你的程式碼\n\n"
  },
  {
   "cell_type": "markdown",
   "metadata": {},
   "source": "---"
  },
  {
   "cell_type": "markdown",
   "metadata": {},
   "source": "## 練習 4：取得檔案名稱與副檔名\n\n**難度**：基礎 | **主題**：.name, .suffix\n\n### 題目要求\n（詳細需求描述）\n\n### 提示\n- 提示 1\n- 提示 2"
  },
  {
   "cell_type": "code",
   "execution_count": null,
   "metadata": {},
   "outputs": [],
   "source": "# 在此撰寫你的程式碼\n\n"
  },
  {
   "cell_type": "markdown",
   "metadata": {},
   "source": "---"
  },
  {
   "cell_type": "markdown",
   "metadata": {},
   "source": "## 練習 5：建立多層目錄結構\n\n**難度**：中級 | **主題**：.mkdir(parents=True)\n\n### 題目要求\n（詳細需求描述）\n\n### 提示\n- 提示 1\n- 提示 2"
  },
  {
   "cell_type": "code",
   "execution_count": null,
   "metadata": {},
   "outputs": [],
   "source": "# 在此撰寫你的程式碼\n\n"
  },
  {
   "cell_type": "markdown",
   "metadata": {},
   "source": "---"
  },
  {
   "cell_type": "markdown",
   "metadata": {},
   "source": "## 練習 6：取得目錄下所有檔案\n\n**難度**：中級 | **主題**：.iterdir()\n\n### 題目要求\n（詳細需求描述）\n\n### 提示\n- 提示 1\n- 提示 2"
  },
  {
   "cell_type": "code",
   "execution_count": null,
   "metadata": {},
   "outputs": [],
   "source": "# 在此撰寫你的程式碼\n\n"
  },
  {
   "cell_type": "markdown",
   "metadata": {},
   "source": "---"
  }
 ],
 "metadata": {
  "kernelspec": {
   "display_name": "Python 3",
   "language": "python",
   "name": "python3"
  },
  "language_info": {
   "codemirror_mode": {
    "name": "ipython",
    "version": 3
   },
   "file_extension": ".py",
   "mimetype": "text/x-python",
   "name": "python",
   "nbconvert_exporter": "python",
   "pygments_lexer": "ipython3",
   "version": "3.8.0"
  }
 },
 "nbformat": 4,
 "nbformat_minor": 4
}