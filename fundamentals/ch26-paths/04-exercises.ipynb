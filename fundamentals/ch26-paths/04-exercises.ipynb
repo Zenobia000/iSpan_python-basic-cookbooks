{
 "cells": [
  {
   "cell_type": "markdown",
   "metadata": {},
   "source": "# 路徑與檔案系統 | Paths and File Systems\n\n## ✍️ 課後習題 | Exercises\n\n---\n\n## 📋 習題說明\n\n本檔案包含 **12 題**，難度分級如下：\n- 🟢 **基礎題（1-4）**：熟悉基本語法\n- 🟡 **中級題（5-8）**：綜合應用\n- 🔴 **進階題（9-10）**：深入思考\n- 🟣 **挑戰題（11-12）**：擴展學習\n\n**建議完成時間**：90-120 分鐘\n\n**完成後請對照** `05-solutions.ipynb` **檢視解答**\n\n---"
  },
  {
   "cell_type": "markdown",
   "metadata": {},
   "source": "## 🟢 習題 1：取得當前工作目錄\n\n**難度**：基礎 | **主題**：Path.cwd()\n\n### 題目要求\n（詳細需求描述）\n\n### 範例輸入/輸出\n```\n（範例）\n```"
  },
  {
   "cell_type": "code",
   "execution_count": null,
   "metadata": {},
   "outputs": [],
   "source": "# 在此撰寫你的程式碼\n\n"
  },
  {
   "cell_type": "markdown",
   "metadata": {},
   "source": "---"
  },
  {
   "cell_type": "markdown",
   "metadata": {},
   "source": "## 🟢 習題 2：檢查檔案是否存在\n\n**難度**：基礎 | **主題**：.exists()\n\n### 題目要求\n（詳細需求描述）\n\n### 範例輸入/輸出\n```\n（範例）\n```"
  },
  {
   "cell_type": "code",
   "execution_count": null,
   "metadata": {},
   "outputs": [],
   "source": "# 在此撰寫你的程式碼\n\n"
  },
  {
   "cell_type": "markdown",
   "metadata": {},
   "source": "---"
  },
  {
   "cell_type": "markdown",
   "metadata": {},
   "source": "## 🟢 習題 3：取得檔案的父目錄\n\n**難度**：基礎 | **主題**：.parent\n\n### 題目要求\n（詳細需求描述）\n\n### 範例輸入/輸出\n```\n（範例）\n```"
  },
  {
   "cell_type": "code",
   "execution_count": null,
   "metadata": {},
   "outputs": [],
   "source": "# 在此撰寫你的程式碼\n\n"
  },
  {
   "cell_type": "markdown",
   "metadata": {},
   "source": "---"
  },
  {
   "cell_type": "markdown",
   "metadata": {},
   "source": "## 🟢 習題 4：取得檔案名稱與副檔名\n\n**難度**：基礎 | **主題**：.name, .suffix\n\n### 題目要求\n（詳細需求描述）\n\n### 範例輸入/輸出\n```\n（範例）\n```"
  },
  {
   "cell_type": "code",
   "execution_count": null,
   "metadata": {},
   "outputs": [],
   "source": "# 在此撰寫你的程式碼\n\n"
  },
  {
   "cell_type": "markdown",
   "metadata": {},
   "source": "---"
  },
  {
   "cell_type": "markdown",
   "metadata": {},
   "source": "## 🟡 習題 5：建立多層目錄結構\n\n**難度**：中級 | **主題**：.mkdir(parents=True)\n\n### 題目要求\n（詳細需求描述）\n\n### 範例輸入/輸出\n```\n（範例）\n```"
  },
  {
   "cell_type": "code",
   "execution_count": null,
   "metadata": {},
   "outputs": [],
   "source": "# 在此撰寫你的程式碼\n\n"
  },
  {
   "cell_type": "markdown",
   "metadata": {},
   "source": "---"
  },
  {
   "cell_type": "markdown",
   "metadata": {},
   "source": "## 🟡 習題 6：取得目錄下所有檔案\n\n**難度**：中級 | **主題**：.iterdir()\n\n### 題目要求\n（詳細需求描述）\n\n### 範例輸入/輸出\n```\n（範例）\n```"
  },
  {
   "cell_type": "code",
   "execution_count": null,
   "metadata": {},
   "outputs": [],
   "source": "# 在此撰寫你的程式碼\n\n"
  },
  {
   "cell_type": "markdown",
   "metadata": {},
   "source": "---"
  },
  {
   "cell_type": "markdown",
   "metadata": {},
   "source": "## 🟡 習題 7：搜尋特定副檔名的檔案\n\n**難度**：中級 | **主題**：.glob('*.txt')\n\n### 題目要求\n（詳細需求描述）\n\n### 範例輸入/輸出\n```\n（範例）\n```"
  },
  {
   "cell_type": "code",
   "execution_count": null,
   "metadata": {},
   "outputs": [],
   "source": "# 在此撰寫你的程式碼\n\n"
  },
  {
   "cell_type": "markdown",
   "metadata": {},
   "source": "---"
  },
  {
   "cell_type": "markdown",
   "metadata": {},
   "source": "## 🟡 習題 8：取得檔案大小與修改時間\n\n**難度**：中級 | **主題**：.stat()\n\n### 題目要求\n（詳細需求描述）\n\n### 範例輸入/輸出\n```\n（範例）\n```"
  },
  {
   "cell_type": "code",
   "execution_count": null,
   "metadata": {},
   "outputs": [],
   "source": "# 在此撰寫你的程式碼\n\n"
  },
  {
   "cell_type": "markdown",
   "metadata": {},
   "source": "---"
  },
  {
   "cell_type": "markdown",
   "metadata": {},
   "source": "## 🔴 習題 9：計算目錄總大小\n\n**難度**：進階 | **主題**：遞迴統計\n\n### 題目要求\n（詳細需求描述）\n\n### 範例輸入/輸出\n```\n（範例）\n```"
  },
  {
   "cell_type": "code",
   "execution_count": null,
   "metadata": {},
   "outputs": [],
   "source": "# 在此撰寫你的程式碼\n\n"
  },
  {
   "cell_type": "markdown",
   "metadata": {},
   "source": "---"
  },
  {
   "cell_type": "markdown",
   "metadata": {},
   "source": "## 🔴 習題 10：實作檔案搜尋工具（類似find指令）\n\n**難度**：進階 | **主題**：綜合應用\n\n### 題目要求\n（詳細需求描述）\n\n### 範例輸入/輸出\n```\n（範例）\n```"
  },
  {
   "cell_type": "code",
   "execution_count": null,
   "metadata": {},
   "outputs": [],
   "source": "# 在此撰寫你的程式碼\n\n"
  },
  {
   "cell_type": "markdown",
   "metadata": {},
   "source": "---"
  },
  {
   "cell_type": "markdown",
   "metadata": {},
   "source": "## 🟣 習題 11：批次移動檔案到分類資料夾\n\n**難度**：挑戰 | **主題**：檔案組織\n\n### 題目要求\n（詳細需求描述）\n\n### 範例輸入/輸出\n```\n（範例）\n```"
  },
  {
   "cell_type": "code",
   "execution_count": null,
   "metadata": {},
   "outputs": [],
   "source": "# 在此撰寫你的程式碼\n\n"
  },
  {
   "cell_type": "markdown",
   "metadata": {},
   "source": "---"
  },
  {
   "cell_type": "markdown",
   "metadata": {},
   "source": "## 🟣 習題 12：實作檔案同步工具（比對兩個目錄）\n\n**難度**：挑戰 | **主題**：進階專案\n\n### 題目要求\n（詳細需求描述）\n\n### 範例輸入/輸出\n```\n（範例）\n```"
  },
  {
   "cell_type": "code",
   "execution_count": null,
   "metadata": {},
   "outputs": [],
   "source": "# 在此撰寫你的程式碼\n\n"
  },
  {
   "cell_type": "markdown",
   "metadata": {},
   "source": "---"
  }
 ],
 "metadata": {
  "kernelspec": {
   "display_name": "Python 3",
   "language": "python",
   "name": "python3"
  },
  "language_info": {
   "codemirror_mode": {
    "name": "ipython",
    "version": 3
   },
   "file_extension": ".py",
   "mimetype": "text/x-python",
   "name": "python",
   "nbconvert_exporter": "python",
   "pygments_lexer": "ipython3",
   "version": "3.8.0"
  }
 },
 "nbformat": 4,
 "nbformat_minor": 4
}