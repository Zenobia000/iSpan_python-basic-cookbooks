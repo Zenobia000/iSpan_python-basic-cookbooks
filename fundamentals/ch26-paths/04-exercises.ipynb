{
 "cells": [
  {
   "cell_type": "markdown",
   "metadata": {},
   "source": [
    "# 路徑與檔案系統 | Paths and File Systems\n",
    "\n",
    "## ✍️ 課後習題 | Exercises\n",
    "\n",
    "---\n",
    "\n",
    "## 📋 習題說明\n",
    "\n",
    "本檔案包含 **20 題**，難度分級如下：\n",
    "- 🟢 **基礎題（1-6）**：熟悉基本語法\n",
    "- 🟡 **中級題（7-14）**：綜合應用\n",
    "- 🔴 **進階題（15-18）**：深入思考\n",
    "- 🟣 **挑戰題（19-20）**：擴展學習\n",
    "\n",
    "**建議完成時間**：90-120 分鐘\n",
    "\n",
    "**完成後請對照** `05-solutions.ipynb` **檢視解答**\n",
    "\n",
    "---"
   ]
  },
  {
   "cell_type": "markdown",
   "metadata": {},
   "source": [
    "## 🟢 習題 1：建立與顯示路徑\n",
    "\n",
    "**難度**：基礎 | **主題**：Path 物件基礎\n",
    "\n",
    "### 題目要求\n",
    "1. 使用 `pathlib.Path` 建立以下路徑物件：\n",
    "   - 相對路徑：`data/files/report.txt`\n",
    "   - 使用 `/` 運算子組合：`Path('project') / 'src' / 'main.py'`\n",
    "2. 顯示這些路徑物件的值與類型\n",
    "3. 顯示當前工作目錄 (`Path.cwd()`)\n",
    "4. 顯示使用者家目錄 (`Path.home()`)\n",
    "\n",
    "### 範例輸出\n",
    "```\n",
    "路徑 1: data/files/report.txt\n",
    "類型: <class 'pathlib.WindowsPath'>\n",
    "路徑 2: project\\src\\main.py\n",
    "當前工作目錄: D:\\workspace\\python\n",
    "使用者家目錄: C:\\Users\\username\n",
    "```"
   ]
  },
  {
   "cell_type": "code",
   "execution_count": null,
   "metadata": {},
   "outputs": [],
   "source": [
    "# 在此撰寫你的程式碼\n",
    "from pathlib import Path\n",
    "\n"
   ]
  },
  {
   "cell_type": "markdown",
   "metadata": {},
   "source": [
    "---"
   ]
  },
  {
   "cell_type": "markdown",
   "metadata": {},
   "source": [
    "## 🟢 習題 2：路徑屬性分析\n",
    "\n",
    "**難度**：基礎 | **主題**：name, stem, suffix, parent\n",
    "\n",
    "### 題目要求\n",
    "給定路徑 `Path('/home/user/documents/report.final.pdf')`，請顯示以下屬性：\n",
    "1. `name` - 完整檔名\n",
    "2. `stem` - 主檔名（不含副檔名）\n",
    "3. `suffix` - 最後一個副檔名\n",
    "4. `suffixes` - 所有副檔名\n",
    "5. `parent` - 父目錄\n",
    "6. `parent.parent` - 祖父目錄\n",
    "7. `parts` - 路徑所有組成部分\n",
    "\n",
    "### 範例輸出\n",
    "```\n",
    "完整檔名: report.final.pdf\n",
    "主檔名: report.final\n",
    "副檔名: .pdf\n",
    "所有副檔名: ['.final', '.pdf']\n",
    "父目錄: /home/user/documents\n",
    "祖父目錄: /home/user\n",
    "組成部分: ('/', 'home', 'user', 'documents', 'report.final.pdf')\n",
    "```"
   ]
  },
  {
   "cell_type": "code",
   "execution_count": null,
   "metadata": {},
   "outputs": [],
   "source": [
    "# 在此撰寫你的程式碼\n",
    "from pathlib import Path\n",
    "\n"
   ]
  },
  {
   "cell_type": "markdown",
   "metadata": {},
   "source": [
    "---"
   ]
  },
  {
   "cell_type": "markdown",
   "metadata": {},
   "source": [
    "## 🟢 習題 3：修改路徑\n",
    "\n",
    "**難度**：基礎 | **主題**：with_name, with_suffix\n",
    "\n",
    "### 題目要求\n",
    "給定路徑 `Path('data/files/report.csv')`，請執行以下操作：\n",
    "1. 使用 `with_suffix()` 將副檔名改為 `.txt`\n",
    "2. 使用 `with_name()` 將檔名改為 `summary.csv`\n",
    "3. 使用 `with_stem()` 將主檔名改為 `final_report`（保留副檔名）\n",
    "4. 組合操作：將檔名改為 `backup_data.json`\n",
    "\n",
    "### 範例輸出\n",
    "```\n",
    "原始路徑: data/files/report.csv\n",
    "修改副檔名: data/files/report.txt\n",
    "修改檔名: data/files/summary.csv\n",
    "修改主檔名: data/files/final_report.csv\n",
    "組合修改: data/files/backup_data.json\n",
    "```"
   ]
  },
  {
   "cell_type": "code",
   "execution_count": null,
   "metadata": {},
   "outputs": [],
   "source": [
    "# 在此撰寫你的程式碼\n",
    "from pathlib import Path\n",
    "\n"
   ]
  },
  {
   "cell_type": "markdown",
   "metadata": {},
   "source": [
    "---"
   ]
  },
  {
   "cell_type": "markdown",
   "metadata": {},
   "source": [
    "## 🟢 習題 4：路徑檢查\n",
    "\n",
    "**難度**：基礎 | **主題**：exists, is_file, is_dir, is_absolute\n",
    "\n",
    "### 題目要求\n",
    "建立一個函式 `check_path(path_str)`，接收路徑字串，檢查並顯示：\n",
    "1. 路徑是否存在\n",
    "2. 是否為檔案\n",
    "3. 是否為目錄\n",
    "4. 是否為絕對路徑\n",
    "5. 若檔案存在，顯示其大小（bytes）\n",
    "\n",
    "測試以下路徑：\n",
    "- 當前檔案 (`.` 或使用 `__file__` 如果可用)\n",
    "- 當前目錄的父目錄\n",
    "- 不存在的路徑 `nonexistent.txt`\n",
    "\n",
    "### 範例輸出\n",
    "```\n",
    "檢查路徑: .\n",
    "  存在: True\n",
    "  是檔案: False\n",
    "  是目錄: True\n",
    "  是絕對路徑: False\n",
    "  \n",
    "檢查路徑: ..\n",
    "  存在: True\n",
    "  是檔案: False\n",
    "  是目錄: True\n",
    "  是絕對路徑: False\n",
    "```"
   ]
  },
  {
   "cell_type": "code",
   "execution_count": null,
   "metadata": {},
   "outputs": [],
   "source": [
    "# 在此撰寫你的程式碼\n",
    "from pathlib import Path\n",
    "\n",
    "def check_path(path_str):\n",
    "    pass\n",
    "\n",
    "# 測試\n"
   ]
  },
  {
   "cell_type": "markdown",
   "metadata": {},
   "source": [
    "---"
   ]
  },
  {
   "cell_type": "markdown",
   "metadata": {},
   "source": [
    "## 🟢 習題 5：路徑解析\n",
    "\n",
    "**難度**：基礎 | **主題**：resolve, absolute\n",
    "\n",
    "### 題目要求\n",
    "1. 建立相對路徑 `Path('../data/./files/../file.txt')`\n",
    "2. 使用 `absolute()` 轉為絕對路徑\n",
    "3. 使用 `resolve()` 解析並正規化路徑\n",
    "4. 比較兩者差異\n",
    "5. 檢查路徑是否為絕對路徑 (`is_absolute()`)\n",
    "\n",
    "### 範例輸出\n",
    "```\n",
    "原始相對路徑: ../data/./files/../file.txt\n",
    "absolute(): D:\\workspace\\python\\..\\data\\.\\files\\..\\file.txt\n",
    "resolve(): D:\\workspace\\data\\file.txt\n",
    "解析後是絕對路徑: True\n",
    "```"
   ]
  },
  {
   "cell_type": "code",
   "execution_count": null,
   "metadata": {},
   "outputs": [],
   "source": [
    "# 在此撰寫你的程式碼\n",
    "from pathlib import Path\n",
    "\n"
   ]
  },
  {
   "cell_type": "markdown",
   "metadata": {},
   "source": [
    "---"
   ]
  },
  {
   "cell_type": "markdown",
   "metadata": {},
   "source": [
    "## 🟢 習題 6：計算相對路徑\n",
    "\n",
    "**難度**：基礎 | **主題**：relative_to\n",
    "\n",
    "### 題目要求\n",
    "1. 基準路徑：`Path('/home/user/projects')`\n",
    "2. 完整路徑：`Path('/home/user/projects/python/src/main.py')`\n",
    "3. 使用 `relative_to()` 計算相對路徑\n",
    "4. 嘗試計算不相關路徑的相對關係（會產生錯誤），使用 try-except 處理\n",
    "\n",
    "### 範例輸出\n",
    "```\n",
    "基準路徑: /home/user/projects\n",
    "完整路徑: /home/user/projects/python/src/main.py\n",
    "相對路徑: python/src/main.py\n",
    "\n",
    "嘗試計算 /etc/config 相對於 /home/user/projects:\n",
    "錯誤: 路徑不在基準目錄下\n",
    "```"
   ]
  },
  {
   "cell_type": "code",
   "execution_count": null,
   "metadata": {},
   "outputs": [],
   "source": [
    "# 在此撰寫你的程式碼\n",
    "from pathlib import Path\n",
    "\n"
   ]
  },
  {
   "cell_type": "markdown",
   "metadata": {},
   "source": [
    "---"
   ]
  },
  {
   "cell_type": "markdown",
   "metadata": {},
   "source": [
    "## 🟡 習題 7：建立目錄結構\n",
    "\n",
    "**難度**：中級 | **主題**：mkdir\n",
    "\n",
    "### 題目要求\n",
    "建立以下目錄結構（在臨時目錄 `temp_ex7` 中）：\n",
    "```\n",
    "temp_ex7/\n",
    "├── data/\n",
    "│   ├── raw/\n",
    "│   └── processed/\n",
    "├── src/\n",
    "│   ├── utils/\n",
    "│   └── models/\n",
    "└── tests/\n",
    "```\n",
    "\n",
    "要求：\n",
    "1. 使用 `mkdir(parents=True, exist_ok=True)`\n",
    "2. 建立完成後，顯示目錄樹狀結構\n",
    "3. 最後清理（刪除所有建立的目錄）\n",
    "\n",
    "### 範例輸出\n",
    "```\n",
    "建立目錄結構...\n",
    "✓ temp_ex7/data/raw\n",
    "✓ temp_ex7/data/processed\n",
    "✓ temp_ex7/src/utils\n",
    "✓ temp_ex7/src/models\n",
    "✓ temp_ex7/tests\n",
    "\n",
    "目錄結構:\n",
    "temp_ex7/\n",
    "  data/\n",
    "    processed/\n",
    "    raw/\n",
    "  src/\n",
    "    models/\n",
    "    utils/\n",
    "  tests/\n",
    "```"
   ]
  },
  {
   "cell_type": "code",
   "execution_count": null,
   "metadata": {},
   "outputs": [],
   "source": [
    "# 在此撰寫你的程式碼\n",
    "from pathlib import Path\n",
    "\n"
   ]
  },
  {
   "cell_type": "markdown",
   "metadata": {},
   "source": [
    "---"
   ]
  },
  {
   "cell_type": "markdown",
   "metadata": {},
   "source": [
    "## 🟡 習題 8：遍歷目錄\n",
    "\n",
    "**難度**：中級 | **主題**：iterdir\n",
    "\n",
    "### 題目要求\n",
    "1. 建立測試目錄 `temp_ex8`，包含：\n",
    "   - 3 個檔案：`file1.txt`, `file2.py`, `file3.md`\n",
    "   - 2 個子目錄：`subdir1`, `subdir2`\n",
    "2. 使用 `iterdir()` 遍歷並分類顯示：\n",
    "   - 檔案列表\n",
    "   - 目錄列表\n",
    "3. 統計檔案數量與目錄數量\n",
    "4. 清理測試目錄\n",
    "\n",
    "### 範例輸出\n",
    "```\n",
    "目錄內容:\n",
    "\n",
    "檔案:\n",
    "  - file1.txt\n",
    "  - file2.py\n",
    "  - file3.md\n",
    "\n",
    "目錄:\n",
    "  - subdir1/\n",
    "  - subdir2/\n",
    "\n",
    "統計: 3 個檔案, 2 個目錄\n",
    "```"
   ]
  },
  {
   "cell_type": "code",
   "execution_count": null,
   "metadata": {},
   "outputs": [],
   "source": [
    "# 在此撰寫你的程式碼\n",
    "from pathlib import Path\n",
    "\n"
   ]
  },
  {
   "cell_type": "markdown",
   "metadata": {},
   "source": [
    "---"
   ]
  },
  {
   "cell_type": "markdown",
   "metadata": {},
   "source": [
    "## 🟡 習題 9：Glob 模式搜尋\n",
    "\n",
    "**難度**：中級 | **主題**：glob\n",
    "\n",
    "### 題目要求\n",
    "建立測試目錄 `temp_ex9`，包含以下檔案：\n",
    "```\n",
    "data1.txt, data2.txt, report.csv, image.png, script.py\n",
    "backup_2024.zip, backup_2023.zip\n",
    "```\n",
    "\n",
    "使用 glob 搜尋：\n",
    "1. 所有 `.txt` 檔案\n",
    "2. 所有 `data` 開頭的檔案\n",
    "3. 所有包含數字的檔案（提示：`*[0-9]*`）\n",
    "4. 所有 4 個字元的副檔名（`*.????`）\n",
    "\n",
    "### 範例輸出\n",
    "```\n",
    "1. 所有 .txt 檔案:\n",
    "   - data1.txt\n",
    "   - data2.txt\n",
    "\n",
    "2. data 開頭的檔案:\n",
    "   - data1.txt\n",
    "   - data2.txt\n",
    "\n",
    "3. 包含數字的檔案:\n",
    "   - data1.txt\n",
    "   - data2.txt\n",
    "   - backup_2024.zip\n",
    "   - backup_2023.zip\n",
    "```"
   ]
  },
  {
   "cell_type": "code",
   "execution_count": null,
   "metadata": {},
   "outputs": [],
   "source": [
    "# 在此撰寫你的程式碼\n",
    "from pathlib import Path\n",
    "\n"
   ]
  },
  {
   "cell_type": "markdown",
   "metadata": {},
   "source": [
    "---"
   ]
  },
  {
   "cell_type": "markdown",
   "metadata": {},
   "source": [
    "## 🟡 習題 10：遞迴搜尋檔案\n",
    "\n",
    "**難度**：中級 | **主題**：rglob\n",
    "\n",
    "### 題目要求\n",
    "建立以下目錄結構：\n",
    "```\n",
    "temp_ex10/\n",
    "├── file1.py\n",
    "├── dir1/\n",
    "│   ├── file2.py\n",
    "│   └── file3.txt\n",
    "└── dir2/\n",
    "    └── subdir/\n",
    "        └── file4.py\n",
    "```\n",
    "\n",
    "使用 `rglob()` 遞迴搜尋：\n",
    "1. 所有 `.py` 檔案（含子目錄）\n",
    "2. 顯示相對路徑\n",
    "3. 統計總共找到幾個檔案\n",
    "\n",
    "### 範例輸出\n",
    "```\n",
    "遞迴搜尋所有 .py 檔案:\n",
    "  1. file1.py\n",
    "  2. dir1/file2.py\n",
    "  3. dir2/subdir/file4.py\n",
    "\n",
    "總計: 3 個 .py 檔案\n",
    "```"
   ]
  },
  {
   "cell_type": "code",
   "execution_count": null,
   "metadata": {},
   "outputs": [],
   "source": [
    "# 在此撰寫你的程式碼\n",
    "from pathlib import Path\n",
    "\n"
   ]
  },
  {
   "cell_type": "markdown",
   "metadata": {},
   "source": [
    "---"
   ]
  },
  {
   "cell_type": "markdown",
   "metadata": {},
   "source": [
    "## 🟡 習題 11：檔案屬性查詢\n",
    "\n",
    "**難度**：中級 | **主題**：stat\n",
    "\n",
    "### 題目要求\n",
    "建立函式 `show_file_info(file_path)`，顯示檔案詳細資訊：\n",
    "1. 檔案大小（bytes, KB, MB）\n",
    "2. 建立時間\n",
    "3. 修改時間\n",
    "4. 訪問時間\n",
    "5. 是否為唯讀\n",
    "\n",
    "建立測試檔案並顯示其資訊。\n",
    "\n",
    "### 範例輸出\n",
    "```\n",
    "檔案資訊: test_file.txt\n",
    "==========================================\n",
    "大小: 1024 bytes (1.00 KB)\n",
    "建立時間: 2024-10-09 10:30:45\n",
    "修改時間: 2024-10-09 10:30:45\n",
    "訪問時間: 2024-10-09 10:30:50\n",
    "```"
   ]
  },
  {
   "cell_type": "code",
   "execution_count": null,
   "metadata": {},
   "outputs": [],
   "source": [
    "# 在此撰寫你的程式碼\n",
    "from pathlib import Path\n",
    "from datetime import datetime\n",
    "\n",
    "def show_file_info(file_path):\n",
    "    pass\n",
    "\n",
    "# 測試\n"
   ]
  },
  {
   "cell_type": "markdown",
   "metadata": {},
   "source": [
    "---"
   ]
  },
  {
   "cell_type": "markdown",
   "metadata": {},
   "source": [
    "## 🟡 習題 12：檔案重新命名與複製\n",
    "\n",
    "**難度**：中級 | **主題**：rename, read/write\n",
    "\n",
    "### 題目要求\n",
    "1. 建立檔案 `original.txt`，寫入內容 \"Hello, World!\"\n",
    "2. 使用 `rename()` 重新命名為 `renamed.txt`\n",
    "3. 複製 `renamed.txt` 為 `copy.txt`（提示：讀取後寫入新檔案）\n",
    "4. 使用 `with_name()` 產生備份檔名 `renamed_backup.txt`\n",
    "5. 清理所有建立的檔案\n",
    "\n",
    "### 範例輸出\n",
    "```\n",
    "1. 建立檔案: original.txt\n",
    "2. 重新命名: original.txt -> renamed.txt\n",
    "3. 複製檔案: renamed.txt -> copy.txt\n",
    "4. 備份檔名: renamed_backup.txt\n",
    "5. 清理完成\n",
    "```"
   ]
  },
  {
   "cell_type": "code",
   "execution_count": null,
   "metadata": {},
   "outputs": [],
   "source": [
    "# 在此撰寫你的程式碼\n",
    "from pathlib import Path\n",
    "\n"
   ]
  },
  {
   "cell_type": "markdown",
   "metadata": {},
   "source": [
    "---"
   ]
  },
  {
   "cell_type": "markdown",
   "metadata": {},
   "source": [
    "## 🟡 習題 13：批次修改副檔名\n",
    "\n",
    "**難度**：中級 | **主題**：glob + rename\n",
    "\n",
    "### 題目要求\n",
    "1. 建立目錄 `temp_ex13`，包含 5 個 `.txt` 檔案\n",
    "2. 編寫函式 `batch_rename(directory, old_ext, new_ext)`\n",
    "3. 將所有 `.txt` 檔案改為 `.md`\n",
    "4. 顯示重新命名的過程\n",
    "5. 清理測試目錄\n",
    "\n",
    "### 範例輸出\n",
    "```\n",
    "批次重新命名: .txt -> .md\n",
    "  file1.txt -> file1.md\n",
    "  file2.txt -> file2.md\n",
    "  file3.txt -> file3.md\n",
    "  file4.txt -> file4.md\n",
    "  file5.txt -> file5.md\n",
    "\n",
    "完成! 共重新命名 5 個檔案\n",
    "```"
   ]
  },
  {
   "cell_type": "code",
   "execution_count": null,
   "metadata": {},
   "outputs": [],
   "source": [
    "# 在此撰寫你的程式碼\n",
    "from pathlib import Path\n",
    "\n",
    "def batch_rename(directory, old_ext, new_ext):\n",
    "    pass\n",
    "\n",
    "# 測試\n"
   ]
  },
  {
   "cell_type": "markdown",
   "metadata": {},
   "source": [
    "---"
   ]
  },
  {
   "cell_type": "markdown",
   "metadata": {},
   "source": [
    "## 🟡 習題 14：顯示目錄樹\n",
    "\n",
    "**難度**：中級 | **主題**：遞迴遍歷\n",
    "\n",
    "### 題目要求\n",
    "編寫函式 `print_tree(directory, prefix='', is_last=True)`，以樹狀結構顯示目錄內容：\n",
    "\n",
    "建立測試結構：\n",
    "```\n",
    "temp_ex14/\n",
    "├── file1.txt\n",
    "├── dir1/\n",
    "│   ├── file2.txt\n",
    "│   └── file3.txt\n",
    "└── dir2/\n",
    "    └── file4.txt\n",
    "```\n",
    "\n",
    "### 範例輸出\n",
    "```\n",
    "temp_ex14/\n",
    "├── file1.txt\n",
    "├── dir1/\n",
    "│   ├── file2.txt\n",
    "│   └── file3.txt\n",
    "└── dir2/\n",
    "    └── file4.txt\n",
    "```"
   ]
  },
  {
   "cell_type": "code",
   "execution_count": null,
   "metadata": {},
   "outputs": [],
   "source": [
    "# 在此撰寫你的程式碼\n",
    "from pathlib import Path\n",
    "\n",
    "def print_tree(directory, prefix='', is_last=True):\n",
    "    pass\n",
    "\n",
    "# 測試\n"
   ]
  },
  {
   "cell_type": "markdown",
   "metadata": {},
   "source": [
    "---"
   ]
  },
  {
   "cell_type": "markdown",
   "metadata": {},
   "source": [
    "## 🔴 習題 15：計算目錄總大小\n",
    "\n",
    "**難度**：進階 | **主題**：遞迴統計\n",
    "\n",
    "### 題目要求\n",
    "編寫函式 `calculate_dir_size(directory)`，遞迴計算目錄總大小：\n",
    "1. 統計所有檔案大小總和\n",
    "2. 包含所有子目錄\n",
    "3. 顯示檔案數量與總大小（bytes, KB, MB, GB）\n",
    "4. 顯示最大的 5 個檔案\n",
    "\n",
    "建立測試目錄，包含多個不同大小的檔案。\n",
    "\n",
    "### 範例輸出\n",
    "```\n",
    "目錄統計: temp_ex15/\n",
    "==========================================\n",
    "檔案數量: 12\n",
    "目錄數量: 3\n",
    "總大小: 15360 bytes (15.00 KB)\n",
    "\n",
    "最大的 5 個檔案:\n",
    "  1. large_file.dat - 5.00 KB\n",
    "  2. medium_file.txt - 3.50 KB\n",
    "  3. data.csv - 2.00 KB\n",
    "  4. config.json - 1.50 KB\n",
    "  5. readme.md - 1.00 KB\n",
    "```"
   ]
  },
  {
   "cell_type": "code",
   "execution_count": null,
   "metadata": {},
   "outputs": [],
   "source": [
    "# 在此撰寫你的程式碼\n",
    "from pathlib import Path\n",
    "\n",
    "def calculate_dir_size(directory):\n",
    "    pass\n",
    "\n",
    "def format_size(bytes_size):\n",
    "    \"\"\"將 bytes 轉為易讀格式\"\"\"\n",
    "    pass\n",
    "\n",
    "# 測試\n"
   ]
  },
  {
   "cell_type": "markdown",
   "metadata": {},
   "source": [
    "---"
   ]
  },
  {
   "cell_type": "markdown",
   "metadata": {},
   "source": [
    "## 🔴 習題 16：找出重複檔案\n",
    "\n",
    "**難度**：進階 | **主題**：檔案比對\n",
    "\n",
    "### 題目要求\n",
    "編寫函式 `find_duplicates(directory)`，找出目錄中的重複檔案：\n",
    "1. 比對檔案內容（不是檔名）\n",
    "2. 使用檔案大小快速篩選\n",
    "3. 對相同大小的檔案，比對內容\n",
    "4. 顯示所有重複檔案組\n",
    "\n",
    "提示：可使用 `hashlib` 計算檔案雜湊值\n",
    "\n",
    "### 範例輸出\n",
    "```\n",
    "搜尋重複檔案...\n",
    "\n",
    "找到 2 組重複檔案:\n",
    "\n",
    "組 1 (1024 bytes):\n",
    "  - file1.txt\n",
    "  - copy_of_file1.txt\n",
    "  - file1_backup.txt\n",
    "\n",
    "組 2 (512 bytes):\n",
    "  - data.csv\n",
    "  - data_copy.csv\n",
    "```"
   ]
  },
  {
   "cell_type": "code",
   "execution_count": null,
   "metadata": {},
   "outputs": [],
   "source": [
    "# 在此撰寫你的程式碼\n",
    "from pathlib import Path\n",
    "import hashlib\n",
    "\n",
    "def find_duplicates(directory):\n",
    "    pass\n",
    "\n",
    "def file_hash(file_path):\n",
    "    \"\"\"計算檔案的 MD5 雜湊值\"\"\"\n",
    "    pass\n",
    "\n",
    "# 測試\n"
   ]
  },
  {
   "cell_type": "markdown",
   "metadata": {},
   "source": [
    "---"
   ]
  },
  {
   "cell_type": "markdown",
   "metadata": {},
   "source": [
    "## 🔴 習題 17：檔案搜尋工具\n",
    "\n",
    "**難度**：進階 | **主題**：綜合應用\n",
    "\n",
    "### 題目要求\n",
    "編寫函式 `find_files(directory, **criteria)`，支援多種搜尋條件：\n",
    "1. `name`: 檔名模式（支援萬用字元）\n",
    "2. `extension`: 副檔名\n",
    "3. `min_size`: 最小檔案大小（bytes）\n",
    "4. `max_size`: 最大檔案大小\n",
    "5. `contains`: 檔案內容包含的字串\n",
    "6. `modified_after`: 修改時間晚於指定日期\n",
    "\n",
    "### 範例使用\n",
    "```python\n",
    "# 搜尋所有 .py 檔案，大小在 1KB-10KB 之間\n",
    "results = find_files('temp_ex17', extension='.py', min_size=1024, max_size=10240)\n",
    "\n",
    "# 搜尋包含 \"TODO\" 的所有檔案\n",
    "results = find_files('temp_ex17', contains='TODO')\n",
    "```\n",
    "\n",
    "### 範例輸出\n",
    "```\n",
    "搜尋條件: extension=.py, min_size=1024, max_size=10240\n",
    "找到 3 個符合的檔案:\n",
    "  1. script.py (2.5 KB)\n",
    "  2. utils.py (4.2 KB)\n",
    "  3. main.py (8.1 KB)\n",
    "```"
   ]
  },
  {
   "cell_type": "code",
   "execution_count": null,
   "metadata": {},
   "outputs": [],
   "source": [
    "# 在此撰寫你的程式碼\n",
    "from pathlib import Path\n",
    "from datetime import datetime\n",
    "import fnmatch\n",
    "\n",
    "def find_files(directory, **criteria):\n",
    "    pass\n",
    "\n",
    "# 測試\n"
   ]
  },
  {
   "cell_type": "markdown",
   "metadata": {},
   "source": [
    "---"
   ]
  },
  {
   "cell_type": "markdown",
   "metadata": {},
   "source": [
    "## 🔴 習題 18：按類型整理檔案\n",
    "\n",
    "**難度**：進階 | **主題**：檔案組織\n",
    "\n",
    "### 題目要求\n",
    "編寫函式 `organize_by_type(source_dir)`，將檔案分類到不同資料夾：\n",
    "- `images/` - .jpg, .png, .gif, .bmp\n",
    "- `documents/` - .pdf, .doc, .docx, .txt\n",
    "- `code/` - .py, .js, .java, .cpp\n",
    "- `data/` - .csv, .json, .xml\n",
    "- `archives/` - .zip, .tar, .gz\n",
    "- `others/` - 其他檔案\n",
    "\n",
    "要求：\n",
    "1. 自動建立分類資料夾\n",
    "2. 移動檔案到對應資料夾\n",
    "3. 處理同名檔案（加上數字後綴）\n",
    "4. 顯示整理統計\n",
    "\n",
    "### 範例輸出\n",
    "```\n",
    "整理檔案...\n",
    "\n",
    "images/ (3 個檔案)\n",
    "  photo.jpg\n",
    "  diagram.png\n",
    "  icon.gif\n",
    "\n",
    "documents/ (2 個檔案)\n",
    "  report.pdf\n",
    "  notes.txt\n",
    "\n",
    "code/ (4 個檔案)\n",
    "  script.py\n",
    "  main.py\n",
    "  app.js\n",
    "  utils.py\n",
    "\n",
    "總計: 整理了 9 個檔案到 3 個類別\n",
    "```"
   ]
  },
  {
   "cell_type": "code",
   "execution_count": null,
   "metadata": {},
   "outputs": [],
   "source": [
    "# 在此撰寫你的程式碼\n",
    "from pathlib import Path\n",
    "\n",
    "def organize_by_type(source_dir):\n",
    "    pass\n",
    "\n",
    "# 測試\n"
   ]
  },
  {
   "cell_type": "markdown",
   "metadata": {},
   "source": [
    "---"
   ]
  },
  {
   "cell_type": "markdown",
   "metadata": {},
   "source": [
    "## 🟣 習題 19：實作備份工具\n",
    "\n",
    "**難度**：挑戰 | **主題**：檔案備份\n",
    "\n",
    "### 題目要求\n",
    "編寫完整的備份工具 `backup_directory(source, dest, **options)`：\n",
    "\n",
    "功能要求：\n",
    "1. 完整複製目錄結構\n",
    "2. 支援排除檔案（exclude patterns）\n",
    "3. 支援增量備份（只備份修改過的檔案）\n",
    "4. 顯示進度與統計資訊\n",
    "5. 備份完成後產生報告\n",
    "\n",
    "選項：\n",
    "- `exclude`: 排除檔案模式列表（如 `['*.log', '*.tmp']`）\n",
    "- `incremental`: 是否為增量備份\n",
    "- `compress`: 是否壓縮（可選）\n",
    "\n",
    "### 範例輸出\n",
    "```\n",
    "開始備份...\n",
    "來源: temp_ex19/\n",
    "目標: backup_ex19/\n",
    "模式: 增量備份\n",
    "排除: ['*.log', '*.tmp']\n",
    "\n",
    "備份進度:\n",
    "[################] 100% (15/15 檔案)\n",
    "\n",
    "備份報告:\n",
    "==========================================\n",
    "總檔案數: 15\n",
    "已複製: 8 (新增或修改)\n",
    "已跳過: 7 (未修改)\n",
    "總大小: 45.2 KB\n",
    "耗時: 0.5 秒\n",
    "備份完成!\n",
    "```"
   ]
  },
  {
   "cell_type": "code",
   "execution_count": null,
   "metadata": {},
   "outputs": [],
   "source": [
    "# 在此撰寫你的程式碼\n",
    "from pathlib import Path\n",
    "from datetime import datetime\n",
    "import time\n",
    "import fnmatch\n",
    "\n",
    "def backup_directory(source, dest, exclude=None, incremental=False):\n",
    "    \"\"\"\n",
    "    備份目錄\n",
    "    \n",
    "    參數:\n",
    "        source: 來源目錄\n",
    "        dest: 目標目錄\n",
    "        exclude: 排除檔案模式列表\n",
    "        incremental: 是否為增量備份\n",
    "    \"\"\"\n",
    "    pass\n",
    "\n",
    "def should_exclude(file_path, patterns):\n",
    "    \"\"\"檢查檔案是否應被排除\"\"\"\n",
    "    pass\n",
    "\n",
    "def needs_backup(source_file, dest_file):\n",
    "    \"\"\"檢查檔案是否需要備份（增量模式）\"\"\"\n",
    "    pass\n",
    "\n",
    "# 測試\n"
   ]
  },
  {
   "cell_type": "markdown",
   "metadata": {},
   "source": [
    "---"
   ]
  },
  {
   "cell_type": "markdown",
   "metadata": {},
   "source": [
    "## 🟣 習題 20：檔案同步工具\n",
    "\n",
    "**難度**：挑戰 | **主題**：進階專案\n",
    "\n",
    "### 題目要求\n",
    "實作雙向檔案同步工具 `sync_directories(dir1, dir2, mode='two-way')`：\n",
    "\n",
    "功能要求：\n",
    "1. 比對兩個目錄的差異\n",
    "2. 支援三種模式：\n",
    "   - `'one-way'`: dir1 → dir2 單向同步\n",
    "   - `'two-way'`: 雙向同步（根據修改時間）\n",
    "   - `'mirror'`: 鏡像同步（dir2 完全複製 dir1）\n",
    "3. 處理衝突（兩邊都修改過的檔案）\n",
    "4. 支援刪除操作\n",
    "5. 產生詳細同步報告\n",
    "\n",
    "### 範例輸出\n",
    "```\n",
    "同步分析...\n",
    "==========================================\n",
    "目錄 1: dir1/\n",
    "目錄 2: dir2/\n",
    "模式: 雙向同步\n",
    "\n",
    "差異分析:\n",
    "  只在 dir1: 3 個檔案\n",
    "    - new_file1.txt\n",
    "    - new_file2.py\n",
    "    - subfolder/new_file3.md\n",
    "  \n",
    "  只在 dir2: 2 個檔案\n",
    "    - old_file1.txt\n",
    "    - data.csv\n",
    "  \n",
    "  兩邊都有但內容不同: 1 個檔案\n",
    "    - config.json (dir1 較新)\n",
    "  \n",
    "  相同檔案: 10 個\n",
    "\n",
    "執行同步...\n",
    "  [→] dir1/new_file1.txt → dir2/\n",
    "  [→] dir1/new_file2.py → dir2/\n",
    "  [←] dir2/old_file1.txt → dir1/\n",
    "  [→] dir1/config.json → dir2/ (覆蓋)\n",
    "\n",
    "同步完成!\n",
    "  複製: 4 個檔案\n",
    "  更新: 1 個檔案\n",
    "  刪除: 0 個檔案\n",
    "```"
   ]
  },
  {
   "cell_type": "code",
   "execution_count": null,
   "metadata": {},
   "outputs": [],
   "source": [
    "# 在此撰寫你的程式碼\n",
    "from pathlib import Path\n",
    "from datetime import datetime\n",
    "\n",
    "def sync_directories(dir1, dir2, mode='two-way'):\n",
    "    \"\"\"\n",
    "    同步兩個目錄\n",
    "    \n",
    "    參數:\n",
    "        dir1: 第一個目錄\n",
    "        dir2: 第二個目錄\n",
    "        mode: 同步模式 ('one-way', 'two-way', 'mirror')\n",
    "    \"\"\"\n",
    "    pass\n",
    "\n",
    "def get_file_list(directory):\n",
    "    \"\"\"取得目錄中所有檔案的相對路徑字典 {相對路徑: Path 物件}\"\"\"\n",
    "    pass\n",
    "\n",
    "def compare_directories(dir1, dir2):\n",
    "    \"\"\"比對兩個目錄的差異\"\"\"\n",
    "    pass\n",
    "\n",
    "def sync_file(source, dest):\n",
    "    \"\"\"同步單一檔案\"\"\"\n",
    "    pass\n",
    "\n",
    "# 測試\n"
   ]
  },
  {
   "cell_type": "markdown",
   "metadata": {},
   "source": [
    "---\n",
    "\n",
    "## 🎉 恭喜完成所有習題！\n",
    "\n",
    "完成後請：\n",
    "1. ✅ 對照 `05-solutions.ipynb` 檢查答案\n",
    "2. 📝 複習不熟悉的概念\n",
    "3. 💡 嘗試優化你的解法\n",
    "4. 🎯 完成 `quiz.ipynb` 自我測驗\n",
    "\n",
    "---"
   ]
  }
 ],
 "metadata": {
  "kernelspec": {
   "display_name": "Python 3",
   "language": "python",
   "name": "python3"
  },
  "language_info": {
   "codemirror_mode": {
    "name": "ipython",
    "version": 3
   },
   "file_extension": ".py",
   "mimetype": "text/x-python",
   "name": "python",
   "nbconvert_exporter": "python",
   "pygments_lexer": "ipython3",
   "version": "3.8.0"
  }
 },
 "nbformat": 4,
 "nbformat_minor": 4
}
