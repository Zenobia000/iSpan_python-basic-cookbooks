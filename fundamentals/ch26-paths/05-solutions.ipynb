{
 "cells": [
  {
   "cell_type": "markdown",
   "metadata": {},
   "source": "# 路徑與檔案系統 | Paths and File Systems\n\n## ✅ 習題解答 | Solutions\n\n---\n\n## 📋 使用說明\n\n本檔案提供 **04-exercises.ipynb** 的完整解答。\n\n**建議使用方式**：\n1. ⚠️ **先自行完成習題**，不要直接看解答\n2. ✅ 完成後，對照本檔案檢查答案\n3. 📝 理解不同解法的優缺點\n4. 💡 學習更簡潔或更高效的寫法\n\n---"
  },
  {
   "cell_type": "markdown",
   "metadata": {},
   "source": "## 🟢 習題 1 解答：取得當前工作目錄\n\n### 解題思路\n1. （分析步驟）\n2. （關鍵技巧）\n\n### 程式碼實作"
  },
  {
   "cell_type": "code",
   "execution_count": null,
   "metadata": {},
   "outputs": [],
   "source": "# 習題 1 參考解答\n# TODO: 實作完整解答\n\nprint(\"習題 1 解答\")\n# 程式碼..."
  },
  {
   "cell_type": "markdown",
   "metadata": {},
   "source": "### 知識點回顧\n- ✅ （重點 1）\n- ✅ （重點 2）\n\n### 其他解法\n（若有多種解法，可在此說明）\n\n---"
  },
  {
   "cell_type": "markdown",
   "metadata": {},
   "source": "## 🟢 習題 2 解答：檢查檔案是否存在\n\n### 解題思路\n1. （分析步驟）\n2. （關鍵技巧）\n\n### 程式碼實作"
  },
  {
   "cell_type": "code",
   "execution_count": null,
   "metadata": {},
   "outputs": [],
   "source": "# 習題 2 參考解答\n# TODO: 實作完整解答\n\nprint(\"習題 2 解答\")\n# 程式碼..."
  },
  {
   "cell_type": "markdown",
   "metadata": {},
   "source": "### 知識點回顧\n- ✅ （重點 1）\n- ✅ （重點 2）\n\n### 其他解法\n（若有多種解法，可在此說明）\n\n---"
  },
  {
   "cell_type": "markdown",
   "metadata": {},
   "source": "## 🟢 習題 3 解答：取得檔案的父目錄\n\n### 解題思路\n1. （分析步驟）\n2. （關鍵技巧）\n\n### 程式碼實作"
  },
  {
   "cell_type": "code",
   "execution_count": null,
   "metadata": {},
   "outputs": [],
   "source": "# 習題 3 參考解答\n# TODO: 實作完整解答\n\nprint(\"習題 3 解答\")\n# 程式碼..."
  },
  {
   "cell_type": "markdown",
   "metadata": {},
   "source": "### 知識點回顧\n- ✅ （重點 1）\n- ✅ （重點 2）\n\n### 其他解法\n（若有多種解法，可在此說明）\n\n---"
  },
  {
   "cell_type": "markdown",
   "metadata": {},
   "source": "## 🟢 習題 4 解答：取得檔案名稱與副檔名\n\n### 解題思路\n1. （分析步驟）\n2. （關鍵技巧）\n\n### 程式碼實作"
  },
  {
   "cell_type": "code",
   "execution_count": null,
   "metadata": {},
   "outputs": [],
   "source": "# 習題 4 參考解答\n# TODO: 實作完整解答\n\nprint(\"習題 4 解答\")\n# 程式碼..."
  },
  {
   "cell_type": "markdown",
   "metadata": {},
   "source": "### 知識點回顧\n- ✅ （重點 1）\n- ✅ （重點 2）\n\n### 其他解法\n（若有多種解法，可在此說明）\n\n---"
  },
  {
   "cell_type": "markdown",
   "metadata": {},
   "source": "## 🟡 習題 5 解答：建立多層目錄結構\n\n### 解題思路\n1. （分析步驟）\n2. （關鍵技巧）\n\n### 程式碼實作"
  },
  {
   "cell_type": "code",
   "execution_count": null,
   "metadata": {},
   "outputs": [],
   "source": "# 習題 5 參考解答\n# TODO: 實作完整解答\n\nprint(\"習題 5 解答\")\n# 程式碼..."
  },
  {
   "cell_type": "markdown",
   "metadata": {},
   "source": "### 知識點回顧\n- ✅ （重點 1）\n- ✅ （重點 2）\n\n### 其他解法\n（若有多種解法，可在此說明）\n\n---"
  },
  {
   "cell_type": "markdown",
   "metadata": {},
   "source": "## 🟡 習題 6 解答：取得目錄下所有檔案\n\n### 解題思路\n1. （分析步驟）\n2. （關鍵技巧）\n\n### 程式碼實作"
  },
  {
   "cell_type": "code",
   "execution_count": null,
   "metadata": {},
   "outputs": [],
   "source": "# 習題 6 參考解答\n# TODO: 實作完整解答\n\nprint(\"習題 6 解答\")\n# 程式碼..."
  },
  {
   "cell_type": "markdown",
   "metadata": {},
   "source": "### 知識點回顧\n- ✅ （重點 1）\n- ✅ （重點 2）\n\n### 其他解法\n（若有多種解法，可在此說明）\n\n---"
  },
  {
   "cell_type": "markdown",
   "metadata": {},
   "source": "## 🟡 習題 7 解答：搜尋特定副檔名的檔案\n\n### 解題思路\n1. （分析步驟）\n2. （關鍵技巧）\n\n### 程式碼實作"
  },
  {
   "cell_type": "code",
   "execution_count": null,
   "metadata": {},
   "outputs": [],
   "source": "# 習題 7 參考解答\n# TODO: 實作完整解答\n\nprint(\"習題 7 解答\")\n# 程式碼..."
  },
  {
   "cell_type": "markdown",
   "metadata": {},
   "source": "### 知識點回顧\n- ✅ （重點 1）\n- ✅ （重點 2）\n\n### 其他解法\n（若有多種解法，可在此說明）\n\n---"
  },
  {
   "cell_type": "markdown",
   "metadata": {},
   "source": "## 🟡 習題 8 解答：取得檔案大小與修改時間\n\n### 解題思路\n1. （分析步驟）\n2. （關鍵技巧）\n\n### 程式碼實作"
  },
  {
   "cell_type": "code",
   "execution_count": null,
   "metadata": {},
   "outputs": [],
   "source": "# 習題 8 參考解答\n# TODO: 實作完整解答\n\nprint(\"習題 8 解答\")\n# 程式碼..."
  },
  {
   "cell_type": "markdown",
   "metadata": {},
   "source": "### 知識點回顧\n- ✅ （重點 1）\n- ✅ （重點 2）\n\n### 其他解法\n（若有多種解法，可在此說明）\n\n---"
  },
  {
   "cell_type": "markdown",
   "metadata": {},
   "source": "## 🔴 習題 9 解答：計算目錄總大小\n\n### 解題思路\n1. （分析步驟）\n2. （關鍵技巧）\n\n### 程式碼實作"
  },
  {
   "cell_type": "code",
   "execution_count": null,
   "metadata": {},
   "outputs": [],
   "source": "# 習題 9 參考解答\n# TODO: 實作完整解答\n\nprint(\"習題 9 解答\")\n# 程式碼..."
  },
  {
   "cell_type": "markdown",
   "metadata": {},
   "source": "### 知識點回顧\n- ✅ （重點 1）\n- ✅ （重點 2）\n\n### 其他解法\n（若有多種解法，可在此說明）\n\n---"
  },
  {
   "cell_type": "markdown",
   "metadata": {},
   "source": "## 🔴 習題 10 解答：實作檔案搜尋工具（類似find指令）\n\n### 解題思路\n1. （分析步驟）\n2. （關鍵技巧）\n\n### 程式碼實作"
  },
  {
   "cell_type": "code",
   "execution_count": null,
   "metadata": {},
   "outputs": [],
   "source": "# 習題 10 參考解答\n# TODO: 實作完整解答\n\nprint(\"習題 10 解答\")\n# 程式碼..."
  },
  {
   "cell_type": "markdown",
   "metadata": {},
   "source": "### 知識點回顧\n- ✅ （重點 1）\n- ✅ （重點 2）\n\n### 其他解法\n（若有多種解法，可在此說明）\n\n---"
  },
  {
   "cell_type": "markdown",
   "metadata": {},
   "source": "## 🟣 習題 11 解答：批次移動檔案到分類資料夾\n\n### 解題思路\n1. （分析步驟）\n2. （關鍵技巧）\n\n### 程式碼實作"
  },
  {
   "cell_type": "code",
   "execution_count": null,
   "metadata": {},
   "outputs": [],
   "source": "# 習題 11 參考解答\n# TODO: 實作完整解答\n\nprint(\"習題 11 解答\")\n# 程式碼..."
  },
  {
   "cell_type": "markdown",
   "metadata": {},
   "source": "### 知識點回顧\n- ✅ （重點 1）\n- ✅ （重點 2）\n\n### 其他解法\n（若有多種解法，可在此說明）\n\n---"
  },
  {
   "cell_type": "markdown",
   "metadata": {},
   "source": "## 🟣 習題 12 解答：實作檔案同步工具（比對兩個目錄）\n\n### 解題思路\n1. （分析步驟）\n2. （關鍵技巧）\n\n### 程式碼實作"
  },
  {
   "cell_type": "code",
   "execution_count": null,
   "metadata": {},
   "outputs": [],
   "source": "# 習題 12 參考解答\n# TODO: 實作完整解答\n\nprint(\"習題 12 解答\")\n# 程式碼..."
  },
  {
   "cell_type": "markdown",
   "metadata": {},
   "source": "### 知識點回顧\n- ✅ （重點 1）\n- ✅ （重點 2）\n\n### 其他解法\n（若有多種解法，可在此說明）\n\n---"
  }
 ],
 "metadata": {
  "kernelspec": {
   "display_name": "Python 3",
   "language": "python",
   "name": "python3"
  },
  "language_info": {
   "codemirror_mode": {
    "name": "ipython",
    "version": 3
   },
   "file_extension": ".py",
   "mimetype": "text/x-python",
   "name": "python",
   "nbconvert_exporter": "python",
   "pygments_lexer": "ipython3",
   "version": "3.8.0"
  }
 },
 "nbformat": 4,
 "nbformat_minor": 4
}