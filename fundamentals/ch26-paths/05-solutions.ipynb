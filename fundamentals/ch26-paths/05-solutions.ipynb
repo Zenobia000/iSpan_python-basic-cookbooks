{
 "cells": [
  {
   "cell_type": "markdown",
   "metadata": {},
   "source": [
    "# 路徑與檔案系統 | Paths and File Systems\n",
    "\n",
    "## ✅ 習題解答 | Solutions\n",
    "\n",
    "---\n",
    "\n",
    "## 📋 使用說明\n",
    "\n",
    "本檔案提供 **04-exercises.ipynb** 的完整解答。\n",
    "\n",
    "**建議使用方式**：\n",
    "1. ⚠️ **先自行完成習題**，不要直接看解答\n",
    "2. ✅ 完成後，對照本檔案檢查答案\n",
    "3. 📝 理解不同解法的優缺點\n",
    "4. 💡 學習更簡潔或更高效的寫法\n",
    "\n",
    "---"
   ]
  },
  {
   "cell_type": "markdown",
   "metadata": {},
   "source": [
    "## 🟢 習題 1 解答：建立與顯示路徑\n",
    "\n",
    "### 解題思路\n",
    "1. 使用 Path() 建構子建立路徑物件\n",
    "2. 使用 / 運算子組合路徑\n",
    "3. 使用 Path.cwd() 和 Path.home() 取得系統路徑\n",
    "\n",
    "### 程式碼實作"
   ]
  },
  {
   "cell_type": "code",
   "execution_count": null,
   "metadata": {},
   "outputs": [],
   "source": "# 習題 1 參考解答\nfrom pathlib import Path\n\n# 1. 建立相對路徑\npath1 = Path('data/files/report.txt')\nprint(f\"路徑 1: {path1}\")\nprint(f\"類型: {type(path1)}\")\nprint()\n\n# 2. 使用 / 運算子組合\npath2 = Path('project') / 'src' / 'main.py'\nprint(f\"路徑 2: {path2}\")\nprint()\n\n# 3. 當前工作目錄\ncwd = Path.cwd()\nprint(f\"當前工作目錄: {cwd}\")\nprint()\n\n# 4. 使用者家目錄\nhome = Path.home()\nprint(f\"使用者家目錄: {home}\")"
  },
  {
   "cell_type": "markdown",
   "metadata": {},
   "source": [
    "### 知識點回顧\n",
    "- ✅ Path() 建立路徑物件，不檢查檔案是否存在\n",
    "- ✅ / 運算子提供直觀的路徑組合方式\n",
    "- ✅ Path.cwd() 返回當前工作目錄\n",
    "- ✅ Path.home() 返回使用者家目錄\n",
    "\n",
    "---"
   ]
  },
  {
   "cell_type": "markdown",
   "metadata": {},
   "source": [
    "## 🟢 習題 2 解答：路徑屬性分析\n",
    "\n",
    "### 解題思路\n",
    "1. 使用 name, stem, suffix 等屬性\n",
    "2. 使用 parent 取得父目錄\n",
    "3. 使用 parts 分解路徑\n",
    "\n",
    "### 程式碼實作"
   ]
  },
  {
   "cell_type": "code",
   "execution_count": null,
   "metadata": {},
   "outputs": [],
   "source": "# 習題 2 參考解答\nfrom pathlib import Path\n\npath = Path('/home/user/documents/report.final.pdf')\n\nprint(f\"完整檔名 (name): {path.name}\")\nprint(f\"主檔名 (stem): {path.stem}\")\nprint(f\"副檔名 (suffix): {path.suffix}\")\nprint(f\"所有副檔名 (suffixes): {path.suffixes}\")\nprint(f\"父目錄 (parent): {path.parent}\")\nprint(f\"祖父目錄 (parent.parent): {path.parent.parent}\")\nprint(f\"組成部分 (parts): {path.parts}\")"
  },
  {
   "cell_type": "markdown",
   "metadata": {},
   "source": [
    "### 知識點回顧\n",
    "- ✅ name: 完整檔名\n",
    "- ✅ stem: 主檔名（不含副檔名）\n",
    "- ✅ suffix: 最後一個副檔名\n",
    "- ✅ suffixes: 所有副檔名（如 .tar.gz）\n",
    "- ✅ parent: 父目錄\n",
    "- ✅ parts: 路徑所有組成部分的元組\n",
    "\n",
    "---"
   ]
  },
  {
   "cell_type": "markdown",
   "metadata": {},
   "source": [
    "## 🟢 習題 3 解答：修改路徑\n",
    "\n",
    "### 解題思路\n",
    "1. 使用 with_suffix() 修改副檔名\n",
    "2. 使用 with_name() 修改檔名\n",
    "3. 使用 with_stem() 修改主檔名\n",
    "\n",
    "### 程式碼實作"
   ]
  },
  {
   "cell_type": "code",
   "execution_count": null,
   "metadata": {},
   "outputs": [],
   "source": "# 習題 3 參考解答\nfrom pathlib import Path\n\npath = Path('data/files/report.csv')\nprint(f\"原始路徑: {path}\")\n\n# 1. 修改副檔名\nnew_path1 = path.with_suffix('.txt')\nprint(f\"修改副檔名: {new_path1}\")\n\n# 2. 修改檔名\nnew_path2 = path.with_name('summary.csv')\nprint(f\"修改檔名: {new_path2}\")\n\n# 3. 修改主檔名 (Python 3.9+)\nnew_path3 = path.with_stem('final_report')\nprint(f\"修改主檔名: {new_path3}\")\n\n# 4. 組合操作\nnew_path4 = path.with_name('backup_data.json')\nprint(f\"組合修改: {new_path4}\")"
  },
  {
   "cell_type": "markdown",
   "metadata": {},
   "source": [
    "### 知識點回顧\n",
    "- ✅ with_suffix(): 返回新路徑，修改副檔名\n",
    "- ✅ with_name(): 返回新路徑，修改檔名\n",
    "- ✅ with_stem(): 返回新路徑，修改主檔名 (Python 3.9+)\n",
    "- ✅ 這些方法不修改原物件，返回新物件\n",
    "\n",
    "---"
   ]
  },
  {
   "cell_type": "markdown",
   "metadata": {},
   "source": [
    "## 🟢 習題 4 解答：路徑檢查\n",
    "\n",
    "### 解題思路\n",
    "1. 建立函式封裝檢查邏輯\n",
    "2. 使用 exists(), is_file(), is_dir(), is_absolute()\n",
    "3. 使用 stat() 取得檔案大小\n",
    "\n",
    "### 程式碼實作"
   ]
  },
  {
   "cell_type": "code",
   "execution_count": null,
   "metadata": {},
   "outputs": [],
   "source": "# 習題 4 參考解答\nfrom pathlib import Path\n\ndef check_path(path_str):\n    \"\"\"檢查路徑的各種屬性\"\"\"\n    path = Path(path_str)\n    print(f\"檢查路徑: {path}\")\n    print(f\"  存在: {path.exists()}\")\n    print(f\"  是檔案: {path.is_file()}\")\n    print(f\"  是目錄: {path.is_dir()}\")\n    print(f\"  是絕對路徑: {path.is_absolute()}\")\n\n    if path.exists() and path.is_file():\n        print(f\"  大小: {path.stat().st_size} bytes\")\n    print()\n\n# 測試\ncheck_path('.')\ncheck_path('..')\ncheck_path('nonexistent.txt')"
  },
  {
   "cell_type": "markdown",
   "metadata": {},
   "source": [
    "### 知識點回顧\n",
    "- ✅ exists(): 檢查路徑是否存在\n",
    "- ✅ is_file(): 檢查是否為檔案\n",
    "- ✅ is_dir(): 檢查是否為目錄\n",
    "- ✅ is_absolute(): 檢查是否為絕對路徑\n",
    "- ✅ stat(): 取得檔案屬性\n",
    "\n",
    "---"
   ]
  },
  {
   "cell_type": "markdown",
   "metadata": {},
   "source": [
    "## 🟢 習題 5 解答：路徑解析\n",
    "\n",
    "### 解題思路\n",
    "1. 使用 absolute() 轉為絕對路徑\n",
    "2. 使用 resolve() 解析並正規化\n",
    "3. 比較兩者差異\n",
    "\n",
    "### 程式碼實作"
   ]
  },
  {
   "cell_type": "code",
   "execution_count": null,
   "metadata": {},
   "outputs": [],
   "source": "# 習題 5 參考解答\nfrom pathlib import Path\n\n# 建立相對路徑\nrel_path = Path('../data/./files/../file.txt')\nprint(f\"原始相對路徑: {rel_path}\")\nprint()\n\n# absolute() - 轉為絕對路徑，保留 .. 和 .\nabs_path = rel_path.absolute()\nprint(f\"absolute(): {abs_path}\")\nprint()\n\n# resolve() - 解析並正規化，消除 .. 和 .\nresolved_path = rel_path.resolve()\nprint(f\"resolve(): {resolved_path}\")\nprint(f\"解析後是絕對路徑: {resolved_path.is_absolute()}\")"
  },
  {
   "cell_type": "markdown",
   "metadata": {},
   "source": [
    "### 知識點回顧\n",
    "- ✅ absolute(): 轉為絕對路徑，保留 .. 和 .\n",
    "- ✅ resolve(): 解析為絕對路徑，消除 .. 和 .\n",
    "- ✅ 建議使用 resolve() 取得標準化的絕對路徑\n",
    "\n",
    "---"
   ]
  },
  {
   "cell_type": "markdown",
   "metadata": {},
   "source": [
    "## 🟢 習題 6 解答：計算相對路徑\n",
    "\n",
    "### 解題思路\n",
    "1. 使用 relative_to() 計算相對路徑\n",
    "2. 使用 try-except 處理錯誤\n",
    "\n",
    "### 程式碼實作"
   ]
  },
  {
   "cell_type": "code",
   "execution_count": null,
   "metadata": {},
   "outputs": [],
   "source": "# 習題 6 參考解答\nfrom pathlib import Path\n\n# 基準路徑與完整路徑\nbase = Path('/home/user/projects')\nfull = Path('/home/user/projects/python/src/main.py')\n\nprint(f\"基準路徑: {base}\")\nprint(f\"完整路徑: {full}\")\n\n# 計算相對路徑\nrelative = full.relative_to(base)\nprint(f\"相對路徑: {relative}\")\nprint()\n\n# 嘗試計算不相關路徑\nunrelated = Path('/etc/config')\nprint(f\"嘗試計算 {unrelated} 相對於 {base}:\")\ntry:\n    result = unrelated.relative_to(base)\n    print(f\"相對路徑: {result}\")\nexcept ValueError as e:\n    print(f\"錯誤: 路徑不在基準目錄下\")"
  },
  {
   "cell_type": "markdown",
   "metadata": {},
   "source": [
    "### 知識點回顧\n",
    "- ✅ relative_to(base): 計算相對於 base 的相對路徑\n",
    "- ✅ 路徑必須在基準目錄下，否則拋出 ValueError\n",
    "- ✅ Python 3.9+ 可使用 is_relative_to() 先檢查\n",
    "\n",
    "---"
   ]
  },
  {
   "cell_type": "markdown",
   "metadata": {},
   "source": [
    "## 🟡 習題 7 解答：建立目錄結構\n",
    "\n",
    "### 解題思路\n",
    "1. 使用 mkdir(parents=True, exist_ok=True)\n",
    "2. 遍歷並顯示目錄結構\n",
    "3. 清理建立的目錄\n",
    "\n",
    "### 程式碼實作"
   ]
  },
  {
   "cell_type": "code",
   "execution_count": null,
   "metadata": {},
   "outputs": [],
   "source": "# 習題 7 參考解答\nfrom pathlib import Path\n\n# 定義目錄結構\nroot = Path('temp_ex7')\ndirs = [\n    root / 'data' / 'raw',\n    root / 'data' / 'processed',\n    root / 'src' / 'utils',\n    root / 'src' / 'models',\n    root / 'tests'\n]\n\nprint(\"建立目錄結構...\")\nfor dir_path in dirs:\n    dir_path.mkdir(parents=True, exist_ok=True)\n    print(f\"✓ {dir_path}\")\n\nprint(\"\\n目錄結構:\")\nfor item in sorted(root.rglob('*')):\n    if item.is_dir():\n        level = len(item.relative_to(root).parts)\n        indent = '  ' * level\n        print(f\"{indent}{item.name}/\")\n\n# 清理\nprint(\"\\n清理中...\")\nfor item in sorted(root.rglob('*'), reverse=True):\n    if item.is_dir():\n        item.rmdir()\nroot.rmdir()\nprint(\"完成!\")"
  },
  {
   "cell_type": "markdown",
   "metadata": {},
   "source": [
    "### 知識點回顧\n",
    "- ✅ mkdir(parents=True): 建立所有必要的父目錄\n",
    "- ✅ mkdir(exist_ok=True): 目錄已存在時不報錯\n",
    "- ✅ rglob(): 遞迴搜尋所有子目錄\n",
    "- ✅ 刪除目錄時需從最深層開始\n",
    "\n",
    "---"
   ]
  },
  {
   "cell_type": "markdown",
   "metadata": {},
   "source": [
    "## 🟡 習題 8 解答：遍歷目錄\n",
    "\n",
    "### 解題思路\n",
    "1. 建立測試環境\n",
    "2. 使用 iterdir() 遍歷\n",
    "3. 分類顯示檔案與目錄\n",
    "4. 統計數量\n",
    "\n",
    "### 程式碼實作"
   ]
  },
  {
   "cell_type": "code",
   "execution_count": null,
   "metadata": {},
   "outputs": [],
   "source": "# 習題 8 參考解答\nfrom pathlib import Path\n\n# 建立測試目錄\ntest_dir = Path('temp_ex8')\ntest_dir.mkdir(exist_ok=True)\n\n# 建立檔案\nfiles = ['file1.txt', 'file2.py', 'file3.md']\nfor file in files:\n    (test_dir / file).write_text('test')\n\n# 建立子目錄\nfor subdir in ['subdir1', 'subdir2']:\n    (test_dir / subdir).mkdir()\n\nprint(\"目錄內容:\\n\")\n\n# 分類顯示\nfiles_list = []\ndirs_list = []\n\nfor item in test_dir.iterdir():\n    if item.is_file():\n        files_list.append(item.name)\n    elif item.is_dir():\n        dirs_list.append(item.name)\n\nprint(\"檔案:\")\nfor file in sorted(files_list):\n    print(f\"  - {file}\")\n\nprint(\"\\n目錄:\")\nfor dir in sorted(dirs_list):\n    print(f\"  - {dir}/\")\n\nprint(f\"\\n統計: {len(files_list)} 個檔案, {len(dirs_list)} 個目錄\")\n\n# 清理\nfor item in test_dir.iterdir():\n    if item.is_file():\n        item.unlink()\n    elif item.is_dir():\n        item.rmdir()\ntest_dir.rmdir()"
  },
  {
   "cell_type": "markdown",
   "metadata": {},
   "source": [
    "### 知識點回顧\n",
    "- ✅ iterdir(): 遍歷目錄（不遞迴）\n",
    "- ✅ 使用 is_file() 和 is_dir() 分類\n",
    "- ✅ 列表推導式統計數量\n",
    "\n",
    "---"
   ]
  },
  {
   "cell_type": "markdown",
   "metadata": {},
   "source": [
    "## 🟡 習題 9 解答：Glob 模式搜尋\n",
    "\n",
    "### 解題思路\n",
    "1. 建立測試檔案\n",
    "2. 使用不同 glob 模式\n",
    "3. 顯示搜尋結果\n",
    "\n",
    "### 程式碼實作"
   ]
  },
  {
   "cell_type": "code",
   "execution_count": null,
   "metadata": {},
   "outputs": [],
   "source": "# 習題 9 參考解答\nfrom pathlib import Path\n\n# 建立測試目錄與檔案\ntest_dir = Path('temp_ex9')\ntest_dir.mkdir(exist_ok=True)\n\nfiles = [\n    'data1.txt', 'data2.txt', 'report.csv',\n    'image.png', 'script.py',\n    'backup_2024.zip', 'backup_2023.zip'\n]\n\nfor file in files:\n    (test_dir / file).write_text('test')\n\n# 1. 搜尋 .txt 檔案\nprint(\"1. 所有 .txt 檔案:\")\nfor file in test_dir.glob('*.txt'):\n    print(f\"   - {file.name}\")\n\n# 2. data 開頭的檔案\nprint(\"\\n2. data 開頭的檔案:\")\nfor file in test_dir.glob('data*'):\n    print(f\"   - {file.name}\")\n\n# 3. 包含數字的檔案\nprint(\"\\n3. 包含數字的檔案:\")\nfor file in test_dir.glob('*[0-9]*'):\n    print(f\"   - {file.name}\")\n\n# 4. 4 個字元的副檔名\nprint(\"\\n4. 4 個字元的副檔名:\")\nfor file in test_dir.glob('*.????'):\n    print(f\"   - {file.name}\")\n\n# 清理\nfor file in test_dir.glob('*'):\n    file.unlink()\ntest_dir.rmdir()"
  },
  {
   "cell_type": "markdown",
   "metadata": {},
   "source": [
    "### 知識點回顧\n",
    "- ✅ glob(pattern): 模式匹配搜尋\n",
    "- ✅ *: 匹配任意數量字元\n",
    "- ✅ ?: 匹配單一字元\n",
    "- ✅ [0-9]: 匹配數字範圍\n",
    "\n",
    "---"
   ]
  },
  {
   "cell_type": "markdown",
   "metadata": {},
   "source": [
    "## 🟡 習題 10 解答：遞迴搜尋檔案\n",
    "\n",
    "### 解題思路\n",
    "1. 建立多層目錄結構\n",
    "2. 使用 rglob() 遞迴搜尋\n",
    "3. 顯示相對路徑\n",
    "\n",
    "### 程式碼實作"
   ]
  },
  {
   "cell_type": "code",
   "execution_count": null,
   "metadata": {},
   "outputs": [],
   "source": "# 習題 10 參考解答\nfrom pathlib import Path\n\n# 建立目錄結構\nroot = Path('temp_ex10')\nroot.mkdir(exist_ok=True)\n\n# 建立檔案\nfiles = [\n    'file1.py',\n    'dir1/file2.py',\n    'dir1/file3.txt',\n    'dir2/subdir/file4.py'\n]\n\nfor file in files:\n    path = root / file\n    path.parent.mkdir(parents=True, exist_ok=True)\n    path.write_text('test')\n\n# 遞迴搜尋所有 .py 檔案\nprint(\"遞迴搜尋所有 .py 檔案:\")\npy_files = list(root.rglob('*.py'))\n\nfor i, file in enumerate(py_files, 1):\n    rel_path = file.relative_to(root)\n    print(f\"  {i}. {rel_path}\")\n\nprint(f\"\\n總計: {len(py_files)} 個 .py 檔案\")\n\n# 清理\nfor item in sorted(root.rglob('*'), reverse=True):\n    if item.is_file():\n        item.unlink()\n    elif item.is_dir():\n        item.rmdir()\nroot.rmdir()"
  },
  {
   "cell_type": "markdown",
   "metadata": {},
   "source": [
    "### 知識點回顧\n",
    "- ✅ rglob(pattern): 遞迴搜尋（含子目錄）\n",
    "- ✅ relative_to(): 取得相對路徑\n",
    "- ✅ 使用 sorted() 確保刪除順序\n",
    "\n",
    "---"
   ]
  },
  {
   "cell_type": "markdown",
   "metadata": {},
   "source": [
    "## 🟡 習題 11 解答：檔案屬性查詢\n",
    "\n",
    "### 解題思路\n",
    "1. 使用 stat() 取得檔案屬性\n",
    "2. 格式化顯示時間與大小\n",
    "3. 處理時間戳記\n",
    "\n",
    "### 程式碼實作"
   ]
  },
  {
   "cell_type": "code",
   "execution_count": null,
   "metadata": {},
   "outputs": [],
   "source": "# 習題 11 參考解答\nfrom pathlib import Path\nfrom datetime import datetime\n\ndef show_file_info(file_path):\n    \"\"\"顯示檔案詳細資訊\"\"\"\n    path = Path(file_path)\n\n    if not path.exists():\n        print(f\"檔案不存在: {file_path}\")\n        return\n\n    stats = path.stat()\n\n    print(f\"檔案資訊: {path.name}\")\n    print(\"=\" * 40)\n\n    # 檔案大小\n    size_bytes = stats.st_size\n    size_kb = size_bytes / 1024\n    size_mb = size_kb / 1024\n\n    print(f\"大小: {size_bytes} bytes ({size_kb:.2f} KB)\")\n    if size_mb >= 1:\n        print(f\"      ({size_mb:.2f} MB)\")\n\n    # 時間\n    ctime = datetime.fromtimestamp(stats.st_ctime)\n    mtime = datetime.fromtimestamp(stats.st_mtime)\n    atime = datetime.fromtimestamp(stats.st_atime)\n\n    print(f\"建立時間: {ctime.strftime('%Y-%m-%d %H:%M:%S')}\")\n    print(f\"修改時間: {mtime.strftime('%Y-%m-%d %H:%M:%S')}\")\n    print(f\"訪問時間: {atime.strftime('%Y-%m-%d %H:%M:%S')}\")\n\n# 測試\ntest_file = Path('test_file.txt')\ntest_file.write_text('This is a test file with some content.\\n' * 20)\nshow_file_info(test_file)\ntest_file.unlink()"
  },
  {
   "cell_type": "markdown",
   "metadata": {},
   "source": [
    "### 知識點回顧\n",
    "- ✅ stat(): 取得檔案屬性\n",
    "- ✅ st_size: 檔案大小（bytes）\n",
    "- ✅ st_ctime, st_mtime, st_atime: 時間戳記\n",
    "- ✅ datetime.fromtimestamp(): 轉換時間戳記\n",
    "\n",
    "---"
   ]
  },
  {
   "cell_type": "markdown",
   "metadata": {},
   "source": [
    "## 🟡 習題 12 解答：檔案重新命名與複製\n",
    "\n",
    "### 解題思路\n",
    "1. 使用 write_text() 建立檔案\n",
    "2. 使用 rename() 重新命名\n",
    "3. 讀取後寫入實現複製\n",
    "4. 使用 with_name() 產生新檔名\n",
    "\n",
    "### 程式碼實作"
   ]
  },
  {
   "cell_type": "code",
   "execution_count": null,
   "metadata": {},
   "outputs": [],
   "source": "# 習題 12 參考解答\nfrom pathlib import Path\n\n# 1. 建立檔案\noriginal = Path('original.txt')\noriginal.write_text('Hello, World!')\nprint(f\"1. 建立檔案: {original.name}\")\n\n# 2. 重新命名\nrenamed = Path('renamed.txt')\noriginal.rename(renamed)\nprint(f\"2. 重新命名: original.txt -> {renamed.name}\")\n\n# 3. 複製檔案\ncopy_file = Path('copy.txt')\ncopy_file.write_text(renamed.read_text())\nprint(f\"3. 複製檔案: {renamed.name} -> {copy_file.name}\")\n\n# 4. 產生備份檔名\nbackup_name = renamed.with_name('renamed_backup.txt')\nprint(f\"4. 備份檔名: {backup_name.name}\")\n\n# 5. 清理\nrenamed.unlink()\ncopy_file.unlink()\nprint(\"5. 清理完成\")"
  },
  {
   "cell_type": "markdown",
   "metadata": {},
   "source": [
    "### 知識點回顧\n",
    "- ✅ write_text(): 寫入文字檔\n",
    "- ✅ rename(): 重新命名或移動檔案\n",
    "- ✅ read_text(): 讀取文字檔內容\n",
    "- ✅ with_name(): 產生新檔名\n",
    "- ✅ unlink(): 刪除檔案\n",
    "\n",
    "---"
   ]
  },
  {
   "cell_type": "markdown",
   "metadata": {},
   "source": [
    "## 🟡 習題 13 解答：批次修改副檔名\n",
    "\n",
    "### 解題思路\n",
    "1. 使用 glob() 找出所有目標檔案\n",
    "2. 使用 with_suffix() 產生新檔名\n",
    "3. 使用 rename() 重新命名\n",
    "\n",
    "### 程式碼實作"
   ]
  },
  {
   "cell_type": "code",
   "execution_count": null,
   "metadata": {},
   "outputs": [],
   "source": "# 習題 13 參考解答\nfrom pathlib import Path\n\ndef batch_rename(directory, old_ext, new_ext):\n    \"\"\"批次修改副檔名\"\"\"\n    dir_path = Path(directory)\n\n    if not old_ext.startswith('.'):\n        old_ext = '.' + old_ext\n    if not new_ext.startswith('.'):\n        new_ext = '.' + new_ext\n\n    # 搜尋所有符合的檔案\n    pattern = f'*{old_ext}'\n    files = list(dir_path.glob(pattern))\n\n    print(f\"批次重新命名: {old_ext} -> {new_ext}\")\n\n    for file in files:\n        new_name = file.with_suffix(new_ext)\n        file.rename(new_name)\n        print(f\"  {file.name} -> {new_name.name}\")\n\n    print(f\"\\n完成! 共重新命名 {len(files)} 個檔案\")\n\n# 測試\ntest_dir = Path('temp_ex13')\ntest_dir.mkdir(exist_ok=True)\n\nfor i in range(1, 6):\n    (test_dir / f'file{i}.txt').write_text('test')\n\nbatch_rename(test_dir, '.txt', '.md')\n\n# 清理\nfor file in test_dir.glob('*'):\n    file.unlink()\ntest_dir.rmdir()"
  },
  {
   "cell_type": "markdown",
   "metadata": {},
   "source": [
    "### 知識點回顧\n",
    "- ✅ glob(pattern): 搜尋符合模式的檔案\n",
    "- ✅ with_suffix(): 修改副檔名\n",
    "- ✅ 批次處理檔案的標準模式\n",
    "\n",
    "---"
   ]
  },
  {
   "cell_type": "markdown",
   "metadata": {},
   "source": [
    "## 🟡 習題 14 解答：顯示目錄樹\n",
    "\n",
    "### 解題思路\n",
    "1. 使用遞迴函式遍歷目錄\n",
    "2. 使用適當的縮排與符號\n",
    "3. 排序顯示內容\n",
    "\n",
    "### 程式碼實作"
   ]
  },
  {
   "cell_type": "code",
   "execution_count": null,
   "metadata": {},
   "outputs": [],
   "source": "# 習題 14 參考解答\nfrom pathlib import Path\n\ndef print_tree(directory, prefix='', is_last=True):\n    \"\"\"以樹狀結構顯示目錄\"\"\"\n    dir_path = Path(directory)\n\n    if prefix == '':\n        print(f\"{dir_path.name}/\")\n\n    # 取得並排序所有項目\n    items = sorted(dir_path.iterdir(), key=lambda x: (x.is_file(), x.name))\n\n    for i, item in enumerate(items):\n        is_last_item = (i == len(items) - 1)\n\n        # 決定符號\n        if is_last_item:\n            connector = '└── '\n            extension = '    '\n        else:\n            connector = '├── '\n            extension = '│   '\n\n        # 顯示項目\n        name = item.name + ('/' if item.is_dir() else '')\n        print(f\"{prefix}{connector}{name}\")\n\n        # 遞迴處理子目錄\n        if item.is_dir():\n            print_tree(item, prefix + extension, is_last_item)\n\n# 建立測試結構\nroot = Path('temp_ex14')\nroot.mkdir(exist_ok=True)\n(root / 'file1.txt').write_text('test')\n(root / 'dir1').mkdir()\n(root / 'dir1' / 'file2.txt').write_text('test')\n(root / 'dir1' / 'file3.txt').write_text('test')\n(root / 'dir2').mkdir()\n(root / 'dir2' / 'file4.txt').write_text('test')\n\n# 顯示樹狀結構\nprint_tree(root)\n\n# 清理\nfor item in sorted(root.rglob('*'), reverse=True):\n    if item.is_file():\n        item.unlink()\n    elif item.is_dir():\n        item.rmdir()\nroot.rmdir()"
  },
  {
   "cell_type": "markdown",
   "metadata": {},
   "source": [
    "### 知識點回顧\n",
    "- ✅ 遞迴函式設計\n",
    "- ✅ 字串格式化技巧\n",
    "- ✅ 樹狀結構顯示\n",
    "- ✅ sorted() 排序檔案列表\n",
    "\n",
    "---"
   ]
  },
  {
   "cell_type": "markdown",
   "metadata": {},
   "source": [
    "## 🔴 習題 15 解答：計算目錄總大小\n",
    "\n",
    "### 解題思路\n",
    "1. 遞迴計算所有檔案大小\n",
    "2. 統計檔案與目錄數量\n",
    "3. 格式化顯示大小\n",
    "4. 找出最大檔案\n",
    "\n",
    "### 程式碼實作"
   ]
  },
  {
   "cell_type": "code",
   "execution_count": null,
   "metadata": {},
   "outputs": [],
   "source": "# 習題 15 參考解答\nfrom pathlib import Path\n\ndef format_size(bytes_size):\n    \"\"\"將 bytes 轉為易讀格式\"\"\"\n    for unit in ['bytes', 'KB', 'MB', 'GB']:\n        if bytes_size < 1024 or unit == 'GB':\n            return f\"{bytes_size:.2f} {unit}\"\n        bytes_size /= 1024\n\ndef calculate_dir_size(directory):\n    \"\"\"計算目錄總大小\"\"\"\n    dir_path = Path(directory)\n\n    # 統計資訊\n    files = []\n    total_size = 0\n    dir_count = 0\n\n    for item in dir_path.rglob('*'):\n        if item.is_file():\n            size = item.stat().st_size\n            files.append((item.name, size))\n            total_size += size\n        elif item.is_dir():\n            dir_count += 1\n\n    # 顯示統計\n    print(f\"目錄統計: {dir_path.name}/\")\n    print(\"=\" * 40)\n    print(f\"檔案數量: {len(files)}\")\n    print(f\"目錄數量: {dir_count}\")\n    print(f\"總大小: {total_size} bytes ({format_size(total_size)})\")\n\n    # 顯示最大的 5 個檔案\n    print(\"\\n最大的 5 個檔案:\")\n    files.sort(key=lambda x: x[1], reverse=True)\n    for i, (name, size) in enumerate(files[:5], 1):\n        print(f\"  {i}. {name} - {format_size(size)}\")\n\n# 測試（簡化版）\ntest_dir = Path('temp_ex15')\ntest_dir.mkdir(exist_ok=True)\n(test_dir / 'large.dat').write_text('x' * 5000)\n(test_dir / 'medium.txt').write_text('x' * 3000)\n(test_dir / 'small.csv').write_text('x' * 1000)\n\ncalculate_dir_size(test_dir)\n\n# 清理\nfor item in test_dir.rglob('*'):\n    if item.is_file():\n        item.unlink()\ntest_dir.rmdir()"
  },
  {
   "cell_type": "markdown",
   "metadata": {},
   "source": [
    "### 知識點回顧\n",
    "- ✅ rglob() 遞迴遍歷\n",
    "- ✅ stat().st_size 取得檔案大小\n",
    "- ✅ 格式化大小顯示\n",
    "- ✅ 排序與切片\n",
    "\n",
    "---"
   ]
  },
  {
   "cell_type": "markdown",
   "metadata": {},
   "source": [
    "## 🔴 習題 16-20 解答：進階專案\n",
    "\n",
    "### 解題思路\n",
    "1. 這些是挑戰性專案，需要綜合運用多個概念\n",
    "2. 建議參考 lecture 中的實作\n",
    "3. 逐步完成各個功能模組\n",
    "\n",
    "### 程式碼實作"
   ]
  },
  {
   "cell_type": "code",
   "execution_count": null,
   "metadata": {},
   "outputs": [],
   "source": "# 習題 16-20 參考解答（核心邏輯示範）\n\n# 習題 16: 找出重複檔案 - 使用雜湊值比對\nimport hashlib\ndef file_hash(file_path):\n    \"\"\"計算檔案 MD5\"\"\"\n    md5 = hashlib.md5()\n    with open(file_path, 'rb') as f:\n        for chunk in iter(lambda: f.read(4096), b\"\"):\n            md5.update(chunk)\n    return md5.hexdigest()\n\n# 習題 17: 檔案搜尋工具 - 多條件篩選\ndef find_files(directory, **criteria):\n    \"\"\"多條件搜尋檔案\"\"\"\n    results = []\n    for file in Path(directory).rglob('*'):\n        if not file.is_file():\n            continue\n        # 檢查各種條件...\n        if 'extension' in criteria:\n            if file.suffix != criteria['extension']:\n                continue\n        # 其他條件...\n        results.append(file)\n    return results\n\n# 習題 18: 檔案整理 - 按類型分類\nFILE_TYPES = {\n    'images': ['.jpg', '.png', '.gif'],\n    'documents': ['.pdf', '.doc', '.txt'],\n    'code': ['.py', '.js', '.java']\n}\n\ndef organize_by_type(source_dir):\n    \"\"\"按類型整理檔案\"\"\"\n    for file in Path(source_dir).glob('*'):\n        if not file.is_file():\n            continue\n        # 判斷類型並移動...\n\n# 習題 19-20: 備份與同步工具\n# 需要實作完整的檔案複製、比對、錯誤處理等功能\n# 建議分階段完成：\n# 1. 基本複製功能\n# 2. 增量備份邏輯\n# 3. 衝突處理\n# 4. 進度顯示\n# 5. 報告生成\n\nprint(\"這些進階題目的完整實作較長，建議：\")\nprint(\"1. 先完成基礎版本\")\nprint(\"2. 逐步增加功能\")\nprint(\"3. 參考 lecture 中的範例\")\nprint(\"4. 注意錯誤處理與邊界情況\")"
  },
  {
   "cell_type": "markdown",
   "metadata": {},
   "source": [
    "### 知識點回顧\n",
    "- ✅ 進階題需要綜合運用多個概念\n",
    "- ✅ 建議模組化設計，分步實作\n",
    "- ✅ 注意錯誤處理與特殊情況\n",
    "- ✅ 可參考標準函式庫的實作\n",
    "\n",
    "---"
   ]
  },
  {
   "cell_type": "markdown",
   "metadata": {},
   "source": [
    "---\n",
    "\n",
    "## 🎉 完成所有解答！\n",
    "\n",
    "學習重點回顧：\n",
    "1. ✅ Path 物件的建立與屬性\n",
    "2. ✅ 路徑組合與解析\n",
    "3. ✅ 檔案與目錄操作\n",
    "4. ✅ Glob 模式匹配\n",
    "5. ✅ 遞迴遍歷目錄\n",
    "6. ✅ 實用工具設計\n",
    "\n",
    "下一步：\n",
    "- 📝 完成 `quiz.ipynb` 自我測驗\n",
    "- 💡 嘗試自己設計實用工具\n",
    "- 🚀 挑戰 Milestone 07: Todo App\n",
    "\n",
    "---"
   ]
  }
 ],
 "metadata": {
  "kernelspec": {
   "display_name": "Python 3",
   "language": "python",
   "name": "python3"
  },
  "language_info": {
   "codemirror_mode": {
    "name": "ipython",
    "version": 3
   },
   "file_extension": ".py",
   "mimetype": "text/x-python",
   "name": "python",
   "nbconvert_exporter": "python",
   "pygments_lexer": "ipython3",
   "version": "3.8.0"
  }
 },
 "nbformat": 4,
 "nbformat_minor": 4
}