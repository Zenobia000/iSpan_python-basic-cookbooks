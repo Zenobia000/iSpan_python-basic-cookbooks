{
 "cells": [
  {
   "cell_type": "markdown",
   "metadata": {},
   "source": [
    "# Chapter 1: 變數與資料型態 | Variables and Data Types\n",
    "\n",
    "## 🛠️ 課堂練習 | In-Class Practice\n",
    "\n",
    "---\n",
    "\n",
    "## 💡 本檔案目的\n",
    "\n",
    "本檔案提供 **10-15 個練習題**，供課堂實作使用：\n",
    "- **難度分級**：基礎 → 進階 → 挑戰\n",
    "- **即時回饋**：每題提供提示與參考答案\n",
    "- **實作導向**：需要實際執行程式碼\n",
    "\n",
    "---\n",
    "\n",
    "## 📝 使用說明\n",
    "\n",
    "1. 在 `# 你的程式碼` 區域撰寫程式碼\n",
    "2. 執行 cell 檢查結果\n",
    "3. 對照提示與參考答案\n",
    "4. 完成後打勾 ✅\n",
    "\n",
    "---"
   ]
  },
  {
   "cell_type": "markdown",
   "metadata": {},
   "source": [
    "## Part I: 基礎題（10 題）\n",
    "\n",
    "### 練習 1：變數宣告與賦值 ⭐\n",
    "\n",
    "**任務**：\n",
    "1. 宣告變數 `student_name`，存入你的名字（字串）\n",
    "2. 宣告變數 `student_id`，存入學號（整數，例如：12345）\n",
    "3. 宣告變數 `gpa`，存入 GPA（浮點數，例如：3.85）\n",
    "4. 宣告變數 `is_enrolled`，表示是否註冊（布林值：True）\n",
    "5. 印出所有變數的值與型態"
   ]
  },
  {
   "cell_type": "code",
   "execution_count": null,
   "metadata": {},
   "outputs": [],
   "source": [
    "# 你的程式碼\n"
   ]
  },
  {
   "cell_type": "markdown",
   "metadata": {},
   "source": [
    "<details>\n",
    "<summary>💡 點擊查看提示</summary>\n",
    "\n",
    "```python\n",
    "# 使用 type() 檢查型態\n",
    "# 使用 f-string 格式化輸出\n",
    "print(f\"姓名：{student_name}，型態：{type(student_name)}\")\n",
    "```\n",
    "</details>\n",
    "\n",
    "<details>\n",
    "<summary>✅ 點擊查看參考答案</summary>\n",
    "\n",
    "```python\n",
    "student_name = \"王小明\"\n",
    "student_id = 12345\n",
    "gpa = 3.85\n",
    "is_enrolled = True\n",
    "\n",
    "print(f\"姓名：{student_name}，型態：{type(student_name).__name__}\")\n",
    "print(f\"學號：{student_id}，型態：{type(student_id).__name__}\")\n",
    "print(f\"GPA：{gpa}，型態：{type(gpa).__name__}\")\n",
    "print(f\"已註冊：{is_enrolled}，型態：{type(is_enrolled).__name__}\")\n",
    "```\n",
    "</details>"
   ]
  },
  {
   "cell_type": "markdown",
   "metadata": {},
   "source": [
    "---\n",
    "\n",
    "### 練習 2：型態檢查 ⭐\n",
    "\n",
    "**任務**：\n",
    "判斷以下變數的型態，並用 `type()` 驗證：\n",
    "```python\n",
    "a = 100\n",
    "b = 3.14\n",
    "c = \"Python\"\n",
    "d = False\n",
    "e = 3.0\n",
    "```\n",
    "\n",
    "**問題**：`e` 的型態是什麼？為什麼？"
   ]
  },
  {
   "cell_type": "code",
   "execution_count": null,
   "metadata": {},
   "outputs": [],
   "source": [
    "# 你的程式碼\n",
    "a = 100\n",
    "b = 3.14\n",
    "c = \"Python\"\n",
    "d = False\n",
    "e = 3.0\n",
    "\n"
   ]
  },
  {
   "cell_type": "markdown",
   "metadata": {},
   "source": [
    "<details>\n",
    "<summary>✅ 點擊查看答案</summary>\n",
    "\n",
    "```python\n",
    "print(f\"a = {a}, 型態: {type(a).__name__}\")  # int\n",
    "print(f\"b = {b}, 型態: {type(b).__name__}\")  # float\n",
    "print(f\"c = {c}, 型態: {type(c).__name__}\")  # str\n",
    "print(f\"d = {d}, 型態: {type(d).__name__}\")  # bool\n",
    "print(f\"e = {e}, 型態: {type(e).__name__}\")  # float（有小數點就是 float）\n",
    "\n",
    "print(\"\\n💡 重點：e = 3.0 是 float，不是 int（因為有小數點）\")\n",
    "```\n",
    "</details>"
   ]
  },
  {
   "cell_type": "markdown",
   "metadata": {},
   "source": [
    "---\n",
    "\n",
    "### 練習 3：型態轉換 - int ↔ float ⭐\n",
    "\n",
    "**任務**：\n",
    "1. 將 `x = 10` 轉換成 float，存入 `x_float`\n",
    "2. 將 `y = 9.99` 轉換成 int，存入 `y_int`\n",
    "3. 印出轉換前後的值與型態\n",
    "4. 觀察 `y_int` 的值是多少"
   ]
  },
  {
   "cell_type": "code",
   "execution_count": null,
   "metadata": {},
   "outputs": [],
   "source": [
    "# 你的程式碼\n",
    "x = 10\n",
    "y = 9.99\n",
    "\n"
   ]
  },
  {
   "cell_type": "markdown",
   "metadata": {},
   "source": [
    "<details>\n",
    "<summary>✅ 點擊查看答案</summary>\n",
    "\n",
    "```python\n",
    "x = 10\n",
    "y = 9.99\n",
    "\n",
    "x_float = float(x)\n",
    "y_int = int(y)\n",
    "\n",
    "print(f\"x = {x} ({type(x).__name__}) → {x_float} ({type(x_float).__name__})\")\n",
    "print(f\"y = {y} ({type(y).__name__}) → {y_int} ({type(y_int).__name__})\")\n",
    "\n",
    "print(\"\\n⚠️ 注意：int(9.99) = 9（截斷小數，不是四捨五入）\")\n",
    "```\n",
    "</details>"
   ]
  },
  {
   "cell_type": "markdown",
   "metadata": {},
   "source": [
    "---\n",
    "\n",
    "### 練習 4：型態轉換 - str ↔ int ⭐\n",
    "\n",
    "**任務**：\n",
    "1. 將字串 `\"123\"` 轉換成整數，存入 `num`\n",
    "2. 將整數 `456` 轉換成字串，存入 `text`\n",
    "3. 計算 `num + 100` 並印出結果\n",
    "4. 串接 `text + \"789\"` 並印出結果"
   ]
  },
  {
   "cell_type": "code",
   "execution_count": null,
   "metadata": {},
   "outputs": [],
   "source": [
    "# 你的程式碼\n"
   ]
  },
  {
   "cell_type": "markdown",
   "metadata": {},
   "source": [
    "<details>\n",
    "<summary>✅ 點擊查看答案</summary>\n",
    "\n",
    "```python\n",
    "num = int(\"123\")\n",
    "text = str(456)\n",
    "\n",
    "print(f\"num + 100 = {num + 100}\")        # 223（數字相加）\n",
    "print(f\"text + '789' = {text + '789'}\")  # \"456789\"（字串串接）\n",
    "```\n",
    "</details>"
   ]
  },
  {
   "cell_type": "markdown",
   "metadata": {},
   "source": [
    "---\n",
    "\n",
    "### 練習 5：布林值轉換 ⭐\n",
    "\n",
    "**任務**：\n",
    "用 `bool()` 轉換以下值，觀察結果：\n",
    "```python\n",
    "values = [0, 1, -5, \"\", \"Hello\", 0.0, 3.14]\n",
    "```\n",
    "\n",
    "**問題**：哪些值會轉成 `False`？"
   ]
  },
  {
   "cell_type": "code",
   "execution_count": null,
   "metadata": {},
   "outputs": [],
   "source": [
    "# 你的程式碼\n",
    "values = [0, 1, -5, \"\", \"Hello\", 0.0, 3.14]\n",
    "\n"
   ]
  },
  {
   "cell_type": "markdown",
   "metadata": {},
   "source": [
    "<details>\n",
    "<summary>✅ 點擊查看答案</summary>\n",
    "\n",
    "```python\n",
    "values = [0, 1, -5, \"\", \"Hello\", 0.0, 3.14]\n",
    "\n",
    "for val in values:\n",
    "    print(f\"bool({repr(val):>10}) = {bool(val)}\")\n",
    "\n",
    "print(\"\\n💡 False 的情況：0, 空字串 '', 0.0\")\n",
    "print(\"   True  的情況：非零數字, 非空字串\")\n",
    "```\n",
    "</details>"
   ]
  },
  {
   "cell_type": "markdown",
   "metadata": {},
   "source": [
    "---\n",
    "\n",
    "### 練習 6：變數命名檢查 ⭐⭐\n",
    "\n",
    "**任務**：\n",
    "以下哪些變數命名是**合法且符合 PEP 8** 的？\n",
    "\n",
    "```python\n",
    "1. student_age\n",
    "2. 2nd_place\n",
    "3. studentAge\n",
    "4. _private_var\n",
    "5. MAX_SIZE\n",
    "6. class\n",
    "7. is_valid\n",
    "8. user-name\n",
    "```\n",
    "\n",
    "在下方 cell 中測試（嘗試宣告這些變數）："
   ]
  },
  {
   "cell_type": "code",
   "execution_count": null,
   "metadata": {},
   "outputs": [],
   "source": [
    "# 你的程式碼（測試哪些會報錯）\n"
   ]
  },
  {
   "cell_type": "markdown",
   "metadata": {},
   "source": [
    "<details>\n",
    "<summary>✅ 點擊查看答案</summary>\n",
    "\n",
    "```python\n",
    "# ✅ 合法且符合 PEP 8\n",
    "student_age = 20        # 1. snake_case\n",
    "_private_var = 10       # 4. 底線開頭（私有變數慣例）\n",
    "MAX_SIZE = 100          # 5. 全大寫（常數）\n",
    "is_valid = True         # 7. 布林值以 is_ 開頭\n",
    "\n",
    "# ❌ 不合法（會報 SyntaxError）\n",
    "# 2nd_place = 2         # 2. 數字開頭\n",
    "# class = \"A\"           # 6. 保留字\n",
    "# user-name = \"Bob\"     # 8. 包含連字號\n",
    "\n",
    "# ⚠️ 合法但不符合 PEP 8\n",
    "studentAge = 20         # 3. 駝峰式（應該用 snake_case）\n",
    "\n",
    "print(\"✅ 1, 4, 5, 7 合法且符合 PEP 8\")\n",
    "print(\"❌ 2, 6, 8 不合法（SyntaxError）\")\n",
    "print(\"⚠️ 3 合法但不推薦\")\n",
    "```\n",
    "</details>"
   ]
  },
  {
   "cell_type": "markdown",
   "metadata": {},
   "source": [
    "---\n",
    "\n",
    "### 練習 7：字串格式化 ⭐⭐\n",
    "\n",
    "**任務**：\n",
    "用 f-string 格式化以下資料：\n",
    "```python\n",
    "name = \"Alice\"\n",
    "age = 25\n",
    "height = 165.5\n",
    "```\n",
    "\n",
    "**要求輸出**：\n",
    "```\n",
    "姓名：Alice\n",
    "年齡：25 歲\n",
    "身高：165.5 公分（1.66 公尺）\n",
    "```\n",
    "\n",
    "提示：身高公尺保留 2 位小數"
   ]
  },
  {
   "cell_type": "code",
   "execution_count": null,
   "metadata": {},
   "outputs": [],
   "source": [
    "# 你的程式碼\n",
    "name = \"Alice\"\n",
    "age = 25\n",
    "height = 165.5\n",
    "\n"
   ]
  },
  {
   "cell_type": "markdown",
   "metadata": {},
   "source": [
    "<details>\n",
    "<summary>✅ 點擊查看答案</summary>\n",
    "\n",
    "```python\n",
    "name = \"Alice\"\n",
    "age = 25\n",
    "height = 165.5\n",
    "\n",
    "height_m = height / 100\n",
    "\n",
    "print(f\"姓名：{name}\")\n",
    "print(f\"年齡：{age} 歲\")\n",
    "print(f\"身高：{height} 公分（{height_m:.2f} 公尺）\")\n",
    "```\n",
    "</details>"
   ]
  },
  {
   "cell_type": "markdown",
   "metadata": {},
   "source": [
    "---\n",
    "\n",
    "### 練習 8：型態錯誤修正 ⭐⭐\n",
    "\n",
    "**任務**：\n",
    "以下程式碼會報錯，請修正：\n",
    "\n",
    "```python\n",
    "age = \"25\"\n",
    "years_later = 10\n",
    "future_age = age + years_later\n",
    "print(f\"10 年後年齡：{future_age}\")\n",
    "```"
   ]
  },
  {
   "cell_type": "code",
   "execution_count": null,
   "metadata": {},
   "outputs": [],
   "source": [
    "# 原始程式碼（會報錯）\n",
    "age = \"25\"\n",
    "years_later = 10\n",
    "# future_age = age + years_later  # TypeError\n",
    "\n",
    "# 你的修正程式碼\n"
   ]
  },
  {
   "cell_type": "markdown",
   "metadata": {},
   "source": [
    "<details>\n",
    "<summary>✅ 點擊查看答案</summary>\n",
    "\n",
    "```python\n",
    "age = \"25\"\n",
    "years_later = 10\n",
    "\n",
    "# 方法 1：轉成 int 再運算\n",
    "future_age = int(age) + years_later\n",
    "print(f\"10 年後年齡：{future_age}\")  # 35\n",
    "\n",
    "# 方法 2：全部轉成字串（錯誤語意，結果是 \"2510\"）\n",
    "# future_age = age + str(years_later)  # \"2510\"（字串串接）\n",
    "```\n",
    "</details>"
   ]
  },
  {
   "cell_type": "markdown",
   "metadata": {},
   "source": [
    "---\n",
    "\n",
    "### 練習 9：價格計算（型態轉換） ⭐⭐\n",
    "\n",
    "**任務**：\n",
    "商品單價為字串 `\"49.5\"`，購買數量為 `3`，計算總價：\n",
    "1. 將單價轉成 float\n",
    "2. 計算總價\n",
    "3. 將總價轉成整數（四捨五入）\n",
    "4. 印出結果\n",
    "\n",
    "**預期輸出**：\n",
    "```\n",
    "單價：49.5 元\n",
    "數量：3 個\n",
    "總價：148.5 元（取整：149 元）\n",
    "```"
   ]
  },
  {
   "cell_type": "code",
   "execution_count": null,
   "metadata": {},
   "outputs": [],
   "source": [
    "# 你的程式碼\n",
    "unit_price = \"49.5\"\n",
    "quantity = 3\n",
    "\n"
   ]
  },
  {
   "cell_type": "markdown",
   "metadata": {},
   "source": [
    "<details>\n",
    "<summary>✅ 點擊查看答案</summary>\n",
    "\n",
    "```python\n",
    "unit_price = \"49.5\"\n",
    "quantity = 3\n",
    "\n",
    "price = float(unit_price)\n",
    "total = price * quantity\n",
    "total_rounded = round(total)\n",
    "\n",
    "print(f\"單價：{price} 元\")\n",
    "print(f\"數量：{quantity} 個\")\n",
    "print(f\"總價：{total} 元（取整：{total_rounded} 元）\")\n",
    "```\n",
    "</details>"
   ]
  },
  {
   "cell_type": "markdown",
   "metadata": {},
   "source": [
    "---\n",
    "\n",
    "### 練習 10：動態型態觀察 ⭐⭐\n",
    "\n",
    "**任務**：\n",
    "執行以下程式碼，觀察變數 `x` 的型態變化：\n",
    "\n",
    "```python\n",
    "x = 10\n",
    "print(f\"x = {x}, 型態: {type(x).__name__}\")\n",
    "\n",
    "x = x / 2\n",
    "print(f\"x = {x}, 型態: {type(x).__name__}\")\n",
    "\n",
    "x = int(x)\n",
    "print(f\"x = {x}, 型態: {type(x).__name__}\")\n",
    "\n",
    "x = str(x)\n",
    "print(f\"x = {x}, 型態: {type(x).__name__}\")\n",
    "```\n",
    "\n",
    "**問題**：`x / 2` 的結果型態是什麼？為什麼？"
   ]
  },
  {
   "cell_type": "code",
   "execution_count": null,
   "metadata": {},
   "outputs": [],
   "source": [
    "# 你的程式碼\n"
   ]
  },
  {
   "cell_type": "markdown",
   "metadata": {},
   "source": [
    "<details>\n",
    "<summary>✅ 點擊查看答案</summary>\n",
    "\n",
    "```python\n",
    "x = 10\n",
    "print(f\"x = {x}, 型態: {type(x).__name__}\")  # int\n",
    "\n",
    "x = x / 2\n",
    "print(f\"x = {x}, 型態: {type(x).__name__}\")  # float（除法總是回傳 float）\n",
    "\n",
    "x = int(x)\n",
    "print(f\"x = {x}, 型態: {type(x).__name__}\")  # int\n",
    "\n",
    "x = str(x)\n",
    "print(f\"x = {x}, 型態: {type(x).__name__}\")  # str\n",
    "\n",
    "print(\"\\n💡 重點：Python 的除法 / 總是回傳 float，即使結果是整數\")\n",
    "print(\"   如果要整數除法，使用 //（地板除）\")\n",
    "```\n",
    "</details>"
   ]
  },
  {
   "cell_type": "markdown",
   "metadata": {},
   "source": [
    "---\n",
    "\n",
    "## Part II: 進階題（3 題）\n",
    "\n",
    "### 練習 11：體重單位轉換 ⭐⭐⭐\n",
    "\n",
    "**任務**：\n",
    "設計一個體重轉換器：\n",
    "- 輸入：體重（公斤，字串格式，例如 `\"70.5\"`）\n",
    "- 轉換：公斤 → 磅（1 公斤 = 2.20462 磅）\n",
    "- 輸出：\n",
    "  ```\n",
    "  體重：70.5 公斤\n",
    "  換算：155.43 磅（保留 2 位小數）\n",
    "  ```"
   ]
  },
  {
   "cell_type": "code",
   "execution_count": null,
   "metadata": {},
   "outputs": [],
   "source": [
    "# 你的程式碼\n",
    "weight_kg_str = \"70.5\"\n",
    "\n"
   ]
  },
  {
   "cell_type": "markdown",
   "metadata": {},
   "source": [
    "<details>\n",
    "<summary>✅ 點擊查看答案</summary>\n",
    "\n",
    "```python\n",
    "weight_kg_str = \"70.5\"\n",
    "\n",
    "weight_kg = float(weight_kg_str)\n",
    "weight_lb = weight_kg * 2.20462\n",
    "\n",
    "print(f\"體重：{weight_kg} 公斤\")\n",
    "print(f\"換算：{weight_lb:.2f} 磅（保留 2 位小數）\")\n",
    "```\n",
    "</details>"
   ]
  },
  {
   "cell_type": "markdown",
   "metadata": {},
   "source": [
    "---\n",
    "\n",
    "### 練習 12：圓面積計算 ⭐⭐⭐\n",
    "\n",
    "**任務**：\n",
    "計算圓的面積：\n",
    "- 公式：`面積 = π × r²`\n",
    "- 輸入：半徑（字串格式，例如 `\"5\"`）\n",
    "- π 使用 `3.14159`\n",
    "- 輸出：\n",
    "  ```\n",
    "  半徑：5.0 公分\n",
    "  面積：78.54 平方公分（保留 2 位小數）\n",
    "  ```"
   ]
  },
  {
   "cell_type": "code",
   "execution_count": null,
   "metadata": {},
   "outputs": [],
   "source": [
    "# 你的程式碼\n",
    "radius_str = \"5\"\n",
    "PI = 3.14159\n",
    "\n"
   ]
  },
  {
   "cell_type": "markdown",
   "metadata": {},
   "source": [
    "<details>\n",
    "<summary>✅ 點擊查看答案</summary>\n",
    "\n",
    "```python\n",
    "radius_str = \"5\"\n",
    "PI = 3.14159\n",
    "\n",
    "radius = float(radius_str)\n",
    "area = PI * (radius ** 2)\n",
    "\n",
    "print(f\"半徑：{radius} 公分\")\n",
    "print(f\"面積：{area:.2f} 平方公分（保留 2 位小數）\")\n",
    "```\n",
    "</details>"
   ]
  },
  {
   "cell_type": "markdown",
   "metadata": {},
   "source": [
    "---\n",
    "\n",
    "### 練習 13：錯誤處理挑戰 ⭐⭐⭐\n",
    "\n",
    "**任務**：\n",
    "嘗試轉換以下字串，並用 `try-except` 處理錯誤：\n",
    "\n",
    "```python\n",
    "test_values = [\"123\", \"3.14\", \"Hello\", \"\"]\n",
    "```\n",
    "\n",
    "對每個值：\n",
    "1. 嘗試轉換成 int\n",
    "2. 如果失敗，印出錯誤訊息\n",
    "\n",
    "**預期輸出**：\n",
    "```\n",
    "\"123\" → 123 (int)\n",
    "\"3.14\" → 錯誤：invalid literal for int() with base 10: '3.14'\n",
    "\"Hello\" → 錯誤：invalid literal for int() with base 10: 'Hello'\n",
    "\"\" → 錯誤：invalid literal for int() with base 10: ''\n",
    "```"
   ]
  },
  {
   "cell_type": "code",
   "execution_count": null,
   "metadata": {},
   "outputs": [],
   "source": [
    "# 你的程式碼\n",
    "test_values = [\"123\", \"3.14\", \"Hello\", \"\"]\n",
    "\n"
   ]
  },
  {
   "cell_type": "markdown",
   "metadata": {},
   "source": [
    "<details>\n",
    "<summary>✅ 點擊查看答案</summary>\n",
    "\n",
    "```python\n",
    "test_values = [\"123\", \"3.14\", \"Hello\", \"\"]\n",
    "\n",
    "for val in test_values:\n",
    "    try:\n",
    "        result = int(val)\n",
    "        print(f\"\\\"{val}\\\" → {result} (int)\")\n",
    "    except ValueError as e:\n",
    "        print(f\"\\\"{val}\\\" → 錯誤：{e}\")\n",
    "```\n",
    "</details>"
   ]
  },
  {
   "cell_type": "markdown",
   "metadata": {},
   "source": [
    "---\n",
    "\n",
    "## Part III: 挑戰題（2 題）\n",
    "\n",
    "### 練習 14：綜合應用 - 購物清單計算 ⭐⭐⭐⭐\n",
    "\n",
    "**任務**：\n",
    "計算購物總價與找零：\n",
    "- 商品 1：單價 `\"25.5\"`，數量 `2`\n",
    "- 商品 2：單價 `\"30\"`，數量 `3`\n",
    "- 商品 3：單價 `\"12.8\"`，數量 `1`\n",
    "- 付款金額：`200` 元\n",
    "\n",
    "**要求輸出**：\n",
    "```\n",
    "商品 1：25.5 × 2 = 51.0 元\n",
    "商品 2：30.0 × 3 = 90.0 元\n",
    "商品 3：12.8 × 1 = 12.8 元\n",
    "─────────────────────\n",
    "總計：153.8 元\n",
    "付款：200 元\n",
    "找零：46.2 元\n",
    "```"
   ]
  },
  {
   "cell_type": "code",
   "execution_count": null,
   "metadata": {},
   "outputs": [],
   "source": [
    "# 你的程式碼\n",
    "item1_price = \"25.5\"\n",
    "item1_qty = 2\n",
    "\n",
    "item2_price = \"30\"\n",
    "item2_qty = 3\n",
    "\n",
    "item3_price = \"12.8\"\n",
    "item3_qty = 1\n",
    "\n",
    "payment = 200\n",
    "\n"
   ]
  },
  {
   "cell_type": "markdown",
   "metadata": {},
   "source": [
    "<details>\n",
    "<summary>✅ 點擊查看答案</summary>\n",
    "\n",
    "```python\n",
    "item1_price = \"25.5\"\n",
    "item1_qty = 2\n",
    "\n",
    "item2_price = \"30\"\n",
    "item2_qty = 3\n",
    "\n",
    "item3_price = \"12.8\"\n",
    "item3_qty = 1\n",
    "\n",
    "payment = 200\n",
    "\n",
    "# 轉換型態並計算小計\n",
    "subtotal1 = float(item1_price) * item1_qty\n",
    "subtotal2 = float(item2_price) * item2_qty\n",
    "subtotal3 = float(item3_price) * item3_qty\n",
    "\n",
    "total = subtotal1 + subtotal2 + subtotal3\n",
    "change = payment - total\n",
    "\n",
    "print(f\"商品 1：{float(item1_price)} × {item1_qty} = {subtotal1} 元\")\n",
    "print(f\"商品 2：{float(item2_price)} × {item2_qty} = {subtotal2} 元\")\n",
    "print(f\"商品 3：{float(item3_price)} × {item3_qty} = {subtotal3} 元\")\n",
    "print(\"─\" * 25)\n",
    "print(f\"總計：{total} 元\")\n",
    "print(f\"付款：{payment} 元\")\n",
    "print(f\"找零：{change} 元\")\n",
    "```\n",
    "</details>"
   ]
  },
  {
   "cell_type": "markdown",
   "metadata": {},
   "source": [
    "---\n",
    "\n",
    "### 練習 15：挑戰 - BMI 計算機 ⭐⭐⭐⭐⭐\n",
    "\n",
    "**任務**：\n",
    "設計完整的 BMI 計算機：\n",
    "- 輸入：體重（公斤，字串）、身高（公分，字串）\n",
    "- 計算：BMI = 體重 / (身高(m))²\n",
    "- 判斷：\n",
    "  - < 18.5：體重過輕\n",
    "  - 18.5 ~ 24：正常範圍\n",
    "  - 24 ~ 27：過重\n",
    "  - ≥ 27：肥胖\n",
    "\n",
    "**要求輸出**：\n",
    "```\n",
    "體重：70.0 公斤\n",
    "身高：175.0 公分（1.75 公尺）\n",
    "BMI：22.86\n",
    "評估：正常範圍\n",
    "建議：保持目前的生活習慣\n",
    "```"
   ]
  },
  {
   "cell_type": "code",
   "execution_count": null,
   "metadata": {},
   "outputs": [],
   "source": [
    "# 你的程式碼\n",
    "weight_str = \"70\"\n",
    "height_str = \"175\"\n",
    "\n"
   ]
  },
  {
   "cell_type": "markdown",
   "metadata": {},
   "source": [
    "<details>\n",
    "<summary>✅ 點擊查看答案</summary>\n",
    "\n",
    "```python\n",
    "weight_str = \"70\"\n",
    "height_str = \"175\"\n",
    "\n",
    "# 型態轉換\n",
    "weight = float(weight_str)\n",
    "height_cm = float(height_str)\n",
    "height_m = height_cm / 100\n",
    "\n",
    "# 計算 BMI\n",
    "bmi = weight / (height_m ** 2)\n",
    "\n",
    "# 判斷分類與建議\n",
    "if bmi < 18.5:\n",
    "    category = \"體重過輕\"\n",
    "    advice = \"建議增加營養攝取\"\n",
    "elif bmi < 24:\n",
    "    category = \"正常範圍\"\n",
    "    advice = \"保持目前的生活習慣\"\n",
    "elif bmi < 27:\n",
    "    category = \"過重\"\n",
    "    advice = \"建議適度運動與控制飲食\"\n",
    "else:\n",
    "    category = \"肥胖\"\n",
    "    advice = \"建議尋求專業醫療協助\"\n",
    "\n",
    "# 輸出結果\n",
    "print(f\"體重：{weight} 公斤\")\n",
    "print(f\"身高：{height_cm} 公分（{height_m:.2f} 公尺）\")\n",
    "print(f\"BMI：{bmi:.2f}\")\n",
    "print(f\"評估：{category}\")\n",
    "print(f\"建議：{advice}\")\n",
    "```\n",
    "</details>"
   ]
  },
  {
   "cell_type": "markdown",
   "metadata": {},
   "source": [
    "---\n",
    "\n",
    "## 🎯 練習總結\n",
    "\n",
    "### 完成檢核清單\n",
    "- [ ] Part I：基礎題（練習 1-10）\n",
    "- [ ] Part II：進階題（練習 11-13）\n",
    "- [ ] Part III：挑戰題（練習 14-15）\n",
    "\n",
    "### 核心技能回顧\n",
    "✅ 變數宣告與賦值  \n",
    "✅ 型態檢查（`type()`）  \n",
    "✅ 型態轉換（`int()`, `float()`, `str()`, `bool()`）  \n",
    "✅ 變數命名規範（PEP 8）  \n",
    "✅ 字串格式化（f-string）  \n",
    "✅ 錯誤處理（`try-except`）  \n",
    "✅ 綜合應用（BMI、購物清單）  \n",
    "\n",
    "---\n",
    "\n",
    "## 📝 下一步\n",
    "\n",
    "完成本檔案後，請繼續：\n",
    "1. **`04-exercises.ipynb`** - 課後習題（必做）\n",
    "2. **`05-solutions.ipynb`** - 習題解答（對照答案）\n",
    "3. **`quiz.ipynb`** - 自我測驗（檢核學習成效）\n",
    "\n",
    "**建議完成時間**：60-90 分鐘"
   ]
  }
 ],
 "metadata": {
  "kernelspec": {
   "display_name": "Python 3",
   "language": "python",
   "name": "python3"
  },
  "language_info": {
   "name": "python",
   "version": "3.8.0"
  }
 },
 "nbformat": 4,
 "nbformat_minor": 4
}
