{
 "cells": [
  {
   "cell_type": "markdown",
   "metadata": {},
   "source": [
    "# Chapter 1: 變數與資料型態 | Variables and Data Types\n",
    "\n",
    "## 📖 講義 | Lecture Notes\n",
    "\n",
    "---\n",
    "\n",
    "## Part I: 理論基礎 | Theoretical Foundations"
   ]
  },
  {
   "cell_type": "markdown",
   "metadata": {},
   "source": [
    "### 📚 章節概覽（Chapter Overview）\n",
    "\n",
    "#### 學習目標（Learning Objectives）\n",
    "完成本章後，您將能夠：\n",
    "1. 理解變數的概念與用途\n",
    "2. 掌握 Python 的四種基本資料型態\n",
    "3. 執行型態檢查與轉換\n",
    "4. 遵循變數命名規範\n",
    "\n",
    "#### 先備知識（Prerequisites）\n",
    "- 無（本課程起點）\n",
    "- 建議已安裝 Python 3.8+ 與 Jupyter Notebook\n",
    "\n",
    "#### 預計時長（Estimated Time）\n",
    "- 理論學習：40 分鐘\n",
    "- 範例演練：20 分鐘\n",
    "- 總計：60 分鐘"
   ]
  },
  {
   "cell_type": "markdown",
   "metadata": {},
   "source": [
    "---\n",
    "\n",
    "### 🔑 核心概念（Key Concepts）\n",
    "\n",
    "#### 1. 什麼是變數？（What is a Variable?）\n",
    "\n",
    "**定義**：變數是用來儲存資料的「容器」，有名稱和值。\n",
    "\n",
    "**類比**：\n",
    "```\n",
    "變數就像一個貼有標籤的盒子：\n",
    "- 標籤（變數名）：用來識別盒子\n",
    "- 盒子內容（值）：實際儲存的資料\n",
    "- 盒子類型（型態）：決定可以放什麼東西\n",
    "```\n",
    "\n",
    "#### 2. 為什麼需要變數？（Why Variables?）\n",
    "\n",
    "**First Principles 分析**：\n",
    "1. **問題**：程式需要記住資料（如使用者輸入、計算結果）\n",
    "2. **解法**：將資料儲存在記憶體中\n",
    "3. **挑戰**：如何找到儲存的資料？\n",
    "4. **答案**：用變數名稱標記記憶體位置"
   ]
  },
  {
   "cell_type": "markdown",
   "metadata": {},
   "source": [
    "#### 3. Python 的四種基本資料型態\n",
    "\n",
    "| 型態 | 英文 | 用途 | 範例 |\n",
    "|:-----|:-----|:-----|:-----|\n",
    "| 整數 | int | 計數、索引 | `42`, `-10`, `0` |\n",
    "| 浮點數 | float | 精確計算 | `3.14`, `-0.5`, `2.0` |\n",
    "| 字串 | str | 文字處理 | `\"Hello\"`, `'Python'` |\n",
    "| 布林值 | bool | 邏輯判斷 | `True`, `False` |"
   ]
  },
  {
   "cell_type": "markdown",
   "metadata": {},
   "source": [
    "---\n",
    "\n",
    "## Part II: 實作演練 | Hands-on Practice"
   ]
  },
  {
   "cell_type": "markdown",
   "metadata": {},
   "source": [
    "### 💡 範例 1：變數的宣告與賦值\n",
    "\n",
    "在 Python 中，使用 `=` 將值賦給變數。"
   ]
  },
  {
   "cell_type": "code",
   "execution_count": null,
   "metadata": {},
   "outputs": [],
   "source": [
    "# 整數型態 (int)\n",
    "age = 25\n",
    "print(\"年齡:\", age)\n",
    "print(\"型態:\", type(age))"
   ]
  },
  {
   "cell_type": "code",
   "execution_count": null,
   "metadata": {},
   "outputs": [],
   "source": [
    "# 浮點數型態 (float)\n",
    "height = 175.5\n",
    "print(\"身高:\", height)\n",
    "print(\"型態:\", type(height))"
   ]
  },
  {
   "cell_type": "code",
   "execution_count": null,
   "metadata": {},
   "outputs": [],
   "source": [
    "# 字串型態 (str)\n",
    "name = \"Alice\"\n",
    "print(\"姓名:\", name)\n",
    "print(\"型態:\", type(name))"
   ]
  },
  {
   "cell_type": "code",
   "execution_count": null,
   "metadata": {},
   "outputs": [],
   "source": [
    "# 布林值型態 (bool)\n",
    "is_student = True\n",
    "print(\"是學生嗎:\", is_student)\n",
    "print(\"型態:\", type(is_student))"
   ]
  },
  {
   "cell_type": "markdown",
   "metadata": {},
   "source": [
    "**關鍵要點**：\n",
    "- `=` 是「賦值」，不是「等於」（等於是 `==`）\n",
    "- `type()` 函式可以檢查變數的型態\n",
    "- Python 會自動推斷型態（動態型態）"
   ]
  },
  {
   "cell_type": "markdown",
   "metadata": {},
   "source": [
    "---\n",
    "\n",
    "### 💡 範例 2：動態型態（Dynamic Typing）\n",
    "\n",
    "Python 允許變數改變型態（與 C++/Java 等靜態型態語言不同）"
   ]
  },
  {
   "cell_type": "code",
   "execution_count": null,
   "metadata": {},
   "outputs": [],
   "source": [
    "# 變數型態可以改變\n",
    "x = 10          # x 是 int\n",
    "print(f\"x = {x}, 型態: {type(x)}\")\n",
    "\n",
    "x = \"Hello\"     # x 變成 str\n",
    "print(f\"x = {x}, 型態: {type(x)}\")\n",
    "\n",
    "x = 3.14        # x 變成 float\n",
    "print(f\"x = {x}, 型態: {type(x)}\")"
   ]
  },
  {
   "cell_type": "markdown",
   "metadata": {},
   "source": [
    "**注意事項**：\n",
    "- 雖然允許，但**不建議**在同一變數存放不同型態\n",
    "- 會造成程式碼難以理解與除錯"
   ]
  },
  {
   "cell_type": "markdown",
   "metadata": {},
   "source": [
    "---\n",
    "\n",
    "### 💡 範例 3：型態轉換（Type Casting）\n",
    "\n",
    "使用 `int()`, `float()`, `str()`, `bool()` 進行型態轉換"
   ]
  },
  {
   "cell_type": "code",
   "execution_count": null,
   "metadata": {},
   "outputs": [],
   "source": [
    "# int → float（安全轉換）\n",
    "num_int = 10\n",
    "num_float = float(num_int)\n",
    "print(f\"{num_int} (int) → {num_float} (float)\")"
   ]
  },
  {
   "cell_type": "code",
   "execution_count": null,
   "metadata": {},
   "outputs": [],
   "source": [
    "# float → int（會截斷小數）\n",
    "pi = 3.14159\n",
    "pi_int = int(pi)\n",
    "print(f\"{pi} (float) → {pi_int} (int)\")  # 注意：不是四捨五入！"
   ]
  },
  {
   "cell_type": "code",
   "execution_count": null,
   "metadata": {},
   "outputs": [],
   "source": [
    "# str → int（字串必須是數字格式）\n",
    "age_str = \"25\"\n",
    "age_int = int(age_str)\n",
    "print(f\"\\\"{age_str}\\\" (str) → {age_int} (int)\")\n",
    "\n",
    "# 錯誤示範（會報錯）\n",
    "try:\n",
    "    int(\"3.14\")  # ValueError: invalid literal for int()\n",
    "except ValueError as e:\n",
    "    print(f\"錯誤：{e}\")"
   ]
  },
  {
   "cell_type": "code",
   "execution_count": null,
   "metadata": {},
   "outputs": [],
   "source": [
    "# int → str（安全轉換）\n",
    "score = 95\n",
    "score_str = str(score)\n",
    "print(f\"{score} (int) → \\\"{score_str}\\\" (str)\")"
   ]
  },
  {
   "cell_type": "code",
   "execution_count": null,
   "metadata": {},
   "outputs": [],
   "source": [
    "# 任意型態 → bool\n",
    "print(f\"bool(0) = {bool(0)}\")          # False\n",
    "print(f\"bool(1) = {bool(1)}\")          # True\n",
    "print(f\"bool(\\\"\\\") = {bool('')}\")      # False（空字串）\n",
    "print(f\"bool(\\\"Hi\\\") = {bool('Hi')}\")  # True"
   ]
  },
  {
   "cell_type": "markdown",
   "metadata": {},
   "source": [
    "**型態轉換重點**：\n",
    "\n",
    "| 轉換 | 安全性 | 注意事項 |\n",
    "|:-----|:-------|:---------|\n",
    "| int → float | ✅ 安全 | 無精度損失 |\n",
    "| float → int | ⚠️ 注意 | 截斷小數（非四捨五入） |\n",
    "| str → int/float | ⚠️ 注意 | 必須是有效數字格式 |\n",
    "| 任意 → str | ✅ 安全 | 總是成功 |\n",
    "| 任意 → bool | ⚠️ 注意 | 0、空字串、None 為 False |"
   ]
  },
  {
   "cell_type": "markdown",
   "metadata": {},
   "source": [
    "---\n",
    "\n",
    "### 💡 範例 4：變數命名規則（PEP 8）\n",
    "\n",
    "遵循 Python 官方風格指南 PEP 8"
   ]
  },
  {
   "cell_type": "code",
   "execution_count": null,
   "metadata": {},
   "outputs": [],
   "source": [
    "# ✅ 良好的變數命名\n",
    "student_name = \"Bob\"         # 蛇形命名法（snake_case）\n",
    "total_score = 450\n",
    "is_passed = True             # 布林值以 is_/has_ 開頭\n",
    "MAX_ATTEMPTS = 3             # 常數全大寫\n",
    "\n",
    "print(f\"學生: {student_name}, 總分: {total_score}, 通過: {is_passed}\")"
   ]
  },
  {
   "cell_type": "code",
   "execution_count": null,
   "metadata": {},
   "outputs": [],
   "source": [
    "# ❌ 不良的變數命名示範\n",
    "\n",
    "# 1. 過於簡短，語意不明\n",
    "s = \"Bob\"\n",
    "t = 450\n",
    "\n",
    "# 2. 使用駝峰式（Python 不推薦用於變數）\n",
    "studentName = \"Bob\"          # 應該用 student_name\n",
    "\n",
    "# 3. 無法執行的命名（會報錯）\n",
    "# 2nd_score = 80             # SyntaxError: 不能以數字開頭\n",
    "# class = \"A\"                # SyntaxError: 不能使用保留字\n",
    "# student-name = \"Bob\"       # SyntaxError: 不能使用連字號"
   ]
  },
  {
   "cell_type": "markdown",
   "metadata": {},
   "source": [
    "**命名規則總結**：\n",
    "\n",
    "✅ **必須遵守**：\n",
    "- 只能包含字母、數字、底線（_）\n",
    "- 不能以數字開頭\n",
    "- 不能使用保留字（如 `if`, `for`, `class`）\n",
    "\n",
    "✅ **建議遵循（PEP 8）**：\n",
    "- 使用小寫字母 + 底線（snake_case）\n",
    "- 變數名要有意義，能自我解釋\n",
    "- 布林值以 `is_`, `has_`, `can_` 開頭\n",
    "- 常數使用全大寫"
   ]
  },
  {
   "cell_type": "markdown",
   "metadata": {},
   "source": [
    "---\n",
    "\n",
    "### 💡 範例 5：型態相關的錯誤（Type Errors）\n",
    "\n",
    "理解型態不匹配會導致的錯誤"
   ]
  },
  {
   "cell_type": "code",
   "execution_count": null,
   "metadata": {},
   "outputs": [],
   "source": [
    "# 錯誤 1：不同型態無法直接運算\n",
    "try:\n",
    "    result = \"3\" + 5  # TypeError\n",
    "except TypeError as e:\n",
    "    print(f\"錯誤：{e}\")\n",
    "    print(\"正確做法：int(\\\"3\\\") + 5 或 \\\"3\\\" + str(5)\")"
   ]
  },
  {
   "cell_type": "code",
   "execution_count": null,
   "metadata": {},
   "outputs": [],
   "source": [
    "# 錯誤 2：字串轉數字格式錯誤\n",
    "try:\n",
    "    num = int(\"3.14\")  # ValueError（不是 TypeError）\n",
    "except ValueError as e:\n",
    "    print(f\"錯誤：{e}\")\n",
    "    print(\"正確做法：int(float(\\\"3.14\\\")) 或直接 float(\\\"3.14\\\")\")"
   ]
  },
  {
   "cell_type": "code",
   "execution_count": null,
   "metadata": {},
   "outputs": [],
   "source": [
    "# 正確的型態混合運算\n",
    "age_str = \"25\"\n",
    "years_later = 5\n",
    "\n",
    "# 方法 1：先轉成 int 再運算\n",
    "future_age = int(age_str) + years_later\n",
    "print(f\"方法 1: {future_age}\")\n",
    "\n",
    "# 方法 2：轉成字串再串接（不同語意）\n",
    "result_str = age_str + str(years_later)\n",
    "print(f\"方法 2: {result_str}\")  # 結果是 \"255\" 而非 30"
   ]
  },
  {
   "cell_type": "markdown",
   "metadata": {},
   "source": [
    "---\n",
    "\n",
    "## Part III: 本章總結 | Chapter Summary"
   ]
  },
  {
   "cell_type": "markdown",
   "metadata": {},
   "source": [
    "### 📊 知識回顧\n",
    "\n",
    "#### 核心概念\n",
    "1. **變數**：儲存資料的命名容器\n",
    "2. **四種基本型態**：int, float, str, bool\n",
    "3. **動態型態**：Python 允許變數改變型態\n",
    "4. **型態轉換**：使用 `int()`, `float()`, `str()`, `bool()`\n",
    "5. **命名規範**：遵循 PEP 8，使用 snake_case\n",
    "\n",
    "#### 重要語法\n",
    "```python\n",
    "# 變數賦值\n",
    "variable_name = value\n",
    "\n",
    "# 檢查型態\n",
    "type(variable_name)\n",
    "\n",
    "# 型態轉換\n",
    "int(x), float(x), str(x), bool(x)\n",
    "```\n",
    "\n",
    "#### 常見錯誤\n",
    "- TypeError：型態不匹配的運算\n",
    "- ValueError：字串轉數字格式錯誤\n",
    "- SyntaxError：變數命名違規"
   ]
  },
  {
   "cell_type": "markdown",
   "metadata": {},
   "source": [
    "### ⚠️ 常見誤區（Common Pitfalls）\n",
    "\n",
    "| 誤區 | 錯誤示例 | 正確做法 |\n",
    "|:-----|:---------|:---------|\n",
    "| 混淆 `=` 和 `==` | `if x = 5:` | `if x == 5:` |\n",
    "| int() 截斷小數 | 以為 `int(3.9)` 是 4 | 使用 `round(3.9)` 四捨五入 |\n",
    "| 字串無法直接轉 int | `int(\"3.14\")` | `int(float(\"3.14\"))` |\n",
    "| 變數名以數字開頭 | `2nd_num = 10` | `second_num = 10` |"
   ]
  },
  {
   "cell_type": "markdown",
   "metadata": {},
   "source": [
    "---\n",
    "\n",
    "### 🎯 自我檢核（Self-Check）\n",
    "\n",
    "完成本講義後，請回答以下問題：\n",
    "\n",
    "1. Python 的四種基本資料型態是什麼？\n",
    "2. 如何檢查變數的型態？\n",
    "3. `int(3.9)` 的結果是什麼？為什麼？\n",
    "4. 以下哪個變數命名符合 PEP 8？\n",
    "   - `studentName`\n",
    "   - `student_name`\n",
    "   - `2nd_student`\n",
    "5. `\"3\" + 5` 會發生什麼？如何修正？\n",
    "\n",
    "**參考答案請見課後習題解答**"
   ]
  },
  {
   "cell_type": "markdown",
   "metadata": {},
   "source": [
    "---\n",
    "\n",
    "### 🔗 延伸閱讀（Further Reading）\n",
    "\n",
    "#### Python 官方文件\n",
    "- [Built-in Types](https://docs.python.org/3/library/stdtypes.html)\n",
    "- [PEP 8 - Style Guide for Python Code](https://peps.python.org/pep-0008/)\n",
    "\n",
    "#### 推薦資源\n",
    "- [Python Tutor](http://pythontutor.com/) - 視覺化變數運作\n",
    "- [Real Python: Variables in Python](https://realpython.com/python-variables/)\n",
    "\n",
    "#### 下一步\n",
    "- **Chapter 2: 運算子與表達式** - 學習如何操作這些型態\n",
    "- 完成 `02-worked-examples.ipynb` 加深理解\n",
    "- 完成 `03-practice.ipynb` 進行課堂練習"
   ]
  },
  {
   "cell_type": "markdown",
   "metadata": {},
   "source": [
    "---\n",
    "\n",
    "## 💪 即時練習（Quick Practice）\n",
    "\n",
    "請在下方 cell 完成以下任務：\n",
    "\n",
    "1. 宣告一個變數 `my_age`，存入你的年齡（int）\n",
    "2. 宣告一個變數 `my_height`，存入你的身高（float，單位：公分）\n",
    "3. 宣告一個變數 `my_name`，存入你的名字（str）\n",
    "4. 宣告一個變數 `is_student`，表示你是否為學生（bool）\n",
    "5. 用 `print()` 和 `type()` 顯示所有變數的值與型態"
   ]
  },
  {
   "cell_type": "code",
   "execution_count": null,
   "metadata": {},
   "outputs": [],
   "source": [
    "# 在此撰寫你的程式碼\n",
    "\n",
    "my_age = \n",
    "my_height = \n",
    "my_name = \n",
    "is_student = \n",
    "\n",
    "# 顯示結果\n",
    "print(f\"年齡: {my_age}, 型態: {type(my_age)}\")\n",
    "# 繼續完成其他變數的顯示..."
   ]
  },
  {
   "cell_type": "markdown",
   "metadata": {},
   "source": [
    "---\n",
    "\n",
    "## 📝 課後作業預告\n",
    "\n",
    "請依序完成：\n",
    "1. `02-worked-examples.ipynb` - 詳解範例（必做）\n",
    "2. `03-practice.ipynb` - 課堂練習（必做）\n",
    "3. `04-exercises.ipynb` - 課後習題（必做）\n",
    "4. `quiz.ipynb` - 自我測驗（檢核學習成效）\n",
    "\n",
    "**預計完成時間**：2-3 小時"
   ]
  }
 ],
 "metadata": {
  "kernelspec": {
   "display_name": "Python 3",
   "language": "python",
   "name": "python3"
  },
  "language_info": {
   "name": "python",
   "version": "3.8.0"
  }
 },
 "nbformat": 4,
 "nbformat_minor": 4
}
