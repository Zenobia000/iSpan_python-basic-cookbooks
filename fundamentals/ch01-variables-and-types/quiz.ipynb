{
 "cells": [
  {
   "cell_type": "markdown",
   "metadata": {},
   "source": [
    "# Chapter 1: 變數與資料型態 | Variables and Data Types\n",
    "\n",
    "## 📝 自我測驗 | Self-Assessment Quiz\n",
    "\n",
    "---\n",
    "\n",
    "## 💡 測驗說明\n",
    "\n",
    "本測驗包含：\n",
    "- **Part I：選擇題（15 題）** - 測試概念理解\n",
    "- **Part II：填空題（10 題）** - 測試語法記憶\n",
    "- **Part III：程式題（5 題）** - 測試實作能力\n",
    "\n",
    "**評分標準**：\n",
    "- 90-100 分：優秀（✨ Excellent）\n",
    "- 80-89 分：良好（👍 Good）\n",
    "- 70-79 分：及格（✓ Pass）\n",
    "- < 70 分：需加強（📚 Need Review）\n",
    "\n",
    "**作答方式**：\n",
    "1. 在指定的 cell 中作答\n",
    "2. 選擇題：寫下選項（A/B/C/D）\n",
    "3. 填空題：填入正確答案\n",
    "4. 程式題：撰寫完整程式碼\n",
    "5. 對照答案在最後一個 section\n",
    "\n",
    "---"
   ]
  },
  {
   "cell_type": "markdown",
   "metadata": {},
   "source": [
    "## Part I: 選擇題（每題 2 分，共 30 分）\n",
    "\n",
    "### Q1. Python 的基本資料型態有幾種？\n",
    "\n",
    "A) 3 種  \n",
    "B) 4 種  \n",
    "C) 5 種  \n",
    "D) 6 種  "
   ]
  },
  {
   "cell_type": "code",
   "execution_count": null,
   "metadata": {},
   "outputs": [],
   "source": [
    "# 你的答案：\n",
    "q1_answer = \"\"  # 填入 A, B, C 或 D"
   ]
  },
  {
   "cell_type": "markdown",
   "metadata": {},
   "source": [
    "---\n",
    "\n",
    "### Q2. 以下哪個變數命名符合 PEP 8 規範？\n",
    "\n",
    "A) `studentName`  \n",
    "B) `student_name`  \n",
    "C) `StudentName`  \n",
    "D) `student-name`  "
   ]
  },
  {
   "cell_type": "code",
   "execution_count": null,
   "metadata": {},
   "outputs": [],
   "source": [
    "# 你的答案：\n",
    "q2_answer = \"\"  # 填入 A, B, C 或 D"
   ]
  },
  {
   "cell_type": "markdown",
   "metadata": {},
   "source": [
    "---\n",
    "\n",
    "### Q3. `int(3.9)` 的結果是什麼？\n",
    "\n",
    "A) 3  \n",
    "B) 4  \n",
    "C) 3.9  \n",
    "D) 會報錯  "
   ]
  },
  {
   "cell_type": "code",
   "execution_count": null,
   "metadata": {},
   "outputs": [],
   "source": [
    "# 你的答案：\n",
    "q3_answer = \"\"  # 填入 A, B, C 或 D"
   ]
  },
  {
   "cell_type": "markdown",
   "metadata": {},
   "source": [
    "---\n",
    "\n",
    "### Q4. `bool(\"\")` 的結果是什麼？\n",
    "\n",
    "A) True  \n",
    "B) False  \n",
    "C) \"\"  \n",
    "D) 會報錯  "
   ]
  },
  {
   "cell_type": "code",
   "execution_count": null,
   "metadata": {},
   "outputs": [],
   "source": [
    "# 你的答案：\n",
    "q4_answer = \"\"  # 填入 A, B, C 或 D"
   ]
  },
  {
   "cell_type": "markdown",
   "metadata": {},
   "source": [
    "---\n",
    "\n",
    "### Q5. `\"3\" + 5` 會發生什麼？\n",
    "\n",
    "A) 結果是 8  \n",
    "B) 結果是 \"35\"  \n",
    "C) 結果是 \"8\"  \n",
    "D) TypeError  "
   ]
  },
  {
   "cell_type": "code",
   "execution_count": null,
   "metadata": {},
   "outputs": [],
   "source": [
    "# 你的答案：\n",
    "q5_answer = \"\"  # 填入 A, B, C 或 D"
   ]
  },
  {
   "cell_type": "markdown",
   "metadata": {},
   "source": [
    "---\n",
    "\n",
    "### Q6. `int(\"3.14\")` 會發生什麼？\n",
    "\n",
    "A) 結果是 3  \n",
    "B) 結果是 3.14  \n",
    "C) ValueError  \n",
    "D) TypeError  "
   ]
  },
  {
   "cell_type": "code",
   "execution_count": null,
   "metadata": {},
   "outputs": [],
   "source": [
    "# 你的答案：\n",
    "q6_answer = \"\"  # 填入 A, B, C 或 D"
   ]
  },
  {
   "cell_type": "markdown",
   "metadata": {},
   "source": [
    "---\n",
    "\n",
    "### Q7. `type(3.0)` 回傳什麼型態？\n",
    "\n",
    "A) int  \n",
    "B) float  \n",
    "C) str  \n",
    "D) bool  "
   ]
  },
  {
   "cell_type": "code",
   "execution_count": null,
   "metadata": {},
   "outputs": [],
   "source": [
    "# 你的答案：\n",
    "q7_answer = \"\"  # 填入 A, B, C 或 D"
   ]
  },
  {
   "cell_type": "markdown",
   "metadata": {},
   "source": [
    "---\n",
    "\n",
    "### Q8. Python 中 `=` 的作用是什麼？\n",
    "\n",
    "A) 比較兩個值是否相等  \n",
    "B) 賦值（給變數賦值）  \n",
    "C) 檢查型態  \n",
    "D) 型態轉換  "
   ]
  },
  {
   "cell_type": "code",
   "execution_count": null,
   "metadata": {},
   "outputs": [],
   "source": [
    "# 你的答案：\n",
    "q8_answer = \"\"  # 填入 A, B, C 或 D"
   ]
  },
  {
   "cell_type": "markdown",
   "metadata": {},
   "source": [
    "---\n",
    "\n",
    "### Q9. `bool(0)` 的結果是什麼？\n",
    "\n",
    "A) True  \n",
    "B) False  \n",
    "C) 0  \n",
    "D) 會報錯  "
   ]
  },
  {
   "cell_type": "code",
   "execution_count": null,
   "metadata": {},
   "outputs": [],
   "source": [
    "# 你的答案：\n",
    "q9_answer = \"\"  # 填入 A, B, C 或 D"
   ]
  },
  {
   "cell_type": "markdown",
   "metadata": {},
   "source": [
    "---\n",
    "\n",
    "### Q10. 以下哪個變數名稱是不合法的？\n",
    "\n",
    "A) `_private_var`  \n",
    "B) `2nd_place`  \n",
    "C) `student_age`  \n",
    "D) `MAX_SIZE`  "
   ]
  },
  {
   "cell_type": "code",
   "execution_count": null,
   "metadata": {},
   "outputs": [],
   "source": [
    "# 你的答案：\n",
    "q10_answer = \"\"  # 填入 A, B, C 或 D"
   ]
  },
  {
   "cell_type": "markdown",
   "metadata": {},
   "source": [
    "---\n",
    "\n",
    "### Q11. `10 / 2` 的結果型態是什麼？\n",
    "\n",
    "A) int  \n",
    "B) float  \n",
    "C) str  \n",
    "D) 取決於 Python 版本  "
   ]
  },
  {
   "cell_type": "code",
   "execution_count": null,
   "metadata": {},
   "outputs": [],
   "source": [
    "# 你的答案：\n",
    "q11_answer = \"\"  # 填入 A, B, C 或 D"
   ]
  },
  {
   "cell_type": "markdown",
   "metadata": {},
   "source": [
    "---\n",
    "\n",
    "### Q12. 常數（constant）的命名慣例是什麼？\n",
    "\n",
    "A) 小寫字母 + 底線（snake_case）  \n",
    "B) 駝峰式（camelCase）  \n",
    "C) 全大寫字母 + 底線（UPPER_CASE）  \n",
    "D) 帕斯卡命名法（PascalCase）  "
   ]
  },
  {
   "cell_type": "code",
   "execution_count": null,
   "metadata": {},
   "outputs": [],
   "source": [
    "# 你的答案：\n",
    "q12_answer = \"\"  # 填入 A, B, C 或 D"
   ]
  },
  {
   "cell_type": "markdown",
   "metadata": {},
   "source": [
    "---\n",
    "\n",
    "### Q13. `bool(\"0\")` 的結果是什麼？\n",
    "\n",
    "A) True（非空字串）  \n",
    "B) False（字串內容是 0）  \n",
    "C) 0  \n",
    "D) 會報錯  "
   ]
  },
  {
   "cell_type": "code",
   "execution_count": null,
   "metadata": {},
   "outputs": [],
   "source": [
    "# 你的答案：\n",
    "q13_answer = \"\"  # 填入 A, B, C 或 D"
   ]
  },
  {
   "cell_type": "markdown",
   "metadata": {},
   "source": [
    "---\n",
    "\n",
    "### Q14. 如何檢查變數 `x` 的型態？\n",
    "\n",
    "A) `typeof(x)`  \n",
    "B) `type(x)`  \n",
    "C) `x.type()`  \n",
    "D) `check_type(x)`  "
   ]
  },
  {
   "cell_type": "code",
   "execution_count": null,
   "metadata": {},
   "outputs": [],
   "source": [
    "# 你的答案：\n",
    "q14_answer = \"\"  # 填入 A, B, C 或 D"
   ]
  },
  {
   "cell_type": "markdown",
   "metadata": {},
   "source": [
    "---\n",
    "\n",
    "### Q15. Python 的動態型態（Dynamic Typing）是什麼意思？\n",
    "\n",
    "A) 變數可以改變值  \n",
    "B) 變數可以改變型態  \n",
    "C) 變數必須先宣告型態  \n",
    "D) 變數名稱可以改變  "
   ]
  },
  {
   "cell_type": "code",
   "execution_count": null,
   "metadata": {},
   "outputs": [],
   "source": [
    "# 你的答案：\n",
    "q15_answer = \"\"  # 填入 A, B, C 或 D"
   ]
  },
  {
   "cell_type": "markdown",
   "metadata": {},
   "source": [
    "---\n",
    "\n",
    "## Part II: 填空題（每題 3 分，共 30 分）\n",
    "\n",
    "### Q16. 將整數轉換成浮點數的函式是 ____________"
   ]
  },
  {
   "cell_type": "code",
   "execution_count": null,
   "metadata": {},
   "outputs": [],
   "source": [
    "# 你的答案：\n",
    "q16_answer = \"\"  # 填入函式名稱"
   ]
  },
  {
   "cell_type": "markdown",
   "metadata": {},
   "source": [
    "---\n",
    "\n",
    "### Q17. 將浮點數 `3.14159` 四捨五入到整數的函式是 ____________"
   ]
  },
  {
   "cell_type": "code",
   "execution_count": null,
   "metadata": {},
   "outputs": [],
   "source": [
    "# 你的答案：\n",
    "q17_answer = \"\"  # 填入函式名稱"
   ]
  },
  {
   "cell_type": "markdown",
   "metadata": {},
   "source": [
    "---\n",
    "\n",
    "### Q18. f-string 格式化輸出的語法是：`f\"Hello, ____________\"`\n",
    "（假設變數名為 `name`）"
   ]
  },
  {
   "cell_type": "code",
   "execution_count": null,
   "metadata": {},
   "outputs": [],
   "source": [
    "# 你的答案：\n",
    "q18_answer = \"\"  # 填入正確語法"
   ]
  },
  {
   "cell_type": "markdown",
   "metadata": {},
   "source": [
    "---\n",
    "\n",
    "### Q19. 保留 2 位小數的 f-string 格式是：`f\"{value____________}\"`"
   ]
  },
  {
   "cell_type": "code",
   "execution_count": null,
   "metadata": {},
   "outputs": [],
   "source": [
    "# 你的答案：\n",
    "q19_answer = \"\"  # 填入正確格式"
   ]
  },
  {
   "cell_type": "markdown",
   "metadata": {},
   "source": [
    "---\n",
    "\n",
    "### Q20. Python 中檢查變數 `x` 型態的完整語法是 ____________"
   ]
  },
  {
   "cell_type": "code",
   "execution_count": null,
   "metadata": {},
   "outputs": [],
   "source": [
    "# 你的答案：\n",
    "q20_answer = \"\"  # 填入完整語法"
   ]
  },
  {
   "cell_type": "markdown",
   "metadata": {},
   "source": [
    "---\n",
    "\n",
    "### Q21. 將字串 `\"3.14\"` 轉換成整數，需要兩步：\n",
    "第一步：____________  \n",
    "第二步：____________"
   ]
  },
  {
   "cell_type": "code",
   "execution_count": null,
   "metadata": {},
   "outputs": [],
   "source": [
    "# 你的答案：\n",
    "q21_step1 = \"\"  # 第一步\n",
    "q21_step2 = \"\"  # 第二步"
   ]
  },
  {
   "cell_type": "markdown",
   "metadata": {},
   "source": [
    "---\n",
    "\n",
    "### Q22. 布林變數的命名慣例是以 ____________ 或 ____________ 開頭\n",
    "（填入兩個常見的前綴）"
   ]
  },
  {
   "cell_type": "code",
   "execution_count": null,
   "metadata": {},
   "outputs": [],
   "source": [
    "# 你的答案：\n",
    "q22_prefix1 = \"\"  # 第一個前綴\n",
    "q22_prefix2 = \"\"  # 第二個前綴"
   ]
  },
  {
   "cell_type": "markdown",
   "metadata": {},
   "source": [
    "---\n",
    "\n",
    "### Q23. Python 的除法運算子 `/` 總是回傳 ____________ 型態"
   ]
  },
  {
   "cell_type": "code",
   "execution_count": null,
   "metadata": {},
   "outputs": [],
   "source": [
    "# 你的答案：\n",
    "q23_answer = \"\"  # 填入型態名稱"
   ]
  },
  {
   "cell_type": "markdown",
   "metadata": {},
   "source": [
    "---\n",
    "\n",
    "### Q24. 次方運算的運算子是 ____________\n",
    "（例如：2 的 3 次方）"
   ]
  },
  {
   "cell_type": "code",
   "execution_count": null,
   "metadata": {},
   "outputs": [],
   "source": [
    "# 你的答案：\n",
    "q24_answer = \"\"  # 填入運算子符號"
   ]
  },
  {
   "cell_type": "markdown",
   "metadata": {},
   "source": [
    "---\n",
    "\n",
    "### Q25. 地板除（取整數商）的運算子是 ____________"
   ]
  },
  {
   "cell_type": "code",
   "execution_count": null,
   "metadata": {},
   "outputs": [],
   "source": [
    "# 你的答案：\n",
    "q25_answer = \"\"  # 填入運算子符號"
   ]
  },
  {
   "cell_type": "markdown",
   "metadata": {},
   "source": [
    "---\n",
    "\n",
    "## Part III: 程式題（每題 8 分，共 40 分）\n",
    "\n",
    "### Q26. 型態轉換綜合題\n",
    "\n",
    "**題目**：\n",
    "給定變數：\n",
    "```python\n",
    "a = \"100\"\n",
    "b = \"50.5\"\n",
    "c = 10\n",
    "```\n",
    "\n",
    "完成以下運算並印出結果：\n",
    "1. `a + c`（需先轉型）\n",
    "2. `b - c`（需先轉型）\n",
    "3. `a + b`（字串串接）\n",
    "\n",
    "**預期輸出**：\n",
    "```\n",
    "a + c = 110\n",
    "b - c = 40.5\n",
    "a + b = \"10050.5\"\n",
    "```"
   ]
  },
  {
   "cell_type": "code",
   "execution_count": null,
   "metadata": {},
   "outputs": [],
   "source": [
    "# 你的程式碼\n",
    "a = \"100\"\n",
    "b = \"50.5\"\n",
    "c = 10\n",
    "\n"
   ]
  },
  {
   "cell_type": "markdown",
   "metadata": {},
   "source": [
    "---\n",
    "\n",
    "### Q27. 變數命名修正題\n",
    "\n",
    "**題目**：\n",
    "以下程式碼的變數命名有問題，請修正成符合 PEP 8 的命名：\n",
    "\n",
    "```python\n",
    "StudentAge = 20\n",
    "Total-Score = 450\n",
    "isValid = True\n",
    "MAX_size = 100\n",
    "```\n",
    "\n",
    "並印出所有變數"
   ]
  },
  {
   "cell_type": "code",
   "execution_count": null,
   "metadata": {},
   "outputs": [],
   "source": [
    "# 你的程式碼\n"
   ]
  },
  {
   "cell_type": "markdown",
   "metadata": {},
   "source": [
    "---\n",
    "\n",
    "### Q28. 溫度轉換程式\n",
    "\n",
    "**題目**：\n",
    "設計一個攝氏轉華氏的程式：\n",
    "- 輸入：攝氏溫度（字串 `\"30\"`）\n",
    "- 公式：華氏 = 攝氏 × 9/5 + 32\n",
    "- 輸出：\n",
    "  ```\n",
    "  攝氏：30.0°C\n",
    "  華氏：86.0°F\n",
    "  ```"
   ]
  },
  {
   "cell_type": "code",
   "execution_count": null,
   "metadata": {},
   "outputs": [],
   "source": [
    "# 你的程式碼\n",
    "celsius_str = \"30\"\n",
    "\n"
   ]
  },
  {
   "cell_type": "markdown",
   "metadata": {},
   "source": [
    "---\n",
    "\n",
    "### Q29. BMI 計算程式\n",
    "\n",
    "**題目**：\n",
    "計算 BMI 並判斷體重狀態：\n",
    "- 輸入：\n",
    "  - 體重：字串 `\"65\"`（公斤）\n",
    "  - 身高：字串 `\"170\"`（公分）\n",
    "- 公式：BMI = 體重 / (身高(m))²\n",
    "- 判斷：\n",
    "  - < 18.5：體重過輕\n",
    "  - 18.5 ~ 24：正常範圍\n",
    "  - ≥ 24：過重\n",
    "- 輸出：\n",
    "  ```\n",
    "  BMI：22.49\n",
    "  評估：正常範圍\n",
    "  ```"
   ]
  },
  {
   "cell_type": "code",
   "execution_count": null,
   "metadata": {},
   "outputs": [],
   "source": [
    "# 你的程式碼\n",
    "weight_str = \"65\"\n",
    "height_str = \"170\"\n",
    "\n"
   ]
  },
  {
   "cell_type": "markdown",
   "metadata": {},
   "source": [
    "---\n",
    "\n",
    "### Q30. 錯誤處理程式\n",
    "\n",
    "**題目**：\n",
    "撰寫程式，嘗試將以下字串轉換成整數，並用 `try-except` 處理錯誤：\n",
    "\n",
    "```python\n",
    "values = [\"100\", \"3.14\", \"Hello\"]\n",
    "```\n",
    "\n",
    "對每個值：\n",
    "- 成功轉換：印出結果\n",
    "- 失敗：印出錯誤訊息\n",
    "\n",
    "**預期輸出**：\n",
    "```\n",
    "\"100\" → 100\n",
    "\"3.14\" → 錯誤：invalid literal for int() with base 10: '3.14'\n",
    "\"Hello\" → 錯誤：invalid literal for int() with base 10: 'Hello'\n",
    "```"
   ]
  },
  {
   "cell_type": "code",
   "execution_count": null,
   "metadata": {},
   "outputs": [],
   "source": [
    "# 你的程式碼\n",
    "values = [\"100\", \"3.14\", \"Hello\"]\n",
    "\n"
   ]
  },
  {
   "cell_type": "markdown",
   "metadata": {},
   "source": [
    "---\n",
    "\n",
    "## 📊 評分與答案對照\n",
    "\n",
    "### 評分計算\n",
    "\n",
    "執行以下 cell 計算你的分數："
   ]
  },
  {
   "cell_type": "code",
   "execution_count": null,
   "metadata": {},
   "outputs": [],
   "source": [
    "# 自動評分（對照答案）\n",
    "correct_answers = {\n",
    "    'q1': 'B',   # 4 種基本型態\n",
    "    'q2': 'B',   # student_name\n",
    "    'q3': 'A',   # 3（截斷）\n",
    "    'q4': 'B',   # False（空字串）\n",
    "    'q5': 'D',   # TypeError\n",
    "    'q6': 'C',   # ValueError\n",
    "    'q7': 'B',   # float\n",
    "    'q8': 'B',   # 賦值\n",
    "    'q9': 'B',   # False\n",
    "    'q10': 'B',  # 2nd_place（數字開頭）\n",
    "    'q11': 'B',  # float\n",
    "    'q12': 'C',  # UPPER_CASE\n",
    "    'q13': 'A',  # True（非空字串）\n",
    "    'q14': 'B',  # type(x)\n",
    "    'q15': 'B',  # 變數可以改變型態\n",
    "}\n",
    "\n",
    "# 計算分數（請在作答後執行）\n",
    "score = 0\n",
    "total_questions = 15\n",
    "\n",
    "# 這裡可以添加自動評分邏輯\n",
    "print(\"Part I 選擇題評分：\")\n",
    "print(\"請手動對照答案計算分數\")\n",
    "print(\"\\n正確答案：\")\n",
    "for q, ans in correct_answers.items():\n",
    "    print(f\"{q.upper()}: {ans}\")"
   ]
  },
  {
   "cell_type": "markdown",
   "metadata": {},
   "source": [
    "---\n",
    "\n",
    "## ✅ 完整解答\n",
    "\n",
    "### Part I: 選擇題答案\n",
    "\n",
    "| 題號 | 答案 | 解析 |\n",
    "|:-----|:-----|:-----|\n",
    "| Q1 | B | Python 有 4 種基本型態：int, float, str, bool |\n",
    "| Q2 | B | `student_name` 符合 snake_case 規範 |\n",
    "| Q3 | A | `int()` 會截斷小數，不是四捨五入 |\n",
    "| Q4 | B | 空字串轉布林值是 False |\n",
    "| Q5 | D | 字串與數字無法直接相加（TypeError） |\n",
    "| Q6 | C | 字串 \"3.14\" 無法直接轉 int（ValueError） |\n",
    "| Q7 | B | 3.0 有小數點，型態是 float |\n",
    "| Q8 | B | `=` 是賦值運算子 |\n",
    "| Q9 | B | 0 轉布林值是 False |\n",
    "| Q10 | B | 變數名不能以數字開頭 |\n",
    "| Q11 | B | Python 除法 `/` 總是回傳 float |\n",
    "| Q12 | C | 常數用全大寫 + 底線（UPPER_CASE） |\n",
    "| Q13 | A | 字串 \"0\" 是非空字串，轉布林值是 True |\n",
    "| Q14 | B | 使用 `type()` 檢查型態 |\n",
    "| Q15 | B | 動態型態表示變數可以改變型態 |\n",
    "\n",
    "---\n",
    "\n",
    "### Part II: 填空題答案\n",
    "\n",
    "| 題號 | 答案 |\n",
    "|:-----|:-----|\n",
    "| Q16 | `float()` |\n",
    "| Q17 | `round()` |\n",
    "| Q18 | `{name}` |\n",
    "| Q19 | `:.2f` |\n",
    "| Q20 | `type(x)` |\n",
    "| Q21 | 第一步：`float(\"3.14\")`，第二步：`int(...)` |\n",
    "| Q22 | `is_` 和 `has_`（或 `can_`） |\n",
    "| Q23 | `float` |\n",
    "| Q24 | `**` |\n",
    "| Q25 | `//` |\n",
    "\n",
    "---\n",
    "\n",
    "### Part III: 程式題參考答案\n",
    "\n",
    "#### Q26 解答"
   ]
  },
  {
   "cell_type": "code",
   "execution_count": null,
   "metadata": {},
   "outputs": [],
   "source": [
    "a = \"100\"\n",
    "b = \"50.5\"\n",
    "c = 10\n",
    "\n",
    "result1 = int(a) + c\n",
    "result2 = float(b) - c\n",
    "result3 = a + b\n",
    "\n",
    "print(f\"a + c = {result1}\")\n",
    "print(f\"b - c = {result2}\")\n",
    "print(f'a + b = \"{result3}\"')"
   ]
  },
  {
   "cell_type": "markdown",
   "metadata": {},
   "source": [
    "#### Q27 解答"
   ]
  },
  {
   "cell_type": "code",
   "execution_count": null,
   "metadata": {},
   "outputs": [],
   "source": [
    "student_age = 20       # 改成 snake_case\n",
    "total_score = 450      # 改成 snake_case，不能用連字號\n",
    "is_valid = True        # 改成 snake_case\n",
    "MAX_SIZE = 100         # 常數全大寫\n",
    "\n",
    "print(f\"student_age: {student_age}\")\n",
    "print(f\"total_score: {total_score}\")\n",
    "print(f\"is_valid: {is_valid}\")\n",
    "print(f\"MAX_SIZE: {MAX_SIZE}\")"
   ]
  },
  {
   "cell_type": "markdown",
   "metadata": {},
   "source": [
    "#### Q28 解答"
   ]
  },
  {
   "cell_type": "code",
   "execution_count": null,
   "metadata": {},
   "outputs": [],
   "source": [
    "celsius_str = \"30\"\n",
    "\n",
    "celsius = float(celsius_str)\n",
    "fahrenheit = celsius * 9/5 + 32\n",
    "\n",
    "print(f\"攝氏：{celsius}°C\")\n",
    "print(f\"華氏：{fahrenheit}°F\")"
   ]
  },
  {
   "cell_type": "markdown",
   "metadata": {},
   "source": [
    "#### Q29 解答"
   ]
  },
  {
   "cell_type": "code",
   "execution_count": null,
   "metadata": {},
   "outputs": [],
   "source": [
    "weight_str = \"65\"\n",
    "height_str = \"170\"\n",
    "\n",
    "weight = float(weight_str)\n",
    "height_m = float(height_str) / 100\n",
    "bmi = weight / (height_m ** 2)\n",
    "\n",
    "if bmi < 18.5:\n",
    "    category = \"體重過輕\"\n",
    "elif bmi < 24:\n",
    "    category = \"正常範圍\"\n",
    "else:\n",
    "    category = \"過重\"\n",
    "\n",
    "print(f\"BMI：{bmi:.2f}\")\n",
    "print(f\"評估：{category}\")"
   ]
  },
  {
   "cell_type": "markdown",
   "metadata": {},
   "source": [
    "#### Q30 解答"
   ]
  },
  {
   "cell_type": "code",
   "execution_count": null,
   "metadata": {},
   "outputs": [],
   "source": [
    "values = [\"100\", \"3.14\", \"Hello\"]\n",
    "\n",
    "for val in values:\n",
    "    try:\n",
    "        result = int(val)\n",
    "        print(f\"\\\"{val}\\\" → {result}\")\n",
    "    except ValueError as e:\n",
    "        print(f\"\\\"{val}\\\" → 錯誤：{e}\")"
   ]
  },
  {
   "cell_type": "markdown",
   "metadata": {},
   "source": [
    "---\n",
    "\n",
    "## 🎯 測驗總結\n",
    "\n",
    "### 評分等級\n",
    "\n",
    "根據你的總分（100 分）：\n",
    "\n",
    "| 分數範圍 | 等級 | 建議 |\n",
    "|:---------|:-----|:-----|\n",
    "| 90-100 | ✨ 優秀（Excellent） | 完全掌握！可進入下一章 |\n",
    "| 80-89 | 👍 良好（Good） | 大致理解，複習錯題後可繼續 |\n",
    "| 70-79 | ✓ 及格（Pass） | 基本概念需加強，建議重新學習部分內容 |\n",
    "| < 70 | 📚 需加強（Need Review） | 建議重新學習本章所有內容 |\n",
    "\n",
    "### 學習檢核\n",
    "\n",
    "如果你的分數 < 80，請重點複習：\n",
    "- ❌ 錯誤較多的部分（選擇題/填空題/程式題）\n",
    "- 📖 回到 `01-lecture.ipynb` 重新理解概念\n",
    "- 💻 重做 `03-practice.ipynb` 和 `04-exercises.ipynb`\n",
    "\n",
    "### 下一步\n",
    "\n",
    "1. **分數 ≥ 80**：進入 **Chapter 2 - 運算子與表達式**\n",
    "2. **分數 < 80**：複習本章，重做練習題\n",
    "3. **分數 < 70**：建議從 `01-lecture.ipynb` 重新開始\n",
    "\n",
    "---\n",
    "\n",
    "**恭喜完成 Chapter 1 自我測驗！** 🎉"
   ]
  }
 ],
 "metadata": {
  "kernelspec": {
   "display_name": "Python 3",
   "language": "python",
   "name": "python3"
  },
  "language_info": {
   "name": "python",
   "version": "3.8.0"
  }
 },
 "nbformat": 4,
 "nbformat_minor": 4
}
