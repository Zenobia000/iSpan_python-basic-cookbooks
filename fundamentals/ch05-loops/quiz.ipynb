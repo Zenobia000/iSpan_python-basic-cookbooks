{
 "cells": [
  {
   "cell_type": "markdown",
   "metadata": {},
   "source": [
    "# Chapter 5: 迴圈控制 | Loops\n",
    "## 自我測驗 | Quiz\n",
    "\n",
    "---\n",
    "\n",
    "## 📋 測驗說明\n",
    "\n",
    "本測驗包含 **25 題**，涵蓋 Chapter 5 所有核心概念：\n",
    "- **Part A: 選擇題**（15 題）\n",
    "- **Part B: 填空題**（5 題）\n",
    "- **Part C: 程式題**（5 題）\n",
    "\n",
    "**建議**：\n",
    "1. 完成所有學習教材後再作答\n",
    "2. 不查看資料，憑記憶作答\n",
    "3. 作答完畢後對照答案\n",
    "4. 錯誤題目回到講義複習\n",
    "\n",
    "**預計時間**：30 分鐘  \n",
    "**及格分數**：20/25（80%）"
   ]
  },
  {
   "cell_type": "markdown",
   "metadata": {},
   "source": [
    "---\n",
    "\n",
    "## Part A: 選擇題（15 題）\n",
    "\n",
    "### 題目 1\n",
    "`range(5)` 會產生哪些數字？\n",
    "\n",
    "A) 1, 2, 3, 4, 5  \n",
    "B) 0, 1, 2, 3, 4  \n",
    "C) 0, 1, 2, 3, 4, 5  \n",
    "D) 1, 2, 3, 4"
   ]
  },
  {
   "cell_type": "code",
   "execution_count": null,
   "metadata": {},
   "outputs": [],
   "source": [
    "# 你的答案：\n",
    "answer_1 = \"\"  # 填入 A, B, C 或 D"
   ]
  },
  {
   "cell_type": "markdown",
   "metadata": {},
   "source": [
    "### 題目 2\n",
    "下列程式碼的輸出是什麼？\n",
    "```python\n",
    "for i in range(3, 8, 2):\n",
    "    print(i, end=\" \")\n",
    "```\n",
    "\n",
    "A) 3 5 7  \n",
    "B) 3 5 7 9  \n",
    "C) 3 4 5 6 7  \n",
    "D) 4 6 8"
   ]
  },
  {
   "cell_type": "code",
   "execution_count": null,
   "metadata": {},
   "outputs": [],
   "source": [
    "# 你的答案：\n",
    "answer_2 = \"\"  # 填入 A, B, C 或 D"
   ]
  },
  {
   "cell_type": "markdown",
   "metadata": {},
   "source": [
    "### 題目 3\n",
    "哪個選項最適合使用 while 迴圈？\n",
    "\n",
    "A) 印出 1 到 100 的數字  \n",
    "B) 遍歷列表的每個元素  \n",
    "C) 讓使用者猜數字直到猜對  \n",
    "D) 計算階乘"
   ]
  },
  {
   "cell_type": "code",
   "execution_count": null,
   "metadata": {},
   "outputs": [],
   "source": [
    "# 你的答案：\n",
    "answer_3 = \"\"  # 填入 A, B, C 或 D"
   ]
  },
  {
   "cell_type": "markdown",
   "metadata": {},
   "source": [
    "### 題目 4\n",
    "下列程式碼會印出幾個數字？\n",
    "```python\n",
    "for i in range(10):\n",
    "    if i == 5:\n",
    "        break\n",
    "    print(i)\n",
    "```\n",
    "\n",
    "A) 4 個  \n",
    "B) 5 個  \n",
    "C) 6 個  \n",
    "D) 10 個"
   ]
  },
  {
   "cell_type": "code",
   "execution_count": null,
   "metadata": {},
   "outputs": [],
   "source": [
    "# 你的答案：\n",
    "answer_4 = \"\"  # 填入 A, B, C 或 D"
   ]
  },
  {
   "cell_type": "markdown",
   "metadata": {},
   "source": [
    "### 題目 5\n",
    "`continue` 語句的作用是什麼？\n",
    "\n",
    "A) 結束整個迴圈  \n",
    "B) 跳過本次迭代，繼續下一次  \n",
    "C) 暫停迴圈  \n",
    "D) 重新開始迴圈"
   ]
  },
  {
   "cell_type": "code",
   "execution_count": null,
   "metadata": {},
   "outputs": [],
   "source": [
    "# 你的答案：\n",
    "answer_5 = \"\"  # 填入 A, B, C 或 D"
   ]
  },
  {
   "cell_type": "markdown",
   "metadata": {},
   "source": [
    "### 題目 6\n",
    "for...else 中的 else 何時執行？\n",
    "\n",
    "A) 迴圈遇到 break 時  \n",
    "B) 迴圈正常結束（沒有 break）時  \n",
    "C) 迴圈第一次執行時  \n",
    "D) 迴圈發生錯誤時"
   ]
  },
  {
   "cell_type": "code",
   "execution_count": null,
   "metadata": {},
   "outputs": [],
   "source": [
    "# 你的答案：\n",
    "answer_6 = \"\"  # 填入 A, B, C 或 D"
   ]
  },
  {
   "cell_type": "markdown",
   "metadata": {},
   "source": [
    "### 題目 7\n",
    "巢狀迴圈的執行順序是？\n",
    "\n",
    "A) 內層迴圈先執行完，再執行外層  \n",
    "B) 外層迴圈轉一圈，內層迴圈轉完整圈  \n",
    "C) 內外層同時執行  \n",
    "D) 隨機執行"
   ]
  },
  {
   "cell_type": "code",
   "execution_count": null,
   "metadata": {},
   "outputs": [],
   "source": [
    "# 你的答案：\n",
    "answer_7 = \"\"  # 填入 A, B, C 或 D"
   ]
  },
  {
   "cell_type": "markdown",
   "metadata": {},
   "source": [
    "### 題目 8\n",
    "下列哪個會造成無窮迴圈？\n",
    "```python\n",
    "# 選項 A\n",
    "i = 0\n",
    "while i < 5:\n",
    "    print(i)\n",
    "    i += 1\n",
    "\n",
    "# 選項 B\n",
    "i = 0\n",
    "while i < 5:\n",
    "    print(i)\n",
    "\n",
    "# 選項 C\n",
    "for i in range(5):\n",
    "    print(i)\n",
    "\n",
    "# 選項 D\n",
    "while False:\n",
    "    print(\"test\")\n",
    "```\n",
    "\n",
    "A) 選項 A  \n",
    "B) 選項 B  \n",
    "C) 選項 C  \n",
    "D) 選項 D"
   ]
  },
  {
   "cell_type": "code",
   "execution_count": null,
   "metadata": {},
   "outputs": [],
   "source": [
    "# 你的答案：\n",
    "answer_8 = \"\"  # 填入 A, B, C 或 D"
   ]
  },
  {
   "cell_type": "markdown",
   "metadata": {},
   "source": [
    "### 題目 9\n",
    "累加器模式的初始值通常是？\n",
    "\n",
    "A) 1  \n",
    "B) 0  \n",
    "C) -1  \n",
    "D) None"
   ]
  },
  {
   "cell_type": "code",
   "execution_count": null,
   "metadata": {},
   "outputs": [],
   "source": [
    "# 你的答案：\n",
    "answer_9 = \"\"  # 填入 A, B, C 或 D"
   ]
  },
  {
   "cell_type": "markdown",
   "metadata": {},
   "source": [
    "### 題目 10\n",
    "`range(10, 0, -1)` 的輸出是？\n",
    "\n",
    "A) 10, 9, 8, ..., 1  \n",
    "B) 10, 9, 8, ..., 0  \n",
    "C) 0, 1, 2, ..., 10  \n",
    "D) 空的（沒有輸出）"
   ]
  },
  {
   "cell_type": "code",
   "execution_count": null,
   "metadata": {},
   "outputs": [],
   "source": [
    "# 你的答案：\n",
    "answer_10 = \"\"  # 填入 A, B, C 或 D"
   ]
  },
  {
   "cell_type": "markdown",
   "metadata": {},
   "source": [
    "### 題目 11-15（快速選擇）\n",
    "\n",
    "**題目 11**：`for i in \"Hello\"` 會遍歷幾次？  \n",
    "A) 4  B) 5  C) 6  D) 錯誤"
   ]
  },
  {
   "cell_type": "code",
   "execution_count": null,
   "metadata": {},
   "outputs": [],
   "source": [
    "answer_11 = \"\"  # 填入 A, B, C 或 D"
   ]
  },
  {
   "cell_type": "markdown",
   "metadata": {},
   "source": [
    "**題目 12**：旗標變數通常是什麼資料型態？  \n",
    "A) int  B) str  C) bool  D) float"
   ]
  },
  {
   "cell_type": "code",
   "execution_count": null,
   "metadata": {},
   "outputs": [],
   "source": [
    "answer_12 = \"\"  # 填入 A, B, C 或 D"
   ]
  },
  {
   "cell_type": "markdown",
   "metadata": {},
   "source": [
    "**題目 13**：計算階乘的累乘器初始值是？  \n",
    "A) 0  B) 1  C) -1  D) None"
   ]
  },
  {
   "cell_type": "code",
   "execution_count": null,
   "metadata": {},
   "outputs": [],
   "source": [
    "answer_13 = \"\"  # 填入 A, B, C 或 D"
   ]
  },
  {
   "cell_type": "markdown",
   "metadata": {},
   "source": [
    "**題目 14**：下列哪個不是迴圈控制語句？  \n",
    "A) break  B) continue  C) pass  D) return"
   ]
  },
  {
   "cell_type": "code",
   "execution_count": null,
   "metadata": {},
   "outputs": [],
   "source": [
    "answer_14 = \"\"  # 填入 A, B, C 或 D"
   ]
  },
  {
   "cell_type": "markdown",
   "metadata": {},
   "source": [
    "**題目 15**：檢查質數時，只需檢查到 √n 的原因是？  \n",
    "A) 節省時間  B) 因數成對出現  C) 演算法規定  D) 隨機選擇"
   ]
  },
  {
   "cell_type": "code",
   "execution_count": null,
   "metadata": {},
   "outputs": [],
   "source": [
    "answer_15 = \"\"  # 填入 A, B, C 或 D"
   ]
  },
  {
   "cell_type": "markdown",
   "metadata": {},
   "source": [
    "---\n",
    "\n",
    "## Part B: 填空題（5 題）\n",
    "\n",
    "### 題目 16\n",
    "填入正確的程式碼，印出 1 到 10：\n",
    "```python\n",
    "for i in range(___, ___):\n",
    "    print(i)\n",
    "```"
   ]
  },
  {
   "cell_type": "code",
   "execution_count": null,
   "metadata": {},
   "outputs": [],
   "source": [
    "# 你的答案：\n",
    "answer_16 = (\"\", \"\")  # 兩個空格的答案"
   ]
  },
  {
   "cell_type": "markdown",
   "metadata": {},
   "source": [
    "### 題目 17\n",
    "填入正確的語句，找到第一個偶數就停止：\n",
    "```python\n",
    "for i in range(1, 20):\n",
    "    if i % 2 == 0:\n",
    "        print(i)\n",
    "        _______  # 填入\n",
    "```"
   ]
  },
  {
   "cell_type": "code",
   "execution_count": null,
   "metadata": {},
   "outputs": [],
   "source": [
    "# 你的答案：\n",
    "answer_17 = \"\"  # 填入正確的語句"
   ]
  },
  {
   "cell_type": "markdown",
   "metadata": {},
   "source": [
    "### 題目 18\n",
    "填入正確的初始值，計算 1 到 10 的總和：\n",
    "```python\n",
    "total = ___  # 填入\n",
    "for i in range(1, 11):\n",
    "    total += i\n",
    "```"
   ]
  },
  {
   "cell_type": "code",
   "execution_count": null,
   "metadata": {},
   "outputs": [],
   "source": [
    "# 你的答案：\n",
    "answer_18 = \"\"  # 填入數字或值"
   ]
  },
  {
   "cell_type": "markdown",
   "metadata": {},
   "source": [
    "### 題目 19\n",
    "填入正確的條件，印出 1 到 10 的奇數：\n",
    "```python\n",
    "for i in range(1, 11):\n",
    "    if ___:  # 填入條件\n",
    "        print(i)\n",
    "```"
   ]
  },
  {
   "cell_type": "code",
   "execution_count": null,
   "metadata": {},
   "outputs": [],
   "source": [
    "# 你的答案：\n",
    "answer_19 = \"\"  # 填入條件表達式"
   ]
  },
  {
   "cell_type": "markdown",
   "metadata": {},
   "source": [
    "### 題目 20\n",
    "填入正確的更新語句，避免無窮迴圈：\n",
    "```python\n",
    "i = 0\n",
    "while i < 5:\n",
    "    print(i)\n",
    "    _______  # 填入\n",
    "```"
   ]
  },
  {
   "cell_type": "code",
   "execution_count": null,
   "metadata": {},
   "outputs": [],
   "source": [
    "# 你的答案：\n",
    "answer_20 = \"\"  # 填入語句"
   ]
  },
  {
   "cell_type": "markdown",
   "metadata": {},
   "source": [
    "---\n",
    "\n",
    "## Part C: 程式題（5 題）\n",
    "\n",
    "### 題目 21\n",
    "寫一個迴圈，印出 2 的前 5 個次方（2, 4, 8, 16, 32）"
   ]
  },
  {
   "cell_type": "code",
   "execution_count": null,
   "metadata": {},
   "outputs": [],
   "source": [
    "# 你的程式碼：\n"
   ]
  },
  {
   "cell_type": "markdown",
   "metadata": {},
   "source": [
    "### 題目 22\n",
    "寫一個迴圈，計算 1 到 20 的偶數總和"
   ]
  },
  {
   "cell_type": "code",
   "execution_count": null,
   "metadata": {},
   "outputs": [],
   "source": [
    "# 你的程式碼：\n"
   ]
  },
  {
   "cell_type": "markdown",
   "metadata": {},
   "source": [
    "### 題目 23\n",
    "寫一個巢狀迴圈，印出以下圖案：\n",
    "```\n",
    "*\n",
    "**\n",
    "***\n",
    "```"
   ]
  },
  {
   "cell_type": "code",
   "execution_count": null,
   "metadata": {},
   "outputs": [],
   "source": [
    "# 你的程式碼：\n"
   ]
  },
  {
   "cell_type": "markdown",
   "metadata": {},
   "source": [
    "### 題目 24\n",
    "寫一個迴圈，判斷 29 是否為質數"
   ]
  },
  {
   "cell_type": "code",
   "execution_count": null,
   "metadata": {},
   "outputs": [],
   "source": [
    "# 你的程式碼：\n"
   ]
  },
  {
   "cell_type": "markdown",
   "metadata": {},
   "source": [
    "### 題目 25\n",
    "寫一個迴圈，找出 1 到 20 之間所有 3 的倍數"
   ]
  },
  {
   "cell_type": "code",
   "execution_count": null,
   "metadata": {},
   "outputs": [],
   "source": [
    "# 你的程式碼：\n"
   ]
  },
  {
   "cell_type": "markdown",
   "metadata": {},
   "source": [
    "---\n",
    "\n",
    "## 📝 解答與評分\n",
    "\n",
    "### Part A 解答（選擇題）\n",
    "1. **B** - range(5) 產生 0, 1, 2, 3, 4\n",
    "2. **A** - range(3, 8, 2) 產生 3, 5, 7\n",
    "3. **C** - 未知次數適合 while\n",
    "4. **B** - 印出 0, 1, 2, 3, 4 共 5 個\n",
    "5. **B** - continue 跳過本次迭代\n",
    "6. **B** - else 在沒有 break 時執行\n",
    "7. **B** - 外層轉一圈，內層轉完整圈\n",
    "8. **B** - 選項 B 沒有更新 i\n",
    "9. **B** - 累加器初始值為 0\n",
    "10. **A** - 倒數從 10 到 1\n",
    "11. **B** - \"Hello\" 有 5 個字元\n",
    "12. **C** - 旗標通常是 bool\n",
    "13. **B** - 累乘器初始值為 1\n",
    "14. **D** - return 是函式語句\n",
    "15. **B** - 因數成對出現\n",
    "\n",
    "### Part B 解答（填空題）\n",
    "16. `(1, 11)` 或 `(\"1\", \"11\")`\n",
    "17. `break`\n",
    "18. `0`\n",
    "19. `i % 2 == 1` 或 `i % 2 != 0`\n",
    "20. `i += 1`\n",
    "\n",
    "### Part C 解答（程式題）\n",
    "\n",
    "**題目 21**："
   ]
  },
  {
   "cell_type": "code",
   "execution_count": null,
   "metadata": {},
   "outputs": [],
   "source": [
    "power = 1\n",
    "for i in range(5):\n",
    "    power *= 2\n",
    "    print(power, end=\" \")"
   ]
  },
  {
   "cell_type": "markdown",
   "metadata": {},
   "source": [
    "**題目 22**："
   ]
  },
  {
   "cell_type": "code",
   "execution_count": null,
   "metadata": {},
   "outputs": [],
   "source": [
    "total = 0\n",
    "for i in range(2, 21, 2):\n",
    "    total += i\n",
    "print(total)"
   ]
  },
  {
   "cell_type": "markdown",
   "metadata": {},
   "source": [
    "**題目 23**："
   ]
  },
  {
   "cell_type": "code",
   "execution_count": null,
   "metadata": {},
   "outputs": [],
   "source": [
    "for i in range(1, 4):\n",
    "    for j in range(i):\n",
    "        print(\"*\", end=\"\")\n",
    "    print()"
   ]
  },
  {
   "cell_type": "markdown",
   "metadata": {},
   "source": [
    "**題目 24**："
   ]
  },
  {
   "cell_type": "code",
   "execution_count": null,
   "metadata": {},
   "outputs": [],
   "source": [
    "num = 29\n",
    "is_prime = True\n",
    "for i in range(2, num):\n",
    "    if num % i == 0:\n",
    "        is_prime = False\n",
    "        break\n",
    "print(f\"{num} {'是' if is_prime else '不是'}質數\")"
   ]
  },
  {
   "cell_type": "markdown",
   "metadata": {},
   "source": [
    "**題目 25**："
   ]
  },
  {
   "cell_type": "code",
   "execution_count": null,
   "metadata": {},
   "outputs": [],
   "source": [
    "for i in range(3, 21, 3):\n",
    "    print(i, end=\" \")"
   ]
  },
  {
   "cell_type": "markdown",
   "metadata": {},
   "source": [
    "---\n",
    "\n",
    "## 🎯 評分標準\n",
    "\n",
    "- **Part A**：每題 2 分，共 30 分\n",
    "- **Part B**：每題 3 分，共 15 分\n",
    "- **Part C**：每題 5 分，共 25 分\n",
    "\n",
    "**總分**：70 分  \n",
    "**及格分數**：56 分（80%）\n",
    "\n",
    "### 成績等級\n",
    "- **90-100 分**：優秀！完全掌握迴圈控制\n",
    "- **80-89 分**：良好！大部分概念已理解\n",
    "- **70-79 分**：及格，但需加強練習\n",
    "- **60-69 分**：不及格，建議重新複習\n",
    "- **60 分以下**：基礎不足，需從頭學習\n",
    "\n",
    "### 複習建議\n",
    "- **選擇題錯 3 題以上**：重讀 `01-lecture.ipynb`\n",
    "- **填空題錯 2 題以上**：複習基本語法\n",
    "- **程式題錯 2 題以上**：多練習 `03-practice.ipynb`\n",
    "\n",
    "---\n",
    "\n",
    "**恭喜完成 Chapter 5！**  \n",
    "準備好進入 Chapter 6 了嗎？"
   ]
  }
 ],
 "metadata": {
  "kernelspec": {
   "display_name": "Python 3",
   "language": "python",
   "name": "python3"
  },
  "language_info": {
   "codemirror_mode": {
    "name": "ipython",
    "version": 3
   },
   "file_extension": ".py",
   "mimetype": "text/x-python",
   "name": "python",
   "nbconvert_exporter": "python",
   "pygments_lexer": "ipython3",
   "version": "3.8.0"
  }
 },
 "nbformat": 4,
 "nbformat_minor": 4
}
