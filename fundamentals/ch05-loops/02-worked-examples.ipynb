{
 "cells": [
  {
   "cell_type": "markdown",
   "metadata": {},
   "source": [
    "# Chapter 5: 迴圈控制 | Loops\n",
    "## 02 - 詳解範例 | Worked Examples\n",
    "\n",
    "---\n",
    "\n",
    "## 📋 本檔案內容\n",
    "\n",
    "本檔案提供 **5 個完整解題範例**，每個範例都包含：\n",
    "1. **問題描述**：清楚定義要解決的問題\n",
    "2. **分析思路**：拆解問題、選擇策略\n",
    "3. **逐步實作**：從簡單到完整的解法\n",
    "4. **程式碼說明**：詳細註解每個步驟\n",
    "5. **執行結果**：驗證正確性\n",
    "\n",
    "**預計時間**：45 分鐘"
   ]
  },
  {
   "cell_type": "markdown",
   "metadata": {},
   "source": [
    "---\n",
    "\n",
    "## 範例 1：計算 1 到 100 的總和\n",
    "\n",
    "### 問題描述\n",
    "計算從 1 加到 100 的總和（1 + 2 + 3 + ... + 100）\n",
    "\n",
    "### 分析思路\n",
    "1. **已知次數**：要加 100 個數字 → 使用 **for 迴圈**\n",
    "2. **累加模式**：需要一個變數持續累加結果\n",
    "3. **範圍**：使用 `range(1, 101)` 產生 1 到 100\n",
    "\n",
    "### 逐步實作"
   ]
  },
  {
   "cell_type": "code",
   "execution_count": null,
   "metadata": {},
   "outputs": [],
   "source": [
    "# 步驟 1：建立累加器\n",
    "total = 0\n",
    "print(f\"初始值：total = {total}\")\n",
    "\n",
    "# 步驟 2：使用 for 迴圈遍歷 1-100\n",
    "for i in range(1, 101):\n",
    "    total += i  # 累加\n",
    "    if i <= 3:  # 顯示前 3 次迭代\n",
    "        print(f\"第 {i} 次：total = {total}\")\n",
    "\n",
    "# 步驟 3：顯示最終結果\n",
    "print(f\"\\n1 到 100 的總和 = {total}\")\n",
    "\n",
    "# 步驟 4：驗證（高斯公式）\n",
    "expected = 100 * 101 // 2\n",
    "print(f\"高斯公式驗證：{expected}\")\n",
    "print(f\"結果正確：{total == expected}\")"
   ]
  },
  {
   "cell_type": "markdown",
   "metadata": {},
   "source": [
    "### 關鍵知識點\n",
    "- **累加器初始化**：`total = 0` 必須在迴圈外\n",
    "- **累加語法**：`total += i` 等同於 `total = total + i`\n",
    "- **range(1, 101)**：產生 1 到 100（不包含 101）"
   ]
  },
  {
   "cell_type": "markdown",
   "metadata": {},
   "source": [
    "---\n",
    "\n",
    "## 範例 2：質數判斷\n",
    "\n",
    "### 問題描述\n",
    "判斷一個數字是否為質數（只能被 1 和自己整除的數）\n",
    "\n",
    "### 分析思路\n",
    "1. **質數定義**：沒有其他因數（2 到 n-1 都不能整除）\n",
    "2. **旗標模式**：假設是質數，找到因數就改為 False\n",
    "3. **提前中斷**：找到因數就可以 break，不必繼續檢查\n",
    "\n",
    "### 逐步實作"
   ]
  },
  {
   "cell_type": "code",
   "execution_count": null,
   "metadata": {},
   "outputs": [],
   "source": [
    "# 測試數字\n",
    "num = 29\n",
    "\n",
    "# 步驟 1：處理特殊情況\n",
    "if num < 2:\n",
    "    print(f\"{num} 不是質數（小於 2）\")\n",
    "else:\n",
    "    # 步驟 2：設定旗標（假設是質數）\n",
    "    is_prime = True\n",
    "    \n",
    "    # 步驟 3：檢查 2 到 num-1 是否有因數\n",
    "    for i in range(2, num):\n",
    "        if num % i == 0:\n",
    "            # 找到因數\n",
    "            is_prime = False\n",
    "            print(f\"找到因數：{i}，{num} 不是質數\")\n",
    "            break  # 提前中斷\n",
    "    \n",
    "    # 步驟 4：根據旗標判斷結果\n",
    "    if is_prime:\n",
    "        print(f\"{num} 是質數\")"
   ]
  },
  {
   "cell_type": "markdown",
   "metadata": {},
   "source": [
    "### 優化版本（只檢查到平方根）"
   ]
  },
  {
   "cell_type": "code",
   "execution_count": null,
   "metadata": {},
   "outputs": [],
   "source": [
    "import math\n",
    "\n",
    "num = 97\n",
    "\n",
    "if num < 2:\n",
    "    is_prime = False\n",
    "else:\n",
    "    is_prime = True\n",
    "    # 只需檢查到 sqrt(num)\n",
    "    for i in range(2, int(math.sqrt(num)) + 1):\n",
    "        if num % i == 0:\n",
    "            is_prime = False\n",
    "            break\n",
    "\n",
    "print(f\"{num} {'是' if is_prime else '不是'}質數\")"
   ]
  },
  {
   "cell_type": "markdown",
   "metadata": {},
   "source": [
    "### 關鍵知識點\n",
    "- **旗標變數**：`is_prime = True` 記錄狀態\n",
    "- **break 優化**：找到因數立即停止，提高效率\n",
    "- **數學優化**：只需檢查到 √n，因為因數成對出現"
   ]
  },
  {
   "cell_type": "markdown",
   "metadata": {},
   "source": [
    "---\n",
    "\n",
    "## 範例 3：猜數字遊戲\n",
    "\n",
    "### 問題描述\n",
    "電腦隨機產生 1-100 的數字，玩家猜測，系統提示「太大」或「太小」，直到猜對\n",
    "\n",
    "### 分析思路\n",
    "1. **未知次數**：不知道要猜幾次 → 使用 **while 迴圈**\n",
    "2. **停止條件**：猜對了就 break\n",
    "3. **計數器**：記錄猜了幾次\n",
    "\n",
    "### 逐步實作"
   ]
  },
  {
   "cell_type": "code",
   "execution_count": null,
   "metadata": {},
   "outputs": [],
   "source": [
    "import random\n",
    "\n",
    "# 步驟 1：產生答案\n",
    "answer = random.randint(1, 100)\n",
    "print(f\"（測試用）答案是：{answer}\")\n",
    "\n",
    "# 步驟 2：初始化計數器\n",
    "attempts = 0\n",
    "max_attempts = 10  # 最多猜 10 次\n",
    "\n",
    "# 步驟 3：主迴圈\n",
    "while attempts < max_attempts:\n",
    "    # 讀取玩家輸入（模擬）\n",
    "    # guess = int(input(\"請猜一個數字（1-100）：\"))\n",
    "    # 示範用：自動猜測\n",
    "    guess = random.randint(1, 100)\n",
    "    attempts += 1\n",
    "    \n",
    "    print(f\"第 {attempts} 次猜測：{guess}\", end=\" \")\n",
    "    \n",
    "    # 步驟 4：判斷結果\n",
    "    if guess == answer:\n",
    "        print(\"→ 恭喜猜對了！\")\n",
    "        break\n",
    "    elif guess < answer:\n",
    "        print(\"→ 太小了\")\n",
    "    else:\n",
    "        print(\"→ 太大了\")\n",
    "else:\n",
    "    # 沒有 break，表示次數用完\n",
    "    print(f\"\\n次數用完！答案是 {answer}\")\n",
    "\n",
    "# 步驟 5：顯示統計\n",
    "if guess == answer:\n",
    "    print(f\"總共猜了 {attempts} 次\")"
   ]
  },
  {
   "cell_type": "markdown",
   "metadata": {},
   "source": [
    "### 關鍵知識點\n",
    "- **while 條件**：`attempts < max_attempts` 防止無窮迴圈\n",
    "- **計數器**：`attempts += 1` 記錄次數\n",
    "- **else 子句**：區分「猜對」和「次數用完」兩種結束情況"
   ]
  },
  {
   "cell_type": "markdown",
   "metadata": {},
   "source": [
    "---\n",
    "\n",
    "## 範例 4：九九乘法表（巢狀迴圈）\n",
    "\n",
    "### 問題描述\n",
    "印出完整的九九乘法表（1x1 到 9x9）\n",
    "\n",
    "### 分析思路\n",
    "1. **二維結構**：列與欄 → 需要 **巢狀迴圈**\n",
    "2. **外層迴圈**：控制列（被乘數）\n",
    "3. **內層迴圈**：控制欄（乘數）\n",
    "\n",
    "### 逐步實作"
   ]
  },
  {
   "cell_type": "code",
   "execution_count": null,
   "metadata": {},
   "outputs": [],
   "source": [
    "# 版本 1：基本版\n",
    "print(\"=== 基本版九九乘法表 ===\")\n",
    "for i in range(1, 10):  # 外層：1-9（列）\n",
    "    for j in range(1, 10):  # 內層：1-9（欄）\n",
    "        print(f\"{i} x {j} = {i*j:2d}\", end=\"  \")\n",
    "    print()  # 每印完一列換行\n",
    "\n",
    "print(\"\\n\" + \"=\"*50 + \"\\n\")\n",
    "\n",
    "# 版本 2：橫式表格\n",
    "print(\"=== 橫式表格版 ===\")\n",
    "# 印表頭\n",
    "print(\"   \", end=\"\")\n",
    "for i in range(1, 10):\n",
    "    print(f\"{i:4d}\", end=\"\")\n",
    "print()\n",
    "print(\"   \" + \"-\"*36)\n",
    "\n",
    "# 印表格內容\n",
    "for i in range(1, 10):\n",
    "    print(f\"{i} |\", end=\"\")\n",
    "    for j in range(1, 10):\n",
    "        print(f\"{i*j:4d}\", end=\"\")\n",
    "    print()\n",
    "\n",
    "print(\"\\n\" + \"=\"*50 + \"\\n\")\n",
    "\n",
    "# 版本 3：只印特定範圍（如 2-5 的乘法）\n",
    "print(\"=== 2 到 5 的乘法表 ===\")\n",
    "for i in range(2, 6):\n",
    "    for j in range(1, 10):\n",
    "        print(f\"{i} x {j} = {i*j:2d}\", end=\"  \")\n",
    "    print()"
   ]
  },
  {
   "cell_type": "markdown",
   "metadata": {},
   "source": [
    "### 關鍵知識點\n",
    "- **巢狀迴圈執行**：外層轉一圈，內層轉完整圈\n",
    "- **格式化輸出**：`{i*j:2d}` 確保對齊（2 位數字）\n",
    "- **end 參數**：`print(end=\"\")` 不換行"
   ]
  },
  {
   "cell_type": "markdown",
   "metadata": {},
   "source": [
    "---\n",
    "\n",
    "## 範例 5：找出所有因數\n",
    "\n",
    "### 問題描述\n",
    "找出一個數字的所有因數（能整除的數）\n",
    "\n",
    "### 分析思路\n",
    "1. **遍歷範圍**：檢查 1 到 n 的每個數字\n",
    "2. **條件篩選**：用 `%` 檢查是否整除\n",
    "3. **結果收集**：將因數存入列表（下一章會詳細教）\n",
    "\n",
    "### 逐步實作"
   ]
  },
  {
   "cell_type": "code",
   "execution_count": null,
   "metadata": {},
   "outputs": [],
   "source": [
    "# 步驟 1：設定目標數字\n",
    "num = 24\n",
    "\n",
    "# 步驟 2：建立結果列表（暫時用字串拼接）\n",
    "factors_str = \"\"\n",
    "count = 0\n",
    "\n",
    "print(f\"{num} 的因數：\")\n",
    "\n",
    "# 步驟 3：遍歷 1 到 num\n",
    "for i in range(1, num + 1):\n",
    "    if num % i == 0:\n",
    "        # 是因數\n",
    "        print(f\"  {i} （{num} ÷ {i} = {num // i}）\")\n",
    "        factors_str += f\"{i}, \"\n",
    "        count += 1\n",
    "\n",
    "# 步驟 4：顯示結果\n",
    "print(f\"\\n所有因數：{factors_str[:-2]}\")\n",
    "print(f\"共有 {count} 個因數\")\n",
    "\n",
    "# 步驟 5：判斷是否為質數\n",
    "if count == 2:\n",
    "    print(f\"{num} 是質數（只有 1 和自己兩個因數）\")\n",
    "else:\n",
    "    print(f\"{num} 不是質數\")"
   ]
  },
  {
   "cell_type": "markdown",
   "metadata": {},
   "source": [
    "### 進階：成對列印因數"
   ]
  },
  {
   "cell_type": "code",
   "execution_count": null,
   "metadata": {},
   "outputs": [],
   "source": [
    "import math\n",
    "\n",
    "num = 36\n",
    "\n",
    "print(f\"{num} 的因數對：\")\n",
    "\n",
    "# 只檢查到平方根，因數成對出現\n",
    "for i in range(1, int(math.sqrt(num)) + 1):\n",
    "    if num % i == 0:\n",
    "        pair = num // i\n",
    "        if i == pair:\n",
    "            print(f\"  {i} （平方根因數）\")\n",
    "        else:\n",
    "            print(f\"  {i} x {pair} = {num}\")"
   ]
  },
  {
   "cell_type": "markdown",
   "metadata": {},
   "source": [
    "### 關鍵知識點\n",
    "- **條件過濾**：`if num % i == 0` 判斷是否為因數\n",
    "- **計數器應用**：記錄找到幾個因數\n",
    "- **數學優化**：只檢查到 √n，避免重複檢查"
   ]
  },
  {
   "cell_type": "markdown",
   "metadata": {},
   "source": [
    "---\n",
    "\n",
    "## 📝 學習總結\n",
    "\n",
    "### 本章使用的迴圈模式\n",
    "\n",
    "| 模式 | 範例 | 關鍵技巧 |\n",
    "|:-----|:-----|:---------|\n",
    "| **累加器** | 1 到 100 總和 | `total += i` |\n",
    "| **旗標** | 質數判斷 | `is_prime = True/False` |\n",
    "| **計數器** | 猜數字次數 | `attempts += 1` |\n",
    "| **巢狀迴圈** | 九九乘法表 | 外層控制列，內層控制欄 |\n",
    "| **條件篩選** | 找因數 | `if num % i == 0` |\n",
    "\n",
    "### 迴圈選擇策略\n",
    "\n",
    "- **for 迴圈**：範例 1（已知次數）、範例 2（遍歷範圍）、範例 4（巢狀）、範例 5（遍歷）\n",
    "- **while 迴圈**：範例 3（未知次數，等待猜對）\n",
    "\n",
    "### 優化技巧\n",
    "\n",
    "1. **提前 break**：找到結果立即停止（範例 2、3）\n",
    "2. **數學優化**：減少檢查範圍（範例 2、5 的 √n）\n",
    "3. **防護機制**：設定最大迭代次數（範例 3）\n",
    "\n",
    "### 下一步練習\n",
    "\n",
    "請繼續完成：\n",
    "- `03-practice.ipynb` - 15 題課堂練習\n",
    "- `04-exercises.ipynb` - 20 題課後作業\n",
    "- `quiz.ipynb` - 25 題自我測驗"
   ]
  }
 ],
 "metadata": {
  "kernelspec": {
   "display_name": "Python 3",
   "language": "python",
   "name": "python3"
  },
  "language_info": {
   "codemirror_mode": {
    "name": "ipython",
    "version": 3
   },
   "file_extension": ".py",
   "mimetype": "text/x-python",
   "name": "python",
   "nbconvert_exporter": "python",
   "pygments_lexer": "ipython3",
   "version": "3.8.0"
  }
 },
 "nbformat": 4,
 "nbformat_minor": 4
}
