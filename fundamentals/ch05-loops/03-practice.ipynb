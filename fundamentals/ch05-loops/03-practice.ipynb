{
 "cells": [
  {
   "cell_type": "markdown",
   "metadata": {},
   "source": [
    "# Chapter 5: 迴圈控制 | Loops\n",
    "## 03 - 課堂練習 | Practice\n",
    "\n",
    "---\n",
    "\n",
    "## 📋 練習說明\n",
    "\n",
    "本檔案包含 **15 題課堂練習**，分為三個難度等級：\n",
    "- **基礎題**（1-5 題）：for/while 基本語法\n",
    "- **進階題**（6-12 題）：break/continue、累加器模式\n",
    "- **挑戰題**（13-15 題）：巢狀迴圈、複雜邏輯\n",
    "\n",
    "**建議**：\n",
    "1. 先自己思考並嘗試撰寫程式碼\n",
    "2. 無法完成時再參考 `05-solutions.ipynb`\n",
    "3. 每題都要實際執行，觀察輸出結果\n",
    "\n",
    "**預計時間**：60 分鐘"
   ]
  },
  {
   "cell_type": "markdown",
   "metadata": {},
   "source": [
    "---\n",
    "\n",
    "## Part I: 基礎題（1-5）\n",
    "\n",
    "### 練習 1：印出 1 到 20\n",
    "使用 for 迴圈印出 1 到 20 的所有數字，每個數字一行。"
   ]
  },
  {
   "cell_type": "code",
   "execution_count": null,
   "metadata": {},
   "outputs": [],
   "source": [
    "# 請在此撰寫程式碼\n"
   ]
  },
  {
   "cell_type": "markdown",
   "metadata": {},
   "source": [
    "### 練習 2：倒數計時\n",
    "使用 for 迴圈印出從 10 到 1 的倒數（10, 9, 8, ..., 1），最後印出 \"發射！\"。"
   ]
  },
  {
   "cell_type": "code",
   "execution_count": null,
   "metadata": {},
   "outputs": [],
   "source": [
    "# 請在此撰寫程式碼\n"
   ]
  },
  {
   "cell_type": "markdown",
   "metadata": {},
   "source": [
    "### 練習 3：印出所有偶數\n",
    "使用 for 迴圈印出 0 到 50 之間的所有偶數（0, 2, 4, ..., 50）。\n",
    "\n",
    "提示：可以使用 `range(start, stop, step)` 或條件判斷。"
   ]
  },
  {
   "cell_type": "code",
   "execution_count": null,
   "metadata": {},
   "outputs": [],
   "source": [
    "# 請在此撰寫程式碼\n"
   ]
  },
  {
   "cell_type": "markdown",
   "metadata": {},
   "source": [
    "### 練習 4：while 迴圈基本練習\n",
    "使用 while 迴圈印出 1 到 10 的數字。"
   ]
  },
  {
   "cell_type": "code",
   "execution_count": null,
   "metadata": {},
   "outputs": [],
   "source": [
    "# 請在此撰寫程式碼\n"
   ]
  },
  {
   "cell_type": "markdown",
   "metadata": {},
   "source": [
    "### 練習 5：字串遍歷\n",
    "遍歷字串 \"Python\"，每個字元印在單獨一行，並顯示其索引。\n",
    "\n",
    "範例輸出：\n",
    "```\n",
    "索引 0: P\n",
    "索引 1: y\n",
    "...\n",
    "```"
   ]
  },
  {
   "cell_type": "code",
   "execution_count": null,
   "metadata": {},
   "outputs": [],
   "source": [
    "# 請在此撰寫程式碼\n"
   ]
  },
  {
   "cell_type": "markdown",
   "metadata": {},
   "source": [
    "---\n",
    "\n",
    "## Part II: 進階題（6-12）\n",
    "\n",
    "### 練習 6：計算總和\n",
    "計算 1 到 50 的所有數字總和，使用累加器模式。"
   ]
  },
  {
   "cell_type": "code",
   "execution_count": null,
   "metadata": {},
   "outputs": [],
   "source": [
    "# 請在此撰寫程式碼\n"
   ]
  },
  {
   "cell_type": "markdown",
   "metadata": {},
   "source": [
    "### 練習 7：計算階乘\n",
    "計算 5 的階乘（5! = 5 × 4 × 3 × 2 × 1 = 120）。\n",
    "\n",
    "提示：使用累乘器，初始值為 1。"
   ]
  },
  {
   "cell_type": "code",
   "execution_count": null,
   "metadata": {},
   "outputs": [],
   "source": [
    "# 請在此撰寫程式碼\n"
   ]
  },
  {
   "cell_type": "markdown",
   "metadata": {},
   "source": [
    "### 練習 8：找出第一個大於 100 的平方數\n",
    "使用 for 迴圈找出第一個大於 100 的完全平方數（n²）。\n",
    "\n",
    "提示：使用 break 提前中斷。"
   ]
  },
  {
   "cell_type": "code",
   "execution_count": null,
   "metadata": {},
   "outputs": [],
   "source": [
    "# 請在此撰寫程式碼\n"
   ]
  },
  {
   "cell_type": "markdown",
   "metadata": {},
   "source": [
    "### 練習 9：跳過 3 的倍數\n",
    "印出 1 到 20，但跳過所有 3 的倍數。\n",
    "\n",
    "提示：使用 continue。\n",
    "\n",
    "範例輸出：`1 2 4 5 7 8 10 11 13 14 16 17 19 20`"
   ]
  },
  {
   "cell_type": "code",
   "execution_count": null,
   "metadata": {},
   "outputs": [],
   "source": [
    "# 請在此撰寫程式碼\n"
   ]
  },
  {
   "cell_type": "markdown",
   "metadata": {},
   "source": [
    "### 練習 10：搜尋目標數字\n",
    "在列表 `[10, 25, 30, 45, 60, 75]` 中搜尋數字 45，找到就印出其索引，沒找到就印出 \"未找到\"。\n",
    "\n",
    "提示：使用 for...else 結構。"
   ]
  },
  {
   "cell_type": "code",
   "execution_count": null,
   "metadata": {},
   "outputs": [],
   "source": [
    "# 請在此撰寫程式碼\n"
   ]
  },
  {
   "cell_type": "markdown",
   "metadata": {},
   "source": [
    "### 練習 11：計算偶數和與奇數和\n",
    "計算 1 到 100 之間，所有偶數的總和與所有奇數的總和。\n",
    "\n",
    "提示：使用兩個累加器。"
   ]
  },
  {
   "cell_type": "code",
   "execution_count": null,
   "metadata": {},
   "outputs": [],
   "source": [
    "# 請在此撰寫程式碼\n"
   ]
  },
  {
   "cell_type": "markdown",
   "metadata": {},
   "source": [
    "### 練習 12：判斷完全數\n",
    "判斷數字 28 是否為完全數（完全數 = 所有真因數的和）。\n",
    "\n",
    "例如：28 的真因數為 1, 2, 4, 7, 14，總和 = 28，所以 28 是完全數。\n",
    "\n",
    "提示：先找出所有真因數（不包含自己），再計算總和。"
   ]
  },
  {
   "cell_type": "code",
   "execution_count": null,
   "metadata": {},
   "outputs": [],
   "source": [
    "# 請在此撰寫程式碼\n"
   ]
  },
  {
   "cell_type": "markdown",
   "metadata": {},
   "source": [
    "---\n",
    "\n",
    "## Part III: 挑戰題（13-15）\n",
    "\n",
    "### 練習 13：印出直角三角形\n",
    "使用巢狀迴圈印出以下圖案：\n",
    "```\n",
    "*\n",
    "**\n",
    "***\n",
    "****\n",
    "*****\n",
    "```"
   ]
  },
  {
   "cell_type": "code",
   "execution_count": null,
   "metadata": {},
   "outputs": [],
   "source": [
    "# 請在此撰寫程式碼\n"
   ]
  },
  {
   "cell_type": "markdown",
   "metadata": {},
   "source": [
    "### 練習 14：Fibonacci 數列\n",
    "印出前 10 個 Fibonacci 數（0, 1, 1, 2, 3, 5, 8, 13, 21, 34）。\n",
    "\n",
    "提示：\n",
    "- F(0) = 0, F(1) = 1\n",
    "- F(n) = F(n-1) + F(n-2)\n",
    "- 需要兩個變數記錄前兩個數字"
   ]
  },
  {
   "cell_type": "code",
   "execution_count": null,
   "metadata": {},
   "outputs": [],
   "source": [
    "# 請在此撰寫程式碼\n"
   ]
  },
  {
   "cell_type": "markdown",
   "metadata": {},
   "source": [
    "### 練習 15：找出所有質數（1-50）\n",
    "找出並印出 1 到 50 之間的所有質數。\n",
    "\n",
    "提示：\n",
    "- 外層迴圈遍歷 1-50\n",
    "- 內層迴圈檢查是否為質數\n",
    "- 使用旗標變數記錄狀態"
   ]
  },
  {
   "cell_type": "code",
   "execution_count": null,
   "metadata": {},
   "outputs": [],
   "source": [
    "# 請在此撰寫程式碼\n"
   ]
  },
  {
   "cell_type": "markdown",
   "metadata": {},
   "source": [
    "---\n",
    "\n",
    "## 📝 練習完成檢核\n",
    "\n",
    "完成所有練習後，請確認：\n",
    "\n",
    "### 基礎能力\n",
    "- [ ] 能正確使用 for 迴圈（練習 1-3）\n",
    "- [ ] 能正確使用 while 迴圈（練習 4）\n",
    "- [ ] 能遍歷字串（練習 5）\n",
    "- [ ] 能使用 range() 的三種形式（練習 1-3）\n",
    "\n",
    "### 進階能力\n",
    "- [ ] 能使用累加器/累乘器（練習 6-7）\n",
    "- [ ] 能使用 break 提前中斷（練習 8）\n",
    "- [ ] 能使用 continue 跳過迭代（練習 9）\n",
    "- [ ] 能使用 for...else 結構（練習 10）\n",
    "- [ ] 能同時使用多個累加器（練習 11）\n",
    "- [ ] 能結合條件判斷與迴圈（練習 12）\n",
    "\n",
    "### 挑戰能力\n",
    "- [ ] 能撰寫巢狀迴圈（練習 13）\n",
    "- [ ] 能實作數列演算法（練習 14）\n",
    "- [ ] 能綜合運用多種迴圈技巧（練習 15）\n",
    "\n",
    "**下一步**：完成 `04-exercises.ipynb` 課後習題"
   ]
  }
 ],
 "metadata": {
  "kernelspec": {
   "display_name": "Python 3",
   "language": "python",
   "name": "python3"
  },
  "language_info": {
   "codemirror_mode": {
    "name": "ipython",
    "version": 3
   },
   "file_extension": ".py",
   "mimetype": "text/x-python",
   "name": "python",
   "nbconvert_exporter": "python",
   "pygments_lexer": "ipython3",
   "version": "3.8.0"
  }
 },
 "nbformat": 4,
 "nbformat_minor": 4
}
