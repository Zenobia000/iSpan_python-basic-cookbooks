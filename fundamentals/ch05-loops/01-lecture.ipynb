{
 "cells": [
  {
   "cell_type": "markdown",
   "metadata": {},
   "source": [
    "# Chapter 5: 迴圈控制 | Loops\n",
    "## 01 - 主講義 | Main Lecture\n",
    "\n",
    "---\n",
    "\n",
    "## 📋 本講義內容\n",
    "\n",
    "**Part I: 理論基礎**\n",
    "- 迴圈概述與學習目標\n",
    "- for 迴圈基本概念\n",
    "- range() 函式詳解\n",
    "- while 迴圈基本概念\n",
    "- for vs while 選擇策略\n",
    "\n",
    "**Part II: 實作演練**\n",
    "- 範例 1-12：從基礎到進階\n",
    "- 常見模式與最佳實踐\n",
    "\n",
    "**Part III: 本章總結**\n",
    "- 知識回顧\n",
    "- 常見誤區\n",
    "- 自我檢核\n",
    "\n",
    "**預計時間**：90 分鐘"
   ]
  },
  {
   "cell_type": "markdown",
   "metadata": {},
   "source": [
    "---\n",
    "\n",
    "# Part I: 理論基礎\n",
    "\n",
    "## 1. 章節概述\n",
    "\n",
    "### 學習目標\n",
    "- 掌握 for 和 while 迴圈的語法\n",
    "- 理解 range() 函式的三種用法\n",
    "- 學會使用 break、continue、else 控制迴圈\n",
    "- 能夠撰寫巢狀迴圈\n",
    "- 能夠預防和除錯無窮迴圈\n",
    "\n",
    "### 先備知識\n",
    "- Ch01: 變數與資料型態\n",
    "- Ch02: 運算子與表達式\n",
    "- Ch03: 輸入輸出\n",
    "- Ch04: 條件判斷\n",
    "\n",
    "### 預計學習時間\n",
    "- 理論學習：30 分鐘\n",
    "- 範例實作：45 分鐘\n",
    "- 練習題：15 分鐘"
   ]
  },
  {
   "cell_type": "markdown",
   "metadata": {},
   "source": [
    "## 2. 為什麼需要迴圈？\n",
    "\n",
    "### 問題情境\n",
    "假設我們要印出 1 到 10 的數字：\n",
    "\n",
    "**❌ 沒有迴圈的做法**："
   ]
  },
  {
   "cell_type": "code",
   "execution_count": null,
   "metadata": {},
   "outputs": [],
   "source": [
    "# 手動重複 10 次\n",
    "print(1)\n",
    "print(2)\n",
    "print(3)\n",
    "print(4)\n",
    "print(5)\n",
    "print(6)\n",
    "print(7)\n",
    "print(8)\n",
    "print(9)\n",
    "print(10)\n",
    "\n",
    "# 問題：如果要印 1000 個呢？"
   ]
  },
  {
   "cell_type": "markdown",
   "metadata": {},
   "source": [
    "**✅ 使用迴圈的做法**："
   ]
  },
  {
   "cell_type": "code",
   "execution_count": null,
   "metadata": {},
   "outputs": [],
   "source": [
    "# 簡潔！只需要 2 行\n",
    "for i in range(1, 11):\n",
    "    print(i)\n",
    "\n",
    "# 改成 1000？只需要改一個數字\n",
    "# for i in range(1, 1001):"
   ]
  },
  {
   "cell_type": "markdown",
   "metadata": {},
   "source": [
    "### First Principle\n",
    "\n",
    "**迴圈 (Loop)** 是程式設計中「自動化重複」的核心機制：\n",
    "- **目的**：避免撰寫重複的程式碼\n",
    "- **本質**：用控制結構表達「做某事 N 次」\n",
    "- **價值**：提高程式碼的簡潔性、可維護性、可擴展性"
   ]
  },
  {
   "cell_type": "markdown",
   "metadata": {},
   "source": [
    "## 3. for 迴圈 | for Loop\n",
    "\n",
    "### 基本語法\n",
    "\n",
    "```python\n",
    "for 變數 in 可迭代物件:\n",
    "    # 迴圈主體（會重複執行）\n",
    "    語句1\n",
    "    語句2\n",
    "    ...\n",
    "```\n",
    "\n",
    "### 核心概念\n",
    "- **迭代變數 (iteration variable)**：每次迴圈會自動更新\n",
    "- **可迭代物件 (iterable)**：可以逐一存取的資料（字串、列表、range 等）\n",
    "- **迴圈主體 (loop body)**：縮排的程式碼區塊，每次迭代都會執行"
   ]
  },
  {
   "cell_type": "markdown",
   "metadata": {},
   "source": [
    "## 4. range() 函式詳解\n",
    "\n",
    "### 三種用法\n",
    "\n",
    "#### 用法 1: range(stop)\n",
    "從 0 開始，到 stop **之前**停止（不包含 stop）"
   ]
  },
  {
   "cell_type": "code",
   "execution_count": null,
   "metadata": {},
   "outputs": [],
   "source": [
    "# range(5) 產生：0, 1, 2, 3, 4\n",
    "for i in range(5):\n",
    "    print(i, end=\" \")\n",
    "\n",
    "# 重點：range(5) 不包含 5！"
   ]
  },
  {
   "cell_type": "markdown",
   "metadata": {},
   "source": [
    "#### 用法 2: range(start, stop)\n",
    "從 start 開始，到 stop **之前**停止"
   ]
  },
  {
   "cell_type": "code",
   "execution_count": null,
   "metadata": {},
   "outputs": [],
   "source": [
    "# range(1, 6) 產生：1, 2, 3, 4, 5\n",
    "for i in range(1, 6):\n",
    "    print(i, end=\" \")"
   ]
  },
  {
   "cell_type": "markdown",
   "metadata": {},
   "source": [
    "#### 用法 3: range(start, stop, step)\n",
    "從 start 開始，每次增加 step，到 stop 之前停止"
   ]
  },
  {
   "cell_type": "code",
   "execution_count": null,
   "metadata": {},
   "outputs": [],
   "source": [
    "# 偶數：0, 2, 4, 6, 8\n",
    "for i in range(0, 10, 2):\n",
    "    print(i, end=\" \")\n",
    "\n",
    "print()  # 換行\n",
    "\n",
    "# 倒數：10, 9, 8, ..., 1\n",
    "for i in range(10, 0, -1):\n",
    "    print(i, end=\" \")"
   ]
  },
  {
   "cell_type": "markdown",
   "metadata": {},
   "source": [
    "### range() 記憶口訣\n",
    "\n",
    "| 參數數量 | 語法 | 說明 | 範例 |\n",
    "|:---------|:-----|:-----|:-----|\n",
    "| 1 個 | `range(n)` | 0 到 n-1 | `range(5)` → 0,1,2,3,4 |\n",
    "| 2 個 | `range(start, stop)` | start 到 stop-1 | `range(1,6)` → 1,2,3,4,5 |\n",
    "| 3 個 | `range(start, stop, step)` | start 開始，每次加 step | `range(0,10,2)` → 0,2,4,6,8 |\n",
    "\n",
    "**記住**：`stop` 永遠「到達但不包含」！"
   ]
  },
  {
   "cell_type": "markdown",
   "metadata": {},
   "source": [
    "## 5. while 迴圈 | while Loop\n",
    "\n",
    "### 基本語法\n",
    "\n",
    "```python\n",
    "while 條件:\n",
    "    # 只要條件為 True，就重複執行\n",
    "    語句1\n",
    "    語句2\n",
    "    ...\n",
    "```\n",
    "\n",
    "### 核心概念\n",
    "- **條件檢查**：每次迭代前都會檢查條件\n",
    "- **條件為 True**：繼續執行迴圈主體\n",
    "- **條件為 False**：跳出迴圈\n",
    "- **重要**：迴圈內必須有「更新條件」的語句，否則會無窮迴圈！"
   ]
  },
  {
   "cell_type": "markdown",
   "metadata": {},
   "source": [
    "## 6. for vs while：何時用哪個？\n",
    "\n",
    "### 選擇指南\n",
    "\n",
    "| 特性 | for 迴圈 | while 迴圈 |\n",
    "|:-----|:---------|:-----------|\n",
    "| **適用場景** | 已知迭代次數 | 未知迭代次數 |\n",
    "| **語法重點** | 遍歷序列 | 條件判斷 |\n",
    "| **典型用途** | 處理列表、範圍 | 等待輸入、條件達成 |\n",
    "| **例子** | 印出 1-100 | 猜數字直到猜對 |\n",
    "\n",
    "### 經驗法則\n",
    "- **知道要跑幾次** → 用 `for`\n",
    "- **不知道要跑幾次，但知道停止條件** → 用 `while`\n",
    "- **要遍歷資料結構** → 用 `for`\n",
    "- **要等待某個狀態** → 用 `while`"
   ]
  },
  {
   "cell_type": "markdown",
   "metadata": {},
   "source": [
    "---\n",
    "\n",
    "# Part II: 實作演練\n",
    "\n",
    "## 範例 1：for 迴圈基本用法"
   ]
  },
  {
   "cell_type": "code",
   "execution_count": null,
   "metadata": {},
   "outputs": [],
   "source": [
    "# 印出 0 到 4\n",
    "for i in range(5):\n",
    "    print(f\"第 {i} 次迭代\")\n",
    "\n",
    "print(\"迴圈結束\")"
   ]
  },
  {
   "cell_type": "markdown",
   "metadata": {},
   "source": [
    "## 範例 2：range() 三種用法對比"
   ]
  },
  {
   "cell_type": "code",
   "execution_count": null,
   "metadata": {},
   "outputs": [],
   "source": [
    "# 用法 1: range(stop)\n",
    "print(\"range(5):\")\n",
    "for i in range(5):\n",
    "    print(i, end=\" \")\n",
    "print()\n",
    "\n",
    "# 用法 2: range(start, stop)\n",
    "print(\"\\nrange(1, 6):\")\n",
    "for i in range(1, 6):\n",
    "    print(i, end=\" \")\n",
    "print()\n",
    "\n",
    "# 用法 3: range(start, stop, step)\n",
    "print(\"\\nrange(0, 10, 2):\")\n",
    "for i in range(0, 10, 2):\n",
    "    print(i, end=\" \")\n",
    "print()\n",
    "\n",
    "# 負數步進（倒數）\n",
    "print(\"\\nrange(5, 0, -1):\")\n",
    "for i in range(5, 0, -1):\n",
    "    print(i, end=\" \")"
   ]
  },
  {
   "cell_type": "markdown",
   "metadata": {},
   "source": [
    "## 範例 3：遍歷字串"
   ]
  },
  {
   "cell_type": "code",
   "execution_count": null,
   "metadata": {},
   "outputs": [],
   "source": [
    "# for 迴圈可以遍歷任何「可迭代物件」\n",
    "text = \"Python\"\n",
    "\n",
    "print(\"逐字元列印：\")\n",
    "for char in text:\n",
    "    print(char)\n",
    "\n",
    "print(\"\\n帶索引的遍歷：\")\n",
    "for i in range(len(text)):\n",
    "    print(f\"索引 {i}: {text[i]}\")"
   ]
  },
  {
   "cell_type": "markdown",
   "metadata": {},
   "source": [
    "## 範例 4：while 迴圈基本用法"
   ]
  },
  {
   "cell_type": "code",
   "execution_count": null,
   "metadata": {},
   "outputs": [],
   "source": [
    "# 印出 0 到 4（用 while 實作）\n",
    "count = 0\n",
    "while count < 5:\n",
    "    print(f\"count = {count}\")\n",
    "    count += 1  # 重要！必須更新條件\n",
    "\n",
    "print(f\"迴圈結束，count = {count}\")"
   ]
  },
  {
   "cell_type": "markdown",
   "metadata": {},
   "source": [
    "## 範例 5：break - 提前中斷迴圈"
   ]
  },
  {
   "cell_type": "code",
   "execution_count": null,
   "metadata": {},
   "outputs": [],
   "source": [
    "# 找到第一個偶數就停止\n",
    "numbers = [1, 3, 5, 8, 9, 11]\n",
    "\n",
    "for num in numbers:\n",
    "    if num % 2 == 0:\n",
    "        print(f\"找到第一個偶數：{num}\")\n",
    "        break  # 立即跳出迴圈\n",
    "    print(f\"{num} 是奇數\")\n",
    "\n",
    "print(\"迴圈結束\")"
   ]
  },
  {
   "cell_type": "markdown",
   "metadata": {},
   "source": [
    "## 範例 6：continue - 跳過本次迭代"
   ]
  },
  {
   "cell_type": "code",
   "execution_count": null,
   "metadata": {},
   "outputs": [],
   "source": [
    "# 只印出奇數\n",
    "for i in range(10):\n",
    "    if i % 2 == 0:\n",
    "        continue  # 跳過偶數，直接進入下次迭代\n",
    "    print(i, end=\" \")\n",
    "\n",
    "print(\"\\n迴圈結束\")"
   ]
  },
  {
   "cell_type": "markdown",
   "metadata": {},
   "source": [
    "## 範例 7：else 子句 - 迴圈正常結束時執行"
   ]
  },
  {
   "cell_type": "code",
   "execution_count": null,
   "metadata": {},
   "outputs": [],
   "source": [
    "# 在列表中搜尋目標值\n",
    "numbers = [1, 3, 5, 7, 9]\n",
    "target = 4\n",
    "\n",
    "for num in numbers:\n",
    "    if num == target:\n",
    "        print(f\"找到 {target}！\")\n",
    "        break\n",
    "else:\n",
    "    # 只有沒有執行 break 時才會執行\n",
    "    print(f\"沒有找到 {target}\")\n",
    "\n",
    "# 試試看改成 target = 5，觀察差異"
   ]
  },
  {
   "cell_type": "markdown",
   "metadata": {},
   "source": [
    "## 範例 8：巢狀迴圈 - 九九乘法表"
   ]
  },
  {
   "cell_type": "code",
   "execution_count": null,
   "metadata": {},
   "outputs": [],
   "source": [
    "# 外層迴圈：控制列（1-9）\n",
    "for i in range(1, 10):\n",
    "    # 內層迴圈：控制欄（1-9）\n",
    "    for j in range(1, 10):\n",
    "        print(f\"{i}x{j}={i*j:2d}\", end=\"  \")\n",
    "    print()  # 每印完一列就換行"
   ]
  },
  {
   "cell_type": "markdown",
   "metadata": {},
   "source": [
    "## 範例 9：累加器模式 (Accumulator Pattern)"
   ]
  },
  {
   "cell_type": "code",
   "execution_count": null,
   "metadata": {},
   "outputs": [],
   "source": [
    "# 計算 1 到 100 的總和\n",
    "total = 0  # 累加器初始值\n",
    "\n",
    "for i in range(1, 101):\n",
    "    total += i  # 累加\n",
    "\n",
    "print(f\"1 到 100 的總和 = {total}\")\n",
    "\n",
    "# 驗證：高斯公式 n*(n+1)/2\n",
    "print(f\"高斯公式驗證：{100*101//2}\")"
   ]
  },
  {
   "cell_type": "markdown",
   "metadata": {},
   "source": [
    "## 範例 10：旗標變數 (Flag Variable)"
   ]
  },
  {
   "cell_type": "code",
   "execution_count": null,
   "metadata": {},
   "outputs": [],
   "source": [
    "# 檢查數字是否為質數\n",
    "num = 17\n",
    "is_prime = True  # 旗標：假設是質數\n",
    "\n",
    "for i in range(2, num):\n",
    "    if num % i == 0:\n",
    "        is_prime = False  # 找到因數，不是質數\n",
    "        break\n",
    "\n",
    "if is_prime:\n",
    "    print(f\"{num} 是質數\")\n",
    "else:\n",
    "    print(f\"{num} 不是質數\")"
   ]
  },
  {
   "cell_type": "markdown",
   "metadata": {},
   "source": [
    "## 範例 11：無窮迴圈與防護機制"
   ]
  },
  {
   "cell_type": "code",
   "execution_count": null,
   "metadata": {},
   "outputs": [],
   "source": [
    "# ⚠️ 危險：無窮迴圈範例（不要執行！）\n",
    "# x = 0\n",
    "# while x < 10:\n",
    "#     print(x)  # 忘記更新 x，永遠不會停止！\n",
    "\n",
    "# ✅ 安全：加入防護機制\n",
    "count = 0\n",
    "max_iterations = 1000  # 最大迭代次數\n",
    "\n",
    "while True:\n",
    "    count += 1\n",
    "    print(f\"迭代 {count}\")\n",
    "    \n",
    "    if count >= 5:  # 實際停止條件\n",
    "        print(\"正常結束\")\n",
    "        break\n",
    "    \n",
    "    if count > max_iterations:  # 防護機制\n",
    "        print(\"達到最大迭代次數，強制中斷\")\n",
    "        break"
   ]
  },
  {
   "cell_type": "markdown",
   "metadata": {},
   "source": [
    "## 範例 12：for vs while 對比 - 同一問題兩種解法"
   ]
  },
  {
   "cell_type": "code",
   "execution_count": null,
   "metadata": {},
   "outputs": [],
   "source": [
    "# 問題：計算 1 到 10 的階乘 (1*2*3*...*10)\n",
    "\n",
    "# 解法 1：使用 for\n",
    "factorial_for = 1\n",
    "for i in range(1, 11):\n",
    "    factorial_for *= i\n",
    "print(f\"for 迴圈結果：{factorial_for}\")\n",
    "\n",
    "# 解法 2：使用 while\n",
    "factorial_while = 1\n",
    "i = 1\n",
    "while i <= 10:\n",
    "    factorial_while *= i\n",
    "    i += 1\n",
    "print(f\"while 迴圈結果：{factorial_while}\")\n",
    "\n",
    "# 結論：for 更簡潔，因為迭代次數已知"
   ]
  },
  {
   "cell_type": "markdown",
   "metadata": {},
   "source": [
    "---\n",
    "\n",
    "# Part III: 本章總結\n",
    "\n",
    "## 知識回顧\n",
    "\n",
    "### 1. 迴圈類型\n",
    "\n",
    "| 迴圈類型 | 語法 | 適用場景 |\n",
    "|:---------|:-----|:---------|\n",
    "| **for** | `for 變數 in 序列:` | 已知次數、遍歷資料 |\n",
    "| **while** | `while 條件:` | 未知次數、條件控制 |\n",
    "\n",
    "### 2. range() 函式\n",
    "\n",
    "```python\n",
    "range(5)          # 0, 1, 2, 3, 4\n",
    "range(1, 6)       # 1, 2, 3, 4, 5\n",
    "range(0, 10, 2)   # 0, 2, 4, 6, 8\n",
    "range(10, 0, -1)  # 10, 9, 8, ..., 1\n",
    "```\n",
    "\n",
    "### 3. 迴圈控制語句\n",
    "\n",
    "| 語句 | 作用 | 使用時機 |\n",
    "|:-----|:-----|:---------|\n",
    "| `break` | 立即跳出迴圈 | 找到目標、達成條件 |\n",
    "| `continue` | 跳過本次迭代 | 過濾特定情況 |\n",
    "| `else` | 迴圈正常結束時執行 | 區分「找到」或「沒找到」 |\n",
    "\n",
    "### 4. 常見模式\n",
    "\n",
    "- **累加器**：`total += value`\n",
    "- **計數器**：`count += 1`\n",
    "- **旗標**：`found = True`\n",
    "- **防護**：`if count > max_iterations: break`"
   ]
  },
  {
   "cell_type": "markdown",
   "metadata": {},
   "source": [
    "## 常見誤區\n",
    "\n",
    "### 1. range() 的「不包含」陷阱\n",
    "```python\n",
    "# ❌ 錯誤：以為會印到 10\n",
    "for i in range(10):\n",
    "    print(i)  # 只會印 0-9\n",
    "\n",
    "# ✅ 正確：想印到 10 要用 range(11)\n",
    "for i in range(11):\n",
    "    print(i)  # 印 0-10\n",
    "```\n",
    "\n",
    "### 2. while 忘記更新條件\n",
    "```python\n",
    "# ❌ 無窮迴圈\n",
    "x = 0\n",
    "while x < 5:\n",
    "    print(x)  # 忘記 x += 1\n",
    "\n",
    "# ✅ 正確\n",
    "x = 0\n",
    "while x < 5:\n",
    "    print(x)\n",
    "    x += 1\n",
    "```\n",
    "\n",
    "### 3. 巢狀迴圈的執行順序\n",
    "```python\n",
    "# 外層轉一圈，內層轉完整圈\n",
    "for i in range(2):      # i=0 時，j 跑 0,1,2\n",
    "    for j in range(3):  # i=1 時，j 跑 0,1,2\n",
    "        print(f\"({i},{j})\")\n",
    "# 輸出：(0,0) (0,1) (0,2) (1,0) (1,1) (1,2)\n",
    "```\n",
    "\n",
    "### 4. break vs continue 混淆\n",
    "```python\n",
    "# break = 離開建築物（整個迴圈結束）\n",
    "# continue = 跳過這層樓（跳到下次迭代）\n",
    "\n",
    "for i in range(5):\n",
    "    if i == 2:\n",
    "        break      # 輸出：0 1\n",
    "    print(i)\n",
    "\n",
    "for i in range(5):\n",
    "    if i == 2:\n",
    "        continue   # 輸出：0 1 3 4（跳過 2）\n",
    "    print(i)\n",
    "```"
   ]
  },
  {
   "cell_type": "markdown",
   "metadata": {},
   "source": [
    "## 自我檢核\n",
    "\n",
    "完成本講義後，請確認你能夠：\n",
    "\n",
    "### 基礎檢核\n",
    "- [ ] 寫出正確的 for 迴圈語法\n",
    "- [ ] 使用 range() 的三種形式\n",
    "- [ ] 寫出正確的 while 迴圈語法\n",
    "- [ ] 遍歷字串的每個字元\n",
    "- [ ] 使用 break 和 continue\n",
    "\n",
    "### 進階檢核\n",
    "- [ ] 選擇適當的迴圈類型（for vs while）\n",
    "- [ ] 寫出巢狀迴圈（如九九乘法表）\n",
    "- [ ] 使用累加器模式計算總和\n",
    "- [ ] 使用旗標變數控制流程\n",
    "- [ ] 使用 else 子句判斷迴圈是否被中斷\n",
    "\n",
    "### 挑戰檢核\n",
    "- [ ] 設計防護機制避免無窮迴圈\n",
    "- [ ] 優化迴圈效率（提前 break）\n",
    "- [ ] 除錯複雜的迴圈邏輯"
   ]
  },
  {
   "cell_type": "markdown",
   "metadata": {},
   "source": [
    "## 延伸閱讀\n",
    "\n",
    "### 推薦資源\n",
    "1. **Python Official Tutorial - Control Flow**\n",
    "   - https://docs.python.org/3/tutorial/controlflow.html\n",
    "\n",
    "2. **Python Tutor - 視覺化迴圈執行**\n",
    "   - https://pythontutor.com/\n",
    "   - 建議：把範例貼進去，逐步執行觀察變數變化\n",
    "\n",
    "3. **Real Python - Python \"for\" Loops**\n",
    "   - https://realpython.com/python-for-loop/\n",
    "\n",
    "### 下一步學習\n",
    "- **Ch07: 列表 (Lists)**：用迴圈處理列表資料\n",
    "- **Ch11: 串列推導式 (List Comprehensions)**：更簡潔的迴圈寫法\n",
    "- **Ch15: 遞迴 (Recursion)**：迴圈的替代方案"
   ]
  },
  {
   "cell_type": "markdown",
   "metadata": {},
   "source": [
    "---\n",
    "\n",
    "## 📝 練習提醒\n",
    "\n",
    "請繼續完成：\n",
    "1. `02-worked-examples.ipynb` - 5 個詳解範例\n",
    "2. `03-practice.ipynb` - 15 題課堂練習\n",
    "3. `04-exercises.ipynb` - 20 題課後作業\n",
    "4. `quiz.ipynb` - 25 題自我測驗\n",
    "\n",
    "**學習建議**：\n",
    "- 不要只看範例，一定要自己動手寫\n",
    "- 預測輸出，再執行驗證\n",
    "- 遇到錯誤，先思考原因再查答案\n",
    "- 多用 Python Tutor 視覺化執行流程"
   ]
  }
 ],
 "metadata": {
  "kernelspec": {
   "display_name": "Python 3",
   "language": "python",
   "name": "python3"
  },
  "language_info": {
   "codemirror_mode": {
    "name": "ipython",
    "version": 3
   },
   "file_extension": ".py",
   "mimetype": "text/x-python",
   "name": "python",
   "nbconvert_exporter": "python",
   "pygments_lexer": "ipython3",
   "version": "3.8.0"
  }
 },
 "nbformat": 4,
 "nbformat_minor": 4
}
