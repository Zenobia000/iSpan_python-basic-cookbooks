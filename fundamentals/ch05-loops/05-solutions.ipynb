{
 "cells": [
  {
   "cell_type": "markdown",
   "metadata": {},
   "source": [
    "# Chapter 5: 迴圈控制 | Loops\n",
    "## 05 - 完整解答 | Solutions\n",
    "\n",
    "---\n",
    "\n",
    "本檔案提供以下習題的**完整解答**：\n",
    "- 課堂練習（03-practice.ipynb）15 題\n",
    "- 課後習題（04-exercises.ipynb）20 題\n",
    "\n",
    "**使用建議**：\n",
    "1. 先自己嘗試解題\n",
    "2. 遇到困難再參考解答\n",
    "3. 理解解法後，自己重寫一次\n",
    "4. 思考是否有其他解法"
   ]
  },
  {
   "cell_type": "markdown",
   "metadata": {},
   "source": [
    "---\n",
    "\n",
    "## Part A: 課堂練習解答（03-practice.ipynb）\n",
    "\n",
    "### 練習 1：印出 1 到 20"
   ]
  },
  {
   "cell_type": "code",
   "execution_count": null,
   "metadata": {},
   "outputs": [],
   "source": [
    "for i in range(1, 21):\n",
    "    print(i)"
   ]
  },
  {
   "cell_type": "markdown",
   "metadata": {},
   "source": [
    "### 練習 2：倒數計時"
   ]
  },
  {
   "cell_type": "code",
   "execution_count": null,
   "metadata": {},
   "outputs": [],
   "source": [
    "for i in range(10, 0, -1):\n",
    "    print(i)\n",
    "print(\"發射！\")"
   ]
  },
  {
   "cell_type": "markdown",
   "metadata": {},
   "source": [
    "### 練習 3：印出所有偶數"
   ]
  },
  {
   "cell_type": "code",
   "execution_count": null,
   "metadata": {},
   "outputs": [],
   "source": [
    "# 方法 1：使用 step\n",
    "for i in range(0, 51, 2):\n",
    "    print(i, end=\" \")\n",
    "\n",
    "print()  # 換行\n",
    "\n",
    "# 方法 2：使用條件判斷\n",
    "for i in range(51):\n",
    "    if i % 2 == 0:\n",
    "        print(i, end=\" \")"
   ]
  },
  {
   "cell_type": "markdown",
   "metadata": {},
   "source": [
    "### 練習 4：while 迴圈基本練習"
   ]
  },
  {
   "cell_type": "code",
   "execution_count": null,
   "metadata": {},
   "outputs": [],
   "source": [
    "i = 1\n",
    "while i <= 10:\n",
    "    print(i)\n",
    "    i += 1"
   ]
  },
  {
   "cell_type": "markdown",
   "metadata": {},
   "source": [
    "### 練習 5：字串遍歷"
   ]
  },
  {
   "cell_type": "code",
   "execution_count": null,
   "metadata": {},
   "outputs": [],
   "source": [
    "text = \"Python\"\n",
    "for i in range(len(text)):\n",
    "    print(f\"索引 {i}: {text[i]}\")"
   ]
  },
  {
   "cell_type": "markdown",
   "metadata": {},
   "source": [
    "### 練習 6：計算總和"
   ]
  },
  {
   "cell_type": "code",
   "execution_count": null,
   "metadata": {},
   "outputs": [],
   "source": [
    "total = 0\n",
    "for i in range(1, 51):\n",
    "    total += i\n",
    "print(f\"1 到 50 的總和 = {total}\")"
   ]
  },
  {
   "cell_type": "markdown",
   "metadata": {},
   "source": [
    "### 練習 7：計算階乘"
   ]
  },
  {
   "cell_type": "code",
   "execution_count": null,
   "metadata": {},
   "outputs": [],
   "source": [
    "factorial = 1\n",
    "for i in range(1, 6):\n",
    "    factorial *= i\n",
    "print(f\"5! = {factorial}\")"
   ]
  },
  {
   "cell_type": "markdown",
   "metadata": {},
   "source": [
    "### 練習 8：找出第一個大於 100 的平方數"
   ]
  },
  {
   "cell_type": "code",
   "execution_count": null,
   "metadata": {},
   "outputs": [],
   "source": [
    "for i in range(1, 100):\n",
    "    square = i * i\n",
    "    if square > 100:\n",
    "        print(f\"第一個大於 100 的平方數：{i}² = {square}\")\n",
    "        break"
   ]
  },
  {
   "cell_type": "markdown",
   "metadata": {},
   "source": [
    "### 練習 9：跳過 3 的倍數"
   ]
  },
  {
   "cell_type": "code",
   "execution_count": null,
   "metadata": {},
   "outputs": [],
   "source": [
    "for i in range(1, 21):\n",
    "    if i % 3 == 0:\n",
    "        continue\n",
    "    print(i, end=\" \")"
   ]
  },
  {
   "cell_type": "markdown",
   "metadata": {},
   "source": [
    "### 練習 10：搜尋目標數字"
   ]
  },
  {
   "cell_type": "code",
   "execution_count": null,
   "metadata": {},
   "outputs": [],
   "source": [
    "numbers = [10, 25, 30, 45, 60, 75]\n",
    "target = 45\n",
    "\n",
    "for i in range(len(numbers)):\n",
    "    if numbers[i] == target:\n",
    "        print(f\"找到 {target}，索引為 {i}\")\n",
    "        break\n",
    "else:\n",
    "    print(\"未找到\")"
   ]
  },
  {
   "cell_type": "markdown",
   "metadata": {},
   "source": [
    "### 練習 11：計算偶數和與奇數和"
   ]
  },
  {
   "cell_type": "code",
   "execution_count": null,
   "metadata": {},
   "outputs": [],
   "source": [
    "even_sum = 0\n",
    "odd_sum = 0\n",
    "\n",
    "for i in range(1, 101):\n",
    "    if i % 2 == 0:\n",
    "        even_sum += i\n",
    "    else:\n",
    "        odd_sum += i\n",
    "\n",
    "print(f\"偶數總和：{even_sum}\")\n",
    "print(f\"奇數總和：{odd_sum}\")"
   ]
  },
  {
   "cell_type": "markdown",
   "metadata": {},
   "source": [
    "### 練習 12：判斷完全數"
   ]
  },
  {
   "cell_type": "code",
   "execution_count": null,
   "metadata": {},
   "outputs": [],
   "source": [
    "num = 28\n",
    "divisor_sum = 0\n",
    "\n",
    "for i in range(1, num):\n",
    "    if num % i == 0:\n",
    "        divisor_sum += i\n",
    "\n",
    "if divisor_sum == num:\n",
    "    print(f\"{num} 是完全數\")\n",
    "else:\n",
    "    print(f\"{num} 不是完全數\")"
   ]
  },
  {
   "cell_type": "markdown",
   "metadata": {},
   "source": [
    "### 練習 13：印出直角三角形"
   ]
  },
  {
   "cell_type": "code",
   "execution_count": null,
   "metadata": {},
   "outputs": [],
   "source": [
    "for i in range(1, 6):\n",
    "    for j in range(i):\n",
    "        print(\"*\", end=\"\")\n",
    "    print()"
   ]
  },
  {
   "cell_type": "markdown",
   "metadata": {},
   "source": [
    "### 練習 14：Fibonacci 數列"
   ]
  },
  {
   "cell_type": "code",
   "execution_count": null,
   "metadata": {},
   "outputs": [],
   "source": [
    "a, b = 0, 1\n",
    "print(a, end=\" \")\n",
    "\n",
    "for i in range(9):\n",
    "    print(b, end=\" \")\n",
    "    a, b = b, a + b"
   ]
  },
  {
   "cell_type": "markdown",
   "metadata": {},
   "source": [
    "### 練習 15：找出所有質數（1-50）"
   ]
  },
  {
   "cell_type": "code",
   "execution_count": null,
   "metadata": {},
   "outputs": [],
   "source": [
    "print(\"1 到 50 的質數：\")\n",
    "\n",
    "for num in range(2, 51):\n",
    "    is_prime = True\n",
    "    for i in range(2, num):\n",
    "        if num % i == 0:\n",
    "            is_prime = False\n",
    "            break\n",
    "    if is_prime:\n",
    "        print(num, end=\" \")"
   ]
  },
  {
   "cell_type": "markdown",
   "metadata": {},
   "source": [
    "---\n",
    "\n",
    "## Part B: 課後習題解答（04-exercises.ipynb）\n",
    "\n",
    "### 習題 1：印出 1 到 100"
   ]
  },
  {
   "cell_type": "code",
   "execution_count": null,
   "metadata": {},
   "outputs": [],
   "source": [
    "for i in range(1, 101):\n",
    "    print(i)"
   ]
  },
  {
   "cell_type": "markdown",
   "metadata": {},
   "source": [
    "### 習題 2：計算 1+2+3+...+100"
   ]
  },
  {
   "cell_type": "code",
   "execution_count": null,
   "metadata": {},
   "outputs": [],
   "source": [
    "total = 0\n",
    "for i in range(1, 101):\n",
    "    total += i\n",
    "print(f\"總和 = {total}\")"
   ]
  },
  {
   "cell_type": "markdown",
   "metadata": {},
   "source": [
    "### 習題 3：印出所有奇數（1-100）"
   ]
  },
  {
   "cell_type": "code",
   "execution_count": null,
   "metadata": {},
   "outputs": [],
   "source": [
    "for i in range(1, 101, 2):\n",
    "    print(i, end=\" \")"
   ]
  },
  {
   "cell_type": "markdown",
   "metadata": {},
   "source": [
    "### 習題 4：計算 10 的階乘"
   ]
  },
  {
   "cell_type": "code",
   "execution_count": null,
   "metadata": {},
   "outputs": [],
   "source": [
    "factorial = 1\n",
    "for i in range(1, 11):\n",
    "    factorial *= i\n",
    "print(f\"10! = {factorial}\")"
   ]
  },
  {
   "cell_type": "markdown",
   "metadata": {},
   "source": [
    "### 習題 5：判斷 97 是否為質數"
   ]
  },
  {
   "cell_type": "code",
   "execution_count": null,
   "metadata": {},
   "outputs": [],
   "source": [
    "num = 97\n",
    "is_prime = True\n",
    "\n",
    "for i in range(2, num):\n",
    "    if num % i == 0:\n",
    "        is_prime = False\n",
    "        break\n",
    "\n",
    "print(f\"{num} {'是' if is_prime else '不是'}質數\")"
   ]
  },
  {
   "cell_type": "markdown",
   "metadata": {},
   "source": [
    "### 習題 6：字串反轉"
   ]
  },
  {
   "cell_type": "code",
   "execution_count": null,
   "metadata": {},
   "outputs": [],
   "source": [
    "text = \"Python\"\n",
    "for i in range(len(text)-1, -1, -1):\n",
    "    print(text[i], end=\"\")"
   ]
  },
  {
   "cell_type": "markdown",
   "metadata": {},
   "source": [
    "### 習題 7：計算平均值"
   ]
  },
  {
   "cell_type": "code",
   "execution_count": null,
   "metadata": {},
   "outputs": [],
   "source": [
    "scores = [85, 90, 78, 92, 88]\n",
    "total = 0\n",
    "\n",
    "for score in scores:\n",
    "    total += score\n",
    "\n",
    "average = total / len(scores)\n",
    "print(f\"平均值 = {average}\")"
   ]
  },
  {
   "cell_type": "markdown",
   "metadata": {},
   "source": [
    "### 習題 8：找最大值"
   ]
  },
  {
   "cell_type": "code",
   "execution_count": null,
   "metadata": {},
   "outputs": [],
   "source": [
    "numbers = [23, 67, 12, 89, 45]\n",
    "max_num = numbers[0]\n",
    "\n",
    "for num in numbers:\n",
    "    if num > max_num:\n",
    "        max_num = num\n",
    "\n",
    "print(f\"最大值 = {max_num}\")"
   ]
  },
  {
   "cell_type": "markdown",
   "metadata": {},
   "source": [
    "### 習題 9：九九乘法表（3-6段）"
   ]
  },
  {
   "cell_type": "code",
   "execution_count": null,
   "metadata": {},
   "outputs": [],
   "source": [
    "for i in range(3, 7):\n",
    "    for j in range(1, 10):\n",
    "        print(f\"{i} x {j} = {i*j:2d}\", end=\"  \")\n",
    "    print()"
   ]
  },
  {
   "cell_type": "markdown",
   "metadata": {},
   "source": [
    "### 習題 10：等腰三角形"
   ]
  },
  {
   "cell_type": "code",
   "execution_count": null,
   "metadata": {},
   "outputs": [],
   "source": [
    "n = 5\n",
    "for i in range(1, n+1):\n",
    "    print(\" \" * (n-i) + \"*\" * (2*i-1))"
   ]
  },
  {
   "cell_type": "markdown",
   "metadata": {},
   "source": [
    "### 習題 11：Fibonacci 前 20 項"
   ]
  },
  {
   "cell_type": "code",
   "execution_count": null,
   "metadata": {},
   "outputs": [],
   "source": [
    "a, b = 0, 1\n",
    "print(a, b, end=\" \")\n",
    "\n",
    "for i in range(18):\n",
    "    a, b = b, a + b\n",
    "    print(b, end=\" \")"
   ]
  },
  {
   "cell_type": "markdown",
   "metadata": {},
   "source": [
    "### 習題 12：計算次方"
   ]
  },
  {
   "cell_type": "code",
   "execution_count": null,
   "metadata": {},
   "outputs": [],
   "source": [
    "result = 1\n",
    "for i in range(10):\n",
    "    result *= 2\n",
    "print(f\"2^10 = {result}\")"
   ]
  },
  {
   "cell_type": "markdown",
   "metadata": {},
   "source": [
    "### 習題 13：數字金字塔"
   ]
  },
  {
   "cell_type": "code",
   "execution_count": null,
   "metadata": {},
   "outputs": [],
   "source": [
    "for i in range(1, 6):\n",
    "    print(str(i) * i)"
   ]
  },
  {
   "cell_type": "markdown",
   "metadata": {},
   "source": [
    "### 習題 14：找出 100-200 之間的所有質數"
   ]
  },
  {
   "cell_type": "code",
   "execution_count": null,
   "metadata": {},
   "outputs": [],
   "source": [
    "import math\n",
    "\n",
    "for num in range(100, 201):\n",
    "    if num < 2:\n",
    "        continue\n",
    "    is_prime = True\n",
    "    for i in range(2, int(math.sqrt(num)) + 1):\n",
    "        if num % i == 0:\n",
    "            is_prime = False\n",
    "            break\n",
    "    if is_prime:\n",
    "        print(num, end=\" \")"
   ]
  },
  {
   "cell_type": "markdown",
   "metadata": {},
   "source": [
    "### 習題 15：完全平方數總和"
   ]
  },
  {
   "cell_type": "code",
   "execution_count": null,
   "metadata": {},
   "outputs": [],
   "source": [
    "total = 0\n",
    "for i in range(1, 11):\n",
    "    total += i * i\n",
    "print(f\"完全平方數總和 = {total}\")"
   ]
  },
  {
   "cell_type": "markdown",
   "metadata": {},
   "source": [
    "### 習題 16：最大公因數 (GCD)"
   ]
  },
  {
   "cell_type": "code",
   "execution_count": null,
   "metadata": {},
   "outputs": [],
   "source": [
    "a, b = 48, 18\n",
    "\n",
    "while b != 0:\n",
    "    a, b = b, a % b\n",
    "\n",
    "print(f\"GCD = {a}\")"
   ]
  },
  {
   "cell_type": "markdown",
   "metadata": {},
   "source": [
    "### 習題 17：數字拆解"
   ]
  },
  {
   "cell_type": "code",
   "execution_count": null,
   "metadata": {},
   "outputs": [],
   "source": [
    "num = 12345\n",
    "\n",
    "while num > 0:\n",
    "    digit = num % 10\n",
    "    print(digit)\n",
    "    num //= 10"
   ]
  },
  {
   "cell_type": "markdown",
   "metadata": {},
   "source": [
    "### 習題 18：Armstrong 數"
   ]
  },
  {
   "cell_type": "code",
   "execution_count": null,
   "metadata": {},
   "outputs": [],
   "source": [
    "num = 153\n",
    "temp = num\n",
    "total = 0\n",
    "\n",
    "while temp > 0:\n",
    "    digit = temp % 10\n",
    "    total += digit ** 3\n",
    "    temp //= 10\n",
    "\n",
    "if total == num:\n",
    "    print(f\"{num} 是 Armstrong 數\")\n",
    "else:\n",
    "    print(f\"{num} 不是 Armstrong 數\")"
   ]
  },
  {
   "cell_type": "markdown",
   "metadata": {},
   "source": [
    "### 習題 19：找出所有完全數（1-1000）"
   ]
  },
  {
   "cell_type": "code",
   "execution_count": null,
   "metadata": {},
   "outputs": [],
   "source": [
    "print(\"1-1000 的完全數：\")\n",
    "\n",
    "for num in range(1, 1001):\n",
    "    divisor_sum = 0\n",
    "    for i in range(1, num):\n",
    "        if num % i == 0:\n",
    "            divisor_sum += i\n",
    "    if divisor_sum == num:\n",
    "        print(num, end=\" \")"
   ]
  },
  {
   "cell_type": "markdown",
   "metadata": {},
   "source": [
    "### 習題 20：菱形圖案"
   ]
  },
  {
   "cell_type": "code",
   "execution_count": null,
   "metadata": {},
   "outputs": [],
   "source": [
    "n = 5\n",
    "\n",
    "# 上半部\n",
    "for i in range(1, n+1):\n",
    "    print(\" \" * (n-i) + \"*\" * (2*i-1))\n",
    "\n",
    "# 下半部\n",
    "for i in range(n-1, 0, -1):\n",
    "    print(\" \" * (n-i) + \"*\" * (2*i-1))"
   ]
  },
  {
   "cell_type": "markdown",
   "metadata": {},
   "source": [
    "---\n",
    "\n",
    "## 📝 學習回顧\n",
    "\n",
    "完成所有習題後，請確認您已掌握：\n",
    "\n",
    "### 核心技巧\n",
    "- ✅ for 迴圈與 range() 的靈活運用\n",
    "- ✅ while 迴圈的條件控制\n",
    "- ✅ break/continue 的適當使用\n",
    "- ✅ 累加器/累乘器模式\n",
    "- ✅ 旗標變數的應用\n",
    "- ✅ 巢狀迴圈的邏輯\n",
    "\n",
    "### 進階技巧\n",
    "- ✅ 數學優化（如 √n 檢查質數）\n",
    "- ✅ 多變數同時更新（Fibonacci）\n",
    "- ✅ 字串與數字處理結合\n",
    "- ✅ 圖案繪製的空格控制\n",
    "\n",
    "### 下一步\n",
    "完成 `quiz.ipynb` 自我測驗，檢驗學習成果！"
   ]
  }
 ],
 "metadata": {
  "kernelspec": {
   "display_name": "Python 3",
   "language": "python",
   "name": "python3"
  },
  "language_info": {
   "codemirror_mode": {
    "name": "ipython",
    "version": 3
   },
   "file_extension": ".py",
   "mimetype": "text/x-python",
   "name": "python",
   "nbconvert_exporter": "python",
   "pygments_lexer": "ipython3",
   "version": "3.8.0"
  }
 },
 "nbformat": 4,
 "nbformat_minor": 4
}
