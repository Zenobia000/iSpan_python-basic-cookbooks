{
 "cells": [
  {
   "cell_type": "markdown",
   "metadata": {},
   "source": "# Chapter 5: 迴圈控制 | Loops\n## 04 - 課後習題 | Exercises\n\n本檔案包含 **20 題課後習題**，涵蓋本章所有核心概念。\n\n**難度分布**：\n- 基礎題（1-8 題）\n- 中階題（9-16 題）\n- 挑戰題（17-20 題）\n\n**預計時間**：90 分鐘"
  },
  {
   "cell_type": "markdown",
   "metadata": {},
   "source": "## 習題 1：印出 1 到 100"
  },
  {
   "cell_type": "code",
   "execution_count": null,
   "metadata": {},
   "outputs": [],
   "source": "# 請撰寫程式碼\n"
  },
  {
   "cell_type": "markdown",
   "metadata": {},
   "source": "## 習題 2：計算 1+2+3+...+100"
  },
  {
   "cell_type": "code",
   "execution_count": null,
   "metadata": {},
   "outputs": [],
   "source": "# 請撰寫程式碼\n"
  },
  {
   "cell_type": "markdown",
   "metadata": {},
   "source": "## 習題 3：印出所有奇數（1-100）"
  },
  {
   "cell_type": "code",
   "execution_count": null,
   "metadata": {},
   "outputs": [],
   "source": "# 請撰寫程式碼\n"
  },
  {
   "cell_type": "markdown",
   "metadata": {},
   "source": "## 習題 4：計算 10 的階乘"
  },
  {
   "cell_type": "code",
   "execution_count": null,
   "metadata": {},
   "outputs": [],
   "source": "# 請撰寫程式碼\n"
  },
  {
   "cell_type": "markdown",
   "metadata": {},
   "source": "## 習題 5：判斷 97 是否為質數"
  },
  {
   "cell_type": "code",
   "execution_count": null,
   "metadata": {},
   "outputs": [],
   "source": "# 請撰寫程式碼\n"
  },
  {
   "cell_type": "markdown",
   "metadata": {},
   "source": "## 習題 6：字串反轉（使用迴圈）\n將字串 \"Python\" 反轉印出"
  },
  {
   "cell_type": "code",
   "execution_count": null,
   "metadata": {},
   "outputs": [],
   "source": "# 請撰寫程式碼\n"
  },
  {
   "cell_type": "markdown",
   "metadata": {},
   "source": "## 習題 7：計算平均值\n計算列表 [85, 90, 78, 92, 88] 的平均值"
  },
  {
   "cell_type": "code",
   "execution_count": null,
   "metadata": {},
   "outputs": [],
   "source": "# 請撰寫程式碼\n"
  },
  {
   "cell_type": "markdown",
   "metadata": {},
   "source": "## 習題 8：找最大值\n找出列表 [23, 67, 12, 89, 45] 的最大值（不使用 max()）"
  },
  {
   "cell_type": "code",
   "execution_count": null,
   "metadata": {},
   "outputs": [],
   "source": "# 請撰寫程式碼\n"
  },
  {
   "cell_type": "markdown",
   "metadata": {},
   "source": "## 習題 9：九九乘法表（3-6段）\n印出 3, 4, 5, 6 的乘法表"
  },
  {
   "cell_type": "code",
   "execution_count": null,
   "metadata": {},
   "outputs": [],
   "source": "# 請撰寫程式碼\n"
  },
  {
   "cell_type": "markdown",
   "metadata": {},
   "source": "## 習題 10：印出等腰三角形\n"
  },
  {
   "cell_type": "code",
   "execution_count": null,
   "metadata": {},
   "outputs": [],
   "source": "# 請撰寫程式碼\n"
  },
  {
   "cell_type": "markdown",
   "metadata": {},
   "source": "## 習題 11：Fibonacci 前 20 項"
  },
  {
   "cell_type": "code",
   "execution_count": null,
   "metadata": {},
   "outputs": [],
   "source": "# 請撰寫程式碼\n"
  },
  {
   "cell_type": "markdown",
   "metadata": {},
   "source": "## 習題 12：計算次方（不用 **）\n計算 2^10（使用迴圈累乘）"
  },
  {
   "cell_type": "code",
   "execution_count": null,
   "metadata": {},
   "outputs": [],
   "source": "# 請撰寫程式碼\n"
  },
  {
   "cell_type": "markdown",
   "metadata": {},
   "source": "## 習題 13：數字金字塔\n"
  },
  {
   "cell_type": "code",
   "execution_count": null,
   "metadata": {},
   "outputs": [],
   "source": "# 請撰寫程式碼\n"
  },
  {
   "cell_type": "markdown",
   "metadata": {},
   "source": "## 習題 14：找出 100-200 之間的所有質數"
  },
  {
   "cell_type": "code",
   "execution_count": null,
   "metadata": {},
   "outputs": [],
   "source": "# 請撰寫程式碼\n"
  },
  {
   "cell_type": "markdown",
   "metadata": {},
   "source": "## 習題 15：計算完全平方數總和\n計算 1 到 100 之間所有完全平方數的總和"
  },
  {
   "cell_type": "code",
   "execution_count": null,
   "metadata": {},
   "outputs": [],
   "source": "# 請撰寫程式碼\n"
  },
  {
   "cell_type": "markdown",
   "metadata": {},
   "source": "## 習題 16：找出最大公因數 (GCD)\n找出 48 和 18 的最大公因數（使用輾轉相除法）"
  },
  {
   "cell_type": "code",
   "execution_count": null,
   "metadata": {},
   "outputs": [],
   "source": "# 請撰寫程式碼\n"
  },
  {
   "cell_type": "markdown",
   "metadata": {},
   "source": "## 習題 17：數字拆解\n將數字 12345 的每個位數分別印出"
  },
  {
   "cell_type": "code",
   "execution_count": null,
   "metadata": {},
   "outputs": [],
   "source": "# 請撰寫程式碼\n"
  },
  {
   "cell_type": "markdown",
   "metadata": {},
   "source": "## 習題 18：Armstrong 數\n判斷 153 是否為 Armstrong 數（153 = 1³ + 5³ + 3³）"
  },
  {
   "cell_type": "code",
   "execution_count": null,
   "metadata": {},
   "outputs": [],
   "source": "# 請撰寫程式碼\n"
  },
  {
   "cell_type": "markdown",
   "metadata": {},
   "source": "## 習題 19：找出所有完全數（1-1000）\n完全數 = 所有真因數的和"
  },
  {
   "cell_type": "code",
   "execution_count": null,
   "metadata": {},
   "outputs": [],
   "source": "# 請撰寫程式碼\n"
  },
  {
   "cell_type": "markdown",
   "metadata": {},
   "source": "## 習題 20：菱形圖案\n印出高度為 5 的菱形"
  },
  {
   "cell_type": "code",
   "execution_count": null,
   "metadata": {},
   "outputs": [],
   "source": "# 請撰寫程式碼\n"
  }
 ],
 "metadata": {
  "kernelspec": {
   "display_name": "Python 3",
   "language": "python",
   "name": "python3"
  }
 },
 "nbformat": 4,
 "nbformat_minor": 4
}