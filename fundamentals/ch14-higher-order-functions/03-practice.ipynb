{
 "cells": [
  {
   "cell_type": "markdown",
   "metadata": {},
   "source": [
    "# Ch14: Higher-Order Functions (高階函式) - 課堂練習\n",
    "\n",
    "**學習目標**：\n",
    "- 練習 lambda 表達式的撰寫\n",
    "- 熟悉 map/filter/reduce 的應用\n",
    "- 掌握 sorted 的 key 參數使用\n",
    "- 實作簡單的裝飾器\n",
    "- 理解函式組合的概念\n",
    "\n",
    "**練習時間**: 60-90 分鐘  \n",
    "**建議作法**: 先自己嘗試，遇到困難再參考提示"
   ]
  },
  {
   "cell_type": "markdown",
   "metadata": {},
   "source": [
    "---\n",
    "\n",
    "## Part I: Lambda 基礎 (3 題)\n",
    "\n",
    "### 練習 1: 將 def 函式改寫為 lambda\n",
    "\n",
    "**題目**：將以下三個函式改寫為 lambda 表達式\n",
    "\n",
    "```python\n",
    "def add(x, y):\n",
    "    return x + y\n",
    "\n",
    "def square(x):\n",
    "    return x ** 2\n",
    "\n",
    "def is_even(x):\n",
    "    return x % 2 == 0\n",
    "```\n",
    "\n",
    "**要求**：\n",
    "- 使用 lambda 改寫\n",
    "- 測試每個 lambda 函式的正確性"
   ]
  },
  {
   "cell_type": "code",
   "execution_count": null,
   "metadata": {},
   "outputs": [],
   "source": [
    "# TODO: 改寫為 lambda\n",
    "add = lambda x, y: x + y\n",
    "square = lambda x: x ** 2\n",
    "is_even = lambda x: x % 2 == 0\n",
    "\n",
    "# 測試\n",
    "print(f\"add(3, 5) = {add(3, 5)}\")\n",
    "print(f\"square(4) = {square(4)}\")\n",
    "print(f\"is_even(7) = {is_even(7)}\")\n",
    "print(f\"is_even(8) = {is_even(8)}\")"
   ]
  },
  {
   "cell_type": "markdown",
   "metadata": {},
   "source": [
    "### 練習 2: 使用 lambda 計算兩數之和/差/積\n",
    "\n",
    "**題目**：建立一個字典，包含四則運算的 lambda 函式\n",
    "\n",
    "**要求**：\n",
    "- 字典的 key 為運算名稱：'add', 'subtract', 'multiply', 'divide'\n",
    "- 字典的 value 為對應的 lambda 函式\n",
    "- 測試每個運算"
   ]
  },
  {
   "cell_type": "code",
   "execution_count": null,
   "metadata": {},
   "outputs": [],
   "source": [
    "# TODO: 建立運算字典\n",
    "operations = {\n",
    "    'add': lambda x, y: x + y,\n",
    "    'subtract': lambda x, y: x - y,\n",
    "    'multiply': lambda x, y: x * y,\n",
    "    'divide': lambda x, y: x / y if y != 0 else None\n",
    "}\n",
    "\n",
    "# 測試\n",
    "a, b = 10, 3\n",
    "for op_name, op_func in operations.items():\n",
    "    result = op_func(a, b)\n",
    "    print(f\"{op_name}({a}, {b}) = {result}\")"
   ]
  },
  {
   "cell_type": "markdown",
   "metadata": {},
   "source": [
    "### 練習 3: Lambda 條件判斷（三元運算）\n",
    "\n",
    "**題目**：使用 lambda 和三元運算子完成以下功能\n",
    "\n",
    "**要求**：\n",
    "1. `grade_to_pass`: 輸入分數，回傳 'Pass' 或 'Fail' (60 分及格)\n",
    "2. `abs_value`: 計算絕對值\n",
    "3. `max_of_two`: 回傳兩數中的較大值"
   ]
  },
  {
   "cell_type": "code",
   "execution_count": null,
   "metadata": {},
   "outputs": [],
   "source": [
    "# TODO: 使用 lambda 和三元運算\n",
    "grade_to_pass = lambda score: 'Pass' if score >= 60 else 'Fail'\n",
    "abs_value = lambda x: x if x >= 0 else -x\n",
    "max_of_two = lambda x, y: x if x > y else y\n",
    "\n",
    "# 測試\n",
    "print(f\"grade_to_pass(75) = {grade_to_pass(75)}\")\n",
    "print(f\"grade_to_pass(45) = {grade_to_pass(45)}\")\n",
    "print(f\"abs_value(-5) = {abs_value(-5)}\")\n",
    "print(f\"max_of_two(10, 20) = {max_of_two(10, 20)}\")"
   ]
  },
  {
   "cell_type": "markdown",
   "metadata": {},
   "source": [
    "---\n",
    "\n",
    "## Part II: map/filter 應用 (3 題)\n",
    "\n",
    "### 練習 4: 使用 map 將列表元素平方\n",
    "\n",
    "**題目**：給定數字列表，使用 map 計算每個數字的平方\n",
    "\n",
    "**要求**：\n",
    "- 使用 map + lambda\n",
    "- 將結果轉換為列表"
   ]
  },
  {
   "cell_type": "code",
   "execution_count": null,
   "metadata": {},
   "outputs": [],
   "source": [
    "# TODO: 使用 map 計算平方\n",
    "numbers = [1, 2, 3, 4, 5, 6, 7, 8, 9, 10]\n",
    "\n",
    "squared = list(map(lambda x: x ** 2, numbers))\n",
    "\n",
    "print(f\"原始列表: {numbers}\")\n",
    "print(f\"平方結果: {squared}\")"
   ]
  },
  {
   "cell_type": "markdown",
   "metadata": {},
   "source": [
    "### 練習 5: 使用 filter 過濾偶數\n",
    "\n",
    "**題目**：給定數字列表，使用 filter 過濾出所有偶數\n",
    "\n",
    "**要求**：\n",
    "- 使用 filter + lambda\n",
    "- 將結果轉換為列表"
   ]
  },
  {
   "cell_type": "code",
   "execution_count": null,
   "metadata": {},
   "outputs": [],
   "source": [
    "# TODO: 使用 filter 過濾偶數\n",
    "numbers = [1, 2, 3, 4, 5, 6, 7, 8, 9, 10]\n",
    "\n",
    "evens = list(filter(lambda x: x % 2 == 0, numbers))\n",
    "\n",
    "print(f\"原始列表: {numbers}\")\n",
    "print(f\"偶數列表: {evens}\")"
   ]
  },
  {
   "cell_type": "markdown",
   "metadata": {},
   "source": [
    "### 練習 6: 組合 map + filter 處理資料\n",
    "\n",
    "**題目**：給定數字列表，先過濾出偶數，再計算平方\n",
    "\n",
    "**要求**：\n",
    "- 先使用 filter 過濾偶數\n",
    "- 再使用 map 計算平方\n",
    "- 可以使用管道式寫法"
   ]
  },
  {
   "cell_type": "code",
   "execution_count": null,
   "metadata": {},
   "outputs": [],
   "source": [
    "# TODO: 組合 filter + map\n",
    "numbers = [1, 2, 3, 4, 5, 6, 7, 8, 9, 10]\n",
    "\n",
    "# 方法一：分步驟\n",
    "evens = filter(lambda x: x % 2 == 0, numbers)\n",
    "squared_evens = list(map(lambda x: x ** 2, evens))\n",
    "\n",
    "print(f\"原始列表: {numbers}\")\n",
    "print(f\"偶數平方: {squared_evens}\")\n",
    "\n",
    "# 方法二：管道式\n",
    "result = list(map(lambda x: x ** 2, filter(lambda x: x % 2 == 0, numbers)))\n",
    "print(f\"管道式結果: {result}\")"
   ]
  },
  {
   "cell_type": "markdown",
   "metadata": {},
   "source": [
    "---\n",
    "\n",
    "## Part III: sorted 排序 (2 題)\n",
    "\n",
    "### 練習 7: 按字串長度排序\n",
    "\n",
    "**題目**：給定字串列表，按照字串長度排序（由短到長）\n",
    "\n",
    "**要求**：\n",
    "- 使用 sorted 和 key 參數\n",
    "- 使用 lambda 作為 key"
   ]
  },
  {
   "cell_type": "code",
   "execution_count": null,
   "metadata": {},
   "outputs": [],
   "source": [
    "# TODO: 按字串長度排序\n",
    "words = ['Python', 'is', 'awesome', 'programming', 'language', 'fun']\n",
    "\n",
    "sorted_words = sorted(words, key=lambda x: len(x))\n",
    "\n",
    "print(f\"原始列表: {words}\")\n",
    "print(f\"按長度排序: {sorted_words}\")\n",
    "\n",
    "# 由長到短\n",
    "sorted_desc = sorted(words, key=lambda x: len(x), reverse=True)\n",
    "print(f\"由長到短: {sorted_desc}\")"
   ]
  },
  {
   "cell_type": "markdown",
   "metadata": {},
   "source": [
    "### 練習 8: 按字典 value 排序\n",
    "\n",
    "**題目**：給定學生成績字典，按照分數排序（由高到低）\n",
    "\n",
    "**要求**：\n",
    "- 使用 sorted 和 key 參數\n",
    "- 排序 items()，按照 value 排序\n",
    "- 回傳排序後的 (name, score) 列表"
   ]
  },
  {
   "cell_type": "code",
   "execution_count": null,
   "metadata": {},
   "outputs": [],
   "source": [
    "# TODO: 按字典 value 排序\n",
    "scores = {\n",
    "    'Alice': 85,\n",
    "    'Bob': 92,\n",
    "    'Charlie': 78,\n",
    "    'David': 95,\n",
    "    'Eve': 88\n",
    "}\n",
    "\n",
    "sorted_scores = sorted(scores.items(), key=lambda item: item[1], reverse=True)\n",
    "\n",
    "print(\"成績排名（由高到低）：\")\n",
    "for rank, (name, score) in enumerate(sorted_scores, 1):\n",
    "    print(f\"{rank}. {name}: {score}\")"
   ]
  },
  {
   "cell_type": "markdown",
   "metadata": {},
   "source": [
    "---\n",
    "\n",
    "## Part IV: 裝飾器基礎 (2 題)\n",
    "\n",
    "### 練習 9: 實作計時裝飾器\n",
    "\n",
    "**題目**：實作一個計時裝飾器，測量函式執行時間\n",
    "\n",
    "**要求**：\n",
    "- 使用 time.time() 計算執行時間\n",
    "- 顯示函式名稱和執行時間\n",
    "- 測試裝飾一個簡單函式"
   ]
  },
  {
   "cell_type": "code",
   "execution_count": null,
   "metadata": {},
   "outputs": [],
   "source": [
    "import time\n",
    "\n",
    "# TODO: 實作計時裝飾器\n",
    "def timer(func):\n",
    "    \"\"\"計時裝飾器\"\"\"\n",
    "    def wrapper(*args, **kwargs):\n",
    "        start_time = time.time()\n",
    "        result = func(*args, **kwargs)\n",
    "        end_time = time.time()\n",
    "        elapsed = end_time - start_time\n",
    "        print(f\"[計時] {func.__name__} 執行時間: {elapsed:.4f} 秒\")\n",
    "        return result\n",
    "    return wrapper\n",
    "\n",
    "# 測試\n",
    "@timer\n",
    "def slow_function():\n",
    "    \"\"\"模擬耗時操作\"\"\"\n",
    "    time.sleep(0.5)\n",
    "    return \"完成\"\n",
    "\n",
    "result = slow_function()\n",
    "print(f\"結果: {result}\")"
   ]
  },
  {
   "cell_type": "markdown",
   "metadata": {},
   "source": [
    "### 練習 10: 實作日誌裝飾器\n",
    "\n",
    "**題目**：實作一個日誌裝飾器，記錄函式的呼叫資訊\n",
    "\n",
    "**要求**：\n",
    "- 顯示函式名稱\n",
    "- 顯示傳入的參數\n",
    "- 顯示回傳值\n",
    "- 測試裝飾一個計算函式"
   ]
  },
  {
   "cell_type": "code",
   "execution_count": null,
   "metadata": {},
   "outputs": [],
   "source": [
    "# TODO: 實作日誌裝飾器\n",
    "def logger(func):\n",
    "    \"\"\"日誌裝飾器\"\"\"\n",
    "    def wrapper(*args, **kwargs):\n",
    "        print(f\"[日誌] 呼叫函式: {func.__name__}\")\n",
    "        print(f\"[日誌] 參數: args={args}, kwargs={kwargs}\")\n",
    "        result = func(*args, **kwargs)\n",
    "        print(f\"[日誌] 回傳值: {result}\")\n",
    "        return result\n",
    "    return wrapper\n",
    "\n",
    "# 測試\n",
    "@logger\n",
    "def add(a, b):\n",
    "    \"\"\"計算兩數之和\"\"\"\n",
    "    return a + b\n",
    "\n",
    "@logger\n",
    "def greet(name, greeting=\"Hello\"):\n",
    "    \"\"\"問候函式\"\"\"\n",
    "    return f\"{greeting}, {name}!\"\n",
    "\n",
    "# 測試\n",
    "result1 = add(3, 5)\n",
    "print()\n",
    "result2 = greet(\"Alice\", greeting=\"Hi\")\n",
    "print()\n",
    "result3 = greet(\"Bob\")"
   ]
  },
  {
   "cell_type": "markdown",
   "metadata": {},
   "source": [
    "---\n",
    "\n",
    "## Part V: 函式組合 (2 題)\n",
    "\n",
    "### 練習 11: 組合兩個函式\n",
    "\n",
    "**題目**：實作 `compose` 函式，將兩個函式組合成一個\n",
    "\n",
    "**要求**：\n",
    "- `compose(f, g)(x)` 等同於 `f(g(x))`\n",
    "- 測試組合數學函式"
   ]
  },
  {
   "cell_type": "code",
   "execution_count": null,
   "metadata": {},
   "outputs": [],
   "source": [
    "# TODO: 實作 compose 函式\n",
    "def compose(f, g):\n",
    "    \"\"\"組合兩個函式\"\"\"\n",
    "    return lambda x: f(g(x))\n",
    "\n",
    "# 測試\n",
    "def double(x):\n",
    "    return x * 2\n",
    "\n",
    "def add_one(x):\n",
    "    return x + 1\n",
    "\n",
    "def square(x):\n",
    "    return x ** 2\n",
    "\n",
    "# 組合函式\n",
    "double_then_add_one = compose(add_one, double)  # (x * 2) + 1\n",
    "square_then_double = compose(double, square)    # (x ** 2) * 2\n",
    "\n",
    "print(f\"double_then_add_one(5) = {double_then_add_one(5)}\")  # (5*2)+1 = 11\n",
    "print(f\"square_then_double(5) = {square_then_double(5)}\")    # (5**2)*2 = 50"
   ]
  },
  {
   "cell_type": "markdown",
   "metadata": {},
   "source": [
    "### 練習 12: 使用 partial 固定參數\n",
    "\n",
    "**題目**：使用 `functools.partial` 創建特定版本的函式\n",
    "\n",
    "**要求**：\n",
    "1. 創建一個 `multiply` 函式\n",
    "2. 使用 partial 創建 `double` (乘以 2)\n",
    "3. 使用 partial 創建 `triple` (乘以 3)\n",
    "4. 測試這些函式"
   ]
  },
  {
   "cell_type": "code",
   "execution_count": null,
   "metadata": {},
   "outputs": [],
   "source": [
    "from functools import partial\n",
    "\n",
    "# TODO: 使用 partial 固定參數\n",
    "def multiply(x, y):\n",
    "    \"\"\"計算 x * y\"\"\"\n",
    "    return x * y\n",
    "\n",
    "# 使用 partial 創建特定函式\n",
    "double = partial(multiply, y=2)\n",
    "triple = partial(multiply, y=3)\n",
    "\n",
    "# 測試\n",
    "print(f\"multiply(5, 4) = {multiply(5, 4)}\")\n",
    "print(f\"double(5) = {double(5)}\")\n",
    "print(f\"triple(5) = {triple(5)}\")\n",
    "\n",
    "# 另一個例子：固定 power 的指數\n",
    "def power(base, exponent):\n",
    "    return base ** exponent\n",
    "\n",
    "square_func = partial(power, exponent=2)\n",
    "cube_func = partial(power, exponent=3)\n",
    "\n",
    "print(f\"\\nsquare_func(4) = {square_func(4)}\")\n",
    "print(f\"cube_func(4) = {cube_func(4)}\")"
   ]
  },
  {
   "cell_type": "markdown",
   "metadata": {},
   "source": [
    "---\n",
    "\n",
    "## 總結\n",
    "\n",
    "### 本次練習涵蓋\n",
    "\n",
    "1. **Lambda 表達式**：\n",
    "   - 基本語法和撰寫\n",
    "   - 三元運算子的使用\n",
    "   - 作為字典 value 的應用\n",
    "\n",
    "2. **map/filter**：\n",
    "   - 基本使用方式\n",
    "   - 組合使用的技巧\n",
    "   - 管道式寫法\n",
    "\n",
    "3. **sorted 排序**：\n",
    "   - key 參數的使用\n",
    "   - 自訂排序規則\n",
    "   - 字典排序技巧\n",
    "\n",
    "4. **裝飾器**：\n",
    "   - 基本裝飾器結構\n",
    "   - 計時功能實作\n",
    "   - 日誌功能實作\n",
    "\n",
    "5. **函式組合**：\n",
    "   - compose 函式的實作\n",
    "   - partial 的應用\n",
    "   - 創建特定版本的函式\n",
    "\n",
    "### 下一步\n",
    "\n",
    "- 完成 `04-exercises.ipynb` 的課後習題\n",
    "- 嘗試更複雜的裝飾器（帶參數的裝飾器）\n",
    "- 探索 `reduce` 的進階應用\n",
    "- 學習函式式編程的更多模式"
   ]
  }
 ],
 "metadata": {
  "kernelspec": {
   "display_name": "Python 3",
   "language": "python",
   "name": "python3"
  },
  "language_info": {
   "codemirror_mode": {
    "name": "ipython",
    "version": 3
   },
   "file_extension": ".py",
   "mimetype": "text/x-python",
   "name": "python",
   "nbconvert_exporter": "python",
   "pygments_lexer": "ipython3",
   "version": "3.8.0"
  }
 },
 "nbformat": 4,
 "nbformat_minor": 4
}
