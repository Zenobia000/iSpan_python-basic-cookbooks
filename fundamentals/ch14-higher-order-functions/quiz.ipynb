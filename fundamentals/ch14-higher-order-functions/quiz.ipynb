{
 "cells": [
  {
   "cell_type": "markdown",
   "metadata": {},
   "source": [
    "# Ch14: Higher-Order Functions (高階函式) - 自我測驗\n",
    "\n",
    "**測驗說明**：\n",
    "- 共 25 題，總分 35 分\n",
    "- Part I：選擇題 15 題（每題 1 分）\n",
    "- Part II：程式碼輸出題 5 題（每題 2 分）\n",
    "- Part III：程式碼填空題 5 題（每題 2 分）\n",
    "- 及格分數：26 分（75%）\n",
    "\n",
    "**建議時間**：45 分鐘\n",
    "\n",
    "**作答方式**：\n",
    "- 在程式碼區塊中填入答案\n",
    "- 完成後可執行檢查答案"
   ]
  },
  {
   "cell_type": "markdown",
   "metadata": {},
   "source": [
    "---\n",
    "\n",
    "## Part I: 選擇題 (15 題，每題 1 分)\n",
    "\n",
    "**作答說明**：將答案填入 `answers_part1` 字典中"
   ]
  },
  {
   "cell_type": "markdown",
   "metadata": {},
   "source": [
    "### Q1. Lambda 表達式的特性\n",
    "\n",
    "以下關於 lambda 表達式的敘述，何者**錯誤**？\n",
    "\n",
    "A. lambda 只能包含一個表達式  \n",
    "B. lambda 可以有多個參數  \n",
    "C. lambda 可以包含多行程式碼  \n",
    "D. lambda 會自動回傳表達式的值"
   ]
  },
  {
   "cell_type": "markdown",
   "metadata": {},
   "source": [
    "### Q2. map() 函式的回傳值\n",
    "\n",
    "`map()` 函式回傳什麼型態？\n",
    "\n",
    "A. list  \n",
    "B. tuple  \n",
    "C. map 物件（迭代器）  \n",
    "D. generator"
   ]
  },
  {
   "cell_type": "markdown",
   "metadata": {},
   "source": [
    "### Q3. filter() 的功能\n",
    "\n",
    "`filter(lambda x: x > 5, [1, 6, 3, 8, 2])` 的結果是什麼？\n",
    "\n",
    "A. [1, 3, 2]  \n",
    "B. [6, 8]  \n",
    "C. [True, True, False, True, False]  \n",
    "D. filter 物件"
   ]
  },
  {
   "cell_type": "markdown",
   "metadata": {},
   "source": [
    "### Q4. reduce() 的匯入來源\n",
    "\n",
    "`reduce()` 函式應從哪個模組匯入？\n",
    "\n",
    "A. builtins  \n",
    "B. functools  \n",
    "C. itertools  \n",
    "D. operator"
   ]
  },
  {
   "cell_type": "markdown",
   "metadata": {},
   "source": [
    "### Q5. sorted() 的 key 參數\n",
    "\n",
    "以下哪個用法**錯誤**？\n",
    "\n",
    "A. `sorted(words, key=len)`  \n",
    "B. `sorted(words, key=lambda x: len(x))`  \n",
    "C. `sorted(words, key=str.lower)`  \n",
    "D. `sorted(words, key=len())`"
   ]
  },
  {
   "cell_type": "markdown",
   "metadata": {},
   "source": [
    "### Q6. 裝飾器的本質\n",
    "\n",
    "裝飾器本質上是一個什麼？\n",
    "\n",
    "A. 接受函式並回傳函式的函式  \n",
    "B. 類別  \n",
    "C. 變數  \n",
    "D. 模組"
   ]
  },
  {
   "cell_type": "markdown",
   "metadata": {},
   "source": [
    "### Q7. 裝飾器語法\n",
    "\n",
    "以下兩種寫法是否等價？\n",
    "\n",
    "```python\n",
    "# 寫法一\n",
    "@decorator\n",
    "def func():\n",
    "    pass\n",
    "\n",
    "# 寫法二\n",
    "def func():\n",
    "    pass\n",
    "func = decorator(func)\n",
    "```\n",
    "\n",
    "A. 是，完全等價  \n",
    "B. 否，功能不同  \n",
    "C. 否，只有語法糖不同  \n",
    "D. 部分等價"
   ]
  },
  {
   "cell_type": "markdown",
   "metadata": {},
   "source": [
    "### Q8. functools.wraps 的用途\n",
    "\n",
    "`functools.wraps` 的主要功能是什麼？\n",
    "\n",
    "A. 執行函式  \n",
    "B. 保留原函式的元數據  \n",
    "C. 加速函式執行  \n",
    "D. 檢查函式參數"
   ]
  },
  {
   "cell_type": "markdown",
   "metadata": {},
   "source": [
    "### Q9. partial 的功能\n",
    "\n",
    "`functools.partial` 的作用是什麼？\n",
    "\n",
    "A. 完全執行函式  \n",
    "B. 固定函式的部分參數  \n",
    "C. 複製函式  \n",
    "D. 刪除函式"
   ]
  },
  {
   "cell_type": "markdown",
   "metadata": {},
   "source": [
    "### Q10. 閉包（Closure）\n",
    "\n",
    "閉包是指內部函式可以記住什麼？\n",
    "\n",
    "A. 全域變數  \n",
    "B. 外部函式的區域變數  \n",
    "C. 類別屬性  \n",
    "D. 模組常數"
   ]
  },
  {
   "cell_type": "markdown",
   "metadata": {},
   "source": [
    "### Q11. 高階函式的定義\n",
    "\n",
    "以下何者**不是**高階函式的特徵？\n",
    "\n",
    "A. 接受函式作為參數  \n",
    "B. 回傳函式  \n",
    "C. 使用迴圈  \n",
    "D. 操作其他函式"
   ]
  },
  {
   "cell_type": "markdown",
   "metadata": {},
   "source": [
    "### Q12. map vs. 列表推導式\n",
    "\n",
    "以下兩種寫法的主要差異是什麼？\n",
    "\n",
    "```python\n",
    "# 方法一\n",
    "result = list(map(lambda x: x**2, numbers))\n",
    "\n",
    "# 方法二\n",
    "result = [x**2 for x in numbers]\n",
    "```\n",
    "\n",
    "A. 完全相同  \n",
    "B. 方法二更 Pythonic  \n",
    "C. 方法一執行速度更快  \n",
    "D. 方法一記憶體使用更少"
   ]
  },
  {
   "cell_type": "markdown",
   "metadata": {},
   "source": [
    "### Q13. 裝飾器執行時機\n",
    "\n",
    "裝飾器在什麼時候執行？\n",
    "\n",
    "A. 函式被呼叫時  \n",
    "B. 函式被定義時  \n",
    "C. 程式結束時  \n",
    "D. 匯入模組時"
   ]
  },
  {
   "cell_type": "markdown",
   "metadata": {},
   "source": [
    "### Q14. reduce() 的行為\n",
    "\n",
    "`reduce(lambda x, y: x + y, [1, 2, 3, 4])` 的計算順序是？\n",
    "\n",
    "A. ((1 + 2) + 3) + 4  \n",
    "B. 1 + (2 + (3 + 4))  \n",
    "C. (1 + 2) 和 (3 + 4) 並行計算  \n",
    "D. 隨機順序"
   ]
  },
  {
   "cell_type": "markdown",
   "metadata": {},
   "source": [
    "### Q15. Lambda 的限制\n",
    "\n",
    "Lambda 表達式無法做到以下哪一項？\n",
    "\n",
    "A. 使用三元運算子  \n",
    "B. 使用多個參數  \n",
    "C. 包含 return 語句  \n",
    "D. 呼叫其他函式"
   ]
  },
  {
   "cell_type": "code",
   "execution_count": null,
   "metadata": {},
   "outputs": [],
   "source": [
    "# 在此填入 Part I 的答案（A, B, C, 或 D）\n",
    "answers_part1 = {\n",
    "    1: '',   # Q1 答案\n",
    "    2: '',   # Q2 答案\n",
    "    3: '',   # Q3 答案\n",
    "    4: '',   # Q4 答案\n",
    "    5: '',   # Q5 答案\n",
    "    6: '',   # Q6 答案\n",
    "    7: '',   # Q7 答案\n",
    "    8: '',   # Q8 答案\n",
    "    9: '',   # Q9 答案\n",
    "    10: '',  # Q10 答案\n",
    "    11: '',  # Q11 答案\n",
    "    12: '',  # Q12 答案\n",
    "    13: '',  # Q13 答案\n",
    "    14: '',  # Q14 答案\n",
    "    15: '',  # Q15 答案\n",
    "}"
   ]
  },
  {
   "cell_type": "markdown",
   "metadata": {},
   "source": [
    "---\n",
    "\n",
    "## Part II: 程式碼輸出題 (5 題，每題 2 分)\n",
    "\n",
    "**作答說明**：預測程式碼的輸出，將答案填入 `answers_part2` 字典中"
   ]
  },
  {
   "cell_type": "markdown",
   "metadata": {},
   "source": [
    "### Q16. Lambda 和 map\n",
    "\n",
    "```python\n",
    "nums = [1, 2, 3, 4, 5]\n",
    "result = list(map(lambda x: x * 2 if x % 2 == 0 else x, nums))\n",
    "print(result)\n",
    "```\n",
    "\n",
    "輸出是什麼？"
   ]
  },
  {
   "cell_type": "markdown",
   "metadata": {},
   "source": [
    "### Q17. Filter 組合\n",
    "\n",
    "```python\n",
    "words = ['apple', 'pie', 'banana', 'cat', 'dog']\n",
    "result = list(filter(lambda w: len(w) > 3, words))\n",
    "print(len(result))\n",
    "```\n",
    "\n",
    "輸出是什麼？"
   ]
  },
  {
   "cell_type": "markdown",
   "metadata": {},
   "source": [
    "### Q18. 裝飾器行為\n",
    "\n",
    "```python\n",
    "def repeat(func):\n",
    "    def wrapper():\n",
    "        func()\n",
    "        func()\n",
    "    return wrapper\n",
    "\n",
    "@repeat\n",
    "def greet():\n",
    "    print(\"Hello\")\n",
    "\n",
    "greet()\n",
    "```\n",
    "\n",
    "總共輸出幾次 \"Hello\"？"
   ]
  },
  {
   "cell_type": "markdown",
   "metadata": {},
   "source": [
    "### Q19. Reduce 計算\n",
    "\n",
    "```python\n",
    "from functools import reduce\n",
    "result = reduce(lambda x, y: x * y, [2, 3, 4])\n",
    "print(result)\n",
    "```\n",
    "\n",
    "輸出是什麼？"
   ]
  },
  {
   "cell_type": "markdown",
   "metadata": {},
   "source": [
    "### Q20. Partial 應用\n",
    "\n",
    "```python\n",
    "from functools import partial\n",
    "\n",
    "def power(base, exponent):\n",
    "    return base ** exponent\n",
    "\n",
    "square = partial(power, exponent=2)\n",
    "print(square(5))\n",
    "```\n",
    "\n",
    "輸出是什麼？"
   ]
  },
  {
   "cell_type": "code",
   "execution_count": null,
   "metadata": {},
   "outputs": [],
   "source": [
    "# 在此填入 Part II 的答案\n",
    "answers_part2 = {\n",
    "    16: '',  # Q16 答案（例如：[1, 4, 3, 8, 5]）\n",
    "    17: '',  # Q17 答案（例如：3）\n",
    "    18: '',  # Q18 答案（例如：2）\n",
    "    19: '',  # Q19 答案（例如：24）\n",
    "    20: '',  # Q20 答案（例如：25）\n",
    "}"
   ]
  },
  {
   "cell_type": "markdown",
   "metadata": {},
   "source": [
    "---\n",
    "\n",
    "## Part III: 程式碼填空題 (5 題，每題 2 分)\n",
    "\n",
    "**作答說明**：完成以下程式碼，使其符合需求"
   ]
  },
  {
   "cell_type": "markdown",
   "metadata": {},
   "source": [
    "### Q21. 完成 Lambda 排序\n",
    "\n",
    "使用 lambda 按照字串的最後一個字元排序"
   ]
  },
  {
   "cell_type": "code",
   "execution_count": null,
   "metadata": {},
   "outputs": [],
   "source": [
    "words = ['apple', 'banana', 'cherry', 'date']\n",
    "\n",
    "# TODO: 填入 key 參數，按照最後一個字元排序\n",
    "sorted_words = sorted(words, key=lambda x: _____)\n",
    "\n",
    "# 測試：應輸出 ['banana', 'apple', 'date', 'cherry']\n",
    "print(sorted_words)"
   ]
  },
  {
   "cell_type": "markdown",
   "metadata": {},
   "source": [
    "### Q22. 實作簡單裝飾器\n",
    "\n",
    "完成裝飾器，在函式執行前後顯示訊息"
   ]
  },
  {
   "cell_type": "code",
   "execution_count": null,
   "metadata": {},
   "outputs": [],
   "source": [
    "def debug(func):\n",
    "    def wrapper(*args, **kwargs):\n",
    "        print(f\"呼叫 {func.__name__}\")\n",
    "        result = _____  # TODO: 執行原函式\n",
    "        print(f\"{func.__name__} 完成\")\n",
    "        return result\n",
    "    return wrapper\n",
    "\n",
    "# 測試\n",
    "@debug\n",
    "def add(a, b):\n",
    "    return a + b\n",
    "\n",
    "result = add(3, 5)\n",
    "# 應輸出：\n",
    "# 呼叫 add\n",
    "# add 完成"
   ]
  },
  {
   "cell_type": "markdown",
   "metadata": {},
   "source": [
    "### Q23. 使用 map 轉換\n",
    "\n",
    "將字串列表中的每個字串轉為大寫並加上驚嘆號"
   ]
  },
  {
   "cell_type": "code",
   "execution_count": null,
   "metadata": {},
   "outputs": [],
   "source": [
    "words = ['hello', 'world', 'python']\n",
    "\n",
    "# TODO: 使用 map 和 lambda 完成轉換\n",
    "result = list(map(_____, words))\n",
    "\n",
    "# 測試：應輸出 ['HELLO!', 'WORLD!', 'PYTHON!']\n",
    "print(result)"
   ]
  },
  {
   "cell_type": "markdown",
   "metadata": {},
   "source": [
    "### Q24. 組合 filter 和 map\n",
    "\n",
    "過濾出偶數，然後將每個數字平方"
   ]
  },
  {
   "cell_type": "code",
   "execution_count": null,
   "metadata": {},
   "outputs": [],
   "source": [
    "numbers = [1, 2, 3, 4, 5, 6, 7, 8, 9, 10]\n",
    "\n",
    "# TODO: 先 filter 偶數，再 map 平方\n",
    "evens = filter(_____, numbers)\n",
    "squared = list(map(_____, evens))\n",
    "\n",
    "# 測試：應輸出 [4, 16, 36, 64, 100]\n",
    "print(squared)"
   ]
  },
  {
   "cell_type": "markdown",
   "metadata": {},
   "source": [
    "### Q25. 使用 partial 創建函式\n",
    "\n",
    "使用 partial 創建一個固定問候語的函式"
   ]
  },
  {
   "cell_type": "code",
   "execution_count": null,
   "metadata": {},
   "outputs": [],
   "source": [
    "from functools import partial\n",
    "\n",
    "def greet(greeting, name):\n",
    "    return f\"{greeting}, {name}!\"\n",
    "\n",
    "# TODO: 使用 partial 創建一個固定 greeting=\"Hi\" 的函式\n",
    "say_hi = _____\n",
    "\n",
    "# 測試：應輸出 \"Hi, Alice!\"\n",
    "print(say_hi('Alice'))"
   ]
  },
  {
   "cell_type": "markdown",
   "metadata": {},
   "source": [
    "---\n",
    "\n",
    "## 解答與評分\n",
    "\n",
    "**請在完成所有題目後再執行以下程式碼**"
   ]
  },
  {
   "cell_type": "code",
   "execution_count": null,
   "metadata": {},
   "outputs": [],
   "source": [
    "# 標準答案（執行後會顯示）\n",
    "correct_answers_part1 = {\n",
    "    1: 'C',   # Lambda 不能包含多行程式碼\n",
    "    2: 'C',   # map 回傳 map 物件（迭代器）\n",
    "    3: 'D',   # filter 回傳 filter 物件\n",
    "    4: 'B',   # reduce 從 functools 匯入\n",
    "    5: 'D',   # len() 會立即執行，應該是 len\n",
    "    6: 'A',   # 裝飾器是接受函式並回傳函式的函式\n",
    "    7: 'A',   # 兩種寫法完全等價\n",
    "    8: 'B',   # wraps 保留原函式元數據\n",
    "    9: 'B',   # partial 固定部分參數\n",
    "    10: 'B',  # 閉包記住外部函式的區域變數\n",
    "    11: 'C',  # 使用迴圈不是高階函式的特徵\n",
    "    12: 'B',  # 列表推導式更 Pythonic\n",
    "    13: 'B',  # 裝飾器在函式定義時執行\n",
    "    14: 'A',  # reduce 從左到右累積\n",
    "    15: 'C',  # Lambda 不能包含 return 語句\n",
    "}\n",
    "\n",
    "correct_answers_part2 = {\n",
    "    16: '[1, 4, 3, 8, 5]',  # 偶數乘以 2\n",
    "    17: '3',                 # apple, banana, cat 三個長度 > 3\n",
    "    18: '2',                 # 執行兩次 func()\n",
    "    19: '24',                # 2 * 3 * 4 = 24\n",
    "    20: '25',                # 5 ** 2 = 25\n",
    "}\n",
    "\n",
    "# 評分函式\n",
    "def grade_quiz():\n",
    "    score = 0\n",
    "    total = 35\n",
    "    \n",
    "    # Part I 評分\n",
    "    print(\"=== Part I 選擇題評分 ===\")\n",
    "    for q_num in range(1, 16):\n",
    "        student_answer = answers_part1.get(q_num, '').upper()\n",
    "        correct_answer = correct_answers_part1[q_num]\n",
    "        is_correct = student_answer == correct_answer\n",
    "        score += 1 if is_correct else 0\n",
    "        status = \"✓\" if is_correct else \"✗\"\n",
    "        print(f\"Q{q_num}: {status} (你的答案: {student_answer}, 正確答案: {correct_answer})\")\n",
    "    \n",
    "    part1_score = sum(1 for q in range(1, 16) if answers_part1.get(q, '').upper() == correct_answers_part1[q])\n",
    "    print(f\"Part I 得分: {part1_score}/15\\n\")\n",
    "    \n",
    "    # Part II 評分\n",
    "    print(\"=== Part II 程式碼輸出題評分 ===\")\n",
    "    for q_num in range(16, 21):\n",
    "        student_answer = str(answers_part2.get(q_num, '')).strip()\n",
    "        correct_answer = correct_answers_part2[q_num]\n",
    "        is_correct = student_answer == correct_answer\n",
    "        score += 2 if is_correct else 0\n",
    "        status = \"✓\" if is_correct else \"✗\"\n",
    "        print(f\"Q{q_num}: {status} (你的答案: {student_answer}, 正確答案: {correct_answer})\")\n",
    "    \n",
    "    part2_score = sum(2 for q in range(16, 21) if str(answers_part2.get(q, '')).strip() == correct_answers_part2[q])\n",
    "    print(f\"Part II 得分: {part2_score}/10\\n\")\n",
    "    \n",
    "    # Part III 需要手動檢查\n",
    "    print(\"=== Part III 程式碼填空題 ===\")\n",
    "    print(\"請手動執行 Q21-Q25 的程式碼檢查是否正確\")\n",
    "    print(\"每題 2 分，共 10 分\\n\")\n",
    "    \n",
    "    # 總分\n",
    "    print(\"=== 總分 ===\")\n",
    "    print(f\"Part I + Part II: {score}/{total - 10}\")\n",
    "    print(f\"請加上 Part III 的分數計算總分\")\n",
    "    print(f\"\\n及格分數: 26/35 (75%)\")\n",
    "    \n",
    "    percentage = (score / (total - 10)) * 100\n",
    "    if percentage >= 75:\n",
    "        print(f\"\\n目前進度: {percentage:.1f}% - 表現優秀！\")\n",
    "    else:\n",
    "        print(f\"\\n目前進度: {percentage:.1f}% - 需要加強練習\")\n",
    "\n",
    "# 執行評分\n",
    "grade_quiz()"
   ]
  },
  {
   "cell_type": "markdown",
   "metadata": {},
   "source": [
    "---\n",
    "\n",
    "## Part III 標準答案\n",
    "\n",
    "完成測驗後可以參考以下標準答案："
   ]
  },
  {
   "cell_type": "code",
   "execution_count": null,
   "metadata": {},
   "outputs": [],
   "source": [
    "# Q21 標準答案\n",
    "words = ['apple', 'banana', 'cherry', 'date']\n",
    "sorted_words = sorted(words, key=lambda x: x[-1])\n",
    "print(f\"Q21: {sorted_words}\")\n",
    "# 應輸出 ['banana', 'apple', 'date', 'cherry']"
   ]
  },
  {
   "cell_type": "code",
   "execution_count": null,
   "metadata": {},
   "outputs": [],
   "source": [
    "# Q22 標準答案\n",
    "def debug(func):\n",
    "    def wrapper(*args, **kwargs):\n",
    "        print(f\"呼叫 {func.__name__}\")\n",
    "        result = func(*args, **kwargs)\n",
    "        print(f\"{func.__name__} 完成\")\n",
    "        return result\n",
    "    return wrapper\n",
    "\n",
    "@debug\n",
    "def add(a, b):\n",
    "    return a + b\n",
    "\n",
    "result = add(3, 5)\n",
    "print(f\"Q22: 結果 = {result}\")"
   ]
  },
  {
   "cell_type": "code",
   "execution_count": null,
   "metadata": {},
   "outputs": [],
   "source": [
    "# Q23 標準答案\n",
    "words = ['hello', 'world', 'python']\n",
    "result = list(map(lambda w: w.upper() + '!', words))\n",
    "print(f\"Q23: {result}\")\n",
    "# 應輸出 ['HELLO!', 'WORLD!', 'PYTHON!']"
   ]
  },
  {
   "cell_type": "code",
   "execution_count": null,
   "metadata": {},
   "outputs": [],
   "source": [
    "# Q24 標準答案\n",
    "numbers = [1, 2, 3, 4, 5, 6, 7, 8, 9, 10]\n",
    "evens = filter(lambda x: x % 2 == 0, numbers)\n",
    "squared = list(map(lambda x: x ** 2, evens))\n",
    "print(f\"Q24: {squared}\")\n",
    "# 應輸出 [4, 16, 36, 64, 100]"
   ]
  },
  {
   "cell_type": "code",
   "execution_count": null,
   "metadata": {},
   "outputs": [],
   "source": [
    "# Q25 標準答案\n",
    "from functools import partial\n",
    "\n",
    "def greet(greeting, name):\n",
    "    return f\"{greeting}, {name}!\"\n",
    "\n",
    "say_hi = partial(greet, \"Hi\")\n",
    "print(f\"Q25: {say_hi('Alice')}\")\n",
    "# 應輸出 \"Hi, Alice!\""
   ]
  },
  {
   "cell_type": "markdown",
   "metadata": {},
   "source": [
    "---\n",
    "\n",
    "## 學習檢核清單\n",
    "\n",
    "完成測驗後，請檢視以下能力是否達成：\n",
    "\n",
    "### Lambda 表達式\n",
    "- [ ] 理解 lambda 的語法和限制\n",
    "- [ ] 能夠使用 lambda 撰寫簡單函式\n",
    "- [ ] 知道何時使用 lambda，何時使用 def\n",
    "\n",
    "### map/filter/reduce\n",
    "- [ ] 熟練使用 map 轉換資料\n",
    "- [ ] 熟練使用 filter 篩選資料\n",
    "- [ ] 理解 reduce 的累積行為\n",
    "- [ ] 能夠組合使用這些函式\n",
    "\n",
    "### 裝飾器\n",
    "- [ ] 理解裝飾器的本質\n",
    "- [ ] 能夠實作簡單的裝飾器\n",
    "- [ ] 理解帶參數的裝飾器結構\n",
    "- [ ] 知道如何使用 @wraps 保留元數據\n",
    "\n",
    "### 函式組合\n",
    "- [ ] 理解 partial 的應用\n",
    "- [ ] 能夠組合多個函式\n",
    "- [ ] 理解閉包的概念\n",
    "\n",
    "### 下一步\n",
    "\n",
    "- **得分 < 26**：建議重新閱讀講義，完成練習題\n",
    "- **得分 26-30**：已掌握基礎，可進階學習\n",
    "- **得分 31-35**：表現優秀，可以進入下一章\n",
    "\n",
    "**繼續學習**：\n",
    "- 進入 Ch15 學習遞迴\n",
    "- 探索 `itertools` 和 `functools` 模組\n",
    "- 實作更複雜的裝飾器應用"
   ]
  }
 ],
 "metadata": {
  "kernelspec": {
   "display_name": "Python 3",
   "language": "python",
   "name": "python3"
  },
  "language_info": {
   "codemirror_mode": {
    "name": "ipython",
    "version": 3
   },
   "file_extension": ".py",
   "mimetype": "text/x-python",
   "name": "python",
   "nbconvert_exporter": "python",
   "pygments_lexer": "ipython3",
   "version": "3.8.0"
  }
 },
 "nbformat": 4,
 "nbformat_minor": 4
}
