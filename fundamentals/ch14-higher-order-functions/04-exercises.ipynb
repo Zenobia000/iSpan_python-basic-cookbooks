{
 "cells": [
  {
   "cell_type": "markdown",
   "metadata": {},
   "source": [
    "# Ch14: Higher-Order Functions (高階函式) - 課後習題\n",
    "\n",
    "**學習目標**：\n",
    "- 深入掌握 lambda 表達式的靈活運用\n",
    "- 熟練使用 map/filter/reduce 處理資料\n",
    "- 理解並實作各類裝飾器\n",
    "- 應用函式組合解決實際問題\n",
    "\n",
    "**難度分布**：\n",
    "- 基礎題 (1-6)：掌握基本語法和概念\n",
    "- 進階題 (7-12)：組合運用多個技巧\n",
    "- 挑戰題 (13-18)：實作複雜功能\n",
    "\n",
    "**建議完成時間**: 2-3 小時"
   ]
  },
  {
   "cell_type": "markdown",
   "metadata": {},
   "source": [
    "---\n",
    "\n",
    "## Part I: 基礎題 (1-6)\n",
    "\n",
    "### 習題 1: Lambda 表達式語法練習\n",
    "\n",
    "**題目**：使用 lambda 實作以下功能\n",
    "\n",
    "**要求**：\n",
    "1. `celsius_to_fahrenheit`: 攝氏轉華氏 (F = C × 9/5 + 32)\n",
    "2. `is_palindrome`: 判斷字串是否為回文\n",
    "3. `get_grade`: 分數轉等第 (90+ → A, 80-89 → B, 70-79 → C, 60-69 → D, <60 → F)"
   ]
  },
  {
   "cell_type": "code",
   "execution_count": null,
   "metadata": {},
   "outputs": [],
   "source": [
    "# TODO: 實作三個 lambda 函式\n",
    "\n",
    "# 測試\n",
    "# print(celsius_to_fahrenheit(0))  # 32.0\n",
    "# print(is_palindrome(\"radar\"))    # True\n",
    "# print(get_grade(85))             # B"
   ]
  },
  {
   "cell_type": "markdown",
   "metadata": {},
   "source": [
    "### 習題 2: map() 轉換資料型態\n",
    "\n",
    "**題目**：給定字串列表，使用 map 完成以下轉換\n",
    "\n",
    "**要求**：\n",
    "1. 將所有字串轉為大寫\n",
    "2. 計算每個字串的長度\n",
    "3. 提取每個字串的第一個字元"
   ]
  },
  {
   "cell_type": "code",
   "execution_count": null,
   "metadata": {},
   "outputs": [],
   "source": [
    "words = ['apple', 'banana', 'cherry', 'date', 'elderberry']\n",
    "\n",
    "# TODO: 使用 map 完成三個轉換\n",
    "\n",
    "# 測試\n",
    "# print(uppercase_words)   # ['APPLE', 'BANANA', 'CHERRY', 'DATE', 'ELDERBERRY']\n",
    "# print(word_lengths)      # [5, 6, 6, 4, 10]\n",
    "# print(first_chars)       # ['a', 'b', 'c', 'd', 'e']"
   ]
  },
  {
   "cell_type": "markdown",
   "metadata": {},
   "source": [
    "### 習題 3: filter() 篩選符合條件的元素\n",
    "\n",
    "**題目**：給定數字列表，使用 filter 完成以下篩選\n",
    "\n",
    "**要求**：\n",
    "1. 篩選出所有正數\n",
    "2. 篩選出 10 到 50 之間的數字\n",
    "3. 篩選出可被 3 或 5 整除的數字"
   ]
  },
  {
   "cell_type": "code",
   "execution_count": null,
   "metadata": {},
   "outputs": [],
   "source": [
    "numbers = [-5, 3, -2, 15, 42, -10, 7, 25, 60, -3, 12, 0]\n",
    "\n",
    "# TODO: 使用 filter 完成三個篩選\n",
    "\n",
    "# 測試\n",
    "# print(positives)         # [3, 15, 42, 7, 25, 60, 12]\n",
    "# print(in_range)          # [15, 42, 25, 12]\n",
    "# print(divisible)         # [3, 15, 42, 25, 60, 12]"
   ]
  },
  {
   "cell_type": "markdown",
   "metadata": {},
   "source": [
    "### 習題 4: sorted() 自訂排序 key\n",
    "\n",
    "**題目**：給定學生資料列表，實作多種排序方式\n",
    "\n",
    "**要求**：\n",
    "1. 按照年齡排序（由小到大）\n",
    "2. 按照姓名長度排序（由短到長）\n",
    "3. 按照成績排序（由高到低）"
   ]
  },
  {
   "cell_type": "code",
   "execution_count": null,
   "metadata": {},
   "outputs": [],
   "source": [
    "students = [\n",
    "    {'name': 'Alice', 'age': 20, 'score': 85},\n",
    "    {'name': 'Bob', 'age': 19, 'score': 92},\n",
    "    {'name': 'Charlie', 'age': 21, 'score': 78},\n",
    "    {'name': 'David', 'age': 20, 'score': 88},\n",
    "    {'name': 'Eve', 'age': 19, 'score': 95}\n",
    "]\n",
    "\n",
    "# TODO: 使用 sorted 和 lambda 完成三種排序\n",
    "\n",
    "# 測試\n",
    "# print([s['name'] for s in by_age])        # ['Bob', 'Eve', 'Alice', 'David', 'Charlie']\n",
    "# print([s['name'] for s in by_name_len])   # ['Bob', 'Eve', 'Alice', 'David', 'Charlie']\n",
    "# print([s['name'] for s in by_score])      # ['Eve', 'Bob', 'David', 'Alice', 'Charlie']"
   ]
  },
  {
   "cell_type": "markdown",
   "metadata": {},
   "source": [
    "### 習題 5: 函式作為參數傳遞\n",
    "\n",
    "**題目**：實作 `apply_operation` 函式，接受一個運算函式和兩個數字\n",
    "\n",
    "**要求**：\n",
    "1. 實作 `apply_operation(func, x, y)` 函式\n",
    "2. 測試加減乘除四種運算\n",
    "3. 使用 lambda 定義運算函式"
   ]
  },
  {
   "cell_type": "code",
   "execution_count": null,
   "metadata": {},
   "outputs": [],
   "source": [
    "# TODO: 實作 apply_operation 函式\n",
    "\n",
    "# 測試\n",
    "# print(apply_operation(lambda x, y: x + y, 10, 5))  # 15\n",
    "# print(apply_operation(lambda x, y: x - y, 10, 5))  # 5\n",
    "# print(apply_operation(lambda x, y: x * y, 10, 5))  # 50\n",
    "# print(apply_operation(lambda x, y: x / y, 10, 5))  # 2.0"
   ]
  },
  {
   "cell_type": "markdown",
   "metadata": {},
   "source": [
    "### 習題 6: 簡單的函式回傳函式\n",
    "\n",
    "**題目**：實作 `make_multiplier` 函式，回傳一個乘法函式\n",
    "\n",
    "**要求**：\n",
    "1. `make_multiplier(n)` 回傳一個函式\n",
    "2. 回傳的函式接受一個參數 `x`，回傳 `n * x`\n",
    "3. 測試創建不同倍數的函式"
   ]
  },
  {
   "cell_type": "code",
   "execution_count": null,
   "metadata": {},
   "outputs": [],
   "source": [
    "# TODO: 實作 make_multiplier 函式\n",
    "\n",
    "# 測試\n",
    "# times_two = make_multiplier(2)\n",
    "# times_five = make_multiplier(5)\n",
    "# print(times_two(10))   # 20\n",
    "# print(times_five(10))  # 50"
   ]
  },
  {
   "cell_type": "markdown",
   "metadata": {},
   "source": [
    "---\n",
    "\n",
    "## Part II: 進階題 (7-12)\n",
    "\n",
    "### 習題 7: reduce() 計算總和/乘積\n",
    "\n",
    "**題目**：使用 `functools.reduce` 實作以下功能\n",
    "\n",
    "**要求**：\n",
    "1. 計算列表所有元素的總和\n",
    "2. 計算列表所有元素的乘積\n",
    "3. 找出列表中的最大值"
   ]
  },
  {
   "cell_type": "code",
   "execution_count": null,
   "metadata": {},
   "outputs": [],
   "source": [
    "from functools import reduce\n",
    "\n",
    "numbers = [1, 2, 3, 4, 5]\n",
    "\n",
    "# TODO: 使用 reduce 實作三個功能\n",
    "\n",
    "# 測試\n",
    "# print(total)      # 15\n",
    "# print(product)    # 120\n",
    "# print(maximum)    # 5"
   ]
  },
  {
   "cell_type": "markdown",
   "metadata": {},
   "source": [
    "### 習題 8: 使用 partial 創建特定函式\n",
    "\n",
    "**題目**：使用 `functools.partial` 創建特定版本的函式\n",
    "\n",
    "**要求**：\n",
    "1. 實作 `greet(greeting, name)` 函式\n",
    "2. 使用 partial 創建 `say_hello` (固定 greeting='Hello')\n",
    "3. 使用 partial 創建 `say_goodbye` (固定 greeting='Goodbye')\n",
    "4. 測試這些函式"
   ]
  },
  {
   "cell_type": "code",
   "execution_count": null,
   "metadata": {},
   "outputs": [],
   "source": [
    "from functools import partial\n",
    "\n",
    "# TODO: 實作 greet 函式並使用 partial 創建特定版本\n",
    "\n",
    "# 測試\n",
    "# print(say_hello('Alice'))      # Hello, Alice!\n",
    "# print(say_goodbye('Alice'))    # Goodbye, Alice!"
   ]
  },
  {
   "cell_type": "markdown",
   "metadata": {},
   "source": [
    "### 習題 9: 實作計數裝飾器\n",
    "\n",
    "**題目**：實作一個裝飾器，記錄函式被呼叫的次數\n",
    "\n",
    "**要求**：\n",
    "1. 實作 `count_calls` 裝飾器\n",
    "2. 每次呼叫函式時，計數器加 1\n",
    "3. 在函式執行後顯示呼叫次數\n",
    "4. 測試裝飾器"
   ]
  },
  {
   "cell_type": "code",
   "execution_count": null,
   "metadata": {},
   "outputs": [],
   "source": [
    "# TODO: 實作 count_calls 裝飾器\n",
    "\n",
    "# 測試\n",
    "# @count_calls\n",
    "# def say_hello():\n",
    "#     print(\"Hello!\")\n",
    "\n",
    "# say_hello()  # Hello! (呼叫次數: 1)\n",
    "# say_hello()  # Hello! (呼叫次數: 2)\n",
    "# say_hello()  # Hello! (呼叫次數: 3)"
   ]
  },
  {
   "cell_type": "markdown",
   "metadata": {},
   "source": [
    "### 習題 10: 實作重試裝飾器\n",
    "\n",
    "**題目**：實作一個裝飾器，在函式失敗時自動重試\n",
    "\n",
    "**要求**：\n",
    "1. 實作 `retry(max_attempts)` 裝飾器\n",
    "2. 如果函式拋出例外，最多重試 `max_attempts` 次\n",
    "3. 顯示重試訊息\n",
    "4. 測試裝飾器"
   ]
  },
  {
   "cell_type": "code",
   "execution_count": null,
   "metadata": {},
   "outputs": [],
   "source": [
    "import random\n",
    "\n",
    "# TODO: 實作 retry 裝飾器\n",
    "\n",
    "# 測試\n",
    "# @retry(max_attempts=3)\n",
    "# def unstable_function():\n",
    "#     \"\"\"有 50% 機率失敗的函式\"\"\"\n",
    "#     if random.random() < 0.5:\n",
    "#         raise ValueError(\"隨機錯誤\")\n",
    "#     return \"成功\"\n",
    "\n",
    "# result = unstable_function()"
   ]
  },
  {
   "cell_type": "markdown",
   "metadata": {},
   "source": [
    "### 習題 11: 多層 map/filter 組合\n",
    "\n",
    "**題目**：給定字串列表，完成以下資料處理管道\n",
    "\n",
    "**要求**：\n",
    "1. 過濾出長度大於 3 的字串\n",
    "2. 將字串轉為大寫\n",
    "3. 在每個字串前加上編號 (1., 2., ...)\n",
    "4. 使用管道式寫法"
   ]
  },
  {
   "cell_type": "code",
   "execution_count": null,
   "metadata": {},
   "outputs": [],
   "source": [
    "words = ['a', 'hello', 'world', 'hi', 'python', 'code']\n",
    "\n",
    "# TODO: 使用 filter + map 完成資料處理管道\n",
    "\n",
    "# 測試\n",
    "# print(result)  # ['1. HELLO', '2. WORLD', '3. PYTHON', '4. CODE']"
   ]
  },
  {
   "cell_type": "markdown",
   "metadata": {},
   "source": [
    "### 習題 12: 字典排序進階應用\n",
    "\n",
    "**題目**：給定產品資料，實作多鍵排序\n",
    "\n",
    "**要求**：\n",
    "1. 先按類別排序\n",
    "2. 同類別內按價格排序（由低到高）\n",
    "3. 使用 lambda 和 tuple 作為 key"
   ]
  },
  {
   "cell_type": "code",
   "execution_count": null,
   "metadata": {},
   "outputs": [],
   "source": [
    "products = [\n",
    "    {'name': 'Laptop', 'category': 'Electronics', 'price': 1200},\n",
    "    {'name': 'Mouse', 'category': 'Electronics', 'price': 25},\n",
    "    {'name': 'Desk', 'category': 'Furniture', 'price': 300},\n",
    "    {'name': 'Chair', 'category': 'Furniture', 'price': 150},\n",
    "    {'name': 'Keyboard', 'category': 'Electronics', 'price': 75}\n",
    "]\n",
    "\n",
    "# TODO: 實作多鍵排序\n",
    "\n",
    "# 測試\n",
    "# for p in sorted_products:\n",
    "#     print(f\"{p['name']:12} - {p['category']:12} - ${p['price']}\")\n",
    "# 預期輸出：\n",
    "# Mouse        - Electronics   - $25\n",
    "# Keyboard     - Electronics   - $75\n",
    "# Laptop       - Electronics   - $1200\n",
    "# Chair        - Furniture     - $150\n",
    "# Desk         - Furniture     - $300"
   ]
  },
  {
   "cell_type": "markdown",
   "metadata": {},
   "source": [
    "---\n",
    "\n",
    "## Part III: 挑戰題 (13-18)\n",
    "\n",
    "### 習題 13: 實作記憶化裝飾器\n",
    "\n",
    "**題目**：實作一個裝飾器，快取函式的執行結果\n",
    "\n",
    "**要求**：\n",
    "1. 實作 `memoize` 裝飾器\n",
    "2. 將函式的參數和結果儲存在字典中\n",
    "3. 如果參數已存在，直接回傳快取的結果\n",
    "4. 顯示是否使用快取\n",
    "5. 測試使用費氏數列"
   ]
  },
  {
   "cell_type": "code",
   "execution_count": null,
   "metadata": {},
   "outputs": [],
   "source": [
    "# TODO: 實作 memoize 裝飾器\n",
    "\n",
    "# 測試\n",
    "# @memoize\n",
    "# def fibonacci(n):\n",
    "#     \"\"\"計算費氏數列\"\"\"\n",
    "#     if n <= 1:\n",
    "#         return n\n",
    "#     return fibonacci(n-1) + fibonacci(n-2)\n",
    "\n",
    "# print(fibonacci(10))  # 第一次計算\n",
    "# print(fibonacci(10))  # 使用快取"
   ]
  },
  {
   "cell_type": "markdown",
   "metadata": {},
   "source": [
    "### 習題 14: 裝飾器保留函式元數據\n",
    "\n",
    "**題目**：改善裝飾器，使其保留原函式的名稱和 docstring\n",
    "\n",
    "**要求**：\n",
    "1. 實作 `preserve_metadata` 裝飾器\n",
    "2. 使用 `functools.wraps` 保留元數據\n",
    "3. 測試函式的 `__name__` 和 `__doc__` 屬性"
   ]
  },
  {
   "cell_type": "code",
   "execution_count": null,
   "metadata": {},
   "outputs": [],
   "source": [
    "from functools import wraps\n",
    "\n",
    "# TODO: 實作保留元數據的裝飾器\n",
    "\n",
    "# 測試\n",
    "# @preserve_metadata\n",
    "# def calculate(x, y):\n",
    "#     \"\"\"計算兩數之和\"\"\"\n",
    "#     return x + y\n",
    "\n",
    "# print(calculate.__name__)  # calculate\n",
    "# print(calculate.__doc__)   # 計算兩數之和"
   ]
  },
  {
   "cell_type": "markdown",
   "metadata": {},
   "source": [
    "### 習題 15: 函式組合建立處理管道\n",
    "\n",
    "**題目**：實作 `pipeline` 函式，將多個函式組合成處理管道\n",
    "\n",
    "**要求**：\n",
    "1. `pipeline(*funcs)` 接受多個函式\n",
    "2. 回傳一個新函式，依序執行所有函式\n",
    "3. 每個函式的輸出作為下一個函式的輸入\n",
    "4. 測試資料處理管道"
   ]
  },
  {
   "cell_type": "code",
   "execution_count": null,
   "metadata": {},
   "outputs": [],
   "source": [
    "# TODO: 實作 pipeline 函式\n",
    "\n",
    "# 測試\n",
    "# def add_10(x):\n",
    "#     return x + 10\n",
    "\n",
    "# def multiply_2(x):\n",
    "#     return x * 2\n",
    "\n",
    "# def subtract_5(x):\n",
    "#     return x - 5\n",
    "\n",
    "# process = pipeline(add_10, multiply_2, subtract_5)\n",
    "# print(process(5))  # ((5 + 10) * 2) - 5 = 25"
   ]
  },
  {
   "cell_type": "markdown",
   "metadata": {},
   "source": [
    "### 習題 16: 實作驗證裝飾器（參數檢查）\n",
    "\n",
    "**題目**：實作一個裝飾器，驗證函式參數的型態\n",
    "\n",
    "**要求**：\n",
    "1. 實作 `validate_types(*types)` 裝飾器\n",
    "2. 檢查每個參數是否符合指定型態\n",
    "3. 如果型態不符，拋出 `TypeError`\n",
    "4. 測試各種情況"
   ]
  },
  {
   "cell_type": "code",
   "execution_count": null,
   "metadata": {},
   "outputs": [],
   "source": [
    "# TODO: 實作 validate_types 裝飾器\n",
    "\n",
    "# 測試\n",
    "# @validate_types(int, int)\n",
    "# def add(a, b):\n",
    "#     return a + b\n",
    "\n",
    "# print(add(3, 5))      # 8\n",
    "# print(add(3, \"5\"))    # TypeError"
   ]
  },
  {
   "cell_type": "markdown",
   "metadata": {},
   "source": [
    "### 習題 17: 綜合應用：資料 ETL 管道\n",
    "\n",
    "**題目**：建立一個完整的資料處理管道，處理學生成績資料\n",
    "\n",
    "**要求**：\n",
    "1. 讀取原始資料（字串格式）\n",
    "2. 解析成字典列表\n",
    "3. 過濾出及格學生（分數 >= 60）\n",
    "4. 計算每個學生的等第\n",
    "5. 按分數排序\n",
    "6. 格式化輸出\n",
    "\n",
    "**使用技巧**：map, filter, sorted, lambda"
   ]
  },
  {
   "cell_type": "code",
   "execution_count": null,
   "metadata": {},
   "outputs": [],
   "source": [
    "# 原始資料\n",
    "raw_data = [\n",
    "    \"Alice,85\",\n",
    "    \"Bob,92\",\n",
    "    \"Charlie,55\",\n",
    "    \"David,78\",\n",
    "    \"Eve,95\",\n",
    "    \"Frank,45\"\n",
    "]\n",
    "\n",
    "# TODO: 建立資料處理管道\n",
    "# 提示：\n",
    "# 1. 使用 map 解析字串 -> {'name': ..., 'score': ...}\n",
    "# 2. 使用 filter 過濾及格學生\n",
    "# 3. 使用 map 計算等第\n",
    "# 4. 使用 sorted 排序\n",
    "# 5. 格式化輸出\n",
    "\n",
    "# 預期輸出：\n",
    "# 1. Eve      - 95 (A)\n",
    "# 2. Bob      - 92 (A)\n",
    "# 3. Alice    - 85 (B)\n",
    "# 4. David    - 78 (C)"
   ]
  },
  {
   "cell_type": "markdown",
   "metadata": {},
   "source": [
    "### 習題 18: 綜合應用：事件處理系統\n",
    "\n",
    "**題目**：實作一個簡單的事件處理系統\n",
    "\n",
    "**要求**：\n",
    "1. 實作 `EventHandler` 類別\n",
    "2. 支援註冊事件處理函式 (`register`)\n",
    "3. 支援觸發事件 (`trigger`)\n",
    "4. 所有註冊的處理函式都會被呼叫\n",
    "5. 使用裝飾器簡化註冊流程\n",
    "6. 測試多個事件和處理函式"
   ]
  },
  {
   "cell_type": "code",
   "execution_count": null,
   "metadata": {},
   "outputs": [],
   "source": [
    "# TODO: 實作 EventHandler 類別\n",
    "\n",
    "# 測試\n",
    "# handler = EventHandler()\n",
    "\n",
    "# @handler.on('user_login')\n",
    "# def send_welcome_email(user):\n",
    "#     print(f\"發送歡迎郵件給 {user}\")\n",
    "\n",
    "# @handler.on('user_login')\n",
    "# def log_login(user):\n",
    "#     print(f\"記錄登入：{user}\")\n",
    "\n",
    "# @handler.on('user_logout')\n",
    "# def log_logout(user):\n",
    "#     print(f\"記錄登出：{user}\")\n",
    "\n",
    "# handler.trigger('user_login', 'Alice')\n",
    "# # 發送歡迎郵件給 Alice\n",
    "# # 記錄登入：Alice\n",
    "\n",
    "# handler.trigger('user_logout', 'Alice')\n",
    "# # 記錄登出：Alice"
   ]
  },
  {
   "cell_type": "markdown",
   "metadata": {},
   "source": [
    "---\n",
    "\n",
    "## 總結\n",
    "\n",
    "### 本次習題涵蓋\n",
    "\n",
    "**基礎題 (1-6)**：\n",
    "- Lambda 語法和基本應用\n",
    "- map/filter/sorted 的基本使用\n",
    "- 函式作為參數和回傳值\n",
    "\n",
    "**進階題 (7-12)**：\n",
    "- reduce 的應用\n",
    "- partial 固定參數\n",
    "- 裝飾器的實作（計數、重試）\n",
    "- 多層 map/filter 組合\n",
    "- 多鍵排序\n",
    "\n",
    "**挑戰題 (13-18)**：\n",
    "- 記憶化裝飾器\n",
    "- 保留元數據的裝飾器\n",
    "- 函式組合和管道\n",
    "- 參數驗證裝飾器\n",
    "- 綜合應用（資料處理、事件系統）\n",
    "\n",
    "### 學習重點\n",
    "\n",
    "1. **函式式思維**：\n",
    "   - 將函式視為一等公民\n",
    "   - 組合小函式完成複雜任務\n",
    "   - 避免副作用，保持純函式\n",
    "\n",
    "2. **裝飾器模式**：\n",
    "   - 不修改原函式的前提下增強功能\n",
    "   - 使用 @wraps 保留元數據\n",
    "   - 實作帶參數的裝飾器\n",
    "\n",
    "3. **資料處理管道**：\n",
    "   - 使用 map/filter/reduce 處理資料\n",
    "   - 管道式寫法提高可讀性\n",
    "   - 組合多個小函式完成複雜轉換\n",
    "\n",
    "### 下一步\n",
    "\n",
    "- 參考 `05-solutions.ipynb` 查看完整解答\n",
    "- 完成 `quiz.ipynb` 自我測驗\n",
    "- 進入 Ch15 學習遞迴"
   ]
  }
 ],
 "metadata": {
  "kernelspec": {
   "display_name": "Python 3",
   "language": "python",
   "name": "python3"
  },
  "language_info": {
   "codemirror_mode": {
    "name": "ipython",
    "version": 3
   },
   "file_extension": ".py",
   "mimetype": "text/x-python",
   "name": "python",
   "nbconvert_exporter": "python",
   "pygments_lexer": "ipython3",
   "version": "3.8.0"
  }
 },
 "nbformat": 4,
 "nbformat_minor": 4
}
