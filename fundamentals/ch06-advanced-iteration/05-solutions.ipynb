{
 "cells": [
  {
   "cell_type": "markdown",
   "metadata": {},
   "source": [
    "# Chapter 6: 習題解答 | Exercise Solutions\n",
    "\n",
    "本檔案提供所有 15 題課後習題的完整解答與說明。\n",
    "\n",
    "---"
   ]
  },
  {
   "cell_type": "markdown",
   "metadata": {},
   "source": [
    "## Part I: 基礎題解答\n",
    "\n",
    "### 習題 1：商品清單顯示"
   ]
  },
  {
   "cell_type": "code",
   "execution_count": null,
   "metadata": {},
   "outputs": [],
   "source": [
    "products = ['筆記本', '原子筆', '橡皮擦', '尺']\n",
    "prices = [50, 15, 10, 20]\n",
    "\n",
    "# 解法：enumerate() + zip() 組合\n",
    "for index, (product, price) in enumerate(zip(products, prices), start=1):\n",
    "    print(f\"{index}. {product} - {price}元\")"
   ]
  },
  {
   "cell_type": "markdown",
   "metadata": {},
   "source": [
    "**重點**：\n",
    "- `zip(products, prices)` 配對商品與價格\n",
    "- `enumerate(..., start=1)` 從 1 開始編號\n",
    "- 巢狀解包：`(product, price)`\n",
    "\n",
    "---"
   ]
  },
  {
   "cell_type": "markdown",
   "metadata": {},
   "source": [
    "### 習題 2：計算產品總和"
   ]
  },
  {
   "cell_type": "code",
   "execution_count": null,
   "metadata": {},
   "outputs": [],
   "source": [
    "numbers = [2, 3, 4, 5]\n",
    "\n",
    "# 解法：累加器模式（乘法版）\n",
    "product = 1  # 初始值必須是 1（而非 0）\n",
    "\n",
    "for num in numbers:\n",
    "    product = product * num  # 也可寫成 product *= num\n",
    "\n",
    "print(f\"乘積：{product}\")"
   ]
  },
  {
   "cell_type": "markdown",
   "metadata": {},
   "source": [
    "**重點**：\n",
    "- 乘法累加器初始值是 `1`（加法是 `0`）\n",
    "- 運算流程：1 × 2 × 3 × 4 × 5 = 120\n",
    "\n",
    "---"
   ]
  },
  {
   "cell_type": "markdown",
   "metadata": {},
   "source": [
    "### 習題 3：統計單字長度"
   ]
  },
  {
   "cell_type": "code",
   "execution_count": null,
   "metadata": {},
   "outputs": [],
   "source": [
    "words = ['apple', 'cat', 'banana', 'dog', 'cherry', 'elephant']\n",
    "\n",
    "# 解法：計數器模式\n",
    "count = 0\n",
    "\n",
    "for word in words:\n",
    "    if len(word) >= 5:\n",
    "        count += 1\n",
    "\n",
    "print(f\"長度 ≥ 5 的單字：{count} 個\")"
   ]
  },
  {
   "cell_type": "markdown",
   "metadata": {},
   "source": [
    "**重點**：\n",
    "- 使用 `len(word)` 取得字串長度\n",
    "- 條件滿足時才計數\n",
    "\n",
    "---"
   ]
  },
  {
   "cell_type": "markdown",
   "metadata": {},
   "source": [
    "### 習題 4：提取負數"
   ]
  },
  {
   "cell_type": "code",
   "execution_count": null,
   "metadata": {},
   "outputs": [],
   "source": [
    "numbers = [10, -5, 3, -8, 0, -12, 7, -3]\n",
    "\n",
    "# 解法：過濾器模式\n",
    "negative_numbers = []\n",
    "\n",
    "for num in numbers:\n",
    "    if num < 0:\n",
    "        negative_numbers.append(num)\n",
    "\n",
    "print(f\"負數：{negative_numbers}\")"
   ]
  },
  {
   "cell_type": "markdown",
   "metadata": {},
   "source": [
    "**重點**：\n",
    "- 初始化空列表\n",
    "- 條件滿足時加入\n",
    "\n",
    "**進階寫法（列表推導式）**：\n",
    "```python\n",
    "negative_numbers = [num for num in numbers if num < 0]\n",
    "```\n",
    "\n",
    "---"
   ]
  },
  {
   "cell_type": "markdown",
   "metadata": {},
   "source": [
    "### 習題 5：找出第一個偶數"
   ]
  },
  {
   "cell_type": "code",
   "execution_count": null,
   "metadata": {},
   "outputs": [],
   "source": [
    "numbers = [13, 7, 21, 8, 15, 10]\n",
    "\n",
    "# 解法：搜尋器模式\n",
    "for index, num in enumerate(numbers):\n",
    "    if num % 2 == 0:\n",
    "        print(f\"第一個偶數：{num}\")\n",
    "        print(f\"位置：索引 {index}\")\n",
    "        break  # 找到後立即退出"
   ]
  },
  {
   "cell_type": "markdown",
   "metadata": {},
   "source": [
    "**重點**：\n",
    "- 使用 `enumerate()` 同時追蹤索引和值\n",
    "- 找到後用 `break` 提前退出（提升效能）\n",
    "\n",
    "---"
   ]
  },
  {
   "cell_type": "markdown",
   "metadata": {},
   "source": [
    "### 習題 6：zip() 配對問答"
   ]
  },
  {
   "cell_type": "code",
   "execution_count": null,
   "metadata": {},
   "outputs": [],
   "source": [
    "questions = ['What is 2+2?', 'What is 3*3?', 'What is 10/2?']\n",
    "answers = ['4', '9', '5']\n",
    "\n",
    "# 解法：zip() 配對迭代\n",
    "for question, answer in zip(questions, answers):\n",
    "    print(f\"Q: {question}\")\n",
    "    print(f\"A: {answer}\")\n",
    "    print(\"---\")"
   ]
  },
  {
   "cell_type": "markdown",
   "metadata": {},
   "source": [
    "**重點**：\n",
    "- `zip()` 讓配對關係一目了然\n",
    "- 比用索引存取 `questions[i], answers[i]` 更清晰\n",
    "\n",
    "---"
   ]
  },
  {
   "cell_type": "markdown",
   "metadata": {},
   "source": [
    "## Part II: 中階題解答\n",
    "\n",
    "### 習題 7：計算班級成績統計"
   ]
  },
  {
   "cell_type": "code",
   "execution_count": null,
   "metadata": {},
   "outputs": [],
   "source": [
    "scores = [72, 85, 90, 65, 78, 88, 92, 70]\n",
    "\n",
    "# 1. 排序（用於計算中位數）\n",
    "sorted_scores = sorted(scores)\n",
    "\n",
    "# 2. 基本統計\n",
    "max_score = sorted_scores[-1]  # 或 max(scores)\n",
    "min_score = sorted_scores[0]   # 或 min(scores)\n",
    "\n",
    "# 3. 平均值\n",
    "total = 0\n",
    "for score in scores:\n",
    "    total += score\n",
    "average = total / len(scores)\n",
    "\n",
    "# 4. 中位數（偶數個元素）\n",
    "n = len(sorted_scores)\n",
    "mid1 = sorted_scores[n // 2 - 1]\n",
    "mid2 = sorted_scores[n // 2]\n",
    "median = (mid1 + mid2) / 2\n",
    "\n",
    "print(f\"最高分：{max_score}\")\n",
    "print(f\"最低分：{min_score}\")\n",
    "print(f\"平均分：{average}\")\n",
    "print(f\"中位數：{median}\")"
   ]
  },
  {
   "cell_type": "markdown",
   "metadata": {},
   "source": [
    "**重點**：\n",
    "- 中位數需要先排序\n",
    "- 偶數個元素：取中間兩個的平均\n",
    "- 奇數個元素：取中間那個\n",
    "\n",
    "---"
   ]
  },
  {
   "cell_type": "markdown",
   "metadata": {},
   "source": [
    "### 習題 8：找出所有質數索引"
   ]
  },
  {
   "cell_type": "code",
   "execution_count": null,
   "metadata": {},
   "outputs": [],
   "source": [
    "numbers = [10, 13, 4, 17, 9, 19, 8, 23]\n",
    "\n",
    "def is_prime(n):\n",
    "    if n < 2:\n",
    "        return False\n",
    "    for i in range(2, int(n**0.5) + 1):\n",
    "        if n % i == 0:\n",
    "            return False\n",
    "    return True\n",
    "\n",
    "# 解法：過濾器模式 + enumerate()\n",
    "prime_indices = []\n",
    "prime_values = []\n",
    "\n",
    "for index, num in enumerate(numbers):\n",
    "    if is_prime(num):\n",
    "        prime_indices.append(index)\n",
    "        prime_values.append(num)\n",
    "\n",
    "print(f\"質數索引：{prime_indices}\")\n",
    "print(f\"質數：{prime_values}\")"
   ]
  },
  {
   "cell_type": "markdown",
   "metadata": {},
   "source": [
    "**重點**：\n",
    "- 使用 `enumerate()` 同時追蹤索引和值\n",
    "- 質數判斷：只需檢查到 √n\n",
    "\n",
    "---"
   ]
  },
  {
   "cell_type": "markdown",
   "metadata": {},
   "source": [
    "### 習題 9：字串反轉（手動實作）"
   ]
  },
  {
   "cell_type": "code",
   "execution_count": null,
   "metadata": {},
   "outputs": [],
   "source": [
    "text = \"Python\"\n",
    "\n",
    "# 解法：從後往前迭代\n",
    "reversed_text = \"\"\n",
    "\n",
    "for i in range(len(text) - 1, -1, -1):\n",
    "    reversed_text += text[i]\n",
    "\n",
    "print(f\"反轉後：{reversed_text}\")"
   ]
  },
  {
   "cell_type": "markdown",
   "metadata": {},
   "source": [
    "**替代解法（使用列表）**："
   ]
  },
  {
   "cell_type": "code",
   "execution_count": null,
   "metadata": {},
   "outputs": [],
   "source": [
    "text = \"Python\"\n",
    "\n",
    "# 解法 2：收集到列表再合併\n",
    "chars = []\n",
    "for char in text:\n",
    "    chars.insert(0, char)  # 插入到開頭\n",
    "\n",
    "reversed_text = \"\".join(chars)\n",
    "print(f\"反轉後：{reversed_text}\")"
   ]
  },
  {
   "cell_type": "markdown",
   "metadata": {},
   "source": [
    "**重點**：\n",
    "- `range(len(text)-1, -1, -1)` 從最後一個字元往前\n",
    "- 字串是不可變的，必須建立新字串\n",
    "\n",
    "---"
   ]
  },
  {
   "cell_type": "markdown",
   "metadata": {},
   "source": [
    "### 習題 10：配對學生與座號"
   ]
  },
  {
   "cell_type": "code",
   "execution_count": null,
   "metadata": {},
   "outputs": [],
   "source": [
    "names = ['Charlie', 'Alice', 'Bob', 'David']\n",
    "seat_numbers = [3, 1, 2, 4]\n",
    "\n",
    "# 解法：zip() + sorted()\n",
    "# 配對成 [(3, 'Charlie'), (1, 'Alice'), ...]\n",
    "pairs = list(zip(seat_numbers, names))\n",
    "\n",
    "# 按座號（第一個元素）排序\n",
    "sorted_pairs = sorted(pairs)\n",
    "\n",
    "# 顯示結果\n",
    "print(\"座位表：\")\n",
    "for seat, name in sorted_pairs:\n",
    "    print(f\"{seat}號：{name}\")"
   ]
  },
  {
   "cell_type": "markdown",
   "metadata": {},
   "source": [
    "**重點**：\n",
    "- `zip()` 順序：先座號再姓名，方便排序\n",
    "- `sorted()` 預設按第一個元素排序\n",
    "\n",
    "---"
   ]
  },
  {
   "cell_type": "markdown",
   "metadata": {},
   "source": [
    "### 習題 11：統計字母出現頻率（前 3 名）"
   ]
  },
  {
   "cell_type": "code",
   "execution_count": null,
   "metadata": {},
   "outputs": [],
   "source": [
    "text = \"mississippi\"\n",
    "\n",
    "# 1. 統計頻率\n",
    "char_count = {}\n",
    "for char in text:\n",
    "    char_count[char] = char_count.get(char, 0) + 1\n",
    "\n",
    "# 2. 按頻率排序（降序）\n",
    "sorted_chars = sorted(char_count.items(), key=lambda x: x[1], reverse=True)\n",
    "\n",
    "# 3. 顯示前 3 名\n",
    "print(\"字母頻率前 3 名：\")\n",
    "for char, count in sorted_chars[:3]:\n",
    "    print(f\"{char}: {count}\")"
   ]
  },
  {
   "cell_type": "markdown",
   "metadata": {},
   "source": [
    "**重點**：\n",
    "- `.items()` 取得 (key, value) 元組列表\n",
    "- `key=lambda x: x[1]` 按值（頻率）排序\n",
    "- `reverse=True` 降序排列\n",
    "- `[:3]` 切片取前 3 個\n",
    "\n",
    "---"
   ]
  },
  {
   "cell_type": "markdown",
   "metadata": {},
   "source": [
    "### 習題 12：找出成對元素"
   ]
  },
  {
   "cell_type": "code",
   "execution_count": null,
   "metadata": {},
   "outputs": [],
   "source": [
    "numbers = [1, 2, 2, 3, 4, 4, 4, 5, 5, 6]\n",
    "\n",
    "# 解法：迭代相鄰元素\n",
    "print(\"成對元素索引：\")\n",
    "\n",
    "for i in range(len(numbers) - 1):\n",
    "    if numbers[i] == numbers[i + 1]:\n",
    "        print(f\"索引 {i}-{i+1}: 值 {numbers[i]}\")"
   ]
  },
  {
   "cell_type": "markdown",
   "metadata": {},
   "source": [
    "**重點**：\n",
    "- `range(len(numbers) - 1)` 避免索引越界\n",
    "- 比較 `numbers[i]` 和 `numbers[i+1]`\n",
    "\n",
    "---"
   ]
  },
  {
   "cell_type": "markdown",
   "metadata": {},
   "source": [
    "## Part III: 挑戰題解答\n",
    "\n",
    "### 習題 13：成績排名系統"
   ]
  },
  {
   "cell_type": "code",
   "execution_count": null,
   "metadata": {},
   "outputs": [],
   "source": [
    "names = ['Alice', 'Bob', 'Charlie', 'David']\n",
    "scores = [85, 92, 78, 90]\n",
    "\n",
    "# 1. 配對姓名與成績\n",
    "pairs = list(zip(names, scores))\n",
    "\n",
    "# 2. 按成績降序排序\n",
    "sorted_pairs = sorted(pairs, key=lambda x: x[1], reverse=True)\n",
    "\n",
    "# 3. 顯示排名\n",
    "print(\"成績排名：\")\n",
    "for rank, (name, score) in enumerate(sorted_pairs, start=1):\n",
    "    print(f\"第{rank}名：{name} ({score}分)\")"
   ]
  },
  {
   "cell_type": "markdown",
   "metadata": {},
   "source": [
    "**重點**：\n",
    "- `lambda x: x[1]` 按成績（第二個元素）排序\n",
    "- `enumerate(start=1)` 生成排名編號\n",
    "- 巢狀解包：`(name, score)`\n",
    "\n",
    "---"
   ]
  },
  {
   "cell_type": "markdown",
   "metadata": {},
   "source": [
    "### 習題 14：移動平均值"
   ]
  },
  {
   "cell_type": "code",
   "execution_count": null,
   "metadata": {},
   "outputs": [],
   "source": [
    "prices = [100, 105, 110, 108, 112, 115, 118]\n",
    "\n",
    "# 解法：滑動窗口\n",
    "window_size = 3\n",
    "print(\"3日移動平均：\")\n",
    "\n",
    "for i in range(len(prices) - window_size + 1):\n",
    "    # 取出窗口內的元素\n",
    "    window = prices[i:i + window_size]\n",
    "    \n",
    "    # 計算平均\n",
    "    average = sum(window) / window_size\n",
    "    \n",
    "    # 顯示結果\n",
    "    print(f\"第{i+1}-{i+window_size}天：{average:.1f}\")"
   ]
  },
  {
   "cell_type": "markdown",
   "metadata": {},
   "source": [
    "**重點**：\n",
    "- `range(len(prices) - 2)` 確保有 3 個元素可取\n",
    "- 切片 `prices[i:i+3]` 取出窗口\n",
    "- 使用內建 `sum()` 計算總和\n",
    "\n",
    "---"
   ]
  },
  {
   "cell_type": "markdown",
   "metadata": {},
   "source": [
    "### 習題 15：連續子序列總和最大值"
   ]
  },
  {
   "cell_type": "code",
   "execution_count": null,
   "metadata": {},
   "outputs": [],
   "source": [
    "numbers = [2, 5, 3, 8, 10, 6, 4, 7]\n",
    "\n",
    "# 初始化\n",
    "max_sum = sum(numbers[0:3])  # 前 3 個元素的總和\n",
    "max_index = 0\n",
    "\n",
    "# 迭代所有 3 元素窗口\n",
    "for i in range(1, len(numbers) - 2):\n",
    "    current_sum = sum(numbers[i:i+3])\n",
    "    \n",
    "    if current_sum > max_sum:\n",
    "        max_sum = current_sum\n",
    "        max_index = i\n",
    "\n",
    "# 取出最大總和的子序列\n",
    "max_subsequence = numbers[max_index:max_index+3]\n",
    "\n",
    "print(f\"最大總和：{max_sum}\")\n",
    "print(f\"子序列：{max_subsequence}\")\n",
    "print(f\"起始索引：{max_index}\")"
   ]
  },
  {
   "cell_type": "markdown",
   "metadata": {},
   "source": [
    "**效能優化版本（不重複計算總和）**："
   ]
  },
  {
   "cell_type": "code",
   "execution_count": null,
   "metadata": {},
   "outputs": [],
   "source": [
    "numbers = [2, 5, 3, 8, 10, 6, 4, 7]\n",
    "\n",
    "# 初始化\n",
    "current_sum = sum(numbers[0:3])\n",
    "max_sum = current_sum\n",
    "max_index = 0\n",
    "\n",
    "# 滑動窗口優化：移除左邊，加入右邊\n",
    "for i in range(1, len(numbers) - 2):\n",
    "    # 移除窗口左邊的元素，加入右邊的新元素\n",
    "    current_sum = current_sum - numbers[i-1] + numbers[i+2]\n",
    "    \n",
    "    if current_sum > max_sum:\n",
    "        max_sum = current_sum\n",
    "        max_index = i\n",
    "\n",
    "max_subsequence = numbers[max_index:max_index+3]\n",
    "\n",
    "print(f\"最大總和：{max_sum}\")\n",
    "print(f\"子序列：{max_subsequence}\")\n",
    "print(f\"起始索引：{max_index}\")"
   ]
  },
  {
   "cell_type": "markdown",
   "metadata": {},
   "source": [
    "**重點**：\n",
    "- 基礎版：每次重新計算 `sum()`\n",
    "- 優化版：利用前一個窗口的總和，減去左邊加上右邊\n",
    "- 時間複雜度從 O(n×k) 降為 O(n)\n",
    "\n",
    "---"
   ]
  },
  {
   "cell_type": "markdown",
   "metadata": {},
   "source": [
    "## 總結\n",
    "\n",
    "### 關鍵技巧回顧\n",
    "\n",
    "| 技巧 | 使用時機 | 範例題號 |\n",
    "|:-----|:---------|:---------|\n",
    "| `enumerate()` | 需要索引和值 | 1, 5, 8, 13 |\n",
    "| `zip()` | 配對多個序列 | 1, 6, 10, 13 |\n",
    "| 累加器模式 | 總和、乘積 | 2, 7 |\n",
    "| 計數器模式 | 統計頻率 | 3, 11 |\n",
    "| 搜尋器模式 | 查找元素 | 5, 8 |\n",
    "| 過濾器模式 | 篩選資料 | 4, 8 |\n",
    "| 滑動窗口 | 連續子序列 | 14, 15 |\n",
    "\n",
    "### 效能優化要點\n",
    "\n",
    "1. **避免重複計算**：習題 15 的滑動窗口優化\n",
    "2. **提前退出**：習題 5 使用 `break`\n",
    "3. **選擇合適的資料結構**：集合 vs 列表\n",
    "4. **使用內建函式**：`sum()`, `max()`, `min()` 等\n",
    "\n",
    "### 下一步\n",
    "\n",
    "- 前往 `quiz.ipynb` 進行自我測驗\n",
    "- 複習不熟悉的題目\n",
    "- 嘗試用不同方法解同一題\n",
    "\n",
    "**恭喜完成所有習題！** 🎉"
   ]
  }
 ],
 "metadata": {
  "kernelspec": {
   "display_name": "Python 3",
   "language": "python",
   "name": "python3"
  },
  "language_info": {
   "codemirror_mode": {
    "name": "ipython",
    "version": 3
   },
   "file_extension": ".py",
   "mimetype": "text/x-python",
   "name": "python",
   "nbconvert_exporter": "python",
   "pygments_lexer": "ipython3",
   "version": "3.11.0"
  }
 },
 "nbformat": 4,
 "nbformat_minor": 4
}
