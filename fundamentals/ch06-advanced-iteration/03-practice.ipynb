{
 "cells": [
  {
   "cell_type": "markdown",
   "metadata": {},
   "source": [
    "# Chapter 6: 課堂練習 | Practice Exercises\n",
    "\n",
    "本檔案包含 12 題課堂練習，分為基礎、進階、挑戰三個等級。\n",
    "\n",
    "**建議完成時間**：40 分鐘\n",
    "\n",
    "---"
   ]
  },
  {
   "cell_type": "markdown",
   "metadata": {},
   "source": [
    "## Part I: 基礎題 (4 題)\n",
    "\n",
    "### 練習 1：enumerate() 顯示購物清單\n",
    "\n",
    "**題目**：使用 `enumerate()` 顯示購物清單，從 1 開始編號。\n",
    "\n",
    "**輸入**：\n",
    "```python\n",
    "shopping_list = ['牛奶', '麵包', '雞蛋', '蘋果']\n",
    "```\n",
    "\n",
    "**預期輸出**：\n",
    "```\n",
    "1. 牛奶\n",
    "2. 麵包\n",
    "3. 雞蛋\n",
    "4. 蘋果\n",
    "```"
   ]
  },
  {
   "cell_type": "code",
   "execution_count": null,
   "metadata": {},
   "outputs": [],
   "source": [
    "# 你的程式碼\n",
    "shopping_list = ['牛奶', '麵包', '雞蛋', '蘋果']\n",
    "\n"
   ]
  },
  {
   "cell_type": "markdown",
   "metadata": {},
   "source": [
    "---\n",
    "\n",
    "### 練習 2：zip() 配對城市與溫度\n",
    "\n",
    "**題目**：使用 `zip()` 配對城市與當天溫度。\n",
    "\n",
    "**輸入**：\n",
    "```python\n",
    "cities = ['台北', '台中', '高雄', '台南']\n",
    "temperatures = [28, 30, 32, 31]\n",
    "```\n",
    "\n",
    "**預期輸出**：\n",
    "```\n",
    "台北：28°C\n",
    "台中：30°C\n",
    "高雄：32°C\n",
    "台南：31°C\n",
    "```"
   ]
  },
  {
   "cell_type": "code",
   "execution_count": null,
   "metadata": {},
   "outputs": [],
   "source": [
    "# 你的程式碼\n",
    "cities = ['台北', '台中', '高雄', '台南']\n",
    "temperatures = [28, 30, 32, 31]\n",
    "\n"
   ]
  },
  {
   "cell_type": "markdown",
   "metadata": {},
   "source": [
    "---\n",
    "\n",
    "### 練習 3：累加器模式 - 計算總價\n",
    "\n",
    "**題目**：計算購物車中所有商品的總價。\n",
    "\n",
    "**輸入**：\n",
    "```python\n",
    "prices = [150, 200, 75, 300, 125]\n",
    "```\n",
    "\n",
    "**預期輸出**：\n",
    "```\n",
    "總價：850 元\n",
    "```"
   ]
  },
  {
   "cell_type": "code",
   "execution_count": null,
   "metadata": {},
   "outputs": [],
   "source": [
    "# 你的程式碼\n",
    "prices = [150, 200, 75, 300, 125]\n",
    "\n"
   ]
  },
  {
   "cell_type": "markdown",
   "metadata": {},
   "source": [
    "---\n",
    "\n",
    "### 練習 4：計數器模式 - 統計正數數量\n",
    "\n",
    "**題目**：統計列表中有多少個正數。\n",
    "\n",
    "**輸入**：\n",
    "```python\n",
    "numbers = [5, -3, 0, 12, -7, 8, -1, 0, 15]\n",
    "```\n",
    "\n",
    "**預期輸出**：\n",
    "```\n",
    "正數數量：4\n",
    "```"
   ]
  },
  {
   "cell_type": "code",
   "execution_count": null,
   "metadata": {},
   "outputs": [],
   "source": [
    "# 你的程式碼\n",
    "numbers = [5, -3, 0, 12, -7, 8, -1, 0, 15]\n",
    "\n"
   ]
  },
  {
   "cell_type": "markdown",
   "metadata": {},
   "source": [
    "---\n",
    "\n",
    "## Part II: 進階題 (5 題)\n",
    "\n",
    "### 練習 5：找出第一個及格的學生\n",
    "\n",
    "**題目**：找出第一個成績 ≥ 60 的學生，顯示姓名和成績。\n",
    "\n",
    "**輸入**：\n",
    "```python\n",
    "names = ['Alice', 'Bob', 'Charlie', 'David']\n",
    "scores = [45, 58, 72, 65]\n",
    "```\n",
    "\n",
    "**預期輸出**：\n",
    "```\n",
    "第一個及格的學生：Charlie (72 分)\n",
    "```\n",
    "\n",
    "**提示**：使用 `zip()` 配對，找到後用 `break` 退出。"
   ]
  },
  {
   "cell_type": "code",
   "execution_count": null,
   "metadata": {},
   "outputs": [],
   "source": [
    "# 你的程式碼\n",
    "names = ['Alice', 'Bob', 'Charlie', 'David']\n",
    "scores = [45, 58, 72, 65]\n",
    "\n"
   ]
  },
  {
   "cell_type": "markdown",
   "metadata": {},
   "source": [
    "---\n",
    "\n",
    "### 練習 6：提取所有奇數（過濾器模式）\n",
    "\n",
    "**題目**：從列表中提取所有奇數，存入新列表。\n",
    "\n",
    "**輸入**：\n",
    "```python\n",
    "numbers = [10, 15, 22, 33, 40, 47, 56, 61]\n",
    "```\n",
    "\n",
    "**預期輸出**：\n",
    "```\n",
    "奇數：[15, 33, 47, 61]\n",
    "```"
   ]
  },
  {
   "cell_type": "code",
   "execution_count": null,
   "metadata": {},
   "outputs": [],
   "source": [
    "# 你的程式碼\n",
    "numbers = [10, 15, 22, 33, 40, 47, 56, 61]\n",
    "\n"
   ]
  },
  {
   "cell_type": "markdown",
   "metadata": {},
   "source": [
    "---\n",
    "\n",
    "### 練習 7：計算平均分並分類\n",
    "\n",
    "**題目**：計算平均分，並統計高於平均的人數。\n",
    "\n",
    "**輸入**：\n",
    "```python\n",
    "scores = [75, 88, 92, 65, 70, 85]\n",
    "```\n",
    "\n",
    "**預期輸出**：\n",
    "```\n",
    "平均分：79.2\n",
    "高於平均：3 人\n",
    "```"
   ]
  },
  {
   "cell_type": "code",
   "execution_count": null,
   "metadata": {},
   "outputs": [],
   "source": [
    "# 你的程式碼\n",
    "scores = [75, 88, 92, 65, 70, 85]\n",
    "\n"
   ]
  },
  {
   "cell_type": "markdown",
   "metadata": {},
   "source": [
    "---\n",
    "\n",
    "### 練習 8：enumerate() 找出特定元素的所有位置\n",
    "\n",
    "**題目**：找出字母 'a' 在列表中的所有索引位置。\n",
    "\n",
    "**輸入**：\n",
    "```python\n",
    "letters = ['b', 'a', 'n', 'a', 'n', 'a']\n",
    "target = 'a'\n",
    "```\n",
    "\n",
    "**預期輸出**：\n",
    "```\n",
    "'a' 出現在索引：[1, 3, 5]\n",
    "```"
   ]
  },
  {
   "cell_type": "code",
   "execution_count": null,
   "metadata": {},
   "outputs": [],
   "source": [
    "# 你的程式碼\n",
    "letters = ['b', 'a', 'n', 'a', 'n', 'a']\n",
    "target = 'a'\n",
    "\n"
   ]
  },
  {
   "cell_type": "markdown",
   "metadata": {},
   "source": [
    "---\n",
    "\n",
    "### 練習 9：zip() 三個列表配對\n",
    "\n",
    "**題目**：配對學生姓名、科目、成績，顯示完整資訊。\n",
    "\n",
    "**輸入**：\n",
    "```python\n",
    "names = ['Alice', 'Bob', 'Charlie']\n",
    "subjects = ['Math', 'English', 'Science']\n",
    "scores = [85, 92, 78]\n",
    "```\n",
    "\n",
    "**預期輸出**：\n",
    "```\n",
    "Alice - Math: 85\n",
    "Bob - English: 92\n",
    "Charlie - Science: 78\n",
    "```"
   ]
  },
  {
   "cell_type": "code",
   "execution_count": null,
   "metadata": {},
   "outputs": [],
   "source": [
    "# 你的程式碼\n",
    "names = ['Alice', 'Bob', 'Charlie']\n",
    "subjects = ['Math', 'English', 'Science']\n",
    "scores = [85, 92, 78]\n",
    "\n"
   ]
  },
  {
   "cell_type": "markdown",
   "metadata": {},
   "source": [
    "---\n",
    "\n",
    "## Part III: 挑戰題 (3 題)\n",
    "\n",
    "### 練習 10：找出最長的字串\n",
    "\n",
    "**題目**：找出列表中最長的字串及其長度。\n",
    "\n",
    "**輸入**：\n",
    "```python\n",
    "words = ['apple', 'banana', 'cherry', 'date', 'elderberry']\n",
    "```\n",
    "\n",
    "**預期輸出**：\n",
    "```\n",
    "最長的字串：elderberry\n",
    "長度：10\n",
    "```"
   ]
  },
  {
   "cell_type": "code",
   "execution_count": null,
   "metadata": {},
   "outputs": [],
   "source": [
    "# 你的程式碼\n",
    "words = ['apple', 'banana', 'cherry', 'date', 'elderberry']\n",
    "\n"
   ]
  },
  {
   "cell_type": "markdown",
   "metadata": {},
   "source": [
    "---\n",
    "\n",
    "### 練習 11：成績等第轉換\n",
    "\n",
    "**題目**：將分數轉換為等第 (A/B/C/D/F)，並統計各等第人數。\n",
    "\n",
    "**規則**：\n",
    "- A: 90-100\n",
    "- B: 80-89\n",
    "- C: 70-79\n",
    "- D: 60-69\n",
    "- F: 0-59\n",
    "\n",
    "**輸入**：\n",
    "```python\n",
    "scores = [95, 87, 72, 58, 91, 76, 83, 65, 45, 88]\n",
    "```\n",
    "\n",
    "**預期輸出**：\n",
    "```\n",
    "等第分布：\n",
    "A: 2 人\n",
    "B: 3 人\n",
    "C: 2 人\n",
    "D: 1 人\n",
    "F: 2 人\n",
    "```"
   ]
  },
  {
   "cell_type": "code",
   "execution_count": null,
   "metadata": {},
   "outputs": [],
   "source": [
    "# 你的程式碼\n",
    "scores = [95, 87, 72, 58, 91, 76, 83, 65, 45, 88]\n",
    "\n"
   ]
  },
  {
   "cell_type": "markdown",
   "metadata": {},
   "source": [
    "---\n",
    "\n",
    "### 練習 12：兩列表的共同元素（不使用 set）\n",
    "\n",
    "**題目**：找出兩個列表的共同元素（手動實作，不使用集合操作）。\n",
    "\n",
    "**輸入**：\n",
    "```python\n",
    "list1 = [1, 2, 3, 4, 5, 6]\n",
    "list2 = [4, 5, 6, 7, 8, 9]\n",
    "```\n",
    "\n",
    "**預期輸出**：\n",
    "```\n",
    "共同元素：[4, 5, 6]\n",
    "```\n",
    "\n",
    "**提示**：使用巢狀迴圈或過濾器模式。"
   ]
  },
  {
   "cell_type": "code",
   "execution_count": null,
   "metadata": {},
   "outputs": [],
   "source": [
    "# 你的程式碼\n",
    "list1 = [1, 2, 3, 4, 5, 6]\n",
    "list2 = [4, 5, 6, 7, 8, 9]\n",
    "\n"
   ]
  },
  {
   "cell_type": "markdown",
   "metadata": {},
   "source": [
    "---\n",
    "\n",
    "## 完成檢核\n",
    "\n",
    "完成後，請確認：\n",
    "\n",
    "- [ ] 所有程式碼可以執行\n",
    "- [ ] 輸出結果符合預期\n",
    "- [ ] 理解每題使用的迴圈模式\n",
    "- [ ] 變數命名清晰易懂\n",
    "\n",
    "**下一步**：前往 `04-exercises.ipynb` 完成課後習題！"
   ]
  }
 ],
 "metadata": {
  "kernelspec": {
   "display_name": "Python 3",
   "language": "python",
   "name": "python3"
  },
  "language_info": {
   "codemirror_mode": {
    "name": "ipython",
    "version": 3
   },
   "file_extension": ".py",
   "mimetype": "text/x-python",
   "name": "python",
   "nbconvert_exporter": "python",
   "pygments_lexer": "ipython3",
   "version": "3.11.0"
  }
 },
 "nbformat": 4,
 "nbformat_minor": 4
}
