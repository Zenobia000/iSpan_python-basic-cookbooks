{
 "cells": [
  {
   "cell_type": "markdown",
   "metadata": {},
   "source": [
    "# Chapter 6: 自我測驗 | Self-Assessment Quiz\n",
    "\n",
    "本測驗包含 20 題，涵蓋選擇題、填空題、程式題。\n",
    "\n",
    "**建議時間**：30 分鐘\n",
    "\n",
    "---"
   ]
  },
  {
   "cell_type": "markdown",
   "metadata": {},
   "source": [
    "## Part I: 選擇題 (12 題)\n",
    "\n",
    "### Q1. enumerate() 的預設起始索引是？\n",
    "\n",
    "A) -1  \n",
    "B) 0  \n",
    "C) 1  \n",
    "D) None  \n",
    "\n",
    "**你的答案**："
   ]
  },
  {
   "cell_type": "code",
   "execution_count": null,
   "metadata": {},
   "outputs": [],
   "source": [
    "# 在此處輸入答案（例如：answer_q1 = \"B\"）\n",
    "answer_q1 = \"\""
   ]
  },
  {
   "cell_type": "markdown",
   "metadata": {},
   "source": [
    "---\n",
    "\n",
    "### Q2. 下列哪個可以同時取得索引和值？\n",
    "\n",
    "A) `for item in list:`  \n",
    "B) `for i in range(len(list)):`  \n",
    "C) `for i, item in enumerate(list):`  \n",
    "D) `for item in zip(list):`  \n",
    "\n",
    "**你的答案**："
   ]
  },
  {
   "cell_type": "code",
   "execution_count": null,
   "metadata": {},
   "outputs": [],
   "source": [
    "answer_q2 = \"\""
   ]
  },
  {
   "cell_type": "markdown",
   "metadata": {},
   "source": [
    "---\n",
    "\n",
    "### Q3. zip() 處理不等長序列時會？\n",
    "\n",
    "A) 報錯  \n",
    "B) 以最長序列為準  \n",
    "C) 以最短序列為準  \n",
    "D) 自動補齊空值  \n",
    "\n",
    "**你的答案**："
   ]
  },
  {
   "cell_type": "code",
   "execution_count": null,
   "metadata": {},
   "outputs": [],
   "source": [
    "answer_q3 = \"\""
   ]
  },
  {
   "cell_type": "markdown",
   "metadata": {},
   "source": [
    "---\n",
    "\n",
    "### Q4. 下列哪個是累加器模式的正確初始化？（計算總和）\n",
    "\n",
    "A) `total = None`  \n",
    "B) `total = 0`  \n",
    "C) `total = 1`  \n",
    "D) `total = []`  \n",
    "\n",
    "**你的答案**："
   ]
  },
  {
   "cell_type": "code",
   "execution_count": null,
   "metadata": {},
   "outputs": [],
   "source": [
    "answer_q4 = \"\""
   ]
  },
  {
   "cell_type": "markdown",
   "metadata": {},
   "source": [
    "---\n",
    "\n",
    "### Q5. 計算乘積時，累加器的初始值應該是？\n",
    "\n",
    "A) 0  \n",
    "B) 1  \n",
    "C) None  \n",
    "D) []  \n",
    "\n",
    "**你的答案**："
   ]
  },
  {
   "cell_type": "code",
   "execution_count": null,
   "metadata": {},
   "outputs": [],
   "source": [
    "answer_q5 = \"\""
   ]
  },
  {
   "cell_type": "markdown",
   "metadata": {},
   "source": [
    "---\n",
    "\n",
    "### Q6. 以下程式碼的輸出是什麼？\n",
    "\n",
    "```python\n",
    "for i, char in enumerate('ABC', start=1):\n",
    "    print(i, char)\n",
    "```\n",
    "\n",
    "A) 0 A, 1 B, 2 C  \n",
    "B) 1 A, 2 B, 3 C  \n",
    "C) A 1, B 2, C 3  \n",
    "D) 報錯  \n",
    "\n",
    "**你的答案**："
   ]
  },
  {
   "cell_type": "code",
   "execution_count": null,
   "metadata": {},
   "outputs": [],
   "source": [
    "answer_q6 = \"\""
   ]
  },
  {
   "cell_type": "markdown",
   "metadata": {},
   "source": [
    "---\n",
    "\n",
    "### Q7. 以下程式碼的輸出長度是？\n",
    "\n",
    "```python\n",
    "list1 = [1, 2, 3, 4]\n",
    "list2 = [5, 6]\n",
    "result = list(zip(list1, list2))\n",
    "print(len(result))\n",
    "```\n",
    "\n",
    "A) 2  \n",
    "B) 4  \n",
    "C) 6  \n",
    "D) 報錯  \n",
    "\n",
    "**你的答案**："
   ]
  },
  {
   "cell_type": "code",
   "execution_count": null,
   "metadata": {},
   "outputs": [],
   "source": [
    "answer_q7 = \"\""
   ]
  },
  {
   "cell_type": "markdown",
   "metadata": {},
   "source": [
    "---\n",
    "\n",
    "### Q8. 過濾器模式的典型結構是？\n",
    "\n",
    "A) 初始化空列表 → 條件滿足時 append → 返回列表  \n",
    "B) 初始化為 0 → 累加 → 返回總和  \n",
    "C) 找到目標後 break  \n",
    "D) 條件計數  \n",
    "\n",
    "**你的答案**："
   ]
  },
  {
   "cell_type": "code",
   "execution_count": null,
   "metadata": {},
   "outputs": [],
   "source": [
    "answer_q8 = \"\""
   ]
  },
  {
   "cell_type": "markdown",
   "metadata": {},
   "source": [
    "---\n",
    "\n",
    "### Q9. 在列表中查找成員，哪個資料結構最快？\n",
    "\n",
    "A) 列表 (list)  \n",
    "B) 元組 (tuple)  \n",
    "C) 集合 (set)  \n",
    "D) 字串 (str)  \n",
    "\n",
    "**你的答案**："
   ]
  },
  {
   "cell_type": "code",
   "execution_count": null,
   "metadata": {},
   "outputs": [],
   "source": [
    "answer_q9 = \"\""
   ]
  },
  {
   "cell_type": "markdown",
   "metadata": {},
   "source": [
    "---\n",
    "\n",
    "### Q10. 以下哪個會報錯？\n",
    "\n",
    "A) `for i, x in enumerate([1, 2, 3]):`  \n",
    "B) `for x in enumerate([1, 2, 3]):`  \n",
    "C) `for x, y in zip([1, 2], [3, 4]):`  \n",
    "D) 都不會報錯  \n",
    "\n",
    "**你的答案**："
   ]
  },
  {
   "cell_type": "code",
   "execution_count": null,
   "metadata": {},
   "outputs": [],
   "source": [
    "answer_q10 = \"\""
   ]
  },
  {
   "cell_type": "markdown",
   "metadata": {},
   "source": [
    "---\n",
    "\n",
    "### Q11. 以下程式碼會輸出什麼？\n",
    "\n",
    "```python\n",
    "count = 0\n",
    "for num in [5, 10, 15, 20]:\n",
    "    if num > 10:\n",
    "        count += 1\n",
    "print(count)\n",
    "```\n",
    "\n",
    "A) 1  \n",
    "B) 2  \n",
    "C) 3  \n",
    "D) 4  \n",
    "\n",
    "**你的答案**："
   ]
  },
  {
   "cell_type": "code",
   "execution_count": null,
   "metadata": {},
   "outputs": [],
   "source": [
    "answer_q11 = \"\""
   ]
  },
  {
   "cell_type": "markdown",
   "metadata": {},
   "source": [
    "---\n",
    "\n",
    "### Q12. zip() 可以配對幾個序列？\n",
    "\n",
    "A) 只能 2 個  \n",
    "B) 最多 3 個  \n",
    "C) 任意多個  \n",
    "D) 必須是偶數個  \n",
    "\n",
    "**你的答案**："
   ]
  },
  {
   "cell_type": "code",
   "execution_count": null,
   "metadata": {},
   "outputs": [],
   "source": [
    "answer_q12 = \"\""
   ]
  },
  {
   "cell_type": "markdown",
   "metadata": {},
   "source": [
    "---\n",
    "\n",
    "## Part II: 填空題 (3 題)\n",
    "\n",
    "### Q13. 填空：從 1 開始編號\n",
    "\n",
    "```python\n",
    "fruits = ['apple', 'banana', 'cherry']\n",
    "for i, fruit in enumerate(fruits, start=____):\n",
    "    print(f\"{i}. {fruit}\")\n",
    "```\n",
    "\n",
    "**你的答案**："
   ]
  },
  {
   "cell_type": "code",
   "execution_count": null,
   "metadata": {},
   "outputs": [],
   "source": [
    "answer_q13 = \"\"  # 填入數字"
   ]
  },
  {
   "cell_type": "markdown",
   "metadata": {},
   "source": [
    "---\n",
    "\n",
    "### Q14. 填空：配對兩個列表\n",
    "\n",
    "```python\n",
    "names = ['Alice', 'Bob']\n",
    "scores = [85, 92]\n",
    "\n",
    "for name, score in ____(names, scores):\n",
    "    print(f\"{name}: {score}\")\n",
    "```\n",
    "\n",
    "**你的答案**："
   ]
  },
  {
   "cell_type": "code",
   "execution_count": null,
   "metadata": {},
   "outputs": [],
   "source": [
    "answer_q14 = \"\"  # 填入函式名稱"
   ]
  },
  {
   "cell_type": "markdown",
   "metadata": {},
   "source": [
    "---\n",
    "\n",
    "### Q15. 填空：累加器初始值\n",
    "\n",
    "```python\n",
    "numbers = [2, 3, 4]\n",
    "product = ____  # 計算乘積\n",
    "\n",
    "for num in numbers:\n",
    "    product *= num\n",
    "\n",
    "print(product)  # 應輸出 24\n",
    "```\n",
    "\n",
    "**你的答案**："
   ]
  },
  {
   "cell_type": "code",
   "execution_count": null,
   "metadata": {},
   "outputs": [],
   "source": [
    "answer_q15 = \"\"  # 填入初始值"
   ]
  },
  {
   "cell_type": "markdown",
   "metadata": {},
   "source": [
    "---\n",
    "\n",
    "## Part III: 程式題 (5 題)\n",
    "\n",
    "### Q16. 程式題：顯示索引與平方值\n",
    "\n",
    "**題目**：使用 `enumerate()` 顯示每個數字的索引和平方值。\n",
    "\n",
    "**輸入**：\n",
    "```python\n",
    "numbers = [2, 4, 6, 8]\n",
    "```\n",
    "\n",
    "**預期輸出**：\n",
    "```\n",
    "索引 0: 2 的平方是 4\n",
    "索引 1: 4 的平方是 16\n",
    "索引 2: 6 的平方是 36\n",
    "索引 3: 8 的平方是 64\n",
    "```"
   ]
  },
  {
   "cell_type": "code",
   "execution_count": null,
   "metadata": {},
   "outputs": [],
   "source": [
    "# 你的程式碼\n",
    "numbers = [2, 4, 6, 8]\n",
    "\n"
   ]
  },
  {
   "cell_type": "markdown",
   "metadata": {},
   "source": [
    "---\n",
    "\n",
    "### Q17. 程式題：計算兩列表對應元素的總和\n",
    "\n",
    "**題目**：使用 `zip()` 計算兩個列表對應位置元素的總和。\n",
    "\n",
    "**輸入**：\n",
    "```python\n",
    "list1 = [1, 2, 3, 4]\n",
    "list2 = [5, 6, 7, 8]\n",
    "```\n",
    "\n",
    "**預期輸出**：\n",
    "```\n",
    "[6, 8, 10, 12]\n",
    "```"
   ]
  },
  {
   "cell_type": "code",
   "execution_count": null,
   "metadata": {},
   "outputs": [],
   "source": [
    "# 你的程式碼\n",
    "list1 = [1, 2, 3, 4]\n",
    "list2 = [5, 6, 7, 8]\n",
    "\n"
   ]
  },
  {
   "cell_type": "markdown",
   "metadata": {},
   "source": [
    "---\n",
    "\n",
    "### Q18. 程式題：找出最小值及索引\n",
    "\n",
    "**題目**：找出列表中的最小值及其索引（不使用 `min()` 和 `.index()`）。\n",
    "\n",
    "**輸入**：\n",
    "```python\n",
    "numbers = [45, 23, 67, 12, 89, 34]\n",
    "```\n",
    "\n",
    "**預期輸出**：\n",
    "```\n",
    "最小值：12\n",
    "索引：3\n",
    "```"
   ]
  },
  {
   "cell_type": "code",
   "execution_count": null,
   "metadata": {},
   "outputs": [],
   "source": [
    "# 你的程式碼\n",
    "numbers = [45, 23, 67, 12, 89, 34]\n",
    "\n"
   ]
  },
  {
   "cell_type": "markdown",
   "metadata": {},
   "source": [
    "---\n",
    "\n",
    "### Q19. 程式題：統計偶數與奇數數量\n",
    "\n",
    "**題目**：統計列表中偶數和奇數的數量。\n",
    "\n",
    "**輸入**：\n",
    "```python\n",
    "numbers = [1, 2, 3, 4, 5, 6, 7, 8, 9, 10]\n",
    "```\n",
    "\n",
    "**預期輸出**：\n",
    "```\n",
    "偶數：5 個\n",
    "奇數：5 個\n",
    "```"
   ]
  },
  {
   "cell_type": "code",
   "execution_count": null,
   "metadata": {},
   "outputs": [],
   "source": [
    "# 你的程式碼\n",
    "numbers = [1, 2, 3, 4, 5, 6, 7, 8, 9, 10]\n",
    "\n"
   ]
  },
  {
   "cell_type": "markdown",
   "metadata": {},
   "source": [
    "---\n",
    "\n",
    "### Q20. 程式題：字典鍵值配對\n",
    "\n",
    "**題目**：使用 `zip()` 將兩個列表組合成字典。\n",
    "\n",
    "**輸入**：\n",
    "```python\n",
    "keys = ['name', 'age', 'city']\n",
    "values = ['Alice', 25, 'Taipei']\n",
    "```\n",
    "\n",
    "**預期輸出**：\n",
    "```python\n",
    "{'name': 'Alice', 'age': 25, 'city': 'Taipei'}\n",
    "```"
   ]
  },
  {
   "cell_type": "code",
   "execution_count": null,
   "metadata": {},
   "outputs": [],
   "source": [
    "# 你的程式碼\n",
    "keys = ['name', 'age', 'city']\n",
    "values = ['Alice', 25, 'Taipei']\n",
    "\n"
   ]
  },
  {
   "cell_type": "markdown",
   "metadata": {},
   "source": [
    "---\n",
    "\n",
    "## 解答\n",
    "\n",
    "### Part I: 選擇題解答\n",
    "\n",
    "1. **B** - 預設從 0 開始\n",
    "2. **C** - `enumerate()` 返回索引和值\n",
    "3. **C** - 以最短序列為準\n",
    "4. **B** - 總和初始值為 0\n",
    "5. **B** - 乘積初始值為 1\n",
    "6. **B** - `start=1` 使索引從 1 開始\n",
    "7. **A** - `zip()` 以最短序列為準，所以長度是 2\n",
    "8. **A** - 過濾器模式：初始化空列表 → 條件 append\n",
    "9. **C** - 集合的成員檢查是 O(1)\n",
    "10. **D** - 都不會報錯（B 會得到元組）\n",
    "11. **B** - 15 和 20 大於 10，所以 count = 2\n",
    "12. **C** - `zip()` 可配對任意多個序列\n",
    "\n",
    "---\n",
    "\n",
    "### Part II: 填空題解答\n",
    "\n",
    "13. **1** - `enumerate(fruits, start=1)`\n",
    "14. **zip** - `for name, score in zip(names, scores):`\n",
    "15. **1** - 乘積初始值為 1\n",
    "\n",
    "---\n",
    "\n",
    "### Part III: 程式題解答\n",
    "\n",
    "**Q16 解答**："
   ]
  },
  {
   "cell_type": "code",
   "execution_count": null,
   "metadata": {},
   "outputs": [],
   "source": [
    "numbers = [2, 4, 6, 8]\n",
    "\n",
    "for index, num in enumerate(numbers):\n",
    "    square = num ** 2\n",
    "    print(f\"索引 {index}: {num} 的平方是 {square}\")"
   ]
  },
  {
   "cell_type": "markdown",
   "metadata": {},
   "source": [
    "**Q17 解答**："
   ]
  },
  {
   "cell_type": "code",
   "execution_count": null,
   "metadata": {},
   "outputs": [],
   "source": [
    "list1 = [1, 2, 3, 4]\n",
    "list2 = [5, 6, 7, 8]\n",
    "\n",
    "result = []\n",
    "for a, b in zip(list1, list2):\n",
    "    result.append(a + b)\n",
    "\n",
    "print(result)"
   ]
  },
  {
   "cell_type": "markdown",
   "metadata": {},
   "source": [
    "**Q18 解答**："
   ]
  },
  {
   "cell_type": "code",
   "execution_count": null,
   "metadata": {},
   "outputs": [],
   "source": [
    "numbers = [45, 23, 67, 12, 89, 34]\n",
    "\n",
    "min_value = numbers[0]\n",
    "min_index = 0\n",
    "\n",
    "for index, num in enumerate(numbers):\n",
    "    if num < min_value:\n",
    "        min_value = num\n",
    "        min_index = index\n",
    "\n",
    "print(f\"最小值：{min_value}\")\n",
    "print(f\"索引：{min_index}\")"
   ]
  },
  {
   "cell_type": "markdown",
   "metadata": {},
   "source": [
    "**Q19 解答**："
   ]
  },
  {
   "cell_type": "code",
   "execution_count": null,
   "metadata": {},
   "outputs": [],
   "source": [
    "numbers = [1, 2, 3, 4, 5, 6, 7, 8, 9, 10]\n",
    "\n",
    "even_count = 0\n",
    "odd_count = 0\n",
    "\n",
    "for num in numbers:\n",
    "    if num % 2 == 0:\n",
    "        even_count += 1\n",
    "    else:\n",
    "        odd_count += 1\n",
    "\n",
    "print(f\"偶數：{even_count} 個\")\n",
    "print(f\"奇數：{odd_count} 個\")"
   ]
  },
  {
   "cell_type": "markdown",
   "metadata": {},
   "source": [
    "**Q20 解答**："
   ]
  },
  {
   "cell_type": "code",
   "execution_count": null,
   "metadata": {},
   "outputs": [],
   "source": [
    "keys = ['name', 'age', 'city']\n",
    "values = ['Alice', 25, 'Taipei']\n",
    "\n",
    "# 方法 1：使用 dict() 和 zip()\n",
    "result = dict(zip(keys, values))\n",
    "print(result)\n",
    "\n",
    "# 方法 2：手動建構\n",
    "result = {}\n",
    "for key, value in zip(keys, values):\n",
    "    result[key] = value\n",
    "print(result)"
   ]
  },
  {
   "cell_type": "markdown",
   "metadata": {},
   "source": [
    "---\n",
    "\n",
    "## 評分標準\n",
    "\n",
    "| 得分範圍 | 評價 | 建議 |\n",
    "|:---------|:-----|:-----|\n",
    "| 18-20 | 優秀 | 進階學習列表推導式、生成器 |\n",
    "| 15-17 | 良好 | 複習不熟悉的題目 |\n",
    "| 12-14 | 及格 | 重新學習 `enumerate()` 和 `zip()` |\n",
    "| < 12 | 需加強 | 回到 `01-lecture.ipynb` 重新學習 |\n",
    "\n",
    "---\n",
    "\n",
    "## 恭喜完成 Chapter 6！🎉\n",
    "\n",
    "**下一章預告**：Ch07 - 列表操作與方法\n",
    "\n",
    "你將學習：\n",
    "- 列表的增刪改查\n",
    "- 列表切片與複製\n",
    "- 列表推導式\n",
    "- 列表排序與反轉\n",
    "\n",
    "**繼續加油！** 💪"
   ]
  }
 ],
 "metadata": {
  "kernelspec": {
   "display_name": "Python 3",
   "language": "python",
   "name": "python3"
  },
  "language_info": {
   "codemirror_mode": {
    "name": "ipython",
    "version": 3
   },
   "file_extension": ".py",
   "mimetype": "text/x-python",
   "name": "python",
   "nbconvert_exporter": "python",
   "pygments_lexer": "ipython3",
   "version": "3.11.0"
  }
 },
 "nbformat": 4,
 "nbformat_minor": 4
}
