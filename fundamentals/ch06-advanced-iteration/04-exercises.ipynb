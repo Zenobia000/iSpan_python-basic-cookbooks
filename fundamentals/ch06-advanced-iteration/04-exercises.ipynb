{
 "cells": [
  {
   "cell_type": "markdown",
   "metadata": {},
   "source": [
    "# Chapter 6: 課後習題 | Homework Exercises\n",
    "\n",
    "本檔案包含 15 題課後習題，分為基礎、中階、挑戰三個等級。\n",
    "\n",
    "**建議完成時間**：60 分鐘\n",
    "\n",
    "---"
   ]
  },
  {
   "cell_type": "markdown",
   "metadata": {},
   "source": [
    "## Part I: 基礎題 (6 題)\n",
    "\n",
    "### 習題 1：商品清單顯示\n",
    "\n",
    "**題目**：使用 `enumerate()` 顯示商品清單，格式為「編號. 商品名 - 價格元」。\n",
    "\n",
    "**輸入**：\n",
    "```python\n",
    "products = ['筆記本', '原子筆', '橡皮擦', '尺']\n",
    "prices = [50, 15, 10, 20]\n",
    "```\n",
    "\n",
    "**預期輸出**：\n",
    "```\n",
    "1. 筆記本 - 50元\n",
    "2. 原子筆 - 15元\n",
    "3. 橡皮擦 - 10元\n",
    "4. 尺 - 20元\n",
    "```"
   ]
  },
  {
   "cell_type": "code",
   "execution_count": null,
   "metadata": {},
   "outputs": [],
   "source": [
    "# 你的程式碼\n",
    "products = ['筆記本', '原子筆', '橡皮擦', '尺']\n",
    "prices = [50, 15, 10, 20]\n",
    "\n"
   ]
  },
  {
   "cell_type": "markdown",
   "metadata": {},
   "source": [
    "---\n",
    "\n",
    "### 習題 2：計算產品總和\n",
    "\n",
    "**題目**：計算所有數字的乘積（使用累加器模式）。\n",
    "\n",
    "**輸入**：\n",
    "```python\n",
    "numbers = [2, 3, 4, 5]\n",
    "```\n",
    "\n",
    "**預期輸出**：\n",
    "```\n",
    "乘積：120\n",
    "```\n",
    "\n",
    "**提示**：初始值設為 1（而非 0）。"
   ]
  },
  {
   "cell_type": "code",
   "execution_count": null,
   "metadata": {},
   "outputs": [],
   "source": [
    "# 你的程式碼\n",
    "numbers = [2, 3, 4, 5]\n",
    "\n"
   ]
  },
  {
   "cell_type": "markdown",
   "metadata": {},
   "source": [
    "---\n",
    "\n",
    "### 習題 3：統計單字長度\n",
    "\n",
    "**題目**：統計有多少個單字長度 ≥ 5。\n",
    "\n",
    "**輸入**：\n",
    "```python\n",
    "words = ['apple', 'cat', 'banana', 'dog', 'cherry', 'elephant']\n",
    "```\n",
    "\n",
    "**預期輸出**：\n",
    "```\n",
    "長度 ≥ 5 的單字：4 個\n",
    "```"
   ]
  },
  {
   "cell_type": "code",
   "execution_count": null,
   "metadata": {},
   "outputs": [],
   "source": [
    "# 你的程式碼\n",
    "words = ['apple', 'cat', 'banana', 'dog', 'cherry', 'elephant']\n",
    "\n"
   ]
  },
  {
   "cell_type": "markdown",
   "metadata": {},
   "source": [
    "---\n",
    "\n",
    "### 習題 4：提取負數\n",
    "\n",
    "**題目**：從列表中提取所有負數。\n",
    "\n",
    "**輸入**：\n",
    "```python\n",
    "numbers = [10, -5, 3, -8, 0, -12, 7, -3]\n",
    "```\n",
    "\n",
    "**預期輸出**：\n",
    "```\n",
    "負數：[-5, -8, -12, -3]\n",
    "```"
   ]
  },
  {
   "cell_type": "code",
   "execution_count": null,
   "metadata": {},
   "outputs": [],
   "source": [
    "# 你的程式碼\n",
    "numbers = [10, -5, 3, -8, 0, -12, 7, -3]\n",
    "\n"
   ]
  },
  {
   "cell_type": "markdown",
   "metadata": {},
   "source": [
    "---\n",
    "\n",
    "### 習題 5：找出第一個偶數\n",
    "\n",
    "**題目**：找出列表中第一個偶數及其索引位置。\n",
    "\n",
    "**輸入**：\n",
    "```python\n",
    "numbers = [13, 7, 21, 8, 15, 10]\n",
    "```\n",
    "\n",
    "**預期輸出**：\n",
    "```\n",
    "第一個偶數：8\n",
    "位置：索引 3\n",
    "```\n",
    "\n",
    "**提示**：找到後使用 `break` 退出。"
   ]
  },
  {
   "cell_type": "code",
   "execution_count": null,
   "metadata": {},
   "outputs": [],
   "source": [
    "# 你的程式碼\n",
    "numbers = [13, 7, 21, 8, 15, 10]\n",
    "\n"
   ]
  },
  {
   "cell_type": "markdown",
   "metadata": {},
   "source": [
    "---\n",
    "\n",
    "### 習題 6：zip() 配對問答\n",
    "\n",
    "**題目**：配對問題與答案，顯示問答卡片。\n",
    "\n",
    "**輸入**：\n",
    "```python\n",
    "questions = ['What is 2+2?', 'What is 3*3?', 'What is 10/2?']\n",
    "answers = ['4', '9', '5']\n",
    "```\n",
    "\n",
    "**預期輸出**：\n",
    "```\n",
    "Q: What is 2+2?\n",
    "A: 4\n",
    "---\n",
    "Q: What is 3*3?\n",
    "A: 9\n",
    "---\n",
    "Q: What is 10/2?\n",
    "A: 5\n",
    "---\n",
    "```"
   ]
  },
  {
   "cell_type": "code",
   "execution_count": null,
   "metadata": {},
   "outputs": [],
   "source": [
    "# 你的程式碼\n",
    "questions = ['What is 2+2?', 'What is 3*3?', 'What is 10/2?']\n",
    "answers = ['4', '9', '5']\n",
    "\n"
   ]
  },
  {
   "cell_type": "markdown",
   "metadata": {},
   "source": [
    "---\n",
    "\n",
    "## Part II: 中階題 (6 題)\n",
    "\n",
    "### 習題 7：計算班級成績統計\n",
    "\n",
    "**題目**：計算班級的最高分、最低分、平均分、中位數（假設已排序）。\n",
    "\n",
    "**輸入**：\n",
    "```python\n",
    "scores = [72, 85, 90, 65, 78, 88, 92, 70]\n",
    "```\n",
    "\n",
    "**預期輸出**：\n",
    "```\n",
    "最高分：92\n",
    "最低分：65\n",
    "平均分：80.0\n",
    "中位數：81.5\n",
    "```\n",
    "\n",
    "**提示**：中位數 = (第4個 + 第5個) / 2（偶數個元素時）"
   ]
  },
  {
   "cell_type": "code",
   "execution_count": null,
   "metadata": {},
   "outputs": [],
   "source": [
    "# 你的程式碼\n",
    "scores = [72, 85, 90, 65, 78, 88, 92, 70]\n",
    "\n"
   ]
  },
  {
   "cell_type": "markdown",
   "metadata": {},
   "source": [
    "---\n",
    "\n",
    "### 習題 8：找出所有質數索引\n",
    "\n",
    "**題目**：找出列表中所有質數的索引位置。\n",
    "\n",
    "**輸入**：\n",
    "```python\n",
    "numbers = [10, 13, 4, 17, 9, 19, 8, 23]\n",
    "```\n",
    "\n",
    "**預期輸出**：\n",
    "```\n",
    "質數索引：[1, 3, 5, 7]\n",
    "質數：[13, 17, 19, 23]\n",
    "```\n",
    "\n",
    "**提示**：質數判斷可用簡單的試除法。"
   ]
  },
  {
   "cell_type": "code",
   "execution_count": null,
   "metadata": {},
   "outputs": [],
   "source": [
    "# 你的程式碼\n",
    "numbers = [10, 13, 4, 17, 9, 19, 8, 23]\n",
    "\n",
    "# 質數判斷函式\n",
    "def is_prime(n):\n",
    "    if n < 2:\n",
    "        return False\n",
    "    for i in range(2, int(n**0.5) + 1):\n",
    "        if n % i == 0:\n",
    "            return False\n",
    "    return True\n",
    "\n"
   ]
  },
  {
   "cell_type": "markdown",
   "metadata": {},
   "source": [
    "---\n",
    "\n",
    "### 習題 9：字串反轉（手動實作）\n",
    "\n",
    "**題目**：使用迴圈將字串反轉（不使用切片 `[::-1]`）。\n",
    "\n",
    "**輸入**：\n",
    "```python\n",
    "text = \"Python\"\n",
    "```\n",
    "\n",
    "**預期輸出**：\n",
    "```\n",
    "反轉後：nohtyP\n",
    "```"
   ]
  },
  {
   "cell_type": "code",
   "execution_count": null,
   "metadata": {},
   "outputs": [],
   "source": [
    "# 你的程式碼\n",
    "text = \"Python\"\n",
    "\n"
   ]
  },
  {
   "cell_type": "markdown",
   "metadata": {},
   "source": [
    "---\n",
    "\n",
    "### 習題 10：配對學生與座號\n",
    "\n",
    "**題目**：配對學生姓名與座號，並按座號排序顯示。\n",
    "\n",
    "**輸入**：\n",
    "```python\n",
    "names = ['Charlie', 'Alice', 'Bob', 'David']\n",
    "seat_numbers = [3, 1, 2, 4]\n",
    "```\n",
    "\n",
    "**預期輸出**：\n",
    "```\n",
    "座位表：\n",
    "1號：Alice\n",
    "2號：Bob\n",
    "3號：Charlie\n",
    "4號：David\n",
    "```\n",
    "\n",
    "**提示**：先用 `zip()` 配對，再用 `sorted()` 排序。"
   ]
  },
  {
   "cell_type": "code",
   "execution_count": null,
   "metadata": {},
   "outputs": [],
   "source": [
    "# 你的程式碼\n",
    "names = ['Charlie', 'Alice', 'Bob', 'David']\n",
    "seat_numbers = [3, 1, 2, 4]\n",
    "\n"
   ]
  },
  {
   "cell_type": "markdown",
   "metadata": {},
   "source": [
    "---\n",
    "\n",
    "### 習題 11：統計字母出現頻率（前 3 名）\n",
    "\n",
    "**題目**：統計字串中字母出現頻率，顯示前 3 名。\n",
    "\n",
    "**輸入**：\n",
    "```python\n",
    "text = \"mississippi\"\n",
    "```\n",
    "\n",
    "**預期輸出**：\n",
    "```\n",
    "字母頻率前 3 名：\n",
    "i: 4\n",
    "s: 4\n",
    "p: 2\n",
    "```"
   ]
  },
  {
   "cell_type": "code",
   "execution_count": null,
   "metadata": {},
   "outputs": [],
   "source": [
    "# 你的程式碼\n",
    "text = \"mississippi\"\n",
    "\n"
   ]
  },
  {
   "cell_type": "markdown",
   "metadata": {},
   "source": [
    "---\n",
    "\n",
    "### 習題 12：找出成對元素\n",
    "\n",
    "**題目**：找出列表中所有相鄰的成對元素（值相同）。\n",
    "\n",
    "**輸入**：\n",
    "```python\n",
    "numbers = [1, 2, 2, 3, 4, 4, 4, 5, 5, 6]\n",
    "```\n",
    "\n",
    "**預期輸出**：\n",
    "```\n",
    "成對元素索引：\n",
    "索引 1-2: 值 2\n",
    "索引 4-5: 值 4\n",
    "索引 5-6: 值 4\n",
    "索引 7-8: 值 5\n",
    "```"
   ]
  },
  {
   "cell_type": "code",
   "execution_count": null,
   "metadata": {},
   "outputs": [],
   "source": [
    "# 你的程式碼\n",
    "numbers = [1, 2, 2, 3, 4, 4, 4, 5, 5, 6]\n",
    "\n"
   ]
  },
  {
   "cell_type": "markdown",
   "metadata": {},
   "source": [
    "---\n",
    "\n",
    "## Part III: 挑戰題 (3 題)\n",
    "\n",
    "### 習題 13：成績排名系統\n",
    "\n",
    "**題目**：顯示學生成績排名（從高到低）。\n",
    "\n",
    "**輸入**：\n",
    "```python\n",
    "names = ['Alice', 'Bob', 'Charlie', 'David']\n",
    "scores = [85, 92, 78, 90]\n",
    "```\n",
    "\n",
    "**預期輸出**：\n",
    "```\n",
    "成績排名：\n",
    "第1名：Bob (92分)\n",
    "第2名：David (90分)\n",
    "第3名：Alice (85分)\n",
    "第4名：Charlie (78分)\n",
    "```\n",
    "\n",
    "**提示**：\n",
    "1. 用 `zip()` 配對\n",
    "2. 用 `sorted(key=lambda x: x[1], reverse=True)` 排序\n",
    "3. 用 `enumerate(start=1)` 顯示排名"
   ]
  },
  {
   "cell_type": "code",
   "execution_count": null,
   "metadata": {},
   "outputs": [],
   "source": [
    "# 你的程式碼\n",
    "names = ['Alice', 'Bob', 'Charlie', 'David']\n",
    "scores = [85, 92, 78, 90]\n",
    "\n"
   ]
  },
  {
   "cell_type": "markdown",
   "metadata": {},
   "source": [
    "---\n",
    "\n",
    "### 習題 14：移動平均值\n",
    "\n",
    "**題目**：計算列表的 3 日移動平均值。\n",
    "\n",
    "**輸入**：\n",
    "```python\n",
    "prices = [100, 105, 110, 108, 112, 115, 118]\n",
    "```\n",
    "\n",
    "**預期輸出**：\n",
    "```\n",
    "3日移動平均：\n",
    "第1-3天：105.0\n",
    "第2-4天：107.7\n",
    "第3-5天：110.0\n",
    "第4-6天：111.7\n",
    "第5-7天：115.0\n",
    "```\n",
    "\n",
    "**提示**：使用 `range(len(prices) - 2)` 迭代。"
   ]
  },
  {
   "cell_type": "code",
   "execution_count": null,
   "metadata": {},
   "outputs": [],
   "source": [
    "# 你的程式碼\n",
    "prices = [100, 105, 110, 108, 112, 115, 118]\n",
    "\n"
   ]
  },
  {
   "cell_type": "markdown",
   "metadata": {},
   "source": [
    "---\n",
    "\n",
    "### 習題 15：連續子序列總和最大值\n",
    "\n",
    "**題目**：找出連續 3 個數字總和最大的子序列。\n",
    "\n",
    "**輸入**：\n",
    "```python\n",
    "numbers = [2, 5, 3, 8, 10, 6, 4, 7]\n",
    "```\n",
    "\n",
    "**預期輸出**：\n",
    "```\n",
    "最大總和：24\n",
    "子序列：[8, 10, 6]\n",
    "起始索引：3\n",
    "```\n",
    "\n",
    "**提示**：\n",
    "1. 迭代每個可能的 3 元素窗口\n",
    "2. 計算總和並記錄最大值\n",
    "3. 使用 `enumerate()` 追蹤索引"
   ]
  },
  {
   "cell_type": "code",
   "execution_count": null,
   "metadata": {},
   "outputs": [],
   "source": [
    "# 你的程式碼\n",
    "numbers = [2, 5, 3, 8, 10, 6, 4, 7]\n",
    "\n"
   ]
  },
  {
   "cell_type": "markdown",
   "metadata": {},
   "source": [
    "---\n",
    "\n",
    "## 完成檢核\n",
    "\n",
    "完成後，請確認：\n",
    "\n",
    "### 技術檢核\n",
    "- [ ] 所有程式碼可執行無誤\n",
    "- [ ] 輸出格式符合要求\n",
    "- [ ] 適當使用 `enumerate()` 和 `zip()`\n",
    "- [ ] 正確應用迴圈模式（累加器/計數器/搜尋器/過濾器）\n",
    "\n",
    "### 程式品質\n",
    "- [ ] 變數命名有意義\n",
    "- [ ] 適當使用註解說明邏輯\n",
    "- [ ] 避免不必要的重複計算\n",
    "- [ ] 考慮邊界情況（空列表、單一元素等）\n",
    "\n",
    "### 學習反思\n",
    "- [ ] 我能解釋每題使用的迴圈模式\n",
    "- [ ] 我了解何時該用 `enumerate()` vs `range()`\n",
    "- [ ] 我知道 `zip()` 的截斷行為\n",
    "- [ ] 我能比較不同實作方式的優劣\n",
    "\n",
    "---\n",
    "\n",
    "**完成習題後，請前往 `05-solutions.ipynb` 對照解答！** 📝"
   ]
  }
 ],
 "metadata": {
  "kernelspec": {
   "display_name": "Python 3",
   "language": "python",
   "name": "python3"
  },
  "language_info": {
   "codemirror_mode": {
    "name": "ipython",
    "version": 3
   },
   "file_extension": ".py",
   "mimetype": "text/x-python",
   "name": "python",
   "nbconvert_exporter": "python",
   "pygments_lexer": "ipython3",
   "version": "3.11.0"
  }
 },
 "nbformat": 4,
 "nbformat_minor": 4
}
