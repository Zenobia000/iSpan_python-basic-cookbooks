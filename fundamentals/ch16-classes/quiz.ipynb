{
 "cells": [
  {
   "cell_type": "markdown",
   "metadata": {},
   "source": [
    "# Chapter 16: 類別與物件 | Classes and Objects\n",
    "\n",
    "## 📝 自我測驗 | Self-Assessment Quiz\n",
    "\n",
    "---\n",
    "\n",
    "## 💡 測驗說明\n",
    "\n",
    "本測驗包含：\n",
    "- **Part I：選擇題（16 題）** - 測試概念理解\n",
    "- **Part II：是非題（6 題）** - 測試關鍵概念\n",
    "- **Part III：程式輸出題（4 題）** - 測試程式碼理解\n",
    "- **Part IV：程式撰寫題（2 題）** - 測試實作能力\n",
    "\n",
    "**評分標準**：\n",
    "- 90-100 分：優秀（✨ Excellent）\n",
    "- 80-89 分：良好（👍 Good）\n",
    "- 70-79 分：及格（✓ Pass）\n",
    "- < 70 分：需加強（📚 Need Review）\n",
    "\n",
    "**作答方式**：\n",
    "1. 在指定的 cell 中作答\n",
    "2. 選擇題：寫下選項（A/B/C/D）\n",
    "3. 是非題：寫下 True 或 False\n",
    "4. 程式輸出題：寫下預測的輸出\n",
    "5. 程式撰寫題：撰寫完整程式碼\n",
    "6. 對照答案在最後一個 section\n",
    "\n",
    "---"
   ]
  },
  {
   "cell_type": "markdown",
   "metadata": {},
   "source": [
    "## Part I: 選擇題（每題 3 分，共 48 分）\n",
    "\n",
    "### Q1. 以下哪個是正確的類別定義語法？\n",
    "\n",
    "A) `def MyClass:`  \n",
    "B) `class MyClass():`  \n",
    "C) `class MyClass:`  \n",
    "D) `Class MyClass:`  "
   ]
  },
  {
   "cell_type": "code",
   "execution_count": null,
   "metadata": {},
   "outputs": [],
   "source": [
    "# 你的答案：\n",
    "q1_answer = \"\"  # 填入 A, B, C 或 D"
   ]
  },
  {
   "cell_type": "markdown",
   "metadata": {},
   "source": [
    "---\n",
    "\n",
    "### Q2. `__init__` 方法的作用是什麼？\n",
    "\n",
    "A) 刪除物件  \n",
    "B) 初始化物件  \n",
    "C) 複製物件  \n",
    "D) 比較物件  "
   ]
  },
  {
   "cell_type": "code",
   "execution_count": null,
   "metadata": {},
   "outputs": [],
   "source": [
    "# 你的答案：\n",
    "q2_answer = \"\"  # 填入 A, B, C 或 D"
   ]
  },
  {
   "cell_type": "markdown",
   "metadata": {},
   "source": [
    "---\n",
    "\n",
    "### Q3. `self` 參數的作用是什麼？\n",
    "\n",
    "A) 表示類別本身  \n",
    "B) 指向當前實例（物件）  \n",
    "C) 表示父類別  \n",
    "D) 表示靜態方法  "
   ]
  },
  {
   "cell_type": "code",
   "execution_count": null,
   "metadata": {},
   "outputs": [],
   "source": [
    "# 你的答案：\n",
    "q3_answer = \"\"  # 填入 A, B, C 或 D"
   ]
  },
  {
   "cell_type": "markdown",
   "metadata": {},
   "source": [
    "---\n",
    "\n",
    "### Q4. 類別屬性與實例屬性的差異是？\n",
    "\n",
    "A) 類別屬性所有實例共享，實例屬性每個實例獨立  \n",
    "B) 類別屬性每個實例獨立，實例屬性所有實例共享  \n",
    "C) 兩者沒有差異  \n",
    "D) 類別屬性只能在類別方法中使用  "
   ]
  },
  {
   "cell_type": "code",
   "execution_count": null,
   "metadata": {},
   "outputs": [],
   "source": [
    "# 你的答案：\n",
    "q4_answer = \"\"  # 填入 A, B, C 或 D"
   ]
  },
  {
   "cell_type": "markdown",
   "metadata": {},
   "source": [
    "---\n",
    "\n",
    "### Q5. 如何創建一個類別的實例？\n",
    "\n",
    "A) `obj = new MyClass()`  \n",
    "B) `obj = MyClass.create()`  \n",
    "C) `obj = MyClass()`  \n",
    "D) `obj = create MyClass()`  "
   ]
  },
  {
   "cell_type": "code",
   "execution_count": null,
   "metadata": {},
   "outputs": [],
   "source": [
    "# 你的答案：\n",
    "q5_answer = \"\"  # 填入 A, B, C 或 D"
   ]
  },
  {
   "cell_type": "markdown",
   "metadata": {},
   "source": [
    "---\n",
    "\n",
    "### Q6. `@classmethod` 裝飾器的作用是？\n",
    "\n",
    "A) 創建靜態方法  \n",
    "B) 創建實例方法  \n",
    "C) 創建類別方法（第一個參數是 cls）  \n",
    "D) 創建私有方法  "
   ]
  },
  {
   "cell_type": "code",
   "execution_count": null,
   "metadata": {},
   "outputs": [],
   "source": [
    "# 你的答案：\n",
    "q6_answer = \"\"  # 填入 A, B, C 或 D"
   ]
  },
  {
   "cell_type": "markdown",
   "metadata": {},
   "source": [
    "---\n",
    "\n",
    "### Q7. `@staticmethod` 裝飾器的作用是？\n",
    "\n",
    "A) 創建需要 self 參數的方法  \n",
    "B) 創建需要 cls 參數的方法  \n",
    "C) 創建不需要 self 或 cls 參數的方法  \n",
    "D) 創建類別屬性  "
   ]
  },
  {
   "cell_type": "code",
   "execution_count": null,
   "metadata": {},
   "outputs": [],
   "source": [
    "# 你的答案：\n",
    "q7_answer = \"\"  # 填入 A, B, C 或 D"
   ]
  },
  {
   "cell_type": "markdown",
   "metadata": {},
   "source": [
    "---\n",
    "\n",
    "### Q8. 以下哪個命名慣例是正確的？\n",
    "\n",
    "A) 類別名稱使用 snake_case  \n",
    "B) 類別名稱使用 PascalCase  \n",
    "C) 方法名稱使用 PascalCase  \n",
    "D) 實例屬性使用 UPPER_CASE  "
   ]
  },
  {
   "cell_type": "code",
   "execution_count": null,
   "metadata": {},
   "outputs": [],
   "source": [
    "# 你的答案：\n",
    "q8_answer = \"\"  # 填入 A, B, C 或 D"
   ]
  },
  {
   "cell_type": "markdown",
   "metadata": {},
   "source": [
    "---\n",
    "\n",
    "### Q9. 在 `__init__` 方法中，如何定義實例屬性？\n",
    "\n",
    "A) `name = value`  \n",
    "B) `self.name = value`  \n",
    "C) `cls.name = value`  \n",
    "D) `this.name = value`  "
   ]
  },
  {
   "cell_type": "code",
   "execution_count": null,
   "metadata": {},
   "outputs": [],
   "source": [
    "# 你的答案：\n",
    "q9_answer = \"\"  # 填入 A, B, C 或 D"
   ]
  },
  {
   "cell_type": "markdown",
   "metadata": {},
   "source": [
    "---\n",
    "\n",
    "### Q10. 如何呼叫物件的方法？\n",
    "\n",
    "A) `MyClass.method(obj)`  \n",
    "B) `obj.method()`  \n",
    "C) `method(obj)`  \n",
    "D) `obj->method()`  "
   ]
  },
  {
   "cell_type": "code",
   "execution_count": null,
   "metadata": {},
   "outputs": [],
   "source": [
    "# 你的答案：\n",
    "q10_answer = \"\"  # 填入 A, B, C 或 D"
   ]
  },
  {
   "cell_type": "markdown",
   "metadata": {},
   "source": [
    "---\n",
    "\n",
    "### Q11. 以下程式碼會輸出什麼？\n",
    "\n",
    "```python\n",
    "class Counter:\n",
    "    count = 0\n",
    "    \n",
    "    def __init__(self):\n",
    "        Counter.count += 1\n",
    "\n",
    "c1 = Counter()\n",
    "c2 = Counter()\n",
    "print(Counter.count)\n",
    "```\n",
    "\n",
    "A) 0  \n",
    "B) 1  \n",
    "C) 2  \n",
    "D) 會報錯  "
   ]
  },
  {
   "cell_type": "code",
   "execution_count": null,
   "metadata": {},
   "outputs": [],
   "source": [
    "# 你的答案：\n",
    "q11_answer = \"\"  # 填入 A, B, C 或 D"
   ]
  },
  {
   "cell_type": "markdown",
   "metadata": {},
   "source": [
    "---\n",
    "\n",
    "### Q12. 類別方法的第一個參數慣例上命名為？\n",
    "\n",
    "A) `self`  \n",
    "B) `this`  \n",
    "C) `cls`  \n",
    "D) `class`  "
   ]
  },
  {
   "cell_type": "code",
   "execution_count": null,
   "metadata": {},
   "outputs": [],
   "source": [
    "# 你的答案：\n",
    "q12_answer = \"\"  # 填入 A, B, C 或 D"
   ]
  },
  {
   "cell_type": "markdown",
   "metadata": {},
   "source": [
    "---\n",
    "\n",
    "### Q13. 以下哪個不是實例方法的特徵？\n",
    "\n",
    "A) 第一個參數是 self  \n",
    "B) 可以存取實例屬性  \n",
    "C) 可以存取類別屬性  \n",
    "D) 不需要物件就能呼叫  "
   ]
  },
  {
   "cell_type": "code",
   "execution_count": null,
   "metadata": {},
   "outputs": [],
   "source": [
    "# 你的答案：\n",
    "q13_answer = \"\"  # 填入 A, B, C 或 D"
   ]
  },
  {
   "cell_type": "markdown",
   "metadata": {},
   "source": [
    "---\n",
    "\n",
    "### Q14. 如何檢查一個物件是否為某個類別的實例？\n",
    "\n",
    "A) `type(obj) == MyClass`  \n",
    "B) `isinstance(obj, MyClass)`  \n",
    "C) `obj.is_instance_of(MyClass)`  \n",
    "D) `MyClass.has_instance(obj)`  "
   ]
  },
  {
   "cell_type": "code",
   "execution_count": null,
   "metadata": {},
   "outputs": [],
   "source": [
    "# 你的答案：\n",
    "q14_answer = \"\"  # 填入 A, B, C 或 D"
   ]
  },
  {
   "cell_type": "markdown",
   "metadata": {},
   "source": [
    "---\n",
    "\n",
    "### Q15. 建構子 `__init__` 的回傳值應該是？\n",
    "\n",
    "A) 新創建的物件  \n",
    "B) True  \n",
    "C) None（不應該有 return 語句）  \n",
    "D) self  "
   ]
  },
  {
   "cell_type": "code",
   "execution_count": null,
   "metadata": {},
   "outputs": [],
   "source": [
    "# 你的答案：\n",
    "q15_answer = \"\"  # 填入 A, B, C 或 D"
   ]
  },
  {
   "cell_type": "markdown",
   "metadata": {},
   "source": [
    "---\n",
    "\n",
    "### Q16. 以下哪個是使用類別的主要好處？\n",
    "\n",
    "A) 讓程式跑得更快  \n",
    "B) 減少程式碼行數  \n",
    "C) 封裝資料與行為，提升代碼組織性  \n",
    "D) 避免使用函式  "
   ]
  },
  {
   "cell_type": "code",
   "execution_count": null,
   "metadata": {},
   "outputs": [],
   "source": [
    "# 你的答案：\n",
    "q16_answer = \"\"  # 填入 A, B, C 或 D"
   ]
  },
  {
   "cell_type": "markdown",
   "metadata": {},
   "source": [
    "---\n",
    "\n",
    "## Part II: 是非題（每題 3 分，共 18 分）\n",
    "\n",
    "### Q17. 類別屬性定義在 `__init__` 方法外面。"
   ]
  },
  {
   "cell_type": "code",
   "execution_count": null,
   "metadata": {},
   "outputs": [],
   "source": [
    "# 你的答案：\n",
    "q17_answer = None  # 填入 True 或 False"
   ]
  },
  {
   "cell_type": "markdown",
   "metadata": {},
   "source": [
    "---\n",
    "\n",
    "### Q18. 實例方法必須有 `self` 作為第一個參數。"
   ]
  },
  {
   "cell_type": "code",
   "execution_count": null,
   "metadata": {},
   "outputs": [],
   "source": [
    "# 你的答案：\n",
    "q18_answer = None  # 填入 True 或 False"
   ]
  },
  {
   "cell_type": "markdown",
   "metadata": {},
   "source": [
    "---\n",
    "\n",
    "### Q19. 靜態方法可以存取實例屬性。"
   ]
  },
  {
   "cell_type": "code",
   "execution_count": null,
   "metadata": {},
   "outputs": [],
   "source": [
    "# 你的答案：\n",
    "q19_answer = None  # 填入 True 或 False"
   ]
  },
  {
   "cell_type": "markdown",
   "metadata": {},
   "source": [
    "---\n",
    "\n",
    "### Q20. 一個類別可以創建多個不同的實例（物件）。"
   ]
  },
  {
   "cell_type": "code",
   "execution_count": null,
   "metadata": {},
   "outputs": [],
   "source": [
    "# 你的答案：\n",
    "q20_answer = None  # 填入 True 或 False"
   ]
  },
  {
   "cell_type": "markdown",
   "metadata": {},
   "source": [
    "---\n",
    "\n",
    "### Q21. 修改類別屬性會影響所有已創建的實例。"
   ]
  },
  {
   "cell_type": "code",
   "execution_count": null,
   "metadata": {},
   "outputs": [],
   "source": [
    "# 你的答案：\n",
    "q21_answer = None  # 填入 True 或 False"
   ]
  },
  {
   "cell_type": "markdown",
   "metadata": {},
   "source": [
    "---\n",
    "\n",
    "### Q22. 類別方法可以用來創建類別的替代建構子。"
   ]
  },
  {
   "cell_type": "code",
   "execution_count": null,
   "metadata": {},
   "outputs": [],
   "source": [
    "# 你的答案：\n",
    "q22_answer = None  # 填入 True 或 False"
   ]
  },
  {
   "cell_type": "markdown",
   "metadata": {},
   "source": [
    "---\n",
    "\n",
    "## Part III: 程式輸出題（每題 5 分，共 20 分）\n",
    "\n",
    "### Q23. 預測以下程式碼的輸出\n",
    "\n",
    "```python\n",
    "class Person:\n",
    "    def __init__(self, name, age):\n",
    "        self.name = name\n",
    "        self.age = age\n",
    "    \n",
    "    def greet(self):\n",
    "        return f\"Hello, I'm {self.name}\"\n",
    "\n",
    "p = Person(\"Alice\", 25)\n",
    "print(p.greet())\n",
    "print(p.age)\n",
    "```"
   ]
  },
  {
   "cell_type": "code",
   "execution_count": null,
   "metadata": {},
   "outputs": [],
   "source": [
    "# 你的答案（填入預期輸出）：\n",
    "q23_output = \"\"\"\n",
    "\n",
    "\"\"\""
   ]
  },
  {
   "cell_type": "markdown",
   "metadata": {},
   "source": [
    "---\n",
    "\n",
    "### Q24. 預測以下程式碼的輸出\n",
    "\n",
    "```python\n",
    "class Rectangle:\n",
    "    def __init__(self, length, width):\n",
    "        self.length = length\n",
    "        self.width = width\n",
    "    \n",
    "    def area(self):\n",
    "        return self.length * self.width\n",
    "\n",
    "r1 = Rectangle(5, 3)\n",
    "r2 = Rectangle(4, 4)\n",
    "print(r1.area())\n",
    "print(r2.area())\n",
    "```"
   ]
  },
  {
   "cell_type": "code",
   "execution_count": null,
   "metadata": {},
   "outputs": [],
   "source": [
    "# 你的答案（填入預期輸出）：\n",
    "q24_output = \"\"\"\n",
    "\n",
    "\"\"\""
   ]
  },
  {
   "cell_type": "markdown",
   "metadata": {},
   "source": [
    "---\n",
    "\n",
    "### Q25. 預測以下程式碼的輸出\n",
    "\n",
    "```python\n",
    "class MyClass:\n",
    "    count = 0\n",
    "    \n",
    "    def __init__(self):\n",
    "        MyClass.count += 1\n",
    "\n",
    "obj1 = MyClass()\n",
    "obj2 = MyClass()\n",
    "obj3 = MyClass()\n",
    "print(MyClass.count)\n",
    "print(obj1.count)\n",
    "```"
   ]
  },
  {
   "cell_type": "code",
   "execution_count": null,
   "metadata": {},
   "outputs": [],
   "source": [
    "# 你的答案（填入預期輸出）：\n",
    "q25_output = \"\"\"\n",
    "\n",
    "\"\"\""
   ]
  },
  {
   "cell_type": "markdown",
   "metadata": {},
   "source": [
    "---\n",
    "\n",
    "### Q26. 預測以下程式碼的輸出\n",
    "\n",
    "```python\n",
    "class Point:\n",
    "    def __init__(self, x, y):\n",
    "        self.x = x\n",
    "        self.y = y\n",
    "    \n",
    "    @staticmethod\n",
    "    def distance(p1, p2):\n",
    "        return ((p1.x - p2.x)**2 + (p1.y - p2.y)**2)**0.5\n",
    "\n",
    "p1 = Point(0, 0)\n",
    "p2 = Point(3, 4)\n",
    "print(Point.distance(p1, p2))\n",
    "```"
   ]
  },
  {
   "cell_type": "code",
   "execution_count": null,
   "metadata": {},
   "outputs": [],
   "source": [
    "# 你的答案（填入預期輸出）：\n",
    "q26_output = \"\"\"\n",
    "\n",
    "\"\"\""
   ]
  },
  {
   "cell_type": "markdown",
   "metadata": {},
   "source": [
    "---\n",
    "\n",
    "## Part IV: 程式撰寫題（每題 7 分，共 14 分）\n",
    "\n",
    "### Q27. 設計一個 `BankAccount` 類別\n",
    "\n",
    "**需求**：\n",
    "1. 建構子接收 `owner`（戶名）和 `balance`（餘額，預設 0）\n",
    "2. 提供 `deposit(amount)` 方法存款\n",
    "3. 提供 `withdraw(amount)` 方法提款（餘額不足時顯示錯誤）\n",
    "4. 提供 `get_balance()` 方法取得餘額\n",
    "\n",
    "**測試**：\n",
    "```python\n",
    "account = BankAccount(\"Alice\", 1000)\n",
    "account.deposit(500)\n",
    "print(account.get_balance())  # 應輸出 1500\n",
    "account.withdraw(200)\n",
    "print(account.get_balance())  # 應輸出 1300\n",
    "```"
   ]
  },
  {
   "cell_type": "code",
   "execution_count": null,
   "metadata": {},
   "outputs": [],
   "source": [
    "# 你的程式碼\n"
   ]
  },
  {
   "cell_type": "markdown",
   "metadata": {},
   "source": [
    "---\n",
    "\n",
    "### Q28. 設計一個 `Car` 類別\n",
    "\n",
    "**需求**：\n",
    "1. 類別屬性 `total_cars = 0`（追蹤總車輛數）\n",
    "2. 建構子接收 `brand`（品牌）和 `model`（型號）\n",
    "3. 建構子自動增加 `total_cars`\n",
    "4. 提供 `info()` 方法顯示車輛資訊\n",
    "5. 提供類別方法 `get_total_cars()` 回傳總車輛數\n",
    "\n",
    "**測試**：\n",
    "```python\n",
    "car1 = Car(\"Toyota\", \"Camry\")\n",
    "car2 = Car(\"Honda\", \"Civic\")\n",
    "car1.info()  # 應顯示：品牌：Toyota，型號：Camry\n",
    "print(Car.get_total_cars())  # 應輸出 2\n",
    "```"
   ]
  },
  {
   "cell_type": "code",
   "execution_count": null,
   "metadata": {},
   "outputs": [],
   "source": [
    "# 你的程式碼\n"
   ]
  },
  {
   "cell_type": "markdown",
   "metadata": {},
   "source": [
    "---\n",
    "\n",
    "## ✅ 完整解答\n",
    "\n",
    "### Part I: 選擇題答案\n",
    "\n",
    "| 題號 | 答案 | 解析 |\n",
    "|:-----|:-----|:-----|\n",
    "| Q1 | C | `class MyClass:` 是正確語法 |\n",
    "| Q2 | B | `__init__` 用於初始化物件 |\n",
    "| Q3 | B | `self` 指向當前實例 |\n",
    "| Q4 | A | 類別屬性共享，實例屬性獨立 |\n",
    "| Q5 | C | `obj = MyClass()` 創建實例 |\n",
    "| Q6 | C | `@classmethod` 創建類別方法 |\n",
    "| Q7 | C | `@staticmethod` 創建靜態方法 |\n",
    "| Q8 | B | 類別名稱使用 PascalCase |\n",
    "| Q9 | B | `self.name = value` 定義實例屬性 |\n",
    "| Q10 | B | `obj.method()` 呼叫方法 |\n",
    "| Q11 | C | 創建兩個實例，count 增加到 2 |\n",
    "| Q12 | C | 類別方法第一個參數是 `cls` |\n",
    "| Q13 | D | 實例方法需要物件才能呼叫 |\n",
    "| Q14 | B | 使用 `isinstance(obj, MyClass)` |\n",
    "| Q15 | C | `__init__` 不應該有 return 語句 |\n",
    "| Q16 | C | 主要好處是封裝與組織性 |\n",
    "\n",
    "---\n",
    "\n",
    "### Part II: 是非題答案\n",
    "\n",
    "| 題號 | 答案 | 解析 |\n",
    "|:-----|:-----|:-----|\n",
    "| Q17 | True | 類別屬性定義在類別內、方法外 |\n",
    "| Q18 | True | 實例方法必須有 self 參數 |\n",
    "| Q19 | False | 靜態方法不能存取實例屬性 |\n",
    "| Q20 | True | 一個類別可以創建多個實例 |\n",
    "| Q21 | True | 類別屬性是共享的 |\n",
    "| Q22 | True | 類別方法常用作替代建構子 |\n",
    "\n",
    "---\n",
    "\n",
    "### Part III: 程式輸出題答案\n",
    "\n",
    "#### Q23 答案\n",
    "```\n",
    "Hello, I'm Alice\n",
    "25\n",
    "```\n",
    "\n",
    "#### Q24 答案\n",
    "```\n",
    "15\n",
    "16\n",
    "```\n",
    "\n",
    "#### Q25 答案\n",
    "```\n",
    "3\n",
    "3\n",
    "```\n",
    "（實例也可以存取類別屬性）\n",
    "\n",
    "#### Q26 答案\n",
    "```\n",
    "5.0\n",
    "```\n",
    "（3-4-5 直角三角形）\n",
    "\n",
    "---\n",
    "\n",
    "### Part IV: 程式撰寫題參考答案\n",
    "\n",
    "#### Q27 答案"
   ]
  },
  {
   "cell_type": "code",
   "execution_count": null,
   "metadata": {},
   "outputs": [],
   "source": [
    "class BankAccount:\n",
    "    \"\"\"銀行帳戶類別\"\"\"\n",
    "    \n",
    "    def __init__(self, owner, balance=0):\n",
    "        \"\"\"初始化帳戶\"\"\"\n",
    "        self.owner = owner\n",
    "        self.balance = balance\n",
    "    \n",
    "    def deposit(self, amount):\n",
    "        \"\"\"存款\"\"\"\n",
    "        self.balance += amount\n",
    "    \n",
    "    def withdraw(self, amount):\n",
    "        \"\"\"提款\"\"\"\n",
    "        if amount > self.balance:\n",
    "            print(\"錯誤：餘額不足\")\n",
    "            return\n",
    "        self.balance -= amount\n",
    "    \n",
    "    def get_balance(self):\n",
    "        \"\"\"取得餘額\"\"\"\n",
    "        return self.balance\n",
    "\n",
    "# 測試\n",
    "account = BankAccount(\"Alice\", 1000)\n",
    "account.deposit(500)\n",
    "print(account.get_balance())  # 1500\n",
    "account.withdraw(200)\n",
    "print(account.get_balance())  # 1300"
   ]
  },
  {
   "cell_type": "markdown",
   "metadata": {},
   "source": [
    "#### Q28 答案"
   ]
  },
  {
   "cell_type": "code",
   "execution_count": null,
   "metadata": {},
   "outputs": [],
   "source": [
    "class Car:\n",
    "    \"\"\"車輛類別\"\"\"\n",
    "    \n",
    "    total_cars = 0  # 類別屬性\n",
    "    \n",
    "    def __init__(self, brand, model):\n",
    "        \"\"\"初始化車輛\"\"\"\n",
    "        self.brand = brand\n",
    "        self.model = model\n",
    "        Car.total_cars += 1\n",
    "    \n",
    "    def info(self):\n",
    "        \"\"\"顯示車輛資訊\"\"\"\n",
    "        print(f\"品牌：{self.brand}，型號：{self.model}\")\n",
    "    \n",
    "    @classmethod\n",
    "    def get_total_cars(cls):\n",
    "        \"\"\"取得總車輛數（類別方法）\"\"\"\n",
    "        return cls.total_cars\n",
    "\n",
    "# 測試\n",
    "car1 = Car(\"Toyota\", \"Camry\")\n",
    "car2 = Car(\"Honda\", \"Civic\")\n",
    "car1.info()\n",
    "print(Car.get_total_cars())  # 2"
   ]
  },
  {
   "cell_type": "markdown",
   "metadata": {},
   "source": [
    "---\n",
    "\n",
    "## 🎯 測驗總結\n",
    "\n",
    "### 評分計算\n",
    "\n",
    "- **Part I**：16 題 × 3 分 = 48 分\n",
    "- **Part II**：6 題 × 3 分 = 18 分\n",
    "- **Part III**：4 題 × 5 分 = 20 分\n",
    "- **Part IV**：2 題 × 7 分 = 14 分\n",
    "- **總分**：100 分\n",
    "\n",
    "### 評分等級\n",
    "\n",
    "根據你的總分：\n",
    "\n",
    "| 分數範圍 | 等級 | 建議 |\n",
    "|:---------|:-----|:-----|\n",
    "| 90-100 | ✨ 優秀（Excellent） | 完全掌握！可進入下一章 |\n",
    "| 80-89 | 👍 良好（Good） | 大致理解，複習錯題後可繼續 |\n",
    "| 70-79 | ✓ 及格（Pass） | 基本概念需加強，建議重新學習部分內容 |\n",
    "| < 70 | 📚 需加強（Need Review） | 建議重新學習本章所有內容 |\n",
    "\n",
    "### 學習檢核\n",
    "\n",
    "如果你的分數 < 80，請重點複習：\n",
    "- ❌ 錯誤較多的部分（選擇題/是非題/輸出題/撰寫題）\n",
    "- 📖 回到 `01-lecture.ipynb` 重新理解概念\n",
    "- 💻 重做 `04-exercises.ipynb`\n",
    "- 📝 對照 `05-solutions.ipynb` 學習正確寫法\n",
    "\n",
    "### 下一步\n",
    "\n",
    "1. **分數 ≥ 80**：進入 **Chapter 17 - 封裝與資訊隱藏**\n",
    "2. **分數 < 80**：複習本章，重做練習題\n",
    "3. **分數 < 70**：建議從 `01-lecture.ipynb` 重新開始\n",
    "\n",
    "---\n",
    "\n",
    "## 核心概念回顧\n",
    "\n",
    "**必須掌握的概念**：\n",
    "1. ✅ 類別定義與物件創建\n",
    "2. ✅ `__init__` 建構子的作用\n",
    "3. ✅ `self` 參數的意義\n",
    "4. ✅ 類別屬性 vs 實例屬性\n",
    "5. ✅ 實例方法、類別方法、靜態方法\n",
    "6. ✅ 物件導向的封裝概念\n",
    "\n",
    "**恭喜完成 Chapter 16 自我測驗！** 🎉"
   ]
  }
 ],
 "metadata": {
  "kernelspec": {
   "display_name": "Python 3",
   "language": "python",
   "name": "python3"
  },
  "language_info": {
   "name": "python",
   "version": "3.11.0"
  }
 },
 "nbformat": 4,
 "nbformat_minor": 4
}
