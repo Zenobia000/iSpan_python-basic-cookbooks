{
 "cells": [
  {
   "cell_type": "markdown",
   "metadata": {},
   "source": [
    "# 自訂模組與套件 | Custom Modules and Packages\n\n## 🛠️ 課堂練習 | Practice Exercises\n\n**練習時間**: 30 分鐘\n\n完成以下 8-12 個練習題，鞏固本章學習內容。"
   ]
  },
  {
   "cell_type": "markdown",
   "metadata": {},
   "source": "### 練習 1: 建立自訂模組\n\n**題目**: （練習題描述）\n\n**提示**: （解題提示）"
  },
  {
   "cell_type": "markdown",
   "metadata": {},
   "source": "### 練習 2: import 的三種形式\n\n**題目**: （練習題描述）\n\n**提示**: （解題提示）"
  },
  {
   "cell_type": "markdown",
   "metadata": {},
   "source": "### 練習 3: __name__ 慣用法\n\n**題目**: （練習題描述）\n\n**提示**: （解題提示）"
  },
  {
   "cell_type": "markdown",
   "metadata": {},
   "source": "### 練習 4: 建立套件\n\n**題目**: （練習題描述）\n\n**提示**: （解題提示）"
  },
  {
   "cell_type": "markdown",
   "metadata": {},
   "source": "### 練習 5: 模組搜尋路徑\n\n**題目**: （練習題描述）\n\n**提示**: （解題提示）"
  },
  {
   "cell_type": "markdown",
   "metadata": {},
   "source": "### 練習 6: 絕對與相對匯入\n\n**題目**: （練習題描述）\n\n**提示**: （解題提示）"
  },
  {
   "cell_type": "markdown",
   "metadata": {},
   "source": "### 練習 7: 避免循環匯入\n\n**題目**: （練習題描述）\n\n**提示**: （解題提示）"
  },
  {
   "cell_type": "markdown",
   "metadata": {},
   "source": "### 練習 8: 資料驗證模組範例\n\n**題目**: （練習題描述）\n\n**提示**: （解題提示）"
  },
  {
   "cell_type": "code",
   "execution_count": null,
   "metadata": {},
   "outputs": [],
   "source": [
    "# 在此撰寫您的程式碼\n"
   ]
  }
 ],
 "metadata": {
  "kernelspec": {
   "display_name": "Python 3",
   "language": "python",
   "name": "python3"
  },
  "language_info": {
   "name": "python",
   "version": "3.11.0"
  }
 },
 "nbformat": 4,
 "nbformat_minor": 4
}