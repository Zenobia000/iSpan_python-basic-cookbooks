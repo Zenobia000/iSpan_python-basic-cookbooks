{
 "cells": [
  {
   "cell_type": "markdown",
   "metadata": {},
   "source": [
    "# 自訂模組與套件 | Custom Modules and Packages",
    "",
    "## 🛠️ 課堂練習 | Practice Exercises",
    "",
    "---",
    "",
    "## 💡 練習說明",
    "",
    "本檔案包含 **8 個練習題**，分為三個難度等級：",
    "- 🟢 **基礎題** (1-3)：基本模組建立與匯入",
    "- 🟡 **中級題** (4-6)：套件結構與進階匯入",
    "- 🔴 **挑戰題** (7-8)：實務應用與問題解決",
    "",
    "**練習時間**：30-40 分鐘",
    "",
    "**提示**：",
    "- 每題都有提示（Hint）可參考",
    "- 建議先自己嘗試，遇到困難再看提示",
    "- 可以參考 `01-lecture.ipynb` 和 `02-worked-examples.ipynb`",
    "",
    "---"
   ]
  },
  {
   "cell_type": "markdown",
   "metadata": {},
   "source": [
    "## 練習 1：建立計算器模組 🟢",
    "",
    "### 📋 題目",
    "",
    "建立一個 `calculator.py` 模組，包含以下函式：",
    "- `add(a, b)`: 加法",
    "- `subtract(a, b)`: 減法",
    "- `multiply(a, b)`: 乘法",
    "- `divide(a, b)`: 除法（處理除以零的情況）",
    "",
    "要求：",
    "1. 在模組中加入 docstring",
    "2. 使用 `if __name__ == \"__main__\"` 測試所有函式",
    "3. 在主程式中匯入並使用",
    "",
    "### 💡 提示",
    "",
    "- 除法要檢查分母是否為零",
    "- 使用 `%%writefile` 建立模組檔案",
    "- 測試時使用 `print()` 顯示結果"
   ]
  },
  {
   "cell_type": "code",
   "execution_count": null,
   "metadata": {},
   "outputs": [],
   "source": [
    "# 在此撰寫你的程式碼",
    "",
    "# 步驟 1: 建立 calculator.py 模組",
    "",
    "",
    "",
    "# 步驟 2: 匯入並測試",
    "",
    "",
    ""
   ]
  },
  {
   "cell_type": "markdown",
   "metadata": {},
   "source": [
    "---",
    "",
    "## 練習 2：資料驗證模組 🟢",
    "",
    "### 📋 題目",
    "",
    "建立 `validators.py` 模組，包含以下驗證函式：",
    "1. `validate_email(email)`: 檢查 email 格式（包含 @ 和 .）",
    "2. `validate_phone(phone)`: 檢查台灣手機號碼（09 開頭，共 10 碼）",
    "3. `validate_password(password)`: 檢查密碼強度（至少 8 碼，包含數字和字母）",
    "",
    "要求：",
    "- 使用 `re` 模組進行正則表達式驗證",
    "- 每個函式返回 `True`/`False`",
    "- 提供驗證失敗的錯誤訊息（可選）",
    "",
    "### 💡 提示",
    "",
    "- `re.match()` 用於模式匹配",
    "- Email 模式: `r\"^[\\w.-]+@[\\w.-]+\\.\\w+$\"`",
    "- 手機模式: `r\"^09\\d{8}$\"`",
    "- 密碼: 使用 `any()` 檢查是否包含數字和字母"
   ]
  },
  {
   "cell_type": "code",
   "execution_count": null,
   "metadata": {},
   "outputs": [],
   "source": [
    "# 在此撰寫你的程式碼",
    "",
    "",
    ""
   ]
  },
  {
   "cell_type": "markdown",
   "metadata": {},
   "source": [
    "---",
    "",
    "## 練習 3：檔案工具模組 🟢",
    "",
    "### 📋 題目",
    "",
    "建立 `file_utils.py` 模組，提供檔案操作功能：",
    "1. `read_lines(filename)`: 讀取檔案所有行（返回列表）",
    "2. `write_lines(filename, lines)`: 寫入行列表到檔案",
    "3. `count_lines(filename)`: 計算檔案行數",
    "4. `search_in_file(filename, keyword)`: 搜尋關鍵字並返回包含該關鍵字的行",
    "",
    "要求：",
    "- 處理檔案不存在的情況（使用 try-except）",
    "- 支援 UTF-8 編碼",
    "- 測試所有函式",
    "",
    "### 💡 提示",
    "",
    "- 使用 `with open()` 確保檔案正確關閉",
    "- `readlines()` 返回包含換行符的列表",
    "- 使用 `str.strip()` 移除換行符"
   ]
  },
  {
   "cell_type": "code",
   "execution_count": null,
   "metadata": {},
   "outputs": [],
   "source": [
    "# 在此撰寫你的程式碼",
    "",
    "",
    ""
   ]
  },
  {
   "cell_type": "markdown",
   "metadata": {},
   "source": [
    "---",
    "",
    "## 練習 4：建立 utils 套件 🟡",
    "",
    "### 📋 題目",
    "",
    "建立一個 `utils` 套件，包含兩個子模組：",
    "",
    "```",
    "utils/",
    "├── __init__.py",
    "├── string_tools.py",
    "└── number_tools.py",
    "```",
    "",
    "**string_tools.py** 提供：",
    "- `reverse(text)`: 反轉字串",
    "- `is_palindrome(text)`: 檢查是否為迴文",
    "- `count_vowels(text)`: 計算母音數量",
    "",
    "**number_tools.py** 提供：",
    "- `is_prime(n)`: 檢查是否為質數",
    "- `factorial(n)`: 計算階乘",
    "- `gcd(a, b)`: 計算最大公約數",
    "",
    "要求：",
    "1. 在 `__init__.py` 中匯入所有函式",
    "2. 設定 `__version__` 和 `__all__`",
    "3. 測試從套件匯入函式",
    "",
    "### 💡 提示",
    "",
    "- 使用 `os.makedirs('utils', exist_ok=True)` 建立資料夾",
    "- 相對匯入: `from .string_tools import *`",
    "- 迴文檢查: 比較字串與反轉後的字串"
   ]
  },
  {
   "cell_type": "code",
   "execution_count": null,
   "metadata": {},
   "outputs": [],
   "source": [
    "# 在此撰寫你的程式碼",
    "",
    "",
    ""
   ]
  },
  {
   "cell_type": "markdown",
   "metadata": {},
   "source": [
    "---",
    "",
    "## 練習 5：模組搜尋路徑實驗 🟡",
    "",
    "### 📋 題目",
    "",
    "進行模組搜尋路徑的實驗：",
    "",
    "1. 查看當前的 `sys.path`",
    "2. 在自訂路徑 `my_modules/` 建立一個模組 `greetings.py`",
    "3. 動態新增搜尋路徑",
    "4. 匯入並使用該模組",
    "5. 嘗試使用 `importlib.import_module()` 動態匯入",
    "",
    "要求：",
    "- 顯示新增路徑前後的 `sys.path` 差異",
    "- 驗證模組成功匯入",
    "- 使用 `__file__` 屬性顯示模組位置",
    "",
    "### 💡 提示",
    "",
    "- `sys.path.insert(0, path)` 插入到最前面",
    "- `os.path.abspath()` 取得絕對路徑",
    "- `importlib.import_module(name)` 動態匯入"
   ]
  },
  {
   "cell_type": "code",
   "execution_count": null,
   "metadata": {},
   "outputs": [],
   "source": [
    "# 在此撰寫你的程式碼",
    "",
    "",
    ""
   ]
  },
  {
   "cell_type": "markdown",
   "metadata": {},
   "source": [
    "---",
    "",
    "## 練習 6：相對匯入練習 🟡",
    "",
    "### 📋 題目",
    "",
    "建立以下套件結構，並使用相對匯入：",
    "",
    "```",
    "myapp/",
    "├── __init__.py",
    "├── core/",
    "│   ├── __init__.py",
    "│   ├── engine.py",
    "│   └── config.py",
    "└── utils/",
    "    ├── __init__.py",
    "    └── helpers.py",
    "```",
    "",
    "要求：",
    "1. `engine.py` 使用相對匯入載入 `config.py`（同層級）",
    "2. `engine.py` 使用相對匯入載入 `utils.helpers`（上層級）",
    "3. 測試絕對匯入和相對匯入的差異",
    "",
    "### 💡 提示",
    "",
    "- 同層級: `from . import config`",
    "- 上層級: `from .. import utils`",
    "- 絕對匯入: `from myapp.core import config`"
   ]
  },
  {
   "cell_type": "code",
   "execution_count": null,
   "metadata": {},
   "outputs": [],
   "source": [
    "# 在此撰寫你的程式碼",
    "",
    "",
    ""
   ]
  },
  {
   "cell_type": "markdown",
   "metadata": {},
   "source": [
    "---",
    "",
    "## 練習 7：修復循環匯入問題 🔴",
    "",
    "### 📋 題目",
    "",
    "以下兩個模組有循環匯入問題，請修復：",
    "",
    "**模組 A (person.py)**：",
    "```python",
    "from address import Address",
    "",
    "class Person:",
    "    def __init__(self, name):",
    "        self.name = name",
    "        self.address = None",
    "",
    "    def set_address(self, street, city):",
    "        self.address = Address(street, city, self)",
    "```",
    "",
    "**模組 B (address.py)**：",
    "```python",
    "from person import Person",
    "",
    "class Address:",
    "    def __init__(self, street, city, person):",
    "        self.street = street",
    "        self.city = city",
    "        self.person = person",
    "",
    "    def display(self):",
    "        return f\"{self.person.name} 住在 {self.city}\"",
    "```",
    "",
    "要求：",
    "1. 辨識循環匯入問題",
    "2. 提供至少兩種解決方案",
    "3. 測試修復後的程式碼",
    "",
    "### 💡 提示",
    "",
    "- 方法 1: 延遲匯入（函式內 import）",
    "- 方法 2: 重構程式碼，移除循環依賴",
    "- 方法 3: 使用 TYPE_CHECKING"
   ]
  },
  {
   "cell_type": "code",
   "execution_count": null,
   "metadata": {},
   "outputs": [],
   "source": [
    "# 在此撰寫你的程式碼",
    "",
    "",
    ""
   ]
  },
  {
   "cell_type": "markdown",
   "metadata": {},
   "source": [
    "---",
    "",
    "## 練習 8：建立專案套件 🔴",
    "",
    "### 📋 題目",
    "",
    "建立一個完整的 `todoapp` 套件專案：",
    "",
    "```",
    "todoapp/",
    "├── todoapp/",
    "│   ├── __init__.py",
    "│   ├── task.py       # Task 類別",
    "│   ├── manager.py    # TaskManager 類別",
    "│   └── storage.py    # JSON 儲存功能",
    "├── examples/",
    "│   └── demo.py",
    "├── setup.py",
    "└── README.md",
    "```",
    "",
    "**功能需求**：",
    "1. `Task` 類別：儲存任務資訊（id, title, completed, created_at）",
    "2. `TaskManager` 類別：管理任務（新增、刪除、標記完成、列出）",
    "3. `storage.py`：提供 JSON 檔案儲存與載入功能",
    "4. `demo.py`：示範所有功能",
    "5. `setup.py`：可安裝的套件設定",
    "",
    "要求：",
    "- 完整的 docstring",
    "- 模組間正確匯入",
    "- 可執行的範例",
    "- 在 `__init__.py` 中匯出主要類別",
    "",
    "### 💡 提示",
    "",
    "- 使用 `datetime.now()` 記錄建立時間",
    "- Task 可以使用 dataclass 或普通類別",
    "- TaskManager 內部維護一個 tasks 列表",
    "- storage 使用 json.dump() 和 json.load()"
   ]
  },
  {
   "cell_type": "code",
   "execution_count": null,
   "metadata": {},
   "outputs": [],
   "source": [
    "# 在此撰寫你的程式碼",
    "",
    "",
    ""
   ]
  },
  {
   "cell_type": "markdown",
   "metadata": {},
   "source": [
    "---",
    "",
    "## 🎯 練習完成檢查表",
    "",
    "完成後，請確認：",
    "",
    "- [ ] 練習 1：計算器模組（基礎）",
    "- [ ] 練習 2：資料驗證模組（基礎）",
    "- [ ] 練習 3：檔案工具模組（基礎）",
    "- [ ] 練習 4：utils 套件（中級）",
    "- [ ] 練習 5：模組搜尋路徑（中級）",
    "- [ ] 練習 6：相對匯入（中級）",
    "- [ ] 練習 7：修復循環匯入（挑戰）",
    "- [ ] 練習 8：完整專案套件（挑戰）",
    "",
    "---",
    "",
    "**下一步**：完成練習後，可以查看 `05-solutions.ipynb` 對照答案，或繼續挑戰 `04-exercises.ipynb` 的課後習題！",
    "",
    "**學習提醒**：模組化是實務開發的核心技能，請務必動手實作每個練習！"
   ]
  },
  {
   "cell_type": "markdown",
   "metadata": {},
   "source": "### 練習題 1: 實作挑戰\n\n**題目描述**:\n建立一個功能模組，實現以下需求：\n1. 定義清晰的介面\n2. 實作核心功能\n3. 加入錯誤處理\n4. 撰寫使用範例\n\n**難度**: 基礎\n\n**預估時間**: 5 分鐘\n\n**提示**:\n- 注意邊界條件\n- 確保程式碼可讀性\n- 遵循命名規範\n- 加入適當註解"
  },
  {
   "cell_type": "code",
   "metadata": {},
   "execution_count": null,
   "outputs": [],
   "source": "# 你的解答\n\n"
  },
  {
   "cell_type": "markdown",
   "metadata": {},
   "source": "### 練習題 2: 實作挑戰\n\n**題目描述**:\n建立一個功能模組，實現以下需求：\n1. 定義清晰的介面\n2. 實作核心功能\n3. 加入錯誤處理\n4. 撰寫使用範例\n\n**難度**: 基礎\n\n**預估時間**: 7 分鐘\n\n**提示**:\n- 注意邊界條件\n- 確保程式碼可讀性\n- 遵循命名規範\n- 加入適當註解"
  },
  {
   "cell_type": "code",
   "metadata": {},
   "execution_count": null,
   "outputs": [],
   "source": "# 你的解答\n\n"
  },
  {
   "cell_type": "markdown",
   "metadata": {},
   "source": "### 練習題 3: 實作挑戰\n\n**題目描述**:\n建立一個功能模組，實現以下需求：\n1. 定義清晰的介面\n2. 實作核心功能\n3. 加入錯誤處理\n4. 撰寫使用範例\n\n**難度**: 基礎\n\n**預估時間**: 9 分鐘\n\n**提示**:\n- 注意邊界條件\n- 確保程式碼可讀性\n- 遵循命名規範\n- 加入適當註解"
  },
  {
   "cell_type": "code",
   "metadata": {},
   "execution_count": null,
   "outputs": [],
   "source": "# 你的解答\n\n"
  },
  {
   "cell_type": "markdown",
   "metadata": {},
   "source": "### 練習題 4: 實作挑戰\n\n**題目描述**:\n建立一個功能模組，實現以下需求：\n1. 定義清晰的介面\n2. 實作核心功能\n3. 加入錯誤處理\n4. 撰寫使用範例\n\n**難度**: 基礎\n\n**預估時間**: 11 分鐘\n\n**提示**:\n- 注意邊界條件\n- 確保程式碼可讀性\n- 遵循命名規範\n- 加入適當註解"
  },
  {
   "cell_type": "code",
   "metadata": {},
   "execution_count": null,
   "outputs": [],
   "source": "# 你的解答\n\n"
  },
  {
   "cell_type": "markdown",
   "metadata": {},
   "source": "### 練習題 5: 實作挑戰\n\n**題目描述**:\n建立一個功能模組，實現以下需求：\n1. 定義清晰的介面\n2. 實作核心功能\n3. 加入錯誤處理\n4. 撰寫使用範例\n\n**難度**: 基礎\n\n**預估時間**: 13 分鐘\n\n**提示**:\n- 注意邊界條件\n- 確保程式碼可讀性\n- 遵循命名規範\n- 加入適當註解"
  },
  {
   "cell_type": "code",
   "metadata": {},
   "execution_count": null,
   "outputs": [],
   "source": "# 你的解答\n\n"
  },
  {
   "cell_type": "markdown",
   "metadata": {},
   "source": "### 練習題 6: 實作挑戰\n\n**題目描述**:\n建立一個功能模組，實現以下需求：\n1. 定義清晰的介面\n2. 實作核心功能\n3. 加入錯誤處理\n4. 撰寫使用範例\n\n**難度**: 中級\n\n**預估時間**: 15 分鐘\n\n**提示**:\n- 注意邊界條件\n- 確保程式碼可讀性\n- 遵循命名規範\n- 加入適當註解"
  },
  {
   "cell_type": "code",
   "metadata": {},
   "execution_count": null,
   "outputs": [],
   "source": "# 你的解答\n\n"
  },
  {
   "cell_type": "markdown",
   "metadata": {},
   "source": "### 練習題 7: 實作挑戰\n\n**題目描述**:\n建立一個功能模組，實現以下需求：\n1. 定義清晰的介面\n2. 實作核心功能\n3. 加入錯誤處理\n4. 撰寫使用範例\n\n**難度**: 中級\n\n**預估時間**: 17 分鐘\n\n**提示**:\n- 注意邊界條件\n- 確保程式碼可讀性\n- 遵循命名規範\n- 加入適當註解"
  },
  {
   "cell_type": "code",
   "metadata": {},
   "execution_count": null,
   "outputs": [],
   "source": "# 你的解答\n\n"
  },
  {
   "cell_type": "markdown",
   "metadata": {},
   "source": "### 練習題 8: 實作挑戰\n\n**題目描述**:\n建立一個功能模組，實現以下需求：\n1. 定義清晰的介面\n2. 實作核心功能\n3. 加入錯誤處理\n4. 撰寫使用範例\n\n**難度**: 中級\n\n**預估時間**: 19 分鐘\n\n**提示**:\n- 注意邊界條件\n- 確保程式碼可讀性\n- 遵循命名規範\n- 加入適當註解"
  },
  {
   "cell_type": "code",
   "metadata": {},
   "execution_count": null,
   "outputs": [],
   "source": "# 你的解答\n\n"
  },
  {
   "cell_type": "markdown",
   "metadata": {},
   "source": "### 練習題 9: 實作挑戰\n\n**題目描述**:\n建立一個功能模組，實現以下需求：\n1. 定義清晰的介面\n2. 實作核心功能\n3. 加入錯誤處理\n4. 撰寫使用範例\n\n**難度**: 中級\n\n**預估時間**: 21 分鐘\n\n**提示**:\n- 注意邊界條件\n- 確保程式碼可讀性\n- 遵循命名規範\n- 加入適當註解"
  },
  {
   "cell_type": "code",
   "metadata": {},
   "execution_count": null,
   "outputs": [],
   "source": "# 你的解答\n\n"
  },
  {
   "cell_type": "markdown",
   "metadata": {},
   "source": "### 練習題 10: 實作挑戰\n\n**題目描述**:\n建立一個功能模組，實現以下需求：\n1. 定義清晰的介面\n2. 實作核心功能\n3. 加入錯誤處理\n4. 撰寫使用範例\n\n**難度**: 中級\n\n**預估時間**: 23 分鐘\n\n**提示**:\n- 注意邊界條件\n- 確保程式碼可讀性\n- 遵循命名規範\n- 加入適當註解"
  },
  {
   "cell_type": "code",
   "metadata": {},
   "execution_count": null,
   "outputs": [],
   "source": "# 你的解答\n\n"
  },
  {
   "cell_type": "markdown",
   "metadata": {},
   "source": "### 練習題 11: 實作挑戰\n\n**題目描述**:\n建立一個功能模組，實現以下需求：\n1. 定義清晰的介面\n2. 實作核心功能\n3. 加入錯誤處理\n4. 撰寫使用範例\n\n**難度**: 進階\n\n**預估時間**: 25 分鐘\n\n**提示**:\n- 注意邊界條件\n- 確保程式碼可讀性\n- 遵循命名規範\n- 加入適當註解"
  },
  {
   "cell_type": "code",
   "metadata": {},
   "execution_count": null,
   "outputs": [],
   "source": "# 你的解答\n\n"
  },
  {
   "cell_type": "markdown",
   "metadata": {},
   "source": "### 練習題 12: 實作挑戰\n\n**題目描述**:\n建立一個功能模組，實現以下需求：\n1. 定義清晰的介面\n2. 實作核心功能\n3. 加入錯誤處理\n4. 撰寫使用範例\n\n**難度**: 進階\n\n**預估時間**: 27 分鐘\n\n**提示**:\n- 注意邊界條件\n- 確保程式碼可讀性\n- 遵循命名規範\n- 加入適當註解"
  },
  {
   "cell_type": "code",
   "metadata": {},
   "execution_count": null,
   "outputs": [],
   "source": "# 你的解答\n\n"
  },
  {
   "cell_type": "markdown",
   "metadata": {},
   "source": "### 練習題 13: 實作挑戰\n\n**題目描述**:\n建立一個功能模組，實現以下需求：\n1. 定義清晰的介面\n2. 實作核心功能\n3. 加入錯誤處理\n4. 撰寫使用範例\n\n**難度**: 進階\n\n**預估時間**: 29 分鐘\n\n**提示**:\n- 注意邊界條件\n- 確保程式碼可讀性\n- 遵循命名規範\n- 加入適當註解"
  },
  {
   "cell_type": "code",
   "metadata": {},
   "execution_count": null,
   "outputs": [],
   "source": "# 你的解答\n\n"
  },
  {
   "cell_type": "markdown",
   "metadata": {},
   "source": "### 練習題 14: 實作挑戰\n\n**題目描述**:\n建立一個功能模組，實現以下需求：\n1. 定義清晰的介面\n2. 實作核心功能\n3. 加入錯誤處理\n4. 撰寫使用範例\n\n**難度**: 進階\n\n**預估時間**: 31 分鐘\n\n**提示**:\n- 注意邊界條件\n- 確保程式碼可讀性\n- 遵循命名規範\n- 加入適當註解"
  },
  {
   "cell_type": "code",
   "metadata": {},
   "execution_count": null,
   "outputs": [],
   "source": "# 你的解答\n\n"
  },
  {
   "cell_type": "markdown",
   "metadata": {},
   "source": "### 練習題 15: 實作挑戰\n\n**題目描述**:\n建立一個功能模組，實現以下需求：\n1. 定義清晰的介面\n2. 實作核心功能\n3. 加入錯誤處理\n4. 撰寫使用範例\n\n**難度**: 進階\n\n**預估時間**: 33 分鐘\n\n**提示**:\n- 注意邊界條件\n- 確保程式碼可讀性\n- 遵循命名規範\n- 加入適當註解"
  },
  {
   "cell_type": "code",
   "metadata": {},
   "execution_count": null,
   "outputs": [],
   "source": "# 你的解答\n\n"
  }
 ],
 "metadata": {
  "kernelspec": {
   "display_name": "Python 3",
   "language": "python",
   "name": "python3"
  },
  "language_info": {
   "codemirror_mode": {
    "name": "ipython",
    "version": 3
   },
   "file_extension": ".py",
   "mimetype": "text/x-python",
   "name": "python",
   "nbconvert_exporter": "python",
   "pygments_lexer": "ipython3",
   "version": "3.8.0"
  }
 },
 "nbformat": 4,
 "nbformat_minor": 4
}