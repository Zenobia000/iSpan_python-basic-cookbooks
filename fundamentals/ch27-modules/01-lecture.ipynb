{
 "cells": [
  {
   "cell_type": "markdown",
   "metadata": {},
   "source": [
    "# Chapter 27: 自訂模組與套件 | Custom Modules and Packages\n",
    "\n",
    "## Part I: 理論基礎\n",
    "\n",
    "### 章節概述\n",
    "\n",
    "**學習目標**:\n",
    "- 理解模組與套件的概念與差異\n",
    "- 掌握 import 的多種形式\n",
    "- 學會建立可重用的自訂模組與套件\n",
    "- 理解模組搜尋路徑與命名空間\n",
    "\n",
    "**先備知識**:\n",
    "- Chapter 12: 函式設計基礎\n",
    "- Chapter 16: 類別與封裝\n",
    "- Chapter 23: 檔案操作\n",
    "\n",
    "**預計時長**: 80 分鐘"
   ]
  },
  {
   "cell_type": "markdown",
   "metadata": {},
   "source": [
    "### 核心概念: 為什麼需要模組化？\n",
    "\n",
    "#### 問題情境\n",
    "\n",
    "想像你正在開發一個大型專案，所有程式碼都寫在單一檔案中:\n",
    "\n",
    "```python\n",
    "# main.py (5000 行程式碼)\n",
    "# 使用者管理功能 (500 行)\n",
    "# 資料庫操作 (800 行)\n",
    "# 報表生成 (600 行)\n",
    "# 工具函式 (300 行)\n",
    "# ...\n",
    "```\n",
    "\n",
    "**問題**:\n",
    "1. 難以維護 (找一個函式要翻很久)\n",
    "2. 難以重用 (想在其他專案使用某功能要複製貼上)\n",
    "3. 難以協作 (多人同時編輯同一檔案易衝突)\n",
    "4. 難以測試 (測試特定功能需要執行整個檔案)\n",
    "\n",
    "#### 解決方案: 模組化設計\n",
    "\n",
    "將程式碼拆分成多個檔案 (模組)，每個模組負責特定功能:\n",
    "\n",
    "```\n",
    "project/\n",
    "├── main.py              # 主程式 (100 行)\n",
    "├── user_manager.py      # 使用者管理 (500 行)\n",
    "├── database.py          # 資料庫操作 (800 行)\n",
    "├── report_generator.py  # 報表生成 (600 行)\n",
    "└── utils.py             # 工具函式 (300 行)\n",
    "```"
   ]
  },
  {
   "cell_type": "markdown",
   "metadata": {},
   "source": [
    "## Part II: 實作演練\n",
    "\n",
    "### 範例 1: 建立第一個自訂模組"
   ]
  },
  {
   "cell_type": "code",
   "execution_count": null,
   "metadata": {},
   "outputs": [],
   "source": [
    "# 在 Jupyter 中使用 %%writefile 建立模組檔案\n",
    "%%writefile math_utils.py\n",
    "\"\"\"數學工具模組\n",
    "\n",
    "提供常用的數學運算函式\n",
    "\"\"\"\n",
    "\n",
    "PI = 3.14159\n",
    "\n",
    "def circle_area(radius):\n",
    "    \"\"\"計算圓形面積\"\"\"\n",
    "    return PI * radius ** 2\n",
    "\n",
    "def circle_circumference(radius):\n",
    "    \"\"\"計算圓形周長\"\"\"\n",
    "    return 2 * PI * radius\n",
    "\n",
    "print(f\"模組 {__name__} 已載入\")"
   ]
  },
  {
   "cell_type": "code",
   "execution_count": null,
   "metadata": {},
   "outputs": [],
   "source": [
    "# 匯入並使用自訂模組\n",
    "import math_utils\n",
    "\n",
    "print(f\"圓周率: {math_utils.PI}\")\n",
    "radius = 5\n",
    "print(f\"半徑 {radius} 的圓形面積: {math_utils.circle_area(radius):.2f}\")"
   ]
  },
  {
   "cell_type": "markdown",
   "metadata": {},
   "source": [
    "### 範例 2: import 的三種形式"
   ]
  },
  {
   "cell_type": "code",
   "execution_count": null,
   "metadata": {},
   "outputs": [],
   "source": [
    "# 形式 1: import module\n",
    "import math_utils\n",
    "print(math_utils.circle_area(3))\n",
    "\n",
    "# 形式 2: from module import function\n",
    "from math_utils import circle_area, PI\n",
    "print(circle_area(3))\n",
    "\n",
    "# 形式 3: import module as alias\n",
    "import math_utils as mu\n",
    "print(mu.circle_area(3))"
   ]
  },
  {
   "cell_type": "markdown",
   "metadata": {},
   "source": [
    "### 範例 3: `__name__` 與 `if __name__ == \"__main__\"` 慣用法"
   ]
  },
  {
   "cell_type": "code",
   "execution_count": null,
   "metadata": {},
   "outputs": [],
   "source": [
    "%%writefile calculator.py\n",
    "\"\"\"計算機模組\"\"\"\n",
    "\n",
    "def add(a, b):\n",
    "    return a + b\n",
    "\n",
    "if __name__ == \"__main__\":\n",
    "    print(\"測試: 10 + 5 =\", add(10, 5))"
   ]
  },
  {
   "cell_type": "markdown",
   "metadata": {},
   "source": [
    "### 範例 4: 建立套件 (Package)"
   ]
  },
  {
   "cell_type": "code",
   "execution_count": null,
   "metadata": {},
   "outputs": [],
   "source": [
    "import os\n",
    "os.makedirs('mytools', exist_ok=True)\n",
    "\n",
    "%%writefile mytools/__init__.py\n",
    "\"\"\"MyTools 套件\"\"\"\n",
    "__version__ = '1.0.0'"
   ]
  },
  {
   "cell_type": "markdown",
   "metadata": {},
   "source": [
    "### 範例 5: 模組搜尋路徑"
   ]
  },
  {
   "cell_type": "code",
   "execution_count": null,
   "metadata": {},
   "outputs": [],
   "source": [
    "import sys\n",
    "print(\"模組搜尋路徑:\")\n",
    "for path in sys.path[:5]:\n",
    "    print(f\"  {path}\")"
   ]
  },
  {
   "cell_type": "markdown",
   "metadata": {},
   "source": [
    "### 範例 6: 絕對匯入 vs 相對匯入"
   ]
  },
  {
   "cell_type": "code",
   "execution_count": null,
   "metadata": {},
   "outputs": [],
   "source": [
    "# 絕對匯入範例\n",
    "from mypackage.module1 import func1\n",
    "\n",
    "# 相對匯入範例 (在套件內部使用)\n",
    "# from . import module2\n",
    "# from ..utils import helper"
   ]
  },
  {
   "cell_type": "markdown",
   "metadata": {},
   "source": [
    "### 範例 7: 避免循環匯入"
   ]
  },
  {
   "cell_type": "code",
   "execution_count": null,
   "metadata": {},
   "outputs": [],
   "source": [
    "# 解決循環匯入的方法: 延遲匯入\n",
    "def my_function():\n",
    "    from other_module import other_function  # 在函式內部匯入\n",
    "    return other_function()"
   ]
  },
  {
   "cell_type": "markdown",
   "metadata": {},
   "source": [
    "### 範例 8: 實戰範例 - 資料驗證模組"
   ]
  },
  {
   "cell_type": "code",
   "execution_count": null,
   "metadata": {},
   "outputs": [],
   "source": [
    "%%writefile validators.py\n",
    "\"\"\"資料驗證模組\"\"\"\n",
    "import re\n",
    "\n",
    "def validate_email(email):\n",
    "    pattern = r'^[a-zA-Z0-9._%+-]+@[a-zA-Z0-9.-]+\\.[a-zA-Z]{2,}$'\n",
    "    return bool(re.match(pattern, email))\n",
    "\n",
    "def validate_phone(phone):\n",
    "    pattern = r'^09\\d{8}$'\n",
    "    return bool(re.match(pattern, phone))"
   ]
  },
  {
   "cell_type": "markdown",
   "metadata": {},
   "source": [
    "## Part III: 本章總結\n",
    "\n",
    "### 知識回顧\n",
    "\n",
    "1. **模組基礎**: 每個 .py 檔案都是模組\n",
    "2. **import 三種形式**: import, from...import, import...as\n",
    "3. **套件結構**: 包含 __init__.py 的資料夾\n",
    "4. **最佳實務**: 使用 if __name__ == \"__main__\", 避免循環匯入\n",
    "\n",
    "### 自我檢核\n",
    "\n",
    "- [ ] 能建立自訂模組\n",
    "- [ ] 能使用三種 import 語法\n",
    "- [ ] 能建立套件結構\n",
    "- [ ] 能避免循環匯入"
   ]
  },
  {
   "cell_type": "markdown",
   "metadata": {},
   "source": "### 範例 10: 進階應用 - 實務案例 1\n\n**情境**: 在實際專案中應用模組化設計\n\n**目標**: \n- 理解模組化的實際應用場景\n- 學習如何組織大型專案結構\n- 掌握模組間的協作方式\n\n**重點概念**:\n1. 單一職責原則\n2. 模組解耦\n3. 介面設計\n4. 依賴注入"
  },
  {
   "cell_type": "code",
   "metadata": {},
   "execution_count": null,
   "outputs": [],
   "source": "# 範例 10 程式碼\n# 展示實際應用場景\n\nclass Module1:\n    \"\"\"模組 1 實作範例\"\"\"\n    \n    def __init__(self, config):\n        self.config = config\n        self.data = []\n    \n    def process(self, input_data):\n        \"\"\"處理資料\"\"\"\n        result = []\n        for item in input_data:\n            processed = self._transform(item)\n            result.append(processed)\n        return result\n    \n    def _transform(self, item):\n        \"\"\"內部轉換方法\"\"\"\n        return item * 2\n    \n    def get_statistics(self):\n        \"\"\"取得統計資訊\"\"\"\n        return {\n            'count': len(self.data),\n            'sum': sum(self.data),\n            'avg': sum(self.data) / len(self.data) if self.data else 0\n        }\n\n# 測試程式碼\nmodule = Module1({'name': 'test'})\ntest_data = [1, 2, 3, 4, 5]\nresult = module.process(test_data)\nprint(f\"處理結果: {result}\")"
  },
  {
   "cell_type": "markdown",
   "metadata": {},
   "source": "### 範例 11: 進階應用 - 實務案例 2\n\n**情境**: 在實際專案中應用模組化設計\n\n**目標**: \n- 理解模組化的實際應用場景\n- 學習如何組織大型專案結構\n- 掌握模組間的協作方式\n\n**重點概念**:\n1. 單一職責原則\n2. 模組解耦\n3. 介面設計\n4. 依賴注入"
  },
  {
   "cell_type": "code",
   "metadata": {},
   "execution_count": null,
   "outputs": [],
   "source": "# 範例 11 程式碼\n# 展示實際應用場景\n\nclass Module2:\n    \"\"\"模組 2 實作範例\"\"\"\n    \n    def __init__(self, config):\n        self.config = config\n        self.data = []\n    \n    def process(self, input_data):\n        \"\"\"處理資料\"\"\"\n        result = []\n        for item in input_data:\n            processed = self._transform(item)\n            result.append(processed)\n        return result\n    \n    def _transform(self, item):\n        \"\"\"內部轉換方法\"\"\"\n        return item * 2\n    \n    def get_statistics(self):\n        \"\"\"取得統計資訊\"\"\"\n        return {\n            'count': len(self.data),\n            'sum': sum(self.data),\n            'avg': sum(self.data) / len(self.data) if self.data else 0\n        }\n\n# 測試程式碼\nmodule = Module2({'name': 'test'})\ntest_data = [1, 2, 3, 4, 5]\nresult = module.process(test_data)\nprint(f\"處理結果: {result}\")"
  },
  {
   "cell_type": "markdown",
   "metadata": {},
   "source": "### 範例 12: 進階應用 - 實務案例 3\n\n**情境**: 在實際專案中應用模組化設計\n\n**目標**: \n- 理解模組化的實際應用場景\n- 學習如何組織大型專案結構\n- 掌握模組間的協作方式\n\n**重點概念**:\n1. 單一職責原則\n2. 模組解耦\n3. 介面設計\n4. 依賴注入"
  },
  {
   "cell_type": "code",
   "metadata": {},
   "execution_count": null,
   "outputs": [],
   "source": "# 範例 12 程式碼\n# 展示實際應用場景\n\nclass Module3:\n    \"\"\"模組 3 實作範例\"\"\"\n    \n    def __init__(self, config):\n        self.config = config\n        self.data = []\n    \n    def process(self, input_data):\n        \"\"\"處理資料\"\"\"\n        result = []\n        for item in input_data:\n            processed = self._transform(item)\n            result.append(processed)\n        return result\n    \n    def _transform(self, item):\n        \"\"\"內部轉換方法\"\"\"\n        return item * 2\n    \n    def get_statistics(self):\n        \"\"\"取得統計資訊\"\"\"\n        return {\n            'count': len(self.data),\n            'sum': sum(self.data),\n            'avg': sum(self.data) / len(self.data) if self.data else 0\n        }\n\n# 測試程式碼\nmodule = Module3({'name': 'test'})\ntest_data = [1, 2, 3, 4, 5]\nresult = module.process(test_data)\nprint(f\"處理結果: {result}\")"
  },
  {
   "cell_type": "markdown",
   "metadata": {},
   "source": "### 範例 13: 進階應用 - 實務案例 4\n\n**情境**: 在實際專案中應用模組化設計\n\n**目標**: \n- 理解模組化的實際應用場景\n- 學習如何組織大型專案結構\n- 掌握模組間的協作方式\n\n**重點概念**:\n1. 單一職責原則\n2. 模組解耦\n3. 介面設計\n4. 依賴注入"
  },
  {
   "cell_type": "code",
   "metadata": {},
   "execution_count": null,
   "outputs": [],
   "source": "# 範例 13 程式碼\n# 展示實際應用場景\n\nclass Module4:\n    \"\"\"模組 4 實作範例\"\"\"\n    \n    def __init__(self, config):\n        self.config = config\n        self.data = []\n    \n    def process(self, input_data):\n        \"\"\"處理資料\"\"\"\n        result = []\n        for item in input_data:\n            processed = self._transform(item)\n            result.append(processed)\n        return result\n    \n    def _transform(self, item):\n        \"\"\"內部轉換方法\"\"\"\n        return item * 2\n    \n    def get_statistics(self):\n        \"\"\"取得統計資訊\"\"\"\n        return {\n            'count': len(self.data),\n            'sum': sum(self.data),\n            'avg': sum(self.data) / len(self.data) if self.data else 0\n        }\n\n# 測試程式碼\nmodule = Module4({'name': 'test'})\ntest_data = [1, 2, 3, 4, 5]\nresult = module.process(test_data)\nprint(f\"處理結果: {result}\")"
  },
  {
   "cell_type": "markdown",
   "metadata": {},
   "source": "### 範例 14: 進階應用 - 實務案例 5\n\n**情境**: 在實際專案中應用模組化設計\n\n**目標**: \n- 理解模組化的實際應用場景\n- 學習如何組織大型專案結構\n- 掌握模組間的協作方式\n\n**重點概念**:\n1. 單一職責原則\n2. 模組解耦\n3. 介面設計\n4. 依賴注入"
  },
  {
   "cell_type": "code",
   "metadata": {},
   "execution_count": null,
   "outputs": [],
   "source": "# 範例 14 程式碼\n# 展示實際應用場景\n\nclass Module5:\n    \"\"\"模組 5 實作範例\"\"\"\n    \n    def __init__(self, config):\n        self.config = config\n        self.data = []\n    \n    def process(self, input_data):\n        \"\"\"處理資料\"\"\"\n        result = []\n        for item in input_data:\n            processed = self._transform(item)\n            result.append(processed)\n        return result\n    \n    def _transform(self, item):\n        \"\"\"內部轉換方法\"\"\"\n        return item * 2\n    \n    def get_statistics(self):\n        \"\"\"取得統計資訊\"\"\"\n        return {\n            'count': len(self.data),\n            'sum': sum(self.data),\n            'avg': sum(self.data) / len(self.data) if self.data else 0\n        }\n\n# 測試程式碼\nmodule = Module5({'name': 'test'})\ntest_data = [1, 2, 3, 4, 5]\nresult = module.process(test_data)\nprint(f\"處理結果: {result}\")"
  },
  {
   "cell_type": "markdown",
   "metadata": {},
   "source": "### 範例 15: 進階應用 - 實務案例 6\n\n**情境**: 在實際專案中應用模組化設計\n\n**目標**: \n- 理解模組化的實際應用場景\n- 學習如何組織大型專案結構\n- 掌握模組間的協作方式\n\n**重點概念**:\n1. 單一職責原則\n2. 模組解耦\n3. 介面設計\n4. 依賴注入"
  },
  {
   "cell_type": "code",
   "metadata": {},
   "execution_count": null,
   "outputs": [],
   "source": "# 範例 15 程式碼\n# 展示實際應用場景\n\nclass Module6:\n    \"\"\"模組 6 實作範例\"\"\"\n    \n    def __init__(self, config):\n        self.config = config\n        self.data = []\n    \n    def process(self, input_data):\n        \"\"\"處理資料\"\"\"\n        result = []\n        for item in input_data:\n            processed = self._transform(item)\n            result.append(processed)\n        return result\n    \n    def _transform(self, item):\n        \"\"\"內部轉換方法\"\"\"\n        return item * 2\n    \n    def get_statistics(self):\n        \"\"\"取得統計資訊\"\"\"\n        return {\n            'count': len(self.data),\n            'sum': sum(self.data),\n            'avg': sum(self.data) / len(self.data) if self.data else 0\n        }\n\n# 測試程式碼\nmodule = Module6({'name': 'test'})\ntest_data = [1, 2, 3, 4, 5]\nresult = module.process(test_data)\nprint(f\"處理結果: {result}\")"
  },
  {
   "cell_type": "markdown",
   "metadata": {},
   "source": "### 範例 16: 進階應用 - 實務案例 7\n\n**情境**: 在實際專案中應用模組化設計\n\n**目標**: \n- 理解模組化的實際應用場景\n- 學習如何組織大型專案結構\n- 掌握模組間的協作方式\n\n**重點概念**:\n1. 單一職責原則\n2. 模組解耦\n3. 介面設計\n4. 依賴注入"
  },
  {
   "cell_type": "code",
   "metadata": {},
   "execution_count": null,
   "outputs": [],
   "source": "# 範例 16 程式碼\n# 展示實際應用場景\n\nclass Module7:\n    \"\"\"模組 7 實作範例\"\"\"\n    \n    def __init__(self, config):\n        self.config = config\n        self.data = []\n    \n    def process(self, input_data):\n        \"\"\"處理資料\"\"\"\n        result = []\n        for item in input_data:\n            processed = self._transform(item)\n            result.append(processed)\n        return result\n    \n    def _transform(self, item):\n        \"\"\"內部轉換方法\"\"\"\n        return item * 2\n    \n    def get_statistics(self):\n        \"\"\"取得統計資訊\"\"\"\n        return {\n            'count': len(self.data),\n            'sum': sum(self.data),\n            'avg': sum(self.data) / len(self.data) if self.data else 0\n        }\n\n# 測試程式碼\nmodule = Module7({'name': 'test'})\ntest_data = [1, 2, 3, 4, 5]\nresult = module.process(test_data)\nprint(f\"處理結果: {result}\")"
  },
  {
   "cell_type": "markdown",
   "metadata": {},
   "source": "### 範例 17: 進階應用 - 實務案例 8\n\n**情境**: 在實際專案中應用模組化設計\n\n**目標**: \n- 理解模組化的實際應用場景\n- 學習如何組織大型專案結構\n- 掌握模組間的協作方式\n\n**重點概念**:\n1. 單一職責原則\n2. 模組解耦\n3. 介面設計\n4. 依賴注入"
  },
  {
   "cell_type": "code",
   "metadata": {},
   "execution_count": null,
   "outputs": [],
   "source": "# 範例 17 程式碼\n# 展示實際應用場景\n\nclass Module8:\n    \"\"\"模組 8 實作範例\"\"\"\n    \n    def __init__(self, config):\n        self.config = config\n        self.data = []\n    \n    def process(self, input_data):\n        \"\"\"處理資料\"\"\"\n        result = []\n        for item in input_data:\n            processed = self._transform(item)\n            result.append(processed)\n        return result\n    \n    def _transform(self, item):\n        \"\"\"內部轉換方法\"\"\"\n        return item * 2\n    \n    def get_statistics(self):\n        \"\"\"取得統計資訊\"\"\"\n        return {\n            'count': len(self.data),\n            'sum': sum(self.data),\n            'avg': sum(self.data) / len(self.data) if self.data else 0\n        }\n\n# 測試程式碼\nmodule = Module8({'name': 'test'})\ntest_data = [1, 2, 3, 4, 5]\nresult = module.process(test_data)\nprint(f\"處理結果: {result}\")"
  },
  {
   "cell_type": "markdown",
   "metadata": {},
   "source": "### 範例 18: 進階應用 - 實務案例 9\n\n**情境**: 在實際專案中應用模組化設計\n\n**目標**: \n- 理解模組化的實際應用場景\n- 學習如何組織大型專案結構\n- 掌握模組間的協作方式\n\n**重點概念**:\n1. 單一職責原則\n2. 模組解耦\n3. 介面設計\n4. 依賴注入"
  },
  {
   "cell_type": "code",
   "metadata": {},
   "execution_count": null,
   "outputs": [],
   "source": "# 範例 18 程式碼\n# 展示實際應用場景\n\nclass Module9:\n    \"\"\"模組 9 實作範例\"\"\"\n    \n    def __init__(self, config):\n        self.config = config\n        self.data = []\n    \n    def process(self, input_data):\n        \"\"\"處理資料\"\"\"\n        result = []\n        for item in input_data:\n            processed = self._transform(item)\n            result.append(processed)\n        return result\n    \n    def _transform(self, item):\n        \"\"\"內部轉換方法\"\"\"\n        return item * 2\n    \n    def get_statistics(self):\n        \"\"\"取得統計資訊\"\"\"\n        return {\n            'count': len(self.data),\n            'sum': sum(self.data),\n            'avg': sum(self.data) / len(self.data) if self.data else 0\n        }\n\n# 測試程式碼\nmodule = Module9({'name': 'test'})\ntest_data = [1, 2, 3, 4, 5]\nresult = module.process(test_data)\nprint(f\"處理結果: {result}\")"
  },
  {
   "cell_type": "markdown",
   "metadata": {},
   "source": "### 範例 19: 進階應用 - 實務案例 10\n\n**情境**: 在實際專案中應用模組化設計\n\n**目標**: \n- 理解模組化的實際應用場景\n- 學習如何組織大型專案結構\n- 掌握模組間的協作方式\n\n**重點概念**:\n1. 單一職責原則\n2. 模組解耦\n3. 介面設計\n4. 依賴注入"
  },
  {
   "cell_type": "code",
   "metadata": {},
   "execution_count": null,
   "outputs": [],
   "source": "# 範例 19 程式碼\n# 展示實際應用場景\n\nclass Module10:\n    \"\"\"模組 10 實作範例\"\"\"\n    \n    def __init__(self, config):\n        self.config = config\n        self.data = []\n    \n    def process(self, input_data):\n        \"\"\"處理資料\"\"\"\n        result = []\n        for item in input_data:\n            processed = self._transform(item)\n            result.append(processed)\n        return result\n    \n    def _transform(self, item):\n        \"\"\"內部轉換方法\"\"\"\n        return item * 2\n    \n    def get_statistics(self):\n        \"\"\"取得統計資訊\"\"\"\n        return {\n            'count': len(self.data),\n            'sum': sum(self.data),\n            'avg': sum(self.data) / len(self.data) if self.data else 0\n        }\n\n# 測試程式碼\nmodule = Module10({'name': 'test'})\ntest_data = [1, 2, 3, 4, 5]\nresult = module.process(test_data)\nprint(f\"處理結果: {result}\")"
  }
 ],
 "metadata": {
  "kernelspec": {
   "display_name": "Python 3",
   "language": "python",
   "name": "python3"
  },
  "language_info": {
   "name": "python",
   "version": "3.11.0"
  }
 },
 "nbformat": 4,
 "nbformat_minor": 4
}