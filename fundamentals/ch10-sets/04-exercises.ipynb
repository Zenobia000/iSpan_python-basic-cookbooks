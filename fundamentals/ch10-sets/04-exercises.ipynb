{
 "cells": [
  {
   "cell_type": "markdown",
   "metadata": {},
   "source": [
    "# Chapter 10: 集合資料 - 課後習題 | Exercises\n",
    "\n",
    "本檔案包含 15 題課後習題,分為三個難度級別:\n",
    "- **Part I: 基礎題** (1-6): 集合基本操作\n",
    "- **Part II: 中階題** (7-12): 集合運算與應用\n",
    "- **Part III: 挑戰題** (13-15): 綜合應用\n",
    "\n",
    "請獨立完成所有習題,完成後可參考 `05-solutions.ipynb`。"
   ]
  },
  {
   "cell_type": "markdown",
   "metadata": {},
   "source": [
    "---\n",
    "\n",
    "## Part I: 基礎題 | Basic (1-6)"
   ]
  },
  {
   "cell_type": "markdown",
   "metadata": {},
   "source": [
    "### 習題 1: 集合創建與特性\n",
    "\n",
    "創建一個包含以下元素的集合: `1, 2, 2, 3, 3, 3, 4, 4, 4, 4`\n",
    "\n",
    "要求:\n",
    "1. 觀察並記錄集合的實際內容\n",
    "2. 計算集合的長度\n",
    "3. 說明為什麼長度是這個數字"
   ]
  },
  {
   "cell_type": "code",
   "execution_count": null,
   "metadata": {},
   "outputs": [],
   "source": [
    "# 在此撰寫程式碼\n"
   ]
  },
  {
   "cell_type": "markdown",
   "metadata": {},
   "source": [
    "### 習題 2: 字串去重\n",
    "\n",
    "給定一個字串 `\"programming\"`,找出其中所有不重複的字母。\n",
    "\n",
    "要求:\n",
    "1. 使用集合去重\n",
    "2. 將結果轉換為排序後的列表\n",
    "3. 輸出結果"
   ]
  },
  {
   "cell_type": "code",
   "execution_count": null,
   "metadata": {},
   "outputs": [],
   "source": [
    "# 在此撰寫程式碼\n"
   ]
  },
  {
   "cell_type": "markdown",
   "metadata": {},
   "source": [
    "### 習題 3: 集合基本操作\n",
    "\n",
    "創建一個空集合,依序執行以下操作:\n",
    "1. 新增數字 10, 20, 30\n",
    "2. 使用 update() 新增 [40, 50, 60]\n",
    "3. 移除 20\n",
    "4. 使用 discard() 移除 70 (不存在)\n",
    "5. 輸出最終集合"
   ]
  },
  {
   "cell_type": "code",
   "execution_count": null,
   "metadata": {},
   "outputs": [],
   "source": [
    "# 在此撰寫程式碼\n"
   ]
  },
  {
   "cell_type": "markdown",
   "metadata": {},
   "source": [
    "### 習題 4: 列表去重保序\n",
    "\n",
    "給定列表 `[3, 1, 4, 1, 5, 9, 2, 6, 5, 3, 5]`,移除重複元素但保持首次出現的順序。\n",
    "\n",
    "預期輸出: `[3, 1, 4, 5, 9, 2, 6]`"
   ]
  },
  {
   "cell_type": "code",
   "execution_count": null,
   "metadata": {},
   "outputs": [],
   "source": [
    "# 在此撰寫程式碼\n"
   ]
  },
  {
   "cell_type": "markdown",
   "metadata": {},
   "source": [
    "### 習題 5: 成員檢查效能比較\n",
    "\n",
    "創建一個包含 1-10000 的列表和集合,比較使用 `in` 運算子檢查 9999 是否存在的時間差異。\n",
    "\n",
    "提示: 使用 `time` 模組"
   ]
  },
  {
   "cell_type": "code",
   "execution_count": null,
   "metadata": {},
   "outputs": [],
   "source": [
    "# 在此撰寫程式碼\n"
   ]
  },
  {
   "cell_type": "markdown",
   "metadata": {},
   "source": [
    "### 習題 6: 集合推導式基礎\n",
    "\n",
    "使用集合推導式完成:\n",
    "1. 創建 1-20 中所有 3 的倍數的集合\n",
    "2. 創建 1-50 中所有質數的集合 (提示: 可以先定義一個判斷質數的函數)"
   ]
  },
  {
   "cell_type": "code",
   "execution_count": null,
   "metadata": {},
   "outputs": [],
   "source": [
    "# 在此撰寫程式碼\n"
   ]
  },
  {
   "cell_type": "markdown",
   "metadata": {},
   "source": [
    "---\n",
    "\n",
    "## Part II: 中階題 | Intermediate (7-12)"
   ]
  },
  {
   "cell_type": "markdown",
   "metadata": {},
   "source": [
    "### 習題 7: 學生課程分析\n",
    "\n",
    "給定以下資料:\n",
    "```python\n",
    "python_students = {\"Alice\", \"Bob\", \"Charlie\", \"David\", \"Eve\"}\n",
    "java_students = {\"Bob\", \"David\", \"Frank\", \"Grace\"}\n",
    "web_students = {\"Alice\", \"Charlie\", \"Frank\", \"Henry\"}\n",
    "```\n",
    "\n",
    "找出:\n",
    "1. 至少選修一門課的學生 (聯集)\n",
    "2. 同時選修 Python 和 Java 的學生 (交集)\n",
    "3. 只選修 Python 的學生 (差集)\n",
    "4. 選修 Python 或 Java 但不同時選修的學生 (對稱差集)"
   ]
  },
  {
   "cell_type": "code",
   "execution_count": null,
   "metadata": {},
   "outputs": [],
   "source": [
    "# 在此撰寫程式碼\n"
   ]
  },
  {
   "cell_type": "markdown",
   "metadata": {},
   "source": [
    "### 習題 8: IP 白名單檢查\n",
    "\n",
    "設計一個 IP 白名單檢查系統:\n",
    "- 白名單: `{\"192.168.1.1\", \"192.168.1.2\", \"192.168.1.3\"}`\n",
    "- 訪問請求: `[\"192.168.1.1\", \"192.168.1.5\", \"192.168.1.2\", \"10.0.0.1\"]`\n",
    "\n",
    "找出:\n",
    "1. 哪些請求被允許\n",
    "2. 哪些請求被拒絕\n",
    "3. 計算允許率 (允許數量 / 總請求數)"
   ]
  },
  {
   "cell_type": "code",
   "execution_count": null,
   "metadata": {},
   "outputs": [],
   "source": [
    "# 在此撰寫程式碼\n"
   ]
  },
  {
   "cell_type": "markdown",
   "metadata": {},
   "source": [
    "### 習題 9: 文字分析 - 獨特詞彙\n",
    "\n",
    "給定兩段文字:\n",
    "```python\n",
    "text1 = \"the quick brown fox jumps over the lazy dog\"\n",
    "text2 = \"the lazy cat sleeps under the warm sun\"\n",
    "```\n",
    "\n",
    "找出:\n",
    "1. 兩段文字的共同詞彙\n",
    "2. 只在 text1 出現的詞彙\n",
    "3. 只在 text2 出現的詞彙\n",
    "4. 總共有多少個不同的詞彙"
   ]
  },
  {
   "cell_type": "code",
   "execution_count": null,
   "metadata": {},
   "outputs": [],
   "source": [
    "# 在此撰寫程式碼\n"
   ]
  },
  {
   "cell_type": "markdown",
   "metadata": {},
   "source": [
    "### 習題 10: 數字分類\n",
    "\n",
    "給定一個數字列表 `[1, 2, 3, 4, 5, 6, 7, 8, 9, 10, 12, 15, 18, 20]`\n",
    "\n",
    "找出:\n",
    "1. 2 的倍數集合\n",
    "2. 3 的倍數集合\n",
    "3. 同時是 2 和 3 的倍數 (6 的倍數)\n",
    "4. 是 2 的倍數或 3 的倍數"
   ]
  },
  {
   "cell_type": "code",
   "execution_count": null,
   "metadata": {},
   "outputs": [],
   "source": [
    "# 在此撰寫程式碼\n"
   ]
  },
  {
   "cell_type": "markdown",
   "metadata": {},
   "source": [
    "### 習題 11: 重複 Email 檢測\n",
    "\n",
    "給定一個 email 列表:\n",
    "```python\n",
    "emails = [\n",
    "    \"user1@example.com\", \"user2@example.com\", \"user3@example.com\",\n",
    "    \"user1@example.com\", \"user4@example.com\", \"user2@example.com\",\n",
    "    \"user5@example.com\", \"user1@example.com\"\n",
    "]\n",
    "```\n",
    "\n",
    "寫一個函數:\n",
    "1. 找出所有重複的 email\n",
    "2. 統計每個 email 出現的次數\n",
    "3. 返回去重後的 email 列表"
   ]
  },
  {
   "cell_type": "code",
   "execution_count": null,
   "metadata": {},
   "outputs": [],
   "source": [
    "# 在此撰寫程式碼\n"
   ]
  },
  {
   "cell_type": "markdown",
   "metadata": {},
   "source": [
    "### 習題 12: 子集與超集檢查\n",
    "\n",
    "給定以下集合:\n",
    "```python\n",
    "A = {1, 2, 3}\n",
    "B = {1, 2, 3, 4, 5}\n",
    "C = {1, 2}\n",
    "D = {6, 7, 8}\n",
    "```\n",
    "\n",
    "使用適當的方法檢查:\n",
    "1. A 是否是 B 的子集\n",
    "2. B 是否是 A 的超集\n",
    "3. C 是否是 A 的子集\n",
    "4. A 和 D 是否互斥 (沒有共同元素)"
   ]
  },
  {
   "cell_type": "code",
   "execution_count": null,
   "metadata": {},
   "outputs": [],
   "source": [
    "# 在此撰寫程式碼\n"
   ]
  },
  {
   "cell_type": "markdown",
   "metadata": {},
   "source": [
    "---\n",
    "\n",
    "## Part III: 挑戰題 | Challenge (13-15)"
   ]
  },
  {
   "cell_type": "markdown",
   "metadata": {},
   "source": [
    "### 習題 13: 好友推薦系統\n",
    "\n",
    "設計一個簡單的好友推薦系統。給定使用者和他們的好友列表:\n",
    "\n",
    "```python\n",
    "friends = {\n",
    "    \"Alice\": {\"Bob\", \"Charlie\", \"David\"},\n",
    "    \"Bob\": {\"Alice\", \"Charlie\", \"Eve\"},\n",
    "    \"Charlie\": {\"Alice\", \"Bob\", \"Frank\"},\n",
    "    \"David\": {\"Alice\", \"Eve\"},\n",
    "    \"Eve\": {\"Bob\", \"David\", \"Frank\"},\n",
    "    \"Frank\": {\"Charlie\", \"Eve\"}\n",
    "}\n",
    "```\n",
    "\n",
    "寫一個函數 `recommend_friends(user, friends_dict)`,返回可能認識的人:\n",
    "- 規則: 推薦「好友的好友」中,不是自己且不是已經是好友的人\n",
    "- 例如: Alice 的好友的好友中,排除 Alice 自己和已經是 Alice 好友的人\n",
    "\n",
    "測試: 為 Alice 推薦好友"
   ]
  },
  {
   "cell_type": "code",
   "execution_count": null,
   "metadata": {},
   "outputs": [],
   "source": [
    "# 在此撰寫程式碼\n"
   ]
  },
  {
   "cell_type": "markdown",
   "metadata": {},
   "source": [
    "### 習題 14: 拼字遊戲 - Anagram 檢查\n",
    "\n",
    "Anagram 是指使用相同字母但順序不同的詞。例如 \"listen\" 和 \"silent\"。\n",
    "\n",
    "寫一個函數 `are_anagrams(word1, word2)`,檢查兩個字串是否是 anagram。\n",
    "\n",
    "要求:\n",
    "1. 忽略大小寫\n",
    "2. 忽略空格\n",
    "3. 使用集合進行檢查\n",
    "\n",
    "測試案例:\n",
    "- \"Listen\" 和 \"Silent\" → True\n",
    "- \"Hello\" 和 \"World\" → False\n",
    "- \"The Eyes\" 和 \"They See\" → True"
   ]
  },
  {
   "cell_type": "code",
   "execution_count": null,
   "metadata": {},
   "outputs": [],
   "source": [
    "# 在此撰寫程式碼\n"
   ]
  },
  {
   "cell_type": "markdown",
   "metadata": {},
   "source": [
    "### 習題 15: 技能配對系統\n",
    "\n",
    "設計一個技能配對系統,找出最適合的工作。\n",
    "\n",
    "```python\n",
    "# 求職者技能\n",
    "candidates = {\n",
    "    \"Alice\": {\"Python\", \"SQL\", \"Git\", \"Docker\"},\n",
    "    \"Bob\": {\"Java\", \"SQL\", \"Spring\", \"Git\"},\n",
    "    \"Charlie\": {\"Python\", \"Django\", \"PostgreSQL\", \"Docker\"},\n",
    "    \"David\": {\"JavaScript\", \"React\", \"Node.js\", \"MongoDB\"}\n",
    "}\n",
    "\n",
    "# 工作需求\n",
    "job_requirements = {\n",
    "    \"Backend Developer\": {\"Python\", \"SQL\", \"Docker\"},\n",
    "    \"Full Stack Developer\": {\"JavaScript\", \"React\", \"Node.js\", \"MongoDB\"},\n",
    "    \"DevOps Engineer\": {\"Docker\", \"Kubernetes\", \"CI/CD\", \"Git\"}\n",
    "}\n",
    "```\n",
    "\n",
    "寫一個函數 `match_candidates(candidates, job_requirements)`,返回:\n",
    "1. 每個職位的合適候選人 (擁有所有必需技能)\n",
    "2. 每個候選人的技能匹配度 (擁有的技能數 / 需求技能數)\n",
    "3. 推薦最佳匹配 (匹配度最高的候選人-職位配對)"
   ]
  },
  {
   "cell_type": "code",
   "execution_count": null,
   "metadata": {},
   "outputs": [],
   "source": [
    "# 在此撰寫程式碼\n"
   ]
  },
  {
   "cell_type": "markdown",
   "metadata": {},
   "source": [
    "---\n",
    "\n",
    "## 完成確認\n",
    "\n",
    "完成所有習題後,請:\n",
    "\n",
    "1. [ ] 檢查所有程式碼是否可以正常執行\n",
    "2. [ ] 驗證輸出結果是否符合預期\n",
    "3. [ ] 參考 `05-solutions.ipynb` 對照答案\n",
    "4. [ ] 理解每題的解題思路和技巧\n",
    "\n",
    "**學習建議**:\n",
    "- 先獨立完成所有習題\n",
    "- 遇到困難時,先回顧講義\n",
    "- 最後才參考解答\n",
    "- 理解多種解法的優缺點"
   ]
  }
 ],
 "metadata": {
  "kernelspec": {
   "display_name": "Python 3",
   "language": "python",
   "name": "python3"
  },
  "language_info": {
   "codemirror_mode": {
    "name": "ipython",
    "version": 3
   },
   "file_extension": ".py",
   "mimetype": "text/x-python",
   "name": "python",
   "nbconvert_exporter": "python",
   "pygments_lexer": "ipython3",
   "version": "3.8.0"
  }
 },
 "nbformat": 4,
 "nbformat_minor": 4
}
