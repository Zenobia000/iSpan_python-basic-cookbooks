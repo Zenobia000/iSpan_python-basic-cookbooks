{
 "cells": [
  {
   "cell_type": "markdown",
   "metadata": {},
   "source": [
    "# Chapter 10: 集合資料 - 課堂練習 | Practice Exercises\n",
    "\n",
    "本檔案包含 12 題課堂練習題,分為三個難度級別:\n",
    "- **基礎題** (1-4): 集合創建與基本操作\n",
    "- **進階題** (5-9): 集合運算與應用\n",
    "- **挑戰題** (10-12): 綜合應用\n",
    "\n",
    "請在每題的程式碼格中完成練習。"
   ]
  },
  {
   "cell_type": "markdown",
   "metadata": {},
   "source": [
    "---\n",
    "\n",
    "## Part I: 基礎題 | Basic (1-4)"
   ]
  },
  {
   "cell_type": "markdown",
   "metadata": {},
   "source": [
    "### 練習 1: 創建集合\n",
    "\n",
    "使用三種不同的方式創建以下集合:\n",
    "1. 包含數字 1-5 的集合\n",
    "2. 包含字串 \"apple\", \"banana\", \"cherry\" 的集合\n",
    "3. 包含 1-10 的平方數集合 (使用推導式)"
   ]
  },
  {
   "cell_type": "code",
   "execution_count": null,
   "metadata": {},
   "outputs": [],
   "source": [
    "# 在此撰寫程式碼\n",
    "# 方式 1: 直接創建\n",
    "numbers = \n",
    "\n",
    "# 方式 2: 使用 set() 函數\n",
    "fruits = \n",
    "\n",
    "# 方式 3: 使用集合推導式\n",
    "squares = \n",
    "\n",
    "# 驗證\n",
    "print(\"數字集合:\", numbers)\n",
    "print(\"水果集合:\", fruits)\n",
    "print(\"平方數集合:\", squares)"
   ]
  },
  {
   "cell_type": "markdown",
   "metadata": {},
   "source": [
    "### 練習 2: 集合的特性\n",
    "\n",
    "創建一個包含重複元素的列表,轉換為集合,觀察集合的唯一性特性。\n",
    "\n",
    "列表: `[1, 2, 2, 3, 3, 3, 4, 4, 4, 4]`"
   ]
  },
  {
   "cell_type": "code",
   "execution_count": null,
   "metadata": {},
   "outputs": [],
   "source": [
    "# 在此撰寫程式碼\n",
    "numbers_list = [1, 2, 2, 3, 3, 3, 4, 4, 4, 4]\n",
    "numbers_set = \n",
    "\n",
    "print(\"原始列表:\", numbers_list)\n",
    "print(\"列表長度:\", len(numbers_list))\n",
    "print(\"集合:\", numbers_set)\n",
    "print(\"集合長度:\", len(numbers_set))"
   ]
  },
  {
   "cell_type": "markdown",
   "metadata": {},
   "source": [
    "### 練習 3: 新增和刪除元素\n",
    "\n",
    "創建一個空集合,執行以下操作:\n",
    "1. 新增元素 \"red\", \"green\", \"blue\"\n",
    "2. 使用 `update()` 新增 [\"yellow\", \"purple\"]\n",
    "3. 移除 \"green\"\n",
    "4. 使用 `discard()` 移除 \"pink\" (不存在)"
   ]
  },
  {
   "cell_type": "code",
   "execution_count": null,
   "metadata": {},
   "outputs": [],
   "source": [
    "# 在此撰寫程式碼\n",
    "colors = set()\n",
    "\n",
    "# 1. 新增元素\n",
    "\n",
    "print(\"步驟 1:\", colors)\n",
    "\n",
    "# 2. 使用 update()\n",
    "\n",
    "print(\"步驟 2:\", colors)\n",
    "\n",
    "# 3. 移除 green\n",
    "\n",
    "print(\"步驟 3:\", colors)\n",
    "\n",
    "# 4. discard pink\n",
    "\n",
    "print(\"步驟 4:\", colors)"
   ]
  },
  {
   "cell_type": "markdown",
   "metadata": {},
   "source": [
    "### 練習 4: 成員檢查\n",
    "\n",
    "給定一個集合和一個列表,檢查列表中的每個元素是否在集合中。\n",
    "\n",
    "集合: `{1, 3, 5, 7, 9}`  \n",
    "列表: `[1, 2, 3, 4, 5]`"
   ]
  },
  {
   "cell_type": "code",
   "execution_count": null,
   "metadata": {},
   "outputs": [],
   "source": [
    "# 在此撰寫程式碼\n",
    "numbers_set = {1, 3, 5, 7, 9}\n",
    "numbers_list = [1, 2, 3, 4, 5]\n",
    "\n",
    "for num in numbers_list:\n",
    "    # 檢查 num 是否在集合中\n",
    "    pass"
   ]
  },
  {
   "cell_type": "markdown",
   "metadata": {},
   "source": [
    "---\n",
    "\n",
    "## Part II: 進階題 | Intermediate (5-9)"
   ]
  },
  {
   "cell_type": "markdown",
   "metadata": {},
   "source": [
    "### 練習 5: 聯集運算\n",
    "\n",
    "給定兩個集合:\n",
    "- `set_a = {1, 2, 3, 4, 5}`\n",
    "- `set_b = {4, 5, 6, 7, 8}`\n",
    "\n",
    "使用兩種方式計算聯集:\n",
    "1. 使用 `|` 運算子\n",
    "2. 使用 `union()` 方法"
   ]
  },
  {
   "cell_type": "code",
   "execution_count": null,
   "metadata": {},
   "outputs": [],
   "source": [
    "# 在此撰寫程式碼\n",
    "set_a = {1, 2, 3, 4, 5}\n",
    "set_b = {4, 5, 6, 7, 8}\n",
    "\n",
    "# 方法 1: 使用 |\n",
    "union1 = \n",
    "\n",
    "# 方法 2: 使用 union()\n",
    "union2 = \n",
    "\n",
    "print(\"使用 |:\", union1)\n",
    "print(\"使用 union():\", union2)\n",
    "print(\"兩者相等:\", union1 == union2)"
   ]
  },
  {
   "cell_type": "markdown",
   "metadata": {},
   "source": [
    "### 練習 6: 交集運算\n",
    "\n",
    "有三個學生群組:\n",
    "- 數學社: `{\"Alice\", \"Bob\", \"Charlie\", \"David\"}`\n",
    "- 程式社: `{\"Bob\", \"Charlie\", \"Eve\", \"Frank\"}`\n",
    "- 音樂社: `{\"Charlie\", \"David\", \"Grace\", \"Henry\"}`\n",
    "\n",
    "找出同時參加三個社團的學生。"
   ]
  },
  {
   "cell_type": "code",
   "execution_count": null,
   "metadata": {},
   "outputs": [],
   "source": [
    "# 在此撰寫程式碼\n",
    "math_club = {\"Alice\", \"Bob\", \"Charlie\", \"David\"}\n",
    "coding_club = {\"Bob\", \"Charlie\", \"Eve\", \"Frank\"}\n",
    "music_club = {\"Charlie\", \"David\", \"Grace\", \"Henry\"}\n",
    "\n",
    "# 找出同時在三個社團的學生\n",
    "all_three = \n",
    "\n",
    "print(\"同時參加三個社團的學生:\", all_three)"
   ]
  },
  {
   "cell_type": "markdown",
   "metadata": {},
   "source": [
    "### 練習 7: 差集運算\n",
    "\n",
    "有兩個版本的配置檔:\n",
    "- v1: `{\"debug\", \"verbose\", \"cache\", \"logging\"}`\n",
    "- v2: `{\"debug\", \"cache\", \"optimize\", \"monitoring\"}`\n",
    "\n",
    "找出:\n",
    "1. v2 新增的配置項 (在 v2 但不在 v1)\n",
    "2. v2 移除的配置項 (在 v1 但不在 v2)"
   ]
  },
  {
   "cell_type": "code",
   "execution_count": null,
   "metadata": {},
   "outputs": [],
   "source": [
    "# 在此撰寫程式碼\n",
    "config_v1 = {\"debug\", \"verbose\", \"cache\", \"logging\"}\n",
    "config_v2 = {\"debug\", \"cache\", \"optimize\", \"monitoring\"}\n",
    "\n",
    "# 新增的配置項\n",
    "added = \n",
    "\n",
    "# 移除的配置項\n",
    "removed = \n",
    "\n",
    "print(\"新增:\", added)\n",
    "print(\"移除:\", removed)"
   ]
  },
  {
   "cell_type": "markdown",
   "metadata": {},
   "source": [
    "### 練習 8: 對稱差集\n",
    "\n",
    "給定兩個集合:\n",
    "- `A = {1, 2, 3, 4, 5}`\n",
    "- `B = {4, 5, 6, 7, 8}`\n",
    "\n",
    "計算對稱差集,並驗證結果等於 `(A - B) | (B - A)`"
   ]
  },
  {
   "cell_type": "code",
   "execution_count": null,
   "metadata": {},
   "outputs": [],
   "source": [
    "# 在此撰寫程式碼\n",
    "A = {1, 2, 3, 4, 5}\n",
    "B = {4, 5, 6, 7, 8}\n",
    "\n",
    "# 方法 1: 使用 ^\n",
    "sym_diff1 = \n",
    "\n",
    "# 方法 2: 手動計算\n",
    "sym_diff2 = \n",
    "\n",
    "print(\"使用 ^:\", sym_diff1)\n",
    "print(\"手動計算:\", sym_diff2)\n",
    "print(\"兩者相等:\", sym_diff1 == sym_diff2)"
   ]
  },
  {
   "cell_type": "markdown",
   "metadata": {},
   "source": [
    "### 練習 9: 集合推導式\n",
    "\n",
    "使用集合推導式完成以下任務:\n",
    "1. 創建 1-20 中所有偶數的集合\n",
    "2. 從字串列表中提取所有長度大於 5 的字串的首字母集合\n",
    "\n",
    "字串列表: `[\"apple\", \"banana\", \"cherry\", \"date\", \"elderberry\", \"fig\"]`"
   ]
  },
  {
   "cell_type": "code",
   "execution_count": null,
   "metadata": {},
   "outputs": [],
   "source": [
    "# 在此撰寫程式碼\n",
    "# 1. 偶數集合\n",
    "even_numbers = \n",
    "\n",
    "# 2. 首字母集合\n",
    "words = [\"apple\", \"banana\", \"cherry\", \"date\", \"elderberry\", \"fig\"]\n",
    "first_letters = \n",
    "\n",
    "print(\"偶數:\", even_numbers)\n",
    "print(\"首字母:\", first_letters)"
   ]
  },
  {
   "cell_type": "markdown",
   "metadata": {},
   "source": [
    "---\n",
    "\n",
    "## Part III: 挑戰題 | Challenge (10-12)"
   ]
  },
  {
   "cell_type": "markdown",
   "metadata": {},
   "source": [
    "### 練習 10: 找出遺失的數字\n",
    "\n",
    "給定一個應該包含 1-10 的列表,但缺少了某些數字。\n",
    "使用集合找出遺失的數字。\n",
    "\n",
    "實際列表: `[1, 2, 4, 5, 7, 8, 10]`"
   ]
  },
  {
   "cell_type": "code",
   "execution_count": null,
   "metadata": {},
   "outputs": [],
   "source": [
    "# 在此撰寫程式碼\n",
    "actual = [1, 2, 4, 5, 7, 8, 10]\n",
    "expected = # 創建 1-10 的集合\n",
    "\n",
    "missing = # 找出遺失的數字\n",
    "\n",
    "print(\"實際數字:\", actual)\n",
    "print(\"遺失的數字:\", sorted(missing))"
   ]
  },
  {
   "cell_type": "markdown",
   "metadata": {},
   "source": [
    "### 練習 11: 字母出現統計\n",
    "\n",
    "給定兩個字串,找出:\n",
    "1. 兩個字串共同出現的字母\n",
    "2. 只在第一個字串出現的字母\n",
    "3. 只在第二個字串出現的字母\n",
    "\n",
    "字串 1: `\"hello world\"`  \n",
    "字串 2: `\"world peace\"`"
   ]
  },
  {
   "cell_type": "code",
   "execution_count": null,
   "metadata": {},
   "outputs": [],
   "source": [
    "# 在此撰寫程式碼\n",
    "str1 = \"hello world\"\n",
    "str2 = \"world peace\"\n",
    "\n",
    "# 移除空格,轉換為集合\n",
    "set1 = \n",
    "set2 = \n",
    "\n",
    "# 共同字母\n",
    "common = \n",
    "\n",
    "# 只在 str1\n",
    "only_str1 = \n",
    "\n",
    "# 只在 str2\n",
    "only_str2 = \n",
    "\n",
    "print(\"共同字母:\", sorted(common))\n",
    "print(\"只在 str1:\", sorted(only_str1))\n",
    "print(\"只在 str2:\", sorted(only_str2))"
   ]
  },
  {
   "cell_type": "markdown",
   "metadata": {},
   "source": [
    "### 練習 12: 權限檢查系統\n",
    "\n",
    "實作一個簡單的權限檢查函數:\n",
    "- 輸入: 使用者權限集合、需要的權限集合\n",
    "- 輸出: 是否通過檢查,如果不通過則顯示缺少的權限\n",
    "\n",
    "測試案例:\n",
    "- 使用者權限: `{\"read\", \"write\", \"execute\"}`\n",
    "- 需要權限 1: `{\"read\", \"write\"}`\n",
    "- 需要權限 2: `{\"read\", \"write\", \"delete\"}`"
   ]
  },
  {
   "cell_type": "code",
   "execution_count": null,
   "metadata": {},
   "outputs": [],
   "source": [
    "# 在此撰寫程式碼\n",
    "def check_permissions(user_perms, required_perms):\n",
    "    \"\"\"\n",
    "    檢查使用者是否有所需的權限\n",
    "    \n",
    "    參數:\n",
    "        user_perms: 使用者擁有的權限集合\n",
    "        required_perms: 需要的權限集合\n",
    "    \n",
    "    返回:\n",
    "        (通過/不通過, 缺少的權限)\n",
    "    \"\"\"\n",
    "    # 在此實作\n",
    "    pass\n",
    "\n",
    "# 測試\n",
    "user_permissions = {\"read\", \"write\", \"execute\"}\n",
    "\n",
    "# 測試 1\n",
    "required1 = {\"read\", \"write\"}\n",
    "passed, missing = check_permissions(user_permissions, required1)\n",
    "print(f\"測試 1: {'通過' if passed else '不通過'}\")\n",
    "if not passed:\n",
    "    print(f\"  缺少權限: {missing}\")\n",
    "\n",
    "# 測試 2\n",
    "required2 = {\"read\", \"write\", \"delete\"}\n",
    "passed, missing = check_permissions(user_permissions, required2)\n",
    "print(f\"測試 2: {'通過' if passed else '不通過'}\")\n",
    "if not passed:\n",
    "    print(f\"  缺少權限: {missing}\")"
   ]
  },
  {
   "cell_type": "markdown",
   "metadata": {},
   "source": [
    "---\n",
    "\n",
    "## 練習完成確認\n",
    "\n",
    "完成所有練習後,請確認你已經:\n",
    "\n",
    "- [ ] 理解集合的創建方式\n",
    "- [ ] 掌握集合的基本操作\n",
    "- [ ] 能夠執行四種集合運算\n",
    "- [ ] 會使用集合推導式\n",
    "- [ ] 能應用集合解決實際問題\n",
    "\n",
    "如果有任何不清楚的地方,請回顧講義或詢問老師!"
   ]
  }
 ],
 "metadata": {
  "kernelspec": {
   "display_name": "Python 3",
   "language": "python",
   "name": "python3"
  },
  "language_info": {
   "codemirror_mode": {
    "name": "ipython",
    "version": 3
   },
   "file_extension": ".py",
   "mimetype": "text/x-python",
   "name": "python",
   "nbconvert_exporter": "python",
   "pygments_lexer": "ipython3",
   "version": "3.8.0"
  }
 },
 "nbformat": 4,
 "nbformat_minor": 4
}
