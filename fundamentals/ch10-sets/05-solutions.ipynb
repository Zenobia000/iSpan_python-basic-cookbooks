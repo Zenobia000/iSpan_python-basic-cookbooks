{
 "cells": [
  {
   "cell_type": "markdown",
   "metadata": {},
   "source": [
    "# Chapter 10: 集合資料 - 習題解答 | Solutions\n",
    "\n",
    "本檔案提供 `04-exercises.ipynb` 中所有 15 題的完整解答。\n",
    "\n",
    "每題包含:\n",
    "- 完整程式碼\n",
    "- 執行結果\n",
    "- 解題思路說明"
   ]
  },
  {
   "cell_type": "markdown",
   "metadata": {},
   "source": [
    "---\n",
    "\n",
    "## Part I: 基礎題解答 | Basic Solutions (1-6)"
   ]
  },
  {
   "cell_type": "markdown",
   "metadata": {},
   "source": [
    "### 習題 1 解答: 集合創建與特性"
   ]
  },
  {
   "cell_type": "code",
   "execution_count": null,
   "metadata": {},
   "outputs": [],
   "source": [
    "# 創建集合\n",
    "numbers = {1, 2, 2, 3, 3, 3, 4, 4, 4, 4}\n",
    "\n",
    "print(\"集合內容:\", numbers)\n",
    "print(\"集合長度:\", len(numbers))\n",
    "print(\"\\n說明: 集合自動去除重複元素,只保留唯一值\")\n",
    "print(\"原本有 10 個元素 (包含重複),集合只保留 4 個唯一值: 1, 2, 3, 4\")"
   ]
  },
  {
   "cell_type": "markdown",
   "metadata": {},
   "source": [
    "**解題思路**:\n",
    "- 集合的唯一性特性會自動去除重複元素\n",
    "- 最終只保留 {1, 2, 3, 4}\n",
    "- 長度為 4"
   ]
  },
  {
   "cell_type": "markdown",
   "metadata": {},
   "source": [
    "### 習題 2 解答: 字串去重"
   ]
  },
  {
   "cell_type": "code",
   "execution_count": null,
   "metadata": {},
   "outputs": [],
   "source": [
    "text = \"programming\"\n",
    "\n",
    "# 使用集合去重\n",
    "unique_letters = set(text)\n",
    "print(\"唯一字母 (集合):\", unique_letters)\n",
    "\n",
    "# 轉換為排序後的列表\n",
    "sorted_letters = sorted(unique_letters)\n",
    "print(\"唯一字母 (排序):\", sorted_letters)\n",
    "\n",
    "# 統計資訊\n",
    "print(f\"\\n原字串長度: {len(text)}\")\n",
    "print(f\"唯一字母數: {len(unique_letters)}\")"
   ]
  },
  {
   "cell_type": "markdown",
   "metadata": {},
   "source": [
    "**解題思路**:\n",
    "- `set(text)` 將字串轉為集合,自動去重\n",
    "- `sorted()` 對集合排序,返回列表\n",
    "- \"programming\" 包含字母: a, g, i, m, n, o, p, r"
   ]
  },
  {
   "cell_type": "markdown",
   "metadata": {},
   "source": [
    "### 習題 3 解答: 集合基本操作"
   ]
  },
  {
   "cell_type": "code",
   "execution_count": null,
   "metadata": {},
   "outputs": [],
   "source": [
    "# 創建空集合\n",
    "numbers = set()\n",
    "print(\"初始:\", numbers)\n",
    "\n",
    "# 1. 新增元素\n",
    "numbers.add(10)\n",
    "numbers.add(20)\n",
    "numbers.add(30)\n",
    "print(\"步驟 1 (add):\", numbers)\n",
    "\n",
    "# 2. 使用 update()\n",
    "numbers.update([40, 50, 60])\n",
    "print(\"步驟 2 (update):\", numbers)\n",
    "\n",
    "# 3. 移除 20\n",
    "numbers.remove(20)\n",
    "print(\"步驟 3 (remove 20):\", numbers)\n",
    "\n",
    "# 4. discard 70\n",
    "numbers.discard(70)  # 不存在,不報錯\n",
    "print(\"步驟 4 (discard 70):\", numbers)\n",
    "\n",
    "print(\"\\n最終集合:\", numbers)"
   ]
  },
  {
   "cell_type": "markdown",
   "metadata": {},
   "source": [
    "**解題思路**:\n",
    "- `add()`: 一次新增一個元素\n",
    "- `update()`: 新增多個元素\n",
    "- `remove()`: 刪除存在的元素\n",
    "- `discard()`: 安全刪除 (元素不存在也不報錯)"
   ]
  },
  {
   "cell_type": "markdown",
   "metadata": {},
   "source": [
    "### 習題 4 解答: 列表去重保序"
   ]
  },
  {
   "cell_type": "code",
   "execution_count": null,
   "metadata": {},
   "outputs": [],
   "source": [
    "numbers = [3, 1, 4, 1, 5, 9, 2, 6, 5, 3, 5]\n",
    "\n",
    "# 方法 1: 使用字典 (Python 3.7+)\n",
    "unique_v1 = list(dict.fromkeys(numbers))\n",
    "print(\"方法 1 (字典):\", unique_v1)\n",
    "\n",
    "# 方法 2: 手動去重\n",
    "seen = set()\n",
    "unique_v2 = []\n",
    "for num in numbers:\n",
    "    if num not in seen:\n",
    "        seen.add(num)\n",
    "        unique_v2.append(num)\n",
    "print(\"方法 2 (手動):\", unique_v2)\n",
    "\n",
    "# 驗證結果\n",
    "print(\"\\n預期: [3, 1, 4, 5, 9, 2, 6]\")\n",
    "print(\"結果相同:\", unique_v1 == unique_v2 == [3, 1, 4, 5, 9, 2, 6])"
   ]
  },
  {
   "cell_type": "markdown",
   "metadata": {},
   "source": [
    "**解題思路**:\n",
    "- 不能直接用 `set()`,因為會失去順序\n",
    "- 方法 1: `dict.fromkeys()` 利用字典的有序性 (3.7+)\n",
    "- 方法 2: 使用 `seen` 集合追蹤已見過的元素"
   ]
  },
  {
   "cell_type": "markdown",
   "metadata": {},
   "source": [
    "### 習題 5 解答: 成員檢查效能比較"
   ]
  },
  {
   "cell_type": "code",
   "execution_count": null,
   "metadata": {},
   "outputs": [],
   "source": [
    "import time\n",
    "\n",
    "# 創建列表和集合\n",
    "test_list = list(range(10000))\n",
    "test_set = set(range(10000))\n",
    "\n",
    "# 列表檢查\n",
    "start = time.time()\n",
    "result = 9999 in test_list\n",
    "list_time = time.time() - start\n",
    "\n",
    "# 集合檢查\n",
    "start = time.time()\n",
    "result = 9999 in test_set\n",
    "set_time = time.time() - start\n",
    "\n",
    "print(f\"列表檢查時間: {list_time:.8f} 秒\")\n",
    "print(f\"集合檢查時間: {set_time:.8f} 秒\")\n",
    "print(f\"\\n集合快了約 {list_time/set_time:.0f} 倍\")\n",
    "print(\"\\n原理:\")\n",
    "print(\"- 列表: O(n) 需要逐一檢查\")\n",
    "print(\"- 集合: O(1) 使用雜湊表直接定位\")"
   ]
  },
  {
   "cell_type": "markdown",
   "metadata": {},
   "source": [
    "**解題思路**:\n",
    "- 列表的 `in` 是線性搜尋 O(n)\n",
    "- 集合的 `in` 是雜湊查詢 O(1)\n",
    "- 資料量越大,差異越明顯"
   ]
  },
  {
   "cell_type": "markdown",
   "metadata": {},
   "source": [
    "### 習題 6 解答: 集合推導式基礎"
   ]
  },
  {
   "cell_type": "code",
   "execution_count": null,
   "metadata": {},
   "outputs": [],
   "source": [
    "# 1. 3 的倍數\n",
    "multiples_of_3 = {x for x in range(1, 21) if x % 3 == 0}\n",
    "print(\"3 的倍數:\", sorted(multiples_of_3))\n",
    "\n",
    "# 2. 質數\n",
    "def is_prime(n):\n",
    "    \"\"\"判斷是否為質數\"\"\"\n",
    "    if n < 2:\n",
    "        return False\n",
    "    for i in range(2, int(n**0.5) + 1):\n",
    "        if n % i == 0:\n",
    "            return False\n",
    "    return True\n",
    "\n",
    "primes = {x for x in range(1, 51) if is_prime(x)}\n",
    "print(\"質數:\", sorted(primes))\n",
    "\n",
    "# 驗證\n",
    "print(f\"\\n1-20 中有 {len(multiples_of_3)} 個 3 的倍數\")\n",
    "print(f\"1-50 中有 {len(primes)} 個質數\")"
   ]
  },
  {
   "cell_type": "markdown",
   "metadata": {},
   "source": [
    "**解題思路**:\n",
    "- 集合推導式: `{expression for item in iterable if condition}`\n",
    "- 3 的倍數: 檢查 `x % 3 == 0`\n",
    "- 質數: 需要先定義判斷函數"
   ]
  },
  {
   "cell_type": "markdown",
   "metadata": {},
   "source": [
    "---\n",
    "\n",
    "## Part II: 中階題解答 | Intermediate Solutions (7-12)"
   ]
  },
  {
   "cell_type": "markdown",
   "metadata": {},
   "source": [
    "### 習題 7 解答: 學生課程分析"
   ]
  },
  {
   "cell_type": "code",
   "execution_count": null,
   "metadata": {},
   "outputs": [],
   "source": [
    "python_students = {\"Alice\", \"Bob\", \"Charlie\", \"David\", \"Eve\"}\n",
    "java_students = {\"Bob\", \"David\", \"Frank\", \"Grace\"}\n",
    "web_students = {\"Alice\", \"Charlie\", \"Frank\", \"Henry\"}\n",
    "\n",
    "# 1. 至少選修一門課 (聯集)\n",
    "all_students = python_students | java_students | web_students\n",
    "print(\"至少選修一門課:\", sorted(all_students))\n",
    "\n",
    "# 2. 同時選修 Python 和 Java (交集)\n",
    "both_py_java = python_students & java_students\n",
    "print(\"同時選修 Python 和 Java:\", sorted(both_py_java))\n",
    "\n",
    "# 3. 只選修 Python (差集)\n",
    "only_python = python_students - java_students - web_students\n",
    "print(\"只選修 Python:\", sorted(only_python))\n",
    "\n",
    "# 4. Python 或 Java 但不同時 (對稱差集)\n",
    "py_or_java_not_both = python_students ^ java_students\n",
    "print(\"Python 或 Java 但不同時:\", sorted(py_or_java_not_both))\n",
    "\n",
    "# 統計\n",
    "print(f\"\\n總學生數: {len(all_students)}\")\n",
    "print(f\"Python: {len(python_students)} 人\")\n",
    "print(f\"Java: {len(java_students)} 人\")\n",
    "print(f\"Web: {len(web_students)} 人\")"
   ]
  },
  {
   "cell_type": "markdown",
   "metadata": {},
   "source": [
    "**解題思路**:\n",
    "- 聯集 `|`: 所有選課學生\n",
    "- 交集 `&`: 共同學生\n",
    "- 差集 `-`: 獨有學生\n",
    "- 對稱差集 `^`: 不共同的學生"
   ]
  },
  {
   "cell_type": "markdown",
   "metadata": {},
   "source": [
    "### 習題 8 解答: IP 白名單檢查"
   ]
  },
  {
   "cell_type": "code",
   "execution_count": null,
   "metadata": {},
   "outputs": [],
   "source": [
    "whitelist = {\"192.168.1.1\", \"192.168.1.2\", \"192.168.1.3\"}\n",
    "requests = [\"192.168.1.1\", \"192.168.1.5\", \"192.168.1.2\", \"10.0.0.1\"]\n",
    "\n",
    "# 將請求轉為集合\n",
    "request_set = set(requests)\n",
    "\n",
    "# 1. 允許的請求\n",
    "allowed = request_set & whitelist\n",
    "print(\"允許的 IP:\", sorted(allowed))\n",
    "\n",
    "# 2. 拒絕的請求\n",
    "denied = request_set - whitelist\n",
    "print(\"拒絕的 IP:\", sorted(denied))\n",
    "\n",
    "# 3. 允許率\n",
    "total_requests = len(requests)\n",
    "allowed_count = sum(1 for ip in requests if ip in whitelist)\n",
    "allow_rate = allowed_count / total_requests * 100\n",
    "\n",
    "print(f\"\\n總請求數: {total_requests}\")\n",
    "print(f\"允許: {allowed_count} 個\")\n",
    "print(f\"拒絕: {total_requests - allowed_count} 個\")\n",
    "print(f\"允許率: {allow_rate:.1f}%\")"
   ]
  },
  {
   "cell_type": "markdown",
   "metadata": {},
   "source": [
    "**解題思路**:\n",
    "- 交集找出允許的 IP\n",
    "- 差集找出拒絕的 IP\n",
    "- 計算允許率: 允許數 / 總數 × 100%"
   ]
  },
  {
   "cell_type": "markdown",
   "metadata": {},
   "source": [
    "### 習題 9 解答: 文字分析 - 獨特詞彙"
   ]
  },
  {
   "cell_type": "code",
   "execution_count": null,
   "metadata": {},
   "outputs": [],
   "source": [
    "text1 = \"the quick brown fox jumps over the lazy dog\"\n",
    "text2 = \"the lazy cat sleeps under the warm sun\"\n",
    "\n",
    "# 轉換為集合\n",
    "words1 = set(text1.split())\n",
    "words2 = set(text2.split())\n",
    "\n",
    "# 1. 共同詞彙\n",
    "common = words1 & words2\n",
    "print(\"共同詞彙:\", sorted(common))\n",
    "\n",
    "# 2. 只在 text1\n",
    "only_text1 = words1 - words2\n",
    "print(\"只在 text1:\", sorted(only_text1))\n",
    "\n",
    "# 3. 只在 text2\n",
    "only_text2 = words2 - words1\n",
    "print(\"只在 text2:\", sorted(only_text2))\n",
    "\n",
    "# 4. 總詞彙數\n",
    "all_words = words1 | words2\n",
    "print(f\"\\n總詞彙數: {len(all_words)}\")\n",
    "print(\"所有詞彙:\", sorted(all_words))"
   ]
  },
  {
   "cell_type": "markdown",
   "metadata": {},
   "source": [
    "**解題思路**:\n",
    "- 使用 `split()` 將文字分割為詞彙列表\n",
    "- 轉換為集合進行運算\n",
    "- 交集找共同詞,差集找獨有詞,聯集找所有詞"
   ]
  },
  {
   "cell_type": "markdown",
   "metadata": {},
   "source": [
    "### 習題 10 解答: 數字分類"
   ]
  },
  {
   "cell_type": "code",
   "execution_count": null,
   "metadata": {},
   "outputs": [],
   "source": [
    "numbers = [1, 2, 3, 4, 5, 6, 7, 8, 9, 10, 12, 15, 18, 20]\n",
    "\n",
    "# 1. 2 的倍數\n",
    "multiples_of_2 = {x for x in numbers if x % 2 == 0}\n",
    "print(\"2 的倍數:\", sorted(multiples_of_2))\n",
    "\n",
    "# 2. 3 的倍數\n",
    "multiples_of_3 = {x for x in numbers if x % 3 == 0}\n",
    "print(\"3 的倍數:\", sorted(multiples_of_3))\n",
    "\n",
    "# 3. 同時是 2 和 3 的倍數 (6 的倍數)\n",
    "multiples_of_6 = multiples_of_2 & multiples_of_3\n",
    "print(\"6 的倍數:\", sorted(multiples_of_6))\n",
    "\n",
    "# 4. 是 2 或 3 的倍數\n",
    "multiples_of_2_or_3 = multiples_of_2 | multiples_of_3\n",
    "print(\"2 或 3 的倍數:\", sorted(multiples_of_2_or_3))\n",
    "\n",
    "# 驗證\n",
    "print(f\"\\n2 的倍數: {len(multiples_of_2)} 個\")\n",
    "print(f\"3 的倍數: {len(multiples_of_3)} 個\")\n",
    "print(f\"6 的倍數: {len(multiples_of_6)} 個\")\n",
    "print(f\"2 或 3 的倍數: {len(multiples_of_2_or_3)} 個\")"
   ]
  },
  {
   "cell_type": "markdown",
   "metadata": {},
   "source": [
    "**解題思路**:\n",
    "- 使用集合推導式篩選倍數\n",
    "- 交集找同時是 2 和 3 的倍數\n",
    "- 聯集找是 2 或 3 的倍數"
   ]
  },
  {
   "cell_type": "markdown",
   "metadata": {},
   "source": [
    "### 習題 11 解答: 重複 Email 檢測"
   ]
  },
  {
   "cell_type": "code",
   "execution_count": null,
   "metadata": {},
   "outputs": [],
   "source": [
    "emails = [\n",
    "    \"user1@example.com\", \"user2@example.com\", \"user3@example.com\",\n",
    "    \"user1@example.com\", \"user4@example.com\", \"user2@example.com\",\n",
    "    \"user5@example.com\", \"user1@example.com\"\n",
    "]\n",
    "\n",
    "# 1. 找出重複的 email\n",
    "seen = set()\n",
    "duplicates = set()\n",
    "\n",
    "for email in emails:\n",
    "    if email in seen:\n",
    "        duplicates.add(email)\n",
    "    else:\n",
    "        seen.add(email)\n",
    "\n",
    "print(\"重複的 email:\", sorted(duplicates))\n",
    "\n",
    "# 2. 統計每個 email 出現次數\n",
    "counts = {}\n",
    "for email in emails:\n",
    "    counts[email] = counts.get(email, 0) + 1\n",
    "\n",
    "print(\"\\nEmail 出現次數:\")\n",
    "for email, count in sorted(counts.items()):\n",
    "    status = \"⚠\" if count > 1 else \"✓\"\n",
    "    print(f\"  {status} {email}: {count} 次\")\n",
    "\n",
    "# 3. 去重後的列表\n",
    "unique_emails = list(dict.fromkeys(emails))  # 保持順序\n",
    "print(f\"\\n去重後的 email ({len(unique_emails)} 個):\")\n",
    "for email in unique_emails:\n",
    "    print(f\"  - {email}\")"
   ]
  },
  {
   "cell_type": "markdown",
   "metadata": {},
   "source": [
    "**解題思路**:\n",
    "- 使用兩個集合 (seen, duplicates) 追蹤重複\n",
    "- 使用字典統計出現次數\n",
    "- `dict.fromkeys()` 保序去重"
   ]
  },
  {
   "cell_type": "markdown",
   "metadata": {},
   "source": [
    "### 習題 12 解答: 子集與超集檢查"
   ]
  },
  {
   "cell_type": "code",
   "execution_count": null,
   "metadata": {},
   "outputs": [],
   "source": [
    "A = {1, 2, 3}\n",
    "B = {1, 2, 3, 4, 5}\n",
    "C = {1, 2}\n",
    "D = {6, 7, 8}\n",
    "\n",
    "print(\"集合:\")\n",
    "print(f\"A = {A}\")\n",
    "print(f\"B = {B}\")\n",
    "print(f\"C = {C}\")\n",
    "print(f\"D = {D}\")\n",
    "\n",
    "# 1. A 是否是 B 的子集\n",
    "is_subset = A.issubset(B)\n",
    "# 或: is_subset = A <= B\n",
    "print(f\"\\n1. A 是 B 的子集? {is_subset}\")\n",
    "\n",
    "# 2. B 是否是 A 的超集\n",
    "is_superset = B.issuperset(A)\n",
    "# 或: is_superset = B >= A\n",
    "print(f\"2. B 是 A 的超集? {is_superset}\")\n",
    "\n",
    "# 3. C 是否是 A 的子集\n",
    "c_subset_a = C.issubset(A)\n",
    "print(f\"3. C 是 A 的子集? {c_subset_a}\")\n",
    "\n",
    "# 4. A 和 D 是否互斥\n",
    "is_disjoint = A.isdisjoint(D)\n",
    "print(f\"4. A 和 D 互斥 (無共同元素)? {is_disjoint}\")\n",
    "\n",
    "# 驗證\n",
    "print(\"\\n驗證:\")\n",
    "print(f\"A ∩ D = {A & D} (空集合表示互斥)\")"
   ]
  },
  {
   "cell_type": "markdown",
   "metadata": {},
   "source": [
    "**解題思路**:\n",
    "- `issubset()` 或 `<=`: 檢查是否為子集\n",
    "- `issuperset()` 或 `>=`: 檢查是否為超集\n",
    "- `isdisjoint()`: 檢查是否互斥 (無共同元素)"
   ]
  },
  {
   "cell_type": "markdown",
   "metadata": {},
   "source": [
    "---\n",
    "\n",
    "## Part III: 挑戰題解答 | Challenge Solutions (13-15)"
   ]
  },
  {
   "cell_type": "markdown",
   "metadata": {},
   "source": [
    "### 習題 13 解答: 好友推薦系統"
   ]
  },
  {
   "cell_type": "code",
   "execution_count": null,
   "metadata": {},
   "outputs": [],
   "source": [
    "friends = {\n",
    "    \"Alice\": {\"Bob\", \"Charlie\", \"David\"},\n",
    "    \"Bob\": {\"Alice\", \"Charlie\", \"Eve\"},\n",
    "    \"Charlie\": {\"Alice\", \"Bob\", \"Frank\"},\n",
    "    \"David\": {\"Alice\", \"Eve\"},\n",
    "    \"Eve\": {\"Bob\", \"David\", \"Frank\"},\n",
    "    \"Frank\": {\"Charlie\", \"Eve\"}\n",
    "}\n",
    "\n",
    "def recommend_friends(user, friends_dict):\n",
    "    \"\"\"\n",
    "    推薦可能認識的人 (好友的好友)\n",
    "    \n",
    "    規則: \n",
    "    - 推薦「好友的好友」\n",
    "    - 排除自己\n",
    "    - 排除已經是好友的人\n",
    "    \"\"\"\n",
    "    if user not in friends_dict:\n",
    "        return set()\n",
    "    \n",
    "    # 使用者的好友\n",
    "    user_friends = friends_dict[user]\n",
    "    \n",
    "    # 好友的好友 (聯集)\n",
    "    friends_of_friends = set()\n",
    "    for friend in user_friends:\n",
    "        if friend in friends_dict:\n",
    "            friends_of_friends |= friends_dict[friend]\n",
    "    \n",
    "    # 排除自己和已經是好友的人\n",
    "    recommendations = friends_of_friends - user_friends - {user}\n",
    "    \n",
    "    return recommendations\n",
    "\n",
    "# 測試\n",
    "user = \"Alice\"\n",
    "recommendations = recommend_friends(user, friends)\n",
    "\n",
    "print(f\"{user} 的好友: {friends[user]}\")\n",
    "print(f\"推薦給 {user}: {recommendations}\")\n",
    "\n",
    "# 詳細說明\n",
    "print(f\"\\n推薦理由:\")\n",
    "for person in sorted(recommendations):\n",
    "    mutual = [f for f in friends[user] if person in friends.get(f, set())]\n",
    "    print(f\"  - {person}: 透過 {', '.join(mutual)} 認識\")\n",
    "\n",
    "# 測試其他人\n",
    "print(\"\\n其他推薦:\")\n",
    "for person in [\"Bob\", \"David\"]:\n",
    "    rec = recommend_friends(person, friends)\n",
    "    print(f\"{person}: {rec}\")"
   ]
  },
  {
   "cell_type": "markdown",
   "metadata": {},
   "source": [
    "**解題思路**:\n",
    "1. 取得使用者的所有好友\n",
    "2. 聯集所有「好友的好友」\n",
    "3. 排除使用者自己和已經是好友的人\n",
    "4. 使用差集運算: `friends_of_friends - user_friends - {user}`"
   ]
  },
  {
   "cell_type": "markdown",
   "metadata": {},
   "source": [
    "### 習題 14 解答: Anagram 檢查"
   ]
  },
  {
   "cell_type": "code",
   "execution_count": null,
   "metadata": {},
   "outputs": [],
   "source": [
    "def are_anagrams(word1, word2):\n",
    "    \"\"\"\n",
    "    檢查兩個字串是否為 anagram\n",
    "    \n",
    "    Anagram: 使用相同字母但順序不同的詞\n",
    "    \"\"\"\n",
    "    # 轉小寫並移除空格\n",
    "    clean1 = word1.lower().replace(\" \", \"\")\n",
    "    clean2 = word2.lower().replace(\" \", \"\")\n",
    "    \n",
    "    # 方法 1: 比較字母集合和長度\n",
    "    # (集合相同且長度相同,表示每個字母出現次數也相同)\n",
    "    if set(clean1) != set(clean2):\n",
    "        return False\n",
    "    \n",
    "    if len(clean1) != len(clean2):\n",
    "        return False\n",
    "    \n",
    "    # 方法 2: 比較排序後的字串\n",
    "    return sorted(clean1) == sorted(clean2)\n",
    "\n",
    "# 測試案例\n",
    "test_cases = [\n",
    "    (\"Listen\", \"Silent\", True),\n",
    "    (\"Hello\", \"World\", False),\n",
    "    (\"The Eyes\", \"They See\", True),\n",
    "    (\"abc\", \"cba\", True),\n",
    "    (\"aab\", \"abb\", False),\n",
    "]\n",
    "\n",
    "print(\"Anagram 檢查:\")\n",
    "print(\"=\"*50)\n",
    "for word1, word2, expected in test_cases:\n",
    "    result = are_anagrams(word1, word2)\n",
    "    status = \"✓\" if result == expected else \"✗\"\n",
    "    print(f\"{status} '{word1}' vs '{word2}': {result}\")\n",
    "\n",
    "# 額外測試\n",
    "print(\"\\n更多範例:\")\n",
    "pairs = [\n",
    "    (\"Dormitory\", \"Dirty Room\"),\n",
    "    (\"Conversation\", \"Voices Rant On\"),\n",
    "    (\"Astronomer\", \"Moon Starer\"),\n",
    "]\n",
    "\n",
    "for w1, w2 in pairs:\n",
    "    result = are_anagrams(w1, w2)\n",
    "    print(f\"  '{w1}' vs '{w2}': {result}\")"
   ]
  },
  {
   "cell_type": "markdown",
   "metadata": {},
   "source": [
    "**解題思路**:\n",
    "1. 清理字串: 轉小寫、移除空格\n",
    "2. 檢查字母集合是否相同\n",
    "3. 檢查長度是否相同\n",
    "4. 更嚴謹的方法: 比較排序後的字串"
   ]
  },
  {
   "cell_type": "markdown",
   "metadata": {},
   "source": [
    "### 習題 15 解答: 技能配對系統"
   ]
  },
  {
   "cell_type": "code",
   "execution_count": null,
   "metadata": {},
   "outputs": [],
   "source": [
    "# 求職者技能\n",
    "candidates = {\n",
    "    \"Alice\": {\"Python\", \"SQL\", \"Git\", \"Docker\"},\n",
    "    \"Bob\": {\"Java\", \"SQL\", \"Spring\", \"Git\"},\n",
    "    \"Charlie\": {\"Python\", \"Django\", \"PostgreSQL\", \"Docker\"},\n",
    "    \"David\": {\"JavaScript\", \"React\", \"Node.js\", \"MongoDB\"}\n",
    "}\n",
    "\n",
    "# 工作需求\n",
    "job_requirements = {\n",
    "    \"Backend Developer\": {\"Python\", \"SQL\", \"Docker\"},\n",
    "    \"Full Stack Developer\": {\"JavaScript\", \"React\", \"Node.js\", \"MongoDB\"},\n",
    "    \"DevOps Engineer\": {\"Docker\", \"Kubernetes\", \"CI/CD\", \"Git\"}\n",
    "}\n",
    "\n",
    "def match_candidates(candidates, job_requirements):\n",
    "    \"\"\"\n",
    "    配對候選人與職位\n",
    "    \n",
    "    返回:\n",
    "    - 合適候選人: 擁有所有必需技能\n",
    "    - 匹配度: 擁有技能 / 需求技能\n",
    "    - 最佳匹配: 匹配度最高的配對\n",
    "    \"\"\"\n",
    "    results = {}\n",
    "    \n",
    "    for job, required_skills in job_requirements.items():\n",
    "        print(f\"\\n職位: {job}\")\n",
    "        print(f\"需求技能: {required_skills}\")\n",
    "        print(\"=\"*50)\n",
    "        \n",
    "        qualified = []\n",
    "        match_scores = []\n",
    "        \n",
    "        for name, skills in candidates.items():\n",
    "            # 計算匹配度\n",
    "            matched_skills = required_skills & skills\n",
    "            match_rate = len(matched_skills) / len(required_skills)\n",
    "            \n",
    "            # 是否完全符合\n",
    "            is_qualified = required_skills <= skills  # 子集檢查\n",
    "            \n",
    "            if is_qualified:\n",
    "                qualified.append(name)\n",
    "            \n",
    "            match_scores.append((name, match_rate, matched_skills))\n",
    "            \n",
    "            # 顯示詳細資訊\n",
    "            status = \"✓ 合格\" if is_qualified else \"✗ 不合格\"\n",
    "            print(f\"{status} {name}: {match_rate*100:.0f}% ({len(matched_skills)}/{len(required_skills)})\")\n",
    "            print(f\"  擁有技能: {skills}\")\n",
    "            print(f\"  符合: {matched_skills}\")\n",
    "            if not is_qualified:\n",
    "                missing = required_skills - skills\n",
    "                print(f\"  缺少: {missing}\")\n",
    "        \n",
    "        results[job] = {\n",
    "            \"qualified\": qualified,\n",
    "            \"scores\": sorted(match_scores, key=lambda x: x[1], reverse=True)\n",
    "        }\n",
    "    \n",
    "    # 最佳匹配\n",
    "    print(\"\\n\" + \"=\"*50)\n",
    "    print(\"最佳匹配推薦:\")\n",
    "    print(\"=\"*50)\n",
    "    for job, data in results.items():\n",
    "        if data[\"qualified\"]:\n",
    "            best = data[\"scores\"][0]\n",
    "            print(f\"\\n{job}:\")\n",
    "            print(f\"  最佳候選人: {best[0]} (匹配度 {best[1]*100:.0f}%)\")\n",
    "            print(f\"  所有合格候選人: {', '.join(data['qualified'])}\")\n",
    "        else:\n",
    "            print(f\"\\n{job}: 無完全合格的候選人\")\n",
    "            best = data[\"scores\"][0]\n",
    "            print(f\"  最接近: {best[0]} (匹配度 {best[1]*100:.0f}%)\")\n",
    "    \n",
    "    return results\n",
    "\n",
    "# 執行配對\n",
    "results = match_candidates(candidates, job_requirements)"
   ]
  },
  {
   "cell_type": "markdown",
   "metadata": {},
   "source": [
    "**解題思路**:\n",
    "1. 使用交集 `&` 找出符合的技能\n",
    "2. 使用子集 `<=` 檢查是否完全符合\n",
    "3. 使用差集 `-` 找出缺少的技能\n",
    "4. 計算匹配度: `len(matched) / len(required)`\n",
    "5. 排序找出最佳匹配"
   ]
  },
  {
   "cell_type": "markdown",
   "metadata": {},
   "source": [
    "---\n",
    "\n",
    "## 總結 | Summary\n",
    "\n",
    "這 15 題涵蓋了集合的所有核心概念:\n",
    "\n",
    "**基礎題 (1-6)**:\n",
    "- 集合特性與創建\n",
    "- 基本操作 (add, remove, discard)\n",
    "- 去重與效能\n",
    "- 集合推導式\n",
    "\n",
    "**中階題 (7-12)**:\n",
    "- 四種集合運算 (聯集、交集、差集、對稱差集)\n",
    "- 集合關係 (子集、超集、互斥)\n",
    "- 實際應用 (白名單、文字分析、數字分類)\n",
    "\n",
    "**挑戰題 (13-15)**:\n",
    "- 好友推薦 (複雜集合運算)\n",
    "- Anagram 檢查 (字串處理 + 集合)\n",
    "- 技能配對 (綜合應用)\n",
    "\n",
    "**核心技巧**:\n",
    "1. 理解集合的數學意義\n",
    "2. 選擇適當的運算符號或方法\n",
    "3. 結合多種運算解決複雜問題\n",
    "4. 注意集合的效能優勢"
   ]
  }
 ],
 "metadata": {
  "kernelspec": {
   "display_name": "Python 3",
   "language": "python",
   "name": "python3"
  },
  "language_info": {
   "codemirror_mode": {
    "name": "ipython",
    "version": 3
   },
   "file_extension": ".py",
   "mimetype": "text/x-python",
   "name": "python",
   "nbconvert_exporter": "python",
   "pygments_lexer": "ipython3",
   "version": "3.8.0"
  }
 },
 "nbformat": 4,
 "nbformat_minor": 4
}
