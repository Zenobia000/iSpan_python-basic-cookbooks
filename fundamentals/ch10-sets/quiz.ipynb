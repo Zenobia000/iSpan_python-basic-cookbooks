{
 "cells": [
  {
   "cell_type": "markdown",
   "metadata": {},
   "source": [
    "# Chapter 10: 集合資料 - 自我測驗 | Self-Assessment Quiz\n",
    "\n",
    "本測驗包含 20 題,用於檢驗你對集合的理解程度。\n",
    "\n",
    "**題型分布**:\n",
    "- 選擇題: 12 題\n",
    "- 填空題: 3 題\n",
    "- 程式題: 5 題\n",
    "\n",
    "**建議時間**: 20 分鐘\n",
    "\n",
    "**評分標準**:\n",
    "- 18-20 題正確: 優秀 (Excellent)\n",
    "- 15-17 題正確: 良好 (Good)\n",
    "- 12-14 題正確: 及格 (Pass)\n",
    "- 12 題以下: 需加強 (Need Improvement)"
   ]
  },
  {
   "cell_type": "markdown",
   "metadata": {},
   "source": [
    "---\n",
    "\n",
    "## Part I: 選擇題 | Multiple Choice (1-12)\n",
    "\n",
    "每題 1 分,共 12 分"
   ]
  },
  {
   "cell_type": "markdown",
   "metadata": {},
   "source": [
    "### Q1: 集合的特性\n",
    "\n",
    "下列哪一個**不是**集合的特性?\n",
    "\n",
    "A. 無序性 (Unordered)  \n",
    "B. 唯一性 (Unique)  \n",
    "C. 可索引 (Indexable)  \n",
    "D. 可變性 (Mutable)\n",
    "\n",
    "**答案**: "
   ]
  },
  {
   "cell_type": "markdown",
   "metadata": {},
   "source": [
    "### Q2: 創建空集合\n",
    "\n",
    "下列哪一個會創建空集合?\n",
    "\n",
    "A. `empty = {}`  \n",
    "B. `empty = set()`  \n",
    "C. `empty = []`  \n",
    "D. `empty = ()`\n",
    "\n",
    "**答案**: "
   ]
  },
  {
   "cell_type": "markdown",
   "metadata": {},
   "source": [
    "### Q3: 集合操作結果\n",
    "\n",
    "執行以下程式碼後,`s` 的值是?\n",
    "\n",
    "```python\n",
    "s = {1, 2, 3}\n",
    "s.add(2)\n",
    "s.add(4)\n",
    "```\n",
    "\n",
    "A. `{1, 2, 3, 4}`  \n",
    "B. `{1, 2, 2, 3, 4}`  \n",
    "C. `{1, 2, 3}`  \n",
    "D. 報錯\n",
    "\n",
    "**答案**: "
   ]
  },
  {
   "cell_type": "markdown",
   "metadata": {},
   "source": [
    "### Q4: 聯集運算\n",
    "\n",
    "```python\n",
    "A = {1, 2, 3}\n",
    "B = {3, 4, 5}\n",
    "result = A | B\n",
    "```\n",
    "\n",
    "`result` 的值是?\n",
    "\n",
    "A. `{3}`  \n",
    "B. `{1, 2}`  \n",
    "C. `{1, 2, 3, 4, 5}`  \n",
    "D. `{4, 5}`\n",
    "\n",
    "**答案**: "
   ]
  },
  {
   "cell_type": "markdown",
   "metadata": {},
   "source": [
    "### Q5: 交集運算\n",
    "\n",
    "```python\n",
    "A = {1, 2, 3, 4}\n",
    "B = {3, 4, 5, 6}\n",
    "result = A & B\n",
    "```\n",
    "\n",
    "`result` 的值是?\n",
    "\n",
    "A. `{1, 2, 3, 4, 5, 6}`  \n",
    "B. `{3, 4}`  \n",
    "C. `{1, 2}`  \n",
    "D. `{5, 6}`\n",
    "\n",
    "**答案**: "
   ]
  },
  {
   "cell_type": "markdown",
   "metadata": {},
   "source": [
    "### Q6: 差集運算\n",
    "\n",
    "```python\n",
    "A = {1, 2, 3, 4}\n",
    "B = {3, 4, 5, 6}\n",
    "result = A - B\n",
    "```\n",
    "\n",
    "`result` 的值是?\n",
    "\n",
    "A. `{1, 2}`  \n",
    "B. `{5, 6}`  \n",
    "C. `{3, 4}`  \n",
    "D. `{1, 2, 5, 6}`\n",
    "\n",
    "**答案**: "
   ]
  },
  {
   "cell_type": "markdown",
   "metadata": {},
   "source": [
    "### Q7: 對稱差集\n",
    "\n",
    "```python\n",
    "A = {1, 2, 3}\n",
    "B = {2, 3, 4}\n",
    "result = A ^ B\n",
    "```\n",
    "\n",
    "`result` 的值是?\n",
    "\n",
    "A. `{2, 3}`  \n",
    "B. `{1, 4}`  \n",
    "C. `{1, 2, 3, 4}`  \n",
    "D. `{1}`\n",
    "\n",
    "**答案**: "
   ]
  },
  {
   "cell_type": "markdown",
   "metadata": {},
   "source": [
    "### Q8: remove vs discard\n",
    "\n",
    "下列哪一個陳述是正確的?\n",
    "\n",
    "A. `remove()` 和 `discard()` 完全相同  \n",
    "B. `remove()` 元素不存在會報錯,`discard()` 不會  \n",
    "C. `discard()` 元素不存在會報錯,`remove()` 不會  \n",
    "D. 兩者都會在元素不存在時報錯\n",
    "\n",
    "**答案**: "
   ]
  },
  {
   "cell_type": "markdown",
   "metadata": {},
   "source": [
    "### Q9: 可雜湊性\n",
    "\n",
    "下列哪一個可以作為集合的元素?\n",
    "\n",
    "A. `[1, 2, 3]` (列表)  \n",
    "B. `{1, 2, 3}` (集合)  \n",
    "C. `(1, 2, 3)` (元組)  \n",
    "D. `{\"a\": 1}` (字典)\n",
    "\n",
    "**答案**: "
   ]
  },
  {
   "cell_type": "markdown",
   "metadata": {},
   "source": [
    "### Q10: 子集檢查\n",
    "\n",
    "```python\n",
    "A = {1, 2, 3}\n",
    "B = {1, 2, 3, 4, 5}\n",
    "```\n",
    "\n",
    "下列哪一個表達式為 `True`?\n",
    "\n",
    "A. `A > B`  \n",
    "B. `A < B`  \n",
    "C. `A == B`  \n",
    "D. `A >= B`\n",
    "\n",
    "**答案**: "
   ]
  },
  {
   "cell_type": "markdown",
   "metadata": {},
   "source": [
    "### Q11: 集合推導式\n",
    "\n",
    "```python\n",
    "result = {x**2 for x in range(5)}\n",
    "```\n",
    "\n",
    "`result` 的值是?\n",
    "\n",
    "A. `{0, 1, 4, 9, 16}`  \n",
    "B. `[0, 1, 4, 9, 16]`  \n",
    "C. `{1, 4, 9, 16, 25}`  \n",
    "D. `(0, 1, 4, 9, 16)`\n",
    "\n",
    "**答案**: "
   ]
  },
  {
   "cell_type": "markdown",
   "metadata": {},
   "source": [
    "### Q12: 效能考量\n",
    "\n",
    "在大量資料中檢查元素是否存在,使用集合比列表快的原因是?\n",
    "\n",
    "A. 集合佔用記憶體較少  \n",
    "B. 集合使用雜湊表,查詢時間為 O(1)  \n",
    "C. 集合會自動排序  \n",
    "D. 集合不允許重複\n",
    "\n",
    "**答案**: "
   ]
  },
  {
   "cell_type": "markdown",
   "metadata": {},
   "source": [
    "---\n",
    "\n",
    "## Part II: 填空題 | Fill in the Blanks (13-15)\n",
    "\n",
    "每題 2 分,共 6 分"
   ]
  },
  {
   "cell_type": "markdown",
   "metadata": {},
   "source": [
    "### Q13: 集合運算符號\n",
    "\n",
    "填入適當的符號:\n",
    "\n",
    "1. 聯集: `A _____ B`\n",
    "2. 交集: `A _____ B`\n",
    "3. 差集: `A _____ B`\n",
    "4. 對稱差集: `A _____ B`\n",
    "\n",
    "**答案**: \n",
    "1. \n",
    "2. \n",
    "3. \n",
    "4. "
   ]
  },
  {
   "cell_type": "markdown",
   "metadata": {},
   "source": [
    "### Q14: 集合方法\n",
    "\n",
    "填入適當的方法名稱:\n",
    "\n",
    "1. 新增單個元素: `s._______(item)`\n",
    "2. 新增多個元素: `s._______(items)`\n",
    "3. 安全刪除元素: `s._______(item)`\n",
    "4. 清空集合: `s._______()`\n",
    "\n",
    "**答案**: \n",
    "1. \n",
    "2. \n",
    "3. \n",
    "4. "
   ]
  },
  {
   "cell_type": "markdown",
   "metadata": {},
   "source": [
    "### Q15: 集合特性\n",
    "\n",
    "完成以下句子:\n",
    "\n",
    "1. 集合的元素必須是 _______ (可雜湊的)\n",
    "2. 集合會自動 _______ 重複的元素\n",
    "3. 集合是 _______ 的,元素沒有固定順序\n",
    "4. 創建空集合必須使用 _______ 函數\n",
    "\n",
    "**答案**: \n",
    "1. \n",
    "2. \n",
    "3. \n",
    "4. "
   ]
  },
  {
   "cell_type": "markdown",
   "metadata": {},
   "source": [
    "---\n",
    "\n",
    "## Part III: 程式題 | Programming (16-20)\n",
    "\n",
    "每題 2 分,共 10 分"
   ]
  },
  {
   "cell_type": "markdown",
   "metadata": {},
   "source": [
    "### Q16: 列表去重\n",
    "\n",
    "寫一個函數 `remove_duplicates(items)`,移除列表中的重複元素。\n",
    "\n",
    "測試: `remove_duplicates([1, 2, 2, 3, 4, 4, 5])` 應返回 `{1, 2, 3, 4, 5}`"
   ]
  },
  {
   "cell_type": "code",
   "execution_count": null,
   "metadata": {},
   "outputs": [],
   "source": [
    "def remove_duplicates(items):\n",
    "    # 在此撰寫程式碼\n",
    "    pass\n",
    "\n",
    "# 測試\n",
    "result = remove_duplicates([1, 2, 2, 3, 4, 4, 5])\n",
    "print(result)\n",
    "assert result == {1, 2, 3, 4, 5}, \"測試失敗!\"\n",
    "print(\"✓ 測試通過\")"
   ]
  },
  {
   "cell_type": "markdown",
   "metadata": {},
   "source": [
    "### Q17: 找出共同元素\n",
    "\n",
    "寫一個函數 `find_common(list1, list2)`,找出兩個列表的共同元素。\n",
    "\n",
    "測試: `find_common([1, 2, 3, 4], [3, 4, 5, 6])` 應返回 `{3, 4}`"
   ]
  },
  {
   "cell_type": "code",
   "execution_count": null,
   "metadata": {},
   "outputs": [],
   "source": [
    "def find_common(list1, list2):\n",
    "    # 在此撰寫程式碼\n",
    "    pass\n",
    "\n",
    "# 測試\n",
    "result = find_common([1, 2, 3, 4], [3, 4, 5, 6])\n",
    "print(result)\n",
    "assert result == {3, 4}, \"測試失敗!\"\n",
    "print(\"✓ 測試通過\")"
   ]
  },
  {
   "cell_type": "markdown",
   "metadata": {},
   "source": [
    "### Q18: 找出唯一元素\n",
    "\n",
    "寫一個函數 `find_unique(list1, list2)`,找出只在第一個列表出現的元素。\n",
    "\n",
    "測試: `find_unique([1, 2, 3, 4], [3, 4, 5, 6])` 應返回 `{1, 2}`"
   ]
  },
  {
   "cell_type": "code",
   "execution_count": null,
   "metadata": {},
   "outputs": [],
   "source": [
    "def find_unique(list1, list2):\n",
    "    # 在此撰寫程式碼\n",
    "    pass\n",
    "\n",
    "# 測試\n",
    "result = find_unique([1, 2, 3, 4], [3, 4, 5, 6])\n",
    "print(result)\n",
    "assert result == {1, 2}, \"測試失敗!\"\n",
    "print(\"✓ 測試通過\")"
   ]
  },
  {
   "cell_type": "markdown",
   "metadata": {},
   "source": [
    "### Q19: 檢查子集\n",
    "\n",
    "寫一個函數 `is_subset(set1, set2)`,檢查 set1 是否是 set2 的子集。\n",
    "\n",
    "測試: `is_subset({1, 2}, {1, 2, 3})` 應返回 `True`"
   ]
  },
  {
   "cell_type": "code",
   "execution_count": null,
   "metadata": {},
   "outputs": [],
   "source": [
    "def is_subset(set1, set2):\n",
    "    # 在此撰寫程式碼\n",
    "    pass\n",
    "\n",
    "# 測試\n",
    "assert is_subset({1, 2}, {1, 2, 3}) == True, \"測試 1 失敗!\"\n",
    "assert is_subset({1, 4}, {1, 2, 3}) == False, \"測試 2 失敗!\"\n",
    "print(\"✓ 所有測試通過\")"
   ]
  },
  {
   "cell_type": "markdown",
   "metadata": {},
   "source": [
    "### Q20: 綜合應用\n",
    "\n",
    "寫一個函數 `analyze_sets(A, B)`,返回一個字典包含:\n",
    "- `union`: 聯集\n",
    "- `intersection`: 交集\n",
    "- `difference`: A - B\n",
    "- `symmetric_difference`: 對稱差集\n",
    "\n",
    "測試: `analyze_sets({1, 2, 3}, {2, 3, 4})`"
   ]
  },
  {
   "cell_type": "code",
   "execution_count": null,
   "metadata": {},
   "outputs": [],
   "source": [
    "def analyze_sets(A, B):\n",
    "    # 在此撰寫程式碼\n",
    "    pass\n",
    "\n",
    "# 測試\n",
    "result = analyze_sets({1, 2, 3}, {2, 3, 4})\n",
    "print(result)\n",
    "\n",
    "expected = {\n",
    "    \"union\": {1, 2, 3, 4},\n",
    "    \"intersection\": {2, 3},\n",
    "    \"difference\": {1},\n",
    "    \"symmetric_difference\": {1, 4}\n",
    "}\n",
    "\n",
    "assert result == expected, \"測試失敗!\"\n",
    "print(\"✓ 測試通過\")"
   ]
  },
  {
   "cell_type": "markdown",
   "metadata": {},
   "source": [
    "---\n",
    "\n",
    "## 答案與解析 | Answers and Explanations"
   ]
  },
  {
   "cell_type": "markdown",
   "metadata": {},
   "source": [
    "### Part I: 選擇題答案\n",
    "\n",
    "1. **C** - 集合不支援索引\n",
    "2. **B** - `set()` 創建空集合,`{}` 是空字典\n",
    "3. **A** - 集合自動去重,新增已存在的元素不會改變集合\n",
    "4. **C** - 聯集包含所有元素\n",
    "5. **B** - 交集只包含共同元素\n",
    "6. **A** - 差集是在 A 但不在 B 的元素\n",
    "7. **B** - 對稱差集是不共同的元素\n",
    "8. **B** - `remove()` 會報錯,`discard()` 不會\n",
    "9. **C** - 只有元組是可雜湊的\n",
    "10. **B** - A 是 B 的真子集,所以 A < B\n",
    "11. **A** - 集合推導式創建集合\n",
    "12. **B** - 集合使用雜湊表,查詢為 O(1)"
   ]
  },
  {
   "cell_type": "markdown",
   "metadata": {},
   "source": [
    "### Part II: 填空題答案\n",
    "\n",
    "**Q13**: \n",
    "1. `|`\n",
    "2. `&`\n",
    "3. `-`\n",
    "4. `^`\n",
    "\n",
    "**Q14**: \n",
    "1. `add`\n",
    "2. `update`\n",
    "3. `discard`\n",
    "4. `clear`\n",
    "\n",
    "**Q15**: \n",
    "1. `hashable` 或 `可雜湊的`\n",
    "2. `去除` 或 `移除`\n",
    "3. `無序` 或 `unordered`\n",
    "4. `set()` 或 `set`"
   ]
  },
  {
   "cell_type": "markdown",
   "metadata": {},
   "source": [
    "### Part III: 程式題答案"
   ]
  },
  {
   "cell_type": "code",
   "execution_count": null,
   "metadata": {},
   "outputs": [],
   "source": [
    "# Q16 答案\n",
    "def remove_duplicates(items):\n",
    "    return set(items)\n",
    "\n",
    "# Q17 答案\n",
    "def find_common(list1, list2):\n",
    "    return set(list1) & set(list2)\n",
    "\n",
    "# Q18 答案\n",
    "def find_unique(list1, list2):\n",
    "    return set(list1) - set(list2)\n",
    "\n",
    "# Q19 答案\n",
    "def is_subset(set1, set2):\n",
    "    return set1 <= set2\n",
    "    # 或: return set1.issubset(set2)\n",
    "\n",
    "# Q20 答案\n",
    "def analyze_sets(A, B):\n",
    "    return {\n",
    "        \"union\": A | B,\n",
    "        \"intersection\": A & B,\n",
    "        \"difference\": A - B,\n",
    "        \"symmetric_difference\": A ^ B\n",
    "    }"
   ]
  },
  {
   "cell_type": "markdown",
   "metadata": {},
   "source": [
    "---\n",
    "\n",
    "## 自我評估 | Self-Assessment\n",
    "\n",
    "計算你的得分:\n",
    "\n",
    "- 選擇題: _____ / 12 分\n",
    "- 填空題: _____ / 6 分  \n",
    "- 程式題: _____ / 10 分\n",
    "- **總分**: _____ / 28 分\n",
    "\n",
    "**評級**:\n",
    "- 25-28 分: 優秀 (Excellent) - 完全掌握集合概念\n",
    "- 21-24 分: 良好 (Good) - 理解核心概念,需加強應用\n",
    "- 17-20 分: 及格 (Pass) - 基本理解,需多練習\n",
    "- 17 分以下: 需加強 (Need Improvement) - 建議重新學習\n",
    "\n",
    "**學習建議**:\n",
    "- 錯誤題目超過 3 題的部分需重點複習\n",
    "- 程式題全對:可以進行進階學習\n",
    "- 程式題錯誤:需要更多實作練習"
   ]
  }
 ],
 "metadata": {
  "kernelspec": {
   "display_name": "Python 3",
   "language": "python",
   "name": "python3"
  },
  "language_info": {
   "codemirror_mode": {
    "name": "ipython",
    "version": 3
   },
   "file_extension": ".py",
   "mimetype": "text/x-python",
   "name": "python",
   "nbconvert_exporter": "python",
   "pygments_lexer": "ipython3",
   "version": "3.8.0"
  }
 },
 "nbformat": 4,
 "nbformat_minor": 4
}
