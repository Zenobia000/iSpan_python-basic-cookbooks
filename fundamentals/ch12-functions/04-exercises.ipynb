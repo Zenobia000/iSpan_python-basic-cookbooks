{
 "cells": [
  {
   "cell_type": "markdown",
   "metadata": {},
   "source": [
    "# Chapter 12: 函式設計基礎 - 課後習題\n",
    "\n",
    "本檔案包含 18 題課後習題，分為三個難度等級：\n",
    "- **基礎題 (1-8)**：測試基本函式定義與呼叫\n",
    "- **進階題 (9-14)**：測試參數設計與回傳值策略\n",
    "- **挑戰題 (15-18)**：測試綜合應用與問題解決\n",
    "\n",
    "**學習建議**：\n",
    "1. 先嘗試獨立完成，不要立即查看解答\n",
    "2. 為每個函式撰寫 docstring\n",
    "3. 測試邊界條件（如空列表、負數、零等）\n",
    "4. 完成後對照 `05-solutions.ipynb` 檢核答案\n",
    "\n",
    "---"
   ]
  },
  {
   "cell_type": "markdown",
   "metadata": {},
   "source": [
    "## 基礎題 (1-8)\n",
    "\n",
    "### 習題 1：問候函式\n",
    "\n",
    "**題目**：設計一個函式 `greet(name, greeting=\"Hello\")`，向指定的人問候。\n",
    "\n",
    "**需求**：\n",
    "- 參數 `name`（必要）：要問候的人名\n",
    "- 參數 `greeting`（可選）：問候語，預設為 \"Hello\"\n",
    "- 回傳格式化的問候字串\n",
    "\n",
    "**範例**：\n",
    "```python\n",
    "greet(\"Alice\")  # \"Hello, Alice!\"\n",
    "greet(\"Bob\", \"Good morning\")  # \"Good morning, Bob!\"\n",
    "```"
   ]
  },
  {
   "cell_type": "code",
   "execution_count": null,
   "metadata": {},
   "outputs": [],
   "source": [
    "# 請在此撰寫你的程式碼\n",
    "def greet(name, greeting=\"Hello\"):\n",
    "    pass\n",
    "\n",
    "# 測試\n",
    "print(greet(\"Alice\"))\n",
    "print(greet(\"Bob\", \"Good morning\"))"
   ]
  },
  {
   "cell_type": "markdown",
   "metadata": {},
   "source": [
    "### 習題 2：計算矩形面積與周長\n",
    "\n",
    "**題目**：設計一個函式 `rectangle_info(length, width)`，計算矩形的面積和周長。\n",
    "\n",
    "**需求**：\n",
    "- 參數：length（長度）、width（寬度）\n",
    "- 回傳 tuple：(面積, 周長)\n",
    "\n",
    "**範例**：\n",
    "```python\n",
    "area, perimeter = rectangle_info(5, 3)\n",
    "print(f\"面積: {area}, 周長: {perimeter}\")  # 面積: 15, 周長: 16\n",
    "```"
   ]
  },
  {
   "cell_type": "code",
   "execution_count": null,
   "metadata": {},
   "outputs": [],
   "source": [
    "# 請在此撰寫你的程式碼\n",
    "def rectangle_info(length, width):\n",
    "    pass\n",
    "\n",
    "# 測試\n",
    "area, perimeter = rectangle_info(5, 3)\n",
    "print(f\"面積: {area}, 周長: {perimeter}\")"
   ]
  },
  {
   "cell_type": "markdown",
   "metadata": {},
   "source": [
    "### 習題 3：判斷奇偶數\n",
    "\n",
    "**題目**：設計一個函式 `is_even(n)`，判斷一個整數是否為偶數。\n",
    "\n",
    "**需求**：\n",
    "- 參數：n（整數）\n",
    "- 回傳：True（偶數）或 False（奇數）\n",
    "\n",
    "**範例**：\n",
    "```python\n",
    "is_even(4)   # True\n",
    "is_even(7)   # False\n",
    "is_even(0)   # True\n",
    "```"
   ]
  },
  {
   "cell_type": "code",
   "execution_count": null,
   "metadata": {},
   "outputs": [],
   "source": [
    "# 請在此撰寫你的程式碼\n",
    "def is_even(n):\n",
    "    pass\n",
    "\n",
    "# 測試\n",
    "print(is_even(4))\n",
    "print(is_even(7))\n",
    "print(is_even(0))"
   ]
  },
  {
   "cell_type": "markdown",
   "metadata": {},
   "source": [
    "### 習題 4：找出最大值\n",
    "\n",
    "**題目**：設計一個函式 `find_max(a, b, c)`，找出三個數字中的最大值。\n",
    "\n",
    "**需求**：\n",
    "- 參數：a, b, c（三個數字）\n",
    "- 回傳：最大值\n",
    "- 不使用內建的 `max()` 函式\n",
    "\n",
    "**範例**：\n",
    "```python\n",
    "find_max(3, 7, 5)   # 7\n",
    "find_max(10, 2, 8)  # 10\n",
    "```"
   ]
  },
  {
   "cell_type": "code",
   "execution_count": null,
   "metadata": {},
   "outputs": [],
   "source": [
    "# 請在此撰寫你的程式碼\n",
    "def find_max(a, b, c):\n",
    "    pass\n",
    "\n",
    "# 測試\n",
    "print(find_max(3, 7, 5))\n",
    "print(find_max(10, 2, 8))"
   ]
  },
  {
   "cell_type": "markdown",
   "metadata": {},
   "source": [
    "### 習題 5：溫度轉換\n",
    "\n",
    "**題目**：設計兩個函式：\n",
    "- `celsius_to_fahrenheit(c)`：攝氏轉華氏\n",
    "- `fahrenheit_to_celsius(f)`：華氏轉攝氏\n",
    "\n",
    "**公式**：\n",
    "- 華氏 = 攝氏 × 9/5 + 32\n",
    "- 攝氏 = (華氏 - 32) × 5/9\n",
    "\n",
    "**範例**：\n",
    "```python\n",
    "celsius_to_fahrenheit(0)    # 32.0\n",
    "celsius_to_fahrenheit(100)  # 212.0\n",
    "fahrenheit_to_celsius(32)   # 0.0\n",
    "```"
   ]
  },
  {
   "cell_type": "code",
   "execution_count": null,
   "metadata": {},
   "outputs": [],
   "source": [
    "# 請在此撰寫你的程式碼\n",
    "def celsius_to_fahrenheit(c):\n",
    "    pass\n",
    "\n",
    "def fahrenheit_to_celsius(f):\n",
    "    pass\n",
    "\n",
    "# 測試\n",
    "print(celsius_to_fahrenheit(0))\n",
    "print(celsius_to_fahrenheit(100))\n",
    "print(fahrenheit_to_celsius(32))"
   ]
  },
  {
   "cell_type": "markdown",
   "metadata": {},
   "source": [
    "### 習題 6：計算折扣價格\n",
    "\n",
    "**題目**：設計一個函式 `calculate_discount(price, discount_rate=0.1)`，計算折扣後的價格。\n",
    "\n",
    "**需求**：\n",
    "- 參數：price（原價）、discount_rate（折扣率，預設 0.1 即 10%）\n",
    "- 回傳：折扣後的價格（保留兩位小數）\n",
    "\n",
    "**範例**：\n",
    "```python\n",
    "calculate_discount(1000)       # 900.0 (預設 10% 折扣)\n",
    "calculate_discount(1000, 0.2)  # 800.0 (20% 折扣)\n",
    "```"
   ]
  },
  {
   "cell_type": "code",
   "execution_count": null,
   "metadata": {},
   "outputs": [],
   "source": [
    "# 請在此撰寫你的程式碼\n",
    "def calculate_discount(price, discount_rate=0.1):\n",
    "    pass\n",
    "\n",
    "# 測試\n",
    "print(calculate_discount(1000))\n",
    "print(calculate_discount(1000, 0.2))"
   ]
  },
  {
   "cell_type": "markdown",
   "metadata": {},
   "source": [
    "### 習題 7：字串重複\n",
    "\n",
    "**題目**：設計一個函式 `repeat_string(text, times=2)`，將字串重複指定次數。\n",
    "\n",
    "**需求**：\n",
    "- 參數：text（字串）、times（重複次數，預設 2）\n",
    "- 回傳：重複後的字串\n",
    "\n",
    "**範例**：\n",
    "```python\n",
    "repeat_string(\"Hello\")      # \"HelloHello\"\n",
    "repeat_string(\"Hi\", 3)      # \"HiHiHi\"\n",
    "repeat_string(\"Python\", 1)  # \"Python\"\n",
    "```"
   ]
  },
  {
   "cell_type": "code",
   "execution_count": null,
   "metadata": {},
   "outputs": [],
   "source": [
    "# 請在此撰寫你的程式碼\n",
    "def repeat_string(text, times=2):\n",
    "    pass\n",
    "\n",
    "# 測試\n",
    "print(repeat_string(\"Hello\"))\n",
    "print(repeat_string(\"Hi\", 3))\n",
    "print(repeat_string(\"Python\", 1))"
   ]
  },
  {
   "cell_type": "markdown",
   "metadata": {},
   "source": [
    "### 習題 8：計算平均分數\n",
    "\n",
    "**題目**：設計一個函式 `calculate_average(scores)`，計算分數列表的平均值。\n",
    "\n",
    "**需求**：\n",
    "- 參數：scores（分數列表）\n",
    "- 回傳：平均分數（保留兩位小數）\n",
    "- 如果列表為空，回傳 0\n",
    "\n",
    "**範例**：\n",
    "```python\n",
    "calculate_average([85, 90, 78])  # 84.33\n",
    "calculate_average([100])         # 100.0\n",
    "calculate_average([])            # 0\n",
    "```"
   ]
  },
  {
   "cell_type": "code",
   "execution_count": null,
   "metadata": {},
   "outputs": [],
   "source": [
    "# 請在此撰寫你的程式碼\n",
    "def calculate_average(scores):\n",
    "    pass\n",
    "\n",
    "# 測試\n",
    "print(calculate_average([85, 90, 78]))\n",
    "print(calculate_average([100]))\n",
    "print(calculate_average([]))"
   ]
  },
  {
   "cell_type": "markdown",
   "metadata": {},
   "source": [
    "---\n",
    "\n",
    "## 進階題 (9-14)\n",
    "\n",
    "### 習題 9：計算 BMI 與健康建議\n",
    "\n",
    "**題目**：設計一個函式 `calculate_bmi_status(weight, height)`，計算 BMI 並回傳健康狀態。\n",
    "\n",
    "**需求**：\n",
    "- 參數：weight（體重，公斤）、height（身高，公尺）\n",
    "- 回傳 tuple：(BMI 值, 健康狀態)\n",
    "- BMI = weight / (height ** 2)\n",
    "- 狀態分類：\n",
    "  - BMI < 18.5：「體重過輕」\n",
    "  - 18.5 ≤ BMI < 24：「正常範圍」\n",
    "  - 24 ≤ BMI < 27：「過重」\n",
    "  - BMI ≥ 27：「肥胖」\n",
    "\n",
    "**範例**：\n",
    "```python\n",
    "bmi, status = calculate_bmi_status(70, 1.75)\n",
    "print(f\"BMI: {bmi:.2f}, 狀態: {status}\")  # BMI: 22.86, 狀態: 正常範圍\n",
    "```"
   ]
  },
  {
   "cell_type": "code",
   "execution_count": null,
   "metadata": {},
   "outputs": [],
   "source": [
    "# 請在此撰寫你的程式碼\n",
    "def calculate_bmi_status(weight, height):\n",
    "    pass\n",
    "\n",
    "# 測試\n",
    "bmi, status = calculate_bmi_status(70, 1.75)\n",
    "print(f\"BMI: {bmi:.2f}, 狀態: {status}\")"
   ]
  },
  {
   "cell_type": "markdown",
   "metadata": {},
   "source": [
    "### 習題 10：列表統計資訊\n",
    "\n",
    "**題目**：設計一個函式 `list_statistics(numbers)`，回傳列表的統計資訊。\n",
    "\n",
    "**需求**：\n",
    "- 參數：numbers（數字列表）\n",
    "- 回傳 dict：包含 'min', 'max', 'sum', 'average', 'count'\n",
    "- 如果列表為空，所有值設為 0\n",
    "\n",
    "**範例**：\n",
    "```python\n",
    "stats = list_statistics([10, 20, 30, 40, 50])\n",
    "print(stats)\n",
    "# {'min': 10, 'max': 50, 'sum': 150, 'average': 30.0, 'count': 5}\n",
    "```"
   ]
  },
  {
   "cell_type": "code",
   "execution_count": null,
   "metadata": {},
   "outputs": [],
   "source": [
    "# 請在此撰寫你的程式碼\n",
    "def list_statistics(numbers):\n",
    "    pass\n",
    "\n",
    "# 測試\n",
    "stats = list_statistics([10, 20, 30, 40, 50])\n",
    "print(stats)"
   ]
  },
  {
   "cell_type": "markdown",
   "metadata": {},
   "source": [
    "### 習題 11：驗證密碼強度\n",
    "\n",
    "**題目**：設計一個函式 `validate_password(password, min_length=8)`，驗證密碼是否符合要求。\n",
    "\n",
    "**需求**：\n",
    "- 參數：password（密碼字串）、min_length（最小長度，預設 8）\n",
    "- 回傳 tuple：(是否有效, 錯誤訊息列表)\n",
    "- 驗證規則：\n",
    "  1. 長度至少 min_length\n",
    "  2. 包含至少一個小寫字母\n",
    "  3. 包含至少一個大寫字母\n",
    "  4. 包含至少一個數字\n",
    "\n",
    "**範例**：\n",
    "```python\n",
    "valid, errors = validate_password(\"Abc123\")\n",
    "print(valid, errors)  # False, ['長度不足 8 個字元']\n",
    "\n",
    "valid, errors = validate_password(\"Abc12345\")\n",
    "print(valid, errors)  # True, []\n",
    "```"
   ]
  },
  {
   "cell_type": "code",
   "execution_count": null,
   "metadata": {},
   "outputs": [],
   "source": [
    "# 請在此撰寫你的程式碼\n",
    "def validate_password(password, min_length=8):\n",
    "    pass\n",
    "\n",
    "# 測試\n",
    "valid, errors = validate_password(\"Abc123\")\n",
    "print(valid, errors)\n",
    "\n",
    "valid, errors = validate_password(\"Abc12345\")\n",
    "print(valid, errors)"
   ]
  },
  {
   "cell_type": "markdown",
   "metadata": {},
   "source": [
    "### 習題 12：計算階乘\n",
    "\n",
    "**題目**：設計一個函式 `factorial(n)`，計算 n 的階乘。\n",
    "\n",
    "**需求**：\n",
    "- 參數：n（非負整數）\n",
    "- 回傳：n! 的值\n",
    "- 如果 n < 0，回傳 None\n",
    "- 0! = 1, 1! = 1\n",
    "\n",
    "**範例**：\n",
    "```python\n",
    "factorial(5)   # 120\n",
    "factorial(0)   # 1\n",
    "factorial(-3)  # None\n",
    "```"
   ]
  },
  {
   "cell_type": "code",
   "execution_count": null,
   "metadata": {},
   "outputs": [],
   "source": [
    "# 請在此撰寫你的程式碼\n",
    "def factorial(n):\n",
    "    pass\n",
    "\n",
    "# 測試\n",
    "print(factorial(5))\n",
    "print(factorial(0))\n",
    "print(factorial(-3))"
   ]
  },
  {
   "cell_type": "markdown",
   "metadata": {},
   "source": [
    "### 習題 13：找出列表中的所有質數\n",
    "\n",
    "**題目**：設計兩個函式：\n",
    "- `is_prime(n)`：判斷 n 是否為質數\n",
    "- `find_primes(numbers)`：找出列表中所有質數\n",
    "\n",
    "**需求**：\n",
    "- `is_prime(n)` 回傳 True/False\n",
    "- `find_primes(numbers)` 回傳質數列表\n",
    "- 質數定義：大於 1 且只能被 1 和自己整除的數\n",
    "\n",
    "**範例**：\n",
    "```python\n",
    "is_prime(7)   # True\n",
    "is_prime(10)  # False\n",
    "\n",
    "find_primes([2, 3, 4, 5, 6, 7, 8, 9, 10])  # [2, 3, 5, 7]\n",
    "```"
   ]
  },
  {
   "cell_type": "code",
   "execution_count": null,
   "metadata": {},
   "outputs": [],
   "source": [
    "# 請在此撰寫你的程式碼\n",
    "def is_prime(n):\n",
    "    pass\n",
    "\n",
    "def find_primes(numbers):\n",
    "    pass\n",
    "\n",
    "# 測試\n",
    "print(is_prime(7))\n",
    "print(is_prime(10))\n",
    "print(find_primes([2, 3, 4, 5, 6, 7, 8, 9, 10]))"
   ]
  },
  {
   "cell_type": "markdown",
   "metadata": {},
   "source": [
    "### 習題 14：格式化電話號碼\n",
    "\n",
    "**題目**：設計一個函式 `format_phone(phone, style='dash')`，格式化電話號碼。\n",
    "\n",
    "**需求**：\n",
    "- 參數：phone（10 位數字串）、style（格式化樣式）\n",
    "- 樣式選項：\n",
    "  - 'dash'：「0912-345-678」\n",
    "  - 'space'：「0912 345 678」\n",
    "  - 'parentheses'：「(0912) 345-678」\n",
    "- 如果輸入不是 10 位數字，回傳原始輸入\n",
    "\n",
    "**範例**：\n",
    "```python\n",
    "format_phone('0912345678')                    # '0912-345-678'\n",
    "format_phone('0912345678', 'space')           # '0912 345 678'\n",
    "format_phone('0912345678', 'parentheses')     # '(0912) 345-678'\n",
    "```"
   ]
  },
  {
   "cell_type": "code",
   "execution_count": null,
   "metadata": {},
   "outputs": [],
   "source": [
    "# 請在此撰寫你的程式碼\n",
    "def format_phone(phone, style='dash'):\n",
    "    pass\n",
    "\n",
    "# 測試\n",
    "print(format_phone('0912345678'))\n",
    "print(format_phone('0912345678', 'space'))\n",
    "print(format_phone('0912345678', 'parentheses'))"
   ]
  },
  {
   "cell_type": "markdown",
   "metadata": {},
   "source": [
    "---\n",
    "\n",
    "## 挑戰題 (15-18)\n",
    "\n",
    "### 習題 15：成績等第轉換系統\n",
    "\n",
    "**題目**：設計一組成績處理函式。\n",
    "\n",
    "**需求**：\n",
    "1. `score_to_grade(score)`：分數轉等第（A/B/C/D/F）\n",
    "2. `grade_to_gpa(grade)`：等第轉 GPA（A=4.0, B=3.0, C=2.0, D=1.0, F=0.0）\n",
    "3. `calculate_gpa(scores)`：計算多科分數的平均 GPA\n",
    "\n",
    "**分數對應**：\n",
    "- A: 90-100\n",
    "- B: 80-89\n",
    "- C: 70-79\n",
    "- D: 60-69\n",
    "- F: 0-59\n",
    "\n",
    "**範例**：\n",
    "```python\n",
    "score_to_grade(95)         # 'A'\n",
    "grade_to_gpa('A')          # 4.0\n",
    "calculate_gpa([95, 88, 72])  # 3.0 (A=4.0, B=3.0, C=2.0, 平均=3.0)\n",
    "```"
   ]
  },
  {
   "cell_type": "code",
   "execution_count": null,
   "metadata": {},
   "outputs": [],
   "source": [
    "# 請在此撰寫你的程式碼\n",
    "def score_to_grade(score):\n",
    "    pass\n",
    "\n",
    "def grade_to_gpa(grade):\n",
    "    pass\n",
    "\n",
    "def calculate_gpa(scores):\n",
    "    pass\n",
    "\n",
    "# 測試\n",
    "print(score_to_grade(95))\n",
    "print(grade_to_gpa('A'))\n",
    "print(calculate_gpa([95, 88, 72]))"
   ]
  },
  {
   "cell_type": "markdown",
   "metadata": {},
   "source": [
    "### 習題 16：文字分析工具\n",
    "\n",
    "**題目**：設計一個函式 `analyze_text(text)`，分析文字內容。\n",
    "\n",
    "**需求**：\n",
    "- 參數：text（字串）\n",
    "- 回傳 dict，包含以下資訊：\n",
    "  - 'char_count'：總字元數（包含空白）\n",
    "  - 'word_count'：單字數\n",
    "  - 'line_count'：行數（以 \\n 計算）\n",
    "  - 'uppercase_count'：大寫字母數\n",
    "  - 'lowercase_count'：小寫字母數\n",
    "  - 'digit_count'：數字字元數\n",
    "\n",
    "**範例**：\n",
    "```python\n",
    "text = \"Hello World!\\nPython 3.12\"\n",
    "result = analyze_text(text)\n",
    "print(result)\n",
    "# {'char_count': 24, 'word_count': 4, 'line_count': 2, \n",
    "#  'uppercase_count': 3, 'lowercase_count': 11, 'digit_count': 3}\n",
    "```"
   ]
  },
  {
   "cell_type": "code",
   "execution_count": null,
   "metadata": {},
   "outputs": [],
   "source": [
    "# 請在此撰寫你的程式碼\n",
    "def analyze_text(text):\n",
    "    pass\n",
    "\n",
    "# 測試\n",
    "text = \"Hello World!\\nPython 3.12\"\n",
    "result = analyze_text(text)\n",
    "print(result)"
   ]
  },
  {
   "cell_type": "markdown",
   "metadata": {},
   "source": [
    "### 習題 17：簡易銀行帳戶系統\n",
    "\n",
    "**題目**：使用函式設計一個簡易銀行帳戶系統。\n",
    "\n",
    "**需求**：\n",
    "1. `create_account(initial_balance=0)`：建立帳戶，回傳帳戶資訊 dict（包含 'balance' 和 'transactions'）\n",
    "2. `deposit(account, amount)`：存款，更新帳戶並回傳新餘額\n",
    "3. `withdraw(account, amount)`：提款，成功回傳新餘額，失敗回傳錯誤訊息\n",
    "4. `get_balance(account)`：查詢餘額\n",
    "5. `get_transaction_history(account)`：查詢交易紀錄\n",
    "\n",
    "**提示**：\n",
    "- account 為 dict，包含 'balance' 和 'transactions' (list)\n",
    "- 每筆交易記錄為 tuple：(類型, 金額, 餘額)\n",
    "\n",
    "**範例**：\n",
    "```python\n",
    "account = create_account(1000)\n",
    "deposit(account, 500)        # 1500\n",
    "withdraw(account, 200)       # 1300\n",
    "withdraw(account, 2000)      # '餘額不足'\n",
    "get_balance(account)         # 1300\n",
    "get_transaction_history(account)  # [('存款', 500, 1500), ('提款', 200, 1300), ...]\n",
    "```"
   ]
  },
  {
   "cell_type": "code",
   "execution_count": null,
   "metadata": {},
   "outputs": [],
   "source": [
    "# 請在此撰寫你的程式碼\n",
    "def create_account(initial_balance=0):\n",
    "    pass\n",
    "\n",
    "def deposit(account, amount):\n",
    "    pass\n",
    "\n",
    "def withdraw(account, amount):\n",
    "    pass\n",
    "\n",
    "def get_balance(account):\n",
    "    pass\n",
    "\n",
    "def get_transaction_history(account):\n",
    "    pass\n",
    "\n",
    "# 測試\n",
    "account = create_account(1000)\n",
    "print(deposit(account, 500))\n",
    "print(withdraw(account, 200))\n",
    "print(withdraw(account, 2000))\n",
    "print(get_balance(account))\n",
    "print(get_transaction_history(account))"
   ]
  },
  {
   "cell_type": "markdown",
   "metadata": {},
   "source": [
    "### 習題 18：字串加密與解密\n",
    "\n",
    "**題目**：設計凱薩密碼（Caesar Cipher）的加密與解密函式。\n",
    "\n",
    "**需求**：\n",
    "1. `caesar_encrypt(text, shift=3)`：加密文字\n",
    "2. `caesar_decrypt(text, shift=3)`：解密文字\n",
    "3. 只處理英文字母（大小寫），其他字元保持不變\n",
    "4. 'z' 移位後會循環到 'a'（'Z' 到 'A'）\n",
    "\n",
    "**說明**：\n",
    "- 凱薩密碼將每個字母向後（加密）或向前（解密）移動指定位數\n",
    "- shift=3 時：A→D, B→E, ..., X→A, Y→B, Z→C\n",
    "\n",
    "**範例**：\n",
    "```python\n",
    "encrypted = caesar_encrypt(\"Hello, World!\", 3)\n",
    "print(encrypted)  # \"Khoor, Zruog!\"\n",
    "\n",
    "decrypted = caesar_decrypt(\"Khoor, Zruog!\", 3)\n",
    "print(decrypted)  # \"Hello, World!\"\n",
    "```"
   ]
  },
  {
   "cell_type": "code",
   "execution_count": null,
   "metadata": {},
   "outputs": [],
   "source": [
    "# 請在此撰寫你的程式碼\n",
    "def caesar_encrypt(text, shift=3):\n",
    "    pass\n",
    "\n",
    "def caesar_decrypt(text, shift=3):\n",
    "    pass\n",
    "\n",
    "# 測試\n",
    "encrypted = caesar_encrypt(\"Hello, World!\", 3)\n",
    "print(encrypted)\n",
    "\n",
    "decrypted = caesar_decrypt(\"Khoor, Zruog!\", 3)\n",
    "print(decrypted)"
   ]
  },
  {
   "cell_type": "markdown",
   "metadata": {},
   "source": [
    "---\n",
    "\n",
    "## 完成後\n",
    "\n",
    "恭喜完成 18 題課後習題！請：\n",
    "\n",
    "1. **對照解答**：檢視 `05-solutions.ipynb`，比較你的解法\n",
    "2. **反思學習**：思考是否有更簡潔或高效的寫法\n",
    "3. **進行測驗**：完成 `quiz.ipynb` 自我檢核學習成果\n",
    "4. **進階挑戰**：嘗試為你的函式加入錯誤處理和型別提示（Type Hints）\n",
    "\n",
    "**學習提醒**：\n",
    "- 函式設計的核心是清晰的介面與單一職責\n",
    "- 好的函式名稱勝過冗長的註解\n",
    "- 多練習將問題拆解為小函式的思維方式\n",
    "\n",
    "---\n",
    "\n",
    "**下一步**：準備進入 **Chapter 13: 變數作用域（Scope）**，學習函式與變數的進階互動機制！"
   ]
  }
 ],
 "metadata": {
  "kernelspec": {
   "display_name": "Python 3",
   "language": "python",
   "name": "python3"
  },
  "language_info": {
   "codemirror_mode": {
    "name": "ipython",
    "version": 3
   },
   "file_extension": ".py",
   "mimetype": "text/x-python",
   "name": "python",
   "nbconvert_exporter": "python",
   "pygments_lexer": "ipython3",
   "version": "3.11.0"
  }
 },
 "nbformat": 4,
 "nbformat_minor": 4
}
