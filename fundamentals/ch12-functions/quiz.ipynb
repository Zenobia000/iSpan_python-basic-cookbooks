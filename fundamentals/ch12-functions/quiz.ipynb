{
 "cells": [
  {
   "cell_type": "markdown",
   "metadata": {},
   "source": [
    "# Chapter 12: 函式設計基礎 - 自我測驗\n",
    "\n",
    "本測驗包含 **25 題**，涵蓋函式設計的各個層面。\n",
    "\n",
    "## 📝 測驗說明\n",
    "\n",
    "- **第 1-15 題**：選擇題（單選）\n",
    "- **第 16-20 題**：程式題（找錯誤、寫函式）\n",
    "- **第 21-25 題**：綜合應用題\n",
    "\n",
    "## ⏱️ 建議時間\n",
    "\n",
    "45-60 分鐘\n",
    "\n",
    "## 📊 評分標準\n",
    "\n",
    "- 選擇題：每題 4 分，共 60 分\n",
    "- 程式題：每題 8 分，共 40 分\n",
    "- **總分**：100 分\n",
    "- **及格**：60 分\n",
    "\n",
    "---"
   ]
  },
  {
   "cell_type": "markdown",
   "metadata": {},
   "source": [
    "## Part I: 選擇題 (60 分)\n",
    "\n",
    "---"
   ]
  },
  {
   "cell_type": "markdown",
   "metadata": {},
   "source": [
    "### 第 1 題（4 分）\n",
    "\n",
    "以下哪個是正確的函式定義語法？\n",
    "\n",
    "A. `function greet(name):`  \n",
    "B. `def greet(name):`  \n",
    "C. `define greet(name):`  \n",
    "D. `func greet(name):`  \n",
    "\n",
    "**答案**：B"
   ]
  },
  {
   "cell_type": "code",
   "execution_count": null,
   "metadata": {},
   "outputs": [],
   "source": [
    "# 在此輸入你的答案（A/B/C/D）\n",
    "answer_1 = \"\"  # 例如：\"A\""
   ]
  },
  {
   "cell_type": "markdown",
   "metadata": {},
   "source": [
    "---\n",
    "\n",
    "### 第 2 題（4 分）\n",
    "\n",
    "以下程式碼的輸出是什麼？\n",
    "\n",
    "```python\n",
    "def add(a, b):\n",
    "    result = a + b\n",
    "\n",
    "x = add(3, 5)\n",
    "print(x)\n",
    "```\n",
    "\n",
    "A. `8`  \n",
    "B. `None`  \n",
    "C. `result`  \n",
    "D. `SyntaxError`  \n",
    "\n",
    "**答案**：B（函式沒有 return，所以回傳 None）"
   ]
  },
  {
   "cell_type": "code",
   "execution_count": null,
   "metadata": {},
   "outputs": [],
   "source": [
    "answer_2 = \"\""
   ]
  },
  {
   "cell_type": "markdown",
   "metadata": {},
   "source": [
    "---\n",
    "\n",
    "### 第 3 題（4 分）\n",
    "\n",
    "以下哪個函式呼叫是正確的？（假設函式定義為 `def greet(name, greeting=\"Hello\")`）\n",
    "\n",
    "A. `greet()`  \n",
    "B. `greet(\"Alice\")`  \n",
    "C. `greet(greeting=\"Hi\", name=\"Bob\")`  \n",
    "D. B 和 C 都正確  \n",
    "\n",
    "**答案**：D"
   ]
  },
  {
   "cell_type": "code",
   "execution_count": null,
   "metadata": {},
   "outputs": [],
   "source": [
    "answer_3 = \"\""
   ]
  },
  {
   "cell_type": "markdown",
   "metadata": {},
   "source": [
    "---\n",
    "\n",
    "### 第 4 題（4 分）\n",
    "\n",
    "以下程式碼的輸出是什麼？\n",
    "\n",
    "```python\n",
    "def multiply(x, y=2):\n",
    "    return x * y\n",
    "\n",
    "print(multiply(5))\n",
    "```\n",
    "\n",
    "A. `5`  \n",
    "B. `7`  \n",
    "C. `10`  \n",
    "D. `TypeError`  \n",
    "\n",
    "**答案**：C（y 使用預設值 2，5 × 2 = 10）"
   ]
  },
  {
   "cell_type": "code",
   "execution_count": null,
   "metadata": {},
   "outputs": [],
   "source": [
    "answer_4 = \"\""
   ]
  },
  {
   "cell_type": "markdown",
   "metadata": {},
   "source": [
    "---\n",
    "\n",
    "### 第 5 題（4 分）\n",
    "\n",
    "以下哪個是函式 docstring 的正確位置？\n",
    "\n",
    "```python\n",
    "def calculate_area(radius):\n",
    "    # A: 這裡\n",
    "    \"\"\"B: 這裡\"\"\"\n",
    "    pi = 3.14159\n",
    "    \"\"\"C: 這裡\"\"\"\n",
    "    return pi * radius ** 2\n",
    "    \"\"\"D: 這裡\"\"\"\n",
    "```\n",
    "\n",
    "**答案**：B（docstring 應該在函式定義的第一行）"
   ]
  },
  {
   "cell_type": "code",
   "execution_count": null,
   "metadata": {},
   "outputs": [],
   "source": [
    "answer_5 = \"\""
   ]
  },
  {
   "cell_type": "markdown",
   "metadata": {},
   "source": [
    "---\n",
    "\n",
    "### 第 6 題（4 分）\n",
    "\n",
    "以下程式碼的輸出是什麼？\n",
    "\n",
    "```python\n",
    "def get_info():\n",
    "    return \"Alice\", 25, \"Engineer\"\n",
    "\n",
    "name, age, job = get_info()\n",
    "print(age)\n",
    "```\n",
    "\n",
    "A. `\"Alice\"`  \n",
    "B. `25`  \n",
    "C. `\"Engineer\"`  \n",
    "D. `(\"Alice\", 25, \"Engineer\")`  \n",
    "\n",
    "**答案**：B（tuple unpacking，age 被賦值為 25）"
   ]
  },
  {
   "cell_type": "code",
   "execution_count": null,
   "metadata": {},
   "outputs": [],
   "source": [
    "answer_6 = \"\""
   ]
  },
  {
   "cell_type": "markdown",
   "metadata": {},
   "source": [
    "---\n",
    "\n",
    "### 第 7 題（4 分）\n",
    "\n",
    "以下哪個函式定義會產生錯誤？\n",
    "\n",
    "A. `def func(a, b=2, c=3):`  \n",
    "B. `def func(a=1, b=2, c=3):`  \n",
    "C. `def func(a, b=2, c):`  \n",
    "D. `def func(a=1, b=2, c=3, d=4):`  \n",
    "\n",
    "**答案**：C（預設參數必須在必要參數之後）"
   ]
  },
  {
   "cell_type": "code",
   "execution_count": null,
   "metadata": {},
   "outputs": [],
   "source": [
    "answer_7 = \"\""
   ]
  },
  {
   "cell_type": "markdown",
   "metadata": {},
   "source": [
    "---\n",
    "\n",
    "### 第 8 題（4 分）\n",
    "\n",
    "以下程式碼的輸出是什麼？\n",
    "\n",
    "```python\n",
    "def test():\n",
    "    print(\"A\")\n",
    "    return\n",
    "    print(\"B\")\n",
    "\n",
    "test()\n",
    "```\n",
    "\n",
    "A. `A`  \n",
    "B. `A B`  \n",
    "C. `B`  \n",
    "D. `None`  \n",
    "\n",
    "**答案**：A（return 後的程式碼不會執行）"
   ]
  },
  {
   "cell_type": "code",
   "execution_count": null,
   "metadata": {},
   "outputs": [],
   "source": [
    "answer_8 = \"\""
   ]
  },
  {
   "cell_type": "markdown",
   "metadata": {},
   "source": [
    "---\n",
    "\n",
    "### 第 9 題（4 分）\n",
    "\n",
    "以下程式碼的輸出是什麼？\n",
    "\n",
    "```python\n",
    "def square(x):\n",
    "    return x * x\n",
    "\n",
    "result = square(4)\n",
    "print(type(result))\n",
    "```\n",
    "\n",
    "A. `<class 'int'>`  \n",
    "B. `<class 'function'>`  \n",
    "C. `<class 'str'>`  \n",
    "D. `16`  \n",
    "\n",
    "**答案**：A（4 * 4 = 16，結果是整數）"
   ]
  },
  {
   "cell_type": "code",
   "execution_count": null,
   "metadata": {},
   "outputs": [],
   "source": [
    "answer_9 = \"\""
   ]
  },
  {
   "cell_type": "markdown",
   "metadata": {},
   "source": [
    "---\n",
    "\n",
    "### 第 10 題（4 分）\n",
    "\n",
    "以下哪個是函式命名的最佳實踐？\n",
    "\n",
    "A. `calculateUserAge()`  \n",
    "B. `calculate_user_age()`  \n",
    "C. `CalculateUserAge()`  \n",
    "D. `CALCULATE_USER_AGE()`  \n",
    "\n",
    "**答案**：B（Python 慣例使用 snake_case）"
   ]
  },
  {
   "cell_type": "code",
   "execution_count": null,
   "metadata": {},
   "outputs": [],
   "source": [
    "answer_10 = \"\""
   ]
  },
  {
   "cell_type": "markdown",
   "metadata": {},
   "source": [
    "---\n",
    "\n",
    "### 第 11 題（4 分）\n",
    "\n",
    "以下程式碼的輸出是什麼？\n",
    "\n",
    "```python\n",
    "def modify_list(lst):\n",
    "    lst.append(4)\n",
    "    return lst\n",
    "\n",
    "numbers = [1, 2, 3]\n",
    "result = modify_list(numbers)\n",
    "print(len(numbers))\n",
    "```\n",
    "\n",
    "A. `3`  \n",
    "B. `4`  \n",
    "C. `TypeError`  \n",
    "D. `None`  \n",
    "\n",
    "**答案**：B（列表是可變物件，函式內的修改會影響原列表）"
   ]
  },
  {
   "cell_type": "code",
   "execution_count": null,
   "metadata": {},
   "outputs": [],
   "source": [
    "answer_11 = \"\""
   ]
  },
  {
   "cell_type": "markdown",
   "metadata": {},
   "source": [
    "---\n",
    "\n",
    "### 第 12 題（4 分）\n",
    "\n",
    "以下程式碼的輸出是什麼？\n",
    "\n",
    "```python\n",
    "def divide(a, b):\n",
    "    if b == 0:\n",
    "        return None\n",
    "    return a / b\n",
    "\n",
    "print(divide(10, 0))\n",
    "```\n",
    "\n",
    "A. `0`  \n",
    "B. `None`  \n",
    "C. `ZeroDivisionError`  \n",
    "D. `False`  \n",
    "\n",
    "**答案**：B（函式檢查了除數是否為 0，並回傳 None）"
   ]
  },
  {
   "cell_type": "code",
   "execution_count": null,
   "metadata": {},
   "outputs": [],
   "source": [
    "answer_12 = \"\""
   ]
  },
  {
   "cell_type": "markdown",
   "metadata": {},
   "source": [
    "---\n",
    "\n",
    "### 第 13 題（4 分）\n",
    "\n",
    "以下哪個函式呼叫方式 **不正確**？\n",
    "\n",
    "```python\n",
    "def calculate(x, y, operation=\"add\"):\n",
    "    pass\n",
    "```\n",
    "\n",
    "A. `calculate(5, 3)`  \n",
    "B. `calculate(5, 3, \"subtract\")`  \n",
    "C. `calculate(x=5, y=3, operation=\"multiply\")`  \n",
    "D. `calculate(5, y=3, x=10)`  \n",
    "\n",
    "**答案**：D（位置參數必須在關鍵字參數之前，且 x 重複賦值）"
   ]
  },
  {
   "cell_type": "code",
   "execution_count": null,
   "metadata": {},
   "outputs": [],
   "source": [
    "answer_13 = \"\""
   ]
  },
  {
   "cell_type": "markdown",
   "metadata": {},
   "source": [
    "---\n",
    "\n",
    "### 第 14 題（4 分）\n",
    "\n",
    "以下程式碼的輸出是什麼？\n",
    "\n",
    "```python\n",
    "def greet(name):\n",
    "    \"\"\"問候函式\"\"\"\n",
    "    return f\"Hello, {name}!\"\n",
    "\n",
    "print(greet.__doc__)\n",
    "```\n",
    "\n",
    "A. `Hello, {name}!`  \n",
    "B. `問候函式`  \n",
    "C. `None`  \n",
    "D. `AttributeError`  \n",
    "\n",
    "**答案**：B（`__doc__` 屬性儲存函式的 docstring）"
   ]
  },
  {
   "cell_type": "code",
   "execution_count": null,
   "metadata": {},
   "outputs": [],
   "source": [
    "answer_14 = \"\""
   ]
  },
  {
   "cell_type": "markdown",
   "metadata": {},
   "source": [
    "---\n",
    "\n",
    "### 第 15 題（4 分）\n",
    "\n",
    "以下程式碼的輸出是什麼？\n",
    "\n",
    "```python\n",
    "def func(a, b, c):\n",
    "    return a + b + c\n",
    "\n",
    "values = [1, 2, 3]\n",
    "result = func(*values)\n",
    "print(result)\n",
    "```\n",
    "\n",
    "A. `[1, 2, 3]`  \n",
    "B. `6`  \n",
    "C. `TypeError`  \n",
    "D. `123`  \n",
    "\n",
    "**答案**：B（`*values` 解包列表為 func(1, 2, 3)，結果為 6）"
   ]
  },
  {
   "cell_type": "code",
   "execution_count": null,
   "metadata": {},
   "outputs": [],
   "source": [
    "answer_15 = \"\""
   ]
  },
  {
   "cell_type": "markdown",
   "metadata": {},
   "source": [
    "---\n",
    "\n",
    "## Part II: 程式題 (40 分)\n",
    "\n",
    "---"
   ]
  },
  {
   "cell_type": "markdown",
   "metadata": {},
   "source": [
    "### 第 16 題（8 分）：找出並修正錯誤\n",
    "\n",
    "以下函式要計算列表中所有正數的總和，但結果不正確。請找出錯誤並修正。\n",
    "\n",
    "```python\n",
    "def sum_positive(numbers):\n",
    "    total = 0\n",
    "    for num in numbers:\n",
    "        if num >= 0:  # Bug: 應該是 > 0（正數不包含0）\n",
    "            total += num\n",
    "    return total\n",
    "\n",
    "result = sum_positive([1, -2, 3, 0, 5])\n",
    "print(result)  # 期望 9，但實際輸出 9（包含了0）\n",
    "```\n",
    "\n",
    "**要求**：\n",
    "1. 找出錯誤\n",
    "2. 修正程式碼\n",
    "3. 驗證結果"
   ]
  },
  {
   "cell_type": "code",
   "execution_count": null,
   "metadata": {},
   "outputs": [],
   "source": [
    "# 請在此撰寫修正後的程式碼\n",
    "\n",
    "def sum_positive_fixed(numbers):\n",
    "    \"\"\"\n",
    "    計算列表中所有正數的總和\n",
    "    \n",
    "    參數:\n",
    "        numbers: 數字列表\n",
    "    \n",
    "    回傳:\n",
    "        正數總和\n",
    "    \"\"\"\n",
    "    # 在此修正\n",
    "    pass\n",
    "\n",
    "# 測試\n",
    "result = sum_positive_fixed([1, -2, 3, 0, 5])\n",
    "print(f\"正數總和：{result}\")\n",
    "print(f\"期望：9\")\n",
    "print(f\"是否正確：{result == 9}\")"
   ]
  },
  {
   "cell_type": "markdown",
   "metadata": {},
   "source": [
    "---\n",
    "\n",
    "### 第 17 題（8 分）：撰寫函式\n",
    "\n",
    "撰寫一個函式 `count_vowels(text)`，計算字串中的母音（a, e, i, o, u）數量。\n",
    "\n",
    "**需求**：\n",
    "- 不區分大小寫\n",
    "- 回傳母音總數\n",
    "\n",
    "**範例**：\n",
    "```python\n",
    "count_vowels(\"Hello World\")  # 3 (e, o, o)\n",
    "count_vowels(\"Python\")       # 1 (o)\n",
    "```"
   ]
  },
  {
   "cell_type": "code",
   "execution_count": null,
   "metadata": {},
   "outputs": [],
   "source": [
    "# 請在此撰寫你的程式碼\n",
    "\n",
    "def count_vowels(text):\n",
    "    \"\"\"\n",
    "    計算字串中的母音數量\n",
    "    \n",
    "    參數:\n",
    "        text: 字串\n",
    "    \n",
    "    回傳:\n",
    "        母音總數（不區分大小寫）\n",
    "    \"\"\"\n",
    "    # 在此撰寫你的程式碼\n",
    "    pass\n",
    "\n",
    "# 測試\n",
    "print(count_vowels(\"Hello World\"))  # 應該輸出 3\n",
    "print(count_vowels(\"Python\"))       # 應該輸出 1\n",
    "print(count_vowels(\"AEIOU\"))        # 應該輸出 5\n",
    "print(count_vowels(\"xyz\"))          # 應該輸出 0"
   ]
  },
  {
   "cell_type": "markdown",
   "metadata": {},
   "source": [
    "---\n",
    "\n",
    "### 第 18 題（8 分）：撰寫函式\n",
    "\n",
    "撰寫一個函式 `find_longest_word(text)`，找出句子中最長的單字。\n",
    "\n",
    "**需求**：\n",
    "- 以空白分割單字\n",
    "- 回傳最長的單字\n",
    "- 如果有多個相同長度，回傳第一個\n",
    "\n",
    "**範例**：\n",
    "```python\n",
    "find_longest_word(\"Python is awesome\")  # \"awesome\"\n",
    "find_longest_word(\"I love coding\")      # \"coding\"\n",
    "```"
   ]
  },
  {
   "cell_type": "code",
   "execution_count": null,
   "metadata": {},
   "outputs": [],
   "source": [
    "# 請在此撰寫你的程式碼\n",
    "\n",
    "def find_longest_word(text):\n",
    "    \"\"\"\n",
    "    找出句子中最長的單字\n",
    "    \n",
    "    參數:\n",
    "        text: 字串\n",
    "    \n",
    "    回傳:\n",
    "        最長的單字\n",
    "    \"\"\"\n",
    "    # 在此撰寫你的程式碼\n",
    "    pass\n",
    "\n",
    "# 測試\n",
    "print(find_longest_word(\"Python is awesome\"))  # awesome\n",
    "print(find_longest_word(\"I love coding\"))      # coding\n",
    "print(find_longest_word(\"a bb ccc\"))           # ccc"
   ]
  },
  {
   "cell_type": "markdown",
   "metadata": {},
   "source": [
    "---\n",
    "\n",
    "### 第 19 題（8 分）：撰寫函式\n",
    "\n",
    "撰寫一個函式 `is_palindrome(text)`，判斷字串是否為回文（正讀反讀相同）。\n",
    "\n",
    "**需求**：\n",
    "- 忽略大小寫\n",
    "- 忽略空白\n",
    "- 回傳 True/False\n",
    "\n",
    "**範例**：\n",
    "```python\n",
    "is_palindrome(\"A man a plan a canal Panama\")  # True\n",
    "is_palindrome(\"racecar\")                      # True\n",
    "is_palindrome(\"hello\")                        # False\n",
    "```"
   ]
  },
  {
   "cell_type": "code",
   "execution_count": null,
   "metadata": {},
   "outputs": [],
   "source": [
    "# 請在此撰寫你的程式碼\n",
    "\n",
    "def is_palindrome(text):\n",
    "    \"\"\"\n",
    "    判斷字串是否為回文\n",
    "    \n",
    "    參數:\n",
    "        text: 字串\n",
    "    \n",
    "    回傳:\n",
    "        bool: True 表示回文，False 表示非回文\n",
    "    \"\"\"\n",
    "    # 在此撰寫你的程式碼\n",
    "    pass\n",
    "\n",
    "# 測試\n",
    "print(is_palindrome(\"A man a plan a canal Panama\"))  # True\n",
    "print(is_palindrome(\"racecar\"))                      # True\n",
    "print(is_palindrome(\"hello\"))                        # False\n",
    "print(is_palindrome(\"Was it a car or a cat I saw\"))  # True"
   ]
  },
  {
   "cell_type": "markdown",
   "metadata": {},
   "source": [
    "---\n",
    "\n",
    "### 第 20 題（8 分）：撰寫函式\n",
    "\n",
    "撰寫一個函式 `merge_and_sort(list1, list2)`，合併兩個列表並排序。\n",
    "\n",
    "**需求**：\n",
    "- 合併兩個列表\n",
    "- 由小到大排序\n",
    "- 回傳新列表（不修改原列表）\n",
    "\n",
    "**範例**：\n",
    "```python\n",
    "merge_and_sort([3, 1, 5], [2, 4])  # [1, 2, 3, 4, 5]\n",
    "```"
   ]
  },
  {
   "cell_type": "code",
   "execution_count": null,
   "metadata": {},
   "outputs": [],
   "source": [
    "# 請在此撰寫你的程式碼\n",
    "\n",
    "def merge_and_sort(list1, list2):\n",
    "    \"\"\"\n",
    "    合併兩個列表並排序\n",
    "    \n",
    "    參數:\n",
    "        list1: 第一個列表\n",
    "        list2: 第二個列表\n",
    "    \n",
    "    回傳:\n",
    "        合併並排序後的新列表\n",
    "    \"\"\"\n",
    "    # 在此撰寫你的程式碼\n",
    "    pass\n",
    "\n",
    "# 測試\n",
    "result = merge_and_sort([3, 1, 5], [2, 4])\n",
    "print(result)  # [1, 2, 3, 4, 5]\n",
    "\n",
    "result = merge_and_sort([10, 5], [15, 1, 8])\n",
    "print(result)  # [1, 5, 8, 10, 15]"
   ]
  },
  {
   "cell_type": "markdown",
   "metadata": {},
   "source": [
    "---\n",
    "\n",
    "## Part III: 綜合應用題（額外 5 題）\n",
    "\n",
    "---"
   ]
  },
  {
   "cell_type": "markdown",
   "metadata": {},
   "source": [
    "### 第 21 題：字典操作\n",
    "\n",
    "撰寫一個函式 `count_words(text)`，計算文字中每個單字出現的次數。\n",
    "\n",
    "**需求**：\n",
    "- 以空白分割單字\n",
    "- 不區分大小寫\n",
    "- 回傳字典 `{單字: 次數}`\n",
    "\n",
    "**範例**：\n",
    "```python\n",
    "count_words(\"hello world hello\")  \n",
    "# {'hello': 2, 'world': 1}\n",
    "```"
   ]
  },
  {
   "cell_type": "code",
   "execution_count": null,
   "metadata": {},
   "outputs": [],
   "source": [
    "# 請在此撰寫你的程式碼\n",
    "\n",
    "def count_words(text):\n",
    "    \"\"\"\n",
    "    計算文字中每個單字出現的次數\n",
    "    \n",
    "    參數:\n",
    "        text: 字串\n",
    "    \n",
    "    回傳:\n",
    "        dict: {單字: 次數}\n",
    "    \"\"\"\n",
    "    # 在此撰寫你的程式碼\n",
    "    pass\n",
    "\n",
    "# 測試\n",
    "print(count_words(\"hello world hello\"))  \n",
    "print(count_words(\"Python is great Python is fun\"))"
   ]
  },
  {
   "cell_type": "markdown",
   "metadata": {},
   "source": [
    "---\n",
    "\n",
    "### 第 22 題：列表過濾\n",
    "\n",
    "撰寫一個函式 `filter_even(numbers)`，過濾出列表中的偶數。\n",
    "\n",
    "**需求**：\n",
    "- 回傳只包含偶數的新列表\n",
    "- 保持原順序\n",
    "\n",
    "**範例**：\n",
    "```python\n",
    "filter_even([1, 2, 3, 4, 5, 6])  # [2, 4, 6]\n",
    "```"
   ]
  },
  {
   "cell_type": "code",
   "execution_count": null,
   "metadata": {},
   "outputs": [],
   "source": [
    "# 請在此撰寫你的程式碼\n",
    "\n",
    "def filter_even(numbers):\n",
    "    \"\"\"\n",
    "    過濾出列表中的偶數\n",
    "    \n",
    "    參數:\n",
    "        numbers: 數字列表\n",
    "    \n",
    "    回傳:\n",
    "        只包含偶數的新列表\n",
    "    \"\"\"\n",
    "    # 在此撰寫你的程式碼\n",
    "    pass\n",
    "\n",
    "# 測試\n",
    "print(filter_even([1, 2, 3, 4, 5, 6]))  # [2, 4, 6]\n",
    "print(filter_even([1, 3, 5]))           # []\n",
    "print(filter_even([2, 4, 6]))           # [2, 4, 6]"
   ]
  },
  {
   "cell_type": "markdown",
   "metadata": {},
   "source": [
    "---\n",
    "\n",
    "### 第 23 題：數字格式化\n",
    "\n",
    "撰寫一個函式 `format_number(num, decimal_places=2)`，將數字格式化為指定小數位數。\n",
    "\n",
    "**需求**：\n",
    "- 使用 round() 四捨五入\n",
    "- 回傳字串（保留小數點）\n",
    "\n",
    "**範例**：\n",
    "```python\n",
    "format_number(3.14159)      # \"3.14\"\n",
    "format_number(3.14159, 3)   # \"3.142\"\n",
    "```"
   ]
  },
  {
   "cell_type": "code",
   "execution_count": null,
   "metadata": {},
   "outputs": [],
   "source": [
    "# 請在此撰寫你的程式碼\n",
    "\n",
    "def format_number(num, decimal_places=2):\n",
    "    \"\"\"\n",
    "    將數字格式化為指定小數位數\n",
    "    \n",
    "    參數:\n",
    "        num: 數字\n",
    "        decimal_places: 小數位數(預設 2)\n",
    "    \n",
    "    回傳:\n",
    "        格式化後的字串\n",
    "    \"\"\"\n",
    "    # 在此撰寫你的程式碼\n",
    "    pass\n",
    "\n",
    "# 測試\n",
    "print(format_number(3.14159))      # \"3.14\"\n",
    "print(format_number(3.14159, 3))   # \"3.142\"\n",
    "print(format_number(10, 1))        # \"10.0\""
   ]
  },
  {
   "cell_type": "markdown",
   "metadata": {},
   "source": [
    "---\n",
    "\n",
    "### 第 24 題：字串轉換\n",
    "\n",
    "撰寫一個函式 `to_title_case(text)`，將字串轉換為標題格式（每個單字首字母大寫）。\n",
    "\n",
    "**需求**：\n",
    "- 每個單字的首字母大寫\n",
    "- 其他字母小寫\n",
    "- 可使用內建方法\n",
    "\n",
    "**範例**：\n",
    "```python\n",
    "to_title_case(\"hello world\")  # \"Hello World\"\n",
    "to_title_case(\"PYTHON IS FUN\")  # \"Python Is Fun\"\n",
    "```"
   ]
  },
  {
   "cell_type": "code",
   "execution_count": null,
   "metadata": {},
   "outputs": [],
   "source": [
    "# 請在此撰寫你的程式碼\n",
    "\n",
    "def to_title_case(text):\n",
    "    \"\"\"\n",
    "    將字串轉換為標題格式\n",
    "    \n",
    "    參數:\n",
    "        text: 字串\n",
    "    \n",
    "    回傳:\n",
    "        標題格式的字串\n",
    "    \"\"\"\n",
    "    # 在此撰寫你的程式碼\n",
    "    pass\n",
    "\n",
    "# 測試\n",
    "print(to_title_case(\"hello world\"))  # \"Hello World\"\n",
    "print(to_title_case(\"PYTHON IS FUN\"))  # \"Python Is Fun\"\n",
    "print(to_title_case(\"learning python\"))  # \"Learning Python\""
   ]
  },
  {
   "cell_type": "markdown",
   "metadata": {},
   "source": [
    "---\n",
    "\n",
    "### 第 25 題：綜合應用\n",
    "\n",
    "撰寫一個函式 `create_user(name, age, email=None, active=True)`，創建使用者資訊字典。\n",
    "\n",
    "**需求**：\n",
    "- name 和 age 是必要參數\n",
    "- email 和 active 是可選參數\n",
    "- 回傳包含所有資訊的字典\n",
    "- 為使用者自動生成 ID（從 1 開始遞增）\n",
    "\n",
    "**範例**：\n",
    "```python\n",
    "create_user(\"Alice\", 25)\n",
    "# {'id': 1, 'name': 'Alice', 'age': 25, 'email': None, 'active': True}\n",
    "\n",
    "create_user(\"Bob\", 30, \"bob@example.com\", False)\n",
    "# {'id': 2, 'name': 'Bob', 'age': 30, 'email': 'bob@example.com', 'active': False}\n",
    "```"
   ]
  },
  {
   "cell_type": "code",
   "execution_count": null,
   "metadata": {},
   "outputs": [],
   "source": [
    "# 請在此撰寫你的程式碼\n",
    "\n",
    "# 全域變數用於追蹤 ID\n",
    "user_id_counter = 0\n",
    "\n",
    "def create_user(name, age, email=None, active=True):\n",
    "    \"\"\"\n",
    "    創建使用者資訊字典\n",
    "    \n",
    "    參數:\n",
    "        name: 使用者名稱\n",
    "        age: 年齡\n",
    "        email: 電子郵件(可選)\n",
    "        active: 是否啟用(預設 True)\n",
    "    \n",
    "    回傳:\n",
    "        使用者資訊字典\n",
    "    \"\"\"\n",
    "    # 在此撰寫你的程式碼\n",
    "    pass\n",
    "\n",
    "# 測試\n",
    "user1 = create_user(\"Alice\", 25)\n",
    "print(user1)\n",
    "\n",
    "user2 = create_user(\"Bob\", 30, \"bob@example.com\", False)\n",
    "print(user2)\n",
    "\n",
    "user3 = create_user(\"Charlie\", 35, email=\"charlie@example.com\")\n",
    "print(user3)"
   ]
  },
  {
   "cell_type": "markdown",
   "metadata": {},
   "source": [
    "---\n",
    "\n",
    "## 🎉 測驗完成！\n",
    "\n",
    "### 自我評分\n",
    "\n",
    "完成測驗後，請對照以下答案檢查結果。\n",
    "\n",
    "**選擇題答案（1-15 題）**：\n",
    "1. B  2. B  3. D  4. C  5. B  \n",
    "6. B  7. C  8. A  9. A  10. B  \n",
    "11. B  12. B  13. D  14. B  15. B\n",
    "\n",
    "**程式題答案提示（16-25 題）**：\n",
    "\n",
    "- **第 16 題**：將 `>= 0` 改為 `> 0`\n",
    "- **第 17 題**：使用 `sum(1 for c in text.lower() if c in 'aeiou')`\n",
    "- **第 18 題**：使用 `max(words, key=len)` 或迴圈比較\n",
    "- **第 19 題**：移除空白、轉小寫後與反轉比較\n",
    "- **第 20 題**：`sorted(list1 + list2)`\n",
    "- **第 21 題**：使用字典累計單字次數\n",
    "- **第 22 題**：`[n for n in numbers if n % 2 == 0]`\n",
    "- **第 23 題**：`f\"{round(num, decimal_places):.{decimal_places}f}\"`\n",
    "- **第 24 題**：`text.title()` 或手動實作\n",
    "- **第 25 題**：使用 global 變數遞增 ID\n",
    "\n",
    "### 評分標準\n",
    "\n",
    "| 分數 | 等級 | 建議 |\n",
    "|:-----|:-----|:-----|\n",
    "| 90-100 | 優秀 | 完全掌握函式設計！ |\n",
    "| 80-89 | 良好 | 大部分概念清楚，繼續加強實作 |\n",
    "| 70-79 | 中等 | 基礎概念可以，需加強進階技巧 |\n",
    "| 60-69 | 及格 | 需要複習關鍵概念 |\n",
    "| < 60 | 不及格 | 建議重新學習本章並多練習 |\n",
    "\n",
    "### 下一步\n",
    "\n",
    "- 複習錯誤的題目\n",
    "- 對照 `05-solutions.ipynb` 查看詳細解答\n",
    "- 重新閱讀 `01-lecture.ipynb` 強化概念\n",
    "- 完成 `04-exercises.ipynb` 的所有習題\n",
    "- 準備進入 **Chapter 13: 變數作用域（Scope）**\n",
    "\n",
    "**恭喜完成 Chapter 12 的測驗！繼續加油！**"
   ]
  }
 ],
 "metadata": {
  "kernelspec": {
   "display_name": "Python 3",
   "language": "python",
   "name": "python3"
  },
  "language_info": {
   "codemirror_mode": {
    "name": "ipython",
    "version": 3
   },
   "file_extension": ".py",
   "mimetype": "text/x-python",
   "name": "python",
   "nbconvert_exporter": "python",
   "pygments_lexer": "ipython3",
   "version": "3.11.0"
  }
 },
 "nbformat": 4,
 "nbformat_minor": 4
}
