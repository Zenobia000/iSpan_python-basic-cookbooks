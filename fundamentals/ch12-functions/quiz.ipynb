{
 "cells": [
  {
   "cell_type": "markdown",
   "metadata": {},
   "source": [
    "# Chapter 12: 函式設計基礎 - 自我測驗\n",
    "\n",
    "---\n",
    "\n",
    "## 測驗說明\n",
    "\n",
    "**題目數量**：28 題  \n",
    "**建議時間**：25 分鐘  \n",
    "**及格分數**：21/28 (75%)  \n",
    "\n",
    "**題型分布**：\n",
    "- 選擇題（單選）：15 題\n",
    "- 是非題：5 題\n",
    "- 程式輸出預測：5 題\n",
    "- 程式填空：3 題\n",
    "\n",
    "**作答方式**：\n",
    "1. 選擇題：在心中選出答案或寫在紙上\n",
    "2. 程式輸出題：預測程式執行結果\n",
    "3. 程式填空題：在程式碼中填入正確內容\n",
    "4. 作答完畢後，對照最後的解答區\n",
    "\n",
    "---\n",
    "\n",
    "## Part I: 選擇題（Single Choice）\n",
    "\n",
    "每題 1 分，共 15 分"
   ]
  },
  {
   "cell_type": "markdown",
   "metadata": {},
   "source": [
    "### 第 1 題\n",
    "\n",
    "下列哪個是定義函式的正確語法？\n",
    "\n",
    "A. `function greet(): print(\"Hello\")`  \n",
    "B. `def greet() print(\"Hello\")`  \n",
    "C. `def greet(): print(\"Hello\")`  \n",
    "D. `def greet[]: print(\"Hello\")`"
   ]
  },
  {
   "cell_type": "markdown",
   "metadata": {},
   "source": [
    "### 第 2 題\n",
    "\n",
    "以下哪個函式名稱符合 Python 命名慣例（PEP 8）？\n",
    "\n",
    "A. `CalculateArea()`  \n",
    "B. `calculate_area()`  \n",
    "C. `calculateArea()`  \n",
    "D. `Calculate_Area()`"
   ]
  },
  {
   "cell_type": "markdown",
   "metadata": {},
   "source": [
    "### 第 3 題\n",
    "\n",
    "函式的文件字串（Docstring）應該使用哪種符號包圍？\n",
    "\n",
    "A. 單引號 `'...'`  \n",
    "B. 雙引號 `\"...\"`  \n",
    "C. 三引號 `'''...'''` 或 `\"\"\"...\"\"\"`  \n",
    "D. 井號 `#...`"
   ]
  },
  {
   "cell_type": "markdown",
   "metadata": {},
   "source": [
    "### 第 4 題\n",
    "\n",
    "以下程式碼會輸出什麼？\n",
    "\n",
    "```python\n",
    "def multiply(a, b):\n",
    "    return a * b\n",
    "\n",
    "result = multiply(3, 4)\n",
    "print(result)\n",
    "```\n",
    "\n",
    "A. `3`  \n",
    "B. `4`  \n",
    "C. `12`  \n",
    "D. `None`"
   ]
  },
  {
   "cell_type": "markdown",
   "metadata": {},
   "source": [
    "### 第 5 題\n",
    "\n",
    "如果函式沒有明確的 `return` 語句，它會回傳什麼值？\n",
    "\n",
    "A. `0`  \n",
    "B. `False`  \n",
    "C. `None`  \n",
    "D. 拋出錯誤"
   ]
  },
  {
   "cell_type": "markdown",
   "metadata": {},
   "source": [
    "### 第 6 題\n",
    "\n",
    "下列哪個是使用**關鍵字參數**（Keyword Arguments）呼叫函式的正確方式？\n",
    "\n",
    "```python\n",
    "def greet(name, greeting):\n",
    "    print(f\"{greeting}, {name}!\")\n",
    "```\n",
    "\n",
    "A. `greet(\"Alice\", \"Hello\")`  \n",
    "B. `greet(name=\"Alice\", greeting=\"Hello\")`  \n",
    "C. `greet(greeting=\"Hello\", \"Alice\")`  \n",
    "D. `greet[\"Alice\", \"Hello\"]`"
   ]
  },
  {
   "cell_type": "markdown",
   "metadata": {},
   "source": [
    "### 第 7 題\n",
    "\n",
    "以下哪個函式定義使用了**預設參數**？\n",
    "\n",
    "A. `def func(a, b): return a + b`  \n",
    "B. `def func(a, b=10): return a + b`  \n",
    "C. `def func(a=5, b): return a + b`  \n",
    "D. `def func(a, b, c): return a + b + c`"
   ]
  },
  {
   "cell_type": "markdown",
   "metadata": {},
   "source": [
    "### 第 8 題\n",
    "\n",
    "下列程式碼的輸出是什麼？\n",
    "\n",
    "```python\n",
    "def add(a, b=5):\n",
    "    return a + b\n",
    "\n",
    "print(add(10))\n",
    "```\n",
    "\n",
    "A. `10`  \n",
    "B. `5`  \n",
    "C. `15`  \n",
    "D. 錯誤"
   ]
  },
  {
   "cell_type": "markdown",
   "metadata": {},
   "source": [
    "### 第 9 題\n",
    "\n",
    "以下哪個是**純函式**（Pure Function）的特徵？\n",
    "\n",
    "A. 修改全域變數  \n",
    "B. 相同輸入永遠產生相同輸出，且無副作用  \n",
    "C. 使用 `print()` 顯示結果  \n",
    "D. 讀取檔案內容"
   ]
  },
  {
   "cell_type": "markdown",
   "metadata": {},
   "source": [
    "### 第 10 題\n",
    "\n",
    "下列哪個函式定義有**可變預設值陷阱**（Mutable Default Argument）？\n",
    "\n",
    "A. `def func(x, y=5): return x + y`  \n",
    "B. `def func(items=[]): items.append(1); return items`  \n",
    "C. `def func(name=\"Alice\"): return name`  \n",
    "D. `def func(x=None): return x`"
   ]
  },
  {
   "cell_type": "markdown",
   "metadata": {},
   "source": [
    "### 第 11 題\n",
    "\n",
    "下列程式碼會輸出什麼？\n",
    "\n",
    "```python\n",
    "def divide(a, b):\n",
    "    if b == 0:\n",
    "        return \"Error\"\n",
    "    return a / b\n",
    "\n",
    "print(divide(10, 0))\n",
    "```\n",
    "\n",
    "A. `0`  \n",
    "B. `Error`  \n",
    "C. `ZeroDivisionError`  \n",
    "D. `None`"
   ]
  },
  {
   "cell_type": "markdown",
   "metadata": {},
   "source": [
    "### 第 12 題\n",
    "\n",
    "如何呼叫函式並取得回傳值？\n",
    "\n",
    "```python\n",
    "def square(n):\n",
    "    return n * n\n",
    "```\n",
    "\n",
    "A. `square[5]`  \n",
    "B. `square(5)`  \n",
    "C. `square{5}`  \n",
    "D. `square 5`"
   ]
  },
  {
   "cell_type": "markdown",
   "metadata": {},
   "source": [
    "### 第 13 題\n",
    "\n",
    "函式可以回傳多個值嗎？\n",
    "\n",
    "A. 不可以，只能回傳一個值  \n",
    "B. 可以，使用逗號分隔多個值（實際上回傳 tuple）  \n",
    "C. 可以，但需要使用 list  \n",
    "D. 只有使用 `return` 兩次才可以"
   ]
  },
  {
   "cell_type": "markdown",
   "metadata": {},
   "source": [
    "### 第 14 題\n",
    "\n",
    "以下程式碼中，`a` 和 `b` 分別是什麼？\n",
    "\n",
    "```python\n",
    "def func(a, b):\n",
    "    return a + b\n",
    "\n",
    "result = func(3, 5)\n",
    "```\n",
    "\n",
    "A. `a` 和 `b` 是引數（arguments）  \n",
    "B. `a` 和 `b` 是參數（parameters）  \n",
    "C. `3` 和 `5` 是參數（parameters）  \n",
    "D. `result` 是參數（parameters）"
   ]
  },
  {
   "cell_type": "markdown",
   "metadata": {},
   "source": [
    "### 第 15 題\n",
    "\n",
    "DRY 原則代表什麼？\n",
    "\n",
    "A. Don't Repeat Yourself  \n",
    "B. Do Run Yourself  \n",
    "C. Don't Return Yet  \n",
    "D. Do Refactor Yearly"
   ]
  },
  {
   "cell_type": "markdown",
   "metadata": {},
   "source": [
    "---\n",
    "\n",
    "## Part II: 是非題（True/False）\n",
    "\n",
    "每題 1 分，共 5 分"
   ]
  },
  {
   "cell_type": "markdown",
   "metadata": {},
   "source": [
    "### 第 16 題\n",
    "\n",
    "函式定義後會立即執行。\n",
    "\n",
    "A. True  \n",
    "B. False"
   ]
  },
  {
   "cell_type": "markdown",
   "metadata": {},
   "source": [
    "### 第 17 題\n",
    "\n",
    "函式可以呼叫其他函式。\n",
    "\n",
    "A. True  \n",
    "B. False"
   ]
  },
  {
   "cell_type": "markdown",
   "metadata": {},
   "source": [
    "### 第 18 題\n",
    "\n",
    "在混合使用位置參數和關鍵字參數時，關鍵字參數必須放在位置參數之後。\n",
    "\n",
    "A. True  \n",
    "B. False"
   ]
  },
  {
   "cell_type": "markdown",
   "metadata": {},
   "source": [
    "### 第 19 題\n",
    "\n",
    "`print()` 和 `return` 的功能完全相同。\n",
    "\n",
    "A. True  \n",
    "B. False"
   ]
  },
  {
   "cell_type": "markdown",
   "metadata": {},
   "source": [
    "### 第 20 題\n",
    "\n",
    "使用空列表 `[]` 作為預設參數是安全的做法。\n",
    "\n",
    "A. True  \n",
    "B. False"
   ]
  },
  {
   "cell_type": "markdown",
   "metadata": {},
   "source": [
    "---\n",
    "\n",
    "## Part III: 程式輸出預測（Code Output Prediction）\n",
    "\n",
    "每題 2 分，共 10 分\n",
    "\n",
    "**說明**：請預測以下程式碼的輸出結果"
   ]
  },
  {
   "cell_type": "markdown",
   "metadata": {},
   "source": [
    "### 第 21 題\n",
    "\n",
    "```python\n",
    "def mystery(x, y):\n",
    "    return x * 2, y * 3\n",
    "\n",
    "result = mystery(4, 5)\n",
    "print(result)\n",
    "print(type(result))\n",
    "```\n",
    "\n",
    "輸出：\n",
    "```\n",
    "_____________________\n",
    "_____________________\n",
    "```"
   ]
  },
  {
   "cell_type": "markdown",
   "metadata": {},
   "source": [
    "### 第 22 題\n",
    "\n",
    "```python\n",
    "def add_one(numbers):\n",
    "    numbers.append(1)\n",
    "    return numbers\n",
    "\n",
    "my_list = []\n",
    "result1 = add_one(my_list)\n",
    "result2 = add_one(my_list)\n",
    "print(result2)\n",
    "```\n",
    "\n",
    "輸出：\n",
    "```\n",
    "_____________________\n",
    "```"
   ]
  },
  {
   "cell_type": "markdown",
   "metadata": {},
   "source": [
    "### 第 23 題\n",
    "\n",
    "```python\n",
    "def greet(name, greeting=\"Hello\"):\n",
    "    return f\"{greeting}, {name}!\"\n",
    "\n",
    "print(greet(\"Alice\"))\n",
    "print(greet(\"Bob\", \"Hi\"))\n",
    "print(greet(greeting=\"Good morning\", name=\"Carol\"))\n",
    "```\n",
    "\n",
    "輸出：\n",
    "```\n",
    "_____________________\n",
    "_____________________\n",
    "_____________________\n",
    "```"
   ]
  },
  {
   "cell_type": "markdown",
   "metadata": {},
   "source": [
    "### 第 24 題\n",
    "\n",
    "```python\n",
    "def test():\n",
    "    print(\"Function called\")\n",
    "\n",
    "result = test()\n",
    "print(result)\n",
    "```\n",
    "\n",
    "輸出：\n",
    "```\n",
    "_____________________\n",
    "_____________________\n",
    "```"
   ]
  },
  {
   "cell_type": "markdown",
   "metadata": {},
   "source": [
    "### 第 25 題\n",
    "\n",
    "```python\n",
    "def calculate(a, b):\n",
    "    total = a + b\n",
    "    return total\n",
    "    print(\"After return\")\n",
    "\n",
    "result = calculate(5, 3)\n",
    "print(result)\n",
    "```\n",
    "\n",
    "輸出：\n",
    "```\n",
    "_____________________\n",
    "```"
   ]
  },
  {
   "cell_type": "markdown",
   "metadata": {},
   "source": [
    "---\n",
    "\n",
    "## Part IV: 程式填空（Code Completion）\n",
    "\n",
    "每題 2 分，共 6 分\n",
    "\n",
    "**說明**：在空白處填入正確的程式碼"
   ]
  },
  {
   "cell_type": "markdown",
   "metadata": {},
   "source": [
    "### 第 26 題\n",
    "\n",
    "完成以下函式，使其能夠計算兩個數字的最大值：\n",
    "\n",
    "```python\n",
    "def find_max(a, b):\n",
    "    \"\"\"\n",
    "    回傳兩個數字中的最大值\n",
    "    \"\"\"\n",
    "    if a > b:\n",
    "        return _______\n",
    "    else:\n",
    "        return _______\n",
    "```"
   ]
  },
  {
   "cell_type": "markdown",
   "metadata": {},
   "source": [
    "### 第 27 題\n",
    "\n",
    "完成以下函式，使其能夠正確處理預設參數：\n",
    "\n",
    "```python\n",
    "def create_user(name, age=18, city=________):\n",
    "    \"\"\"\n",
    "    建立使用者資料\n",
    "    預設年齡為 18，預設城市為 \"Taipei\"\n",
    "    \"\"\"\n",
    "    return {\"name\": name, \"age\": age, \"city\": city}\n",
    "```"
   ]
  },
  {
   "cell_type": "markdown",
   "metadata": {},
   "source": [
    "### 第 28 題\n",
    "\n",
    "完成以下函式，避免可變預設值陷阱：\n",
    "\n",
    "```python\n",
    "def add_item(item, items=________):\n",
    "    \"\"\"\n",
    "    將項目加入列表\n",
    "    \"\"\"\n",
    "    if items is ________:\n",
    "        items = []\n",
    "    items.append(item)\n",
    "    return items\n",
    "```"
   ]
  },
  {
   "cell_type": "markdown",
   "metadata": {},
   "source": [
    "---\n",
    "\n",
    "## 解答區\n",
    "\n",
    "**請在作答完畢後再查看解答**\n",
    "\n",
    "---"
   ]
  },
  {
   "cell_type": "markdown",
   "metadata": {},
   "source": [
    "### Part I: 選擇題解答\n",
    "\n",
    "| 題號 | 答案 | 說明 |\n",
    "|:-----|:-----|:-----|\n",
    "| 1 | C | 函式定義使用 `def 函式名稱():` 語法，冒號後需縮排 |\n",
    "| 2 | B | Python 函式命名使用 snake_case（小寫加底線） |\n",
    "| 3 | C | Docstring 使用三引號（單引號或雙引號均可） |\n",
    "| 4 | C | `3 * 4 = 12` |\n",
    "| 5 | C | 沒有 `return` 的函式自動回傳 `None` |\n",
    "| 6 | B | 關鍵字參數格式為 `參數名=值` |\n",
    "| 7 | B | `b=10` 是預設參數（注意：C 錯誤，預設參數必須在後） |\n",
    "| 8 | C | `a=10, b=5`（使用預設值），結果為 `15` |\n",
    "| 9 | B | 純函式：相同輸入產生相同輸出，無副作用 |\n",
    "| 10 | B | 使用可變物件（list）作為預設值會造成陷阱 |\n",
    "| 11 | B | 函式檢查 `b == 0` 並回傳字串 `\"Error\"` |\n",
    "| 12 | B | 呼叫函式使用 `函式名稱(引數)` |\n",
    "| 13 | B | 可以使用逗號分隔回傳多個值（打包為 tuple） |\n",
    "| 14 | B | 函式定義中的 `a, b` 是參數（parameters），呼叫時的 `3, 5` 是引數（arguments） |\n",
    "| 15 | A | DRY = Don't Repeat Yourself（不要重複自己） |"
   ]
  },
  {
   "cell_type": "markdown",
   "metadata": {},
   "source": [
    "### Part II: 是非題解答\n",
    "\n",
    "| 題號 | 答案 | 說明 |\n",
    "|:-----|:-----|:-----|\n",
    "| 16 | B (False) | 函式定義後不會立即執行，需要明確呼叫 |\n",
    "| 17 | A (True) | 函式可以呼叫其他函式（函式組合） |\n",
    "| 18 | A (True) | 混合使用時，位置參數必須在關鍵字參數之前 |\n",
    "| 19 | B (False) | `print()` 顯示輸出但無回傳值（回傳 None），`return` 回傳值給呼叫者 |\n",
    "| 20 | B (False) | 使用可變物件作為預設值會造成多次呼叫共用同一物件的問題 |"
   ]
  },
  {
   "cell_type": "markdown",
   "metadata": {},
   "source": [
    "### Part III: 程式輸出預測解答\n",
    "\n",
    "#### 第 21 題\n",
    "```\n",
    "(8, 15)\n",
    "<class 'tuple'>\n",
    "```\n",
    "**說明**：多重回傳值被打包為 tuple"
   ]
  },
  {
   "cell_type": "code",
   "execution_count": null,
   "metadata": {},
   "outputs": [],
   "source": [
    "# 驗證第 21 題\n",
    "def mystery(x, y):\n",
    "    return x * 2, y * 3\n",
    "\n",
    "result = mystery(4, 5)\n",
    "print(result)\n",
    "print(type(result))"
   ]
  },
  {
   "cell_type": "markdown",
   "metadata": {},
   "source": [
    "#### 第 22 題\n",
    "```\n",
    "[1, 1]\n",
    "```\n",
    "**說明**：函式修改了傳入的列表（副作用），兩次呼叫都操作同一個 `my_list`"
   ]
  },
  {
   "cell_type": "code",
   "execution_count": null,
   "metadata": {},
   "outputs": [],
   "source": [
    "# 驗證第 22 題\n",
    "def add_one(numbers):\n",
    "    numbers.append(1)\n",
    "    return numbers\n",
    "\n",
    "my_list = []\n",
    "result1 = add_one(my_list)\n",
    "result2 = add_one(my_list)\n",
    "print(result2)"
   ]
  },
  {
   "cell_type": "markdown",
   "metadata": {},
   "source": [
    "#### 第 23 題\n",
    "```\n",
    "Hello, Alice!\n",
    "Hi, Bob!\n",
    "Good morning, Carol!\n",
    "```\n",
    "**說明**：第一次使用預設 `greeting`，第二次使用位置參數覆蓋，第三次使用關鍵字參數"
   ]
  },
  {
   "cell_type": "code",
   "execution_count": null,
   "metadata": {},
   "outputs": [],
   "source": [
    "# 驗證第 23 題\n",
    "def greet(name, greeting=\"Hello\"):\n",
    "    return f\"{greeting}, {name}!\"\n",
    "\n",
    "print(greet(\"Alice\"))\n",
    "print(greet(\"Bob\", \"Hi\"))\n",
    "print(greet(greeting=\"Good morning\", name=\"Carol\"))"
   ]
  },
  {
   "cell_type": "markdown",
   "metadata": {},
   "source": [
    "#### 第 24 題\n",
    "```\n",
    "Function called\n",
    "None\n",
    "```\n",
    "**說明**：函式執行 `print()`（副作用），但沒有 `return`，所以回傳 `None`"
   ]
  },
  {
   "cell_type": "code",
   "execution_count": null,
   "metadata": {},
   "outputs": [],
   "source": [
    "# 驗證第 24 題\n",
    "def test():\n",
    "    print(\"Function called\")\n",
    "\n",
    "result = test()\n",
    "print(result)"
   ]
  },
  {
   "cell_type": "markdown",
   "metadata": {},
   "source": [
    "#### 第 25 題\n",
    "```\n",
    "8\n",
    "```\n",
    "**說明**：`return` 後的程式碼不會執行（`print(\"After return\")` 不會被執行）"
   ]
  },
  {
   "cell_type": "code",
   "execution_count": null,
   "metadata": {},
   "outputs": [],
   "source": [
    "# 驗證第 25 題\n",
    "def calculate(a, b):\n",
    "    total = a + b\n",
    "    return total\n",
    "    print(\"After return\")  # 這行不會執行\n",
    "\n",
    "result = calculate(5, 3)\n",
    "print(result)"
   ]
  },
  {
   "cell_type": "markdown",
   "metadata": {},
   "source": [
    "### Part IV: 程式填空解答\n",
    "\n",
    "#### 第 26 題\n",
    "```python\n",
    "def find_max(a, b):\n",
    "    if a > b:\n",
    "        return a  # 空白 1\n",
    "    else:\n",
    "        return b  # 空白 2\n",
    "```"
   ]
  },
  {
   "cell_type": "code",
   "execution_count": null,
   "metadata": {},
   "outputs": [],
   "source": [
    "# 驗證第 26 題\n",
    "def find_max(a, b):\n",
    "    \"\"\"\n",
    "    回傳兩個數字中的最大值\n",
    "    \"\"\"\n",
    "    if a > b:\n",
    "        return a\n",
    "    else:\n",
    "        return b\n",
    "\n",
    "# 測試\n",
    "print(find_max(10, 5))   # 10\n",
    "print(find_max(3, 7))    # 7"
   ]
  },
  {
   "cell_type": "markdown",
   "metadata": {},
   "source": [
    "#### 第 27 題\n",
    "```python\n",
    "def create_user(name, age=18, city=\"Taipei\"):\n",
    "    return {\"name\": name, \"age\": age, \"city\": city}\n",
    "```\n",
    "\n",
    "**說明**：字串預設值需要使用引號"
   ]
  },
  {
   "cell_type": "code",
   "execution_count": null,
   "metadata": {},
   "outputs": [],
   "source": [
    "# 驗證第 27 題\n",
    "def create_user(name, age=18, city=\"Taipei\"):\n",
    "    \"\"\"\n",
    "    建立使用者資料\n",
    "    預設年齡為 18，預設城市為 \"Taipei\"\n",
    "    \"\"\"\n",
    "    return {\"name\": name, \"age\": age, \"city\": city}\n",
    "\n",
    "# 測試\n",
    "print(create_user(\"Alice\"))\n",
    "print(create_user(\"Bob\", 25))\n",
    "print(create_user(\"Carol\", city=\"Tainan\"))"
   ]
  },
  {
   "cell_type": "markdown",
   "metadata": {},
   "source": [
    "#### 第 28 題\n",
    "```python\n",
    "def add_item(item, items=None):\n",
    "    if items is None:\n",
    "        items = []\n",
    "    items.append(item)\n",
    "    return items\n",
    "```\n",
    "\n",
    "**說明**：使用 `None` 作為預設值，在函式內檢查並初始化，避免可變預設值陷阱"
   ]
  },
  {
   "cell_type": "code",
   "execution_count": null,
   "metadata": {},
   "outputs": [],
   "source": [
    "# 驗證第 28 題\n",
    "def add_item(item, items=None):\n",
    "    \"\"\"\n",
    "    將項目加入列表\n",
    "    \"\"\"\n",
    "    if items is None:\n",
    "        items = []\n",
    "    items.append(item)\n",
    "    return items\n",
    "\n",
    "# 測試（每次呼叫都是新列表）\n",
    "print(add_item(\"apple\"))         # ['apple']\n",
    "print(add_item(\"banana\"))        # ['banana']\n",
    "print(add_item(\"cherry\"))        # ['cherry']"
   ]
  },
  {
   "cell_type": "markdown",
   "metadata": {},
   "source": [
    "---\n",
    "\n",
    "## 計分與評估\n",
    "\n",
    "### 計分標準\n",
    "- Part I (選擇題)：15 題 × 1 分 = 15 分\n",
    "- Part II (是非題)：5 題 × 1 分 = 5 分\n",
    "- Part III (程式輸出)：5 題 × 2 分 = 10 分（每題完全正確才給分）\n",
    "- Part IV (程式填空)：3 題 × 2 分 = 6 分（每題完全正確才給分）\n",
    "- **總分**：36 分（調整為 28 分滿分制，建議按比例換算）\n",
    "\n",
    "### 等級劃分（以 28 分為基準）\n",
    "- **優秀** (90%+)：25-28 分\n",
    "- **良好** (80-89%)：22-24 分\n",
    "- **及格** (75-79%)：21 分\n",
    "- **待加強** (<75%)：< 21 分\n",
    "\n",
    "### 換算方式\n",
    "實際得分 ÷ 36 × 28 = 調整後分數\n",
    "\n",
    "---\n",
    "\n",
    "## 重點觀念總結\n",
    "\n",
    "完成本測驗後，您應該掌握以下核心概念：\n",
    "\n",
    "### 1. 函式定義與呼叫\n",
    "- ✅ 使用 `def` 關鍵字定義函式\n",
    "- ✅ 函式名稱遵循 snake_case\n",
    "- ✅ 呼叫函式使用 `()`\n",
    "\n",
    "### 2. 參數與引數\n",
    "- ✅ 位置參數（依順序對應）\n",
    "- ✅ 關鍵字參數（明確指定名稱）\n",
    "- ✅ 預設參數（提供預設值）\n",
    "- ✅ 參數 (parameters) vs 引數 (arguments)\n",
    "\n",
    "### 3. 回傳值\n",
    "- ✅ `return` 回傳值給呼叫者\n",
    "- ✅ 多重回傳值（tuple）\n",
    "- ✅ 無 `return` 自動回傳 `None`\n",
    "- ✅ `return` 後的程式碼不執行\n",
    "\n",
    "### 4. 設計原則\n",
    "- ✅ DRY 原則（Don't Repeat Yourself）\n",
    "- ✅ 純函式 vs 副作用\n",
    "- ✅ 避免可變預設值陷阱\n",
    "- ✅ Docstring 說明文件\n",
    "\n",
    "### 5. 常見誤區\n",
    "- ⚠️ 混淆 `print()` 和 `return`\n",
    "- ⚠️ 使用 `[]` 或 `{}` 作為預設值\n",
    "- ⚠️ 關鍵字參數放在位置參數之前\n",
    "- ⚠️ 忘記加 `()` 呼叫函式\n",
    "\n",
    "---\n",
    "\n",
    "## 下一步建議\n",
    "\n",
    "### 如果分數 < 21 分（待加強）\n",
    "1. 重新閱讀 `01-lecture.ipynb`\n",
    "2. 仔細研究 `02-worked-examples.ipynb` 的詳解\n",
    "3. 完成 `03-practice.ipynb` 課堂練習\n",
    "4. 再次進行本測驗\n",
    "\n",
    "### 如果分數 ≥ 21 分（及格以上）\n",
    "1. 完成 `04-exercises.ipynb` 課後習題\n",
    "2. 對照 `05-solutions.ipynb` 檢視解答\n",
    "3. 進入 **Chapter 13: 變數作用域** (Scope)\n",
    "4. 探索進階主題：高階函式、lambda、遞迴\n",
    "\n",
    "---\n",
    "\n",
    "**恭喜完成 Chapter 12 測驗！繼續保持學習熱情！**"
   ]
  }
 ],
 "metadata": {
  "kernelspec": {
   "display_name": "Python 3",
   "language": "python",
   "name": "python3"
  },
  "language_info": {
   "name": "python",
   "version": "3.11.0"
  }
 },
 "nbformat": 4,
 "nbformat_minor": 4
}
