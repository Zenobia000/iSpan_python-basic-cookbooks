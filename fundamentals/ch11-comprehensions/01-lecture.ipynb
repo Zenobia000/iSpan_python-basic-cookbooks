{
 "cells": [
  {
   "cell_type": "markdown",
   "metadata": {},
   "source": [
    "# Chapter 11: 推導式與生成器 | Comprehensions and Generators\n",
    "\n",
    "## 📖 講義內容（Lecture Notes）\n",
    "\n",
    "**學習時數**：90 分鐘  \n",
    "**難度等級**：⭐⭐⭐⭐☆\n",
    "\n",
    "---\n",
    "\n",
    "## 本講義架構\n",
    "\n",
    "### Part I: 理論基礎\n",
    "- 推導式的起源與動機\n",
    "- Pythonic 程式設計哲學\n",
    "- 推導式的語法結構\n",
    "\n",
    "### Part II: 實作演練（11 個範例）\n",
    "- 列表推導式（5 個範例）\n",
    "- 字典推導式（2 個範例）\n",
    "- 集合推導式（1 個範例）\n",
    "- 生成器表達式（2 個範例）\n",
    "- 綜合應用（1 個範例）\n",
    "\n",
    "### Part III: 本章總結\n",
    "- 知識回顧\n",
    "- 常見誤區\n",
    "- 自我檢核\n",
    "- 延伸閱讀"
   ]
  },
  {
   "cell_type": "markdown",
   "metadata": {},
   "source": [
    "---\n",
    "\n",
    "# Part I: 理論基礎\n",
    "\n",
    "## 1. 為什麼需要推導式？\n",
    "\n",
    "### 傳統迴圈的問題\n",
    "\n",
    "假設我們要建立一個包含 0-9 平方數的列表："
   ]
  },
  {
   "cell_type": "code",
   "execution_count": null,
   "metadata": {},
   "outputs": [],
   "source": [
    "# 傳統迴圈寫法\n",
    "squares = []\n",
    "for i in range(10):\n",
    "    squares.append(i ** 2)\n",
    "\n",
    "print(squares)"
   ]
  },
  {
   "cell_type": "markdown",
   "metadata": {},
   "source": [
    "**問題分析**：\n",
    "1. 需要 4 行程式碼\n",
    "2. 需要先初始化空列表\n",
    "3. 語義不夠直觀（「建立列表」的意圖不明顯）\n",
    "\n",
    "### 推導式的優勢"
   ]
  },
  {
   "cell_type": "code",
   "execution_count": null,
   "metadata": {},
   "outputs": [],
   "source": [
    "# 列表推導式寫法\n",
    "squares = [i ** 2 for i in range(10)]\n",
    "\n",
    "print(squares)"
   ]
  },
  {
   "cell_type": "markdown",
   "metadata": {},
   "source": [
    "**優勢**：\n",
    "1. ✅ 只需 1 行程式碼\n",
    "2. ✅ 語義清晰（「建立一個列表，包含每個 i 的平方」）\n",
    "3. ✅ 執行效率更高（內部優化）\n",
    "4. ✅ 符合 Pythonic 風格\n",
    "\n",
    "---\n",
    "\n",
    "## 2. Pythonic 程式設計哲學\n",
    "\n",
    "推導式體現了 **The Zen of Python** 的核心理念："
   ]
  },
  {
   "cell_type": "code",
   "execution_count": null,
   "metadata": {},
   "outputs": [],
   "source": [
    "import this  # 執行這行可以看到 The Zen of Python"
   ]
  },
  {
   "cell_type": "markdown",
   "metadata": {},
   "source": [
    "**與推導式相關的原則**：\n",
    "- \"Beautiful is better than ugly.\" - 推導式更簡潔優雅\n",
    "- \"Simple is better than complex.\" - 單行表達清晰意圖\n",
    "- \"Readability counts.\" - 可讀性很重要（但別濫用）\n",
    "\n",
    "---\n",
    "\n",
    "## 3. 推導式的語法結構\n",
    "\n",
    "### 列表推導式（List Comprehension）\n",
    "\n",
    "```python\n",
    "# 基本語法\n",
    "[expression for item in iterable]\n",
    "\n",
    "# 加入條件篩選\n",
    "[expression for item in iterable if condition]\n",
    "\n",
    "# 加入條件表達式\n",
    "[expr1 if condition else expr2 for item in iterable]\n",
    "\n",
    "# 巢狀推導式\n",
    "[expression for item1 in iterable1 for item2 in iterable2]\n",
    "```\n",
    "\n",
    "### 字典推導式（Dict Comprehension）\n",
    "\n",
    "```python\n",
    "# 基本語法（注意：需要 key: value）\n",
    "{key: value for item in iterable}\n",
    "\n",
    "# 加入條件篩選\n",
    "{key: value for item in iterable if condition}\n",
    "```\n",
    "\n",
    "### 集合推導式（Set Comprehension）\n",
    "\n",
    "```python\n",
    "# 基本語法（自動去重）\n",
    "{expression for item in iterable}\n",
    "```\n",
    "\n",
    "### 生成器表達式（Generator Expression）\n",
    "\n",
    "```python\n",
    "# 基本語法（使用圓括號，惰性求值）\n",
    "(expression for item in iterable)\n",
    "```"
   ]
  },
  {
   "cell_type": "markdown",
   "metadata": {},
   "source": [
    "---\n",
    "\n",
    "# Part II: 實作演練\n",
    "\n",
    "## 列表推導式（List Comprehension）\n",
    "\n",
    "### 範例 1：基本列表推導式 - 平方數"
   ]
  },
  {
   "cell_type": "code",
   "execution_count": null,
   "metadata": {},
   "outputs": [],
   "source": [
    "# 建立 1-10 的平方數列表\n",
    "\n",
    "# 傳統迴圈\n",
    "squares_loop = []\n",
    "for i in range(1, 11):\n",
    "    squares_loop.append(i ** 2)\n",
    "\n",
    "# 列表推導式\n",
    "squares_comp = [i ** 2 for i in range(1, 11)]\n",
    "\n",
    "print(\"傳統迴圈：\", squares_loop)\n",
    "print(\"推導式：  \", squares_comp)\n",
    "print(\"結果相同：\", squares_loop == squares_comp)"
   ]
  },
  {
   "cell_type": "markdown",
   "metadata": {},
   "source": [
    "**重點**：\n",
    "- 推導式的閱讀順序：「對於 range(1, 11) 中的每個 i，計算 i ** 2」\n",
    "- 結果完全相同，但推導式更簡潔\n",
    "\n",
    "---\n",
    "\n",
    "### 範例 2：條件篩選 - 偶數過濾"
   ]
  },
  {
   "cell_type": "code",
   "execution_count": null,
   "metadata": {},
   "outputs": [],
   "source": [
    "# 只保留 0-19 中的偶數\n",
    "\n",
    "# 傳統迴圈\n",
    "evens_loop = []\n",
    "for i in range(20):\n",
    "    if i % 2 == 0:\n",
    "        evens_loop.append(i)\n",
    "\n",
    "# 列表推導式（條件篩選）\n",
    "evens_comp = [i for i in range(20) if i % 2 == 0]\n",
    "\n",
    "print(\"傳統迴圈：\", evens_loop)\n",
    "print(\"推導式：  \", evens_comp)\n",
    "print(\"結果相同：\", evens_loop == evens_comp)"
   ]
  },
  {
   "cell_type": "markdown",
   "metadata": {},
   "source": [
    "**重點**：\n",
    "- `if` 條件放在最後，用於**篩選**元素\n",
    "- 只有滿足條件的元素才會被加入列表\n",
    "- 閱讀順序：「對於 range(20) 中的每個 i，如果 i 是偶數，則保留 i」\n",
    "\n",
    "---\n",
    "\n",
    "### 範例 3：條件表達式 - if-else"
   ]
  },
  {
   "cell_type": "code",
   "execution_count": null,
   "metadata": {},
   "outputs": [],
   "source": [
    "# 偶數保留原值，奇數改為 0\n",
    "\n",
    "# 傳統迴圈\n",
    "numbers_loop = []\n",
    "for i in range(10):\n",
    "    if i % 2 == 0:\n",
    "        numbers_loop.append(i)\n",
    "    else:\n",
    "        numbers_loop.append(0)\n",
    "\n",
    "# 列表推導式（條件表達式）\n",
    "numbers_comp = [i if i % 2 == 0 else 0 for i in range(10)]\n",
    "\n",
    "print(\"傳統迴圈：\", numbers_loop)\n",
    "print(\"推導式：  \", numbers_comp)\n",
    "print(\"結果相同：\", numbers_loop == numbers_comp)"
   ]
  },
  {
   "cell_type": "markdown",
   "metadata": {},
   "source": [
    "**重點**：\n",
    "- `if-else` 放在**最前面**，用於**改變元素的值**\n",
    "- 這是三元運算子（ternary operator）的應用\n",
    "- 語法：`value_if_true if condition else value_if_false`\n",
    "\n",
    "**對比**：\n",
    "```python\n",
    "# 篩選條件（if 在後）- 選擇哪些元素\n",
    "[i for i in range(10) if i % 2 == 0]  # [0, 2, 4, 6, 8]\n",
    "\n",
    "# 條件表達式（if-else 在前）- 改變元素的值\n",
    "[i if i % 2 == 0 else 0 for i in range(10)]  # [0, 0, 2, 0, 4, 0, 6, 0, 8, 0]\n",
    "```\n",
    "\n",
    "---\n",
    "\n",
    "### 範例 4：字串處理 - 大寫轉換"
   ]
  },
  {
   "cell_type": "code",
   "execution_count": null,
   "metadata": {},
   "outputs": [],
   "source": [
    "# 將水果名稱轉換為大寫\n",
    "fruits = ['apple', 'banana', 'cherry', 'date']\n",
    "\n",
    "# 傳統迴圈\n",
    "upper_fruits_loop = []\n",
    "for fruit in fruits:\n",
    "    upper_fruits_loop.append(fruit.upper())\n",
    "\n",
    "# 列表推導式\n",
    "upper_fruits_comp = [fruit.upper() for fruit in fruits]\n",
    "\n",
    "print(\"原始列表：\", fruits)\n",
    "print(\"大寫列表：\", upper_fruits_comp)"
   ]
  },
  {
   "cell_type": "code",
   "execution_count": null,
   "metadata": {},
   "outputs": [],
   "source": [
    "# 只保留長度大於 5 的水果名稱\n",
    "long_fruits = [fruit for fruit in fruits if len(fruit) > 5]\n",
    "print(\"長名稱水果：\", long_fruits)"
   ]
  },
  {
   "cell_type": "markdown",
   "metadata": {},
   "source": [
    "**重點**：\n",
    "- 可以對每個元素呼叫方法（如 `.upper()`）\n",
    "- 可以使用內建函數（如 `len()`）進行條件判斷\n",
    "\n",
    "---\n",
    "\n",
    "### 範例 5：巢狀列表推導式 - 九九乘法表"
   ]
  },
  {
   "cell_type": "code",
   "execution_count": null,
   "metadata": {},
   "outputs": [],
   "source": [
    "# 建立 3x3 的九九乘法表\n",
    "\n",
    "# 傳統迴圈\n",
    "multiplication_table_loop = []\n",
    "for i in range(1, 4):\n",
    "    row = []\n",
    "    for j in range(1, 4):\n",
    "        row.append(i * j)\n",
    "    multiplication_table_loop.append(row)\n",
    "\n",
    "# 巢狀列表推導式\n",
    "multiplication_table_comp = [[i * j for j in range(1, 4)] for i in range(1, 4)]\n",
    "\n",
    "print(\"傳統迴圈：\")\n",
    "for row in multiplication_table_loop:\n",
    "    print(row)\n",
    "\n",
    "print(\"\\n巢狀推導式：\")\n",
    "for row in multiplication_table_comp:\n",
    "    print(row)"
   ]
  },
  {
   "cell_type": "markdown",
   "metadata": {},
   "source": [
    "**重點**：\n",
    "- 巢狀推導式的順序：**外層在前，內層在後**\n",
    "- `[[i * j for j in range(1, 4)] for i in range(1, 4)]`\n",
    "  - 外層 `for i in range(1, 4)` 產生 3 個元素\n",
    "  - 每個元素是內層 `[i * j for j in range(1, 4)]` 的結果\n",
    "\n",
    "**可讀性警告**：\n",
    "- ⚠️ 巢狀推導式容易降低可讀性\n",
    "- 建議：超過 2 層請使用傳統迴圈\n",
    "\n",
    "---\n",
    "\n",
    "## 字典推導式（Dict Comprehension）\n",
    "\n",
    "### 範例 6：建立平方數字典"
   ]
  },
  {
   "cell_type": "code",
   "execution_count": null,
   "metadata": {},
   "outputs": [],
   "source": [
    "# 建立數字與其平方的對應字典\n",
    "\n",
    "# 傳統迴圈\n",
    "square_dict_loop = {}\n",
    "for i in range(1, 6):\n",
    "    square_dict_loop[i] = i ** 2\n",
    "\n",
    "# 字典推導式\n",
    "square_dict_comp = {i: i ** 2 for i in range(1, 6)}\n",
    "\n",
    "print(\"傳統迴圈：\", square_dict_loop)\n",
    "print(\"推導式：  \", square_dict_comp)"
   ]
  },
  {
   "cell_type": "markdown",
   "metadata": {},
   "source": [
    "**重點**：\n",
    "- 字典推導式的語法：`{key: value for item in iterable}`\n",
    "- 必須同時提供 **key** 和 **value**（用冒號分隔）\n",
    "- 如果省略冒號，會變成集合推導式\n",
    "\n",
    "---\n",
    "\n",
    "### 範例 7：字典的鍵值互換"
   ]
  },
  {
   "cell_type": "code",
   "execution_count": null,
   "metadata": {},
   "outputs": [],
   "source": [
    "# 將學生姓名與成績的對應關係互換\n",
    "student_scores = {'Alice': 85, 'Bob': 92, 'Charlie': 78}\n",
    "\n",
    "# 傳統迴圈\n",
    "score_students_loop = {}\n",
    "for name, score in student_scores.items():\n",
    "    score_students_loop[score] = name\n",
    "\n",
    "# 字典推導式\n",
    "score_students_comp = {score: name for name, score in student_scores.items()}\n",
    "\n",
    "print(\"原始字典：\", student_scores)\n",
    "print(\"鍵值互換：\", score_students_comp)"
   ]
  },
  {
   "cell_type": "code",
   "execution_count": null,
   "metadata": {},
   "outputs": [],
   "source": [
    "# 只保留及格（>=60）的學生\n",
    "passing_students = {name: score for name, score in student_scores.items() if score >= 60}\n",
    "print(\"及格學生：\", passing_students)"
   ]
  },
  {
   "cell_type": "markdown",
   "metadata": {},
   "source": [
    "**重點**：\n",
    "- 使用 `.items()` 同時取得鍵和值\n",
    "- 可以自由決定哪個作為 key、哪個作為 value\n",
    "- 同樣可以使用條件篩選\n",
    "\n",
    "---\n",
    "\n",
    "## 集合推導式（Set Comprehension）\n",
    "\n",
    "### 範例 8：去除重複的平方數"
   ]
  },
  {
   "cell_type": "code",
   "execution_count": null,
   "metadata": {},
   "outputs": [],
   "source": [
    "# 計算 -5 到 5 的平方數（會有重複）\n",
    "numbers = range(-5, 6)\n",
    "\n",
    "# 使用列表推導式（有重複）\n",
    "squares_list = [i ** 2 for i in numbers]\n",
    "print(\"列表（有重複）：\", squares_list)\n",
    "\n",
    "# 使用集合推導式（自動去重）\n",
    "squares_set = {i ** 2 for i in numbers}\n",
    "print(\"集合（自動去重）：\", squares_set)\n",
    "print(\"排序後：\", sorted(squares_set))"
   ]
  },
  {
   "cell_type": "markdown",
   "metadata": {},
   "source": [
    "**重點**：\n",
    "- 集合推導式使用 **大括號 `{}`**\n",
    "- 沒有冒號（有冒號就是字典推導式）\n",
    "- 自動去除重複元素（集合的特性）\n",
    "- 結果是**無序**的（Python 3.7+ 字典有序，但集合仍無序）\n",
    "\n",
    "---\n",
    "\n",
    "## 生成器表達式（Generator Expression）\n",
    "\n",
    "### 範例 9：記憶體效率比較"
   ]
  },
  {
   "cell_type": "code",
   "execution_count": null,
   "metadata": {},
   "outputs": [],
   "source": [
    "import sys\n",
    "\n",
    "# 列表推導式（立即建立所有元素）\n",
    "list_comp = [i ** 2 for i in range(1000000)]\n",
    "print(f\"列表推導式記憶體使用：{sys.getsizeof(list_comp):,} bytes\")\n",
    "\n",
    "# 生成器表達式（惰性求值）\n",
    "gen_exp = (i ** 2 for i in range(1000000))\n",
    "print(f\"生成器表達式記憶體使用：{sys.getsizeof(gen_exp):,} bytes\")\n",
    "\n",
    "print(f\"\\n記憶體節省：{(sys.getsizeof(list_comp) - sys.getsizeof(gen_exp)) / sys.getsizeof(list_comp) * 100:.2f}%\")"
   ]
  },
  {
   "cell_type": "markdown",
   "metadata": {},
   "source": [
    "**重點**：\n",
    "- 生成器表達式使用 **圓括號 `()`**\n",
    "- **惰性求值**（Lazy Evaluation）：需要時才計算值\n",
    "- 記憶體使用極小（不預先建立所有元素）\n",
    "- 適合處理大型資料集\n",
    "\n",
    "---\n",
    "\n",
    "### 範例 10：生成器只能迭代一次"
   ]
  },
  {
   "cell_type": "code",
   "execution_count": null,
   "metadata": {},
   "outputs": [],
   "source": [
    "# 生成器表達式\n",
    "gen = (i ** 2 for i in range(5))\n",
    "\n",
    "print(\"第一次迭代：\", list(gen))\n",
    "print(\"第二次迭代：\", list(gen))  # 空列表！\n",
    "\n",
    "# 列表推導式（可以多次迭代）\n",
    "lst = [i ** 2 for i in range(5)]\n",
    "print(\"\\n第一次迭代：\", list(lst))\n",
    "print(\"第二次迭代：\", list(lst))  # 仍然有資料"
   ]
  },
  {
   "cell_type": "markdown",
   "metadata": {},
   "source": [
    "**重點**：\n",
    "- 生成器是**一次性**的（exhausted after one iteration）\n",
    "- 迭代完畢後，生成器會被耗盡\n",
    "- 列表可以重複迭代（因為資料已經存在記憶體中）\n",
    "\n",
    "**使用時機**：\n",
    "- 需要多次迭代 → 使用列表推導式\n",
    "- 只迭代一次 + 資料量大 → 使用生成器表達式\n",
    "\n",
    "---\n",
    "\n",
    "## 綜合應用\n",
    "\n",
    "### 範例 11：效能對比 - 推導式 vs 傳統迴圈"
   ]
  },
  {
   "cell_type": "code",
   "execution_count": null,
   "metadata": {},
   "outputs": [],
   "source": [
    "import time\n",
    "\n",
    "# 測試建立 100 萬個平方數的時間\n",
    "\n",
    "# 傳統迴圈\n",
    "start = time.time()\n",
    "squares_loop = []\n",
    "for i in range(1000000):\n",
    "    squares_loop.append(i ** 2)\n",
    "loop_time = time.time() - start\n",
    "\n",
    "# 列表推導式\n",
    "start = time.time()\n",
    "squares_comp = [i ** 2 for i in range(1000000)]\n",
    "comp_time = time.time() - start\n",
    "\n",
    "print(f\"傳統迴圈：{loop_time:.4f} 秒\")\n",
    "print(f\"列表推導式：{comp_time:.4f} 秒\")\n",
    "print(f\"\\n推導式快了：{(loop_time - comp_time) / loop_time * 100:.2f}%\")"
   ]
  },
  {
   "cell_type": "markdown",
   "metadata": {},
   "source": [
    "**重點**：\n",
    "- 推導式通常比傳統迴圈快 20-30%\n",
    "- 原因：內部優化、減少函數呼叫（`append`）\n",
    "- 但可讀性永遠優先於效能！"
   ]
  },
  {
   "cell_type": "markdown",
   "metadata": {},
   "source": [
    "---\n",
    "\n",
    "# Part III: 本章總結\n",
    "\n",
    "## 📊 知識回顧\n",
    "\n",
    "### 四種推導式比較\n",
    "\n",
    "| 類型 | 語法 | 結果類型 | 特點 |\n",
    "|:-----|:-----|:---------|:-----|\n",
    "| 列表推導式 | `[expr for item in iterable]` | `list` | 最常用 |\n",
    "| 字典推導式 | `{k: v for item in iterable}` | `dict` | 需要鍵值對 |\n",
    "| 集合推導式 | `{expr for item in iterable}` | `set` | 自動去重 |\n",
    "| 生成器表達式 | `(expr for item in iterable)` | `generator` | 惰性求值 |\n",
    "\n",
    "### 條件的兩種用法\n",
    "\n",
    "```python\n",
    "# 1. 篩選條件（if 在後）- 選擇哪些元素\n",
    "[x for x in range(10) if x % 2 == 0]\n",
    "\n",
    "# 2. 條件表達式（if-else 在前）- 改變元素的值\n",
    "[x if x % 2 == 0 else 0 for x in range(10)]\n",
    "```\n",
    "\n",
    "---\n",
    "\n",
    "## ⚠️ 常見誤區\n",
    "\n",
    "### 誤區 1：語法順序錯誤"
   ]
  },
  {
   "cell_type": "code",
   "execution_count": null,
   "metadata": {},
   "outputs": [],
   "source": [
    "# ✗ 錯誤：for 在前\n",
    "# [for i in range(10) i**2]  # SyntaxError\n",
    "\n",
    "# ✓ 正確：表達式在前\n",
    "result = [i**2 for i in range(10)]\n",
    "print(result)"
   ]
  },
  {
   "cell_type": "markdown",
   "metadata": {},
   "source": [
    "### 誤區 2：字典推導式忘記冒號"
   ]
  },
  {
   "cell_type": "code",
   "execution_count": null,
   "metadata": {},
   "outputs": [],
   "source": [
    "# ✗ 錯誤：這是集合推導式，不是字典\n",
    "wrong_dict = {i**2 for i in range(5)}\n",
    "print(\"集合：\", wrong_dict, type(wrong_dict))\n",
    "\n",
    "# ✓ 正確：字典需要 key: value\n",
    "correct_dict = {i: i**2 for i in range(5)}\n",
    "print(\"字典：\", correct_dict, type(correct_dict))"
   ]
  },
  {
   "cell_type": "markdown",
   "metadata": {},
   "source": [
    "### 誤區 3：濫用巢狀推導式"
   ]
  },
  {
   "cell_type": "code",
   "execution_count": null,
   "metadata": {},
   "outputs": [],
   "source": [
    "# ⚠️ 不好：過於複雜，難以閱讀\n",
    "bad_example = [[i*j for j in range(3) if j > 0] for i in range(3) if i % 2 == 0]\n",
    "\n",
    "# ✓ 更好：使用傳統迴圈，清晰易懂\n",
    "good_example = []\n",
    "for i in range(3):\n",
    "    if i % 2 == 0:\n",
    "        row = []\n",
    "        for j in range(3):\n",
    "            if j > 0:\n",
    "                row.append(i * j)\n",
    "        good_example.append(row)\n",
    "\n",
    "print(\"推導式：\", bad_example)\n",
    "print(\"傳統迴圈：\", good_example)"
   ]
  },
  {
   "cell_type": "markdown",
   "metadata": {},
   "source": [
    "---\n",
    "\n",
    "## ✅ 自我檢核\n",
    "\n",
    "完成本講義後，你應該能夠：\n",
    "\n",
    "### 基礎能力\n",
    "- [ ] 寫出基本的列表推導式\n",
    "- [ ] 使用條件篩選元素\n",
    "- [ ] 區分推導式與傳統迴圈的差異\n",
    "\n",
    "### 進階能力\n",
    "- [ ] 實作字典推導式\n",
    "- [ ] 使用條件表達式（if-else）\n",
    "- [ ] 實作巢狀推導式\n",
    "\n",
    "### 應用能力\n",
    "- [ ] 選擇最適合的推導式類型\n",
    "- [ ] 使用生成器表達式處理大型資料\n",
    "- [ ] 評估推導式的可讀性\n",
    "\n",
    "---\n",
    "\n",
    "## 📚 延伸閱讀\n",
    "\n",
    "### 官方文件\n",
    "- [PEP 202 - List Comprehensions](https://www.python.org/dev/peps/pep-0202/)\n",
    "- [PEP 274 - Dict Comprehensions](https://www.python.org/dev/peps/pep-0274/)\n",
    "- [Python Tutorial - Data Structures](https://docs.python.org/3/tutorial/datastructures.html#list-comprehensions)\n",
    "\n",
    "### 進階主題\n",
    "- 生成器函數（`yield`）\n",
    "- `map()`, `filter()`, `reduce()` 函數\n",
    "- `itertools` 模組\n",
    "- 函數式編程（Functional Programming）\n",
    "\n",
    "---\n",
    "\n",
    "## 💡 學習建議\n",
    "\n",
    "1. **多練習**：將之前寫的迴圈改寫為推導式\n",
    "2. **平衡性**：推導式是工具，不是目的\n",
    "3. **可讀性優先**：當推導式讓程式碼更難理解時，使用傳統迴圈\n",
    "4. **效能意識**：理解生成器的記憶體優勢\n",
    "\n",
    "> \"Simple is better than complex.\" - The Zen of Python\n",
    "\n",
    "---\n",
    "\n",
    "**恭喜你完成本講義！** 🎉  \n",
    "接下來請前往：\n",
    "- `02-worked-examples.ipynb` - 詳解範例\n",
    "- `03-practice.ipynb` - 課堂練習"
   ]
  }
 ],
 "metadata": {
  "kernelspec": {
   "display_name": "Python 3",
   "language": "python",
   "name": "python3"
  },
  "language_info": {
   "name": "python",
   "version": "3.11.0"
  }
 },
 "nbformat": 4,
 "nbformat_minor": 4
}
