{
 "cells": [
  {
   "cell_type": "markdown",
   "metadata": {},
   "source": [
    "# Chapter 11: 推導式與生成器 - 詳解範例\n",
    "\n",
    "## 📝 Worked Examples（詳解範例）\n",
    "\n",
    "**學習時數**：40 分鐘  \n",
    "**範例數量**：5 個實用案例\n",
    "\n",
    "---\n",
    "\n",
    "## 本檔案架構\n",
    "\n",
    "每個範例都包含：\n",
    "1. **問題描述**：清楚說明要解決的問題\n",
    "2. **需求分析**：拆解問題的關鍵步驟\n",
    "3. **傳統解法**：使用迴圈的實作\n",
    "4. **推導式解法**：使用推導式的實作\n",
    "5. **測試驗證**：確認結果正確\n",
    "6. **重點說明**：解釋關鍵概念\n",
    "\n",
    "---\n",
    "\n",
    "### 範例清單\n",
    "1. 成績及格篩選器（列表推導式 + 條件）\n",
    "2. 學生成績字典建立（zip + 字典推導式）\n",
    "3. 矩陣轉置（巢狀列表推導式）\n",
    "4. 單字出現次數統計（字典推導式）\n",
    "5. 大型數據處理（生成器 vs 列表）"
   ]
  },
  {
   "cell_type": "markdown",
   "metadata": {},
   "source": [
    "---\n",
    "\n",
    "## 範例 1：成績及格篩選器\n",
    "\n",
    "### 問題描述\n",
    "學校有一個學生成績列表，需要篩選出所有及格（>=60分）的成績，並將這些成績加 5 分作為平時分獎勵。\n",
    "\n",
    "### 需求分析\n",
    "1. 輸入：學生成績列表\n",
    "2. 篩選：只保留 >= 60 分的成績\n",
    "3. 轉換：每個成績 + 5 分\n",
    "4. 輸出：獎勵後的及格成績列表"
   ]
  },
  {
   "cell_type": "code",
   "execution_count": null,
   "metadata": {},
   "outputs": [],
   "source": [
    "# 測試資料\n",
    "scores = [85, 42, 73, 55, 90, 68, 47, 81, 64]\n",
    "print(\"原始成績：\", scores)"
   ]
  },
  {
   "cell_type": "markdown",
   "metadata": {},
   "source": [
    "### 解法 1：傳統迴圈"
   ]
  },
  {
   "cell_type": "code",
   "execution_count": null,
   "metadata": {},
   "outputs": [],
   "source": [
    "# 傳統迴圈實作\n",
    "passing_scores_loop = []\n",
    "for score in scores:\n",
    "    if score >= 60:  # 篩選及格成績\n",
    "        passing_scores_loop.append(score + 5)  # 加 5 分\n",
    "\n",
    "print(\"傳統迴圈結果：\", passing_scores_loop)"
   ]
  },
  {
   "cell_type": "markdown",
   "metadata": {},
   "source": [
    "### 解法 2：列表推導式"
   ]
  },
  {
   "cell_type": "code",
   "execution_count": null,
   "metadata": {},
   "outputs": [],
   "source": [
    "# 列表推導式實作\n",
    "passing_scores_comp = [score + 5 for score in scores if score >= 60]\n",
    "\n",
    "print(\"推導式結果：  \", passing_scores_comp)"
   ]
  },
  {
   "cell_type": "markdown",
   "metadata": {},
   "source": [
    "### 測試驗證"
   ]
  },
  {
   "cell_type": "code",
   "execution_count": null,
   "metadata": {},
   "outputs": [],
   "source": [
    "# 驗證結果相同\n",
    "print(\"結果相同：\", passing_scores_loop == passing_scores_comp)\n",
    "\n",
    "# 詳細對照\n",
    "print(\"\\n原始成績 → 及格成績（+5分）：\")\n",
    "for original, boosted in zip([s for s in scores if s >= 60], passing_scores_comp):\n",
    "    print(f\"  {original} → {boosted}\")"
   ]
  },
  {
   "cell_type": "markdown",
   "metadata": {},
   "source": [
    "### 重點說明\n",
    "\n",
    "1. **語法結構**：`[expression for item in iterable if condition]`\n",
    "   - `score + 5`：表達式（對元素做什麼）\n",
    "   - `for score in scores`：迭代來源\n",
    "   - `if score >= 60`：篩選條件\n",
    "\n",
    "2. **執行順序**：\n",
    "   - 從 `scores` 取出每個 `score`\n",
    "   - 檢查 `score >= 60`\n",
    "   - 如果通過，計算 `score + 5` 並加入結果\n",
    "\n",
    "3. **優勢**：\n",
    "   - 1 行 vs 4 行程式碼\n",
    "   - 語義清晰（「取出及格成績，每個加 5」）\n",
    "   - 效能更好（內部優化）"
   ]
  },
  {
   "cell_type": "markdown",
   "metadata": {},
   "source": [
    "---\n",
    "\n",
    "## 範例 2：學生成績字典建立\n",
    "\n",
    "### 問題描述\n",
    "有兩個列表：學生姓名列表和成績列表。需要建立一個字典，將姓名與成績對應起來，但只保留及格（>=60分）的學生。\n",
    "\n",
    "### 需求分析\n",
    "1. 輸入：姓名列表、成績列表\n",
    "2. 配對：使用 `zip()` 將姓名與成績配對\n",
    "3. 篩選：只保留及格的學生\n",
    "4. 輸出：{姓名: 成績} 字典"
   ]
  },
  {
   "cell_type": "code",
   "execution_count": null,
   "metadata": {},
   "outputs": [],
   "source": [
    "# 測試資料\n",
    "names = ['Alice', 'Bob', 'Charlie', 'David', 'Emma', 'Frank']\n",
    "scores = [85, 42, 73, 55, 90, 68]\n",
    "\n",
    "print(\"學生姓名：\", names)\n",
    "print(\"學生成績：\", scores)"
   ]
  },
  {
   "cell_type": "markdown",
   "metadata": {},
   "source": [
    "### 解法 1：傳統迴圈"
   ]
  },
  {
   "cell_type": "code",
   "execution_count": null,
   "metadata": {},
   "outputs": [],
   "source": [
    "# 傳統迴圈實作\n",
    "student_dict_loop = {}\n",
    "for name, score in zip(names, scores):\n",
    "    if score >= 60:  # 只保留及格學生\n",
    "        student_dict_loop[name] = score\n",
    "\n",
    "print(\"傳統迴圈結果：\", student_dict_loop)"
   ]
  },
  {
   "cell_type": "markdown",
   "metadata": {},
   "source": [
    "### 解法 2：字典推導式"
   ]
  },
  {
   "cell_type": "code",
   "execution_count": null,
   "metadata": {},
   "outputs": [],
   "source": [
    "# 字典推導式實作\n",
    "student_dict_comp = {name: score for name, score in zip(names, scores) if score >= 60}\n",
    "\n",
    "print(\"推導式結果：  \", student_dict_comp)"
   ]
  },
  {
   "cell_type": "markdown",
   "metadata": {},
   "source": [
    "### 測試驗證"
   ]
  },
  {
   "cell_type": "code",
   "execution_count": null,
   "metadata": {},
   "outputs": [],
   "source": [
    "# 驗證結果相同\n",
    "print(\"結果相同：\", student_dict_loop == student_dict_comp)\n",
    "\n",
    "# 詳細輸出\n",
    "print(\"\\n及格學生名單：\")\n",
    "for name, score in student_dict_comp.items():\n",
    "    print(f\"  {name}: {score}分\")\n",
    "\n",
    "print(f\"\\n總共 {len(student_dict_comp)} 位學生及格\")"
   ]
  },
  {
   "cell_type": "markdown",
   "metadata": {},
   "source": [
    "### 進階應用：成績等級字典"
   ]
  },
  {
   "cell_type": "code",
   "execution_count": null,
   "metadata": {},
   "outputs": [],
   "source": [
    "# 使用條件表達式建立成績等級字典\n",
    "def get_grade(score):\n",
    "    if score >= 90:\n",
    "        return 'A'\n",
    "    elif score >= 80:\n",
    "        return 'B'\n",
    "    elif score >= 70:\n",
    "        return 'C'\n",
    "    elif score >= 60:\n",
    "        return 'D'\n",
    "    else:\n",
    "        return 'F'\n",
    "\n",
    "# 字典推導式 + 函數呼叫\n",
    "grade_dict = {name: get_grade(score) for name, score in zip(names, scores)}\n",
    "\n",
    "print(\"成績等級：\", grade_dict)"
   ]
  },
  {
   "cell_type": "markdown",
   "metadata": {},
   "source": [
    "### 重點說明\n",
    "\n",
    "1. **字典推導式語法**：`{key: value for item in iterable if condition}`\n",
    "   - 必須同時提供 key 和 value（用冒號分隔）\n",
    "   - 可以使用 `zip()` 同時迭代多個列表\n",
    "\n",
    "2. **`zip()` 函數**：\n",
    "   - 將多個可迭代物件配對\n",
    "   - `zip(names, scores)` → `[('Alice', 85), ('Bob', 42), ...]`\n",
    "\n",
    "3. **實用技巧**：\n",
    "   - 推導式中可以呼叫函數（如 `get_grade(score)`）\n",
    "   - 適合快速建立映射關係"
   ]
  },
  {
   "cell_type": "markdown",
   "metadata": {},
   "source": [
    "---\n",
    "\n",
    "## 範例 3：矩陣轉置\n",
    "\n",
    "### 問題描述\n",
    "給定一個 3x4 的矩陣（二維列表），需要將其轉置為 4x3 矩陣。\n",
    "\n",
    "### 需求分析\n",
    "1. 輸入：3x4 矩陣（3 列 4 行）\n",
    "2. 轉置：第 i 列第 j 行 → 第 j 列第 i 行\n",
    "3. 輸出：4x3 矩陣（4 列 3 行）\n",
    "\n",
    "**範例**：\n",
    "```\n",
    "原始矩陣：          轉置矩陣：\n",
    "[1, 2, 3, 4]       [1, 5, 9]\n",
    "[5, 6, 7, 8]  →    [2, 6, 10]\n",
    "[9, 10, 11, 12]    [3, 7, 11]\n",
    "                   [4, 8, 12]\n",
    "```"
   ]
  },
  {
   "cell_type": "code",
   "execution_count": null,
   "metadata": {},
   "outputs": [],
   "source": [
    "# 測試資料\n",
    "matrix = [\n",
    "    [1, 2, 3, 4],\n",
    "    [5, 6, 7, 8],\n",
    "    [9, 10, 11, 12]\n",
    "]\n",
    "\n",
    "print(\"原始矩陣（3x4）：\")\n",
    "for row in matrix:\n",
    "    print(row)"
   ]
  },
  {
   "cell_type": "markdown",
   "metadata": {},
   "source": [
    "### 解法 1：傳統迴圈"
   ]
  },
  {
   "cell_type": "code",
   "execution_count": null,
   "metadata": {},
   "outputs": [],
   "source": [
    "# 傳統迴圈實作\n",
    "transposed_loop = []\n",
    "for j in range(4):  # 新矩陣有 4 列\n",
    "    new_row = []\n",
    "    for i in range(3):  # 每列有 3 個元素\n",
    "        new_row.append(matrix[i][j])\n",
    "    transposed_loop.append(new_row)\n",
    "\n",
    "print(\"\\n傳統迴圈結果（4x3）：\")\n",
    "for row in transposed_loop:\n",
    "    print(row)"
   ]
  },
  {
   "cell_type": "markdown",
   "metadata": {},
   "source": [
    "### 解法 2：巢狀列表推導式"
   ]
  },
  {
   "cell_type": "code",
   "execution_count": null,
   "metadata": {},
   "outputs": [],
   "source": [
    "# 巢狀列表推導式實作\n",
    "transposed_comp = [[matrix[i][j] for i in range(3)] for j in range(4)]\n",
    "\n",
    "print(\"推導式結果（4x3）：\")\n",
    "for row in transposed_comp:\n",
    "    print(row)"
   ]
  },
  {
   "cell_type": "markdown",
   "metadata": {},
   "source": [
    "### 解法 3：使用 `zip()` 的優雅解法"
   ]
  },
  {
   "cell_type": "code",
   "execution_count": null,
   "metadata": {},
   "outputs": [],
   "source": [
    "# 使用 zip() + * 解包（最 Pythonic 的方式）\n",
    "transposed_zip = [list(row) for row in zip(*matrix)]\n",
    "\n",
    "print(\"zip() 解法結果（4x3）：\")\n",
    "for row in transposed_zip:\n",
    "    print(row)"
   ]
  },
  {
   "cell_type": "markdown",
   "metadata": {},
   "source": [
    "### 測試驗證"
   ]
  },
  {
   "cell_type": "code",
   "execution_count": null,
   "metadata": {},
   "outputs": [],
   "source": [
    "# 驗證所有解法結果相同\n",
    "print(\"所有解法結果相同：\", transposed_loop == transposed_comp == transposed_zip)\n",
    "\n",
    "# 驗證矩陣維度\n",
    "print(f\"\\n原始矩陣維度：{len(matrix)} x {len(matrix[0])}\")\n",
    "print(f\"轉置矩陣維度：{len(transposed_comp)} x {len(transposed_comp[0])}\")"
   ]
  },
  {
   "cell_type": "markdown",
   "metadata": {},
   "source": [
    "### 重點說明\n",
    "\n",
    "1. **巢狀推導式的順序**：\n",
    "   ```python\n",
    "   [[matrix[i][j] for i in range(3)] for j in range(4)]\n",
    "   #  ↑ 內層（生成每一列）    ↑ 外層（生成多列）\n",
    "   ```\n",
    "   - 外層 `for j in range(4)`：生成 4 個元素（4 列）\n",
    "   - 內層 `for i in range(3)`：每個元素是一個包含 3 個元素的列表\n",
    "\n",
    "2. **`zip(*matrix)` 解法**：\n",
    "   - `*matrix` 解包：`zip([1,2,3,4], [5,6,7,8], [9,10,11,12])`\n",
    "   - `zip()` 配對：`[(1,5,9), (2,6,10), (3,7,11), (4,8,12)]`\n",
    "   - 最優雅的矩陣轉置方式！\n",
    "\n",
    "3. **可讀性權衡**：\n",
    "   - 簡單矩陣：使用 `zip(*matrix)` 最優雅\n",
    "   - 需要複雜處理：使用傳統迴圈更清晰"
   ]
  },
  {
   "cell_type": "markdown",
   "metadata": {},
   "source": [
    "---\n",
    "\n",
    "## 範例 4：單字出現次數統計\n",
    "\n",
    "### 問題描述\n",
    "給定一段文字，統計每個單字出現的次數，但只保留出現次數大於 1 的單字。\n",
    "\n",
    "### 需求分析\n",
    "1. 輸入：一段英文文字\n",
    "2. 分割：將文字切分為單字列表\n",
    "3. 統計：計算每個單字出現次數\n",
    "4. 篩選：只保留出現次數 > 1 的單字\n",
    "5. 輸出：{單字: 次數} 字典"
   ]
  },
  {
   "cell_type": "code",
   "execution_count": null,
   "metadata": {},
   "outputs": [],
   "source": [
    "# 測試資料\n",
    "text = \"python is great python is simple python is powerful simple is good\"\n",
    "words = text.split()\n",
    "\n",
    "print(\"原始文字：\", text)\n",
    "print(\"單字列表：\", words)"
   ]
  },
  {
   "cell_type": "markdown",
   "metadata": {},
   "source": [
    "### 解法 1：傳統迴圈"
   ]
  },
  {
   "cell_type": "code",
   "execution_count": null,
   "metadata": {},
   "outputs": [],
   "source": [
    "# 步驟 1：統計所有單字次數\n",
    "word_count_all = {}\n",
    "for word in words:\n",
    "    if word in word_count_all:\n",
    "        word_count_all[word] += 1\n",
    "    else:\n",
    "        word_count_all[word] = 1\n",
    "\n",
    "print(\"所有單字次數：\", word_count_all)\n",
    "\n",
    "# 步驟 2：篩選出現次數 > 1 的單字\n",
    "word_count_loop = {}\n",
    "for word, count in word_count_all.items():\n",
    "    if count > 1:\n",
    "        word_count_loop[word] = count\n",
    "\n",
    "print(\"出現多次的單字：\", word_count_loop)"
   ]
  },
  {
   "cell_type": "markdown",
   "metadata": {},
   "source": [
    "### 解法 2：字典推導式"
   ]
  },
  {
   "cell_type": "code",
   "execution_count": null,
   "metadata": {},
   "outputs": [],
   "source": [
    "# 使用字典推導式篩選\n",
    "word_count_comp = {word: count for word, count in word_count_all.items() if count > 1}\n",
    "\n",
    "print(\"推導式結果：\", word_count_comp)"
   ]
  },
  {
   "cell_type": "markdown",
   "metadata": {},
   "source": [
    "### 解法 3：集合推導式 + 字典推導式（完整一行）"
   ]
  },
  {
   "cell_type": "code",
   "execution_count": null,
   "metadata": {},
   "outputs": [],
   "source": [
    "# 完全使用推導式（進階技巧）\n",
    "word_count_advanced = {word: words.count(word) for word in set(words) if words.count(word) > 1}\n",
    "\n",
    "print(\"進階推導式結果：\", word_count_advanced)"
   ]
  },
  {
   "cell_type": "markdown",
   "metadata": {},
   "source": [
    "### 解法 4：使用 `collections.Counter`（最佳實踐）"
   ]
  },
  {
   "cell_type": "code",
   "execution_count": null,
   "metadata": {},
   "outputs": [],
   "source": [
    "from collections import Counter\n",
    "\n",
    "# 使用 Counter + 字典推導式\n",
    "word_count_counter = Counter(words)\n",
    "word_count_final = {word: count for word, count in word_count_counter.items() if count > 1}\n",
    "\n",
    "print(\"Counter 結果：\", word_count_final)"
   ]
  },
  {
   "cell_type": "markdown",
   "metadata": {},
   "source": [
    "### 測試驗證"
   ]
  },
  {
   "cell_type": "code",
   "execution_count": null,
   "metadata": {},
   "outputs": [],
   "source": [
    "# 驗證所有解法結果相同\n",
    "print(\"所有解法結果相同：\", word_count_loop == word_count_comp == word_count_advanced == word_count_final)\n",
    "\n",
    "# 按出現次數排序顯示\n",
    "print(\"\\n按出現次數排序：\")\n",
    "for word, count in sorted(word_count_final.items(), key=lambda x: x[1], reverse=True):\n",
    "    print(f\"  {word}: {count} 次\")"
   ]
  },
  {
   "cell_type": "markdown",
   "metadata": {},
   "source": [
    "### 重點說明\n",
    "\n",
    "1. **字典推導式的篩選**：\n",
    "   ```python\n",
    "   {word: count for word, count in dict.items() if count > 1}\n",
    "   ```\n",
    "   - 使用 `.items()` 取得鍵值對\n",
    "   - `if` 條件篩選符合條件的項目\n",
    "\n",
    "2. **效能考量**：\n",
    "   - `words.count(word)`：每次都掃描整個列表，O(n) × O(n) = O(n²)\n",
    "   - `Counter(words)`：只掃描一次，O(n)\n",
    "   - 結論：**使用 `Counter` 是最佳實踐**\n",
    "\n",
    "3. **可讀性 vs 效能**：\n",
    "   - ✓ 推薦：`Counter` + 字典推導式（清晰 + 高效）\n",
    "   - ⚠️ 不推薦：`{word: words.count(word) for word in set(words)}`（效能差）"
   ]
  },
  {
   "cell_type": "markdown",
   "metadata": {},
   "source": [
    "---\n",
    "\n",
    "## 範例 5：大型數據處理（生成器 vs 列表）\n",
    "\n",
    "### 問題描述\n",
    "處理一個大型數字序列（100 萬個數字），找出所有完全平方數（如 1, 4, 9, 16, ...），並計算它們的總和。\n",
    "\n",
    "### 需求分析\n",
    "1. 輸入：0 到 1,000,000 的數字\n",
    "2. 篩選：找出完全平方數\n",
    "3. 計算：求總和\n",
    "4. 比較：列表推導式 vs 生成器表達式"
   ]
  },
  {
   "cell_type": "code",
   "execution_count": null,
   "metadata": {},
   "outputs": [],
   "source": [
    "import math\n",
    "\n",
    "# 判斷是否為完全平方數的函數\n",
    "def is_perfect_square(n):\n",
    "    \"\"\"檢查 n 是否為完全平方數\"\"\"\n",
    "    if n < 0:\n",
    "        return False\n",
    "    root = int(math.sqrt(n))\n",
    "    return root * root == n\n",
    "\n",
    "# 測試函數\n",
    "test_numbers = [1, 2, 4, 9, 10, 16, 25]\n",
    "print(\"完全平方數測試：\")\n",
    "for num in test_numbers:\n",
    "    print(f\"  {num}: {is_perfect_square(num)}\")"
   ]
  },
  {
   "cell_type": "markdown",
   "metadata": {},
   "source": [
    "### 解法 1：列表推導式"
   ]
  },
  {
   "cell_type": "code",
   "execution_count": null,
   "metadata": {},
   "outputs": [],
   "source": [
    "import time\n",
    "import sys\n",
    "\n",
    "# 使用列表推導式\n",
    "start_time = time.time()\n",
    "perfect_squares_list = [n for n in range(1000000) if is_perfect_square(n)]\n",
    "total_list = sum(perfect_squares_list)\n",
    "list_time = time.time() - start_time\n",
    "\n",
    "print(f\"列表推導式：\")\n",
    "print(f\"  找到 {len(perfect_squares_list)} 個完全平方數\")\n",
    "print(f\"  總和：{total_list}\")\n",
    "print(f\"  執行時間：{list_time:.4f} 秒\")\n",
    "print(f\"  記憶體使用：{sys.getsizeof(perfect_squares_list):,} bytes\")"
   ]
  },
  {
   "cell_type": "markdown",
   "metadata": {},
   "source": [
    "### 解法 2：生成器表達式"
   ]
  },
  {
   "cell_type": "code",
   "execution_count": null,
   "metadata": {},
   "outputs": [],
   "source": [
    "# 使用生成器表達式\n",
    "start_time = time.time()\n",
    "perfect_squares_gen = (n for n in range(1000000) if is_perfect_square(n))\n",
    "total_gen = sum(perfect_squares_gen)\n",
    "gen_time = time.time() - start_time\n",
    "\n",
    "# 重新建立生成器以查看記憶體使用（因為已被耗盡）\n",
    "perfect_squares_gen_2 = (n for n in range(1000000) if is_perfect_square(n))\n",
    "\n",
    "print(f\"\\n生成器表達式：\")\n",
    "print(f\"  總和：{total_gen}\")\n",
    "print(f\"  執行時間：{gen_time:.4f} 秒\")\n",
    "print(f\"  記憶體使用：{sys.getsizeof(perfect_squares_gen_2):,} bytes\")"
   ]
  },
  {
   "cell_type": "markdown",
   "metadata": {},
   "source": [
    "### 效能比較"
   ]
  },
  {
   "cell_type": "code",
   "execution_count": null,
   "metadata": {},
   "outputs": [],
   "source": [
    "# 比較結果\n",
    "print(\"\\n效能比較：\")\n",
    "print(f\"  總和相同：{total_list == total_gen}\")\n",
    "print(f\"  時間差異：生成器比列表快 {abs(list_time - gen_time):.4f} 秒\")\n",
    "\n",
    "# 記憶體比較\n",
    "list_memory = sys.getsizeof(perfect_squares_list)\n",
    "gen_memory = sys.getsizeof(perfect_squares_gen_2)\n",
    "memory_saved = (list_memory - gen_memory) / list_memory * 100\n",
    "\n",
    "print(f\"\\n記憶體使用：\")\n",
    "print(f\"  列表：{list_memory:,} bytes\")\n",
    "print(f\"  生成器：{gen_memory:,} bytes\")\n",
    "print(f\"  節省：{memory_saved:.2f}%\")"
   ]
  },
  {
   "cell_type": "markdown",
   "metadata": {},
   "source": [
    "### 視覺化比較"
   ]
  },
  {
   "cell_type": "code",
   "execution_count": null,
   "metadata": {},
   "outputs": [],
   "source": [
    "# 簡單的視覺化比較\n",
    "print(\"\\n視覺化記憶體使用：\")\n",
    "print(f\"列表推導式：{'█' * 50}\")\n",
    "print(f\"生成器表達式：█\")\n",
    "\n",
    "print(\"\\n前 20 個完全平方數：\")\n",
    "print(perfect_squares_list[:20])"
   ]
  },
  {
   "cell_type": "markdown",
   "metadata": {},
   "source": [
    "### 重點說明\n",
    "\n",
    "1. **生成器的優勢**：\n",
    "   - **記憶體效率**：不預先建立所有元素，節省 99%+ 記憶體\n",
    "   - **惰性求值**：需要時才計算，適合大型資料\n",
    "   - **流式處理**：可以處理無限序列\n",
    "\n",
    "2. **何時使用生成器**：\n",
    "   - ✓ 只需迭代一次（如 `sum()`, `max()`, `min()`）\n",
    "   - ✓ 資料量非常大\n",
    "   - ✓ 不需要索引存取\n",
    "\n",
    "3. **何時使用列表**：\n",
    "   - ✓ 需要多次迭代\n",
    "   - ✓ 需要索引存取（`lst[i]`）\n",
    "   - ✓ 需要切片操作（`lst[start:end]`）\n",
    "   - ✓ 資料量不大\n",
    "\n",
    "4. **最佳實踐**：\n",
    "   ```python\n",
    "   # 只需計算總和 → 使用生成器\n",
    "   total = sum(n for n in range(1000000) if is_perfect_square(n))\n",
    "   \n",
    "   # 需要多次使用 → 使用列表\n",
    "   squares = [n for n in range(1000) if is_perfect_square(n)]\n",
    "   total = sum(squares)\n",
    "   avg = sum(squares) / len(squares)\n",
    "   ```"
   ]
  },
  {
   "cell_type": "markdown",
   "metadata": {},
   "source": [
    "---\n",
    "\n",
    "## 📝 本章總結\n",
    "\n",
    "### 五個範例回顧\n",
    "\n",
    "| 範例 | 主題 | 關鍵技巧 |\n",
    "|:-----|:-----|:---------|\n",
    "| 1 | 成績篩選 | 列表推導式 + 條件篩選 |\n",
    "| 2 | 字典建立 | 字典推導式 + `zip()` |\n",
    "| 3 | 矩陣轉置 | 巢狀推導式 + `zip(*matrix)` |\n",
    "| 4 | 單字統計 | 字典推導式 + `Counter` |\n",
    "| 5 | 大型資料 | 生成器 vs 列表的記憶體效率 |\n",
    "\n",
    "### 核心概念\n",
    "\n",
    "1. **推導式的本質**：簡潔地表達「從集合 A 轉換/篩選為集合 B」\n",
    "2. **可讀性優先**：當推導式讓程式碼更難理解時，使用傳統迴圈\n",
    "3. **效能考量**：生成器適合大型資料、一次性迭代\n",
    "\n",
    "---\n",
    "\n",
    "## ✅ 自我檢核\n",
    "\n",
    "完成這些範例後，你應該能夠：\n",
    "- [ ] 使用列表推導式進行資料篩選與轉換\n",
    "- [ ] 使用字典推導式建立映射關係\n",
    "- [ ] 理解巢狀推導式的執行順序\n",
    "- [ ] 選擇適當的推導式類型解決問題\n",
    "- [ ] 評估生成器與列表的使用時機\n",
    "\n",
    "---\n",
    "\n",
    "**下一步**：\n",
    "- `03-practice.ipynb` - 課堂練習\n",
    "- `04-exercises.ipynb` - 課後習題"
   ]
  }
 ],
 "metadata": {
  "kernelspec": {
   "display_name": "Python 3",
   "language": "python",
   "name": "python3"
  },
  "language_info": {
   "name": "python",
   "version": "3.11.0"
  }
 },
 "nbformat": 4,
 "nbformat_minor": 4
}
