{
 "cells": [
  {
   "cell_type": "markdown",
   "metadata": {},
   "source": [
    "# Chapter 11: 推導式與生成器 - 課堂練習\n",
    "\n",
    "## 🛠️ Practice Exercises（課堂練習）\n",
    "\n",
    "**學習時數**：40 分鐘  \n",
    "**題目數量**：12 題\n",
    "\n",
    "---\n",
    "\n",
    "## 練習說明\n",
    "\n",
    "- 每題都包含題目要求和測試案例\n",
    "- 請在 `# 請在此處寫下你的程式碼` 下方完成程式碼\n",
    "- 執行測試案例以驗證你的答案\n",
    "- 難度由淺入深：基礎 (1-4)、進階 (5-9)、挑戰 (10-12)\n",
    "\n",
    "---\n",
    "\n",
    "## Part I: 基礎題（4 題）"
   ]
  },
  {
   "cell_type": "markdown",
   "metadata": {},
   "source": [
    "### 練習 1：建立平方數列表\n",
    "\n",
    "**題目**：使用列表推導式建立一個包含 1-20 平方數的列表。\n",
    "\n",
    "**預期輸出**：`[1, 4, 9, 16, 25, ..., 400]`"
   ]
  },
  {
   "cell_type": "code",
   "execution_count": null,
   "metadata": {},
   "outputs": [],
   "source": [
    "# 請在此處寫下你的程式碼\n",
    "squares = \n",
    "\n",
    "# 測試\n",
    "print(squares)\n",
    "assert squares == [i**2 for i in range(1, 21)]\n",
    "assert len(squares) == 20\n",
    "print(\"✓ 測試通過！\")"
   ]
  },
  {
   "cell_type": "markdown",
   "metadata": {},
   "source": [
    "### 練習 2：篩選奇數\n",
    "\n",
    "**題目**：從 0-50 中篩選出所有奇數，使用列表推導式。\n",
    "\n",
    "**預期輸出**：`[1, 3, 5, 7, 9, ..., 49]`"
   ]
  },
  {
   "cell_type": "code",
   "execution_count": null,
   "metadata": {},
   "outputs": [],
   "source": [
    "# 請在此處寫下你的程式碼\n",
    "odd_numbers = \n",
    "\n",
    "# 測試\n",
    "print(odd_numbers[:10])  # 顯示前 10 個\n",
    "assert all(n % 2 == 1 for n in odd_numbers)\n",
    "assert len(odd_numbers) == 25\n",
    "print(\"✓ 測試通過！\")"
   ]
  },
  {
   "cell_type": "markdown",
   "metadata": {},
   "source": [
    "### 練習 3：字串大寫轉換\n",
    "\n",
    "**題目**：將以下水果名稱列表轉換為大寫，使用列表推導式。"
   ]
  },
  {
   "cell_type": "code",
   "execution_count": null,
   "metadata": {},
   "outputs": [],
   "source": [
    "fruits = ['apple', 'banana', 'cherry', 'date', 'elderberry']\n",
    "\n",
    "# 請在此處寫下你的程式碼\n",
    "upper_fruits = \n",
    "\n",
    "# 測試\n",
    "print(upper_fruits)\n",
    "assert upper_fruits == ['APPLE', 'BANANA', 'CHERRY', 'DATE', 'ELDERBERRY']\n",
    "print(\"✓ 測試通過！\")"
   ]
  },
  {
   "cell_type": "markdown",
   "metadata": {},
   "source": [
    "### 練習 4：建立數字與平方的字典\n",
    "\n",
    "**題目**：建立一個字典，鍵是 1-10，值是對應的平方數，使用字典推導式。\n",
    "\n",
    "**預期輸出**：`{1: 1, 2: 4, 3: 9, ..., 10: 100}`"
   ]
  },
  {
   "cell_type": "code",
   "execution_count": null,
   "metadata": {},
   "outputs": [],
   "source": [
    "# 請在此處寫下你的程式碼\n",
    "square_dict = \n",
    "\n",
    "# 測試\n",
    "print(square_dict)\n",
    "assert square_dict[5] == 25\n",
    "assert len(square_dict) == 10\n",
    "print(\"✓ 測試通過！\")"
   ]
  },
  {
   "cell_type": "markdown",
   "metadata": {},
   "source": [
    "---\n",
    "\n",
    "## Part II: 進階題（5 題）"
   ]
  },
  {
   "cell_type": "markdown",
   "metadata": {},
   "source": [
    "### 練習 5：條件表達式 - 及格標記\n",
    "\n",
    "**題目**：有一個成績列表，將及格（>=60）的成績保留，不及格的改為 0，使用列表推導式。"
   ]
  },
  {
   "cell_type": "code",
   "execution_count": null,
   "metadata": {},
   "outputs": [],
   "source": [
    "scores = [85, 42, 73, 55, 90, 68, 47, 81, 64, 38]\n",
    "\n",
    "# 請在此處寫下你的程式碼\n",
    "processed_scores = \n",
    "\n",
    "# 測試\n",
    "print(processed_scores)\n",
    "assert processed_scores == [85, 0, 73, 0, 90, 68, 0, 81, 64, 0]\n",
    "print(\"✓ 測試通過！\")"
   ]
  },
  {
   "cell_type": "markdown",
   "metadata": {},
   "source": [
    "### 練習 6：篩選長字串\n",
    "\n",
    "**題目**：從單字列表中篩選出長度大於 5 的單字，使用列表推導式。"
   ]
  },
  {
   "cell_type": "code",
   "execution_count": null,
   "metadata": {},
   "outputs": [],
   "source": [
    "words = ['python', 'is', 'awesome', 'and', 'powerful', 'language']\n",
    "\n",
    "# 請在此處寫下你的程式碼\n",
    "long_words = \n",
    "\n",
    "# 測試\n",
    "print(long_words)\n",
    "assert long_words == ['python', 'awesome', 'powerful', 'language']\n",
    "print(\"✓ 測試通過！\")"
   ]
  },
  {
   "cell_type": "markdown",
   "metadata": {},
   "source": [
    "### 練習 7：建立姓名成績字典\n",
    "\n",
    "**題目**：給定姓名和成績兩個列表，建立字典將它們配對，使用字典推導式和 `zip()`。"
   ]
  },
  {
   "cell_type": "code",
   "execution_count": null,
   "metadata": {},
   "outputs": [],
   "source": [
    "names = ['Alice', 'Bob', 'Charlie', 'David']\n",
    "scores = [85, 92, 78, 88]\n",
    "\n",
    "# 請在此處寫下你的程式碼\n",
    "student_scores = \n",
    "\n",
    "# 測試\n",
    "print(student_scores)\n",
    "assert student_scores['Bob'] == 92\n",
    "assert len(student_scores) == 4\n",
    "print(\"✓ 測試通過！\")"
   ]
  },
  {
   "cell_type": "markdown",
   "metadata": {},
   "source": [
    "### 練習 8：集合推導式去重\n",
    "\n",
    "**題目**：有一個包含重複元素的列表，使用集合推導式去除重複並找出所有唯一值。"
   ]
  },
  {
   "cell_type": "code",
   "execution_count": null,
   "metadata": {},
   "outputs": [],
   "source": [
    "numbers = [1, 2, 2, 3, 3, 3, 4, 4, 4, 4, 5, 5, 5, 5, 5]\n",
    "\n",
    "# 請在此處寫下你的程式碼\n",
    "unique_numbers = \n",
    "\n",
    "# 測試\n",
    "print(sorted(unique_numbers))\n",
    "assert unique_numbers == {1, 2, 3, 4, 5}\n",
    "print(\"✓ 測試通過！\")"
   ]
  },
  {
   "cell_type": "markdown",
   "metadata": {},
   "source": [
    "### 練習 9：FizzBuzz 列表\n",
    "\n",
    "**題目**：建立 1-30 的 FizzBuzz 列表：\n",
    "- 3 的倍數顯示 'Fizz'\n",
    "- 5 的倍數顯示 'Buzz'\n",
    "- 15 的倍數顯示 'FizzBuzz'\n",
    "- 其他顯示數字本身\n",
    "\n",
    "使用列表推導式和條件表達式。"
   ]
  },
  {
   "cell_type": "code",
   "execution_count": null,
   "metadata": {},
   "outputs": [],
   "source": [
    "# 請在此處寫下你的程式碼\n",
    "fizzbuzz = \n",
    "\n",
    "# 測試\n",
    "print(fizzbuzz[:15])\n",
    "assert fizzbuzz[14] == 'FizzBuzz'  # 15 是 3 和 5 的倍數\n",
    "assert fizzbuzz[2] == 'Fizz'  # 3 是 3 的倍數\n",
    "assert fizzbuzz[4] == 'Buzz'  # 5 是 5 的倍數\n",
    "assert fizzbuzz[0] == 1  # 1 不是倍數\n",
    "print(\"✓ 測試通過！\")"
   ]
  },
  {
   "cell_type": "markdown",
   "metadata": {},
   "source": [
    "---\n",
    "\n",
    "## Part III: 挑戰題（3 題）"
   ]
  },
  {
   "cell_type": "markdown",
   "metadata": {},
   "source": [
    "### 練習 10：巢狀推導式 - 建立乘法表\n",
    "\n",
    "**題目**：使用巢狀列表推導式建立 5x5 的九九乘法表。\n",
    "\n",
    "**預期輸出**：\n",
    "```\n",
    "[[1, 2, 3, 4, 5],\n",
    " [2, 4, 6, 8, 10],\n",
    " [3, 6, 9, 12, 15],\n",
    " [4, 8, 12, 16, 20],\n",
    " [5, 10, 15, 20, 25]]\n",
    "```"
   ]
  },
  {
   "cell_type": "code",
   "execution_count": null,
   "metadata": {},
   "outputs": [],
   "source": [
    "# 請在此處寫下你的程式碼\n",
    "multiplication_table = \n",
    "\n",
    "# 測試\n",
    "for row in multiplication_table:\n",
    "    print(row)\n",
    "assert multiplication_table[2][3] == 12  # 3 * 4 = 12\n",
    "assert len(multiplication_table) == 5\n",
    "assert len(multiplication_table[0]) == 5\n",
    "print(\"✓ 測試通過！\")"
   ]
  },
  {
   "cell_type": "markdown",
   "metadata": {},
   "source": [
    "### 練習 11：字典推導式 - 字母頻率統計\n",
    "\n",
    "**題目**：統計一段文字中每個字母（不分大小寫）出現的次數，只保留出現次數 >= 2 的字母。\n",
    "\n",
    "**提示**：\n",
    "1. 將文字轉為小寫\n",
    "2. 只計算字母（使用 `isalpha()`）\n",
    "3. 使用字典推導式篩選出現次數 >= 2 的字母"
   ]
  },
  {
   "cell_type": "code",
   "execution_count": null,
   "metadata": {},
   "outputs": [],
   "source": [
    "text = \"Hello World! Python Programming is Fun\"\n",
    "\n",
    "# 請在此處寫下你的程式碼\n",
    "# 步驟 1: 取得所有字母（小寫）\n",
    "letters = \n",
    "\n",
    "# 步驟 2: 統計每個字母出現次數（提示：可以使用 Counter 或推導式）\n",
    "letter_count = \n",
    "\n",
    "# 步驟 3: 篩選出現次數 >= 2 的字母\n",
    "frequent_letters = \n",
    "\n",
    "# 測試\n",
    "print(frequent_letters)\n",
    "assert 'o' in frequent_letters\n",
    "assert frequent_letters['o'] >= 2\n",
    "print(\"✓ 測試通過！\")"
   ]
  },
  {
   "cell_type": "markdown",
   "metadata": {},
   "source": [
    "### 練習 12：生成器表達式 - 計算偶數總和\n",
    "\n",
    "**題目**：使用生成器表達式（而非列表推導式）計算 1-1000 中所有偶數的總和。\n",
    "\n",
    "**要求**：必須使用生成器表達式，並驗證記憶體使用較小。"
   ]
  },
  {
   "cell_type": "code",
   "execution_count": null,
   "metadata": {},
   "outputs": [],
   "source": [
    "import sys\n",
    "\n",
    "# 請在此處寫下你的程式碼\n",
    "# 方法 1：使用列表推導式\n",
    "even_list = \n",
    "sum_list = sum(even_list)\n",
    "memory_list = sys.getsizeof(even_list)\n",
    "\n",
    "# 方法 2：使用生成器表達式\n",
    "even_gen = \n",
    "sum_gen = sum(even_gen)\n",
    "even_gen_2 = (i for i in range(1, 1001) if i % 2 == 0)  # 重新建立以測量記憶體\n",
    "memory_gen = sys.getsizeof(even_gen_2)\n",
    "\n",
    "# 測試\n",
    "print(f\"列表總和：{sum_list}\")\n",
    "print(f\"生成器總和：{sum_gen}\")\n",
    "print(f\"列表記憶體：{memory_list} bytes\")\n",
    "print(f\"生成器記憶體：{memory_gen} bytes\")\n",
    "print(f\"記憶體節省：{(memory_list - memory_gen) / memory_list * 100:.2f}%\")\n",
    "\n",
    "assert sum_list == sum_gen == 250500\n",
    "assert memory_gen < memory_list\n",
    "print(\"✓ 測試通過！\")"
   ]
  },
  {
   "cell_type": "markdown",
   "metadata": {},
   "source": [
    "---\n",
    "\n",
    "## 📝 練習總結\n",
    "\n",
    "### 知識點回顧\n",
    "\n",
    "| 練習題 | 主題 | 難度 |\n",
    "|:------|:-----|:-----|\n",
    "| 1-4 | 基本推導式語法 | ⭐ |\n",
    "| 5-6 | 條件篩選與表達式 | ⭐⭐ |\n",
    "| 7-9 | 字典與集合推導式 | ⭐⭐ |\n",
    "| 10-11 | 巢狀推導式、實用應用 | ⭐⭐⭐ |\n",
    "| 12 | 生成器表達式 | ⭐⭐⭐ |\n",
    "\n",
    "### 自我檢核\n",
    "\n",
    "完成這些練習後，你應該能夠：\n",
    "- [ ] 熟練使用列表推導式\n",
    "- [ ] 區分條件篩選與條件表達式\n",
    "- [ ] 使用字典推導式建立映射\n",
    "- [ ] 理解巢狀推導式的執行順序\n",
    "- [ ] 選擇生成器或列表推導式\n",
    "\n",
    "---\n",
    "\n",
    "## 下一步\n",
    "\n",
    "- 如果全部完成：前往 `04-exercises.ipynb` 挑戰更多題目\n",
    "- 如果遇到困難：回到 `01-lecture.ipynb` 複習概念\n",
    "- 查看解答：所有題目的詳細解答在 `05-solutions.ipynb`\n",
    "\n",
    "**加油！** 💪"
   ]
  }
 ],
 "metadata": {
  "kernelspec": {
   "display_name": "Python 3",
   "language": "python",
   "name": "python3"
  },
  "language_info": {
   "name": "python",
   "version": "3.11.0"
  }
 },
 "nbformat": 4,
 "nbformat_minor": 4
}
