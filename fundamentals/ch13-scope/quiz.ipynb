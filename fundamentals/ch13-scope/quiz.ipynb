{
 "cells": [
  {
   "cell_type": "markdown",
   "metadata": {},
   "source": [
    "# Chapter 13: 作用域與生命週期 - 自我測驗\n",
    "\n",
    "---\n",
    "\n",
    "## 測驗說明\n",
    "\n",
    "**題目數量**：25 題  \n",
    "**建議時間**：20 分鐘  \n",
    "**及格分數**：19/25 (75%)  \n",
    "\n",
    "**題型分布**：\n",
    "- 選擇題（單選）：15 題\n",
    "- 程式輸出預測：5 題\n",
    "- 程式填空：5 題\n",
    "\n",
    "**作答方式**：\n",
    "1. 選擇題：在心中選出答案或寫在紙上\n",
    "2. 程式輸出題：預測程式執行結果\n",
    "3. 程式填空題：在程式碼中填入正確內容\n",
    "4. 作答完畢後，對照最後的解答區\n",
    "\n",
    "---\n",
    "\n",
    "## Part I: 選擇題（Single Choice）\n",
    "\n",
    "每題 1 分，共 15 分"
   ]
  },
  {
   "cell_type": "markdown",
   "metadata": {},
   "source": [
    "### 第 1 題\n",
    "\n",
    "LEGB 規則中的「E」代表什麼？\n",
    "\n",
    "A. Error  \n",
    "B. Enclosing  \n",
    "C. External  \n",
    "D. Environment"
   ]
  },
  {
   "cell_type": "markdown",
   "metadata": {},
   "source": [
    "### 第 2 題\n",
    "\n",
    "Python 按照什麼順序查找變數？\n",
    "\n",
    "A. Built-in → Global → Enclosing → Local  \n",
    "B. Global → Local → Enclosing → Built-in  \n",
    "C. Local → Enclosing → Global → Built-in  \n",
    "D. Local → Global → Enclosing → Built-in"
   ]
  },
  {
   "cell_type": "markdown",
   "metadata": {},
   "source": [
    "### 第 3 題\n",
    "\n",
    "以下哪個變數屬於 Built-in 作用域？\n",
    "\n",
    "A. `my_var = 10`（模組層級）  \n",
    "B. `len`（Python 內建函式）  \n",
    "C. 函式內部定義的變數  \n",
    "D. 外層函式的變數"
   ]
  },
  {
   "cell_type": "markdown",
   "metadata": {},
   "source": [
    "### 第 4 題\n",
    "\n",
    "什麼情況下需要使用 `global` 關鍵字？\n",
    "\n",
    "A. 讀取全域變數  \n",
    "B. 修改全域變數  \n",
    "C. 定義全域變數  \n",
    "D. 刪除全域變數"
   ]
  },
  {
   "cell_type": "markdown",
   "metadata": {},
   "source": [
    "### 第 5 題\n",
    "\n",
    "`nonlocal` 關鍵字的作用是什麼？\n",
    "\n",
    "A. 修改模組層級的全域變數  \n",
    "B. 修改外層函式的變數  \n",
    "C. 創建新的區域變數  \n",
    "D. 刪除變數"
   ]
  },
  {
   "cell_type": "markdown",
   "metadata": {},
   "source": [
    "### 第 6 題\n",
    "\n",
    "以下程式碼會產生什麼錯誤？\n",
    "\n",
    "```python\n",
    "x = 10\n",
    "def func():\n",
    "    print(x)\n",
    "    x = 20\n",
    "func()\n",
    "```\n",
    "\n",
    "A. NameError  \n",
    "B. SyntaxError  \n",
    "C. UnboundLocalError  \n",
    "D. 沒有錯誤"
   ]
  },
  {
   "cell_type": "markdown",
   "metadata": {},
   "source": [
    "### 第 7 題\n",
    "\n",
    "閉包（Closure）必須滿足哪些條件？（選擇最完整的答案）\n",
    "\n",
    "A. 有巢狀函式  \n",
    "B. 內層函式引用外層變數  \n",
    "C. 外層函式回傳內層函式  \n",
    "D. 以上皆是"
   ]
  },
  {
   "cell_type": "markdown",
   "metadata": {},
   "source": [
    "### 第 8 題\n",
    "\n",
    "區域變數的生命週期是什麼？\n",
    "\n",
    "A. 從程式開始到結束  \n",
    "B. 從變數定義到程式結束  \n",
    "C. 從函式呼叫到函式執行完畢  \n",
    "D. 永久存在"
   ]
  },
  {
   "cell_type": "markdown",
   "metadata": {},
   "source": [
    "### 第 9 題\n",
    "\n",
    "以下哪個敘述是正確的？\n",
    "\n",
    "A. 函式內部不能訪問全域變數  \n",
    "B. 只讀取全域變數不需要 `global` 關鍵字  \n",
    "C. `nonlocal` 可以修改全域變數  \n",
    "D. 區域變數可以在函式外部訪問"
   ]
  },
  {
   "cell_type": "markdown",
   "metadata": {},
   "source": [
    "### 第 10 題\n",
    "\n",
    "閉包中被內層函式引用的外層變數稱為什麼？\n",
    "\n",
    "A. 全域變數  \n",
    "B. 區域變數  \n",
    "C. 自由變數（Free Variable）  \n",
    "D. 臨時變數"
   ]
  },
  {
   "cell_type": "markdown",
   "metadata": {},
   "source": [
    "### 第 11 題\n",
    "\n",
    "在巢狀函式中，如果內層和外層都定義了同名變數 `x`，內層函式訪問的是哪個？\n",
    "\n",
    "A. 外層的 `x`  \n",
    "B. 內層的 `x`  \n",
    "C. 全域的 `x`  \n",
    "D. 會產生錯誤"
   ]
  },
  {
   "cell_type": "markdown",
   "metadata": {},
   "source": [
    "### 第 12 題\n",
    "\n",
    "以下哪個是閉包的優勢？\n",
    "\n",
    "A. 封裝私有狀態  \n",
    "B. 每個閉包有獨立狀態  \n",
    "C. 狀態持久保存  \n",
    "D. 以上皆是"
   ]
  },
  {
   "cell_type": "markdown",
   "metadata": {},
   "source": [
    "### 第 13 題\n",
    "\n",
    "`global` 和 `nonlocal` 有什麼共同點？\n",
    "\n",
    "A. 都用於修改外層變數  \n",
    "B. 都必須在使用前宣告  \n",
    "C. 都可以用於全域變數  \n",
    "D. 都可以創建新變數"
   ]
  },
  {
   "cell_type": "markdown",
   "metadata": {},
   "source": [
    "### 第 14 題\n",
    "\n",
    "Python 在什麼時候判斷變數的作用域？\n",
    "\n",
    "A. 執行時（Runtime）  \n",
    "B. 編譯時（Compile time）  \n",
    "C. 變數賦值時  \n",
    "D. 函式呼叫時"
   ]
  },
  {
   "cell_type": "markdown",
   "metadata": {},
   "source": [
    "### 第 15 題\n",
    "\n",
    "以下哪個情況應該避免使用 `global`？\n",
    "\n",
    "A. 配置常數的初始化  \n",
    "B. 可以用參數和回傳值替代的情況  \n",
    "C. 多個函式共享狀態  \n",
    "D. 修改模組層級變數"
   ]
  },
  {
   "cell_type": "markdown",
   "metadata": {},
   "source": [
    "---\n",
    "\n",
    "## Part II: 程式輸出預測（Code Output Prediction）\n",
    "\n",
    "每題 2 分，共 10 分\n",
    "\n",
    "**說明**：請預測以下程式碼的輸出結果"
   ]
  },
  {
   "cell_type": "markdown",
   "metadata": {},
   "source": [
    "### 第 16 題\n",
    "\n",
    "```python\n",
    "x = \"global\"\n",
    "\n",
    "def outer():\n",
    "    x = \"enclosing\"\n",
    "    \n",
    "    def inner():\n",
    "        print(x)\n",
    "    \n",
    "    inner()\n",
    "\n",
    "outer()\n",
    "```\n",
    "\n",
    "輸出：\n",
    "```\n",
    "_____________________\n",
    "```"
   ]
  },
  {
   "cell_type": "markdown",
   "metadata": {},
   "source": [
    "### 第 17 題\n",
    "\n",
    "```python\n",
    "count = 0\n",
    "\n",
    "def increment():\n",
    "    global count\n",
    "    count += 1\n",
    "    return count\n",
    "\n",
    "print(increment())\n",
    "print(increment())\n",
    "print(count)\n",
    "```\n",
    "\n",
    "輸出：\n",
    "```\n",
    "_____________________\n",
    "_____________________\n",
    "_____________________\n",
    "```"
   ]
  },
  {
   "cell_type": "markdown",
   "metadata": {},
   "source": [
    "### 第 18 題\n",
    "\n",
    "```python\n",
    "def make_multiplier(n):\n",
    "    def multiplier(x):\n",
    "        return x * n\n",
    "    return multiplier\n",
    "\n",
    "times3 = make_multiplier(3)\n",
    "print(times3(10))\n",
    "print(times3(5))\n",
    "```\n",
    "\n",
    "輸出：\n",
    "```\n",
    "_____________________\n",
    "_____________________\n",
    "```"
   ]
  },
  {
   "cell_type": "markdown",
   "metadata": {},
   "source": [
    "### 第 19 題\n",
    "\n",
    "```python\n",
    "def outer():\n",
    "    x = 10\n",
    "    \n",
    "    def inner():\n",
    "        nonlocal x\n",
    "        x = 20\n",
    "    \n",
    "    print(x)\n",
    "    inner()\n",
    "    print(x)\n",
    "\n",
    "outer()\n",
    "```\n",
    "\n",
    "輸出：\n",
    "```\n",
    "_____________________\n",
    "_____________________\n",
    "```"
   ]
  },
  {
   "cell_type": "markdown",
   "metadata": {},
   "source": [
    "### 第 20 題\n",
    "\n",
    "```python\n",
    "def make_counter():\n",
    "    count = 0\n",
    "    \n",
    "    def increment():\n",
    "        nonlocal count\n",
    "        count += 1\n",
    "        return count\n",
    "    \n",
    "    return increment\n",
    "\n",
    "c1 = make_counter()\n",
    "c2 = make_counter()\n",
    "\n",
    "print(c1())\n",
    "print(c1())\n",
    "print(c2())\n",
    "```\n",
    "\n",
    "輸出：\n",
    "```\n",
    "_____________________\n",
    "_____________________\n",
    "_____________________\n",
    "```"
   ]
  },
  {
   "cell_type": "markdown",
   "metadata": {},
   "source": [
    "---\n",
    "\n",
    "## Part III: 程式填空（Code Completion）\n",
    "\n",
    "每題 2 分，共 10 分\n",
    "\n",
    "**說明**：在空白處填入正確的程式碼"
   ]
  },
  {
   "cell_type": "markdown",
   "metadata": {},
   "source": [
    "### 第 21 題\n",
    "\n",
    "完成以下函式，使用 `global` 修改全域變數：\n",
    "\n",
    "```python\n",
    "total = 100\n",
    "\n",
    "def update_total(value):\n",
    "    _______ total  # 填入關鍵字\n",
    "    total += value\n",
    "    return total\n",
    "```"
   ]
  },
  {
   "cell_type": "markdown",
   "metadata": {},
   "source": [
    "### 第 22 題\n",
    "\n",
    "完成以下閉包，使用 `nonlocal` 修改外層變數：\n",
    "\n",
    "```python\n",
    "def outer():\n",
    "    x = 10\n",
    "    \n",
    "    def inner():\n",
    "        _______ x  # 填入關鍵字\n",
    "        x = 20\n",
    "    \n",
    "    inner()\n",
    "    return x\n",
    "```"
   ]
  },
  {
   "cell_type": "markdown",
   "metadata": {},
   "source": [
    "### 第 23 題\n",
    "\n",
    "完成以下計數器閉包：\n",
    "\n",
    "```python\n",
    "def make_counter():\n",
    "    count = 0\n",
    "    \n",
    "    def increment():\n",
    "        nonlocal count\n",
    "        count += 1\n",
    "        return count\n",
    "    \n",
    "    return _______  # 填入要回傳的內容\n",
    "```"
   ]
  },
  {
   "cell_type": "markdown",
   "metadata": {},
   "source": [
    "### 第 24 題\n",
    "\n",
    "完成以下工廠函式，創建乘法器：\n",
    "\n",
    "```python\n",
    "def make_multiplier(n):\n",
    "    def multiplier(x):\n",
    "        return x * _______  # 填入外層變數\n",
    "    \n",
    "    return multiplier\n",
    "```"
   ]
  },
  {
   "cell_type": "markdown",
   "metadata": {},
   "source": [
    "### 第 25 題\n",
    "\n",
    "完成以下累加器閉包：\n",
    "\n",
    "```python\n",
    "def make_accumulator(initial=0):\n",
    "    total = initial\n",
    "    \n",
    "    def add(value):\n",
    "        nonlocal _______  # 填入要修改的變數\n",
    "        total += value\n",
    "        return total\n",
    "    \n",
    "    return add\n",
    "```"
   ]
  },
  {
   "cell_type": "markdown",
   "metadata": {},
   "source": [
    "---\n",
    "\n",
    "## 解答區\n",
    "\n",
    "**請在作答完畢後再查看解答**\n",
    "\n",
    "---"
   ]
  },
  {
   "cell_type": "markdown",
   "metadata": {},
   "source": [
    "### Part I: 選擇題解答\n",
    "\n",
    "| 題號 | 答案 | 說明 |\n",
    "|:-----|:-----|:-----|\n",
    "| 1 | B | LEGB：Local → **Enclosing** → Global → Built-in |\n",
    "| 2 | C | Python 按照 L → E → G → B 順序查找變數 |\n",
    "| 3 | B | `len`, `print`, `max` 等 Python 內建名稱屬於 Built-in 作用域 |\n",
    "| 4 | B | 只有在「修改」全域變數時才需要 `global`，讀取不需要 |\n",
    "| 5 | B | `nonlocal` 用於修改外層函式的變數（不包括全域） |\n",
    "| 6 | C | Python 看到 `x = 20`，判定 x 是區域變數，但在賦值前讀取，導致 UnboundLocalError |\n",
    "| 7 | D | 閉包需要：1) 巢狀函式 2) 內層引用外層變數 3) 外層回傳內層函式 |\n",
    "| 8 | C | 區域變數從函式呼叫時創建，函式執行完畢後銷毀 |\n",
    "| 9 | B | 只讀取全域變數不需要 `global`，只有修改才需要 |\n",
    "| 10 | C | 閉包中被捕獲的外層變數稱為「自由變數」（Free Variable） |\n",
    "| 11 | B | 按照 LEGB 規則，優先使用最內層（Local）的變數 |\n",
    "| 12 | D | 閉包的優勢包括：封裝性、獨立性、持久性 |\n",
    "| 13 | B | `global` 和 `nonlocal` 都必須在使用前宣告 |\n",
    "| 14 | B | Python 在編譯時（函式定義時）判斷變數作用域 |\n",
    "| 15 | B | 當可以用參數和回傳值替代時，應避免使用 `global` |"
   ]
  },
  {
   "cell_type": "markdown",
   "metadata": {},
   "source": [
    "### Part II: 程式輸出預測解答\n",
    "\n",
    "#### 第 16 題\n",
    "```\n",
    "enclosing\n",
    "```\n",
    "**說明**：`inner()` 內沒有定義 x，按 LEGB 規則找到 `outer()` 的 x（Enclosing）"
   ]
  },
  {
   "cell_type": "code",
   "execution_count": null,
   "metadata": {},
   "outputs": [],
   "source": [
    "# 驗證第 16 題\n",
    "x = \"global\"\n",
    "\n",
    "def outer():\n",
    "    x = \"enclosing\"\n",
    "    \n",
    "    def inner():\n",
    "        print(x)\n",
    "    \n",
    "    inner()\n",
    "\n",
    "outer()"
   ]
  },
  {
   "cell_type": "markdown",
   "metadata": {},
   "source": [
    "#### 第 17 題\n",
    "```\n",
    "1\n",
    "2\n",
    "2\n",
    "```\n",
    "**說明**：使用 `global` 修改全域變數 `count`，每次呼叫累加"
   ]
  },
  {
   "cell_type": "code",
   "execution_count": null,
   "metadata": {},
   "outputs": [],
   "source": [
    "# 驗證第 17 題\n",
    "count = 0\n",
    "\n",
    "def increment():\n",
    "    global count\n",
    "    count += 1\n",
    "    return count\n",
    "\n",
    "print(increment())\n",
    "print(increment())\n",
    "print(count)"
   ]
  },
  {
   "cell_type": "markdown",
   "metadata": {},
   "source": [
    "#### 第 18 題\n",
    "```\n",
    "30\n",
    "15\n",
    "```\n",
    "**說明**：閉包捕獲 `n=3`，`times3(10)` 返回 `10*3=30`，`times3(5)` 返回 `5*3=15`"
   ]
  },
  {
   "cell_type": "code",
   "execution_count": null,
   "metadata": {},
   "outputs": [],
   "source": [
    "# 驗證第 18 題\n",
    "def make_multiplier(n):\n",
    "    def multiplier(x):\n",
    "        return x * n\n",
    "    return multiplier\n",
    "\n",
    "times3 = make_multiplier(3)\n",
    "print(times3(10))\n",
    "print(times3(5))"
   ]
  },
  {
   "cell_type": "markdown",
   "metadata": {},
   "source": [
    "#### 第 19 題\n",
    "```\n",
    "10\n",
    "20\n",
    "```\n",
    "**說明**：呼叫 `inner()` 前 x=10，`inner()` 使用 `nonlocal` 修改 x 為 20"
   ]
  },
  {
   "cell_type": "code",
   "execution_count": null,
   "metadata": {},
   "outputs": [],
   "source": [
    "# 驗證第 19 題\n",
    "def outer():\n",
    "    x = 10\n",
    "    \n",
    "    def inner():\n",
    "        nonlocal x\n",
    "        x = 20\n",
    "    \n",
    "    print(x)\n",
    "    inner()\n",
    "    print(x)\n",
    "\n",
    "outer()"
   ]
  },
  {
   "cell_type": "markdown",
   "metadata": {},
   "source": [
    "#### 第 20 題\n",
    "```\n",
    "1\n",
    "2\n",
    "1\n",
    "```\n",
    "**說明**：`c1` 和 `c2` 是獨立的計數器，各自有獨立的 `count` 變數"
   ]
  },
  {
   "cell_type": "code",
   "execution_count": null,
   "metadata": {},
   "outputs": [],
   "source": [
    "# 驗證第 20 題\n",
    "def make_counter():\n",
    "    count = 0\n",
    "    \n",
    "    def increment():\n",
    "        nonlocal count\n",
    "        count += 1\n",
    "        return count\n",
    "    \n",
    "    return increment\n",
    "\n",
    "c1 = make_counter()\n",
    "c2 = make_counter()\n",
    "\n",
    "print(c1())\n",
    "print(c1())\n",
    "print(c2())"
   ]
  },
  {
   "cell_type": "markdown",
   "metadata": {},
   "source": [
    "### Part III: 程式填空解答\n",
    "\n",
    "#### 第 21 題\n",
    "```python\n",
    "global total\n",
    "```\n",
    "**說明**：修改全域變數需要使用 `global` 關鍵字宣告"
   ]
  },
  {
   "cell_type": "code",
   "execution_count": null,
   "metadata": {},
   "outputs": [],
   "source": [
    "# 驗證第 21 題\n",
    "total = 100\n",
    "\n",
    "def update_total(value):\n",
    "    global total\n",
    "    total += value\n",
    "    return total\n",
    "\n",
    "print(update_total(50))  # 150\n",
    "print(total)  # 150"
   ]
  },
  {
   "cell_type": "markdown",
   "metadata": {},
   "source": [
    "#### 第 22 題\n",
    "```python\n",
    "nonlocal x\n",
    "```\n",
    "**說明**：修改外層函式的變數需要使用 `nonlocal` 關鍵字宣告"
   ]
  },
  {
   "cell_type": "code",
   "execution_count": null,
   "metadata": {},
   "outputs": [],
   "source": [
    "# 驗證第 22 題\n",
    "def outer():\n",
    "    x = 10\n",
    "    \n",
    "    def inner():\n",
    "        nonlocal x\n",
    "        x = 20\n",
    "    \n",
    "    inner()\n",
    "    return x\n",
    "\n",
    "print(outer())  # 20"
   ]
  },
  {
   "cell_type": "markdown",
   "metadata": {},
   "source": [
    "#### 第 23 題\n",
    "```python\n",
    "return increment\n",
    "```\n",
    "**說明**：閉包需要回傳內層函式（函式物件，不加括號）"
   ]
  },
  {
   "cell_type": "code",
   "execution_count": null,
   "metadata": {},
   "outputs": [],
   "source": [
    "# 驗證第 23 題\n",
    "def make_counter():\n",
    "    count = 0\n",
    "    \n",
    "    def increment():\n",
    "        nonlocal count\n",
    "        count += 1\n",
    "        return count\n",
    "    \n",
    "    return increment\n",
    "\n",
    "counter = make_counter()\n",
    "print(counter())  # 1\n",
    "print(counter())  # 2"
   ]
  },
  {
   "cell_type": "markdown",
   "metadata": {},
   "source": [
    "#### 第 24 題\n",
    "```python\n",
    "return x * n\n",
    "```\n",
    "**說明**：內層函式捕獲外層變數 `n`"
   ]
  },
  {
   "cell_type": "code",
   "execution_count": null,
   "metadata": {},
   "outputs": [],
   "source": [
    "# 驗證第 24 題\n",
    "def make_multiplier(n):\n",
    "    def multiplier(x):\n",
    "        return x * n\n",
    "    \n",
    "    return multiplier\n",
    "\n",
    "times5 = make_multiplier(5)\n",
    "print(times5(10))  # 50"
   ]
  },
  {
   "cell_type": "markdown",
   "metadata": {},
   "source": [
    "#### 第 25 題\n",
    "```python\n",
    "nonlocal total\n",
    "```\n",
    "**說明**：需要修改外層變數 `total`，使用 `nonlocal` 宣告"
   ]
  },
  {
   "cell_type": "code",
   "execution_count": null,
   "metadata": {},
   "outputs": [],
   "source": [
    "# 驗證第 25 題\n",
    "def make_accumulator(initial=0):\n",
    "    total = initial\n",
    "    \n",
    "    def add(value):\n",
    "        nonlocal total\n",
    "        total += value\n",
    "        return total\n",
    "    \n",
    "    return add\n",
    "\n",
    "acc = make_accumulator(10)\n",
    "print(acc(5))   # 15\n",
    "print(acc(10))  # 25"
   ]
  },
  {
   "cell_type": "markdown",
   "metadata": {},
   "source": [
    "---\n",
    "\n",
    "## 計分與評估\n",
    "\n",
    "### 計分標準\n",
    "- Part I (選擇題)：15 題 × 1 分 = 15 分\n",
    "- Part II (程式輸出)：5 題 × 2 分 = 10 分（每題完全正確才給分）\n",
    "- Part III (程式填空)：5 題 × 2 分 = 10 分（每題完全正確才給分）\n",
    "- **總分**：35 分（調整為 25 分滿分制，建議按比例換算）\n",
    "\n",
    "### 等級劃分（以 25 分為基準）\n",
    "- **優秀** (90%+)：23-25 分\n",
    "- **良好** (80-89%)：20-22 分\n",
    "- **及格** (75-79%)：19 分\n",
    "- **待加強** (<75%)：< 19 分\n",
    "\n",
    "### 換算方式\n",
    "實際得分 ÷ 35 × 25 = 調整後分數\n",
    "\n",
    "---\n",
    "\n",
    "## 重點觀念總結\n",
    "\n",
    "完成本測驗後，您應該掌握以下核心概念：\n",
    "\n",
    "### 1. LEGB 規則\n",
    "- ✅ **L**ocal（區域）：函式內部\n",
    "- ✅ **E**nclosing（封閉）：外層函式\n",
    "- ✅ **G**lobal（全域）：模組層級\n",
    "- ✅ **B**uilt-in（內建）：Python 內建名稱\n",
    "\n",
    "### 2. global 和 nonlocal\n",
    "- ✅ `global`：修改模組層級的全域變數\n",
    "- ✅ `nonlocal`：修改外層函式的變數\n",
    "- ✅ 兩者都必須在使用前宣告\n",
    "- ✅ 只讀取不需要宣告\n",
    "\n",
    "### 3. 閉包（Closure）\n",
    "- ✅ 三個條件：巢狀函式 + 引用外層變數 + 回傳內層函式\n",
    "- ✅ 自由變數：被閉包捕獲的外層變數\n",
    "- ✅ 優勢：封裝性、獨立性、持久性\n",
    "\n",
    "### 4. 變數生命週期\n",
    "- ✅ 區域變數：函式呼叫時創建，執行完畢後銷毀\n",
    "- ✅ 全域變數：程式開始時創建，程式結束時銷毀\n",
    "- ✅ 閉包中的變數：被引用時持續存在\n",
    "\n",
    "### 5. 常見陷阱\n",
    "- ⚠️ UnboundLocalError：在賦值前讀取區域變數\n",
    "- ⚠️ 迴圈中的閉包：捕獲引用而非值\n",
    "- ⚠️ 過度使用 global：應優先使用參數和回傳值\n",
    "\n",
    "---\n",
    "\n",
    "## 下一步建議\n",
    "\n",
    "### 如果分數 < 19 分（待加強）\n",
    "1. 重新閱讀 `01-lecture.ipynb`\n",
    "2. 仔細研究 `02-worked-examples.ipynb` 的詳解\n",
    "3. 完成 `03-practice.ipynb` 課堂練習\n",
    "4. 再次進行本測驗\n",
    "\n",
    "### 如果分數 ≥ 19 分（及格以上）\n",
    "1. 完成 `04-exercises.ipynb` 課後習題\n",
    "2. 對照 `05-solutions.ipynb` 檢視解答\n",
    "3. 進入 **Chapter 14: 高階函式** (Higher-Order Functions)\n",
    "4. 探索進階主題：裝飾器、記憶化、遞迴\n",
    "\n",
    "---\n",
    "\n",
    "## 學習檢核清單\n",
    "\n",
    "完成本章後，請確認您能夠：\n",
    "\n",
    "### 基本能力\n",
    "- [ ] 識別變數屬於哪種作用域（L/E/G/B）\n",
    "- [ ] 使用 LEGB 規則預測變數查找結果\n",
    "- [ ] 理解區域變數的生命週期\n",
    "- [ ] 正確使用 `global` 修改全域變數\n",
    "- [ ] 正確使用 `nonlocal` 修改外層變數\n",
    "\n",
    "### 進階能力\n",
    "- [ ] 診斷並修正 UnboundLocalError\n",
    "- [ ] 實作閉包函式（計數器、累加器）\n",
    "- [ ] 理解閉包捕獲變數的機制\n",
    "- [ ] 避免迴圈中的閉包陷阱\n",
    "- [ ] 選擇適當的狀態管理方式（global vs 閉包 vs 類別）\n",
    "\n",
    "### 應用能力\n",
    "- [ ] 設計函式時合理規劃變數作用域\n",
    "- [ ] 使用閉包實作工廠函式\n",
    "- [ ] 使用閉包實作狀態保持\n",
    "- [ ] 在除錯時快速定位作用域問題\n",
    "- [ ] 評估何時使用閉包 vs 類別\n",
    "\n",
    "---\n",
    "\n",
    "**恭喜完成 Chapter 13 測驗！掌握作用域是成為 Python 進階開發者的關鍵一步！**"
   ]
  }
 ],
 "metadata": {
  "kernelspec": {
   "display_name": "Python 3",
   "language": "python",
   "name": "python3"
  },
  "language_info": {
   "name": "python",
   "version": "3.11.0"
  }
 },
 "nbformat": 4,
 "nbformat_minor": 2
}
