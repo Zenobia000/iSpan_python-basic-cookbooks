{
 "cells": [
  {
   "cell_type": "markdown",
   "metadata": {},
   "source": [
    "# Chapter 13: 作用域與生命週期 | Scope and Lifetime\n",
    "\n",
    "## Part I: 理論基礎\n",
    "\n",
    "### 📖 章節概覽\n",
    "\n",
    "**學習目標**：\n",
    "- 理解 Python 的四種作用域（Local、Enclosing、Global、Built-in）\n",
    "- 掌握 LEGB 規則的查找順序\n",
    "- 學會使用 global 和 nonlocal 關鍵字\n",
    "- 理解閉包（Closure）的概念與應用\n",
    "\n",
    "**先備知識**：\n",
    "- Chapter 12: 函式設計基礎\n",
    "\n",
    "**預計時長**：60 分鐘\n",
    "\n",
    "---"
   ]
  },
  {
   "cell_type": "markdown",
   "metadata": {},
   "source": [
    "### 🔑 核心概念 1：什麼是作用域？\n",
    "\n",
    "**作用域（Scope）**：變數名稱的可見範圍。\n",
    "\n",
    "**生命週期（Lifetime）**：變數從創建到銷毀的時間段。\n",
    "\n",
    "#### 為什麼需要作用域？\n",
    "\n",
    "假設所有變數都是全域的："
   ]
  },
  {
   "cell_type": "code",
   "execution_count": null,
   "metadata": {},
   "outputs": [],
   "source": [
    "# 問題：沒有作用域的混亂\n",
    "\n",
    "# 函式 1\n",
    "def calculate_area():\n",
    "    length = 10\n",
    "    width = 5\n",
    "    result = length * width\n",
    "    return result\n",
    "\n",
    "# 函式 2\n",
    "def calculate_volume():\n",
    "    length = 20  # 如果是全域，會覆蓋上面的 length！\n",
    "    width = 10   # 如果是全域，會覆蓋上面的 width！\n",
    "    height = 5\n",
    "    result = length * width * height  # 覆蓋上面的 result！\n",
    "    return result\n",
    "\n",
    "# 如果沒有作用域機制：\n",
    "# 1. 名稱衝突：不同函式無法使用相同變數名\n",
    "# 2. 難以追蹤：無法確定變數在哪裡被修改\n",
    "# 3. 記憶體浪費：所有變數永久存在\n",
    "\n",
    "print(f\"面積：{calculate_area()}\")\n",
    "print(f\"體積：{calculate_volume()}\")"
   ]
  },
  {
   "cell_type": "markdown",
   "metadata": {},
   "source": [
    "**作用域的優勢**：\n",
    "1. **隔離性**：每個函式有獨立的命名空間\n",
    "2. **安全性**：變數的影響範圍受限\n",
    "3. **記憶體效率**：函式執行完畢後，區域變數自動銷毀"
   ]
  },
  {
   "cell_type": "markdown",
   "metadata": {},
   "source": [
    "### 🔑 核心概念 2：Python 的四種作用域\n",
    "\n",
    "Python 有四種作用域，按照優先順序從高到低：\n",
    "\n",
    "```\n",
    "L (Local)      - 區域作用域：函式內部\n",
    "E (Enclosing)  - 封閉作用域：外層函式\n",
    "G (Global)     - 全域作用域：模組層級\n",
    "B (Built-in)   - 內建作用域：Python 內建名稱\n",
    "```\n",
    "\n",
    "**LEGB 規則**：Python 按照 L → E → G → B 的順序查找變數。"
   ]
  },
  {
   "cell_type": "markdown",
   "metadata": {},
   "source": [
    "---\n",
    "\n",
    "## Part II: 實作演練\n",
    "\n",
    "### 範例 1：區域作用域（Local Scope）"
   ]
  },
  {
   "cell_type": "code",
   "execution_count": null,
   "metadata": {},
   "outputs": [],
   "source": [
    "def greet():\n",
    "    message = \"Hello\"  # 區域變數\n",
    "    print(message)\n",
    "\n",
    "greet()\n",
    "\n",
    "# 嘗試在函式外訪問區域變數\n",
    "try:\n",
    "    print(message)  # NameError: name 'message' is not defined\n",
    "except NameError as e:\n",
    "    print(f\"錯誤：{e}\")\n",
    "    print(\"解釋：message 是區域變數，只存在於 greet() 內部\")"
   ]
  },
  {
   "cell_type": "markdown",
   "metadata": {},
   "source": [
    "**重點**：\n",
    "- 區域變數只在函式內部可見\n",
    "- 函式執行完畢後，區域變數自動銷毀\n",
    "- 參數也是區域變數"
   ]
  },
  {
   "cell_type": "markdown",
   "metadata": {},
   "source": [
    "### 範例 2：全域作用域（Global Scope）"
   ]
  },
  {
   "cell_type": "code",
   "execution_count": null,
   "metadata": {},
   "outputs": [],
   "source": [
    "# 全域變數（模組層級）\n",
    "company = \"TechCorp\"\n",
    "employee_count = 100\n",
    "\n",
    "def show_company_info():\n",
    "    # 讀取全域變數（不需要 global 關鍵字）\n",
    "    print(f\"公司：{company}\")\n",
    "    print(f\"員工數：{employee_count}\")\n",
    "\n",
    "show_company_info()\n",
    "\n",
    "# 全域變數可在模組任何地方訪問\n",
    "print(f\"\\n模組層級：{company}\")"
   ]
  },
  {
   "cell_type": "markdown",
   "metadata": {},
   "source": [
    "**重點**：\n",
    "- 全域變數在整個模組中可見\n",
    "- 函式內部可以**讀取**全域變數（不需要 global）\n",
    "- 如果要**修改**全域變數，需要 global 關鍵字"
   ]
  },
  {
   "cell_type": "markdown",
   "metadata": {},
   "source": [
    "### 範例 3：LEGB 規則演示"
   ]
  },
  {
   "cell_type": "code",
   "execution_count": null,
   "metadata": {},
   "outputs": [],
   "source": [
    "# Global（全域）\n",
    "x = \"global x\"\n",
    "\n",
    "def outer():\n",
    "    # Enclosing（封閉）\n",
    "    x = \"enclosing x\"\n",
    "    \n",
    "    def inner():\n",
    "        # Local（區域）\n",
    "        x = \"local x\"\n",
    "        print(f\"inner() 內部：{x}\")  # 輸出：local x\n",
    "    \n",
    "    inner()\n",
    "    print(f\"outer() 內部：{x}\")  # 輸出：enclosing x\n",
    "\n",
    "outer()\n",
    "print(f\"全域層級：{x}\")  # 輸出：global x"
   ]
  },
  {
   "cell_type": "markdown",
   "metadata": {},
   "source": [
    "**LEGB 查找順序**：\n",
    "1. **L (Local)**：先找 inner() 內部的 x → 找到 \"local x\"\n",
    "2. **E (Enclosing)**：如果沒找到，找 outer() 的 x → \"enclosing x\"\n",
    "3. **G (Global)**：如果沒找到，找模組層級的 x → \"global x\"\n",
    "4. **B (Built-in)**：如果沒找到，找 Python 內建名稱"
   ]
  },
  {
   "cell_type": "markdown",
   "metadata": {},
   "source": [
    "### 範例 4：不同層次的變數不會互相干擾"
   ]
  },
  {
   "cell_type": "code",
   "execution_count": null,
   "metadata": {},
   "outputs": [],
   "source": [
    "x = \"global x\"\n",
    "\n",
    "def outer():\n",
    "    x = \"enclosing x\"\n",
    "    \n",
    "    def inner():\n",
    "        # 沒有定義 x，按 LEGB 規則查找\n",
    "        print(f\"inner() 內部：{x}\")  # 找到 enclosing x\n",
    "    \n",
    "    inner()\n",
    "    print(f\"outer() 內部：{x}\")  # enclosing x\n",
    "\n",
    "outer()\n",
    "print(f\"全域層級：{x}\")  # global x（未被修改）"
   ]
  },
  {
   "cell_type": "markdown",
   "metadata": {},
   "source": [
    "### 範例 5：Built-in 作用域"
   ]
  },
  {
   "cell_type": "code",
   "execution_count": null,
   "metadata": {},
   "outputs": [],
   "source": [
    "# 查看 Built-in 作用域的內容\n",
    "import builtins\n",
    "\n",
    "# Built-in 函式（最低優先權）\n",
    "print(\"Built-in 函式範例：\")\n",
    "print(f\"len: {len}\")\n",
    "print(f\"print: {print}\")\n",
    "print(f\"max: {max}\")\n",
    "\n",
    "# Built-in 常數\n",
    "print(f\"\\nBuilt-in 常數範例：\")\n",
    "print(f\"True: {True}\")\n",
    "print(f\"None: {None}\")\n",
    "\n",
    "# 可以覆蓋 Built-in 名稱（但不建議）\n",
    "def demo_override():\n",
    "    len = \"我是區域變數\"  # 覆蓋 Built-in 的 len\n",
    "    print(f\"\\n函式內部的 len：{len}\")\n",
    "    # print(len([1, 2, 3]))  # 錯誤！len 已不是函式\n",
    "\n",
    "demo_override()\n",
    "print(f\"\\n函式外部的 len：{len}\")\n",
    "print(f\"len([1, 2, 3]) = {len([1, 2, 3])}\")  # 仍可正常使用"
   ]
  },
  {
   "cell_type": "markdown",
   "metadata": {},
   "source": [
    "### 範例 6：global 關鍵字的使用"
   ]
  },
  {
   "cell_type": "code",
   "execution_count": null,
   "metadata": {},
   "outputs": [],
   "source": [
    "# 全域變數\n",
    "counter = 0\n",
    "\n",
    "def increment_wrong():\n",
    "    # ❌ 錯誤：嘗試修改全域變數但沒有 global\n",
    "    try:\n",
    "        counter += 1  # UnboundLocalError\n",
    "    except UnboundLocalError as e:\n",
    "        print(f\"錯誤：{e}\")\n",
    "        print(\"原因：Python 看到 counter += 1，判定 counter 是區域變數\")\n",
    "        print(\"但在賦值前嘗試讀取，導致錯誤\\n\")\n",
    "\n",
    "def increment_correct():\n",
    "    # ✅ 正確：使用 global 宣告\n",
    "    global counter\n",
    "    counter += 1\n",
    "    return counter\n",
    "\n",
    "increment_wrong()\n",
    "\n",
    "print(f\"初始值：{counter}\")\n",
    "print(f\"第一次遞增：{increment_correct()}\")\n",
    "print(f\"第二次遞增：{increment_correct()}\")\n",
    "print(f\"第三次遞增：{increment_correct()}\")\n",
    "print(f\"全域變數 counter：{counter}\")"
   ]
  },
  {
   "cell_type": "markdown",
   "metadata": {},
   "source": [
    "**global 使用時機**：\n",
    "- 僅當需要在函式內**修改**全域變數時使用\n",
    "- 只**讀取**全域變數不需要 global\n",
    "- 必須在使用前宣告"
   ]
  },
  {
   "cell_type": "markdown",
   "metadata": {},
   "source": [
    "### 範例 7：nonlocal 關鍵字的使用"
   ]
  },
  {
   "cell_type": "code",
   "execution_count": null,
   "metadata": {},
   "outputs": [],
   "source": [
    "def outer():\n",
    "    count = 0  # 外層函式的變數\n",
    "    \n",
    "    def increment_wrong():\n",
    "        # ❌ 錯誤：嘗試修改外層變數但沒有 nonlocal\n",
    "        try:\n",
    "            count += 1  # UnboundLocalError\n",
    "        except UnboundLocalError as e:\n",
    "            print(f\"錯誤：{e}\")\n",
    "            print(\"原因：Python 判定 count 是區域變數，但尚未賦值\\n\")\n",
    "    \n",
    "    def increment_correct():\n",
    "        # ✅ 正確：使用 nonlocal 宣告\n",
    "        nonlocal count\n",
    "        count += 1\n",
    "        return count\n",
    "    \n",
    "    increment_wrong()\n",
    "    \n",
    "    print(f\"初始值：{count}\")\n",
    "    print(f\"第一次遞增：{increment_correct()}\")\n",
    "    print(f\"第二次遞增：{increment_correct()}\")\n",
    "    print(f\"第三次遞增：{increment_correct()}\")\n",
    "    print(f\"外層函式的 count：{count}\")\n",
    "\n",
    "outer()"
   ]
  },
  {
   "cell_type": "markdown",
   "metadata": {},
   "source": [
    "**nonlocal vs global**：\n",
    "\n",
    "| 關鍵字 | 作用範圍 | 使用場景 |\n",
    "|:-------|:---------|:---------|\n",
    "| `global` | 模組層級的全域變數 | 修改全域變數 |\n",
    "| `nonlocal` | 外層函式的變數（不包括全域） | 修改外層函式變數 |"
   ]
  },
  {
   "cell_type": "markdown",
   "metadata": {},
   "source": [
    "### 範例 8：閉包（Closure）的基本概念"
   ]
  },
  {
   "cell_type": "code",
   "execution_count": null,
   "metadata": {},
   "outputs": [],
   "source": [
    "def make_counter():\n",
    "    \"\"\"創建一個計數器閉包\"\"\"\n",
    "    count = 0  # 自由變數（free variable）\n",
    "    \n",
    "    def increment():\n",
    "        nonlocal count\n",
    "        count += 1\n",
    "        return count\n",
    "    \n",
    "    return increment  # 回傳內層函式\n",
    "\n",
    "# 創建兩個獨立的計數器\n",
    "counter1 = make_counter()\n",
    "counter2 = make_counter()\n",
    "\n",
    "print(\"counter1:\")\n",
    "print(counter1())  # 1\n",
    "print(counter1())  # 2\n",
    "print(counter1())  # 3\n",
    "\n",
    "print(\"\\ncounter2:\")\n",
    "print(counter2())  # 1（獨立的計數器）\n",
    "print(counter2())  # 2\n",
    "\n",
    "print(\"\\ncounter1:\")\n",
    "print(counter1())  # 4（繼續計數）"
   ]
  },
  {
   "cell_type": "markdown",
   "metadata": {},
   "source": [
    "**閉包的三個條件**：\n",
    "1. **巢狀函式**：有內層函式\n",
    "2. **引用外層變數**：內層函式使用外層函式的變數\n",
    "3. **回傳內層函式**：外層函式回傳內層函式\n",
    "\n",
    "**閉包的優勢**：\n",
    "- **封裝性**：狀態被封裝在函式內，外部無法直接訪問\n",
    "- **獨立性**：每個閉包都有自己的狀態\n",
    "- **持久性**：即使外層函式執行完畢，狀態仍保留"
   ]
  },
  {
   "cell_type": "markdown",
   "metadata": {},
   "source": [
    "### 範例 9：閉包的實際應用 - 工廠函式"
   ]
  },
  {
   "cell_type": "code",
   "execution_count": null,
   "metadata": {},
   "outputs": [],
   "source": [
    "def make_multiplier(n):\n",
    "    \"\"\"創建一個乘法函式\"\"\"\n",
    "    def multiplier(x):\n",
    "        return x * n\n",
    "    return multiplier\n",
    "\n",
    "# 創建不同倍數的函式\n",
    "times2 = make_multiplier(2)\n",
    "times3 = make_multiplier(3)\n",
    "times10 = make_multiplier(10)\n",
    "\n",
    "print(\"times2:\")\n",
    "print(f\"times2(5) = {times2(5)}\")    # 10\n",
    "print(f\"times2(10) = {times2(10)}\")  # 20\n",
    "\n",
    "print(\"\\ntimes3:\")\n",
    "print(f\"times3(5) = {times3(5)}\")    # 15\n",
    "print(f\"times3(10) = {times3(10)}\")  # 30\n",
    "\n",
    "print(\"\\ntimes10:\")\n",
    "print(f\"times10(5) = {times10(5)}\")    # 50\n",
    "print(f\"times10(10) = {times10(10)}\")  # 100"
   ]
  },
  {
   "cell_type": "markdown",
   "metadata": {},
   "source": [
    "### 範例 10：常見陷阱 - UnboundLocalError"
   ]
  },
  {
   "cell_type": "code",
   "execution_count": null,
   "metadata": {},
   "outputs": [],
   "source": [
    "x = 10\n",
    "\n",
    "def demo_error():\n",
    "    \"\"\"演示 UnboundLocalError\"\"\"\n",
    "    try:\n",
    "        print(x)  # UnboundLocalError!\n",
    "        x = 20    # Python 看到這行，判定 x 是區域變數\n",
    "    except UnboundLocalError as e:\n",
    "        print(f\"錯誤：{e}\")\n",
    "        print(\"\\n原因分析：\")\n",
    "        print(\"1. Python 在編譯時掃描函式\")\n",
    "        print(\"2. 看到 'x = 20'，判定 x 是區域變數\")\n",
    "        print(\"3. 在 print(x) 時，x 尚未賦值\")\n",
    "        print(\"4. 導致 UnboundLocalError\")\n",
    "\n",
    "print(\"測試 1：演示錯誤\")\n",
    "demo_error()\n",
    "\n",
    "print(\"\\n\" + \"=\"*50)\n",
    "\n",
    "# 解決方法 1：只讀取（不修改）\n",
    "def solution1():\n",
    "    print(f\"讀取全域變數 x：{x}\")\n",
    "\n",
    "print(\"\\n測試 2：解決方法 1（只讀取）\")\n",
    "solution1()\n",
    "\n",
    "print(\"\\n\" + \"=\"*50)\n",
    "\n",
    "# 解決方法 2：使用 global\n",
    "def solution2():\n",
    "    global x\n",
    "    print(f\"讀取全域變數 x：{x}\")\n",
    "    x = 20\n",
    "    print(f\"修改後的 x：{x}\")\n",
    "\n",
    "print(\"\\n測試 3：解決方法 2（使用 global）\")\n",
    "solution2()\n",
    "print(f\"全域變數 x：{x}\")\n",
    "\n",
    "print(\"\\n\" + \"=\"*50)\n",
    "\n",
    "# 解決方法 3：使用不同的變數名\n",
    "x = 10  # 恢復原值\n",
    "\n",
    "def solution3():\n",
    "    print(f\"讀取全域變數 x：{x}\")\n",
    "    local_x = x + 10\n",
    "    print(f\"區域變數 local_x：{local_x}\")\n",
    "\n",
    "print(\"\\n測試 4：解決方法 3（使用不同變數名）\")\n",
    "solution3()\n",
    "print(f\"全域變數 x：{x}（未被修改）\")"
   ]
  },
  {
   "cell_type": "markdown",
   "metadata": {},
   "source": [
    "---\n",
    "\n",
    "## Part III: 本章總結\n",
    "\n",
    "### 📝 知識回顧\n",
    "\n",
    "#### 1. 四種作用域\n",
    "\n",
    "| 作用域 | 說明 | 範例 |\n",
    "|:-------|:-----|:-----|\n",
    "| **Local** | 函式內部定義的變數 | `def func(): x = 1` |\n",
    "| **Enclosing** | 外層函式的作用域 | 巢狀函式中的外層變數 |\n",
    "| **Global** | 模組層級的變數 | 檔案開頭定義的變數 |\n",
    "| **Built-in** | Python 內建名稱 | `len`, `print`, `True` |\n",
    "\n",
    "#### 2. LEGB 規則\n",
    "\n",
    "```\n",
    "查找順序：Local → Enclosing → Global → Built-in\n",
    "特點：由內而外，找到後立即停止\n",
    "```\n",
    "\n",
    "#### 3. global vs nonlocal\n",
    "\n",
    "```python\n",
    "# global：修改全域變數\n",
    "x = 10\n",
    "def func():\n",
    "    global x\n",
    "    x = 20\n",
    "\n",
    "# nonlocal：修改外層函式變數\n",
    "def outer():\n",
    "    x = 10\n",
    "    def inner():\n",
    "        nonlocal x\n",
    "        x = 20\n",
    "```\n",
    "\n",
    "#### 4. 閉包的三個條件\n",
    "\n",
    "1. 有巢狀函式\n",
    "2. 內層函式引用外層變數\n",
    "3. 外層函式回傳內層函式\n",
    "\n",
    "---\n",
    "\n",
    "### ⚠️ 常見誤區\n",
    "\n",
    "#### 誤區 1：認為讀取全域變數也需要 global\n",
    "\n",
    "```python\n",
    "# ❌ 錯誤認知\n",
    "x = 10\n",
    "def func():\n",
    "    global x  # 只讀取不需要 global\n",
    "    print(x)\n",
    "\n",
    "# ✅ 正確\n",
    "x = 10\n",
    "def func():\n",
    "    print(x)  # 直接讀取即可\n",
    "```\n",
    "\n",
    "#### 誤區 2：混淆 global 和 nonlocal\n",
    "\n",
    "```python\n",
    "# global：針對模組層級\n",
    "# nonlocal：針對外層函式（不包括全域）\n",
    "\n",
    "x = \"global\"\n",
    "def outer():\n",
    "    x = \"enclosing\"\n",
    "    def inner():\n",
    "        nonlocal x  # 修改 outer 的 x，不是全域的 x\n",
    "        x = \"local\"\n",
    "```\n",
    "\n",
    "#### 誤區 3：不理解 UnboundLocalError 的成因\n",
    "\n",
    "```python\n",
    "# Python 在編譯時決定變數的作用域\n",
    "# 看到賦值語句（x = ...）就判定 x 是區域變數\n",
    "```\n",
    "\n",
    "---\n",
    "\n",
    "### ✅ 自我檢核\n",
    "\n",
    "完成本講義後，您應該能夠：\n",
    "\n",
    "- [ ] 識別變數屬於哪種作用域（L/E/G/B）\n",
    "- [ ] 使用 LEGB 規則預測變數查找結果\n",
    "- [ ] 正確使用 global 關鍵字修改全域變數\n",
    "- [ ] 正確使用 nonlocal 關鍵字修改外層變數\n",
    "- [ ] 理解閉包的概念與應用\n",
    "- [ ] 診斷並修正 UnboundLocalError\n",
    "- [ ] 實作簡單的閉包函式（如計數器）\n",
    "\n",
    "---\n",
    "\n",
    "### 📚 延伸閱讀\n",
    "\n",
    "1. **Python 官方文件**：\n",
    "   - [Python Scopes and Namespaces](https://docs.python.org/3/tutorial/classes.html#python-scopes-and-namespaces)\n",
    "\n",
    "2. **推薦文章**：\n",
    "   - [Real Python: Python Scope & the LEGB Rule](https://realpython.com/python-scope-legb-rule/)\n",
    "\n",
    "3. **下一步**：\n",
    "   - 完成 `02-worked-examples.ipynb` 的詳解範例\n",
    "   - 完成 `03-practice.ipynb` 的課堂練習\n",
    "\n",
    "---\n",
    "\n",
    "**學習提醒**：作用域是 Python 的核心機制，請務必透過大量練習建立扎實基礎！"
   ]
  }
 ],
 "metadata": {
  "kernelspec": {
   "display_name": "Python 3",
   "language": "python",
   "name": "python3"
  },
  "language_info": {
   "codemirror_mode": {
    "name": "ipython",
    "version": 3
   },
   "file_extension": ".py",
   "mimetype": "text/x-python",
   "name": "python",
   "nbconvert_exporter": "python",
   "pygments_lexer": "ipython3",
   "version": "3.11.0"
  }
 },
 "nbformat": 4,
 "nbformat_minor": 4
}
