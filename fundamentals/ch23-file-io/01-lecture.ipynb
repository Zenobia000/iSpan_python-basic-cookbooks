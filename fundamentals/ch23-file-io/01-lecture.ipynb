{
 "cells": [
  {
   "cell_type": "markdown",
   "metadata": {},
   "source": [
    "# Chapter 23: 檔案操作基礎 | File I/O Basics\n",
    "\n",
    "## 📖 講義 | Lecture Notes\n",
    "\n",
    "---\n",
    "\n",
    "## Part I: 理論基礎 | Theoretical Foundations"
   ]
  },
  {
   "cell_type": "markdown",
   "metadata": {},
   "source": [
    "### 📚 章節概覽（Chapter Overview）\n",
    "\n",
    "#### 學習目標（Learning Objectives）\n",
    "完成本章後，您將能夠：\n",
    "1. 理解檔案操作的基本概念與用途\n",
    "2. 掌握檔案的開啟、讀取、寫入、關閉操作\n",
    "3. 使用 `with` 語句進行資源管理\n",
    "4. 處理檔案編碼與常見錯誤\n",
    "\n",
    "#### 先備知識（Prerequisites）\n",
    "- Chapter 20-22: 異常處理（try-except）\n",
    "- Chapter 7: 字串操作\n",
    "- Chapter 9: 串列（list）基本操作\n",
    "\n",
    "#### 預計時長（Estimated Time）\n",
    "- 理論學習：60 分鐘\n",
    "- 範例演練：30 分鐘\n",
    "- 總計：90 分鐘"
   ]
  },
  {
   "cell_type": "markdown",
   "metadata": {},
   "source": [
    "---\n",
    "\n",
    "### 🔑 核心概念（Key Concepts）\n",
    "\n",
    "#### 1. 什麼是檔案操作？（What is File I/O?）\n",
    "\n",
    "**定義**：檔案操作（File I/O）是指程式與儲存裝置（如硬碟）之間進行資料讀寫的過程。\n",
    "\n",
    "**類比**：\n",
    "```\n",
    "程式記憶體 = 工作桌面（揮發性，關機就消失）\n",
    "檔案系統 = 抽屜櫃（永久儲存，可長期保存）\n",
    "檔案操作 = 從抽屜取出資料 或 將資料放入抽屜\n",
    "```\n",
    "\n",
    "#### 2. 為什麼需要檔案操作？（Why File I/O?）\n",
    "\n",
    "**First Principles 分析**：\n",
    "1. **問題**：程式關閉後，記憶體中的變數會消失\n",
    "2. **需求**：資料需要永久保存（如遊戲存檔、設定檔、使用者資料）\n",
    "3. **解法**：將資料寫入硬碟檔案\n",
    "4. **挑戰**：如何安全、正確地讀寫檔案？\n",
    "\n",
    "#### 3. 檔案操作的基本流程\n",
    "\n",
    "```python\n",
    "# 標準三步驟\n",
    "1. 開啟檔案 (open)    → 取得檔案句柄\n",
    "2. 操作檔案 (read/write) → 讀取或寫入資料\n",
    "3. 關閉檔案 (close)   → 釋放系統資源\n",
    "```"
   ]
  },
  {
   "cell_type": "markdown",
   "metadata": {},
   "source": [
    "---\n",
    "\n",
    "## Part II: 實作演練 | Hands-on Practice"
   ]
  },
  {
   "cell_type": "markdown",
   "metadata": {},
   "source": [
    "### 💡 範例 1：基本檔案寫入（Write Mode）\n",
    "\n",
    "使用 `open()` 函式建立檔案並寫入內容。"
   ]
  },
  {
   "cell_type": "code",
   "execution_count": null,
   "metadata": {},
   "outputs": [],
   "source": [
    "# 方法 1：傳統方式（需要手動關閉）\n",
    "# 開啟檔案（'w' 模式：write，覆蓋寫入）\n",
    "file = open(\"hello.txt\", \"w\", encoding=\"utf-8\")\n",
    "\n",
    "# 寫入內容\n",
    "file.write(\"Hello, World!\\n\")\n",
    "file.write(\"這是第二行\\n\")\n",
    "file.write(\"Python 檔案操作\")\n",
    "\n",
    "# 關閉檔案（重要！釋放資源）\n",
    "file.close()\n",
    "\n",
    "print(\"檔案 hello.txt 已建立並寫入內容\")"
   ]
  },
  {
   "cell_type": "code",
   "execution_count": null,
   "metadata": {},
   "outputs": [],
   "source": [
    "# 檢查檔案內容（在 Jupyter 中）\n",
    "# Windows 使用 !type，Linux/Mac 使用 !cat\n",
    "import platform\n",
    "\n",
    "if platform.system() == \"Windows\":\n",
    "    !type hello.txt\n",
    "else:\n",
    "    !cat hello.txt"
   ]
  },
  {
   "cell_type": "markdown",
   "metadata": {},
   "source": [
    "**關鍵要點**：\n",
    "- `open(filename, mode, encoding)` 的三個參數：\n",
    "  - `filename`: 檔案名稱（可含路徑）\n",
    "  - `mode`: 開啟模式（'w' = write 寫入）\n",
    "  - `encoding`: 編碼格式（中文務必使用 'utf-8'）\n",
    "- `write()` 方法不會自動換行，需手動加 `\\n`\n",
    "- 務必 `close()` 關閉檔案，否則可能造成資料遺失"
   ]
  },
  {
   "cell_type": "markdown",
   "metadata": {},
   "source": [
    "---\n",
    "\n",
    "### 💡 範例 2：使用 with 語句（推薦方式）\n",
    "\n",
    "使用 `with` 語句（上下文管理器）自動管理檔案資源。"
   ]
  },
  {
   "cell_type": "code",
   "execution_count": null,
   "metadata": {},
   "outputs": [],
   "source": [
    "# ✅ 推薦方式：with 語句\n",
    "with open(\"greeting.txt\", \"w\", encoding=\"utf-8\") as file:\n",
    "    file.write(\"歡迎來到 Python 世界！\\n\")\n",
    "    file.write(\"這個檔案使用 with 語句建立\\n\")\n",
    "    file.write(\"離開 with 區塊時會自動關閉檔案\")\n",
    "# 離開 with 區塊後，檔案自動關閉（即使發生異常也會關閉）\n",
    "\n",
    "print(\"檔案 greeting.txt 已建立（自動關閉）\")"
   ]
  },
  {
   "cell_type": "code",
   "execution_count": null,
   "metadata": {},
   "outputs": [],
   "source": [
    "# 驗證：嘗試再次寫入已關閉的檔案（會報錯）\n",
    "with open(\"test_close.txt\", \"w\", encoding=\"utf-8\") as f:\n",
    "    f.write(\"測試\")\n",
    "    file_obj = f  # 保存參照\n",
    "\n",
    "# 離開 with 後，檔案已關閉\n",
    "try:\n",
    "    file_obj.write(\"這行會失敗\")\n",
    "except ValueError as e:\n",
    "    print(f\"錯誤：{e}\")\n",
    "    print(\"說明：離開 with 區塊後，檔案已自動關閉\")"
   ]
  },
  {
   "cell_type": "markdown",
   "metadata": {},
   "source": [
    "**為什麼使用 with？**\n",
    "\n",
    "| 傳統方式 | with 語句 |\n",
    "|:---------|:----------|\n",
    "| 需手動 `close()` | ✅ 自動關閉 |\n",
    "| 若發生異常，可能未關閉 | ✅ 保證關閉（即使異常） |\n",
    "| 程式碼較長 | ✅ 程式碼簡潔 |\n",
    "| ❌ 容易忘記 | ✅ 最佳實踐 |"
   ]
  },
  {
   "cell_type": "markdown",
   "metadata": {},
   "source": [
    "---\n",
    "\n",
    "### 💡 範例 3：讀取檔案（Read Mode）\n",
    "\n",
    "使用不同方法讀取檔案內容。"
   ]
  },
  {
   "cell_type": "code",
   "execution_count": null,
   "metadata": {},
   "outputs": [],
   "source": [
    "# 先建立一個測試檔案\n",
    "with open(\"numbers.txt\", \"w\", encoding=\"utf-8\") as f:\n",
    "    f.write(\"第一行：數字 1\\n\")\n",
    "    f.write(\"第二行：數字 2\\n\")\n",
    "    f.write(\"第三行：數字 3\\n\")\n",
    "    f.write(\"第四行：數字 4\")\n",
    "\n",
    "print(\"測試檔案 numbers.txt 已建立\")"
   ]
  },
  {
   "cell_type": "code",
   "execution_count": null,
   "metadata": {},
   "outputs": [],
   "source": [
    "# 方法 1：read() - 一次讀取全部內容\n",
    "with open(\"numbers.txt\", \"r\", encoding=\"utf-8\") as f:\n",
    "    content = f.read()\n",
    "\n",
    "print(\"=== read() 方法 ===\")\n",
    "print(content)\n",
    "print(f\"\\n型態：{type(content)}\")\n",
    "print(f\"長度：{len(content)} 個字元\")"
   ]
  },
  {
   "cell_type": "code",
   "execution_count": null,
   "metadata": {},
   "outputs": [],
   "source": [
    "# 方法 2：readline() - 逐行讀取（一次一行）\n",
    "with open(\"numbers.txt\", \"r\", encoding=\"utf-8\") as f:\n",
    "    line1 = f.readline()\n",
    "    line2 = f.readline()\n",
    "    line3 = f.readline()\n",
    "\n",
    "print(\"=== readline() 方法 ===\")\n",
    "print(f\"第 1 行：{line1.strip()}\")  # strip() 移除換行符\n",
    "print(f\"第 2 行：{line2.strip()}\")\n",
    "print(f\"第 3 行：{line3.strip()}\")"
   ]
  },
  {
   "cell_type": "code",
   "execution_count": null,
   "metadata": {},
   "outputs": [],
   "source": [
    "# 方法 3：readlines() - 讀取所有行到列表\n",
    "with open(\"numbers.txt\", \"r\", encoding=\"utf-8\") as f:\n",
    "    lines = f.readlines()\n",
    "\n",
    "print(\"=== readlines() 方法 ===\")\n",
    "print(f\"型態：{type(lines)}\")\n",
    "print(f\"共 {len(lines)} 行\\n\")\n",
    "\n",
    "for i, line in enumerate(lines, 1):\n",
    "    print(f\"第 {i} 行：{line.strip()}\")"
   ]
  },
  {
   "cell_type": "code",
   "execution_count": null,
   "metadata": {},
   "outputs": [],
   "source": [
    "# 方法 4：逐行迭代（推薦用於大檔案）\n",
    "print(\"=== for 迴圈迭代（最佳實踐） ===\")\n",
    "with open(\"numbers.txt\", \"r\", encoding=\"utf-8\") as f:\n",
    "    for line_num, line in enumerate(f, 1):\n",
    "        print(f\"第 {line_num} 行：{line.strip()}\")\n",
    "\n",
    "print(\"\\n優點：記憶體效率高，適合處理大檔案\")"
   ]
  },
  {
   "cell_type": "markdown",
   "metadata": {},
   "source": [
    "**讀取方法比較**：\n",
    "\n",
    "| 方法 | 返回型態 | 適用情境 | 記憶體使用 |\n",
    "|:-----|:---------|:---------|:-----------|\n",
    "| `read()` | `str` | 小檔案（< 10 MB） | 高（全部載入） |\n",
    "| `readline()` | `str` | 需手動控制讀取 | 低（逐行） |\n",
    "| `readlines()` | `list` | 需列表操作 | 高（全部載入） |\n",
    "| `for line in file` | 迭代器 | 大檔案處理 | 低（串流處理） |"
   ]
  },
  {
   "cell_type": "markdown",
   "metadata": {},
   "source": [
    "---\n",
    "\n",
    "### 💡 範例 4：檔案開啟模式（File Modes）\n",
    "\n",
    "理解不同開啟模式的差異：'r', 'w', 'a', 'r+'"
   ]
  },
  {
   "cell_type": "code",
   "execution_count": null,
   "metadata": {},
   "outputs": [],
   "source": [
    "# 準備：建立初始檔案\n",
    "with open(\"modes_test.txt\", \"w\", encoding=\"utf-8\") as f:\n",
    "    f.write(\"原始內容：第一行\\n\")\n",
    "    f.write(\"原始內容：第二行\")\n",
    "\n",
    "print(\"初始檔案內容：\")\n",
    "with open(\"modes_test.txt\", \"r\", encoding=\"utf-8\") as f:\n",
    "    print(f.read())"
   ]
  },
  {
   "cell_type": "code",
   "execution_count": null,
   "metadata": {},
   "outputs": [],
   "source": [
    "# 模式 1：'w' - Write（覆蓋寫入）\n",
    "with open(\"modes_test.txt\", \"w\", encoding=\"utf-8\") as f:\n",
    "    f.write(\"新內容（原內容已被刪除）\")\n",
    "\n",
    "print(\"使用 'w' 模式後：\")\n",
    "with open(\"modes_test.txt\", \"r\", encoding=\"utf-8\") as f:\n",
    "    print(f.read())\n",
    "print(\"\\n⚠️ 注意：'w' 模式會刪除原有內容！\")"
   ]
  },
  {
   "cell_type": "code",
   "execution_count": null,
   "metadata": {},
   "outputs": [],
   "source": [
    "# 重新建立測試檔案\n",
    "with open(\"modes_test.txt\", \"w\", encoding=\"utf-8\") as f:\n",
    "    f.write(\"原始內容：第一行\\n\")\n",
    "    f.write(\"原始內容：第二行\")\n",
    "\n",
    "# 模式 2：'a' - Append（附加寫入）\n",
    "with open(\"modes_test.txt\", \"a\", encoding=\"utf-8\") as f:\n",
    "    f.write(\"\\n新增內容：第三行\")\n",
    "    f.write(\"\\n新增內容：第四行\")\n",
    "\n",
    "print(\"使用 'a' 模式後：\")\n",
    "with open(\"modes_test.txt\", \"r\", encoding=\"utf-8\") as f:\n",
    "    print(f.read())\n",
    "print(\"\\n✅ 優點：'a' 模式保留原有內容，只在末端追加\")"
   ]
  },
  {
   "cell_type": "code",
   "execution_count": null,
   "metadata": {},
   "outputs": [],
   "source": [
    "# 模式 3：'r+' - Read and Write（讀寫模式）\n",
    "# 注意：檔案必須存在\n",
    "with open(\"modes_test.txt\", \"r+\", encoding=\"utf-8\") as f:\n",
    "    # 先讀取\n",
    "    content = f.read()\n",
    "    print(\"讀取的內容：\")\n",
    "    print(content)\n",
    "    \n",
    "    # 再寫入（會從當前位置寫入）\n",
    "    f.write(\"\\n使用 r+ 模式追加\")\n",
    "\n",
    "print(\"\\n使用 'r+' 模式後：\")\n",
    "with open(\"modes_test.txt\", \"r\", encoding=\"utf-8\") as f:\n",
    "    print(f.read())"
   ]
  },
  {
   "cell_type": "code",
   "execution_count": null,
   "metadata": {},
   "outputs": [],
   "source": [
    "# 模式對照表展示\n",
    "print(\"檔案開啟模式對照表：\")\n",
    "print(\"=\"*60)\n",
    "modes = [\n",
    "    (\"'r'\", \"唯讀\", \"檔案必須存在\", \"讀取設定檔\"),\n",
    "    (\"'w'\", \"寫入（覆蓋）\", \"會刪除原內容\", \"產生報表\"),\n",
    "    (\"'a'\", \"附加\", \"保留原內容\", \"日誌記錄\"),\n",
    "    (\"'r+'\", \"讀寫\", \"可讀可寫\", \"更新檔案\"),\n",
    "    (\"'rb'\", \"二進位讀取\", \"處理圖片、影片\", \"讀取圖片\"),\n",
    "]\n",
    "\n",
    "for mode, desc, note, usage in modes:\n",
    "    print(f\"{mode:6} - {desc:12} | {note:16} | 用途: {usage}\")"
   ]
  },
  {
   "cell_type": "markdown",
   "metadata": {},
   "source": [
    "---\n",
    "\n",
    "### 💡 範例 5：檔案編碼處理（Encoding）\n",
    "\n",
    "處理不同編碼的檔案（特別重要：中文處理）"
   ]
  },
  {
   "cell_type": "code",
   "execution_count": null,
   "metadata": {},
   "outputs": [],
   "source": [
    "# 範例 5-1：UTF-8 編碼（推薦）\n",
    "with open(\"chinese_utf8.txt\", \"w\", encoding=\"utf-8\") as f:\n",
    "    f.write(\"這是繁體中文檔案\\n\")\n",
    "    f.write(\"使用 UTF-8 編碼\\n\")\n",
    "    f.write(\"可以正確顯示中文字：你好、世界\")\n",
    "\n",
    "# 讀取 UTF-8 檔案\n",
    "with open(\"chinese_utf8.txt\", \"r\", encoding=\"utf-8\") as f:\n",
    "    content = f.read()\n",
    "    print(\"UTF-8 檔案內容：\")\n",
    "    print(content)"
   ]
  },
  {
   "cell_type": "code",
   "execution_count": null,
   "metadata": {},
   "outputs": [],
   "source": [
    "# 範例 5-2：編碼錯誤示範\n",
    "# 建立 Big5 編碼的檔案（台灣早期常用）\n",
    "try:\n",
    "    with open(\"chinese_big5.txt\", \"w\", encoding=\"big5\") as f:\n",
    "        f.write(\"這是 Big5 編碼的檔案\")\n",
    "    \n",
    "    # 錯誤：用 UTF-8 讀取 Big5 檔案\n",
    "    with open(\"chinese_big5.txt\", \"r\", encoding=\"utf-8\") as f:\n",
    "        content = f.read()\n",
    "        print(content)\n",
    "except UnicodeDecodeError as e:\n",
    "    print(f\"❌ 編碼錯誤：{e}\")\n",
    "    print(\"\\n原因：使用錯誤的編碼讀取檔案\")"
   ]
  },
  {
   "cell_type": "code",
   "execution_count": null,
   "metadata": {},
   "outputs": [],
   "source": [
    "# 正確：使用正確的編碼\n",
    "with open(\"chinese_big5.txt\", \"r\", encoding=\"big5\") as f:\n",
    "    content = f.read()\n",
    "    print(\"✅ 使用正確編碼 (Big5) 讀取：\")\n",
    "    print(content)"
   ]
  },
  {
   "cell_type": "code",
   "execution_count": null,
   "metadata": {},
   "outputs": [],
   "source": [
    "# 範例 5-3：編碼轉換（Big5 → UTF-8）\n",
    "# 步驟 1：用 Big5 讀取\n",
    "with open(\"chinese_big5.txt\", \"r\", encoding=\"big5\") as f:\n",
    "    content = f.read()\n",
    "\n",
    "# 步驟 2：用 UTF-8 寫入\n",
    "with open(\"chinese_converted.txt\", \"w\", encoding=\"utf-8\") as f:\n",
    "    f.write(content)\n",
    "\n",
    "print(\"✅ 編碼轉換完成：Big5 → UTF-8\")\n",
    "\n",
    "# 驗證\n",
    "with open(\"chinese_converted.txt\", \"r\", encoding=\"utf-8\") as f:\n",
    "    print(f\"轉換後的檔案（UTF-8）：{f.read()}\")"
   ]
  },
  {
   "cell_type": "markdown",
   "metadata": {},
   "source": [
    "**編碼最佳實踐**：\n",
    "1. ✅ **統一使用 UTF-8**：現代標準，支援所有語言\n",
    "2. ✅ **明確指定 encoding**：不要依賴系統預設\n",
    "3. ⚠️ **處理遺留檔案**：台灣舊檔案可能是 Big5 或 CP950\n",
    "4. ✅ **使用 try-except**：捕捉 `UnicodeDecodeError`\n",
    "\n",
    "```python\n",
    "# 推薦寫法\n",
    "with open(\"file.txt\", \"r\", encoding=\"utf-8\") as f:\n",
    "    content = f.read()\n",
    "```"
   ]
  },
  {
   "cell_type": "markdown",
   "metadata": {},
   "source": [
    "---\n",
    "\n",
    "### 💡 範例 6：異常處理（Error Handling）\n",
    "\n",
    "處理檔案操作中的常見錯誤"
   ]
  },
  {
   "cell_type": "code",
   "execution_count": null,
   "metadata": {},
   "outputs": [],
   "source": [
    "# 錯誤 1：FileNotFoundError - 檔案不存在\n",
    "try:\n",
    "    with open(\"not_exist.txt\", \"r\", encoding=\"utf-8\") as f:\n",
    "        content = f.read()\n",
    "except FileNotFoundError:\n",
    "    print(\"❌ 錯誤：檔案不存在！\")\n",
    "    print(\"解決方法：檢查檔案名稱或路徑，或使用 'w' 模式建立檔案\")"
   ]
  },
  {
   "cell_type": "code",
   "execution_count": null,
   "metadata": {},
   "outputs": [],
   "source": [
    "# 錯誤 2：PermissionError - 權限不足\n",
    "import os\n",
    "\n",
    "# 嘗試寫入到系統保護目錄（可能失敗）\n",
    "try:\n",
    "    # 這個路徑在不同系統可能不同\n",
    "    # Windows: C:\\\\Windows\\\\test.txt\n",
    "    # Linux/Mac: /root/test.txt\n",
    "    with open(\"/root/test.txt\", \"w\", encoding=\"utf-8\") as f:\n",
    "        f.write(\"test\")\n",
    "except PermissionError:\n",
    "    print(\"❌ 錯誤：權限不足，無法寫入此位置！\")\n",
    "    print(\"解決方法：選擇有權限的目錄，或使用管理員權限執行\")\n",
    "except FileNotFoundError:\n",
    "    print(\"（此範例在 Windows 可能不適用）\")"
   ]
  },
  {
   "cell_type": "code",
   "execution_count": null,
   "metadata": {},
   "outputs": [],
   "source": [
    "# 錯誤 3：UnicodeDecodeError - 編碼錯誤\n",
    "# （已在範例 5 展示）\n",
    "\n",
    "# 綜合異常處理範例\n",
    "def safe_read_file(filename, encoding=\"utf-8\"):\n",
    "    \"\"\"安全地讀取檔案，包含完整的錯誤處理\"\"\"\n",
    "    try:\n",
    "        with open(filename, \"r\", encoding=encoding) as f:\n",
    "            return f.read()\n",
    "    except FileNotFoundError:\n",
    "        return f\"錯誤：找不到檔案 '{filename}'\"\n",
    "    except PermissionError:\n",
    "        return f\"錯誤：沒有權限讀取 '{filename}'\"\n",
    "    except UnicodeDecodeError:\n",
    "        return f\"錯誤：編碼錯誤，'{filename}' 可能不是 {encoding} 編碼\"\n",
    "    except Exception as e:\n",
    "        return f\"未知錯誤：{e}\"\n",
    "\n",
    "# 測試\n",
    "print(\"測試 1 - 正常檔案：\")\n",
    "print(safe_read_file(\"hello.txt\"))\n",
    "\n",
    "print(\"\\n測試 2 - 不存在的檔案：\")\n",
    "print(safe_read_file(\"ghost.txt\"))\n",
    "\n",
    "print(\"\\n測試 3 - 編碼錯誤：\")\n",
    "print(safe_read_file(\"chinese_big5.txt\", encoding=\"utf-8\"))"
   ]
  },
  {
   "cell_type": "markdown",
   "metadata": {},
   "source": [
    "**檔案操作常見異常**：\n",
    "\n",
    "| 異常 | 原因 | 解決方法 |\n",
    "|:-----|:-----|:---------|\n",
    "| `FileNotFoundError` | 檔案不存在 | 檢查路徑，或用 'w' 建立 |\n",
    "| `PermissionError` | 權限不足 | 更改目錄或提升權限 |\n",
    "| `UnicodeDecodeError` | 編碼錯誤 | 使用正確編碼 |\n",
    "| `IsADirectoryError` | 目標是資料夾 | 檢查路徑是否正確 |\n",
    "| `ValueError` | 檔案已關閉 | 確保在 with 區塊內操作 |"
   ]
  },
  {
   "cell_type": "markdown",
   "metadata": {},
   "source": [
    "---\n",
    "\n",
    "### 💡 範例 7：實戰應用 - 簡易日誌系統\n",
    "\n",
    "結合所學，實作一個實用的日誌記錄功能"
   ]
  },
  {
   "cell_type": "code",
   "execution_count": null,
   "metadata": {},
   "outputs": [],
   "source": [
    "from datetime import datetime\n",
    "\n",
    "def log_message(message, log_file=\"app.log\"):\n",
    "    \"\"\"\n",
    "    將訊息附加到日誌檔案\n",
    "    \n",
    "    參數：\n",
    "        message (str): 要記錄的訊息\n",
    "        log_file (str): 日誌檔案名稱\n",
    "    \"\"\"\n",
    "    timestamp = datetime.now().strftime(\"%Y-%m-%d %H:%M:%S\")\n",
    "    log_entry = f\"[{timestamp}] {message}\\n\"\n",
    "    \n",
    "    try:\n",
    "        with open(log_file, \"a\", encoding=\"utf-8\") as f:\n",
    "            f.write(log_entry)\n",
    "        print(f\"✅ 日誌已記錄：{message}\")\n",
    "    except Exception as e:\n",
    "        print(f\"❌ 日誌記錄失敗：{e}\")\n",
    "\n",
    "# 測試日誌系統\n",
    "log_message(\"應用程式啟動\")\n",
    "log_message(\"使用者登入成功\")\n",
    "log_message(\"處理資料中...\")\n",
    "log_message(\"應用程式關閉\")"
   ]
  },
  {
   "cell_type": "code",
   "execution_count": null,
   "metadata": {},
   "outputs": [],
   "source": [
    "# 檢視日誌內容\n",
    "print(\"=== 日誌檔案內容 ===\")\n",
    "with open(\"app.log\", \"r\", encoding=\"utf-8\") as f:\n",
    "    print(f.read())"
   ]
  },
  {
   "cell_type": "code",
   "execution_count": null,
   "metadata": {},
   "outputs": [],
   "source": [
    "# 進階：讀取最新 N 筆日誌\n",
    "def read_latest_logs(log_file=\"app.log\", n=3):\n",
    "    \"\"\"\n",
    "    讀取最新的 N 筆日誌\n",
    "    \n",
    "    參數：\n",
    "        log_file (str): 日誌檔案名稱\n",
    "        n (int): 要讀取的筆數\n",
    "    \n",
    "    返回：\n",
    "        list: 最新 N 筆日誌\n",
    "    \"\"\"\n",
    "    try:\n",
    "        with open(log_file, \"r\", encoding=\"utf-8\") as f:\n",
    "            lines = f.readlines()\n",
    "            return lines[-n:]  # 取最後 N 行\n",
    "    except FileNotFoundError:\n",
    "        return [\"日誌檔案不存在\"]\n",
    "\n",
    "# 測試\n",
    "print(\"最新 3 筆日誌：\")\n",
    "latest = read_latest_logs(n=3)\n",
    "for log in latest:\n",
    "    print(log.strip())"
   ]
  },
  {
   "cell_type": "markdown",
   "metadata": {},
   "source": [
    "---\n",
    "\n",
    "## Part III: 本章總結 | Chapter Summary"
   ]
  },
  {
   "cell_type": "markdown",
   "metadata": {},
   "source": [
    "### 📊 知識回顧\n",
    "\n",
    "#### 核心概念\n",
    "1. **檔案操作三步驟**：開啟 → 操作 → 關閉\n",
    "2. **with 語句**：自動管理資源，最佳實踐\n",
    "3. **讀取方法**：`read()`, `readline()`, `readlines()`, `for line in file`\n",
    "4. **開啟模式**：'r'(讀), 'w'(覆寫), 'a'(附加), 'r+'(讀寫)\n",
    "5. **編碼處理**：統一使用 UTF-8，明確指定 `encoding`\n",
    "6. **異常處理**：`FileNotFoundError`, `PermissionError`, `UnicodeDecodeError`\n",
    "\n",
    "#### 重要語法\n",
    "```python\n",
    "# 推薦寫法（with 語句）\n",
    "with open(filename, mode, encoding=\"utf-8\") as f:\n",
    "    content = f.read()  # 或其他操作\n",
    "# 自動關閉\n",
    "\n",
    "# 異常處理\n",
    "try:\n",
    "    with open(filename, \"r\", encoding=\"utf-8\") as f:\n",
    "        content = f.read()\n",
    "except FileNotFoundError:\n",
    "    print(\"檔案不存在\")\n",
    "```\n",
    "\n",
    "#### 最佳實踐\n",
    "1. ✅ **總是使用 `with` 語句**\n",
    "2. ✅ **明確指定 `encoding=\"utf-8\"`**\n",
    "3. ✅ **使用 try-except 處理異常**\n",
    "4. ✅ **大檔案用 `for line in file` 迭代**\n",
    "5. ⚠️ **謹慎使用 'w' 模式（會刪除原內容）**"
   ]
  },
  {
   "cell_type": "markdown",
   "metadata": {},
   "source": [
    "### ⚠️ 常見誤區（Common Pitfalls）\n",
    "\n",
    "| 誤區 | 錯誤示例 | 正確做法 |\n",
    "|:-----|:---------|:---------|\n",
    "| 忘記關閉檔案 | `f = open(...); f.read()` | `with open(...) as f: ...` |\n",
    "| 誤用 'w' 模式 | `open(\"data.txt\", \"w\")` 刪除資料 | 用 'a' 或先確認 |\n",
    "| 未指定編碼 | `open(\"中文.txt\")` | `open(\"中文.txt\", encoding=\"utf-8\")` |\n",
    "| 不處理異常 | 直接 `open()` 可能崩潰 | 使用 `try-except` |\n",
    "| 大檔案用 `read()` | 記憶體不足 | 用 `for line in file` |"
   ]
  },
  {
   "cell_type": "markdown",
   "metadata": {},
   "source": [
    "---\n",
    "\n",
    "### 🎯 自我檢核（Self-Check）\n",
    "\n",
    "完成本講義後，請回答以下問題：\n",
    "\n",
    "1. 為什麼要使用 `with` 語句而非手動 `close()`？\n",
    "2. `'w'` 和 `'a'` 模式有什麼差別？各適合什麼情境？\n",
    "3. 如何讀取一個 1GB 的大檔案而不耗盡記憶體？\n",
    "4. 為什麼處理中文檔案時要指定 `encoding=\"utf-8\"`？\n",
    "5. 如何處理檔案不存在的錯誤？\n",
    "\n",
    "**參考答案請見課後習題解答**"
   ]
  },
  {
   "cell_type": "markdown",
   "metadata": {},
   "source": [
    "---\n",
    "\n",
    "### 🔗 延伸閱讀（Further Reading）\n",
    "\n",
    "#### Python 官方文件\n",
    "- [Reading and Writing Files](https://docs.python.org/3/tutorial/inputoutput.html#reading-and-writing-files)\n",
    "- [Built-in Functions: open()](https://docs.python.org/3/library/functions.html#open)\n",
    "- [The with statement](https://docs.python.org/3/reference/compound_stmts.html#with)\n",
    "\n",
    "#### 推薦資源\n",
    "- [Real Python: Reading and Writing Files](https://realpython.com/read-write-files-python/)\n",
    "- [Python File Handling Complete Guide](https://www.programiz.com/python-programming/file-operation)\n",
    "\n",
    "#### 下一步\n",
    "- **Chapter 24: JSON 檔案處理** - 結構化資料的儲存\n",
    "- **Chapter 25: CSV 檔案處理** - 試算表資料的處理\n",
    "- **Chapter 26: 路徑與檔案系統** - 跨平台路徑管理\n",
    "- 完成 `02-worked-examples.ipynb` 加深理解\n",
    "- 完成 `03-practice.ipynb` 進行課堂練習"
   ]
  },
  {
   "cell_type": "markdown",
   "metadata": {},
   "source": [
    "---\n",
    "\n",
    "## 💪 即時練習（Quick Practice）\n",
    "\n",
    "請在下方 cell 完成以下任務：\n",
    "\n",
    "1. 建立一個名為 `student.txt` 的檔案\n",
    "2. 寫入你的姓名、學號、科系（各一行）\n",
    "3. 讀取檔案並顯示內容\n",
    "4. 使用 `with` 語句，並指定 `encoding=\"utf-8\"`"
   ]
  },
  {
   "cell_type": "code",
   "execution_count": null,
   "metadata": {},
   "outputs": [],
   "source": [
    "# 在此撰寫你的程式碼\n",
    "\n",
    "# 步驟 1 & 2: 建立並寫入檔案\n",
    "\n",
    "\n",
    "# 步驟 3: 讀取並顯示\n"
   ]
  },
  {
   "cell_type": "markdown",
   "metadata": {},
   "source": [
    "---\n",
    "\n",
    "## 📝 課後作業預告\n",
    "\n",
    "請依序完成：\n",
    "1. `02-worked-examples.ipynb` - 詳解範例（必做）\n",
    "2. `03-practice.ipynb` - 課堂練習（必做）\n",
    "3. `04-exercises.ipynb` - 課後習題（必做，12 題）\n",
    "4. `quiz.ipynb` - 自我測驗（檢核學習成效）\n",
    "\n",
    "**預計完成時間**：3-4 小時\n",
    "\n",
    "**重點提醒**：檔案操作需要大量實作才能熟練！建議在電腦上建立測試資料夾，實際操作每個範例。"
   ]
  }
 ],
 "metadata": {
  "kernelspec": {
   "display_name": "Python 3",
   "language": "python",
   "name": "python3"
  },
  "language_info": {
   "codemirror_mode": {
    "name": "ipython",
    "version": 3
   },
   "file_extension": ".py",
   "mimetype": "text/x-python",
   "name": "python",
   "nbconvert_exporter": "python",
   "pygments_lexer": "ipython3",
   "version": "3.8.0"
  }
 },
 "nbformat": 4,
 "nbformat_minor": 4
}
