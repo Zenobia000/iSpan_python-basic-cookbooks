{
 "cells": [
  {
   "cell_type": "markdown",
   "metadata": {},
   "source": [
    "# Ch23: 檔案輸入輸出基礎 - 課堂練習\n",
    "\n",
    "本練習包含 12 個課堂練習題，涵蓋檔案 I/O 的核心操作。\n",
    "\n",
    "## 練習說明\n",
    "- 每題都有明確的任務描述\n",
    "- 請在提供的程式碼區塊中完成程式\n",
    "- 可以參考講義範例\n",
    "- 建議完成後與同學討論\n",
    "\n",
    "**預計時間**: 30-40 分鐘\n",
    "\n",
    "---"
   ]
  },
  {
   "cell_type": "markdown",
   "metadata": {},
   "source": [
    "## Part I: 基礎檔案讀寫 (3題)\n",
    "\n",
    "### 練習 1: 讀取文字檔並顯示內容\n",
    "\n",
    "**難度**: 基礎 | **主題**: 檔案讀取\n",
    "\n",
    "**任務**: 建立一個檔案 `test.txt`，寫入一些文字，然後讀取並顯示內容。\n",
    "\n",
    "**提示**:\n",
    "- 先用 `'w'` 模式寫入\n",
    "- 再用 `'r'` 模式讀取\n",
    "- 使用 `read()` 方法"
   ]
  },
  {
   "cell_type": "code",
   "execution_count": null,
   "metadata": {},
   "outputs": [],
   "source": [
    "# 你的程式碼\n",
    "# 步驟 1: 寫入檔案\n",
    "\n",
    "\n",
    "# 步驟 2: 讀取檔案\n"
   ]
  },
  {
   "cell_type": "markdown",
   "metadata": {},
   "source": [
    "### 練習 2: 寫入字串到檔案（使用 with）\n",
    "\n",
    "**難度**: 基礎 | **主題**: with 語句\n",
    "\n",
    "**任務**: 使用 `with` 語句將以下詩句寫入 `poem.txt`：\n",
    "\n",
    "```\n",
    "靜夜思\n",
    "床前明月光\n",
    "疑是地上霜\n",
    "舉頭望明月\n",
    "低頭思故鄉\n",
    "```\n",
    "\n",
    "**提示**:\n",
    "- 使用 `with open(...) as f:`\n",
    "- 可以用 `\\n` 連接多行字串\n",
    "- 或使用三引號字串"
   ]
  },
  {
   "cell_type": "code",
   "execution_count": null,
   "metadata": {},
   "outputs": [],
   "source": [
    "# 你的程式碼\n"
   ]
  },
  {
   "cell_type": "markdown",
   "metadata": {},
   "source": [
    "### 練習 3: 附加內容到現有檔案\n",
    "\n",
    "**難度**: 基礎 | **主題**: 附加模式\n",
    "\n",
    "**任務**: 在 `poem.txt` 檔案末尾附加作者資訊 `\"-- 李白\"`\n",
    "\n",
    "**提示**:\n",
    "- 使用 `'a'` 模式\n",
    "- 記得加上換行符號"
   ]
  },
  {
   "cell_type": "code",
   "execution_count": null,
   "metadata": {},
   "outputs": [],
   "source": [
    "# 你的程式碼\n",
    "\n",
    "\n",
    "# 驗證：讀取並顯示完整內容\n"
   ]
  },
  {
   "cell_type": "markdown",
   "metadata": {},
   "source": [
    "---\n",
    "\n",
    "## Part II: 逐行處理 (3題)\n",
    "\n",
    "### 練習 4: 逐行讀取並編號顯示\n",
    "\n",
    "**難度**: 基礎 | **主題**: 逐行讀取\n",
    "\n",
    "**任務**: 讀取 `poem.txt`，為每一行加上行號並顯示。\n",
    "\n",
    "**預期輸出**:\n",
    "```\n",
    "1: 靜夜思\n",
    "2: 床前明月光\n",
    "3: 疑是地上霜\n",
    "...\n",
    "```\n",
    "\n",
    "**提示**:\n",
    "- 使用 `readlines()` 或迭代檔案物件\n",
    "- 使用 `enumerate()` 函式\n",
    "- 記得去除每行末尾的換行符號"
   ]
  },
  {
   "cell_type": "code",
   "execution_count": null,
   "metadata": {},
   "outputs": [],
   "source": [
    "# 你的程式碼\n"
   ]
  },
  {
   "cell_type": "markdown",
   "metadata": {},
   "source": [
    "### 練習 5: 過濾空白行\n",
    "\n",
    "**難度**: 基礎 | **主題**: 條件過濾\n",
    "\n",
    "**任務**: 建立一個檔案包含空白行，讀取時過濾掉空白行。\n",
    "\n",
    "**提示**:\n",
    "- 使用 `strip()` 去除空白字元\n",
    "- 檢查行是否為空字串"
   ]
  },
  {
   "cell_type": "code",
   "execution_count": null,
   "metadata": {},
   "outputs": [],
   "source": [
    "# 先建立包含空白行的檔案\n",
    "with open('data.txt', 'w', encoding='utf-8') as f:\n",
    "    f.write('第一行\\n')\n",
    "    f.write('\\n')\n",
    "    f.write('第三行\\n')\n",
    "    f.write('   \\n')\n",
    "    f.write('第五行\\n')\n",
    "\n",
    "# 你的程式碼：讀取並過濾空白行\n"
   ]
  },
  {
   "cell_type": "markdown",
   "metadata": {},
   "source": [
    "### 練習 6: 統計檔案行數與字數\n",
    "\n",
    "**難度**: 中級 | **主題**: 文字處理\n",
    "\n",
    "**任務**: 讀取 `poem.txt`，統計總行數、總字數（不含空白）。\n",
    "\n",
    "**提示**:\n",
    "- 行數：計算有多少行\n",
    "- 字數：計算所有字元總數（去除空白和換行）"
   ]
  },
  {
   "cell_type": "code",
   "execution_count": null,
   "metadata": {},
   "outputs": [],
   "source": [
    "# 你的程式碼\n"
   ]
  },
  {
   "cell_type": "markdown",
   "metadata": {},
   "source": [
    "---\n",
    "\n",
    "## Part III: 編碼處理 (2題)\n",
    "\n",
    "### 練習 7: 讀取 UTF-8 編碼檔案\n",
    "\n",
    "**難度**: 基礎 | **主題**: 編碼處理\n",
    "\n",
    "**任務**: 建立一個包含中文、英文、特殊字元的 UTF-8 檔案並正確讀取。\n",
    "\n",
    "**提示**:\n",
    "- 寫入時指定 `encoding='utf-8'`\n",
    "- 讀取時也要指定相同編碼"
   ]
  },
  {
   "cell_type": "code",
   "execution_count": null,
   "metadata": {},
   "outputs": [],
   "source": [
    "# 你的程式碼\n",
    "# 步驟 1: 寫入包含多種字元的檔案\n",
    "\n",
    "\n",
    "# 步驟 2: 讀取並顯示\n"
   ]
  },
  {
   "cell_type": "markdown",
   "metadata": {},
   "source": [
    "### 練習 8: 處理不同編碼（UTF-8 vs Big5）\n",
    "\n",
    "**難度**: 中級 | **主題**: 編碼轉換\n",
    "\n",
    "**任務**: 建立一個 Big5 編碼的檔案，然後用正確的編碼讀取。\n",
    "\n",
    "**提示**:\n",
    "- Windows 繁體中文系統常用 Big5\n",
    "- 寫入時用 `encoding='big5'`\n",
    "- 讀取時也要用 `encoding='big5'`"
   ]
  },
  {
   "cell_type": "code",
   "execution_count": null,
   "metadata": {},
   "outputs": [],
   "source": [
    "# 你的程式碼\n"
   ]
  },
  {
   "cell_type": "markdown",
   "metadata": {},
   "source": [
    "---\n",
    "\n",
    "## Part IV: 異常處理 (2題)\n",
    "\n",
    "### 練習 9: 安全讀取（處理 FileNotFoundError）\n",
    "\n",
    "**難度**: 基礎 | **主題**: 異常處理\n",
    "\n",
    "**任務**: 嘗試讀取一個不存在的檔案，使用 try-except 處理錯誤。\n",
    "\n",
    "**提示**:\n",
    "- 使用 `try-except` 捕捉 `FileNotFoundError`\n",
    "- 顯示友善的錯誤訊息"
   ]
  },
  {
   "cell_type": "code",
   "execution_count": null,
   "metadata": {},
   "outputs": [],
   "source": [
    "# 你的程式碼\n"
   ]
  },
  {
   "cell_type": "markdown",
   "metadata": {},
   "source": [
    "### 練習 10: 處理 PermissionError\n",
    "\n",
    "**難度**: 中級 | **主題**: 異常處理\n",
    "\n",
    "**任務**: 建立一個函式，安全地寫入檔案，處理可能的權限錯誤。\n",
    "\n",
    "**提示**:\n",
    "- 捕捉 `PermissionError`\n",
    "- 回傳布林值表示是否成功"
   ]
  },
  {
   "cell_type": "code",
   "execution_count": null,
   "metadata": {},
   "outputs": [],
   "source": [
    "# 你的程式碼\n",
    "def safe_write(filename, content):\n",
    "    \"\"\"安全地寫入檔案，處理權限錯誤\"\"\"\n",
    "    pass\n",
    "\n",
    "# 測試\n",
    "result = safe_write('test_output.txt', 'Hello, World!')\n",
    "print(f\"寫入{'成功' if result else '失敗'}\")"
   ]
  },
  {
   "cell_type": "markdown",
   "metadata": {},
   "source": [
    "---\n",
    "\n",
    "## Part V: 實用功能 (2題)\n",
    "\n",
    "### 練習 11: 複製文字檔案\n",
    "\n",
    "**難度**: 中級 | **主題**: 讀寫結合\n",
    "\n",
    "**任務**: 實作一個函式，將一個文字檔案複製到另一個檔案。\n",
    "\n",
    "**提示**:\n",
    "- 讀取來源檔案內容\n",
    "- 寫入目標檔案\n",
    "- 使用相同編碼"
   ]
  },
  {
   "cell_type": "code",
   "execution_count": null,
   "metadata": {},
   "outputs": [],
   "source": [
    "# 你的程式碼\n",
    "def copy_file(source, destination):\n",
    "    \"\"\"複製文字檔案\"\"\"\n",
    "    pass\n",
    "\n",
    "# 測試\n",
    "copy_file('poem.txt', 'poem_backup.txt')\n",
    "print(\"檔案複製完成\")"
   ]
  },
  {
   "cell_type": "markdown",
   "metadata": {},
   "source": [
    "### 練習 12: 讀取設定檔（key=value 格式）\n",
    "\n",
    "**難度**: 中級 | **主題**: 字串解析\n",
    "\n",
    "**任務**: 讀取一個簡單的設定檔，將 `key=value` 格式的內容解析成字典。\n",
    "\n",
    "**範例設定檔** (`config.txt`):\n",
    "```\n",
    "username=admin\n",
    "password=secret123\n",
    "host=localhost\n",
    "port=8080\n",
    "```\n",
    "\n",
    "**預期輸出**:\n",
    "```python\n",
    "{\n",
    "    'username': 'admin',\n",
    "    'password': 'secret123',\n",
    "    'host': 'localhost',\n",
    "    'port': '8080'\n",
    "}\n",
    "```\n",
    "\n",
    "**提示**:\n",
    "- 逐行讀取\n",
    "- 使用 `split('=')` 分割\n",
    "- 使用 `strip()` 去除空白"
   ]
  },
  {
   "cell_type": "code",
   "execution_count": null,
   "metadata": {},
   "outputs": [],
   "source": [
    "# 先建立設定檔\n",
    "with open('config.txt', 'w', encoding='utf-8') as f:\n",
    "    f.write('username=admin\\n')\n",
    "    f.write('password=secret123\\n')\n",
    "    f.write('host=localhost\\n')\n",
    "    f.write('port=8080\\n')\n",
    "\n",
    "# 你的程式碼：讀取並解析設定檔\n",
    "def read_config(filename):\n",
    "    \"\"\"讀取設定檔並返回字典\"\"\"\n",
    "    pass\n",
    "\n",
    "# 測試\n",
    "config = read_config('config.txt')\n",
    "print(config)"
   ]
  },
  {
   "cell_type": "markdown",
   "metadata": {},
   "source": [
    "---\n",
    "\n",
    "## 練習總結\n",
    "\n",
    "完成以上練習後，你應該能夠：\n",
    "\n",
    "### ✅ 基礎檔案操作\n",
    "- 使用不同模式開啟檔案（讀取、寫入、附加）\n",
    "- 使用 `with` 語句管理檔案資源\n",
    "- 讀取和寫入文字內容\n",
    "\n",
    "### ✅ 逐行處理\n",
    "- 逐行讀取檔案\n",
    "- 過濾和處理文字內容\n",
    "- 統計檔案資訊\n",
    "\n",
    "### ✅ 編碼處理\n",
    "- 正確指定檔案編碼\n",
    "- 處理不同編碼的檔案\n",
    "\n",
    "### ✅ 異常處理\n",
    "- 處理檔案不存在錯誤\n",
    "- 處理權限錯誤\n",
    "\n",
    "### ✅ 實用功能\n",
    "- 複製檔案\n",
    "- 解析簡單設定檔\n",
    "\n",
    "### 下一步\n",
    "- 完成課後習題以鞏固學習\n",
    "- 嘗試處理真實的檔案資料\n",
    "- 學習更進階的檔案格式（JSON, CSV）"
   ]
  }
 ],
 "metadata": {
  "kernelspec": {
   "display_name": "Python 3",
   "language": "python",
   "name": "python3"
  },
  "language_info": {
   "codemirror_mode": {
    "name": "ipython",
    "version": 3
   },
   "file_extension": ".py",
   "mimetype": "text/x-python",
   "name": "python",
   "nbconvert_exporter": "python",
   "pygments_lexer": "ipython3",
   "version": "3.8.0"
  }
 },
 "nbformat": 4,
 "nbformat_minor": 4
}
