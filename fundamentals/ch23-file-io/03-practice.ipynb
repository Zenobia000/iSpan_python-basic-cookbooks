{
 "cells": [
  {
   "cell_type": "markdown",
   "metadata": {},
   "source": "# 檔案操作基礎 | File I/O Basics\n\n## 🛠️ 課堂練習 | Practice\n\n---\n\n## 📋 練習說明\n\n本檔案包含 **6 個課堂練習**，用於現場實作，鞏固學習成果。\n\n**建議流程**：\n1. 閱讀題目要求\n2. 獨立思考解法\n3. 實際撰寫程式碼\n4. 執行測試\n5. 若遇到困難，可參考 `02-worked-examples.ipynb` 的範例\n\n**預計時間**：30 分鐘\n\n---"
  },
  {
   "cell_type": "markdown",
   "metadata": {},
   "source": "## 練習 1：建立 greeting.txt，寫入問候語\n\n**難度**：基礎 | **主題**：檔案寫入\n\n### 題目要求\n（詳細需求描述）\n\n### 提示\n- 提示 1\n- 提示 2"
  },
  {
   "cell_type": "code",
   "execution_count": null,
   "metadata": {},
   "outputs": [],
   "source": "# 在此撰寫你的程式碼\n\n"
  },
  {
   "cell_type": "markdown",
   "metadata": {},
   "source": "---"
  },
  {
   "cell_type": "markdown",
   "metadata": {},
   "source": "## 練習 2：讀取 data.txt 並計算行數\n\n**難度**：基礎 | **主題**：檔案讀取\n\n### 題目要求\n（詳細需求描述）\n\n### 提示\n- 提示 1\n- 提示 2"
  },
  {
   "cell_type": "code",
   "execution_count": null,
   "metadata": {},
   "outputs": [],
   "source": "# 在此撰寫你的程式碼\n\n"
  },
  {
   "cell_type": "markdown",
   "metadata": {},
   "source": "---"
  },
  {
   "cell_type": "markdown",
   "metadata": {},
   "source": "## 練習 3：實作 append_log() 函式\n\n**難度**：基礎 | **主題**：附加模式\n\n### 題目要求\n（詳細需求描述）\n\n### 提示\n- 提示 1\n- 提示 2"
  },
  {
   "cell_type": "code",
   "execution_count": null,
   "metadata": {},
   "outputs": [],
   "source": "# 在此撰寫你的程式碼\n\n"
  },
  {
   "cell_type": "markdown",
   "metadata": {},
   "source": "---"
  },
  {
   "cell_type": "markdown",
   "metadata": {},
   "source": "## 練習 4：複製檔案內容到新檔案\n\n**難度**：基礎 | **主題**：讀寫結合\n\n### 題目要求\n（詳細需求描述）\n\n### 提示\n- 提示 1\n- 提示 2"
  },
  {
   "cell_type": "code",
   "execution_count": null,
   "metadata": {},
   "outputs": [],
   "source": "# 在此撰寫你的程式碼\n\n"
  },
  {
   "cell_type": "markdown",
   "metadata": {},
   "source": "---"
  },
  {
   "cell_type": "markdown",
   "metadata": {},
   "source": "## 練習 5：統計檔案中的字數\n\n**難度**：中級 | **主題**：文字處理\n\n### 題目要求\n（詳細需求描述）\n\n### 提示\n- 提示 1\n- 提示 2"
  },
  {
   "cell_type": "code",
   "execution_count": null,
   "metadata": {},
   "outputs": [],
   "source": "# 在此撰寫你的程式碼\n\n"
  },
  {
   "cell_type": "markdown",
   "metadata": {},
   "source": "---"
  },
  {
   "cell_type": "markdown",
   "metadata": {},
   "source": "## 練習 6：反轉檔案內容（最後一行變第一行）\n\n**難度**：中級 | **主題**：列表操作\n\n### 題目要求\n（詳細需求描述）\n\n### 提示\n- 提示 1\n- 提示 2"
  },
  {
   "cell_type": "code",
   "execution_count": null,
   "metadata": {},
   "outputs": [],
   "source": "# 在此撰寫你的程式碼\n\n"
  },
  {
   "cell_type": "markdown",
   "metadata": {},
   "source": "---"
  }
 ],
 "metadata": {
  "kernelspec": {
   "display_name": "Python 3",
   "language": "python",
   "name": "python3"
  },
  "language_info": {
   "codemirror_mode": {
    "name": "ipython",
    "version": 3
   },
   "file_extension": ".py",
   "mimetype": "text/x-python",
   "name": "python",
   "nbconvert_exporter": "python",
   "pygments_lexer": "ipython3",
   "version": "3.8.0"
  }
 },
 "nbformat": 4,
 "nbformat_minor": 4
}