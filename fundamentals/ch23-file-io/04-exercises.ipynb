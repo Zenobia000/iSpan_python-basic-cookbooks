{
 "cells": [
  {
   "cell_type": "markdown",
   "metadata": {},
   "source": "# 檔案操作基礎 | File I/O Basics\n\n## ✍️ 課後習題 | Exercises\n\n---\n\n## 📋 習題說明\n\n本檔案包含 **12 題**，難度分級如下：\n- 🟢 **基礎題（1-4）**：熟悉基本語法\n- 🟡 **中級題（5-8）**：綜合應用\n- 🔴 **進階題（9-10）**：深入思考\n- 🟣 **挑戰題（11-12）**：擴展學習\n\n**建議完成時間**：90-120 分鐘\n\n**完成後請對照** `05-solutions.ipynb` **檢視解答**\n\n---"
  },
  {
   "cell_type": "markdown",
   "metadata": {},
   "source": "## 🟢 習題 1：建立 greeting.txt，寫入問候語\n\n**難度**：基礎 | **主題**：檔案寫入\n\n### 題目要求\n（詳細需求描述）\n\n### 範例輸入/輸出\n```\n（範例）\n```"
  },
  {
   "cell_type": "code",
   "execution_count": null,
   "metadata": {},
   "outputs": [],
   "source": "# 在此撰寫你的程式碼\n\n"
  },
  {
   "cell_type": "markdown",
   "metadata": {},
   "source": "---"
  },
  {
   "cell_type": "markdown",
   "metadata": {},
   "source": "## 🟢 習題 2：讀取 data.txt 並計算行數\n\n**難度**：基礎 | **主題**：檔案讀取\n\n### 題目要求\n（詳細需求描述）\n\n### 範例輸入/輸出\n```\n（範例）\n```"
  },
  {
   "cell_type": "code",
   "execution_count": null,
   "metadata": {},
   "outputs": [],
   "source": "# 在此撰寫你的程式碼\n\n"
  },
  {
   "cell_type": "markdown",
   "metadata": {},
   "source": "---"
  },
  {
   "cell_type": "markdown",
   "metadata": {},
   "source": "## 🟢 習題 3：實作 append_log() 函式\n\n**難度**：基礎 | **主題**：附加模式\n\n### 題目要求\n（詳細需求描述）\n\n### 範例輸入/輸出\n```\n（範例）\n```"
  },
  {
   "cell_type": "code",
   "execution_count": null,
   "metadata": {},
   "outputs": [],
   "source": "# 在此撰寫你的程式碼\n\n"
  },
  {
   "cell_type": "markdown",
   "metadata": {},
   "source": "---"
  },
  {
   "cell_type": "markdown",
   "metadata": {},
   "source": "## 🟢 習題 4：複製檔案內容到新檔案\n\n**難度**：基礎 | **主題**：讀寫結合\n\n### 題目要求\n（詳細需求描述）\n\n### 範例輸入/輸出\n```\n（範例）\n```"
  },
  {
   "cell_type": "code",
   "execution_count": null,
   "metadata": {},
   "outputs": [],
   "source": "# 在此撰寫你的程式碼\n\n"
  },
  {
   "cell_type": "markdown",
   "metadata": {},
   "source": "---"
  },
  {
   "cell_type": "markdown",
   "metadata": {},
   "source": "## 🟡 習題 5：統計檔案中的字數\n\n**難度**：中級 | **主題**：文字處理\n\n### 題目要求\n（詳細需求描述）\n\n### 範例輸入/輸出\n```\n（範例）\n```"
  },
  {
   "cell_type": "code",
   "execution_count": null,
   "metadata": {},
   "outputs": [],
   "source": "# 在此撰寫你的程式碼\n\n"
  },
  {
   "cell_type": "markdown",
   "metadata": {},
   "source": "---"
  },
  {
   "cell_type": "markdown",
   "metadata": {},
   "source": "## 🟡 習題 6：反轉檔案內容（最後一行變第一行）\n\n**難度**：中級 | **主題**：列表操作\n\n### 題目要求\n（詳細需求描述）\n\n### 範例輸入/輸出\n```\n（範例）\n```"
  },
  {
   "cell_type": "code",
   "execution_count": null,
   "metadata": {},
   "outputs": [],
   "source": "# 在此撰寫你的程式碼\n\n"
  },
  {
   "cell_type": "markdown",
   "metadata": {},
   "source": "---"
  },
  {
   "cell_type": "markdown",
   "metadata": {},
   "source": "## 🟡 習題 7：刪除檔案中的空白行\n\n**難度**：中級 | **主題**：條件過濾\n\n### 題目要求\n（詳細需求描述）\n\n### 範例輸入/輸出\n```\n（範例）\n```"
  },
  {
   "cell_type": "code",
   "execution_count": null,
   "metadata": {},
   "outputs": [],
   "source": "# 在此撰寫你的程式碼\n\n"
  },
  {
   "cell_type": "markdown",
   "metadata": {},
   "source": "---"
  },
  {
   "cell_type": "markdown",
   "metadata": {},
   "source": "## 🟡 習題 8：實作簡易設定檔讀取器（key=value格式）\n\n**難度**：中級 | **主題**：字串解析\n\n### 題目要求\n（詳細需求描述）\n\n### 範例輸入/輸出\n```\n（範例）\n```"
  },
  {
   "cell_type": "code",
   "execution_count": null,
   "metadata": {},
   "outputs": [],
   "source": "# 在此撰寫你的程式碼\n\n"
  },
  {
   "cell_type": "markdown",
   "metadata": {},
   "source": "---"
  },
  {
   "cell_type": "markdown",
   "metadata": {},
   "source": "## 🔴 習題 9：Big5轉UTF-8編碼轉換工具\n\n**難度**：進階 | **主題**：編碼處理\n\n### 題目要求\n（詳細需求描述）\n\n### 範例輸入/輸出\n```\n（範例）\n```"
  },
  {
   "cell_type": "code",
   "execution_count": null,
   "metadata": {},
   "outputs": [],
   "source": "# 在此撰寫你的程式碼\n\n"
  },
  {
   "cell_type": "markdown",
   "metadata": {},
   "source": "---"
  },
  {
   "cell_type": "markdown",
   "metadata": {},
   "source": "## 🔴 習題 10：實作檔案備份函式（加上時間戳記）\n\n**難度**：進階 | **主題**：datetime模組\n\n### 題目要求\n（詳細需求描述）\n\n### 範例輸入/輸出\n```\n（範例）\n```"
  },
  {
   "cell_type": "code",
   "execution_count": null,
   "metadata": {},
   "outputs": [],
   "source": "# 在此撰寫你的程式碼\n\n"
  },
  {
   "cell_type": "markdown",
   "metadata": {},
   "source": "---"
  },
  {
   "cell_type": "markdown",
   "metadata": {},
   "source": "## 🟣 習題 11：批次重新命名檔案（加上編號前綴）\n\n**難度**：挑戰 | **主題**：os模組\n\n### 題目要求\n（詳細需求描述）\n\n### 範例輸入/輸出\n```\n（範例）\n```"
  },
  {
   "cell_type": "code",
   "execution_count": null,
   "metadata": {},
   "outputs": [],
   "source": "# 在此撰寫你的程式碼\n\n"
  },
  {
   "cell_type": "markdown",
   "metadata": {},
   "source": "---"
  },
  {
   "cell_type": "markdown",
   "metadata": {},
   "source": "## 🟣 習題 12：實作簡易文字檔案加密/解密工具\n\n**難度**：挑戰 | **主題**：綜合應用\n\n### 題目要求\n（詳細需求描述）\n\n### 範例輸入/輸出\n```\n（範例）\n```"
  },
  {
   "cell_type": "code",
   "execution_count": null,
   "metadata": {},
   "outputs": [],
   "source": "# 在此撰寫你的程式碼\n\n"
  },
  {
   "cell_type": "markdown",
   "metadata": {},
   "source": "---"
  }
 ],
 "metadata": {
  "kernelspec": {
   "display_name": "Python 3",
   "language": "python",
   "name": "python3"
  },
  "language_info": {
   "codemirror_mode": {
    "name": "ipython",
    "version": 3
   },
   "file_extension": ".py",
   "mimetype": "text/x-python",
   "name": "python",
   "nbconvert_exporter": "python",
   "pygments_lexer": "ipython3",
   "version": "3.8.0"
  }
 },
 "nbformat": 4,
 "nbformat_minor": 4
}