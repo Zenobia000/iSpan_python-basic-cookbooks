{
 "cells": [
  {
   "cell_type": "markdown",
   "metadata": {},
   "source": [
    "# Ch23: 檔案輸入輸出基礎 - 習題解答\n",
    "\n",
    "本檔案提供 **04-exercises.ipynb** 的完整解答。\n",
    "\n",
    "## 使用說明\n",
    "1. ⚠️ **先自行完成習題**，不要直接看解答\n",
    "2. ✅ 完成後，對照本檔案檢查答案\n",
    "3. 📝 理解不同解法的優缺點\n",
    "4. 💡 學習更簡潔或更高效的寫法\n",
    "\n",
    "---"
   ]
  },
  {
   "cell_type": "markdown",
   "metadata": {},
   "source": [
    "## 🟢 基礎題解答 (1-6)\n",
    "\n",
    "### 習題 1 解答：建立並寫入檔案\n",
    "\n",
    "**解題思路**:\n",
    "1. 使用 `with open()` 語句確保檔案正確關閉\n",
    "2. 使用 `'w'` 模式寫入（會覆蓋現有內容）\n",
    "3. 指定 `encoding='utf-8'` 支援中英文"
   ]
  },
  {
   "cell_type": "code",
   "execution_count": null,
   "metadata": {},
   "outputs": [],
   "source": [
    "# 習題 1 參考解答\n",
    "with open('greeting.txt', 'w', encoding='utf-8') as f:\n",
    "    f.write('Hello, World!\\n')\n",
    "    f.write('Welcome to Python File I/O\\n')\n",
    "\n",
    "print(\"檔案建立完成\")"
   ]
  },
  {
   "cell_type": "markdown",
   "metadata": {},
   "source": [
    "**知識點回顧**:\n",
    "- ✅ `with` 語句自動管理資源（離開區塊時自動關閉檔案）\n",
    "- ✅ `'w'` 模式會覆蓋現有檔案，若檔案不存在則建立\n",
    "- ✅ 每行結尾需手動加上 `\\n`\n",
    "\n",
    "**其他解法**:\n",
    "```python\n",
    "# 方法 2: 使用多行字串\n",
    "content = \"\"\"Hello, World!\n",
    "Welcome to Python File I/O\n",
    "\"\"\"\n",
    "with open('greeting.txt', 'w', encoding='utf-8') as f:\n",
    "    f.write(content)\n",
    "```\n",
    "\n",
    "---"
   ]
  },
  {
   "cell_type": "markdown",
   "metadata": {},
   "source": [
    "### 習題 2 解答：讀取並顯示檔案內容\n",
    "\n",
    "**解題思路**:\n",
    "1. 使用 `'r'` 模式開啟檔案\n",
    "2. 使用 `read()` 讀取全部內容\n",
    "3. 直接 print 輸出"
   ]
  },
  {
   "cell_type": "code",
   "execution_count": null,
   "metadata": {},
   "outputs": [],
   "source": [
    "# 習題 2 參考解答\n",
    "with open('greeting.txt', 'r', encoding='utf-8') as f:\n",
    "    content = f.read()\n",
    "    print(content)"
   ]
  },
  {
   "cell_type": "markdown",
   "metadata": {},
   "source": [
    "**知識點回顧**:\n",
    "- ✅ `read()` 讀取整個檔案內容（包含換行符號）\n",
    "- ✅ `'r'` 是預設模式，可以省略\n",
    "- ✅ print 會自動顯示換行\n",
    "\n",
    "**其他解法**:\n",
    "```python\n",
    "# 方法 2: 去除結尾多餘空白\n",
    "with open('greeting.txt', 'r', encoding='utf-8') as f:\n",
    "    print(f.read().rstrip())\n",
    "```\n",
    "\n",
    "---"
   ]
  },
  {
   "cell_type": "markdown",
   "metadata": {},
   "source": [
    "### 習題 3 解答：統計檔案行數\n",
    "\n",
    "**解題思路**:\n",
    "1. 使用 `readlines()` 取得所有行的列表\n",
    "2. 使用 `len()` 計算列表長度"
   ]
  },
  {
   "cell_type": "code",
   "execution_count": null,
   "metadata": {},
   "outputs": [],
   "source": [
    "# 習題 3 參考解答\n",
    "with open('greeting.txt', 'r', encoding='utf-8') as f:\n",
    "    lines = f.readlines()\n",
    "    line_count = len(lines)\n",
    "    print(f\"檔案共有 {line_count} 行\")"
   ]
  },
  {
   "cell_type": "markdown",
   "metadata": {},
   "source": [
    "**知識點回顧**:\n",
    "- ✅ `readlines()` 返回列表，每個元素是一行（包含 `\\n`）\n",
    "- ✅ `len()` 計算列表長度\n",
    "\n",
    "**其他解法**:\n",
    "```python\n",
    "# 方法 2: 逐行計數（記憶體效率更高）\n",
    "with open('greeting.txt', 'r', encoding='utf-8') as f:\n",
    "    line_count = sum(1 for line in f)\n",
    "    print(f\"檔案共有 {line_count} 行\")\n",
    "```\n",
    "\n",
    "---"
   ]
  },
  {
   "cell_type": "markdown",
   "metadata": {},
   "source": [
    "### 習題 4 解答：附加時間戳記到日誌檔\n",
    "\n",
    "**解題思路**:\n",
    "1. 使用 `datetime.now()` 取得當前時間\n",
    "2. 使用 `strftime()` 格式化時間\n",
    "3. 使用 `'a'` 模式附加到檔案"
   ]
  },
  {
   "cell_type": "code",
   "execution_count": null,
   "metadata": {},
   "outputs": [],
   "source": [
    "# 習題 4 參考解答\n",
    "from datetime import datetime\n",
    "\n",
    "def log_message(message):\n",
    "    \"\"\"將訊息附加到日誌檔\"\"\"\n",
    "    timestamp = datetime.now().strftime('%Y-%m-%d %H:%M:%S')\n",
    "    log_entry = f\"[{timestamp}] {message}\\n\"\n",
    "    \n",
    "    with open('log.txt', 'a', encoding='utf-8') as f:\n",
    "        f.write(log_entry)\n",
    "\n",
    "# 測試\n",
    "log_message('使用者登入成功')\n",
    "log_message('執行資料備份')\n",
    "log_message('系統關閉')\n",
    "\n",
    "# 驗證\n",
    "with open('log.txt', 'r', encoding='utf-8') as f:\n",
    "    print(f.read())"
   ]
  },
  {
   "cell_type": "markdown",
   "metadata": {},
   "source": [
    "**知識點回顧**:\n",
    "- ✅ `strftime()` 格式化時間：`%Y-%m-%d %H:%M:%S`\n",
    "- ✅ `'a'` 模式附加內容，不會覆蓋現有內容\n",
    "- ✅ f-string 格式化字串\n",
    "\n",
    "**常見錯誤**:\n",
    "- ❌ 忘記加上換行符號 `\\n`\n",
    "- ❌ 使用 `'w'` 模式會覆蓋之前的日誌\n",
    "\n",
    "---"
   ]
  },
  {
   "cell_type": "markdown",
   "metadata": {},
   "source": [
    "### 習題 5 解答：讀取檔案前 N 行\n",
    "\n",
    "**解題思路**:\n",
    "1. 開啟檔案並迭代\n",
    "2. 使用計數器或切片取前 n 行\n",
    "3. 返回列表"
   ]
  },
  {
   "cell_type": "code",
   "execution_count": null,
   "metadata": {},
   "outputs": [],
   "source": [
    "# 習題 5 參考解答\n",
    "def read_n_lines(filename, n):\n",
    "    \"\"\"讀取檔案前 n 行\"\"\"\n",
    "    with open(filename, 'r', encoding='utf-8') as f:\n",
    "        lines = []\n",
    "        for i, line in enumerate(f):\n",
    "            if i >= n:\n",
    "                break\n",
    "            lines.append(line.rstrip('\\n'))\n",
    "        return lines\n",
    "\n",
    "# 測試\n",
    "lines = read_n_lines('log.txt', 2)\n",
    "for line in lines:\n",
    "    print(line)"
   ]
  },
  {
   "cell_type": "markdown",
   "metadata": {},
   "source": [
    "**知識點回顧**:\n",
    "- ✅ `enumerate()` 同時取得索引和值\n",
    "- ✅ `rstrip('\\n')` 去除行尾換行符號\n",
    "- ✅ 提前 `break` 避免讀取整個檔案（效率考量）\n",
    "\n",
    "**其他解法**:\n",
    "```python\n",
    "# 方法 2: 使用列表切片（簡潔但讀取所有行）\n",
    "def read_n_lines(filename, n):\n",
    "    with open(filename, 'r', encoding='utf-8') as f:\n",
    "        return [line.rstrip('\\n') for line in f.readlines()[:n]]\n",
    "```\n",
    "\n",
    "---"
   ]
  },
  {
   "cell_type": "markdown",
   "metadata": {},
   "source": [
    "### 習題 6 解答：反轉檔案內容（行順序）\n",
    "\n",
    "**解題思路**:\n",
    "1. 讀取所有行到列表\n",
    "2. 使用 `reversed()` 或 `[::-1]` 反轉\n",
    "3. 寫入新檔案"
   ]
  },
  {
   "cell_type": "code",
   "execution_count": null,
   "metadata": {},
   "outputs": [],
   "source": [
    "# 習題 6 參考解答\n",
    "with open('greeting.txt', 'r', encoding='utf-8') as f:\n",
    "    lines = f.readlines()\n",
    "\n",
    "with open('greeting_reversed.txt', 'w', encoding='utf-8') as f:\n",
    "    f.writelines(reversed(lines))\n",
    "\n",
    "# 驗證\n",
    "with open('greeting_reversed.txt', 'r', encoding='utf-8') as f:\n",
    "    print(f.read())"
   ]
  },
  {
   "cell_type": "markdown",
   "metadata": {},
   "source": [
    "**知識點回顧**:\n",
    "- ✅ `reversed()` 返回反轉的迭代器\n",
    "- ✅ `writelines()` 寫入多行（列表或迭代器）\n",
    "- ✅ 不需手動加 `\\n`，因為原本就有\n",
    "\n",
    "**其他解法**:\n",
    "```python\n",
    "# 方法 2: 使用切片反轉\n",
    "with open('greeting.txt', 'r', encoding='utf-8') as f:\n",
    "    lines = f.readlines()\n",
    "\n",
    "with open('greeting_reversed.txt', 'w', encoding='utf-8') as f:\n",
    "    f.writelines(lines[::-1])\n",
    "```\n",
    "\n",
    "---"
   ]
  },
  {
   "cell_type": "markdown",
   "metadata": {},
   "source": [
    "## 🟡 進階題解答 (7-12)\n",
    "\n",
    "### 習題 7 解答：單字計數器\n",
    "\n",
    "**解題思路**:\n",
    "1. 讀取檔案所有內容\n",
    "2. 使用 `split()` 分割單字\n",
    "3. 使用字典統計次數\n",
    "4. 寫入結果到新檔案"
   ]
  },
  {
   "cell_type": "code",
   "execution_count": null,
   "metadata": {},
   "outputs": [],
   "source": [
    "# 習題 7 參考解答\n",
    "# 讀取檔案並統計單字\n",
    "word_count = {}\n",
    "\n",
    "with open('text.txt', 'r', encoding='utf-8') as f:\n",
    "    for line in f:\n",
    "        words = line.split()\n",
    "        for word in words:\n",
    "            # 移除標點符號並轉小寫（可選）\n",
    "            word = word.strip('.,!?')\n",
    "            if word:\n",
    "                word_count[word] = word_count.get(word, 0) + 1\n",
    "\n",
    "# 寫入結果\n",
    "with open('word_count.txt', 'w', encoding='utf-8') as f:\n",
    "    for word, count in word_count.items():\n",
    "        f.write(f\"{word}: {count}\\n\")\n",
    "\n",
    "# 驗證\n",
    "with open('word_count.txt', 'r', encoding='utf-8') as f:\n",
    "    print(f.read())"
   ]
  },
  {
   "cell_type": "markdown",
   "metadata": {},
   "source": [
    "**知識點回顧**:\n",
    "- ✅ `split()` 以空白分割字串\n",
    "- ✅ `dict.get(key, default)` 取值，不存在時返回預設值\n",
    "- ✅ 字典累加模式：`count[key] = count.get(key, 0) + 1`\n",
    "\n",
    "**其他解法**:\n",
    "```python\n",
    "# 方法 2: 使用 Counter\n",
    "from collections import Counter\n",
    "\n",
    "with open('text.txt', 'r', encoding='utf-8') as f:\n",
    "    words = f.read().split()\n",
    "    word_count = Counter(words)\n",
    "\n",
    "with open('word_count.txt', 'w', encoding='utf-8') as f:\n",
    "    for word, count in word_count.items():\n",
    "        f.write(f\"{word}: {count}\\n\")\n",
    "```\n",
    "\n",
    "---"
   ]
  },
  {
   "cell_type": "markdown",
   "metadata": {},
   "source": [
    "### 習題 8 解答：檔案合併器\n",
    "\n",
    "**解題思路**:\n",
    "1. 迭代檔案列表\n",
    "2. 讀取每個檔案內容\n",
    "3. 寫入時加上分隔線和檔名"
   ]
  },
  {
   "cell_type": "code",
   "execution_count": null,
   "metadata": {},
   "outputs": [],
   "source": [
    "# 習題 8 參考解答\n",
    "def merge_files(file_list, output_file):\n",
    "    \"\"\"合併多個檔案\"\"\"\n",
    "    with open(output_file, 'w', encoding='utf-8') as outfile:\n",
    "        for i, filename in enumerate(file_list):\n",
    "            # 寫入分隔線（第一個檔案前不加空行）\n",
    "            if i > 0:\n",
    "                outfile.write('\\n')\n",
    "            \n",
    "            outfile.write(f\"--- {filename} ---\\n\")\n",
    "            \n",
    "            # 讀取並寫入檔案內容\n",
    "            try:\n",
    "                with open(filename, 'r', encoding='utf-8') as infile:\n",
    "                    outfile.write(infile.read())\n",
    "            except FileNotFoundError:\n",
    "                outfile.write(f\"[錯誤：檔案 {filename} 不存在]\\n\")\n",
    "\n",
    "# 測試\n",
    "merge_files(['file1.txt', 'file2.txt', 'file3.txt'], 'merged.txt')\n",
    "\n",
    "# 驗證\n",
    "with open('merged.txt', 'r', encoding='utf-8') as f:\n",
    "    print(f.read())"
   ]
  },
  {
   "cell_type": "markdown",
   "metadata": {},
   "source": [
    "**知識點回顧**:\n",
    "- ✅ 巢狀 `with` 語句：外層寫入，內層讀取\n",
    "- ✅ `enumerate()` 判斷是否為第一個元素\n",
    "- ✅ 異常處理：捕捉檔案不存在錯誤\n",
    "\n",
    "**最佳實務**:\n",
    "- 處理檔案不存在的情況\n",
    "- 格式化輸出便於閱讀\n",
    "\n",
    "---"
   ]
  },
  {
   "cell_type": "markdown",
   "metadata": {},
   "source": [
    "### 習題 9 解答：檔案分割器\n",
    "\n",
    "**解題思路**:\n",
    "1. 讀取所有行\n",
    "2. 使用切片分組\n",
    "3. 寫入不同的檔案"
   ]
  },
  {
   "cell_type": "code",
   "execution_count": null,
   "metadata": {},
   "outputs": [],
   "source": [
    "# 習題 9 參考解答\n",
    "def split_file(filename, lines_per_file):\n",
    "    \"\"\"分割檔案\"\"\"\n",
    "    # 讀取所有行\n",
    "    with open(filename, 'r', encoding='utf-8') as f:\n",
    "        lines = f.readlines()\n",
    "    \n",
    "    # 計算需要幾個檔案\n",
    "    import math\n",
    "    num_files = math.ceil(len(lines) / lines_per_file)\n",
    "    \n",
    "    # 分割並寫入\n",
    "    base_name = filename.rsplit('.', 1)[0]  # 去除副檔名\n",
    "    \n",
    "    for i in range(num_files):\n",
    "        start = i * lines_per_file\n",
    "        end = start + lines_per_file\n",
    "        part_lines = lines[start:end]\n",
    "        \n",
    "        part_filename = f\"{base_name}_part{i+1}.txt\"\n",
    "        with open(part_filename, 'w', encoding='utf-8') as f:\n",
    "            f.writelines(part_lines)\n",
    "        \n",
    "        print(f\"已建立：{part_filename} ({len(part_lines)} 行)\")\n",
    "\n",
    "# 測試\n",
    "split_file('large.txt', 3)"
   ]
  },
  {
   "cell_type": "markdown",
   "metadata": {},
   "source": [
    "**知識點回顧**:\n",
    "- ✅ `math.ceil()` 無條件進位\n",
    "- ✅ `rsplit('.', 1)` 從右側分割，只分割一次\n",
    "- ✅ 列表切片 `[start:end]`\n",
    "- ✅ f-string 格式化檔名\n",
    "\n",
    "**常見錯誤**:\n",
    "- ❌ 忘記處理最後一個檔案可能不足 n 行的情況\n",
    "- ❌ 檔名編號從 0 開始（應從 1 開始較直觀）\n",
    "\n",
    "---"
   ]
  },
  {
   "cell_type": "markdown",
   "metadata": {},
   "source": [
    "### 習題 10 解答：行號生成器\n",
    "\n",
    "**解題思路**:\n",
    "1. 逐行讀取\n",
    "2. 使用 `enumerate()` 取得行號\n",
    "3. 格式化後寫入"
   ]
  },
  {
   "cell_type": "code",
   "execution_count": null,
   "metadata": {},
   "outputs": [],
   "source": [
    "# 習題 10 參考解答\n",
    "def add_line_numbers(input_file, output_file):\n",
    "    \"\"\"為每行加上行號\"\"\"\n",
    "    with open(input_file, 'r', encoding='utf-8') as infile:\n",
    "        with open(output_file, 'w', encoding='utf-8') as outfile:\n",
    "            for i, line in enumerate(infile, start=1):\n",
    "                # 去除原有換行，加上行號後再加回換行\n",
    "                numbered_line = f\"{i}: {line.rstrip()}\\n\"\n",
    "                outfile.write(numbered_line)\n",
    "\n",
    "# 測試\n",
    "add_line_numbers('greeting.txt', 'greeting_numbered.txt')\n",
    "\n",
    "# 驗證\n",
    "with open('greeting_numbered.txt', 'r', encoding='utf-8') as f:\n",
    "    print(f.read())"
   ]
  },
  {
   "cell_type": "markdown",
   "metadata": {},
   "source": [
    "**知識點回顧**:\n",
    "- ✅ `enumerate(iterable, start=1)` 從 1 開始編號\n",
    "- ✅ `rstrip()` 去除行尾空白（包含換行）\n",
    "- ✅ 巢狀 `with` 語句同時開啟兩個檔案\n",
    "\n",
    "**其他解法**:\n",
    "```python\n",
    "# 方法 2: 使用 readlines()\n",
    "def add_line_numbers(input_file, output_file):\n",
    "    with open(input_file, 'r', encoding='utf-8') as f:\n",
    "        lines = f.readlines()\n",
    "    \n",
    "    with open(output_file, 'w', encoding='utf-8') as f:\n",
    "        for i, line in enumerate(lines, start=1):\n",
    "            f.write(f\"{i}: {line}\")\n",
    "```\n",
    "\n",
    "---"
   ]
  },
  {
   "cell_type": "markdown",
   "metadata": {},
   "source": [
    "### 習題 11 解答：重複行移除器\n",
    "\n",
    "**解題思路**:\n",
    "1. 使用集合記錄已見過的行\n",
    "2. 遇到重複行時跳過\n",
    "3. 保持原有順序"
   ]
  },
  {
   "cell_type": "code",
   "execution_count": null,
   "metadata": {},
   "outputs": [],
   "source": [
    "# 習題 11 參考解答\n",
    "def remove_duplicates(input_file, output_file):\n",
    "    \"\"\"移除重複行\"\"\"\n",
    "    seen = set()\n",
    "    \n",
    "    with open(input_file, 'r', encoding='utf-8') as infile:\n",
    "        with open(output_file, 'w', encoding='utf-8') as outfile:\n",
    "            for line in infile:\n",
    "                # 使用 strip 的版本作為鍵（避免空白差異）\n",
    "                key = line.strip()\n",
    "                if key not in seen:\n",
    "                    seen.add(key)\n",
    "                    outfile.write(line)\n",
    "\n",
    "# 測試\n",
    "remove_duplicates('duplicates.txt', 'unique.txt')\n",
    "\n",
    "# 驗證\n",
    "with open('unique.txt', 'r', encoding='utf-8') as f:\n",
    "    print(f.read())"
   ]
  },
  {
   "cell_type": "markdown",
   "metadata": {},
   "source": [
    "**知識點回顧**:\n",
    "- ✅ 集合 `set()` 用於快速查找\n",
    "- ✅ `strip()` 去除空白後作為鍵，避免空白差異\n",
    "- ✅ 保持原有順序（Python 3.7+ 字典有序）\n",
    "\n",
    "**其他解法**:\n",
    "```python\n",
    "# 方法 2: 使用字典保持順序（更明確）\n",
    "def remove_duplicates(input_file, output_file):\n",
    "    unique_lines = {}\n",
    "    with open(input_file, 'r', encoding='utf-8') as f:\n",
    "        for line in f:\n",
    "            unique_lines[line.strip()] = line\n",
    "    \n",
    "    with open(output_file, 'w', encoding='utf-8') as f:\n",
    "        f.writelines(unique_lines.values())\n",
    "```\n",
    "\n",
    "---"
   ]
  },
  {
   "cell_type": "markdown",
   "metadata": {},
   "source": [
    "### 習題 12 解答：檔案編碼轉換\n",
    "\n",
    "**解題思路**:\n",
    "1. 用原編碼讀取內容\n",
    "2. 用新編碼寫入\n",
    "3. 處理可能的編碼錯誤"
   ]
  },
  {
   "cell_type": "code",
   "execution_count": null,
   "metadata": {},
   "outputs": [],
   "source": [
    "# 習題 12 參考解答\n",
    "def convert_encoding(input_file, output_file, from_enc='big5', to_enc='utf-8'):\n",
    "    \"\"\"轉換檔案編碼\"\"\"\n",
    "    try:\n",
    "        # 用原編碼讀取\n",
    "        with open(input_file, 'r', encoding=from_enc) as f:\n",
    "            content = f.read()\n",
    "        \n",
    "        # 用新編碼寫入\n",
    "        with open(output_file, 'w', encoding=to_enc) as f:\n",
    "            f.write(content)\n",
    "        \n",
    "        print(f\"轉換成功：{input_file} ({from_enc}) → {output_file} ({to_enc})\")\n",
    "        \n",
    "    except UnicodeDecodeError as e:\n",
    "        print(f\"編碼錯誤：無法用 {from_enc} 解碼 {input_file}\")\n",
    "        print(f\"錯誤訊息：{e}\")\n",
    "    except FileNotFoundError:\n",
    "        print(f\"檔案不存在：{input_file}\")\n",
    "\n",
    "# 測試\n",
    "convert_encoding('big5_file.txt', 'utf8_file.txt')"
   ]
  },
  {
   "cell_type": "markdown",
   "metadata": {},
   "source": [
    "**知識點回顧**:\n",
    "- ✅ 編碼轉換：先解碼（讀取）再編碼（寫入）\n",
    "- ✅ 捕捉 `UnicodeDecodeError` 處理編碼錯誤\n",
    "- ✅ 提供友善的錯誤訊息\n",
    "\n",
    "**常見編碼**:\n",
    "- `utf-8`: 國際通用，支援所有字元\n",
    "- `big5`: 繁體中文（台灣常用）\n",
    "- `gbk`: 簡體中文\n",
    "- `cp950`: Windows Big5\n",
    "\n",
    "---"
   ]
  },
  {
   "cell_type": "markdown",
   "metadata": {},
   "source": [
    "## 🔴 挑戰題解答 (13-18)\n",
    "\n",
    "### 習題 13 解答：簡易文字編輯器\n",
    "\n",
    "**解題思路**:\n",
    "1. 使用類別封裝檔案操作\n",
    "2. 提供讀取、寫入、附加、替換行功能\n",
    "3. 替換行需要讀取所有行，修改後寫回"
   ]
  },
  {
   "cell_type": "code",
   "execution_count": null,
   "metadata": {},
   "outputs": [],
   "source": [
    "# 習題 13 參考解答\n",
    "class TextEditor:\n",
    "    \"\"\"簡易文字編輯器\"\"\"\n",
    "    \n",
    "    def read(self, filename):\n",
    "        \"\"\"讀取檔案\"\"\"\n",
    "        try:\n",
    "            with open(filename, 'r', encoding='utf-8') as f:\n",
    "                return f.read()\n",
    "        except FileNotFoundError:\n",
    "            return f\"錯誤：檔案 {filename} 不存在\"\n",
    "    \n",
    "    def write(self, filename, content):\n",
    "        \"\"\"寫入檔案\"\"\"\n",
    "        with open(filename, 'w', encoding='utf-8') as f:\n",
    "            f.write(content)\n",
    "        return f\"已寫入 {filename}\"\n",
    "    \n",
    "    def append(self, filename, content):\n",
    "        \"\"\"附加內容\"\"\"\n",
    "        with open(filename, 'a', encoding='utf-8') as f:\n",
    "            f.write(content)\n",
    "        return f\"已附加至 {filename}\"\n",
    "    \n",
    "    def replace_line(self, filename, line_num, new_content):\n",
    "        \"\"\"替換指定行（行號從 1 開始）\"\"\"\n",
    "        try:\n",
    "            # 讀取所有行\n",
    "            with open(filename, 'r', encoding='utf-8') as f:\n",
    "                lines = f.readlines()\n",
    "            \n",
    "            # 檢查行號是否有效\n",
    "            if line_num < 1 or line_num > len(lines):\n",
    "                return f\"錯誤：行號 {line_num} 超出範圍（共 {len(lines)} 行）\"\n",
    "            \n",
    "            # 替換指定行（索引從 0 開始）\n",
    "            lines[line_num - 1] = new_content\n",
    "            \n",
    "            # 寫回檔案\n",
    "            with open(filename, 'w', encoding='utf-8') as f:\n",
    "                f.writelines(lines)\n",
    "            \n",
    "            return f\"已替換第 {line_num} 行\"\n",
    "        \n",
    "        except FileNotFoundError:\n",
    "            return f\"錯誤：檔案 {filename} 不存在\"\n",
    "\n",
    "# 測試\n",
    "editor = TextEditor()\n",
    "print(editor.write('test.txt', 'Line 1\\nLine 2\\nLine 3\\n'))\n",
    "print(editor.read('test.txt'))\n",
    "print(editor.replace_line('test.txt', 2, 'Modified Line 2\\n'))\n",
    "print(editor.read('test.txt'))"
   ]
  },
  {
   "cell_type": "markdown",
   "metadata": {},
   "source": [
    "**知識點回顧**:\n",
    "- ✅ 類別封裝相關功能\n",
    "- ✅ 行號轉索引：`line_num - 1`\n",
    "- ✅ 邊界檢查：防止索引超出範圍\n",
    "- ✅ 異常處理：檔案不存在\n",
    "\n",
    "**最佳實務**:\n",
    "- 提供友善的錯誤訊息\n",
    "- 返回操作結果\n",
    "- 檢查輸入有效性\n",
    "\n",
    "---"
   ]
  },
  {
   "cell_type": "markdown",
   "metadata": {},
   "source": [
    "### 習題 14 解答：日誌檔分析器\n",
    "\n",
    "**解題思路**:\n",
    "1. 逐行讀取日誌\n",
    "2. 使用正規表達式或字串方法提取等級\n",
    "3. 統計各等級數量"
   ]
  },
  {
   "cell_type": "code",
   "execution_count": null,
   "metadata": {},
   "outputs": [],
   "source": [
    "# 習題 14 參考解答\n",
    "def analyze_log(filename):\n",
    "    \"\"\"分析日誌檔\"\"\"\n",
    "    log_levels = {'INFO': 0, 'WARNING': 0, 'ERROR': 0}\n",
    "    \n",
    "    with open(filename, 'r', encoding='utf-8') as f:\n",
    "        for line in f:\n",
    "            # 提取日誌等級\n",
    "            if 'INFO:' in line:\n",
    "                log_levels['INFO'] += 1\n",
    "            elif 'WARNING:' in line:\n",
    "                log_levels['WARNING'] += 1\n",
    "            elif 'ERROR:' in line:\n",
    "                log_levels['ERROR'] += 1\n",
    "    \n",
    "    # 輸出統計結果\n",
    "    print(\"日誌分析結果：\")\n",
    "    for level, count in log_levels.items():\n",
    "        print(f\"{level}: {count} 筆\")\n",
    "    print(f\"總計: {sum(log_levels.values())} 筆\")\n",
    "\n",
    "# 測試\n",
    "analyze_log('system.log')"
   ]
  },
  {
   "cell_type": "markdown",
   "metadata": {},
   "source": [
    "**知識點回顧**:\n",
    "- ✅ 字典初始化預設值\n",
    "- ✅ `in` 運算子檢查子字串\n",
    "- ✅ `sum(dict.values())` 計算總和\n",
    "\n",
    "**其他解法（使用正規表達式）**:\n",
    "```python\n",
    "import re\n",
    "\n",
    "def analyze_log(filename):\n",
    "    log_levels = {}\n",
    "    pattern = r'\\] (\\w+):'\n",
    "    \n",
    "    with open(filename, 'r', encoding='utf-8') as f:\n",
    "        for line in f:\n",
    "            match = re.search(pattern, line)\n",
    "            if match:\n",
    "                level = match.group(1)\n",
    "                log_levels[level] = log_levels.get(level, 0) + 1\n",
    "    \n",
    "    for level, count in log_levels.items():\n",
    "        print(f\"{level}: {count} 筆\")\n",
    "```\n",
    "\n",
    "---"
   ]
  },
  {
   "cell_type": "markdown",
   "metadata": {},
   "source": [
    "## 總結\n",
    "\n",
    "通過這 18 題習題，你已經掌握了：\n",
    "\n",
    "### 核心技能\n",
    "- ✅ 檔案的讀寫操作（read, write, append）\n",
    "- ✅ with 語句的正確使用\n",
    "- ✅ 編碼處理（UTF-8, Big5）\n",
    "- ✅ 異常處理（FileNotFoundError, UnicodeDecodeError）\n",
    "\n",
    "### 進階技巧\n",
    "- ✅ 逐行處理大檔案\n",
    "- ✅ 檔案合併與分割\n",
    "- ✅ 文字分析與統計\n",
    "- ✅ 資料去重與過濾\n",
    "\n",
    "### 實戰應用\n",
    "- ✅ 日誌系統\n",
    "- ✅ 文字編輯器\n",
    "- ✅ 設定檔管理\n",
    "- ✅ 檔案比較工具\n",
    "- ✅ 備份系統\n",
    "\n",
    "### 下一步\n",
    "1. 完成 Ch23 自我測驗\n",
    "2. 學習 Ch24: JSON 與資料序列化\n",
    "3. 學習 Ch25: CSV 檔案處理\n",
    "4. 挑戰 Milestone 7: Todo App 專案"
   ]
  }
 ],
 "metadata": {
  "kernelspec": {
   "display_name": "Python 3",
   "language": "python",
   "name": "python3"
  },
  "language_info": {
   "codemirror_mode": {
    "name": "ipython",
    "version": 3
   },
   "file_extension": ".py",
   "mimetype": "text/x-python",
   "name": "python",
   "nbconvert_exporter": "python",
   "pygments_lexer": "ipython3",
   "version": "3.8.0"
  }
 },
 "nbformat": 4,
 "nbformat_minor": 4
}
