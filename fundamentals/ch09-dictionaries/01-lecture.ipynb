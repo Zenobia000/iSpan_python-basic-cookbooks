{
 "cells": [
  {
   "cell_type": "markdown",
   "metadata": {},
   "source": [
    "# Chapter 9: 映射資料：字典 | Dictionaries\n",
    "\n",
    "## Part I: 理論基礎 | Theoretical Foundation\n",
    "\n",
    "---\n",
    "\n",
    "## 章節概覽 | Chapter Overview\n",
    "\n",
    "### 學習目標\n",
    "- 理解字典的鍵值對映射概念\n",
    "- 掌握字典的創建、存取、修改、刪除操作\n",
    "- 熟練使用字典的各種方法\n",
    "- 能夠遍歷字典的鍵、值、鍵值對\n",
    "- 使用字典推導式簡化程式碼\n",
    "\n",
    "### 先備知識\n",
    "- Ch07: 列表 (Lists)\n",
    "- Ch08: 字串 (Strings)\n",
    "- 基礎迴圈與條件判斷\n",
    "\n",
    "### 預計時長\n",
    "3-4 小時（理論 40% + 實作 60%）"
   ]
  },
  {
   "cell_type": "markdown",
   "metadata": {},
   "source": [
    "---\n",
    "\n",
    "## 1. 什麼是字典？| What is a Dictionary?\n",
    "\n",
    "### First Principles: 為什麼需要字典？\n",
    "\n",
    "**問題情境**：假設要儲存學生成績\n",
    "\n",
    "```python\n",
    "# 方法 1: 使用兩個列表（不理想）\n",
    "names = [\"Alice\", \"Bob\", \"Charlie\"]\n",
    "scores = [85, 92, 78]\n",
    "\n",
    "# 問題：要找 Bob 的分數？\n",
    "# 1. 先找 Bob 的索引\n",
    "# 2. 用索引取得分數\n",
    "# 3. 容易不同步\n",
    "```\n",
    "\n",
    "**解決方案**：使用字典\n",
    "\n",
    "```python\n",
    "# 方法 2: 使用字典（直觀且高效）\n",
    "student_scores = {\n",
    "    \"Alice\": 85,\n",
    "    \"Bob\": 92,\n",
    "    \"Charlie\": 78\n",
    "}\n",
    "\n",
    "# 直接查詢\n",
    "print(student_scores[\"Bob\"])  # 92\n",
    "```\n",
    "\n",
    "### 字典的定義\n",
    "\n",
    "**字典 (Dictionary)** 是一種 **可變的 (mutable)** 資料結構，用來儲存 **鍵值對 (key-value pairs)** 的映射關係。\n",
    "\n",
    "**特性**：\n",
    "1. **鍵 (Key)** 必須是 **不可變的 (immutable)**：字串、數字、元組\n",
    "2. **鍵是唯一的**：重複的鍵會覆蓋舊值\n",
    "3. **值 (Value)** 可以是任意型態\n",
    "4. **有序** (Python 3.7+)：保留插入順序\n",
    "5. **查詢高效**：O(1) 時間複雜度（雜湊表）"
   ]
  },
  {
   "cell_type": "code",
   "execution_count": null,
   "metadata": {},
   "outputs": [],
   "source": [
    "# 字典的基本結構\n",
    "person = {\n",
    "    \"name\": \"Alice\",      # 鍵: 值\n",
    "    \"age\": 25,\n",
    "    \"city\": \"Taipei\"\n",
    "}\n",
    "\n",
    "print(person)\n",
    "print(type(person))  # <class 'dict'>"
   ]
  },
  {
   "cell_type": "markdown",
   "metadata": {},
   "source": [
    "### 字典 vs 列表\n",
    "\n",
    "| 特性 | 列表 (List) | 字典 (Dict) |\n",
    "|:-----|:-----------|:-----------|\n",
    "| **索引** | 數字 (0, 1, 2...) | 任意不可變鍵 |\n",
    "| **順序** | 有序 | 有序 (3.7+) |\n",
    "| **查詢** | O(n) | O(1) |\n",
    "| **用途** | 序列資料 | 映射關係 |\n",
    "| **語義** | \"一群東西\" | \"誰對應什麼\" |\n",
    "\n",
    "**何時用字典**：\n",
    "- 通訊錄：姓名 → 電話\n",
    "- 翻譯字典：英文 → 中文\n",
    "- 配置檔：設定名稱 → 設定值\n",
    "- 資料庫記錄：欄位名稱 → 欄位值"
   ]
  },
  {
   "cell_type": "markdown",
   "metadata": {},
   "source": [
    "---\n",
    "\n",
    "## Part II: 實作演練 | Hands-On Practice\n",
    "\n",
    "---\n",
    "\n",
    "## 範例 1：字典的創建 | Creating Dictionaries"
   ]
  },
  {
   "cell_type": "code",
   "execution_count": null,
   "metadata": {},
   "outputs": [],
   "source": [
    "# 方法 1: 使用 {} 字面量語法（最常用）\n",
    "student = {\n",
    "    \"name\": \"Alice\",\n",
    "    \"age\": 20,\n",
    "    \"major\": \"Computer Science\"\n",
    "}\n",
    "\n",
    "print(\"方法 1:\", student)"
   ]
  },
  {
   "cell_type": "code",
   "execution_count": null,
   "metadata": {},
   "outputs": [],
   "source": [
    "# 方法 2: 使用 dict() 建構子\n",
    "student = dict(name=\"Alice\", age=20, major=\"Computer Science\")\n",
    "print(\"方法 2:\", student)\n",
    "\n",
    "# 從鍵值對列表創建\n",
    "pairs = [(\"name\", \"Alice\"), (\"age\", 20), (\"major\", \"CS\")]\n",
    "student = dict(pairs)\n",
    "print(\"從列表:\", student)"
   ]
  },
  {
   "cell_type": "code",
   "execution_count": null,
   "metadata": {},
   "outputs": [],
   "source": [
    "# 方法 3: 使用 dict.fromkeys() - 批次創建相同值\n",
    "keys = [\"apple\", \"banana\", \"cherry\"]\n",
    "inventory = dict.fromkeys(keys, 0)  # 所有鍵的值都設為 0\n",
    "print(\"fromkeys:\", inventory)\n",
    "# 輸出: {'apple': 0, 'banana': 0, 'cherry': 0}"
   ]
  },
  {
   "cell_type": "code",
   "execution_count": null,
   "metadata": {},
   "outputs": [],
   "source": [
    "# 方法 4: 字典推導式 (Dictionary Comprehension)\n",
    "# 將數字平方映射到字典\n",
    "squares = {x: x**2 for x in range(1, 6)}\n",
    "print(\"字典推導式:\", squares)\n",
    "# 輸出: {1: 1, 2: 4, 3: 9, 4: 16, 5: 25}"
   ]
  },
  {
   "cell_type": "code",
   "execution_count": null,
   "metadata": {},
   "outputs": [],
   "source": [
    "# 空字典\n",
    "empty_dict1 = {}\n",
    "empty_dict2 = dict()\n",
    "\n",
    "print(\"空字典 1:\", empty_dict1)\n",
    "print(\"空字典 2:\", empty_dict2)"
   ]
  },
  {
   "cell_type": "markdown",
   "metadata": {},
   "source": [
    "### 重點提醒\n",
    "\n",
    "1. **鍵的唯一性**：重複的鍵會覆蓋\n",
    "   ```python\n",
    "   d = {\"a\": 1, \"a\": 2}  # 後者覆蓋前者\n",
    "   print(d)  # {\"a\": 2}\n",
    "   ```\n",
    "\n",
    "2. **鍵的不可變性**：\n",
    "   - ✓ 可以：字串、數字、元組\n",
    "   - ✗ 不可以：列表、字典、集合"
   ]
  },
  {
   "cell_type": "markdown",
   "metadata": {},
   "source": [
    "---\n",
    "\n",
    "## 範例 2：字典的存取與修改 | Accessing and Modifying"
   ]
  },
  {
   "cell_type": "code",
   "execution_count": null,
   "metadata": {},
   "outputs": [],
   "source": [
    "# 存取值：使用 []\n",
    "student = {\"name\": \"Alice\", \"age\": 20, \"major\": \"CS\"}\n",
    "\n",
    "print(\"姓名:\", student[\"name\"])    # Alice\n",
    "print(\"年齡:\", student[\"age\"])     # 20\n",
    "\n",
    "# 注意：鍵不存在會報錯 KeyError\n",
    "# print(student[\"grade\"])  # KeyError: 'grade'"
   ]
  },
  {
   "cell_type": "code",
   "execution_count": null,
   "metadata": {},
   "outputs": [],
   "source": [
    "# 安全存取：使用 get() 方法\n",
    "student = {\"name\": \"Alice\", \"age\": 20}\n",
    "\n",
    "# get(key) - 鍵不存在返回 None\n",
    "print(student.get(\"name\"))   # Alice\n",
    "print(student.get(\"grade\"))  # None\n",
    "\n",
    "# get(key, default) - 鍵不存在返回預設值\n",
    "print(student.get(\"grade\", \"N/A\"))  # N/A\n",
    "print(student.get(\"age\", 0))        # 20（鍵存在）"
   ]
  },
  {
   "cell_type": "code",
   "execution_count": null,
   "metadata": {},
   "outputs": [],
   "source": [
    "# 修改值\n",
    "student = {\"name\": \"Alice\", \"age\": 20}\n",
    "\n",
    "student[\"age\"] = 21  # 修改現有的鍵\n",
    "print(\"修改後:\", student)\n",
    "# 輸出: {'name': 'Alice', 'age': 21}"
   ]
  },
  {
   "cell_type": "code",
   "execution_count": null,
   "metadata": {},
   "outputs": [],
   "source": [
    "# 新增鍵值對\n",
    "student = {\"name\": \"Alice\", \"age\": 20}\n",
    "\n",
    "student[\"major\"] = \"CS\"     # 新增鍵（鍵不存在）\n",
    "student[\"grade\"] = \"A\"\n",
    "\n",
    "print(\"新增後:\", student)\n",
    "# 輸出: {'name': 'Alice', 'age': 20, 'major': 'CS', 'grade': 'A'}"
   ]
  },
  {
   "cell_type": "code",
   "execution_count": null,
   "metadata": {},
   "outputs": [],
   "source": [
    "# get() vs [] 的差異總結\n",
    "\n",
    "student = {\"name\": \"Alice\"}\n",
    "\n",
    "# 方法 1: [] - 鍵不存在會報錯\n",
    "try:\n",
    "    print(student[\"age\"])\n",
    "except KeyError:\n",
    "    print(\"KeyError: 鍵 'age' 不存在\")\n",
    "\n",
    "# 方法 2: get() - 鍵不存在返回 None 或預設值\n",
    "age = student.get(\"age\", 18)  # 不存在則返回 18\n",
    "print(\"年齡 (預設):\", age)"
   ]
  },
  {
   "cell_type": "markdown",
   "metadata": {},
   "source": [
    "### 最佳實踐\n",
    "\n",
    "| 情境 | 推薦方法 | 原因 |\n",
    "|:-----|:--------|:-----|\n",
    "| **確定鍵存在** | `dict[key]` | 簡潔明瞭 |\n",
    "| **不確定鍵存在** | `dict.get(key, default)` | 避免 KeyError |\n",
    "| **需要檢查鍵** | `if key in dict` | 明確判斷 |"
   ]
  },
  {
   "cell_type": "markdown",
   "metadata": {},
   "source": [
    "---\n",
    "\n",
    "## 範例 3：字典的新增與刪除 | Adding and Removing"
   ]
  },
  {
   "cell_type": "code",
   "execution_count": null,
   "metadata": {},
   "outputs": [],
   "source": [
    "# 刪除元素：使用 del\n",
    "student = {\"name\": \"Alice\", \"age\": 20, \"major\": \"CS\"}\n",
    "\n",
    "del student[\"major\"]  # 刪除鍵值對\n",
    "print(\"刪除後:\", student)\n",
    "# 輸出: {'name': 'Alice', 'age': 20}\n",
    "\n",
    "# 注意：鍵不存在會報錯\n",
    "# del student[\"grade\"]  # KeyError"
   ]
  },
  {
   "cell_type": "code",
   "execution_count": null,
   "metadata": {},
   "outputs": [],
   "source": [
    "# 刪除並取得值：使用 pop()\n",
    "student = {\"name\": \"Alice\", \"age\": 20, \"major\": \"CS\"}\n",
    "\n",
    "major = student.pop(\"major\")  # 刪除並返回值\n",
    "print(\"刪除的科系:\", major)      # CS\n",
    "print(\"刪除後:\", student)        # {'name': 'Alice', 'age': 20}\n",
    "\n",
    "# pop() 可以設定預設值（鍵不存在時）\n",
    "grade = student.pop(\"grade\", \"N/A\")\n",
    "print(\"成績:\", grade)  # N/A（鍵不存在，返回預設值）"
   ]
  },
  {
   "cell_type": "code",
   "execution_count": null,
   "metadata": {},
   "outputs": [],
   "source": [
    "# 刪除最後一個項目：popitem()\n",
    "student = {\"name\": \"Alice\", \"age\": 20, \"major\": \"CS\"}\n",
    "\n",
    "item = student.popitem()  # 返回 (key, value) 元組\n",
    "print(\"刪除的項目:\", item)      # ('major', 'CS')\n",
    "print(\"刪除後:\", student)        # {'name': 'Alice', 'age': 20}\n",
    "\n",
    "# 注意：Python 3.7+ 刪除最後插入的項目（LIFO）"
   ]
  },
  {
   "cell_type": "code",
   "execution_count": null,
   "metadata": {},
   "outputs": [],
   "source": [
    "# 清空字典：clear()\n",
    "student = {\"name\": \"Alice\", \"age\": 20}\n",
    "\n",
    "student.clear()\n",
    "print(\"清空後:\", student)  # {}"
   ]
  },
  {
   "cell_type": "code",
   "execution_count": null,
   "metadata": {},
   "outputs": [],
   "source": [
    "# setdefault() - 取得值，不存在則設定預設值\n",
    "student = {\"name\": \"Alice\", \"age\": 20}\n",
    "\n",
    "# 鍵存在：返回現有值\n",
    "name = student.setdefault(\"name\", \"Unknown\")\n",
    "print(\"姓名:\", name)  # Alice\n",
    "\n",
    "# 鍵不存在：設定預設值並返回\n",
    "grade = student.setdefault(\"grade\", \"A\")\n",
    "print(\"成績:\", grade)      # A\n",
    "print(\"字典:\", student)     # {'name': 'Alice', 'age': 20, 'grade': 'A'}"
   ]
  },
  {
   "cell_type": "markdown",
   "metadata": {},
   "source": [
    "### 刪除方法比較\n",
    "\n",
    "| 方法 | 說明 | 返回值 | 鍵不存在 |\n",
    "|:-----|:-----|:-------|:--------|\n",
    "| `del dict[key]` | 刪除指定鍵 | 無 | KeyError |\n",
    "| `dict.pop(key)` | 刪除並返回值 | 被刪除的值 | KeyError（可設預設值）|\n",
    "| `dict.popitem()` | 刪除最後項目 | (key, value) | KeyError（空字典）|\n",
    "| `dict.clear()` | 清空字典 | 無 | - |"
   ]
  },
  {
   "cell_type": "markdown",
   "metadata": {},
   "source": [
    "---\n",
    "\n",
    "## 範例 4：字典方法 - keys(), values(), items()"
   ]
  },
  {
   "cell_type": "code",
   "execution_count": null,
   "metadata": {},
   "outputs": [],
   "source": [
    "# 字典資料\n",
    "student_scores = {\n",
    "    \"Alice\": 85,\n",
    "    \"Bob\": 92,\n",
    "    \"Charlie\": 78,\n",
    "    \"David\": 95\n",
    "}"
   ]
  },
  {
   "cell_type": "code",
   "execution_count": null,
   "metadata": {},
   "outputs": [],
   "source": [
    "# keys() - 取得所有鍵\n",
    "keys = student_scores.keys()\n",
    "print(\"所有鍵:\", keys)\n",
    "print(\"類型:\", type(keys))  # dict_keys\n",
    "\n",
    "# 轉換成列表\n",
    "keys_list = list(keys)\n",
    "print(\"列表形式:\", keys_list)"
   ]
  },
  {
   "cell_type": "code",
   "execution_count": null,
   "metadata": {},
   "outputs": [],
   "source": [
    "# values() - 取得所有值\n",
    "values = student_scores.values()\n",
    "print(\"所有值:\", values)\n",
    "print(\"類型:\", type(values))  # dict_values\n",
    "\n",
    "# 計算平均分數\n",
    "average = sum(values) / len(values)\n",
    "print(f\"平均分數: {average:.2f}\")"
   ]
  },
  {
   "cell_type": "code",
   "execution_count": null,
   "metadata": {},
   "outputs": [],
   "source": [
    "# items() - 取得所有鍵值對\n",
    "items = student_scores.items()\n",
    "print(\"所有鍵值對:\", items)\n",
    "print(\"類型:\", type(items))  # dict_items\n",
    "\n",
    "# 轉換成列表（每個元素是元組）\n",
    "items_list = list(items)\n",
    "print(\"列表形式:\", items_list)\n",
    "# [('Alice', 85), ('Bob', 92), ('Charlie', 78), ('David', 95)]"
   ]
  },
  {
   "cell_type": "code",
   "execution_count": null,
   "metadata": {},
   "outputs": [],
   "source": [
    "# 實用範例：找出最高分\n",
    "max_score = max(student_scores.values())\n",
    "print(\"最高分:\", max_score)\n",
    "\n",
    "# 找出最高分的學生\n",
    "for name, score in student_scores.items():\n",
    "    if score == max_score:\n",
    "        print(f\"最高分學生: {name} ({score} 分)\")"
   ]
  },
  {
   "cell_type": "markdown",
   "metadata": {},
   "source": [
    "---\n",
    "\n",
    "## 範例 5：字典方法 - update(), copy()"
   ]
  },
  {
   "cell_type": "code",
   "execution_count": null,
   "metadata": {},
   "outputs": [],
   "source": [
    "# update() - 合併字典\n",
    "student = {\"name\": \"Alice\", \"age\": 20}\n",
    "new_info = {\"major\": \"CS\", \"grade\": \"A\"}\n",
    "\n",
    "student.update(new_info)  # 合併 new_info 到 student\n",
    "print(\"合併後:\", student)\n",
    "# 輸出: {'name': 'Alice', 'age': 20, 'major': 'CS', 'grade': 'A'}"
   ]
  },
  {
   "cell_type": "code",
   "execution_count": null,
   "metadata": {},
   "outputs": [],
   "source": [
    "# update() 會覆蓋相同的鍵\n",
    "student = {\"name\": \"Alice\", \"age\": 20}\n",
    "updates = {\"age\": 21, \"major\": \"CS\"}  # age 會覆蓋\n",
    "\n",
    "student.update(updates)\n",
    "print(\"更新後:\", student)\n",
    "# 輸出: {'name': 'Alice', 'age': 21, 'major': 'CS'}"
   ]
  },
  {
   "cell_type": "code",
   "execution_count": null,
   "metadata": {},
   "outputs": [],
   "source": [
    "# update() 的多種用法\n",
    "student = {\"name\": \"Alice\"}\n",
    "\n",
    "# 用法 1: 傳入字典\n",
    "student.update({\"age\": 20})\n",
    "\n",
    "# 用法 2: 傳入鍵值對列表\n",
    "student.update([(\"major\", \"CS\")])\n",
    "\n",
    "# 用法 3: 使用關鍵字參數\n",
    "student.update(grade=\"A\")\n",
    "\n",
    "print(\"最終結果:\", student)"
   ]
  },
  {
   "cell_type": "code",
   "execution_count": null,
   "metadata": {},
   "outputs": [],
   "source": [
    "# copy() - 淺複製字典\n",
    "original = {\"name\": \"Alice\", \"age\": 20}\n",
    "copied = original.copy()\n",
    "\n",
    "# 修改複製品不影響原字典\n",
    "copied[\"age\"] = 21\n",
    "print(\"原字典:\", original)   # {'name': 'Alice', 'age': 20}\n",
    "print(\"複製品:\", copied)     # {'name': 'Alice', 'age': 21}"
   ]
  },
  {
   "cell_type": "code",
   "execution_count": null,
   "metadata": {},
   "outputs": [],
   "source": [
    "# 注意：淺複製的陷阱（巢狀字典）\n",
    "original = {\"name\": \"Alice\", \"scores\": [85, 90]}\n",
    "copied = original.copy()\n",
    "\n",
    "# 修改巢狀的列表會影響原字典！\n",
    "copied[\"scores\"].append(95)\n",
    "\n",
    "print(\"原字典:\", original)  # {'name': 'Alice', 'scores': [85, 90, 95]}\n",
    "print(\"複製品:\", copied)    # {'name': 'Alice', 'scores': [85, 90, 95]}\n",
    "\n",
    "# 解決方法：使用深複製\n",
    "import copy\n",
    "deep_copied = copy.deepcopy(original)\n",
    "deep_copied[\"scores\"].append(100)\n",
    "print(\"深複製後原字典:\", original)"
   ]
  },
  {
   "cell_type": "markdown",
   "metadata": {},
   "source": [
    "---\n",
    "\n",
    "## 範例 6：字典遍歷 | Iterating Over Dictionaries"
   ]
  },
  {
   "cell_type": "code",
   "execution_count": null,
   "metadata": {},
   "outputs": [],
   "source": [
    "# 範例資料\n",
    "student_scores = {\n",
    "    \"Alice\": 85,\n",
    "    \"Bob\": 92,\n",
    "    \"Charlie\": 78\n",
    "}"
   ]
  },
  {
   "cell_type": "code",
   "execution_count": null,
   "metadata": {},
   "outputs": [],
   "source": [
    "# 方法 1: 遍歷鍵（預設行為）\n",
    "print(\"遍歷鍵:\")\n",
    "for key in student_scores:\n",
    "    print(key)\n",
    "\n",
    "# 等同於\n",
    "for key in student_scores.keys():\n",
    "    print(key)"
   ]
  },
  {
   "cell_type": "code",
   "execution_count": null,
   "metadata": {},
   "outputs": [],
   "source": [
    "# 方法 2: 遍歷值\n",
    "print(\"遍歷值:\")\n",
    "for value in student_scores.values():\n",
    "    print(value)"
   ]
  },
  {
   "cell_type": "code",
   "execution_count": null,
   "metadata": {},
   "outputs": [],
   "source": [
    "# 方法 3: 遍歷鍵值對（最常用）\n",
    "print(\"遍歷鍵值對:\")\n",
    "for name, score in student_scores.items():\n",
    "    print(f\"{name}: {score} 分\")"
   ]
  },
  {
   "cell_type": "code",
   "execution_count": null,
   "metadata": {},
   "outputs": [],
   "source": [
    "# 實用範例：篩選及格學生\n",
    "passing_students = []\n",
    "\n",
    "for name, score in student_scores.items():\n",
    "    if score >= 80:\n",
    "        passing_students.append(name)\n",
    "\n",
    "print(\"及格學生:\", passing_students)"
   ]
  },
  {
   "cell_type": "code",
   "execution_count": null,
   "metadata": {},
   "outputs": [],
   "source": [
    "# 實用範例：成績加分\n",
    "print(\"原始成績:\", student_scores)\n",
    "\n",
    "# 所有人加 5 分\n",
    "for name in student_scores:\n",
    "    student_scores[name] += 5\n",
    "\n",
    "print(\"加分後:\", student_scores)"
   ]
  },
  {
   "cell_type": "markdown",
   "metadata": {},
   "source": [
    "### 三種遍歷方式比較\n",
    "\n",
    "| 方式 | 語法 | 使用時機 |\n",
    "|:-----|:-----|:--------|\n",
    "| **遍歷鍵** | `for k in dict:` | 只需要鍵 |\n",
    "| **遍歷值** | `for v in dict.values():` | 只需要值 |\n",
    "| **遍歷鍵值對** | `for k, v in dict.items():` | 同時需要鍵和值 |"
   ]
  },
  {
   "cell_type": "markdown",
   "metadata": {},
   "source": [
    "---\n",
    "\n",
    "## 範例 7：字典推導式 | Dictionary Comprehensions"
   ]
  },
  {
   "cell_type": "code",
   "execution_count": null,
   "metadata": {},
   "outputs": [],
   "source": [
    "# 基本語法：{key_expr: value_expr for item in iterable}\n",
    "\n",
    "# 範例 1: 數字平方字典\n",
    "squares = {x: x**2 for x in range(1, 6)}\n",
    "print(\"平方字典:\", squares)\n",
    "# 輸出: {1: 1, 2: 4, 3: 9, 4: 16, 5: 25}"
   ]
  },
  {
   "cell_type": "code",
   "execution_count": null,
   "metadata": {},
   "outputs": [],
   "source": [
    "# 範例 2: 從列表創建字典\n",
    "names = [\"Alice\", \"Bob\", \"Charlie\"]\n",
    "name_lengths = {name: len(name) for name in names}\n",
    "print(\"名字長度:\", name_lengths)\n",
    "# 輸出: {'Alice': 5, 'Bob': 3, 'Charlie': 7}"
   ]
  },
  {
   "cell_type": "code",
   "execution_count": null,
   "metadata": {},
   "outputs": [],
   "source": [
    "# 範例 3: 帶條件的字典推導式\n",
    "scores = {\"Alice\": 85, \"Bob\": 92, \"Charlie\": 78, \"David\": 95}\n",
    "\n",
    "# 只保留及格學生（>= 80）\n",
    "passing = {name: score for name, score in scores.items() if score >= 80}\n",
    "print(\"及格學生:\", passing)\n",
    "# 輸出: {'Alice': 85, 'Bob': 92, 'David': 95}"
   ]
  },
  {
   "cell_type": "code",
   "execution_count": null,
   "metadata": {},
   "outputs": [],
   "source": [
    "# 範例 4: 轉換字典（鍵變大寫，值加 10）\n",
    "scores = {\"alice\": 85, \"bob\": 92}\n",
    "\n",
    "transformed = {name.upper(): score + 10 for name, score in scores.items()}\n",
    "print(\"轉換後:\", transformed)\n",
    "# 輸出: {'ALICE': 95, 'BOB': 102}"
   ]
  },
  {
   "cell_type": "code",
   "execution_count": null,
   "metadata": {},
   "outputs": [],
   "source": [
    "# 範例 5: 反轉字典（鍵值對調）\n",
    "original = {\"apple\": \"蘋果\", \"banana\": \"香蕉\", \"cherry\": \"櫻桃\"}\n",
    "\n",
    "reversed_dict = {value: key for key, value in original.items()}\n",
    "print(\"反轉字典:\", reversed_dict)\n",
    "# 輸出: {'蘋果': 'apple', '香蕉': 'banana', '櫻桃': 'cherry'}"
   ]
  },
  {
   "cell_type": "code",
   "execution_count": null,
   "metadata": {},
   "outputs": [],
   "source": [
    "# 範例 6: 巢狀字典推導式（較進階）\n",
    "# 創建九九乘法表字典\n",
    "multiplication_table = {\n",
    "    i: {j: i*j for j in range(1, 10)} \n",
    "    for i in range(1, 10)\n",
    "}\n",
    "\n",
    "# 查看 5 的乘法表\n",
    "print(\"5 的乘法表:\", multiplication_table[5])"
   ]
  },
  {
   "cell_type": "markdown",
   "metadata": {},
   "source": [
    "---\n",
    "\n",
    "## 範例 8：巢狀字典 | Nested Dictionaries"
   ]
  },
  {
   "cell_type": "code",
   "execution_count": null,
   "metadata": {},
   "outputs": [],
   "source": [
    "# 巢狀字典範例：學生資料庫\n",
    "students = {\n",
    "    \"S001\": {\n",
    "        \"name\": \"Alice\",\n",
    "        \"age\": 20,\n",
    "        \"scores\": {\"math\": 85, \"english\": 90}\n",
    "    },\n",
    "    \"S002\": {\n",
    "        \"name\": \"Bob\",\n",
    "        \"age\": 21,\n",
    "        \"scores\": {\"math\": 92, \"english\": 88}\n",
    "    }\n",
    "}\n",
    "\n",
    "print(students)"
   ]
  },
  {
   "cell_type": "code",
   "execution_count": null,
   "metadata": {},
   "outputs": [],
   "source": [
    "# 存取巢狀字典\n",
    "# 查詢 S001 的姓名\n",
    "name = students[\"S001\"][\"name\"]\n",
    "print(\"S001 姓名:\", name)  # Alice\n",
    "\n",
    "# 查詢 S002 的數學成績\n",
    "math_score = students[\"S002\"][\"scores\"][\"math\"]\n",
    "print(\"S002 數學:\", math_score)  # 92"
   ]
  },
  {
   "cell_type": "code",
   "execution_count": null,
   "metadata": {},
   "outputs": [],
   "source": [
    "# 修改巢狀字典\n",
    "# 更新 Alice 的英文成績\n",
    "students[\"S001\"][\"scores\"][\"english\"] = 95\n",
    "print(\"更新後:\", students[\"S001\"][\"scores\"])"
   ]
  },
  {
   "cell_type": "code",
   "execution_count": null,
   "metadata": {},
   "outputs": [],
   "source": [
    "# 新增學生\n",
    "students[\"S003\"] = {\n",
    "    \"name\": \"Charlie\",\n",
    "    \"age\": 19,\n",
    "    \"scores\": {\"math\": 78, \"english\": 82}\n",
    "}\n",
    "\n",
    "print(\"新增後學生數:\", len(students))"
   ]
  },
  {
   "cell_type": "code",
   "execution_count": null,
   "metadata": {},
   "outputs": [],
   "source": [
    "# 遍歷巢狀字典\n",
    "print(\"所有學生資訊:\")\n",
    "for student_id, info in students.items():\n",
    "    print(f\"\\n學號: {student_id}\")\n",
    "    print(f\"  姓名: {info['name']}\")\n",
    "    print(f\"  年齡: {info['age']}\")\n",
    "    print(f\"  成績: {info['scores']}\")"
   ]
  },
  {
   "cell_type": "code",
   "execution_count": null,
   "metadata": {},
   "outputs": [],
   "source": [
    "# 實用範例：計算每位學生的平均分數\n",
    "for student_id, info in students.items():\n",
    "    scores = info[\"scores\"]\n",
    "    average = sum(scores.values()) / len(scores)\n",
    "    print(f\"{info['name']} 的平均分數: {average:.2f}\")"
   ]
  },
  {
   "cell_type": "markdown",
   "metadata": {},
   "source": [
    "---\n",
    "\n",
    "## 範例 9：字典的實用技巧 | Practical Tips"
   ]
  },
  {
   "cell_type": "code",
   "execution_count": null,
   "metadata": {},
   "outputs": [],
   "source": [
    "# 技巧 1: 檢查鍵是否存在\n",
    "student = {\"name\": \"Alice\", \"age\": 20}\n",
    "\n",
    "# 方法 1: 使用 in\n",
    "if \"name\" in student:\n",
    "    print(\"有 name 鍵\")\n",
    "\n",
    "if \"grade\" not in student:\n",
    "    print(\"沒有 grade 鍵\")"
   ]
  },
  {
   "cell_type": "code",
   "execution_count": null,
   "metadata": {},
   "outputs": [],
   "source": [
    "# 技巧 2: 取得字典長度\n",
    "student = {\"name\": \"Alice\", \"age\": 20, \"major\": \"CS\"}\n",
    "print(\"鍵值對數量:\", len(student))  # 3"
   ]
  },
  {
   "cell_type": "code",
   "execution_count": null,
   "metadata": {},
   "outputs": [],
   "source": [
    "# 技巧 3: 合併字典（Python 3.9+）\n",
    "dict1 = {\"a\": 1, \"b\": 2}\n",
    "dict2 = {\"c\": 3, \"d\": 4}\n",
    "\n",
    "# 方法 1: 使用 | 運算子\n",
    "merged = dict1 | dict2\n",
    "print(\"合併結果:\", merged)\n",
    "\n",
    "# 方法 2: 使用 ** 解包\n",
    "merged = {**dict1, **dict2}\n",
    "print(\"解包合併:\", merged)"
   ]
  },
  {
   "cell_type": "code",
   "execution_count": null,
   "metadata": {},
   "outputs": [],
   "source": [
    "# 技巧 4: 排序字典\n",
    "scores = {\"Charlie\": 78, \"Alice\": 85, \"Bob\": 92}\n",
    "\n",
    "# 按鍵排序\n",
    "sorted_by_key = dict(sorted(scores.items()))\n",
    "print(\"按鍵排序:\", sorted_by_key)\n",
    "\n",
    "# 按值排序\n",
    "sorted_by_value = dict(sorted(scores.items(), key=lambda x: x[1], reverse=True))\n",
    "print(\"按值排序:\", sorted_by_value)"
   ]
  },
  {
   "cell_type": "code",
   "execution_count": null,
   "metadata": {},
   "outputs": [],
   "source": [
    "# 技巧 5: 字元頻率統計\n",
    "text = \"hello world\"\n",
    "frequency = {}\n",
    "\n",
    "for char in text:\n",
    "    if char != \"\":  # 忽略空格\n",
    "        frequency[char] = frequency.get(char, 0) + 1\n",
    "\n",
    "print(\"字元頻率:\", frequency)"
   ]
  },
  {
   "cell_type": "code",
   "execution_count": null,
   "metadata": {},
   "outputs": [],
   "source": [
    "# 技巧 6: 使用 defaultdict 簡化計數\n",
    "from collections import defaultdict\n",
    "\n",
    "text = \"hello world\"\n",
    "frequency = defaultdict(int)  # 預設值為 0\n",
    "\n",
    "for char in text:\n",
    "    if char != \" \":\n",
    "        frequency[char] += 1  # 不需要 get()，自動初始化為 0\n",
    "\n",
    "print(\"字元頻率:\", dict(frequency))"
   ]
  },
  {
   "cell_type": "code",
   "execution_count": null,
   "metadata": {},
   "outputs": [],
   "source": [
    "# 技巧 7: 使用 Counter（最簡單）\n",
    "from collections import Counter\n",
    "\n",
    "text = \"hello world\"\n",
    "frequency = Counter(text.replace(\" \", \"\"))\n",
    "\n",
    "print(\"字元頻率:\", frequency)\n",
    "print(\"最常見 3 個:\", frequency.most_common(3))"
   ]
  },
  {
   "cell_type": "markdown",
   "metadata": {},
   "source": [
    "---\n",
    "\n",
    "## 範例 10：綜合應用 - 學生資料管理系統"
   ]
  },
  {
   "cell_type": "code",
   "execution_count": null,
   "metadata": {},
   "outputs": [],
   "source": [
    "# 完整範例：學生成績管理系統\n",
    "\n",
    "class StudentDatabase:\n",
    "    def __init__(self):\n",
    "        self.students = {}\n",
    "    \n",
    "    def add_student(self, student_id, name, scores):\n",
    "        \"\"\"新增學生\"\"\"\n",
    "        self.students[student_id] = {\n",
    "            \"name\": name,\n",
    "            \"scores\": scores\n",
    "        }\n",
    "    \n",
    "    def get_student(self, student_id):\n",
    "        \"\"\"查詢學生\"\"\"\n",
    "        return self.students.get(student_id, \"學生不存在\")\n",
    "    \n",
    "    def update_score(self, student_id, subject, score):\n",
    "        \"\"\"更新成績\"\"\"\n",
    "        if student_id in self.students:\n",
    "            self.students[student_id][\"scores\"][subject] = score\n",
    "        else:\n",
    "            print(\"學生不存在\")\n",
    "    \n",
    "    def calculate_average(self, student_id):\n",
    "        \"\"\"計算平均分數\"\"\"\n",
    "        if student_id in self.students:\n",
    "            scores = self.students[student_id][\"scores\"].values()\n",
    "            return sum(scores) / len(scores)\n",
    "        return None\n",
    "    \n",
    "    def get_top_students(self, n=3):\n",
    "        \"\"\"取得前 N 名學生\"\"\"\n",
    "        averages = {\n",
    "            sid: self.calculate_average(sid) \n",
    "            for sid in self.students\n",
    "        }\n",
    "        sorted_students = sorted(averages.items(), key=lambda x: x[1], reverse=True)\n",
    "        return sorted_students[:n]\n",
    "\n",
    "# 使用範例\n",
    "db = StudentDatabase()\n",
    "\n",
    "# 新增學生\n",
    "db.add_student(\"S001\", \"Alice\", {\"math\": 85, \"english\": 90})\n",
    "db.add_student(\"S002\", \"Bob\", {\"math\": 92, \"english\": 88})\n",
    "db.add_student(\"S003\", \"Charlie\", {\"math\": 78, \"english\": 82})\n",
    "\n",
    "# 查詢學生\n",
    "print(\"Alice 的資料:\", db.get_student(\"S001\"))\n",
    "\n",
    "# 更新成績\n",
    "db.update_score(\"S001\", \"math\", 95)\n",
    "print(\"更新後:\", db.get_student(\"S001\"))\n",
    "\n",
    "# 計算平均\n",
    "avg = db.calculate_average(\"S001\")\n",
    "print(f\"Alice 平均: {avg:.2f}\")\n",
    "\n",
    "# 前三名\n",
    "print(\"\\n前三名:\")\n",
    "for sid, avg in db.get_top_students(3):\n",
    "    name = db.students[sid][\"name\"]\n",
    "    print(f\"{name} ({sid}): {avg:.2f}\")"
   ]
  },
  {
   "cell_type": "markdown",
   "metadata": {},
   "source": [
    "---\n",
    "\n",
    "## Part III: 本章總結 | Chapter Summary\n",
    "\n",
    "---\n",
    "\n",
    "## 知識回顧 | Knowledge Review\n",
    "\n",
    "### 核心概念\n",
    "\n",
    "1. **字典定義**\n",
    "   - 鍵值對映射資料結構\n",
    "   - 鍵必須不可變且唯一\n",
    "   - 值可以是任意型態\n",
    "\n",
    "2. **字典創建**\n",
    "   - `{key: value}` 字面量\n",
    "   - `dict()` 建構子\n",
    "   - `dict.fromkeys()`\n",
    "   - 字典推導式\n",
    "\n",
    "3. **字典操作**\n",
    "   - 存取：`dict[key]`, `get()`\n",
    "   - 修改：`dict[key] = value`\n",
    "   - 刪除：`del`, `pop()`, `popitem()`, `clear()`\n",
    "\n",
    "4. **字典方法**\n",
    "   - `keys()`, `values()`, `items()`\n",
    "   - `get()`, `setdefault()`\n",
    "   - `update()`, `copy()`\n",
    "\n",
    "5. **字典遍歷**\n",
    "   - 遍歷鍵：`for k in dict`\n",
    "   - 遍歷值：`for v in dict.values()`\n",
    "   - 遍歷鍵值對：`for k, v in dict.items()`\n",
    "\n",
    "### 字典方法速查表\n",
    "\n",
    "| 方法 | 說明 | 範例 |\n",
    "|:-----|:-----|:-----|\n",
    "| `dict[key]` | 存取值（鍵不存在會報錯） | `d[\"name\"]` |\n",
    "| `dict.get(key, default)` | 安全存取（可設預設值） | `d.get(\"age\", 0)` |\n",
    "| `dict[key] = value` | 新增或修改 | `d[\"name\"] = \"Alice\"` |\n",
    "| `del dict[key]` | 刪除鍵值對 | `del d[\"name\"]` |\n",
    "| `dict.pop(key)` | 刪除並返回值 | `d.pop(\"name\")` |\n",
    "| `dict.popitem()` | 刪除最後項目 | `d.popitem()` |\n",
    "| `dict.clear()` | 清空字典 | `d.clear()` |\n",
    "| `dict.keys()` | 取得所有鍵 | `d.keys()` |\n",
    "| `dict.values()` | 取得所有值 | `d.values()` |\n",
    "| `dict.items()` | 取得所有鍵值對 | `d.items()` |\n",
    "| `dict.update(other)` | 合併字典 | `d.update(d2)` |\n",
    "| `dict.copy()` | 淺複製 | `d2 = d.copy()` |\n",
    "| `dict.setdefault(key, default)` | 取得值，不存在則設定 | `d.setdefault(\"age\", 0)` |\n",
    "| `key in dict` | 檢查鍵是否存在 | `\"name\" in d` |\n",
    "| `len(dict)` | 取得鍵值對數量 | `len(d)` |\n",
    "\n",
    "---\n",
    "\n",
    "## 常見誤區 | Common Pitfalls\n",
    "\n",
    "### 誤區 1：使用可變物件作為鍵\n",
    "```python\n",
    "# ✗ 錯誤\n",
    "# d = {[1, 2]: \"value\"}  # TypeError: unhashable type: 'list'\n",
    "\n",
    "# ✓ 正確\n",
    "d = {(1, 2): \"value\"}  # 使用元組\n",
    "```\n",
    "\n",
    "### 誤區 2：直接用 [] 存取不存在的鍵\n",
    "```python\n",
    "# ✗ 錯誤\n",
    "# value = d[\"missing_key\"]  # KeyError\n",
    "\n",
    "# ✓ 正確\n",
    "value = d.get(\"missing_key\", \"default\")\n",
    "# 或\n",
    "if \"missing_key\" in d:\n",
    "    value = d[\"missing_key\"]\n",
    "```\n",
    "\n",
    "### 誤區 3：遍歷時修改字典大小\n",
    "```python\n",
    "# ✗ 錯誤\n",
    "# for key in d:\n",
    "#     del d[key]  # RuntimeError: dictionary changed size during iteration\n",
    "\n",
    "# ✓ 正確\n",
    "keys_to_delete = [key for key in d if condition]\n",
    "for key in keys_to_delete:\n",
    "    del d[key]\n",
    "```\n",
    "\n",
    "### 誤區 4：淺複製的陷阱\n",
    "```python\n",
    "# 淺複製：巢狀物件仍共享\n",
    "original = {\"scores\": [85, 90]}\n",
    "copied = original.copy()\n",
    "copied[\"scores\"].append(95)  # 會影響 original！\n",
    "\n",
    "# 解決：使用深複製\n",
    "import copy\n",
    "copied = copy.deepcopy(original)\n",
    "```\n",
    "\n",
    "---\n",
    "\n",
    "## 自我檢核 | Self-Assessment\n",
    "\n",
    "完成本章後，你應該能夠：\n",
    "\n",
    "### 基礎能力 ✓\n",
    "- [ ] 解釋字典與列表的差異\n",
    "- [ ] 使用 4 種方式創建字典\n",
    "- [ ] 使用 `[]` 和 `get()` 存取字典\n",
    "- [ ] 新增、修改、刪除字典元素\n",
    "- [ ] 使用 `keys()`, `values()`, `items()` 檢視字典\n",
    "- [ ] 使用三種方式遍歷字典\n",
    "- [ ] 判斷鍵是否存在\n",
    "\n",
    "### 進階能力 ✓\n",
    "- [ ] 使用 `get()` 避免 KeyError\n",
    "- [ ] 使用 `update()` 合併字典\n",
    "- [ ] 使用 `pop()`, `popitem()` 刪除元素\n",
    "- [ ] 使用字典推導式創建字典\n",
    "- [ ] 設計巢狀字典儲存複雜資料\n",
    "- [ ] 使用 `defaultdict` 和 `Counter`\n",
    "\n",
    "### 應用能力 ✓\n",
    "- [ ] 實作通訊錄管理系統\n",
    "- [ ] 實作字元頻率統計器\n",
    "- [ ] 實作學生成績管理系統\n",
    "- [ ] 使用字典解決實際問題\n",
    "\n",
    "---\n",
    "\n",
    "## 延伸閱讀 | Further Reading\n",
    "\n",
    "### 官方文件\n",
    "- [Python Tutorial: Dictionaries](https://docs.python.org/3/tutorial/datastructures.html#dictionaries)\n",
    "- [dict - Python Documentation](https://docs.python.org/3/library/stdtypes.html#dict)\n",
    "- [collections - Container datatypes](https://docs.python.org/3/library/collections.html)\n",
    "\n",
    "### 下一步\n",
    "- **Ch10: 集合 (Sets)**：學習無序不重複集合\n",
    "- **Ch11: 推導式 (Comprehensions)**：深入學習各種推導式\n",
    "- **實作專案**：使用字典建立資料處理系統\n",
    "\n",
    "---\n",
    "\n",
    "**恭喜完成 Chapter 9！** 🎉\n",
    "\n",
    "下一章將學習 **集合 (Sets)**，一種無序且不重複的資料結構。"
   ]
  }
 ],
 "metadata": {
  "kernelspec": {
   "display_name": "Python 3",
   "language": "python",
   "name": "python3"
  },
  "language_info": {
   "codemirror_mode": {
    "name": "ipython",
    "version": 3
   },
   "file_extension": ".py",
   "mimetype": "text/x-python",
   "name": "python",
   "nbconvert_exporter": "python",
   "pygments_lexer": "ipython3",
   "version": "3.9.0"
  }
 },
 "nbformat": 4,
 "nbformat_minor": 4
}
