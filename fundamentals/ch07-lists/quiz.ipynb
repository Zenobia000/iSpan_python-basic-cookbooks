{
 "cells": [
  {
   "cell_type": "markdown",
   "metadata": {},
   "source": [
    "# Chapter 7: 序列資料：列表 | Sequential Data: Lists\n",
    "\n",
    "## 📝 自我測驗 | Quiz\n",
    "\n",
    "**測驗說明**：\n",
    "- **Part 1: 選擇題**（10 題，每題 6 分）= 60 分\n",
    "- **Part 2: 程式題**（5 題，每題 8 分）= 40 分\n",
    "- **總分**：100 分\n",
    "- **及格分數**：70 分\n",
    "\n",
    "**作答方式**：\n",
    "1. 選擇題：將答案填入指定的變數中\n",
    "2. 程式題：在 code cell 中撰寫完整程式碼\n",
    "3. 完成後執行「答案檢核」cell 查看分數\n",
    "\n",
    "**預計時間**：30 分鐘\n",
    "\n",
    "---"
   ]
  },
  {
   "cell_type": "markdown",
   "metadata": {},
   "source": [
    "## Part 1: 選擇題（60 分）\n",
    "\n",
    "### Q1. 以下哪個是建立列表的正確方式？（6 分）\n",
    "\n",
    "A. `my_list = (1, 2, 3)`  \n",
    "B. `my_list = [1, 2, 3]`  \n",
    "C. `my_list = {1, 2, 3}`  \n",
    "D. `my_list = <1, 2, 3>`"
   ]
  },
  {
   "cell_type": "code",
   "execution_count": null,
   "metadata": {},
   "outputs": [],
   "source": [
    "# 請填入答案（A, B, C, or D）\n",
    "answer_1 = \"\""
   ]
  },
  {
   "cell_type": "markdown",
   "metadata": {},
   "source": [
    "---\n",
    "\n",
    "### Q2. 給定 `numbers = [10, 20, 30, 40, 50]`，`numbers[-2]` 的值是？（6 分）\n",
    "\n",
    "A. 20  \n",
    "B. 30  \n",
    "C. 40  \n",
    "D. 50"
   ]
  },
  {
   "cell_type": "code",
   "execution_count": null,
   "metadata": {},
   "outputs": [],
   "source": [
    "# 請填入答案（A, B, C, or D）\n",
    "answer_2 = \"\""
   ]
  },
  {
   "cell_type": "markdown",
   "metadata": {},
   "source": [
    "---\n",
    "\n",
    "### Q3. 以下哪個方法會修改原列表？（6 分）\n",
    "\n",
    "A. `sorted(my_list)`  \n",
    "B. `my_list.sort()`  \n",
    "C. `list(my_list)`  \n",
    "D. `my_list.copy()`"
   ]
  },
  {
   "cell_type": "code",
   "execution_count": null,
   "metadata": {},
   "outputs": [],
   "source": [
    "# 請填入答案（A, B, C, or D）\n",
    "answer_3 = \"\""
   ]
  },
  {
   "cell_type": "markdown",
   "metadata": {},
   "source": [
    "---\n",
    "\n",
    "### Q4. 給定 `fruits = ['apple', 'banana', 'cherry']`，執行 `fruits[1:3]` 的結果是？（6 分）\n",
    "\n",
    "A. `['apple', 'banana']`  \n",
    "B. `['banana', 'cherry']`  \n",
    "C. `['banana']`  \n",
    "D. `['apple', 'banana', 'cherry']`"
   ]
  },
  {
   "cell_type": "code",
   "execution_count": null,
   "metadata": {},
   "outputs": [],
   "source": [
    "# 請填入答案（A, B, C, or D）\n",
    "answer_4 = \"\""
   ]
  },
  {
   "cell_type": "markdown",
   "metadata": {},
   "source": [
    "---\n",
    "\n",
    "### Q5. 以下哪個運算子用於檢查元素是否在列表中？（6 分）\n",
    "\n",
    "A. `==`  \n",
    "B. `in`  \n",
    "C. `is`  \n",
    "D. `has`"
   ]
  },
  {
   "cell_type": "code",
   "execution_count": null,
   "metadata": {},
   "outputs": [],
   "source": [
    "# 請填入答案（A, B, C, or D）\n",
    "answer_5 = \"\""
   ]
  },
  {
   "cell_type": "markdown",
   "metadata": {},
   "source": [
    "---\n",
    "\n",
    "### Q6. `my_list.append(x)` 和 `my_list.extend([x])` 的差別是？（6 分）\n",
    "\n",
    "A. 兩者完全相同  \n",
    "B. `append()` 加入一個元素，`extend()` 合併列表  \n",
    "C. `append()` 合併列表，`extend()` 加入一個元素  \n",
    "D. `extend()` 會回傳新列表"
   ]
  },
  {
   "cell_type": "code",
   "execution_count": null,
   "metadata": {},
   "outputs": [],
   "source": [
    "# 請填入答案（A, B, C, or D）\n",
    "answer_6 = \"\""
   ]
  },
  {
   "cell_type": "markdown",
   "metadata": {},
   "source": [
    "---\n",
    "\n",
    "### Q7. 給定 `data = [5, 2, 9, 1, 7]`，執行 `max(data) - min(data)` 的結果是？（6 分）\n",
    "\n",
    "A. 4  \n",
    "B. 6  \n",
    "C. 8  \n",
    "D. 10"
   ]
  },
  {
   "cell_type": "code",
   "execution_count": null,
   "metadata": {},
   "outputs": [],
   "source": [
    "# 請填入答案（A, B, C, or D）\n",
    "answer_7 = \"\""
   ]
  },
  {
   "cell_type": "markdown",
   "metadata": {},
   "source": [
    "---\n",
    "\n",
    "### Q8. 以下程式碼的輸出是？（6 分）\n",
    "\n",
    "```python\n",
    "numbers = [1, 2, 3]\n",
    "numbers.append(4)\n",
    "result = numbers.pop()\n",
    "print(result)\n",
    "```\n",
    "\n",
    "A. `[1, 2, 3, 4]`  \n",
    "B. `[1, 2, 3]`  \n",
    "C. `4`  \n",
    "D. `None`"
   ]
  },
  {
   "cell_type": "code",
   "execution_count": null,
   "metadata": {},
   "outputs": [],
   "source": [
    "# 請填入答案（A, B, C, or D）\n",
    "answer_8 = \"\""
   ]
  },
  {
   "cell_type": "markdown",
   "metadata": {},
   "source": [
    "---\n",
    "\n",
    "### Q9. 列表的索引從哪個數字開始？（6 分）\n",
    "\n",
    "A. -1  \n",
    "B. 0  \n",
    "C. 1  \n",
    "D. 沒有固定規則"
   ]
  },
  {
   "cell_type": "code",
   "execution_count": null,
   "metadata": {},
   "outputs": [],
   "source": [
    "# 請填入答案（A, B, C, or D）\n",
    "answer_9 = \"\""
   ]
  },
  {
   "cell_type": "markdown",
   "metadata": {},
   "source": [
    "---\n",
    "\n",
    "### Q10. 以下哪個方法用於找出元素在列表中的位置？（6 分）\n",
    "\n",
    "A. `find()`  \n",
    "B. `index()`  \n",
    "C. `search()`  \n",
    "D. `locate()`"
   ]
  },
  {
   "cell_type": "code",
   "execution_count": null,
   "metadata": {},
   "outputs": [],
   "source": [
    "# 請填入答案（A, B, C, or D）\n",
    "answer_10 = \"\""
   ]
  },
  {
   "cell_type": "markdown",
   "metadata": {},
   "source": [
    "---\n",
    "\n",
    "## Part 2: 程式題（40 分）\n",
    "\n",
    "### Q11. 列表基本操作（8 分）\n",
    "\n",
    "**要求**：建立一個包含 1 到 5 的列表，然後：\n",
    "1. 在末尾加入 6\n",
    "2. 在開頭插入 0\n",
    "3. 輸出列表長度\n",
    "4. 輸出最終列表"
   ]
  },
  {
   "cell_type": "code",
   "execution_count": null,
   "metadata": {},
   "outputs": [],
   "source": [
    "# 請在此撰寫程式碼\n",
    "my_list = [1, 2, 3, 4, 5]\n",
    "\n",
    "# 1. 在末尾加入 6\n",
    "\n",
    "\n",
    "# 2. 在開頭插入 0\n",
    "\n",
    "\n",
    "# 3. 輸出列表長度\n",
    "print(\"列表長度:\", )\n",
    "\n",
    "# 4. 輸出最終列表\n",
    "print(\"最終列表:\", my_list)"
   ]
  },
  {
   "cell_type": "markdown",
   "metadata": {},
   "source": [
    "---\n",
    "\n",
    "### Q12. 列表切片（8 分）\n",
    "\n",
    "**要求**：給定 `numbers = [10, 20, 30, 40, 50, 60, 70, 80]`\n",
    "\n",
    "輸出：\n",
    "1. 前 3 個元素\n",
    "2. 後 3 個元素\n",
    "3. 所有奇數位置的元素（索引 1, 3, 5...）"
   ]
  },
  {
   "cell_type": "code",
   "execution_count": null,
   "metadata": {},
   "outputs": [],
   "source": [
    "# 請在此撰寫程式碼\n",
    "numbers = [10, 20, 30, 40, 50, 60, 70, 80]\n",
    "\n",
    "# 1. 前 3 個元素\n",
    "first_3 = \n",
    "print(\"前 3 個:\", first_3)\n",
    "\n",
    "# 2. 後 3 個元素\n",
    "last_3 = \n",
    "print(\"後 3 個:\", last_3)\n",
    "\n",
    "# 3. 奇數位置的元素\n",
    "odd_positions = \n",
    "print(\"奇數位置:\", odd_positions)"
   ]
  },
  {
   "cell_type": "markdown",
   "metadata": {},
   "source": [
    "---\n",
    "\n",
    "### Q13. 列表統計（8 分）\n",
    "\n",
    "**要求**：給定 `scores = [75, 82, 90, 68, 95, 88]`\n",
    "\n",
    "計算並輸出：\n",
    "1. 平均分（保留 2 位小數）\n",
    "2. 最高分\n",
    "3. 最低分\n",
    "4. 及格人數（≥ 60）"
   ]
  },
  {
   "cell_type": "code",
   "execution_count": null,
   "metadata": {},
   "outputs": [],
   "source": [
    "# 請在此撰寫程式碼\n",
    "scores = [75, 82, 90, 68, 95, 88]\n",
    "\n",
    "# 1. 平均分\n",
    "average = \n",
    "print(f\"平均分: {average:.2f}\")\n",
    "\n",
    "# 2. 最高分\n",
    "highest = \n",
    "print(\"最高分:\", highest)\n",
    "\n",
    "# 3. 最低分\n",
    "lowest = \n",
    "print(\"最低分:\", lowest)\n",
    "\n",
    "# 4. 及格人數\n",
    "passed = 0\n",
    "for score in scores:\n",
    "    # 請完成此處程式碼\n",
    "    pass\n",
    "\n",
    "print(\"及格人數:\", passed)"
   ]
  },
  {
   "cell_type": "markdown",
   "metadata": {},
   "source": [
    "---\n",
    "\n",
    "### Q14. 列表過濾（8 分）\n",
    "\n",
    "**要求**：給定 `numbers = [15, 8, 23, 42, 4, 16, 30, 7]`\n",
    "\n",
    "建立兩個新列表：\n",
    "1. 只包含大於 10 的數字\n",
    "2. 只包含偶數"
   ]
  },
  {
   "cell_type": "code",
   "execution_count": null,
   "metadata": {},
   "outputs": [],
   "source": [
    "# 請在此撰寫程式碼\n",
    "numbers = [15, 8, 23, 42, 4, 16, 30, 7]\n",
    "\n",
    "# 1. 大於 10 的數字\n",
    "greater_than_10 = []\n",
    "for num in numbers:\n",
    "    # 請完成此處程式碼\n",
    "    pass\n",
    "\n",
    "print(\"大於 10:\", greater_than_10)\n",
    "\n",
    "# 2. 偶數\n",
    "even_numbers = []\n",
    "for num in numbers:\n",
    "    # 請完成此處程式碼\n",
    "    pass\n",
    "\n",
    "print(\"偶數:\", even_numbers)"
   ]
  },
  {
   "cell_type": "markdown",
   "metadata": {},
   "source": [
    "---\n",
    "\n",
    "### Q15. 綜合應用（8 分）\n",
    "\n",
    "**要求**：建立一個簡單的任務清單系統\n",
    "\n",
    "1. 建立空列表 `tasks`\n",
    "2. 加入三個任務：\"寫報告\", \"買菜\", \"運動\"\n",
    "3. 使用 `enumerate()` 顯示編號的任務清單（從 1 開始）\n",
    "4. 移除第 2 個任務\n",
    "5. 再次顯示任務清單"
   ]
  },
  {
   "cell_type": "code",
   "execution_count": null,
   "metadata": {},
   "outputs": [],
   "source": [
    "# 請在此撰寫程式碼\n",
    "\n",
    "# 1. 建立空列表\n",
    "tasks = []\n",
    "\n",
    "# 2. 加入三個任務\n",
    "\n",
    "\n",
    "# 3. 顯示任務清單（使用 enumerate）\n",
    "print(\"=== 任務清單 ===\")\n",
    "for i, task in enumerate(tasks, start=1):\n",
    "    print(f\"{i}. {task}\")\n",
    "\n",
    "# 4. 移除第 2 個任務\n",
    "\n",
    "\n",
    "# 5. 再次顯示任務清單\n",
    "print(\"\\n=== 更新後 ===\")\n",
    "for i, task in enumerate(tasks, start=1):\n",
    "    print(f\"{i}. {task}\")"
   ]
  },
  {
   "cell_type": "markdown",
   "metadata": {},
   "source": [
    "---\n",
    "\n",
    "## 📝 答案與解析\n",
    "\n",
    "### Part 1: 選擇題答案\n",
    "\n",
    "| 題號 | 答案 | 解析 |\n",
    "|:----:|:----:|:-----|\n",
    "| Q1 | B | 列表使用方括號 `[]` 建立 |\n",
    "| Q2 | C | `-2` 是倒數第二個元素，即 40 |\n",
    "| Q3 | B | `sort()` 會直接修改原列表 |\n",
    "| Q4 | B | 切片 `[1:3]` 取索引 1 和 2（不含 3） |\n",
    "| Q5 | B | `in` 運算子用於成員檢查 |\n",
    "| Q6 | B | `append()` 加入元素，`extend()` 合併列表 |\n",
    "| Q7 | C | `max(data) = 9`, `min(data) = 1`, `9 - 1 = 8` |\n",
    "| Q8 | C | `pop()` 回傳被移除的元素 4 |\n",
    "| Q9 | B | 列表索引從 0 開始 |\n",
    "| Q10 | B | `index()` 方法回傳元素的索引 |"
   ]
  },
  {
   "cell_type": "code",
   "execution_count": null,
   "metadata": {},
   "outputs": [],
   "source": [
    "# 選擇題答案檢核\n",
    "correct_answers = {\n",
    "    1: \"B\",\n",
    "    2: \"C\",\n",
    "    3: \"B\",\n",
    "    4: \"B\",\n",
    "    5: \"B\",\n",
    "    6: \"B\",\n",
    "    7: \"C\",\n",
    "    8: \"C\",\n",
    "    9: \"B\",\n",
    "    10: \"B\"\n",
    "}\n",
    "\n",
    "# 計算分數\n",
    "your_answers = [\n",
    "    answer_1, answer_2, answer_3, answer_4, answer_5,\n",
    "    answer_6, answer_7, answer_8, answer_9, answer_10\n",
    "]\n",
    "\n",
    "score = 0\n",
    "for i, ans in enumerate(your_answers, start=1):\n",
    "    if ans == correct_answers[i]:\n",
    "        score += 6\n",
    "        print(f\"Q{i}: ✅ 正確\")\n",
    "    else:\n",
    "        print(f\"Q{i}: ❌ 錯誤（正確答案: {correct_answers[i]}）\")\n",
    "\n",
    "print(f\"\\n選擇題得分: {score} / 60 分\")"
   ]
  },
  {
   "cell_type": "markdown",
   "metadata": {},
   "source": [
    "---\n",
    "\n",
    "### Part 2: 程式題參考答案\n",
    "\n",
    "#### Q11 解答："
   ]
  },
  {
   "cell_type": "code",
   "execution_count": null,
   "metadata": {},
   "outputs": [],
   "source": [
    "# Q11 參考答案\n",
    "my_list = [1, 2, 3, 4, 5]\n",
    "my_list.append(6)\n",
    "my_list.insert(0, 0)\n",
    "print(\"列表長度:\", len(my_list))\n",
    "print(\"最終列表:\", my_list)\n",
    "# 輸出：列表長度: 7\n",
    "#      最終列表: [0, 1, 2, 3, 4, 5, 6]"
   ]
  },
  {
   "cell_type": "markdown",
   "metadata": {},
   "source": [
    "#### Q12 解答："
   ]
  },
  {
   "cell_type": "code",
   "execution_count": null,
   "metadata": {},
   "outputs": [],
   "source": [
    "# Q12 參考答案\n",
    "numbers = [10, 20, 30, 40, 50, 60, 70, 80]\n",
    "first_3 = numbers[:3]\n",
    "last_3 = numbers[-3:]\n",
    "odd_positions = numbers[1::2]\n",
    "print(\"前 3 個:\", first_3)       # [10, 20, 30]\n",
    "print(\"後 3 個:\", last_3)        # [60, 70, 80]\n",
    "print(\"奇數位置:\", odd_positions) # [20, 40, 60, 80]"
   ]
  },
  {
   "cell_type": "markdown",
   "metadata": {},
   "source": [
    "#### Q13 解答："
   ]
  },
  {
   "cell_type": "code",
   "execution_count": null,
   "metadata": {},
   "outputs": [],
   "source": [
    "# Q13 參考答案\n",
    "scores = [75, 82, 90, 68, 95, 88]\n",
    "average = sum(scores) / len(scores)\n",
    "highest = max(scores)\n",
    "lowest = min(scores)\n",
    "\n",
    "passed = 0\n",
    "for score in scores:\n",
    "    if score >= 60:\n",
    "        passed += 1\n",
    "\n",
    "print(f\"平均分: {average:.2f}\")  # 83.00\n",
    "print(\"最高分:\", highest)        # 95\n",
    "print(\"最低分:\", lowest)         # 68\n",
    "print(\"及格人數:\", passed)       # 6"
   ]
  },
  {
   "cell_type": "markdown",
   "metadata": {},
   "source": [
    "#### Q14 解答："
   ]
  },
  {
   "cell_type": "code",
   "execution_count": null,
   "metadata": {},
   "outputs": [],
   "source": [
    "# Q14 參考答案\n",
    "numbers = [15, 8, 23, 42, 4, 16, 30, 7]\n",
    "\n",
    "greater_than_10 = []\n",
    "for num in numbers:\n",
    "    if num > 10:\n",
    "        greater_than_10.append(num)\n",
    "\n",
    "even_numbers = []\n",
    "for num in numbers:\n",
    "    if num % 2 == 0:\n",
    "        even_numbers.append(num)\n",
    "\n",
    "print(\"大於 10:\", greater_than_10)  # [15, 23, 42, 16, 30]\n",
    "print(\"偶數:\", even_numbers)        # [8, 42, 4, 16, 30]"
   ]
  },
  {
   "cell_type": "markdown",
   "metadata": {},
   "source": [
    "#### Q15 解答："
   ]
  },
  {
   "cell_type": "code",
   "execution_count": null,
   "metadata": {},
   "outputs": [],
   "source": [
    "# Q15 參考答案\n",
    "tasks = []\n",
    "tasks.append(\"寫報告\")\n",
    "tasks.append(\"買菜\")\n",
    "tasks.append(\"運動\")\n",
    "\n",
    "print(\"=== 任務清單 ===\")\n",
    "for i, task in enumerate(tasks, start=1):\n",
    "    print(f\"{i}. {task}\")\n",
    "\n",
    "tasks.pop(1)  # 移除索引 1（第 2 個任務）\n",
    "\n",
    "print(\"\\n=== 更新後 ===\")\n",
    "for i, task in enumerate(tasks, start=1):\n",
    "    print(f\"{i}. {task}\")"
   ]
  },
  {
   "cell_type": "markdown",
   "metadata": {},
   "source": [
    "---\n",
    "\n",
    "## 🎯 評分標準\n",
    "\n",
    "### 總分計算\n",
    "- **選擇題**：10 題 × 6 分 = 60 分\n",
    "- **程式題**：5 題 × 8 分 = 40 分\n",
    "- **總分**：100 分\n",
    "\n",
    "### 成績等級\n",
    "| 分數 | 等級 | 評語 |\n",
    "|:----:|:----:|:-----|\n",
    "| 90-100 | A+ | 優秀！完全掌握列表操作 |\n",
    "| 80-89 | A | 良好！大部分概念清楚 |\n",
    "| 70-79 | B | 及格！需加強部分技巧 |\n",
    "| 60-69 | C | 基礎尚可，需多練習 |\n",
    "| < 60 | D | 需重新複習本章內容 |\n",
    "\n",
    "---\n",
    "\n",
    "## 📚 複習建議\n",
    "\n",
    "### 如果你的分數低於 70 分，建議：\n",
    "\n",
    "1. **重新閱讀** `01-lecture.ipynb` 理論講義\n",
    "2. **重做練習** `03-practice.ipynb` 課堂練習\n",
    "3. **檢視解答** `05-solutions.ipynb` 學習解題思路\n",
    "4. **重新測驗** 再次完成 `quiz.ipynb`\n",
    "\n",
    "### 常見錯誤檢討\n",
    "\n",
    "- **Q2, Q4 錯誤**：複習索引與切片規則\n",
    "- **Q3, Q6 錯誤**：複習列表方法的差異\n",
    "- **Q13-Q15 錯誤**：加強 for 迴圈與條件判斷\n",
    "\n",
    "---\n",
    "\n",
    "## ✅ 學習完成檢核\n",
    "\n",
    "完成測驗後，確認你能夠：\n",
    "- [ ] 正確建立與存取列表\n",
    "- [ ] 熟練使用切片操作\n",
    "- [ ] 理解列表方法的差異\n",
    "- [ ] 使用迴圈處理列表\n",
    "- [ ] 解決實際的列表應用問題\n",
    "\n",
    "---\n",
    "\n",
    "**恭喜完成 Chapter 7 的學習！**\n",
    "\n",
    "繼續前往：\n",
    "- **Chapter 8: 元組（Tuples）** - 學習不可變的序列資料\n",
    "- **Milestone 3: 成績管理系統** - 綜合應用列表處理資料"
   ]
  }
 ],
 "metadata": {
  "kernelspec": {
   "display_name": "Python 3",
   "language": "python",
   "name": "python3"
  },
  "language_info": {
   "name": "python",
   "version": "3.8.0"
  }
 },
 "nbformat": 4,
 "nbformat_minor": 4
}
