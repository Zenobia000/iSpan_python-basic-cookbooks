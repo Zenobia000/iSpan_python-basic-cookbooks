{
 "cells": [
  {
   "cell_type": "markdown",
   "id": "cell-0",
   "metadata": {},
   "source": [
    "# Chapter 7: 序列資料：列表 | Sequential Data: Lists\n",
    "\n",
    "## 📝 詳解範例 | Worked Examples\n",
    "\n",
    "---\n",
    "\n",
    "## 💡 本檔案目的\n",
    "\n",
    "本檔案提供 **5 個循序漸進的詳解範例**，每個範例包含：\n",
    "1. **問題描述**：實際應用情境\n",
    "2. **分析思路**：如何拆解問題\n",
    "3. **逐步實作**：程式碼 + 註解\n",
    "4. **執行結果**：預期輸出\n",
    "5. **知識點總結**：學到什麼\n",
    "\n",
    "---"
   ]
  },
  {
   "cell_type": "markdown",
   "id": "cell-1",
   "metadata": {},
   "source": [
    "## 範例 1：學生成績處理（新增、刪除、排序）\n",
    "\n",
    "### 📋 問題描述\n",
    "設計一個成績管理系統，能夠：\n",
    "- 建立初始成績列表\n",
    "- 新增學生成績\n",
    "- 刪除不及格成績\n",
    "- 排序成績（降序）\n",
    "- 顯示統計資訊（平均、最高、最低）\n",
    "\n",
    "### 🔍 分析思路\n",
    "1. 建立成績列表\n",
    "2. 使用 `append()` 新增成績\n",
    "3. 使用列表推導式過濾不及格成績\n",
    "4. 使用 `sort()` 排序\n",
    "5. 使用內建函式計算統計值\n",
    "\n",
    "### 💻 逐步實作"
   ]
  },
  {
   "cell_type": "code",
   "execution_count": null,
   "id": "cell-2",
   "metadata": {},
   "outputs": [],
   "source": [
    "# Step 1: 建立初始成績列表\n",
    "scores = [85, 92, 78, 65, 88, 45, 95, 72]\n",
    "print(\"原始成績列表：\", scores)\n",
    "print(f\"學生人數：{len(scores)} 人\")\n",
    "print()"
   ]
  },
  {
   "cell_type": "code",
   "execution_count": null,
   "id": "cell-3",
   "metadata": {},
   "outputs": [],
   "source": [
    "# Step 2: 新增學生成績\n",
    "new_scores = [90, 67]\n",
    "for score in new_scores:\n",
    "    scores.append(score)\n",
    "    print(f\"新增成績：{score} 分\")\n",
    "\n",
    "print(\"\\n新增後的成績列表：\", scores)\n",
    "print(f\"學生人數：{len(scores)} 人\")\n",
    "print()"
   ]
  },
  {
   "cell_type": "code",
   "execution_count": null,
   "id": "cell-4",
   "metadata": {},
   "outputs": [],
   "source": [
    "# Step 3: 刪除不及格成績（< 60 分）\n",
    "print(\"刪除不及格成績（< 60 分）：\")\n",
    "# 使用列表推導式，只保留及格成績\n",
    "scores = [score for score in scores if score >= 60]\n",
    "print(\"刪除後的成績列表：\", scores)\n",
    "print(f\"剩餘學生人數：{len(scores)} 人\")\n",
    "print()"
   ]
  },
  {
   "cell_type": "code",
   "execution_count": null,
   "id": "cell-5",
   "metadata": {},
   "outputs": [],
   "source": [
    "# Step 4: 排序成績（降序）\n",
    "scores.sort(reverse=True)\n",
    "print(\"排序後的成績列表（降序）：\", scores)\n",
    "print()\n",
    "\n",
    "# 顯示排名\n",
    "print(\"成績排名：\")\n",
    "for rank, score in enumerate(scores, 1):\n",
    "    print(f\"第 {rank} 名：{score} 分\")\n",
    "print()"
   ]
  },
  {
   "cell_type": "code",
   "execution_count": null,
   "id": "cell-6",
   "metadata": {},
   "outputs": [],
   "source": [
    "# Step 5: 計算統計資訊\n",
    "total = sum(scores)\n",
    "average = total / len(scores)\n",
    "highest = max(scores)\n",
    "lowest = min(scores)\n",
    "\n",
    "print(\"=\"*40)\n",
    "print(\"📊 成績統計\")\n",
    "print(\"=\"*40)\n",
    "print(f\"總分：{total} 分\")\n",
    "print(f\"平均：{average:.2f} 分\")\n",
    "print(f\"最高分：{highest} 分\")\n",
    "print(f\"最低分：{lowest} 分\")\n",
    "print(f\"及格人數：{len(scores)} 人\")\n",
    "print(\"=\"*40)"
   ]
  },
  {
   "cell_type": "markdown",
   "id": "cell-7",
   "metadata": {},
   "source": [
    "### 📚 知識點總結\n",
    "- ✅ 使用 `append()` 新增元素\n",
    "- ✅ 使用列表推導式過濾元素：`[x for x in list if condition]`\n",
    "- ✅ 使用 `sort(reverse=True)` 降序排序\n",
    "- ✅ 使用 `enumerate()` 取得索引和值\n",
    "- ✅ 使用內建函式：`sum()`, `max()`, `min()`, `len()`"
   ]
  },
  {
   "cell_type": "markdown",
   "id": "cell-8",
   "metadata": {},
   "source": [
    "---\n",
    "\n",
    "## 範例 2：購物清單管理（CRUD 操作）\n",
    "\n",
    "### 📋 問題描述\n",
    "建立購物清單管理系統，實作完整的 CRUD 操作：\n",
    "- **Create**：新增商品\n",
    "- **Read**：顯示清單\n",
    "- **Update**：修改商品\n",
    "- **Delete**：刪除商品\n",
    "\n",
    "### 🔍 分析思路\n",
    "1. 建立初始購物清單\n",
    "2. 新增商品（append、insert）\n",
    "3. 顯示清單（遍歷）\n",
    "4. 修改商品（索引賦值）\n",
    "5. 刪除商品（remove、pop）\n",
    "\n",
    "### 💻 逐步實作"
   ]
  },
  {
   "cell_type": "code",
   "execution_count": null,
   "id": "cell-9",
   "metadata": {},
   "outputs": [],
   "source": [
    "# Step 1: 建立初始購物清單\n",
    "shopping_list = [\"牛奶\", \"麵包\", \"雞蛋\"]\n",
    "print(\"📝 初始購物清單：\")\n",
    "for i, item in enumerate(shopping_list, 1):\n",
    "    print(f\"  {i}. {item}\")\n",
    "print()"
   ]
  },
  {
   "cell_type": "code",
   "execution_count": null,
   "id": "cell-10",
   "metadata": {},
   "outputs": [],
   "source": [
    "# Step 2: 新增商品（Create）\n",
    "# 方法 1：在末尾新增\n",
    "shopping_list.append(\"水果\")\n",
    "print(\"新增『水果』到清單末尾\")\n",
    "\n",
    "# 方法 2：在指定位置插入\n",
    "shopping_list.insert(1, \"咖啡\")  # 在索引 1 插入\n",
    "print(\"在第 2 個位置插入『咖啡』\")\n",
    "\n",
    "print(\"\\n更新後的清單：\")\n",
    "for i, item in enumerate(shopping_list, 1):\n",
    "    print(f\"  {i}. {item}\")\n",
    "print()"
   ]
  },
  {
   "cell_type": "code",
   "execution_count": null,
   "id": "cell-11",
   "metadata": {},
   "outputs": [],
   "source": [
    "# Step 3: 修改商品（Update）\n",
    "print(\"修改第 3 個商品：『麵包』→『全麥麵包』\")\n",
    "shopping_list[2] = \"全麥麵包\"\n",
    "\n",
    "print(\"\\n修改後的清單：\")\n",
    "for i, item in enumerate(shopping_list, 1):\n",
    "    print(f\"  {i}. {item}\")\n",
    "print()"
   ]
  },
  {
   "cell_type": "code",
   "execution_count": null,
   "id": "cell-12",
   "metadata": {},
   "outputs": [],
   "source": [
    "# Step 4: 刪除商品（Delete）\n",
    "# 方法 1：依值刪除\n",
    "shopping_list.remove(\"雞蛋\")\n",
    "print(\"刪除『雞蛋』（依值刪除）\")\n",
    "\n",
    "# 方法 2：依索引刪除並回傳\n",
    "removed_item = shopping_list.pop(0)\n",
    "print(f\"刪除第 1 個商品：{removed_item}（依索引刪除）\")\n",
    "\n",
    "print(\"\\n最終清單：\")\n",
    "for i, item in enumerate(shopping_list, 1):\n",
    "    print(f\"  {i}. {item}\")\n",
    "print()"
   ]
  },
  {
   "cell_type": "code",
   "execution_count": null,
   "id": "cell-13",
   "metadata": {},
   "outputs": [],
   "source": [
    "# Step 5: 檢查商品是否存在（Read）\n",
    "search_item = \"咖啡\"\n",
    "if search_item in shopping_list:\n",
    "    index = shopping_list.index(search_item)\n",
    "    print(f\"✅ 找到『{search_item}』，位於第 {index + 1} 個位置\")\n",
    "else:\n",
    "    print(f\"❌ 清單中沒有『{search_item}』\")\n",
    "\n",
    "# 統計清單狀態\n",
    "print(f\"\\n📊 清單共有 {len(shopping_list)} 項商品\")"
   ]
  },
  {
   "cell_type": "markdown",
   "id": "cell-14",
   "metadata": {},
   "source": [
    "### 📚 知識點總結\n",
    "- ✅ **Create**：`append()` 末尾新增，`insert()` 指定位置插入\n",
    "- ✅ **Read**：`in` 檢查存在，`index()` 查詢位置\n",
    "- ✅ **Update**：直接索引賦值 `list[i] = value`\n",
    "- ✅ **Delete**：`remove()` 依值刪除，`pop()` 依索引刪除\n",
    "- ✅ CRUD 是資料管理的核心操作"
   ]
  },
  {
   "cell_type": "markdown",
   "id": "cell-15",
   "metadata": {},
   "source": [
    "---\n",
    "\n",
    "## 範例 3：資料過濾（找出符合條件的元素）\n",
    "\n",
    "### 📋 問題描述\n",
    "從一組學生資料中，篩選出符合特定條件的學生：\n",
    "- 找出所有及格學生（成績 >= 60）\n",
    "- 找出優秀學生（成績 >= 80）\n",
    "- 找出需要補考的學生（成績 < 60）\n",
    "- 統計各類別人數\n",
    "\n",
    "### 🔍 分析思路\n",
    "1. 建立成績列表\n",
    "2. 使用列表推導式過濾資料\n",
    "3. 統計各類別人數\n",
    "4. 計算百分比\n",
    "\n",
    "### 💻 逐步實作"
   ]
  },
  {
   "cell_type": "code",
   "execution_count": null,
   "id": "cell-16",
   "metadata": {},
   "outputs": [],
   "source": [
    "# Step 1: 建立成績資料\n",
    "students = [\n",
    "    {\"name\": \"Alice\", \"score\": 85},\n",
    "    {\"name\": \"Bob\", \"score\": 92},\n",
    "    {\"name\": \"Charlie\", \"score\": 45},\n",
    "    {\"name\": \"David\", \"score\": 78},\n",
    "    {\"name\": \"Eve\", \"score\": 55},\n",
    "    {\"name\": \"Frank\", \"score\": 88},\n",
    "    {\"name\": \"Grace\", \"score\": 72}\n",
    "]\n",
    "\n",
    "print(\"📋 所有學生成績：\")\n",
    "for student in students:\n",
    "    print(f\"  {student['name']:10} {student['score']:3} 分\")\n",
    "print()"
   ]
  },
  {
   "cell_type": "code",
   "execution_count": null,
   "id": "cell-17",
   "metadata": {},
   "outputs": [],
   "source": [
    "# Step 2: 過濾及格學生（成績 >= 60）\n",
    "passed_students = [s for s in students if s['score'] >= 60]\n",
    "\n",
    "print(\"✅ 及格學生（>= 60 分）：\")\n",
    "for student in passed_students:\n",
    "    print(f\"  {student['name']:10} {student['score']:3} 分\")\n",
    "print(f\"\\n及格人數：{len(passed_students)} / {len(students)} 人\")\n",
    "print()"
   ]
  },
  {
   "cell_type": "code",
   "execution_count": null,
   "id": "cell-18",
   "metadata": {},
   "outputs": [],
   "source": [
    "# Step 3: 過濾優秀學生（成績 >= 80）\n",
    "excellent_students = [s for s in students if s['score'] >= 80]\n",
    "\n",
    "print(\"⭐ 優秀學生（>= 80 分）：\")\n",
    "for student in excellent_students:\n",
    "    print(f\"  {student['name']:10} {student['score']:3} 分\")\n",
    "print(f\"\\n優秀人數：{len(excellent_students)} / {len(students)} 人\")\n",
    "print()"
   ]
  },
  {
   "cell_type": "code",
   "execution_count": null,
   "id": "cell-19",
   "metadata": {},
   "outputs": [],
   "source": [
    "# Step 4: 過濾需要補考的學生（成績 < 60）\n",
    "failed_students = [s for s in students if s['score'] < 60]\n",
    "\n",
    "print(\"❌ 需要補考（< 60 分）：\")\n",
    "for student in failed_students:\n",
    "    print(f\"  {student['name']:10} {student['score']:3} 分\")\n",
    "print(f\"\\n補考人數：{len(failed_students)} / {len(students)} 人\")\n",
    "print()"
   ]
  },
  {
   "cell_type": "code",
   "execution_count": null,
   "id": "cell-20",
   "metadata": {},
   "outputs": [],
   "source": [
    "# Step 5: 統計分析\n",
    "scores = [s['score'] for s in students]\n",
    "average = sum(scores) / len(scores)\n",
    "\n",
    "print(\"=\"*40)\n",
    "print(\"📊 成績分布統計\")\n",
    "print(\"=\"*40)\n",
    "print(f\"總人數：{len(students)} 人\")\n",
    "print(f\"優秀（>= 80）：{len(excellent_students)} 人 ({len(excellent_students)/len(students)*100:.1f}%)\")\n",
    "print(f\"及格（>= 60）：{len(passed_students)} 人 ({len(passed_students)/len(students)*100:.1f}%)\")\n",
    "print(f\"不及格（< 60）：{len(failed_students)} 人 ({len(failed_students)/len(students)*100:.1f}%)\")\n",
    "print(f\"班級平均：{average:.2f} 分\")\n",
    "print(\"=\"*40)"
   ]
  },
  {
   "cell_type": "markdown",
   "id": "cell-21",
   "metadata": {},
   "source": [
    "### 📚 知識點總結\n",
    "- ✅ 列表推導式過濾：`[x for x in list if condition]`\n",
    "- ✅ 字典列表的操作：存取 `student['score']`\n",
    "- ✅ 列表推導式提取：`[s['score'] for s in students]`\n",
    "- ✅ 統計分析：計算人數、百分比、平均值\n",
    "- ✅ 資料過濾是資料分析的基礎"
   ]
  },
  {
   "cell_type": "markdown",
   "id": "cell-22",
   "metadata": {},
   "source": [
    "---\n",
    "\n",
    "## 範例 4：統計分析（最大、最小、平均、中位數）\n",
    "\n",
    "### 📋 問題描述\n",
    "分析一組溫度資料，計算：\n",
    "- 最高溫、最低溫\n",
    "- 平均溫度\n",
    "- 中位數\n",
    "- 溫度範圍\n",
    "- 高於平均的天數\n",
    "\n",
    "### 🔍 分析思路\n",
    "1. 建立溫度資料列表\n",
    "2. 使用內建函式計算基本統計值\n",
    "3. 手動計算中位數（排序後取中間值）\n",
    "4. 過濾高於平均的資料\n",
    "\n",
    "### 💻 逐步實作"
   ]
  },
  {
   "cell_type": "code",
   "execution_count": null,
   "id": "cell-23",
   "metadata": {},
   "outputs": [],
   "source": [
    "# Step 1: 建立一週溫度資料（攝氏）\n",
    "temperatures = [28, 32, 30, 27, 29, 31, 26]\n",
    "days = [\"週一\", \"週二\", \"週三\", \"週四\", \"週五\", \"週六\", \"週日\"]\n",
    "\n",
    "print(\"🌡️  本週溫度記錄：\")\n",
    "for day, temp in zip(days, temperatures):\n",
    "    print(f\"  {day}: {temp}°C\")\n",
    "print()"
   ]
  },
  {
   "cell_type": "code",
   "execution_count": null,
   "id": "cell-24",
   "metadata": {},
   "outputs": [],
   "source": [
    "# Step 2: 計算基本統計值\n",
    "max_temp = max(temperatures)\n",
    "min_temp = min(temperatures)\n",
    "avg_temp = sum(temperatures) / len(temperatures)\n",
    "temp_range = max_temp - min_temp\n",
    "\n",
    "print(\"📊 基本統計：\")\n",
    "print(f\"最高溫：{max_temp}°C\")\n",
    "print(f\"最低溫：{min_temp}°C\")\n",
    "print(f\"平均溫：{avg_temp:.2f}°C\")\n",
    "print(f\"溫度範圍：{temp_range}°C（最高 - 最低）\")\n",
    "print()"
   ]
  },
  {
   "cell_type": "code",
   "execution_count": null,
   "id": "cell-25",
   "metadata": {},
   "outputs": [],
   "source": [
    "# Step 3: 計算中位數\n",
    "# 中位數：將資料排序後，取中間值\n",
    "sorted_temps = sorted(temperatures)\n",
    "n = len(sorted_temps)\n",
    "\n",
    "if n % 2 == 1:\n",
    "    # 奇數個元素：取中間那個\n",
    "    median = sorted_temps[n // 2]\n",
    "else:\n",
    "    # 偶數個元素：取中間兩個的平均\n",
    "    median = (sorted_temps[n // 2 - 1] + sorted_temps[n // 2]) / 2\n",
    "\n",
    "print(\"排序後的溫度：\", sorted_temps)\n",
    "print(f\"中位數：{median}°C\")\n",
    "print()"
   ]
  },
  {
   "cell_type": "code",
   "execution_count": null,
   "id": "cell-26",
   "metadata": {},
   "outputs": [],
   "source": [
    "# Step 4: 找出最高溫和最低溫的日期\n",
    "max_day = days[temperatures.index(max_temp)]\n",
    "min_day = days[temperatures.index(min_temp)]\n",
    "\n",
    "print(f\"🔥 最高溫日：{max_day}（{max_temp}°C）\")\n",
    "print(f\"❄️  最低溫日：{min_day}（{min_temp}°C）\")\n",
    "print()"
   ]
  },
  {
   "cell_type": "code",
   "execution_count": null,
   "id": "cell-27",
   "metadata": {},
   "outputs": [],
   "source": [
    "# Step 5: 找出高於平均的天數\n",
    "above_avg_days = [(day, temp) for day, temp in zip(days, temperatures) if temp > avg_temp]\n",
    "\n",
    "print(f\"高於平均溫度（{avg_temp:.2f}°C）的日子：\")\n",
    "for day, temp in above_avg_days:\n",
    "    print(f\"  {day}: {temp}°C（高出 {temp - avg_temp:.2f}°C）\")\n",
    "print(f\"\\n共 {len(above_avg_days)} 天高於平均溫度\")"
   ]
  },
  {
   "cell_type": "code",
   "execution_count": null,
   "id": "cell-28",
   "metadata": {},
   "outputs": [],
   "source": [
    "# Step 6: 完整統計報告\n",
    "print(\"\\n\" + \"=\"*40)\n",
    "print(\"📈 本週溫度統計報告\")\n",
    "print(\"=\"*40)\n",
    "print(f\"記錄天數：{len(temperatures)} 天\")\n",
    "print(f\"最高溫：{max_temp}°C（{max_day}）\")\n",
    "print(f\"最低溫：{min_temp}°C（{min_day}）\")\n",
    "print(f\"平均溫：{avg_temp:.2f}°C\")\n",
    "print(f\"中位數：{median}°C\")\n",
    "print(f\"溫度範圍：{temp_range}°C\")\n",
    "print(f\"高於平均：{len(above_avg_days)} 天\")\n",
    "print(\"=\"*40)"
   ]
  },
  {
   "cell_type": "markdown",
   "id": "cell-29",
   "metadata": {},
   "source": [
    "### 📚 知識點總結\n",
    "- ✅ 使用內建函式：`max()`, `min()`, `sum()`, `len()`\n",
    "- ✅ 計算平均值：`sum(list) / len(list)`\n",
    "- ✅ 計算中位數：排序後取中間值\n",
    "- ✅ 使用 `index()` 找出對應位置\n",
    "- ✅ 使用 `zip()` 配對兩個列表\n",
    "- ✅ 列表推導式過濾資料"
   ]
  },
  {
   "cell_type": "markdown",
   "id": "cell-30",
   "metadata": {},
   "source": [
    "---\n",
    "\n",
    "## 範例 5：巢狀列表應用（二維資料表）\n",
    "\n",
    "### 📋 問題描述\n",
    "處理學生成績表（二維列表）：\n",
    "- 每個學生有三科成績：國文、英文、數學\n",
    "- 計算每個學生的總分和平均\n",
    "- 計算每科的班級平均\n",
    "- 找出每科的最高分學生\n",
    "\n",
    "### 🔍 分析思路\n",
    "1. 建立二維成績列表\n",
    "2. 計算每個學生的統計值（橫向計算）\n",
    "3. 計算每科的統計值（縱向計算）\n",
    "4. 找出優秀學生\n",
    "\n",
    "### 💻 逐步實作"
   ]
  },
  {
   "cell_type": "code",
   "execution_count": null,
   "id": "cell-31",
   "metadata": {},
   "outputs": [],
   "source": [
    "# Step 1: 建立成績資料\n",
    "# 每個學生：[國文, 英文, 數學]\n",
    "scores = [\n",
    "    [85, 92, 78],  # Alice\n",
    "    [88, 75, 90],  # Bob\n",
    "    [92, 88, 85],  # Charlie\n",
    "    [78, 82, 88],  # David\n",
    "    [95, 90, 92]   # Eve\n",
    "]\n",
    "\n",
    "students = [\"Alice\", \"Bob\", \"Charlie\", \"David\", \"Eve\"]\n",
    "subjects = [\"國文\", \"英文\", \"數學\"]\n",
    "\n",
    "print(\"📊 成績表：\")\n",
    "print(f\"{'學生':<10} {'國文':>6} {'英文':>6} {'數學':>6}\")\n",
    "print(\"-\" * 35)\n",
    "for i, student in enumerate(students):\n",
    "    print(f\"{student:<10} {scores[i][0]:>6} {scores[i][1]:>6} {scores[i][2]:>6}\")\n",
    "print()"
   ]
  },
  {
   "cell_type": "code",
   "execution_count": null,
   "id": "cell-32",
   "metadata": {},
   "outputs": [],
   "source": [
    "# Step 2: 計算每個學生的總分和平均\n",
    "print(\"📈 學生成績統計：\")\n",
    "print(f\"{'學生':<10} {'總分':>6} {'平均':>8}\")\n",
    "print(\"-\" * 30)\n",
    "\n",
    "for i, student in enumerate(students):\n",
    "    total = sum(scores[i])\n",
    "    average = total / len(scores[i])\n",
    "    print(f\"{student:<10} {total:>6} {average:>8.2f}\")\n",
    "print()"
   ]
  },
  {
   "cell_type": "code",
   "execution_count": null,
   "id": "cell-33",
   "metadata": {},
   "outputs": [],
   "source": [
    "# Step 3: 計算每科的班級平均\n",
    "print(\"📊 各科班級平均：\")\n",
    "for j, subject in enumerate(subjects):\n",
    "    # 取出該科所有學生的成績\n",
    "    subject_scores = [scores[i][j] for i in range(len(students))]\n",
    "    avg = sum(subject_scores) / len(subject_scores)\n",
    "    print(f\"{subject}：{avg:.2f} 分\")\n",
    "print()"
   ]
  },
  {
   "cell_type": "code",
   "execution_count": null,
   "id": "cell-34",
   "metadata": {},
   "outputs": [],
   "source": [
    "# Step 4: 找出每科的最高分學生\n",
    "print(\"🏆 各科最高分：\")\n",
    "for j, subject in enumerate(subjects):\n",
    "    # 取出該科所有學生的成績\n",
    "    subject_scores = [scores[i][j] for i in range(len(students))]\n",
    "    max_score = max(subject_scores)\n",
    "    # 找出最高分的學生索引\n",
    "    max_index = subject_scores.index(max_score)\n",
    "    print(f\"{subject}：{students[max_index]}（{max_score} 分）\")\n",
    "print()"
   ]
  },
  {
   "cell_type": "code",
   "execution_count": null,
   "id": "cell-35",
   "metadata": {},
   "outputs": [],
   "source": [
    "# Step 5: 找出總分最高的學生\n",
    "totals = [sum(scores[i]) for i in range(len(students))]\n",
    "max_total = max(totals)\n",
    "top_student_index = totals.index(max_total)\n",
    "\n",
    "print(\"🎖️  總分最高：\")\n",
    "print(f\"學生：{students[top_student_index]}\")\n",
    "print(f\"成績：國文 {scores[top_student_index][0]} 分，英文 {scores[top_student_index][1]} 分，數學 {scores[top_student_index][2]} 分\")\n",
    "print(f\"總分：{max_total} 分\")\n",
    "print(f\"平均：{max_total / 3:.2f} 分\")"
   ]
  },
  {
   "cell_type": "code",
   "execution_count": null,
   "id": "cell-36",
   "metadata": {},
   "outputs": [],
   "source": [
    "# Step 6: 完整統計報告\n",
    "print(\"\\n\" + \"=\"*40)\n",
    "print(\"📋 成績總覽\")\n",
    "print(\"=\"*40)\n",
    "\n",
    "# 全班總平均\n",
    "all_scores = [score for student_scores in scores for score in student_scores]\n",
    "overall_avg = sum(all_scores) / len(all_scores)\n",
    "\n",
    "print(f\"學生人數：{len(students)} 人\")\n",
    "print(f\"科目數量：{len(subjects)} 科\")\n",
    "print(f\"全班總平均：{overall_avg:.2f} 分\")\n",
    "print(f\"最高總分：{max_total} 分（{students[top_student_index]}）\")\n",
    "print(f\"最低總分：{min(totals)} 分（{students[totals.index(min(totals))]}）\")\n",
    "print(\"=\"*40)"
   ]
  },
  {
   "cell_type": "markdown",
   "id": "cell-37",
   "metadata": {},
   "source": [
    "### 📚 知識點總結\n",
    "- ✅ 二維列表的建立與存取：`scores[i][j]`\n",
    "- ✅ 橫向計算：遍歷每個學生的所有科目\n",
    "- ✅ 縱向計算：提取某一科的所有成績\n",
    "- ✅ 列表推導式取出單一列：`[scores[i][j] for i in range(len(students))]`\n",
    "- ✅ 巢狀列表展開：`[x for row in matrix for x in row]`\n",
    "- ✅ 二維資料表是實務中常見的資料結構"
   ]
  },
  {
   "cell_type": "markdown",
   "id": "cell-38",
   "metadata": {},
   "source": [
    "---\n",
    "\n",
    "## 🎯 範例總結\n",
    "\n",
    "### 涵蓋的核心技能\n",
    "1. ✅ **範例 1**：成績處理（append、sort、統計）\n",
    "2. ✅ **範例 2**：購物清單管理（CRUD 操作）\n",
    "3. ✅ **範例 3**：資料過濾（列表推導式、條件篩選）\n",
    "4. ✅ **範例 4**：統計分析（max、min、平均、中位數）\n",
    "5. ✅ **範例 5**：巢狀列表（二維資料表處理）\n",
    "\n",
    "### 常用技巧回顧\n",
    "| 技巧 | 範例 | 說明 |\n",
    "|:-----|:-----|:-----|\n",
    "| 新增元素 | `list.append(x)` | 在末尾新增 |\n",
    "| 插入元素 | `list.insert(i, x)` | 在索引 i 插入 |\n",
    "| 刪除元素 | `list.remove(x)`, `list.pop(i)` | 依值或索引刪除 |\n",
    "| 排序 | `list.sort()`, `sorted(list)` | 就地排序或回傳新列表 |\n",
    "| 過濾 | `[x for x in list if condition]` | 列表推導式過濾 |\n",
    "| 統計 | `max()`, `min()`, `sum()`, `len()` | 內建統計函式 |\n",
    "| 遍歷 | `for i, x in enumerate(list)` | 同時取得索引和值 |\n",
    "| 配對 | `zip(list1, list2)` | 配對兩個列表 |\n",
    "\n",
    "---\n",
    "\n",
    "## 📝 下一步\n",
    "\n",
    "完成本檔案後，請繼續：\n",
    "1. **`03-practice.ipynb`** - 課堂練習（必做）\n",
    "2. **`04-exercises.ipynb`** - 課後習題（必做）\n",
    "3. **`05-solutions.ipynb`** - 習題解答（對照答案）\n",
    "4. **`quiz.ipynb`** - 自我測驗（檢核學習成效）\n",
    "\n",
    "**建議學習時間**：詳讀本檔案 40 分鐘 + 實際操作練習 40 分鐘"
   ]
  }
 ],
 "metadata": {
  "kernelspec": {
   "display_name": "Python 3",
   "language": "python",
   "name": "python3"
  },
  "language_info": {
   "codemirror_mode": {
    "name": "ipython",
    "version": 3
   },
   "file_extension": ".py",
   "mimetype": "text/x-python",
   "name": "python",
   "nbconvert_exporter": "python",
   "pygments_lexer": "ipython3",
   "version": "3.9.0"
  }
 },
 "nbformat": 4,
 "nbformat_minor": 5
}
