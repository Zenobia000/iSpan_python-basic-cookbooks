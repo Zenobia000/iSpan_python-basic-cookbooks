{
 "cells": [
  {
   "cell_type": "markdown",
   "metadata": {},
   "source": [
    "# Chapter 7: 序列資料：列表 | Sequential Data: Lists\n",
    "\n",
    "## 📖 講義 | Lecture Notes\n",
    "\n",
    "---\n",
    "\n",
    "## Part I: 理論基礎 | Theoretical Foundations"
   ]
  },
  {
   "cell_type": "markdown",
   "metadata": {},
   "source": [
    "### 📚 章節概覽（Chapter Overview）\n",
    "\n",
    "#### 學習目標（Learning Objectives）\n",
    "完成本章後，您將能夠：\n",
    "1. 理解列表的概念與應用場景\n",
    "2. 掌握列表的建立、存取、修改、刪除操作\n",
    "3. 熟練使用列表的常用方法\n",
    "4. 理解列表的可變性（mutability）\n",
    "5. 運用列表解決實際問題\n",
    "\n",
    "#### 先備知識（Prerequisites）\n",
    "- Chapter 1-3：變數、運算子、輸入輸出\n",
    "- Chapter 4-6：條件判斷、迴圈\n",
    "\n",
    "#### 預計時長（Estimated Time）\n",
    "- 理論學習：50 分鐘\n",
    "- 範例演練：30 分鐘\n",
    "- 總計：80 分鐘"
   ]
  },
  {
   "cell_type": "markdown",
   "metadata": {},
   "source": [
    "---\n",
    "\n",
    "### 🔑 核心概念（Key Concepts）\n",
    "\n",
    "#### 1. 什麼是列表？（What is a List?）\n",
    "\n",
    "**定義**：列表是一個有序、可變的資料集合，可以儲存多個值。\n",
    "\n",
    "**類比**：\n",
    "```\n",
    "列表就像一個編號的收納盒：\n",
    "- 每個格子有編號（索引）\n",
    "- 可以存放不同的東西（元素）\n",
    "- 可以隨時增加或移除格子（可變性）\n",
    "- 格子有固定順序（有序性）\n",
    "```\n",
    "\n",
    "#### 2. 為什麼需要列表？（Why Lists?）\n",
    "\n",
    "**問題場景**：\n",
    "- 儲存一個班級所有學生的成績\n",
    "- 管理購物清單的所有商品\n",
    "- 記錄一週的氣溫資料\n",
    "\n",
    "**沒有列表的困境**：\n",
    "```python\n",
    "student1_score = 85\n",
    "student2_score = 92\n",
    "student3_score = 78\n",
    "# ...如果有 100 個學生呢？\n",
    "```\n",
    "\n",
    "**使用列表的優雅**：\n",
    "```python\n",
    "scores = [85, 92, 78, 88, 95, ...]  # 可以存放任意數量\n",
    "```"
   ]
  },
  {
   "cell_type": "markdown",
   "metadata": {},
   "source": [
    "#### 3. 列表的核心特性\n",
    "\n",
    "| 特性 | 說明 | 範例 |\n",
    "|:-----|:-----|:-----|\n",
    "| **有序性** | 元素有固定順序，可用索引存取 | `lst[0]` 取第一個元素 |\n",
    "| **可變性** | 可以修改、新增、刪除元素 | `lst[0] = 10` |\n",
    "| **異質性** | 可存放不同型態的元素 | `[1, \"hello\", 3.14]` |\n",
    "| **動態性** | 長度可以動態改變 | `lst.append(5)` |"
   ]
  },
  {
   "cell_type": "markdown",
   "metadata": {},
   "source": [
    "---\n",
    "\n",
    "## Part II: 實作演練 | Hands-on Practice"
   ]
  },
  {
   "cell_type": "markdown",
   "metadata": {},
   "source": [
    "### 💡 範例 1：建立列表\n",
    "\n",
    "列表的建立方式有多種，最常用的是使用方括號 `[]`。"
   ]
  },
  {
   "cell_type": "code",
   "execution_count": null,
   "metadata": {},
   "outputs": [],
   "source": [
    "# 方法 1：直接使用方括號建立\n",
    "numbers = [1, 2, 3, 4, 5]\n",
    "print(\"數字列表:\", numbers)\n",
    "print(\"型態:\", type(numbers))"
   ]
  },
  {
   "cell_type": "code",
   "execution_count": null,
   "metadata": {},
   "outputs": [],
   "source": [
    "# 方法 2：空列表\n",
    "empty_list = []\n",
    "print(\"空列表:\", empty_list)\n",
    "print(\"長度:\", len(empty_list))"
   ]
  },
  {
   "cell_type": "code",
   "execution_count": null,
   "metadata": {},
   "outputs": [],
   "source": [
    "# 方法 3：使用 list() 函式\n",
    "text = \"Python\"\n",
    "char_list = list(text)\n",
    "print(\"字元列表:\", char_list)"
   ]
  },
  {
   "cell_type": "code",
   "execution_count": null,
   "metadata": {},
   "outputs": [],
   "source": [
    "# 方法 4：包含不同型態的元素（異質列表）\n",
    "mixed = [42, \"hello\", 3.14, True, None]\n",
    "print(\"混合列表:\", mixed)\n",
    "\n",
    "# 顯示每個元素的型態\n",
    "for item in mixed:\n",
    "    print(f\"{item} 的型態: {type(item).__name__}\")"
   ]
  },
  {
   "cell_type": "markdown",
   "metadata": {},
   "source": [
    "**關鍵要點**：\n",
    "- 使用 `[]` 建立列表是最常見的方式\n",
    "- 空列表用 `[]` 表示，長度為 0\n",
    "- `list()` 可以將其他序列（如字串）轉換為列表\n",
    "- 列表可以包含不同型態的元素（但通常不建議）"
   ]
  },
  {
   "cell_type": "markdown",
   "metadata": {},
   "source": [
    "---\n",
    "\n",
    "### 💡 範例 2：索引與存取\n",
    "\n",
    "列表使用索引來存取元素，索引從 0 開始。"
   ]
  },
  {
   "cell_type": "code",
   "execution_count": null,
   "metadata": {},
   "outputs": [],
   "source": [
    "# 建立一個水果列表\n",
    "fruits = [\"蘋果\", \"香蕉\", \"橘子\", \"葡萄\", \"西瓜\"]\n",
    "print(\"水果列表:\", fruits)\n",
    "print(\"列表長度:\", len(fruits))"
   ]
  },
  {
   "cell_type": "code",
   "execution_count": null,
   "metadata": {},
   "outputs": [],
   "source": [
    "# 正索引：從 0 開始\n",
    "print(\"\\n正索引存取：\")\n",
    "print(f\"第 1 個水果 (索引 0): {fruits[0]}\")\n",
    "print(f\"第 2 個水果 (索引 1): {fruits[1]}\")\n",
    "print(f\"第 5 個水果 (索引 4): {fruits[4]}\")"
   ]
  },
  {
   "cell_type": "code",
   "execution_count": null,
   "metadata": {},
   "outputs": [],
   "source": [
    "# 負索引：從 -1 開始（從後往前）\n",
    "print(\"\\n負索引存取：\")\n",
    "print(f\"最後一個水果 (索引 -1): {fruits[-1]}\")\n",
    "print(f\"倒數第二個 (索引 -2): {fruits[-2]}\")\n",
    "print(f\"倒數第五個 (索引 -5): {fruits[-5]}\")"
   ]
  },
  {
   "cell_type": "code",
   "execution_count": null,
   "metadata": {},
   "outputs": [],
   "source": [
    "# 索引對照表\n",
    "print(\"\\n索引對照：\")\n",
    "print(\"正索引:  \", list(range(len(fruits))))\n",
    "print(\"元素:    \", fruits)\n",
    "print(\"負索引:  \", list(range(-len(fruits), 0)))"
   ]
  },
  {
   "cell_type": "code",
   "execution_count": null,
   "metadata": {},
   "outputs": [],
   "source": [
    "# 錯誤示範：索引超出範圍\n",
    "try:\n",
    "    print(fruits[10])  # IndexError\n",
    "except IndexError as e:\n",
    "    print(f\"錯誤：{e}\")\n",
    "    print(\"提示：索引範圍是 0 到 4，或 -5 到 -1\")"
   ]
  },
  {
   "cell_type": "markdown",
   "metadata": {},
   "source": [
    "**關鍵要點**：\n",
    "- 正索引從 0 開始：`lst[0]` 是第一個元素\n",
    "- 負索引從 -1 開始：`lst[-1]` 是最後一個元素\n",
    "- 索引範圍：`-len(lst)` 到 `len(lst)-1`\n",
    "- 超出範圍會引發 `IndexError`"
   ]
  },
  {
   "cell_type": "markdown",
   "metadata": {},
   "source": [
    "---\n",
    "\n",
    "### 💡 範例 3：切片（Slicing）\n",
    "\n",
    "切片用於取得列表的子集合，語法：`list[start:end:step]`"
   ]
  },
  {
   "cell_type": "code",
   "execution_count": null,
   "metadata": {},
   "outputs": [],
   "source": [
    "# 建立一個數字列表\n",
    "numbers = [0, 1, 2, 3, 4, 5, 6, 7, 8, 9]\n",
    "print(\"原列表:\", numbers)"
   ]
  },
  {
   "cell_type": "code",
   "execution_count": null,
   "metadata": {},
   "outputs": [],
   "source": [
    "# 基本切片：[start:end]\n",
    "print(\"\\n基本切片：\")\n",
    "print(\"numbers[2:5]  =\", numbers[2:5])    # 索引 2, 3, 4（不含 5）\n",
    "print(\"numbers[0:3]  =\", numbers[0:3])    # 索引 0, 1, 2\n",
    "print(\"numbers[5:9]  =\", numbers[5:9])    # 索引 5, 6, 7, 8"
   ]
  },
  {
   "cell_type": "code",
   "execution_count": null,
   "metadata": {},
   "outputs": [],
   "source": [
    "# 省略起點或終點\n",
    "print(\"\\n省略起點/終點：\")\n",
    "print(\"numbers[:5]   =\", numbers[:5])     # 從開頭到索引 4\n",
    "print(\"numbers[5:]   =\", numbers[5:])     # 從索引 5 到結尾\n",
    "print(\"numbers[:]    =\", numbers[:])      # 複製整個列表"
   ]
  },
  {
   "cell_type": "code",
   "execution_count": null,
   "metadata": {},
   "outputs": [],
   "source": [
    "# 使用步長（step）\n",
    "print(\"\\n使用步長：\")\n",
    "print(\"numbers[::2]  =\", numbers[::2])    # 每隔一個取一個（偶數索引）\n",
    "print(\"numbers[1::2] =\", numbers[1::2])   # 從索引 1 開始，每隔一個（奇數索引）\n",
    "print(\"numbers[::3]  =\", numbers[::3])    # 每隔兩個取一個"
   ]
  },
  {
   "cell_type": "code",
   "execution_count": null,
   "metadata": {},
   "outputs": [],
   "source": [
    "# 反向切片（負步長）\n",
    "print(\"\\n反向切片：\")\n",
    "print(\"numbers[::-1] =\", numbers[::-1])   # 反轉列表\n",
    "print(\"numbers[::-2] =\", numbers[::-2])   # 反向每隔一個\n",
    "print(\"numbers[5:2:-1] =\", numbers[5:2:-1])  # 從索引 5 到 3（反向）"
   ]
  },
  {
   "cell_type": "code",
   "execution_count": null,
   "metadata": {},
   "outputs": [],
   "source": [
    "# 負索引切片\n",
    "print(\"\\n負索引切片：\")\n",
    "print(\"numbers[-5:-2] =\", numbers[-5:-2])  # 倒數第 5 到倒數第 3\n",
    "print(\"numbers[-3:]   =\", numbers[-3:])    # 最後三個元素\n",
    "print(\"numbers[:-3]   =\", numbers[:-3])    # 除了最後三個"
   ]
  },
  {
   "cell_type": "markdown",
   "metadata": {},
   "source": [
    "**切片語法總結**：\n",
    "\n",
    "| 語法 | 說明 | 範例 |\n",
    "|:-----|:-----|:-----|\n",
    "| `[start:end]` | 從 start 到 end-1 | `[2:5]` → 索引 2,3,4 |\n",
    "| `[:end]` | 從開頭到 end-1 | `[:3]` → 索引 0,1,2 |\n",
    "| `[start:]` | 從 start 到結尾 | `[5:]` → 索引 5~末尾 |\n",
    "| `[:]` | 複製整個列表 | `[:]` → 所有元素 |\n",
    "| `[::step]` | 每隔 step-1 取一個 | `[::2]` → 偶數索引 |\n",
    "| `[::-1]` | 反轉列表 | `[::-1]` → 倒序 |"
   ]
  },
  {
   "cell_type": "markdown",
   "metadata": {},
   "source": [
    "---\n",
    "\n",
    "### 💡 範例 4：修改列表元素（可變性）\n",
    "\n",
    "列表是可變的（mutable），可以直接修改元素的值。"
   ]
  },
  {
   "cell_type": "code",
   "execution_count": null,
   "metadata": {},
   "outputs": [],
   "source": [
    "# 建立分數列表\n",
    "scores = [85, 92, 78, 88, 95]\n",
    "print(\"原始分數:\", scores)"
   ]
  },
  {
   "cell_type": "code",
   "execution_count": null,
   "metadata": {},
   "outputs": [],
   "source": [
    "# 修改單一元素\n",
    "scores[0] = 90  # 將第一個分數改為 90\n",
    "print(\"修改第一個分數:\", scores)"
   ]
  },
  {
   "cell_type": "code",
   "execution_count": null,
   "metadata": {},
   "outputs": [],
   "source": [
    "# 使用負索引修改\n",
    "scores[-1] = 100  # 將最後一個分數改為 100\n",
    "print(\"修改最後一個分數:\", scores)"
   ]
  },
  {
   "cell_type": "code",
   "execution_count": null,
   "metadata": {},
   "outputs": [],
   "source": [
    "# 修改多個元素（切片賦值）\n",
    "scores[1:3] = [95, 80]  # 將索引 1, 2 的元素替換\n",
    "print(\"修改索引 1-2:\", scores)"
   ]
  },
  {
   "cell_type": "code",
   "execution_count": null,
   "metadata": {},
   "outputs": [],
   "source": [
    "# 對比：字串是不可變的\n",
    "text = \"hello\"\n",
    "try:\n",
    "    text[0] = \"H\"  # TypeError\n",
    "except TypeError as e:\n",
    "    print(f\"錯誤：{e}\")\n",
    "    print(\"字串不可變，必須建立新字串\")\n",
    "    text = \"Hello\"  # 重新賦值\n",
    "    print(\"新字串:\", text)"
   ]
  },
  {
   "cell_type": "markdown",
   "metadata": {},
   "source": [
    "**關鍵要點**：\n",
    "- 列表是可變的：可以直接修改元素\n",
    "- 字串是不可變的：無法修改字元，只能建立新字串\n",
    "- 可以用索引或切片來修改元素"
   ]
  },
  {
   "cell_type": "markdown",
   "metadata": {},
   "source": [
    "---\n",
    "\n",
    "### 💡 範例 5：新增元素（append, extend, insert）\n",
    "\n",
    "列表提供多種方法來新增元素。"
   ]
  },
  {
   "cell_type": "code",
   "execution_count": null,
   "metadata": {},
   "outputs": [],
   "source": [
    "# 方法 1：append() - 在末尾新增單一元素\n",
    "shopping_list = [\"牛奶\", \"麵包\"]\n",
    "print(\"原始清單:\", shopping_list)\n",
    "\n",
    "shopping_list.append(\"雞蛋\")\n",
    "print(\"新增雞蛋:\", shopping_list)\n",
    "\n",
    "shopping_list.append(\"水果\")\n",
    "print(\"新增水果:\", shopping_list)"
   ]
  },
  {
   "cell_type": "code",
   "execution_count": null,
   "metadata": {},
   "outputs": [],
   "source": [
    "# 方法 2：extend() - 合併另一個列表\n",
    "list1 = [1, 2, 3]\n",
    "list2 = [4, 5, 6]\n",
    "print(\"\\nlist1 =\", list1)\n",
    "print(\"list2 =\", list2)\n",
    "\n",
    "list1.extend(list2)\n",
    "print(\"extend 後的 list1:\", list1)\n",
    "print(\"list2 不變:\", list2)"
   ]
  },
  {
   "cell_type": "code",
   "execution_count": null,
   "metadata": {},
   "outputs": [],
   "source": [
    "# append vs extend 的差異\n",
    "print(\"\\nappend vs extend:\")\n",
    "list_a = [1, 2, 3]\n",
    "list_a.append([4, 5])\n",
    "print(\"append([4, 5]):\", list_a)  # 整個列表作為一個元素\n",
    "\n",
    "list_b = [1, 2, 3]\n",
    "list_b.extend([4, 5])\n",
    "print(\"extend([4, 5]):\", list_b)  # 展開列表的元素"
   ]
  },
  {
   "cell_type": "code",
   "execution_count": null,
   "metadata": {},
   "outputs": [],
   "source": [
    "# 方法 3：insert() - 在指定位置插入元素\n",
    "colors = [\"紅\", \"綠\", \"藍\"]\n",
    "print(\"\\n原始顏色:\", colors)\n",
    "\n",
    "colors.insert(1, \"黃\")  # 在索引 1 插入「黃」\n",
    "print(\"在索引 1 插入黃:\", colors)\n",
    "\n",
    "colors.insert(0, \"黑\")  # 在開頭插入\n",
    "print(\"在開頭插入黑:\", colors)\n",
    "\n",
    "colors.insert(100, \"白\")  # 索引超出範圍，插在末尾\n",
    "print(\"插入白（索引超出）:\", colors)"
   ]
  },
  {
   "cell_type": "markdown",
   "metadata": {},
   "source": [
    "**新增方法比較**：\n",
    "\n",
    "| 方法 | 功能 | 參數 | 範例 |\n",
    "|:-----|:-----|:-----|:-----|\n",
    "| `append(x)` | 在末尾新增元素 x | 單一元素 | `lst.append(5)` |\n",
    "| `extend(iterable)` | 合併可迭代物件 | 列表、字串等 | `lst.extend([1,2])` |\n",
    "| `insert(i, x)` | 在索引 i 插入 x | 索引、元素 | `lst.insert(0, 5)` |"
   ]
  },
  {
   "cell_type": "markdown",
   "metadata": {},
   "source": [
    "---\n",
    "\n",
    "### 💡 範例 6：刪除元素（remove, pop, del, clear）\n",
    "\n",
    "列表提供多種方法來刪除元素。"
   ]
  },
  {
   "cell_type": "code",
   "execution_count": null,
   "metadata": {},
   "outputs": [],
   "source": [
    "# 方法 1：remove() - 刪除第一個符合的元素\n",
    "numbers = [10, 20, 30, 20, 40]\n",
    "print(\"原列表:\", numbers)\n",
    "\n",
    "numbers.remove(20)  # 刪除第一個 20\n",
    "print(\"刪除第一個 20:\", numbers)\n",
    "\n",
    "# 如果元素不存在會報錯\n",
    "try:\n",
    "    numbers.remove(100)\n",
    "except ValueError as e:\n",
    "    print(f\"錯誤：{e}\")"
   ]
  },
  {
   "cell_type": "code",
   "execution_count": null,
   "metadata": {},
   "outputs": [],
   "source": [
    "# 方法 2：pop() - 刪除並回傳指定索引的元素\n",
    "fruits = [\"蘋果\", \"香蕉\", \"橘子\", \"葡萄\"]\n",
    "print(\"\\n原列表:\", fruits)\n",
    "\n",
    "last = fruits.pop()  # 不指定索引，刪除最後一個\n",
    "print(f\"pop() 回傳: {last}\")\n",
    "print(\"刪除後:\", fruits)\n",
    "\n",
    "first = fruits.pop(0)  # 刪除索引 0 的元素\n",
    "print(f\"pop(0) 回傳: {first}\")\n",
    "print(\"刪除後:\", fruits)"
   ]
  },
  {
   "cell_type": "code",
   "execution_count": null,
   "metadata": {},
   "outputs": [],
   "source": [
    "# 方法 3：del 語句 - 刪除指定索引或切片\n",
    "letters = ['a', 'b', 'c', 'd', 'e', 'f']\n",
    "print(\"\\n原列表:\", letters)\n",
    "\n",
    "del letters[0]  # 刪除索引 0\n",
    "print(\"del letters[0]:\", letters)\n",
    "\n",
    "del letters[1:3]  # 刪除切片\n",
    "print(\"del letters[1:3]:\", letters)"
   ]
  },
  {
   "cell_type": "code",
   "execution_count": null,
   "metadata": {},
   "outputs": [],
   "source": [
    "# 方法 4：clear() - 清空列表\n",
    "temp = [1, 2, 3, 4, 5]\n",
    "print(\"\\n原列表:\", temp)\n",
    "\n",
    "temp.clear()\n",
    "print(\"clear() 後:\", temp)\n",
    "print(\"長度:\", len(temp))"
   ]
  },
  {
   "cell_type": "markdown",
   "metadata": {},
   "source": [
    "**刪除方法比較**：\n",
    "\n",
    "| 方法 | 功能 | 回傳值 | 範例 |\n",
    "|:-----|:-----|:-------|:-----|\n",
    "| `remove(x)` | 刪除第一個值為 x 的元素 | None | `lst.remove(20)` |\n",
    "| `pop(i)` | 刪除索引 i 的元素 | 被刪除的元素 | `item = lst.pop(0)` |\n",
    "| `del lst[i]` | 刪除索引 i 的元素 | 無 | `del lst[0]` |\n",
    "| `clear()` | 清空所有元素 | None | `lst.clear()` |"
   ]
  },
  {
   "cell_type": "markdown",
   "metadata": {},
   "source": [
    "---\n",
    "\n",
    "### 💡 範例 7：排序與反轉（sort, reverse, sorted）\n",
    "\n",
    "列表可以進行排序和反轉操作。"
   ]
  },
  {
   "cell_type": "code",
   "execution_count": null,
   "metadata": {},
   "outputs": [],
   "source": [
    "# 方法 1：sort() - 就地排序（修改原列表）\n",
    "numbers = [5, 2, 8, 1, 9, 3]\n",
    "print(\"原列表:\", numbers)\n",
    "\n",
    "numbers.sort()  # 升序排序\n",
    "print(\"sort() 後:\", numbers)\n",
    "\n",
    "numbers.sort(reverse=True)  # 降序排序\n",
    "print(\"sort(reverse=True):\", numbers)"
   ]
  },
  {
   "cell_type": "code",
   "execution_count": null,
   "metadata": {},
   "outputs": [],
   "source": [
    "# 方法 2：sorted() - 回傳新列表（不修改原列表）\n",
    "original = [5, 2, 8, 1, 9]\n",
    "print(\"\\n原列表:\", original)\n",
    "\n",
    "sorted_list = sorted(original)\n",
    "print(\"sorted() 回傳:\", sorted_list)\n",
    "print(\"原列表不變:\", original)\n",
    "\n",
    "descending = sorted(original, reverse=True)\n",
    "print(\"降序排序:\", descending)"
   ]
  },
  {
   "cell_type": "code",
   "execution_count": null,
   "metadata": {},
   "outputs": [],
   "source": [
    "# 字串排序\n",
    "fruits = [\"橘子\", \"蘋果\", \"香蕉\", \"葡萄\"]\n",
    "print(\"\\n原列表:\", fruits)\n",
    "\n",
    "fruits.sort()\n",
    "print(\"排序後:\", fruits)  # 按字典序（Unicode）"
   ]
  },
  {
   "cell_type": "code",
   "execution_count": null,
   "metadata": {},
   "outputs": [],
   "source": [
    "# 方法 3：reverse() - 反轉列表\n",
    "numbers = [1, 2, 3, 4, 5]\n",
    "print(\"\\n原列表:\", numbers)\n",
    "\n",
    "numbers.reverse()\n",
    "print(\"reverse() 後:\", numbers)"
   ]
  },
  {
   "cell_type": "code",
   "execution_count": null,
   "metadata": {},
   "outputs": [],
   "source": [
    "# 使用切片反轉（不修改原列表）\n",
    "original = [1, 2, 3, 4, 5]\n",
    "reversed_copy = original[::-1]\n",
    "print(\"\\n原列表:\", original)\n",
    "print(\"反轉副本:\", reversed_copy)"
   ]
  },
  {
   "cell_type": "markdown",
   "metadata": {},
   "source": [
    "**排序方法比較**：\n",
    "\n",
    "| 方法 | 修改原列表 | 回傳值 | 範例 |\n",
    "|:-----|:-----------|:-------|:-----|\n",
    "| `lst.sort()` | ✅ | None | `lst.sort()` |\n",
    "| `sorted(lst)` | ❌ | 新列表 | `new = sorted(lst)` |\n",
    "| `lst.reverse()` | ✅ | None | `lst.reverse()` |\n",
    "| `lst[::-1]` | ❌ | 新列表 | `new = lst[::-1]` |"
   ]
  },
  {
   "cell_type": "markdown",
   "metadata": {},
   "source": [
    "---\n",
    "\n",
    "### 💡 範例 8：搜尋元素（index, count, in）\n",
    "\n",
    "列表提供方法來搜尋和計數元素。"
   ]
  },
  {
   "cell_type": "code",
   "execution_count": null,
   "metadata": {},
   "outputs": [],
   "source": [
    "# 方法 1：index() - 找出元素的索引\n",
    "fruits = [\"蘋果\", \"香蕉\", \"橘子\", \"香蕉\", \"葡萄\"]\n",
    "print(\"水果列表:\", fruits)\n",
    "\n",
    "idx = fruits.index(\"橘子\")\n",
    "print(f\"'橘子' 的索引: {idx}\")\n",
    "\n",
    "# 有多個相同元素，只回傳第一個\n",
    "idx = fruits.index(\"香蕉\")\n",
    "print(f\"'香蕉' 的索引: {idx} (第一個)\")\n",
    "\n",
    "# 元素不存在會報錯\n",
    "try:\n",
    "    fruits.index(\"西瓜\")\n",
    "except ValueError as e:\n",
    "    print(f\"錯誤：{e}\")"
   ]
  },
  {
   "cell_type": "code",
   "execution_count": null,
   "metadata": {},
   "outputs": [],
   "source": [
    "# 方法 2：count() - 計算元素出現次數\n",
    "numbers = [1, 2, 3, 2, 4, 2, 5, 2]\n",
    "print(\"\\n數字列表:\", numbers)\n",
    "\n",
    "count_2 = numbers.count(2)\n",
    "print(f\"2 出現 {count_2} 次\")\n",
    "\n",
    "count_5 = numbers.count(5)\n",
    "print(f\"5 出現 {count_5} 次\")\n",
    "\n",
    "count_10 = numbers.count(10)\n",
    "print(f\"10 出現 {count_10} 次 (不存在回傳 0)\")"
   ]
  },
  {
   "cell_type": "code",
   "execution_count": null,
   "metadata": {},
   "outputs": [],
   "source": [
    "# 方法 3：in 運算子 - 檢查元素是否存在\n",
    "shopping = [\"牛奶\", \"麵包\", \"雞蛋\"]\n",
    "print(\"\\n購物清單:\", shopping)\n",
    "\n",
    "print(\"'牛奶' in shopping:\", \"牛奶\" in shopping)\n",
    "print(\"'水果' in shopping:\", \"水果\" in shopping)\n",
    "print(\"'雞蛋' not in shopping:\", \"雞蛋\" not in shopping)"
   ]
  },
  {
   "cell_type": "code",
   "execution_count": null,
   "metadata": {},
   "outputs": [],
   "source": [
    "# 應用：安全的 index() 查詢\n",
    "def safe_index(lst, item):\n",
    "    \"\"\"安全查詢索引，不存在回傳 -1\"\"\"\n",
    "    if item in lst:\n",
    "        return lst.index(item)\n",
    "    else:\n",
    "        return -1\n",
    "\n",
    "print(\"\\n安全查詢：\")\n",
    "print(\"safe_index(fruits, '橘子'):\", safe_index(fruits, \"橘子\"))\n",
    "print(\"safe_index(fruits, '西瓜'):\", safe_index(fruits, \"西瓜\"))"
   ]
  },
  {
   "cell_type": "markdown",
   "metadata": {},
   "source": [
    "**搜尋方法總結**：\n",
    "\n",
    "| 方法 | 功能 | 回傳值 | 不存在時 |\n",
    "|:-----|:-----|:-------|:---------|\n",
    "| `index(x)` | 找出 x 的索引 | 索引值 | ValueError |\n",
    "| `count(x)` | 計算 x 的數量 | 整數 | 回傳 0 |\n",
    "| `x in lst` | 檢查 x 是否存在 | True/False | 回傳 False |"
   ]
  },
  {
   "cell_type": "markdown",
   "metadata": {},
   "source": [
    "---\n",
    "\n",
    "### 💡 範例 9：列表遍歷（for 迴圈 + enumerate）\n",
    "\n",
    "使用 `for` 迴圈遍歷列表是最常見的操作。"
   ]
  },
  {
   "cell_type": "code",
   "execution_count": null,
   "metadata": {},
   "outputs": [],
   "source": [
    "# 方法 1：直接遍歷元素\n",
    "fruits = [\"蘋果\", \"香蕉\", \"橘子\"]\n",
    "\n",
    "print(\"方法 1：直接遍歷\")\n",
    "for fruit in fruits:\n",
    "    print(f\"我喜歡 {fruit}\")"
   ]
  },
  {
   "cell_type": "code",
   "execution_count": null,
   "metadata": {},
   "outputs": [],
   "source": [
    "# 方法 2：使用索引遍歷\n",
    "print(\"\\n方法 2：使用索引\")\n",
    "for i in range(len(fruits)):\n",
    "    print(f\"第 {i+1} 個水果是 {fruits[i]}\")"
   ]
  },
  {
   "cell_type": "code",
   "execution_count": null,
   "metadata": {},
   "outputs": [],
   "source": [
    "# 方法 3：使用 enumerate()（推薦）\n",
    "print(\"\\n方法 3：使用 enumerate()\")\n",
    "for index, fruit in enumerate(fruits):\n",
    "    print(f\"索引 {index}: {fruit}\")\n",
    "\n",
    "# 指定起始編號\n",
    "print(\"\\n從 1 開始編號：\")\n",
    "for num, fruit in enumerate(fruits, start=1):\n",
    "    print(f\"第 {num} 個: {fruit}\")"
   ]
  },
  {
   "cell_type": "code",
   "execution_count": null,
   "metadata": {},
   "outputs": [],
   "source": [
    "# 應用：計算總分和平均\n",
    "scores = [85, 92, 78, 88, 95]\n",
    "\n",
    "total = 0\n",
    "for score in scores:\n",
    "    total += score\n",
    "\n",
    "average = total / len(scores)\n",
    "print(f\"\\n總分: {total}\")\n",
    "print(f\"平均: {average:.2f}\")\n",
    "\n",
    "# 使用內建函式更簡潔\n",
    "print(f\"使用 sum(): {sum(scores)}\")"
   ]
  },
  {
   "cell_type": "code",
   "execution_count": null,
   "metadata": {},
   "outputs": [],
   "source": [
    "# 應用：找出最高分和最低分\n",
    "print(\"\\n成績分析：\")\n",
    "for i, score in enumerate(scores, 1):\n",
    "    print(f\"學生 {i}: {score} 分\")\n",
    "\n",
    "print(f\"\\n最高分: {max(scores)}\")\n",
    "print(f\"最低分: {min(scores)}\")\n",
    "print(f\"平均分: {sum(scores) / len(scores):.2f}\")"
   ]
  },
  {
   "cell_type": "markdown",
   "metadata": {},
   "source": [
    "**遍歷方式比較**：\n",
    "\n",
    "| 方式 | 適用情境 | 優點 | 缺點 |\n",
    "|:-----|:---------|:-----|:-----|\n",
    "| `for item in lst` | 只需元素值 | 簡潔 | 無索引 |\n",
    "| `for i in range(len(lst))` | 需要索引 | 可修改元素 | 冗長 |\n",
    "| `for i, item in enumerate(lst)` | 需要索引和值 | 清晰易讀 | 稍複雜 |"
   ]
  },
  {
   "cell_type": "markdown",
   "metadata": {},
   "source": [
    "---\n",
    "\n",
    "### 💡 範例 10：列表複製與淺拷貝陷阱\n",
    "\n",
    "理解列表的複製機制非常重要，避免意外修改原列表。"
   ]
  },
  {
   "cell_type": "code",
   "execution_count": null,
   "metadata": {},
   "outputs": [],
   "source": [
    "# 錯誤示範：直接賦值（建立參考）\n",
    "list1 = [1, 2, 3]\n",
    "list2 = list1  # list2 和 list1 指向同一個列表\n",
    "\n",
    "print(\"原始 list1:\", list1)\n",
    "print(\"原始 list2:\", list2)\n",
    "\n",
    "list2[0] = 100  # 修改 list2\n",
    "print(\"\\n修改 list2[0] = 100 後：\")\n",
    "print(\"list1:\", list1)  # list1 也改變了！\n",
    "print(\"list2:\", list2)\n",
    "\n",
    "print(\"\\nlist1 和 list2 是同一個物件嗎？\", list1 is list2)"
   ]
  },
  {
   "cell_type": "code",
   "execution_count": null,
   "metadata": {},
   "outputs": [],
   "source": [
    "# 正確做法 1：使用 copy() 方法\n",
    "list1 = [1, 2, 3]\n",
    "list2 = list1.copy()\n",
    "\n",
    "list2[0] = 100\n",
    "print(\"\\n使用 copy():\")\n",
    "print(\"list1:\", list1)  # list1 不變\n",
    "print(\"list2:\", list2)\n",
    "print(\"是同一個物件嗎？\", list1 is list2)"
   ]
  },
  {
   "cell_type": "code",
   "execution_count": null,
   "metadata": {},
   "outputs": [],
   "source": [
    "# 正確做法 2：使用切片\n",
    "list1 = [1, 2, 3]\n",
    "list2 = list1[:]  # 完整切片\n",
    "\n",
    "list2[0] = 100\n",
    "print(\"\\n使用切片 [:]:\")\n",
    "print(\"list1:\", list1)\n",
    "print(\"list2:\", list2)"
   ]
  },
  {
   "cell_type": "code",
   "execution_count": null,
   "metadata": {},
   "outputs": [],
   "source": [
    "# 正確做法 3：使用 list() 建構子\n",
    "list1 = [1, 2, 3]\n",
    "list2 = list(list1)\n",
    "\n",
    "list2[0] = 100\n",
    "print(\"\\n使用 list():\")\n",
    "print(\"list1:\", list1)\n",
    "print(\"list2:\", list2)"
   ]
  },
  {
   "cell_type": "code",
   "execution_count": null,
   "metadata": {},
   "outputs": [],
   "source": [
    "# 注意：淺拷貝對巢狀列表的影響\n",
    "nested1 = [[1, 2], [3, 4]]\n",
    "nested2 = nested1.copy()  # 淺拷貝\n",
    "\n",
    "nested2[0][0] = 100  # 修改內層列表\n",
    "print(\"\\n淺拷貝的陷阱（巢狀列表）：\")\n",
    "print(\"nested1:\", nested1)  # 內層列表也改變了！\n",
    "print(\"nested2:\", nested2)\n",
    "\n",
    "# 深拷貝需要使用 copy 模組\n",
    "import copy\n",
    "nested1 = [[1, 2], [3, 4]]\n",
    "nested2 = copy.deepcopy(nested1)  # 深拷貝\n",
    "\n",
    "nested2[0][0] = 100\n",
    "print(\"\\n使用 deepcopy():\")\n",
    "print(\"nested1:\", nested1)  # 不變\n",
    "print(\"nested2:\", nested2)"
   ]
  },
  {
   "cell_type": "markdown",
   "metadata": {},
   "source": [
    "**複製方法總結**：\n",
    "\n",
    "| 方法 | 效果 | 適用情境 |\n",
    "|:-----|:-----|:---------|\n",
    "| `list2 = list1` | 建立參考（同一物件） | 需要別名 |\n",
    "| `list2 = list1.copy()` | 淺拷貝（新物件） | 一維列表 |\n",
    "| `list2 = list1[:]` | 淺拷貝（新物件） | 一維列表 |\n",
    "| `list2 = list(list1)` | 淺拷貝（新物件） | 一維列表 |\n",
    "| `copy.deepcopy(list1)` | 深拷貝（完全獨立） | 巢狀列表 |"
   ]
  },
  {
   "cell_type": "markdown",
   "metadata": {},
   "source": [
    "---\n",
    "\n",
    "### 💡 範例 11：巢狀列表基礎\n",
    "\n",
    "列表可以包含其他列表，形成多維結構。"
   ]
  },
  {
   "cell_type": "code",
   "execution_count": null,
   "metadata": {},
   "outputs": [],
   "source": [
    "# 建立二維列表（矩陣）\n",
    "matrix = [\n",
    "    [1, 2, 3],\n",
    "    [4, 5, 6],\n",
    "    [7, 8, 9]\n",
    "]\n",
    "\n",
    "print(\"矩陣:\")\n",
    "for row in matrix:\n",
    "    print(row)"
   ]
  },
  {
   "cell_type": "code",
   "execution_count": null,
   "metadata": {},
   "outputs": [],
   "source": [
    "# 存取二維列表元素\n",
    "print(\"\\n存取元素：\")\n",
    "print(f\"第一列: {matrix[0]}\")\n",
    "print(f\"第一列第一個元素: {matrix[0][0]}\")\n",
    "print(f\"第二列第三個元素: {matrix[1][2]}\")\n",
    "print(f\"最後一列最後一個元素: {matrix[-1][-1]}\")"
   ]
  },
  {
   "cell_type": "code",
   "execution_count": null,
   "metadata": {},
   "outputs": [],
   "source": [
    "# 修改二維列表元素\n",
    "matrix[1][1] = 50\n",
    "print(\"\\n修改 matrix[1][1] = 50:\")\n",
    "for row in matrix:\n",
    "    print(row)"
   ]
  },
  {
   "cell_type": "code",
   "execution_count": null,
   "metadata": {},
   "outputs": [],
   "source": [
    "# 應用：學生成績表\n",
    "# 每個學生有三科成績：國文、英文、數學\n",
    "scores = [\n",
    "    [85, 92, 78],  # 學生 1\n",
    "    [88, 75, 90],  # 學生 2\n",
    "    [92, 88, 85]   # 學生 3\n",
    "]\n",
    "\n",
    "subjects = [\"國文\", \"英文\", \"數學\"]\n",
    "\n",
    "print(\"\\n成績表：\")\n",
    "for i, student_scores in enumerate(scores, 1):\n",
    "    print(f\"\\n學生 {i}:\")\n",
    "    for j, score in enumerate(student_scores):\n",
    "        print(f\"  {subjects[j]}: {score} 分\")\n",
    "    print(f\"  平均: {sum(student_scores) / len(student_scores):.2f} 分\")"
   ]
  },
  {
   "cell_type": "code",
   "execution_count": null,
   "metadata": {},
   "outputs": [],
   "source": [
    "# 計算每科的班級平均\n",
    "print(\"\\n各科班級平均：\")\n",
    "for j, subject in enumerate(subjects):\n",
    "    subject_scores = [scores[i][j] for i in range(len(scores))]\n",
    "    avg = sum(subject_scores) / len(subject_scores)\n",
    "    print(f\"{subject}: {avg:.2f} 分\")"
   ]
  },
  {
   "cell_type": "markdown",
   "metadata": {},
   "source": [
    "**巢狀列表要點**：\n",
    "- 使用 `lst[i][j]` 存取二維列表元素\n",
    "- 外層迴圈遍歷列，內層迴圈遍歷行\n",
    "- 適合表示表格、矩陣、多維資料"
   ]
  },
  {
   "cell_type": "markdown",
   "metadata": {},
   "source": [
    "---\n",
    "\n",
    "### 💡 範例 12：列表的常見應用\n",
    "\n",
    "綜合運用列表解決實際問題。"
   ]
  },
  {
   "cell_type": "code",
   "execution_count": null,
   "metadata": {},
   "outputs": [],
   "source": [
    "# 應用 1：成績處理系統\n",
    "def analyze_scores(scores):\n",
    "    \"\"\"分析成績資料\"\"\"\n",
    "    if not scores:\n",
    "        return \"沒有成績資料\"\n",
    "    \n",
    "    total = sum(scores)\n",
    "    average = total / len(scores)\n",
    "    highest = max(scores)\n",
    "    lowest = min(scores)\n",
    "    \n",
    "    # 計算及格人數\n",
    "    passed = sum(1 for score in scores if score >= 60)\n",
    "    \n",
    "    print(f\"總分: {total}\")\n",
    "    print(f\"平均: {average:.2f}\")\n",
    "    print(f\"最高分: {highest}\")\n",
    "    print(f\"最低分: {lowest}\")\n",
    "    print(f\"及格人數: {passed}/{len(scores)}\")\n",
    "    print(f\"及格率: {passed/len(scores)*100:.1f}%\")\n",
    "\n",
    "scores = [85, 92, 78, 45, 88, 95, 67, 72, 55, 90]\n",
    "print(\"成績分析：\")\n",
    "analyze_scores(scores)"
   ]
  },
  {
   "cell_type": "code",
   "execution_count": null,
   "metadata": {},
   "outputs": [],
   "source": [
    "# 應用 2：資料過濾\n",
    "def filter_scores(scores, threshold):\n",
    "    \"\"\"篩選高於門檻的成績\"\"\"\n",
    "    result = []\n",
    "    for score in scores:\n",
    "        if score >= threshold:\n",
    "            result.append(score)\n",
    "    return result\n",
    "\n",
    "high_scores = filter_scores(scores, 80)\n",
    "print(f\"\\n80 分以上的成績: {high_scores}\")\n",
    "print(f\"人數: {len(high_scores)}\")"
   ]
  },
  {
   "cell_type": "code",
   "execution_count": null,
   "metadata": {},
   "outputs": [],
   "source": [
    "# 應用 3：資料轉換\n",
    "def apply_curve(scores, bonus):\n",
    "    \"\"\"加分調整（上限 100 分）\"\"\"\n",
    "    curved = []\n",
    "    for score in scores:\n",
    "        new_score = min(score + bonus, 100)\n",
    "        curved.append(new_score)\n",
    "    return curved\n",
    "\n",
    "original = [75, 82, 68, 95, 88]\n",
    "curved = apply_curve(original, 5)\n",
    "\n",
    "print(\"\\n加分調整：\")\n",
    "for i, (old, new) in enumerate(zip(original, curved), 1):\n",
    "    print(f\"學生 {i}: {old} → {new}\")"
   ]
  },
  {
   "cell_type": "code",
   "execution_count": null,
   "metadata": {},
   "outputs": [],
   "source": [
    "# 應用 4：排名統計\n",
    "students = [\"Alice\", \"Bob\", \"Charlie\", \"David\", \"Eve\"]\n",
    "scores = [85, 92, 78, 88, 95]\n",
    "\n",
    "# 建立 (姓名, 分數) 的配對列表\n",
    "student_scores = list(zip(students, scores))\n",
    "print(\"\\n原始資料：\")\n",
    "print(student_scores)\n",
    "\n",
    "# 按分數排序（降序）\n",
    "student_scores.sort(key=lambda x: x[1], reverse=True)\n",
    "\n",
    "print(\"\\n成績排名：\")\n",
    "for rank, (name, score) in enumerate(student_scores, 1):\n",
    "    print(f\"第 {rank} 名: {name} - {score} 分\")"
   ]
  },
  {
   "cell_type": "markdown",
   "metadata": {},
   "source": [
    "---\n",
    "\n",
    "## Part III: 本章總結 | Chapter Summary"
   ]
  },
  {
   "cell_type": "markdown",
   "metadata": {},
   "source": [
    "### 📊 知識回顧\n",
    "\n",
    "#### 核心概念\n",
    "1. **列表定義**：有序、可變的資料集合\n",
    "2. **索引規則**：正索引從 0 開始，負索引從 -1 開始\n",
    "3. **切片語法**：`[start:end:step]`，不含終點\n",
    "4. **可變性**：可以直接修改元素，與字串不同\n",
    "5. **常用方法**：append, extend, insert, remove, pop, sort, reverse\n",
    "\n",
    "#### 重要語法\n",
    "```python\n",
    "# 建立列表\n",
    "lst = [1, 2, 3]\n",
    "\n",
    "# 存取元素\n",
    "lst[0], lst[-1]\n",
    "\n",
    "# 切片\n",
    "lst[1:3], lst[::2], lst[::-1]\n",
    "\n",
    "# 修改\n",
    "lst[0] = 10\n",
    "\n",
    "# 新增\n",
    "lst.append(4)\n",
    "\n",
    "# 刪除\n",
    "lst.remove(2)\n",
    "\n",
    "# 遍歷\n",
    "for item in lst:\n",
    "    print(item)\n",
    "```\n",
    "\n",
    "#### 常見錯誤\n",
    "- IndexError：索引超出範圍\n",
    "- 誤以為 `sort()` 會回傳排序後的列表\n",
    "- 直接賦值導致的淺拷貝問題"
   ]
  },
  {
   "cell_type": "markdown",
   "metadata": {},
   "source": [
    "### ⚠️ 常見誤區（Common Pitfalls）\n",
    "\n",
    "| 誤區 | 錯誤示例 | 正確做法 |\n",
    "|:-----|:---------|:---------|\n",
    "| 索引從 1 開始 | `lst[1]` 是第一個 | `lst[0]` 是第一個 |\n",
    "| sort() 回傳值 | `new = lst.sort()` | `lst.sort()` 或 `new = sorted(lst)` |\n",
    "| 直接賦值複製 | `lst2 = lst1` | `lst2 = lst1.copy()` |\n",
    "| 切片含終點 | `lst[1:3]` 含索引 3 | `lst[1:3]` 不含索引 3 |"
   ]
  },
  {
   "cell_type": "markdown",
   "metadata": {},
   "source": [
    "---\n",
    "\n",
    "### 🎯 自我檢核（Self-Check）\n",
    "\n",
    "完成本講義後，請回答以下問題：\n",
    "\n",
    "1. 如何建立一個空列表？\n",
    "2. 列表的索引從幾開始？最後一個元素的索引是多少？\n",
    "3. `lst[1:4]` 會取得哪些索引的元素？\n",
    "4. `append()` 和 `extend()` 有什麼區別？\n",
    "5. 如何反轉一個列表？（至少兩種方法）\n",
    "6. `lst.sort()` 和 `sorted(lst)` 有什麼不同？\n",
    "7. 如何安全地複製一個列表？\n",
    "8. 如何同時取得索引和元素值？\n",
    "\n",
    "**參考答案請見課後習題解答**"
   ]
  },
  {
   "cell_type": "markdown",
   "metadata": {},
   "source": [
    "---\n",
    "\n",
    "### 🔗 延伸閱讀（Further Reading）\n",
    "\n",
    "#### Python 官方文件\n",
    "- [Lists](https://docs.python.org/3/tutorial/introduction.html#lists)\n",
    "- [More on Lists](https://docs.python.org/3/tutorial/datastructures.html#more-on-lists)\n",
    "\n",
    "#### 推薦資源\n",
    "- [Python Tutor](http://pythontutor.com/) - 視覺化列表操作\n",
    "- [Real Python: Lists and Tuples](https://realpython.com/python-lists-tuples/)\n",
    "\n",
    "#### 下一步\n",
    "- **Chapter 8: 元組** - 學習不可變的序列\n",
    "- 完成 `02-worked-examples.ipynb` 加深理解\n",
    "- 完成 `03-practice.ipynb` 進行課堂練習"
   ]
  },
  {
   "cell_type": "markdown",
   "metadata": {},
   "source": [
    "---\n",
    "\n",
    "## 💪 即時練習（Quick Practice）\n",
    "\n",
    "請在下方 cell 完成以下任務：\n",
    "\n",
    "1. 建立一個包含你最喜歡的 5 本書的列表\n",
    "2. 印出第一本和最後一本書\n",
    "3. 新增一本書到列表末尾\n",
    "4. 刪除第二本書\n",
    "5. 將列表按字母順序排序\n",
    "6. 使用 `for` 迴圈印出所有書名（含編號）"
   ]
  },
  {
   "cell_type": "code",
   "execution_count": null,
   "metadata": {},
   "outputs": [],
   "source": [
    "# 在此撰寫你的程式碼\n",
    "\n",
    "books = []  # 填入你的書單\n",
    "\n",
    "# 繼續完成其他任務..."
   ]
  },
  {
   "cell_type": "markdown",
   "metadata": {},
   "source": [
    "---\n",
    "\n",
    "## 📝 課後作業預告\n",
    "\n",
    "請依序完成：\n",
    "1. `02-worked-examples.ipynb` - 詳解範例（必做）\n",
    "2. `03-practice.ipynb` - 課堂練習（必做）\n",
    "3. `04-exercises.ipynb` - 課後習題（必做）\n",
    "4. `quiz.ipynb` - 自我測驗（檢核學習成效）\n",
    "\n",
    "**預計完成時間**：3-4 小時"
   ]
  }
 ],
 "metadata": {
  "kernelspec": {
   "display_name": "Python 3",
   "language": "python",
   "name": "python3"
  },
  "language_info": {
   "codemirror_mode": {
    "name": "ipython",
    "version": 3
   },
   "file_extension": ".py",
   "mimetype": "text/x-python",
   "name": "python",
   "nbconvert_exporter": "python",
   "pygments_lexer": "ipython3",
   "version": "3.8.0"
  }
 },
 "nbformat": 4,
 "nbformat_minor": 4
}
