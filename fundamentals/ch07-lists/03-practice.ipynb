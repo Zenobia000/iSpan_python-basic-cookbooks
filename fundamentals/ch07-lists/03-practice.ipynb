{
 "cells": [
  {
   "cell_type": "markdown",
   "metadata": {},
   "source": [
    "# Chapter 7: 序列資料：列表 | Sequential Data: Lists\n",
    "\n",
    "## 🛠️ 課堂練習 | In-Class Practice\n",
    "\n",
    "本檔案包含 8 個課堂練習題，用於即時檢驗理解程度。\n",
    "\n",
    "**使用方式**：\n",
    "1. 閱讀每題的問題描述\n",
    "2. 在提供的 code cell 中撰寫程式碼\n",
    "3. 執行並檢查結果\n",
    "4. 參考提示（如果卡住）\n",
    "\n",
    "**預計完成時間**：40 分鐘\n",
    "\n",
    "---"
   ]
  },
  {
   "cell_type": "markdown",
   "metadata": {},
   "source": [
    "## 練習 1：建立與存取列表 ⭐\n",
    "\n",
    "### 問題\n",
    "建立一個包含 5 個學生成績的列表：[85, 92, 78, 90, 88]\n",
    "\n",
    "### 要求\n",
    "1. 輸出第一個成績\n",
    "2. 輸出最後一個成績（使用負索引）\n",
    "3. 輸出第三個成績\n",
    "4. 輸出列表的長度"
   ]
  },
  {
   "cell_type": "code",
   "execution_count": null,
   "metadata": {},
   "outputs": [],
   "source": [
    "# 在此撰寫程式碼\n",
    "\n",
    "# 建立列表\n",
    "scores = \n",
    "\n",
    "# 存取元素\n",
    "print(\"第一個成績:\", )\n",
    "print(\"最後一個成績:\", )\n",
    "print(\"第三個成績:\", )\n",
    "print(\"總共有\", , \"個成績\")"
   ]
  },
  {
   "cell_type": "markdown",
   "metadata": {},
   "source": [
    "<details>\n",
    "<summary>💡 提示（點擊展開）</summary>\n",
    "\n",
    "- 第一個元素：`scores[0]`\n",
    "- 最後一個元素：`scores[-1]`\n",
    "- 列表長度：`len(scores)`\n",
    "</details>"
   ]
  },
  {
   "cell_type": "markdown",
   "metadata": {},
   "source": [
    "---\n",
    "\n",
    "## 練習 2：列表切片 ⭐\n",
    "\n",
    "### 問題\n",
    "給定列表：`numbers = [10, 20, 30, 40, 50, 60, 70, 80, 90, 100]`\n",
    "\n",
    "### 要求\n",
    "使用切片取得：\n",
    "1. 前 3 個元素\n",
    "2. 最後 3 個元素\n",
    "3. 索引 2-5 的元素（不含 5）\n",
    "4. 所有偶數位置的元素（索引 0, 2, 4...）\n",
    "5. 反轉整個列表"
   ]
  },
  {
   "cell_type": "code",
   "execution_count": null,
   "metadata": {},
   "outputs": [],
   "source": [
    "# 在此撰寫程式碼\n",
    "\n",
    "numbers = [10, 20, 30, 40, 50, 60, 70, 80, 90, 100]\n",
    "\n",
    "# 切片操作\n",
    "first_3 = \n",
    "last_3 = \n",
    "middle = \n",
    "even_positions = \n",
    "reversed_list = \n",
    "\n",
    "# 輸出結果\n",
    "print(\"前 3 個:\", first_3)\n",
    "print(\"後 3 個:\", last_3)\n",
    "print(\"索引 2-5:\", middle)\n",
    "print(\"偶數位置:\", even_positions)\n",
    "print(\"反轉:\", reversed_list)"
   ]
  },
  {
   "cell_type": "markdown",
   "metadata": {},
   "source": [
    "<details>\n",
    "<summary>💡 提示（點擊展開）</summary>\n",
    "\n",
    "- 前 3 個：`[:3]`\n",
    "- 後 3 個：`[-3:]`\n",
    "- 索引 2-5：`[2:5]`\n",
    "- 偶數位置：`[::2]`（步長為 2）\n",
    "- 反轉：`[::-1]`\n",
    "</details>"
   ]
  },
  {
   "cell_type": "markdown",
   "metadata": {},
   "source": [
    "---\n",
    "\n",
    "## 練習 3：新增元素 ⭐⭐\n",
    "\n",
    "### 問題\n",
    "從空列表開始，建立一個購物清單。\n",
    "\n",
    "### 要求\n",
    "1. 使用 `append()` 新增：\"蘋果\", \"香蕉\", \"牛奶\"\n",
    "2. 使用 `insert()` 在第二個位置插入 \"麵包\"\n",
    "3. 使用 `extend()` 加入 [\"雞蛋\", \"果汁\"]\n",
    "4. 輸出最終的購物清單"
   ]
  },
  {
   "cell_type": "code",
   "execution_count": null,
   "metadata": {},
   "outputs": [],
   "source": [
    "# 在此撰寫程式碼\n",
    "\n",
    "# 建立空列表\n",
    "shopping_list = []\n",
    "\n",
    "# 新增元素\n",
    "shopping_list.append()\n",
    "shopping_list.append()\n",
    "shopping_list.append()\n",
    "\n",
    "# 插入元素\n",
    "shopping_list.insert()\n",
    "\n",
    "# 擴展列表\n",
    "shopping_list.extend()\n",
    "\n",
    "# 輸出結果\n",
    "print(\"購物清單:\", shopping_list)\n",
    "print(\"共有\", len(shopping_list), \"項商品\")"
   ]
  },
  {
   "cell_type": "markdown",
   "metadata": {},
   "source": [
    "<details>\n",
    "<summary>💡 提示（點擊展開）</summary>\n",
    "\n",
    "- `append(x)` 在末尾新增一個元素\n",
    "- `insert(1, x)` 在索引 1 插入（第二個位置）\n",
    "- `extend([x, y])` 合併另一個列表\n",
    "</details>"
   ]
  },
  {
   "cell_type": "markdown",
   "metadata": {},
   "source": [
    "---\n",
    "\n",
    "## 練習 4：刪除元素 ⭐⭐\n",
    "\n",
    "### 問題\n",
    "給定待辦清單：`tasks = [\"寫作業\", \"看書\", \"運動\", \"看書\", \"睡覺\"]`\n",
    "\n",
    "### 要求\n",
    "1. 使用 `remove()` 刪除第一個 \"看書\"\n",
    "2. 使用 `pop()` 移除最後一個元素並印出\n",
    "3. 使用 `del` 刪除索引 1 的元素\n",
    "4. 輸出最終的清單"
   ]
  },
  {
   "cell_type": "code",
   "execution_count": null,
   "metadata": {},
   "outputs": [],
   "source": [
    "# 在此撰寫程式碼\n",
    "\n",
    "tasks = [\"寫作業\", \"看書\", \"運動\", \"看書\", \"睡覺\"]\n",
    "\n",
    "print(\"原始清單:\", tasks)\n",
    "\n",
    "# 刪除第一個「看書」\n",
    "tasks.remove()\n",
    "print(\"刪除第一個'看書':\", tasks)\n",
    "\n",
    "# 移除最後一個元素\n",
    "last_task = tasks.pop()\n",
    "print(f\"移除的任務: {last_task}\")\n",
    "print(\"移除後:\", tasks)\n",
    "\n",
    "# 刪除索引 1 的元素\n",
    "del tasks[1]\n",
    "print(\"刪除索引 1:\", tasks)"
   ]
  },
  {
   "cell_type": "markdown",
   "metadata": {},
   "source": [
    "<details>\n",
    "<summary>💡 提示（點擊展開）</summary>\n",
    "\n",
    "- `remove(x)` 刪除第一個 x\n",
    "- `pop()` 移除並回傳最後一個元素\n",
    "- `del list[i]` 刪除索引 i 的元素\n",
    "</details>"
   ]
  },
  {
   "cell_type": "markdown",
   "metadata": {},
   "source": [
    "---\n",
    "\n",
    "## 練習 5：排序與搜尋 ⭐⭐\n",
    "\n",
    "### 問題\n",
    "給定成績列表：`scores = [75, 92, 88, 75, 95, 80]`\n",
    "\n",
    "### 要求\n",
    "1. 找出 75 第一次出現的索引\n",
    "2. 計算 75 出現的次數\n",
    "3. 對列表進行排序（由小到大）\n",
    "4. 反轉排序後的列表（變成由大到小）"
   ]
  },
  {
   "cell_type": "code",
   "execution_count": null,
   "metadata": {},
   "outputs": [],
   "source": [
    "# 在此撰寫程式碼\n",
    "\n",
    "scores = [75, 92, 88, 75, 95, 80]\n",
    "\n",
    "# 搜尋\n",
    "index_of_75 = \n",
    "count_of_75 = \n",
    "\n",
    "print(\"75 第一次出現在索引:\", index_of_75)\n",
    "print(\"75 出現次數:\", count_of_75)\n",
    "\n",
    "# 排序\n",
    "scores.sort()\n",
    "print(\"排序後（升序):\", scores)\n",
    "\n",
    "# 反轉\n",
    "scores.reverse()\n",
    "print(\"反轉後（降序):\", scores)"
   ]
  },
  {
   "cell_type": "markdown",
   "metadata": {},
   "source": [
    "<details>\n",
    "<summary>💡 提示（點擊展開）</summary>\n",
    "\n",
    "- `index(x)` 回傳 x 的索引\n",
    "- `count(x)` 回傳 x 的數量\n",
    "- `sort()` 直接修改原列表\n",
    "- `reverse()` 反轉列表\n",
    "</details>"
   ]
  },
  {
   "cell_type": "markdown",
   "metadata": {},
   "source": [
    "---\n",
    "\n",
    "## 練習 6：遍歷列表 ⭐⭐\n",
    "\n",
    "### 問題\n",
    "給定水果列表：`fruits = [\"蘋果\", \"香蕉\", \"橘子\", \"芒果\"]`\n",
    "\n",
    "### 要求\n",
    "1. 使用 `for` 迴圈輸出每個水果\n",
    "2. 使用 `enumerate()` 輸出編號和水果（編號從 1 開始）\n",
    "3. 計算所有水果名稱的總字數"
   ]
  },
  {
   "cell_type": "code",
   "execution_count": null,
   "metadata": {},
   "outputs": [],
   "source": [
    "# 在此撰寫程式碼\n",
    "\n",
    "fruits = [\"蘋果\", \"香蕉\", \"橘子\", \"芒果\"]\n",
    "\n",
    "# 方法 1: 基本遍歷\n",
    "print(\"=== 方法 1: 基本遍歷 ===\")\n",
    "for fruit in fruits:\n",
    "    print(fruit)\n",
    "\n",
    "# 方法 2: 使用 enumerate\n",
    "print(\"\\n=== 方法 2: 帶編號 ===\")\n",
    "for index, fruit in enumerate(fruits, start=1):\n",
    "    print(f\"{index}. {fruit}\")\n",
    "\n",
    "# 計算總字數\n",
    "total_chars = 0\n",
    "for fruit in fruits:\n",
    "    total_chars += len(fruit)\n",
    "\n",
    "print(f\"\\n總字數: {total_chars}\")"
   ]
  },
  {
   "cell_type": "markdown",
   "metadata": {},
   "source": [
    "<details>\n",
    "<summary>💡 提示（點擊展開）</summary>\n",
    "\n",
    "- `for x in list:` 直接遍歷元素\n",
    "- `enumerate(list, start=1)` 同時取得索引和值\n",
    "- `len(string)` 取得字串長度\n",
    "</details>"
   ]
  },
  {
   "cell_type": "markdown",
   "metadata": {},
   "source": [
    "---\n",
    "\n",
    "## 練習 7：列表複製 ⭐⭐⭐\n",
    "\n",
    "### 問題\n",
    "理解列表的淺拷貝與深拷貝。\n",
    "\n",
    "### 要求\n",
    "1. 建立列表 `original = [1, 2, 3]`\n",
    "2. 建立 `copy1 = original`（賦值）\n",
    "3. 建立 `copy2 = original.copy()`（拷貝）\n",
    "4. 修改 `original[0] = 100`\n",
    "5. 觀察三個列表的變化"
   ]
  },
  {
   "cell_type": "code",
   "execution_count": null,
   "metadata": {},
   "outputs": [],
   "source": [
    "# 在此撰寫程式碼\n",
    "\n",
    "# 建立原始列表\n",
    "original = [1, 2, 3]\n",
    "\n",
    "# 方法 1: 直接賦值（只是參考）\n",
    "copy1 = original\n",
    "\n",
    "# 方法 2: 使用 copy()（真正拷貝）\n",
    "copy2 = original.copy()\n",
    "\n",
    "print(\"修改前:\")\n",
    "print(\"original:\", original)\n",
    "print(\"copy1:\", copy1)\n",
    "print(\"copy2:\", copy2)\n",
    "\n",
    "# 修改原始列表\n",
    "original[0] = 100\n",
    "\n",
    "print(\"\\n修改 original[0] = 100 後:\")\n",
    "print(\"original:\", original)\n",
    "print(\"copy1:\", copy1, \"← 也改變了！\")\n",
    "print(\"copy2:\", copy2, \"← 不受影響\")"
   ]
  },
  {
   "cell_type": "markdown",
   "metadata": {},
   "source": [
    "<details>\n",
    "<summary>💡 提示（點擊展開）</summary>\n",
    "\n",
    "- `copy1 = original` 只是建立參考，指向同一個列表\n",
    "- `copy2 = original.copy()` 建立新列表\n",
    "- 修改 original 會影響 copy1，但不影響 copy2\n",
    "</details>"
   ]
  },
  {
   "cell_type": "markdown",
   "metadata": {},
   "source": [
    "---\n",
    "\n",
    "## 練習 8：成績統計 ⭐⭐⭐\n",
    "\n",
    "### 問題\n",
    "給定一組成績，進行完整的統計分析。\n",
    "\n",
    "### 要求\n",
    "給定 `scores = [85, 92, 78, 90, 88, 76, 95, 89]`\n",
    "\n",
    "計算：\n",
    "1. 總分與平均分\n",
    "2. 最高分與最低分\n",
    "3. 及格人數（≥ 60）\n",
    "4. 高於平均的人數"
   ]
  },
  {
   "cell_type": "code",
   "execution_count": null,
   "metadata": {},
   "outputs": [],
   "source": [
    "# 在此撰寫程式碼\n",
    "\n",
    "scores = [85, 92, 78, 90, 88, 76, 95, 89]\n",
    "\n",
    "# 1. 總分與平均\n",
    "total = \n",
    "average = \n",
    "\n",
    "# 2. 最高與最低\n",
    "highest = \n",
    "lowest = \n",
    "\n",
    "# 3. 及格人數（≥ 60）\n",
    "passed_count = 0\n",
    "for score in scores:\n",
    "    if score >= 60:\n",
    "        passed_count += 1\n",
    "\n",
    "# 4. 高於平均的人數\n",
    "above_average_count = 0\n",
    "for score in scores:\n",
    "    if score > average:\n",
    "        above_average_count += 1\n",
    "\n",
    "# 輸出統計結果\n",
    "print(\"=== 成績統計 ===\")\n",
    "print(f\"總分: {total}\")\n",
    "print(f\"平均: {average:.2f}\")\n",
    "print(f\"最高分: {highest}\")\n",
    "print(f\"最低分: {lowest}\")\n",
    "print(f\"及格人數: {passed_count} / {len(scores)}\")\n",
    "print(f\"高於平均: {above_average_count} 人\")"
   ]
  },
  {
   "cell_type": "markdown",
   "metadata": {},
   "source": [
    "<details>\n",
    "<summary>💡 提示（點擊展開）</summary>\n",
    "\n",
    "- 總分：`sum(scores)`\n",
    "- 平均：`sum(scores) / len(scores)`\n",
    "- 最高：`max(scores)`\n",
    "- 最低：`min(scores)`\n",
    "- 計數：使用 `for` 迴圈配合條件判斷\n",
    "</details>"
   ]
  },
  {
   "cell_type": "markdown",
   "metadata": {},
   "source": [
    "---\n",
    "\n",
    "## 🎯 練習總結\n",
    "\n",
    "### 涵蓋的知識點\n",
    "\n",
    "| 練習 | 主題 | 難度 |\n",
    "|:-----|:-----|:----:|\n",
    "| 1 | 建立列表、索引存取 | ⭐ |\n",
    "| 2 | 切片操作 | ⭐ |\n",
    "| 3 | 新增元素（append, insert, extend） | ⭐⭐ |\n",
    "| 4 | 刪除元素（remove, pop, del） | ⭐⭐ |\n",
    "| 5 | 排序與搜尋（sort, index, count） | ⭐⭐ |\n",
    "| 6 | 遍歷列表（for, enumerate） | ⭐⭐ |\n",
    "| 7 | 列表複製（淺拷貝陷阱） | ⭐⭐⭐ |\n",
    "| 8 | 綜合應用（成績統計） | ⭐⭐⭐ |\n",
    "\n",
    "### 檢核清單\n",
    "\n",
    "完成練習後，確認你能夠：\n",
    "- [ ] 建立列表並使用索引存取元素\n",
    "- [ ] 熟練使用切片操作\n",
    "- [ ] 正確使用 append、extend、insert 新增元素\n",
    "- [ ] 正確使用 remove、pop、del 刪除元素\n",
    "- [ ] 使用 sort、reverse 排序列表\n",
    "- [ ] 使用 index、count 搜尋元素\n",
    "- [ ] 使用 for 迴圈遍歷列表\n",
    "- [ ] 理解列表複製的陷阱\n",
    "\n",
    "---\n",
    "\n",
    "## 📚 下一步\n",
    "\n",
    "1. 確保所有練習都能正確執行\n",
    "2. 嘗試修改數值，觀察結果變化\n",
    "3. 繼續完成 `04-exercises.ipynb`（課後習題）"
   ]
  }
 ],
 "metadata": {
  "kernelspec": {
   "display_name": "Python 3",
   "language": "python",
   "name": "python3"
  },
  "language_info": {
   "name": "python",
   "version": "3.8.0"
  }
 },
 "nbformat": 4,
 "nbformat_minor": 4
}
