{
 "cells": [
  {
   "cell_type": "markdown",
   "metadata": {},
   "source": [
    "# Chapter 7: 序列資料：列表 | Sequential Data: Lists\n",
    "\n",
    "## ✅ 習題解答 | Solutions\n",
    "\n",
    "本檔案提供 `04-exercises.ipynb` 所有 12 題的完整解答與詳解。\n",
    "\n",
    "**使用建議**：\n",
    "1. 先自行完成習題再參考解答\n",
    "2. 對照自己的答案，理解不同解法\n",
    "3. 注意解題思路與重點說明\n",
    "\n",
    "---"
   ]
  },
  {
   "cell_type": "markdown",
   "metadata": {},
   "source": [
    "## 📘 基礎題解答（1-4）\n",
    "\n",
    "### 習題 1：建立星期列表 ⭐\n",
    "\n",
    "**解答**："
   ]
  },
  {
   "cell_type": "code",
   "execution_count": null,
   "metadata": {},
   "outputs": [],
   "source": [
    "# 習題 1 解答\n",
    "weekdays = [\"星期一\", \"星期二\", \"星期三\", \"星期四\", \"星期五\", \"星期六\", \"星期日\"]\n",
    "\n",
    "# 1. 第一天和最後一天\n",
    "print(\"第一天:\", weekdays[0])\n",
    "print(\"最後一天:\", weekdays[-1])\n",
    "\n",
    "# 2. 工作日（前 5 天）\n",
    "workdays = weekdays[:5]\n",
    "print(\"工作日:\", workdays)\n",
    "\n",
    "# 3. 週末（後 2 天）\n",
    "weekend = weekdays[-2:]\n",
    "print(\"週末:\", weekend)"
   ]
  },
  {
   "cell_type": "markdown",
   "metadata": {},
   "source": [
    "**重點**：\n",
    "- 使用負索引 `-1` 取最後一個元素\n",
    "- 切片 `[:5]` 取前 5 個元素（索引 0-4）\n",
    "- 切片 `[-2:]` 取最後 2 個元素"
   ]
  },
  {
   "cell_type": "markdown",
   "metadata": {},
   "source": [
    "---\n",
    "\n",
    "### 習題 2：數字列表操作 ⭐\n",
    "\n",
    "**解答**："
   ]
  },
  {
   "cell_type": "code",
   "execution_count": null,
   "metadata": {},
   "outputs": [],
   "source": [
    "# 習題 2 解答\n",
    "numbers = [5, 10, 15, 20, 25, 30]\n",
    "\n",
    "# 1. 總和\n",
    "total = sum(numbers)\n",
    "print(\"總和:\", total)\n",
    "\n",
    "# 2. 平均值\n",
    "average = sum(numbers) / len(numbers)\n",
    "print(\"平均值:\", average)\n",
    "\n",
    "# 3. 最大值與最小值的差\n",
    "difference = max(numbers) - min(numbers)\n",
    "print(\"最大值與最小值的差:\", difference)"
   ]
  },
  {
   "cell_type": "markdown",
   "metadata": {},
   "source": [
    "**重點**：\n",
    "- `sum()` 計算總和\n",
    "- `len()` 取得列表長度\n",
    "- `max()` 和 `min()` 取得最大值和最小值"
   ]
  },
  {
   "cell_type": "markdown",
   "metadata": {},
   "source": [
    "---\n",
    "\n",
    "### 習題 3：列表元素檢查 ⭐\n",
    "\n",
    "**解答**："
   ]
  },
  {
   "cell_type": "code",
   "execution_count": null,
   "metadata": {},
   "outputs": [],
   "source": [
    "# 習題 3 解答\n",
    "colors = [\"紅\", \"黃\", \"藍\", \"綠\", \"紫\"]\n",
    "\n",
    "# 1. \"藍\" 是否在列表中\n",
    "has_blue = \"藍\" in colors\n",
    "print(\"'藍' 在列表中:\", has_blue)\n",
    "\n",
    "# 2. \"橙\" 是否在列表中\n",
    "has_orange = \"橙\" in colors\n",
    "print(\"'橙' 在列表中:\", has_orange)\n",
    "\n",
    "# 3. 列表長度是否大於 3\n",
    "is_long = len(colors) > 3\n",
    "print(\"長度大於 3:\", is_long)"
   ]
  },
  {
   "cell_type": "markdown",
   "metadata": {},
   "source": [
    "**重點**：\n",
    "- 使用 `in` 運算子檢查元素是否存在\n",
    "- 回傳布林值 `True` 或 `False`"
   ]
  },
  {
   "cell_type": "markdown",
   "metadata": {},
   "source": [
    "---\n",
    "\n",
    "### 習題 4：修改列表元素 ⭐\n",
    "\n",
    "**解答**："
   ]
  },
  {
   "cell_type": "code",
   "execution_count": null,
   "metadata": {},
   "outputs": [],
   "source": [
    "# 習題 4 解答\n",
    "prices = [100, 200, 300, 400, 500]\n",
    "\n",
    "print(\"原始列表:\", prices)\n",
    "\n",
    "# 1. 將第一個價格改為 150\n",
    "prices[0] = 150\n",
    "\n",
    "# 2. 將最後一個價格改為 550\n",
    "prices[-1] = 550\n",
    "\n",
    "# 3. 輸出修改後的列表\n",
    "print(\"修改後:\", prices)"
   ]
  },
  {
   "cell_type": "markdown",
   "metadata": {},
   "source": [
    "**重點**：\n",
    "- 使用索引賦值修改元素：`list[i] = value`\n",
    "- 列表是可變的（mutable），可以直接修改"
   ]
  },
  {
   "cell_type": "markdown",
   "metadata": {},
   "source": [
    "---\n",
    "\n",
    "## 📙 中級題解答（5-8）\n",
    "\n",
    "### 習題 5：購物清單管理 ⭐⭐\n",
    "\n",
    "**解答**："
   ]
  },
  {
   "cell_type": "code",
   "execution_count": null,
   "metadata": {},
   "outputs": [],
   "source": [
    "# 習題 5 解答\n",
    "shopping_list = []\n",
    "\n",
    "# 1. 加入三個商品\n",
    "shopping_list.append(\"麵包\")\n",
    "shopping_list.append(\"牛奶\")\n",
    "shopping_list.append(\"雞蛋\")\n",
    "print(\"加入三個商品:\", shopping_list)\n",
    "\n",
    "# 2. 在開頭插入「水果」\n",
    "shopping_list.insert(0, \"水果\")\n",
    "print(\"插入水果:\", shopping_list)\n",
    "\n",
    "# 3. 移除「牛奶」\n",
    "shopping_list.remove(\"牛奶\")\n",
    "print(\"移除牛奶:\", shopping_list)\n",
    "\n",
    "# 4. 加入「起司」和「果汁」\n",
    "shopping_list.extend([\"起司\", \"果汁\"])\n",
    "print(\"加入起司和果汁:\", shopping_list)\n",
    "\n",
    "# 5. 最終結果\n",
    "print(f\"\\n最終清單: {shopping_list}\")\n",
    "print(f\"總共 {len(shopping_list)} 項商品\")"
   ]
  },
  {
   "cell_type": "markdown",
   "metadata": {},
   "source": [
    "**重點**：\n",
    "- `append(x)` 在末尾新增一個元素\n",
    "- `insert(0, x)` 在開頭（索引 0）插入\n",
    "- `remove(x)` 刪除第一個 x\n",
    "- `extend([...])` 合併另一個列表"
   ]
  },
  {
   "cell_type": "markdown",
   "metadata": {},
   "source": [
    "---\n",
    "\n",
    "### 習題 6：成績排名 ⭐⭐\n",
    "\n",
    "**解答**："
   ]
  },
  {
   "cell_type": "code",
   "execution_count": null,
   "metadata": {},
   "outputs": [],
   "source": [
    "# 習題 6 解答\n",
    "scores = [88, 92, 75, 95, 82, 90]\n",
    "\n",
    "# 1. 建立排序後的列表（由高到低）\n",
    "sorted_scores = sorted(scores, reverse=True)\n",
    "print(\"原始成績:\", scores)\n",
    "print(\"排序後:\", sorted_scores)\n",
    "\n",
    "# 2. 第一名的成績\n",
    "first_place = sorted_scores[0]\n",
    "# 或使用 max(scores)\n",
    "print(\"第一名:\", first_place)\n",
    "\n",
    "# 3. 最後一名的成績\n",
    "last_place = sorted_scores[-1]\n",
    "# 或使用 min(scores)\n",
    "print(\"最後一名:\", last_place)\n",
    "\n",
    "# 4. 前三名的平均分\n",
    "top_3 = sorted_scores[:3]\n",
    "top_3_average = sum(top_3) / len(top_3)\n",
    "print(f\"前三名: {top_3}\")\n",
    "print(f\"前三名平均: {top_3_average:.2f}\")"
   ]
  },
  {
   "cell_type": "markdown",
   "metadata": {},
   "source": [
    "**重點**：\n",
    "- `sorted(list, reverse=True)` 回傳新列表（降序），不修改原列表\n",
    "- `list.sort()` 會修改原列表\n",
    "- 使用切片 `[:3]` 取前三個元素"
   ]
  },
  {
   "cell_type": "markdown",
   "metadata": {},
   "source": [
    "---\n",
    "\n",
    "### 習題 7：數字過濾 ⭐⭐\n",
    "\n",
    "**解答**："
   ]
  },
  {
   "cell_type": "code",
   "execution_count": null,
   "metadata": {},
   "outputs": [],
   "source": [
    "# 習題 7 解答\n",
    "numbers = [12, 7, 23, 8, 45, 16, 31, 19, 5]\n",
    "\n",
    "# 1. 大於 10 的數字\n",
    "greater_than_10 = []\n",
    "for num in numbers:\n",
    "    if num > 10:\n",
    "        greater_than_10.append(num)\n",
    "print(\"大於 10:\", greater_than_10)\n",
    "\n",
    "# 2. 偶數\n",
    "even_numbers = []\n",
    "for num in numbers:\n",
    "    if num % 2 == 0:\n",
    "        even_numbers.append(num)\n",
    "print(\"偶數:\", even_numbers)\n",
    "\n",
    "# 3. 所有奇數的總和\n",
    "odd_sum = 0\n",
    "for num in numbers:\n",
    "    if num % 2 != 0:\n",
    "        odd_sum += num\n",
    "print(\"奇數總和:\", odd_sum)"
   ]
  },
  {
   "cell_type": "markdown",
   "metadata": {},
   "source": [
    "**進階解法（使用列表推導式）**："
   ]
  },
  {
   "cell_type": "code",
   "execution_count": null,
   "metadata": {},
   "outputs": [],
   "source": [
    "# 習題 7 進階解答（列表推導式）\n",
    "numbers = [12, 7, 23, 8, 45, 16, 31, 19, 5]\n",
    "\n",
    "greater_than_10 = [num for num in numbers if num > 10]\n",
    "even_numbers = [num for num in numbers if num % 2 == 0]\n",
    "odd_sum = sum([num for num in numbers if num % 2 != 0])\n",
    "\n",
    "print(\"大於 10:\", greater_than_10)\n",
    "print(\"偶數:\", even_numbers)\n",
    "print(\"奇數總和:\", odd_sum)"
   ]
  },
  {
   "cell_type": "markdown",
   "metadata": {},
   "source": [
    "**重點**：\n",
    "- 使用 `for` 迴圈配合 `if` 進行過濾\n",
    "- `num % 2 == 0` 判斷偶數\n",
    "- 列表推導式更簡潔（進階語法）"
   ]
  },
  {
   "cell_type": "markdown",
   "metadata": {},
   "source": [
    "---\n",
    "\n",
    "### 習題 8：列表合併與去重 ⭐⭐\n",
    "\n",
    "**解答**："
   ]
  },
  {
   "cell_type": "code",
   "execution_count": null,
   "metadata": {},
   "outputs": [],
   "source": [
    "# 習題 8 解答\n",
    "list1 = [1, 2, 3, 4, 5]\n",
    "list2 = [4, 5, 6, 7, 8]\n",
    "\n",
    "# 1. 合併兩個列表\n",
    "merged = list1 + list2\n",
    "print(\"合併列表:\", merged)\n",
    "\n",
    "# 2. 共同元素（交集）\n",
    "common = []\n",
    "for item in list1:\n",
    "    if item in list2:\n",
    "        common.append(item)\n",
    "print(\"共同元素:\", common)\n",
    "\n",
    "# 3. 只在 list1 中的元素（差集）\n",
    "only_in_list1 = []\n",
    "for item in list1:\n",
    "    if item not in list2:\n",
    "        only_in_list1.append(item)\n",
    "print(\"只在 list1:\", only_in_list1)"
   ]
  },
  {
   "cell_type": "markdown",
   "metadata": {},
   "source": [
    "**進階解法（使用集合）**:"
   ]
  },
  {
   "cell_type": "code",
   "execution_count": null,
   "metadata": {},
   "outputs": [],
   "source": [
    "# 習題 8 進階解答（使用集合）\n",
    "list1 = [1, 2, 3, 4, 5]\n",
    "list2 = [4, 5, 6, 7, 8]\n",
    "\n",
    "# 使用集合運算\n",
    "common = list(set(list1) & set(list2))  # 交集\n",
    "only_in_list1 = list(set(list1) - set(list2))  # 差集\n",
    "\n",
    "print(\"共同元素:\", common)\n",
    "print(\"只在 list1:\", only_in_list1)"
   ]
  },
  {
   "cell_type": "markdown",
   "metadata": {},
   "source": [
    "**重點**：\n",
    "- 使用 `+` 合併列表\n",
    "- 使用 `in` 檢查元素是否存在\n",
    "- 集合（set）可以更高效地處理交集、差集運算"
   ]
  },
  {
   "cell_type": "markdown",
   "metadata": {},
   "source": [
    "---\n",
    "\n",
    "## 📕 挑戰題解答（9-12）\n",
    "\n",
    "### 習題 9：班級成績系統 ⭐⭐⭐\n",
    "\n",
    "**解答**："
   ]
  },
  {
   "cell_type": "code",
   "execution_count": null,
   "metadata": {},
   "outputs": [],
   "source": [
    "# 習題 9 解答\n",
    "names = [\"小明\", \"小華\", \"小美\", \"小強\", \"小芳\"]\n",
    "scores = [85, 92, 78, 95, 88]\n",
    "\n",
    "# 1. 最高分的學生\n",
    "max_score = max(scores)\n",
    "max_index = scores.index(max_score)\n",
    "print(f\"最高分: {names[max_index]} - {max_score} 分\")\n",
    "\n",
    "# 2. 最低分的學生\n",
    "min_score = min(scores)\n",
    "min_index = scores.index(min_score)\n",
    "print(f\"最低分: {names[min_index]} - {min_score} 分\")\n",
    "\n",
    "# 3. 及格的學生\n",
    "print(\"\\n及格學生:\")\n",
    "for i in range(len(names)):\n",
    "    if scores[i] >= 60:\n",
    "        print(f\"  {names[i]} - {scores[i]} 分\")\n",
    "\n",
    "# 4. 按成績排序\n",
    "# 建立 (分數, 姓名) 的配對列表\n",
    "score_name_pairs = []\n",
    "for i in range(len(names)):\n",
    "    score_name_pairs.append((scores[i], names[i]))\n",
    "\n",
    "# 排序（由高到低）\n",
    "score_name_pairs.sort(reverse=True)\n",
    "\n",
    "print(\"\\n成績排名:\")\n",
    "for rank, (score, name) in enumerate(score_name_pairs, start=1):\n",
    "    print(f\"{rank}. {name} - {score} 分\")"
   ]
  },
  {
   "cell_type": "markdown",
   "metadata": {},
   "source": [
    "**進階解法（使用 zip）**："
   ]
  },
  {
   "cell_type": "code",
   "execution_count": null,
   "metadata": {},
   "outputs": [],
   "source": [
    "# 習題 9 進階解答\n",
    "names = [\"小明\", \"小華\", \"小美\", \"小強\", \"小芳\"]\n",
    "scores = [85, 92, 78, 95, 88]\n",
    "\n",
    "# 使用 zip 配對\n",
    "students = list(zip(names, scores))\n",
    "\n",
    "# 按成績排序\n",
    "students_sorted = sorted(students, key=lambda x: x[1], reverse=True)\n",
    "\n",
    "print(\"成績排名:\")\n",
    "for rank, (name, score) in enumerate(students_sorted, start=1):\n",
    "    print(f\"{rank}. {name} - {score} 分\")"
   ]
  },
  {
   "cell_type": "markdown",
   "metadata": {},
   "source": [
    "**重點**：\n",
    "- 使用 `index()` 找出元素位置\n",
    "- 使用平行索引處理兩個列表\n",
    "- `zip()` 可以將兩個列表配對\n",
    "- `enumerate(list, start=1)` 從 1 開始編號"
   ]
  },
  {
   "cell_type": "markdown",
   "metadata": {},
   "source": [
    "---\n",
    "\n",
    "### 習題 10：數字序列生成 ⭐⭐⭐\n",
    "\n",
    "**解答**："
   ]
  },
  {
   "cell_type": "code",
   "execution_count": null,
   "metadata": {},
   "outputs": [],
   "source": [
    "# 習題 10 解答\n",
    "\n",
    "# 1. 1 到 20 的所有偶數\n",
    "even_numbers = []\n",
    "num = 2\n",
    "while num <= 20:\n",
    "    even_numbers.append(num)\n",
    "    num += 2\n",
    "print(\"1-20 的偶數:\", even_numbers)\n",
    "\n",
    "# 2. 1 到 10 的平方數\n",
    "squares = []\n",
    "for i in range(1, 11):\n",
    "    squares.append(i ** 2)\n",
    "print(\"1-10 的平方:\", squares)\n",
    "\n",
    "# 3. 10 到 1 的倒數序列\n",
    "countdown = []\n",
    "num = 10\n",
    "while num >= 1:\n",
    "    countdown.append(num)\n",
    "    num -= 1\n",
    "print(\"10-1 倒數:\", countdown)"
   ]
  },
  {
   "cell_type": "markdown",
   "metadata": {},
   "source": [
    "**進階解法（使用列表推導式）**："
   ]
  },
  {
   "cell_type": "code",
   "execution_count": null,
   "metadata": {},
   "outputs": [],
   "source": [
    "# 習題 10 進階解答\n",
    "even_numbers = [i for i in range(2, 21, 2)]\n",
    "squares = [i**2 for i in range(1, 11)]\n",
    "countdown = [i for i in range(10, 0, -1)]\n",
    "\n",
    "print(\"1-20 的偶數:\", even_numbers)\n",
    "print(\"1-10 的平方:\", squares)\n",
    "print(\"10-1 倒數:\", countdown)"
   ]
  },
  {
   "cell_type": "markdown",
   "metadata": {},
   "source": [
    "**重點**：\n",
    "- 使用 `while` 迴圈逐步建立列表\n",
    "- 使用 `for` 配合 `range()` 更簡潔\n",
    "- 列表推導式是最簡潔的寫法"
   ]
  },
  {
   "cell_type": "markdown",
   "metadata": {},
   "source": [
    "---\n",
    "\n",
    "### 習題 11：溫度轉換清單 ⭐⭐⭐\n",
    "\n",
    "**解答**："
   ]
  },
  {
   "cell_type": "code",
   "execution_count": null,
   "metadata": {},
   "outputs": [],
   "source": [
    "# 習題 11 解答\n",
    "celsius_temps = [25, 28, 22, 30, 27, 26, 24]\n",
    "\n",
    "# 1. 建立華氏溫度列表\n",
    "fahrenheit_temps = []\n",
    "for c in celsius_temps:\n",
    "    f = c * 9/5 + 32\n",
    "    fahrenheit_temps.append(f)\n",
    "print(\"攝氏溫度:\", celsius_temps)\n",
    "print(\"華氏溫度:\", fahrenheit_temps)\n",
    "\n",
    "# 2. 最熱的一天（華氏）\n",
    "max_fahrenheit = max(fahrenheit_temps)\n",
    "max_day = fahrenheit_temps.index(max_fahrenheit)\n",
    "print(f\"\\n最熱的一天: 第 {max_day + 1} 天，{max_fahrenheit:.1f}°F\")\n",
    "\n",
    "# 3. 最冷的一天（攝氏）\n",
    "min_celsius = min(celsius_temps)\n",
    "min_day = celsius_temps.index(min_celsius)\n",
    "print(f\"最冷的一天: 第 {min_day + 1} 天，{min_celsius}°C\")\n",
    "\n",
    "# 4. 平均溫度\n",
    "avg_celsius = sum(celsius_temps) / len(celsius_temps)\n",
    "print(f\"\\n平均溫度: {avg_celsius:.2f}°C\")\n",
    "\n",
    "# 5. 高於平均的天數\n",
    "above_avg_count = 0\n",
    "for temp in celsius_temps:\n",
    "    if temp > avg_celsius:\n",
    "        above_avg_count += 1\n",
    "print(f\"高於平均溫度的天數: {above_avg_count} 天\")"
   ]
  },
  {
   "cell_type": "markdown",
   "metadata": {},
   "source": [
    "**重點**：\n",
    "- 使用 `for` 迴圈轉換所有溫度\n",
    "- `index()` 找出最大/最小值的位置\n",
    "- 計算平均值後再進行比較統計"
   ]
  },
  {
   "cell_type": "markdown",
   "metadata": {},
   "source": [
    "---\n",
    "\n",
    "### 習題 12：完整的待辦清單系統 ⭐⭐⭐\n",
    "\n",
    "**解答**："
   ]
  },
  {
   "cell_type": "code",
   "execution_count": null,
   "metadata": {},
   "outputs": [],
   "source": [
    "# 習題 12 解答\n",
    "\n",
    "# 1. 新增任務\n",
    "todo_list = []\n",
    "todo_list.append(\"寫作業\")\n",
    "todo_list.append(\"買菜\")\n",
    "todo_list.append(\"運動\")\n",
    "todo_list.append(\"讀書\")\n",
    "todo_list.append(\"打掃房間\")\n",
    "print(\"=== 新增 5 個任務 ===\")\n",
    "\n",
    "# 2. 顯示清單\n",
    "print(\"\\n當前待辦清單:\")\n",
    "for i, task in enumerate(todo_list, start=1):\n",
    "    print(f\"{i}. {task}\")\n",
    "\n",
    "# 3. 完成任務（移除第 3 個）\n",
    "completed_task = todo_list.pop(2)  # 索引 2 是第 3 個\n",
    "print(f\"\\n✅ 完成任務: {completed_task}\")\n",
    "\n",
    "# 4. 插入緊急任務\n",
    "todo_list.insert(0, \"🔥 緊急！準備明天報告\")\n",
    "print(\"插入緊急任務\")\n",
    "\n",
    "# 5. 統計\n",
    "print(\"\\n更新後的待辦清單:\")\n",
    "for i, task in enumerate(todo_list, start=1):\n",
    "    print(f\"{i}. {task}\")\n",
    "print(f\"\\n剩餘任務數: {len(todo_list)} 項\")\n",
    "\n",
    "# 6. 清空\n",
    "todo_list.clear()\n",
    "print(\"\\n清空所有任務\")\n",
    "print(f\"剩餘任務數: {len(todo_list)} 項\")"
   ]
  },
  {
   "cell_type": "markdown",
   "metadata": {},
   "source": [
    "**重點**：\n",
    "- `append()` 新增任務\n",
    "- `enumerate(list, start=1)` 產生編號列表\n",
    "- `pop(index)` 移除並回傳指定位置的元素\n",
    "- `insert(0, x)` 在開頭插入\n",
    "- `clear()` 清空列表"
   ]
  },
  {
   "cell_type": "markdown",
   "metadata": {},
   "source": [
    "---\n",
    "\n",
    "## 📊 學習總結\n",
    "\n",
    "### 列表操作方法統計\n",
    "\n",
    "| 方法 | 使用次數 | 關鍵習題 |\n",
    "|:-----|:--------:|:--------|\n",
    "| 索引存取 `[]` | 所有題 | 1, 2, 4, 9 |\n",
    "| 切片 `[:]` | 高頻 | 1, 6 |\n",
    "| `append()` | 高頻 | 5, 7, 12 |\n",
    "| `extend()` | 中頻 | 5 |\n",
    "| `insert()` | 中頻 | 5, 12 |\n",
    "| `remove()` | 中頻 | 5 |\n",
    "| `pop()` | 中頻 | 12 |\n",
    "| `index()` | 中頻 | 9, 11 |\n",
    "| `sort()` / `sorted()` | 中頻 | 6, 9 |\n",
    "| `sum()`, `max()`, `min()` | 高頻 | 2, 6, 9, 11 |\n",
    "| `len()` | 所有題 | 所有題 |\n",
    "| `in` 運算子 | 中頻 | 3, 8 |\n",
    "| `enumerate()` | 中頻 | 9, 12 |\n",
    "\n",
    "### 解題策略\n",
    "\n",
    "1. **基礎題**：直接使用列表操作\n",
    "2. **中級題**：組合多個列表方法\n",
    "3. **挑戰題**：\n",
    "   - 處理平行列表（習題 9）\n",
    "   - 使用迴圈建立列表（習題 10）\n",
    "   - 資料轉換與統計（習題 11）\n",
    "   - 系統化操作流程（習題 12）\n",
    "\n",
    "### 常見錯誤提醒\n",
    "\n",
    "1. **索引越界**（習題 4）：確保索引在有效範圍內\n",
    "2. **修改與回傳混淆**（習題 6）：`sort()` 修改原列表，`sorted()` 回傳新列表\n",
    "3. **平行列表對應**（習題 9）：確保兩個列表長度相同\n",
    "4. **列表拷貝**：使用 `copy()` 或切片 `[:]` 避免共用參考\n",
    "\n",
    "---\n",
    "\n",
    "## 🎯 能力檢核\n",
    "\n",
    "完成所有習題後，你應該能夠：\n",
    "\n",
    "### 基本操作\n",
    "- [x] 建立與存取列表\n",
    "- [x] 使用切片取得子列表\n",
    "- [x] 修改列表元素\n",
    "- [x] 檢查元素是否存在\n",
    "\n",
    "### 列表方法\n",
    "- [x] 使用 append、extend、insert 新增元素\n",
    "- [x] 使用 remove、pop 刪除元素\n",
    "- [x] 使用 sort、sorted 排序列表\n",
    "- [x] 使用 index、count 搜尋元素\n",
    "\n",
    "### 進階應用\n",
    "- [x] 使用 for 迴圈遍歷與處理列表\n",
    "- [x] 過濾與轉換列表資料\n",
    "- [x] 處理平行列表\n",
    "- [x] 解決實際問題（成績管理、待辦清單等）\n",
    "\n",
    "---\n",
    "\n",
    "## 🚀 進階挑戰\n",
    "\n",
    "如果你已經完全掌握所有習題，可以嘗試：\n",
    "\n",
    "1. **擴展習題 9**：加入不及格名單、成績分布統計\n",
    "2. **擴展習題 11**：計算溫差、預測趨勢\n",
    "3. **擴展習題 12**：加入任務優先級、完成時間\n",
    "4. **自創問題**：設計圖書館借閱系統、學生選課系統\n",
    "\n",
    "---\n",
    "\n",
    "## 📚 下一步\n",
    "\n",
    "完成習題與解答後，請繼續：\n",
    "1. `quiz.ipynb` - 自我測驗（檢核學習成效）\n",
    "2. **Chapter 8: 元組** - 學習不可變的序列資料\n",
    "3. **Milestone 3: 成績管理系統** - 綜合應用列表處理資料"
   ]
  }
 ],
 "metadata": {
  "kernelspec": {
   "display_name": "Python 3",
   "language": "python",
   "name": "python3"
  },
  "language_info": {
   "name": "python",
   "version": "3.8.0"
  }
 },
 "nbformat": 4,
 "nbformat_minor": 4
}
