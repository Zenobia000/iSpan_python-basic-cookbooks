{
 "cells": [
  {
   "cell_type": "markdown",
   "metadata": {},
   "source": [
    "# Chapter 2: 運算子與表達式 | Operators and Expressions\n",
    "\n",
    "## ✅ 習題解答 | Solutions\n",
    "\n",
    "本檔案提供 `04-exercises.ipynb` 所有 12 題的完整解答與詳解。\n",
    "\n",
    "**使用建議**：\n",
    "1. 先自行完成習題再參考解答\n",
    "2. 對照自己的答案，理解不同解法\n",
    "3. 注意解題思路與重點說明\n",
    "\n",
    "---"
   ]
  },
  {
   "cell_type": "markdown",
   "metadata": {},
   "source": [
    "## 📘 基礎題解答（1-4）\n",
    "\n",
    "### 習題 1：基本運算 ⭐\n",
    "\n",
    "**解答**："
   ]
  },
  {
   "cell_type": "code",
   "execution_count": null,
   "metadata": {},
   "outputs": [],
   "source": [
    "# 習題 1 解答\n",
    "print(\"1. 123 + 456 =\", 123 + 456)\n",
    "print(\"2. 789 - 234 =\", 789 - 234)\n",
    "print(\"3. 12 × 13 =\", 12 * 13)\n",
    "print(\"4. 144 ÷ 12 =\", 144 / 12)\n",
    "print(\"5. 17 的 3 次方 =\", 17 ** 3)"
   ]
  },
  {
   "cell_type": "markdown",
   "metadata": {},
   "source": [
    "**重點**：\n",
    "- 注意 `/` 運算結果為 float（144 / 12 = 12.0）\n",
    "- 指數使用 `**` 而非 `^`"
   ]
  },
  {
   "cell_type": "markdown",
   "metadata": {},
   "source": [
    "---\n",
    "\n",
    "### 習題 2：整除與取模 ⭐\n",
    "\n",
    "**解答**："
   ]
  },
  {
   "cell_type": "code",
   "execution_count": null,
   "metadata": {},
   "outputs": [],
   "source": [
    "# 習題 2 解答\n",
    "total_candies = 47\n",
    "children = 6\n",
    "\n",
    "per_child = total_candies // children  # 整除\n",
    "leftover = total_candies % children     # 取餘數\n",
    "\n",
    "print(f\"每人分到 {per_child} 顆，剩下 {leftover} 顆\")\n",
    "\n",
    "# 驗證：7 × 6 + 5 = 47\n",
    "print(f\"驗證：{per_child} × {children} + {leftover} = {per_child * children + leftover}\")"
   ]
  },
  {
   "cell_type": "markdown",
   "metadata": {},
   "source": [
    "**重點**：\n",
    "- `//` 取商（每人分到的數量）\n",
    "- `%` 取餘數（剩餘的數量）\n",
    "- 驗證：商 × 除數 + 餘數 = 被除數"
   ]
  },
  {
   "cell_type": "markdown",
   "metadata": {},
   "source": [
    "---\n",
    "\n",
    "### 習題 3：比較大小 ⭐\n",
    "\n",
    "**解答**："
   ]
  },
  {
   "cell_type": "code",
   "execution_count": null,
   "metadata": {},
   "outputs": [],
   "source": [
    "# 習題 3 解答\n",
    "a = 25\n",
    "b = 30\n",
    "c = 25\n",
    "\n",
    "print(f\"a = {a}, b = {b}, c = {c}\")\n",
    "print(f\"1. a == c: {a == c}\")   # True\n",
    "print(f\"2. a < b: {a < b}\")      # True\n",
    "print(f\"3. b >= 30: {b >= 30}\")  # True\n",
    "print(f\"4. a != b: {a != b}\")    # True\n",
    "print(f\"5. c <= a: {c <= a}\")    # True"
   ]
  },
  {
   "cell_type": "markdown",
   "metadata": {},
   "source": [
    "**重點**：\n",
    "- `==` 判斷相等（兩個等號）\n",
    "- `!=` 判斷不等於\n",
    "- `<=` 小於等於（≤）"
   ]
  },
  {
   "cell_type": "markdown",
   "metadata": {},
   "source": [
    "---\n",
    "\n",
    "### 習題 4：邏輯判斷 ⭐\n",
    "\n",
    "**解答**："
   ]
  },
  {
   "cell_type": "code",
   "execution_count": null,
   "metadata": {},
   "outputs": [],
   "source": [
    "# 習題 4 解答\n",
    "x = True\n",
    "y = False\n",
    "\n",
    "print(f\"x = {x}, y = {y}\")\n",
    "print(f\"1. x and y: {x and y}\")       # False\n",
    "print(f\"2. x or y: {x or y}\")         # True\n",
    "print(f\"3. not x: {not x}\")           # False\n",
    "print(f\"4. not y: {not y}\")           # True\n",
    "print(f\"5. x and not y: {x and not y}\")  # True"
   ]
  },
  {
   "cell_type": "markdown",
   "metadata": {},
   "source": [
    "**重點**：\n",
    "- `and`：兩者皆真才為真\n",
    "- `or`：一者為真即為真\n",
    "- `not`：取反"
   ]
  },
  {
   "cell_type": "markdown",
   "metadata": {},
   "source": [
    "---\n",
    "\n",
    "## 📙 中級題解答（5-8）\n",
    "\n",
    "### 習題 5：溫度轉換 ⭐⭐\n",
    "\n",
    "**解答**："
   ]
  },
  {
   "cell_type": "code",
   "execution_count": null,
   "metadata": {},
   "outputs": [],
   "source": [
    "# 習題 5 解答\n",
    "fahrenheit = 86\n",
    "\n",
    "# 轉換公式：C = (F - 32) × 5/9\n",
    "celsius = (fahrenheit - 32) * 5 / 9\n",
    "\n",
    "# 判斷是否超過 30°C\n",
    "is_hot = celsius > 30\n",
    "\n",
    "# 輸出結果\n",
    "print(f\"華氏溫度: {fahrenheit}°F\")\n",
    "print(f\"攝氏溫度: {celsius:.1f}°C\")\n",
    "print(f\"超過 30°C: {is_hot}\")"
   ]
  },
  {
   "cell_type": "markdown",
   "metadata": {},
   "source": [
    "**重點**：\n",
    "- 括號確保運算順序正確\n",
    "- `{celsius:.1f}` 保留一位小數"
   ]
  },
  {
   "cell_type": "markdown",
   "metadata": {},
   "source": [
    "---\n",
    "\n",
    "### 習題 6：密碼強度檢查 ⭐⭐\n",
    "\n",
    "**解答**："
   ]
  },
  {
   "cell_type": "code",
   "execution_count": null,
   "metadata": {},
   "outputs": [],
   "source": [
    "# 習題 6 解答\n",
    "password_length = 10\n",
    "has_number = True\n",
    "has_letter = True\n",
    "\n",
    "# 檢查強度：長度 >= 8 且 有數字 且 有字母\n",
    "is_strong = (password_length >= 8) and has_number and has_letter\n",
    "\n",
    "print(f\"密碼長度: {password_length}\")\n",
    "print(f\"包含數字: {has_number}\")\n",
    "print(f\"包含字母: {has_letter}\")\n",
    "print(f\"密碼強度足夠: {is_strong}\")"
   ]
  },
  {
   "cell_type": "markdown",
   "metadata": {},
   "source": [
    "**重點**：\n",
    "- 使用 `and` 連接多個條件\n",
    "- 所有條件都要滿足"
   ]
  },
  {
   "cell_type": "markdown",
   "metadata": {},
   "source": [
    "---\n",
    "\n",
    "### 習題 7：三角形判斷 ⭐⭐\n",
    "\n",
    "**解答**："
   ]
  },
  {
   "cell_type": "code",
   "execution_count": null,
   "metadata": {},
   "outputs": [],
   "source": [
    "# 習題 7 解答\n",
    "a = 3\n",
    "b = 4\n",
    "c = 5\n",
    "\n",
    "# 三角形條件：任意兩邊之和大於第三邊\n",
    "condition1 = a + b > c\n",
    "condition2 = a + c > b\n",
    "condition3 = b + c > a\n",
    "\n",
    "# 三個條件都要滿足\n",
    "is_triangle = condition1 and condition2 and condition3\n",
    "\n",
    "print(f\"邊長: a={a}, b={b}, c={c}\")\n",
    "print(f\"a + b > c: {condition1}\")\n",
    "print(f\"a + c > b: {condition2}\")\n",
    "print(f\"b + c > a: {condition3}\")\n",
    "print(f\"\\n能構成三角形: {is_triangle}\")"
   ]
  },
  {
   "cell_type": "markdown",
   "metadata": {},
   "source": [
    "**重點**：\n",
    "- 三個條件都要檢查\n",
    "- 使用 `and` 連接（3, 4, 5 是直角三角形）"
   ]
  },
  {
   "cell_type": "markdown",
   "metadata": {},
   "source": [
    "---\n",
    "\n",
    "### 習題 8：年份判斷 ⭐⭐\n",
    "\n",
    "**解答**："
   ]
  },
  {
   "cell_type": "code",
   "execution_count": null,
   "metadata": {},
   "outputs": [],
   "source": [
    "# 習題 8 解答\n",
    "year = 2000\n",
    "\n",
    "# 判斷世紀年：能被 100 整除\n",
    "is_century = (year % 100 == 0)\n",
    "\n",
    "# 判斷世紀閏年：能被 400 整除\n",
    "is_century_leap_year = (year % 400 == 0)\n",
    "\n",
    "print(f\"年份: {year}\")\n",
    "print(f\"是世紀年: {is_century}\")\n",
    "print(f\"是世紀閏年: {is_century_leap_year}\")\n",
    "\n",
    "# 測試其他年份\n",
    "print(\"\\n測試其他年份：\")\n",
    "for test_year in [1900, 2000, 2100]:\n",
    "    is_leap = (test_year % 400 == 0)\n",
    "    print(f\"{test_year}: {is_leap}\")"
   ]
  },
  {
   "cell_type": "markdown",
   "metadata": {},
   "source": [
    "**重點**：\n",
    "- 世紀年：1900, 2000, 2100...\n",
    "- 世紀閏年：只有能被 400 整除的（2000 是，1900 不是）"
   ]
  },
  {
   "cell_type": "markdown",
   "metadata": {},
   "source": [
    "---\n",
    "\n",
    "## 📕 挑戰題解答（9-12）\n",
    "\n",
    "### 習題 9：停車費計算 ⭐⭐⭐\n",
    "\n",
    "**解答 1（使用條件判斷）**："
   ]
  },
  {
   "cell_type": "code",
   "execution_count": null,
   "metadata": {},
   "outputs": [],
   "source": [
    "# 習題 9 解答（方法 1）\n",
    "hours = 5\n",
    "\n",
    "# 分段計算\n",
    "if hours <= 1:\n",
    "    fee = 30\n",
    "elif hours <= 4:\n",
    "    fee = 30 + (hours - 1) * 20\n",
    "else:\n",
    "    fee = 30 + 3 * 20 + (hours - 4) * 10\n",
    "\n",
    "print(f\"停車 {hours} 小時，應付: ${fee} 元\")"
   ]
  },
  {
   "cell_type": "markdown",
   "metadata": {},
   "source": [
    "**解答 2（數學計算）**："
   ]
  },
  {
   "cell_type": "code",
   "execution_count": null,
   "metadata": {},
   "outputs": [],
   "source": [
    "# 習題 9 解答（方法 2：純數學）\n",
    "hours = 5\n",
    "\n",
    "# 計算邏輯：\n",
    "# 第 1 小時：30\n",
    "# 第 2-4 小時：min(hours-1, 3) × 20\n",
    "# 第 5 小時起：max(hours-4, 0) × 10\n",
    "\n",
    "first_hour = 30\n",
    "hours_2_to_4 = min(max(hours - 1, 0), 3) * 20\n",
    "hours_5_plus = max(hours - 4, 0) * 10\n",
    "\n",
    "fee = first_hour + hours_2_to_4 + hours_5_plus\n",
    "\n",
    "print(f\"停車 {hours} 小時\")\n",
    "print(f\"第 1 小時: ${first_hour}\")\n",
    "print(f\"第 2-4 小時: ${hours_2_to_4}\")\n",
    "print(f\"第 5 小時起: ${hours_5_plus}\")\n",
    "print(f\"總計: ${fee}\")"
   ]
  },
  {
   "cell_type": "markdown",
   "metadata": {},
   "source": [
    "**重點**：\n",
    "- 方法 1 較直觀易懂\n",
    "- 方法 2 使用數學函數 `min`, `max`"
   ]
  },
  {
   "cell_type": "markdown",
   "metadata": {},
   "source": [
    "---\n",
    "\n",
    "### 習題 10：等級評分 ⭐⭐⭐\n",
    "\n",
    "**解答**："
   ]
  },
  {
   "cell_type": "code",
   "execution_count": null,
   "metadata": {},
   "outputs": [],
   "source": [
    "# 習題 10 解答\n",
    "score = 85\n",
    "\n",
    "# 判斷各等級\n",
    "is_A = 90 <= score <= 100\n",
    "is_B = 80 <= score < 90\n",
    "is_C = 70 <= score < 80\n",
    "is_D = 60 <= score < 70\n",
    "is_F = 0 <= score < 60\n",
    "\n",
    "print(f\"分數: {score}\")\n",
    "print(f\"A (90-100): {is_A}\")\n",
    "print(f\"B (80-89): {is_B}\")\n",
    "print(f\"C (70-79): {is_C}\")\n",
    "print(f\"D (60-69): {is_D}\")\n",
    "print(f\"F (0-59): {is_F}\")"
   ]
  },
  {
   "cell_type": "markdown",
   "metadata": {},
   "source": [
    "**重點**：\n",
    "- 使用連鎖比較：`80 <= score < 90`\n",
    "- 只有一個會是 True（互斥條件）"
   ]
  },
  {
   "cell_type": "markdown",
   "metadata": {},
   "source": [
    "---\n",
    "\n",
    "### 習題 11：日期計算 ⭐⭐⭐\n",
    "\n",
    "**解答**："
   ]
  },
  {
   "cell_type": "code",
   "execution_count": null,
   "metadata": {},
   "outputs": [],
   "source": [
    "# 習題 11 解答\n",
    "total_seconds = 10000\n",
    "\n",
    "# 逐步分解\n",
    "days = total_seconds // 86400\n",
    "remaining = total_seconds % 86400\n",
    "\n",
    "hours = remaining // 3600\n",
    "remaining = remaining % 3600\n",
    "\n",
    "minutes = remaining // 60\n",
    "seconds = remaining % 60\n",
    "\n",
    "print(f\"{total_seconds} 秒 =\")\n",
    "print(f\"{days} 天 {hours} 小時 {minutes} 分鐘 {seconds} 秒\")\n",
    "print(f\"格式化: {days}d {hours:02d}:{minutes:02d}:{seconds:02d}\")"
   ]
  },
  {
   "cell_type": "markdown",
   "metadata": {},
   "source": [
    "**簡化版本**："
   ]
  },
  {
   "cell_type": "code",
   "execution_count": null,
   "metadata": {},
   "outputs": [],
   "source": [
    "# 習題 11 解答（簡化版）\n",
    "total_seconds = 10000\n",
    "\n",
    "days = total_seconds // 86400\n",
    "hours = (total_seconds % 86400) // 3600\n",
    "minutes = (total_seconds % 3600) // 60\n",
    "seconds = total_seconds % 60\n",
    "\n",
    "print(f\"{total_seconds} 秒 = {days}d {hours:02d}:{minutes:02d}:{seconds:02d}\")"
   ]
  },
  {
   "cell_type": "markdown",
   "metadata": {},
   "source": [
    "**重點**：\n",
    "- 逐級分解：天 → 小時 → 分鐘 → 秒\n",
    "- 每次使用 `//` 取商，`%` 取餘數"
   ]
  },
  {
   "cell_type": "markdown",
   "metadata": {},
   "source": [
    "---\n",
    "\n",
    "### 習題 12：BMI 完整程式 ⭐⭐⭐\n",
    "\n",
    "**解答**："
   ]
  },
  {
   "cell_type": "code",
   "execution_count": null,
   "metadata": {},
   "outputs": [],
   "source": [
    "# 習題 12 解答\n",
    "weight_kg = 70\n",
    "height_cm = 170\n",
    "\n",
    "# 步驟 1：單位轉換（cm → m）\n",
    "height_m = height_cm / 100\n",
    "\n",
    "# 步驟 2：計算 BMI\n",
    "bmi = weight_kg / (height_m ** 2)\n",
    "\n",
    "# 步驟 3：判斷健康狀況\n",
    "is_underweight = bmi < 18.5\n",
    "is_normal = 18.5 <= bmi < 24\n",
    "is_overweight = 24 <= bmi < 27\n",
    "is_obese = bmi >= 27\n",
    "\n",
    "# 步驟 4：計算標準體重範圍\n",
    "# BMI = 體重 / 身高², 所以體重 = BMI × 身高²\n",
    "min_normal_weight = 18.5 * (height_m ** 2)\n",
    "max_normal_weight = 24 * (height_m ** 2)\n",
    "\n",
    "# 輸出完整報告\n",
    "print(\"=== BMI 健康報告 ===\")\n",
    "print(f\"體重: {weight_kg} kg\")\n",
    "print(f\"身高: {height_cm} cm ({height_m} m)\")\n",
    "print(f\"\\nBMI: {bmi:.2f}\")\n",
    "\n",
    "print(f\"\\n健康狀況：\")\n",
    "print(f\"體重過輕 (< 18.5): {is_underweight}\")\n",
    "print(f\"正常範圍 (18.5-24): {is_normal}\")\n",
    "print(f\"過重 (24-27): {is_overweight}\")\n",
    "print(f\"肥胖 (≥ 27): {is_obese}\")\n",
    "\n",
    "print(f\"\\n標準體重範圍: {min_normal_weight:.1f} - {max_normal_weight:.1f} kg\")\n",
    "\n",
    "# 額外：計算與標準體重的差距\n",
    "if is_underweight:\n",
    "    diff = min_normal_weight - weight_kg\n",
    "    print(f\"建議增重: {diff:.1f} kg\")\n",
    "elif is_overweight or is_obese:\n",
    "    diff = weight_kg - max_normal_weight\n",
    "    print(f\"建議減重: {diff:.1f} kg\")\n",
    "else:\n",
    "    print(f\"體重正常，請保持！\")"
   ]
  },
  {
   "cell_type": "markdown",
   "metadata": {},
   "source": [
    "**重點**：\n",
    "1. **單位轉換**：170 cm = 1.7 m\n",
    "2. **BMI 計算**：體重 ÷ 身高²\n",
    "3. **範圍判斷**：使用連鎖比較\n",
    "4. **反推公式**：體重 = BMI × 身高²"
   ]
  },
  {
   "cell_type": "markdown",
   "metadata": {},
   "source": [
    "---\n",
    "\n",
    "## 📊 學習總結\n",
    "\n",
    "### 運算子使用統計\n",
    "\n",
    "| 運算子 | 使用次數 | 關鍵習題 |\n",
    "|:-------|:--------:|:---------|\n",
    "| `+`, `-`, `*`, `/` | 全部 | 習題 1, 5, 12 |\n",
    "| `//`, `%` | 高頻 | 習題 2, 7, 8, 9, 11 |\n",
    "| `**` | 中頻 | 習題 1, 12 |\n",
    "| 比較運算 | 全部 | 習題 3, 5-12 |\n",
    "| `and`, `or` | 高頻 | 習題 4, 6, 7, 10 |\n",
    "| 連鎖比較 | 常用 | 習題 6, 10, 12 |\n",
    "\n",
    "### 解題策略\n",
    "\n",
    "1. **基礎題**：直接套用運算子\n",
    "2. **中級題**：組合多個運算子\n",
    "3. **挑戰題**：\n",
    "   - 分解問題（習題 11, 12）\n",
    "   - 多種解法（習題 9）\n",
    "   - 公式推導（習題 12）\n",
    "\n",
    "### 常見錯誤提醒\n",
    "\n",
    "1. **忘記單位轉換**（習題 12：cm → m）\n",
    "2. **運算順序錯誤**（習題 5：需要括號）\n",
    "3. **邏輯運算錯誤**（習題 6, 7：and/or 使用）\n",
    "4. **範圍判斷遺漏**（習題 10：互斥條件）\n",
    "\n",
    "---\n",
    "\n",
    "## 🎯 能力檢核\n",
    "\n",
    "完成所有習題後，你應該能夠：\n",
    "\n",
    "### 算術運算\n",
    "- [x] 正確使用七種算術運算子\n",
    "- [x] 理解整除與取模的應用\n",
    "- [x] 處理運算子優先順序\n",
    "\n",
    "### 比較與邏輯\n",
    "- [x] 構建比較表達式\n",
    "- [x] 使用邏輯運算子組合條件\n",
    "- [x] 應用連鎖比較簡化程式碼\n",
    "\n",
    "### 問題解決\n",
    "- [x] 分解複雜問題\n",
    "- [x] 使用運算子解決實際問題\n",
    "- [x] 驗證計算結果的正確性\n",
    "\n",
    "---\n",
    "\n",
    "## 🚀 進階挑戰\n",
    "\n",
    "如果你已經完全掌握所有習題，可以嘗試：\n",
    "\n",
    "1. **擴展習題 9**：加入會員折扣、離峰優惠\n",
    "2. **擴展習題 12**：計算理想體重、體脂率\n",
    "3. **自創問題**：用運算子解決你生活中的計算問題\n",
    "\n",
    "---\n",
    "\n",
    "## 📚 下一步\n",
    "\n",
    "完成習題與解答後，請繼續：\n",
    "1. `quiz.ipynb` - 自我測驗（檢核學習成效）\n",
    "2. **Chapter 3: 輸入輸出** - 與使用者互動"
   ]
  }
 ],
 "metadata": {
  "kernelspec": {
   "display_name": "Python 3",
   "language": "python",
   "name": "python3"
  },
  "language_info": {
   "name": "python",
   "version": "3.8.0"
  }
 },
 "nbformat": 4,
 "nbformat_minor": 4
}
