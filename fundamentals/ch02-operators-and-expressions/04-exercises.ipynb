{
 "cells": [
  {
   "cell_type": "markdown",
   "metadata": {},
   "source": [
    "# Chapter 2: 運算子與表達式 | Operators and Expressions\n",
    "\n",
    "## ✍️ 課後習題 | Exercises\n",
    "\n",
    "本檔案包含 12 道課後習題，分為三個難度等級：\n",
    "- **基礎題**（1-4）：基本運算子應用\n",
    "- **中級題**（5-8）：複合運算與邏輯判斷\n",
    "- **挑戰題**（9-12）：實際問題解決\n",
    "\n",
    "**完成建議**：\n",
    "1. 依序完成，不要跳題\n",
    "2. 先獨立思考，再參考解答\n",
    "3. 確保程式能正確執行\n",
    "4. 嘗試用不同方法解題\n",
    "\n",
    "**預計完成時間**：60-90 分鐘\n",
    "\n",
    "---"
   ]
  },
  {
   "cell_type": "markdown",
   "metadata": {},
   "source": [
    "## 📘 基礎題（1-4）\n",
    "\n",
    "### 習題 1：基本運算 ⭐\n",
    "\n",
    "**題目**：\n",
    "計算以下數學表達式並輸出結果：\n",
    "1. 123 + 456\n",
    "2. 789 - 234\n",
    "3. 12 × 13\n",
    "4. 144 ÷ 12\n",
    "5. 17 的 3 次方\n",
    "\n",
    "**要求**：每個結果佔一行輸出"
   ]
  },
  {
   "cell_type": "code",
   "execution_count": null,
   "metadata": {},
   "outputs": [],
   "source": [
    "# 在此撰寫程式碼\n"
   ]
  },
  {
   "cell_type": "markdown",
   "metadata": {},
   "source": [
    "---\n",
    "\n",
    "### 習題 2：整除與取模 ⭐\n",
    "\n",
    "**題目**：\n",
    "有 47 顆糖果要平分給 6 個小朋友。\n",
    "\n",
    "**要求**：\n",
    "1. 計算每人可以分到幾顆\n",
    "2. 計算會剩下幾顆\n",
    "3. 用一句話輸出結果（如：\"每人分到 X 顆，剩下 Y 顆\"）"
   ]
  },
  {
   "cell_type": "code",
   "execution_count": null,
   "metadata": {},
   "outputs": [],
   "source": [
    "# 在此撰寫程式碼\n"
   ]
  },
  {
   "cell_type": "markdown",
   "metadata": {},
   "source": [
    "---\n",
    "\n",
    "### 習題 3：比較大小 ⭐\n",
    "\n",
    "**題目**：\n",
    "有三個數字：`a = 25`, `b = 30`, `c = 25`\n",
    "\n",
    "**要求**：判斷並輸出（True/False）：\n",
    "1. a 等於 c\n",
    "2. a 小於 b\n",
    "3. b 大於等於 30\n",
    "4. a 不等於 b\n",
    "5. c 小於等於 a"
   ]
  },
  {
   "cell_type": "code",
   "execution_count": null,
   "metadata": {},
   "outputs": [],
   "source": [
    "# 在此撰寫程式碼\n"
   ]
  },
  {
   "cell_type": "markdown",
   "metadata": {},
   "source": [
    "---\n",
    "\n",
    "### 習題 4：邏輯判斷 ⭐\n",
    "\n",
    "**題目**：\n",
    "根據以下條件判斷是否為真：\n",
    "- `x = True`\n",
    "- `y = False`\n",
    "\n",
    "**要求**：計算並輸出：\n",
    "1. x and y\n",
    "2. x or y\n",
    "3. not x\n",
    "4. not y\n",
    "5. x and not y"
   ]
  },
  {
   "cell_type": "code",
   "execution_count": null,
   "metadata": {},
   "outputs": [],
   "source": [
    "# 在此撰寫程式碼\n"
   ]
  },
  {
   "cell_type": "markdown",
   "metadata": {},
   "source": [
    "---\n",
    "\n",
    "## 📙 中級題（5-8）\n",
    "\n",
    "### 習題 5：溫度轉換 ⭐⭐\n",
    "\n",
    "**題目**：\n",
    "將華氏溫度轉換為攝氏溫度。\n",
    "\n",
    "**公式**：`C = (F - 32) × 5/9`\n",
    "\n",
    "**要求**：\n",
    "1. 給定華氏溫度 `F = 86`\n",
    "2. 計算對應的攝氏溫度\n",
    "3. 判斷是否超過 30°C（is_hot）\n",
    "4. 輸出結果（保留一位小數）"
   ]
  },
  {
   "cell_type": "code",
   "execution_count": null,
   "metadata": {},
   "outputs": [],
   "source": [
    "# 在此撰寫程式碼\n"
   ]
  },
  {
   "cell_type": "markdown",
   "metadata": {},
   "source": [
    "---\n",
    "\n",
    "### 習題 6：密碼強度檢查 ⭐⭐\n",
    "\n",
    "**題目**：\n",
    "檢查密碼是否符合安全標準。\n",
    "\n",
    "**標準**：\n",
    "- 長度至少 8 個字元\n",
    "- 包含數字 **且** 包含字母\n",
    "\n",
    "**要求**：\n",
    "給定以下變數：\n",
    "```python\n",
    "password_length = 10\n",
    "has_number = True\n",
    "has_letter = True\n",
    "```\n",
    "判斷密碼是否安全（is_strong）"
   ]
  },
  {
   "cell_type": "code",
   "execution_count": null,
   "metadata": {},
   "outputs": [],
   "source": [
    "# 在此撰寫程式碼\n"
   ]
  },
  {
   "cell_type": "markdown",
   "metadata": {},
   "source": [
    "---\n",
    "\n",
    "### 習題 7：三角形判斷 ⭐⭐\n",
    "\n",
    "**題目**：\n",
    "判斷三個邊長能否構成三角形。\n",
    "\n",
    "**三角形條件**：任意兩邊之和大於第三邊\n",
    "- a + b > c\n",
    "- a + c > b\n",
    "- b + c > a\n",
    "\n",
    "**要求**：\n",
    "給定 `a = 3`, `b = 4`, `c = 5`，判斷是否能構成三角形"
   ]
  },
  {
   "cell_type": "code",
   "execution_count": null,
   "metadata": {},
   "outputs": [],
   "source": [
    "# 在此撰寫程式碼\n"
   ]
  },
  {
   "cell_type": "markdown",
   "metadata": {},
   "source": [
    "---\n",
    "\n",
    "### 習題 8：年份判斷 ⭐⭐\n",
    "\n",
    "**題目**：\n",
    "判斷一個年份是否為世紀年（能被 100 整除）且是閏年。\n",
    "\n",
    "**閏年規則**：能被 400 整除\n",
    "\n",
    "**要求**：\n",
    "1. 給定 `year = 2000`\n",
    "2. 判斷是否為世紀年（is_century）\n",
    "3. 判斷是否為世紀閏年（is_century_leap_year）\n",
    "4. 輸出結果"
   ]
  },
  {
   "cell_type": "code",
   "execution_count": null,
   "metadata": {},
   "outputs": [],
   "source": [
    "# 在此撰寫程式碼\n"
   ]
  },
  {
   "cell_type": "markdown",
   "metadata": {},
   "source": [
    "---\n",
    "\n",
    "## 📕 挑戰題（9-12）\n",
    "\n",
    "### 習題 9：停車費計算 ⭐⭐⭐\n",
    "\n",
    "**題目**：\n",
    "停車場收費標準：\n",
    "- 第 1 小時：30 元\n",
    "- 第 2-4 小時：每小時 20 元\n",
    "- 第 5 小時起：每小時 10 元\n",
    "- 不足 1 小時以 1 小時計算\n",
    "\n",
    "**要求**：\n",
    "給定停車時間 `hours = 5`，計算應付金額\n",
    "\n",
    "**提示**：可以用數學運算或條件判斷"
   ]
  },
  {
   "cell_type": "code",
   "execution_count": null,
   "metadata": {},
   "outputs": [],
   "source": [
    "# 在此撰寫程式碼\n"
   ]
  },
  {
   "cell_type": "markdown",
   "metadata": {},
   "source": [
    "---\n",
    "\n",
    "### 習題 10：等級評分 ⭐⭐⭐\n",
    "\n",
    "**題目**：\n",
    "根據分數判斷等級：\n",
    "- A：90-100\n",
    "- B：80-89\n",
    "- C：70-79\n",
    "- D：60-69\n",
    "- F：0-59\n",
    "\n",
    "**要求**：\n",
    "給定 `score = 85`，判斷各等級是否符合（5 個布林變數）"
   ]
  },
  {
   "cell_type": "code",
   "execution_count": null,
   "metadata": {},
   "outputs": [],
   "source": [
    "# 在此撰寫程式碼\n"
   ]
  },
  {
   "cell_type": "markdown",
   "metadata": {},
   "source": [
    "---\n",
    "\n",
    "### 習題 11：日期計算 ⭐⭐⭐\n",
    "\n",
    "**題目**：\n",
    "計算從今天開始 10000 秒後是幾天幾小時幾分幾秒。\n",
    "\n",
    "**已知**：\n",
    "- 1 天 = 86400 秒\n",
    "- 1 小時 = 3600 秒\n",
    "- 1 分鐘 = 60 秒\n",
    "\n",
    "**要求**：\n",
    "計算 `total_seconds = 10000` 等於多少天、小時、分鐘、秒"
   ]
  },
  {
   "cell_type": "code",
   "execution_count": null,
   "metadata": {},
   "outputs": [],
   "source": [
    "# 在此撰寫程式碼\n"
   ]
  },
  {
   "cell_type": "markdown",
   "metadata": {},
   "source": [
    "---\n",
    "\n",
    "### 習題 12：BMI 完整程式 ⭐⭐⭐\n",
    "\n",
    "**題目**：\n",
    "建立完整的 BMI 計算與判斷程式。\n",
    "\n",
    "**要求**：\n",
    "1. 給定體重（kg）和身高（cm）\n",
    "2. 計算 BMI（注意身高單位轉換）\n",
    "3. 判斷健康狀況（過輕/正常/過重/肥胖）\n",
    "4. 計算標準體重範圍（BMI 18.5-24 對應的體重）\n",
    "5. 輸出完整報告\n",
    "\n",
    "**測試數據**：\n",
    "- 體重：70 kg\n",
    "- 身高：170 cm"
   ]
  },
  {
   "cell_type": "code",
   "execution_count": null,
   "metadata": {},
   "outputs": [],
   "source": [
    "# 在此撰寫程式碼\n"
   ]
  },
  {
   "cell_type": "markdown",
   "metadata": {},
   "source": [
    "---\n",
    "\n",
    "## 🎯 完成檢核\n",
    "\n",
    "完成所有習題後，請確認：\n",
    "\n",
    "### 基礎能力\n",
    "- [ ] 能正確使用算術運算子（習題 1-2）\n",
    "- [ ] 能正確使用比較運算子（習題 3）\n",
    "- [ ] 能正確使用邏輯運算子（習題 4）\n",
    "\n",
    "### 進階能力\n",
    "- [ ] 能組合多個運算子解決問題（習題 5-6）\n",
    "- [ ] 能構建複雜的邏輯條件（習題 7-8）\n",
    "\n",
    "### 應用能力\n",
    "- [ ] 能解決實際生活問題（習題 9-10）\n",
    "- [ ] 能處理複雜的數值計算（習題 11-12）\n",
    "\n",
    "---\n",
    "\n",
    "## 📚 學習建議\n",
    "\n",
    "1. **做完一題檢查一題**：不要等全部做完才檢查\n",
    "2. **對照解答學習**：理解不同的解題思路\n",
    "3. **嘗試優化**：思考是否有更簡潔的寫法\n",
    "4. **舉一反三**：嘗試修改題目條件，重新計算\n",
    "\n",
    "---\n",
    "\n",
    "## 🔗 相關檔案\n",
    "\n",
    "- `05-solutions.ipynb` - 完整解答與詳解\n",
    "- `quiz.ipynb` - 自我測驗（檢核學習成效）"
   ]
  }
 ],
 "metadata": {
  "kernelspec": {
   "display_name": "Python 3",
   "language": "python",
   "name": "python3"
  },
  "language_info": {
   "name": "python",
   "version": "3.8.0"
  }
 },
 "nbformat": 4,
 "nbformat_minor": 4
}
