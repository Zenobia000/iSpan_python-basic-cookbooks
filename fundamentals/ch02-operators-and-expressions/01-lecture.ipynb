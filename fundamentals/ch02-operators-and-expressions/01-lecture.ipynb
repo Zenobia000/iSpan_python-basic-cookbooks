{
 "cells": [
  {
   "cell_type": "markdown",
   "metadata": {},
   "source": [
    "# Chapter 2: 運算子與表達式 | Operators and Expressions\n",
    "\n",
    "## 📖 講義 | Lecture Notes\n",
    "\n",
    "---\n",
    "\n",
    "## Part I: 理論基礎 | Theoretical Foundations"
   ]
  },
  {
   "cell_type": "markdown",
   "metadata": {},
   "source": [
    "### 📚 章節概覽（Chapter Overview）\n",
    "\n",
    "#### 學習目標（Learning Objectives）\n",
    "完成本章後，您將能夠：\n",
    "1. 掌握 Python 的三大運算子類別：算術、比較、邏輯\n",
    "2. 理解運算子優先順序與結合律\n",
    "3. 構建並求值複雜表達式\n",
    "4. 應用短路求值優化程式邏輯\n",
    "\n",
    "#### 先備知識（Prerequisites）\n",
    "- Chapter 1: 變數與資料型態\n",
    "- 理解基本的數學運算\n",
    "\n",
    "#### 預計時長（Estimated Time）\n",
    "- 理論學習：40 分鐘\n",
    "- 範例演練：20 分鐘\n",
    "- 總計：60 分鐘"
   ]
  },
  {
   "cell_type": "markdown",
   "metadata": {},
   "source": [
    "---\n",
    "\n",
    "### 🔑 核心概念（Key Concepts）\n",
    "\n",
    "#### 1. 什麼是運算子？（What are Operators?）\n",
    "\n",
    "**定義**：運算子是執行特定運算的符號，作用於運算元（operands）。\n",
    "\n",
    "**類比**：\n",
    "```\n",
    "運算子就像計算機的按鍵：\n",
    "- 數字鍵：運算元（operands）\n",
    "- 功能鍵：運算子（operators）如 +, -, *, /\n",
    "- 計算結果：表達式的值\n",
    "```\n",
    "\n",
    "#### 2. 為什麼需要運算子？（Why Operators?）\n",
    "\n",
    "**First Principles 分析**：\n",
    "1. **問題**：程式需要處理資料（計算、比較、判斷）\n",
    "2. **解法**：定義操作資料的規則\n",
    "3. **挑戰**：如何簡潔表達這些操作？\n",
    "4. **答案**：使用運算子符號（+, -, ==, and 等）"
   ]
  },
  {
   "cell_type": "markdown",
   "metadata": {},
   "source": [
    "#### 3. Python 的三大運算子類別\n",
    "\n",
    "| 類別 | 用途 | 範例 | 回傳型態 |\n",
    "|:-----|:-----|:-----|:---------|\n",
    "| 算術運算子 | 數值計算 | `3 + 5` | int/float |\n",
    "| 比較運算子 | 值的比較 | `5 > 3` | bool |\n",
    "| 邏輯運算子 | 布林運算 | `True and False` | bool |"
   ]
  },
  {
   "cell_type": "markdown",
   "metadata": {},
   "source": [
    "---\n",
    "\n",
    "## Part II: 實作演練 | Hands-on Practice"
   ]
  },
  {
   "cell_type": "markdown",
   "metadata": {},
   "source": [
    "### 💡 範例 1：算術運算子 - 基本四則運算\n",
    "\n",
    "Python 提供標準的數學運算子"
   ]
  },
  {
   "cell_type": "code",
   "execution_count": null,
   "metadata": {},
   "outputs": [],
   "source": [
    "# 加法 (+)\n",
    "result_add = 10 + 3\n",
    "print(f\"加法: 10 + 3 = {result_add}\")\n",
    "\n",
    "# 減法 (-)\n",
    "result_sub = 10 - 3\n",
    "print(f\"減法: 10 - 3 = {result_sub}\")\n",
    "\n",
    "# 乘法 (*)\n",
    "result_mul = 10 * 3\n",
    "print(f\"乘法: 10 * 3 = {result_mul}\")\n",
    "\n",
    "# 除法 (/)\n",
    "result_div = 10 / 3\n",
    "print(f\"除法: 10 / 3 = {result_div}\")  # 注意：結果為 float"
   ]
  },
  {
   "cell_type": "markdown",
   "metadata": {},
   "source": [
    "**關鍵要點**：\n",
    "- `/` 永遠回傳 float（即使整除）\n",
    "- `10 / 2` → 5.0（不是 5）"
   ]
  },
  {
   "cell_type": "markdown",
   "metadata": {},
   "source": [
    "---\n",
    "\n",
    "### 💡 範例 2：算術運算子 - 進階運算\n",
    "\n",
    "Python 特有的三種進階算術運算子"
   ]
  },
  {
   "cell_type": "code",
   "execution_count": null,
   "metadata": {},
   "outputs": [],
   "source": [
    "# 整數除法 (//)\n",
    "result_floor_div = 10 // 3\n",
    "print(f\"整數除法: 10 // 3 = {result_floor_div}\")  # 取商（去除小數）\n",
    "\n",
    "# 取模/取餘數 (%)\n",
    "result_mod = 10 % 3\n",
    "print(f\"取模: 10 % 3 = {result_mod}\")  # 取餘數\n",
    "\n",
    "# 指數/次方 (**)\n",
    "result_pow = 2 ** 3\n",
    "print(f\"指數: 2 ** 3 = {result_pow}\")  # 2 的 3 次方\n",
    "\n",
    "# 驗證：商 × 除數 + 餘數 = 被除數\n",
    "print(f\"\\n驗證: {result_floor_div} × 3 + {result_mod} = {result_floor_div * 3 + result_mod}\")"
   ]
  },
  {
   "cell_type": "markdown",
   "metadata": {},
   "source": [
    "**實際應用**："
   ]
  },
  {
   "cell_type": "code",
   "execution_count": null,
   "metadata": {},
   "outputs": [],
   "source": [
    "# 應用 1：判斷奇偶數\n",
    "number = 17\n",
    "is_even = (number % 2 == 0)\n",
    "print(f\"{number} 是偶數嗎？{is_even}\")\n",
    "\n",
    "# 應用 2：分配問題\n",
    "total_cookies = 23\n",
    "children = 5\n",
    "\n",
    "cookies_per_child = total_cookies // children\n",
    "leftover = total_cookies % children\n",
    "\n",
    "print(f\"\\n{total_cookies} 個餅乾分給 {children} 個小孩：\")\n",
    "print(f\"每人分到 {cookies_per_child} 個，剩下 {leftover} 個\")"
   ]
  },
  {
   "cell_type": "markdown",
   "metadata": {},
   "source": [
    "---\n",
    "\n",
    "### 💡 範例 3：運算子優先順序（Operator Precedence）\n",
    "\n",
    "運算子有執行的先後順序，類似數學中的運算規則"
   ]
  },
  {
   "cell_type": "code",
   "execution_count": null,
   "metadata": {},
   "outputs": [],
   "source": [
    "# 範例 1：乘法優先於加法\n",
    "result1 = 2 + 3 * 4\n",
    "print(f\"2 + 3 * 4 = {result1}\")  # 14 (先算 3*4=12, 再算 2+12)\n",
    "\n",
    "# 用括號改變順序\n",
    "result2 = (2 + 3) * 4\n",
    "print(f\"(2 + 3) * 4 = {result2}\")  # 20 (先算 2+3=5, 再算 5*4)\n",
    "\n",
    "# 範例 2：指數優先於乘法\n",
    "result3 = 2 * 3 ** 2\n",
    "print(f\"\\n2 * 3 ** 2 = {result3}\")  # 18 (先算 3**2=9, 再算 2*9)\n",
    "\n",
    "# 用括號改變順序\n",
    "result4 = (2 * 3) ** 2\n",
    "print(f\"(2 * 3) ** 2 = {result4}\")  # 36 (先算 2*3=6, 再算 6**2)"
   ]
  },
  {
   "cell_type": "markdown",
   "metadata": {},
   "source": [
    "**優先順序記憶口訣**：\n",
    "```\n",
    "括號 > 指數 > 乘除 > 加減\n",
    "( )  > **   > * / // % > + -\n",
    "```\n",
    "\n",
    "**黃金法則**：**不確定時，加括號！**"
   ]
  },
  {
   "cell_type": "markdown",
   "metadata": {},
   "source": [
    "---\n",
    "\n",
    "### 💡 範例 4：比較運算子（Comparison Operators）\n",
    "\n",
    "比較運算子用於比較兩個值，回傳 True 或 False"
   ]
  },
  {
   "cell_type": "code",
   "execution_count": null,
   "metadata": {},
   "outputs": [],
   "source": [
    "# 六種比較運算子\n",
    "a = 10\n",
    "b = 5\n",
    "\n",
    "print(f\"a = {a}, b = {b}\")\n",
    "print(f\"a > b  (大於):     {a > b}\")   # True\n",
    "print(f\"a < b  (小於):     {a < b}\")   # False\n",
    "print(f\"a >= b (大於等於): {a >= b}\")  # True\n",
    "print(f\"a <= b (小於等於): {a <= b}\")  # False\n",
    "print(f\"a == b (等於):     {a == b}\")  # False\n",
    "print(f\"a != b (不等於):   {a != b}\")  # True"
   ]
  },
  {
   "cell_type": "markdown",
   "metadata": {},
   "source": [
    "**注意事項**："
   ]
  },
  {
   "cell_type": "code",
   "execution_count": null,
   "metadata": {},
   "outputs": [],
   "source": [
    "# 1. int 與 float 可以比較\n",
    "print(f\"5 == 5.0: {5 == 5.0}\")  # True\n",
    "\n",
    "# 2. 字串按字典序（lexicographic）比較\n",
    "print(f\"\\n'apple' < 'banana': {'apple' < 'banana'}\")  # True\n",
    "print(f\"'10' < '9': {'10' < '9'}\")  # True（注意：字串比較！）\n",
    "\n",
    "# 3. Python 特有：連鎖比較\n",
    "age = 25\n",
    "print(f\"\\n18 <= {age} < 65: {18 <= age < 65}\")  # True\n",
    "# 等同於：(18 <= age) and (age < 65)"
   ]
  },
  {
   "cell_type": "markdown",
   "metadata": {},
   "source": [
    "---\n",
    "\n",
    "### 💡 範例 5：邏輯運算子（Logical Operators）\n",
    "\n",
    "邏輯運算子用於組合多個布林值"
   ]
  },
  {
   "cell_type": "code",
   "execution_count": null,
   "metadata": {},
   "outputs": [],
   "source": [
    "# and：兩者皆真才為真\n",
    "print(\"=== and 運算子 ===\")\n",
    "print(f\"True and True:   {True and True}\")    # True\n",
    "print(f\"True and False:  {True and False}\")   # False\n",
    "print(f\"False and False: {False and False}\")  # False\n",
    "\n",
    "# or：一者為真即為真\n",
    "print(\"\\n=== or 運算子 ===\")\n",
    "print(f\"True or True:   {True or True}\")      # True\n",
    "print(f\"True or False:  {True or False}\")     # True\n",
    "print(f\"False or False: {False or False}\")    # False\n",
    "\n",
    "# not：取反\n",
    "print(\"\\n=== not 運算子 ===\")\n",
    "print(f\"not True:  {not True}\")   # False\n",
    "print(f\"not False: {not False}\")  # True"
   ]
  },
  {
   "cell_type": "markdown",
   "metadata": {},
   "source": [
    "**實際應用**："
   ]
  },
  {
   "cell_type": "code",
   "execution_count": null,
   "metadata": {},
   "outputs": [],
   "source": [
    "# 範例：檢查資格\n",
    "age = 20\n",
    "has_license = True\n",
    "\n",
    "# 條件：年滿 18 歲且有駕照\n",
    "can_drive = (age >= 18) and has_license\n",
    "print(f\"年齡: {age}, 有駕照: {has_license}\")\n",
    "print(f\"可以開車嗎？{can_drive}\")\n",
    "\n",
    "# 條件：未成年或沒駕照\n",
    "cannot_drive = (age < 18) or (not has_license)\n",
    "print(f\"不能開車嗎？{cannot_drive}\")"
   ]
  },
  {
   "cell_type": "markdown",
   "metadata": {},
   "source": [
    "---\n",
    "\n",
    "### 💡 範例 6：短路求值（Short-circuit Evaluation）\n",
    "\n",
    "Python 的 and/or 運算子會在確定結果後立即停止運算"
   ]
  },
  {
   "cell_type": "code",
   "execution_count": null,
   "metadata": {},
   "outputs": [],
   "source": [
    "# and 短路：第一個為 False 時，不檢查第二個\n",
    "print(\"=== and 短路求值 ===\")\n",
    "x = 5\n",
    "result = (x < 0) and (10 / x > 2)  # x < 0 為 False，不執行 10/x\n",
    "print(f\"(x < 0) and (10 / x > 2) = {result}\")\n",
    "\n",
    "# or 短路：第一個為 True 時，不檢查第二個\n",
    "print(\"\\n=== or 短路求值 ===\")\n",
    "result = (x > 0) or (10 / x > 2)  # x > 0 為 True，不執行 10/x\n",
    "print(f\"(x > 0) or (10 / x > 2) = {result}\")"
   ]
  },
  {
   "cell_type": "markdown",
   "metadata": {},
   "source": [
    "**短路求值的應用：避免錯誤**"
   ]
  },
  {
   "cell_type": "code",
   "execution_count": null,
   "metadata": {},
   "outputs": [],
   "source": [
    "# 應用：避免除以零錯誤\n",
    "x = 0\n",
    "\n",
    "# ❌ 危險寫法（會報錯）\n",
    "# if 10 / x > 2:  # ZeroDivisionError\n",
    "#     print(\"條件成立\")\n",
    "\n",
    "# ✅ 安全寫法（利用短路求值）\n",
    "if x != 0 and 10 / x > 2:  # x != 0 為 False，不執行 10/x\n",
    "    print(\"條件成立\")\n",
    "else:\n",
    "    print(\"條件不成立或除數為零\")"
   ]
  },
  {
   "cell_type": "markdown",
   "metadata": {},
   "source": [
    "---\n",
    "\n",
    "### 💡 範例 7：複雜表達式（Complex Expressions）\n",
    "\n",
    "組合多種運算子構建複雜邏輯"
   ]
  },
  {
   "cell_type": "code",
   "execution_count": null,
   "metadata": {},
   "outputs": [],
   "source": [
    "# 範例：BMI 計算與判斷\n",
    "weight = 70  # 公斤\n",
    "height = 1.75  # 公尺\n",
    "\n",
    "# 計算 BMI\n",
    "bmi = weight / (height ** 2)\n",
    "print(f\"BMI: {bmi:.2f}\")\n",
    "\n",
    "# 判斷 BMI 範圍\n",
    "is_underweight = bmi < 18.5\n",
    "is_normal = 18.5 <= bmi < 24\n",
    "is_overweight = 24 <= bmi < 27\n",
    "is_obese = bmi >= 27\n",
    "\n",
    "print(f\"\\n體重過輕: {is_underweight}\")\n",
    "print(f\"正常範圍: {is_normal}\")\n",
    "print(f\"過重: {is_overweight}\")\n",
    "print(f\"肥胖: {is_obese}\")"
   ]
  },
  {
   "cell_type": "code",
   "execution_count": null,
   "metadata": {},
   "outputs": [],
   "source": [
    "# 範例：溫度轉換與判斷\n",
    "celsius = 25\n",
    "\n",
    "# 轉換公式：F = C × 9/5 + 32\n",
    "fahrenheit = celsius * 9 / 5 + 32\n",
    "print(f\"{celsius}°C = {fahrenheit}°F\")\n",
    "\n",
    "# 判斷天氣\n",
    "is_freezing = celsius <= 0\n",
    "is_comfortable = 15 < celsius < 28\n",
    "is_hot = celsius >= 30\n",
    "\n",
    "print(f\"\\n結冰: {is_freezing}\")\n",
    "print(f\"舒適: {is_comfortable}\")\n",
    "print(f\"炎熱: {is_hot}\")"
   ]
  },
  {
   "cell_type": "markdown",
   "metadata": {},
   "source": [
    "---\n",
    "\n",
    "### 💡 範例 8：運算子的型態限制\n",
    "\n",
    "了解哪些運算是允許的，哪些會導致錯誤"
   ]
  },
  {
   "cell_type": "code",
   "execution_count": null,
   "metadata": {},
   "outputs": [],
   "source": [
    "# ✅ 允許的運算\n",
    "print(\"=== 允許的運算 ===\")\n",
    "print(f\"3 + 5 = {3 + 5}\")           # int + int\n",
    "print(f\"3.0 + 5 = {3.0 + 5}\")       # float + int (結果為 float)\n",
    "print(f\"'hello' + 'world' = {'hello' + 'world'}\")  # str + str (串接)\n",
    "print(f\"'ha' * 3 = {'ha' * 3}\")     # str * int (重複)"
   ]
  },
  {
   "cell_type": "code",
   "execution_count": null,
   "metadata": {},
   "outputs": [],
   "source": [
    "# ❌ 不允許的運算（會報錯）\n",
    "print(\"\\n=== 不允許的運算 ===\")\n",
    "\n",
    "try:\n",
    "    result = \"3\" + 5\n",
    "except TypeError as e:\n",
    "    print(f\"錯誤 1: {e}\")\n",
    "    print(\"解法: int('3') + 5 或 '3' + str(5)\")\n",
    "\n",
    "try:\n",
    "    result = \"hello\" - \"lo\"\n",
    "except TypeError as e:\n",
    "    print(f\"\\n錯誤 2: {e}\")\n",
    "    print(\"解法: 使用字串方法 replace()\")"
   ]
  },
  {
   "cell_type": "markdown",
   "metadata": {},
   "source": [
    "---\n",
    "\n",
    "## Part III: 本章總結 | Chapter Summary"
   ]
  },
  {
   "cell_type": "markdown",
   "metadata": {},
   "source": [
    "### 📊 知識回顧\n",
    "\n",
    "#### 核心概念\n",
    "1. **算術運算子**：`+`, `-`, `*`, `/`, `//`, `%`, `**`\n",
    "2. **比較運算子**：`<`, `>`, `<=`, `>=`, `==`, `!=`\n",
    "3. **邏輯運算子**：`and`, `or`, `not`\n",
    "4. **優先順序**：括號 > 指數 > 乘除 > 加減 > 比較 > 邏輯\n",
    "5. **短路求值**：`and`/`or` 在確定結果後停止運算\n",
    "\n",
    "#### 重要語法\n",
    "```python\n",
    "# 算術運算\n",
    "result = a + b - c * d / e\n",
    "\n",
    "# 比較運算\n",
    "is_valid = x >= 0 and x <= 100\n",
    "\n",
    "# 邏輯運算\n",
    "condition = (a > 0) and (b < 10) or (c == 5)\n",
    "```\n",
    "\n",
    "#### 運算子優先順序表（完整版）\n",
    "\n",
    "| 優先級 | 運算子 | 說明 |\n",
    "|:-------|:-------|:-----|\n",
    "| 1 | `()` | 括號 |\n",
    "| 2 | `**` | 指數 |\n",
    "| 3 | `+x`, `-x` | 一元正負 |\n",
    "| 4 | `*`, `/`, `//`, `%` | 乘除運算 |\n",
    "| 5 | `+`, `-` | 加減運算 |\n",
    "| 6 | `<`, `<=`, `>`, `>=`, `==`, `!=` | 比較運算 |\n",
    "| 7 | `not` | 邏輯非 |\n",
    "| 8 | `and` | 邏輯且 |\n",
    "| 9 | `or` | 邏輯或 |"
   ]
  },
  {
   "cell_type": "markdown",
   "metadata": {},
   "source": [
    "### ⚠️ 常見誤區（Common Pitfalls）\n",
    "\n",
    "| 誤區 | 錯誤示例 | 正確做法 |\n",
    "|:-----|:---------|:---------|\n",
    "| `/` 與 `//` 混淆 | 以為 `10 / 2` 是 5 (int) | `10 / 2` → 5.0 (float) |\n",
    "| 優先順序錯誤 | `2 + 3 * 4` 誤算為 20 | 先算 `3*4=12`，再算 `2+12=14` |\n",
    "| 比較字串數字 | `\"10\" > \"9\"` 為 False | 應該 `int(\"10\") > int(\"9\")` |\n",
    "| `=` 與 `==` 混淆 | `if x = 5:` | `if x == 5:` |\n",
    "| 忘記括號 | `not x > 5` 等於 `(not x) > 5` | 應該 `not (x > 5)` |"
   ]
  },
  {
   "cell_type": "markdown",
   "metadata": {},
   "source": [
    "---\n",
    "\n",
    "### 🎯 自我檢核（Self-Check）\n",
    "\n",
    "完成本講義後，請回答以下問題：\n",
    "\n",
    "1. `10 // 3` 和 `10 % 3` 的結果分別是什麼？\n",
    "2. `2 + 3 * 4 ** 2` 的運算結果是什麼？\n",
    "3. `True and False or True` 的結果是什麼？\n",
    "4. 如何安全地檢查 `10 / x > 2`（避免 x=0 的錯誤）？\n",
    "5. `\"10\" > \"9\"` 的結果是 True 還是 False？為什麼？\n",
    "\n",
    "**參考答案**：\n",
    "1. `10 // 3` → 3（商），`10 % 3` → 1（餘數）\n",
    "2. `2 + 3 * 16` → `2 + 48` → 50\n",
    "3. `False or True` → True\n",
    "4. `x != 0 and 10 / x > 2`（短路求值）\n",
    "5. False（字串按字典序比較，\"1\" < \"9\"）"
   ]
  },
  {
   "cell_type": "markdown",
   "metadata": {},
   "source": [
    "---\n",
    "\n",
    "### 🔗 延伸閱讀（Further Reading）\n",
    "\n",
    "#### Python 官方文件\n",
    "- [Operator Precedence](https://docs.python.org/3/reference/expressions.html#operator-precedence)\n",
    "- [Expressions](https://docs.python.org/3/reference/expressions.html)\n",
    "\n",
    "#### 推薦資源\n",
    "- [Real Python: Operators and Expressions](https://realpython.com/python-operators-expressions/)\n",
    "- [Python Operator Precedence Table](https://www.mathcs.emory.edu/~valerie/courses/fall10/155/resources/op_precedence.html)\n",
    "\n",
    "#### 下一步\n",
    "- **Chapter 3: 輸入輸出** - 與使用者互動\n",
    "- **Chapter 4: 條件判斷** - 使用布林表達式控制流程\n",
    "- 完成 `02-worked-examples.ipynb` 加深理解\n",
    "- 完成 `03-practice.ipynb` 進行課堂練習"
   ]
  },
  {
   "cell_type": "markdown",
   "metadata": {},
   "source": [
    "---\n",
    "\n",
    "## 💪 即時練習（Quick Practice）\n",
    "\n",
    "請在下方 cell 完成以下任務：\n",
    "\n",
    "1. 計算圓的面積（πr²），半徑 r = 5，π 使用 3.14159\n",
    "2. 判斷一個數字是否為 3 的倍數（使用 `%`）\n",
    "3. 檢查一個人是否可以投票（年齡 >= 18 且有公民身份）\n",
    "4. 計算 50°F 等於多少攝氏度（公式：C = (F - 32) × 5/9）"
   ]
  },
  {
   "cell_type": "code",
   "execution_count": null,
   "metadata": {},
   "outputs": [],
   "source": [
    "# 在此撰寫你的程式碼\n",
    "\n",
    "# 1. 圓面積\n",
    "pi = 3.14159\n",
    "radius = 5\n",
    "area = # 請完成此運算式\n",
    "\n",
    "# 2. 是否為 3 的倍數\n",
    "number = 27\n",
    "is_multiple_of_3 = # 請完成此運算式\n",
    "\n",
    "# 3. 可以投票嗎\n",
    "age = 20\n",
    "is_citizen = True\n",
    "can_vote = # 請完成此運算式\n",
    "\n",
    "# 4. 溫度轉換\n",
    "fahrenheit = 50\n",
    "celsius = # 請完成此運算式\n",
    "\n",
    "# 顯示結果\n",
    "print(f\"圓面積: {area}\")\n",
    "print(f\"{number} 是 3 的倍數嗎？{is_multiple_of_3}\")\n",
    "print(f\"可以投票嗎？{can_vote}\")\n",
    "print(f\"{fahrenheit}°F = {celsius:.2f}°C\")"
   ]
  },
  {
   "cell_type": "markdown",
   "metadata": {},
   "source": [
    "---\n",
    "\n",
    "## 📝 課後作業預告\n",
    "\n",
    "請依序完成：\n",
    "1. `02-worked-examples.ipynb` - 詳解範例（必做）\n",
    "2. `03-practice.ipynb` - 課堂練習（必做）\n",
    "3. `04-exercises.ipynb` - 課後習題（12 題，必做）\n",
    "4. `quiz.ipynb` - 自我測驗（檢核學習成效）\n",
    "\n",
    "**預計完成時間**：2-3 小時\n",
    "\n",
    "**重點提醒**：\n",
    "- 運算子優先順序需要大量練習才能熟練\n",
    "- 不確定時，使用括號明確表達意圖\n",
    "- 注意型態一致性，避免 TypeError"
   ]
  }
 ],
 "metadata": {
  "kernelspec": {
   "display_name": "Python 3",
   "language": "python",
   "name": "python3"
  },
  "language_info": {
   "name": "python",
   "version": "3.8.0"
  }
 },
 "nbformat": 4,
 "nbformat_minor": 4
}
