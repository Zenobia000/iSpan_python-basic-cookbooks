{
 "cells": [
  {
   "cell_type": "markdown",
   "metadata": {},
   "source": [
    "# Chapter 2: 運算子與表達式 | Operators and Expressions\n",
    "\n",
    "## 🛠️ 課堂練習 | In-Class Practice\n",
    "\n",
    "本檔案包含 8 個課堂練習題，用於即時檢驗理解程度。\n",
    "\n",
    "**使用方式**：\n",
    "1. 閱讀每題的問題描述\n",
    "2. 在提供的 code cell 中撰寫程式碼\n",
    "3. 執行並檢查結果\n",
    "4. 參考提示（如果卡住）\n",
    "\n",
    "**預計完成時間**：30 分鐘\n",
    "\n",
    "---"
   ]
  },
  {
   "cell_type": "markdown",
   "metadata": {},
   "source": [
    "## 練習 1：基本算術運算 ⭐\n",
    "\n",
    "### 問題\n",
    "計算以下數學表達式的結果：\n",
    "- (15 + 25) × 3 - 10\n",
    "- 2³ + 5 × 4\n",
    "- 100 ÷ 6 的商和餘數\n",
    "\n",
    "### 要求\n",
    "用 Python 運算子計算，並使用 `print()` 輸出結果"
   ]
  },
  {
   "cell_type": "code",
   "execution_count": null,
   "metadata": {},
   "outputs": [],
   "source": [
    "# 在此撰寫程式碼\n",
    "\n",
    "# 計算 1: (15 + 25) × 3 - 10\n",
    "result1 = \n",
    "\n",
    "# 計算 2: 2³ + 5 × 4\n",
    "result2 = \n",
    "\n",
    "# 計算 3: 100 ÷ 6 的商和餘數\n",
    "quotient = \n",
    "remainder = \n",
    "\n",
    "# 輸出結果\n",
    "print(f\"(15 + 25) × 3 - 10 = {result1}\")\n",
    "print(f\"2³ + 5 × 4 = {result2}\")\n",
    "print(f\"100 ÷ 6 = {quotient} 餘 {remainder}\")"
   ]
  },
  {
   "cell_type": "markdown",
   "metadata": {},
   "source": [
    "<details>\n",
    "<summary>💡 提示（點擊展開）</summary>\n",
    "\n",
    "- 括號改變運算順序\n",
    "- 指數使用 `**`\n",
    "- 整除使用 `//`，取餘數使用 `%`\n",
    "</details>"
   ]
  },
  {
   "cell_type": "markdown",
   "metadata": {},
   "source": [
    "---\n",
    "\n",
    "## 練習 2：比較運算 ⭐\n",
    "\n",
    "### 問題\n",
    "給定兩個數字 `a = 15` 和 `b = 20`，判斷以下陳述是否為真：\n",
    "1. a 大於 10\n",
    "2. b 小於等於 20\n",
    "3. a 和 b 相等\n",
    "4. a 和 b 不相等\n",
    "5. a 小於 b\n",
    "\n",
    "### 要求\n",
    "使用比較運算子，將結果儲存在布林變數中並輸出"
   ]
  },
  {
   "cell_type": "code",
   "execution_count": null,
   "metadata": {},
   "outputs": [],
   "source": [
    "# 在此撰寫程式碼\n",
    "\n",
    "a = 15\n",
    "b = 20\n",
    "\n",
    "# 比較運算\n",
    "check1 = \n",
    "check2 = \n",
    "check3 = \n",
    "check4 = \n",
    "check5 = \n",
    "\n",
    "# 輸出結果\n",
    "print(f\"a = {a}, b = {b}\")\n",
    "print(f\"a > 10: {check1}\")\n",
    "print(f\"b <= 20: {check2}\")\n",
    "print(f\"a == b: {check3}\")\n",
    "print(f\"a != b: {check4}\")\n",
    "print(f\"a < b: {check5}\")"
   ]
  },
  {
   "cell_type": "markdown",
   "metadata": {},
   "source": [
    "<details>\n",
    "<summary>💡 提示（點擊展開）</summary>\n",
    "\n",
    "- 大於：`>`\n",
    "- 小於等於：`<=`\n",
    "- 等於：`==`（兩個等號）\n",
    "- 不等於：`!=`\n",
    "</details>"
   ]
  },
  {
   "cell_type": "markdown",
   "metadata": {},
   "source": [
    "---\n",
    "\n",
    "## 練習 3：邏輯運算 ⭐⭐\n",
    "\n",
    "### 問題\n",
    "判斷一個人是否可以參加某活動。\n",
    "\n",
    "**條件**：\n",
    "- 年齡必須在 18-65 歲之間（含 18 和 65）\n",
    "- 必須有健康證明 **或** 是會員\n",
    "\n",
    "### 要求\n",
    "給定 `age = 25`, `has_health_cert = False`, `is_member = True`，判斷是否符合資格"
   ]
  },
  {
   "cell_type": "code",
   "execution_count": null,
   "metadata": {},
   "outputs": [],
   "source": [
    "# 在此撰寫程式碼\n",
    "\n",
    "age = 25\n",
    "has_health_cert = False\n",
    "is_member = True\n",
    "\n",
    "# 條件 1: 年齡在 18-65 歲之間\n",
    "age_valid = \n",
    "\n",
    "# 條件 2: 有健康證明或是會員\n",
    "cert_or_member = \n",
    "\n",
    "# 總條件: 兩者都要滿足\n",
    "is_eligible = \n",
    "\n",
    "# 輸出結果\n",
    "print(f\"年齡: {age}\")\n",
    "print(f\"有健康證明: {has_health_cert}\")\n",
    "print(f\"是會員: {is_member}\")\n",
    "print(f\"\\n符合資格: {is_eligible}\")"
   ]
  },
  {
   "cell_type": "markdown",
   "metadata": {},
   "source": [
    "<details>\n",
    "<summary>💡 提示（點擊展開）</summary>\n",
    "\n",
    "- 年齡範圍使用連鎖比較：`18 <= age <= 65`\n",
    "- 「或」使用 `or`\n",
    "- 「且」使用 `and`\n",
    "</details>"
   ]
  },
  {
   "cell_type": "markdown",
   "metadata": {},
   "source": [
    "---\n",
    "\n",
    "## 練習 4：奇偶數判斷 ⭐\n",
    "\n",
    "### 問題\n",
    "判斷一個數字是奇數還是偶數。\n",
    "\n",
    "**提示**：偶數除以 2 餘數為 0\n",
    "\n",
    "### 要求\n",
    "給定 `number = 42`，判斷並輸出結果"
   ]
  },
  {
   "cell_type": "code",
   "execution_count": null,
   "metadata": {},
   "outputs": [],
   "source": [
    "# 在此撰寫程式碼\n",
    "\n",
    "number = 42\n",
    "\n",
    "# 判斷奇偶\n",
    "is_even = \n",
    "is_odd = \n",
    "\n",
    "# 輸出結果\n",
    "print(f\"數字: {number}\")\n",
    "print(f\"是偶數: {is_even}\")\n",
    "print(f\"是奇數: {is_odd}\")"
   ]
  },
  {
   "cell_type": "markdown",
   "metadata": {},
   "source": [
    "<details>\n",
    "<summary>💡 提示（點擊展開）</summary>\n",
    "\n",
    "- 取餘數：`number % 2`\n",
    "- 偶數：`number % 2 == 0`\n",
    "- 奇數：`number % 2 != 0` 或 `not is_even`\n",
    "</details>"
   ]
  },
  {
   "cell_type": "markdown",
   "metadata": {},
   "source": [
    "---\n",
    "\n",
    "## 練習 5：運算子優先順序 ⭐⭐\n",
    "\n",
    "### 問題\n",
    "**不執行程式碼**，預測以下表達式的結果：\n",
    "\n",
    "1. `10 + 5 * 2`\n",
    "2. `(10 + 5) * 2`\n",
    "3. `2 ** 3 ** 2`\n",
    "4. `20 // 3 * 2`\n",
    "5. `10 > 5 and 3 < 2 or 5 == 5`\n",
    "\n",
    "### 要求\n",
    "先寫下你的預測，再執行驗證"
   ]
  },
  {
   "cell_type": "code",
   "execution_count": null,
   "metadata": {},
   "outputs": [],
   "source": [
    "# 先寫下你的預測（作為註解）\n",
    "# 1. 我的預測: \n",
    "# 2. 我的預測: \n",
    "# 3. 我的預測: \n",
    "# 4. 我的預測: \n",
    "# 5. 我的預測: \n",
    "\n",
    "# 執行驗證\n",
    "print(\"1.\", 10 + 5 * 2)\n",
    "print(\"2.\", (10 + 5) * 2)\n",
    "print(\"3.\", 2 ** 3 ** 2)\n",
    "print(\"4.\", 20 // 3 * 2)\n",
    "print(\"5.\", 10 > 5 and 3 < 2 or 5 == 5)"
   ]
  },
  {
   "cell_type": "markdown",
   "metadata": {},
   "source": [
    "<details>\n",
    "<summary>💡 答案與解析（點擊展開）</summary>\n",
    "\n",
    "1. `20`（先算 5*2=10，再算 10+10）\n",
    "2. `30`（先算括號內 10+5=15，再算 15*2）\n",
    "3. `512`（`**` 右結合，先算 3**2=9，再算 2**9=512）\n",
    "4. `12`（從左到右，20//3=6，6*2=12）\n",
    "5. `True`（先算 `and`：True and False = False；再算 `or`：False or True = True）\n",
    "</details>"
   ]
  },
  {
   "cell_type": "markdown",
   "metadata": {},
   "source": [
    "---\n",
    "\n",
    "## 練習 6：圓的計算 ⭐⭐\n",
    "\n",
    "### 問題\n",
    "給定圓的半徑，計算：\n",
    "1. 圓周長（公式：2πr）\n",
    "2. 圓面積（公式：πr²）\n",
    "3. 球體積（公式：4/3 × πr³）\n",
    "\n",
    "### 要求\n",
    "使用 π = 3.14159，半徑 r = 10，計算並輸出結果（保留兩位小數）"
   ]
  },
  {
   "cell_type": "code",
   "execution_count": null,
   "metadata": {},
   "outputs": [],
   "source": [
    "# 在此撰寫程式碼\n",
    "\n",
    "pi = 3.14159\n",
    "radius = 10\n",
    "\n",
    "# 計算\n",
    "circumference =   # 圓周長\n",
    "area =            # 圓面積\n",
    "volume =          # 球體積\n",
    "\n",
    "# 輸出結果（保留兩位小數）\n",
    "print(f\"半徑: {radius}\")\n",
    "print(f\"圓周長: {circumference:.2f}\")\n",
    "print(f\"圓面積: {area:.2f}\")\n",
    "print(f\"球體積: {volume:.2f}\")"
   ]
  },
  {
   "cell_type": "markdown",
   "metadata": {},
   "source": [
    "<details>\n",
    "<summary>💡 提示（點擊展開）</summary>\n",
    "\n",
    "- 平方：`radius ** 2`\n",
    "- 立方：`radius ** 3`\n",
    "- 注意 `4/3` 會得到 float\n",
    "</details>"
   ]
  },
  {
   "cell_type": "markdown",
   "metadata": {},
   "source": [
    "---\n",
    "\n",
    "## 練習 7：分鐘轉換 ⭐⭐\n",
    "\n",
    "### 問題\n",
    "將總分鐘數轉換為「小時:分鐘」格式。\n",
    "\n",
    "**範例**：145 分鐘 = 2 小時 25 分鐘\n",
    "\n",
    "### 要求\n",
    "給定 `total_minutes = 145`，計算並輸出結果"
   ]
  },
  {
   "cell_type": "code",
   "execution_count": null,
   "metadata": {},
   "outputs": [],
   "source": [
    "# 在此撰寫程式碼\n",
    "\n",
    "total_minutes = 145\n",
    "\n",
    "# 計算小時和分鐘\n",
    "hours = \n",
    "minutes = \n",
    "\n",
    "# 輸出結果\n",
    "print(f\"{total_minutes} 分鐘 = {hours} 小時 {minutes} 分鐘\")\n",
    "print(f\"格式化: {hours:02d}:{minutes:02d}\")  # 補零格式"
   ]
  },
  {
   "cell_type": "markdown",
   "metadata": {},
   "source": [
    "<details>\n",
    "<summary>💡 提示（點擊展開）</summary>\n",
    "\n",
    "- 1 小時 = 60 分鐘\n",
    "- 小時數：`total_minutes // 60`（取商）\n",
    "- 剩餘分鐘：`total_minutes % 60`（取餘數）\n",
    "</details>"
   ]
  },
  {
   "cell_type": "markdown",
   "metadata": {},
   "source": [
    "---\n",
    "\n",
    "## 練習 8：短路求值應用 ⭐⭐⭐\n",
    "\n",
    "### 問題\n",
    "安全地檢查一個數字是否可以被另一個數字整除。\n",
    "\n",
    "**挑戰**：避免除以零的錯誤\n",
    "\n",
    "### 要求\n",
    "給定 `number = 20`, `divisor = 0`，判斷 number 能否被 divisor 整除（不報錯）"
   ]
  },
  {
   "cell_type": "code",
   "execution_count": null,
   "metadata": {},
   "outputs": [],
   "source": [
    "# 在此撰寫程式碼\n",
    "\n",
    "number = 20\n",
    "divisor = 0\n",
    "\n",
    "# 安全檢查（利用短路求值）\n",
    "is_divisible = \n",
    "\n",
    "# 輸出結果\n",
    "print(f\"{number} 能被 {divisor} 整除嗎？{is_divisible}\")"
   ]
  },
  {
   "cell_type": "code",
   "execution_count": null,
   "metadata": {},
   "outputs": [],
   "source": [
    "# 測試 divisor = 5 的情況\n",
    "number = 20\n",
    "divisor = 5\n",
    "\n",
    "is_divisible = divisor != 0 and number % divisor == 0\n",
    "\n",
    "print(f\"{number} 能被 {divisor} 整除嗎？{is_divisible}\")"
   ]
  },
  {
   "cell_type": "markdown",
   "metadata": {},
   "source": [
    "<details>\n",
    "<summary>💡 提示（點擊展開）</summary>\n",
    "\n",
    "- 先檢查 `divisor != 0`\n",
    "- 再檢查 `number % divisor == 0`\n",
    "- 使用 `and` 連接（短路求值）\n",
    "- 如果 divisor 為 0，第二個條件不會執行\n",
    "</details>"
   ]
  },
  {
   "cell_type": "markdown",
   "metadata": {},
   "source": [
    "---\n",
    "\n",
    "## 🎯 練習總結\n",
    "\n",
    "### 涵蓋的知識點\n",
    "\n",
    "| 練習 | 主題 | 難度 |\n",
    "|:-----|:-----|:----:|\n",
    "| 1 | 算術運算、運算子優先順序 | ⭐ |\n",
    "| 2 | 比較運算子 | ⭐ |\n",
    "| 3 | 邏輯運算子、複合條件 | ⭐⭐ |\n",
    "| 4 | 取模運算 | ⭐ |\n",
    "| 5 | 運算子優先順序 | ⭐⭐ |\n",
    "| 6 | 指數運算、實際應用 | ⭐⭐ |\n",
    "| 7 | 整數除法、取模 | ⭐⭐ |\n",
    "| 8 | 短路求值 | ⭐⭐⭐ |\n",
    "\n",
    "### 檢核清單\n",
    "\n",
    "完成練習後，確認你能夠：\n",
    "- [ ] 正確使用算術運算子（+, -, *, /, //, %, **）\n",
    "- [ ] 正確使用比較運算子（<, >, <=, >=, ==, !=）\n",
    "- [ ] 正確使用邏輯運算子（and, or, not）\n",
    "- [ ] 理解運算子優先順序\n",
    "- [ ] 應用整數除法與取模解決實際問題\n",
    "- [ ] 利用短路求值避免錯誤\n",
    "\n",
    "---\n",
    "\n",
    "## 📚 下一步\n",
    "\n",
    "1. 確保所有練習都能正確執行\n",
    "2. 嘗試修改數值，觀察結果變化\n",
    "3. 繼續完成 `04-exercises.ipynb`（課後習題）"
   ]
  }
 ],
 "metadata": {
  "kernelspec": {
   "display_name": "Python 3",
   "language": "python",
   "name": "python3"
  },
  "language_info": {
   "name": "python",
   "version": "3.8.0"
  }
 },
 "nbformat": 4,
 "nbformat_minor": 4
}
