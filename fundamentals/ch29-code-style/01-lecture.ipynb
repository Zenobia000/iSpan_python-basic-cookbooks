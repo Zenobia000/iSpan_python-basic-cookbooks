{
 "cells": [
  {
   "cell_type": "markdown",
   "metadata": {},
   "source": ["# Chapter 29: 程式碼風格與文件 | Code Style and Documentation\n\n## Part I: 理論基礎\n\n### 章節概述\n\n**學習目標**:\n- 掌握 PEP 8 風格規範\n- 撰寫清晰的 docstring 文件\n- 使用 type hints 型態提示\n- 運用 flake8, black 等工具\n\n**預計時長**: 80 分鐘"]
  },
  {
   "cell_type": "markdown",
   "metadata": {},
   "source": ["### 核心概念: 為什麼需要程式碼風格？\n\n**根本問題**: 程式碼是給人讀的，不是給機器讀的\n\n```python\n# 難以閱讀\ndef f(x,y):z=x+y;return z\n\n# 易於閱讀\ndef add_numbers(first, second):\n    \"\"\"計算兩數之和\"\"\"\n    result = first + second\n    return result\n```\n\n一致的風格提升可讀性和維護性。"]
  },
  {
   "cell_type": "markdown",
   "metadata": {},
   "source": ["## Part II: 實作演練\n\n### 範例 1: PEP 8 命名規範"]
  },
  {
   "cell_type": "code",
   "execution_count": null,
   "metadata": {},
   "outputs": [],
   "source": ["# 變數: snake_case\nuser_name = \"Alice\"\ntotal_amount = 100\n\n# 常數: UPPER_CASE\nMAX_SIZE = 1000\nPI = 3.14159\n\n# 類別: PascalCase\nclass UserAccount:\n    pass\n\n# 函式: snake_case\ndef calculate_total():\n    pass\n\nprint(\"遵循一致的命名規範\")"]
  },
  {
   "cell_type": "markdown",
   "metadata": {},
   "source": ["### 範例 2: Docstring 撰寫"]
  },
  {
   "cell_type": "code",
   "execution_count": null,
   "metadata": {},
   "outputs": [],
   "source": ["def calculate_area(length, width):\n    \"\"\"計算長方形面積\n    \n    Args:\n        length (float): 長度（公尺）\n        width (float): 寬度（公尺）\n    \n    Returns:\n        float: 面積（平方公尺）\n    \n    Example:\n        >>> calculate_area(5, 3)\n        15.0\n    \"\"\"\n    return length * width\n\nprint(calculate_area(5, 3))"]
  },
  {
   "cell_type": "markdown",
   "metadata": {},
   "source": ["### 範例 3: Type Hints 型態提示"]
  },
  {
   "cell_type": "code",
   "execution_count": null,
   "metadata": {},
   "outputs": [],
   "source": ["from typing import List, Dict, Optional\n\ndef greet(name: str) -> str:\n    \"\"\"問候函式\"\"\"\n    return f\"Hello, {name}!\"\n\ndef sum_numbers(numbers: List[int]) -> int:\n    \"\"\"計算數字總和\"\"\"\n    return sum(numbers)\n\ndef find_user(user_id: int) -> Optional[Dict[str, str]]:\n    \"\"\"查找使用者 (可能返回 None)\"\"\"\n    return None  # 示例\n\nprint(greet(\"Alice\"))\nprint(sum_numbers([1, 2, 3]))"]
  },
  {
   "cell_type": "markdown",
   "metadata": {},
   "source": ["### 範例 4: 程式碼格式化"]
  },
  {
   "cell_type": "code",
   "execution_count": null,
   "metadata": {},
   "outputs": [],
   "source": ["# 使用 flake8 檢查風格\n# !pip install flake8\n# !flake8 your_file.py\n\n# 使用 black 自動格式化\n# !pip install black\n# !black your_file.py\n\nprint(\"flake8: 檢查風格問題\")\nprint(\"black: 自動格式化程式碼\")"]
  },
  {
   "cell_type": "markdown",
   "metadata": {},
   "source": ["### 範例 5: 程式碼異味 (Code Smells)"]
  },
  {
   "cell_type": "code",
   "execution_count": null,
   "metadata": {},
   "outputs": [],
   "source": ["# ❌ 魔法數字\ndef calculate_tax(price):\n    return price * 0.08  # 0.08 是什麼？\n\n# ✅ 使用常數\nTAX_RATE = 0.08  # 8% 銷售稅\ndef calculate_tax(price):\n    return price * TAX_RATE\n\nprint(calculate_tax(100))"]
  },
  {
   "cell_type": "markdown",
   "metadata": {},
   "source": ["## Part III: 本章總結\n\n### 知識回顧\n\n1. **PEP 8 規範**: 縮排、命名、行長度\n2. **Docstring**: 函式/類別文件字串\n3. **Type Hints**: 型態標註提升可讀性\n4. **工具**: flake8 檢查、black 格式化\n\n### 最佳實務\n\n- 遵循 PEP 8 風格指南\n- 為所有公開函式撰寫 docstring\n- 使用 type hints 標註型態\n- 定期執行 flake8 檢查\n- 使用 black 保持一致格式"]
  }
 ],
 "metadata": {
  "kernelspec": {"display_name": "Python 3", "language": "python", "name": "python3"},
  "language_info": {"name": "python", "version": "3.11.0"}
 },
 "nbformat": 4,
 "nbformat_minor": 4
}
