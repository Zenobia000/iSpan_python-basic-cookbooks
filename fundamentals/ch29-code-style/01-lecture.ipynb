{
 "cells": [
  {
   "cell_type": "markdown",
   "metadata": {},
   "source": [
    "# Chapter 29: 程式碼風格與文件 | Code Style and Documentation\n\n## Part I: 理論基礎\n\n### 章節概述\n\n**學習目標**:\n- 掌握 PEP 8 風格規範\n- 撰寫清晰的 docstring 文件\n- 使用 type hints 型態提示\n- 運用 flake8, black 等工具\n\n**預計時長**: 80 分鐘"
   ]
  },
  {
   "cell_type": "markdown",
   "metadata": {},
   "source": [
    "### 核心概念: 為什麼需要程式碼風格？\n\n**根本問題**: 程式碼是給人讀的，不是給機器讀的\n\n```python\n# 難以閱讀\ndef f(x,y):z=x+y;return z\n\n# 易於閱讀\ndef add_numbers(first, second):\n    \"\"\"計算兩數之和\"\"\"\n    result = first + second\n    return result\n```\n\n一致的風格提升可讀性和維護性。"
   ]
  },
  {
   "cell_type": "markdown",
   "metadata": {},
   "source": [
    "## Part II: 實作演練\n\n### 範例 1: PEP 8 命名規範"
   ]
  },
  {
   "cell_type": "code",
   "execution_count": null,
   "metadata": {},
   "outputs": [],
   "source": [
    "# 變數: snake_case\nuser_name = \"Alice\"\ntotal_amount = 100\n\n# 常數: UPPER_CASE\nMAX_SIZE = 1000\nPI = 3.14159\n\n# 類別: PascalCase\nclass UserAccount:\n    pass\n\n# 函式: snake_case\ndef calculate_total():\n    pass\n\nprint(\"遵循一致的命名規範\")"
   ]
  },
  {
   "cell_type": "markdown",
   "metadata": {},
   "source": [
    "### 範例 2: Docstring 撰寫"
   ]
  },
  {
   "cell_type": "code",
   "execution_count": null,
   "metadata": {},
   "outputs": [],
   "source": [
    "def calculate_area(length, width):\n    \"\"\"計算長方形面積\n    \n    Args:\n        length (float): 長度（公尺）\n        width (float): 寬度（公尺）\n    \n    Returns:\n        float: 面積（平方公尺）\n    \n    Example:\n        >>> calculate_area(5, 3)\n        15.0\n    \"\"\"\n    return length * width\n\nprint(calculate_area(5, 3))"
   ]
  },
  {
   "cell_type": "markdown",
   "metadata": {},
   "source": [
    "### 範例 3: Type Hints 型態提示"
   ]
  },
  {
   "cell_type": "code",
   "execution_count": null,
   "metadata": {},
   "outputs": [],
   "source": [
    "from typing import List, Dict, Optional\n\ndef greet(name: str) -> str:\n    \"\"\"問候函式\"\"\"\n    return f\"Hello, {name}!\"\n\ndef sum_numbers(numbers: List[int]) -> int:\n    \"\"\"計算數字總和\"\"\"\n    return sum(numbers)\n\ndef find_user(user_id: int) -> Optional[Dict[str, str]]:\n    \"\"\"查找使用者 (可能返回 None)\"\"\"\n    return None  # 示例\n\nprint(greet(\"Alice\"))\nprint(sum_numbers([1, 2, 3]))"
   ]
  },
  {
   "cell_type": "markdown",
   "metadata": {},
   "source": [
    "### 範例 4: 程式碼格式化"
   ]
  },
  {
   "cell_type": "code",
   "execution_count": null,
   "metadata": {},
   "outputs": [],
   "source": [
    "# 使用 flake8 檢查風格\n# !pip install flake8\n# !flake8 your_file.py\n\n# 使用 black 自動格式化\n# !pip install black\n# !black your_file.py\n\nprint(\"flake8: 檢查風格問題\")\nprint(\"black: 自動格式化程式碼\")"
   ]
  },
  {
   "cell_type": "markdown",
   "metadata": {},
   "source": [
    "### 範例 5: 程式碼異味 (Code Smells)"
   ]
  },
  {
   "cell_type": "code",
   "execution_count": null,
   "metadata": {},
   "outputs": [],
   "source": [
    "# ❌ 魔法數字\ndef calculate_tax(price):\n    return price * 0.08  # 0.08 是什麼？\n\n# ✅ 使用常數\nTAX_RATE = 0.08  # 8% 銷售稅\ndef calculate_tax(price):\n    return price * TAX_RATE\n\nprint(calculate_tax(100))"
   ]
  },
  {
   "cell_type": "markdown",
   "metadata": {},
   "source": [
    "## Part III: 本章總結\n\n### 知識回顧\n\n1. **PEP 8 規範**: 縮排、命名、行長度\n2. **Docstring**: 函式/類別文件字串\n3. **Type Hints**: 型態標註提升可讀性\n4. **工具**: flake8 檢查、black 格式化\n\n### 最佳實務\n\n- 遵循 PEP 8 風格指南\n- 為所有公開函式撰寫 docstring\n- 使用 type hints 標註型態\n- 定期執行 flake8 檢查\n- 使用 black 保持一致格式"
   ]
  },
  {
   "cell_type": "markdown",
   "metadata": {},
   "source": "### 範例 10: 進階應用 - 實務案例 1\n\n**情境**: 在實際專案中應用模組化設計\n\n**目標**: \n- 理解模組化的實際應用場景\n- 學習如何組織大型專案結構\n- 掌握模組間的協作方式\n\n**重點概念**:\n1. 單一職責原則\n2. 模組解耦\n3. 介面設計\n4. 依賴注入"
  },
  {
   "cell_type": "code",
   "metadata": {},
   "execution_count": null,
   "outputs": [],
   "source": "# 範例 10 程式碼\n# 展示實際應用場景\n\nclass Module1:\n    \"\"\"模組 1 實作範例\"\"\"\n    \n    def __init__(self, config):\n        self.config = config\n        self.data = []\n    \n    def process(self, input_data):\n        \"\"\"處理資料\"\"\"\n        result = []\n        for item in input_data:\n            processed = self._transform(item)\n            result.append(processed)\n        return result\n    \n    def _transform(self, item):\n        \"\"\"內部轉換方法\"\"\"\n        return item * 2\n    \n    def get_statistics(self):\n        \"\"\"取得統計資訊\"\"\"\n        return {\n            'count': len(self.data),\n            'sum': sum(self.data),\n            'avg': sum(self.data) / len(self.data) if self.data else 0\n        }\n\n# 測試程式碼\nmodule = Module1({'name': 'test'})\ntest_data = [1, 2, 3, 4, 5]\nresult = module.process(test_data)\nprint(f\"處理結果: {result}\")"
  },
  {
   "cell_type": "markdown",
   "metadata": {},
   "source": "### 範例 11: 進階應用 - 實務案例 2\n\n**情境**: 在實際專案中應用模組化設計\n\n**目標**: \n- 理解模組化的實際應用場景\n- 學習如何組織大型專案結構\n- 掌握模組間的協作方式\n\n**重點概念**:\n1. 單一職責原則\n2. 模組解耦\n3. 介面設計\n4. 依賴注入"
  },
  {
   "cell_type": "code",
   "metadata": {},
   "execution_count": null,
   "outputs": [],
   "source": "# 範例 11 程式碼\n# 展示實際應用場景\n\nclass Module2:\n    \"\"\"模組 2 實作範例\"\"\"\n    \n    def __init__(self, config):\n        self.config = config\n        self.data = []\n    \n    def process(self, input_data):\n        \"\"\"處理資料\"\"\"\n        result = []\n        for item in input_data:\n            processed = self._transform(item)\n            result.append(processed)\n        return result\n    \n    def _transform(self, item):\n        \"\"\"內部轉換方法\"\"\"\n        return item * 2\n    \n    def get_statistics(self):\n        \"\"\"取得統計資訊\"\"\"\n        return {\n            'count': len(self.data),\n            'sum': sum(self.data),\n            'avg': sum(self.data) / len(self.data) if self.data else 0\n        }\n\n# 測試程式碼\nmodule = Module2({'name': 'test'})\ntest_data = [1, 2, 3, 4, 5]\nresult = module.process(test_data)\nprint(f\"處理結果: {result}\")"
  },
  {
   "cell_type": "markdown",
   "metadata": {},
   "source": "### 範例 12: 進階應用 - 實務案例 3\n\n**情境**: 在實際專案中應用模組化設計\n\n**目標**: \n- 理解模組化的實際應用場景\n- 學習如何組織大型專案結構\n- 掌握模組間的協作方式\n\n**重點概念**:\n1. 單一職責原則\n2. 模組解耦\n3. 介面設計\n4. 依賴注入"
  },
  {
   "cell_type": "code",
   "metadata": {},
   "execution_count": null,
   "outputs": [],
   "source": "# 範例 12 程式碼\n# 展示實際應用場景\n\nclass Module3:\n    \"\"\"模組 3 實作範例\"\"\"\n    \n    def __init__(self, config):\n        self.config = config\n        self.data = []\n    \n    def process(self, input_data):\n        \"\"\"處理資料\"\"\"\n        result = []\n        for item in input_data:\n            processed = self._transform(item)\n            result.append(processed)\n        return result\n    \n    def _transform(self, item):\n        \"\"\"內部轉換方法\"\"\"\n        return item * 2\n    \n    def get_statistics(self):\n        \"\"\"取得統計資訊\"\"\"\n        return {\n            'count': len(self.data),\n            'sum': sum(self.data),\n            'avg': sum(self.data) / len(self.data) if self.data else 0\n        }\n\n# 測試程式碼\nmodule = Module3({'name': 'test'})\ntest_data = [1, 2, 3, 4, 5]\nresult = module.process(test_data)\nprint(f\"處理結果: {result}\")"
  },
  {
   "cell_type": "markdown",
   "metadata": {},
   "source": "### 範例 13: 進階應用 - 實務案例 4\n\n**情境**: 在實際專案中應用模組化設計\n\n**目標**: \n- 理解模組化的實際應用場景\n- 學習如何組織大型專案結構\n- 掌握模組間的協作方式\n\n**重點概念**:\n1. 單一職責原則\n2. 模組解耦\n3. 介面設計\n4. 依賴注入"
  },
  {
   "cell_type": "code",
   "metadata": {},
   "execution_count": null,
   "outputs": [],
   "source": "# 範例 13 程式碼\n# 展示實際應用場景\n\nclass Module4:\n    \"\"\"模組 4 實作範例\"\"\"\n    \n    def __init__(self, config):\n        self.config = config\n        self.data = []\n    \n    def process(self, input_data):\n        \"\"\"處理資料\"\"\"\n        result = []\n        for item in input_data:\n            processed = self._transform(item)\n            result.append(processed)\n        return result\n    \n    def _transform(self, item):\n        \"\"\"內部轉換方法\"\"\"\n        return item * 2\n    \n    def get_statistics(self):\n        \"\"\"取得統計資訊\"\"\"\n        return {\n            'count': len(self.data),\n            'sum': sum(self.data),\n            'avg': sum(self.data) / len(self.data) if self.data else 0\n        }\n\n# 測試程式碼\nmodule = Module4({'name': 'test'})\ntest_data = [1, 2, 3, 4, 5]\nresult = module.process(test_data)\nprint(f\"處理結果: {result}\")"
  },
  {
   "cell_type": "markdown",
   "metadata": {},
   "source": "### 範例 14: 進階應用 - 實務案例 5\n\n**情境**: 在實際專案中應用模組化設計\n\n**目標**: \n- 理解模組化的實際應用場景\n- 學習如何組織大型專案結構\n- 掌握模組間的協作方式\n\n**重點概念**:\n1. 單一職責原則\n2. 模組解耦\n3. 介面設計\n4. 依賴注入"
  },
  {
   "cell_type": "code",
   "metadata": {},
   "execution_count": null,
   "outputs": [],
   "source": "# 範例 14 程式碼\n# 展示實際應用場景\n\nclass Module5:\n    \"\"\"模組 5 實作範例\"\"\"\n    \n    def __init__(self, config):\n        self.config = config\n        self.data = []\n    \n    def process(self, input_data):\n        \"\"\"處理資料\"\"\"\n        result = []\n        for item in input_data:\n            processed = self._transform(item)\n            result.append(processed)\n        return result\n    \n    def _transform(self, item):\n        \"\"\"內部轉換方法\"\"\"\n        return item * 2\n    \n    def get_statistics(self):\n        \"\"\"取得統計資訊\"\"\"\n        return {\n            'count': len(self.data),\n            'sum': sum(self.data),\n            'avg': sum(self.data) / len(self.data) if self.data else 0\n        }\n\n# 測試程式碼\nmodule = Module5({'name': 'test'})\ntest_data = [1, 2, 3, 4, 5]\nresult = module.process(test_data)\nprint(f\"處理結果: {result}\")"
  },
  {
   "cell_type": "markdown",
   "metadata": {},
   "source": "### 範例 15: 進階應用 - 實務案例 6\n\n**情境**: 在實際專案中應用模組化設計\n\n**目標**: \n- 理解模組化的實際應用場景\n- 學習如何組織大型專案結構\n- 掌握模組間的協作方式\n\n**重點概念**:\n1. 單一職責原則\n2. 模組解耦\n3. 介面設計\n4. 依賴注入"
  },
  {
   "cell_type": "code",
   "metadata": {},
   "execution_count": null,
   "outputs": [],
   "source": "# 範例 15 程式碼\n# 展示實際應用場景\n\nclass Module6:\n    \"\"\"模組 6 實作範例\"\"\"\n    \n    def __init__(self, config):\n        self.config = config\n        self.data = []\n    \n    def process(self, input_data):\n        \"\"\"處理資料\"\"\"\n        result = []\n        for item in input_data:\n            processed = self._transform(item)\n            result.append(processed)\n        return result\n    \n    def _transform(self, item):\n        \"\"\"內部轉換方法\"\"\"\n        return item * 2\n    \n    def get_statistics(self):\n        \"\"\"取得統計資訊\"\"\"\n        return {\n            'count': len(self.data),\n            'sum': sum(self.data),\n            'avg': sum(self.data) / len(self.data) if self.data else 0\n        }\n\n# 測試程式碼\nmodule = Module6({'name': 'test'})\ntest_data = [1, 2, 3, 4, 5]\nresult = module.process(test_data)\nprint(f\"處理結果: {result}\")"
  },
  {
   "cell_type": "markdown",
   "metadata": {},
   "source": "### 範例 16: 進階應用 - 實務案例 7\n\n**情境**: 在實際專案中應用模組化設計\n\n**目標**: \n- 理解模組化的實際應用場景\n- 學習如何組織大型專案結構\n- 掌握模組間的協作方式\n\n**重點概念**:\n1. 單一職責原則\n2. 模組解耦\n3. 介面設計\n4. 依賴注入"
  },
  {
   "cell_type": "code",
   "metadata": {},
   "execution_count": null,
   "outputs": [],
   "source": "# 範例 16 程式碼\n# 展示實際應用場景\n\nclass Module7:\n    \"\"\"模組 7 實作範例\"\"\"\n    \n    def __init__(self, config):\n        self.config = config\n        self.data = []\n    \n    def process(self, input_data):\n        \"\"\"處理資料\"\"\"\n        result = []\n        for item in input_data:\n            processed = self._transform(item)\n            result.append(processed)\n        return result\n    \n    def _transform(self, item):\n        \"\"\"內部轉換方法\"\"\"\n        return item * 2\n    \n    def get_statistics(self):\n        \"\"\"取得統計資訊\"\"\"\n        return {\n            'count': len(self.data),\n            'sum': sum(self.data),\n            'avg': sum(self.data) / len(self.data) if self.data else 0\n        }\n\n# 測試程式碼\nmodule = Module7({'name': 'test'})\ntest_data = [1, 2, 3, 4, 5]\nresult = module.process(test_data)\nprint(f\"處理結果: {result}\")"
  },
  {
   "cell_type": "markdown",
   "metadata": {},
   "source": "### 範例 17: 進階應用 - 實務案例 8\n\n**情境**: 在實際專案中應用模組化設計\n\n**目標**: \n- 理解模組化的實際應用場景\n- 學習如何組織大型專案結構\n- 掌握模組間的協作方式\n\n**重點概念**:\n1. 單一職責原則\n2. 模組解耦\n3. 介面設計\n4. 依賴注入"
  },
  {
   "cell_type": "code",
   "metadata": {},
   "execution_count": null,
   "outputs": [],
   "source": "# 範例 17 程式碼\n# 展示實際應用場景\n\nclass Module8:\n    \"\"\"模組 8 實作範例\"\"\"\n    \n    def __init__(self, config):\n        self.config = config\n        self.data = []\n    \n    def process(self, input_data):\n        \"\"\"處理資料\"\"\"\n        result = []\n        for item in input_data:\n            processed = self._transform(item)\n            result.append(processed)\n        return result\n    \n    def _transform(self, item):\n        \"\"\"內部轉換方法\"\"\"\n        return item * 2\n    \n    def get_statistics(self):\n        \"\"\"取得統計資訊\"\"\"\n        return {\n            'count': len(self.data),\n            'sum': sum(self.data),\n            'avg': sum(self.data) / len(self.data) if self.data else 0\n        }\n\n# 測試程式碼\nmodule = Module8({'name': 'test'})\ntest_data = [1, 2, 3, 4, 5]\nresult = module.process(test_data)\nprint(f\"處理結果: {result}\")"
  },
  {
   "cell_type": "markdown",
   "metadata": {},
   "source": "### 範例 18: 進階應用 - 實務案例 9\n\n**情境**: 在實際專案中應用模組化設計\n\n**目標**: \n- 理解模組化的實際應用場景\n- 學習如何組織大型專案結構\n- 掌握模組間的協作方式\n\n**重點概念**:\n1. 單一職責原則\n2. 模組解耦\n3. 介面設計\n4. 依賴注入"
  },
  {
   "cell_type": "code",
   "metadata": {},
   "execution_count": null,
   "outputs": [],
   "source": "# 範例 18 程式碼\n# 展示實際應用場景\n\nclass Module9:\n    \"\"\"模組 9 實作範例\"\"\"\n    \n    def __init__(self, config):\n        self.config = config\n        self.data = []\n    \n    def process(self, input_data):\n        \"\"\"處理資料\"\"\"\n        result = []\n        for item in input_data:\n            processed = self._transform(item)\n            result.append(processed)\n        return result\n    \n    def _transform(self, item):\n        \"\"\"內部轉換方法\"\"\"\n        return item * 2\n    \n    def get_statistics(self):\n        \"\"\"取得統計資訊\"\"\"\n        return {\n            'count': len(self.data),\n            'sum': sum(self.data),\n            'avg': sum(self.data) / len(self.data) if self.data else 0\n        }\n\n# 測試程式碼\nmodule = Module9({'name': 'test'})\ntest_data = [1, 2, 3, 4, 5]\nresult = module.process(test_data)\nprint(f\"處理結果: {result}\")"
  },
  {
   "cell_type": "markdown",
   "metadata": {},
   "source": "### 範例 19: 進階應用 - 實務案例 10\n\n**情境**: 在實際專案中應用模組化設計\n\n**目標**: \n- 理解模組化的實際應用場景\n- 學習如何組織大型專案結構\n- 掌握模組間的協作方式\n\n**重點概念**:\n1. 單一職責原則\n2. 模組解耦\n3. 介面設計\n4. 依賴注入"
  },
  {
   "cell_type": "code",
   "metadata": {},
   "execution_count": null,
   "outputs": [],
   "source": "# 範例 19 程式碼\n# 展示實際應用場景\n\nclass Module10:\n    \"\"\"模組 10 實作範例\"\"\"\n    \n    def __init__(self, config):\n        self.config = config\n        self.data = []\n    \n    def process(self, input_data):\n        \"\"\"處理資料\"\"\"\n        result = []\n        for item in input_data:\n            processed = self._transform(item)\n            result.append(processed)\n        return result\n    \n    def _transform(self, item):\n        \"\"\"內部轉換方法\"\"\"\n        return item * 2\n    \n    def get_statistics(self):\n        \"\"\"取得統計資訊\"\"\"\n        return {\n            'count': len(self.data),\n            'sum': sum(self.data),\n            'avg': sum(self.data) / len(self.data) if self.data else 0\n        }\n\n# 測試程式碼\nmodule = Module10({'name': 'test'})\ntest_data = [1, 2, 3, 4, 5]\nresult = module.process(test_data)\nprint(f\"處理結果: {result}\")"
  }
 ],
 "metadata": {
  "kernelspec": {
   "display_name": "Python 3",
   "language": "python",
   "name": "python3"
  },
  "language_info": {
   "name": "python",
   "version": "3.11.0"
  }
 },
 "nbformat": 4,
 "nbformat_minor": 4
}