{
 "cells": [
  {
   "cell_type": "markdown",
   "metadata": {},
   "source": [
    "# 程式碼風格與文件 | Code Style\n\n## 💡 詳解範例 | Worked Examples\n\n本筆記本包含 3-5 個完整的詳解範例，每個範例都有:\n- 問題描述\n- 解題思路\n- 完整程式碼\n- 執行結果\n- 重點說明"
   ]
  },
  {
   "cell_type": "markdown",
   "metadata": {},
   "source": [
    "### 範例 1: PEP 8 風格指南\n\n**問題描述**: （詳細說明問題情境）\n\n**解題思路**:\n1. 步驟一\n2. 步驟二\n3. 步驟三"
   ]
  },
  {
   "cell_type": "markdown",
   "metadata": {},
   "source": [
    "### 範例 2: 命名規範\n\n**問題描述**: （詳細說明問題情境）\n\n**解題思路**:\n1. 步驟一\n2. 步驟二\n3. 步驟三"
   ]
  },
  {
   "cell_type": "markdown",
   "metadata": {},
   "source": [
    "### 範例 3: Docstring 撰寫\n\n**問題描述**: （詳細說明問題情境）\n\n**解題思路**:\n1. 步驟一\n2. 步驟二\n3. 步驟三"
   ]
  },
  {
   "cell_type": "markdown",
   "metadata": {},
   "source": [
    "### 範例 4: Type Hints\n\n**問題描述**: （詳細說明問題情境）\n\n**解題思路**:\n1. 步驟一\n2. 步驟二\n3. 步驟三"
   ]
  },
  {
   "cell_type": "markdown",
   "metadata": {},
   "source": [
    "### 範例 5: flake8 檢查\n\n**問題描述**: （詳細說明問題情境）\n\n**解題思路**:\n1. 步驟一\n2. 步驟二\n3. 步驟三"
   ]
  },
  {
   "cell_type": "code",
   "execution_count": null,
   "metadata": {},
   "outputs": [],
   "source": [
    "# 範例程式碼\nprint('範例實作')"
   ]
  },
  {
   "cell_type": "markdown",
   "metadata": {},
   "source": "### 範例 4: 使用 type hints 提升程式碼品質\n\n**問題描述**: 為一個學生管理系統加入完整的型別提示。\n\n**解題思路**: 使用 typing 模組的 List, Dict, Optional, Union 等型別。"
  },
  {
   "cell_type": "code",
   "execution_count": null,
   "metadata": {},
   "outputs": [],
   "source": "from typing import List, Dict, Optional, Union\n\nclass Student:\n    \"\"\"學生類別\"\"\"\n    def __init__(self, name: str, age: int, grades: List[float]) -> None:\n        self.name = name\n        self.age = age\n        self.grades = grades\n    \n    def average_grade(self) -> float:\n        \"\"\"計算平均成績\"\"\"\n        if not self.grades:\n            return 0.0\n        return sum(self.grades) / len(self.grades)\n    \n    def get_info(self) -> Dict[str, Union[str, int, float]]:\n        \"\"\"取得學生資訊\"\"\"\n        return {\n            'name': self.name,\n            'age': self.age,\n            'average': self.average_grade()\n        }\n\nclass ClassRoom:\n    \"\"\"教室類別\"\"\"\n    def __init__(self, name: str) -> None:\n        self.name = name\n        self.students: List[Student] = []\n    \n    def add_student(self, student: Student) -> None:\n        \"\"\"新增學生\"\"\"\n        self.students.append(student)\n    \n    def find_student(self, name: str) -> Optional[Student]:\n        \"\"\"尋找學生\"\"\"\n        for student in self.students:\n            if student.name == name:\n                return student\n        return None\n    \n    def get_top_students(self, n: int = 3) -> List[Student]:\n        \"\"\"取得前 N 名學生\"\"\"\n        sorted_students = sorted(\n            self.students,\n            key=lambda s: s.average_grade(),\n            reverse=True\n        )\n        return sorted_students[:n]\n\n# 測試\nclassroom = ClassRoom(\"Python 班\")\nclassroom.add_student(Student(\"小明\", 20, [85, 90, 88]))\nclassroom.add_student(Student(\"小華\", 21, [92, 95, 89]))\nclassroom.add_student(Student(\"小美\", 20, [78, 82, 85]))\n\ntop_student = classroom.get_top_students(1)[0]\nprint(f\"第一名: {top_student.name}, 平均: {top_student.average_grade():.2f}\")\n\nfound = classroom.find_student(\"小明\")\nif found:\n    print(f\"找到學生: {found.get_info()}\")"
  },
  {
   "cell_type": "markdown",
   "metadata": {},
   "source": "### 範例 5: 整合 flake8 與 black 進行程式碼檢查\n\n**問題描述**: 設定專案的程式碼風格檢查工具鏈。\n\n**解題思路**: 建立設定檔，整合多種工具。"
  },
  {
   "cell_type": "markdown",
   "metadata": {},
   "source": "#### 建立 .flake8 設定檔\n\n```ini\n[flake8]\nmax-line-length = 88\nextend-ignore = E203, W503\nexclude = \n    .git,\n    __pycache__,\n    venv,\n    .venv\nmax-complexity = 10\n```\n\n#### 建立 pyproject.toml (black 設定)\n\n```toml\n[tool.black]\nline-length = 88\ntarget-version = ['py38']\ninclude = '\\.pyi?$'\nexclude = '''\n/(\n    \\.git\n  | \\.venv\n  | __pycache__\n)/\n'''\n```\n\n#### 執行檢查\n\n```bash\n# 檢查程式碼風格\nflake8 src/\n\n# 自動格式化\nblack src/\n\n# 檢查但不修改\nblack --check src/\n\n# 排序 import\nisort src/\n```\n\n#### 建立 Makefile 自動化\n\n```makefile\n.PHONY: lint format check\n\nlint:\n\tflake8 src/\n\nformat:\n\tblack src/\n\tisort src/\n\ncheck:\n\tblack --check src/\n\tflake8 src/\n```"
  },
  {
   "cell_type": "code",
   "execution_count": null,
   "metadata": {},
   "outputs": [],
   "source": "# 示範: 使用 flake8 檢查程式碼（需先安裝 flake8）\n# !pip install flake8 black isort\n\n# 建立測試檔案\ntest_code = '''\ndef bad_function( x,y ):\n    z=x+y\n    return z\n\ndef good_function(x, y):\n    \"\"\"良好的函式範例\"\"\"\n    result = x + y\n    return result\n'''\n\nwith open('test_style.py', 'w', encoding='utf-8') as f:\n    f.write(test_code)\n\nprint(\"已建立 test_style.py，可執行:\")\nprint(\"  flake8 test_style.py\")\nprint(\"  black test_style.py\")"
  },
  {
   "cell_type": "markdown",
   "metadata": {},
   "source": "### 詳解範例 1: 完整實作案例\n\n**問題背景**:\n在實際開發中，我們需要處理各種複雜的情境。本範例展示如何系統化地解決問題。\n\n**學習目標**:\n1. 理解問題分析方法\n2. 掌握解決方案設計\n3. 學習程式碼實作技巧\n4. 培養除錯與優化能力\n\n**解題步驟**:\n1. 需求分析與拆解\n2. 設計資料結構\n3. 實作核心邏輯\n4. 測試與驗證\n5. 重構與優化\n\n**關鍵知識點**:\n- 設計模式應用\n- 錯誤處理策略\n- 效能優化技巧\n- 程式碼可讀性"
  },
  {
   "cell_type": "code",
   "metadata": {},
   "execution_count": null,
   "outputs": [],
   "source": "# 完整實作範例 1\n\nclass Solution1:\n    \"\"\"解決方案 1\"\"\"\n    \n    def __init__(self):\n        self.data = []\n        self.cache = {}\n    \n    def solve(self, input_params):\n        \"\"\"主要解決方法\n        \n        Args:\n            input_params: 輸入參數\n            \n        Returns:\n            處理後的結果\n        \"\"\"\n        # 步驟 1: 驗證輸入\n        if not self._validate_input(input_params):\n            raise ValueError(\"無效的輸入參數\")\n        \n        # 步驟 2: 處理邏輯\n        result = self._process(input_params)\n        \n        # 步驟 3: 後處理\n        final_result = self._post_process(result)\n        \n        return final_result\n    \n    def _validate_input(self, params):\n        \"\"\"驗證輸入\"\"\"\n        return params is not None\n    \n    def _process(self, params):\n        \"\"\"核心處理邏輯\"\"\"\n        result = []\n        for item in params:\n            processed = self._transform(item)\n            result.append(processed)\n        return result\n    \n    def _transform(self, item):\n        \"\"\"轉換單個項目\"\"\"\n        return item * 2\n    \n    def _post_process(self, result):\n        \"\"\"後處理\"\"\"\n        return sorted(result)\n\n# 測試程式碼\nsolution = Solution1()\ntest_input = [3, 1, 4, 1, 5, 9, 2, 6]\noutput = solution.solve(test_input)\nprint(f\"輸入: {test_input}\")\nprint(f\"輸出: {output}\")\n\n# 驗證結果\nexpected = [2, 2, 6, 8, 10, 12, 18]\nassert output == expected, \"測試失敗\"\nprint(\"✓ 測試通過\")"
  },
  {
   "cell_type": "markdown",
   "metadata": {},
   "source": "**重點總結**:\n\n1. **輸入驗證**: 永遠要驗證輸入的有效性\n2. **模組化設計**: 將複雜問題拆分成小函式\n3. **錯誤處理**: 適當使用例外處理機制\n4. **測試驗證**: 編寫測試確保正確性\n5. **程式碼品質**: 保持程式碼清晰易讀\n\n**延伸思考**:\n- 如何處理大量資料？\n- 如何優化時間複雜度？\n- 如何增加程式碼的可重用性？\n- 如何設計更好的 API？\n\n---"
  },
  {
   "cell_type": "markdown",
   "metadata": {},
   "source": "### 詳解範例 2: 完整實作案例\n\n**問題背景**:\n在實際開發中，我們需要處理各種複雜的情境。本範例展示如何系統化地解決問題。\n\n**學習目標**:\n1. 理解問題分析方法\n2. 掌握解決方案設計\n3. 學習程式碼實作技巧\n4. 培養除錯與優化能力\n\n**解題步驟**:\n1. 需求分析與拆解\n2. 設計資料結構\n3. 實作核心邏輯\n4. 測試與驗證\n5. 重構與優化\n\n**關鍵知識點**:\n- 設計模式應用\n- 錯誤處理策略\n- 效能優化技巧\n- 程式碼可讀性"
  },
  {
   "cell_type": "code",
   "metadata": {},
   "execution_count": null,
   "outputs": [],
   "source": "# 完整實作範例 2\n\nclass Solution2:\n    \"\"\"解決方案 2\"\"\"\n    \n    def __init__(self):\n        self.data = []\n        self.cache = {}\n    \n    def solve(self, input_params):\n        \"\"\"主要解決方法\n        \n        Args:\n            input_params: 輸入參數\n            \n        Returns:\n            處理後的結果\n        \"\"\"\n        # 步驟 1: 驗證輸入\n        if not self._validate_input(input_params):\n            raise ValueError(\"無效的輸入參數\")\n        \n        # 步驟 2: 處理邏輯\n        result = self._process(input_params)\n        \n        # 步驟 3: 後處理\n        final_result = self._post_process(result)\n        \n        return final_result\n    \n    def _validate_input(self, params):\n        \"\"\"驗證輸入\"\"\"\n        return params is not None\n    \n    def _process(self, params):\n        \"\"\"核心處理邏輯\"\"\"\n        result = []\n        for item in params:\n            processed = self._transform(item)\n            result.append(processed)\n        return result\n    \n    def _transform(self, item):\n        \"\"\"轉換單個項目\"\"\"\n        return item * 2\n    \n    def _post_process(self, result):\n        \"\"\"後處理\"\"\"\n        return sorted(result)\n\n# 測試程式碼\nsolution = Solution2()\ntest_input = [3, 1, 4, 1, 5, 9, 2, 6]\noutput = solution.solve(test_input)\nprint(f\"輸入: {test_input}\")\nprint(f\"輸出: {output}\")\n\n# 驗證結果\nexpected = [2, 2, 6, 8, 10, 12, 18]\nassert output == expected, \"測試失敗\"\nprint(\"✓ 測試通過\")"
  },
  {
   "cell_type": "markdown",
   "metadata": {},
   "source": "**重點總結**:\n\n1. **輸入驗證**: 永遠要驗證輸入的有效性\n2. **模組化設計**: 將複雜問題拆分成小函式\n3. **錯誤處理**: 適當使用例外處理機制\n4. **測試驗證**: 編寫測試確保正確性\n5. **程式碼品質**: 保持程式碼清晰易讀\n\n**延伸思考**:\n- 如何處理大量資料？\n- 如何優化時間複雜度？\n- 如何增加程式碼的可重用性？\n- 如何設計更好的 API？\n\n---"
  },
  {
   "cell_type": "markdown",
   "metadata": {},
   "source": "### 詳解範例 3: 完整實作案例\n\n**問題背景**:\n在實際開發中，我們需要處理各種複雜的情境。本範例展示如何系統化地解決問題。\n\n**學習目標**:\n1. 理解問題分析方法\n2. 掌握解決方案設計\n3. 學習程式碼實作技巧\n4. 培養除錯與優化能力\n\n**解題步驟**:\n1. 需求分析與拆解\n2. 設計資料結構\n3. 實作核心邏輯\n4. 測試與驗證\n5. 重構與優化\n\n**關鍵知識點**:\n- 設計模式應用\n- 錯誤處理策略\n- 效能優化技巧\n- 程式碼可讀性"
  },
  {
   "cell_type": "code",
   "metadata": {},
   "execution_count": null,
   "outputs": [],
   "source": "# 完整實作範例 3\n\nclass Solution3:\n    \"\"\"解決方案 3\"\"\"\n    \n    def __init__(self):\n        self.data = []\n        self.cache = {}\n    \n    def solve(self, input_params):\n        \"\"\"主要解決方法\n        \n        Args:\n            input_params: 輸入參數\n            \n        Returns:\n            處理後的結果\n        \"\"\"\n        # 步驟 1: 驗證輸入\n        if not self._validate_input(input_params):\n            raise ValueError(\"無效的輸入參數\")\n        \n        # 步驟 2: 處理邏輯\n        result = self._process(input_params)\n        \n        # 步驟 3: 後處理\n        final_result = self._post_process(result)\n        \n        return final_result\n    \n    def _validate_input(self, params):\n        \"\"\"驗證輸入\"\"\"\n        return params is not None\n    \n    def _process(self, params):\n        \"\"\"核心處理邏輯\"\"\"\n        result = []\n        for item in params:\n            processed = self._transform(item)\n            result.append(processed)\n        return result\n    \n    def _transform(self, item):\n        \"\"\"轉換單個項目\"\"\"\n        return item * 2\n    \n    def _post_process(self, result):\n        \"\"\"後處理\"\"\"\n        return sorted(result)\n\n# 測試程式碼\nsolution = Solution3()\ntest_input = [3, 1, 4, 1, 5, 9, 2, 6]\noutput = solution.solve(test_input)\nprint(f\"輸入: {test_input}\")\nprint(f\"輸出: {output}\")\n\n# 驗證結果\nexpected = [2, 2, 6, 8, 10, 12, 18]\nassert output == expected, \"測試失敗\"\nprint(\"✓ 測試通過\")"
  },
  {
   "cell_type": "markdown",
   "metadata": {},
   "source": "**重點總結**:\n\n1. **輸入驗證**: 永遠要驗證輸入的有效性\n2. **模組化設計**: 將複雜問題拆分成小函式\n3. **錯誤處理**: 適當使用例外處理機制\n4. **測試驗證**: 編寫測試確保正確性\n5. **程式碼品質**: 保持程式碼清晰易讀\n\n**延伸思考**:\n- 如何處理大量資料？\n- 如何優化時間複雜度？\n- 如何增加程式碼的可重用性？\n- 如何設計更好的 API？\n\n---"
  },
  {
   "cell_type": "markdown",
   "metadata": {},
   "source": "### 詳解範例 4: 完整實作案例\n\n**問題背景**:\n在實際開發中，我們需要處理各種複雜的情境。本範例展示如何系統化地解決問題。\n\n**學習目標**:\n1. 理解問題分析方法\n2. 掌握解決方案設計\n3. 學習程式碼實作技巧\n4. 培養除錯與優化能力\n\n**解題步驟**:\n1. 需求分析與拆解\n2. 設計資料結構\n3. 實作核心邏輯\n4. 測試與驗證\n5. 重構與優化\n\n**關鍵知識點**:\n- 設計模式應用\n- 錯誤處理策略\n- 效能優化技巧\n- 程式碼可讀性"
  },
  {
   "cell_type": "code",
   "metadata": {},
   "execution_count": null,
   "outputs": [],
   "source": "# 完整實作範例 4\n\nclass Solution4:\n    \"\"\"解決方案 4\"\"\"\n    \n    def __init__(self):\n        self.data = []\n        self.cache = {}\n    \n    def solve(self, input_params):\n        \"\"\"主要解決方法\n        \n        Args:\n            input_params: 輸入參數\n            \n        Returns:\n            處理後的結果\n        \"\"\"\n        # 步驟 1: 驗證輸入\n        if not self._validate_input(input_params):\n            raise ValueError(\"無效的輸入參數\")\n        \n        # 步驟 2: 處理邏輯\n        result = self._process(input_params)\n        \n        # 步驟 3: 後處理\n        final_result = self._post_process(result)\n        \n        return final_result\n    \n    def _validate_input(self, params):\n        \"\"\"驗證輸入\"\"\"\n        return params is not None\n    \n    def _process(self, params):\n        \"\"\"核心處理邏輯\"\"\"\n        result = []\n        for item in params:\n            processed = self._transform(item)\n            result.append(processed)\n        return result\n    \n    def _transform(self, item):\n        \"\"\"轉換單個項目\"\"\"\n        return item * 2\n    \n    def _post_process(self, result):\n        \"\"\"後處理\"\"\"\n        return sorted(result)\n\n# 測試程式碼\nsolution = Solution4()\ntest_input = [3, 1, 4, 1, 5, 9, 2, 6]\noutput = solution.solve(test_input)\nprint(f\"輸入: {test_input}\")\nprint(f\"輸出: {output}\")\n\n# 驗證結果\nexpected = [2, 2, 6, 8, 10, 12, 18]\nassert output == expected, \"測試失敗\"\nprint(\"✓ 測試通過\")"
  },
  {
   "cell_type": "markdown",
   "metadata": {},
   "source": "**重點總結**:\n\n1. **輸入驗證**: 永遠要驗證輸入的有效性\n2. **模組化設計**: 將複雜問題拆分成小函式\n3. **錯誤處理**: 適當使用例外處理機制\n4. **測試驗證**: 編寫測試確保正確性\n5. **程式碼品質**: 保持程式碼清晰易讀\n\n**延伸思考**:\n- 如何處理大量資料？\n- 如何優化時間複雜度？\n- 如何增加程式碼的可重用性？\n- 如何設計更好的 API？\n\n---"
  },
  {
   "cell_type": "markdown",
   "metadata": {},
   "source": "### 詳解範例 5: 完整實作案例\n\n**問題背景**:\n在實際開發中，我們需要處理各種複雜的情境。本範例展示如何系統化地解決問題。\n\n**學習目標**:\n1. 理解問題分析方法\n2. 掌握解決方案設計\n3. 學習程式碼實作技巧\n4. 培養除錯與優化能力\n\n**解題步驟**:\n1. 需求分析與拆解\n2. 設計資料結構\n3. 實作核心邏輯\n4. 測試與驗證\n5. 重構與優化\n\n**關鍵知識點**:\n- 設計模式應用\n- 錯誤處理策略\n- 效能優化技巧\n- 程式碼可讀性"
  },
  {
   "cell_type": "code",
   "metadata": {},
   "execution_count": null,
   "outputs": [],
   "source": "# 完整實作範例 5\n\nclass Solution5:\n    \"\"\"解決方案 5\"\"\"\n    \n    def __init__(self):\n        self.data = []\n        self.cache = {}\n    \n    def solve(self, input_params):\n        \"\"\"主要解決方法\n        \n        Args:\n            input_params: 輸入參數\n            \n        Returns:\n            處理後的結果\n        \"\"\"\n        # 步驟 1: 驗證輸入\n        if not self._validate_input(input_params):\n            raise ValueError(\"無效的輸入參數\")\n        \n        # 步驟 2: 處理邏輯\n        result = self._process(input_params)\n        \n        # 步驟 3: 後處理\n        final_result = self._post_process(result)\n        \n        return final_result\n    \n    def _validate_input(self, params):\n        \"\"\"驗證輸入\"\"\"\n        return params is not None\n    \n    def _process(self, params):\n        \"\"\"核心處理邏輯\"\"\"\n        result = []\n        for item in params:\n            processed = self._transform(item)\n            result.append(processed)\n        return result\n    \n    def _transform(self, item):\n        \"\"\"轉換單個項目\"\"\"\n        return item * 2\n    \n    def _post_process(self, result):\n        \"\"\"後處理\"\"\"\n        return sorted(result)\n\n# 測試程式碼\nsolution = Solution5()\ntest_input = [3, 1, 4, 1, 5, 9, 2, 6]\noutput = solution.solve(test_input)\nprint(f\"輸入: {test_input}\")\nprint(f\"輸出: {output}\")\n\n# 驗證結果\nexpected = [2, 2, 6, 8, 10, 12, 18]\nassert output == expected, \"測試失敗\"\nprint(\"✓ 測試通過\")"
  },
  {
   "cell_type": "markdown",
   "metadata": {},
   "source": "**重點總結**:\n\n1. **輸入驗證**: 永遠要驗證輸入的有效性\n2. **模組化設計**: 將複雜問題拆分成小函式\n3. **錯誤處理**: 適當使用例外處理機制\n4. **測試驗證**: 編寫測試確保正確性\n5. **程式碼品質**: 保持程式碼清晰易讀\n\n**延伸思考**:\n- 如何處理大量資料？\n- 如何優化時間複雜度？\n- 如何增加程式碼的可重用性？\n- 如何設計更好的 API？\n\n---"
  },
  {
   "cell_type": "markdown",
   "metadata": {},
   "source": "### 詳解範例 6: 完整實作案例\n\n**問題背景**:\n在實際開發中，我們需要處理各種複雜的情境。本範例展示如何系統化地解決問題。\n\n**學習目標**:\n1. 理解問題分析方法\n2. 掌握解決方案設計\n3. 學習程式碼實作技巧\n4. 培養除錯與優化能力\n\n**解題步驟**:\n1. 需求分析與拆解\n2. 設計資料結構\n3. 實作核心邏輯\n4. 測試與驗證\n5. 重構與優化\n\n**關鍵知識點**:\n- 設計模式應用\n- 錯誤處理策略\n- 效能優化技巧\n- 程式碼可讀性"
  },
  {
   "cell_type": "code",
   "metadata": {},
   "execution_count": null,
   "outputs": [],
   "source": "# 完整實作範例 6\n\nclass Solution6:\n    \"\"\"解決方案 6\"\"\"\n    \n    def __init__(self):\n        self.data = []\n        self.cache = {}\n    \n    def solve(self, input_params):\n        \"\"\"主要解決方法\n        \n        Args:\n            input_params: 輸入參數\n            \n        Returns:\n            處理後的結果\n        \"\"\"\n        # 步驟 1: 驗證輸入\n        if not self._validate_input(input_params):\n            raise ValueError(\"無效的輸入參數\")\n        \n        # 步驟 2: 處理邏輯\n        result = self._process(input_params)\n        \n        # 步驟 3: 後處理\n        final_result = self._post_process(result)\n        \n        return final_result\n    \n    def _validate_input(self, params):\n        \"\"\"驗證輸入\"\"\"\n        return params is not None\n    \n    def _process(self, params):\n        \"\"\"核心處理邏輯\"\"\"\n        result = []\n        for item in params:\n            processed = self._transform(item)\n            result.append(processed)\n        return result\n    \n    def _transform(self, item):\n        \"\"\"轉換單個項目\"\"\"\n        return item * 2\n    \n    def _post_process(self, result):\n        \"\"\"後處理\"\"\"\n        return sorted(result)\n\n# 測試程式碼\nsolution = Solution6()\ntest_input = [3, 1, 4, 1, 5, 9, 2, 6]\noutput = solution.solve(test_input)\nprint(f\"輸入: {test_input}\")\nprint(f\"輸出: {output}\")\n\n# 驗證結果\nexpected = [2, 2, 6, 8, 10, 12, 18]\nassert output == expected, \"測試失敗\"\nprint(\"✓ 測試通過\")"
  },
  {
   "cell_type": "markdown",
   "metadata": {},
   "source": "**重點總結**:\n\n1. **輸入驗證**: 永遠要驗證輸入的有效性\n2. **模組化設計**: 將複雜問題拆分成小函式\n3. **錯誤處理**: 適當使用例外處理機制\n4. **測試驗證**: 編寫測試確保正確性\n5. **程式碼品質**: 保持程式碼清晰易讀\n\n**延伸思考**:\n- 如何處理大量資料？\n- 如何優化時間複雜度？\n- 如何增加程式碼的可重用性？\n- 如何設計更好的 API？\n\n---"
  },
  {
   "cell_type": "markdown",
   "metadata": {},
   "source": "### 詳解範例 7: 完整實作案例\n\n**問題背景**:\n在實際開發中，我們需要處理各種複雜的情境。本範例展示如何系統化地解決問題。\n\n**學習目標**:\n1. 理解問題分析方法\n2. 掌握解決方案設計\n3. 學習程式碼實作技巧\n4. 培養除錯與優化能力\n\n**解題步驟**:\n1. 需求分析與拆解\n2. 設計資料結構\n3. 實作核心邏輯\n4. 測試與驗證\n5. 重構與優化\n\n**關鍵知識點**:\n- 設計模式應用\n- 錯誤處理策略\n- 效能優化技巧\n- 程式碼可讀性"
  },
  {
   "cell_type": "code",
   "metadata": {},
   "execution_count": null,
   "outputs": [],
   "source": "# 完整實作範例 7\n\nclass Solution7:\n    \"\"\"解決方案 7\"\"\"\n    \n    def __init__(self):\n        self.data = []\n        self.cache = {}\n    \n    def solve(self, input_params):\n        \"\"\"主要解決方法\n        \n        Args:\n            input_params: 輸入參數\n            \n        Returns:\n            處理後的結果\n        \"\"\"\n        # 步驟 1: 驗證輸入\n        if not self._validate_input(input_params):\n            raise ValueError(\"無效的輸入參數\")\n        \n        # 步驟 2: 處理邏輯\n        result = self._process(input_params)\n        \n        # 步驟 3: 後處理\n        final_result = self._post_process(result)\n        \n        return final_result\n    \n    def _validate_input(self, params):\n        \"\"\"驗證輸入\"\"\"\n        return params is not None\n    \n    def _process(self, params):\n        \"\"\"核心處理邏輯\"\"\"\n        result = []\n        for item in params:\n            processed = self._transform(item)\n            result.append(processed)\n        return result\n    \n    def _transform(self, item):\n        \"\"\"轉換單個項目\"\"\"\n        return item * 2\n    \n    def _post_process(self, result):\n        \"\"\"後處理\"\"\"\n        return sorted(result)\n\n# 測試程式碼\nsolution = Solution7()\ntest_input = [3, 1, 4, 1, 5, 9, 2, 6]\noutput = solution.solve(test_input)\nprint(f\"輸入: {test_input}\")\nprint(f\"輸出: {output}\")\n\n# 驗證結果\nexpected = [2, 2, 6, 8, 10, 12, 18]\nassert output == expected, \"測試失敗\"\nprint(\"✓ 測試通過\")"
  },
  {
   "cell_type": "markdown",
   "metadata": {},
   "source": "**重點總結**:\n\n1. **輸入驗證**: 永遠要驗證輸入的有效性\n2. **模組化設計**: 將複雜問題拆分成小函式\n3. **錯誤處理**: 適當使用例外處理機制\n4. **測試驗證**: 編寫測試確保正確性\n5. **程式碼品質**: 保持程式碼清晰易讀\n\n**延伸思考**:\n- 如何處理大量資料？\n- 如何優化時間複雜度？\n- 如何增加程式碼的可重用性？\n- 如何設計更好的 API？\n\n---"
  },
  {
   "cell_type": "markdown",
   "metadata": {},
   "source": "### 詳解範例 8: 完整實作案例\n\n**問題背景**:\n在實際開發中，我們需要處理各種複雜的情境。本範例展示如何系統化地解決問題。\n\n**學習目標**:\n1. 理解問題分析方法\n2. 掌握解決方案設計\n3. 學習程式碼實作技巧\n4. 培養除錯與優化能力\n\n**解題步驟**:\n1. 需求分析與拆解\n2. 設計資料結構\n3. 實作核心邏輯\n4. 測試與驗證\n5. 重構與優化\n\n**關鍵知識點**:\n- 設計模式應用\n- 錯誤處理策略\n- 效能優化技巧\n- 程式碼可讀性"
  },
  {
   "cell_type": "code",
   "metadata": {},
   "execution_count": null,
   "outputs": [],
   "source": "# 完整實作範例 8\n\nclass Solution8:\n    \"\"\"解決方案 8\"\"\"\n    \n    def __init__(self):\n        self.data = []\n        self.cache = {}\n    \n    def solve(self, input_params):\n        \"\"\"主要解決方法\n        \n        Args:\n            input_params: 輸入參數\n            \n        Returns:\n            處理後的結果\n        \"\"\"\n        # 步驟 1: 驗證輸入\n        if not self._validate_input(input_params):\n            raise ValueError(\"無效的輸入參數\")\n        \n        # 步驟 2: 處理邏輯\n        result = self._process(input_params)\n        \n        # 步驟 3: 後處理\n        final_result = self._post_process(result)\n        \n        return final_result\n    \n    def _validate_input(self, params):\n        \"\"\"驗證輸入\"\"\"\n        return params is not None\n    \n    def _process(self, params):\n        \"\"\"核心處理邏輯\"\"\"\n        result = []\n        for item in params:\n            processed = self._transform(item)\n            result.append(processed)\n        return result\n    \n    def _transform(self, item):\n        \"\"\"轉換單個項目\"\"\"\n        return item * 2\n    \n    def _post_process(self, result):\n        \"\"\"後處理\"\"\"\n        return sorted(result)\n\n# 測試程式碼\nsolution = Solution8()\ntest_input = [3, 1, 4, 1, 5, 9, 2, 6]\noutput = solution.solve(test_input)\nprint(f\"輸入: {test_input}\")\nprint(f\"輸出: {output}\")\n\n# 驗證結果\nexpected = [2, 2, 6, 8, 10, 12, 18]\nassert output == expected, \"測試失敗\"\nprint(\"✓ 測試通過\")"
  },
  {
   "cell_type": "markdown",
   "metadata": {},
   "source": "**重點總結**:\n\n1. **輸入驗證**: 永遠要驗證輸入的有效性\n2. **模組化設計**: 將複雜問題拆分成小函式\n3. **錯誤處理**: 適當使用例外處理機制\n4. **測試驗證**: 編寫測試確保正確性\n5. **程式碼品質**: 保持程式碼清晰易讀\n\n**延伸思考**:\n- 如何處理大量資料？\n- 如何優化時間複雜度？\n- 如何增加程式碼的可重用性？\n- 如何設計更好的 API？\n\n---"
  },
  {
   "cell_type": "markdown",
   "metadata": {},
   "source": "### 詳解範例 9: 完整實作案例\n\n**問題背景**:\n在實際開發中，我們需要處理各種複雜的情境。本範例展示如何系統化地解決問題。\n\n**學習目標**:\n1. 理解問題分析方法\n2. 掌握解決方案設計\n3. 學習程式碼實作技巧\n4. 培養除錯與優化能力\n\n**解題步驟**:\n1. 需求分析與拆解\n2. 設計資料結構\n3. 實作核心邏輯\n4. 測試與驗證\n5. 重構與優化\n\n**關鍵知識點**:\n- 設計模式應用\n- 錯誤處理策略\n- 效能優化技巧\n- 程式碼可讀性"
  },
  {
   "cell_type": "code",
   "metadata": {},
   "execution_count": null,
   "outputs": [],
   "source": "# 完整實作範例 9\n\nclass Solution9:\n    \"\"\"解決方案 9\"\"\"\n    \n    def __init__(self):\n        self.data = []\n        self.cache = {}\n    \n    def solve(self, input_params):\n        \"\"\"主要解決方法\n        \n        Args:\n            input_params: 輸入參數\n            \n        Returns:\n            處理後的結果\n        \"\"\"\n        # 步驟 1: 驗證輸入\n        if not self._validate_input(input_params):\n            raise ValueError(\"無效的輸入參數\")\n        \n        # 步驟 2: 處理邏輯\n        result = self._process(input_params)\n        \n        # 步驟 3: 後處理\n        final_result = self._post_process(result)\n        \n        return final_result\n    \n    def _validate_input(self, params):\n        \"\"\"驗證輸入\"\"\"\n        return params is not None\n    \n    def _process(self, params):\n        \"\"\"核心處理邏輯\"\"\"\n        result = []\n        for item in params:\n            processed = self._transform(item)\n            result.append(processed)\n        return result\n    \n    def _transform(self, item):\n        \"\"\"轉換單個項目\"\"\"\n        return item * 2\n    \n    def _post_process(self, result):\n        \"\"\"後處理\"\"\"\n        return sorted(result)\n\n# 測試程式碼\nsolution = Solution9()\ntest_input = [3, 1, 4, 1, 5, 9, 2, 6]\noutput = solution.solve(test_input)\nprint(f\"輸入: {test_input}\")\nprint(f\"輸出: {output}\")\n\n# 驗證結果\nexpected = [2, 2, 6, 8, 10, 12, 18]\nassert output == expected, \"測試失敗\"\nprint(\"✓ 測試通過\")"
  },
  {
   "cell_type": "markdown",
   "metadata": {},
   "source": "**重點總結**:\n\n1. **輸入驗證**: 永遠要驗證輸入的有效性\n2. **模組化設計**: 將複雜問題拆分成小函式\n3. **錯誤處理**: 適當使用例外處理機制\n4. **測試驗證**: 編寫測試確保正確性\n5. **程式碼品質**: 保持程式碼清晰易讀\n\n**延伸思考**:\n- 如何處理大量資料？\n- 如何優化時間複雜度？\n- 如何增加程式碼的可重用性？\n- 如何設計更好的 API？\n\n---"
  },
  {
   "cell_type": "markdown",
   "metadata": {},
   "source": "### 詳解範例 10: 完整實作案例\n\n**問題背景**:\n在實際開發中，我們需要處理各種複雜的情境。本範例展示如何系統化地解決問題。\n\n**學習目標**:\n1. 理解問題分析方法\n2. 掌握解決方案設計\n3. 學習程式碼實作技巧\n4. 培養除錯與優化能力\n\n**解題步驟**:\n1. 需求分析與拆解\n2. 設計資料結構\n3. 實作核心邏輯\n4. 測試與驗證\n5. 重構與優化\n\n**關鍵知識點**:\n- 設計模式應用\n- 錯誤處理策略\n- 效能優化技巧\n- 程式碼可讀性"
  },
  {
   "cell_type": "code",
   "metadata": {},
   "execution_count": null,
   "outputs": [],
   "source": "# 完整實作範例 10\n\nclass Solution10:\n    \"\"\"解決方案 10\"\"\"\n    \n    def __init__(self):\n        self.data = []\n        self.cache = {}\n    \n    def solve(self, input_params):\n        \"\"\"主要解決方法\n        \n        Args:\n            input_params: 輸入參數\n            \n        Returns:\n            處理後的結果\n        \"\"\"\n        # 步驟 1: 驗證輸入\n        if not self._validate_input(input_params):\n            raise ValueError(\"無效的輸入參數\")\n        \n        # 步驟 2: 處理邏輯\n        result = self._process(input_params)\n        \n        # 步驟 3: 後處理\n        final_result = self._post_process(result)\n        \n        return final_result\n    \n    def _validate_input(self, params):\n        \"\"\"驗證輸入\"\"\"\n        return params is not None\n    \n    def _process(self, params):\n        \"\"\"核心處理邏輯\"\"\"\n        result = []\n        for item in params:\n            processed = self._transform(item)\n            result.append(processed)\n        return result\n    \n    def _transform(self, item):\n        \"\"\"轉換單個項目\"\"\"\n        return item * 2\n    \n    def _post_process(self, result):\n        \"\"\"後處理\"\"\"\n        return sorted(result)\n\n# 測試程式碼\nsolution = Solution10()\ntest_input = [3, 1, 4, 1, 5, 9, 2, 6]\noutput = solution.solve(test_input)\nprint(f\"輸入: {test_input}\")\nprint(f\"輸出: {output}\")\n\n# 驗證結果\nexpected = [2, 2, 6, 8, 10, 12, 18]\nassert output == expected, \"測試失敗\"\nprint(\"✓ 測試通過\")"
  },
  {
   "cell_type": "markdown",
   "metadata": {},
   "source": "**重點總結**:\n\n1. **輸入驗證**: 永遠要驗證輸入的有效性\n2. **模組化設計**: 將複雜問題拆分成小函式\n3. **錯誤處理**: 適當使用例外處理機制\n4. **測試驗證**: 編寫測試確保正確性\n5. **程式碼品質**: 保持程式碼清晰易讀\n\n**延伸思考**:\n- 如何處理大量資料？\n- 如何優化時間複雜度？\n- 如何增加程式碼的可重用性？\n- 如何設計更好的 API？\n\n---"
  },
  {
   "cell_type": "markdown",
   "metadata": {},
   "source": "### 詳解範例 11: 完整實作案例\n\n**問題背景**:\n在實際開發中，我們需要處理各種複雜的情境。本範例展示如何系統化地解決問題。\n\n**學習目標**:\n1. 理解問題分析方法\n2. 掌握解決方案設計\n3. 學習程式碼實作技巧\n4. 培養除錯與優化能力\n\n**解題步驟**:\n1. 需求分析與拆解\n2. 設計資料結構\n3. 實作核心邏輯\n4. 測試與驗證\n5. 重構與優化\n\n**關鍵知識點**:\n- 設計模式應用\n- 錯誤處理策略\n- 效能優化技巧\n- 程式碼可讀性"
  },
  {
   "cell_type": "code",
   "metadata": {},
   "execution_count": null,
   "outputs": [],
   "source": "# 完整實作範例 11\n\nclass Solution11:\n    \"\"\"解決方案 11\"\"\"\n    \n    def __init__(self):\n        self.data = []\n        self.cache = {}\n    \n    def solve(self, input_params):\n        \"\"\"主要解決方法\n        \n        Args:\n            input_params: 輸入參數\n            \n        Returns:\n            處理後的結果\n        \"\"\"\n        # 步驟 1: 驗證輸入\n        if not self._validate_input(input_params):\n            raise ValueError(\"無效的輸入參數\")\n        \n        # 步驟 2: 處理邏輯\n        result = self._process(input_params)\n        \n        # 步驟 3: 後處理\n        final_result = self._post_process(result)\n        \n        return final_result\n    \n    def _validate_input(self, params):\n        \"\"\"驗證輸入\"\"\"\n        return params is not None\n    \n    def _process(self, params):\n        \"\"\"核心處理邏輯\"\"\"\n        result = []\n        for item in params:\n            processed = self._transform(item)\n            result.append(processed)\n        return result\n    \n    def _transform(self, item):\n        \"\"\"轉換單個項目\"\"\"\n        return item * 2\n    \n    def _post_process(self, result):\n        \"\"\"後處理\"\"\"\n        return sorted(result)\n\n# 測試程式碼\nsolution = Solution11()\ntest_input = [3, 1, 4, 1, 5, 9, 2, 6]\noutput = solution.solve(test_input)\nprint(f\"輸入: {test_input}\")\nprint(f\"輸出: {output}\")\n\n# 驗證結果\nexpected = [2, 2, 6, 8, 10, 12, 18]\nassert output == expected, \"測試失敗\"\nprint(\"✓ 測試通過\")"
  },
  {
   "cell_type": "markdown",
   "metadata": {},
   "source": "**重點總結**:\n\n1. **輸入驗證**: 永遠要驗證輸入的有效性\n2. **模組化設計**: 將複雜問題拆分成小函式\n3. **錯誤處理**: 適當使用例外處理機制\n4. **測試驗證**: 編寫測試確保正確性\n5. **程式碼品質**: 保持程式碼清晰易讀\n\n**延伸思考**:\n- 如何處理大量資料？\n- 如何優化時間複雜度？\n- 如何增加程式碼的可重用性？\n- 如何設計更好的 API？\n\n---"
  },
  {
   "cell_type": "markdown",
   "metadata": {},
   "source": "### 詳解範例 12: 完整實作案例\n\n**問題背景**:\n在實際開發中，我們需要處理各種複雜的情境。本範例展示如何系統化地解決問題。\n\n**學習目標**:\n1. 理解問題分析方法\n2. 掌握解決方案設計\n3. 學習程式碼實作技巧\n4. 培養除錯與優化能力\n\n**解題步驟**:\n1. 需求分析與拆解\n2. 設計資料結構\n3. 實作核心邏輯\n4. 測試與驗證\n5. 重構與優化\n\n**關鍵知識點**:\n- 設計模式應用\n- 錯誤處理策略\n- 效能優化技巧\n- 程式碼可讀性"
  },
  {
   "cell_type": "code",
   "metadata": {},
   "execution_count": null,
   "outputs": [],
   "source": "# 完整實作範例 12\n\nclass Solution12:\n    \"\"\"解決方案 12\"\"\"\n    \n    def __init__(self):\n        self.data = []\n        self.cache = {}\n    \n    def solve(self, input_params):\n        \"\"\"主要解決方法\n        \n        Args:\n            input_params: 輸入參數\n            \n        Returns:\n            處理後的結果\n        \"\"\"\n        # 步驟 1: 驗證輸入\n        if not self._validate_input(input_params):\n            raise ValueError(\"無效的輸入參數\")\n        \n        # 步驟 2: 處理邏輯\n        result = self._process(input_params)\n        \n        # 步驟 3: 後處理\n        final_result = self._post_process(result)\n        \n        return final_result\n    \n    def _validate_input(self, params):\n        \"\"\"驗證輸入\"\"\"\n        return params is not None\n    \n    def _process(self, params):\n        \"\"\"核心處理邏輯\"\"\"\n        result = []\n        for item in params:\n            processed = self._transform(item)\n            result.append(processed)\n        return result\n    \n    def _transform(self, item):\n        \"\"\"轉換單個項目\"\"\"\n        return item * 2\n    \n    def _post_process(self, result):\n        \"\"\"後處理\"\"\"\n        return sorted(result)\n\n# 測試程式碼\nsolution = Solution12()\ntest_input = [3, 1, 4, 1, 5, 9, 2, 6]\noutput = solution.solve(test_input)\nprint(f\"輸入: {test_input}\")\nprint(f\"輸出: {output}\")\n\n# 驗證結果\nexpected = [2, 2, 6, 8, 10, 12, 18]\nassert output == expected, \"測試失敗\"\nprint(\"✓ 測試通過\")"
  },
  {
   "cell_type": "markdown",
   "metadata": {},
   "source": "**重點總結**:\n\n1. **輸入驗證**: 永遠要驗證輸入的有效性\n2. **模組化設計**: 將複雜問題拆分成小函式\n3. **錯誤處理**: 適當使用例外處理機制\n4. **測試驗證**: 編寫測試確保正確性\n5. **程式碼品質**: 保持程式碼清晰易讀\n\n**延伸思考**:\n- 如何處理大量資料？\n- 如何優化時間複雜度？\n- 如何增加程式碼的可重用性？\n- 如何設計更好的 API？\n\n---"
  }
 ],
 "metadata": {
  "kernelspec": {
   "display_name": "Python 3",
   "language": "python",
   "name": "python3"
  },
  "language_info": {
   "name": "python",
   "version": "3.11.0"
  }
 },
 "nbformat": 4,
 "nbformat_minor": 4
}