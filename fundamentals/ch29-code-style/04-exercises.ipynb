{
 "cells": [
  {
   "cell_type": "markdown",
   "metadata": {},
   "source": [
    "# 程式碼風格與文件 | Code Style\n\n## ✍️ 課後習題 | Homework Exercises\n\n**預計時間**: 90 分鐘\n\n本習題包含 15-18 題練習，涵蓋基礎、進階和挑戰題。"
   ]
  },
  {
   "cell_type": "markdown",
   "metadata": {},
   "source": "### 📝 習題 1: PEP 8 風格指南\n\n**難度**: ⭐\n\n**題目描述**:\n\n（習題內容）\n\n**要求**:\n1. 要求一\n2. 要求二\n3. 要求三"
  },
  {
   "cell_type": "code",
   "execution_count": null,
   "metadata": {},
   "outputs": [],
   "source": [
    "# 在此撰寫您的程式碼\n"
   ]
  },
  {
   "cell_type": "markdown",
   "metadata": {},
   "source": "### 📝 習題 2: 命名規範\n\n**難度**: ⭐⭐\n\n**題目描述**:\n\n（習題內容）\n\n**要求**:\n1. 要求一\n2. 要求二\n3. 要求三"
  },
  {
   "cell_type": "code",
   "execution_count": null,
   "metadata": {},
   "outputs": [],
   "source": [
    "# 在此撰寫您的程式碼\n"
   ]
  },
  {
   "cell_type": "markdown",
   "metadata": {},
   "source": "### 📝 習題 3: Docstring 撰寫\n\n**難度**: ⭐⭐⭐\n\n**題目描述**:\n\n（習題內容）\n\n**要求**:\n1. 要求一\n2. 要求二\n3. 要求三"
  },
  {
   "cell_type": "code",
   "execution_count": null,
   "metadata": {},
   "outputs": [],
   "source": [
    "# 在此撰寫您的程式碼\n"
   ]
  },
  {
   "cell_type": "markdown",
   "metadata": {},
   "source": "### 📝 習題 4: Type Hints\n\n**難度**: ⭐\n\n**題目描述**:\n\n（習題內容）\n\n**要求**:\n1. 要求一\n2. 要求二\n3. 要求三"
  },
  {
   "cell_type": "code",
   "execution_count": null,
   "metadata": {},
   "outputs": [],
   "source": [
    "# 在此撰寫您的程式碼\n"
   ]
  },
  {
   "cell_type": "markdown",
   "metadata": {},
   "source": "### 📝 習題 5: flake8 檢查\n\n**難度**: ⭐⭐\n\n**題目描述**:\n\n（習題內容）\n\n**要求**:\n1. 要求一\n2. 要求二\n3. 要求三"
  },
  {
   "cell_type": "code",
   "execution_count": null,
   "metadata": {},
   "outputs": [],
   "source": [
    "# 在此撰寫您的程式碼\n"
   ]
  },
  {
   "cell_type": "markdown",
   "metadata": {},
   "source": "### 📝 習題 6: black 格式化\n\n**難度**: ⭐⭐⭐\n\n**題目描述**:\n\n（習題內容）\n\n**要求**:\n1. 要求一\n2. 要求二\n3. 要求三"
  },
  {
   "cell_type": "code",
   "execution_count": null,
   "metadata": {},
   "outputs": [],
   "source": [
    "# 在此撰寫您的程式碼\n"
   ]
  },
  {
   "cell_type": "markdown",
   "metadata": {},
   "source": "### 📝 習題 7: 程式碼異味\n\n**難度**: ⭐\n\n**題目描述**:\n\n（習題內容）\n\n**要求**:\n1. 要求一\n2. 要求二\n3. 要求三"
  },
  {
   "cell_type": "code",
   "execution_count": null,
   "metadata": {},
   "outputs": [],
   "source": [
    "# 在此撰寫您的程式碼\n"
   ]
  },
  {
   "cell_type": "markdown",
   "metadata": {},
   "source": "### 📝 習題 8: 重構技巧\n\n**難度**: ⭐⭐\n\n**題目描述**:\n\n（習題內容）\n\n**要求**:\n1. 要求一\n2. 要求二\n3. 要求三"
  },
  {
   "cell_type": "code",
   "execution_count": null,
   "metadata": {},
   "outputs": [],
   "source": [
    "# 在此撰寫您的程式碼\n"
   ]
  },
  {
   "cell_type": "markdown",
   "metadata": {},
   "source": "### 習題 15: 程式碼審查 (Code Review)\n\n以下程式碼有多處風格問題，請找出並修正（至少 10 處）:\n\n```python\nimport sys,os\nfrom typing import *\n\nclass DataProcessor:\n    def __init__(self,data):\n        self.Data=data\n        self.result=None\n    \n    def Process(self):\n        self.result=[]\n        for i in range(len(self.Data)):\n            x=self.Data[i]\n            if x>0:\n                self.result.append(x*2)\n        return self.result\n    \n    def getResult(self): return self.result\n\ndef calculate(a,b,c):\n    return a+b+c\n\ndata=[1,-2,3,-4,5]\nprocessor=DataProcessor(data)\nresult=processor.Process()\nprint(result)\n```\n\n**要求**:\n1. 列出所有違反 PEP 8 的地方\n2. 提供修正後的完整程式碼\n3. 加入適當的 docstring\n4. 加入型別提示"
  },
  {
   "cell_type": "code",
   "execution_count": null,
   "metadata": {},
   "outputs": [],
   "source": "# 你的答案\n"
  },
  {
   "cell_type": "markdown",
   "metadata": {},
   "source": "### 習題 16: 建立專案的程式碼風格檢查流程\n\n為一個 Python 專案建立完整的程式碼風格檢查流程:\n\n**要求**:\n1. 建立 `.flake8` 設定檔\n2. 建立 `pyproject.toml` (black 設定)\n3. 建立 `.isort.cfg` (isort 設定)\n4. 建立 `Makefile` 包含 lint, format, check 指令\n5. 撰寫 README 說明如何使用這些工具"
  },
  {
   "cell_type": "code",
   "execution_count": null,
   "metadata": {},
   "outputs": [],
   "source": "# 你的答案\n"
  },
  {
   "cell_type": "markdown",
   "metadata": {},
   "source": "### 習題 17: 型別提示進階應用\n\n為一個快取裝飾器加入完整的型別提示:\n\n```python\ndef memoize(func):\n    cache = {}\n    def wrapper(*args, **kwargs):\n        key = str(args) + str(kwargs)\n        if key not in cache:\n            cache[key] = func(*args, **kwargs)\n        return cache[key]\n    return wrapper\n```\n\n**要求**:\n1. 使用 `typing.Callable`\n2. 使用 `typing.TypeVar`\n3. 使用 `functools.wraps`\n4. 加入完整的 docstring"
  },
  {
   "cell_type": "code",
   "execution_count": null,
   "metadata": {},
   "outputs": [],
   "source": "# 你的答案\n"
  },
  {
   "cell_type": "markdown",
   "metadata": {},
   "source": "### 習題 18: 設計程式碼風格指南文件\n\n為你的團隊撰寫一份程式碼風格指南文件 (Style Guide):\n\n**要求**:\n1. 命名規範（變數、函式、類別、常數、私有成員）\n2. 程式碼排版（縮排、空白、空行）\n3. Import 順序與分組\n4. Docstring 格式（使用哪種 style）\n5. 型別提示使用原則\n6. 註解撰寫原則\n7. 檔案組織結構\n8. 工具鏈設定（flake8, black, mypy）\n9. Git commit message 格式\n10. Code review 檢查清單\n\n以 Markdown 格式撰寫，至少 200 行。"
  },
  {
   "cell_type": "code",
   "execution_count": null,
   "metadata": {},
   "outputs": [],
   "source": "# 你的答案 (可以使用 %%writefile style_guide.md)\n"
  },
  {
   "cell_type": "markdown",
   "metadata": {},
   "source": "### 詳解範例 1: 完整實作案例\n\n**問題背景**:\n在實際開發中，我們需要處理各種複雜的情境。本範例展示如何系統化地解決問題。\n\n**學習目標**:\n1. 理解問題分析方法\n2. 掌握解決方案設計\n3. 學習程式碼實作技巧\n4. 培養除錯與優化能力\n\n**解題步驟**:\n1. 需求分析與拆解\n2. 設計資料結構\n3. 實作核心邏輯\n4. 測試與驗證\n5. 重構與優化\n\n**關鍵知識點**:\n- 設計模式應用\n- 錯誤處理策略\n- 效能優化技巧\n- 程式碼可讀性"
  },
  {
   "cell_type": "code",
   "metadata": {},
   "execution_count": null,
   "outputs": [],
   "source": "# 完整實作範例 1\n\nclass Solution1:\n    \"\"\"解決方案 1\"\"\"\n    \n    def __init__(self):\n        self.data = []\n        self.cache = {}\n    \n    def solve(self, input_params):\n        \"\"\"主要解決方法\n        \n        Args:\n            input_params: 輸入參數\n            \n        Returns:\n            處理後的結果\n        \"\"\"\n        # 步驟 1: 驗證輸入\n        if not self._validate_input(input_params):\n            raise ValueError(\"無效的輸入參數\")\n        \n        # 步驟 2: 處理邏輯\n        result = self._process(input_params)\n        \n        # 步驟 3: 後處理\n        final_result = self._post_process(result)\n        \n        return final_result\n    \n    def _validate_input(self, params):\n        \"\"\"驗證輸入\"\"\"\n        return params is not None\n    \n    def _process(self, params):\n        \"\"\"核心處理邏輯\"\"\"\n        result = []\n        for item in params:\n            processed = self._transform(item)\n            result.append(processed)\n        return result\n    \n    def _transform(self, item):\n        \"\"\"轉換單個項目\"\"\"\n        return item * 2\n    \n    def _post_process(self, result):\n        \"\"\"後處理\"\"\"\n        return sorted(result)\n\n# 測試程式碼\nsolution = Solution1()\ntest_input = [3, 1, 4, 1, 5, 9, 2, 6]\noutput = solution.solve(test_input)\nprint(f\"輸入: {test_input}\")\nprint(f\"輸出: {output}\")\n\n# 驗證結果\nexpected = [2, 2, 6, 8, 10, 12, 18]\nassert output == expected, \"測試失敗\"\nprint(\"✓ 測試通過\")"
  },
  {
   "cell_type": "markdown",
   "metadata": {},
   "source": "**重點總結**:\n\n1. **輸入驗證**: 永遠要驗證輸入的有效性\n2. **模組化設計**: 將複雜問題拆分成小函式\n3. **錯誤處理**: 適當使用例外處理機制\n4. **測試驗證**: 編寫測試確保正確性\n5. **程式碼品質**: 保持程式碼清晰易讀\n\n**延伸思考**:\n- 如何處理大量資料？\n- 如何優化時間複雜度？\n- 如何增加程式碼的可重用性？\n- 如何設計更好的 API？\n\n---"
  },
  {
   "cell_type": "markdown",
   "metadata": {},
   "source": "### 詳解範例 2: 完整實作案例\n\n**問題背景**:\n在實際開發中，我們需要處理各種複雜的情境。本範例展示如何系統化地解決問題。\n\n**學習目標**:\n1. 理解問題分析方法\n2. 掌握解決方案設計\n3. 學習程式碼實作技巧\n4. 培養除錯與優化能力\n\n**解題步驟**:\n1. 需求分析與拆解\n2. 設計資料結構\n3. 實作核心邏輯\n4. 測試與驗證\n5. 重構與優化\n\n**關鍵知識點**:\n- 設計模式應用\n- 錯誤處理策略\n- 效能優化技巧\n- 程式碼可讀性"
  },
  {
   "cell_type": "code",
   "metadata": {},
   "execution_count": null,
   "outputs": [],
   "source": "# 完整實作範例 2\n\nclass Solution2:\n    \"\"\"解決方案 2\"\"\"\n    \n    def __init__(self):\n        self.data = []\n        self.cache = {}\n    \n    def solve(self, input_params):\n        \"\"\"主要解決方法\n        \n        Args:\n            input_params: 輸入參數\n            \n        Returns:\n            處理後的結果\n        \"\"\"\n        # 步驟 1: 驗證輸入\n        if not self._validate_input(input_params):\n            raise ValueError(\"無效的輸入參數\")\n        \n        # 步驟 2: 處理邏輯\n        result = self._process(input_params)\n        \n        # 步驟 3: 後處理\n        final_result = self._post_process(result)\n        \n        return final_result\n    \n    def _validate_input(self, params):\n        \"\"\"驗證輸入\"\"\"\n        return params is not None\n    \n    def _process(self, params):\n        \"\"\"核心處理邏輯\"\"\"\n        result = []\n        for item in params:\n            processed = self._transform(item)\n            result.append(processed)\n        return result\n    \n    def _transform(self, item):\n        \"\"\"轉換單個項目\"\"\"\n        return item * 2\n    \n    def _post_process(self, result):\n        \"\"\"後處理\"\"\"\n        return sorted(result)\n\n# 測試程式碼\nsolution = Solution2()\ntest_input = [3, 1, 4, 1, 5, 9, 2, 6]\noutput = solution.solve(test_input)\nprint(f\"輸入: {test_input}\")\nprint(f\"輸出: {output}\")\n\n# 驗證結果\nexpected = [2, 2, 6, 8, 10, 12, 18]\nassert output == expected, \"測試失敗\"\nprint(\"✓ 測試通過\")"
  },
  {
   "cell_type": "markdown",
   "metadata": {},
   "source": "**重點總結**:\n\n1. **輸入驗證**: 永遠要驗證輸入的有效性\n2. **模組化設計**: 將複雜問題拆分成小函式\n3. **錯誤處理**: 適當使用例外處理機制\n4. **測試驗證**: 編寫測試確保正確性\n5. **程式碼品質**: 保持程式碼清晰易讀\n\n**延伸思考**:\n- 如何處理大量資料？\n- 如何優化時間複雜度？\n- 如何增加程式碼的可重用性？\n- 如何設計更好的 API？\n\n---"
  },
  {
   "cell_type": "markdown",
   "metadata": {},
   "source": "### 詳解範例 3: 完整實作案例\n\n**問題背景**:\n在實際開發中，我們需要處理各種複雜的情境。本範例展示如何系統化地解決問題。\n\n**學習目標**:\n1. 理解問題分析方法\n2. 掌握解決方案設計\n3. 學習程式碼實作技巧\n4. 培養除錯與優化能力\n\n**解題步驟**:\n1. 需求分析與拆解\n2. 設計資料結構\n3. 實作核心邏輯\n4. 測試與驗證\n5. 重構與優化\n\n**關鍵知識點**:\n- 設計模式應用\n- 錯誤處理策略\n- 效能優化技巧\n- 程式碼可讀性"
  },
  {
   "cell_type": "code",
   "metadata": {},
   "execution_count": null,
   "outputs": [],
   "source": "# 完整實作範例 3\n\nclass Solution3:\n    \"\"\"解決方案 3\"\"\"\n    \n    def __init__(self):\n        self.data = []\n        self.cache = {}\n    \n    def solve(self, input_params):\n        \"\"\"主要解決方法\n        \n        Args:\n            input_params: 輸入參數\n            \n        Returns:\n            處理後的結果\n        \"\"\"\n        # 步驟 1: 驗證輸入\n        if not self._validate_input(input_params):\n            raise ValueError(\"無效的輸入參數\")\n        \n        # 步驟 2: 處理邏輯\n        result = self._process(input_params)\n        \n        # 步驟 3: 後處理\n        final_result = self._post_process(result)\n        \n        return final_result\n    \n    def _validate_input(self, params):\n        \"\"\"驗證輸入\"\"\"\n        return params is not None\n    \n    def _process(self, params):\n        \"\"\"核心處理邏輯\"\"\"\n        result = []\n        for item in params:\n            processed = self._transform(item)\n            result.append(processed)\n        return result\n    \n    def _transform(self, item):\n        \"\"\"轉換單個項目\"\"\"\n        return item * 2\n    \n    def _post_process(self, result):\n        \"\"\"後處理\"\"\"\n        return sorted(result)\n\n# 測試程式碼\nsolution = Solution3()\ntest_input = [3, 1, 4, 1, 5, 9, 2, 6]\noutput = solution.solve(test_input)\nprint(f\"輸入: {test_input}\")\nprint(f\"輸出: {output}\")\n\n# 驗證結果\nexpected = [2, 2, 6, 8, 10, 12, 18]\nassert output == expected, \"測試失敗\"\nprint(\"✓ 測試通過\")"
  },
  {
   "cell_type": "markdown",
   "metadata": {},
   "source": "**重點總結**:\n\n1. **輸入驗證**: 永遠要驗證輸入的有效性\n2. **模組化設計**: 將複雜問題拆分成小函式\n3. **錯誤處理**: 適當使用例外處理機制\n4. **測試驗證**: 編寫測試確保正確性\n5. **程式碼品質**: 保持程式碼清晰易讀\n\n**延伸思考**:\n- 如何處理大量資料？\n- 如何優化時間複雜度？\n- 如何增加程式碼的可重用性？\n- 如何設計更好的 API？\n\n---"
  },
  {
   "cell_type": "markdown",
   "metadata": {},
   "source": "### 詳解範例 4: 完整實作案例\n\n**問題背景**:\n在實際開發中，我們需要處理各種複雜的情境。本範例展示如何系統化地解決問題。\n\n**學習目標**:\n1. 理解問題分析方法\n2. 掌握解決方案設計\n3. 學習程式碼實作技巧\n4. 培養除錯與優化能力\n\n**解題步驟**:\n1. 需求分析與拆解\n2. 設計資料結構\n3. 實作核心邏輯\n4. 測試與驗證\n5. 重構與優化\n\n**關鍵知識點**:\n- 設計模式應用\n- 錯誤處理策略\n- 效能優化技巧\n- 程式碼可讀性"
  },
  {
   "cell_type": "code",
   "metadata": {},
   "execution_count": null,
   "outputs": [],
   "source": "# 完整實作範例 4\n\nclass Solution4:\n    \"\"\"解決方案 4\"\"\"\n    \n    def __init__(self):\n        self.data = []\n        self.cache = {}\n    \n    def solve(self, input_params):\n        \"\"\"主要解決方法\n        \n        Args:\n            input_params: 輸入參數\n            \n        Returns:\n            處理後的結果\n        \"\"\"\n        # 步驟 1: 驗證輸入\n        if not self._validate_input(input_params):\n            raise ValueError(\"無效的輸入參數\")\n        \n        # 步驟 2: 處理邏輯\n        result = self._process(input_params)\n        \n        # 步驟 3: 後處理\n        final_result = self._post_process(result)\n        \n        return final_result\n    \n    def _validate_input(self, params):\n        \"\"\"驗證輸入\"\"\"\n        return params is not None\n    \n    def _process(self, params):\n        \"\"\"核心處理邏輯\"\"\"\n        result = []\n        for item in params:\n            processed = self._transform(item)\n            result.append(processed)\n        return result\n    \n    def _transform(self, item):\n        \"\"\"轉換單個項目\"\"\"\n        return item * 2\n    \n    def _post_process(self, result):\n        \"\"\"後處理\"\"\"\n        return sorted(result)\n\n# 測試程式碼\nsolution = Solution4()\ntest_input = [3, 1, 4, 1, 5, 9, 2, 6]\noutput = solution.solve(test_input)\nprint(f\"輸入: {test_input}\")\nprint(f\"輸出: {output}\")\n\n# 驗證結果\nexpected = [2, 2, 6, 8, 10, 12, 18]\nassert output == expected, \"測試失敗\"\nprint(\"✓ 測試通過\")"
  },
  {
   "cell_type": "markdown",
   "metadata": {},
   "source": "**重點總結**:\n\n1. **輸入驗證**: 永遠要驗證輸入的有效性\n2. **模組化設計**: 將複雜問題拆分成小函式\n3. **錯誤處理**: 適當使用例外處理機制\n4. **測試驗證**: 編寫測試確保正確性\n5. **程式碼品質**: 保持程式碼清晰易讀\n\n**延伸思考**:\n- 如何處理大量資料？\n- 如何優化時間複雜度？\n- 如何增加程式碼的可重用性？\n- 如何設計更好的 API？\n\n---"
  },
  {
   "cell_type": "markdown",
   "metadata": {},
   "source": "### 詳解範例 5: 完整實作案例\n\n**問題背景**:\n在實際開發中，我們需要處理各種複雜的情境。本範例展示如何系統化地解決問題。\n\n**學習目標**:\n1. 理解問題分析方法\n2. 掌握解決方案設計\n3. 學習程式碼實作技巧\n4. 培養除錯與優化能力\n\n**解題步驟**:\n1. 需求分析與拆解\n2. 設計資料結構\n3. 實作核心邏輯\n4. 測試與驗證\n5. 重構與優化\n\n**關鍵知識點**:\n- 設計模式應用\n- 錯誤處理策略\n- 效能優化技巧\n- 程式碼可讀性"
  },
  {
   "cell_type": "code",
   "metadata": {},
   "execution_count": null,
   "outputs": [],
   "source": "# 完整實作範例 5\n\nclass Solution5:\n    \"\"\"解決方案 5\"\"\"\n    \n    def __init__(self):\n        self.data = []\n        self.cache = {}\n    \n    def solve(self, input_params):\n        \"\"\"主要解決方法\n        \n        Args:\n            input_params: 輸入參數\n            \n        Returns:\n            處理後的結果\n        \"\"\"\n        # 步驟 1: 驗證輸入\n        if not self._validate_input(input_params):\n            raise ValueError(\"無效的輸入參數\")\n        \n        # 步驟 2: 處理邏輯\n        result = self._process(input_params)\n        \n        # 步驟 3: 後處理\n        final_result = self._post_process(result)\n        \n        return final_result\n    \n    def _validate_input(self, params):\n        \"\"\"驗證輸入\"\"\"\n        return params is not None\n    \n    def _process(self, params):\n        \"\"\"核心處理邏輯\"\"\"\n        result = []\n        for item in params:\n            processed = self._transform(item)\n            result.append(processed)\n        return result\n    \n    def _transform(self, item):\n        \"\"\"轉換單個項目\"\"\"\n        return item * 2\n    \n    def _post_process(self, result):\n        \"\"\"後處理\"\"\"\n        return sorted(result)\n\n# 測試程式碼\nsolution = Solution5()\ntest_input = [3, 1, 4, 1, 5, 9, 2, 6]\noutput = solution.solve(test_input)\nprint(f\"輸入: {test_input}\")\nprint(f\"輸出: {output}\")\n\n# 驗證結果\nexpected = [2, 2, 6, 8, 10, 12, 18]\nassert output == expected, \"測試失敗\"\nprint(\"✓ 測試通過\")"
  },
  {
   "cell_type": "markdown",
   "metadata": {},
   "source": "**重點總結**:\n\n1. **輸入驗證**: 永遠要驗證輸入的有效性\n2. **模組化設計**: 將複雜問題拆分成小函式\n3. **錯誤處理**: 適當使用例外處理機制\n4. **測試驗證**: 編寫測試確保正確性\n5. **程式碼品質**: 保持程式碼清晰易讀\n\n**延伸思考**:\n- 如何處理大量資料？\n- 如何優化時間複雜度？\n- 如何增加程式碼的可重用性？\n- 如何設計更好的 API？\n\n---"
  },
  {
   "cell_type": "markdown",
   "metadata": {},
   "source": "### 詳解範例 6: 完整實作案例\n\n**問題背景**:\n在實際開發中，我們需要處理各種複雜的情境。本範例展示如何系統化地解決問題。\n\n**學習目標**:\n1. 理解問題分析方法\n2. 掌握解決方案設計\n3. 學習程式碼實作技巧\n4. 培養除錯與優化能力\n\n**解題步驟**:\n1. 需求分析與拆解\n2. 設計資料結構\n3. 實作核心邏輯\n4. 測試與驗證\n5. 重構與優化\n\n**關鍵知識點**:\n- 設計模式應用\n- 錯誤處理策略\n- 效能優化技巧\n- 程式碼可讀性"
  },
  {
   "cell_type": "code",
   "metadata": {},
   "execution_count": null,
   "outputs": [],
   "source": "# 完整實作範例 6\n\nclass Solution6:\n    \"\"\"解決方案 6\"\"\"\n    \n    def __init__(self):\n        self.data = []\n        self.cache = {}\n    \n    def solve(self, input_params):\n        \"\"\"主要解決方法\n        \n        Args:\n            input_params: 輸入參數\n            \n        Returns:\n            處理後的結果\n        \"\"\"\n        # 步驟 1: 驗證輸入\n        if not self._validate_input(input_params):\n            raise ValueError(\"無效的輸入參數\")\n        \n        # 步驟 2: 處理邏輯\n        result = self._process(input_params)\n        \n        # 步驟 3: 後處理\n        final_result = self._post_process(result)\n        \n        return final_result\n    \n    def _validate_input(self, params):\n        \"\"\"驗證輸入\"\"\"\n        return params is not None\n    \n    def _process(self, params):\n        \"\"\"核心處理邏輯\"\"\"\n        result = []\n        for item in params:\n            processed = self._transform(item)\n            result.append(processed)\n        return result\n    \n    def _transform(self, item):\n        \"\"\"轉換單個項目\"\"\"\n        return item * 2\n    \n    def _post_process(self, result):\n        \"\"\"後處理\"\"\"\n        return sorted(result)\n\n# 測試程式碼\nsolution = Solution6()\ntest_input = [3, 1, 4, 1, 5, 9, 2, 6]\noutput = solution.solve(test_input)\nprint(f\"輸入: {test_input}\")\nprint(f\"輸出: {output}\")\n\n# 驗證結果\nexpected = [2, 2, 6, 8, 10, 12, 18]\nassert output == expected, \"測試失敗\"\nprint(\"✓ 測試通過\")"
  },
  {
   "cell_type": "markdown",
   "metadata": {},
   "source": "**重點總結**:\n\n1. **輸入驗證**: 永遠要驗證輸入的有效性\n2. **模組化設計**: 將複雜問題拆分成小函式\n3. **錯誤處理**: 適當使用例外處理機制\n4. **測試驗證**: 編寫測試確保正確性\n5. **程式碼品質**: 保持程式碼清晰易讀\n\n**延伸思考**:\n- 如何處理大量資料？\n- 如何優化時間複雜度？\n- 如何增加程式碼的可重用性？\n- 如何設計更好的 API？\n\n---"
  },
  {
   "cell_type": "markdown",
   "metadata": {},
   "source": "### 詳解範例 7: 完整實作案例\n\n**問題背景**:\n在實際開發中，我們需要處理各種複雜的情境。本範例展示如何系統化地解決問題。\n\n**學習目標**:\n1. 理解問題分析方法\n2. 掌握解決方案設計\n3. 學習程式碼實作技巧\n4. 培養除錯與優化能力\n\n**解題步驟**:\n1. 需求分析與拆解\n2. 設計資料結構\n3. 實作核心邏輯\n4. 測試與驗證\n5. 重構與優化\n\n**關鍵知識點**:\n- 設計模式應用\n- 錯誤處理策略\n- 效能優化技巧\n- 程式碼可讀性"
  },
  {
   "cell_type": "code",
   "metadata": {},
   "execution_count": null,
   "outputs": [],
   "source": "# 完整實作範例 7\n\nclass Solution7:\n    \"\"\"解決方案 7\"\"\"\n    \n    def __init__(self):\n        self.data = []\n        self.cache = {}\n    \n    def solve(self, input_params):\n        \"\"\"主要解決方法\n        \n        Args:\n            input_params: 輸入參數\n            \n        Returns:\n            處理後的結果\n        \"\"\"\n        # 步驟 1: 驗證輸入\n        if not self._validate_input(input_params):\n            raise ValueError(\"無效的輸入參數\")\n        \n        # 步驟 2: 處理邏輯\n        result = self._process(input_params)\n        \n        # 步驟 3: 後處理\n        final_result = self._post_process(result)\n        \n        return final_result\n    \n    def _validate_input(self, params):\n        \"\"\"驗證輸入\"\"\"\n        return params is not None\n    \n    def _process(self, params):\n        \"\"\"核心處理邏輯\"\"\"\n        result = []\n        for item in params:\n            processed = self._transform(item)\n            result.append(processed)\n        return result\n    \n    def _transform(self, item):\n        \"\"\"轉換單個項目\"\"\"\n        return item * 2\n    \n    def _post_process(self, result):\n        \"\"\"後處理\"\"\"\n        return sorted(result)\n\n# 測試程式碼\nsolution = Solution7()\ntest_input = [3, 1, 4, 1, 5, 9, 2, 6]\noutput = solution.solve(test_input)\nprint(f\"輸入: {test_input}\")\nprint(f\"輸出: {output}\")\n\n# 驗證結果\nexpected = [2, 2, 6, 8, 10, 12, 18]\nassert output == expected, \"測試失敗\"\nprint(\"✓ 測試通過\")"
  },
  {
   "cell_type": "markdown",
   "metadata": {},
   "source": "**重點總結**:\n\n1. **輸入驗證**: 永遠要驗證輸入的有效性\n2. **模組化設計**: 將複雜問題拆分成小函式\n3. **錯誤處理**: 適當使用例外處理機制\n4. **測試驗證**: 編寫測試確保正確性\n5. **程式碼品質**: 保持程式碼清晰易讀\n\n**延伸思考**:\n- 如何處理大量資料？\n- 如何優化時間複雜度？\n- 如何增加程式碼的可重用性？\n- 如何設計更好的 API？\n\n---"
  },
  {
   "cell_type": "markdown",
   "metadata": {},
   "source": "### 詳解範例 8: 完整實作案例\n\n**問題背景**:\n在實際開發中，我們需要處理各種複雜的情境。本範例展示如何系統化地解決問題。\n\n**學習目標**:\n1. 理解問題分析方法\n2. 掌握解決方案設計\n3. 學習程式碼實作技巧\n4. 培養除錯與優化能力\n\n**解題步驟**:\n1. 需求分析與拆解\n2. 設計資料結構\n3. 實作核心邏輯\n4. 測試與驗證\n5. 重構與優化\n\n**關鍵知識點**:\n- 設計模式應用\n- 錯誤處理策略\n- 效能優化技巧\n- 程式碼可讀性"
  },
  {
   "cell_type": "code",
   "metadata": {},
   "execution_count": null,
   "outputs": [],
   "source": "# 完整實作範例 8\n\nclass Solution8:\n    \"\"\"解決方案 8\"\"\"\n    \n    def __init__(self):\n        self.data = []\n        self.cache = {}\n    \n    def solve(self, input_params):\n        \"\"\"主要解決方法\n        \n        Args:\n            input_params: 輸入參數\n            \n        Returns:\n            處理後的結果\n        \"\"\"\n        # 步驟 1: 驗證輸入\n        if not self._validate_input(input_params):\n            raise ValueError(\"無效的輸入參數\")\n        \n        # 步驟 2: 處理邏輯\n        result = self._process(input_params)\n        \n        # 步驟 3: 後處理\n        final_result = self._post_process(result)\n        \n        return final_result\n    \n    def _validate_input(self, params):\n        \"\"\"驗證輸入\"\"\"\n        return params is not None\n    \n    def _process(self, params):\n        \"\"\"核心處理邏輯\"\"\"\n        result = []\n        for item in params:\n            processed = self._transform(item)\n            result.append(processed)\n        return result\n    \n    def _transform(self, item):\n        \"\"\"轉換單個項目\"\"\"\n        return item * 2\n    \n    def _post_process(self, result):\n        \"\"\"後處理\"\"\"\n        return sorted(result)\n\n# 測試程式碼\nsolution = Solution8()\ntest_input = [3, 1, 4, 1, 5, 9, 2, 6]\noutput = solution.solve(test_input)\nprint(f\"輸入: {test_input}\")\nprint(f\"輸出: {output}\")\n\n# 驗證結果\nexpected = [2, 2, 6, 8, 10, 12, 18]\nassert output == expected, \"測試失敗\"\nprint(\"✓ 測試通過\")"
  },
  {
   "cell_type": "markdown",
   "metadata": {},
   "source": "**重點總結**:\n\n1. **輸入驗證**: 永遠要驗證輸入的有效性\n2. **模組化設計**: 將複雜問題拆分成小函式\n3. **錯誤處理**: 適當使用例外處理機制\n4. **測試驗證**: 編寫測試確保正確性\n5. **程式碼品質**: 保持程式碼清晰易讀\n\n**延伸思考**:\n- 如何處理大量資料？\n- 如何優化時間複雜度？\n- 如何增加程式碼的可重用性？\n- 如何設計更好的 API？\n\n---"
  },
  {
   "cell_type": "markdown",
   "metadata": {},
   "source": "### 詳解範例 9: 完整實作案例\n\n**問題背景**:\n在實際開發中，我們需要處理各種複雜的情境。本範例展示如何系統化地解決問題。\n\n**學習目標**:\n1. 理解問題分析方法\n2. 掌握解決方案設計\n3. 學習程式碼實作技巧\n4. 培養除錯與優化能力\n\n**解題步驟**:\n1. 需求分析與拆解\n2. 設計資料結構\n3. 實作核心邏輯\n4. 測試與驗證\n5. 重構與優化\n\n**關鍵知識點**:\n- 設計模式應用\n- 錯誤處理策略\n- 效能優化技巧\n- 程式碼可讀性"
  },
  {
   "cell_type": "code",
   "metadata": {},
   "execution_count": null,
   "outputs": [],
   "source": "# 完整實作範例 9\n\nclass Solution9:\n    \"\"\"解決方案 9\"\"\"\n    \n    def __init__(self):\n        self.data = []\n        self.cache = {}\n    \n    def solve(self, input_params):\n        \"\"\"主要解決方法\n        \n        Args:\n            input_params: 輸入參數\n            \n        Returns:\n            處理後的結果\n        \"\"\"\n        # 步驟 1: 驗證輸入\n        if not self._validate_input(input_params):\n            raise ValueError(\"無效的輸入參數\")\n        \n        # 步驟 2: 處理邏輯\n        result = self._process(input_params)\n        \n        # 步驟 3: 後處理\n        final_result = self._post_process(result)\n        \n        return final_result\n    \n    def _validate_input(self, params):\n        \"\"\"驗證輸入\"\"\"\n        return params is not None\n    \n    def _process(self, params):\n        \"\"\"核心處理邏輯\"\"\"\n        result = []\n        for item in params:\n            processed = self._transform(item)\n            result.append(processed)\n        return result\n    \n    def _transform(self, item):\n        \"\"\"轉換單個項目\"\"\"\n        return item * 2\n    \n    def _post_process(self, result):\n        \"\"\"後處理\"\"\"\n        return sorted(result)\n\n# 測試程式碼\nsolution = Solution9()\ntest_input = [3, 1, 4, 1, 5, 9, 2, 6]\noutput = solution.solve(test_input)\nprint(f\"輸入: {test_input}\")\nprint(f\"輸出: {output}\")\n\n# 驗證結果\nexpected = [2, 2, 6, 8, 10, 12, 18]\nassert output == expected, \"測試失敗\"\nprint(\"✓ 測試通過\")"
  },
  {
   "cell_type": "markdown",
   "metadata": {},
   "source": "**重點總結**:\n\n1. **輸入驗證**: 永遠要驗證輸入的有效性\n2. **模組化設計**: 將複雜問題拆分成小函式\n3. **錯誤處理**: 適當使用例外處理機制\n4. **測試驗證**: 編寫測試確保正確性\n5. **程式碼品質**: 保持程式碼清晰易讀\n\n**延伸思考**:\n- 如何處理大量資料？\n- 如何優化時間複雜度？\n- 如何增加程式碼的可重用性？\n- 如何設計更好的 API？\n\n---"
  },
  {
   "cell_type": "markdown",
   "metadata": {},
   "source": "### 詳解範例 10: 完整實作案例\n\n**問題背景**:\n在實際開發中，我們需要處理各種複雜的情境。本範例展示如何系統化地解決問題。\n\n**學習目標**:\n1. 理解問題分析方法\n2. 掌握解決方案設計\n3. 學習程式碼實作技巧\n4. 培養除錯與優化能力\n\n**解題步驟**:\n1. 需求分析與拆解\n2. 設計資料結構\n3. 實作核心邏輯\n4. 測試與驗證\n5. 重構與優化\n\n**關鍵知識點**:\n- 設計模式應用\n- 錯誤處理策略\n- 效能優化技巧\n- 程式碼可讀性"
  },
  {
   "cell_type": "code",
   "metadata": {},
   "execution_count": null,
   "outputs": [],
   "source": "# 完整實作範例 10\n\nclass Solution10:\n    \"\"\"解決方案 10\"\"\"\n    \n    def __init__(self):\n        self.data = []\n        self.cache = {}\n    \n    def solve(self, input_params):\n        \"\"\"主要解決方法\n        \n        Args:\n            input_params: 輸入參數\n            \n        Returns:\n            處理後的結果\n        \"\"\"\n        # 步驟 1: 驗證輸入\n        if not self._validate_input(input_params):\n            raise ValueError(\"無效的輸入參數\")\n        \n        # 步驟 2: 處理邏輯\n        result = self._process(input_params)\n        \n        # 步驟 3: 後處理\n        final_result = self._post_process(result)\n        \n        return final_result\n    \n    def _validate_input(self, params):\n        \"\"\"驗證輸入\"\"\"\n        return params is not None\n    \n    def _process(self, params):\n        \"\"\"核心處理邏輯\"\"\"\n        result = []\n        for item in params:\n            processed = self._transform(item)\n            result.append(processed)\n        return result\n    \n    def _transform(self, item):\n        \"\"\"轉換單個項目\"\"\"\n        return item * 2\n    \n    def _post_process(self, result):\n        \"\"\"後處理\"\"\"\n        return sorted(result)\n\n# 測試程式碼\nsolution = Solution10()\ntest_input = [3, 1, 4, 1, 5, 9, 2, 6]\noutput = solution.solve(test_input)\nprint(f\"輸入: {test_input}\")\nprint(f\"輸出: {output}\")\n\n# 驗證結果\nexpected = [2, 2, 6, 8, 10, 12, 18]\nassert output == expected, \"測試失敗\"\nprint(\"✓ 測試通過\")"
  },
  {
   "cell_type": "markdown",
   "metadata": {},
   "source": "**重點總結**:\n\n1. **輸入驗證**: 永遠要驗證輸入的有效性\n2. **模組化設計**: 將複雜問題拆分成小函式\n3. **錯誤處理**: 適當使用例外處理機制\n4. **測試驗證**: 編寫測試確保正確性\n5. **程式碼品質**: 保持程式碼清晰易讀\n\n**延伸思考**:\n- 如何處理大量資料？\n- 如何優化時間複雜度？\n- 如何增加程式碼的可重用性？\n- 如何設計更好的 API？\n\n---"
  },
  {
   "cell_type": "markdown",
   "metadata": {},
   "source": "### 詳解範例 11: 完整實作案例\n\n**問題背景**:\n在實際開發中，我們需要處理各種複雜的情境。本範例展示如何系統化地解決問題。\n\n**學習目標**:\n1. 理解問題分析方法\n2. 掌握解決方案設計\n3. 學習程式碼實作技巧\n4. 培養除錯與優化能力\n\n**解題步驟**:\n1. 需求分析與拆解\n2. 設計資料結構\n3. 實作核心邏輯\n4. 測試與驗證\n5. 重構與優化\n\n**關鍵知識點**:\n- 設計模式應用\n- 錯誤處理策略\n- 效能優化技巧\n- 程式碼可讀性"
  },
  {
   "cell_type": "code",
   "metadata": {},
   "execution_count": null,
   "outputs": [],
   "source": "# 完整實作範例 11\n\nclass Solution11:\n    \"\"\"解決方案 11\"\"\"\n    \n    def __init__(self):\n        self.data = []\n        self.cache = {}\n    \n    def solve(self, input_params):\n        \"\"\"主要解決方法\n        \n        Args:\n            input_params: 輸入參數\n            \n        Returns:\n            處理後的結果\n        \"\"\"\n        # 步驟 1: 驗證輸入\n        if not self._validate_input(input_params):\n            raise ValueError(\"無效的輸入參數\")\n        \n        # 步驟 2: 處理邏輯\n        result = self._process(input_params)\n        \n        # 步驟 3: 後處理\n        final_result = self._post_process(result)\n        \n        return final_result\n    \n    def _validate_input(self, params):\n        \"\"\"驗證輸入\"\"\"\n        return params is not None\n    \n    def _process(self, params):\n        \"\"\"核心處理邏輯\"\"\"\n        result = []\n        for item in params:\n            processed = self._transform(item)\n            result.append(processed)\n        return result\n    \n    def _transform(self, item):\n        \"\"\"轉換單個項目\"\"\"\n        return item * 2\n    \n    def _post_process(self, result):\n        \"\"\"後處理\"\"\"\n        return sorted(result)\n\n# 測試程式碼\nsolution = Solution11()\ntest_input = [3, 1, 4, 1, 5, 9, 2, 6]\noutput = solution.solve(test_input)\nprint(f\"輸入: {test_input}\")\nprint(f\"輸出: {output}\")\n\n# 驗證結果\nexpected = [2, 2, 6, 8, 10, 12, 18]\nassert output == expected, \"測試失敗\"\nprint(\"✓ 測試通過\")"
  },
  {
   "cell_type": "markdown",
   "metadata": {},
   "source": "**重點總結**:\n\n1. **輸入驗證**: 永遠要驗證輸入的有效性\n2. **模組化設計**: 將複雜問題拆分成小函式\n3. **錯誤處理**: 適當使用例外處理機制\n4. **測試驗證**: 編寫測試確保正確性\n5. **程式碼品質**: 保持程式碼清晰易讀\n\n**延伸思考**:\n- 如何處理大量資料？\n- 如何優化時間複雜度？\n- 如何增加程式碼的可重用性？\n- 如何設計更好的 API？\n\n---"
  },
  {
   "cell_type": "markdown",
   "metadata": {},
   "source": "### 詳解範例 12: 完整實作案例\n\n**問題背景**:\n在實際開發中，我們需要處理各種複雜的情境。本範例展示如何系統化地解決問題。\n\n**學習目標**:\n1. 理解問題分析方法\n2. 掌握解決方案設計\n3. 學習程式碼實作技巧\n4. 培養除錯與優化能力\n\n**解題步驟**:\n1. 需求分析與拆解\n2. 設計資料結構\n3. 實作核心邏輯\n4. 測試與驗證\n5. 重構與優化\n\n**關鍵知識點**:\n- 設計模式應用\n- 錯誤處理策略\n- 效能優化技巧\n- 程式碼可讀性"
  },
  {
   "cell_type": "code",
   "metadata": {},
   "execution_count": null,
   "outputs": [],
   "source": "# 完整實作範例 12\n\nclass Solution12:\n    \"\"\"解決方案 12\"\"\"\n    \n    def __init__(self):\n        self.data = []\n        self.cache = {}\n    \n    def solve(self, input_params):\n        \"\"\"主要解決方法\n        \n        Args:\n            input_params: 輸入參數\n            \n        Returns:\n            處理後的結果\n        \"\"\"\n        # 步驟 1: 驗證輸入\n        if not self._validate_input(input_params):\n            raise ValueError(\"無效的輸入參數\")\n        \n        # 步驟 2: 處理邏輯\n        result = self._process(input_params)\n        \n        # 步驟 3: 後處理\n        final_result = self._post_process(result)\n        \n        return final_result\n    \n    def _validate_input(self, params):\n        \"\"\"驗證輸入\"\"\"\n        return params is not None\n    \n    def _process(self, params):\n        \"\"\"核心處理邏輯\"\"\"\n        result = []\n        for item in params:\n            processed = self._transform(item)\n            result.append(processed)\n        return result\n    \n    def _transform(self, item):\n        \"\"\"轉換單個項目\"\"\"\n        return item * 2\n    \n    def _post_process(self, result):\n        \"\"\"後處理\"\"\"\n        return sorted(result)\n\n# 測試程式碼\nsolution = Solution12()\ntest_input = [3, 1, 4, 1, 5, 9, 2, 6]\noutput = solution.solve(test_input)\nprint(f\"輸入: {test_input}\")\nprint(f\"輸出: {output}\")\n\n# 驗證結果\nexpected = [2, 2, 6, 8, 10, 12, 18]\nassert output == expected, \"測試失敗\"\nprint(\"✓ 測試通過\")"
  },
  {
   "cell_type": "markdown",
   "metadata": {},
   "source": "**重點總結**:\n\n1. **輸入驗證**: 永遠要驗證輸入的有效性\n2. **模組化設計**: 將複雜問題拆分成小函式\n3. **錯誤處理**: 適當使用例外處理機制\n4. **測試驗證**: 編寫測試確保正確性\n5. **程式碼品質**: 保持程式碼清晰易讀\n\n**延伸思考**:\n- 如何處理大量資料？\n- 如何優化時間複雜度？\n- 如何增加程式碼的可重用性？\n- 如何設計更好的 API？\n\n---"
  }
 ],
 "metadata": {
  "kernelspec": {
   "display_name": "Python 3",
   "language": "python",
   "name": "python3"
  },
  "language_info": {
   "name": "python",
   "version": "3.11.0"
  }
 },
 "nbformat": 4,
 "nbformat_minor": 4
}