{
 "cells": [
  {
   "cell_type": "markdown",
   "metadata": {},
   "source": [
    "# 程式碼風格與文件 | Code Style\n\n## ✍️ 課後習題 | Homework Exercises\n\n**預計時間**: 90 分鐘\n\n本習題包含 15-18 題練習，涵蓋基礎、進階和挑戰題。"
   ]
  },
  {
   "cell_type": "markdown",
   "metadata": {},
   "source": "### 📝 習題 1: PEP 8 風格指南\n\n**難度**: ⭐\n\n**題目描述**:\n\n（習題內容）\n\n**要求**:\n1. 要求一\n2. 要求二\n3. 要求三"
  },
  {
   "cell_type": "code",
   "execution_count": null,
   "metadata": {},
   "outputs": [],
   "source": [
    "# 在此撰寫您的程式碼\n"
   ]
  },
  {
   "cell_type": "markdown",
   "metadata": {},
   "source": "### 📝 習題 2: 命名規範\n\n**難度**: ⭐⭐\n\n**題目描述**:\n\n（習題內容）\n\n**要求**:\n1. 要求一\n2. 要求二\n3. 要求三"
  },
  {
   "cell_type": "code",
   "execution_count": null,
   "metadata": {},
   "outputs": [],
   "source": [
    "# 在此撰寫您的程式碼\n"
   ]
  },
  {
   "cell_type": "markdown",
   "metadata": {},
   "source": "### 📝 習題 3: Docstring 撰寫\n\n**難度**: ⭐⭐⭐\n\n**題目描述**:\n\n（習題內容）\n\n**要求**:\n1. 要求一\n2. 要求二\n3. 要求三"
  },
  {
   "cell_type": "code",
   "execution_count": null,
   "metadata": {},
   "outputs": [],
   "source": [
    "# 在此撰寫您的程式碼\n"
   ]
  },
  {
   "cell_type": "markdown",
   "metadata": {},
   "source": "### 📝 習題 4: Type Hints\n\n**難度**: ⭐\n\n**題目描述**:\n\n（習題內容）\n\n**要求**:\n1. 要求一\n2. 要求二\n3. 要求三"
  },
  {
   "cell_type": "code",
   "execution_count": null,
   "metadata": {},
   "outputs": [],
   "source": [
    "# 在此撰寫您的程式碼\n"
   ]
  },
  {
   "cell_type": "markdown",
   "metadata": {},
   "source": "### 📝 習題 5: flake8 檢查\n\n**難度**: ⭐⭐\n\n**題目描述**:\n\n（習題內容）\n\n**要求**:\n1. 要求一\n2. 要求二\n3. 要求三"
  },
  {
   "cell_type": "code",
   "execution_count": null,
   "metadata": {},
   "outputs": [],
   "source": [
    "# 在此撰寫您的程式碼\n"
   ]
  },
  {
   "cell_type": "markdown",
   "metadata": {},
   "source": "### 📝 習題 6: black 格式化\n\n**難度**: ⭐⭐⭐\n\n**題目描述**:\n\n（習題內容）\n\n**要求**:\n1. 要求一\n2. 要求二\n3. 要求三"
  },
  {
   "cell_type": "code",
   "execution_count": null,
   "metadata": {},
   "outputs": [],
   "source": [
    "# 在此撰寫您的程式碼\n"
   ]
  },
  {
   "cell_type": "markdown",
   "metadata": {},
   "source": "### 📝 習題 7: 程式碼異味\n\n**難度**: ⭐\n\n**題目描述**:\n\n（習題內容）\n\n**要求**:\n1. 要求一\n2. 要求二\n3. 要求三"
  },
  {
   "cell_type": "code",
   "execution_count": null,
   "metadata": {},
   "outputs": [],
   "source": [
    "# 在此撰寫您的程式碼\n"
   ]
  },
  {
   "cell_type": "markdown",
   "metadata": {},
   "source": "### 📝 習題 8: 重構技巧\n\n**難度**: ⭐⭐\n\n**題目描述**:\n\n（習題內容）\n\n**要求**:\n1. 要求一\n2. 要求二\n3. 要求三"
  },
  {
   "cell_type": "code",
   "execution_count": null,
   "metadata": {},
   "outputs": [],
   "source": [
    "# 在此撰寫您的程式碼\n"
   ]
  },
  {
   "cell_type": "markdown",
   "metadata": {},
   "source": "### 習題 15: 程式碼審查 (Code Review)\n\n以下程式碼有多處風格問題，請找出並修正（至少 10 處）:\n\n```python\nimport sys,os\nfrom typing import *\n\nclass DataProcessor:\n    def __init__(self,data):\n        self.Data=data\n        self.result=None\n    \n    def Process(self):\n        self.result=[]\n        for i in range(len(self.Data)):\n            x=self.Data[i]\n            if x>0:\n                self.result.append(x*2)\n        return self.result\n    \n    def getResult(self): return self.result\n\ndef calculate(a,b,c):\n    return a+b+c\n\ndata=[1,-2,3,-4,5]\nprocessor=DataProcessor(data)\nresult=processor.Process()\nprint(result)\n```\n\n**要求**:\n1. 列出所有違反 PEP 8 的地方\n2. 提供修正後的完整程式碼\n3. 加入適當的 docstring\n4. 加入型別提示"
  },
  {
   "cell_type": "code",
   "execution_count": null,
   "metadata": {},
   "outputs": [],
   "source": "# 你的答案\n"
  },
  {
   "cell_type": "markdown",
   "metadata": {},
   "source": "### 習題 16: 建立專案的程式碼風格檢查流程\n\n為一個 Python 專案建立完整的程式碼風格檢查流程:\n\n**要求**:\n1. 建立 `.flake8` 設定檔\n2. 建立 `pyproject.toml` (black 設定)\n3. 建立 `.isort.cfg` (isort 設定)\n4. 建立 `Makefile` 包含 lint, format, check 指令\n5. 撰寫 README 說明如何使用這些工具"
  },
  {
   "cell_type": "code",
   "execution_count": null,
   "metadata": {},
   "outputs": [],
   "source": "# 你的答案\n"
  },
  {
   "cell_type": "markdown",
   "metadata": {},
   "source": "### 習題 17: 型別提示進階應用\n\n為一個快取裝飾器加入完整的型別提示:\n\n```python\ndef memoize(func):\n    cache = {}\n    def wrapper(*args, **kwargs):\n        key = str(args) + str(kwargs)\n        if key not in cache:\n            cache[key] = func(*args, **kwargs)\n        return cache[key]\n    return wrapper\n```\n\n**要求**:\n1. 使用 `typing.Callable`\n2. 使用 `typing.TypeVar`\n3. 使用 `functools.wraps`\n4. 加入完整的 docstring"
  },
  {
   "cell_type": "code",
   "execution_count": null,
   "metadata": {},
   "outputs": [],
   "source": "# 你的答案\n"
  },
  {
   "cell_type": "markdown",
   "metadata": {},
   "source": "### 習題 18: 設計程式碼風格指南文件\n\n為你的團隊撰寫一份程式碼風格指南文件 (Style Guide):\n\n**要求**:\n1. 命名規範（變數、函式、類別、常數、私有成員）\n2. 程式碼排版（縮排、空白、空行）\n3. Import 順序與分組\n4. Docstring 格式（使用哪種 style）\n5. 型別提示使用原則\n6. 註解撰寫原則\n7. 檔案組織結構\n8. 工具鏈設定（flake8, black, mypy）\n9. Git commit message 格式\n10. Code review 檢查清單\n\n以 Markdown 格式撰寫，至少 200 行。"
  },
  {
   "cell_type": "code",
   "execution_count": null,
   "metadata": {},
   "outputs": [],
   "source": "# 你的答案 (可以使用 %%writefile style_guide.md)\n"
  }
 ],
 "metadata": {
  "kernelspec": {
   "display_name": "Python 3",
   "language": "python",
   "name": "python3"
  },
  "language_info": {
   "name": "python",
   "version": "3.11.0"
  }
 },
 "nbformat": 4,
 "nbformat_minor": 4
}