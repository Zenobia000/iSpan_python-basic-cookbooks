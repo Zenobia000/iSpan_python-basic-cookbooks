{
 "cells": [
  {
   "cell_type": "markdown",
   "metadata": {},
   "source": [
    "# 程式碼風格與文件 | Code Style\n\n## 🛠️ 課堂練習 | Practice Exercises\n\n**練習時間**: 30 分鐘\n\n完成以下 8-12 個練習題，鞏固本章學習內容。"
   ]
  },
  {
   "cell_type": "markdown",
   "metadata": {},
   "source": "### 練習 1: PEP 8 風格指南\n\n**題目**: （練習題描述）\n\n**提示**: （解題提示）"
  },
  {
   "cell_type": "markdown",
   "metadata": {},
   "source": "### 練習 2: 命名規範\n\n**題目**: （練習題描述）\n\n**提示**: （解題提示）"
  },
  {
   "cell_type": "markdown",
   "metadata": {},
   "source": "### 練習 3: Docstring 撰寫\n\n**題目**: （練習題描述）\n\n**提示**: （解題提示）"
  },
  {
   "cell_type": "markdown",
   "metadata": {},
   "source": "### 練習 4: Type Hints\n\n**題目**: （練習題描述）\n\n**提示**: （解題提示）"
  },
  {
   "cell_type": "markdown",
   "metadata": {},
   "source": "### 練習 5: flake8 檢查\n\n**題目**: （練習題描述）\n\n**提示**: （解題提示）"
  },
  {
   "cell_type": "markdown",
   "metadata": {},
   "source": "### 練習 6: black 格式化\n\n**題目**: （練習題描述）\n\n**提示**: （解題提示）"
  },
  {
   "cell_type": "markdown",
   "metadata": {},
   "source": "### 練習 7: 程式碼異味\n\n**題目**: （練習題描述）\n\n**提示**: （解題提示）"
  },
  {
   "cell_type": "markdown",
   "metadata": {},
   "source": "### 練習 8: 重構技巧\n\n**題目**: （練習題描述）\n\n**提示**: （解題提示）"
  },
  {
   "cell_type": "code",
   "execution_count": null,
   "metadata": {},
   "outputs": [],
   "source": [
    "# 在此撰寫您的程式碼\n"
   ]
  },
  {
   "cell_type": "markdown",
   "metadata": {},
   "source": "### 練習 7: 重構違反 PEP 8 的程式碼\n\n將下列程式碼重構為符合 PEP 8 規範:\n\n```python\ndef CalculateTotal(ItemList):\n    Total=0\n    for i in ItemList:\n        Total=Total+i\n    return Total\n\nclass user:\n    def __init__(self,Name,Age):\n        self.Name=Name\n        self.Age=Age\n```"
  },
  {
   "cell_type": "code",
   "execution_count": null,
   "metadata": {},
   "outputs": [],
   "source": "# 你的答案\n"
  },
  {
   "cell_type": "markdown",
   "metadata": {},
   "source": "### 練習 8: 為 API 函式加入完整文件\n\n為以下 REST API 函式加入 docstring（使用 Google style）:\n\n```python\ndef create_user(username, email, password, age=None):\n    if not username or not email:\n        raise ValueError(\"Missing required fields\")\n    user = {\n        'username': username,\n        'email': email,\n        'age': age\n    }\n    return user\n```"
  },
  {
   "cell_type": "code",
   "execution_count": null,
   "metadata": {},
   "outputs": [],
   "source": "# 你的答案\n"
  },
  {
   "cell_type": "markdown",
   "metadata": {},
   "source": "### 練習題 1: 實作挑戰\n\n**題目描述**:\n建立一個功能模組，實現以下需求：\n1. 定義清晰的介面\n2. 實作核心功能\n3. 加入錯誤處理\n4. 撰寫使用範例\n\n**難度**: 基礎\n\n**預估時間**: 5 分鐘\n\n**提示**:\n- 注意邊界條件\n- 確保程式碼可讀性\n- 遵循命名規範\n- 加入適當註解"
  },
  {
   "cell_type": "code",
   "metadata": {},
   "execution_count": null,
   "outputs": [],
   "source": "# 你的解答\n\n"
  },
  {
   "cell_type": "markdown",
   "metadata": {},
   "source": "### 練習題 2: 實作挑戰\n\n**題目描述**:\n建立一個功能模組，實現以下需求：\n1. 定義清晰的介面\n2. 實作核心功能\n3. 加入錯誤處理\n4. 撰寫使用範例\n\n**難度**: 基礎\n\n**預估時間**: 7 分鐘\n\n**提示**:\n- 注意邊界條件\n- 確保程式碼可讀性\n- 遵循命名規範\n- 加入適當註解"
  },
  {
   "cell_type": "code",
   "metadata": {},
   "execution_count": null,
   "outputs": [],
   "source": "# 你的解答\n\n"
  },
  {
   "cell_type": "markdown",
   "metadata": {},
   "source": "### 練習題 3: 實作挑戰\n\n**題目描述**:\n建立一個功能模組，實現以下需求：\n1. 定義清晰的介面\n2. 實作核心功能\n3. 加入錯誤處理\n4. 撰寫使用範例\n\n**難度**: 基礎\n\n**預估時間**: 9 分鐘\n\n**提示**:\n- 注意邊界條件\n- 確保程式碼可讀性\n- 遵循命名規範\n- 加入適當註解"
  },
  {
   "cell_type": "code",
   "metadata": {},
   "execution_count": null,
   "outputs": [],
   "source": "# 你的解答\n\n"
  },
  {
   "cell_type": "markdown",
   "metadata": {},
   "source": "### 練習題 4: 實作挑戰\n\n**題目描述**:\n建立一個功能模組，實現以下需求：\n1. 定義清晰的介面\n2. 實作核心功能\n3. 加入錯誤處理\n4. 撰寫使用範例\n\n**難度**: 基礎\n\n**預估時間**: 11 分鐘\n\n**提示**:\n- 注意邊界條件\n- 確保程式碼可讀性\n- 遵循命名規範\n- 加入適當註解"
  },
  {
   "cell_type": "code",
   "metadata": {},
   "execution_count": null,
   "outputs": [],
   "source": "# 你的解答\n\n"
  },
  {
   "cell_type": "markdown",
   "metadata": {},
   "source": "### 練習題 5: 實作挑戰\n\n**題目描述**:\n建立一個功能模組，實現以下需求：\n1. 定義清晰的介面\n2. 實作核心功能\n3. 加入錯誤處理\n4. 撰寫使用範例\n\n**難度**: 基礎\n\n**預估時間**: 13 分鐘\n\n**提示**:\n- 注意邊界條件\n- 確保程式碼可讀性\n- 遵循命名規範\n- 加入適當註解"
  },
  {
   "cell_type": "code",
   "metadata": {},
   "execution_count": null,
   "outputs": [],
   "source": "# 你的解答\n\n"
  },
  {
   "cell_type": "markdown",
   "metadata": {},
   "source": "### 練習題 6: 實作挑戰\n\n**題目描述**:\n建立一個功能模組，實現以下需求：\n1. 定義清晰的介面\n2. 實作核心功能\n3. 加入錯誤處理\n4. 撰寫使用範例\n\n**難度**: 中級\n\n**預估時間**: 15 分鐘\n\n**提示**:\n- 注意邊界條件\n- 確保程式碼可讀性\n- 遵循命名規範\n- 加入適當註解"
  },
  {
   "cell_type": "code",
   "metadata": {},
   "execution_count": null,
   "outputs": [],
   "source": "# 你的解答\n\n"
  },
  {
   "cell_type": "markdown",
   "metadata": {},
   "source": "### 練習題 7: 實作挑戰\n\n**題目描述**:\n建立一個功能模組，實現以下需求：\n1. 定義清晰的介面\n2. 實作核心功能\n3. 加入錯誤處理\n4. 撰寫使用範例\n\n**難度**: 中級\n\n**預估時間**: 17 分鐘\n\n**提示**:\n- 注意邊界條件\n- 確保程式碼可讀性\n- 遵循命名規範\n- 加入適當註解"
  },
  {
   "cell_type": "code",
   "metadata": {},
   "execution_count": null,
   "outputs": [],
   "source": "# 你的解答\n\n"
  },
  {
   "cell_type": "markdown",
   "metadata": {},
   "source": "### 練習題 8: 實作挑戰\n\n**題目描述**:\n建立一個功能模組，實現以下需求：\n1. 定義清晰的介面\n2. 實作核心功能\n3. 加入錯誤處理\n4. 撰寫使用範例\n\n**難度**: 中級\n\n**預估時間**: 19 分鐘\n\n**提示**:\n- 注意邊界條件\n- 確保程式碼可讀性\n- 遵循命名規範\n- 加入適當註解"
  },
  {
   "cell_type": "code",
   "metadata": {},
   "execution_count": null,
   "outputs": [],
   "source": "# 你的解答\n\n"
  },
  {
   "cell_type": "markdown",
   "metadata": {},
   "source": "### 練習題 9: 實作挑戰\n\n**題目描述**:\n建立一個功能模組，實現以下需求：\n1. 定義清晰的介面\n2. 實作核心功能\n3. 加入錯誤處理\n4. 撰寫使用範例\n\n**難度**: 中級\n\n**預估時間**: 21 分鐘\n\n**提示**:\n- 注意邊界條件\n- 確保程式碼可讀性\n- 遵循命名規範\n- 加入適當註解"
  },
  {
   "cell_type": "code",
   "metadata": {},
   "execution_count": null,
   "outputs": [],
   "source": "# 你的解答\n\n"
  },
  {
   "cell_type": "markdown",
   "metadata": {},
   "source": "### 練習題 10: 實作挑戰\n\n**題目描述**:\n建立一個功能模組，實現以下需求：\n1. 定義清晰的介面\n2. 實作核心功能\n3. 加入錯誤處理\n4. 撰寫使用範例\n\n**難度**: 中級\n\n**預估時間**: 23 分鐘\n\n**提示**:\n- 注意邊界條件\n- 確保程式碼可讀性\n- 遵循命名規範\n- 加入適當註解"
  },
  {
   "cell_type": "code",
   "metadata": {},
   "execution_count": null,
   "outputs": [],
   "source": "# 你的解答\n\n"
  },
  {
   "cell_type": "markdown",
   "metadata": {},
   "source": "### 練習題 11: 實作挑戰\n\n**題目描述**:\n建立一個功能模組，實現以下需求：\n1. 定義清晰的介面\n2. 實作核心功能\n3. 加入錯誤處理\n4. 撰寫使用範例\n\n**難度**: 進階\n\n**預估時間**: 25 分鐘\n\n**提示**:\n- 注意邊界條件\n- 確保程式碼可讀性\n- 遵循命名規範\n- 加入適當註解"
  },
  {
   "cell_type": "code",
   "metadata": {},
   "execution_count": null,
   "outputs": [],
   "source": "# 你的解答\n\n"
  },
  {
   "cell_type": "markdown",
   "metadata": {},
   "source": "### 練習題 12: 實作挑戰\n\n**題目描述**:\n建立一個功能模組，實現以下需求：\n1. 定義清晰的介面\n2. 實作核心功能\n3. 加入錯誤處理\n4. 撰寫使用範例\n\n**難度**: 進階\n\n**預估時間**: 27 分鐘\n\n**提示**:\n- 注意邊界條件\n- 確保程式碼可讀性\n- 遵循命名規範\n- 加入適當註解"
  },
  {
   "cell_type": "code",
   "metadata": {},
   "execution_count": null,
   "outputs": [],
   "source": "# 你的解答\n\n"
  },
  {
   "cell_type": "markdown",
   "metadata": {},
   "source": "### 練習題 13: 實作挑戰\n\n**題目描述**:\n建立一個功能模組，實現以下需求：\n1. 定義清晰的介面\n2. 實作核心功能\n3. 加入錯誤處理\n4. 撰寫使用範例\n\n**難度**: 進階\n\n**預估時間**: 29 分鐘\n\n**提示**:\n- 注意邊界條件\n- 確保程式碼可讀性\n- 遵循命名規範\n- 加入適當註解"
  },
  {
   "cell_type": "code",
   "metadata": {},
   "execution_count": null,
   "outputs": [],
   "source": "# 你的解答\n\n"
  },
  {
   "cell_type": "markdown",
   "metadata": {},
   "source": "### 練習題 14: 實作挑戰\n\n**題目描述**:\n建立一個功能模組，實現以下需求：\n1. 定義清晰的介面\n2. 實作核心功能\n3. 加入錯誤處理\n4. 撰寫使用範例\n\n**難度**: 進階\n\n**預估時間**: 31 分鐘\n\n**提示**:\n- 注意邊界條件\n- 確保程式碼可讀性\n- 遵循命名規範\n- 加入適當註解"
  },
  {
   "cell_type": "code",
   "metadata": {},
   "execution_count": null,
   "outputs": [],
   "source": "# 你的解答\n\n"
  },
  {
   "cell_type": "markdown",
   "metadata": {},
   "source": "### 練習題 15: 實作挑戰\n\n**題目描述**:\n建立一個功能模組，實現以下需求：\n1. 定義清晰的介面\n2. 實作核心功能\n3. 加入錯誤處理\n4. 撰寫使用範例\n\n**難度**: 進階\n\n**預估時間**: 33 分鐘\n\n**提示**:\n- 注意邊界條件\n- 確保程式碼可讀性\n- 遵循命名規範\n- 加入適當註解"
  },
  {
   "cell_type": "code",
   "metadata": {},
   "execution_count": null,
   "outputs": [],
   "source": "# 你的解答\n\n"
  }
 ],
 "metadata": {
  "kernelspec": {
   "display_name": "Python 3",
   "language": "python",
   "name": "python3"
  },
  "language_info": {
   "name": "python",
   "version": "3.11.0"
  }
 },
 "nbformat": 4,
 "nbformat_minor": 4
}