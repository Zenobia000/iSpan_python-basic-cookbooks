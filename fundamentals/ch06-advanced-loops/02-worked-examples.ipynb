{
 "cells": [
  {
   "cell_type": "markdown",
   "metadata": {},
   "source": [
    "# Chapter 6: 詳解範例 | Worked Examples\n",
    "\n",
    "本檔案提供 5 個詳細解說的範例，展示如何應用進階迴圈技巧解決實際問題。\n",
    "\n",
    "---"
   ]
  },
  {
   "cell_type": "markdown",
   "metadata": {},
   "source": [
    "## 範例 1：成績統計系統\n",
    "\n",
    "### 問題描述\n",
    "給定一組學生成績，計算：\n",
    "1. 最高分\n",
    "2. 最低分\n",
    "3. 平均分\n",
    "4. 及格人數（≥60）\n",
    "\n",
    "### 輸入\n",
    "```python\n",
    "scores = [85, 45, 92, 58, 78, 90, 33, 88, 67, 72]\n",
    "```\n",
    "\n",
    "### 預期輸出\n",
    "```\n",
    "最高分：92\n",
    "最低分：33\n",
    "平均分：70.8\n",
    "及格人數：7 人\n",
    "及格率：70.0%\n",
    "```"
   ]
  },
  {
   "cell_type": "markdown",
   "metadata": {},
   "source": [
    "### 解題思路\n",
    "\n",
    "1. **最高分/最低分**：使用搜尋器模式\n",
    "2. **平均分**：使用累加器模式\n",
    "3. **及格人數**：使用計數器模式\n",
    "\n",
    "### 完整解答"
   ]
  },
  {
   "cell_type": "code",
   "execution_count": null,
   "metadata": {},
   "outputs": [],
   "source": [
    "# 學生成績\n",
    "scores = [85, 45, 92, 58, 78, 90, 33, 88, 67, 72]\n",
    "\n",
    "# 初始化變數\n",
    "max_score = scores[0]  # 假設第一個是最大值\n",
    "min_score = scores[0]  # 假設第一個是最小值\n",
    "total = 0              # 累加器\n",
    "pass_count = 0         # 計數器\n",
    "\n",
    "# 一次迭代完成所有統計\n",
    "for score in scores:\n",
    "    # 更新最大值\n",
    "    if score > max_score:\n",
    "        max_score = score\n",
    "    \n",
    "    # 更新最小值\n",
    "    if score < min_score:\n",
    "        min_score = score\n",
    "    \n",
    "    # 累加總分\n",
    "    total += score\n",
    "    \n",
    "    # 統計及格人數\n",
    "    if score >= 60:\n",
    "        pass_count += 1\n",
    "\n",
    "# 計算平均與及格率\n",
    "average = total / len(scores)\n",
    "pass_rate = (pass_count / len(scores)) * 100\n",
    "\n",
    "# 顯示結果\n",
    "print(f\"最高分：{max_score}\")\n",
    "print(f\"最低分：{min_score}\")\n",
    "print(f\"平均分：{average:.1f}\")\n",
    "print(f\"及格人數：{pass_count} 人\")\n",
    "print(f\"及格率：{pass_rate:.1f}%\")"
   ]
  },
  {
   "cell_type": "markdown",
   "metadata": {},
   "source": [
    "### 重點提示\n",
    "\n",
    "1. **效率優化**：一次迴圈完成所有統計（而非跑 4 次迴圈）\n",
    "2. **初始化技巧**：最大/最小值初始化為列表第一個元素\n",
    "3. **變數命名**：清晰的名稱（`pass_count` 而非 `c`）\n",
    "\n",
    "---"
   ]
  },
  {
   "cell_type": "markdown",
   "metadata": {},
   "source": [
    "## 範例 2：字串字元頻率統計\n",
    "\n",
    "### 問題描述\n",
    "統計一段文字中每個字母出現的次數（忽略大小寫和非字母字元）。\n",
    "\n",
    "### 輸入\n",
    "```python\n",
    "text = \"Hello, World! Python is Awesome!\"\n",
    "```\n",
    "\n",
    "### 預期輸出\n",
    "```\n",
    "h: 2\n",
    "e: 2\n",
    "l: 3\n",
    "o: 4\n",
    "w: 2\n",
    "r: 1\n",
    "...\n",
    "```"
   ]
  },
  {
   "cell_type": "markdown",
   "metadata": {},
   "source": [
    "### 解題思路\n",
    "\n",
    "1. 將文字轉為小寫\n",
    "2. 過濾出字母字元\n",
    "3. 使用字典作為計數器\n",
    "4. 迭代統計每個字母\n",
    "\n",
    "### 完整解答"
   ]
  },
  {
   "cell_type": "code",
   "execution_count": null,
   "metadata": {},
   "outputs": [],
   "source": [
    "text = \"Hello, World! Python is Awesome!\"\n",
    "\n",
    "# 1. 轉為小寫\n",
    "text_lower = text.lower()\n",
    "\n",
    "# 2. 初始化字典計數器\n",
    "char_count = {}\n",
    "\n",
    "# 3. 迭代每個字元\n",
    "for char in text_lower:\n",
    "    # 只統計字母\n",
    "    if char.isalpha():\n",
    "        # 如果字元已存在，次數 +1\n",
    "        if char in char_count:\n",
    "            char_count[char] += 1\n",
    "        # 如果是第一次出現，初始化為 1\n",
    "        else:\n",
    "            char_count[char] = 1\n",
    "\n",
    "# 4. 按字母順序顯示結果\n",
    "for char in sorted(char_count.keys()):\n",
    "    print(f\"{char}: {char_count[char]}\")"
   ]
  },
  {
   "cell_type": "markdown",
   "metadata": {},
   "source": [
    "### 進階寫法（使用 get 方法）"
   ]
  },
  {
   "cell_type": "code",
   "execution_count": null,
   "metadata": {},
   "outputs": [],
   "source": [
    "text = \"Hello, World! Python is Awesome!\"\n",
    "text_lower = text.lower()\n",
    "char_count = {}\n",
    "\n",
    "for char in text_lower:\n",
    "    if char.isalpha():\n",
    "        # get(char, 0) 表示：如果 char 存在則返回其值，否則返回 0\n",
    "        char_count[char] = char_count.get(char, 0) + 1\n",
    "\n",
    "# 顯示結果\n",
    "for char in sorted(char_count.keys()):\n",
    "    print(f\"{char}: {char_count[char]}\")"
   ]
  },
  {
   "cell_type": "markdown",
   "metadata": {},
   "source": [
    "### 重點提示\n",
    "\n",
    "1. **字典作為計數器**：鍵是字元，值是次數\n",
    "2. **`.get(key, default)` 方法**：避免 KeyError\n",
    "3. **`sorted()` 函式**：按字母順序排序顯示\n",
    "\n",
    "---"
   ]
  },
  {
   "cell_type": "markdown",
   "metadata": {},
   "source": [
    "## 範例 3：手動實作找出最大值（含索引）\n",
    "\n",
    "### 問題描述\n",
    "在一個數字列表中找出最大值及其索引位置（不使用內建函式）。\n",
    "\n",
    "### 輸入\n",
    "```python\n",
    "numbers = [23, 67, 12, 89, 45, 78, 34]\n",
    "```\n",
    "\n",
    "### 預期輸出\n",
    "```\n",
    "最大值：89\n",
    "位置：索引 3\n",
    "```"
   ]
  },
  {
   "cell_type": "markdown",
   "metadata": {},
   "source": [
    "### 解題思路\n",
    "\n",
    "1. 初始化：假設第一個元素是最大值\n",
    "2. 使用 `enumerate()` 同時追蹤索引和值\n",
    "3. 遇到更大的值時更新\n",
    "\n",
    "### 完整解答"
   ]
  },
  {
   "cell_type": "code",
   "execution_count": null,
   "metadata": {},
   "outputs": [],
   "source": [
    "numbers = [23, 67, 12, 89, 45, 78, 34]\n",
    "\n",
    "# 初始化：假設第一個元素是最大值\n",
    "max_value = numbers[0]\n",
    "max_index = 0\n",
    "\n",
    "# 從第二個元素開始比較\n",
    "for index, num in enumerate(numbers):\n",
    "    if num > max_value:\n",
    "        max_value = num\n",
    "        max_index = index\n",
    "\n",
    "print(f\"最大值：{max_value}\")\n",
    "print(f\"位置：索引 {max_index}\")"
   ]
  },
  {
   "cell_type": "markdown",
   "metadata": {},
   "source": [
    "### 改進版：從索引 1 開始迭代"
   ]
  },
  {
   "cell_type": "code",
   "execution_count": null,
   "metadata": {},
   "outputs": [],
   "source": [
    "numbers = [23, 67, 12, 89, 45, 78, 34]\n",
    "\n",
    "# 初始化\n",
    "max_value = numbers[0]\n",
    "max_index = 0\n",
    "\n",
    "# 從索引 1 開始（因為 0 已經是初始值）\n",
    "for index in range(1, len(numbers)):\n",
    "    if numbers[index] > max_value:\n",
    "        max_value = numbers[index]\n",
    "        max_index = index\n",
    "\n",
    "print(f\"最大值：{max_value}\")\n",
    "print(f\"位置：索引 {max_index}\")"
   ]
  },
  {
   "cell_type": "markdown",
   "metadata": {},
   "source": [
    "### 重點提示\n",
    "\n",
    "1. **初始化技巧**：用列表第一個元素初始化\n",
    "2. **enumerate() 的優勢**：同時追蹤索引和值\n",
    "3. **比較對象**：實務上可用 `max()` 和 `.index()`，但手動實作有助理解原理\n",
    "\n",
    "---"
   ]
  },
  {
   "cell_type": "markdown",
   "metadata": {},
   "source": [
    "## 範例 4：學生名單與成績配對\n",
    "\n",
    "### 問題描述\n",
    "有兩個列表：學生姓名和對應成績。輸出完整的成績單，並標示及格/不及格。\n",
    "\n",
    "### 輸入\n",
    "```python\n",
    "names = ['Alice', 'Bob', 'Charlie', 'David', 'Eve']\n",
    "scores = [85, 45, 92, 58, 78]\n",
    "```\n",
    "\n",
    "### 預期輸出\n",
    "```\n",
    "1. Alice: 85 分 (及格)\n",
    "2. Bob: 45 分 (不及格)\n",
    "3. Charlie: 92 分 (及格)\n",
    "4. David: 58 分 (不及格)\n",
    "5. Eve: 78 分 (及格)\n",
    "```"
   ]
  },
  {
   "cell_type": "markdown",
   "metadata": {},
   "source": [
    "### 解題思路\n",
    "\n",
    "1. 使用 `enumerate()` 取得編號\n",
    "2. 使用 `zip()` 配對姓名和成績\n",
    "3. 條件判斷及格狀態\n",
    "\n",
    "### 完整解答"
   ]
  },
  {
   "cell_type": "code",
   "execution_count": null,
   "metadata": {},
   "outputs": [],
   "source": [
    "names = ['Alice', 'Bob', 'Charlie', 'David', 'Eve']\n",
    "scores = [85, 45, 92, 58, 78]\n",
    "\n",
    "# enumerate() 和 zip() 組合使用\n",
    "for index, (name, score) in enumerate(zip(names, scores), start=1):\n",
    "    # 判斷及格狀態\n",
    "    status = \"及格\" if score >= 60 else \"不及格\"\n",
    "    \n",
    "    # 顯示結果\n",
    "    print(f\"{index}. {name}: {score} 分 ({status})\")"
   ]
  },
  {
   "cell_type": "markdown",
   "metadata": {},
   "source": [
    "### 語法解析\n",
    "\n",
    "```python\n",
    "enumerate(zip(names, scores), start=1)\n",
    "```\n",
    "\n",
    "**運作流程**：\n",
    "1. `zip(names, scores)` 產生 `('Alice', 85)`, `('Bob', 45)`, ...\n",
    "2. `enumerate(..., start=1)` 產生 `(1, ('Alice', 85))`, `(2, ('Bob', 45))`, ...\n",
    "3. 解包成 `index, (name, score)`\n",
    "\n",
    "### 重點提示\n",
    "\n",
    "1. **巢狀解包**：`(name, score)` 解包 zip 產生的元組\n",
    "2. **start=1**：從 1 開始編號更符合人類習慣\n",
    "3. **三元運算子**：`status = \"及格\" if score >= 60 else \"不及格\"`\n",
    "\n",
    "---"
   ]
  },
  {
   "cell_type": "markdown",
   "metadata": {},
   "source": [
    "## 範例 5：偶數篩選器（多種實作方式）\n",
    "\n",
    "### 問題描述\n",
    "從一個數字列表中提取所有偶數，展示多種實作方式。\n",
    "\n",
    "### 輸入\n",
    "```python\n",
    "numbers = [1, 2, 3, 4, 5, 6, 7, 8, 9, 10]\n",
    "```\n",
    "\n",
    "### 預期輸出\n",
    "```\n",
    "[2, 4, 6, 8, 10]\n",
    "```"
   ]
  },
  {
   "cell_type": "markdown",
   "metadata": {},
   "source": [
    "### 方法 1：過濾器模式（基礎）"
   ]
  },
  {
   "cell_type": "code",
   "execution_count": null,
   "metadata": {},
   "outputs": [],
   "source": [
    "numbers = [1, 2, 3, 4, 5, 6, 7, 8, 9, 10]\n",
    "\n",
    "# 初始化空列表\n",
    "even_numbers = []\n",
    "\n",
    "# 迭代篩選\n",
    "for num in numbers:\n",
    "    if num % 2 == 0:\n",
    "        even_numbers.append(num)\n",
    "\n",
    "print(even_numbers)"
   ]
  },
  {
   "cell_type": "markdown",
   "metadata": {},
   "source": [
    "### 方法 2：使用 enumerate() 同時顯示索引"
   ]
  },
  {
   "cell_type": "code",
   "execution_count": null,
   "metadata": {},
   "outputs": [],
   "source": [
    "numbers = [1, 2, 3, 4, 5, 6, 7, 8, 9, 10]\n",
    "\n",
    "even_numbers = []\n",
    "even_indices = []  # 記錄偶數在原列表中的索引\n",
    "\n",
    "for index, num in enumerate(numbers):\n",
    "    if num % 2 == 0:\n",
    "        even_numbers.append(num)\n",
    "        even_indices.append(index)\n",
    "\n",
    "print(f\"偶數：{even_numbers}\")\n",
    "print(f\"索引：{even_indices}\")"
   ]
  },
  {
   "cell_type": "markdown",
   "metadata": {},
   "source": [
    "### 方法 3：列表推導式（預告）"
   ]
  },
  {
   "cell_type": "code",
   "execution_count": null,
   "metadata": {},
   "outputs": [],
   "source": [
    "numbers = [1, 2, 3, 4, 5, 6, 7, 8, 9, 10]\n",
    "\n",
    "# 一行完成（會在後續章節詳細介紹）\n",
    "even_numbers = [num for num in numbers if num % 2 == 0]\n",
    "\n",
    "print(even_numbers)"
   ]
  },
  {
   "cell_type": "markdown",
   "metadata": {},
   "source": [
    "### 方法 4：使用 filter() 函式（進階）"
   ]
  },
  {
   "cell_type": "code",
   "execution_count": null,
   "metadata": {},
   "outputs": [],
   "source": [
    "numbers = [1, 2, 3, 4, 5, 6, 7, 8, 9, 10]\n",
    "\n",
    "# 定義過濾條件\n",
    "def is_even(n):\n",
    "    return n % 2 == 0\n",
    "\n",
    "# 使用 filter()\n",
    "even_numbers = list(filter(is_even, numbers))\n",
    "\n",
    "print(even_numbers)"
   ]
  },
  {
   "cell_type": "markdown",
   "metadata": {},
   "source": [
    "### 效能比較"
   ]
  },
  {
   "cell_type": "code",
   "execution_count": null,
   "metadata": {},
   "outputs": [],
   "source": [
    "import time\n",
    "\n",
    "# 建立大量資料\n",
    "numbers = list(range(100000))\n",
    "\n",
    "# 方法 1：for 迴圈\n",
    "start = time.time()\n",
    "even1 = []\n",
    "for num in numbers:\n",
    "    if num % 2 == 0:\n",
    "        even1.append(num)\n",
    "time1 = time.time() - start\n",
    "\n",
    "# 方法 2：列表推導式\n",
    "start = time.time()\n",
    "even2 = [num for num in numbers if num % 2 == 0]\n",
    "time2 = time.time() - start\n",
    "\n",
    "# 方法 3：filter()\n",
    "start = time.time()\n",
    "even3 = list(filter(lambda n: n % 2 == 0, numbers))\n",
    "time3 = time.time() - start\n",
    "\n",
    "print(f\"for 迴圈：{time1:.4f} 秒\")\n",
    "print(f\"列表推導式：{time2:.4f} 秒\")\n",
    "print(f\"filter()：{time3:.4f} 秒\")"
   ]
  },
  {
   "cell_type": "markdown",
   "metadata": {},
   "source": [
    "### 重點提示\n",
    "\n",
    "1. **可讀性 vs 效能**：for 迴圈最清晰，列表推導式最簡潔\n",
    "2. **列表推導式**：通常比 for 迴圈快 10-20%\n",
    "3. **選擇建議**：\n",
    "   - 初學階段：用 for 迴圈\n",
    "   - 熟練後：用列表推導式\n",
    "   - 複雜邏輯：用 for 迴圈保持可讀性\n",
    "\n",
    "---"
   ]
  },
  {
   "cell_type": "markdown",
   "metadata": {},
   "source": [
    "## 總結\n",
    "\n",
    "這 5 個範例涵蓋了：\n",
    "\n",
    "| 範例 | 主要技巧 | 迴圈模式 |\n",
    "|:-----|:---------|:---------|\n",
    "| 成績統計 | 多重模式組合 | 累加器 + 計數器 + 搜尋器 |\n",
    "| 字元頻率 | 字典計數 | 計數器 |\n",
    "| 找最大值 | enumerate() | 搜尋器 |\n",
    "| 成績配對 | enumerate() + zip() | 配對迭代 |\n",
    "| 偶數篩選 | 多種實作比較 | 過濾器 |\n",
    "\n",
    "### 下一步\n",
    "\n",
    "完成這些範例後，請前往：\n",
    "- `03-practice.ipynb` - 課堂練習\n",
    "- `04-exercises.ipynb` - 課後習題\n",
    "\n",
    "**繼續努力！** 💪"
   ]
  }
 ],
 "metadata": {
  "kernelspec": {
   "display_name": "Python 3",
   "language": "python",
   "name": "python3"
  },
  "language_info": {
   "codemirror_mode": {
    "name": "ipython",
    "version": 3
   },
   "file_extension": ".py",
   "mimetype": "text/x-python",
   "name": "python",
   "nbconvert_exporter": "python",
   "pygments_lexer": "ipython3",
   "version": "3.11.0"
  }
 },
 "nbformat": 4,
 "nbformat_minor": 4
}
