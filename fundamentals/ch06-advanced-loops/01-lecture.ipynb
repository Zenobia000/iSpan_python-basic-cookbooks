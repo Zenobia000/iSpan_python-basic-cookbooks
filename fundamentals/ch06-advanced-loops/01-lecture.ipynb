{
 "cells": [
  {
   "cell_type": "markdown",
   "metadata": {},
   "source": [
    "# Chapter 6: 迴圈進階技巧 | Advanced Loop Techniques\n",
    "\n",
    "---\n",
    "\n",
    "## Part I: 理論基礎 | Theoretical Foundation"
   ]
  },
  {
   "cell_type": "markdown",
   "metadata": {},
   "source": [
    "### 章節概述 | Chapter Overview\n",
    "\n",
    "**學習目標**：\n",
    "- 掌握 `enumerate()` 和 `zip()` 的使用\n",
    "- 學習常見的迴圈設計模式\n",
    "- 了解迴圈效能優化技巧\n",
    "\n",
    "**先備知識**：\n",
    "- Ch01-03: 變數、運算子、輸入輸出\n",
    "- Ch04: 條件判斷\n",
    "- Ch05: 基礎迴圈與迴圈控制\n",
    "\n",
    "**預計時間**：60 分鐘"
   ]
  },
  {
   "cell_type": "markdown",
   "metadata": {},
   "source": [
    "---\n",
    "\n",
    "### 1.1 為什麼需要進階迴圈技巧？\n",
    "\n",
    "#### 問題：手動管理索引的痛點\n",
    "\n",
    "```python\n",
    "# 不優雅的做法\n",
    "fruits = ['apple', 'banana', 'cherry']\n",
    "index = 0\n",
    "for fruit in fruits:\n",
    "    print(f\"{index}: {fruit}\")\n",
    "    index += 1  # 容易忘記！\n",
    "```\n",
    "\n",
    "**問題點**：\n",
    "1. 需要手動管理 `index` 變數\n",
    "2. 容易忘記 `index += 1`\n",
    "3. 程式碼不簡潔\n",
    "\n",
    "#### First Principle：關注點分離\n",
    "\n",
    "- **迴圈的本質**：處理資料\n",
    "- **索引管理**：應該交給 Python 自動處理\n",
    "- **解決方案**：使用 `enumerate()`"
   ]
  },
  {
   "cell_type": "markdown",
   "metadata": {},
   "source": [
    "---\n",
    "\n",
    "### 1.2 enumerate() 函式\n",
    "\n",
    "#### 定義\n",
    "\n",
    "`enumerate(iterable, start=0)` 返回一個枚舉物件，產生 `(索引, 值)` 的配對。\n",
    "\n",
    "#### 語法\n",
    "\n",
    "```python\n",
    "for index, value in enumerate(sequence):\n",
    "    # 同時取得索引和值\n",
    "```\n",
    "\n",
    "#### 運作原理\n",
    "\n",
    "```python\n",
    "# enumerate() 內部運作類似於：\n",
    "def my_enumerate(sequence, start=0):\n",
    "    index = start\n",
    "    for item in sequence:\n",
    "        yield (index, item)\n",
    "        index += 1\n",
    "```"
   ]
  },
  {
   "cell_type": "markdown",
   "metadata": {},
   "source": [
    "---\n",
    "\n",
    "### 1.3 zip() 函式\n",
    "\n",
    "#### 定義\n",
    "\n",
    "`zip(*iterables)` 將多個可迭代物件「配對」在一起，返回元組序列。\n",
    "\n",
    "#### 語法\n",
    "\n",
    "```python\n",
    "for item1, item2 in zip(sequence1, sequence2):\n",
    "    # 同時迭代兩個序列\n",
    "```\n",
    "\n",
    "#### 重要特性\n",
    "\n",
    "1. **自動截斷**：以最短序列為準\n",
    "2. **多序列支援**：可以配對 2 個以上的序列\n",
    "3. **記憶體效率**：返回迭代器，不會立即產生完整列表"
   ]
  },
  {
   "cell_type": "markdown",
   "metadata": {},
   "source": [
    "---\n",
    "\n",
    "### 1.4 常見迴圈模式\n",
    "\n",
    "| 模式 | 用途 | 核心操作 |\n",
    "|:-----|:-----|:---------|\n",
    "| **累加器** (Accumulator) | 計算總和、平均 | `result = result + item` |\n",
    "| **計數器** (Counter) | 統計頻率 | `count = count + 1` (條件滿足時) |\n",
    "| **搜尋器** (Searcher) | 查找元素 | 找到目標後 `break` |\n",
    "| **過濾器** (Filter) | 篩選資料 | 條件滿足時加入新列表 |\n",
    "\n",
    "#### 累加器模式範本\n",
    "\n",
    "```python\n",
    "# 1. 初始化累加器\n",
    "result = 0\n",
    "\n",
    "# 2. 迴圈累加\n",
    "for item in sequence:\n",
    "    result = result + item\n",
    "\n",
    "# 3. 使用結果\n",
    "print(result)\n",
    "```"
   ]
  },
  {
   "cell_type": "markdown",
   "metadata": {},
   "source": [
    "---\n",
    "\n",
    "## Part II: 實作演練 | Hands-On Practice"
   ]
  },
  {
   "cell_type": "markdown",
   "metadata": {},
   "source": [
    "### 範例 1：enumerate() 基本用法"
   ]
  },
  {
   "cell_type": "code",
   "execution_count": null,
   "metadata": {},
   "outputs": [],
   "source": [
    "# 顯示水果列表，附帶編號\n",
    "fruits = ['apple', 'banana', 'cherry', 'durian']\n",
    "\n",
    "for index, fruit in enumerate(fruits):\n",
    "    print(f\"{index}. {fruit}\")"
   ]
  },
  {
   "cell_type": "markdown",
   "metadata": {},
   "source": [
    "**輸出**：\n",
    "```\n",
    "0. apple\n",
    "1. banana\n",
    "2. cherry\n",
    "3. durian\n",
    "```\n",
    "\n",
    "**重點**：\n",
    "- `enumerate()` 返回 `(索引, 值)` 元組\n",
    "- 必須用兩個變數接收：`index, fruit`\n",
    "- 預設從 0 開始編號"
   ]
  },
  {
   "cell_type": "markdown",
   "metadata": {},
   "source": [
    "---\n",
    "\n",
    "### 範例 2：enumerate() 自訂起始索引"
   ]
  },
  {
   "cell_type": "code",
   "execution_count": null,
   "metadata": {},
   "outputs": [],
   "source": [
    "# 從 1 開始編號（更符合人類習慣）\n",
    "fruits = ['apple', 'banana', 'cherry']\n",
    "\n",
    "for index, fruit in enumerate(fruits, start=1):\n",
    "    print(f\"第 {index} 個水果：{fruit}\")"
   ]
  },
  {
   "cell_type": "markdown",
   "metadata": {},
   "source": [
    "**輸出**：\n",
    "```\n",
    "第 1 個水果：apple\n",
    "第 2 個水果：banana\n",
    "第 3 個水果：cherry\n",
    "```\n",
    "\n",
    "**重點**：\n",
    "- `start=1` 可以自訂起始編號\n",
    "- 適合顯示給使用者看的編號（人類習慣從 1 開始）"
   ]
  },
  {
   "cell_type": "markdown",
   "metadata": {},
   "source": [
    "---\n",
    "\n",
    "### 範例 3：zip() 配對迭代"
   ]
  },
  {
   "cell_type": "code",
   "execution_count": null,
   "metadata": {},
   "outputs": [],
   "source": [
    "# 學生姓名與成績配對\n",
    "names = ['Alice', 'Bob', 'Charlie']\n",
    "scores = [85, 92, 78]\n",
    "\n",
    "for name, score in zip(names, scores):\n",
    "    print(f\"{name} 的成績：{score} 分\")"
   ]
  },
  {
   "cell_type": "markdown",
   "metadata": {},
   "source": [
    "**輸出**：\n",
    "```\n",
    "Alice 的成績：85 分\n",
    "Bob 的成績：92 分\n",
    "Charlie 的成績：78 分\n",
    "```\n",
    "\n",
    "**重點**：\n",
    "- `zip()` 將兩個列表「配對」起來\n",
    "- 比用索引存取 `names[i], scores[i]` 更清晰"
   ]
  },
  {
   "cell_type": "markdown",
   "metadata": {},
   "source": [
    "---\n",
    "\n",
    "### 範例 4：zip() 處理不等長序列"
   ]
  },
  {
   "cell_type": "code",
   "execution_count": null,
   "metadata": {},
   "outputs": [],
   "source": [
    "# 長度不同的兩個列表\n",
    "names = ['Alice', 'Bob', 'Charlie', 'David']  # 4 個元素\n",
    "scores = [85, 92]  # 只有 2 個元素\n",
    "\n",
    "for name, score in zip(names, scores):\n",
    "    print(f\"{name}: {score}\")"
   ]
  },
  {
   "cell_type": "markdown",
   "metadata": {},
   "source": [
    "**輸出**：\n",
    "```\n",
    "Alice: 85\n",
    "Bob: 92\n",
    "```\n",
    "\n",
    "**重點**：\n",
    "- `zip()` 會在**最短序列**結束時停止\n",
    "- Charlie 和 David 沒有配對的成績，所以不會顯示\n",
    "- 若需要處理不等長的情況，可使用 `itertools.zip_longest()`"
   ]
  },
  {
   "cell_type": "markdown",
   "metadata": {},
   "source": [
    "---\n",
    "\n",
    "### 範例 5：累加器模式 - 計算總和與平均"
   ]
  },
  {
   "cell_type": "code",
   "execution_count": null,
   "metadata": {},
   "outputs": [],
   "source": [
    "# 計算考試成績的總和與平均\n",
    "scores = [85, 92, 78, 90, 88]\n",
    "\n",
    "# 1. 初始化累加器\n",
    "total = 0\n",
    "\n",
    "# 2. 累加\n",
    "for score in scores:\n",
    "    total = total + score  # 也可以寫成 total += score\n",
    "\n",
    "# 3. 計算平均\n",
    "average = total / len(scores)\n",
    "\n",
    "print(f\"總分：{total}\")\n",
    "print(f\"平均：{average}\")"
   ]
  },
  {
   "cell_type": "markdown",
   "metadata": {},
   "source": [
    "**輸出**：\n",
    "```\n",
    "總分：433\n",
    "平均：86.6\n",
    "```\n",
    "\n",
    "**模式步驟**：\n",
    "1. **初始化**：`total = 0`\n",
    "2. **迴圈累加**：`total += score`\n",
    "3. **使用結果**：計算平均或顯示"
   ]
  },
  {
   "cell_type": "markdown",
   "metadata": {},
   "source": [
    "---\n",
    "\n",
    "### 範例 6：計數器模式 - 條件計數"
   ]
  },
  {
   "cell_type": "code",
   "execution_count": null,
   "metadata": {},
   "outputs": [],
   "source": [
    "# 統計及格人數（成績 >= 60）\n",
    "scores = [85, 45, 92, 58, 78, 90, 33, 88]\n",
    "\n",
    "# 1. 初始化計數器\n",
    "pass_count = 0\n",
    "\n",
    "# 2. 條件計數\n",
    "for score in scores:\n",
    "    if score >= 60:\n",
    "        pass_count = pass_count + 1\n",
    "\n",
    "# 3. 顯示結果\n",
    "print(f\"及格人數：{pass_count} 人\")\n",
    "print(f\"及格率：{pass_count / len(scores) * 100:.1f}%\")"
   ]
  },
  {
   "cell_type": "markdown",
   "metadata": {},
   "source": [
    "**輸出**：\n",
    "```\n",
    "及格人數：5 人\n",
    "及格率：62.5%\n",
    "```\n",
    "\n",
    "**重點**：\n",
    "- 只在條件滿足時才計數\n",
    "- 可以同時使用多個計數器（例如及格/不及格/優秀）"
   ]
  },
  {
   "cell_type": "markdown",
   "metadata": {},
   "source": [
    "---\n",
    "\n",
    "### 範例 7：搜尋器模式 - 線性搜尋"
   ]
  },
  {
   "cell_type": "code",
   "execution_count": null,
   "metadata": {},
   "outputs": [],
   "source": [
    "# 在列表中搜尋目標值\n",
    "numbers = [10, 25, 30, 45, 60, 75]\n",
    "target = 45\n",
    "\n",
    "# 1. 初始化旗標\n",
    "found = False\n",
    "position = -1\n",
    "\n",
    "# 2. 搜尋迴圈\n",
    "for index, num in enumerate(numbers):\n",
    "    if num == target:\n",
    "        found = True\n",
    "        position = index\n",
    "        break  # 找到後立即退出\n",
    "\n",
    "# 3. 顯示結果\n",
    "if found:\n",
    "    print(f\"找到 {target}，位置在索引 {position}\")\n",
    "else:\n",
    "    print(f\"找不到 {target}\")"
   ]
  },
  {
   "cell_type": "markdown",
   "metadata": {},
   "source": [
    "**輸出**：\n",
    "```\n",
    "找到 45，位置在索引 3\n",
    "```\n",
    "\n",
    "**重點**：\n",
    "- 使用 `break` 提前退出，提升效能\n",
    "- 旗標變數 `found` 用來判斷是否找到\n",
    "- 實務上可直接用 `in` 運算子（但這裡示範模式）"
   ]
  },
  {
   "cell_type": "markdown",
   "metadata": {},
   "source": [
    "---\n",
    "\n",
    "### 範例 8：過濾器模式 - 提取符合條件的元素"
   ]
  },
  {
   "cell_type": "code",
   "execution_count": null,
   "metadata": {},
   "outputs": [],
   "source": [
    "# 提取所有偶數\n",
    "numbers = [1, 2, 3, 4, 5, 6, 7, 8, 9, 10]\n",
    "\n",
    "# 1. 初始化結果列表\n",
    "even_numbers = []\n",
    "\n",
    "# 2. 過濾迴圈\n",
    "for num in numbers:\n",
    "    if num % 2 == 0:\n",
    "        even_numbers.append(num)\n",
    "\n",
    "# 3. 顯示結果\n",
    "print(f\"偶數：{even_numbers}\")"
   ]
  },
  {
   "cell_type": "markdown",
   "metadata": {},
   "source": [
    "**輸出**：\n",
    "```\n",
    "偶數：[2, 4, 6, 8, 10]\n",
    "```\n",
    "\n",
    "**重點**：\n",
    "- 初始化空列表作為「容器」\n",
    "- 條件滿足時才加入\n",
    "- 未來會學到更簡潔的「列表推導式」寫法"
   ]
  },
  {
   "cell_type": "markdown",
   "metadata": {},
   "source": [
    "---\n",
    "\n",
    "### 範例 9：組合應用 - 找出最高分學生"
   ]
  },
  {
   "cell_type": "code",
   "execution_count": null,
   "metadata": {},
   "outputs": [],
   "source": [
    "# 找出成績最高的學生\n",
    "names = ['Alice', 'Bob', 'Charlie', 'David']\n",
    "scores = [85, 92, 78, 90]\n",
    "\n",
    "# 1. 初始化\n",
    "max_score = scores[0]\n",
    "top_student = names[0]\n",
    "\n",
    "# 2. 搜尋最大值\n",
    "for name, score in zip(names, scores):\n",
    "    if score > max_score:\n",
    "        max_score = score\n",
    "        top_student = name\n",
    "\n",
    "# 3. 顯示結果\n",
    "print(f\"最高分學生：{top_student}\")\n",
    "print(f\"分數：{max_score}\")"
   ]
  },
  {
   "cell_type": "markdown",
   "metadata": {},
   "source": [
    "**輸出**：\n",
    "```\n",
    "最高分學生：Bob\n",
    "分數：92\n",
    "```\n",
    "\n",
    "**技巧組合**：\n",
    "- 使用 `zip()` 配對姓名和分數\n",
    "- 使用搜尋器模式找最大值\n",
    "- 同時記錄最大值和對應的姓名"
   ]
  },
  {
   "cell_type": "markdown",
   "metadata": {},
   "source": [
    "---\n",
    "\n",
    "### 範例 10：效能比較 - 列表 vs 集合的成員檢查"
   ]
  },
  {
   "cell_type": "code",
   "execution_count": null,
   "metadata": {},
   "outputs": [],
   "source": [
    "import time\n",
    "\n",
    "# 建立大量資料\n",
    "data_list = list(range(10000))\n",
    "data_set = set(range(10000))\n",
    "\n",
    "target = 9999  # 最後一個元素\n",
    "\n",
    "# 測試列表\n",
    "start = time.time()\n",
    "result = target in data_list\n",
    "list_time = time.time() - start\n",
    "\n",
    "# 測試集合\n",
    "start = time.time()\n",
    "result = target in data_set\n",
    "set_time = time.time() - start\n",
    "\n",
    "print(f\"列表查找時間：{list_time:.6f} 秒\")\n",
    "print(f\"集合查找時間：{set_time:.6f} 秒\")\n",
    "print(f\"集合快了約 {list_time / set_time:.0f} 倍\")"
   ]
  },
  {
   "cell_type": "markdown",
   "metadata": {},
   "source": [
    "**預期輸出**（實際數值會因電腦而異）：\n",
    "```\n",
    "列表查找時間：0.000123 秒\n",
    "集合查找時間：0.000001 秒\n",
    "集合快了約 123 倍\n",
    "```\n",
    "\n",
    "**重點**：\n",
    "- 列表使用「線性搜尋」：O(n)\n",
    "- 集合使用「雜湊表」：O(1)\n",
    "- 若要頻繁檢查成員，優先使用集合"
   ]
  },
  {
   "cell_type": "markdown",
   "metadata": {},
   "source": [
    "---\n",
    "\n",
    "## Part III: 本章總結 | Chapter Summary"
   ]
  },
  {
   "cell_type": "markdown",
   "metadata": {},
   "source": [
    "### 知識回顧\n",
    "\n",
    "#### 1. enumerate() 的優勢\n",
    "- ✅ 自動管理索引，減少錯誤\n",
    "- ✅ 程式碼更簡潔易讀\n",
    "- ✅ 可自訂起始編號\n",
    "\n",
    "#### 2. zip() 的特性\n",
    "- ✅ 配對多個序列\n",
    "- ✅ 自動以最短序列為準\n",
    "- ✅ 語義清晰，避免索引錯誤\n",
    "\n",
    "#### 3. 四大迴圈模式\n",
    "\n",
    "| 模式 | 範本 | 典型應用 |\n",
    "|:-----|:-----|:---------|\n",
    "| 累加器 | `total += item` | 總和、平均、乘積 |\n",
    "| 計數器 | `count += 1` (條件) | 統計頻率、分類 |\n",
    "| 搜尋器 | `if found: break` | 查找、驗證 |\n",
    "| 過濾器 | `if condition: append` | 篩選、提取 |\n",
    "\n",
    "---\n",
    "\n",
    "### 常見誤區\n",
    "\n",
    "#### ❌ 誤區 1：忘記解包 enumerate()\n",
    "```python\n",
    "# 錯誤\n",
    "for item in enumerate(fruits):\n",
    "    print(item)  # 會印出 (0, 'apple') 這樣的元組\n",
    "\n",
    "# 正確\n",
    "for index, fruit in enumerate(fruits):\n",
    "    print(index, fruit)\n",
    "```\n",
    "\n",
    "#### ❌ 誤區 2：在迭代時修改列表\n",
    "```python\n",
    "# 危險！可能導致跳過元素\n",
    "numbers = [1, 2, 3, 4, 5]\n",
    "for num in numbers:\n",
    "    if num % 2 == 0:\n",
    "        numbers.remove(num)  # ❌ 不要這樣做\n",
    "\n",
    "# 正確做法：建立新列表\n",
    "numbers = [1, 2, 3, 4, 5]\n",
    "odd_numbers = [num for num in numbers if num % 2 != 0]\n",
    "```\n",
    "\n",
    "#### ❌ 誤區 3：累加器忘記初始化\n",
    "```python\n",
    "# 錯誤\n",
    "for score in scores:\n",
    "    total += score  # NameError: total 未定義\n",
    "\n",
    "# 正確\n",
    "total = 0  # 必須先初始化\n",
    "for score in scores:\n",
    "    total += score\n",
    "```\n",
    "\n",
    "---\n",
    "\n",
    "### 自我檢核\n",
    "\n",
    "完成以下檢核項目：\n",
    "\n",
    "- [ ] 我能使用 `enumerate()` 同時取得索引和值\n",
    "- [ ] 我能使用 `zip()` 配對兩個列表\n",
    "- [ ] 我能實作累加器模式計算總和\n",
    "- [ ] 我能實作計數器模式統計頻率\n",
    "- [ ] 我能實作搜尋器模式找出目標\n",
    "- [ ] 我能實作過濾器模式篩選資料\n",
    "- [ ] 我了解列表與集合在成員檢查上的效能差異\n",
    "\n",
    "---\n",
    "\n",
    "### 延伸閱讀\n",
    "\n",
    "1. **官方文件**：\n",
    "   - [enumerate()](https://docs.python.org/3/library/functions.html#enumerate)\n",
    "   - [zip()](https://docs.python.org/3/library/functions.html#zip)\n",
    "\n",
    "2. **進階主題**：\n",
    "   - `itertools.zip_longest()` - 處理不等長序列\n",
    "   - 列表推導式 (List Comprehension) - 更簡潔的過濾器模式\n",
    "   - 生成器表達式 (Generator Expression) - 記憶體優化\n",
    "\n",
    "3. **最佳實踐**：\n",
    "   - PEP 279 - The enumerate() built-in function\n",
    "   - Effective Python Item 16: Prefer enumerate Over range\n",
    "\n",
    "---\n",
    "\n",
    "### 下一步\n",
    "\n",
    "完成本章後，請繼續：\n",
    "1. `02-worked-examples.ipynb` - 詳解範例\n",
    "2. `03-practice.ipynb` - 課堂練習\n",
    "3. `04-exercises.ipynb` - 課後習題\n",
    "4. `quiz.ipynb` - 自我測驗\n",
    "\n",
    "**繼續加油！** 🚀"
   ]
  }
 ],
 "metadata": {
  "kernelspec": {
   "display_name": "Python 3",
   "language": "python",
   "name": "python3"
  },
  "language_info": {
   "codemirror_mode": {
    "name": "ipython",
    "version": 3
   },
   "file_extension": ".py",
   "mimetype": "text/x-python",
   "name": "python",
   "nbconvert_exporter": "python",
   "pygments_lexer": "ipython3",
   "version": "3.11.0"
  }
 },
 "nbformat": 4,
 "nbformat_minor": 4
}
