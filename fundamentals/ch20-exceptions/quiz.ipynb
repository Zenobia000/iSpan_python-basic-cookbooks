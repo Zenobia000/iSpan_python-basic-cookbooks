{
 "cells": [
  {
   "cell_type": "markdown",
   "metadata": {},
   "source": [
    "# Ch20: 例外處理機制 - 自我測驗\n",
    "\n",
    "本測驗包含 **15 題選擇題** 和 **5 題程式題**,全面檢驗您對例外處理的掌握程度。\n",
    "\n",
    "## 測驗結構\n",
    "\n",
    "**Part 1: 選擇題 (15 題)**\n",
    "- 基礎概念 (1-5)\n",
    "- 語法與結構 (6-10)\n",
    "- 進階應用 (11-15)\n",
    "\n",
    "**Part 2: 程式題 (5 題)**\n",
    "- 實作例外處理功能\n",
    "\n",
    "**建議時間**: 30 分鐘\n",
    "\n",
    "---"
   ]
  },
  {
   "cell_type": "markdown",
   "metadata": {},
   "source": [
    "## Part 1: 選擇題 (15 題)\n",
    "\n",
    "### 基礎概念 (1-5)\n",
    "\n",
    "**Q1. 以下哪個不是 Python 的內建例外？**\n",
    "\n",
    "A) ValueError  \n",
    "B) TypeException  \n",
    "C) KeyError  \n",
    "D) IndexError\n",
    "\n",
    "<details>\n",
    "<summary>點擊查看答案</summary>\n",
    "\n",
    "**答案: B**\n",
    "\n",
    "解析: Python 的例外類型是 TypeError,不是 TypeException。\n",
    "</details>\n",
    "\n",
    "---"
   ]
  },
  {
   "cell_type": "code",
   "execution_count": null,
   "metadata": {},
   "outputs": [],
   "source": [
    "# Q1 答案\n",
    "q1_answer = \"B\"\n",
    "print(f\"你的答案: {q1_answer}\")"
   ]
  },
  {
   "cell_type": "markdown",
   "metadata": {},
   "source": [
    "**Q2. try-except 的主要目的是？**\n",
    "\n",
    "A) 加快程式執行速度  \n",
    "B) 處理執行時期的錯誤  \n",
    "C) 修正語法錯誤  \n",
    "D) 優化記憶體使用\n",
    "\n",
    "<details>\n",
    "<summary>點擊查看答案</summary>\n",
    "\n",
    "**答案: B**\n",
    "\n",
    "解析: try-except 用於處理執行時期 (runtime) 的例外,無法處理語法錯誤。\n",
    "</details>"
   ]
  },
  {
   "cell_type": "code",
   "execution_count": null,
   "metadata": {},
   "outputs": [],
   "source": [
    "# Q2 答案\n",
    "q2_answer = \"B\""
   ]
  },
  {
   "cell_type": "markdown",
   "metadata": {},
   "source": [
    "**Q3. 以下程式碼會輸出什麼？**\n",
    "\n",
    "```python\n",
    "try:\n",
    "    result = 10 / 0\n",
    "except ZeroDivisionError:\n",
    "    print(\"A\")\n",
    "else:\n",
    "    print(\"B\")\n",
    "finally:\n",
    "    print(\"C\")\n",
    "```\n",
    "\n",
    "A) A C  \n",
    "B) B C  \n",
    "C) A B C  \n",
    "D) 只有 C\n",
    "\n",
    "<details>\n",
    "<summary>點擊查看答案</summary>\n",
    "\n",
    "**答案: A**\n",
    "\n",
    "解析: \n",
    "1. 發生 ZeroDivisionError,執行 except 印出 A\n",
    "2. else 只在無例外時執行,所以跳過\n",
    "3. finally 無論如何都執行,印出 C\n",
    "</details>"
   ]
  },
  {
   "cell_type": "code",
   "execution_count": null,
   "metadata": {},
   "outputs": [],
   "source": [
    "# Q3 答案\n",
    "q3_answer = \"A\""
   ]
  },
  {
   "cell_type": "markdown",
   "metadata": {},
   "source": [
    "**Q4. else 子句的執行時機？**\n",
    "\n",
    "A) 總是執行  \n",
    "B) 只在有例外時執行  \n",
    "C) 只在沒有例外時執行  \n",
    "D) 在 finally 之後執行\n",
    "\n",
    "<details>\n",
    "<summary>點擊查看答案</summary>\n",
    "\n",
    "**答案: C**\n",
    "\n",
    "解析: else 只在 try 區塊沒有發生例外時執行,用於分離成功與失敗邏輯。\n",
    "</details>"
   ]
  },
  {
   "cell_type": "code",
   "execution_count": null,
   "metadata": {},
   "outputs": [],
   "source": [
    "# Q4 答案\n",
    "q4_answer = \"C\""
   ]
  },
  {
   "cell_type": "markdown",
   "metadata": {},
   "source": [
    "**Q5. finally 子句最常用於？**\n",
    "\n",
    "A) 捕捉例外  \n",
    "B) 清理資源 (關閉檔案、釋放鎖)  \n",
    "C) 拋出新的例外  \n",
    "D) 加速程式執行\n",
    "\n",
    "<details>\n",
    "<summary>點擊查看答案</summary>\n",
    "\n",
    "**答案: B**\n",
    "\n",
    "解析: finally 無論是否發生例外都會執行,適合用於清理資源,確保不會洩漏。\n",
    "</details>"
   ]
  },
  {
   "cell_type": "code",
   "execution_count": null,
   "metadata": {},
   "outputs": [],
   "source": [
    "# Q5 答案\n",
    "q5_answer = \"B\""
   ]
  },
  {
   "cell_type": "markdown",
   "metadata": {},
   "source": [
    "### 語法與結構 (6-10)\n",
    "\n",
    "**Q6. 以下哪個是正確的例外捕捉順序？**\n",
    "\n",
    "A) `except Exception:` → `except ValueError:`  \n",
    "B) `except ValueError:` → `except Exception:`  \n",
    "C) 順序不重要  \n",
    "D) 應該使用裸 `except:`\n",
    "\n",
    "<details>\n",
    "<summary>點擊查看答案</summary>\n",
    "\n",
    "**答案: B**\n",
    "\n",
    "解析: 具體例外 (ValueError) 應該在父類例外 (Exception) 之前,否則父類會攔截所有子類例外。\n",
    "</details>"
   ]
  },
  {
   "cell_type": "code",
   "execution_count": null,
   "metadata": {},
   "outputs": [],
   "source": [
    "# Q6 答案\n",
    "q6_answer = \"B\""
   ]
  },
  {
   "cell_type": "markdown",
   "metadata": {},
   "source": [
    "**Q7. 如何取得例外物件？**\n",
    "\n",
    "A) `except ValueError e:`  \n",
    "B) `except ValueError as e:`  \n",
    "C) `except ValueError(e):`  \n",
    "D) `except ValueError -> e:`\n",
    "\n",
    "<details>\n",
    "<summary>點擊查看答案</summary>\n",
    "\n",
    "**答案: B**\n",
    "\n",
    "解析: 使用 `as e` 語法取得例外物件,可以訪問錯誤訊息和其他屬性。\n",
    "</details>"
   ]
  },
  {
   "cell_type": "code",
   "execution_count": null,
   "metadata": {},
   "outputs": [],
   "source": [
    "# Q7 答案\n",
    "q7_answer = \"B\""
   ]
  },
  {
   "cell_type": "markdown",
   "metadata": {},
   "source": [
    "**Q8. 以下程式碼的問題？**\n",
    "\n",
    "```python\n",
    "try:\n",
    "    value = int(input())\n",
    "except:\n",
    "    print(\"錯誤\")\n",
    "```\n",
    "\n",
    "A) 沒有問題  \n",
    "B) 裸 except 會捕捉所有例外 (含 KeyboardInterrupt)  \n",
    "C) 缺少 finally  \n",
    "D) 應該使用 else\n",
    "\n",
    "<details>\n",
    "<summary>點擊查看答案</summary>\n",
    "\n",
    "**答案: B**\n",
    "\n",
    "解析: 裸 except (不指定例外類型) 會捕捉所有例外,包括系統例外如 KeyboardInterrupt,應該避免使用。\n",
    "</details>"
   ]
  },
  {
   "cell_type": "code",
   "execution_count": null,
   "metadata": {},
   "outputs": [],
   "source": [
    "# Q8 答案\n",
    "q8_answer = \"B\""
   ]
  },
  {
   "cell_type": "markdown",
   "metadata": {},
   "source": [
    "**Q9. FileNotFoundError 的父類是？**\n",
    "\n",
    "A) Exception  \n",
    "B) IOError  \n",
    "C) OSError  \n",
    "D) RuntimeError\n",
    "\n",
    "<details>\n",
    "<summary>點擊查看答案</summary>\n",
    "\n",
    "**答案: C**\n",
    "\n",
    "解析: FileNotFoundError 是 OSError 的子類,OSError 又是 Exception 的子類。\n",
    "</details>"
   ]
  },
  {
   "cell_type": "code",
   "execution_count": null,
   "metadata": {},
   "outputs": [],
   "source": [
    "# Q9 答案\n",
    "q9_answer = \"C\""
   ]
  },
  {
   "cell_type": "markdown",
   "metadata": {},
   "source": [
    "**Q10. 以下哪個會觸發 KeyError？**\n",
    "\n",
    "A) `[1, 2, 3][10]`  \n",
    "B) `{\"a\": 1}[\"b\"]`  \n",
    "C) `int(\"abc\")`  \n",
    "D) `10 / 0`\n",
    "\n",
    "<details>\n",
    "<summary>點擊查看答案</summary>\n",
    "\n",
    "**答案: B**\n",
    "\n",
    "解析:\n",
    "- A 是 IndexError\n",
    "- B 是 KeyError (字典找不到鍵)\n",
    "- C 是 ValueError\n",
    "- D 是 ZeroDivisionError\n",
    "</details>"
   ]
  },
  {
   "cell_type": "code",
   "execution_count": null,
   "metadata": {},
   "outputs": [],
   "source": [
    "# Q10 答案\n",
    "q10_answer = \"B\""
   ]
  },
  {
   "cell_type": "markdown",
   "metadata": {},
   "source": [
    "### 進階應用 (11-15)\n",
    "\n",
    "**Q11. 多個 except 子句中,哪個先被檢查？**\n",
    "\n",
    "A) 第一個 except  \n",
    "B) 最後一個 except  \n",
    "C) 隨機選一個  \n",
    "D) 所有 except 同時檢查\n",
    "\n",
    "<details>\n",
    "<summary>點擊查看答案</summary>\n",
    "\n",
    "**答案: A**\n",
    "\n",
    "解析: Python 由上而下依序檢查 except 子句,第一個匹配的會被執行。\n",
    "</details>"
   ]
  },
  {
   "cell_type": "code",
   "execution_count": null,
   "metadata": {},
   "outputs": [],
   "source": [
    "# Q11 答案\n",
    "q11_answer = \"A\""
   ]
  },
  {
   "cell_type": "markdown",
   "metadata": {},
   "source": [
    "**Q12. 以下程式碼 finally 會執行嗎？**\n",
    "\n",
    "```python\n",
    "try:\n",
    "    return 10\n",
    "finally:\n",
    "    print(\"cleanup\")\n",
    "```\n",
    "\n",
    "A) 不會,因為 return 會直接離開  \n",
    "B) 會,finally 在 return 之前執行  \n",
    "C) 取決於 Python 版本  \n",
    "D) 會報錯\n",
    "\n",
    "<details>\n",
    "<summary>點擊查看答案</summary>\n",
    "\n",
    "**答案: B**\n",
    "\n",
    "解析: finally 總是會執行,即使 try 區塊中有 return, break 或 continue。\n",
    "</details>"
   ]
  },
  {
   "cell_type": "code",
   "execution_count": null,
   "metadata": {},
   "outputs": [],
   "source": [
    "# Q12 答案\n",
    "q12_answer = \"B\""
   ]
  },
  {
   "cell_type": "markdown",
   "metadata": {},
   "source": [
    "**Q13. 例外傳播的原理？**\n",
    "\n",
    "A) 例外只在當前函式中處理  \n",
    "B) 未被捕捉的例外會向上傳播到呼叫者  \n",
    "C) 例外會自動被 Python 捕捉  \n",
    "D) 例外不會傳播\n",
    "\n",
    "<details>\n",
    "<summary>點擊查看答案</summary>\n",
    "\n",
    "**答案: B**\n",
    "\n",
    "解析: 如果函式沒有捕捉例外,例外會自動向上傳播到呼叫該函式的地方,直到被捕捉或導致程式崩潰。\n",
    "</details>"
   ]
  },
  {
   "cell_type": "code",
   "execution_count": null,
   "metadata": {},
   "outputs": [],
   "source": [
    "# Q13 答案\n",
    "q13_answer = \"B\""
   ]
  },
  {
   "cell_type": "markdown",
   "metadata": {},
   "source": [
    "**Q14. 以下哪個不是好的例外處理實踐？**\n",
    "\n",
    "A) 捕捉具體的例外類型  \n",
    "B) 使用裸 except:  \n",
    "C) 使用 finally 清理資源  \n",
    "D) 記錄例外到日誌\n",
    "\n",
    "<details>\n",
    "<summary>點擊查看答案</summary>\n",
    "\n",
    "**答案: B**\n",
    "\n",
    "解析: 裸 except: 會捕捉所有例外 (包括 KeyboardInterrupt 等系統例外),應該避免使用。\n",
    "</details>"
   ]
  },
  {
   "cell_type": "code",
   "execution_count": null,
   "metadata": {},
   "outputs": [],
   "source": [
    "# Q14 答案\n",
    "q14_answer = \"B\""
   ]
  },
  {
   "cell_type": "markdown",
   "metadata": {},
   "source": [
    "**Q15. with 語句的優勢？**\n",
    "\n",
    "A) 比 try-finally 更快  \n",
    "B) 自動管理資源,不需要手動 close  \n",
    "C) 可以捕捉更多例外  \n",
    "D) 只能用於檔案操作\n",
    "\n",
    "<details>\n",
    "<summary>點擊查看答案</summary>\n",
    "\n",
    "**答案: B**\n",
    "\n",
    "解析: with 語句使用 context manager,自動處理資源的獲取與釋放,即使發生例外也能確保資源被正確清理。\n",
    "</details>"
   ]
  },
  {
   "cell_type": "code",
   "execution_count": null,
   "metadata": {},
   "outputs": [],
   "source": [
    "# Q15 答案\n",
    "q15_answer = \"B\""
   ]
  },
  {
   "cell_type": "markdown",
   "metadata": {},
   "source": [
    "---\n",
    "\n",
    "## Part 2: 程式題 (5 題)\n",
    "\n",
    "### 程式題 1: 安全除法\n",
    "\n",
    "**題目**: 撰寫函式處理除法,捕捉 ZeroDivisionError 和 TypeError"
   ]
  },
  {
   "cell_type": "code",
   "execution_count": null,
   "metadata": {},
   "outputs": [],
   "source": [
    "def safe_division(a, b):\n",
    "    \"\"\"\n",
    "    安全除法\n",
    "    \n",
    "    處理:\n",
    "    - ZeroDivisionError: 回傳 \"Cannot divide by zero\"\n",
    "    - TypeError: 回傳 \"Invalid types\"\n",
    "    - 成功: 回傳結果\n",
    "    \"\"\"\n",
    "    # TODO: 實作\n",
    "    pass\n",
    "\n",
    "# 測試\n",
    "assert safe_division(10, 2) == 5.0\n",
    "assert safe_division(10, 0) == \"Cannot divide by zero\"\n",
    "assert safe_division(\"10\", 2) == \"Invalid types\"\n",
    "print(\"✅ 程式題 1 完成\")"
   ]
  },
  {
   "cell_type": "markdown",
   "metadata": {},
   "source": [
    "### 程式題 2: 檔案讀取器\n",
    "\n",
    "**題目**: 使用 try-except-else-finally 讀取檔案"
   ]
  },
  {
   "cell_type": "code",
   "execution_count": null,
   "metadata": {},
   "outputs": [],
   "source": [
    "def read_file_robust(filename):\n",
    "    \"\"\"\n",
    "    穩健的檔案讀取\n",
    "    \n",
    "    要求:\n",
    "    - try: 開啟檔案\n",
    "    - except: 處理 FileNotFoundError\n",
    "    - else: 讀取內容\n",
    "    - finally: 關閉檔案 (如果已開啟)\n",
    "    \"\"\"\n",
    "    # TODO: 實作\n",
    "    pass\n",
    "\n",
    "# 測試\n",
    "with open(\"test_robust.txt\", \"w\") as f:\n",
    "    f.write(\"test data\")\n",
    "\n",
    "content = read_file_robust(\"test_robust.txt\")\n",
    "assert content == \"test data\"\n",
    "print(\"✅ 程式題 2 完成\")"
   ]
  },
  {
   "cell_type": "markdown",
   "metadata": {},
   "source": [
    "### 程式題 3: 多重例外處理\n",
    "\n",
    "**題目**: 處理列表和字典的錯誤"
   ]
  },
  {
   "cell_type": "code",
   "execution_count": null,
   "metadata": {},
   "outputs": [],
   "source": [
    "def access_data(data, key):\n",
    "    \"\"\"\n",
    "    存取資料 (可能是列表或字典)\n",
    "    \n",
    "    正確順序處理:\n",
    "    - IndexError\n",
    "    - KeyError\n",
    "    - Exception\n",
    "    \"\"\"\n",
    "    # TODO: 實作\n",
    "    pass\n",
    "\n",
    "# 測試\n",
    "assert access_data([1, 2, 3], 1) == 2\n",
    "assert access_data({\"a\": 1}, \"a\") == 1\n",
    "print(\"✅ 程式題 3 完成\")"
   ]
  },
  {
   "cell_type": "markdown",
   "metadata": {},
   "source": [
    "### 程式題 4: 例外資訊擷取\n",
    "\n",
    "**題目**: 取得例外的詳細資訊"
   ]
  },
  {
   "cell_type": "code",
   "execution_count": null,
   "metadata": {},
   "outputs": [],
   "source": [
    "def analyze_exception(func):\n",
    "    \"\"\"\n",
    "    分析例外\n",
    "    \n",
    "    回傳字典:\n",
    "    {\n",
    "        \"occurred\": True/False,\n",
    "        \"type\": 例外類型名稱,\n",
    "        \"message\": 錯誤訊息\n",
    "    }\n",
    "    \"\"\"\n",
    "    # TODO: 實作\n",
    "    pass\n",
    "\n",
    "# 測試\n",
    "def error_func():\n",
    "    raise ValueError(\"test error\")\n",
    "\n",
    "result = analyze_exception(error_func)\n",
    "assert result[\"occurred\"] == True\n",
    "assert result[\"type\"] == \"ValueError\"\n",
    "print(\"✅ 程式題 4 完成\")"
   ]
  },
  {
   "cell_type": "markdown",
   "metadata": {},
   "source": [
    "### 程式題 5: 完整錯誤處理系統\n",
    "\n",
    "**題目**: 建立重試機制的資料處理器"
   ]
  },
  {
   "cell_type": "code",
   "execution_count": null,
   "metadata": {},
   "outputs": [],
   "source": [
    "def process_with_retry(data, max_retries=3):\n",
    "    \"\"\"\n",
    "    含重試機制的資料處理\n",
    "    \n",
    "    要求:\n",
    "    - 嘗試將資料轉成整數\n",
    "    - ValueError: 重試 max_retries 次\n",
    "    - 其他例外: 立即失敗\n",
    "    - 回傳: (成功, 結果/None)\n",
    "    \"\"\"\n",
    "    # TODO: 實作\n",
    "    pass\n",
    "\n",
    "# 測試\n",
    "success, result = process_with_retry([\"abc\", \"123\"])\n",
    "assert success == True\n",
    "assert result == 123\n",
    "print(\"✅ 程式題 5 完成\")"
   ]
  },
  {
   "cell_type": "markdown",
   "metadata": {},
   "source": [
    "---\n",
    "\n",
    "## 測驗結果\n",
    "\n",
    "### 選擇題評分"
   ]
  },
  {
   "cell_type": "code",
   "execution_count": null,
   "metadata": {},
   "outputs": [],
   "source": [
    "# 計算選擇題分數\n",
    "correct_answers = {\n",
    "    1: \"B\", 2: \"B\", 3: \"A\", 4: \"C\", 5: \"B\",\n",
    "    6: \"B\", 7: \"B\", 8: \"B\", 9: \"C\", 10: \"B\",\n",
    "    11: \"A\", 12: \"B\", 13: \"B\", 14: \"B\", 15: \"B\"\n",
    "}\n",
    "\n",
    "your_answers = {\n",
    "    1: q1_answer, 2: q2_answer, 3: q3_answer, 4: q4_answer, 5: q5_answer,\n",
    "    6: q6_answer, 7: q7_answer, 8: q8_answer, 9: q9_answer, 10: q10_answer,\n",
    "    11: q11_answer, 12: q12_answer, 13: q13_answer, 14: q14_answer, 15: q15_answer\n",
    "}\n",
    "\n",
    "score = sum(1 for q, ans in your_answers.items() if ans == correct_answers[q])\n",
    "\n",
    "print(f\"=== 選擇題成績 ===\")\n",
    "print(f\"正確: {score}/15\")\n",
    "print(f\"百分比: {score/15*100:.1f}%\")\n",
    "\n",
    "if score >= 13:\n",
    "    print(\"🏆 優秀！您完全掌握例外處理機制\")\n",
    "elif score >= 10:\n",
    "    print(\"✅ 良好！大部分概念都理解了\")\n",
    "elif score >= 7:\n",
    "    print(\"📚 及格！建議複習錯誤的部分\")\n",
    "else:\n",
    "    print(\"💪 需要加強！請重新學習本章內容\")"
   ]
  },
  {
   "cell_type": "markdown",
   "metadata": {},
   "source": [
    "---\n",
    "\n",
    "## 學習建議\n",
    "\n",
    "### 根據測驗結果\n",
    "\n",
    "**得分 13-15 分**: \n",
    "- 🎉 恭喜！您已精通例外處理\n",
    "- 建議：學習 Ch21 自訂例外與 raise\n",
    "\n",
    "**得分 10-12 分**:\n",
    "- ✅ 基礎穩固\n",
    "- 建議：加強進階題的練習\n",
    "\n",
    "**得分 7-9 分**:\n",
    "- 📖 需要複習\n",
    "- 建議：重新閱讀 01-lecture.ipynb\n",
    "\n",
    "**得分 < 7 分**:\n",
    "- 💪 加油！\n",
    "- 建議：從基礎概念重新學習\n",
    "\n",
    "### 下一步\n",
    "\n",
    "- 複習錯誤的題目\n",
    "- 完成所有程式題\n",
    "- 學習 **Ch21: 自訂例外與 raise**\n",
    "- 實作 **Milestone 6: User Registration**"
   ]
  }
 ],
 "metadata": {
  "kernelspec": {
   "display_name": "Python 3",
   "language": "python",
   "name": "python3"
  },
  "language_info": {
   "codemirror_mode": {
    "name": "ipython",
    "version": 3
   },
   "file_extension": ".py",
   "mimetype": "text/x-python",
   "name": "python",
   "nbconvert_exporter": "python",
   "pygments_lexer": "ipython3",
   "version": "3.8.0"
  }
 },
 "nbformat": 4,
 "nbformat_minor": 4
}
