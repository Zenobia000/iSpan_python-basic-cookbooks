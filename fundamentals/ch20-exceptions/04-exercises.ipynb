{
 "cells": [
  {
   "cell_type": "markdown",
   "metadata": {},
   "source": [
    "# Ch20: 例外處理機制 - 課後習題\n",
    "\n",
    "本 Notebook 包含 **12 題課後習題**,從基礎到挑戰,全面檢驗您的例外處理技能。\n",
    "\n",
    "## 📚 習題分類\n",
    "\n",
    "**基礎題 (1-4)**: 單一 except, 簡單錯誤處理  \n",
    "**中級題 (5-8)**: 多重 except, else/finally  \n",
    "**進階題 (9-10)**: 例外階層、自訂錯誤訊息  \n",
    "**挑戰題 (11-12)**: 完整的錯誤處理系統\n",
    "\n",
    "---"
   ]
  },
  {
   "cell_type": "markdown",
   "metadata": {},
   "source": [
    "## 【基礎題】\n",
    "\n",
    "### 習題 1: 數字轉換器\n",
    "\n",
    "**題目**: 撰寫函式將字串轉成整數,處理轉換錯誤。\n",
    "\n",
    "**需求**:\n",
    "- 輸入: 字串\n",
    "- 輸出: 整數或 None\n",
    "- 處理 ValueError"
   ]
  },
  {
   "cell_type": "code",
   "execution_count": null,
   "metadata": {},
   "outputs": [],
   "source": [
    "def str_to_int(s):\n",
    "    # TODO: 實作\n",
    "    pass\n",
    "\n",
    "# 測試\n",
    "assert str_to_int(\"123\") == 123\n",
    "assert str_to_int(\"abc\") == None\n",
    "print(\"習題 1 完成!\")"
   ]
  },
  {
   "cell_type": "markdown",
   "metadata": {},
   "source": [
    "### 習題 2: 列表安全存取\n",
    "\n",
    "**題目**: 安全地從列表取得元素,處理索引錯誤。"
   ]
  },
  {
   "cell_type": "code",
   "execution_count": null,
   "metadata": {},
   "outputs": [],
   "source": [
    "def safe_list_get(lst, index, default=None):\n",
    "    \"\"\"\n",
    "    安全取得列表元素\n",
    "    \n",
    "    Args:\n",
    "        lst: 列表\n",
    "        index: 索引\n",
    "        default: 預設值\n",
    "    \"\"\"\n",
    "    # TODO: 實作\n",
    "    pass\n",
    "\n",
    "# 測試\n",
    "data = [1, 2, 3]\n",
    "assert safe_list_get(data, 1) == 2\n",
    "assert safe_list_get(data, 10, default=-1) == -1\n",
    "print(\"習題 2 完成!\")"
   ]
  },
  {
   "cell_type": "markdown",
   "metadata": {},
   "source": [
    "### 習題 3: 字典安全取值\n",
    "\n",
    "**題目**: 從字典取值,處理 KeyError。"
   ]
  },
  {
   "cell_type": "code",
   "execution_count": null,
   "metadata": {},
   "outputs": [],
   "source": [
    "def safe_dict_get(d, key, default=None):\n",
    "    # TODO: 使用 try-except 實作 (不要用 dict.get)\n",
    "    pass\n",
    "\n",
    "# 測試\n",
    "user = {\"name\": \"Alice\", \"age\": 25}\n",
    "assert safe_dict_get(user, \"name\") == \"Alice\"\n",
    "assert safe_dict_get(user, \"city\", \"Unknown\") == \"Unknown\"\n",
    "print(\"習題 3 完成!\")"
   ]
  },
  {
   "cell_type": "markdown",
   "metadata": {},
   "source": [
    "### 習題 4: 除法計算器\n",
    "\n",
    "**題目**: 安全的除法,處理除以零錯誤。"
   ]
  },
  {
   "cell_type": "code",
   "execution_count": null,
   "metadata": {},
   "outputs": [],
   "source": [
    "def safe_divide(a, b):\n",
    "    # TODO: 處理 ZeroDivisionError\n",
    "    pass\n",
    "\n",
    "# 測試\n",
    "assert safe_divide(10, 2) == 5.0\n",
    "assert safe_divide(10, 0) == None\n",
    "print(\"習題 4 完成!\")"
   ]
  },
  {
   "cell_type": "markdown",
   "metadata": {},
   "source": [
    "## 【中級題】\n",
    "\n",
    "### 習題 5: JSON 解析器\n",
    "\n",
    "**題目**: 解析 JSON 字串,處理多種錯誤。"
   ]
  },
  {
   "cell_type": "code",
   "execution_count": null,
   "metadata": {},
   "outputs": [],
   "source": [
    "import json\n",
    "\n",
    "def safe_json_parse(json_str):\n",
    "    \"\"\"\n",
    "    安全解析 JSON\n",
    "    \n",
    "    處理:\n",
    "    - json.JSONDecodeError\n",
    "    - TypeError (輸入不是字串)\n",
    "    \"\"\"\n",
    "    # TODO: 實作多重 except\n",
    "    pass\n",
    "\n",
    "# 測試\n",
    "assert safe_json_parse('{\"name\": \"Alice\"}') == {\"name\": \"Alice\"}\n",
    "assert safe_json_parse('{invalid}') == None\n",
    "assert safe_json_parse(123) == None\n",
    "print(\"習題 5 完成!\")"
   ]
  },
  {
   "cell_type": "markdown",
   "metadata": {},
   "source": [
    "### 習題 6: 檔案行數計算器\n",
    "\n",
    "**題目**: 計算檔案行數,使用 else 子句。"
   ]
  },
  {
   "cell_type": "code",
   "execution_count": null,
   "metadata": {},
   "outputs": [],
   "source": [
    "def count_file_lines(filename):\n",
    "    \"\"\"\n",
    "    計算檔案行數\n",
    "    \n",
    "    要求:\n",
    "    - try: 開啟檔案\n",
    "    - except: 處理 FileNotFoundError\n",
    "    - else: 成功開啟後計算行數\n",
    "    \"\"\"\n",
    "    # TODO: 使用 try-except-else\n",
    "    pass\n",
    "\n",
    "# 測試\n",
    "with open(\"test_count.txt\", \"w\") as f:\n",
    "    f.write(\"line1\\nline2\\nline3\")\n",
    "\n",
    "assert count_file_lines(\"test_count.txt\") == 3\n",
    "assert count_file_lines(\"no_file.txt\") == 0\n",
    "print(\"習題 6 完成!\")"
   ]
  },
  {
   "cell_type": "markdown",
   "metadata": {},
   "source": [
    "### 習題 7: 檔案複製器\n",
    "\n",
    "**題目**: 複製檔案,使用 finally 確保資源關閉。"
   ]
  },
  {
   "cell_type": "code",
   "execution_count": null,
   "metadata": {},
   "outputs": [],
   "source": [
    "def copy_file(source, dest):\n",
    "    \"\"\"\n",
    "    複製檔案\n",
    "    \n",
    "    要求:\n",
    "    - 開啟兩個檔案\n",
    "    - 使用 finally 確保都關閉\n",
    "    - 回傳 True/False\n",
    "    \"\"\"\n",
    "    src_file = None\n",
    "    dst_file = None\n",
    "    \n",
    "    # TODO: 實作 try-except-finally\n",
    "    pass\n",
    "\n",
    "# 測試\n",
    "with open(\"source.txt\", \"w\") as f:\n",
    "    f.write(\"test content\")\n",
    "\n",
    "assert copy_file(\"source.txt\", \"dest.txt\") == True\n",
    "assert copy_file(\"no_file.txt\", \"dest.txt\") == False\n",
    "print(\"習題 7 完成!\")"
   ]
  },
  {
   "cell_type": "markdown",
   "metadata": {},
   "source": [
    "### 習題 8: 數學計算器\n",
    "\n",
    "**題目**: 通用計算器,處理多種數學錯誤。"
   ]
  },
  {
   "cell_type": "code",
   "execution_count": null,
   "metadata": {},
   "outputs": [],
   "source": [
    "import math\n",
    "\n",
    "def safe_math_calc(operation, value):\n",
    "    \"\"\"\n",
    "    安全的數學計算\n",
    "    \n",
    "    operation: 'sqrt', 'log', 'factorial'\n",
    "    \n",
    "    處理:\n",
    "    - ValueError (sqrt負數, log負數)\n",
    "    - OverflowError (factorial過大)\n",
    "    \"\"\"\n",
    "    # TODO: 實作\n",
    "    pass\n",
    "\n",
    "# 測試\n",
    "assert safe_math_calc('sqrt', 9) == 3.0\n",
    "assert safe_math_calc('sqrt', -1) == None\n",
    "print(\"習題 8 完成!\")"
   ]
  },
  {
   "cell_type": "markdown",
   "metadata": {},
   "source": [
    "## 【進階題】\n",
    "\n",
    "### 習題 9: 多層例外處理\n",
    "\n",
    "**題目**: 正確排列例外捕捉順序。"
   ]
  },
  {
   "cell_type": "code",
   "execution_count": null,
   "metadata": {},
   "outputs": [],
   "source": [
    "def process_data(data):\n",
    "    \"\"\"\n",
    "    處理資料,正確排序例外\n",
    "    \n",
    "    順序: IndexError → KeyError → LookupError → Exception\n",
    "    \"\"\"\n",
    "    # TODO: 按正確順序排列 except\n",
    "    pass\n",
    "\n",
    "# 測試\n",
    "assert process_data([1, 2, 3]) != None\n",
    "print(\"習題 9 完成!\")"
   ]
  },
  {
   "cell_type": "markdown",
   "metadata": {},
   "source": [
    "### 習題 10: 例外鏈與資訊\n",
    "\n",
    "**題目**: 捕捉例外並取得詳細資訊。"
   ]
  },
  {
   "cell_type": "code",
   "execution_count": null,
   "metadata": {},
   "outputs": [],
   "source": [
    "def get_exception_info(func, *args):\n",
    "    \"\"\"\n",
    "    執行函式並回傳例外資訊\n",
    "    \n",
    "    Returns:\n",
    "        dict: {\"type\": ..., \"message\": ..., \"args\": ...}\n",
    "    \"\"\"\n",
    "    # TODO: 捕捉例外,回傳詳細資訊\n",
    "    pass\n",
    "\n",
    "# 測試\n",
    "def error_func():\n",
    "    raise ValueError(\"測試錯誤\")\n",
    "\n",
    "info = get_exception_info(error_func)\n",
    "assert info[\"type\"] == \"ValueError\"\n",
    "print(\"習題 10 完成!\")"
   ]
  },
  {
   "cell_type": "markdown",
   "metadata": {},
   "source": [
    "## 【挑戰題】\n",
    "\n",
    "### 習題 11: 配置檔案讀取器\n",
    "\n",
    "**題目**: 建立穩健的配置檔案讀取系統。"
   ]
  },
  {
   "cell_type": "code",
   "execution_count": null,
   "metadata": {},
   "outputs": [],
   "source": [
    "class ConfigReader:\n",
    "    \"\"\"\n",
    "    配置檔案讀取器\n",
    "    \n",
    "    功能:\n",
    "    1. 讀取 INI 格式配置檔 (key=value)\n",
    "    2. 處理檔案錯誤、格式錯誤\n",
    "    3. 提供預設值\n",
    "    4. 使用 try-except-else-finally\n",
    "    \"\"\"\n",
    "    \n",
    "    def __init__(self, filename):\n",
    "        self.filename = filename\n",
    "        self.config = {}\n",
    "    \n",
    "    def load(self):\n",
    "        # TODO: 實作完整的檔案讀取與解析\n",
    "        pass\n",
    "    \n",
    "    def get(self, key, default=None):\n",
    "        # TODO: 安全取值\n",
    "        pass\n",
    "\n",
    "# 測試\n",
    "with open(\"config.ini\", \"w\") as f:\n",
    "    f.write(\"host=localhost\\nport=8080\")\n",
    "\n",
    "reader = ConfigReader(\"config.ini\")\n",
    "reader.load()\n",
    "assert reader.get(\"host\") == \"localhost\"\n",
    "assert reader.get(\"unknown\", \"default\") == \"default\"\n",
    "print(\"習題 11 完成!\")"
   ]
  },
  {
   "cell_type": "markdown",
   "metadata": {},
   "source": [
    "### 習題 12: 資料處理管線\n",
    "\n",
    "**題目**: 建立完整的資料處理管線,含錯誤恢復機制。"
   ]
  },
  {
   "cell_type": "code",
   "execution_count": null,
   "metadata": {},
   "outputs": [],
   "source": [
    "class DataPipeline:\n",
    "    \"\"\"\n",
    "    資料處理管線\n",
    "    \n",
    "    功能:\n",
    "    1. 從檔案載入 JSON 資料列表\n",
    "    2. 驗證資料 (必須含 'id' 和 'value')\n",
    "    3. 轉換資料 (value * 2)\n",
    "    4. 寫入結果檔案\n",
    "    5. 錯誤處理:\n",
    "       - 檔案錯誤\n",
    "       - JSON 格式錯誤\n",
    "       - 資料驗證錯誤\n",
    "       - 部分資料失敗時繼續處理\n",
    "    \"\"\"\n",
    "    \n",
    "    def process(self, input_file, output_file):\n",
    "        # TODO: 實作完整的資料處理管線\n",
    "        # 提示: 每個步驟都要有錯誤處理\n",
    "        pass\n",
    "\n",
    "# 測試\n",
    "import json\n",
    "\n",
    "test_data = [\n",
    "    {\"id\": 1, \"value\": 10},\n",
    "    {\"id\": 2, \"value\": 20},\n",
    "    {\"id\": 3}  # 缺少 value\n",
    "]\n",
    "\n",
    "with open(\"input.json\", \"w\") as f:\n",
    "    json.dump(test_data, f)\n",
    "\n",
    "pipeline = DataPipeline()\n",
    "pipeline.process(\"input.json\", \"output.json\")\n",
    "\n",
    "# 應該處理成功的資料,跳過錯誤資料\n",
    "print(\"習題 12 完成!\")"
   ]
  },
  {
   "cell_type": "markdown",
   "metadata": {},
   "source": [
    "---\n",
    "\n",
    "## 🏆 完成檢核\n",
    "\n",
    "### 基礎題 (1-4)\n",
    "- [ ] 習題 1: 數字轉換器\n",
    "- [ ] 習題 2: 列表安全存取\n",
    "- [ ] 習題 3: 字典安全取值\n",
    "- [ ] 習題 4: 除法計算器\n",
    "\n",
    "### 中級題 (5-8)\n",
    "- [ ] 習題 5: JSON 解析器\n",
    "- [ ] 習題 6: 檔案行數計算器\n",
    "- [ ] 習題 7: 檔案複製器\n",
    "- [ ] 習題 8: 數學計算器\n",
    "\n",
    "### 進階題 (9-10)\n",
    "- [ ] 習題 9: 多層例外處理\n",
    "- [ ] 習題 10: 例外鏈與資訊\n",
    "\n",
    "### 挑戰題 (11-12)\n",
    "- [ ] 習題 11: 配置檔案讀取器\n",
    "- [ ] 習題 12: 資料處理管線\n",
    "\n",
    "### 學習成果\n",
    "\n",
    "完成這 12 題後,您將掌握:\n",
    "\n",
    "✅ 基本例外處理 (try-except)  \n",
    "✅ 多重例外捕捉  \n",
    "✅ else 與 finally 的應用  \n",
    "✅ 例外物件與詳細資訊  \n",
    "✅ 例外捕捉順序 (具體→一般)  \n",
    "✅ 錯誤恢復與容錯機制  \n",
    "✅ 完整系統的例外架構設計\n",
    "\n",
    "### 下一步\n",
    "\n",
    "- 檢視 **05-solutions.ipynb** 詳細解答\n",
    "- 完成 **quiz.ipynb** 自我測驗\n",
    "- 學習 **Ch21: 自訂例外與 raise**"
   ]
  }
 ],
 "metadata": {
  "kernelspec": {
   "display_name": "Python 3",
   "language": "python",
   "name": "python3"
  },
  "language_info": {
   "codemirror_mode": {
    "name": "ipython",
    "version": 3
   },
   "file_extension": ".py",
   "mimetype": "text/x-python",
   "name": "python",
   "nbconvert_exporter": "python",
   "pygments_lexer": "ipython3",
   "version": "3.8.0"
  }
 },
 "nbformat": 4,
 "nbformat_minor": 4
}
