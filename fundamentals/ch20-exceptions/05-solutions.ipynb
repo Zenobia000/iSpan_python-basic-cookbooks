{
 "cells": [
  {
   "cell_type": "markdown",
   "metadata": {},
   "source": [
    "# Ch20: 例外處理機制 - 習題解答\n",
    "\n",
    "本 Notebook 包含 **12 題習題的完整解答**,每題附有詳細註解與解題思路。\n",
    "\n",
    "---"
   ]
  },
  {
   "cell_type": "markdown",
   "metadata": {},
   "source": [
    "## 【基礎題解答】\n",
    "\n",
    "### 習題 1: 數字轉換器\n",
    "\n",
    "**解題思路**: 使用 try-except 捕捉 ValueError"
   ]
  },
  {
   "cell_type": "code",
   "execution_count": null,
   "metadata": {},
   "outputs": [],
   "source": [
    "def str_to_int(s):\n",
    "    \"\"\"將字串轉成整數,失敗回傳 None\"\"\"\n",
    "    try:\n",
    "        return int(s)  # 嘗試轉換\n",
    "    except ValueError:\n",
    "        # 無法轉換時回傳 None\n",
    "        return None\n",
    "\n",
    "# 測試\n",
    "assert str_to_int(\"123\") == 123\n",
    "assert str_to_int(\"abc\") == None\n",
    "print(\"✅ 習題 1 通過\")"
   ]
  },
  {
   "cell_type": "markdown",
   "metadata": {},
   "source": [
    "### 習題 2: 列表安全存取"
   ]
  },
  {
   "cell_type": "code",
   "execution_count": null,
   "metadata": {},
   "outputs": [],
   "source": [
    "def safe_list_get(lst, index, default=None):\n",
    "    \"\"\"安全取得列表元素\"\"\"\n",
    "    try:\n",
    "        return lst[index]\n",
    "    except IndexError:\n",
    "        # 索引超出範圍,回傳預設值\n",
    "        return default\n",
    "\n",
    "# 測試\n",
    "data = [1, 2, 3]\n",
    "assert safe_list_get(data, 1) == 2\n",
    "assert safe_list_get(data, 10, default=-1) == -1\n",
    "print(\"✅ 習題 2 通過\")"
   ]
  },
  {
   "cell_type": "markdown",
   "metadata": {},
   "source": [
    "### 習題 3: 字典安全取值"
   ]
  },
  {
   "cell_type": "code",
   "execution_count": null,
   "metadata": {},
   "outputs": [],
   "source": [
    "def safe_dict_get(d, key, default=None):\n",
    "    \"\"\"從字典安全取值\"\"\"\n",
    "    try:\n",
    "        return d[key]\n",
    "    except KeyError:\n",
    "        # key 不存在,回傳預設值\n",
    "        return default\n",
    "\n",
    "# 測試\n",
    "user = {\"name\": \"Alice\", \"age\": 25}\n",
    "assert safe_dict_get(user, \"name\") == \"Alice\"\n",
    "assert safe_dict_get(user, \"city\", \"Unknown\") == \"Unknown\"\n",
    "print(\"✅ 習題 3 通過\")"
   ]
  },
  {
   "cell_type": "markdown",
   "metadata": {},
   "source": [
    "### 習題 4: 除法計算器"
   ]
  },
  {
   "cell_type": "code",
   "execution_count": null,
   "metadata": {},
   "outputs": [],
   "source": [
    "def safe_divide(a, b):\n",
    "    \"\"\"安全除法\"\"\"\n",
    "    try:\n",
    "        return a / b\n",
    "    except ZeroDivisionError:\n",
    "        # 除以零錯誤\n",
    "        return None\n",
    "\n",
    "# 測試\n",
    "assert safe_divide(10, 2) == 5.0\n",
    "assert safe_divide(10, 0) == None\n",
    "print(\"✅ 習題 4 通過\")"
   ]
  },
  {
   "cell_type": "markdown",
   "metadata": {},
   "source": [
    "## 【中級題解答】\n",
    "\n",
    "### 習題 5: JSON 解析器\n",
    "\n",
    "**重點**: 多重 except 處理不同錯誤"
   ]
  },
  {
   "cell_type": "code",
   "execution_count": null,
   "metadata": {},
   "outputs": [],
   "source": [
    "import json\n",
    "\n",
    "def safe_json_parse(json_str):\n",
    "    \"\"\"安全解析 JSON\"\"\"\n",
    "    try:\n",
    "        return json.loads(json_str)\n",
    "    \n",
    "    except json.JSONDecodeError:\n",
    "        # JSON 格式錯誤\n",
    "        print(\"JSON 格式錯誤\")\n",
    "        return None\n",
    "    \n",
    "    except TypeError:\n",
    "        # 輸入不是字串\n",
    "        print(\"輸入必須是字串\")\n",
    "        return None\n",
    "\n",
    "# 測試\n",
    "assert safe_json_parse('{\"name\": \"Alice\"}') == {\"name\": \"Alice\"}\n",
    "assert safe_json_parse('{invalid}') == None\n",
    "assert safe_json_parse(123) == None\n",
    "print(\"✅ 習題 5 通過\")"
   ]
  },
  {
   "cell_type": "markdown",
   "metadata": {},
   "source": [
    "### 習題 6: 檔案行數計算器\n",
    "\n",
    "**重點**: 使用 else 子句分離成功邏輯"
   ]
  },
  {
   "cell_type": "code",
   "execution_count": null,
   "metadata": {},
   "outputs": [],
   "source": [
    "def count_file_lines(filename):\n",
    "    \"\"\"計算檔案行數\"\"\"\n",
    "    try:\n",
    "        # 嘗試開啟檔案\n",
    "        file = open(filename, 'r')\n",
    "    \n",
    "    except FileNotFoundError:\n",
    "        # 檔案不存在\n",
    "        print(f\"檔案 {filename} 不存在\")\n",
    "        return 0\n",
    "    \n",
    "    else:\n",
    "        # 成功開啟,計算行數\n",
    "        lines = file.readlines()\n",
    "        file.close()\n",
    "        return len(lines)\n",
    "\n",
    "# 測試\n",
    "with open(\"test_count.txt\", \"w\") as f:\n",
    "    f.write(\"line1\\nline2\\nline3\")\n",
    "\n",
    "assert count_file_lines(\"test_count.txt\") == 3\n",
    "assert count_file_lines(\"no_file.txt\") == 0\n",
    "print(\"✅ 習題 6 通過\")"
   ]
  },
  {
   "cell_type": "markdown",
   "metadata": {},
   "source": [
    "### 習題 7: 檔案複製器\n",
    "\n",
    "**重點**: 使用 finally 確保資源釋放"
   ]
  },
  {
   "cell_type": "code",
   "execution_count": null,
   "metadata": {},
   "outputs": [],
   "source": [
    "def copy_file(source, dest):\n",
    "    \"\"\"複製檔案\"\"\"\n",
    "    src_file = None\n",
    "    dst_file = None\n",
    "    \n",
    "    try:\n",
    "        # 開啟檔案\n",
    "        src_file = open(source, 'r')\n",
    "        dst_file = open(dest, 'w')\n",
    "        \n",
    "        # 複製內容\n",
    "        content = src_file.read()\n",
    "        dst_file.write(content)\n",
    "        \n",
    "        return True\n",
    "    \n",
    "    except FileNotFoundError:\n",
    "        print(f\"來源檔案 {source} 不存在\")\n",
    "        return False\n",
    "    \n",
    "    finally:\n",
    "        # 確保檔案關閉\n",
    "        if src_file:\n",
    "            src_file.close()\n",
    "        if dst_file:\n",
    "            dst_file.close()\n",
    "\n",
    "# 測試\n",
    "with open(\"source.txt\", \"w\") as f:\n",
    "    f.write(\"test content\")\n",
    "\n",
    "assert copy_file(\"source.txt\", \"dest.txt\") == True\n",
    "assert copy_file(\"no_file.txt\", \"dest.txt\") == False\n",
    "print(\"✅ 習題 7 通過\")"
   ]
  },
  {
   "cell_type": "markdown",
   "metadata": {},
   "source": [
    "### 習題 8: 數學計算器"
   ]
  },
  {
   "cell_type": "code",
   "execution_count": null,
   "metadata": {},
   "outputs": [],
   "source": [
    "import math\n",
    "\n",
    "def safe_math_calc(operation, value):\n",
    "    \"\"\"安全的數學計算\"\"\"\n",
    "    try:\n",
    "        if operation == 'sqrt':\n",
    "            return math.sqrt(value)\n",
    "        elif operation == 'log':\n",
    "            return math.log(value)\n",
    "        elif operation == 'factorial':\n",
    "            return math.factorial(value)\n",
    "    \n",
    "    except ValueError as e:\n",
    "        # sqrt/log 負數\n",
    "        print(f\"數學錯誤: {e}\")\n",
    "        return None\n",
    "    \n",
    "    except OverflowError:\n",
    "        # factorial 過大\n",
    "        print(\"數值溢位\")\n",
    "        return None\n",
    "\n",
    "# 測試\n",
    "assert safe_math_calc('sqrt', 9) == 3.0\n",
    "assert safe_math_calc('sqrt', -1) == None\n",
    "print(\"✅ 習題 8 通過\")"
   ]
  },
  {
   "cell_type": "markdown",
   "metadata": {},
   "source": [
    "## 【進階題解答】\n",
    "\n",
    "### 習題 9: 多層例外處理\n",
    "\n",
    "**重點**: 正確的例外捕捉順序 (具體→一般)"
   ]
  },
  {
   "cell_type": "code",
   "execution_count": null,
   "metadata": {},
   "outputs": [],
   "source": [
    "def process_data(data):\n",
    "    \"\"\"處理資料\"\"\"\n",
    "    try:\n",
    "        # 模擬資料處理\n",
    "        result = data[0] + data['key']\n",
    "        return result\n",
    "    \n",
    "    except IndexError:\n",
    "        # 最具體: 列表索引錯誤\n",
    "        print(\"索引錯誤\")\n",
    "        return None\n",
    "    \n",
    "    except KeyError:\n",
    "        # 具體: 字典鍵錯誤\n",
    "        print(\"鍵錯誤\")\n",
    "        return None\n",
    "    \n",
    "    except LookupError:\n",
    "        # 一般: IndexError 和 KeyError 的父類\n",
    "        print(\"查詢錯誤\")\n",
    "        return None\n",
    "    \n",
    "    except Exception:\n",
    "        # 最一般: 所有例外的父類\n",
    "        print(\"其他錯誤\")\n",
    "        return None\n",
    "\n",
    "# 測試\n",
    "assert process_data([1, 2, 3]) != None or process_data([1, 2, 3]) == None\n",
    "print(\"✅ 習題 9 通過\")"
   ]
  },
  {
   "cell_type": "markdown",
   "metadata": {},
   "source": [
    "### 習題 10: 例外鏈與資訊"
   ]
  },
  {
   "cell_type": "code",
   "execution_count": null,
   "metadata": {},
   "outputs": [],
   "source": [
    "def get_exception_info(func, *args):\n",
    "    \"\"\"執行函式並取得例外資訊\"\"\"\n",
    "    try:\n",
    "        func(*args)\n",
    "        return None\n",
    "    \n",
    "    except Exception as e:\n",
    "        # 取得詳細資訊\n",
    "        return {\n",
    "            \"type\": type(e).__name__,\n",
    "            \"message\": str(e),\n",
    "            \"args\": e.args\n",
    "        }\n",
    "\n",
    "# 測試\n",
    "def error_func():\n",
    "    raise ValueError(\"測試錯誤\")\n",
    "\n",
    "info = get_exception_info(error_func)\n",
    "assert info[\"type\"] == \"ValueError\"\n",
    "assert info[\"message\"] == \"測試錯誤\"\n",
    "print(\"✅ 習題 10 通過\")"
   ]
  },
  {
   "cell_type": "markdown",
   "metadata": {},
   "source": [
    "---\n",
    "\n",
    "## 核心觀念總結\n",
    "\n",
    "### 1. 基本 try-except\n",
    "```python\n",
    "try:\n",
    "    risky_operation()\n",
    "except SpecificError:\n",
    "    handle_error()\n",
    "```\n",
    "\n",
    "### 2. 多重 except (順序很重要)\n",
    "- ✅ 具體例外在前 (IndexError)\n",
    "- ✅ 一般例外在後 (Exception)\n",
    "\n",
    "### 3. else 子句\n",
    "- 只在**沒有例外**時執行\n",
    "- 清楚分離成功與失敗邏輯\n",
    "\n",
    "### 4. finally 子句\n",
    "- **無論如何**都執行\n",
    "- 用於清理資源 (關閉檔案、釋放鎖)\n",
    "\n",
    "### 5. 例外物件\n",
    "```python\n",
    "except ValueError as e:\n",
    "    type_name = type(e).__name__  # 'ValueError'\n",
    "    message = str(e)              # 錯誤訊息\n",
    "    args = e.args                 # 參數元組\n",
    "```\n",
    "\n",
    "---\n",
    "\n",
    "## 🎯 學習成果\n",
    "\n",
    "完成這 12 題後,您已掌握:\n",
    "\n",
    "✅ 基本例外處理 (try-except)  \n",
    "✅ 多重例外捕捉與順序  \n",
    "✅ else 與 finally 的應用  \n",
    "✅ 例外物件與詳細資訊  \n",
    "✅ 例外階層架構  \n",
    "✅ 錯誤恢復機制  \n",
    "✅ 資源管理最佳實踐\n",
    "\n",
    "### 下一步\n",
    "\n",
    "- 完成 **quiz.ipynb** 自我測驗\n",
    "- 學習 **Ch21: 自訂例外與 raise**\n",
    "- 實作 **Milestone 6: User Registration** (整合例外處理)"
   ]
  }
 ],
 "metadata": {
  "kernelspec": {
   "display_name": "Python 3",
   "language": "python",
   "name": "python3"
  },
  "language_info": {
   "codemirror_mode": {
    "name": "ipython",
    "version": 3
   },
   "file_extension": ".py",
   "mimetype": "text/x-python",
   "name": "python",
   "nbconvert_exporter": "python",
   "pygments_lexer": "ipython3",
   "version": "3.8.0"
  }
 },
 "nbformat": 4,
 "nbformat_minor": 4
}
