{
 "cells": [
  {
   "cell_type": "markdown",
   "metadata": {},
   "source": [
    "# Chapter 19: 特殊方法與運算子重載\n",
    "# Part I: 理論基礎"
   ]
  },
  {
   "cell_type": "markdown",
   "metadata": {},
   "source": [
    "## 📋 本章概覽\n",
    "\n",
    "### 學習目標\n",
    "- 理解特殊方法（magic methods）的運作原理\n",
    "- 學會使用運算子重載讓自訂類別更自然\n",
    "- 掌握上下文管理器協定\n",
    "- 實作完整的容器類別\n",
    "\n",
    "### 先備知識\n",
    "- Chapter 16-18（類別、封裝、繼承）\n",
    "\n",
    "### 預計時長\n",
    "- 90 分鐘（理論 + 範例）"
   ]
  },
  {
   "cell_type": "markdown",
   "metadata": {},
   "source": [
    "## 🔑 核心概念\n",
    "\n",
    "### 什麼是特殊方法？\n",
    "\n",
    "特殊方法（Magic Methods / Dunder Methods）是 Python 中以雙底線（`__`）開頭和結尾的方法。\n",
    "\n",
    "它們讓你的自訂類別能像內建型別一樣使用：\n",
    "- `obj1 + obj2` → 呼叫 `obj1.__add__(obj2)`\n",
    "- `len(obj)` → 呼叫 `obj.__len__()`\n",
    "- `str(obj)` → 呼叫 `obj.__str__()`\n",
    "\n",
    "### 為什麼需要它們？\n",
    "\n",
    "**設計理念**：讓自訂類別看起來像內建型別，提供一致的使用體驗。"
   ]
  },
  {
   "cell_type": "markdown",
   "metadata": {},
   "source": [
    "# Part II: 實作演練"
   ]
  },
  {
   "cell_type": "markdown",
   "metadata": {},
   "source": [
    "## 範例 1：`__init__` 與 `__str__` 基礎\n",
    "\n",
    "最基本的特殊方法：初始化與字串表示"
   ]
  },
  {
   "cell_type": "code",
   "execution_count": null,
   "metadata": {},
   "outputs": [],
   "source": [
    "class Person:\n",
    "    \"\"\"人員類別 - 示範基本特殊方法\"\"\"\n",
    "    \n",
    "    def __init__(self, name, age):\n",
    "        \"\"\"初始化方法：建立物件時自動呼叫\"\"\"\n",
    "        self.name = name\n",
    "        self.age = age\n",
    "    \n",
    "    def __str__(self):\n",
    "        \"\"\"字串表示：給使用者看的，易讀\"\"\"\n",
    "        return f\"{self.name}（{self.age} 歲）\"\n",
    "\n",
    "# 測試\n",
    "p = Person(\"Alice\", 25)\n",
    "print(f\"建立物件：{p}\")  # 呼叫 __str__\n",
    "print(f\"型別：{type(p)}\")"
   ]
  },
  {
   "cell_type": "code",
   "execution_count": null,
   "metadata": {},
   "outputs": [],
   "source": [
    "# 沒有 __str__ 的情況\n",
    "class PersonBad:\n",
    "    def __init__(self, name, age):\n",
    "        self.name = name\n",
    "        self.age = age\n",
    "\n",
    "p_bad = PersonBad(\"Bob\", 30)\n",
    "print(p_bad)  # 輸出不友善的記憶體位址"
   ]
  },
  {
   "cell_type": "markdown",
   "metadata": {},
   "source": [
    "**重點說明**：\n",
    "- `__init__`：物件建立時呼叫，用於初始化屬性\n",
    "- `__str__`：`print()` 或 `str()` 時呼叫，返回使用者友善的字串\n",
    "- 沒有 `__str__` 時，Python 使用預設格式（記憶體位址）"
   ]
  },
  {
   "cell_type": "markdown",
   "metadata": {},
   "source": [
    "## 範例 2：`__repr__` 的正確使用\n",
    "\n",
    "`__repr__` 是給開發者看的，應該包含完整資訊"
   ]
  },
  {
   "cell_type": "code",
   "execution_count": null,
   "metadata": {},
   "outputs": [],
   "source": [
    "class Book:\n",
    "    \"\"\"書籍類別 - 示範 __str__ 與 __repr__ 的差異\"\"\"\n",
    "    \n",
    "    def __init__(self, title, author, year):\n",
    "        self.title = title\n",
    "        self.author = author\n",
    "        self.year = year\n",
    "    \n",
    "    def __str__(self):\n",
    "        \"\"\"給讀者看：簡潔易讀\"\"\"\n",
    "        return f\"《{self.title}》- {self.author}\"\n",
    "    \n",
    "    def __repr__(self):\n",
    "        \"\"\"給程式設計師看：完整且可重建\"\"\"\n",
    "        return f\"Book('{self.title}', '{self.author}', {self.year})\"\n",
    "\n",
    "# 測試\n",
    "book = Book(\"Python 進階教學\", \"張三\", 2025)\n",
    "\n",
    "print(\"使用 str():\")\n",
    "print(str(book))  # 呼叫 __str__\n",
    "\n",
    "print(\"\\n使用 repr():\")\n",
    "print(repr(book))  # 呼叫 __repr__\n",
    "\n",
    "print(\"\\n在列表中（使用 __repr__）:\")\n",
    "books = [book]\n",
    "print(books)"
   ]
  },
  {
   "cell_type": "code",
   "execution_count": null,
   "metadata": {},
   "outputs": [],
   "source": [
    "# __repr__ 的黃金法則：eval(repr(obj)) 應該能重建物件\n",
    "book_repr = repr(book)\n",
    "print(f\"repr 結果：{book_repr}\")\n",
    "\n",
    "# 使用 eval 重建物件（實務上少用，但這是設計目標）\n",
    "book_copy = eval(book_repr)\n",
    "print(f\"重建的物件：{book_copy}\")"
   ]
  },
  {
   "cell_type": "markdown",
   "metadata": {},
   "source": [
    "**設計原則**：\n",
    "- `__str__`：給終端使用者，專注於可讀性\n",
    "- `__repr__`：給開發者，專注於完整性與可重建性\n",
    "- 只實作一個時，選擇 `__repr__`（Python 會 fallback）\n",
    "- 理想情況：`eval(repr(obj)) == obj`"
   ]
  },
  {
   "cell_type": "markdown",
   "metadata": {},
   "source": [
    "## 範例 3：`__len__` 與 `__getitem__`（序列協定）\n",
    "\n",
    "實作這兩個方法，你的類別就能像列表一樣使用"
   ]
  },
  {
   "cell_type": "code",
   "execution_count": null,
   "metadata": {},
   "outputs": [],
   "source": [
    "class Playlist:\n",
    "    \"\"\"播放清單類別 - 示範序列協定\"\"\"\n",
    "    \n",
    "    def __init__(self, name):\n",
    "        self.name = name\n",
    "        self.songs = []  # 內部儲存歌曲\n",
    "    \n",
    "    def add_song(self, song):\n",
    "        \"\"\"新增歌曲\"\"\"\n",
    "        self.songs.append(song)\n",
    "    \n",
    "    def __len__(self):\n",
    "        \"\"\"返回歌曲數量\"\"\"\n",
    "        return len(self.songs)\n",
    "    \n",
    "    def __getitem__(self, index):\n",
    "        \"\"\"支援索引存取\"\"\"\n",
    "        return self.songs[index]\n",
    "    \n",
    "    def __str__(self):\n",
    "        return f\"播放清單：{self.name}（{len(self)} 首歌）\"\n",
    "\n",
    "# 測試\n",
    "playlist = Playlist(\"我的最愛\")\n",
    "playlist.add_song(\"歌曲 A\")\n",
    "playlist.add_song(\"歌曲 B\")\n",
    "playlist.add_song(\"歌曲 C\")\n",
    "\n",
    "print(playlist)\n",
    "print(f\"總共有 {len(playlist)} 首歌\")  # 使用 len()\n",
    "print(f\"第一首：{playlist[0]}\")  # 使用索引\n",
    "print(f\"最後一首：{playlist[-1]}\")  # 負數索引也可以！"
   ]
  },
  {
   "cell_type": "code",
   "execution_count": null,
   "metadata": {},
   "outputs": [],
   "source": [
    "# 支援切片（因為有 __getitem__）\n",
    "print(\"\\n前兩首歌：\")\n",
    "for song in playlist[0:2]:\n",
    "    print(f\"  - {song}\")\n",
    "\n",
    "# 支援迭代（因為有 __getitem__ 和 __len__）\n",
    "print(\"\\n所有歌曲：\")\n",
    "for song in playlist:\n",
    "    print(f\"  ♪ {song}\")"
   ]
  },
  {
   "cell_type": "markdown",
   "metadata": {},
   "source": [
    "**重點說明**：\n",
    "- `__len__`：讓物件支援 `len()` 函式\n",
    "- `__getitem__`：讓物件支援 `obj[index]` 存取\n",
    "- 實作這兩個方法，自動獲得：\n",
    "  - 切片功能\n",
    "  - 迭代功能（for 迴圈）\n",
    "  - 負數索引"
   ]
  },
  {
   "cell_type": "markdown",
   "metadata": {},
   "source": [
    "## 範例 4：運算子重載 - 算術運算\n",
    "\n",
    "讓自訂類別支援 +、-、* 等運算"
   ]
  },
  {
   "cell_type": "code",
   "execution_count": null,
   "metadata": {},
   "outputs": [],
   "source": [
    "class Vector:\n",
    "    \"\"\"2D 向量類別 - 示範算術運算子重載\"\"\"\n",
    "    \n",
    "    def __init__(self, x, y):\n",
    "        self.x = x\n",
    "        self.y = y\n",
    "    \n",
    "    def __add__(self, other):\n",
    "        \"\"\"向量相加：v1 + v2\"\"\"\n",
    "        return Vector(self.x + other.x, self.y + other.y)\n",
    "    \n",
    "    def __sub__(self, other):\n",
    "        \"\"\"向量相減：v1 - v2\"\"\"\n",
    "        return Vector(self.x - other.x, self.y - other.y)\n",
    "    \n",
    "    def __mul__(self, scalar):\n",
    "        \"\"\"純量乘法：v * 3\"\"\"\n",
    "        return Vector(self.x * scalar, self.y * scalar)\n",
    "    \n",
    "    def __str__(self):\n",
    "        return f\"Vector({self.x}, {self.y})\"\n",
    "    \n",
    "    def __repr__(self):\n",
    "        return f\"Vector({self.x}, {self.y})\"\n",
    "\n",
    "# 測試\n",
    "v1 = Vector(1, 2)\n",
    "v2 = Vector(3, 4)\n",
    "\n",
    "print(f\"v1 = {v1}\")\n",
    "print(f\"v2 = {v2}\")\n",
    "print(f\"v1 + v2 = {v1 + v2}\")  # 向量相加\n",
    "print(f\"v2 - v1 = {v2 - v1}\")  # 向量相減\n",
    "print(f\"v1 * 3 = {v1 * 3}\")    # 純量乘法"
   ]
  },
  {
   "cell_type": "code",
   "execution_count": null,
   "metadata": {},
   "outputs": [],
   "source": [
    "# 複合運算\n",
    "result = (v1 + v2) * 2 - v1\n",
    "print(f\"(v1 + v2) * 2 - v1 = {result}\")\n",
    "\n",
    "# 驗證不可變性（不修改原物件）\n",
    "v3 = Vector(5, 6)\n",
    "v4 = v3 + Vector(1, 1)\n",
    "print(f\"\\nv3 原本的值：{v3}\")  # v3 沒有被修改\n",
    "print(f\"v4 新的值：{v4}\")"
   ]
  },
  {
   "cell_type": "markdown",
   "metadata": {},
   "source": [
    "**設計原則**：\n",
    "- 算術運算子應該返回**新物件**，不修改原物件\n",
    "- 只重載意義明確的運算子\n",
    "- 運算行為應符合直覺（+ 表示相加，* 表示縮放等）"
   ]
  },
  {
   "cell_type": "markdown",
   "metadata": {},
   "source": [
    "## 範例 5：比較運算子重載\n",
    "\n",
    "讓物件可以比較大小、排序"
   ]
  },
  {
   "cell_type": "code",
   "execution_count": null,
   "metadata": {},
   "outputs": [],
   "source": [
    "class Student:\n",
    "    \"\"\"學生類別 - 示範比較運算子重載\"\"\"\n",
    "    \n",
    "    def __init__(self, name, score):\n",
    "        self.name = name\n",
    "        self.score = score\n",
    "    \n",
    "    def __eq__(self, other):\n",
    "        \"\"\"相等比較：s1 == s2\"\"\"\n",
    "        return self.score == other.score\n",
    "    \n",
    "    def __lt__(self, other):\n",
    "        \"\"\"小於比較：s1 < s2（用於排序）\"\"\"\n",
    "        return self.score < other.score\n",
    "    \n",
    "    def __le__(self, other):\n",
    "        \"\"\"小於等於：s1 <= s2\"\"\"\n",
    "        return self.score <= other.score\n",
    "    \n",
    "    def __gt__(self, other):\n",
    "        \"\"\"大於：s1 > s2\"\"\"\n",
    "        return self.score > other.score\n",
    "    \n",
    "    def __str__(self):\n",
    "        return f\"{self.name}（{self.score} 分）\"\n",
    "\n",
    "# 測試\n",
    "s1 = Student(\"Alice\", 85)\n",
    "s2 = Student(\"Bob\", 92)\n",
    "s3 = Student(\"Carol\", 85)\n",
    "\n",
    "print(f\"s1 = {s1}\")\n",
    "print(f\"s2 = {s2}\")\n",
    "print(f\"s3 = {s3}\")\n",
    "print(f\"\\ns1 == s3: {s1 == s3}\")  # 分數相同\n",
    "print(f\"s1 < s2: {s1 < s2}\")\n",
    "print(f\"s2 > s1: {s2 > s1}\")"
   ]
  },
  {
   "cell_type": "code",
   "execution_count": null,
   "metadata": {},
   "outputs": [],
   "source": [
    "# 排序功能\n",
    "students = [s2, s1, s3]\n",
    "print(\"\\n排序前：\")\n",
    "for s in students:\n",
    "    print(f\"  {s}\")\n",
    "\n",
    "students.sort()  # 使用 __lt__ 排序\n",
    "print(\"\\n排序後（由低到高）：\")\n",
    "for s in students:\n",
    "    print(f\"  {s}\")"
   ]
  },
  {
   "cell_type": "code",
   "execution_count": null,
   "metadata": {},
   "outputs": [],
   "source": [
    "# 使用 functools.total_ordering 簡化（只需定義 __eq__ 和一個比較方法）\n",
    "from functools import total_ordering\n",
    "\n",
    "@total_ordering\n",
    "class StudentSimple:\n",
    "    def __init__(self, name, score):\n",
    "        self.name = name\n",
    "        self.score = score\n",
    "    \n",
    "    def __eq__(self, other):\n",
    "        return self.score == other.score\n",
    "    \n",
    "    def __lt__(self, other):\n",
    "        return self.score < other.score\n",
    "    \n",
    "    # __le__, __gt__, __ge__ 會自動產生！\n",
    "    \n",
    "    def __str__(self):\n",
    "        return f\"{self.name}（{self.score} 分）\"\n",
    "\n",
    "# 測試自動產生的方法\n",
    "s4 = StudentSimple(\"David\", 88)\n",
    "s5 = StudentSimple(\"Eve\", 95)\n",
    "\n",
    "print(f\"\\ns4 <= s5: {s4 <= s5}\")  # 自動產生的方法\n",
    "print(f\"s5 >= s4: {s5 >= s4}\")    # 自動產生的方法"
   ]
  },
  {
   "cell_type": "markdown",
   "metadata": {},
   "source": [
    "**重點說明**：\n",
    "- `__eq__`：定義相等性（==）\n",
    "- `__lt__`：定義小於（<），也用於排序\n",
    "- 使用 `@total_ordering` 裝飾器可減少程式碼（只需定義 `__eq__` 和一個比較方法）\n",
    "- 實作比較方法後，物件可以排序、比較"
   ]
  },
  {
   "cell_type": "markdown",
   "metadata": {},
   "source": [
    "## 範例 6：`__call__` - 可呼叫物件\n",
    "\n",
    "實作 `__call__` 讓物件像函式一樣可以呼叫"
   ]
  },
  {
   "cell_type": "code",
   "execution_count": null,
   "metadata": {},
   "outputs": [],
   "source": [
    "class Multiplier:\n",
    "    \"\"\"乘法器 - 示範可呼叫物件\"\"\"\n",
    "    \n",
    "    def __init__(self, factor):\n",
    "        self.factor = factor\n",
    "    \n",
    "    def __call__(self, x):\n",
    "        \"\"\"讓物件可以像函式一樣呼叫\"\"\"\n",
    "        return x * self.factor\n",
    "    \n",
    "    def __str__(self):\n",
    "        return f\"Multiplier(×{self.factor})\"\n",
    "\n",
    "# 測試\n",
    "double = Multiplier(2)\n",
    "triple = Multiplier(3)\n",
    "\n",
    "print(f\"double = {double}\")\n",
    "print(f\"double(5) = {double(5)}\")  # 像函式一樣呼叫\n",
    "print(f\"triple(5) = {triple(5)}\")"
   ]
  },
  {
   "cell_type": "code",
   "execution_count": null,
   "metadata": {},
   "outputs": [],
   "source": [
    "# 實用範例：計數器\n",
    "class Counter:\n",
    "    \"\"\"呼叫計數器\"\"\"\n",
    "    \n",
    "    def __init__(self):\n",
    "        self.count = 0\n",
    "    \n",
    "    def __call__(self):\n",
    "        \"\"\"每次呼叫計數加一\"\"\"\n",
    "        self.count += 1\n",
    "        return self.count\n",
    "    \n",
    "    def __str__(self):\n",
    "        return f\"Counter（已呼叫 {self.count} 次）\"\n",
    "\n",
    "counter = Counter()\n",
    "print(f\"第 {counter()} 次呼叫\")  # 1\n",
    "print(f\"第 {counter()} 次呼叫\")  # 2\n",
    "print(f\"第 {counter()} 次呼叫\")  # 3\n",
    "print(f\"\\n{counter}\")"
   ]
  },
  {
   "cell_type": "code",
   "execution_count": null,
   "metadata": {},
   "outputs": [],
   "source": [
    "# 實用範例：保存狀態的函式\n",
    "class RunningAverage:\n",
    "    \"\"\"移動平均計算器\"\"\"\n",
    "    \n",
    "    def __init__(self):\n",
    "        self.values = []\n",
    "    \n",
    "    def __call__(self, new_value):\n",
    "        \"\"\"加入新值並返回平均\"\"\"\n",
    "        self.values.append(new_value)\n",
    "        return sum(self.values) / len(self.values)\n",
    "\n",
    "avg = RunningAverage()\n",
    "print(f\"加入 10，平均：{avg(10)}\")\n",
    "print(f\"加入 20，平均：{avg(20)}\")\n",
    "print(f\"加入 30，平均：{avg(30)}\")\n",
    "print(f\"加入 40，平均：{avg(40)}\")"
   ]
  },
  {
   "cell_type": "markdown",
   "metadata": {},
   "source": [
    "**應用場景**：\n",
    "- 需要保存狀態的「函式」\n",
    "- 裝飾器（decorators）\n",
    "- 回呼函式（callbacks）\n",
    "- 函式式程式設計"
   ]
  },
  {
   "cell_type": "markdown",
   "metadata": {},
   "source": [
    "## 範例 7：`__enter__` / `__exit__` - 上下文管理器\n",
    "\n",
    "實作上下文管理器協定，支援 `with` 敘述"
   ]
  },
  {
   "cell_type": "code",
   "execution_count": null,
   "metadata": {},
   "outputs": [],
   "source": [
    "class FileManager:\n",
    "    \"\"\"檔案管理器 - 示範上下文管理器\"\"\"\n",
    "    \n",
    "    def __init__(self, filename, mode):\n",
    "        self.filename = filename\n",
    "        self.mode = mode\n",
    "        self.file = None\n",
    "    \n",
    "    def __enter__(self):\n",
    "        \"\"\"進入 with 區塊時執行：開啟資源\"\"\"\n",
    "        print(f\"開啟檔案：{self.filename}\")\n",
    "        self.file = open(self.filename, self.mode)\n",
    "        return self.file  # 返回值賦給 as 後的變數\n",
    "    \n",
    "    def __exit__(self, exc_type, exc_value, traceback):\n",
    "        \"\"\"離開 with 區塊時執行：關閉資源\"\"\"\n",
    "        print(f\"關閉檔案：{self.filename}\")\n",
    "        if self.file:\n",
    "            self.file.close()\n",
    "        \n",
    "        # 返回 False 或 None：重新拋出例外\n",
    "        # 返回 True：抑制例外\n",
    "        return False\n",
    "\n",
    "# 測試\n",
    "with FileManager(\"test.txt\", \"w\") as f:\n",
    "    f.write(\"Hello, World!\\n\")\n",
    "    f.write(\"這是測試檔案。\")\n",
    "    print(\"寫入完成\")\n",
    "# 離開 with 區塊後，__exit__ 自動執行\n",
    "\n",
    "print(\"\\n讀取檔案內容：\")\n",
    "with FileManager(\"test.txt\", \"r\") as f:\n",
    "    content = f.read()\n",
    "    print(content)"
   ]
  },
  {
   "cell_type": "code",
   "execution_count": null,
   "metadata": {},
   "outputs": [],
   "source": [
    "# 實用範例：計時器\n",
    "import time\n",
    "\n",
    "class Timer:\n",
    "    \"\"\"計時上下文管理器\"\"\"\n",
    "    \n",
    "    def __init__(self, name=\"程式碼區塊\"):\n",
    "        self.name = name\n",
    "        self.start_time = None\n",
    "    \n",
    "    def __enter__(self):\n",
    "        print(f\"⏱️  開始計時：{self.name}\")\n",
    "        self.start_time = time.time()\n",
    "        return self\n",
    "    \n",
    "    def __exit__(self, exc_type, exc_value, traceback):\n",
    "        elapsed = time.time() - self.start_time\n",
    "        print(f\"⏱️  結束計時：{self.name}，耗時 {elapsed:.4f} 秒\")\n",
    "        return False\n",
    "\n",
    "# 測試\n",
    "with Timer(\"迴圈計算\"):\n",
    "    total = 0\n",
    "    for i in range(1000000):\n",
    "        total += i\n",
    "    print(f\"計算結果：{total}\")"
   ]
  },
  {
   "cell_type": "code",
   "execution_count": null,
   "metadata": {},
   "outputs": [],
   "source": [
    "# 實用範例：資料庫連線管理\n",
    "class DatabaseConnection:\n",
    "    \"\"\"模擬資料庫連線管理器\"\"\"\n",
    "    \n",
    "    def __init__(self, db_name):\n",
    "        self.db_name = db_name\n",
    "        self.connection = None\n",
    "    \n",
    "    def __enter__(self):\n",
    "        print(f\"🔌 連接到資料庫：{self.db_name}\")\n",
    "        self.connection = f\"Connection to {self.db_name}\"\n",
    "        return self.connection\n",
    "    \n",
    "    def __exit__(self, exc_type, exc_value, traceback):\n",
    "        print(f\"🔌 關閉資料庫連接：{self.db_name}\")\n",
    "        self.connection = None\n",
    "        \n",
    "        # 處理例外\n",
    "        if exc_type is not None:\n",
    "            print(f\"❌ 發生錯誤：{exc_value}\")\n",
    "        \n",
    "        return False  # 重新拋出例外\n",
    "\n",
    "# 正常使用\n",
    "print(\"=== 正常情況 ===\")\n",
    "with DatabaseConnection(\"mydb\") as conn:\n",
    "    print(f\"執行查詢：{conn}\")\n",
    "\n",
    "# 發生例外時\n",
    "print(\"\\n=== 例外情況 ===\")\n",
    "try:\n",
    "    with DatabaseConnection(\"mydb\") as conn:\n",
    "        print(f\"執行查詢：{conn}\")\n",
    "        raise ValueError(\"查詢失敗！\")\n",
    "except ValueError as e:\n",
    "    print(f\"捕獲例外：{e}\")\n",
    "\n",
    "print(\"\\n程式繼續執行...\")"
   ]
  },
  {
   "cell_type": "markdown",
   "metadata": {},
   "source": [
    "**重點說明**：\n",
    "- `__enter__`：進入 `with` 區塊時執行，通常用於取得資源\n",
    "- `__exit__`：離開 `with` 區塊時執行，**保證一定會執行**（即使發生例外）\n",
    "- `__exit__` 參數：\n",
    "  - `exc_type`：例外類型（沒有例外時為 None）\n",
    "  - `exc_value`：例外實例\n",
    "  - `traceback`：追蹤資訊\n",
    "- 返回值：\n",
    "  - `False` 或 `None`：重新拋出例外\n",
    "  - `True`：抑制例外"
   ]
  },
  {
   "cell_type": "markdown",
   "metadata": {},
   "source": [
    "# Part III: 本章總結"
   ]
  },
  {
   "cell_type": "markdown",
   "metadata": {},
   "source": [
    "## 📊 知識回顧\n",
    "\n",
    "### 1. 特殊方法分類\n",
    "\n",
    "| 類別 | 方法 | 用途 |\n",
    "|:-----|:-----|:-----|\n",
    "| **基本** | `__init__`, `__str__`, `__repr__` | 初始化與表示 |\n",
    "| **運算** | `__add__`, `__sub__`, `__mul__` | 算術運算子 |\n",
    "| **比較** | `__eq__`, `__lt__`, `__le__` | 比較運算子 |\n",
    "| **容器** | `__len__`, `__getitem__`, `__setitem__` | 序列操作 |\n",
    "| **進階** | `__call__`, `__enter__`, `__exit__` | 特殊功能 |\n",
    "\n",
    "### 2. 設計原則\n",
    "\n",
    "✅ **應該**：\n",
    "- 讓自訂類別行為符合直覺\n",
    "- 只實作意義明確的特殊方法\n",
    "- 算術運算子返回新物件（不可變性）\n",
    "- 優先實作 `__repr__`（可作為 `__str__` 的 fallback）\n",
    "\n",
    "❌ **不應該**：\n",
    "- 濫用運算子重載（意義不明確）\n",
    "- 修改原物件（算術運算應返回新物件）\n",
    "- 忽略例外處理（上下文管理器）"
   ]
  },
  {
   "cell_type": "markdown",
   "metadata": {},
   "source": [
    "## ⚠️ 常見誤區\n",
    "\n",
    "### 誤區 1：混淆 `__str__` 和 `__repr__`\n",
    "```python\n",
    "# ❌ 錯誤：兩者內容相同\n",
    "def __str__(self):\n",
    "    return f\"Person({self.name}, {self.age})\"\n",
    "\n",
    "def __repr__(self):\n",
    "    return f\"Person({self.name}, {self.age})\"  # 浪費\n",
    "\n",
    "# ✅ 正確：分工明確\n",
    "def __str__(self):\n",
    "    return f\"{self.name}, {self.age} 歲\"  # 給使用者\n",
    "\n",
    "def __repr__(self):\n",
    "    return f\"Person('{self.name}', {self.age})\"  # 給開發者\n",
    "```\n",
    "\n",
    "### 誤區 2：運算子重載忘記返回值\n",
    "```python\n",
    "# ❌ 錯誤：沒有返回值\n",
    "def __add__(self, other):\n",
    "    self.x += other.x  # 還修改了原物件！\n",
    "\n",
    "# ✅ 正確：返回新物件\n",
    "def __add__(self, other):\n",
    "    return Vector(self.x + other.x, self.y + other.y)\n",
    "```\n",
    "\n",
    "### 誤區 3：上下文管理器忘記處理例外\n",
    "```python\n",
    "# ❌ 危險：例外時資源可能沒釋放\n",
    "def __exit__(self, exc_type, exc_value, traceback):\n",
    "    self.file.close()  # 如果之前就出錯，file 可能是 None\n",
    "\n",
    "# ✅ 安全：檢查後再關閉\n",
    "def __exit__(self, exc_type, exc_value, traceback):\n",
    "    if self.file:\n",
    "        self.file.close()\n",
    "    return False  # 重新拋出例外\n",
    "```"
   ]
  },
  {
   "cell_type": "markdown",
   "metadata": {},
   "source": [
    "## ✅ 自我檢核\n",
    "\n",
    "完成本章後，你應該能夠：\n",
    "\n",
    "- [ ] 解釋特殊方法的運作原理\n",
    "- [ ] 區分 `__str__` 與 `__repr__` 的用途\n",
    "- [ ] 實作算術運算子重載（+、-、*、/）\n",
    "- [ ] 實作比較運算子（==、<、>等）\n",
    "- [ ] 使用 `__len__` 和 `__getitem__` 建立序列物件\n",
    "- [ ] 實作 `__call__` 建立可呼叫物件\n",
    "- [ ] 實作上下文管理器（`__enter__`、`__exit__`）\n",
    "- [ ] 判斷何時應該/不應該使用運算子重載"
   ]
  },
  {
   "cell_type": "markdown",
   "metadata": {},
   "source": [
    "## 🔗 延伸閱讀\n",
    "\n",
    "### 進階主題\n",
    "1. **更多特殊方法**：\n",
    "   - `__setitem__`、`__delitem__`：完整的容器協定\n",
    "   - `__iter__`、`__next__`：自訂迭代器\n",
    "   - `__hash__`、`__eq__`：可雜湊物件（字典鍵）\n",
    "\n",
    "2. **進階技巧**：\n",
    "   - `functools.total_ordering`：簡化比較方法\n",
    "   - `contextlib.contextmanager`：用裝飾器建立上下文管理器\n",
    "   - 描述器協定：`__get__`、`__set__`、`__delete__`\n",
    "\n",
    "### 實用資源\n",
    "- [Python 官方文件 - Data Model](https://docs.python.org/3/reference/datamodel.html)\n",
    "- *Fluent Python* by Luciano Ramalho (Chapter 1, 11, 13)\n",
    "- [Real Python: Operator Overloading](https://realpython.com/operator-function-overloading/)"
   ]
  },
  {
   "cell_type": "markdown",
   "metadata": {},
   "source": [
    "## 💪 練習建議\n",
    "\n",
    "1. **完成課堂練習**（`03-practice.ipynb`）：8 題基礎練習\n",
    "2. **完成課後習題**（`04-exercises.ipynb`）：12 題進階練習\n",
    "3. **自我測驗**（`quiz.ipynb`）：檢驗學習成效\n",
    "\n",
    "**下一步**：前往 `02-worked-examples.ipynb` 查看詳細範例解析！"
   ]
  }
 ],
 "metadata": {
  "kernelspec": {
   "display_name": "Python 3",
   "language": "python",
   "name": "python3"
  },
  "language_info": {
   "codemirror_mode": {
    "name": "ipython",
    "version": 3
   },
   "file_extension": ".py",
   "mimetype": "text/x-python",
   "name": "python",
   "nbconvert_exporter": "python",
   "pygments_lexer": "ipython3",
   "version": "3.8.0"
  }
 },
 "nbformat": 4,
 "nbformat_minor": 4
}
