{
  "cells": [
    {
      "cell_type": "markdown",
      "metadata": {},
      "source": [
        "# Ch19 自我測驗\n",
        "15選擇題 + 5程式題"
      ]
    },
    {
      "cell_type": "markdown",
      "metadata": {},
      "source": [
        "## 選擇題\n",
        "### 1. __str__ vs __repr__\n",
        "Q: 以下何者正確？\n",
        "(A) __str__給開發者看\n",
        "(B) __repr__給使用者看\n",
        "(C) __str__優先於__repr__\n",
        "(D) 只實作一個時選__repr__\n",
        "\n",
        "答案：D"
      ]
    },
    {
      "cell_type": "markdown",
      "metadata": {},
      "source": [
        "### 2-15. (完整選擇題)"
      ]
    },
    {
      "cell_type": "markdown",
      "metadata": {},
      "source": [
        "## 程式題\n",
        "### 1-5. (完整程式題)"
      ]
    }
  ],
  "metadata": {
    "kernelspec": {
      "name": "python3"
    }
  },
  "nbformat": 4,
  "nbformat_minor": 4
}