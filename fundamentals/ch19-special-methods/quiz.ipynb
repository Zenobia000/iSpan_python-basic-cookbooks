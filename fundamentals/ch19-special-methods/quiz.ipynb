{
 "cells": [
  {
   "cell_type": "markdown",
   "metadata": {},
   "source": [
    "# Chapter 19: 特殊方法與運算子重載 - 自我測驗\n",
    "\n",
    "## 📝 測驗說明\n",
    "\n",
    "- **Part 1**: 選擇題 15 題（每題 4 分，共 60 分）\n",
    "- **Part 2**: 程式題 5 題（每題 8 分，共 40 分）\n",
    "- **總分**: 100 分\n",
    "- **及格標準**: 70 分\n",
    "- **建議時間**: 30 分鐘\n",
    "\n",
    "---"
   ]
  },
  {
   "cell_type": "markdown",
   "metadata": {},
   "source": [
    "## Part 1: 選擇題（60 分）"
   ]
  },
  {
   "cell_type": "markdown",
   "metadata": {},
   "source": [
    "**Q1. `__str__` 和 `__repr__` 的主要差異是什麼？**\n",
    "\n",
    "A) `__str__` 用於 `print()`，`__repr__` 用於 `eval()`  \n",
    "B) `__str__` 給使用者看，`__repr__` 給開發者看  \n",
    "C) `__str__` 回傳字串，`__repr__` 回傳物件  \n",
    "D) 兩者完全相同"
   ]
  },
  {
   "cell_type": "code",
   "execution_count": null,
   "metadata": {},
   "outputs": [],
   "source": [
    "answer_q1 = \"\""
   ]
  },
  {
   "cell_type": "markdown",
   "metadata": {},
   "source": [
    "**Q2. 以下哪個特殊方法會在使用 `len(obj)` 時被呼叫？**\n",
    "\n",
    "A) `__length__`  \n",
    "B) `__len__`  \n",
    "C) `__size__`  \n",
    "D) `__count__`"
   ]
  },
  {
   "cell_type": "code",
   "execution_count": null,
   "metadata": {},
   "outputs": [],
   "source": [
    "answer_q2 = \"\""
   ]
  },
  {
   "cell_type": "markdown",
   "metadata": {},
   "source": [
    "**Q3. 實作哪個特殊方法可以讓物件支援 `obj[index]` 存取？**\n",
    "\n",
    "A) `__get__`  \n",
    "B) `__getitem__`  \n",
    "C) `__index__`  \n",
    "D) `__access__`"
   ]
  },
  {
   "cell_type": "code",
   "execution_count": null,
   "metadata": {},
   "outputs": [],
   "source": [
    "answer_q3 = \"\""
   ]
  },
  {
   "cell_type": "markdown",
   "metadata": {},
   "source": [
    "**Q4. 以下關於運算子重載的敘述，何者正確？**\n",
    "\n",
    "A) 算術運算子（+、-、*）應該修改原物件並返回 None  \n",
    "B) 算術運算子應該返回新物件，不修改原物件  \n",
    "C) 算術運算子只能用於數字類別  \n",
    "D) 運算子重載在 Python 中不被允許"
   ]
  },
  {
   "cell_type": "code",
   "execution_count": null,
   "metadata": {},
   "outputs": [],
   "source": [
    "answer_q4 = \"\""
   ]
  },
  {
   "cell_type": "markdown",
   "metadata": {},
   "source": [
    "**Q5. `__call__` 特殊方法的作用是什麼？**\n",
    "\n",
    "A) 讓物件可以被呼叫（像函式一樣）  \n",
    "B) 讓物件可以被列印  \n",
    "C) 讓物件可以被迭代  \n",
    "D) 讓物件可以被比較"
   ]
  },
  {
   "cell_type": "code",
   "execution_count": null,
   "metadata": {},
   "outputs": [],
   "source": [
    "answer_q5 = \"\""
   ]
  },
  {
   "cell_type": "markdown",
   "metadata": {},
   "source": [
    "**Q6. 要讓自訂類別支援 `obj1 + obj2`，需要實作哪個方法？**\n",
    "\n",
    "A) `__plus__`  \n",
    "B) `__add__`  \n",
    "C) `__sum__`  \n",
    "D) `__concat__`"
   ]
  },
  {
   "cell_type": "code",
   "execution_count": null,
   "metadata": {},
   "outputs": [],
   "source": [
    "answer_q6 = \"\""
   ]
  },
  {
   "cell_type": "markdown",
   "metadata": {},
   "source": [
    "**Q7. 以下哪個方法用於實作 `==` 運算子？**\n",
    "\n",
    "A) `__equal__`  \n",
    "B) `__eq__`  \n",
    "C) `__equals__`  \n",
    "D) `__compare__`"
   ]
  },
  {
   "cell_type": "code",
   "execution_count": null,
   "metadata": {},
   "outputs": [],
   "source": [
    "answer_q7 = \"\""
   ]
  },
  {
   "cell_type": "markdown",
   "metadata": {},
   "source": [
    "**Q8. 假設已經實作 `__lt__`（小於），Python 能自動推導哪個運算子？**\n",
    "\n",
    "A) `>`（大於）  \n",
    "B) `==`（等於）  \n",
    "C) `<=`（小於等於）  \n",
    "D) 都不能自動推導"
   ]
  },
  {
   "cell_type": "code",
   "execution_count": null,
   "metadata": {},
   "outputs": [],
   "source": [
    "answer_q8 = \"\""
   ]
  },
  {
   "cell_type": "markdown",
   "metadata": {},
   "source": [
    "**Q9. `__iadd__` 方法用於實作哪個運算？**\n",
    "\n",
    "A) `obj + other`  \n",
    "B) `obj += other`  \n",
    "C) `obj = obj + other`  \n",
    "D) `int(obj)`"
   ]
  },
  {
   "cell_type": "code",
   "execution_count": null,
   "metadata": {},
   "outputs": [],
   "source": [
    "answer_q9 = \"\""
   ]
  },
  {
   "cell_type": "markdown",
   "metadata": {},
   "source": [
    "**Q10. 以下哪種情境「不適合」使用運算子重載？**\n",
    "\n",
    "A) 向量相加（Vector + Vector）  \n",
    "B) 金額相加（Money + Money）  \n",
    "C) 人員相加（Person + Person）  \n",
    "D) 分數相加（Fraction + Fraction）"
   ]
  },
  {
   "cell_type": "code",
   "execution_count": null,
   "metadata": {},
   "outputs": [],
   "source": [
    "answer_q10 = \"\""
   ]
  },
  {
   "cell_type": "markdown",
   "metadata": {},
   "source": [
    "**Q11. 上下文管理器需要實作哪兩個方法？**\n",
    "\n",
    "A) `__start__` 和 `__end__`  \n",
    "B) `__enter__` 和 `__exit__`  \n",
    "C) `__open__` 和 `__close__`  \n",
    "D) `__begin__` 和 `__finish__`"
   ]
  },
  {
   "cell_type": "code",
   "execution_count": null,
   "metadata": {},
   "outputs": [],
   "source": [
    "answer_q11 = \"\""
   ]
  },
  {
   "cell_type": "markdown",
   "metadata": {},
   "source": [
    "**Q12. `__exit__` 方法的三個參數是什麼？**\n",
    "\n",
    "A) self, value, traceback  \n",
    "B) exc_type, exc_value, traceback  \n",
    "C) error, message, stack  \n",
    "D) exception, value, info"
   ]
  },
  {
   "cell_type": "code",
   "execution_count": null,
   "metadata": {},
   "outputs": [],
   "source": [
    "answer_q12 = \"\""
   ]
  },
  {
   "cell_type": "markdown",
   "metadata": {},
   "source": [
    "**Q13. 如果 `__exit__` 返回 `True`，會發生什麼事？**\n",
    "\n",
    "A) 重新拋出例外  \n",
    "B) 抑制例外，程式繼續執行  \n",
    "C) 立即終止程式  \n",
    "D) 忽略 `__exit__` 的其他程式碼"
   ]
  },
  {
   "cell_type": "code",
   "execution_count": null,
   "metadata": {},
   "outputs": [],
   "source": [
    "answer_q13 = \"\""
   ]
  },
  {
   "cell_type": "markdown",
   "metadata": {},
   "source": [
    "**Q14. `__enter__` 的返回值會被賦給 `with` 敘述的哪個部分？**\n",
    "\n",
    "A) with 後面的表達式  \n",
    "B) as 後面的變數  \n",
    "C) 不會被賦給任何變數  \n",
    "D) 自動賦給 self"
   ]
  },
  {
   "cell_type": "code",
   "execution_count": null,
   "metadata": {},
   "outputs": [],
   "source": [
    "answer_q14 = \"\""
   ]
  },
  {
   "cell_type": "markdown",
   "metadata": {},
   "source": [
    "**Q15. 上下文管理器的主要用途是什麼？**\n",
    "\n",
    "A) 加速程式執行  \n",
    "B) 自動管理資源（如檔案、連線）  \n",
    "C) 簡化程式碼邏輯  \n",
    "D) 提供多執行緒支援"
   ]
  },
  {
   "cell_type": "code",
   "execution_count": null,
   "metadata": {},
   "outputs": [],
   "source": [
    "answer_q15 = \"\""
   ]
  },
  {
   "cell_type": "markdown",
   "metadata": {},
   "source": [
    "## Part 2: 程式題（40 分）\n",
    "\n",
    "### 程式題 1：Point 類別（8 分）\n",
    "\n",
    "實作一個 `Point` 類別，代表 2D 平面上的點，包含 `__init__`, `__str__`, `__add__`, `__eq__`。"
   ]
  },
  {
   "cell_type": "code",
   "execution_count": null,
   "metadata": {},
   "outputs": [],
   "source": [
    "class Point:\n",
    "    pass  # 請實作"
   ]
  },
  {
   "cell_type": "markdown",
   "metadata": {},
   "source": [
    "### 程式題 2：Range 類別（8 分）\n",
    "\n",
    "實作一個簡化版的 `Range` 類別，支援 `__len__`, `__getitem__`, `__contains__`。"
   ]
  },
  {
   "cell_type": "code",
   "execution_count": null,
   "metadata": {},
   "outputs": [],
   "source": [
    "class Range:\n",
    "    pass  # 請實作"
   ]
  },
  {
   "cell_type": "markdown",
   "metadata": {},
   "source": [
    "### 程式題 3：Account 類別（8 分）\n",
    "\n",
    "實作銀行帳戶類別，支援 `+`（存款）、`-`（提款）、`<`（比較）運算。"
   ]
  },
  {
   "cell_type": "code",
   "execution_count": null,
   "metadata": {},
   "outputs": [],
   "source": [
    "class Account:\n",
    "    pass  # 請實作"
   ]
  },
  {
   "cell_type": "markdown",
   "metadata": {},
   "source": [
    "### 程式題 4：Logger 上下文管理器（8 分）\n",
    "\n",
    "實作一個日誌上下文管理器，實作 `__enter__` 和 `__exit__`。"
   ]
  },
  {
   "cell_type": "code",
   "execution_count": null,
   "metadata": {},
   "outputs": [],
   "source": [
    "class Logger:\n",
    "    pass  # 請實作"
   ]
  },
  {
   "cell_type": "markdown",
   "metadata": {},
   "source": [
    "### 程式題 5：Calculator 可呼叫物件（8 分）\n",
    "\n",
    "實作一個計算機類別，支援 `__call__` 執行運算。"
   ]
  },
  {
   "cell_type": "code",
   "execution_count": null,
   "metadata": {},
   "outputs": [],
   "source": [
    "class Calculator:\n",
    "    pass  # 請實作"
   ]
  },
  {
   "cell_type": "markdown",
   "metadata": {},
   "source": [
    "## 🎯 計分"
   ]
  },
  {
   "cell_type": "code",
   "execution_count": null,
   "metadata": {},
   "outputs": [],
   "source": [
    "# 標準答案\n",
    "correct_answers = {\n",
    "    1: \"B\", 2: \"B\", 3: \"B\", 4: \"B\", 5: \"A\",\n",
    "    6: \"B\", 7: \"B\", 8: \"A\", 9: \"B\", 10: \"C\",\n",
    "    11: \"B\", 12: \"B\", 13: \"B\", 14: \"B\", 15: \"B\"\n",
    "}\n",
    "\n",
    "# 計算分數\n",
    "score = 0\n",
    "your_answers = {\n",
    "    1: answer_q1, 2: answer_q2, 3: answer_q3, 4: answer_q4, 5: answer_q5,\n",
    "    6: answer_q6, 7: answer_q7, 8: answer_q8, 9: answer_q9, 10: answer_q10,\n",
    "    11: answer_q11, 12: answer_q12, 13: answer_q13, 14: answer_q14, 15: answer_q15\n",
    "}\n",
    "\n",
    "print(\"=== 選擇題批改 ===\")\n",
    "for q_num in range(1, 16):\n",
    "    your_ans = your_answers[q_num].strip().upper()\n",
    "    correct_ans = correct_answers[q_num]\n",
    "    is_correct = your_ans == correct_ans\n",
    "    \n",
    "    if is_correct:\n",
    "        score += 4\n",
    "        print(f\"Q{q_num}: ✓ 正確\")\n",
    "    else:\n",
    "        print(f\"Q{q_num}: ✗ 錯誤（正確：{correct_ans}）\")\n",
    "\n",
    "print(f\"\\n選擇題得分：{score}/60 分\")\n",
    "print(\"程式題請自行檢查（40 分）\")\n",
    "print(f\"\\n如果程式題全對，總分：{score + 40}/100 分\")\n",
    "\n",
    "if score >= 48:\n",
    "    print(\"\\n🎉 選擇題表現優異！\")\n",
    "elif score >= 42:\n",
    "    print(\"\\n👍 選擇題及格！\")\n",
    "else:\n",
    "    print(\"\\n⚠️  需要加強，建議複習講義。\")"
   ]
  },
  {
   "cell_type": "markdown",
   "metadata": {},
   "source": [
    "## 📚 參考解答\n",
    "\n",
    "程式題參考解答請參考 `05-solutions.ipynb`。\n",
    "\n",
    "**恭喜完成 Chapter 19 的測驗！** 🎉"
   ]
  }
 ],
 "metadata": {
  "kernelspec": {
   "display_name": "Python 3",
   "language": "python",
   "name": "python3"
  },
  "language_info": {
   "name": "python",
   "version": "3.8.0"
  }
 },
 "nbformat": 4,
 "nbformat_minor": 4
}
