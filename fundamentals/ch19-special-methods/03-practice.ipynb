{
  "cells": [
    {
      "cell_type": "markdown",
      "metadata": {},
      "source": [
        "# Chapter 19: 特殊方法與運算子重載 - 課堂練習\n",
        "\n",
        "## 練習指引\n",
        "- 共 8 題，涵蓋本章核心概念\n",
        "- 建議時間：40 分鐘\n",
        "- 完成後對照 `05-solutions.ipynb`"
      ]
    },
    {
      "cell_type": "markdown",
      "metadata": {},
      "source": [
        "## 練習 1：實作 `__str__` 和 `__repr__`\n",
        "\n",
        "建立一個 `Product` 類別，表示商品，包含：\n",
        "- 屬性：name（名稱）、price（價格）\n",
        "- `__str__`：返回 \"商品名稱 - $價格\"\n",
        "- `__repr__`：返回 \"Product('name', price)\""
      ]
    },
    {
      "cell_type": "code",
      "execution_count": null,
      "metadata": {},
      "outputs": [],
      "source": [
        "# 你的程式碼\n"
      ]
    },
    {
      "cell_type": "markdown",
      "metadata": {},
      "source": [
        "## 練習 2：實作序列協定\n",
        "\n",
        "建立一個 `Stack` 類別（堆疊），實作：\n",
        "- `push(item)`：推入元素\n",
        "- `pop()`：彈出元素\n",
        "- `__len__()`：返回堆疊大小\n",
        "- `__getitem__(index)`：索引存取"
      ]
    },
    {
      "cell_type": "code",
      "execution_count": null,
      "metadata": {},
      "outputs": [],
      "source": [
        "# 你的程式碼\n"
      ]
    },
    {
      "cell_type": "markdown",
      "metadata": {},
      "source": [
        "## 練習 3：向量加法\n",
        "\n",
        "為 `Vector2D` 類別實作 `__add__` 方法，支援向量相加。"
      ]
    },
    {
      "cell_type": "code",
      "execution_count": null,
      "metadata": {},
      "outputs": [],
      "source": [
        "class Vector2D:\n",
        "    def __init__(self, x, y):\n",
        "        self.x = x\n",
        "        self.y = y\n",
        "    \n",
        "    # 實作 __add__\n",
        "    \n",
        "    def __str__(self):\n",
        "        return f\"({self.x}, {self.y})\""
      ]
    },
    {
      "cell_type": "markdown",
      "metadata": {},
      "source": [
        "## 練習 4：比較運算子\n",
        "\n",
        "為 `Temperature` 類別實作 `__eq__` 和 `__lt__`，根據溫度值比較。"
      ]
    },
    {
      "cell_type": "code",
      "execution_count": null,
      "metadata": {},
      "outputs": [],
      "source": [
        "class Temperature:\n",
        "    def __init__(self, celsius):\n",
        "        self.celsius = celsius\n",
        "    \n",
        "    # 實作 __eq__ 和 __lt__\n",
        "    \n",
        "    def __str__(self):\n",
        "        return f\"{self.celsius}°C\""
      ]
    },
    {
      "cell_type": "markdown",
      "metadata": {},
      "source": [
        "## 練習 5：可呼叫物件\n",
        "\n",
        "建立一個 `Adder` 類別，初始化時接收一個數字，呼叫時返回該數字與參數的和。"
      ]
    },
    {
      "cell_type": "code",
      "execution_count": null,
      "metadata": {},
      "outputs": [],
      "source": [
        "# 你的程式碼\n",
        "# 使用範例：\n",
        "# add5 = Adder(5)\n",
        "# print(add5(10))  # 15"
      ]
    },
    {
      "cell_type": "markdown",
      "metadata": {},
      "source": [
        "## 練習 6：上下文管理器 - 計時器\n",
        "\n",
        "建立一個 `Timer` 上下文管理器，測量 with 區塊的執行時間。"
      ]
    },
    {
      "cell_type": "code",
      "execution_count": null,
      "metadata": {},
      "outputs": [],
      "source": [
        "import time\n",
        "\n",
        "# 你的程式碼\n"
      ]
    },
    {
      "cell_type": "markdown",
      "metadata": {},
      "source": [
        "## 練習 7：完整的 Money 類別\n",
        "\n",
        "建立一個 `Money` 類別，實作：\n",
        "- `__add__`、`__sub__`：金額加減\n",
        "- `__mul__`：金額乘以倍數\n",
        "- `__eq__`、`__lt__`：比較金額\n",
        "- `__str__`：格式化輸出（如 \"$100.50\"）"
      ]
    },
    {
      "cell_type": "code",
      "execution_count": null,
      "metadata": {},
      "outputs": [],
      "source": [
        "# 你的程式碼\n"
      ]
    },
    {
      "cell_type": "markdown",
      "metadata": {},
      "source": [
        "## 練習 8：綜合應用 - 購物車\n",
        "\n",
        "建立一個 `ShoppingCart` 類別，實作：\n",
        "- `add_item(name, price, quantity)`：新增商品\n",
        "- `__len__()`：商品種類數\n",
        "- `__iter__()`：可迭代所有商品\n",
        "- `total` 屬性：計算總金額"
      ]
    },
    {
      "cell_type": "code",
      "execution_count": null,
      "metadata": {},
      "outputs": [],
      "source": [
        "# 你的程式碼\n"
      ]
    }
  ],
  "metadata": {
    "kernelspec": {
      "display_name": "Python 3",
      "language": "python",
      "name": "python3"
    }
  },
  "nbformat": 4,
  "nbformat_minor": 4
}