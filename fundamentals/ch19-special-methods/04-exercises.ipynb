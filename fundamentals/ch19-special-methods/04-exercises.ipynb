{
 "cells": [
  {
   "cell_type": "markdown",
   "metadata": {},
   "source": [
    "# Chapter 19: 特殊方法與運算子重載 - 課後習題\n",
    "\n",
    "共 20 題（8 基礎 + 8 中階 + 4 挑戰）\n",
    "\n",
    "---\n",
    "\n",
    "## 📝 使用說明\n",
    "\n",
    "1. **完成時間**：建議 120 分鐘\n",
    "2. **作答方式**：直接在 code cell 中撰寫程式碼\n",
    "3. **檢核答案**：完成後對照 `05-solutions.ipynb`\n",
    "4. **測試程式**：每題都有測試案例，確保程式正確\n",
    "\n",
    "---"
   ]
  },
  {
   "cell_type": "markdown",
   "metadata": {},
   "source": [
    "## Part I: 基礎題（8 題）\n",
    "\n",
    "本部分著重於基本特殊方法的實作。"
   ]
  },
  {
   "cell_type": "markdown",
   "metadata": {},
   "source": [
    "### 習題 1：Book 類別 - 基本特殊方法 ⭐\n",
    "\n",
    "**題目**：建立 `Book` 類別，實作以下特殊方法：\n",
    "\n",
    "**要求**：\n",
    "1. `__init__(self, title, author, pages)`：初始化書籍資訊\n",
    "2. `__str__(self)`：返回 \"《書名》 by 作者 (頁數頁)\"\n",
    "3. `__repr__(self)`：返回 \"Book('書名', '作者', 頁數)\"\n",
    "\n",
    "**測試範例**：\n",
    "```python\n",
    "book = Book(\"Python 入門\", \"張三\", 300)\n",
    "print(str(book))     # 《Python 入門》 by 張三 (300頁)\n",
    "print(repr(book))    # Book('Python 入門', '張三', 300)\n",
    "```\n",
    "\n",
    "**知識點**：`__init__`、`__str__`、`__repr__`"
   ]
  },
  {
   "cell_type": "code",
   "execution_count": null,
   "metadata": {},
   "outputs": [],
   "source": [
    "# 你的程式碼\n"
   ]
  },
  {
   "cell_type": "code",
   "execution_count": null,
   "metadata": {},
   "outputs": [],
   "source": [
    "# 測試\n",
    "book = Book(\"Python 入門\", \"張三\", 300)\n",
    "print(str(book))\n",
    "print(repr(book))\n",
    "\n",
    "books = [book]\n",
    "print(f\"\\n列表中的書籍：{books}\")"
   ]
  },
  {
   "cell_type": "markdown",
   "metadata": {},
   "source": [
    "### 習題 2：Point 類別 - `__eq__` 實作 ⭐\n",
    "\n",
    "**題目**：建立 `Point` 類別表示平面上的點，實作相等比較。\n",
    "\n",
    "**要求**：\n",
    "1. `__init__(self, x, y)`：初始化座標\n",
    "2. `__eq__(self, other)`：當兩個點的 x 和 y 都相等時返回 True\n",
    "3. `__str__(self)`：返回 \"(x, y)\" 格式\n",
    "\n",
    "**測試範例**：\n",
    "```python\n",
    "p1 = Point(3, 4)\n",
    "p2 = Point(3, 4)\n",
    "p3 = Point(5, 6)\n",
    "print(p1 == p2)      # True\n",
    "print(p1 == p3)      # False\n",
    "```\n",
    "\n",
    "**知識點**：`__eq__`"
   ]
  },
  {
   "cell_type": "code",
   "execution_count": null,
   "metadata": {},
   "outputs": [],
   "source": [
    "# 你的程式碼\n"
   ]
  },
  {
   "cell_type": "code",
   "execution_count": null,
   "metadata": {},
   "outputs": [],
   "source": [
    "# 測試\n",
    "p1 = Point(3, 4)\n",
    "p2 = Point(3, 4)\n",
    "p3 = Point(5, 6)\n",
    "\n",
    "print(f\"p1 = {p1}\")\n",
    "print(f\"p2 = {p2}\")\n",
    "print(f\"p3 = {p3}\")\n",
    "print(f\"\\np1 == p2: {p1 == p2}\")\n",
    "print(f\"p1 == p3: {p1 == p3}\")"
   ]
  },
  {
   "cell_type": "markdown",
   "metadata": {},
   "source": [
    "### 習題 3：Temperature 類別 - 比較運算子 ⭐\n",
    "\n",
    "**題目**：建立 `Temperature` 類別，實作比較運算子。\n",
    "\n",
    "**要求**：\n",
    "1. `__init__(self, celsius)`：初始化攝氏溫度\n",
    "2. `__eq__(self, other)`：相等比較\n",
    "3. `__lt__(self, other)`：小於比較\n",
    "4. `__str__(self)`：返回 \"溫度°C\" 格式\n",
    "\n",
    "**測試範例**：\n",
    "```python\n",
    "t1 = Temperature(25)\n",
    "t2 = Temperature(30)\n",
    "print(t1 < t2)       # True\n",
    "print(t1 == t2)      # False\n",
    "```\n",
    "\n",
    "**知識點**：`__eq__`、`__lt__`"
   ]
  },
  {
   "cell_type": "code",
   "execution_count": null,
   "metadata": {},
   "outputs": [],
   "source": [
    "# 你的程式碼\n"
   ]
  },
  {
   "cell_type": "code",
   "execution_count": null,
   "metadata": {},
   "outputs": [],
   "source": [
    "# 測試\n",
    "t1 = Temperature(25)\n",
    "t2 = Temperature(30)\n",
    "t3 = Temperature(25)\n",
    "\n",
    "print(f\"t1 = {t1}\")\n",
    "print(f\"t2 = {t2}\")\n",
    "print(f\"t1 < t2: {t1 < t2}\")\n",
    "print(f\"t1 == t3: {t1 == t3}\")\n",
    "\n",
    "# 排序\n",
    "temps = [Temperature(30), Temperature(10), Temperature(20)]\n",
    "temps.sort()\n",
    "print(f\"\\n排序後：{[str(t) for t in temps]}\")"
   ]
  },
  {
   "cell_type": "markdown",
   "metadata": {},
   "source": [
    "### 習題 4：SimpleList 類別 - 序列協定 ⭐\n",
    "\n",
    "**題目**：建立 `SimpleList` 類別，實作基本序列協定。\n",
    "\n",
    "**要求**：\n",
    "1. `__init__(self)`：初始化空列表\n",
    "2. `append(self, item)`：新增元素\n",
    "3. `__len__(self)`：返回列表長度\n",
    "4. `__getitem__(self, index)`：索引存取\n",
    "5. `__str__(self)`：返回列表字串表示\n",
    "\n",
    "**測試範例**：\n",
    "```python\n",
    "lst = SimpleList()\n",
    "lst.append(10)\n",
    "lst.append(20)\n",
    "print(len(lst))      # 2\n",
    "print(lst[0])        # 10\n",
    "```\n",
    "\n",
    "**知識點**：`__len__`、`__getitem__`"
   ]
  },
  {
   "cell_type": "code",
   "execution_count": null,
   "metadata": {},
   "outputs": [],
   "source": [
    "# 你的程式碼\n"
   ]
  },
  {
   "cell_type": "code",
   "execution_count": null,
   "metadata": {},
   "outputs": [],
   "source": [
    "# 測試\n",
    "lst = SimpleList()\n",
    "lst.append(10)\n",
    "lst.append(20)\n",
    "lst.append(30)\n",
    "\n",
    "print(f\"列表：{lst}\")\n",
    "print(f\"長度：{len(lst)}\")\n",
    "print(f\"第一個元素：{lst[0]}\")\n",
    "print(f\"最後一個元素：{lst[-1]}\")\n",
    "\n",
    "print(\"\\n迭代：\", end=\"\")\n",
    "for item in lst:\n",
    "    print(item, end=\" \")"
   ]
  },
  {
   "cell_type": "markdown",
   "metadata": {},
   "source": [
    "### 習題 5：Counter 類別 - 可呼叫物件 ⭐\n",
    "\n",
    "**題目**：建立 `Counter` 類別，實作可呼叫物件。\n",
    "\n",
    "**要求**：\n",
    "1. `__init__(self)`：初始化計數器為 0\n",
    "2. `__call__(self)`：每次呼叫計數加 1，並返回當前計數\n",
    "3. `__str__(self)`：返回 \"Counter: 計數\" 格式\n",
    "4. `reset(self)`：重設計數為 0\n",
    "\n",
    "**測試範例**：\n",
    "```python\n",
    "c = Counter()\n",
    "print(c())           # 1\n",
    "print(c())           # 2\n",
    "print(str(c))        # Counter: 2\n",
    "```\n",
    "\n",
    "**知識點**：`__call__`"
   ]
  },
  {
   "cell_type": "code",
   "execution_count": null,
   "metadata": {},
   "outputs": [],
   "source": [
    "# 你的程式碼\n"
   ]
  },
  {
   "cell_type": "code",
   "execution_count": null,
   "metadata": {},
   "outputs": [],
   "source": [
    "# 測試\n",
    "c = Counter()\n",
    "print(f\"第 {c()} 次呼叫\")\n",
    "print(f\"第 {c()} 次呼叫\")\n",
    "print(f\"第 {c()} 次呼叫\")\n",
    "print(f\"\\n{c}\")\n",
    "\n",
    "c.reset()\n",
    "print(f\"重設後：{c}\")\n",
    "print(f\"第 {c()} 次呼叫\")"
   ]
  },
  {
   "cell_type": "markdown",
   "metadata": {},
   "source": [
    "### 習題 6：Range 類別 - `__contains__` 實作 ⭐\n",
    "\n",
    "**題目**：建立簡化版的 `Range` 類別，實作成員測試。\n",
    "\n",
    "**要求**：\n",
    "1. `__init__(self, start, end)`：初始化範圍（包含 start，不包含 end）\n",
    "2. `__contains__(self, item)`：檢查數字是否在範圍內\n",
    "3. `__str__(self)`：返回 \"Range(start, end)\" 格式\n",
    "\n",
    "**測試範例**：\n",
    "```python\n",
    "r = Range(1, 10)\n",
    "print(5 in r)        # True\n",
    "print(10 in r)       # False（不包含 end）\n",
    "```\n",
    "\n",
    "**知識點**：`__contains__`"
   ]
  },
  {
   "cell_type": "code",
   "execution_count": null,
   "metadata": {},
   "outputs": [],
   "source": [
    "# 你的程式碼\n"
   ]
  },
  {
   "cell_type": "code",
   "execution_count": null,
   "metadata": {},
   "outputs": [],
   "source": [
    "# 測試\n",
    "r = Range(1, 10)\n",
    "print(f\"範圍：{r}\")\n",
    "print(f\"5 in r: {5 in r}\")\n",
    "print(f\"10 in r: {10 in r}\")\n",
    "print(f\"0 in r: {0 in r}\")\n",
    "print(f\"15 in r: {15 in r}\")"
   ]
  },
  {
   "cell_type": "markdown",
   "metadata": {},
   "source": [
    "### 習題 7：Person 類別 - `__hash__` 實作 ⭐⭐\n",
    "\n",
    "**題目**：建立 `Person` 類別，實作可雜湊物件（可作為字典鍵或放入集合）。\n",
    "\n",
    "**要求**：\n",
    "1. `__init__(self, name, id_number)`：初始化姓名與身分證字號\n",
    "2. `__eq__(self, other)`：根據 id_number 比較\n",
    "3. `__hash__(self)`：返回 id_number 的雜湊值\n",
    "4. `__str__(self)`：返回 \"姓名 (身分證字號)\" 格式\n",
    "\n",
    "**測試範例**：\n",
    "```python\n",
    "p1 = Person(\"Alice\", \"A123456789\")\n",
    "p2 = Person(\"Alice\", \"A123456789\")  # 同一人\n",
    "people = {p1, p2}  # 集合會去重\n",
    "print(len(people))  # 1\n",
    "```\n",
    "\n",
    "**知識點**：`__hash__`、`__eq__`、可雜湊物件"
   ]
  },
  {
   "cell_type": "code",
   "execution_count": null,
   "metadata": {},
   "outputs": [],
   "source": [
    "# 你的程式碼\n"
   ]
  },
  {
   "cell_type": "code",
   "execution_count": null,
   "metadata": {},
   "outputs": [],
   "source": [
    "# 測試\n",
    "p1 = Person(\"Alice\", \"A123456789\")\n",
    "p2 = Person(\"Alice\", \"A123456789\")\n",
    "p3 = Person(\"Bob\", \"B987654321\")\n",
    "\n",
    "print(f\"p1 = {p1}\")\n",
    "print(f\"p1 == p2: {p1 == p2}\")\n",
    "\n",
    "# 使用集合（會去重）\n",
    "people = {p1, p2, p3}\n",
    "print(f\"\\n集合大小：{len(people)}\")\n",
    "\n",
    "# 作為字典鍵\n",
    "ages = {p1: 25, p3: 30}\n",
    "print(f\"\\nAlice 的年齡：{ages[p2]}\")"
   ]
  },
  {
   "cell_type": "markdown",
   "metadata": {},
   "source": [
    "### 習題 8：Multiplier 類別 - 擴充可呼叫物件 ⭐⭐\n",
    "\n",
    "**題目**：建立 `Multiplier` 類別，可以像函式一樣呼叫，並記錄呼叫次數。\n",
    "\n",
    "**要求**：\n",
    "1. `__init__(self, factor)`：初始化乘數因子\n",
    "2. `__call__(self, x)`：返回 x * factor，並記錄呼叫次數\n",
    "3. `call_count` 屬性：返回被呼叫的次數\n",
    "4. `__str__(self)`：返回 \"Multiplier(×factor, called N times)\" 格式\n",
    "\n",
    "**測試範例**：\n",
    "```python\n",
    "double = Multiplier(2)\n",
    "print(double(5))     # 10\n",
    "print(double(3))     # 6\n",
    "print(double.call_count)  # 2\n",
    "```\n",
    "\n",
    "**知識點**：`__call__`、狀態追蹤"
   ]
  },
  {
   "cell_type": "code",
   "execution_count": null,
   "metadata": {},
   "outputs": [],
   "source": [
    "# 你的程式碼\n"
   ]
  },
  {
   "cell_type": "code",
   "execution_count": null,
   "metadata": {},
   "outputs": [],
   "source": [
    "# 測試\n",
    "double = Multiplier(2)\n",
    "triple = Multiplier(3)\n",
    "\n",
    "print(f\"double(5) = {double(5)}\")\n",
    "print(f\"double(10) = {double(10)}\")\n",
    "print(f\"triple(4) = {triple(4)}\")\n",
    "\n",
    "print(f\"\\n{double}\")\n",
    "print(f\"{triple}\")"
   ]
  },
  {
   "cell_type": "markdown",
   "metadata": {},
   "source": [
    "## Part II: 中階題（8 題）\n",
    "\n",
    "本部分著重於運算子重載與上下文管理器。"
   ]
  },
  {
   "cell_type": "markdown",
   "metadata": {},
   "source": [
    "### 習題 9：Vector2D 類別 - 算術運算子 ⭐⭐\n",
    "\n",
    "**題目**：建立 `Vector2D` 類別，實作 2D 向量運算。\n",
    "\n",
    "**要求**：\n",
    "1. `__init__(self, x, y)`：初始化向量\n",
    "2. `__add__(self, other)`：向量相加\n",
    "3. `__sub__(self, other)`：向量相減\n",
    "4. `__mul__(self, scalar)`：純量乘法\n",
    "5. `__eq__(self, other)`：相等比較\n",
    "6. `__str__(self)`：返回 \"(x, y)\" 格式\n",
    "\n",
    "**測試範例**：\n",
    "```python\n",
    "v1 = Vector2D(1, 2)\n",
    "v2 = Vector2D(3, 4)\n",
    "print(v1 + v2)       # (4, 6)\n",
    "print(v1 * 2)        # (2, 4)\n",
    "```\n",
    "\n",
    "**知識點**：`__add__`、`__sub__`、`__mul__`"
   ]
  },
  {
   "cell_type": "code",
   "execution_count": null,
   "metadata": {},
   "outputs": [],
   "source": [
    "# 你的程式碼\n"
   ]
  },
  {
   "cell_type": "code",
   "execution_count": null,
   "metadata": {},
   "outputs": [],
   "source": [
    "# 測試\n",
    "v1 = Vector2D(1, 2)\n",
    "v2 = Vector2D(3, 4)\n",
    "\n",
    "print(f\"v1 = {v1}\")\n",
    "print(f\"v2 = {v2}\")\n",
    "print(f\"v1 + v2 = {v1 + v2}\")\n",
    "print(f\"v2 - v1 = {v2 - v1}\")\n",
    "print(f\"v1 * 3 = {v1 * 3}\")\n",
    "print(f\"v1 == Vector2D(1, 2): {v1 == Vector2D(1, 2)}\")"
   ]
  },
  {
   "cell_type": "markdown",
   "metadata": {},
   "source": [
    "### 習題 10：Money 類別 - 金額運算 ⭐⭐\n",
    "\n",
    "**題目**：建立 `Money` 類別，實作金額運算。\n",
    "\n",
    "**要求**：\n",
    "1. `__init__(self, amount)`：初始化金額（浮點數）\n",
    "2. `__add__(self, other)`：金額相加\n",
    "3. `__sub__(self, other)`：金額相減\n",
    "4. `__mul__(self, factor)`：金額乘以倍數\n",
    "5. `__eq__(self, other)`：金額相等比較\n",
    "6. `__lt__(self, other)`：金額小於比較\n",
    "7. `__str__(self)`：返回 \"$金額\" 格式（保留 2 位小數）\n",
    "\n",
    "**測試範例**：\n",
    "```python\n",
    "m1 = Money(100.50)\n",
    "m2 = Money(50.25)\n",
    "print(m1 + m2)       # $150.75\n",
    "print(m1 > m2)       # True\n",
    "```\n",
    "\n",
    "**知識點**：運算子重載、比較運算子"
   ]
  },
  {
   "cell_type": "code",
   "execution_count": null,
   "metadata": {},
   "outputs": [],
   "source": [
    "# 你的程式碼\n"
   ]
  },
  {
   "cell_type": "code",
   "execution_count": null,
   "metadata": {},
   "outputs": [],
   "source": [
    "# 測試\n",
    "m1 = Money(100.50)\n",
    "m2 = Money(50.25)\n",
    "\n",
    "print(f\"m1 = {m1}\")\n",
    "print(f\"m2 = {m2}\")\n",
    "print(f\"m1 + m2 = {m1 + m2}\")\n",
    "print(f\"m1 - m2 = {m1 - m2}\")\n",
    "print(f\"m2 * 3 = {m2 * 3}\")\n",
    "print(f\"m1 > m2: {m1 > m2}\")\n",
    "print(f\"m1 == Money(100.50): {m1 == Money(100.50)}\")"
   ]
  },
  {
   "cell_type": "markdown",
   "metadata": {},
   "source": [
    "### 習題 11：Timer 上下文管理器 ⭐⭐\n",
    "\n",
    "**題目**：建立 `Timer` 上下文管理器，測量程式碼區塊執行時間。\n",
    "\n",
    "**要求**：\n",
    "1. `__init__(self, name=\"Code Block\")`：初始化計時器名稱\n",
    "2. `__enter__(self)`：記錄開始時間，印出開始訊息\n",
    "3. `__exit__(self, exc_type, exc_value, traceback)`：計算並印出執行時間\n",
    "4. 返回 `False` 讓例外正常傳播\n",
    "\n",
    "**測試範例**：\n",
    "```python\n",
    "with Timer(\"迴圈計算\"):\n",
    "    total = sum(range(1000000))\n",
    "# 輸出：⏱️  開始計時：迴圈計算\n",
    "#      ⏱️  結束計時：迴圈計算，耗時 0.0234 秒\n",
    "```\n",
    "\n",
    "**知識點**：`__enter__`、`__exit__`、上下文管理器\n",
    "\n",
    "**提示**：使用 `time.time()` 取得當前時間"
   ]
  },
  {
   "cell_type": "code",
   "execution_count": null,
   "metadata": {},
   "outputs": [],
   "source": [
    "import time\n",
    "\n",
    "# 你的程式碼\n"
   ]
  },
  {
   "cell_type": "code",
   "execution_count": null,
   "metadata": {},
   "outputs": [],
   "source": [
    "# 測試\n",
    "with Timer(\"迴圈計算\"):\n",
    "    total = sum(range(1000000))\n",
    "    print(f\"計算結果：{total}\")\n",
    "\n",
    "print()\n",
    "\n",
    "with Timer(\"字串處理\"):\n",
    "    result = \"-\".join([str(i) for i in range(10000)])"
   ]
  },
  {
   "cell_type": "markdown",
   "metadata": {},
   "source": [
    "### 習題 12：Fraction 類別 - 分數運算 ⭐⭐⭐\n",
    "\n",
    "**題目**：建立 `Fraction` 類別，實作分數運算。\n",
    "\n",
    "**要求**：\n",
    "1. `__init__(self, numerator, denominator)`：初始化分子、分母\n",
    "2. `__add__(self, other)`：分數相加（通分後相加）\n",
    "3. `__sub__(self, other)`：分數相減\n",
    "4. `__mul__(self, other)`：分數相乘（分子乘分子，分母乘分母）\n",
    "5. `__eq__(self, other)`：分數相等比較\n",
    "6. `__str__(self)`：返回 \"分子/分母\" 格式\n",
    "\n",
    "**測試範例**：\n",
    "```python\n",
    "f1 = Fraction(1, 2)  # 1/2\n",
    "f2 = Fraction(1, 3)  # 1/3\n",
    "print(f1 + f2)       # 5/6（通分：3/6 + 2/6 = 5/6）\n",
    "print(f1 * f2)       # 1/6\n",
    "```\n",
    "\n",
    "**知識點**：運算子重載、數學運算\n",
    "\n",
    "**提示**：\n",
    "- 分數相加：a/b + c/d = (a*d + b*c) / (b*d)\n",
    "- 可選：使用 `math.gcd()` 簡化分數"
   ]
  },
  {
   "cell_type": "code",
   "execution_count": null,
   "metadata": {},
   "outputs": [],
   "source": [
    "import math\n",
    "\n",
    "# 你的程式碼\n"
   ]
  },
  {
   "cell_type": "code",
   "execution_count": null,
   "metadata": {},
   "outputs": [],
   "source": [
    "# 測試\n",
    "f1 = Fraction(1, 2)\n",
    "f2 = Fraction(1, 3)\n",
    "f3 = Fraction(2, 4)  # 等於 1/2\n",
    "\n",
    "print(f\"f1 = {f1}\")\n",
    "print(f\"f2 = {f2}\")\n",
    "print(f\"f1 + f2 = {f1 + f2}\")\n",
    "print(f\"f1 - f2 = {f1 - f2}\")\n",
    "print(f\"f1 * f2 = {f1 * f2}\")\n",
    "print(f\"f1 == f3: {f1 == f3}\")"
   ]
  },
  {
   "cell_type": "markdown",
   "metadata": {},
   "source": [
    "### 習題 13：CustomDict 類別 - 字典容器 ⭐⭐⭐\n",
    "\n",
    "**題目**：建立自訂字典類別，實作容器協定。\n",
    "\n",
    "**要求**：\n",
    "1. `__init__(self)`：初始化空字典\n",
    "2. `__setitem__(self, key, value)`：設定鍵值對\n",
    "3. `__getitem__(self, key)`：取得值\n",
    "4. `__delitem__(self, key)`：刪除鍵值對\n",
    "5. `__contains__(self, key)`：檢查鍵是否存在\n",
    "6. `__len__(self)`：返回鍵值對數量\n",
    "7. `__str__(self)`：返回字典字串表示\n",
    "\n",
    "**測試範例**：\n",
    "```python\n",
    "d = CustomDict()\n",
    "d[\"name\"] = \"Alice\"\n",
    "print(d[\"name\"])     # Alice\n",
    "print(\"name\" in d)   # True\n",
    "```\n",
    "\n",
    "**知識點**：完整容器協定"
   ]
  },
  {
   "cell_type": "code",
   "execution_count": null,
   "metadata": {},
   "outputs": [],
   "source": [
    "# 你的程式碼\n"
   ]
  },
  {
   "cell_type": "code",
   "execution_count": null,
   "metadata": {},
   "outputs": [],
   "source": [
    "# 測試\n",
    "d = CustomDict()\n",
    "d[\"name\"] = \"Alice\"\n",
    "d[\"age\"] = 25\n",
    "d[\"city\"] = \"Taipei\"\n",
    "\n",
    "print(f\"字典：{d}\")\n",
    "print(f\"長度：{len(d)}\")\n",
    "print(f\"name: {d['name']}\")\n",
    "print(f\"'age' in d: {'age' in d}\")\n",
    "\n",
    "del d[\"age\"]\n",
    "print(f\"\\n刪除 age 後：{d}\")\n",
    "print(f\"長度：{len(d)}\")"
   ]
  },
  {
   "cell_type": "markdown",
   "metadata": {},
   "source": [
    "### 習題 14：TimeRange 類別 - 時間區間 ⭐⭐⭐\n",
    "\n",
    "**題目**：建立 `TimeRange` 類別表示時間區間，實作比較與包含運算。\n",
    "\n",
    "**要求**：\n",
    "1. `__init__(self, start, end)`：初始化時間區間（以分鐘表示，如 \"09:00\" → 540）\n",
    "2. `__contains__(self, time)`：檢查時間是否在區間內\n",
    "3. `overlaps(self, other)`：檢查兩個時間區間是否重疊\n",
    "4. `__len__(self)`：返回區間長度（分鐘數）\n",
    "5. `__str__(self)`：返回 \"start-end\" 格式\n",
    "\n",
    "**測試範例**：\n",
    "```python\n",
    "r1 = TimeRange(540, 720)  # 09:00-12:00\n",
    "r2 = TimeRange(660, 780)  # 11:00-13:00\n",
    "print(600 in r1)         # True（10:00 在區間內）\n",
    "print(r1.overlaps(r2))   # True（有重疊）\n",
    "```\n",
    "\n",
    "**知識點**：`__contains__`、自訂方法與特殊方法結合"
   ]
  },
  {
   "cell_type": "code",
   "execution_count": null,
   "metadata": {},
   "outputs": [],
   "source": [
    "# 你的程式碼\n"
   ]
  },
  {
   "cell_type": "code",
   "execution_count": null,
   "metadata": {},
   "outputs": [],
   "source": [
    "# 測試\n",
    "r1 = TimeRange(540, 720)   # 09:00-12:00\n",
    "r2 = TimeRange(660, 780)   # 11:00-13:00\n",
    "r3 = TimeRange(800, 900)   # 13:20-15:00\n",
    "\n",
    "print(f\"r1 = {r1}（長度：{len(r1)} 分鐘）\")\n",
    "print(f\"r2 = {r2}（長度：{len(r2)} 分鐘）\")\n",
    "print(f\"r3 = {r3}（長度：{len(r3)} 分鐘）\")\n",
    "\n",
    "print(f\"\\n600（10:00）in r1: {600 in r1}\")\n",
    "print(f\"750（12:30）in r1: {750 in r1}\")\n",
    "\n",
    "print(f\"\\nr1 與 r2 重疊: {r1.overlaps(r2)}\")\n",
    "print(f\"r1 與 r3 重疊: {r1.overlaps(r3)}\")"
   ]
  },
  {
   "cell_type": "markdown",
   "metadata": {},
   "source": [
    "### 習題 15：FileWriter 上下文管理器 ⭐⭐⭐\n",
    "\n",
    "**題目**：建立 `FileWriter` 上下文管理器，簡化檔案寫入操作。\n",
    "\n",
    "**要求**：\n",
    "1. `__init__(self, filename)`：初始化檔案名稱\n",
    "2. `__enter__(self)`：開啟檔案（寫入模式），返回 self\n",
    "3. `write_line(self, text)`：寫入一行文字（自動加換行符號）\n",
    "4. `__exit__(self, exc_type, exc_value, traceback)`：\n",
    "   - 如果有例外，印出錯誤訊息\n",
    "   - 關閉檔案\n",
    "   - 返回 False\n",
    "\n",
    "**測試範例**：\n",
    "```python\n",
    "with FileWriter(\"output.txt\") as writer:\n",
    "    writer.write_line(\"第一行\")\n",
    "    writer.write_line(\"第二行\")\n",
    "```\n",
    "\n",
    "**知識點**：上下文管理器、檔案操作"
   ]
  },
  {
   "cell_type": "code",
   "execution_count": null,
   "metadata": {},
   "outputs": [],
   "source": [
    "# 你的程式碼\n"
   ]
  },
  {
   "cell_type": "code",
   "execution_count": null,
   "metadata": {},
   "outputs": [],
   "source": [
    "# 測試\n",
    "with FileWriter(\"output.txt\") as writer:\n",
    "    writer.write_line(\"第一行\")\n",
    "    writer.write_line(\"第二行\")\n",
    "    writer.write_line(\"第三行\")\n",
    "\n",
    "# 讀取檔案驗證\n",
    "with open(\"output.txt\", \"r\", encoding=\"utf-8\") as f:\n",
    "    print(\"檔案內容：\")\n",
    "    print(f.read())"
   ]
  },
  {
   "cell_type": "markdown",
   "metadata": {},
   "source": [
    "### 習題 16：Stack 類別 - 完整堆疊實作 ⭐⭐⭐\n",
    "\n",
    "**題目**：建立完整的堆疊類別，實作多個特殊方法。\n",
    "\n",
    "**要求**：\n",
    "1. `__init__(self)`：初始化空堆疊\n",
    "2. `push(self, item)`：推入元素\n",
    "3. `pop(self)`：彈出元素（空堆疊時引發 IndexError）\n",
    "4. `__len__(self)`：返回堆疊大小\n",
    "5. `__bool__(self)`：堆疊非空時返回 True\n",
    "6. `__getitem__(self, index)`：索引存取（0 是棧頂）\n",
    "7. `__contains__(self, item)`：檢查元素是否在堆疊中\n",
    "8. `__str__(self)`：返回堆疊字串表示\n",
    "\n",
    "**測試範例**：\n",
    "```python\n",
    "stack = Stack()\n",
    "stack.push(1)\n",
    "stack.push(2)\n",
    "print(len(stack))    # 2\n",
    "print(2 in stack)    # True\n",
    "print(stack[0])      # 2（棧頂）\n",
    "```\n",
    "\n",
    "**知識點**：綜合容器協定、`__bool__`"
   ]
  },
  {
   "cell_type": "code",
   "execution_count": null,
   "metadata": {},
   "outputs": [],
   "source": [
    "# 你的程式碼\n"
   ]
  },
  {
   "cell_type": "code",
   "execution_count": null,
   "metadata": {},
   "outputs": [],
   "source": [
    "# 測試\n",
    "stack = Stack()\n",
    "print(f\"空堆疊：{stack}\")\n",
    "print(f\"bool(stack): {bool(stack)}\")\n",
    "\n",
    "stack.push(10)\n",
    "stack.push(20)\n",
    "stack.push(30)\n",
    "print(f\"\\n推入後：{stack}\")\n",
    "print(f\"長度：{len(stack)}\")\n",
    "print(f\"棧頂：{stack[0]}\")\n",
    "print(f\"20 in stack: {20 in stack}\")\n",
    "\n",
    "print(f\"\\n彈出：{stack.pop()}\")\n",
    "print(f\"彈出後：{stack}\")\n",
    "print(f\"bool(stack): {bool(stack)}\")"
   ]
  },
  {
   "cell_type": "markdown",
   "metadata": {},
   "source": [
    "## Part III: 挑戰題（4 題）\n",
    "\n",
    "本部分整合多個特殊方法，建立功能完整的類別。"
   ]
  },
  {
   "cell_type": "markdown",
   "metadata": {},
   "source": [
    "### 習題 17：Matrix 類別 - 矩陣運算 ⭐⭐⭐⭐\n",
    "\n",
    "**題目**：建立 `Matrix` 類別，實作 2x2 矩陣運算。\n",
    "\n",
    "**要求**：\n",
    "1. `__init__(self, data)`：初始化矩陣（二維列表，例如 `[[1, 2], [3, 4]]`）\n",
    "2. `__add__(self, other)`：矩陣相加（對應元素相加）\n",
    "3. `__mul__(self, other)`：矩陣乘法（數學矩陣乘法）\n",
    "4. `__getitem__(self, index)`：支援索引存取（例如 `m[0][1]`）\n",
    "5. `__eq__(self, other)`：矩陣相等比較\n",
    "6. `__str__(self)`：返回矩陣字串表示\n",
    "\n",
    "**測試範例**：\n",
    "```python\n",
    "m1 = Matrix([[1, 2], [3, 4]])\n",
    "m2 = Matrix([[5, 6], [7, 8]])\n",
    "print(m1 + m2)       # [[6, 8], [10, 12]]\n",
    "print(m1[0][1])      # 2\n",
    "```\n",
    "\n",
    "**知識點**：複雜運算子重載、容器協定\n",
    "\n",
    "**提示**：\n",
    "- 矩陣乘法：`C[i][j] = sum(A[i][k] * B[k][j] for k in range(n))`\n",
    "- 本題只需支援 2x2 矩陣"
   ]
  },
  {
   "cell_type": "code",
   "execution_count": null,
   "metadata": {},
   "outputs": [],
   "source": [
    "# 你的程式碼\n"
   ]
  },
  {
   "cell_type": "code",
   "execution_count": null,
   "metadata": {},
   "outputs": [],
   "source": [
    "# 測試\n",
    "m1 = Matrix([[1, 2], [3, 4]])\n",
    "m2 = Matrix([[5, 6], [7, 8]])\n",
    "\n",
    "print(\"m1 =\")\n",
    "print(m1)\n",
    "print(\"\\nm2 =\")\n",
    "print(m2)\n",
    "print(\"\\nm1 + m2 =\")\n",
    "print(m1 + m2)\n",
    "print(\"\\nm1 * m2 =\")\n",
    "print(m1 * m2)\n",
    "print(f\"\\nm1[0][1] = {m1[0][1]}\")\n",
    "print(f\"m1 == Matrix([[1, 2], [3, 4]]): {m1 == Matrix([[1, 2], [3, 4]])}\")"
   ]
  },
  {
   "cell_type": "markdown",
   "metadata": {},
   "source": [
    "### 習題 18：ShoppingCart 類別 - 購物車系統 ⭐⭐⭐⭐⭐\n",
    "\n",
    "**題目**：建立完整的購物車系統。\n",
    "\n",
    "**要求**：\n",
    "1. `__init__(self)`：初始化空購物車\n",
    "2. `add_item(self, name, price, quantity)`：新增商品\n",
    "3. `remove_item(self, name)`：移除商品\n",
    "4. `update_quantity(self, name, quantity)`：更新數量\n",
    "5. `__len__(self)`：返回商品種類數\n",
    "6. `__getitem__(self, name)`：根據商品名稱取得資訊\n",
    "7. `__contains__(self, name)`：檢查商品是否在購物車中\n",
    "8. `__iter__(self)`：可迭代所有商品\n",
    "9. `total`（屬性）：計算總金額\n",
    "10. `__str__(self)`：返回購物車摘要\n",
    "\n",
    "**測試範例**：\n",
    "```python\n",
    "cart = ShoppingCart()\n",
    "cart.add_item(\"蘋果\", 30, 5)\n",
    "cart.add_item(\"香蕉\", 20, 3)\n",
    "print(len(cart))             # 2\n",
    "print(\"蘋果\" in cart)        # True\n",
    "print(cart.total)            # 210\n",
    "```\n",
    "\n",
    "**知識點**：綜合應用多個特殊方法"
   ]
  },
  {
   "cell_type": "code",
   "execution_count": null,
   "metadata": {},
   "outputs": [],
   "source": [
    "# 你的程式碼\n"
   ]
  },
  {
   "cell_type": "code",
   "execution_count": null,
   "metadata": {},
   "outputs": [],
   "source": [
    "# 測試\n",
    "cart = ShoppingCart()\n",
    "\n",
    "# 新增商品\n",
    "cart.add_item(\"蘋果\", 30, 5)\n",
    "cart.add_item(\"香蕉\", 20, 3)\n",
    "cart.add_item(\"橘子\", 25, 4)\n",
    "\n",
    "print(cart)\n",
    "print(f\"\\n商品種類數：{len(cart)}\")\n",
    "print(f\"總金額：${cart.total}\")\n",
    "print(f\"\\n'蘋果' in cart: {'蘋果' in cart}\")\n",
    "print(f\"'西瓜' in cart: {'西瓜' in cart}\")\n",
    "\n",
    "print(f\"\\n蘋果資訊：{cart['蘋果']}\")\n",
    "\n",
    "print(\"\\n迭代購物車：\")\n",
    "for item in cart:\n",
    "    print(f\"  - {item}\")\n",
    "\n",
    "# 更新數量\n",
    "cart.update_quantity(\"蘋果\", 10)\n",
    "print(f\"\\n更新蘋果數量後：{cart}\")\n",
    "print(f\"總金額：${cart.total}\")\n",
    "\n",
    "# 移除商品\n",
    "cart.remove_item(\"香蕉\")\n",
    "print(f\"\\n移除香蕉後：{cart}\")"
   ]
  },
  {
   "cell_type": "markdown",
   "metadata": {},
   "source": [
    "### 習題 19：TransactionLogger 上下文管理器 ⭐⭐⭐⭐⭐\n",
    "\n",
    "**題目**：建立交易日誌管理器，模擬資料庫交易。\n",
    "\n",
    "**要求**：\n",
    "1. `__init__(self, db_name)`：初始化資料庫名稱\n",
    "2. `__enter__(self)`：\n",
    "   - 印出連接訊息\n",
    "   - 記錄開始時間\n",
    "   - 初始化操作列表\n",
    "   - 返回 self\n",
    "3. `execute(self, operation)`：記錄操作\n",
    "4. `__exit__(self, exc_type, exc_value, traceback)`：\n",
    "   - 計算耗時\n",
    "   - 如果沒有例外：提交交易並寫入日誌\n",
    "   - 如果有例外：回滾交易並記錄錯誤\n",
    "   - 關閉連接\n",
    "   - 返回 False\n",
    "\n",
    "**測試範例**：\n",
    "```python\n",
    "with TransactionLogger(\"mydb\") as tx:\n",
    "    tx.execute(\"INSERT INTO users ...\")\n",
    "    tx.execute(\"UPDATE accounts ...\")\n",
    "# 自動提交並記錄日誌\n",
    "```\n",
    "\n",
    "**知識點**：複雜上下文管理器、日誌記錄、例外處理"
   ]
  },
  {
   "cell_type": "code",
   "execution_count": null,
   "metadata": {},
   "outputs": [],
   "source": [
    "import time\n",
    "from datetime import datetime\n",
    "\n",
    "# 你的程式碼\n"
   ]
  },
  {
   "cell_type": "code",
   "execution_count": null,
   "metadata": {},
   "outputs": [],
   "source": [
    "# 測試 1：正常交易\n",
    "print(\"=== 測試 1：成功交易 ===\")\n",
    "with TransactionLogger(\"mydb\") as tx:\n",
    "    tx.execute(\"INSERT INTO users VALUES (1, 'Alice')\")\n",
    "    tx.execute(\"UPDATE accounts SET balance = 1000 WHERE user_id = 1\")\n",
    "    tx.execute(\"INSERT INTO logs VALUES ('Transaction completed')\")"
   ]
  },
  {
   "cell_type": "code",
   "execution_count": null,
   "metadata": {},
   "outputs": [],
   "source": [
    "# 測試 2：失敗交易\n",
    "print(\"\\n=== 測試 2：失敗交易 ===\")\n",
    "try:\n",
    "    with TransactionLogger(\"mydb\") as tx:\n",
    "        tx.execute(\"INSERT INTO users VALUES (2, 'Bob')\")\n",
    "        tx.execute(\"UPDATE accounts SET balance = -100\")\n",
    "        raise ValueError(\"餘額不能為負數！\")\n",
    "        tx.execute(\"這不會執行\")\n",
    "except ValueError as e:\n",
    "    print(f\"\\n外部捕獲例外：{e}\")"
   ]
  },
  {
   "cell_type": "markdown",
   "metadata": {},
   "source": [
    "### 習題 20：SmartDict 類別 - 智慧字典 ⭐⭐⭐⭐⭐\n",
    "\n",
    "**題目**：建立增強版字典，支援點語法存取、JSON 儲存與上下文管理。\n",
    "\n",
    "**要求**：\n",
    "1. `__init__(self, filename=None, **kwargs)`：初始化字典\n",
    "2. `__getitem__(self, key)`：支援 `d[key]` 存取\n",
    "3. `__setitem__(self, key, value)`：支援 `d[key] = value` 賦值\n",
    "4. `__getattr__(self, key)`：支援 `d.key` 存取（點語法）\n",
    "5. `__setattr__(self, key, value)`：支援 `d.key = value` 賦值\n",
    "6. `__delitem__(self, key)`：支援 `del d[key]`\n",
    "7. `__contains__(self, key)`：支援 `key in d` 檢查\n",
    "8. `__len__(self)`：返回鍵值對數量\n",
    "9. `__iter__(self)`：可迭代所有鍵\n",
    "10. `__enter__(self)` / `__exit__(self, ...)`：上下文管理器（自動儲存到 JSON）\n",
    "11. `__str__(self)`：返回字典字串表示\n",
    "\n",
    "**測試範例**：\n",
    "```python\n",
    "d = SmartDict(name=\"Alice\", age=25)\n",
    "print(d.name)        # Alice（點語法）\n",
    "print(d[\"age\"])      # 25（索引語法）\n",
    "d.city = \"Taipei\"    # 新增屬性\n",
    "```\n",
    "\n",
    "**知識點**：進階特殊方法、`__getattr__`、`__setattr__`、JSON 操作\n",
    "\n",
    "**提示**：\n",
    "- 使用 `object.__setattr__(self, '_data', {})` 避免遞迴\n",
    "- 需要區分內部屬性（如 `_data`、`_filename`）與使用者資料"
   ]
  },
  {
   "cell_type": "code",
   "execution_count": null,
   "metadata": {},
   "outputs": [],
   "source": [
    "import json\n",
    "\n",
    "# 你的程式碼\n"
   ]
  },
  {
   "cell_type": "code",
   "execution_count": null,
   "metadata": {},
   "outputs": [],
   "source": [
    "# 測試 1：基本功能\n",
    "print(\"=== 測試 1：基本功能 ===\")\n",
    "d = SmartDict(name=\"Alice\", age=25, city=\"Taipei\")\n",
    "print(f\"d.name: {d.name}\")           # 點語法\n",
    "print(f\"d['age']: {d['age']}\")       # 索引語法\n",
    "print(f\"len(d): {len(d)}\")\n",
    "print(f\"'city' in d: {'city' in d}\")\n",
    "\n",
    "# 修改\n",
    "d.age = 26\n",
    "d[\"job\"] = \"Engineer\"\n",
    "print(f\"\\n修改後：{d}\")\n",
    "\n",
    "# 迭代\n",
    "print(\"\\n所有鍵值對：\")\n",
    "for key in d:\n",
    "    print(f\"  {key}: {d[key]}\")\n",
    "\n",
    "# 刪除\n",
    "del d[\"city\"]\n",
    "print(f\"\\n刪除 city 後：{d}\")"
   ]
  },
  {
   "cell_type": "code",
   "execution_count": null,
   "metadata": {},
   "outputs": [],
   "source": [
    "# 測試 2：上下文管理器（自動儲存）\n",
    "print(\"\\n=== 測試 2：上下文管理器 ===\")\n",
    "with SmartDict(filename=\"config.json\", app=\"MyApp\", version=\"1.0\") as config:\n",
    "    config.debug = True\n",
    "    config.port = 8080\n",
    "    config.database = {\"host\": \"localhost\", \"port\": 5432}\n",
    "    print(f\"設定：{config}\")\n",
    "# 離開 with 區塊後，自動儲存到 config.json\n",
    "\n",
    "# 讀取儲存的檔案\n",
    "print(\"\\n儲存的 JSON：\")\n",
    "with open(\"config.json\", \"r\", encoding=\"utf-8\") as f:\n",
    "    print(f.read())"
   ]
  },
  {
   "cell_type": "markdown",
   "metadata": {},
   "source": [
    "## 🎯 完成檢核\n",
    "\n",
    "完成所有習題後，請確認：\n",
    "\n",
    "### 基礎題（習題 1-8）\n",
    "- [ ] 能實作 `__init__`、`__str__`、`__repr__`\n",
    "- [ ] 能實作比較運算子（`__eq__`、`__lt__`）\n",
    "- [ ] 能實作序列協定（`__len__`、`__getitem__`）\n",
    "- [ ] 能實作可呼叫物件（`__call__`）\n",
    "- [ ] 能實作 `__contains__`、`__hash__`\n",
    "\n",
    "### 中階題（習題 9-16）\n",
    "- [ ] 能實作算術運算子（`__add__`、`__sub__`、`__mul__`）\n",
    "- [ ] 能實作上下文管理器（`__enter__`、`__exit__`）\n",
    "- [ ] 能處理複雜的數學運算（分數、向量）\n",
    "- [ ] 能實作完整容器協定（`__setitem__`、`__delitem__`）\n",
    "- [ ] 能組合多個特殊方法\n",
    "\n",
    "### 挑戰題（習題 17-20）\n",
    "- [ ] 能實作矩陣運算\n",
    "- [ ] 能設計完整的購物車系統\n",
    "- [ ] 能建立複雜的上下文管理器（交易日誌）\n",
    "- [ ] 能實作 `__getattr__`、`__setattr__`（智慧字典）\n",
    "- [ ] 能整合 JSON 操作與上下文管理器\n",
    "\n",
    "---\n",
    "\n",
    "## 📚 下一步\n",
    "\n",
    "1. **對照解答**：前往 `05-solutions.ipynb` 查看詳細解答\n",
    "2. **自我測驗**：完成 `quiz.ipynb`\n",
    "3. **目標**：習題正確率 ≥ 80%，測驗分數 ≥ 70 分\n",
    "\n",
    "---\n",
    "\n",
    "**加油！完成這 20 題，你就掌握了 Python 特殊方法的精髓！** 💪"
   ]
  }
 ],
 "metadata": {
  "kernelspec": {
   "display_name": "Python 3",
   "language": "python",
   "name": "python3"
  },
  "language_info": {
   "codemirror_mode": {
    "name": "ipython",
    "version": 3
   },
   "file_extension": ".py",
   "mimetype": "text/x-python",
   "name": "python",
   "nbconvert_exporter": "python",
   "pygments_lexer": "ipython3",
   "version": "3.8.0"
  }
 },
 "nbformat": 4,
 "nbformat_minor": 4
}
