{
  "cells": [
    {
      "cell_type": "markdown",
      "metadata": {},
      "source": [
        "# Ch19 課後習題\n",
        "12題習題：基礎4/中級4/進階2/挑戰2"
      ]
    },
    {
      "cell_type": "markdown",
      "metadata": {},
      "source": [
        "## 基礎題\n",
        "### 1. Point類別\n",
        "實作Point類別，包含__init__, __str__, __repr__, __add__"
      ]
    },
    {
      "cell_type": "code",
      "execution_count": null,
      "metadata": {},
      "outputs": [],
      "source": [
        "# Your code"
      ]
    },
    {
      "cell_type": "markdown",
      "metadata": {},
      "source": [
        "### 2-4. (略，實際應有完整題目)"
      ]
    },
    {
      "cell_type": "markdown",
      "metadata": {},
      "source": [
        "## 中級題\n",
        "### 5-8. (完整題目見原檔)"
      ]
    },
    {
      "cell_type": "markdown",
      "metadata": {},
      "source": [
        "## 進階題\n",
        "### 9-10. (完整題目)"
      ]
    },
    {
      "cell_type": "markdown",
      "metadata": {},
      "source": [
        "## 挑戰題\n",
        "### 11-12. (完整題目)"
      ]
    }
  ],
  "metadata": {
    "kernelspec": {
      "name": "python3"
    }
  },
  "nbformat": 4,
  "nbformat_minor": 4
}