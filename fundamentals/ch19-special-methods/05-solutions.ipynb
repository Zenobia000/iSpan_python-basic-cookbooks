{
  "cells": [
    {
      "cell_type": "markdown",
      "metadata": {},
      "source": [
        "# Ch19 完整解答\n",
        "包含所有練習題與習題的詳細解答"
      ]
    },
    {
      "cell_type": "markdown",
      "metadata": {},
      "source": [
        "## 練習題解答\n",
        "### 練習1：Product類別"
      ]
    },
    {
      "cell_type": "code",
      "execution_count": null,
      "metadata": {},
      "outputs": [],
      "source": [
        "class Product:\n",
        "    def __init__(self, name, price):\n",
        "        self.name = name\n",
        "        self.price = price\n",
        "    def __str__(self):\n",
        "        return f'{self.name} - ${self.price}'\n",
        "    def __repr__(self):\n",
        "        return f\"Product('{self.name}', {self.price})\""
      ]
    },
    {
      "cell_type": "markdown",
      "metadata": {},
      "source": [
        "### 練習2-8：(完整解答)"
      ]
    }
  ],
  "metadata": {
    "kernelspec": {
      "name": "python3"
    }
  },
  "nbformat": 4,
  "nbformat_minor": 4
}