{
  "cells": [
    {
      "cell_type": "markdown",
      "metadata": {},
      "source": "# 套件管理與虛擬環境 | Package Management and Virtual Environments\n\n## 📝 詳解範例 | Worked Examples\n\n---\n\n## 💡 本檔案目的\n\n本檔案提供 **5 個循序漸進的詳解範例**，每個範例包含：\n1. **問題描述**：實際應用情境\n2. **分析思路**：如何拆解問題\n3. **逐步實作**：程式碼 + 註解\n4. **執行結果**：預期輸出\n5. **知識點總結**：學到什麼\n\n---"
    },
    {
      "cell_type": "markdown",
      "metadata": {},
      "source": "## 範例 1：pip 基礎操作與套件查詢\n\n### 📋 問題描述\n\n作為 Python 開發者，你需要：\n1. 了解目前環境已安裝哪些套件\n2. 查詢特定套件的詳細資訊\n3. 分析套件之間的依賴關係\n4. 將套件清單匯出以供他人使用\n\n**難度**：基礎\n\n### 🔍 分析思路\n\n1. **環境檢查**：使用 `pip list` 列出所有套件\n2. **資訊查詢**：使用 `pip show` 查看套件詳情\n3. **依賴分析**：理解套件的 Requires 與 Required-by\n4. **清單匯出**：使用 `pip freeze` 生成 requirements.txt\n\n### 💻 逐步實作"
    },
    {
      "cell_type": "code",
      "execution_count": null,
      "metadata": {},
      "outputs": [],
      "source": "import subprocess\nimport json\n\n# 步驟 1: 列出已安裝套件\nprint(\"=== 已安裝套件清單 ===\")\nprint()\n\n# 執行 pip list（返回前 10 個套件作為示範）\nresult = subprocess.run(['pip', 'list'], capture_output=True, text=True)\nlines = result.stdout.split('\\n')\n\n# 顯示標題和前 10 個套件\nfor i, line in enumerate(lines[:12]):  # 標題 2 行 + 10 個套件\n    print(line)\n\nprint(\"...\")\nprint()\n\n# 步驟 2: 查詢特定套件資訊（以 pip 自己為例）\nprint(\"=== 套件詳細資訊: pip ===\")\nprint()\n\nresult = subprocess.run(['pip', 'show', 'pip'], capture_output=True, text=True)\nprint(result.stdout)\n\n# 步驟 3: 分析套件依賴\nprint(\"=== 套件依賴分析 ===\")\nprint()\nprint(\"解析 pip show 輸出：\")\nprint(\"- Name: 套件名稱\")\nprint(\"- Version: 目前版本\")\nprint(\"- Location: 安裝路徑\")\nprint(\"- Requires: 此套件依賴的其他套件\")\nprint(\"- Required-by: 哪些套件依賴此套件\")\nprint()\n\n# 步驟 4: 匯出套件清單\nprint(\"=== 匯出套件清單 ===\")\nprint()\n\nresult = subprocess.run(['pip', 'freeze'], capture_output=True, text=True)\npackages = result.stdout.strip().split('\\n')[:5]  # 前 5 個套件作為範例\n\nprint(\"requirements.txt 格式範例:\")\nfor pkg in packages:\n    print(f\"  {pkg}\")\nprint(\"  ...\")\nprint()\n\nprint(\"💡 實際使用時，執行: pip freeze > requirements.txt\")"
    },
    {
      "cell_type": "markdown",
      "metadata": {},
      "source": "### 📊 執行結果\n\n```\n=== 已安裝套件清單 ===\n\nPackage    Version\n---------- -------\npip        24.0\nsetuptools 69.0.0\n...\n\n=== 套件詳細資訊: pip ===\n\nName: pip\nVersion: 24.0\nSummary: The PyPA recommended tool for installing Python packages\nLocation: /usr/lib/python3.x/site-packages\nRequires:\nRequired-by:\n\n=== 匯出套件清單 ===\n\nrequirements.txt 格式範例:\n  certifi==2024.2.2\n  charset-normalizer==3.3.2\n  ...\n```\n\n### 📚 知識點總結\n\n- ✅ `pip list` 顯示所有已安裝套件\n- ✅ `pip show [package]` 顯示套件詳細資訊\n- ✅ `pip freeze` 以 requirements.txt 格式輸出\n- ✅ 理解套件依賴關係的重要性\n- ✅ 使用 subprocess 執行命令列工具\n\n---"
    },
    {
      "cell_type": "markdown",
      "metadata": {},
      "source": "## 範例 2：虛擬環境建立與管理\n\n### 📋 問題描述\n\n建立一個新專案，需要使用虛擬環境來隔離依賴：\n1. 建立虛擬環境\n2. 啟用虛擬環境\n3. 驗證環境隔離\n4. 在虛擬環境中安裝套件\n5. 停用虛擬環境\n\n**難度**：基礎\n\n### 🔍 分析思路\n\n1. **環境建立**：使用 `python -m venv` 建立獨立環境\n2. **環境啟用**：執行對應平台的啟用腳本\n3. **環境驗證**：檢查 Python 執行檔路徑\n4. **套件隔離**：確認套件安裝在虛擬環境中\n\n### 💻 逐步實作"
    },
    {
      "cell_type": "code",
      "execution_count": null,
      "metadata": {},
      "outputs": [],
      "source": "import os\nimport sys\nimport subprocess\nfrom pathlib import Path\n\nprint(\"=== 虛擬環境建立與管理 ===\")\nprint()\n\n# 步驟 1: 建立虛擬環境\nprint(\"[1] 建立虛擬環境\")\nprint()\n\nvenv_name = \"demo_venv\"\nprint(f\"指令: python -m venv {venv_name}\")\nprint()\nprint(f\"執行結果:\")\nprint(f\"  建立目錄: {venv_name}/\")\nprint(f\"  建立子目錄: Scripts/ (Windows) 或 bin/ (macOS/Linux)\")\nprint(f\"  建立子目錄: Lib/ (Windows) 或 lib/ (macOS/Linux)\")\nprint(f\"  建立子目錄: Include/\")\nprint(f\"  建立檔案: pyvenv.cfg (環境配置)\")\nprint()\n\n# 實際執行（註解掉避免真的建立）\n# subprocess.run(['python', '-m', 'venv', venv_name])\n# print(f\"✓ 虛擬環境 {venv_name} 建立成功\")\n# print()\n\n# 步驟 2: 啟用虛擬環境\nprint(\"[2] 啟用虛擬環境\")\nprint()\n\nif sys.platform == 'win32':\n    activate_cmd = f\"{venv_name}\\\\Scripts\\\\activate\"\n    activate_cmd_ps = f\"{venv_name}\\\\Scripts\\\\Activate.ps1\"\n    print(\"Windows 系統:\")\n    print(f\"  命令提示字元: {activate_cmd}\")\n    print(f\"  PowerShell: {activate_cmd_ps}\")\nelse:\n    activate_cmd = f\"source {venv_name}/bin/activate\"\n    print(\"macOS/Linux 系統:\")\n    print(f\"  指令: {activate_cmd}\")\n\nprint()\nprint(\"啟用後的變化:\")\nprint(f\"  - 提示字元前會顯示 ({venv_name})\")\nprint(f\"  - Python 路徑變更為虛擬環境路徑\")\nprint(f\"  - pip 安裝套件會安裝到虛擬環境\")\nprint()\n\n# 步驟 3: 驗證環境隔離\nprint(\"[3] 驗證環境隔離\")\nprint()\n\nprint(\"檢查 Python 路徑:\")\nprint(f\"  目前路徑: {sys.executable}\")\nprint()\n\nif venv_name in sys.executable:\n    print(f\"✓ 目前在虛擬環境 {venv_name} 中\")\nelse:\n    print(\"✗ 目前在系統 Python 環境中\")\n\nprint()\n\n# 步驟 4: 虛擬環境中的套件\nprint(\"[4] 虛擬環境套件管理\")\nprint()\n\nprint(\"新建虛擬環境預設套件:\")\nprint(\"  - pip\")\nprint(\"  - setuptools\")\nprint()\n\nprint(\"安裝新套件範例:\")\nprint(\"  pip install requests\")\nprint(\"  → 套件會安裝到: {venv_name}/Lib/site-packages/\")\nprint()\n\n# 步驟 5: 停用虛擬環境\nprint(\"[5] 停用虛擬環境\")\nprint()\nprint(\"指令: deactivate\")\nprint()\nprint(\"停用後的變化:\")\nprint(\"  - 提示字元前的環境名稱消失\")\nprint(\"  - Python 路徑恢復為系統路徑\")\nprint(\"  - pip 操作回到系統環境\")"
    },
    {
      "cell_type": "markdown",
      "metadata": {},
      "source": "### 📊 執行結果\n\n```\n=== 虛擬環境建立與管理 ===\n\n[1] 建立虛擬環境\n\n指令: python -m venv demo_venv\n\n執行結果:\n  建立目錄: demo_venv/\n  建立子目錄: Scripts/ (Windows) 或 bin/ (macOS/Linux)\n  ...\n\n[2] 啟用虛擬環境\n\nWindows 系統:\n  命令提示字元: demo_venv\\Scripts\\activate\n  PowerShell: demo_venv\\Scripts\\Activate.ps1\n\n啟用後的變化:\n  - 提示字元前會顯示 (demo_venv)\n  ...\n```\n\n### 📚 知識點總結\n\n- ✅ `python -m venv [name]` 建立虛擬環境\n- ✅ 不同平台的啟用指令差異\n- ✅ 使用 `sys.executable` 驗證環境\n- ✅ 虛擬環境的目錄結構\n- ✅ `deactivate` 停用虛擬環境\n\n---"
    },
    {
      "cell_type": "markdown",
      "metadata": {},
      "source": "## 範例 3：requirements.txt 進階應用\n\n### 📋 問題描述\n\n管理一個 Web 專案的依賴，需要：\n1. 建立基礎 requirements.txt\n2. 使用版本限定符號\n3. 分離開發與生產環境依賴\n4. 處理套件來源與額外選項\n\n**難度**：中級\n\n### 🔍 分析思路\n\n1. **版本語法**：了解 ==, >=, ~= 等符號的意義\n2. **環境分離**：使用多個 requirements 檔案\n3. **註解說明**：為依賴添加說明\n4. **特殊來源**：從 Git 或本地路徑安裝\n\n### 💻 逐步實作"
    },
    {
      "cell_type": "code",
      "execution_count": null,
      "metadata": {},
      "outputs": [],
      "source": "import os\n\nprint(\"=== requirements.txt 進階應用 ===\")\nprint()\n\n# 步驟 1: 基礎 requirements.txt\nprint(\"[1] 基礎 requirements.txt\")\nprint()\n\nbasic_requirements = \"\"\"# Web 框架\nDjango==4.2.0\n\n# API 框架\ndjangorestframework>=3.14.0\n\n# 資料庫驅動\npsycopg2-binary~=2.9.5\n\n# 環境變數管理\npython-decouple==3.8\n\n# 工具套件\nrequests>=2.28.0,<3.0.0\n\"\"\"\n\nwith open('requirements_basic.txt', 'w', encoding='utf-8') as f:\n    f.write(basic_requirements)\n\nprint(\"檔案內容:\")\nprint(basic_requirements)\nprint(\"✓ 已儲存到 requirements_basic.txt\")\nprint()\n\n# 步驟 2: 版本限定符號說明\nprint(\"[2] 版本限定符號\")\nprint()\n\nversion_examples = {\n    \"Django==4.2.0\": \"精確版本（推薦用於鎖定版本）\",\n    \"requests>=2.28.0\": \"最低版本（允許更新）\",\n    \"numpy~=1.21.0\": \"相容版本（允許 1.21.x，不允許 1.22.0）\",\n    \"pandas>=1.3,<2.0\": \"版本範圍（組合條件）\",\n    \"pytest\": \"最新版本（不推薦，可能有相容性問題）\"\n}\n\nfor syntax, description in version_examples.items():\n    print(f\"  {syntax:<30} # {description}\")\n\nprint()\n\n# 步驟 3: 分離開發與生產環境\nprint(\"[3] 分離開發與生產環境\")\nprint()\n\n# 生產環境依賴\nprod_requirements = \"\"\"# requirements.txt (生產環境)\n\nDjango==4.2.0\ndjangorestframework==3.14.0\npsycopg2-binary==2.9.5\ngunicorn==20.1.0\npython-decouple==3.8\n\"\"\"\n\n# 開發環境依賴\ndev_requirements = \"\"\"# requirements-dev.txt (開發環境)\n\n# 首先安裝生產環境依賴\n-r requirements.txt\n\n# 測試工具\npytest==7.4.0\npytest-django==4.5.2\npytest-cov==4.1.0\n\n# 程式碼品質\nflake8==6.0.0\nblack==23.7.0\n\n# 除錯工具\nipython==8.14.0\ndjango-debug-toolbar==4.1.0\n\"\"\"\n\nwith open('requirements.txt', 'w', encoding='utf-8') as f:\n    f.write(prod_requirements)\n\nwith open('requirements-dev.txt', 'w', encoding='utf-8') as f:\n    f.write(dev_requirements)\n\nprint(\"生產環境 (requirements.txt):\")\nprint(prod_requirements)\nprint()\n\nprint(\"開發環境 (requirements-dev.txt):\")\nprint(dev_requirements)\nprint()\n\nprint(\"✓ 已儲存兩個環境的 requirements 檔案\")\nprint()\n\n# 步驟 4: 特殊安裝來源\nprint(\"[4] 特殊安裝來源\")\nprint()\n\nspecial_requirements = \"\"\"# 從 Git 安裝\ngit+https://github.com/django/django.git@main\n\n# 從本地路徑安裝\n-e ./my-local-package\n\n# 從私有 PyPI 安裝\n--index-url https://pypi.private.com/simple/\nrequests==2.28.0\n\n# 額外功能安裝\ncelery[redis]==5.3.0\n\"\"\"\n\nprint(\"特殊來源範例:\")\nprint(special_requirements)\nprint()\n\n# 步驟 5: 使用範例\nprint(\"[5] 使用方式\")\nprint()\n\nprint(\"安裝生產環境依賴:\")\nprint(\"  pip install -r requirements.txt\")\nprint()\n\nprint(\"安裝開發環境依賴:\")\nprint(\"  pip install -r requirements-dev.txt\")\nprint()\n\nprint(\"匯出目前環境:\")\nprint(\"  pip freeze > requirements.txt\")\nprint()\n\nprint(\"升級所有套件:\")\nprint(\"  pip install --upgrade -r requirements.txt\")"
    },
    {
      "cell_type": "markdown",
      "metadata": {},
      "source": "### 📚 知識點總結\n\n- ✅ 版本限定符號：`==`, `>=`, `~=`, `,`\n- ✅ 使用 `-r` 引用其他 requirements 檔案\n- ✅ 分離開發/生產環境依賴的最佳實務\n- ✅ 從 Git、本地路徑安裝套件\n- ✅ 使用註解提升 requirements.txt 可讀性\n\n---"
    },
    {
      "cell_type": "markdown",
      "metadata": {},
      "source": "## 範例 4：套件版本衝突診斷與解決\n\n### 📋 問題描述\n\n在專案中遇到套件版本衝突問題：\n1. 模擬版本衝突情境\n2. 診斷衝突原因\n3. 解決衝突的策略\n4. 預防衝突的方法\n\n**難度**：中級\n\n### 🔍 分析思路\n\n1. **衝突識別**：理解依賴樹與衝突訊息\n2. **版本分析**：檢查相容性矩陣\n3. **解決策略**：升級、降級、替換套件\n4. **預防措施**：使用版本鎖定工具\n\n### 💻 逐步實作"
    },
    {
      "cell_type": "code",
      "execution_count": null,
      "metadata": {},
      "outputs": [],
      "source": "print(\"=== 套件版本衝突診斷與解決 ===\")\nprint()\n\n# 步驟 1: 模擬衝突情境\nprint(\"[1] 衝突情境模擬\")\nprint()\n\nprint(\"情境描述：\")\nprint(\"  專案需要 Package-A 和 Package-B\")\nprint(\"  Package-A 依賴 requests>=2.28.0,<3.0.0\")\nprint(\"  Package-B 依賴 requests>=2.25.0,<2.27.0\")\nprint()\nprint(\"衝突分析：\")\nprint(\"  Package-A 需要: 2.28.0 <= requests < 3.0.0\")\nprint(\"  Package-B 需要: 2.25.0 <= requests < 2.27.0\")\nprint(\"  交集: 無！\")\nprint()\nprint(\"錯誤訊息範例：\")\nprint(\"  ERROR: Cannot install Package-A and Package-B because\")\nprint(\"  these package versions have conflicting dependencies.\")\nprint()\n\n# 步驟 2: 診斷衝突\nprint(\"[2] 衝突診斷步驟\")\nprint()\n\ndiagnostic_steps = [\n    (\"1. 查看錯誤訊息\", \"pip install 時的 ERROR 輸出\"),\n    (\"2. 檢查依賴樹\", \"pip show [package] 查看 Requires\"),\n    (\"3. 列出已安裝版本\", \"pip list | grep [package]\"),\n    (\"4. 查詢可用版本\", \"pip index versions [package]\"),\n    (\"5. 建立依賴圖\", \"使用 pipdeptree 視覺化依賴\")\n]\n\nfor i, (step, detail) in enumerate(diagnostic_steps, 1):\n    print(f\"  {step}\")\n    print(f\"    方法: {detail}\")\n\nprint()\n\n# 步驟 3: 解決策略\nprint(\"[3] 解決策略\")\nprint()\n\nstrategies = {\n    \"策略 1: 升級套件\": [\n        \"pip install --upgrade Package-B\",\n        \"檢查 Package-B 新版本是否相容 requests>=2.28.0\"\n    ],\n    \"策略 2: 降級套件\": [\n        \"pip install Package-A==older-version\",\n        \"選擇相容 requests<2.27.0 的 Package-A 版本\"\n    ],\n    \"策略 3: 替換套件\": [\n        \"尋找 Package-B 的替代方案\",\n        \"或尋找 Package-A 的替代方案\"\n    ],\n    \"策略 4: 使用虛擬環境隔離\": [\n        \"為不同功能建立獨立虛擬環境\",\n        \"避免所有依賴在同一環境\"\n    ],\n    \"策略 5: 聯絡維護者\": [\n        \"在 GitHub 提 Issue 回報相容性問題\",\n        \"等待套件更新\"\n    ]\n}\n\nfor strategy, actions in strategies.items():\n    print(f\"{strategy}:\")\n    for action in actions:\n        print(f\"  • {action}\")\n    print()\n\n# 步驟 4: 實際解決範例\nprint(\"[4] 實際解決範例\")\nprint()\n\nprint(\"原始需求:\")\nprint(\"  Package-A==2.0.0 (依賴 requests>=2.28.0)\")\nprint(\"  Package-B==1.5.0 (依賴 requests<2.27.0)\")\nprint()\n\nprint(\"解決方案: 降級 Package-A\")\nprint()\n\nprint(\"步驟:\")\nprint(\"  1. 查詢 Package-A 歷史版本\")\nprint(\"     pip index versions Package-A\")\nprint()\nprint(\"  2. 找到相容版本\")\nprint(\"     Package-A==1.8.0 (依賴 requests>=2.25.0,<2.29.0)\")\nprint()\nprint(\"  3. 安裝相容版本\")\nprint(\"     pip install Package-A==1.8.0 Package-B==1.5.0\")\nprint()\nprint(\"  4. 驗證安裝\")\nprint(\"     pip check  # 檢查依賴一致性\")\nprint()\n\n# 步驟 5: 預防措施\nprint(\"[5] 預防措施\")\nprint()\n\npreventions = [\n    \"使用 pip freeze 鎖定版本\",\n    \"使用 pipenv 或 poetry 自動解析依賴\",\n    \"定期執行 pip check 檢查\",\n    \"在 CI/CD 中測試依賴安裝\",\n    \"使用 Dependabot 自動檢測過時套件\",\n    \"建立 requirements-lock.txt 鎖定精確版本\"\n]\n\nfor i, prevention in enumerate(preventions, 1):\n    print(f\"  {i}. {prevention}\")\n\nprint()\n\n# 步驟 6: 診斷工具\nprint(\"[6] 實用診斷工具\")\nprint()\n\ntools = {\n    \"pipdeptree\": \"視覺化依賴樹\",\n    \"pip check\": \"檢查依賴一致性\",\n    \"pip-conflict-checker\": \"自動檢測衝突\",\n    \"pip list --outdated\": \"列出過時套件\"\n}\n\nprint(\"安裝與使用:\")\nfor tool, desc in tools.items():\n    print(f\"  {tool}: {desc}\")\n    print(f\"    安裝: pip install {tool}\")\n\nprint()"
    },
    {
      "cell_type": "markdown",
      "metadata": {},
      "source": "### 📚 知識點總結\n\n- ✅ 理解依賴衝突的根本原因\n- ✅ 使用 `pip show` 和 `pip check` 診斷問題\n- ✅ 掌握多種衝突解決策略\n- ✅ 使用虛擬環境預防衝突\n- ✅ 採用版本鎖定避免意外更新\n\n---"
    },
    {
      "cell_type": "markdown",
      "metadata": {},
      "source": "## 範例 5：多專案環境管理工作流程\n\n### 📋 問題描述\n\n作為開發者，同時維護多個專案：\n1. 專案 A: Django 3.2 + Python 3.9\n2. 專案 B: Django 4.2 + Python 3.11\n3. 專案 C: Flask 2.3 + Python 3.10\n\n建立完整的環境管理工作流程。\n\n**難度**：進階\n\n### 🔍 分析思路\n\n1. **專案結構**：每個專案獨立虛擬環境\n2. **環境命名**：清晰的命名規則\n3. **環境切換**：快速切換工作流程\n4. **依賴管理**：各專案的 requirements.txt\n\n### 💻 逐步實作"
    },
    {
      "cell_type": "code",
      "execution_count": null,
      "metadata": {},
      "outputs": [],
      "source": "import os\nfrom pathlib import Path\n\nprint(\"=== 多專案環境管理工作流程 ===\")\nprint()\n\n# 步驟 1: 專案結構規劃\nprint(\"[1] 專案目錄結構\")\nprint()\n\nproject_structure = \"\"\"\n~/projects/\n├── project-a/\n│   ├── venv/              # 虛擬環境\n│   ├── requirements.txt   # 依賴清單\n│   ├── manage.py\n│   └── ...\n├── project-b/\n│   ├── venv/\n│   ├── requirements.txt\n│   └── ...\n└── project-c/\n    ├── venv/\n    ├── requirements.txt\n    └── ...\n\"\"\"\n\nprint(project_structure)\nprint()\n\n# 步驟 2: 專案 A 設定\nprint(\"[2] 專案 A: Django 3.2 專案\")\nprint()\n\nprint(\"建立與設定:\")\nprint(\"  cd ~/projects/project-a\")\nprint(\"  python3.9 -m venv venv\")\nprint(\"  source venv/bin/activate  # Windows: venv\\\\Scripts\\\\activate\")\nprint(\"  pip install --upgrade pip\")\nprint()\n\nproject_a_requirements = \"\"\"# Project A: Django 3.2 專案\n# Python 3.9\n\nDjango==3.2.20\ndjangorestframework==3.14.0\npsycopg2-binary==2.9.5\ncelery==5.2.7\nredis==4.5.0\n\n# 開發工具\npytest==7.4.0\nblack==23.7.0\n\"\"\"\n\nprint(\"requirements.txt:\")\nprint(project_a_requirements)\n\nprint(\"安裝依賴:\")\nprint(\"  pip install -r requirements.txt\")\nprint()\n\n# 步驟 3: 專案 B 設定\nprint(\"[3] 專案 B: Django 4.2 專案\")\nprint()\n\nprint(\"建立與設定:\")\nprint(\"  cd ~/projects/project-b\")\nprint(\"  python3.11 -m venv venv\")\nprint(\"  source venv/bin/activate\")\nprint()\n\nproject_b_requirements = \"\"\"# Project B: Django 4.2 專案\n# Python 3.11\n\nDjango==4.2.0\ndjangorestframework==3.14.0\npsycopg2-binary==2.9.6\ncelery==5.3.0\nredis==5.0.0\n\n# 開發工具\npytest==7.4.0\nblack==23.7.0\n\"\"\"\n\nprint(\"requirements.txt:\")\nprint(project_b_requirements)\nprint()\n\n# 步驟 4: 專案 C 設定\nprint(\"[4] 專案 C: Flask 2.3 專案\")\nprint()\n\nproject_c_requirements = \"\"\"# Project C: Flask 專案\n# Python 3.10\n\nFlask==2.3.0\nFlask-SQLAlchemy==3.0.5\nFlask-Migrate==4.0.4\nrequests==2.31.0\n\n# 開發工具\npytest==7.4.0\nblack==23.7.0\n\"\"\"\n\nprint(\"requirements.txt:\")\nprint(project_c_requirements)\nprint()\n\n# 步驟 5: 環境切換工作流程\nprint(\"[5] 環境切換工作流程\")\nprint()\n\nprint(\"切換到專案 A:\")\nprint(\"  1. cd ~/projects/project-a\")\nprint(\"  2. source venv/bin/activate\")\nprint(\"  3. 確認: python --version  # 應顯示 Python 3.9.x\")\nprint(\"  4. 確認: pip show Django  # 應顯示 3.2.20\")\nprint()\n\nprint(\"切換到專案 B:\")\nprint(\"  1. deactivate  # 先停用目前環境\")\nprint(\"  2. cd ~/projects/project-b\")\nprint(\"  3. source venv/bin/activate\")\nprint(\"  4. 確認: python --version  # 應顯示 Python 3.11.x\")\nprint()\n\nprint(\"切換到專案 C:\")\nprint(\"  1. deactivate\")\nprint(\"  2. cd ~/projects/project-c\")\nprint(\"  3. source venv/bin/activate\")\nprint(\"  4. 確認: pip show Flask  # 應顯示 2.3.0\")\nprint()\n\n# 步驟 6: 環境管理最佳實務\nprint(\"[6] 環境管理最佳實務\")\nprint()\n\nbest_practices = [\n    (\"統一命名\", \"所有專案虛擬環境都命名為 venv/\"),\n    (\"版本鎖定\", \"使用 pip freeze 鎖定精確版本\"),\n    (\"Git 忽略\", \".gitignore 加入 venv/\"),\n    (\"說明文件\", \"README 記錄 Python 版本需求\"),\n    (\"依賴分離\", \"區分 requirements.txt 和 requirements-dev.txt\"),\n    (\"定期更新\", \"每月檢查並更新過時套件\"),\n    (\"自動化腳本\", \"建立 setup.sh 自動化環境建立\")\n]\n\nfor i, (practice, detail) in enumerate(best_practices, 1):\n    print(f\"  {i}. {practice}: {detail}\")\n\nprint()\n\n# 步驟 7: 環境建立自動化腳本範例\nprint(\"[7] 自動化腳本範例 (setup.sh)\")\nprint()\n\nsetup_script = \"\"\"#!/bin/bash\n# setup.sh - 自動建立虛擬環境與安裝依賴\n\necho \"建立虛擬環境...\"\npython3 -m venv venv\n\necho \"啟用虛擬環境...\"\nsource venv/bin/activate\n\necho \"升級 pip...\"\npip install --upgrade pip\n\necho \"安裝依賴...\"\npip install -r requirements.txt\n\necho \"安裝開發依賴...\"\npip install -r requirements-dev.txt\n\necho \"✓ 環境設定完成！\"\necho \"使用 'source venv/bin/activate' 啟用環境\"\n\"\"\"\n\nprint(setup_script)\nprint()\n\nprint(\"使用方式:\")\nprint(\"  chmod +x setup.sh  # 賦予執行權限\")\nprint(\"  ./setup.sh         # 執行腳本\")\nprint()\n\n# 步驟 8: 環境檢查清單\nprint(\"[8] 環境檢查清單\")\nprint()\n\nchecklist = [\n    \"✓ 每個專案有獨立虛擬環境\",\n    \"✓ requirements.txt 版本已鎖定\",\n    \"✓ venv/ 已加入 .gitignore\",\n    \"✓ README 記錄 Python 版本需求\",\n    \"✓ 可順利在新機器重建環境\",\n    \"✓ 定期執行 pip list --outdated\",\n    \"✓ 定期執行 pip check 檢查依賴\"\n]\n\nfor item in checklist:\n    print(f\"  {item}\")\n\nprint()"
    },
    {
      "cell_type": "markdown",
      "metadata": {},
      "source": "### 📚 知識點總結\n\n- ✅ 每個專案建立獨立虛擬環境\n- ✅ 使用一致的命名規則 (venv/)\n- ✅ 建立自動化腳本簡化環境設定\n- ✅ 明確記錄 Python 版本需求\n- ✅ 使用 .gitignore 排除虛擬環境\n- ✅ 定期維護與更新依賴\n\n---"
    },
    {
      "cell_type": "markdown",
      "metadata": {},
      "source": "## 🎯 總結\n\n本檔案的 5 個詳解範例涵蓋了套件管理與虛擬環境的核心應用：\n\n1. **範例 1**：pip 基礎操作 → 學習套件查詢與匯出\n2. **範例 2**：虛擬環境管理 → 學習建立與啟用環境\n3. **範例 3**：requirements.txt 進階 → 學習版本管理策略\n4. **範例 4**：版本衝突診斷 → 學習問題診斷與解決\n5. **範例 5**：多專案管理 → 學習完整工作流程\n\n### 下一步\n\n完成這些範例後，請進入：\n- `03-practice.ipynb` 進行課堂練習\n- `04-exercises.ipynb` 挑戰課後習題\n\n---\n\n**學習提醒**：虛擬環境是 Python 開發的基礎，務必在每個專案中使用。養成良好習慣，避免依賴衝突！"
    }
  ],
  "metadata": {
    "kernelspec": {
      "display_name": "Python 3",
      "language": "python",
      "name": "python3"
    },
    "language_info": {
      "codemirror_mode": {
        "name": "ipython",
        "version": 3
      },
      "file_extension": ".py",
      "mimetype": "text/x-python",
      "name": "python",
      "nbconvert_exporter": "python",
      "pygments_lexer": "ipython3",
      "version": "3.8.0"
    }
  },
  "nbformat": 4,
  "nbformat_minor": 4
}