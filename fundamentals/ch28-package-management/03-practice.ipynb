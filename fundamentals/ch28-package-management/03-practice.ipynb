{
 "cells": [
  {
   "cell_type": "markdown",
   "metadata": {},
   "source": [
    "# 套件管理與虛擬環境 | Package Management and Virtual Environments\n",
    "\n",
    "## 🛠️ 課堂練習 | Practice Exercises\n",
    "\n",
    "---\n",
    "\n",
    "## 📖 練習說明\n",
    "\n",
    "本檔案包含 **8 個課堂練習題**，涵蓋：\n",
    "- pip 基本指令操作\n",
    "- 虛擬環境建立與管理\n",
    "- requirements.txt 編寫\n",
    "- 版本管理策略\n",
    "\n",
    "**建議時間**：30 分鐘\n",
    "\n",
    "**難度分佈**：\n",
    "- 基礎題：1-3\n",
    "- 中級題：4-6\n",
    "- 進階題：7-8\n",
    "\n",
    "---"
   ]
  },
  {
   "cell_type": "markdown",
   "metadata": {},
   "source": [
    "## 練習 1：pip 基本指令 ⭐\n",
    "\n",
    "### 題目\n",
    "\n",
    "使用 Python 程式模擬以下 pip 操作的輸出：\n",
    "1. 列出目前環境的前 5 個套件\n",
    "2. 查詢 `pip` 套件本身的版本\n",
    "3. 模擬 `pip freeze` 的輸出格式\n",
    "\n",
    "### 提示\n",
    "\n",
    "- 使用 `subprocess.run()` 執行 pip 指令\n",
    "- 處理輸出文字（`capture_output=True, text=True`）\n",
    "- 解析並格式化輸出"
   ]
  },
  {
   "cell_type": "code",
   "execution_count": null,
   "metadata": {},
   "outputs": [],
   "source": [
    "import subprocess\n",
    "\n",
    "# 在此撰寫你的程式碼"
   ]
  },
  {
   "cell_type": "markdown",
   "metadata": {},
   "source": [
    "---\n",
    "\n",
    "## 練習 2：虛擬環境資訊檢查 ⭐\n",
    "\n",
    "### 題目\n",
    "\n",
    "撰寫程式檢查並顯示：\n",
    "1. 目前 Python 執行檔的完整路徑\n",
    "2. 判斷是否在虛擬環境中（檢查路徑是否包含 'venv' 或 'env'）\n",
    "3. 顯示 Python 版本資訊\n",
    "\n",
    "### 提示\n",
    "\n",
    "- 使用 `sys.executable` 取得 Python 路徑\n",
    "- 使用 `sys.version` 取得版本資訊\n",
    "- 使用字串方法檢查路徑"
   ]
  },
  {
   "cell_type": "code",
   "execution_count": null,
   "metadata": {},
   "outputs": [],
   "source": [
    "import sys\n",
    "\n",
    "# 在此撰寫你的程式碼"
   ]
  },
  {
   "cell_type": "markdown",
   "metadata": {},
   "source": [
    "---\n",
    "\n",
    "## 練習 3：建立 requirements.txt ⭐\n",
    "\n",
    "### 題目\n",
    "\n",
    "根據以下需求，建立一個 `requirements.txt` 檔案：\n",
    "1. Django 精確版本 4.2.0\n",
    "2. requests 最低版本 2.28.0，但不超過 3.0.0\n",
    "3. numpy 相容版本 1.24.0（允許 1.24.x）\n",
    "4. pytest 不限定版本\n",
    "5. 加入適當的註解說明\n",
    "\n",
    "### 提示\n",
    "\n",
    "- 使用 `==`, `>=`, `~=` 符號\n",
    "- 使用 `#` 加入註解\n",
    "- 儲存到檔案"
   ]
  },
  {
   "cell_type": "code",
   "execution_count": null,
   "metadata": {},
   "outputs": [],
   "source": [
    "# 在此撰寫你的程式碼"
   ]
  },
  {
   "cell_type": "markdown",
   "metadata": {},
   "source": [
    "---\n",
    "\n",
    "## 練習 4：解析 requirements.txt ⭐⭐\n",
    "\n",
    "### 題目\n",
    "\n",
    "撰寫程式讀取 requirements.txt 檔案，並解析成結構化資料：\n",
    "1. 忽略空行與註解行\n",
    "2. 分離套件名稱與版本限定\n",
    "3. 以字典格式輸出\n",
    "\n",
    "範例輸入：\n",
    "```\n",
    "Django==4.2.0\n",
    "requests>=2.28.0,<3.0.0\n",
    "# 這是註解\n",
    "numpy~=1.24.0\n",
    "```\n",
    "\n",
    "預期輸出：\n",
    "```python\n",
    "{\n",
    "    'Django': '==4.2.0',\n",
    "    'requests': '>=2.28.0,<3.0.0',\n",
    "    'numpy': '~=1.24.0'\n",
    "}\n",
    "```\n",
    "\n",
    "### 提示\n",
    "\n",
    "- 使用 `str.startswith('#')` 判斷註解\n",
    "- 使用 `str.split('==')` 或正規表達式分離\n",
    "- 處理多種版本符號（==, >=, ~=）"
   ]
  },
  {
   "cell_type": "code",
   "execution_count": null,
   "metadata": {},
   "outputs": [],
   "source": [
    "# 先建立範例 requirements.txt\n",
    "requirements_content = \"\"\"Django==4.2.0\n",
    "requests>=2.28.0,<3.0.0\n",
    "# 這是註解\n",
    "numpy~=1.24.0\n",
    "pytest\n",
    "\"\"\"\n",
    "\n",
    "with open('test_requirements.txt', 'w', encoding='utf-8') as f:\n",
    "    f.write(requirements_content)\n",
    "\n",
    "# 在此撰寫你的程式碼"
   ]
  },
  {
   "cell_type": "markdown",
   "metadata": {},
   "source": [
    "---\n",
    "\n",
    "## 練習 5：環境依賴比對 ⭐⭐\n",
    "\n",
    "### 題目\n",
    "\n",
    "撰寫程式比對兩個環境的套件差異：\n",
    "1. 讀取兩個 requirements.txt 檔案\n",
    "2. 找出只在環境 A 存在的套件\n",
    "3. 找出只在環境 B 存在的套件\n",
    "4. 找出兩個環境都有但版本不同的套件\n",
    "\n",
    "### 提示\n",
    "\n",
    "- 使用集合操作（差集、交集）\n",
    "- 建立字典儲存套件與版本\n",
    "- 比較版本字串"
   ]
  },
  {
   "cell_type": "code",
   "execution_count": null,
   "metadata": {},
   "outputs": [],
   "source": [
    "# 建立兩個範例環境檔案\n",
    "env_a = \"\"\"Django==3.2.0\n",
    "requests==2.28.0\n",
    "numpy==1.23.0\n",
    "pytest==7.4.0\n",
    "\"\"\"\n",
    "\n",
    "env_b = \"\"\"Django==4.2.0\n",
    "requests==2.28.0\n",
    "pandas==2.0.0\n",
    "pytest==7.3.0\n",
    "\"\"\"\n",
    "\n",
    "with open('env_a.txt', 'w', encoding='utf-8') as f:\n",
    "    f.write(env_a)\n",
    "\n",
    "with open('env_b.txt', 'w', encoding='utf-8') as f:\n",
    "    f.write(env_b)\n",
    "\n",
    "# 在此撰寫你的程式碼"
   ]
  },
  {
   "cell_type": "markdown",
   "metadata": {},
   "source": [
    "---\n",
    "\n",
    "## 練習 6：虛擬環境建立腳本 ⭐⭐\n",
    "\n",
    "### 題目\n",
    "\n",
    "撰寫 Python 程式，模擬虛擬環境建立流程：\n",
    "1. 檢查指定名稱的虛擬環境是否已存在\n",
    "2. 如果不存在，顯示建立指令（不實際執行）\n",
    "3. 顯示對應平台（Windows/macOS/Linux）的啟用指令\n",
    "4. 生成後續步驟建議\n",
    "\n",
    "### 提示\n",
    "\n",
    "- 使用 `os.path.exists()` 檢查目錄\n",
    "- 使用 `sys.platform` 判斷作業系統\n",
    "- 提供清晰的指令說明"
   ]
  },
  {
   "cell_type": "code",
   "execution_count": null,
   "metadata": {},
   "outputs": [],
   "source": [
    "import os\n",
    "import sys\n",
    "\n",
    "# 在此撰寫你的程式碼"
   ]
  },
  {
   "cell_type": "markdown",
   "metadata": {},
   "source": [
    "---\n",
    "\n",
    "## 練習 7：版本相容性檢查器 ⭐⭐⭐\n",
    "\n",
    "### 題目\n",
    "\n",
    "撰寫程式檢查套件版本是否符合 requirements.txt 的限定：\n",
    "1. 解析版本限定語法（==, >=, <=, ~=）\n",
    "2. 比對實際安裝版本是否符合\n",
    "3. 回報不相容的套件\n",
    "\n",
    "範例：\n",
    "```\n",
    "限定: requests>=2.28.0,<3.0.0\n",
    "實際: 2.31.0\n",
    "結果: ✓ 相容\n",
    "\n",
    "限定: Django==4.2.0\n",
    "實際: 3.2.0\n",
    "結果: ✗ 不相容\n",
    "```\n",
    "\n",
    "### 提示\n",
    "\n",
    "- 使用 `packaging.version.parse()` 比較版本\n",
    "- 或手動解析版本號（split('.')）\n",
    "- 處理多個條件組合（,）"
   ]
  },
  {
   "cell_type": "code",
   "execution_count": null,
   "metadata": {},
   "outputs": [],
   "source": [
    "# 在此撰寫你的程式碼\n",
    "# 提示：可使用字串比較或版本解析"
   ]
  },
  {
   "cell_type": "markdown",
   "metadata": {},
   "source": [
    "---\n",
    "\n",
    "## 練習 8：專案環境初始化工具 ⭐⭐⭐\n",
    "\n",
    "### 題目\n",
    "\n",
    "撰寫完整的專案環境初始化程式：\n",
    "1. 建立專案目錄結構\n",
    "2. 生成 .gitignore 檔案（包含 venv/, __pycache__/, *.pyc）\n",
    "3. 生成基礎 requirements.txt\n",
    "4. 生成 requirements-dev.txt（包含開發工具）\n",
    "5. 生成 README.md（包含環境設定說明）\n",
    "\n",
    "### 提示\n",
    "\n",
    "- 使用 `os.makedirs()` 建立目錄\n",
    "- 使用檔案寫入功能\n",
    "- 設計合理的專案結構"
   ]
  },
  {
   "cell_type": "code",
   "execution_count": null,
   "metadata": {},
   "outputs": [],
   "source": [
    "import os\n",
    "\n",
    "# 在此撰寫你的程式碼"
   ]
  },
  {
   "cell_type": "markdown",
   "metadata": {},
   "source": [
    "---\n",
    "\n",
    "## 🎯 練習總結\n",
    "\n",
    "完成以上練習後，你應該能夠：\n",
    "\n",
    "✅ 熟練使用 pip 基本指令\n",
    "✅ 建立與管理虛擬環境\n",
    "✅ 編寫與解析 requirements.txt\n",
    "✅ 處理版本相容性問題\n",
    "✅ 建立專案環境自動化工具\n",
    "\n",
    "### 下一步\n",
    "\n",
    "完成練習後，請對照 `05-solutions.ipynb` 檢查答案，並嘗試優化你的程式碼！\n",
    "\n",
    "---\n",
    "\n",
    "**學習建議**：這些練習題模擬了實際開發中的常見場景，建議多次練習以熟悉工作流程。"
   ]
  }
 ],
 "metadata": {
  "kernelspec": {
   "display_name": "Python 3",
   "language": "python",
   "name": "python3"
  },
  "language_info": {
   "codemirror_mode": {
    "name": "ipython",
    "version": 3
   },
   "file_extension": ".py",
   "mimetype": "text/x-python",
   "name": "python",
   "nbconvert_exporter": "python",
   "pygments_lexer": "ipython3",
   "version": "3.8.5"
  }
 },
 "nbformat": 4,
 "nbformat_minor": 4
}