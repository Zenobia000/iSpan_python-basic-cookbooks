{
  "cells": [
    {
      "cell_type": "markdown",
      "metadata": {},
      "source": "# 套件管理與虛擬環境 | Package Management and Virtual Environments\n\n## ✅ 完整解答 | Solutions\n\n---\n\n## 📖 解答說明\n\n本檔案提供：\n1. **18 題課後習題的完整解答**\n2. **程式碼註解與說明**\n3. **多種解法比較**（部分題目）\n4. **延伸思考**\n\n---"
    },
    {
      "cell_type": "markdown",
      "metadata": {},
      "source": "## 習題 1 解答：pip 指令模擬器\n\n### 解法"
    },
    {
      "cell_type": "code",
      "execution_count": null,
      "metadata": {},
      "outputs": [],
      "source": "def pip_simulator():\n    \"\"\"簡易 pip 指令模擬器\"\"\"\n\n    # 模擬套件資料\n    packages = {\n        'Django': {'version': '4.2.0', 'summary': 'Web framework'},\n        'requests': {'version': '2.31.0', 'summary': 'HTTP library'},\n        'numpy': {'version': '1.24.0', 'summary': 'Scientific computing'}\n    }\n\n    def pip_list():\n        \"\"\"模擬 pip list\"\"\"\n        print(f\"{'Package':<15} {'Version':<10}\")\n        print(\"-\" * 25)\n        for name, info in packages.items():\n            print(f\"{name:<15} {info['version']:<10}\")\n\n    def pip_show(package_name):\n        \"\"\"模擬 pip show\"\"\"\n        if package_name not in packages:\n            print(f\"WARNING: Package {package_name} not found\")\n            return\n\n        info = packages[package_name]\n        print(f\"Name: {package_name}\")\n        print(f\"Version: {info['version']}\")\n        print(f\"Summary: {info['summary']}\")\n\n    def pip_freeze():\n        \"\"\"模擬 pip freeze\"\"\"\n        for name, info in packages.items():\n            print(f\"{name}=={info['version']}\")\n\n    # 測試\n    print(\">>> pip list\")\n    pip_list()\n    print()\n\n    print(\">>> pip show Django\")\n    pip_show('Django')\n    print()\n\n    print(\">>> pip freeze\")\n    pip_freeze()\n\n# 執行\npip_simulator()"
    },
    {
      "cell_type": "markdown",
      "metadata": {},
      "source": "### 知識點\n\n- ✅ 字典資料結構模擬套件資訊\n- ✅ 字串格式化（f-string）\n- ✅ 函式封裝提高程式碼可讀性\n\n---"
    },
    {
      "cell_type": "markdown",
      "metadata": {},
      "source": "## 習題 2 解答：環境路徑分析器\n\n### 解法"
    },
    {
      "cell_type": "code",
      "execution_count": null,
      "metadata": {},
      "outputs": [],
      "source": "import sys\nimport site\nfrom pathlib import Path\n\ndef analyze_environment():\n    \"\"\"分析 Python 環境路徑\"\"\"\n\n    print(\"=== Python 環境分析 ===\")\n    print()\n\n    # 1. Python 執行檔路徑\n    print(f\"Python 執行檔: {sys.executable}\")\n    print()\n\n    # 2. 標準庫路徑\n    print(f\"標準庫路徑: {sys.prefix}\")\n    print()\n\n    # 3. site-packages 路徑\n    print(\"site-packages 路徑:\")\n    for path in site.getsitepackages():\n        print(f\"  - {path}\")\n    print()\n\n    # 4. 判斷是否在虛擬環境\n    exe_path = Path(sys.executable)\n    venv_indicators = ['venv', 'env', '.venv', 'virtualenv']\n\n    in_venv = any(indicator in exe_path.parts for indicator in venv_indicators)\n\n    if in_venv:\n        print(\"✓ 目前在虛擬環境中\")\n\n        # 5. 找出環境名稱\n        for part in exe_path.parts:\n            if any(indicator in part.lower() for indicator in venv_indicators):\n                print(f\"環境名稱: {part}\")\n                break\n    else:\n        print(\"✗ 目前在系統 Python 環境中\")\n\n# 執行\nanalyze_environment()"
    },
    {
      "cell_type": "markdown",
      "metadata": {},
      "source": "### 知識點\n\n- ✅ `sys.executable` - Python 執行檔路徑\n- ✅ `sys.prefix` - Python 安裝根目錄\n- ✅ `site.getsitepackages()` - 套件安裝路徑\n- ✅ `pathlib.Path` - 路徑操作\n\n---"
    },
    {
      "cell_type": "markdown",
      "metadata": {},
      "source": "## 習題 3 解答：requirements.txt 生成器\n\n### 解法"
    },
    {
      "cell_type": "code",
      "execution_count": null,
      "metadata": {},
      "outputs": [],
      "source": "def generate_requirements():\n    \"\"\"生成 requirements.txt\"\"\"\n\n    packages = {\n        'Django': ('==4.2.0', 'Web'),\n        'requests': ('>=2.28.0', 'Web'),\n        'numpy': ('~=1.24.0', 'Data Science'),\n        'pandas': ('>=2.0.0', 'Data Science'),\n        'pytest': ('>=7.0.0', 'Testing')\n    }\n\n    # 按類別分組\n    categories = {}\n    for name, (version, category) in packages.items():\n        if category not in categories:\n            categories[category] = []\n        categories[category].append((name, version))\n\n    # 生成檔案內容\n    lines = []\n    lines.append(\"# requirements.txt\")\n    lines.append(\"# 自動生成於 2025-10-09\")\n    lines.append(\"\")\n\n    for category in sorted(categories.keys()):\n        lines.append(f\"# {category}\")\n\n        # 按字母順序排序\n        for name, version in sorted(categories[category]):\n            lines.append(f\"{name}{version}\")\n\n        lines.append(\"\")\n\n    content = \"\\n\".join(lines)\n\n    # 儲存到檔案\n    with open('requirements.txt', 'w', encoding='utf-8') as f:\n        f.write(content)\n\n    print(\"✓ requirements.txt 已生成\")\n    print()\n    print(\"檔案內容:\")\n    print(content)\n\n# 執行\ngenerate_requirements()"
    },
    {
      "cell_type": "markdown",
      "metadata": {},
      "source": "### 知識點\n\n- ✅ 字典資料結構分組\n- ✅ `sorted()` 排序\n- ✅ 列表推導式\n- ✅ 檔案寫入操作\n\n---"
    },
    {
      "cell_type": "markdown",
      "metadata": {},
      "source": "## 習題 4 解答：版本號解析器\n\n### 解法"
    },
    {
      "cell_type": "code",
      "execution_count": null,
      "metadata": {},
      "outputs": [],
      "source": "def parse_version(version_str):\n    \"\"\"解析版本號字串為元組\"\"\"\n    try:\n        parts = version_str.split('.')\n        return tuple(int(part) for part in parts)\n    except ValueError:\n        raise ValueError(f\"無效的版本號格式: {version_str}\")\n\ndef version_compare(version1, version2):\n    \"\"\"\n    比較兩個版本號\n    返回: 1 (version1 較新), -1 (version2 較新), 0 (相同)\n    \"\"\"\n    v1 = parse_version(version1)\n    v2 = parse_version(version2)\n\n    # 比較元組（Python 會自動按元素比較）\n    if v1 > v2:\n        return 1\n    elif v1 < v2:\n        return -1\n    else:\n        return 0\n\n# 測試\ntest_cases = [\n    (\"2.31.0\", \"2.28.0\", 1),\n    (\"1.24.0\", \"2.0.0\", -1),\n    (\"3.2.0\", \"3.2.0\", 0),\n    (\"4.2.1\", \"4.2.0\", 1)\n]\n\nprint(\"版本號比較測試:\")\nprint()\n\nfor v1, v2, expected in test_cases:\n    result = version_compare(v1, v2)\n    status = \"✓\" if result == expected else \"✗\"\n\n    if result == 1:\n        desc = f\"{v1} > {v2}\"\n    elif result == -1:\n        desc = f\"{v1} < {v2}\"\n    else:\n        desc = f\"{v1} == {v2}\"\n\n    print(f\"{status} {desc} (期望: {expected}, 結果: {result})\")"
    },
    {
      "cell_type": "markdown",
      "metadata": {},
      "source": "### 知識點\n\n- ✅ 字串分割與型態轉換\n- ✅ 元組比較（按元素順序比較）\n- ✅ 異常處理\n- ✅ 測試驅動開發思維\n\n---"
    },
    {
      "cell_type": "markdown",
      "metadata": {},
      "source": "## 習題 5 解答：.gitignore 生成器\n\n### 解法"
    },
    {
      "cell_type": "code",
      "execution_count": null,
      "metadata": {},
      "outputs": [],
      "source": "def generate_gitignore(custom_rules=None):\n    \"\"\"生成 Python 專案的 .gitignore\"\"\"\n\n    gitignore_content = \"\"\"# Python .gitignore\n# 自動生成\n\n# 虛擬環境\nvenv/\nenv/\n.venv/\nENV/\nvirtualenv/\n\n# Python 快取\n__pycache__/\n*.py[cod]\n*$py.class\n*.so\n\n# 測試與覆蓋率\n.pytest_cache/\n.coverage\nhtmlcov/\n*.cover\n\n# IDE 配置\n.vscode/\n.idea/\n*.swp\n*.swo\n*~\n\n# Jupyter Notebook\n.ipynb_checkpoints/\n*.ipynb_checkpoints\n\n# 作業系統\n.DS_Store\nThumbs.db\ndesktop.ini\n\n# 專案特定\n*.log\n*.sqlite3\n.env\n.env.local\n\"\"\"\n\n    # 加入自訂規則\n    if custom_rules:\n        gitignore_content += \"\\n# 自訂規則\\n\"\n        for rule in custom_rules:\n            gitignore_content += f\"{rule}\\n\"\n\n    # 儲存到檔案\n    with open('.gitignore', 'w', encoding='utf-8') as f:\n        f.write(gitignore_content)\n\n    print(\"✓ .gitignore 已生成\")\n    print()\n    print(\"檔案內容預覽:\")\n    print(gitignore_content[:300])\n    print(\"...\")\n\n# 執行（含自訂規則）\ngenerate_gitignore(custom_rules=['secrets/', '*.key'])"
    },
    {
      "cell_type": "markdown",
      "metadata": {},
      "source": "### 知識點\n\n- ✅ 多行字串使用\n- ✅ 函式參數預設值\n- ✅ Python 專案常見忽略檔案\n\n---"
    },
    {
      "cell_type": "markdown",
      "metadata": {},
      "source": "## 習題 6 解答：虛擬環境檢查器\n\n### 解法"
    },
    {
      "cell_type": "code",
      "execution_count": null,
      "metadata": {},
      "outputs": [],
      "source": "import os\nimport sys\n\ndef check_venv(venv_path):\n    \"\"\"檢查虛擬環境健康狀況\"\"\"\n\n    print(f\"=== 檢查虛擬環境: {venv_path} ===\")\n    print()\n\n    results = []\n\n    # 1. 檢查目錄是否存在\n    if not os.path.exists(venv_path):\n        print(\"✗ 虛擬環境目錄不存在\")\n        return\n\n    results.append((\"目錄存在\", True))\n\n    # 2. 檢查子目錄\n    if sys.platform == 'win32':\n        scripts_dir = os.path.join(venv_path, 'Scripts')\n        lib_dir = os.path.join(venv_path, 'Lib')\n    else:\n        scripts_dir = os.path.join(venv_path, 'bin')\n        lib_dir = os.path.join(venv_path, 'lib')\n\n    results.append((\"Scripts/bin 目錄\", os.path.exists(scripts_dir)))\n    results.append((\"Lib/lib 目錄\", os.path.exists(lib_dir)))\n\n    # 3. 檢查 activate 腳本\n    if sys.platform == 'win32':\n        activate_path = os.path.join(scripts_dir, 'activate.bat')\n    else:\n        activate_path = os.path.join(scripts_dir, 'activate')\n\n    results.append((\"activate 腳本\", os.path.exists(activate_path)))\n\n    # 4. 檢查 pyvenv.cfg\n    cfg_path = os.path.join(venv_path, 'pyvenv.cfg')\n    results.append((\"pyvenv.cfg\", os.path.exists(cfg_path)))\n\n    # 5. 檢查 Python 執行檔\n    if sys.platform == 'win32':\n        python_path = os.path.join(scripts_dir, 'python.exe')\n    else:\n        python_path = os.path.join(scripts_dir, 'python')\n\n    results.append((\"Python 執行檔\", os.path.exists(python_path)))\n\n    # 生成報告\n    print(\"檢查結果:\")\n    print()\n\n    all_passed = True\n    for item, passed in results:\n        status = \"✓\" if passed else \"✗\"\n        print(f\"  {status} {item}\")\n        if not passed:\n            all_passed = False\n\n    print()\n    if all_passed:\n        print(\"✓ 虛擬環境健康狀況良好\")\n    else:\n        print(\"⚠️  虛擬環境可能損壞，建議重新建立\")\n\n# 測試（使用模擬路徑）\nprint(\"範例：檢查不存在的環境\")\ncheck_venv('demo_venv')\nprint()\nprint(\"注意：實際使用時請傳入真實的虛擬環境路徑\")"
    },
    {
      "cell_type": "markdown",
      "metadata": {},
      "source": "### 知識點\n\n- ✅ `os.path` 路徑操作\n- ✅ `sys.platform` 判斷作業系統\n- ✅ 跨平台相容性處理\n\n---"
    },
    {
      "cell_type": "markdown",
      "metadata": {},
      "source": "## 習題 7-18 解答\n\n由於篇幅限制，以下提供核心程式碼片段與解題思路。\n\n---\n\n## 習題 7 解答：requirements.txt 驗證器"
    },
    {
      "cell_type": "code",
      "execution_count": null,
      "metadata": {},
      "outputs": [],
      "source": "import re\n\ndef validate_requirements(filename):\n    \"\"\"驗證 requirements.txt 語法\"\"\"\n\n    errors = []\n    seen_packages = {}\n\n    with open(filename, 'r', encoding='utf-8') as f:\n        for line_num, line in enumerate(f, 1):\n            line = line.strip()\n\n            # 跳過空行與註解\n            if not line or line.startswith('#'):\n                continue\n\n            # 檢查版本符號\n            valid_operators = ['==', '>=', '<=', '~=', '!=', '<', '>']\n            has_operator = any(op in line for op in valid_operators)\n\n            if has_operator:\n                # 分離套件名稱\n                match = re.match(r'^([a-zA-Z0-9_-]+)(.*)', line)\n                if not match:\n                    errors.append(f\"行 {line_num}: 無效格式 - {line}\")\n                    continue\n\n                package_name = match.group(1)\n                version_spec = match.group(2)\n\n                # 檢查重複\n                if package_name in seen_packages:\n                    errors.append(f\"行 {line_num}: 重複套件 - {package_name} \"\n                                f\"(已在行 {seen_packages[package_name]})\")\n                else:\n                    seen_packages[package_name] = line_num\n\n                # 檢查版本號格式\n                # 簡化版：檢查是否有數字\n                if not re.search(r'\\d+', version_spec):\n                    errors.append(f\"行 {line_num}: 版本號格式錯誤 - {line}\")\n\n    # 輸出報告\n    print(\"=== requirements.txt 驗證報告 ===\")\n    print()\n\n    if errors:\n        print(f\"發現 {len(errors)} 個問題:\")\n        for error in errors:\n            print(f\"  ✗ {error}\")\n    else:\n        print(\"✓ 驗證通過，沒有發現問題\")\n\n# 測試\ntest_content = \"\"\"Django==4.2.0\nrequests>=2.28.0,<3.0.0\nDjango==3.2.0\nnumpy~=1.24.x\npandas===2.0.0\n\"\"\"\n\nwith open('test_requirements.txt', 'w', encoding='utf-8') as f:\n    f.write(test_content)\n\nvalidate_requirements('test_requirements.txt')"
    },
    {
      "cell_type": "markdown",
      "metadata": {},
      "source": "---\n\n## 習題 8 解答：套件依賴樹生成器"
    },
    {
      "cell_type": "code",
      "execution_count": null,
      "metadata": {},
      "outputs": [],
      "source": "def print_dependency_tree(package, dependencies, prefix=\"\", visited=None):\n    \"\"\"遞迴顯示依賴樹\"\"\"\n\n    if visited is None:\n        visited = set()\n\n    # 偵測循環依賴\n    if package in visited:\n        print(f\"{prefix}{package} (循環依賴！)\")\n        return\n\n    visited.add(package)\n\n    print(f\"{prefix}{package}\")\n\n    if package in dependencies:\n        deps = dependencies[package]\n        for i, dep in enumerate(deps):\n            is_last = (i == len(deps) - 1)\n\n            if is_last:\n                new_prefix = prefix + \"└── \"\n                next_prefix = prefix + \"    \"\n            else:\n                new_prefix = prefix + \"├── \"\n                next_prefix = prefix + \"│   \"\n\n            print(f\"{new_prefix}{dep}\")\n\n# 測試\ndependencies = {\n    'Django': ['sqlparse', 'asgiref'],\n    'requests': ['urllib3', 'certifi', 'charset-normalizer'],\n    'sqlparse': [],\n    'asgiref': [],\n    'urllib3': [],\n    'certifi': [],\n    'charset-normalizer': []\n}\n\nprint(\"=== 套件依賴樹 ===\")\nprint()\n\nfor package in ['Django', 'requests']:\n    print_dependency_tree(package, dependencies)\n    print()"
    },
    {
      "cell_type": "markdown",
      "metadata": {},
      "source": "---\n\n## 習題 9 解答：環境差異報告器"
    },
    {
      "cell_type": "code",
      "execution_count": null,
      "metadata": {},
      "outputs": [],
      "source": "def parse_requirements_file(filename):\n    \"\"\"解析 requirements.txt\"\"\"\n    packages = {}\n\n    with open(filename, 'r', encoding='utf-8') as f:\n        for line in f:\n            line = line.strip()\n            if not line or line.startswith('#'):\n                continue\n\n            # 簡化：假設格式為 package==version\n            if '==' in line:\n                name, version = line.split('==')\n                packages[name] = version\n\n    return packages\n\ndef compare_environments(old_file, new_file):\n    \"\"\"比對兩個環境差異\"\"\"\n\n    old_packages = parse_requirements_file(old_file)\n    new_packages = parse_requirements_file(new_file)\n\n    old_names = set(old_packages.keys())\n    new_names = set(new_packages.keys())\n\n    # 分析差異\n    added = new_names - old_names\n    removed = old_names - new_names\n    common = old_names & new_names\n\n    upgraded = []\n    downgraded = []\n    unchanged = []\n\n    for name in common:\n        old_ver = old_packages[name]\n        new_ver = new_packages[name]\n\n        if old_ver != new_ver:\n            # 簡化比較（實際應使用版本解析）\n            if new_ver > old_ver:\n                upgraded.append((name, old_ver, new_ver))\n            else:\n                downgraded.append((name, old_ver, new_ver))\n        else:\n            unchanged.append(name)\n\n    # 輸出報告\n    print(\"=== 環境差異報告 ===\")\n    print()\n\n    if added:\n        print(f\"新增套件 ({len(added)}):\")\n        for name in sorted(added):\n            print(f\"  + {name}=={new_packages[name]}\")\n        print()\n\n    if removed:\n        print(f\"移除套件 ({len(removed)}):\")\n        for name in sorted(removed):\n            print(f\"  - {name}=={old_packages[name]}\")\n        print()\n\n    if upgraded:\n        print(f\"升級套件 ({len(upgraded)}):\")\n        for name, old_ver, new_ver in upgraded:\n            print(f\"  ↑ {name}: {old_ver} → {new_ver}\")\n        print()\n\n    if downgraded:\n        print(f\"降級套件 ({len(downgraded)}):\")\n        for name, old_ver, new_ver in downgraded:\n            print(f\"  ↓ {name}: {old_ver} → {new_ver}\")\n        print()\n\n# 測試\nold_content = \"\"\"Django==3.2.0\nrequests==2.28.0\nnumpy==1.23.0\n\"\"\"\n\nnew_content = \"\"\"Django==4.2.0\nrequests==2.28.0\npandas==2.0.0\n\"\"\"\n\nwith open('old_requirements.txt', 'w') as f:\n    f.write(old_content)\n\nwith open('new_requirements.txt', 'w') as f:\n    f.write(new_content)\n\ncompare_environments('old_requirements.txt', 'new_requirements.txt')"
    },
    {
      "cell_type": "markdown",
      "metadata": {},
      "source": "---\n\n## 習題 10-18 解答提示\n\n### 習題 10：版本升級建議器\n**核心思路**：\n- 解析版本號的主版本、次版本、修訂號\n- 根據 Semantic Versioning 規則評估風險\n- 主版本更新 = 高風險，次版本 = 中風險，修訂號 = 低風險\n\n### 習題 11：多環境配置管理器\n**核心思路**：\n- 使用 `-r requirements.txt` 實現繼承\n- 分層設計：base → development → testing → production\n\n### 習題 12：套件安全性檢查器\n**核心思路**：\n- 維護漏洞資料庫字典\n- 比對套件版本與漏洞版本範圍\n- 提供 CVE 編號與修復建議\n\n### 習題 13：虛擬環境遷移工具\n**核心思路**：\n- 匯出：`sys.version`, `pip freeze`, 環境變數\n- 生成 JSON 配置檔\n- 生成 shell script 自動化重建\n\n### 習題 14：依賴衝突解析器\n**核心思路**：\n- 使用 Constraint Satisfaction Problem 方法\n- 回溯搜尋找到可行解\n- 若無解，建議降級策略\n\n### 習題 15：套件更新策略分析器\n**核心思路**：\n- 建立依賴圖（直接 vs 間接依賴）\n- 拓樸排序決定更新順序\n- 風險評估與階段劃分\n\n### 習題 16：requirements.txt 最佳化工具\n**核心思路**：\n- 移除間接依賴（需依賴樹資訊）\n- 合併版本限定（邏輯運算）\n- 分組與排序\n\n### 習題 17：專案環境診斷工具\n**核心思路**：\n- 整合前面所有檢查功能\n- 生成結構化報告\n- 提供修復建議\n\n### 習題 18：虛擬環境自動化管理系統\n**核心思路**：\n- 使用 JSON 儲存環境清單\n- 封裝所有操作為類別方法\n- 提供命令列介面（CLI）\n\n---"
    },
    {
      "cell_type": "markdown",
      "metadata": {},
      "source": "## 🎯 學習總結\n\n完成這些習題後，你已經掌握：\n\n### 技術能力\n- ✅ pip 與虛擬環境的所有核心操作\n- ✅ requirements.txt 的進階應用\n- ✅ 版本管理與衝突解決策略\n- ✅ 自動化工具開發能力\n\n### 軟體工程思維\n- ✅ 模組化與函式設計\n- ✅ 錯誤處理與邊界條件\n- ✅ 跨平台相容性考量\n- ✅ 使用者體驗設計\n\n### 實務經驗\n- ✅ 真實專案環境管理\n- ✅ 團隊協作工作流程\n- ✅ 問題診斷與除錯\n- ✅ 文件與註解撰寫\n\n---\n\n**恭喜！** 你已完成 Ch28 的所有練習。這些技能將在你的整個 Python 開發生涯中持續使用！"
    }
  ],
  "metadata": {
    "kernelspec": {
      "display_name": "Python 3",
      "language": "python",
      "name": "python3"
    },
    "language_info": {
      "codemirror_mode": {
        "name": "ipython",
        "version": 3
      },
      "file_extension": ".py",
      "mimetype": "text/x-python",
      "name": "python",
      "nbconvert_exporter": "python",
      "pygments_lexer": "ipython3",
      "version": "3.8.0"
    }
  },
  "nbformat": 4,
  "nbformat_minor": 4
}