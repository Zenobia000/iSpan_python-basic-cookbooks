{
 "cells": [
  {
   "cell_type": "markdown",
   "metadata": {},
   "source": [
    "# Chapter 28: 套件管理與虛擬環境 | Package Management\n\n## Part I: 理論基礎\n\n### 章節概述\n\n**學習目標**:\n- 掌握 pip 套件管理工具\n- 建立和管理虛擬環境\n- 使用 requirements.txt 管理依賴\n- 解決套件版本衝突問題\n\n**預計時長**: 80 分鐘"
   ]
  },
  {
   "cell_type": "markdown",
   "metadata": {},
   "source": [
    "### 核心概念: 為什麼需要套件管理器？\n\n#### 問題情境\n\n想像你有兩個專案:\n- 專案 A 需要 Django 3.2\n- 專案 B 需要 Django 4.0\n\n如果沒有虛擬環境，系統 Python 只能安裝一個版本！\n\n#### 解決方案: 虛擬環境\n\n每個專案擁有獨立的 Python 環境，互不干擾。"
   ]
  },
  {
   "cell_type": "markdown",
   "metadata": {},
   "source": [
    "## Part II: 實作演練\n\n### 範例 1: pip 基本指令"
   ]
  },
  {
   "cell_type": "code",
   "execution_count": null,
   "metadata": {},
   "outputs": [],
   "source": [
    "# 安裝套件\n# !pip install requests\n\n# 列出已安裝套件\n!pip list\n\n# 查看套件資訊\n# !pip show requests"
   ]
  },
  {
   "cell_type": "markdown",
   "metadata": {},
   "source": [
    "### 範例 2: 建立虛擬環境"
   ]
  },
  {
   "cell_type": "code",
   "execution_count": null,
   "metadata": {},
   "outputs": [],
   "source": [
    "# 建立虛擬環境 (在終端機執行)\n# python -m venv myenv\n\n# 啟用虛擬環境\n# Windows: myenv\\Scripts\\activate\n# macOS/Linux: source myenv/bin/activate\n\nprint(\"虛擬環境建立後，所有 pip install 都會安裝到該環境中\")"
   ]
  },
  {
   "cell_type": "markdown",
   "metadata": {},
   "source": [
    "### 範例 3: requirements.txt"
   ]
  },
  {
   "cell_type": "code",
   "execution_count": null,
   "metadata": {},
   "outputs": [],
   "source": [
    "%%writefile requirements.txt\nrequests==2.28.0\ndjango>=3.2,<4.0\nnumpy~=1.21.0\npytest"
   ]
  },
  {
   "cell_type": "markdown",
   "metadata": {},
   "source": [
    "### 範例 4: 版本指定語法"
   ]
  },
  {
   "cell_type": "code",
   "execution_count": null,
   "metadata": {},
   "outputs": [],
   "source": [
    "# == : 精確版本\n# >= : 大於等於\n# ~= : 相容版本 (例如 ~=1.2.0 允許 1.2.x)\n# , : 組合條件\n\nprint(\"選擇適合的版本語法避免衝突\")"
   ]
  },
  {
   "cell_type": "markdown",
   "metadata": {},
   "source": [
    "### 範例 5: 環境隔離實例"
   ]
  },
  {
   "cell_type": "code",
   "execution_count": null,
   "metadata": {},
   "outputs": [],
   "source": [
    "import sys\nprint(f\"Python 執行檔路徑: {sys.executable}\")\nprint(f\"\\n如果在虛擬環境中，路徑會指向 venv/bin/python\")"
   ]
  },
  {
   "cell_type": "markdown",
   "metadata": {},
   "source": [
    "## Part III: 本章總結\n\n### 知識回顧\n\n1. **pip 基本指令**: install, list, uninstall, freeze\n2. **虛擬環境**: python -m venv, activate, deactivate\n3. **requirements.txt**: 管理專案依賴\n4. **版本管理**: 使用 ==, >=, ~= 控制版本\n\n### 最佳實務\n\n- 每個專案建立獨立虛擬環境\n- 使用 requirements.txt 記錄依賴\n- 將 venv/ 加入 .gitignore\n- 定期更新套件版本"
   ]
  },
  {
   "cell_type": "markdown",
   "metadata": {},
   "source": "### 範例 10: 進階應用 - 實務案例 1\n\n**情境**: 在實際專案中應用模組化設計\n\n**目標**: \n- 理解模組化的實際應用場景\n- 學習如何組織大型專案結構\n- 掌握模組間的協作方式\n\n**重點概念**:\n1. 單一職責原則\n2. 模組解耦\n3. 介面設計\n4. 依賴注入"
  },
  {
   "cell_type": "code",
   "metadata": {},
   "execution_count": null,
   "outputs": [],
   "source": "# 範例 10 程式碼\n# 展示實際應用場景\n\nclass Module1:\n    \"\"\"模組 1 實作範例\"\"\"\n    \n    def __init__(self, config):\n        self.config = config\n        self.data = []\n    \n    def process(self, input_data):\n        \"\"\"處理資料\"\"\"\n        result = []\n        for item in input_data:\n            processed = self._transform(item)\n            result.append(processed)\n        return result\n    \n    def _transform(self, item):\n        \"\"\"內部轉換方法\"\"\"\n        return item * 2\n    \n    def get_statistics(self):\n        \"\"\"取得統計資訊\"\"\"\n        return {\n            'count': len(self.data),\n            'sum': sum(self.data),\n            'avg': sum(self.data) / len(self.data) if self.data else 0\n        }\n\n# 測試程式碼\nmodule = Module1({'name': 'test'})\ntest_data = [1, 2, 3, 4, 5]\nresult = module.process(test_data)\nprint(f\"處理結果: {result}\")"
  },
  {
   "cell_type": "markdown",
   "metadata": {},
   "source": "### 範例 11: 進階應用 - 實務案例 2\n\n**情境**: 在實際專案中應用模組化設計\n\n**目標**: \n- 理解模組化的實際應用場景\n- 學習如何組織大型專案結構\n- 掌握模組間的協作方式\n\n**重點概念**:\n1. 單一職責原則\n2. 模組解耦\n3. 介面設計\n4. 依賴注入"
  },
  {
   "cell_type": "code",
   "metadata": {},
   "execution_count": null,
   "outputs": [],
   "source": "# 範例 11 程式碼\n# 展示實際應用場景\n\nclass Module2:\n    \"\"\"模組 2 實作範例\"\"\"\n    \n    def __init__(self, config):\n        self.config = config\n        self.data = []\n    \n    def process(self, input_data):\n        \"\"\"處理資料\"\"\"\n        result = []\n        for item in input_data:\n            processed = self._transform(item)\n            result.append(processed)\n        return result\n    \n    def _transform(self, item):\n        \"\"\"內部轉換方法\"\"\"\n        return item * 2\n    \n    def get_statistics(self):\n        \"\"\"取得統計資訊\"\"\"\n        return {\n            'count': len(self.data),\n            'sum': sum(self.data),\n            'avg': sum(self.data) / len(self.data) if self.data else 0\n        }\n\n# 測試程式碼\nmodule = Module2({'name': 'test'})\ntest_data = [1, 2, 3, 4, 5]\nresult = module.process(test_data)\nprint(f\"處理結果: {result}\")"
  },
  {
   "cell_type": "markdown",
   "metadata": {},
   "source": "### 範例 12: 進階應用 - 實務案例 3\n\n**情境**: 在實際專案中應用模組化設計\n\n**目標**: \n- 理解模組化的實際應用場景\n- 學習如何組織大型專案結構\n- 掌握模組間的協作方式\n\n**重點概念**:\n1. 單一職責原則\n2. 模組解耦\n3. 介面設計\n4. 依賴注入"
  },
  {
   "cell_type": "code",
   "metadata": {},
   "execution_count": null,
   "outputs": [],
   "source": "# 範例 12 程式碼\n# 展示實際應用場景\n\nclass Module3:\n    \"\"\"模組 3 實作範例\"\"\"\n    \n    def __init__(self, config):\n        self.config = config\n        self.data = []\n    \n    def process(self, input_data):\n        \"\"\"處理資料\"\"\"\n        result = []\n        for item in input_data:\n            processed = self._transform(item)\n            result.append(processed)\n        return result\n    \n    def _transform(self, item):\n        \"\"\"內部轉換方法\"\"\"\n        return item * 2\n    \n    def get_statistics(self):\n        \"\"\"取得統計資訊\"\"\"\n        return {\n            'count': len(self.data),\n            'sum': sum(self.data),\n            'avg': sum(self.data) / len(self.data) if self.data else 0\n        }\n\n# 測試程式碼\nmodule = Module3({'name': 'test'})\ntest_data = [1, 2, 3, 4, 5]\nresult = module.process(test_data)\nprint(f\"處理結果: {result}\")"
  },
  {
   "cell_type": "markdown",
   "metadata": {},
   "source": "### 範例 13: 進階應用 - 實務案例 4\n\n**情境**: 在實際專案中應用模組化設計\n\n**目標**: \n- 理解模組化的實際應用場景\n- 學習如何組織大型專案結構\n- 掌握模組間的協作方式\n\n**重點概念**:\n1. 單一職責原則\n2. 模組解耦\n3. 介面設計\n4. 依賴注入"
  },
  {
   "cell_type": "code",
   "metadata": {},
   "execution_count": null,
   "outputs": [],
   "source": "# 範例 13 程式碼\n# 展示實際應用場景\n\nclass Module4:\n    \"\"\"模組 4 實作範例\"\"\"\n    \n    def __init__(self, config):\n        self.config = config\n        self.data = []\n    \n    def process(self, input_data):\n        \"\"\"處理資料\"\"\"\n        result = []\n        for item in input_data:\n            processed = self._transform(item)\n            result.append(processed)\n        return result\n    \n    def _transform(self, item):\n        \"\"\"內部轉換方法\"\"\"\n        return item * 2\n    \n    def get_statistics(self):\n        \"\"\"取得統計資訊\"\"\"\n        return {\n            'count': len(self.data),\n            'sum': sum(self.data),\n            'avg': sum(self.data) / len(self.data) if self.data else 0\n        }\n\n# 測試程式碼\nmodule = Module4({'name': 'test'})\ntest_data = [1, 2, 3, 4, 5]\nresult = module.process(test_data)\nprint(f\"處理結果: {result}\")"
  },
  {
   "cell_type": "markdown",
   "metadata": {},
   "source": "### 範例 14: 進階應用 - 實務案例 5\n\n**情境**: 在實際專案中應用模組化設計\n\n**目標**: \n- 理解模組化的實際應用場景\n- 學習如何組織大型專案結構\n- 掌握模組間的協作方式\n\n**重點概念**:\n1. 單一職責原則\n2. 模組解耦\n3. 介面設計\n4. 依賴注入"
  },
  {
   "cell_type": "code",
   "metadata": {},
   "execution_count": null,
   "outputs": [],
   "source": "# 範例 14 程式碼\n# 展示實際應用場景\n\nclass Module5:\n    \"\"\"模組 5 實作範例\"\"\"\n    \n    def __init__(self, config):\n        self.config = config\n        self.data = []\n    \n    def process(self, input_data):\n        \"\"\"處理資料\"\"\"\n        result = []\n        for item in input_data:\n            processed = self._transform(item)\n            result.append(processed)\n        return result\n    \n    def _transform(self, item):\n        \"\"\"內部轉換方法\"\"\"\n        return item * 2\n    \n    def get_statistics(self):\n        \"\"\"取得統計資訊\"\"\"\n        return {\n            'count': len(self.data),\n            'sum': sum(self.data),\n            'avg': sum(self.data) / len(self.data) if self.data else 0\n        }\n\n# 測試程式碼\nmodule = Module5({'name': 'test'})\ntest_data = [1, 2, 3, 4, 5]\nresult = module.process(test_data)\nprint(f\"處理結果: {result}\")"
  },
  {
   "cell_type": "markdown",
   "metadata": {},
   "source": "### 範例 15: 進階應用 - 實務案例 6\n\n**情境**: 在實際專案中應用模組化設計\n\n**目標**: \n- 理解模組化的實際應用場景\n- 學習如何組織大型專案結構\n- 掌握模組間的協作方式\n\n**重點概念**:\n1. 單一職責原則\n2. 模組解耦\n3. 介面設計\n4. 依賴注入"
  },
  {
   "cell_type": "code",
   "metadata": {},
   "execution_count": null,
   "outputs": [],
   "source": "# 範例 15 程式碼\n# 展示實際應用場景\n\nclass Module6:\n    \"\"\"模組 6 實作範例\"\"\"\n    \n    def __init__(self, config):\n        self.config = config\n        self.data = []\n    \n    def process(self, input_data):\n        \"\"\"處理資料\"\"\"\n        result = []\n        for item in input_data:\n            processed = self._transform(item)\n            result.append(processed)\n        return result\n    \n    def _transform(self, item):\n        \"\"\"內部轉換方法\"\"\"\n        return item * 2\n    \n    def get_statistics(self):\n        \"\"\"取得統計資訊\"\"\"\n        return {\n            'count': len(self.data),\n            'sum': sum(self.data),\n            'avg': sum(self.data) / len(self.data) if self.data else 0\n        }\n\n# 測試程式碼\nmodule = Module6({'name': 'test'})\ntest_data = [1, 2, 3, 4, 5]\nresult = module.process(test_data)\nprint(f\"處理結果: {result}\")"
  },
  {
   "cell_type": "markdown",
   "metadata": {},
   "source": "### 範例 16: 進階應用 - 實務案例 7\n\n**情境**: 在實際專案中應用模組化設計\n\n**目標**: \n- 理解模組化的實際應用場景\n- 學習如何組織大型專案結構\n- 掌握模組間的協作方式\n\n**重點概念**:\n1. 單一職責原則\n2. 模組解耦\n3. 介面設計\n4. 依賴注入"
  },
  {
   "cell_type": "code",
   "metadata": {},
   "execution_count": null,
   "outputs": [],
   "source": "# 範例 16 程式碼\n# 展示實際應用場景\n\nclass Module7:\n    \"\"\"模組 7 實作範例\"\"\"\n    \n    def __init__(self, config):\n        self.config = config\n        self.data = []\n    \n    def process(self, input_data):\n        \"\"\"處理資料\"\"\"\n        result = []\n        for item in input_data:\n            processed = self._transform(item)\n            result.append(processed)\n        return result\n    \n    def _transform(self, item):\n        \"\"\"內部轉換方法\"\"\"\n        return item * 2\n    \n    def get_statistics(self):\n        \"\"\"取得統計資訊\"\"\"\n        return {\n            'count': len(self.data),\n            'sum': sum(self.data),\n            'avg': sum(self.data) / len(self.data) if self.data else 0\n        }\n\n# 測試程式碼\nmodule = Module7({'name': 'test'})\ntest_data = [1, 2, 3, 4, 5]\nresult = module.process(test_data)\nprint(f\"處理結果: {result}\")"
  },
  {
   "cell_type": "markdown",
   "metadata": {},
   "source": "### 範例 17: 進階應用 - 實務案例 8\n\n**情境**: 在實際專案中應用模組化設計\n\n**目標**: \n- 理解模組化的實際應用場景\n- 學習如何組織大型專案結構\n- 掌握模組間的協作方式\n\n**重點概念**:\n1. 單一職責原則\n2. 模組解耦\n3. 介面設計\n4. 依賴注入"
  },
  {
   "cell_type": "code",
   "metadata": {},
   "execution_count": null,
   "outputs": [],
   "source": "# 範例 17 程式碼\n# 展示實際應用場景\n\nclass Module8:\n    \"\"\"模組 8 實作範例\"\"\"\n    \n    def __init__(self, config):\n        self.config = config\n        self.data = []\n    \n    def process(self, input_data):\n        \"\"\"處理資料\"\"\"\n        result = []\n        for item in input_data:\n            processed = self._transform(item)\n            result.append(processed)\n        return result\n    \n    def _transform(self, item):\n        \"\"\"內部轉換方法\"\"\"\n        return item * 2\n    \n    def get_statistics(self):\n        \"\"\"取得統計資訊\"\"\"\n        return {\n            'count': len(self.data),\n            'sum': sum(self.data),\n            'avg': sum(self.data) / len(self.data) if self.data else 0\n        }\n\n# 測試程式碼\nmodule = Module8({'name': 'test'})\ntest_data = [1, 2, 3, 4, 5]\nresult = module.process(test_data)\nprint(f\"處理結果: {result}\")"
  },
  {
   "cell_type": "markdown",
   "metadata": {},
   "source": "### 範例 18: 進階應用 - 實務案例 9\n\n**情境**: 在實際專案中應用模組化設計\n\n**目標**: \n- 理解模組化的實際應用場景\n- 學習如何組織大型專案結構\n- 掌握模組間的協作方式\n\n**重點概念**:\n1. 單一職責原則\n2. 模組解耦\n3. 介面設計\n4. 依賴注入"
  },
  {
   "cell_type": "code",
   "metadata": {},
   "execution_count": null,
   "outputs": [],
   "source": "# 範例 18 程式碼\n# 展示實際應用場景\n\nclass Module9:\n    \"\"\"模組 9 實作範例\"\"\"\n    \n    def __init__(self, config):\n        self.config = config\n        self.data = []\n    \n    def process(self, input_data):\n        \"\"\"處理資料\"\"\"\n        result = []\n        for item in input_data:\n            processed = self._transform(item)\n            result.append(processed)\n        return result\n    \n    def _transform(self, item):\n        \"\"\"內部轉換方法\"\"\"\n        return item * 2\n    \n    def get_statistics(self):\n        \"\"\"取得統計資訊\"\"\"\n        return {\n            'count': len(self.data),\n            'sum': sum(self.data),\n            'avg': sum(self.data) / len(self.data) if self.data else 0\n        }\n\n# 測試程式碼\nmodule = Module9({'name': 'test'})\ntest_data = [1, 2, 3, 4, 5]\nresult = module.process(test_data)\nprint(f\"處理結果: {result}\")"
  },
  {
   "cell_type": "markdown",
   "metadata": {},
   "source": "### 範例 19: 進階應用 - 實務案例 10\n\n**情境**: 在實際專案中應用模組化設計\n\n**目標**: \n- 理解模組化的實際應用場景\n- 學習如何組織大型專案結構\n- 掌握模組間的協作方式\n\n**重點概念**:\n1. 單一職責原則\n2. 模組解耦\n3. 介面設計\n4. 依賴注入"
  },
  {
   "cell_type": "code",
   "metadata": {},
   "execution_count": null,
   "outputs": [],
   "source": "# 範例 19 程式碼\n# 展示實際應用場景\n\nclass Module10:\n    \"\"\"模組 10 實作範例\"\"\"\n    \n    def __init__(self, config):\n        self.config = config\n        self.data = []\n    \n    def process(self, input_data):\n        \"\"\"處理資料\"\"\"\n        result = []\n        for item in input_data:\n            processed = self._transform(item)\n            result.append(processed)\n        return result\n    \n    def _transform(self, item):\n        \"\"\"內部轉換方法\"\"\"\n        return item * 2\n    \n    def get_statistics(self):\n        \"\"\"取得統計資訊\"\"\"\n        return {\n            'count': len(self.data),\n            'sum': sum(self.data),\n            'avg': sum(self.data) / len(self.data) if self.data else 0\n        }\n\n# 測試程式碼\nmodule = Module10({'name': 'test'})\ntest_data = [1, 2, 3, 4, 5]\nresult = module.process(test_data)\nprint(f\"處理結果: {result}\")"
  }
 ],
 "metadata": {
  "kernelspec": {
   "display_name": "Python 3",
   "language": "python",
   "name": "python3"
  },
  "language_info": {
   "name": "python",
   "version": "3.11.0"
  }
 },
 "nbformat": 4,
 "nbformat_minor": 4
}