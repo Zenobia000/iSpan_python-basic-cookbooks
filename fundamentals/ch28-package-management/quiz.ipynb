{
  "cells": [
    {
      "cell_type": "markdown",
      "metadata": {},
      "source": "# 套件管理與虛擬環境 | Package Management and Virtual Environments\n\n## 📝 自我測驗 | Self-Assessment Quiz\n\n---\n\n## 測驗說明\n\n- **題數**：20 題\n- **題型**：選擇題（單選）、填空題、簡答題\n- **建議時間**：20 分鐘\n- **及格分數**：70 分\n\n---"
    },
    {
      "cell_type": "markdown",
      "metadata": {},
      "source": "## 第一部分：選擇題（1-12，每題 5 分）\n\n---\n\n### 題目 1\n\n下列哪個指令可以安裝特定版本的套件？\n\nA) `pip install requests`\nB) `pip install requests==2.28.0`\nC) `pip install requests-2.28.0`\nD) `pip get requests@2.28.0`\n\n<details>\n<summary>點擊查看答案</summary>\n\n**答案：B**\n\n說明：\n- `==` 符號用於指定精確版本\n- 格式：`pip install package==version`\n</details>\n\n---\n\n### 題目 2\n\n執行 `python -m venv myenv` 後，會建立哪些目錄？\n\nA) 只有 bin/\nB) Scripts/ 和 Lib/ (Windows)\nC) venv/ 和 site-packages/\nD) python/ 和 pip/\n\n<details>\n<summary>點擊查看答案</summary>\n\n**答案：B**\n\n說明：\n- Windows: Scripts/, Lib/, Include/\n- macOS/Linux: bin/, lib/, include/\n- 還會建立 pyvenv.cfg 配置檔\n</details>\n\n---\n\n### 題目 3\n\n`pip freeze` 與 `pip list` 的主要差異是？\n\nA) freeze 速度較快\nB) freeze 輸出格式適合 requirements.txt\nC) list 只顯示全域套件\nD) 沒有差異\n\n<details>\n<summary>點擊查看答案</summary>\n\n**答案：B**\n\n說明：\n- `pip list`: 表格格式，易讀\n- `pip freeze`: `package==version` 格式，適合寫入 requirements.txt\n</details>\n\n---\n\n### 題目 4\n\n版本限定 `~=1.24.0` 允許安裝哪些版本？\n\nA) 1.24.0 到 1.25.0\nB) 1.24.x（1.24.0, 1.24.1, ...）\nC) 1.x.x\nD) 任何版本\n\n<details>\n<summary>點擊查看答案</summary>\n\n**答案：B**\n\n說明：\n- `~=` 為相容版本運算子\n- `~=1.24.0` 等同於 `>=1.24.0,<1.25.0`\n- 允許修訂號更新，不允許次版本更新\n</details>\n\n---\n\n### 題目 5\n\n如何在 Windows PowerShell 啟用虛擬環境？\n\nA) `source venv/bin/activate`\nB) `venv\\Scripts\\activate`\nC) `venv\\Scripts\\Activate.ps1`\nD) `python venv activate`\n\n<details>\n<summary>點擊查看答案</summary>\n\n**答案：C**\n\n說明：\n- PowerShell: `venv\\Scripts\\Activate.ps1`\n- 命令提示字元: `venv\\Scripts\\activate.bat`\n- macOS/Linux: `source venv/bin/activate`\n</details>\n\n---\n\n### 題目 6\n\n執行 `pip install -r requirements.txt` 會做什麼？\n\nA) 建立虛擬環境\nB) 安裝檔案中列出的所有套件\nC) 匯出已安裝套件\nD) 更新 pip\n\n<details>\n<summary>點擊查看答案</summary>\n\n**答案：B**\n\n說明：\n- `-r` 參數表示從檔案讀取\n- 會逐行安裝檔案中指定的套件\n</details>\n\n---\n\n### 題目 7\n\n為什麼虛擬環境資料夾（venv/）不應提交到 Git？\n\nA) 檔案太大\nB) 包含平台特定檔案，不可移植\nC) 會洩漏密碼\nD) Git 不支援\n\n<details>\n<summary>點擊查看答案</summary>\n\n**答案：B**\n\n說明：\n- 虛擬環境包含平台相關的二進制檔案\n- 應提交 requirements.txt，讓他人重建環境\n- 在 .gitignore 中排除 venv/\n</details>\n\n---\n\n### 題目 8\n\n`pip check` 指令的用途是？\n\nA) 檢查 pip 版本\nB) 檢查依賴一致性\nC) 檢查網路連線\nD) 檢查 Python 版本\n\n<details>\n<summary>點擊查看答案</summary>\n\n**答案：B**\n\n說明：\n- 驗證已安裝套件的依賴是否滿足\n- 找出版本衝突問題\n</details>\n\n---\n\n### 題目 9\n\n版本限定 `>=2.28.0,<3.0.0` 的含義是？\n\nA) 剛好 2.28.0\nB) 2.28.0 或更高版本\nC) 2.28.0 到 3.0.0 之間（不含 3.0.0）\nD) 3.0.0 或更高版本\n\n<details>\n<summary>點擊查看答案</summary>\n\n**答案：C**\n\n說明：\n- `,` 表示「且」條件\n- 允許 2.28.0, 2.29.0, 2.31.0 等\n- 不允許 3.0.0 或更高\n</details>\n\n---\n\n### 題目 10\n\n如何升級已安裝的套件到最新版本？\n\nA) `pip update requests`\nB) `pip install --upgrade requests`\nC) `pip upgrade requests`\nD) `pip install requests --latest`\n\n<details>\n<summary>點擊查看答案</summary>\n\n**答案：B**\n\n說明：\n- `--upgrade` 或 `-U` 參數用於升級\n- 會安裝最新可用版本\n</details>\n\n---\n\n### 題目 11\n\nrequirements.txt 中的 `-r base.txt` 表示什麼？\n\nA) 移除 base.txt\nB) 重新命名\nC) 引用（包含）另一個 requirements 檔案\nD) 註解\n\n<details>\n<summary>點擊查看答案</summary>\n\n**答案：C**\n\n說明：\n- `-r` 表示引用其他檔案\n- 常用於環境依賴分層（base → dev → prod）\n</details>\n\n---\n\n### 題目 12\n\n如何確認目前是否在虛擬環境中？\n\nA) 執行 `python --version`\nB) 檢查提示字元是否有環境名稱\nC) 執行 `pip --version`\nD) 檢查 Python 版本\n\n<details>\n<summary>點擊查看答案</summary>\n\n**答案：B**\n\n說明：\n- 虛擬環境啟用後，提示字元會顯示 `(env_name)`\n- 也可執行 `python -c \"import sys; print(sys.prefix)\"` 檢查路徑\n</details>\n\n---"
    },
    {
      "cell_type": "markdown",
      "metadata": {},
      "source": "## 第二部分：填空題（13-16，每題 5 分）\n\n---\n\n### 題目 13\n\n完成以下指令，建立名為 `myproject` 的虛擬環境：\n\n```bash\npython -m ________ myproject\n```\n\n<details>\n<summary>點擊查看答案</summary>\n\n**答案：venv**\n\n完整指令：`python -m venv myproject`\n</details>\n\n---\n\n### 題目 14\n\nrequirements.txt 中，要指定「numpy 版本至少 1.23，但不能是 2.0 或更高」，應該寫：\n\n```\nnumpy________\n```\n\n<details>\n<summary>點擊查看答案</summary>\n\n**答案：>=1.23,<2.0**\n\n或其他等價表達：`>=1.23.0,<2.0.0`\n</details>\n\n---\n\n### 題目 15\n\n停用虛擬環境的指令是：\n\n```bash\n________\n```\n\n<details>\n<summary>點擊查看答案</summary>\n\n**答案：deactivate**\n\n適用於所有平台\n</details>\n\n---\n\n### 題目 16\n\n查看 Django 套件詳細資訊的指令是：\n\n```bash\npip ________ Django\n```\n\n<details>\n<summary>點擊查看答案</summary>\n\n**答案：show**\n\n完整指令：`pip show Django`\n</details>\n\n---"
    },
    {
      "cell_type": "markdown",
      "metadata": {},
      "source": "## 第三部分：簡答題（17-20，每題 10 分）\n\n---\n\n### 題目 17\n\n說明為什麼每個 Python 專案都應該使用虛擬環境？至少列出 3 個原因。\n\n<details>\n<summary>點擊查看答案要點</summary>\n\n**參考答案**：\n\n1. **依賴隔離**：不同專案可使用不同版本的套件，避免版本衝突\n2. **環境可重現**：透過 requirements.txt 在其他機器重建相同環境\n3. **避免污染全域環境**：不影響系統 Python，降低風險\n4. **權限問題**：不需 sudo/管理員權限安裝套件\n5. **測試不同版本**：可建立多個環境測試不同套件版本\n\n（答對 3 點給滿分）\n</details>\n\n---\n\n### 題目 18\n\n比較以下三種版本限定方式的差異：\n- `Django==4.2.0`\n- `Django>=4.2.0`\n- `Django~=4.2.0`\n\n<details>\n<summary>點擊查看答案要點</summary>\n\n**參考答案**：\n\n1. **`Django==4.2.0`**（精確版本）\n   - 只允許 4.2.0\n   - 最嚴格，確保一致性\n   - 適用於生產環境\n\n2. **`Django>=4.2.0`**（最低版本）\n   - 允許 4.2.0 或任何更高版本\n   - 最寬鬆，可能有相容性問題\n   - 適用於開發環境嘗試新功能\n\n3. **`Django~=4.2.0`**（相容版本）\n   - 允許 4.2.x（如 4.2.1, 4.2.5）\n   - 不允許 4.3.0\n   - 平衡穩定性與更新\n   - 適用於接收安全修復但避免破壞性變更\n</details>\n\n---\n\n### 題目 19\n\n描述從零開始為新專案建立虛擬環境的完整步驟（至少 5 步）。\n\n<details>\n<summary>點擊查看答案要點</summary>\n\n**參考答案**：\n\n1. **建立專案目錄**\n   ```bash\n   mkdir myproject\n   cd myproject\n   ```\n\n2. **建立虛擬環境**\n   ```bash\n   python -m venv venv\n   ```\n\n3. **啟用虛擬環境**\n   ```bash\n   # Windows\n   venv\\Scripts\\activate\n   # macOS/Linux\n   source venv/bin/activate\n   ```\n\n4. **升級 pip**\n   ```bash\n   pip install --upgrade pip\n   ```\n\n5. **安裝專案依賴**\n   ```bash\n   pip install Django requests\n   ```\n\n6. **匯出依賴清單**\n   ```bash\n   pip freeze > requirements.txt\n   ```\n\n7. **建立 .gitignore**\n   ```\n   venv/\n   __pycache__/\n   *.pyc\n   ```\n\n（答對 5 步驟給滿分）\n</details>\n\n---\n\n### 題目 20\n\n當遇到套件版本衝突時，應該如何診斷和解決？請說明流程。\n\n<details>\n<summary>點擊查看答案要點</summary>\n\n**參考答案**：\n\n**診斷步驟**：\n1. **閱讀錯誤訊息**：找出衝突的套件與版本需求\n2. **查看依賴樹**：`pip show [package]` 或使用 `pipdeptree`\n3. **檢查版本需求**：分析哪些套件要求不相容的版本\n\n**解決策略**：\n1. **升級套件**：嘗試升級到相容版本\n   ```bash\n   pip install --upgrade package-name\n   ```\n\n2. **降級套件**：安裝較舊但相容的版本\n   ```bash\n   pip install package-name==older-version\n   ```\n\n3. **尋找替代方案**：使用功能相似的其他套件\n\n4. **隔離環境**：為不相容的功能建立獨立虛擬環境\n\n5. **聯絡維護者**：在 GitHub 提 issue 回報相容性問題\n\n6. **使用依賴解析工具**：如 poetry, pipenv 自動解決\n\n（說明診斷與解決流程給滿分）\n</details>\n\n---"
    },
    {
      "cell_type": "markdown",
      "metadata": {},
      "source": "## 📊 評分標準\n\n| 題型 | 題數 | 每題分數 | 小計 |\n|:-----|:----:|:--------:|:----:|\n| 選擇題 | 12 | 5 | 60 |\n| 填空題 | 4 | 5 | 20 |\n| 簡答題 | 4 | 10 | 40 |\n| **總分** | **20** | - | **120** |\n\n**計分方式**：實得分數 / 120 × 100 = 百分比分數\n\n**評級**：\n- 90-100 分：優秀 ⭐⭐⭐\n- 70-89 分：良好 ⭐⭐\n- 60-69 分：及格 ⭐\n- 60 分以下：需加強\n\n---\n\n## 🎯 測驗總結\n\n完成測驗後，請根據結果：\n\n### 90 分以上\n✅ 恭喜！你已完全掌握套件管理與虛擬環境\n✅ 可以進入下一章學習\n✅ 建議：在實際專案中應用這些知識\n\n### 70-89 分\n✅ 基礎概念良好\n⚠️ 建議：複習錯誤的題目\n⚠️ 多練習 requirements.txt 與版本管理\n\n### 60-69 分\n⚠️ 及格但需加強\n📖 建議：重新學習 01-lecture.ipynb\n📖 完成所有 practice 與 exercises\n\n### 60 分以下\n📖 需要重新學習本章\n📖 建議流程：\n1. 重讀 README.md\n2. 重新學習 01-lecture.ipynb\n3. 完成所有範例與練習\n4. 一週後重新測驗\n\n---\n\n**學習提醒**：虛擬環境與套件管理是 Python 開發的基礎，務必熟練掌握！"
    }
  ],
  "metadata": {
    "kernelspec": {
      "display_name": "Python 3",
      "language": "python",
      "name": "python3"
    },
    "language_info": {
      "codemirror_mode": {
        "name": "ipython",
        "version": 3
      },
      "file_extension": ".py",
      "mimetype": "text/x-python",
      "name": "python",
      "nbconvert_exporter": "python",
      "pygments_lexer": "ipython3",
      "version": "3.8.0"
    }
  },
  "nbformat": 4,
  "nbformat_minor": 4
}