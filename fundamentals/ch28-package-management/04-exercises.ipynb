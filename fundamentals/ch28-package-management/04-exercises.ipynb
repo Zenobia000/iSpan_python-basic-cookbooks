{
  "cells": [
    {
      "cell_type": "markdown",
      "metadata": {},
      "source": "# 套件管理與虛擬環境 | Package Management and Virtual Environments\n\n## ✍️ 課後習題 | Homework Exercises\n\n---\n\n## 📖 習題說明\n\n本檔案包含 **18 個課後習題**，涵蓋：\n- pip 進階操作\n- 虛擬環境最佳實務\n- requirements.txt 進階應用\n- 版本管理與衝突解決\n\n**建議完成時間**：90 分鐘\n\n**難度分佈**：\n- 基礎題：1-6（30 分鐘）\n- 中級題：7-12（30 分鐘）\n- 進階題：13-18（30 分鐘）\n\n---"
    },
    {
      "cell_type": "markdown",
      "metadata": {},
      "source": "## 第一部分：基礎題（1-6）\n\n---\n\n## 習題 1：pip 指令模擬器 ⭐\n\n### 題目\n\n建立一個簡易的 pip 指令模擬器，支援以下功能：\n1. `pip list` - 列出已安裝套件（模擬資料）\n2. `pip show <package>` - 顯示套件資訊\n3. `pip freeze` - 以 freeze 格式輸出\n\n使用字典儲存模擬的套件資料。\n\n### 測試資料\n\n```python\npackages = {\n    'Django': {'version': '4.2.0', 'summary': 'Web framework'},\n    'requests': {'version': '2.31.0', 'summary': 'HTTP library'},\n    'numpy': {'version': '1.24.0', 'summary': 'Scientific computing'}\n}\n```\n\n### 預期輸出範例\n\n```\n>>> pip list\nPackage    Version\n----------  ---------\nDjango      4.2.0\nrequests    2.31.0\nnumpy       1.24.0\n\n>>> pip show Django\nName: Django\nVersion: 4.2.0\nSummary: Web framework\n\n>>> pip freeze\nDjango==4.2.0\nrequests==2.31.0\nnumpy==1.24.0\n```"
    },
    {
      "cell_type": "code",
      "execution_count": null,
      "metadata": {},
      "outputs": [],
      "source": "# 在此撰寫你的程式碼\n\n"
    },
    {
      "cell_type": "markdown",
      "metadata": {},
      "source": "---\n\n## 習題 2：環境路徑分析器 ⭐\n\n### 題目\n\n撰寫程式分析 Python 環境路徑：\n1. 顯示 Python 執行檔路徑\n2. 顯示標準庫路徑\n3. 顯示 site-packages 路徑\n4. 判斷是否在虛擬環境中\n5. 如果在虛擬環境，顯示環境名稱\n\n### 提示\n\n- 使用 `sys.executable`\n- 使用 `sys.prefix`\n- 使用 `site.getsitepackages()`"
    },
    {
      "cell_type": "code",
      "execution_count": null,
      "metadata": {},
      "outputs": [],
      "source": "import sys\nimport site\n\n# 在此撰寫你的程式碼\n\n"
    },
    {
      "cell_type": "markdown",
      "metadata": {},
      "source": "---\n\n## 習題 3：requirements.txt 生成器 ⭐\n\n### 題目\n\n撰寫程式從套件清單字典生成 requirements.txt：\n1. 接受套件名稱與版本限定的字典\n2. 加入分類註解（Web、資料科學、測試等）\n3. 按字母順序排序\n4. 儲存到檔案\n\n### 測試資料\n\n```python\npackages = {\n    'Django': ('==4.2.0', 'Web'),\n    'requests': ('>=2.28.0', 'Web'),\n    'numpy': ('~=1.24.0', 'Data Science'),\n    'pandas': ('>=2.0.0', 'Data Science'),\n    'pytest': ('>=7.0.0', 'Testing')\n}\n```"
    },
    {
      "cell_type": "code",
      "execution_count": null,
      "metadata": {},
      "outputs": [],
      "source": "# 在此撰寫你的程式碼\n\n"
    },
    {
      "cell_type": "markdown",
      "metadata": {},
      "source": "---\n\n## 習題 4：版本號解析器 ⭐\n\n### 題目\n\n撰寫程式解析並比較版本號：\n1. 將版本號字串（如 \"2.31.0\"）解析為元組 (2, 31, 0)\n2. 比較兩個版本號的大小\n3. 支援主版本、次版本、修訂號的比較\n\n### 測試案例\n\n```python\nversion_compare(\"2.31.0\", \"2.28.0\")  # 返回 1（前者較新）\nversion_compare(\"1.24.0\", \"2.0.0\")   # 返回 -1（後者較新）\nversion_compare(\"3.2.0\", \"3.2.0\")    # 返回 0（相同）\n```"
    },
    {
      "cell_type": "code",
      "execution_count": null,
      "metadata": {},
      "outputs": [],
      "source": "# 在此撰寫你的程式碼\n\n"
    },
    {
      "cell_type": "markdown",
      "metadata": {},
      "source": "---\n\n## 習題 5：.gitignore 生成器 ⭐\n\n### 題目\n\n撰寫程式生成適合 Python 專案的 .gitignore 檔案：\n1. 包含虛擬環境目錄（venv/, env/, .venv/）\n2. 包含 Python 快取（__pycache__/, *.pyc）\n3. 包含 IDE 配置（.vscode/, .idea/）\n4. 包含作業系統檔案（.DS_Store, Thumbs.db）\n5. 支援自訂規則\n\n### 提示\n\n- 使用多行字串\n- 提供清晰的分類註解"
    },
    {
      "cell_type": "code",
      "execution_count": null,
      "metadata": {},
      "outputs": [],
      "source": "# 在此撰寫你的程式碼\n\n"
    },
    {
      "cell_type": "markdown",
      "metadata": {},
      "source": "---\n\n## 習題 6：虛擬環境檢查器 ⭐\n\n### 題目\n\n撰寫程式檢查虛擬環境的健康狀況：\n1. 檢查虛擬環境目錄是否存在\n2. 檢查必要的子目錄（Scripts/bin, Lib/lib）\n3. 檢查 activate 腳本是否存在\n4. 檢查 pyvenv.cfg 檔案\n5. 生成檢查報告\n\n### 提示\n\n- 使用 `os.path.exists()`\n- 考慮 Windows 與 Unix 系統差異"
    },
    {
      "cell_type": "code",
      "execution_count": null,
      "metadata": {},
      "outputs": [],
      "source": "import os\nimport sys\n\n# 在此撰寫你的程式碼\n\n"
    },
    {
      "cell_type": "markdown",
      "metadata": {},
      "source": "---\n\n## 第二部分：中級題（7-12）\n\n---\n\n## 習題 7：requirements.txt 驗證器 ⭐⭐\n\n### 題目\n\n撰寫程式驗證 requirements.txt 的語法正確性：\n1. 檢查版本符號是否正確（==, >=, <=, ~=, !=）\n2. 檢查是否有重複的套件\n3. 檢查版本號格式是否正確\n4. 產生驗證報告\n\n### 測試檔案\n\n```\nDjango==4.2.0\nrequests>=2.28.0,<3.0.0\nDjango==3.2.0  # 重複！\nnumpy~=1.24.x  # 版本號錯誤！\npandas===2.0.0  # 符號錯誤！\n```"
    },
    {
      "cell_type": "code",
      "execution_count": null,
      "metadata": {},
      "outputs": [],
      "source": "# 在此撰寫你的程式碼\n\n"
    },
    {
      "cell_type": "markdown",
      "metadata": {},
      "source": "---\n\n## 習題 8：套件依賴樹生成器 ⭐⭐\n\n### 題目\n\n模擬套件依賴關係並生成依賴樹：\n1. 使用字典表示套件依賴關係\n2. 遞迴顯示依賴樹\n3. 標示依賴層級\n4. 偵測循環依賴\n\n### 測試資料\n\n```python\ndependencies = {\n    'Django': ['sqlparse', 'asgiref'],\n    'requests': ['urllib3', 'certifi', 'charset-normalizer'],\n    'sqlparse': [],\n    'asgiref': [],\n    'urllib3': [],\n    'certifi': [],\n    'charset-normalizer': []\n}\n```\n\n### 預期輸出\n\n```\nDjango\n├── sqlparse\n└── asgiref\n\nrequests\n├── urllib3\n├── certifi\n└── charset-normalizer\n```"
    },
    {
      "cell_type": "code",
      "execution_count": null,
      "metadata": {},
      "outputs": [],
      "source": "# 在此撰寫你的程式碼\n\n"
    },
    {
      "cell_type": "markdown",
      "metadata": {},
      "source": "---\n\n## 習題 9：環境差異報告器 ⭐⭐\n\n### 題目\n\n比對兩個環境的 requirements.txt 並生成詳細報告：\n1. 新增的套件\n2. 移除的套件\n3. 版本升級的套件\n4. 版本降級的套件\n5. 版本限定改變的套件\n\n### 測試資料\n\n```\n# old_requirements.txt\nDjango==3.2.0\nrequests==2.28.0\nnumpy==1.23.0\n\n# new_requirements.txt\nDjango==4.2.0\nrequests==2.28.0\npandas==2.0.0\n```"
    },
    {
      "cell_type": "code",
      "execution_count": null,
      "metadata": {},
      "outputs": [],
      "source": "# 在此撰寫你的程式碼\n\n"
    },
    {
      "cell_type": "markdown",
      "metadata": {},
      "source": "---\n\n## 習題 10：版本升級建議器 ⭐⭐\n\n### 題目\n\n撰寫程式分析套件版本並提供升級建議：\n1. 讀取 requirements.txt\n2. 模擬查詢最新版本（使用測試資料）\n3. 判斷是否有重大版本更新\n4. 提供升級建議與風險評估\n\n### 測試資料\n\n```python\n# 目前安裝版本\ninstalled = {\n    'Django': '3.2.0',\n    'requests': '2.28.0',\n    'numpy': '1.23.0'\n}\n\n# 最新可用版本\nlatest = {\n    'Django': '4.2.0',  # 主版本升級（高風險）\n    'requests': '2.31.0',  # 修訂號升級（低風險）\n    'numpy': '1.26.0'  # 次版本升級（中風險）\n}\n```"
    },
    {
      "cell_type": "code",
      "execution_count": null,
      "metadata": {},
      "outputs": [],
      "source": "# 在此撰寫你的程式碼\n\n"
    },
    {
      "cell_type": "markdown",
      "metadata": {},
      "source": "---\n\n## 習題 11：多環境配置管理器 ⭐⭐\n\n### 題目\n\n建立管理多個環境配置的工具：\n1. 支援 development, testing, production 三種環境\n2. 每個環境有基礎依賴 + 特定依賴\n3. 生成各環境的 requirements 檔案\n4. 支援依賴繼承（testing 繼承 development）\n\n### 提示\n\n- 使用 `-r requirements.txt` 引用其他檔案\n- 設計清晰的繼承關係"
    },
    {
      "cell_type": "code",
      "execution_count": null,
      "metadata": {},
      "outputs": [],
      "source": "# 在此撰寫你的程式碼\n\n"
    },
    {
      "cell_type": "markdown",
      "metadata": {},
      "source": "---\n\n## 習題 12：套件安全性檢查器 ⭐⭐\n\n### 題目\n\n模擬套件安全性檢查工具：\n1. 維護已知漏洞資料庫（測試資料）\n2. 檢查 requirements.txt 中的套件版本\n3. 標示有安全風險的套件\n4. 提供修復建議\n\n### 測試資料\n\n```python\nvulnerabilities = {\n    'Django': {\n        '<3.2.14': 'CVE-2022-34265: SQL Injection',\n        '<4.0.6': 'CVE-2022-36359: XSS Vulnerability'\n    },\n    'requests': {\n        '<2.31.0': 'CVE-2023-32681: Proxy-Authorization header leak'\n    }\n}\n```"
    },
    {
      "cell_type": "code",
      "execution_count": null,
      "metadata": {},
      "outputs": [],
      "source": "# 在此撰寫你的程式碼\n\n"
    },
    {
      "cell_type": "markdown",
      "metadata": {},
      "source": "---\n\n## 第三部分：進階題（13-18）\n\n---\n\n## 習題 13：虛擬環境遷移工具 ⭐⭐⭐\n\n### 題目\n\n撰寫工具協助虛擬環境遷移到新機器：\n1. 匯出當前環境資訊（Python 版本、套件清單、環境變數）\n2. 生成遷移報告（JSON 格式）\n3. 生成重建腳本（shell script）\n4. 包含驗證步驟\n\n### 輸出檔案\n\n- `environment.json` - 環境資訊\n- `rebuild.sh` - 重建腳本\n- `verification.py` - 驗證腳本"
    },
    {
      "cell_type": "code",
      "execution_count": null,
      "metadata": {},
      "outputs": [],
      "source": "# 在此撰寫你的程式碼\n\n"
    },
    {
      "cell_type": "markdown",
      "metadata": {},
      "source": "---\n\n## 習題 14：依賴衝突解析器 ⭐⭐⭐\n\n### 題目\n\n實作簡化版的依賴衝突解析器：\n1. 解析多個套件的版本需求\n2. 找出衝突點\n3. 嘗試找到相容的版本組合\n4. 如果無解，提供降級建議\n\n### 測試案例\n\n```python\nrequirements = {\n    'package-a': {'django': '>=4.0,<5.0', 'requests': '>=2.28'},\n    'package-b': {'django': '>=3.2,<4.0', 'numpy': '>=1.23'},\n}\n```"
    },
    {
      "cell_type": "code",
      "execution_count": null,
      "metadata": {},
      "outputs": [],
      "source": "# 在此撰寫你的程式碼\n\n"
    },
    {
      "cell_type": "markdown",
      "metadata": {},
      "source": "---\n\n## 習題 15：套件更新策略分析器 ⭐⭐⭐\n\n### 題目\n\n分析並建議套件更新策略：\n1. 區分直接依賴與間接依賴\n2. 分析更新的影響範圍\n3. 提供漸進式更新計畫\n4. 估算更新風險\n\n### 輸出範例\n\n```\n更新計畫：\n第一階段（低風險）：\n  - requests: 2.28.0 → 2.31.0 (修訂號更新)\n\n第二階段（中風險）：\n  - numpy: 1.23.0 → 1.26.0 (次版本更新)\n\n第三階段（高風險）：\n  - Django: 3.2.0 → 4.2.0 (主版本更新)\n  - 建議: 先升級到 3.2.latest，再升級到 4.0，最後到 4.2\n```"
    },
    {
      "cell_type": "code",
      "execution_count": null,
      "metadata": {},
      "outputs": [],
      "source": "# 在此撰寫你的程式碼\n\n"
    },
    {
      "cell_type": "markdown",
      "metadata": {},
      "source": "---\n\n## 習題 16：requirements.txt 最佳化工具 ⭐⭐⭐\n\n### 題目\n\n建立工具最佳化 requirements.txt：\n1. 移除間接依賴（僅保留直接依賴）\n2. 合併重複的版本限定\n3. 排序並分組\n4. 添加說明註解\n\n### 輸入範例\n\n```\n# 雜亂的 requirements.txt\nnumpy>=1.23\nDjango==4.2.0\nasgiref==3.6.0  # Django 的依賴\nnumpy>=1.20,<2.0\nrequests\n```\n\n### 預期輸出\n\n```\n# Web 框架\nDjango==4.2.0\n\n# HTTP 請求\nrequests>=2.0,<3.0  # 建議添加版本限定\n\n# 數據處理\nnumpy>=1.23,<2.0  # 合併條件\n\n# 注意: asgiref 是 Django 的依賴，已移除\n```"
    },
    {
      "cell_type": "code",
      "execution_count": null,
      "metadata": {},
      "outputs": [],
      "source": "# 在此撰寫你的程式碼\n\n"
    },
    {
      "cell_type": "markdown",
      "metadata": {},
      "source": "---\n\n## 習題 17：專案環境診斷工具 ⭐⭐⭐\n\n### 題目\n\n建立完整的專案環境診斷工具：\n1. 檢查 Python 版本\n2. 檢查虛擬環境狀態\n3. 檢查套件依賴一致性\n4. 檢查安全性問題\n5. 檢查 .gitignore 配置\n6. 生成健康報告\n\n### 報告範例\n\n```\n環境診斷報告\n===================\n\nPython 版本: 3.11.0 ✓\n\n虛擬環境: ✓\n  路徑: /project/venv\n  Python: 3.11.0\n\n依賴檢查: ⚠️\n  - Django 版本不一致: requirements.txt 指定 4.2.0，實際安裝 3.2.0\n\n安全性: ✗\n  - requests 版本過舊，存在已知漏洞\n\nGit 配置: ✓\n  - .gitignore 已正確配置\n\n建議修復:\n  1. 升級 Django: pip install Django==4.2.0\n  2. 更新 requests: pip install --upgrade requests\n```"
    },
    {
      "cell_type": "code",
      "execution_count": null,
      "metadata": {},
      "outputs": [],
      "source": "# 在此撰寫你的程式碼\n\n"
    },
    {
      "cell_type": "markdown",
      "metadata": {},
      "source": "---\n\n## 習題 18：虛擬環境自動化管理系統 ⭐⭐⭐\n\n### 題目\n\n建立完整的虛擬環境自動化管理系統，支援：\n\n**功能清單**：\n1. `create` - 建立新環境\n2. `list` - 列出所有環境\n3. `activate` - 切換環境（顯示指令）\n4. `delete` - 刪除環境\n5. `export` - 匯出環境配置\n6. `import` - 從配置重建環境\n7. `check` - 檢查環境健康狀況\n\n**資料結構**：\n- 使用 JSON 檔案儲存環境清單\n- 記錄環境名稱、路徑、Python 版本、建立時間\n\n**指令範例**：\n```python\nmanager = VenvManager()\nmanager.create('myproject', python_version='3.11')\nmanager.list()\nmanager.export('myproject', 'backup.json')\n```"
    },
    {
      "cell_type": "code",
      "execution_count": null,
      "metadata": {},
      "outputs": [],
      "source": "# 在此撰寫你的程式碼\n\n"
    },
    {
      "cell_type": "markdown",
      "metadata": {},
      "source": "---\n\n## 🎯 習題總結\n\n完成這 18 題後，你將掌握：\n\n### 基礎能力（1-6）\n- ✅ pip 基本操作\n- ✅ 環境資訊查詢\n- ✅ requirements.txt 基礎操作\n\n### 進階能力（7-12）\n- ✅ 依賴關係分析\n- ✅ 環境比對與遷移\n- ✅ 版本管理策略\n\n### 專家能力（13-18）\n- ✅ 衝突解析\n- ✅ 自動化工具開發\n- ✅ 環境診斷與最佳化\n\n---\n\n## 📝 學習建議\n\n1. **循序漸進**：從基礎題開始，逐步提升難度\n2. **實際應用**：將這些工具應用到真實專案\n3. **程式碼重構**：完成後嘗試優化程式碼結構\n4. **延伸思考**：思考如何整合這些功能成為完整工具\n\n---\n\n**下一步**：完成後對照 `05-solutions.ipynb` 檢查答案！"
    }
  ],
  "metadata": {
    "kernelspec": {
      "display_name": "Python 3",
      "language": "python",
      "name": "python3"
    },
    "language_info": {
      "codemirror_mode": {
        "name": "ipython",
        "version": 3
      },
      "file_extension": ".py",
      "mimetype": "text/x-python",
      "name": "python",
      "nbconvert_exporter": "python",
      "pygments_lexer": "ipython3",
      "version": "3.8.0"
    }
  },
  "nbformat": 4,
  "nbformat_minor": 4
}