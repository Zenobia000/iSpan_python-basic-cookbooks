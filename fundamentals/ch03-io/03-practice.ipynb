{
 "cells": [
  {
   "cell_type": "markdown",
   "metadata": {},
   "source": [
    "# Chapter 3: 輸入輸出與格式化 | Input/Output and Formatting\n",
    "\n",
    "## 🛠️ 課堂練習 | In-Class Practice\n",
    "\n",
    "本檔案包含 6 個課堂練習，預計 30 分鐘完成。\n",
    "\n",
    "---"
   ]
  },
  {
   "cell_type": "markdown",
   "metadata": {},
   "source": [
    "## 練習 1：基本輸入輸出 ⭐\n",
    "\n",
    "**題目**：建立自我介紹程式\n",
    "\n",
    "**要求**：\n",
    "1. 提示使用者輸入姓名、年齡、城市\n",
    "2. 輸出：\"你好，我是 {姓名}，今年 {年齡} 歲，來自 {城市}\""
   ]
  },
  {
   "cell_type": "code",
   "execution_count": null,
   "metadata": {},
   "outputs": [],
   "source": [
    "# 在此撰寫程式碼\n"
   ]
  },
  {
   "cell_type": "markdown",
   "metadata": {},
   "source": [
    "---\n",
    "\n",
    "## 練習 2：簡易計算機 ⭐\n",
    "\n",
    "**題目**：輸入兩個數字，計算其乘積\n",
    "\n",
    "**要求**：\n",
    "1. 提示輸入兩個數字\n",
    "2. 計算乘積\n",
    "3. 輸出：\"{num1} × {num2} = {result}\""
   ]
  },
  {
   "cell_type": "code",
   "execution_count": null,
   "metadata": {},
   "outputs": [],
   "source": [
    "# 在此撰寫程式碼\n"
   ]
  },
  {
   "cell_type": "markdown",
   "metadata": {},
   "source": [
    "---\n",
    "\n",
    "## 練習 3：格式化小數 ⭐⭐\n",
    "\n",
    "**題目**：輸入圓的半徑，計算並格式化輸出面積\n",
    "\n",
    "**要求**：\n",
    "1. 輸入半徑（float）\n",
    "2. 計算面積（πr²，π 使用 3.14159）\n",
    "3. 輸出結果保留 2 位小數"
   ]
  },
  {
   "cell_type": "code",
   "execution_count": null,
   "metadata": {},
   "outputs": [],
   "source": [
    "# 在此撰寫程式碼\n"
   ]
  },
  {
   "cell_type": "markdown",
   "metadata": {},
   "source": [
    "---\n",
    "\n",
    "## 練習 4：對齊輸出 ⭐⭐\n",
    "\n",
    "**題目**：輸入三個商品價格，輸出對齊的列表\n",
    "\n",
    "**要求**：\n",
    "1. 輸入三個商品名稱與價格\n",
    "2. 使用左對齊（品名）、右對齊（價格）\n",
    "3. 品名寬度 15，價格寬度 10"
   ]
  },
  {
   "cell_type": "code",
   "execution_count": null,
   "metadata": {},
   "outputs": [],
   "source": [
    "# 在此撰寫程式碼\n"
   ]
  },
  {
   "cell_type": "markdown",
   "metadata": {},
   "source": [
    "---\n",
    "\n",
    "## 練習 5：print() 參數 ⭐⭐\n",
    "\n",
    "**題目**：使用 sep 和 end 參數\n",
    "\n",
    "**要求**：\n",
    "1. 輸出 \"2025-10-05\"（使用 sep=\"-\"）\n",
    "2. 輸出 \"A B C\" 在同一行，中間用 \" | \" 分隔\n",
    "3. 使用 end 參數讓兩個 print 在同一行"
   ]
  },
  {
   "cell_type": "code",
   "execution_count": null,
   "metadata": {},
   "outputs": [],
   "source": [
    "# 在此撰寫程式碼\n"
   ]
  },
  {
   "cell_type": "markdown",
   "metadata": {},
   "source": [
    "---\n",
    "\n",
    "## 練習 6：多行輸入 ⭐⭐⭐\n",
    "\n",
    "**題目**：輸入三個數字（一行輸入，空格分隔），計算平均值\n",
    "\n",
    "**要求**：\n",
    "1. 提示：\"請輸入三個數字（空格分隔）：\"\n",
    "2. 使用 split() 分割輸入\n",
    "3. 計算平均並輸出（保留 2 位小數）\n",
    "\n",
    "**提示**：`numbers = input().split()`"
   ]
  },
  {
   "cell_type": "code",
   "execution_count": null,
   "metadata": {},
   "outputs": [],
   "source": [
    "# 在此撰寫程式碼\n"
   ]
  },
  {
   "cell_type": "markdown",
   "metadata": {},
   "source": [
    "---\n",
    "\n",
    "## 🎯 完成檢核\n",
    "\n",
    "- [ ] 能使用 input() 獲取輸入\n",
    "- [ ] 能轉換 input() 結果為正確型態\n",
    "- [ ] 能使用 f-string 格式化輸出\n",
    "- [ ] 能控制小數位數\n",
    "- [ ] 能使用對齊格式\n",
    "- [ ] 能使用 sep 和 end 參數"
   ]
  }
 ],
 "metadata": {
  "kernelspec": {
   "display_name": "Python 3",
   "language": "python",
   "name": "python3"
  },
  "language_info": {
   "name": "python",
   "version": "3.8.0"
  }
 },
 "nbformat": 4,
 "nbformat_minor": 4
}
