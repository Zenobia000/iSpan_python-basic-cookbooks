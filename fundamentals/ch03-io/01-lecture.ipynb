{
 "cells": [
  {
   "cell_type": "markdown",
   "metadata": {},
   "source": [
    "# Chapter 3: 輸入輸出與格式化 | Input/Output and Formatting\n",
    "\n",
    "## 📖 講義 | Lecture Notes\n",
    "\n",
    "---\n",
    "\n",
    "## Part I: 理論基礎 | Theoretical Foundations"
   ]
  },
  {
   "cell_type": "markdown",
   "metadata": {},
   "source": [
    "### 📚 章節概覽（Chapter Overview）\n",
    "\n",
    "#### 學習目標（Learning Objectives）\n",
    "完成本章後，您將能夠：\n",
    "1. 掌握 print() 與 input() 函式的使用\n",
    "2. 理解 input() 回傳字串的特性\n",
    "3. 使用 f-string 進行字串格式化\n",
    "4. 建立與使用者互動的程式\n",
    "\n",
    "#### 先備知識（Prerequisites）\n",
    "- Chapter 1: 變數與資料型態\n",
    "- Chapter 2: 運算子與表達式\n",
    "\n",
    "#### 預計時長（Estimated Time）\n",
    "- 理論學習：40 分鐘\n",
    "- 範例演練：20 分鐘\n",
    "- 總計：60 分鐘"
   ]
  },
  {
   "cell_type": "markdown",
   "metadata": {},
   "source": [
    "---\n",
    "\n",
    "### 🔑 核心概念（Key Concepts）\n",
    "\n",
    "#### 1. 什麼是輸入輸出？（What is I/O?）\n",
    "\n",
    "**定義**：\n",
    "- **輸出（Output）**：程式將資料顯示給使用者\n",
    "- **輸入（Input）**：程式從使用者獲取資料\n",
    "\n",
    "**類比**：\n",
    "```\n",
    "程式與使用者的對話：\n",
    "程式: \"請輸入你的名字\" → print()\n",
    "使用者: \"Alice\"        → input()\n",
    "程式: \"你好，Alice！\"  → print()\n",
    "```\n",
    "\n",
    "#### 2. 為什麼需要格式化？（Why Formatting?）\n",
    "\n",
    "**根本問題**：原始資料輸出不易閱讀\n",
    "\n",
    "**比較**：\n",
    "```python\n",
    "# 未格式化（難讀）\n",
    "print(3.14159265359)  # 太多小數\n",
    "\n",
    "# 格式化（易讀）\n",
    "print(f\"{3.14159265359:.2f}\")  # 3.14\n",
    "```"
   ]
  },
  {
   "cell_type": "markdown",
   "metadata": {},
   "source": [
    "---\n",
    "\n",
    "## Part II: 實作演練 | Hands-on Practice"
   ]
  },
  {
   "cell_type": "markdown",
   "metadata": {},
   "source": [
    "### 💡 範例 1：print() 基本用法\n",
    "\n",
    "最基本的輸出功能"
   ]
  },
  {
   "cell_type": "code",
   "execution_count": null,
   "metadata": {},
   "outputs": [],
   "source": [
    "# 基本輸出\n",
    "print(\"Hello, World!\")\n",
    "\n",
    "# 輸出變數\n",
    "name = \"Alice\"\n",
    "age = 25\n",
    "print(name)\n",
    "print(age)\n",
    "\n",
    "# 輸出多個值（用空格分隔）\n",
    "print(\"姓名:\", name, \"年齡:\", age)"
   ]
  },
  {
   "cell_type": "markdown",
   "metadata": {},
   "source": [
    "**關鍵要點**：\n",
    "- print() 可接受任意數量的參數\n",
    "- 預設用空格分隔，結尾換行"
   ]
  },
  {
   "cell_type": "markdown",
   "metadata": {},
   "source": [
    "---\n",
    "\n",
    "### 💡 範例 2：print() 的 sep 與 end 參數"
   ]
  },
  {
   "cell_type": "code",
   "execution_count": null,
   "metadata": {},
   "outputs": [],
   "source": [
    "# sep 參數：自訂分隔符\n",
    "print(\"2025\", \"10\", \"05\", sep=\"-\")  # 2025-10-05\n",
    "print(\"Apple\", \"Banana\", \"Cherry\", sep=\", \")  # Apple, Banana, Cherry\n",
    "\n",
    "# end 參數：自訂結尾字元\n",
    "print(\"第一行\", end=\" \")  # 不換行，改用空格\n",
    "print(\"第二行\")  # 結果：第一行 第二行\n",
    "\n",
    "# 組合使用\n",
    "print(\"A\", \"B\", \"C\", sep=\"-\", end=\"!\\n\")  # A-B-C!"
   ]
  },
  {
   "cell_type": "markdown",
   "metadata": {},
   "source": [
    "**實際應用**："
   ]
  },
  {
   "cell_type": "code",
   "execution_count": null,
   "metadata": {},
   "outputs": [],
   "source": [
    "# 應用：進度條效果\n",
    "import time\n",
    "for i in range(5):\n",
    "    print(\"#\", end=\"\", flush=True)\n",
    "    time.sleep(0.5)\n",
    "print(\" 完成！\")"
   ]
  },
  {
   "cell_type": "markdown",
   "metadata": {},
   "source": [
    "---\n",
    "\n",
    "### 💡 範例 3：input() 基本用法\n",
    "\n",
    "從使用者獲取輸入"
   ]
  },
  {
   "cell_type": "code",
   "execution_count": null,
   "metadata": {},
   "outputs": [],
   "source": [
    "# 基本輸入（顯示提示訊息）\n",
    "name = input(\"請輸入你的名字：\")\n",
    "print(f\"你好，{name}！\")\n",
    "\n",
    "# 檢查 input() 的回傳型態\n",
    "user_input = input(\"請輸入一個數字：\")\n",
    "print(f\"你輸入的是：{user_input}\")\n",
    "print(f\"型態是：{type(user_input)}\")  # <class 'str'>"
   ]
  },
  {
   "cell_type": "markdown",
   "metadata": {},
   "source": [
    "**重要提醒**：\n",
    "- input() **永遠**回傳 str\n",
    "- 即使使用者輸入數字，也是字串格式"
   ]
  },
  {
   "cell_type": "markdown",
   "metadata": {},
   "source": [
    "---\n",
    "\n",
    "### 💡 範例 4：輸入的型態轉換\n",
    "\n",
    "將字串輸入轉換為數字"
   ]
  },
  {
   "cell_type": "code",
   "execution_count": null,
   "metadata": {},
   "outputs": [],
   "source": [
    "# 獲取整數\n",
    "age_str = input(\"請輸入年齡：\")\n",
    "age = int(age_str)  # 字串轉整數\n",
    "print(f\"你今年 {age} 歲，明年 {age + 1} 歲\")\n",
    "\n",
    "# 簡化寫法（直接轉換）\n",
    "height = float(input(\"請輸入身高(cm)：\"))\n",
    "print(f\"你的身高是 {height} cm\")"
   ]
  },
  {
   "cell_type": "markdown",
   "metadata": {},
   "source": [
    "**常見錯誤**："
   ]
  },
  {
   "cell_type": "code",
   "execution_count": null,
   "metadata": {},
   "outputs": [],
   "source": [
    "# ❌ 錯誤：忘記轉換型態\n",
    "# num1 = input(\"數字1：\")  # \"5\" (str)\n",
    "# num2 = input(\"數字2：\")  # \"3\" (str)\n",
    "# result = num1 + num2     # \"53\" (字串串接，不是 8)\n",
    "\n",
    "# ✅ 正確：先轉換再運算\n",
    "num1 = int(input(\"數字1：\"))\n",
    "num2 = int(input(\"數字2：\"))\n",
    "result = num1 + num2  # 8 (數字相加)\n",
    "print(f\"相加結果：{result}\")"
   ]
  },
  {
   "cell_type": "markdown",
   "metadata": {},
   "source": [
    "---\n",
    "\n",
    "### 💡 範例 5：f-string 格式化（推薦）\n",
    "\n",
    "Python 3.6+ 的現代格式化方法"
   ]
  },
  {
   "cell_type": "code",
   "execution_count": null,
   "metadata": {},
   "outputs": [],
   "source": [
    "# 基本 f-string\n",
    "name = \"Bob\"\n",
    "age = 30\n",
    "height = 175.5\n",
    "\n",
    "# 變數插入\n",
    "print(f\"我是 {name}，今年 {age} 歲\")\n",
    "\n",
    "# 運算式插入\n",
    "print(f\"明年我 {age + 1} 歲\")\n",
    "print(f\"身高: {height / 100} 公尺\")\n",
    "\n",
    "# 方法呼叫\n",
    "print(f\"大寫名字: {name.upper()}\")"
   ]
  },
  {
   "cell_type": "markdown",
   "metadata": {},
   "source": [
    "---\n",
    "\n",
    "### 💡 範例 6：數字格式化\n",
    "\n",
    "控制數字的顯示格式"
   ]
  },
  {
   "cell_type": "code",
   "execution_count": null,
   "metadata": {},
   "outputs": [],
   "source": [
    "pi = 3.141592653589793\n",
    "\n",
    "# 控制小數位數\n",
    "print(f\"預設: {pi}\")\n",
    "print(f\"2位小數: {pi:.2f}\")\n",
    "print(f\"4位小數: {pi:.4f}\")\n",
    "\n",
    "# 千分位\n",
    "large_num = 1234567.89\n",
    "print(f\"千分位: {large_num:,.2f}\")  # 1,234,567.89\n",
    "\n",
    "# 百分比\n",
    "ratio = 0.856\n",
    "print(f\"百分比: {ratio:.1%}\")  # 85.6%"
   ]
  },
  {
   "cell_type": "markdown",
   "metadata": {},
   "source": [
    "---\n",
    "\n",
    "### 💡 範例 7：對齊與填充\n",
    "\n",
    "製作整齊的表格輸出"
   ]
  },
  {
   "cell_type": "code",
   "execution_count": null,
   "metadata": {},
   "outputs": [],
   "source": [
    "# 右對齊（數字常用）\n",
    "print(f\"{42:>10}\")    # '        42'\n",
    "print(f\"{123:>10}\")   # '       123'\n",
    "\n",
    "# 左對齊（文字常用）\n",
    "print(f\"{'Alice':<10}end\")   # 'Alice     end'\n",
    "print(f\"{'Bob':<10}end\")     # 'Bob       end'\n",
    "\n",
    "# 置中對齊\n",
    "print(f\"{'Title':^20}\")  # '       Title       '\n",
    "\n",
    "# 補零（數字）\n",
    "print(f\"{42:05d}\")       # '00042'\n",
    "print(f\"{7:03d}\")        # '007'"
   ]
  },
  {
   "cell_type": "markdown",
   "metadata": {},
   "source": [
    "**實際應用：格式化表格**"
   ]
  },
  {
   "cell_type": "code",
   "execution_count": null,
   "metadata": {},
   "outputs": [],
   "source": [
    "# 輸出對齊的表格\n",
    "print(\"學生成績表\")\n",
    "print(\"-\" * 30)\n",
    "print(f\"{'姓名':<10} {'成績':>8} {'等級':>8}\")\n",
    "print(\"-\" * 30)\n",
    "print(f\"{'Alice':<10} {95:>8d} {'A':>8}\")\n",
    "print(f\"{'Bob':<10} {82:>8d} {'B':>8}\")\n",
    "print(f\"{'Charlie':<10} {78:>8d} {'C':>8}\")\n",
    "print(\"-\" * 30)"
   ]
  },
  {
   "cell_type": "markdown",
   "metadata": {},
   "source": [
    "---\n",
    "\n",
    "### 💡 範例 8：完整的互動程式\n",
    "\n",
    "結合 input、運算、格式化輸出"
   ]
  },
  {
   "cell_type": "code",
   "execution_count": null,
   "metadata": {},
   "outputs": [],
   "source": [
    "# BMI 計算程式（互動版）\n",
    "print(\"=== BMI 計算器 ===\")\n",
    "\n",
    "# 步驟 1：獲取輸入\n",
    "name = input(\"請輸入姓名：\")\n",
    "weight = float(input(\"請輸入體重(kg)：\"))\n",
    "height_cm = float(input(\"請輸入身高(cm)：\"))\n",
    "\n",
    "# 步驟 2：計算 BMI\n",
    "height_m = height_cm / 100\n",
    "bmi = weight / (height_m ** 2)\n",
    "\n",
    "# 步驟 3：判斷健康狀況\n",
    "if bmi < 18.5:\n",
    "    status = \"體重過輕\"\n",
    "elif bmi < 24:\n",
    "    status = \"正常範圍\"\n",
    "elif bmi < 27:\n",
    "    status = \"過重\"\n",
    "else:\n",
    "    status = \"肥胖\"\n",
    "\n",
    "# 步驟 4：格式化輸出結果\n",
    "print(f\"\\n=== {name} 的 BMI 報告 ===\")\n",
    "print(f\"體重：{weight:.1f} kg\")\n",
    "print(f\"身高：{height_cm:.1f} cm\")\n",
    "print(f\"BMI：{bmi:.2f}\")\n",
    "print(f\"狀況：{status}\")"
   ]
  },
  {
   "cell_type": "markdown",
   "metadata": {},
   "source": [
    "---\n",
    "\n",
    "## Part III: 本章總結 | Chapter Summary"
   ]
  },
  {
   "cell_type": "markdown",
   "metadata": {},
   "source": [
    "### 📊 知識回顧\n",
    "\n",
    "#### 核心概念\n",
    "1. **print()**：輸出資料給使用者\n",
    "   - 參數：`sep`（分隔符）、`end`（結尾）\n",
    "2. **input()**：從使用者獲取資料\n",
    "   - 永遠回傳 str\n",
    "   - 需手動轉換型態\n",
    "3. **f-string**：格式化字串（推薦）\n",
    "   - 語法：`f\"{變數:格式規範}\"`\n",
    "\n",
    "#### 重要語法\n",
    "```python\n",
    "# 輸出\n",
    "print(value1, value2, sep=\" \", end=\"\\n\")\n",
    "\n",
    "# 輸入\n",
    "user_input = input(\"提示訊息：\")\n",
    "\n",
    "# 格式化\n",
    "f\"{變數}\"\n",
    "f\"{變數:.2f}\"      # 2位小數\n",
    "f\"{變數:>10}\"      # 右對齊寬度10\n",
    "f\"{變數:05d}\"      # 補零寬度5\n",
    "```\n",
    "\n",
    "#### 常見格式規範\n",
    "\n",
    "| 規範 | 說明 | 範例輸出 |\n",
    "|:-----|:-----|:---------|\n",
    "| `:.2f` | 浮點數2位小數 | 3.14 |\n",
    "| `:,` | 千分位 | 1,000 |\n",
    "| `:>10` | 右對齊寬度10 | \"       123\" |\n",
    "| `:<10` | 左對齊寬度10 | \"123       \" |\n",
    "| `:^10` | 置中寬度10 | \"   123    \" |\n",
    "| `:05d` | 補零寬度5 | 00123 |\n",
    "| `:.1%` | 百分比1位小數 | 85.6% |"
   ]
  },
  {
   "cell_type": "markdown",
   "metadata": {},
   "source": [
    "### ⚠️ 常見誤區（Common Pitfalls）\n",
    "\n",
    "| 誤區 | 錯誤示例 | 正確做法 |\n",
    "|:-----|:---------|:---------|\n",
    "| 忘記轉換 input() | `age = input()` 直接運算 | `age = int(input())` |\n",
    "| 字串與數字串接 | `\"年齡:\" + 25` | `f\"年齡:{25}\"` 或 `\"年齡:\" + str(25)` |\n",
    "| 格式化語法錯誤 | `f\"{pi.2f}\"` | `f\"{pi:.2f}\"` (注意冒號) |\n",
    "| 忘記 f 前綴 | `\"{name}\"` | `f\"{name}\"` |"
   ]
  },
  {
   "cell_type": "markdown",
   "metadata": {},
   "source": [
    "---\n",
    "\n",
    "### 🎯 自我檢核（Self-Check）\n",
    "\n",
    "完成本講義後，請回答以下問題：\n",
    "\n",
    "1. print() 的預設分隔符是什麼？\n",
    "2. input() 回傳的型態永遠是什麼？\n",
    "3. `f\"{3.14159:.2f}\"` 的輸出是什麼？\n",
    "4. 如何讓 print() 不換行？\n",
    "5. 如何獲取使用者輸入的整數？\n",
    "\n",
    "**參考答案**：\n",
    "1. 空格（`' '`）\n",
    "2. str（字串）\n",
    "3. `3.14`\n",
    "4. `print(..., end=\"\")`\n",
    "5. `num = int(input())`"
   ]
  },
  {
   "cell_type": "markdown",
   "metadata": {},
   "source": [
    "---\n",
    "\n",
    "### 🔗 延伸閱讀（Further Reading）\n",
    "\n",
    "#### Python 官方文件\n",
    "- [Input and Output](https://docs.python.org/3/tutorial/inputoutput.html)\n",
    "- [Format String Syntax](https://docs.python.org/3/library/string.html#format-string-syntax)\n",
    "\n",
    "#### 推薦資源\n",
    "- [Real Python: Python String Formatting](https://realpython.com/python-f-strings/)\n",
    "- [PyFormat](https://pyformat.info/)\n",
    "\n",
    "#### 下一步\n",
    "- **Milestone 1: 簡易計算機** - 整合 Ch1-3 知識\n",
    "- **Chapter 4: 條件判斷** - 根據輸入做決策\n",
    "- 完成 `02-worked-examples.ipynb`\n",
    "- 完成 `03-practice.ipynb`"
   ]
  },
  {
   "cell_type": "markdown",
   "metadata": {},
   "source": [
    "---\n",
    "\n",
    "## 💪 即時練習（Quick Practice）\n",
    "\n",
    "請在下方 cell 完成以下任務：\n",
    "\n",
    "1. 提示使用者輸入姓名、年齡、身高(cm)\n",
    "2. 計算 5 年後的年齡\n",
    "3. 將身高轉換為公尺\n",
    "4. 用格式化輸出顯示結果（小數保留 2 位）"
   ]
  },
  {
   "cell_type": "code",
   "execution_count": null,
   "metadata": {},
   "outputs": [],
   "source": [
    "# 在此撰寫你的程式碼\n",
    "\n",
    "name = input(\"姓名：\")\n",
    "age = int(input(\"年齡：\"))\n",
    "height_cm = float(input(\"身高(cm)：\"))\n",
    "\n",
    "# 計算\n",
    "future_age = \n",
    "height_m = \n",
    "\n",
    "# 輸出（使用 f-string 格式化）\n",
    "print(f\"\\n{name}，你現在 {age} 歲，5年後 {future_age} 歲\")\n",
    "print(f\"身高：{height_m:.2f} 公尺\")"
   ]
  },
  {
   "cell_type": "markdown",
   "metadata": {},
   "source": [
    "---\n",
    "\n",
    "## 📝 課後作業預告\n",
    "\n",
    "請依序完成：\n",
    "1. `02-worked-examples.ipynb` - 詳解範例（必做）\n",
    "2. `03-practice.ipynb` - 課堂練習（必做）\n",
    "3. `04-exercises.ipynb` - 課後習題（必做）\n",
    "4. **Milestone 1: 簡易計算機** - 整合專案\n",
    "\n",
    "**預計完成時間**：2-3 小時\n",
    "\n",
    "**重點提醒**：\n",
    "- input() 永遠回傳字串\n",
    "- 數字運算前必須轉換型態\n",
    "- f-string 是最推薦的格式化方法"
   ]
  }
 ],
 "metadata": {
  "kernelspec": {
   "display_name": "Python 3",
   "language": "python",
   "name": "python3"
  },
  "language_info": {
   "name": "python",
   "version": "3.8.0"
  }
 },
 "nbformat": 4,
 "nbformat_minor": 4
}
