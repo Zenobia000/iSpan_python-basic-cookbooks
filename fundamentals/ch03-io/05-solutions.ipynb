{
 "cells": [
  {
   "cell_type": "markdown",
   "metadata": {},
   "source": [
    "# Chapter 3: 輸入輸出與格式化 | Input/Output and Formatting\n",
    "\n",
    "## ✅ 習題解答 | Solutions\n",
    "\n",
    "提供所有 12 題的完整解答。\n",
    "\n",
    "---"
   ]
  },
  {
   "cell_type": "markdown",
   "metadata": {},
   "source": [
    "## 基礎題解答（1-4）\n",
    "\n",
    "### 習題 1 解答"
   ]
  },
  {
   "cell_type": "code",
   "execution_count": null,
   "metadata": {},
   "outputs": [],
   "source": [
    "name = input(\"姓名：\")\n",
    "age = int(input(\"年齡：\"))\n",
    "city = input(\"城市：\")\n",
    "print(f\"你好，我是 {name}，今年 {age} 歲，來自 {city}\")"
   ]
  },
  {
   "cell_type": "markdown",
   "metadata": {},
   "source": [
    "### 習題 2 解答"
   ]
  },
  {
   "cell_type": "code",
   "execution_count": null,
   "metadata": {},
   "outputs": [],
   "source": [
    "num1 = float(input(\"數字1：\"))\n",
    "num2 = float(input(\"數字2：\"))\n",
    "result = num1 * num2\n",
    "print(f\"{num1} × {num2} = {result}\")"
   ]
  },
  {
   "cell_type": "markdown",
   "metadata": {},
   "source": [
    "### 習題 3 解答"
   ]
  },
  {
   "cell_type": "code",
   "execution_count": null,
   "metadata": {},
   "outputs": [],
   "source": [
    "radius = float(input(\"半徑：\"))\n",
    "pi = 3.14159\n",
    "area = pi * radius ** 2\n",
    "print(f\"圓面積：{area:.2f}\")"
   ]
  },
  {
   "cell_type": "markdown",
   "metadata": {},
   "source": [
    "### 習題 4 解答"
   ]
  },
  {
   "cell_type": "code",
   "execution_count": null,
   "metadata": {},
   "outputs": [],
   "source": [
    "num = int(input(\"數字：\"))\n",
    "print(f\"千分位格式：{num:,}\")"
   ]
  },
  {
   "cell_type": "markdown",
   "metadata": {},
   "source": [
    "---\n",
    "\n",
    "## 中級題解答（5-8）\n",
    "\n",
    "### 習題 5 解答"
   ]
  },
  {
   "cell_type": "code",
   "execution_count": null,
   "metadata": {},
   "outputs": [],
   "source": [
    "name = input(\"姓名：\")\n",
    "math = int(input(\"數學：\"))\n",
    "eng = int(input(\"英文：\"))\n",
    "sci = int(input(\"自然：\"))\n",
    "\n",
    "print(f\"\\n{'科目':<10} {'成績':>8}\")\n",
    "print(\"-\" * 20)\n",
    "print(f\"{'數學':<10} {math:>8d}\")\n",
    "print(f\"{'英文':<10} {eng:>8d}\")\n",
    "print(f\"{'自然':<10} {sci:>8d}\")"
   ]
  },
  {
   "cell_type": "markdown",
   "metadata": {},
   "source": [
    "### 習題 6 解答"
   ]
  },
  {
   "cell_type": "code",
   "execution_count": null,
   "metadata": {},
   "outputs": [],
   "source": [
    "price = float(input(\"單價：\"))\n",
    "qty = int(input(\"數量：\"))\n",
    "total = price * qty\n",
    "tax_total = total * 1.05\n",
    "print(f\"總價：${total:.2f}\")\n",
    "print(f\"含稅：${tax_total:.2f}\")"
   ]
  },
  {
   "cell_type": "markdown",
   "metadata": {},
   "source": [
    "### 習題 7 解答"
   ]
  },
  {
   "cell_type": "code",
   "execution_count": null,
   "metadata": {},
   "outputs": [],
   "source": [
    "h = int(input(\"小時：\"))\n",
    "m = int(input(\"分鐘：\"))\n",
    "s = int(input(\"秒：\"))\n",
    "print(f\"{h:02d}:{m:02d}:{s:02d}\")"
   ]
  },
  {
   "cell_type": "markdown",
   "metadata": {},
   "source": [
    "### 習題 8 解答"
   ]
  },
  {
   "cell_type": "code",
   "execution_count": null,
   "metadata": {},
   "outputs": [],
   "source": [
    "numbers = input(\"輸入數字（空格分隔）：\").split()\n",
    "nums = [int(n) for n in numbers]\n",
    "total = sum(nums)\n",
    "avg = total / len(nums)\n",
    "print(f\"總和：{total}\")\n",
    "print(f\"平均：{avg:.2f}\")"
   ]
  },
  {
   "cell_type": "markdown",
   "metadata": {},
   "source": [
    "---\n",
    "\n",
    "## 挑戰題解答（9-12）\n",
    "\n",
    "### 習題 9-12 解答\n",
    "\n",
    "請參考 `02-worked-examples.ipynb` 的範例，自行組合完成。"
   ]
  }
 ],
 "metadata": {
  "kernelspec": {
   "display_name": "Python 3",
   "language": "python",
   "name": "python3"
  },
  "language_info": {
   "name": "python",
   "version": "3.8.0"
  }
 },
 "nbformat": 4,
 "nbformat_minor": 4
}
