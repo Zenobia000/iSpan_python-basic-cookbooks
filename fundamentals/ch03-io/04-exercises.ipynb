{
 "cells": [
  {
   "cell_type": "markdown",
   "metadata": {},
   "source": [
    "# Chapter 3: 輸入輸出與格式化 | Input/Output and Formatting\n",
    "\n",
    "## ✍️ 課後習題 | Exercises\n",
    "\n",
    "本檔案包含 12 道課後習題：\n",
    "- **基礎題**（1-4）：基本 I/O 操作\n",
    "- **中級題**（5-8）：格式化應用\n",
    "- **挑戰題**（9-12）：完整互動程式\n",
    "\n",
    "**預計完成時間**：60-90 分鐘\n",
    "\n",
    "---"
   ]
  },
  {
   "cell_type": "markdown",
   "metadata": {},
   "source": [
    "## 📘 基礎題（1-4）\n",
    "\n",
    "### 習題 1：個人資料 ⭐\n",
    "\n",
    "**要求**：輸入姓名、年齡，輸出 \"我是 {姓名}，{年齡} 歲\""
   ]
  },
  {
   "cell_type": "code",
   "execution_count": null,
   "metadata": {},
   "outputs": [],
   "source": [
    "# 在此撰寫程式碼\n"
   ]
  },
  {
   "cell_type": "markdown",
   "metadata": {},
   "source": [
    "### 習題 2：矩形面積 ⭐\n",
    "\n",
    "**要求**：輸入長、寬，計算並輸出矩形面積"
   ]
  },
  {
   "cell_type": "code",
   "execution_count": null,
   "metadata": {},
   "outputs": [],
   "source": [
    "# 在此撰寫程式碼\n"
   ]
  },
  {
   "cell_type": "markdown",
   "metadata": {},
   "source": [
    "### 習題 3：溫度轉換 ⭐\n",
    "\n",
    "**要求**：輸入攝氏溫度，輸出華氏溫度（保留 1 位小數）"
   ]
  },
  {
   "cell_type": "code",
   "execution_count": null,
   "metadata": {},
   "outputs": [],
   "source": [
    "# 在此撰寫程式碼\n"
   ]
  },
  {
   "cell_type": "markdown",
   "metadata": {},
   "source": [
    "### 習題 4：千分位格式 ⭐\n",
    "\n",
    "**要求**：輸入一個大數字，用千分位格式輸出"
   ]
  },
  {
   "cell_type": "code",
   "execution_count": null,
   "metadata": {},
   "outputs": [],
   "source": [
    "# 在此撰寫程式碼\n"
   ]
  },
  {
   "cell_type": "markdown",
   "metadata": {},
   "source": [
    "---\n",
    "\n",
    "## 📙 中級題（5-8）\n",
    "\n",
    "### 習題 5：表格輸出 ⭐⭐\n",
    "\n",
    "**要求**：輸入學生姓名與三科成績，輸出對齊的成績表"
   ]
  },
  {
   "cell_type": "code",
   "execution_count": null,
   "metadata": {},
   "outputs": [],
   "source": [
    "# 在此撰寫程式碼\n"
   ]
  },
  {
   "cell_type": "markdown",
   "metadata": {},
   "source": [
    "### 習題 6：價格計算 ⭐⭐\n",
    "\n",
    "**要求**：輸入單價與數量，計算總價與稅後價（5% 稅）"
   ]
  },
  {
   "cell_type": "code",
   "execution_count": null,
   "metadata": {},
   "outputs": [],
   "source": [
    "# 在此撰寫程式碼\n"
   ]
  },
  {
   "cell_type": "markdown",
   "metadata": {},
   "source": [
    "### 習題 7：時間格式化 ⭐⭐\n",
    "\n",
    "**要求**：輸入小時、分鐘、秒，輸出 \"HH:MM:SS\" 格式（補零）"
   ]
  },
  {
   "cell_type": "code",
   "execution_count": null,
   "metadata": {},
   "outputs": [],
   "source": [
    "# 在此撰寫程式碼\n"
   ]
  },
  {
   "cell_type": "markdown",
   "metadata": {},
   "source": [
    "### 習題 8：多行輸入 ⭐⭐\n",
    "\n",
    "**要求**：一行輸入多個數字（空格分隔），計算總和與平均"
   ]
  },
  {
   "cell_type": "code",
   "execution_count": null,
   "metadata": {},
   "outputs": [],
   "source": [
    "# 在此撰寫程式碼\n"
   ]
  },
  {
   "cell_type": "markdown",
   "metadata": {},
   "source": [
    "---\n",
    "\n",
    "## 📕 挑戰題（9-12）\n",
    "\n",
    "### 習題 9：購物車 ⭐⭐⭐\n",
    "\n",
    "**要求**：建立簡易購物車（2 件商品），輸出格式化收據"
   ]
  },
  {
   "cell_type": "code",
   "execution_count": null,
   "metadata": {},
   "outputs": [],
   "source": [
    "# 在此撰寫程式碼\n"
   ]
  },
  {
   "cell_type": "markdown",
   "metadata": {},
   "source": [
    "### 習題 10：BMI 計算器 ⭐⭐⭐\n",
    "\n",
    "**要求**：完整的 BMI 計算與健康建議程式"
   ]
  },
  {
   "cell_type": "code",
   "execution_count": null,
   "metadata": {},
   "outputs": [],
   "source": [
    "# 在此撰寫程式碼\n"
   ]
  },
  {
   "cell_type": "markdown",
   "metadata": {},
   "source": [
    "### 習題 11：貨幣轉換 ⭐⭐⭐\n",
    "\n",
    "**要求**：台幣轉美金（匯率 1 USD = 31.5 TWD），格式化輸出"
   ]
  },
  {
   "cell_type": "code",
   "execution_count": null,
   "metadata": {},
   "outputs": [],
   "source": [
    "# 在此撰寫程式碼\n"
   ]
  },
  {
   "cell_type": "markdown",
   "metadata": {},
   "source": [
    "### 習題 12：個人名片 ⭐⭐⭐\n",
    "\n",
    "**要求**：製作格式化的個人名片（含邊框、對齊）"
   ]
  },
  {
   "cell_type": "code",
   "execution_count": null,
   "metadata": {},
   "outputs": [],
   "source": [
    "# 在此撰寫程式碼\n"
   ]
  }
 ],
 "metadata": {
  "kernelspec": {
   "display_name": "Python 3",
   "language": "python",
   "name": "python3"
  },
  "language_info": {
   "name": "python",
   "version": "3.8.0"
  }
 },
 "nbformat": 4,
 "nbformat_minor": 4
}
