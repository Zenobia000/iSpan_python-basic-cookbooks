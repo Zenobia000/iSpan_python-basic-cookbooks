{
 "cells": [
  {
   "cell_type": "markdown",
   "metadata": {},
   "source": [
    "# Chapter 3: 輸入輸出與格式化 | Input/Output and Formatting\n",
    "\n",
    "## 💡 詳解範例 | Worked Examples\n",
    "\n",
    "本檔案提供 5 個完整的詳解範例，展示 I/O 與格式化的實際應用。\n",
    "\n",
    "---"
   ]
  },
  {
   "cell_type": "markdown",
   "metadata": {},
   "source": [
    "## 範例 1：簡易計算機（加法版）\n",
    "\n",
    "### 📝 問題描述\n",
    "建立一個簡易計算機，能夠：\n",
    "1. 讓使用者輸入兩個數字\n",
    "2. 計算兩數相加的結果\n",
    "3. 格式化輸出計算過程與結果\n",
    "\n",
    "### 🤔 解題思路\n",
    "1. 使用 input() 獲取輸入\n",
    "2. 轉換為數字型態（int 或 float）\n",
    "3. 執行運算\n",
    "4. 使用 f-string 格式化輸出"
   ]
  },
  {
   "cell_type": "code",
   "execution_count": null,
   "metadata": {},
   "outputs": [],
   "source": [
    "# 簡易計算機\n",
    "print(\"=== 簡易加法計算機 ===\")\n",
    "\n",
    "# 步驟 1：獲取輸入\n",
    "num1 = float(input(\"請輸入第一個數字：\"))\n",
    "num2 = float(input(\"請輸入第二個數字：\"))\n",
    "\n",
    "# 步驟 2：計算\n",
    "result = num1 + num2\n",
    "\n",
    "# 步驟 3：格式化輸出\n",
    "print(f\"\\n{num1} + {num2} = {result}\")\n",
    "print(f\"結果：{result:.2f}（保留兩位小數）\")"
   ]
  },
  {
   "cell_type": "markdown",
   "metadata": {},
   "source": [
    "### 🔍 重點說明\n",
    "\n",
    "1. **使用 float 而非 int**：\n",
    "   - float 可接受整數與小數\n",
    "   - 更通用的選擇\n",
    "\n",
    "2. **格式化小數位數**：\n",
    "   - `{result:.2f}` 保留兩位小數\n",
    "   - 避免顯示過多小數\n",
    "\n",
    "3. **換行輸出**：\n",
    "   - `\\n` 表示換行"
   ]
  },
  {
   "cell_type": "markdown",
   "metadata": {},
   "source": [
    "---\n",
    "\n",
    "## 範例 2：收據產生器\n",
    "\n",
    "### 📝 問題描述\n",
    "建立購物收據產生器：\n",
    "1. 輸入商品名稱、單價、數量\n",
    "2. 計算小計與總計\n",
    "3. 格式化輸出對齊的收據\n",
    "\n",
    "### 🤔 解題思路\n",
    "1. 獲取多項商品資料\n",
    "2. 計算金額\n",
    "3. 使用對齊格式化輸出整齊的表格"
   ]
  },
  {
   "cell_type": "code",
   "execution_count": null,
   "metadata": {},
   "outputs": [],
   "source": [
    "# 收據產生器\n",
    "print(\"=== 購物收據產生器 ===\")\n",
    "\n",
    "# 商品 1\n",
    "item1 = input(\"商品1名稱：\")\n",
    "price1 = float(input(\"商品1單價：\"))\n",
    "qty1 = int(input(\"商品1數量：\"))\n",
    "subtotal1 = price1 * qty1\n",
    "\n",
    "# 商品 2\n",
    "item2 = input(\"\\n商品2名稱：\")\n",
    "price2 = float(input(\"商品2單價：\"))\n",
    "qty2 = int(input(\"商品2數量：\"))\n",
    "subtotal2 = price2 * qty2\n",
    "\n",
    "# 計算總計\n",
    "total = subtotal1 + subtotal2\n",
    "tax = total * 0.05\n",
    "final_total = total + tax\n",
    "\n",
    "# 格式化輸出收據\n",
    "print(\"\\n\" + \"=\" * 45)\n",
    "print(f\"{'購物收據':^45}\")\n",
    "print(\"=\" * 45)\n",
    "print(f\"{'品名':<15} {'單價':>10} {'數量':>6} {'小計':>12}\")\n",
    "print(\"-\" * 45)\n",
    "print(f\"{item1:<15} ${price1:>9.2f} {qty1:>6d} ${subtotal1:>11.2f}\")\n",
    "print(f\"{item2:<15} ${price2:>9.2f} {qty2:>6d} ${subtotal2:>11.2f}\")\n",
    "print(\"-\" * 45)\n",
    "print(f\"{'小計':>32} ${total:>11.2f}\")\n",
    "print(f\"{'稅金(5%)':>32} ${tax:>11.2f}\")\n",
    "print(\"=\" * 45)\n",
    "print(f\"{'總計':>32} ${final_total:>11.2f}\")\n",
    "print(\"=\" * 45)"
   ]
  },
  {
   "cell_type": "markdown",
   "metadata": {},
   "source": [
    "### 🔍 重點說明\n",
    "\n",
    "1. **對齊格式**：\n",
    "   - `:<15` 左對齊（品名）\n",
    "   - `:>10` 右對齊（數字）\n",
    "   - `:^45` 置中對齊（標題）\n",
    "\n",
    "2. **寬度控制**：\n",
    "   - 品名 15 字元\n",
    "   - 單價 10 字元\n",
    "   - 確保表格整齊\n",
    "\n",
    "3. **視覺設計**：\n",
    "   - `=` 主要分隔線\n",
    "   - `-` 次要分隔線"
   ]
  },
  {
   "cell_type": "markdown",
   "metadata": {},
   "source": [
    "---\n",
    "\n",
    "## 範例 3：個人資料表單\n",
    "\n",
    "### 📝 問題描述\n",
    "建立個人資料登記表單：\n",
    "1. 收集姓名、年齡、身高、體重\n",
    "2. 計算 BMI\n",
    "3. 產生格式化的個人資料卡"
   ]
  },
  {
   "cell_type": "code",
   "execution_count": null,
   "metadata": {},
   "outputs": [],
   "source": [
    "# 個人資料表單\n",
    "print(\"=== 個人資料登記 ===\")\n",
    "\n",
    "# 收集資料\n",
    "name = input(\"姓名：\")\n",
    "age = int(input(\"年齡：\"))\n",
    "height_cm = float(input(\"身高(cm)：\"))\n",
    "weight = float(input(\"體重(kg)：\"))\n",
    "\n",
    "# 計算 BMI\n",
    "height_m = height_cm / 100\n",
    "bmi = weight / (height_m ** 2)\n",
    "\n",
    "# 判斷健康狀況\n",
    "if bmi < 18.5:\n",
    "    status = \"體重過輕\"\n",
    "elif bmi < 24:\n",
    "    status = \"正常範圍\"\n",
    "elif bmi < 27:\n",
    "    status = \"過重\"\n",
    "else:\n",
    "    status = \"肥胖\"\n",
    "\n",
    "# 輸出個人資料卡\n",
    "print(\"\\n\" + \"*\" * 50)\n",
    "print(f\"{'個人健康資料卡':*^50}\")\n",
    "print(\"*\" * 50)\n",
    "print(f\"姓名：{name}\")\n",
    "print(f\"年齡：{age} 歲\")\n",
    "print(f\"身高：{height_cm:.1f} cm ({height_m:.2f} m)\")\n",
    "print(f\"體重：{weight:.1f} kg\")\n",
    "print(\"-\" * 50)\n",
    "print(f\"BMI 指數：{bmi:.2f}\")\n",
    "print(f\"健康狀況：{status}\")\n",
    "print(\"*\" * 50)"
   ]
  },
  {
   "cell_type": "markdown",
   "metadata": {},
   "source": [
    "### 🔍 重點說明\n",
    "\n",
    "1. **單位顯示**：\n",
    "   - 同時顯示 cm 和 m\n",
    "   - 方便使用者理解\n",
    "\n",
    "2. **裝飾字元**：\n",
    "   - `:*^50` 使用 `*` 填充並置中\n",
    "   - 增加視覺效果"
   ]
  },
  {
   "cell_type": "markdown",
   "metadata": {},
   "source": [
    "---\n",
    "\n",
    "## 範例 4：成績單產生器\n",
    "\n",
    "### 📝 問題描述\n",
    "輸入三科成績，產生格式化的成績單"
   ]
  },
  {
   "cell_type": "code",
   "execution_count": null,
   "metadata": {},
   "outputs": [],
   "source": [
    "# 成績單產生器\n",
    "print(\"=== 成績單產生器 ===\")\n",
    "\n",
    "# 獲取學生資料\n",
    "student_name = input(\"學生姓名：\")\n",
    "student_id = input(\"學號：\")\n",
    "\n",
    "# 獲取成績\n",
    "print(\"\\n請輸入各科成績：\")\n",
    "math = int(input(\"數學：\"))\n",
    "english = int(input(\"英文：\"))\n",
    "science = int(input(\"自然：\"))\n",
    "\n",
    "# 計算統計資料\n",
    "total = math + english + science\n",
    "average = total / 3\n",
    "\n",
    "# 判斷等級\n",
    "if average >= 90:\n",
    "    grade = 'A'\n",
    "elif average >= 80:\n",
    "    grade = 'B'\n",
    "elif average >= 70:\n",
    "    grade = 'C'\n",
    "elif average >= 60:\n",
    "    grade = 'D'\n",
    "else:\n",
    "    grade = 'F'\n",
    "\n",
    "# 輸出成績單\n",
    "print(\"\\n\" + \"=\" * 50)\n",
    "print(f\"{'學生成績單':^50}\")\n",
    "print(\"=\" * 50)\n",
    "print(f\"姓名：{student_name:<20} 學號：{student_id}\")\n",
    "print(\"-\" * 50)\n",
    "print(f\"{'科目':<15} {'成績':>10}\")\n",
    "print(\"-\" * 50)\n",
    "print(f\"{'數學':<15} {math:>10d}\")\n",
    "print(f\"{'英文':<15} {english:>10d}\")\n",
    "print(f\"{'自然':<15} {science:>10d}\")\n",
    "print(\"=\" * 50)\n",
    "print(f\"{'總分':<15} {total:>10d}\")\n",
    "print(f\"{'平均':<15} {average:>10.2f}\")\n",
    "print(f\"{'等級':<15} {grade:>10}\")\n",
    "print(\"=\" * 50)"
   ]
  },
  {
   "cell_type": "markdown",
   "metadata": {},
   "source": [
    "### 🔍 重點說明\n",
    "\n",
    "1. **分階段輸入**：先基本資料，再成績\n",
    "2. **混合格式**：整數 `:d`、浮點數 `.2f`\n",
    "3. **視覺分隔**：`=` 主要、`-` 次要"
   ]
  },
  {
   "cell_type": "markdown",
   "metadata": {},
   "source": [
    "---\n",
    "\n",
    "## 範例 5：溫度轉換器\n",
    "\n",
    "### 📝 問題描述\n",
    "建立雙向溫度轉換器，支援攝氏與華氏互轉"
   ]
  },
  {
   "cell_type": "code",
   "execution_count": null,
   "metadata": {},
   "outputs": [],
   "source": [
    "# 溫度轉換器\n",
    "print(\"=== 溫度轉換器 ===\")\n",
    "print(\"1. 攝氏 → 華氏\")\n",
    "print(\"2. 華氏 → 攝氏\")\n",
    "\n",
    "choice = input(\"\\n請選擇 (1/2)：\")\n",
    "\n",
    "if choice == '1':\n",
    "    celsius = float(input(\"攝氏溫度：\"))\n",
    "    fahrenheit = celsius * 9 / 5 + 32\n",
    "    print(f\"\\n{celsius:.1f}°C = {fahrenheit:.1f}°F\")\n",
    "elif choice == '2':\n",
    "    fahrenheit = float(input(\"華氏溫度：\"))\n",
    "    celsius = (fahrenheit - 32) * 5 / 9\n",
    "    print(f\"\\n{fahrenheit:.1f}°F = {celsius:.1f}°C\")\n",
    "else:\n",
    "    print(\"無效選項！\")"
   ]
  },
  {
   "cell_type": "markdown",
   "metadata": {},
   "source": [
    "---\n",
    "\n",
    "## 🔗 下一步\n",
    "\n",
    "完成詳解範例後，請繼續：\n",
    "1. `03-practice.ipynb` - 課堂練習\n",
    "2. `04-exercises.ipynb` - 課後習題"
   ]
  }
 ],
 "metadata": {
  "kernelspec": {
   "display_name": "Python 3",
   "language": "python",
   "name": "python3"
  },
  "language_info": {
   "name": "python",
   "version": "3.8.0"
  }
 },
 "nbformat": 4,
 "nbformat_minor": 4
}
