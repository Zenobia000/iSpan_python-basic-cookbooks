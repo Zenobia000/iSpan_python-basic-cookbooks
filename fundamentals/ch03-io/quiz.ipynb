{
 "cells": [
  {
   "cell_type": "markdown",
   "metadata": {},
   "source": [
    "# Chapter 3: 輸入輸出與格式化 | Input/Output and Formatting\n",
    "\n",
    "## 📝 自我測驗 | Quiz\n",
    "\n",
    "**規則**：15 選擇題（60分）+ 5 程式題（40分）= 100 分\n",
    "\n",
    "---"
   ]
  },
  {
   "cell_type": "markdown",
   "metadata": {},
   "source": [
    "## 選擇題答案\n",
    "\n",
    "1. C - input() 永遠回傳 str\n",
    "2. A - .2f 保留 2 位小數\n",
    "3. B - 預設空格分隔\n",
    "4. B - end=\"\" 不換行\n",
    "5. B - 05d 寬度 5 補零"
   ]
  }
 ],
 "metadata": {
  "kernelspec": {
   "display_name": "Python 3",
   "language": "python",
   "name": "python3"
  },
  "language_info": {
   "name": "python",
   "version": "3.8.0"
  }
 },
 "nbformat": 4,
 "nbformat_minor": 4
}
