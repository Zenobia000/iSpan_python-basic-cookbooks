{
 "cells": [
  {
   "cell_type": "markdown",
   "metadata": {},
   "source": [
    "# Ch21: 自訂例外與 raise - 自我測驗",
    "",
    "本測驗包含 **12 題選擇題** 與 **5 題程式題**,用於檢驗學習成果。",
    "",
    "## 測驗資訊",
    "- **題型**：選擇題 12 題（每題 5 分）+ 程式題 5 題（每題 8 分）",
    "- **總分**：100 分",
    "- **及格**：75 分",
    "- **時間**：25 分鐘",
    "",
    "## 作答說明",
    "1. 選擇題：在程式碼註解中填入答案（A/B/C/D）",
    "2. 程式題：撰寫完整程式碼",
    "3. 完成後執行所有 cell 檢查答案"
   ]
  },
  {
   "cell_type": "markdown",
   "metadata": {},
   "source": [
    "---",
    "",
    "## Part 1: 選擇題（60 分）",
    "",
    "### Q1. raise 的用途（5 分）",
    "以下何者**不是** `raise` 的正確用法？",
    "",
    "A. `raise ValueError(\"錯誤\")`",
    "B. `raise`（在 except 區塊中）",
    "C. `raise Exception from e`",
    "D. `raise(\"錯誤訊息\")`",
    "",
    "**答案**："
   ]
  },
  {
   "cell_type": "code",
   "execution_count": null,
   "metadata": {},
   "outputs": [],
   "source": [
    "# Q1 答案",
    "answer_q1 = \"\"  # 填入 A, B, C, 或 D"
   ]
  },
  {
   "cell_type": "markdown",
   "metadata": {},
   "source": [
    "### Q2. 自訂例外繼承（5 分）",
    "建立自訂例外時,應該繼承哪個類別？",
    "",
    "A. `BaseException`",
    "B. `Exception`",
    "C. `Error`",
    "D. `object`",
    "",
    "**答案**："
   ]
  },
  {
   "cell_type": "code",
   "execution_count": null,
   "metadata": {},
   "outputs": [],
   "source": [
    "# Q2 答案",
    "answer_q2 = \"\"  # 填入 A, B, C, 或 D"
   ]
  },
  {
   "cell_type": "markdown",
   "metadata": {},
   "source": [
    "### Q3. 例外鏈語法（5 分）",
    "以下哪個語法可以建立例外鏈？",
    "",
    "A. `raise NewError()`",
    "B. `raise NewError() from original_error`",
    "C. `raise NewError(original_error)`",
    "D. `raise NewError().from(original_error)`",
    "",
    "**答案**："
   ]
  },
  {
   "cell_type": "code",
   "execution_count": null,
   "metadata": {},
   "outputs": [],
   "source": [
    "# Q3 答案",
    "answer_q3 = \"\"  # 填入 A, B, C, 或 D"
   ]
  },
  {
   "cell_type": "markdown",
   "metadata": {},
   "source": [
    "### Q4-Q12 選擇題（簡化版）",
    "",
    "請繼續作答以下選擇題：",
    "",
    "**Q4**. assert vs raise: 哪個用於除錯檢查？ (答案：assert)",
    "**Q5**. `raise` vs `raise e`: 哪個保留原始 traceback？ (答案：raise)",
    "**Q6**. 例外階層：基底類別應該放在哪一層？ (答案：最上層)",
    "**Q7**. `__cause__` vs `__context__`: 哪個是顯式例外鏈？ (答案：__cause__)",
    "**Q8**. `from None` 的作用？ (答案：抑制例外鏈)",
    "**Q9**. 分層捕獲：應該先捕獲哪種例外？ (答案：具體例外)",
    "**Q10**. super().__init__() 的作用？ (答案：呼叫父類建構子)",
    "**Q11**. assert 可被停用的選項？ (答案：python -O)",
    "**Q12**. 例外訊息最佳實踐？ (答案：包含足夠除錯資訊)"
   ]
  },
  {
   "cell_type": "code",
   "execution_count": null,
   "metadata": {},
   "outputs": [],
   "source": [
    "# Q4-Q12 答案（簡化版）",
    "answers = {",
    "    \"Q4\": \"assert\",",
    "    \"Q5\": \"raise\",",
    "    \"Q6\": \"最上層\",",
    "    \"Q7\": \"__cause__\",",
    "    \"Q8\": \"抑制例外鏈\",",
    "    \"Q9\": \"具體例外\",",
    "    \"Q10\": \"呼叫父類建構子\",",
    "    \"Q11\": \"python -O\",",
    "    \"Q12\": \"包含足夠除錯資訊\"",
    "}",
    "",
    "print(\"選擇題完成！\")"
   ]
  },
  {
   "cell_type": "markdown",
   "metadata": {},
   "source": [
    "---",
    "",
    "## Part 2: 程式題（40 分）",
    "",
    "### P1. 建立簡單例外（8 分）",
    "建立 `DivisionByZeroError` 例外,繼承 `ArithmeticError`。",
    "",
    "要求：",
    "- 接受參數 `dividend`（被除數）",
    "- 錯誤訊息：`\"無法將 {dividend} 除以 0\"`"
   ]
  },
  {
   "cell_type": "code",
   "execution_count": null,
   "metadata": {},
   "outputs": [],
   "source": [
    "# P1: 請撰寫程式碼",
    "",
    "class DivisionByZeroError(ArithmeticError):",
    "    # TODO: 完成定義",
    "    pass",
    "",
    "# 測試",
    "try:",
    "    raise DivisionByZeroError(10)",
    "except DivisionByZeroError as e:",
    "    print(f\"錯誤：{e}\")"
   ]
  },
  {
   "cell_type": "markdown",
   "metadata": {},
   "source": [
    "### P2. 例外階層（8 分）",
    "建立資料驗證的例外階層。",
    "",
    "要求：",
    "- `ValidationError` (基底)",
    "- `EmailError` (Email 錯誤，繼承 ValidationError)",
    "- `PasswordError` (密碼錯誤，繼承 ValidationError)"
   ]
  },
  {
   "cell_type": "code",
   "execution_count": null,
   "metadata": {},
   "outputs": [],
   "source": [
    "# P2: 請撰寫程式碼",
    "",
    "# TODO: 定義三個例外類別",
    "",
    "",
    "# 測試",
    "try:",
    "    raise EmailError(\"test@example\", \"缺少網域\")",
    "except ValidationError as e:",
    "    print(f\"驗證錯誤：{e}\")"
   ]
  },
  {
   "cell_type": "markdown",
   "metadata": {},
   "source": [
    "### P3. 例外鏈（8 分）",
    "實作 `parse_json(text)` 函式,使用例外鏈。",
    "",
    "要求：",
    "- 捕獲 `json.JSONDecodeError`",
    "- 拋出 `DataError(\"無法解析 JSON\")`,使用 raise...from"
   ]
  },
  {
   "cell_type": "code",
   "execution_count": null,
   "metadata": {},
   "outputs": [],
   "source": [
    "# P3: 請撰寫程式碼",
    "",
    "import json",
    "",
    "class DataError(Exception):",
    "    pass",
    "",
    "def parse_json(text):",
    "    # TODO: 完成函式",
    "    pass",
    "",
    "# 測試",
    "try:",
    "    parse_json(\"{invalid}\")",
    "except DataError as e:",
    "    print(f\"錯誤：{e}\")",
    "    print(f\"原始錯誤：{e.__cause__}\")"
   ]
  },
  {
   "cell_type": "markdown",
   "metadata": {},
   "source": [
    "### P4. assert vs raise（8 分）",
    "修正以下程式碼,使用正確的 assert 或 raise。",
    "",
    "```python",
    "def withdraw(balance, amount):",
    "    if balance is None:  # 內部假設",
    "        print(\"錯誤\")",
    "    if amount < 0:  # 外部驗證",
    "        print(\"錯誤\")",
    "    return balance - amount",
    "```"
   ]
  },
  {
   "cell_type": "code",
   "execution_count": null,
   "metadata": {},
   "outputs": [],
   "source": [
    "# P4: 請修正程式碼",
    "",
    "def withdraw(balance, amount):",
    "    # TODO: 修正檢查方式",
    "    pass",
    "",
    "# 測試",
    "print(withdraw(1000, 100))",
    "",
    "try:",
    "    withdraw(1000, -100)",
    "except ValueError as e:",
    "    print(f\"捕獲例外：{e}\")"
   ]
  },
  {
   "cell_type": "markdown",
   "metadata": {},
   "source": [
    "### P5. 綜合應用（8 分）",
    "建立一個簡單的帳戶系統。",
    "",
    "要求：",
    "1. 定義 `AccountError` 基底類別",
    "2. 定義 `InsufficientFundsError`,攜帶 `balance` 和 `amount` 屬性",
    "3. 實作 `Account.withdraw(amount)` 方法：",
    "   - 餘額不足時拋出 `InsufficientFundsError`",
    "   - 成功時扣除金額並回傳新餘額"
   ]
  },
  {
   "cell_type": "code",
   "execution_count": null,
   "metadata": {},
   "outputs": [],
   "source": [
    "# P5: 請撰寫程式碼",
    "",
    "# TODO: 定義例外",
    "class AccountError(Exception):",
    "    pass",
    "",
    "class InsufficientFundsError(AccountError):",
    "    pass",
    "",
    "# TODO: 實作 Account 類別",
    "class Account:",
    "    def __init__(self, balance):",
    "        self.balance = balance",
    "",
    "    def withdraw(self, amount):",
    "        # TODO: 實作邏輯",
    "        pass",
    "",
    "# 測試",
    "account = Account(1000)",
    "",
    "try:",
    "    new_balance = account.withdraw(500)",
    "    print(f\"提款成功，餘額：{new_balance}\")",
    "except InsufficientFundsError as e:",
    "    print(f\"餘額不足：{e}\")",
    "",
    "try:",
    "    account.withdraw(1000)",
    "except InsufficientFundsError as e:",
    "    print(f\"餘額不足：需要 ${e.amount}，只有 ${e.balance}\")"
   ]
  },
  {
   "cell_type": "markdown",
   "metadata": {},
   "source": [
    "---",
    "",
    "## 測驗結束",
    "",
    "### 評分標準",
    "- **選擇題**：12 題 × 5 分 = 60 分",
    "- **程式題**：5 題 × 8 分 = 40 分",
    "- **總分**：100 分",
    "- **及格**：75 分",
    "",
    "### 自我檢核",
    "完成測驗後，請檢查：",
    "- [ ] 能正確建立自訂例外類別",
    "- [ ] 理解例外繼承關係",
    "- [ ] 會使用 raise 的三種形式",
    "- [ ] 能區分 assert 與 raise",
    "- [ ] 理解例外鏈的概念",
    "- [ ] 能設計簡單的例外階層",
    "",
    "### 學習建議",
    "- 分數 < 60：重新閱讀 README.md 和 01-lecture.ipynb",
    "- 分數 60-75：複習 02-worked-examples.ipynb",
    "- 分數 > 75：嘗試 Milestone 6 專案",
    "",
    "**恭喜完成 Ch21！**"
   ]
  }
 ],
 "metadata": {
  "kernelspec": {
   "display_name": "Python 3",
   "language": "python",
   "name": "python3"
  },
  "language_info": {
   "codemirror_mode": {
    "name": "ipython",
    "version": 3
   },
   "file_extension": ".py",
   "mimetype": "text/x-python",
   "name": "python",
   "nbconvert_exporter": "python",
   "pygments_lexer": "ipython3",
   "version": "3.8.0"
  }
 },
 "nbformat": 4,
 "nbformat_minor": 4
}