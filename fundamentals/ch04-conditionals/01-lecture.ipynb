{
 "cells": [
  {
   "cell_type": "markdown",
   "metadata": {},
   "source": [
    "# Chapter 4: 條件判斷 | Conditionals\n",
    "\n",
    "---\n",
    "\n",
    "## Part I: 理論基礎 | Theoretical Foundation\n",
    "\n",
    "### 章節概覽 | Chapter Overview\n",
    "\n",
    "**學習目標 | Learning Objectives**\n",
    "- 理解條件判斷的本質與用途\n",
    "- 掌握 if/elif/else 語法結構\n",
    "- 熟練使用比較與邏輯運算子\n",
    "- 實作巢狀條件與複雜邏輯\n",
    "\n",
    "**先備知識 | Prerequisites**\n",
    "- Ch01: 變數與資料型態（布林值）\n",
    "- Ch02: 運算子與表達式（比較運算子）\n",
    "- Ch03: 基本輸入輸出\n",
    "\n",
    "**預計學習時間 | Estimated Time**\n",
    "- 理論學習：40 分鐘\n",
    "- 範例演練：60 分鐘\n",
    "- 實作練習：80 分鐘"
   ]
  },
  {
   "cell_type": "markdown",
   "metadata": {},
   "source": [
    "---\n",
    "\n",
    "### 1. 為什麼需要條件判斷？ | Why Do We Need Conditionals?\n",
    "\n",
    "#### First Principles 分析\n",
    "\n",
    "**根本問題**：程式如何根據不同情況做出不同決策？\n",
    "\n",
    "**現實世界的決策流程**：\n",
    "```\n",
    "情境 1: 出門前\n",
    "├─ 如果下雨 → 帶雨傘\n",
    "└─ 否則 → 不帶雨傘\n",
    "\n",
    "情境 2: ATM 提款\n",
    "├─ 如果密碼正確 → 允許提款\n",
    "└─ 否則 → 拒絕並顯示錯誤\n",
    "\n",
    "情境 3: 成績評等\n",
    "├─ 如果分數 >= 90 → 優秀\n",
    "├─ 如果分數 >= 80 → 良好\n",
    "├─ 如果分數 >= 60 → 及格\n",
    "└─ 否則 → 不及格\n",
    "```\n",
    "\n",
    "**程式的本質**：條件判斷讓程式具備「智能行為」，能夠根據狀態變化做出反應。"
   ]
  },
  {
   "cell_type": "code",
   "execution_count": null,
   "metadata": {},
   "outputs": [],
   "source": [
    "# 沒有條件判斷的程式 - 呆板、固定\n",
    "print(\"帶雨傘\")\n",
    "\n",
    "# 有條件判斷的程式 - 靈活、智能\n",
    "is_raining = True\n",
    "\n",
    "if is_raining:\n",
    "    print(\"帶雨傘\")\n",
    "else:\n",
    "    print(\"不帶雨傘\")"
   ]
  },
  {
   "cell_type": "markdown",
   "metadata": {},
   "source": [
    "---\n",
    "\n",
    "### 2. if 語句：最簡單的條件判斷 | The Simplest Conditional\n",
    "\n",
    "#### 語法結構 | Syntax\n",
    "\n",
    "```python\n",
    "if 條件表達式:\n",
    "    執行區塊\n",
    "```\n",
    "\n",
    "#### 三個核心要素\n",
    "\n",
    "1. **`if` 關鍵字**：標記條件判斷的開始\n",
    "2. **條件表達式**：計算結果必須是布林值（True/False）\n",
    "3. **執行區塊**：縮排的程式碼，條件為真時執行\n",
    "\n",
    "#### 執行流程\n",
    "\n",
    "```\n",
    "開始\n",
    " ↓\n",
    "評估條件\n",
    " ├─ True → 執行縮排區塊\n",
    " └─ False → 跳過縮排區塊\n",
    " ↓\n",
    "繼續後續程式\n",
    "```"
   ]
  },
  {
   "cell_type": "code",
   "execution_count": null,
   "metadata": {},
   "outputs": [],
   "source": [
    "# 範例：成年判斷\n",
    "age = 20\n",
    "\n",
    "if age >= 18:\n",
    "    print(\"已成年\")\n",
    "    print(\"可以投票\")\n",
    "\n",
    "print(\"程式繼續執行\")  # 無論條件是否成立都會執行"
   ]
  },
  {
   "cell_type": "code",
   "execution_count": null,
   "metadata": {},
   "outputs": [],
   "source": [
    "# 測試：將 age 改為 15，觀察輸出變化\n",
    "age = 15\n",
    "\n",
    "if age >= 18:\n",
    "    print(\"已成年\")\n",
    "    print(\"可以投票\")\n",
    "\n",
    "print(\"程式繼續執行\")"
   ]
  },
  {
   "cell_type": "markdown",
   "metadata": {},
   "source": [
    "---\n",
    "\n",
    "### 3. if-else 語句：二選一邏輯 | Binary Choice\n",
    "\n",
    "#### 語法結構\n",
    "\n",
    "```python\n",
    "if 條件表達式:\n",
    "    條件為真時執行\n",
    "else:\n",
    "    條件為假時執行\n",
    "```\n",
    "\n",
    "#### 特點\n",
    "- 兩個分支**互斥**：只會執行其中一個\n",
    "- 必定執行其一：沒有「跳過」的可能\n",
    "- `else` 不需要條件：自動處理「其他所有情況」"
   ]
  },
  {
   "cell_type": "code",
   "execution_count": null,
   "metadata": {},
   "outputs": [],
   "source": [
    "# 範例：奇偶數判斷\n",
    "number = 7\n",
    "\n",
    "if number % 2 == 0:\n",
    "    print(f\"{number} 是偶數\")\n",
    "else:\n",
    "    print(f\"{number} 是奇數\")"
   ]
  },
  {
   "cell_type": "code",
   "execution_count": null,
   "metadata": {},
   "outputs": [],
   "source": [
    "# 範例：密碼驗證\n",
    "password = \"python123\"\n",
    "user_input = \"python123\"\n",
    "\n",
    "if user_input == password:\n",
    "    print(\"登入成功！\")\n",
    "else:\n",
    "    print(\"密碼錯誤！\")"
   ]
  },
  {
   "cell_type": "markdown",
   "metadata": {},
   "source": [
    "---\n",
    "\n",
    "### 4. if-elif-else 語句：多選一邏輯 | Multiple Choices\n",
    "\n",
    "#### 語法結構\n",
    "\n",
    "```python\n",
    "if 條件1:\n",
    "    條件1為真時執行\n",
    "elif 條件2:\n",
    "    條件2為真時執行\n",
    "elif 條件3:\n",
    "    條件3為真時執行\n",
    "else:\n",
    "    所有條件都為假時執行\n",
    "```\n",
    "\n",
    "#### 執行邏輯\n",
    "1. 從上到下依序檢查每個條件\n",
    "2. 找到第一個為真的條件就執行，其餘全部跳過\n",
    "3. 如果都不滿足，執行 `else` 區塊（如果有的話）\n",
    "\n",
    "#### 重要特性\n",
    "- **短路特性**：一旦找到為真的條件，後續不再檢查\n",
    "- **順序重要**：條件判斷順序影響程式邏輯\n",
    "- **可省略 else**：不是每種情況都需要處理"
   ]
  },
  {
   "cell_type": "code",
   "execution_count": null,
   "metadata": {},
   "outputs": [],
   "source": [
    "# 範例：成績分級\n",
    "score = 85\n",
    "\n",
    "if score >= 90:\n",
    "    grade = \"A 優秀\"\n",
    "elif score >= 80:\n",
    "    grade = \"B 良好\"\n",
    "elif score >= 70:\n",
    "    grade = \"C 中等\"\n",
    "elif score >= 60:\n",
    "    grade = \"D 及格\"\n",
    "else:\n",
    "    grade = \"F 不及格\"\n",
    "\n",
    "print(f\"分數 {score}，等級 {grade}\")"
   ]
  },
  {
   "cell_type": "code",
   "execution_count": null,
   "metadata": {},
   "outputs": [],
   "source": [
    "# 錯誤示範：條件順序錯誤\n",
    "score = 95\n",
    "\n",
    "# ❌ 錯誤：永遠不會顯示「優秀」\n",
    "if score >= 60:\n",
    "    print(\"及格\")  # 95 >= 60 為真，直接執行這裡\n",
    "elif score >= 90:\n",
    "    print(\"優秀\")  # 永遠不會執行到這裡"
   ]
  },
  {
   "cell_type": "markdown",
   "metadata": {},
   "source": [
    "---\n",
    "\n",
    "### 5. 縮排的重要性 | Indentation Matters\n",
    "\n",
    "#### Python 的設計哲學\n",
    "- Python 使用**縮排**來定義程式碼區塊（而非大括號 `{}`）\n",
    "- 縮排是語法的一部分，錯誤的縮排會導致 `IndentationError`\n",
    "- 標準縮排：**4 個空格**（不要使用 Tab）\n",
    "\n",
    "#### 縮排規則\n",
    "1. 同一區塊的程式碼必須有相同的縮排層級\n",
    "2. 內層區塊比外層多一層縮排\n",
    "3. 縮排必須一致（不要混用空格和 Tab）"
   ]
  },
  {
   "cell_type": "code",
   "execution_count": null,
   "metadata": {},
   "outputs": [],
   "source": [
    "# ✅ 正確的縮排\n",
    "age = 20\n",
    "\n",
    "if age >= 18:\n",
    "    print(\"已成年\")  # 第一層縮排\n",
    "    print(\"可以投票\")  # 同樣第一層縮排\n",
    "\n",
    "print(\"程式繼續\")  # 無縮排，不屬於 if 區塊"
   ]
  },
  {
   "cell_type": "code",
   "execution_count": null,
   "metadata": {},
   "outputs": [],
   "source": [
    "# ❌ 錯誤示範：縮排不一致\n",
    "# 以下程式碼會產生 IndentationError\n",
    "\n",
    "# if age >= 18:\n",
    "#     print(\"已成年\")  # 4 個空格\n",
    "#   print(\"可以投票\")  # 2 個空格 - 錯誤！"
   ]
  },
  {
   "cell_type": "markdown",
   "metadata": {},
   "source": [
    "---\n",
    "\n",
    "## Part II: 實作演練 | Practical Examples\n",
    "\n",
    "### 範例 1：單一條件判斷 - 溫度警示"
   ]
  },
  {
   "cell_type": "code",
   "execution_count": null,
   "metadata": {},
   "outputs": [],
   "source": [
    "# 情境：當溫度超過 35 度時發出高溫警告\n",
    "temperature = 38\n",
    "\n",
    "if temperature > 35:\n",
    "    print(\"⚠️ 高溫警告！\")\n",
    "    print(f\"當前溫度：{temperature}°C\")\n",
    "    print(\"請注意防曬和補充水分\")\n",
    "\n",
    "print(\"天氣播報結束\")"
   ]
  },
  {
   "cell_type": "markdown",
   "metadata": {},
   "source": [
    "**知識點**：\n",
    "- 單一 `if` 語句：只處理特定情況\n",
    "- 多行執行區塊：相同縮排的程式碼屬於同一區塊\n",
    "- 條件為假時跳過：溫度 ≤ 35 不會顯示警告"
   ]
  },
  {
   "cell_type": "markdown",
   "metadata": {},
   "source": [
    "---\n",
    "\n",
    "### 範例 2：if-else 二選一 - 購物折扣"
   ]
  },
  {
   "cell_type": "code",
   "execution_count": null,
   "metadata": {},
   "outputs": [],
   "source": [
    "# 情境：會員享 8 折，非會員原價\n",
    "price = 1000\n",
    "is_member = True\n",
    "\n",
    "if is_member:\n",
    "    final_price = price * 0.8\n",
    "    print(\"您是會員，享有 8 折優惠\")\n",
    "else:\n",
    "    final_price = price\n",
    "    print(\"您不是會員，以原價購買\")\n",
    "\n",
    "print(f\"應付金額：${final_price}\")"
   ]
  },
  {
   "cell_type": "markdown",
   "metadata": {},
   "source": [
    "**知識點**：\n",
    "- `if-else` 確保必定執行其中一個分支\n",
    "- 使用布林變數 `is_member` 作為條件\n",
    "- 兩個分支都可以設定 `final_price` 變數"
   ]
  },
  {
   "cell_type": "markdown",
   "metadata": {},
   "source": [
    "---\n",
    "\n",
    "### 範例 3：if-elif-else 多選一 - BMI 健康評估"
   ]
  },
  {
   "cell_type": "code",
   "execution_count": null,
   "metadata": {},
   "outputs": [],
   "source": [
    "# 情境：根據 BMI 值評估健康狀況\n",
    "weight = 70  # 公斤\n",
    "height = 1.75  # 公尺\n",
    "\n",
    "bmi = weight / (height ** 2)\n",
    "print(f\"您的 BMI 值：{bmi:.2f}\")\n",
    "\n",
    "if bmi < 18.5:\n",
    "    category = \"過輕\"\n",
    "    suggestion = \"建議增加營養攝取\"\n",
    "elif bmi < 24:\n",
    "    category = \"正常\"\n",
    "    suggestion = \"請維持健康生活習慣\"\n",
    "elif bmi < 27:\n",
    "    category = \"過重\"\n",
    "    suggestion = \"建議控制飲食並增加運動\"\n",
    "else:\n",
    "    category = \"肥胖\"\n",
    "    suggestion = \"建議諮詢醫師或營養師\"\n",
    "\n",
    "print(f\"健康評估：{category}\")\n",
    "print(f\"建議：{suggestion}\")"
   ]
  },
  {
   "cell_type": "markdown",
   "metadata": {},
   "source": [
    "**知識點**：\n",
    "- 多層級分類：4 個互斥類別\n",
    "- 條件順序：從小到大依序判斷\n",
    "- 範圍判斷：`bmi < 24` 等同於 `18.5 <= bmi < 24`（因為已經排除 < 18.5）"
   ]
  },
  {
   "cell_type": "markdown",
   "metadata": {},
   "source": [
    "---\n",
    "\n",
    "### 範例 4：比較運算子應用 - 數值範圍判斷"
   ]
  },
  {
   "cell_type": "code",
   "execution_count": null,
   "metadata": {},
   "outputs": [],
   "source": [
    "# 六種比較運算子示範\n",
    "a = 10\n",
    "b = 20\n",
    "\n",
    "print(f\"a = {a}, b = {b}\")\n",
    "print(f\"a > b: {a > b}\")      # 大於\n",
    "print(f\"a < b: {a < b}\")      # 小於\n",
    "print(f\"a >= b: {a >= b}\")    # 大於等於\n",
    "print(f\"a <= b: {a <= b}\")    # 小於等於\n",
    "print(f\"a == b: {a == b}\")    # 等於\n",
    "print(f\"a != b: {a != b}\")    # 不等於"
   ]
  },
  {
   "cell_type": "code",
   "execution_count": null,
   "metadata": {},
   "outputs": [],
   "source": [
    "# Python 特有：鏈式比較（範圍判斷）\n",
    "score = 75\n",
    "\n",
    "# 傳統寫法\n",
    "if score >= 60 and score < 80:\n",
    "    print(\"及格但未達良好\")\n",
    "\n",
    "# Python 鏈式比較（更簡潔）\n",
    "if 60 <= score < 80:\n",
    "    print(\"及格但未達良好\")"
   ]
  },
  {
   "cell_type": "markdown",
   "metadata": {},
   "source": [
    "**知識點**：\n",
    "- 比較運算子返回布林值\n",
    "- `==` 用於比較，`=` 用於賦值（常見錯誤！）\n",
    "- Python 支援鏈式比較：`a < b < c` 等同於 `a < b and b < c`"
   ]
  },
  {
   "cell_type": "markdown",
   "metadata": {},
   "source": [
    "---\n",
    "\n",
    "### 範例 5：邏輯運算子 - and, or, not"
   ]
  },
  {
   "cell_type": "code",
   "execution_count": null,
   "metadata": {},
   "outputs": [],
   "source": [
    "# 1. and 運算子：兩個條件都要成立\n",
    "username = \"alice\"\n",
    "password = \"secret123\"\n",
    "\n",
    "if username == \"alice\" and password == \"secret123\":\n",
    "    print(\"登入成功！\")\n",
    "else:\n",
    "    print(\"帳號或密碼錯誤\")"
   ]
  },
  {
   "cell_type": "code",
   "execution_count": null,
   "metadata": {},
   "outputs": [],
   "source": [
    "# 2. or 運算子：至少一個條件成立\n",
    "total_spent = 8000\n",
    "is_vip = False\n",
    "\n",
    "# VIP 或消費滿 10000 可享優惠\n",
    "if is_vip or total_spent >= 10000:\n",
    "    print(\"您可享有折扣優惠\")\n",
    "else:\n",
    "    print(\"不符合優惠條件\")"
   ]
  },
  {
   "cell_type": "code",
   "execution_count": null,
   "metadata": {},
   "outputs": [],
   "source": [
    "# 3. not 運算子：邏輯反轉\n",
    "is_weekend = False\n",
    "\n",
    "if not is_weekend:\n",
    "    print(\"今天要上班\")\n",
    "else:\n",
    "    print(\"今天是週末，休息！\")"
   ]
  },
  {
   "cell_type": "code",
   "execution_count": null,
   "metadata": {},
   "outputs": [],
   "source": [
    "# 4. 組合使用：複雜邏輯\n",
    "age = 25\n",
    "has_license = True\n",
    "has_car = False\n",
    "\n",
    "# 判斷是否可以租車：年滿 18 歲且有駕照\n",
    "if age >= 18 and has_license:\n",
    "    print(\"✅ 您可以租車\")\n",
    "    \n",
    "    # 判斷是否需要租車：有駕照但沒車\n",
    "    if has_license and not has_car:\n",
    "        print(\"💡 推薦您我們的租車優惠方案\")\n",
    "else:\n",
    "    print(\"❌ 不符合租車條件\")"
   ]
  },
  {
   "cell_type": "markdown",
   "metadata": {},
   "source": [
    "**邏輯運算子真值表**：\n",
    "\n",
    "```\n",
    "and 運算（AND）：\n",
    "A     B     A and B\n",
    "True  True     True\n",
    "True  False    False\n",
    "False True     False\n",
    "False False    False\n",
    "\n",
    "or 運算（OR）：\n",
    "A     B     A or B\n",
    "True  True     True\n",
    "True  False    True\n",
    "False True     True\n",
    "False False    False\n",
    "\n",
    "not 運算（NOT）：\n",
    "A     not A\n",
    "True  False\n",
    "False True\n",
    "```"
   ]
  },
  {
   "cell_type": "markdown",
   "metadata": {},
   "source": [
    "---\n",
    "\n",
    "### 範例 6：巢狀條件 - 層級邏輯"
   ]
  },
  {
   "cell_type": "code",
   "execution_count": null,
   "metadata": {},
   "outputs": [],
   "source": [
    "# 情境：電影分級系統\n",
    "age = 16\n",
    "has_parent = False\n",
    "movie_rating = \"R\"  # G: 普遍級, PG: 保護級, R: 限制級\n",
    "\n",
    "if movie_rating == \"G\":\n",
    "    print(\"✅ 普遍級，所有人都可觀看\")\n",
    "elif movie_rating == \"PG\":\n",
    "    if age >= 12:\n",
    "        print(\"✅ 保護級，12 歲以上可觀看\")\n",
    "    else:\n",
    "        if has_parent:\n",
    "            print(\"✅ 保護級，需家長陪同觀看\")\n",
    "        else:\n",
    "            print(\"❌ 未滿 12 歲需家長陪同\")\n",
    "elif movie_rating == \"R\":\n",
    "    if age >= 18:\n",
    "        print(\"✅ 限制級，18 歲以上可觀看\")\n",
    "    else:\n",
    "        print(\"❌ 未滿 18 歲不得觀看\")\n",
    "else:\n",
    "    print(\"⚠️ 未知的分級\")"
   ]
  },
  {
   "cell_type": "markdown",
   "metadata": {},
   "source": [
    "**知識點**：\n",
    "- 巢狀條件：條件內再包含條件\n",
    "- 縮排層級：內層比外層多一層縮排\n",
    "- 可讀性考量：避免超過 3 層巢狀"
   ]
  },
  {
   "cell_type": "code",
   "execution_count": null,
   "metadata": {},
   "outputs": [],
   "source": [
    "# 優化技巧：提早返回（使用函式時）\n",
    "# 將深層巢狀改為扁平化邏輯\n",
    "\n",
    "age = 16\n",
    "movie_rating = \"PG\"\n",
    "has_parent = True\n",
    "\n",
    "# 扁平化寫法（更易讀）\n",
    "if movie_rating == \"G\":\n",
    "    print(\"✅ 所有人都可觀看\")\n",
    "elif movie_rating == \"PG\" and age >= 12:\n",
    "    print(\"✅ 12 歲以上可觀看\")\n",
    "elif movie_rating == \"PG\" and has_parent:\n",
    "    print(\"✅ 需家長陪同觀看\")\n",
    "elif movie_rating == \"R\" and age >= 18:\n",
    "    print(\"✅ 18 歲以上可觀看\")\n",
    "else:\n",
    "    print(\"❌ 不符合觀看條件\")"
   ]
  },
  {
   "cell_type": "markdown",
   "metadata": {},
   "source": [
    "---\n",
    "\n",
    "### 範例 7：三元運算子 - 簡潔的條件賦值"
   ]
  },
  {
   "cell_type": "code",
   "execution_count": null,
   "metadata": {},
   "outputs": [],
   "source": [
    "# 傳統 if-else 寫法\n",
    "age = 20\n",
    "\n",
    "if age >= 18:\n",
    "    status = \"成年\"\n",
    "else:\n",
    "    status = \"未成年\"\n",
    "\n",
    "print(f\"狀態：{status}\")"
   ]
  },
  {
   "cell_type": "code",
   "execution_count": null,
   "metadata": {},
   "outputs": [],
   "source": [
    "# 三元運算子（Ternary Operator）\n",
    "age = 20\n",
    "status = \"成年\" if age >= 18 else \"未成年\"\n",
    "print(f\"狀態：{status}\")"
   ]
  },
  {
   "cell_type": "markdown",
   "metadata": {},
   "source": [
    "**語法格式**：\n",
    "```python\n",
    "變數 = 值1 if 條件 else 值2\n",
    "```\n",
    "\n",
    "**執行邏輯**：\n",
    "- 條件為真 → 返回值1\n",
    "- 條件為假 → 返回值2\n",
    "\n",
    "**使用時機**：\n",
    "- ✅ 簡單的二選一賦值\n",
    "- ❌ 複雜邏輯（會降低可讀性）"
   ]
  },
  {
   "cell_type": "code",
   "execution_count": null,
   "metadata": {},
   "outputs": [],
   "source": [
    "# 更多三元運算子範例\n",
    "score = 85\n",
    "result = \"及格\" if score >= 60 else \"不及格\"\n",
    "print(result)\n",
    "\n",
    "# 用於函式參數\n",
    "temperature = 28\n",
    "print(f\"天氣{'炎熱' if temperature > 30 else '舒適'}\")\n",
    "\n",
    "# 用於串列推導式（進階）\n",
    "numbers = [1, 2, 3, 4, 5]\n",
    "labels = [\"奇數\" if n % 2 == 1 else \"偶數\" for n in numbers]\n",
    "print(labels)"
   ]
  },
  {
   "cell_type": "markdown",
   "metadata": {},
   "source": [
    "---\n",
    "\n",
    "### 範例 8：綜合應用 - 完整成績管理系統"
   ]
  },
  {
   "cell_type": "code",
   "execution_count": null,
   "metadata": {},
   "outputs": [],
   "source": [
    "# 完整的學生成績評估系統\n",
    "student_name = \"王小明\"\n",
    "score = 88\n",
    "attendance_rate = 0.85  # 出席率 85%\n",
    "has_homework = True  # 是否交作業\n",
    "\n",
    "print(f\"===== {student_name} 的成績評估 =====\")\n",
    "print(f\"考試分數：{score}\")\n",
    "print(f\"出席率：{attendance_rate * 100:.0f}%\")\n",
    "print(f\"作業繳交：{'是' if has_homework else '否'}\")\n",
    "print(\"\\n--- 評估結果 ---\")\n",
    "\n",
    "# 1. 基本成績評級\n",
    "if score >= 90:\n",
    "    grade = \"A\"\n",
    "    level = \"優秀\"\n",
    "elif score >= 80:\n",
    "    grade = \"B\"\n",
    "    level = \"良好\"\n",
    "elif score >= 70:\n",
    "    grade = \"C\"\n",
    "    level = \"中等\"\n",
    "elif score >= 60:\n",
    "    grade = \"D\"\n",
    "    level = \"及格\"\n",
    "else:\n",
    "    grade = \"F\"\n",
    "    level = \"不及格\"\n",
    "\n",
    "print(f\"成績等級：{grade} ({level})\")\n",
    "\n",
    "# 2. 出席率檢查\n",
    "if attendance_rate < 0.7:\n",
    "    print(\"⚠️ 警告：出席率不足 70%，可能影響成績\")\n",
    "    grade = \"F\"  # 出席率不足直接當掉\n",
    "    print(\"❌ 因出席率不足，最終成績為 F\")\n",
    "\n",
    "# 3. 作業繳交獎勵\n",
    "if has_homework and score >= 60:\n",
    "    print(\"✅ 有按時繳交作業，獲得加分獎勵\")\n",
    "    bonus_points = 5\n",
    "    final_score = min(score + bonus_points, 100)  # 最高 100 分\n",
    "    print(f\"調整後分數：{final_score} (+{bonus_points})\")\n",
    "else:\n",
    "    final_score = score\n",
    "\n",
    "# 4. 綜合評語\n",
    "print(\"\\n--- 綜合評語 ---\")\n",
    "if grade == \"A\":\n",
    "    comment = \"表現優異，請保持！\"\n",
    "elif grade == \"B\":\n",
    "    comment = \"表現良好，再努力可以更好！\"\n",
    "elif grade == \"C\":\n",
    "    comment = \"尚可，需要加強複習\"\n",
    "elif grade == \"D\":\n",
    "    comment = \"需要更多努力，建議尋求協助\"\n",
    "else:\n",
    "    comment = \"需要重修，請務必認真學習\"\n",
    "\n",
    "print(f\"評語：{comment}\")\n",
    "\n",
    "# 5. 特殊建議\n",
    "if score < 60 or attendance_rate < 0.7:\n",
    "    print(\"\\n📌 建議行動：\")\n",
    "    if score < 60:\n",
    "        print(\"  - 加強課業輔導\")\n",
    "    if attendance_rate < 0.7:\n",
    "        print(\"  - 改善出席狀況\")\n",
    "    if not has_homework:\n",
    "        print(\"  - 按時完成作業\")"
   ]
  },
  {
   "cell_type": "markdown",
   "metadata": {},
   "source": [
    "**知識點總結**：\n",
    "- 多重條件判斷（成績分級）\n",
    "- 邏輯運算子組合（`and`, `or`, `not`）\n",
    "- 條件內修改變數（出席率不足調整成績）\n",
    "- 三元運算子（作業繳交狀態顯示）\n",
    "- 巢狀條件（建議行動）"
   ]
  },
  {
   "cell_type": "markdown",
   "metadata": {},
   "source": [
    "---\n",
    "\n",
    "## Part III: 本章總結 | Summary\n",
    "\n",
    "### 知識回顧 | Key Takeaways\n",
    "\n",
    "#### 1. 條件判斷的本質\n",
    "- 讓程式根據不同情況做出不同決策\n",
    "- 是程式的「智能行為」基礎\n",
    "\n",
    "#### 2. 三種基本語法\n",
    "```python\n",
    "# 單一條件\n",
    "if 條件:\n",
    "    執行區塊\n",
    "\n",
    "# 二選一\n",
    "if 條件:\n",
    "    執行區塊1\n",
    "else:\n",
    "    執行區塊2\n",
    "\n",
    "# 多選一\n",
    "if 條件1:\n",
    "    執行區塊1\n",
    "elif 條件2:\n",
    "    執行區塊2\n",
    "else:\n",
    "    執行區塊3\n",
    "```\n",
    "\n",
    "#### 3. 重要運算子\n",
    "- **比較運算子**：`>`, `<`, `>=`, `<=`, `==`, `!=`\n",
    "- **邏輯運算子**：`and`, `or`, `not`\n",
    "- **成員運算子**：`in`, `not in`\n",
    "- **身份運算子**：`is`, `is not`\n",
    "\n",
    "#### 4. 進階技巧\n",
    "- 鏈式比較：`a < b < c`\n",
    "- 三元運算子：`x if 條件 else y`\n",
    "- 巢狀條件：條件內包含條件\n",
    "- 短路求值：`and` 和 `or` 的優化"
   ]
  },
  {
   "cell_type": "markdown",
   "metadata": {},
   "source": [
    "---\n",
    "\n",
    "### 常見誤區 | Common Pitfalls\n",
    "\n",
    "#### 1. 縮排錯誤\n",
    "```python\n",
    "# ❌ 錯誤\n",
    "if age >= 18:\n",
    "print(\"成年\")  # IndentationError\n",
    "\n",
    "# ✅ 正確\n",
    "if age >= 18:\n",
    "    print(\"成年\")\n",
    "```\n",
    "\n",
    "#### 2. 等號與比較\n",
    "```python\n",
    "# ❌ 錯誤（賦值）\n",
    "if x = 10:\n",
    "    print(\"x 是 10\")\n",
    "\n",
    "# ✅ 正確（比較）\n",
    "if x == 10:\n",
    "    print(\"x 是 10\")\n",
    "```\n",
    "\n",
    "#### 3. 邏輯運算子誤用\n",
    "```python\n",
    "# ❌ 錯誤\n",
    "if 18 <= age <= 65:  # 語法錯誤\n",
    "\n",
    "# ✅ 正確（傳統寫法）\n",
    "if age >= 18 and age <= 65:\n",
    "\n",
    "# 🌟 更好（Python 鏈式比較）\n",
    "if 18 <= age <= 65:\n",
    "```\n",
    "\n",
    "#### 4. 條件順序錯誤\n",
    "```python\n",
    "# ❌ 錯誤（永遠不會到達 90+ 的判斷）\n",
    "if score >= 60:\n",
    "    print(\"及格\")\n",
    "elif score >= 90:\n",
    "    print(\"優秀\")\n",
    "\n",
    "# ✅ 正確（從大到小判斷）\n",
    "if score >= 90:\n",
    "    print(\"優秀\")\n",
    "elif score >= 60:\n",
    "    print(\"及格\")\n",
    "```"
   ]
  },
  {
   "cell_type": "markdown",
   "metadata": {},
   "source": [
    "---\n",
    "\n",
    "### 自我檢核 | Self-Assessment\n",
    "\n",
    "完成本章後，你應該能夠：\n",
    "\n",
    "**基礎能力**\n",
    "- [ ] 正確使用 if/elif/else 語法\n",
    "- [ ] 理解並應用比較運算子\n",
    "- [ ] 使用邏輯運算子組合條件\n",
    "- [ ] 寫出正確縮排的程式碼\n",
    "\n",
    "**進階能力**\n",
    "- [ ] 實作巢狀條件判斷\n",
    "- [ ] 使用三元運算子簡化程式\n",
    "- [ ] 優化條件判斷的順序\n",
    "- [ ] 除錯常見的條件錯誤\n",
    "\n",
    "**應用能力**\n",
    "- [ ] 分析問題並設計條件邏輯\n",
    "- [ ] 實作實際應用（成績系統、分級判斷等）\n",
    "- [ ] 整合前三章知識解決綜合問題"
   ]
  },
  {
   "cell_type": "markdown",
   "metadata": {},
   "source": [
    "---\n",
    "\n",
    "### 延伸閱讀 | Further Reading\n",
    "\n",
    "#### 官方文件\n",
    "- [Python Tutorial - if Statements](https://docs.python.org/3/tutorial/controlflow.html#if-statements)\n",
    "- [PEP 8 - Indentation](https://www.python.org/dev/peps/pep-0008/#indentation)\n",
    "\n",
    "#### 進階主題\n",
    "- **短路求值**：`and` 和 `or` 的效能優化\n",
    "- **模式匹配**：Python 3.10+ 的 `match-case` 語法\n",
    "- **衛述句模式**：提早返回減少巢狀層級\n",
    "\n",
    "#### 下一步學習\n",
    "- **Ch05 迴圈基礎**：將條件判斷與重複執行結合\n",
    "- **Milestone 2 猜數字遊戲**：綜合應用條件判斷"
   ]
  },
  {
   "cell_type": "markdown",
   "metadata": {},
   "source": [
    "---\n",
    "\n",
    "### 練習提示 | Practice Tips\n",
    "\n",
    "1. **完成 02-worked-examples.ipynb**：詳細學習 5 個範例\n",
    "2. **練習 03-practice.ipynb**：15 題課堂練習\n",
    "3. **挑戰 04-exercises.ipynb**：20 題課後作業\n",
    "4. **自我測驗 quiz.ipynb**：25 題綜合測驗\n",
    "\n",
    "**學習建議**：\n",
    "- 不要只看答案，一定要自己寫一遍\n",
    "- 刻意製造錯誤，理解錯誤訊息\n",
    "- 嘗試修改範例程式，觀察輸出變化\n",
    "- 思考現實中的條件判斷場景，轉化為程式碼"
   ]
  },
  {
   "cell_type": "markdown",
   "metadata": {},
   "source": [
    "---\n",
    "\n",
    "## 🎉 恭喜完成 Chapter 4！\n",
    "\n",
    "你已經掌握了程式的「決策能力」，接下來將學習如何讓程式「重複執行」（迴圈）。\n",
    "\n",
    "**下一章預告**：[Ch05 迴圈基礎 - for 與 while](../ch05-loops/)"
   ]
  }
 ],
 "metadata": {
  "kernelspec": {
   "display_name": "Python 3",
   "language": "python",
   "name": "python3"
  },
  "language_info": {
   "codemirror_mode": {
    "name": "ipython",
    "version": 3
   },
   "file_extension": ".py",
   "mimetype": "text/x-python",
   "name": "python",
   "nbconvert_exporter": "python",
   "pygments_lexer": "ipython3",
   "version": "3.8.0"
  }
 },
 "nbformat": 4,
 "nbformat_minor": 4
}
