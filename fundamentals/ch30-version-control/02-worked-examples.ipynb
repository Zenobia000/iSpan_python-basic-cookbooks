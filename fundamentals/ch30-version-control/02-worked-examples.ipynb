{
 "cells": [
  {
   "cell_type": "markdown",
   "metadata": {},
   "source": [
    "# 版本控制基礎 | Version Control\n\n## 💡 詳解範例 | Worked Examples\n\n本筆記本包含 3-5 個完整的詳解範例，每個範例都有:\n- 問題描述\n- 解題思路\n- 完整程式碼\n- 執行結果\n- 重點說明"
   ]
  },
  {
   "cell_type": "markdown",
   "metadata": {},
   "source": [
    "### 範例 1: Git 基本指令\n\n**問題描述**: （詳細說明問題情境）\n\n**解題思路**:\n1. 步驟一\n2. 步驟二\n3. 步驟三"
   ]
  },
  {
   "cell_type": "markdown",
   "metadata": {},
   "source": [
    "### 範例 2: 建立倉庫\n\n**問題描述**: （詳細說明問題情境）\n\n**解題思路**:\n1. 步驟一\n2. 步驟二\n3. 步驟三"
   ]
  },
  {
   "cell_type": "markdown",
   "metadata": {},
   "source": [
    "### 範例 3: 提交變更\n\n**問題描述**: （詳細說明問題情境）\n\n**解題思路**:\n1. 步驟一\n2. 步驟二\n3. 步驟三"
   ]
  },
  {
   "cell_type": "markdown",
   "metadata": {},
   "source": [
    "### 範例 4: 分支管理\n\n**問題描述**: （詳細說明問題情境）\n\n**解題思路**:\n1. 步驟一\n2. 步驟二\n3. 步驟三"
   ]
  },
  {
   "cell_type": "markdown",
   "metadata": {},
   "source": [
    "### 範例 5: 合併衝突\n\n**問題描述**: （詳細說明問題情境）\n\n**解題思路**:\n1. 步驟一\n2. 步驟二\n3. 步驟三"
   ]
  },
  {
   "cell_type": "code",
   "execution_count": null,
   "metadata": {},
   "outputs": [],
   "source": [
    "# 範例程式碼\nprint('範例實作')"
   ]
  },
  {
   "cell_type": "markdown",
   "metadata": {},
   "source": "### 範例 4: Git 分支策略與合併衝突解決\n\n**問題描述**: 模擬團隊開發中的分支管理與衝突解決流程。\n\n**解題思路**: 建立 feature branch, 製造衝突, 解決衝突。"
  },
  {
   "cell_type": "markdown",
   "metadata": {},
   "source": "#### 步驟 1: 初始化專案\n\n```bash\n# 建立新專案\nmkdir git-demo\ncd git-demo\ngit init\n\n# 建立初始檔案\necho \"# My Project\" > README.md\necho \"print('Hello World')\" > main.py\n\ngit add .\ngit commit -m \"feat: 初始化專案\"\n```"
  },
  {
   "cell_type": "markdown",
   "metadata": {},
   "source": "#### 步驟 2: 建立 feature 分支\n\n```bash\n# 建立並切換到 feature 分支\ngit checkout -b feature/user-login\n\n# 修改檔案\necho \"def login(username, password):\" >> main.py\necho \"    return True\" >> main.py\n\ngit add main.py\ngit commit -m \"feat: 新增登入功能\"\n```"
  },
  {
   "cell_type": "markdown",
   "metadata": {},
   "source": "#### 步驟 3: 同時在 main 分支修改（模擬衝突）\n\n```bash\n# 切回 main\ngit checkout main\n\n# 修改同一檔案\necho \"def logout():\" >> main.py\necho \"    return True\" >> main.py\n\ngit add main.py\ngit commit -m \"feat: 新增登出功能\"\n```"
  },
  {
   "cell_type": "markdown",
   "metadata": {},
   "source": "#### 步驟 4: 合併並解決衝突\n\n```bash\n# 嘗試合併 feature 分支\ngit merge feature/user-login\n\n# 衝突訊息:\n# Auto-merging main.py\n# CONFLICT (content): Merge conflict in main.py\n# Automatic merge failed; fix conflicts and then commit the result.\n\n# 檢視衝突\ngit status\n\n# main.py 內容會變成:\n# print('Hello World')\n# <<<<<<< HEAD\n# def logout():\n#     return True\n# =======\n# def login(username, password):\n#     return True\n# >>>>>>> feature/user-login\n\n# 手動編輯解決衝突，改成:\n# print('Hello World')\n# def login(username, password):\n#     return True\n# def logout():\n#     return True\n\n# 標記為已解決\ngit add main.py\ngit commit -m \"merge: 合併 feature/user-login，保留兩個功能\"\n```"
  },
  {
   "cell_type": "markdown",
   "metadata": {},
   "source": "#### 步驟 5: 查看分支圖\n\n```bash\n# 美化的分支歷史\ngit log --oneline --graph --all\n\n# 輸出類似:\n# *   a1b2c3d (HEAD -> main) merge: 合併 feature/user-login\n# |\\  \n# | * d4e5f6g (feature/user-login) feat: 新增登入功能\n# * | g6h7i8j feat: 新增登出功能\n# |/  \n# * j8k9l0m feat: 初始化專案\n```"
  },
  {
   "cell_type": "markdown",
   "metadata": {},
   "source": "### 範例 5: GitHub 協作工作流程\n\n**問題描述**: 模擬 GitHub 的 Fork-Pull Request 工作流程。\n\n**解題思路**: Fork -> Clone -> Branch -> Commit -> Push -> Pull Request。"
  },
  {
   "cell_type": "markdown",
   "metadata": {},
   "source": "#### 完整的 GitHub 協作流程\n\n```bash\n# 1. Fork 專案（在 GitHub 網站上點擊 Fork 按鈕）\n\n# 2. Clone 你的 fork\ngit clone https://github.com/YOUR_USERNAME/project.git\ncd project\n\n# 3. 新增上游倉庫\ngit remote add upstream https://github.com/ORIGINAL_OWNER/project.git\n\n# 4. 建立 feature 分支\ngit checkout -b feature/new-feature\n\n# 5. 開發功能\necho \"新功能\" > new_feature.py\ngit add new_feature.py\ngit commit -m \"feat: 新增新功能\"\n\n# 6. 同步上游變更（避免衝突）\ngit fetch upstream\ngit rebase upstream/main\n\n# 7. 推送到你的 fork\ngit push origin feature/new-feature\n\n# 8. 在 GitHub 上建立 Pull Request\n#    - 前往你的 GitHub fork\n#    - 點擊 \"Compare & pull request\"\n#    - 填寫 PR 標題與描述\n#    - 點擊 \"Create pull request\"\n\n# 9. Code Review 後如需修改\necho \"修正\" >> new_feature.py\ngit add new_feature.py\ngit commit -m \"fix: 根據 review 修正\"\ngit push origin feature/new-feature\n\n# 10. PR 被合併後，更新本地\ngit checkout main\ngit pull upstream main\ngit push origin main\n\n# 11. 刪除 feature 分支\ngit branch -d feature/new-feature\ngit push origin --delete feature/new-feature\n```"
  }
 ],
 "metadata": {
  "kernelspec": {
   "display_name": "Python 3",
   "language": "python",
   "name": "python3"
  },
  "language_info": {
   "name": "python",
   "version": "3.11.0"
  }
 },
 "nbformat": 4,
 "nbformat_minor": 4
}