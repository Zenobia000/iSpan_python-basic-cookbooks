{
 "cells": [
  {
   "cell_type": "markdown",
   "metadata": {},
   "source": ["# Chapter 30: 版本控制基礎 | Version Control Basics\n\n## Part I: 理論基礎\n\n### 章節概述\n\n**學習目標**:\n- 理解版本控制的概念與必要性\n- 掌握 Git 基本指令\n- 學會分支管理與合併\n- 使用 GitHub 進行協作\n\n**預計時長**: 80 分鐘"]
  },
  {
   "cell_type": "markdown",
   "metadata": {},
   "source": ["### 核心概念: 為什麼需要版本控制？\n\n#### 沒有版本控制的困境\n\n```\nproject_final.py\nproject_final_v2.py\nproject_final_v2_modified.py\nproject_final_v3_really_final.py\nproject_final_v3_really_final_FIXED.py\n```\n\n#### Git 的解決方案\n\n```bash\ngit log --oneline\na3f2c1b Add user authentication\nb5d4e2a Fix database connection bug\nc7f6g3h Implement login feature\n```\n\n清晰的歷史記錄，隨時可以回溯！"]
  },
  {
   "cell_type": "markdown",
   "metadata": {},
   "source": ["## Part II: 實作演練\n\n### 範例 1: Git 基本指令"]
  },
  {
   "cell_type": "code",
   "execution_count": null,
   "metadata": {},
   "outputs": [],
   "source": ["# Git 基本指令 (在終端機執行)\n\n# 初始化倉庫\n# git init\n\n# 查看狀態\n# git status\n\n# 添加檔案到暫存區\n# git add filename.py\n# git add .  # 添加所有變更\n\n# 提交變更\n# git commit -m \"Add new feature\"\n\n# 查看歷史\n# git log\n# git log --oneline\n\nprint(\"Git 三區: 工作區 → 暫存區 → 倉庫\")"]
  },
  {
   "cell_type": "markdown",
   "metadata": {},
   "source": ["### 範例 2: 建立 .gitignore"]
  },
  {
   "cell_type": "code",
   "execution_count": null,
   "metadata": {},
   "outputs": [],
   "source": ["%%writefile .gitignore\n# Python\n__pycache__/\n*.pyc\nvenv/\nenv/\n\n# Jupyter\n.ipynb_checkpoints\n\n# IDE\n.vscode/\n.idea/\n\n# 系統檔案\n.DS_Store\nThumbs.db\n\n# 機密資訊\nconfig/secrets.py\n*.log"]
  },
  {
   "cell_type": "markdown",
   "metadata": {},
   "source": ["### 範例 3: 分支管理"]
  },
  {
   "cell_type": "code",
   "execution_count": null,
   "metadata": {},
   "outputs": [],
   "source": ["# 分支操作 (在終端機執行)\n\n# 列出分支\n# git branch\n\n# 建立新分支\n# git branch feature-login\n\n# 切換分支\n# git checkout feature-login\n# 或使用新語法: git switch feature-login\n\n# 建立並切換 (一步完成)\n# git checkout -b feature-payment\n\n# 合併分支\n# git checkout main\n# git merge feature-login\n\n# 刪除分支\n# git branch -d feature-login\n\nprint(\"分支讓你可以並行開發多個功能\")"]
  },
  {
   "cell_type": "markdown",
   "metadata": {},
   "source": ["### 範例 4: 遠端協作 (GitHub)"]
  },
  {
   "cell_type": "code",
   "execution_count": null,
   "metadata": {},
   "outputs": [],
   "source": ["# GitHub 遠端操作\n\n# 複製遠端倉庫\n# git clone https://github.com/user/repo.git\n\n# 添加遠端\n# git remote add origin https://github.com/user/repo.git\n\n# 推送到遠端\n# git push origin main\n\n# 從遠端拉取\n# git pull origin main\n\n# 查看遠端資訊\n# git remote -v\n\nprint(\"GitHub 是最流行的 Git 託管平台\")"]
  },
  {
   "cell_type": "markdown",
   "metadata": {},
   "source": ["### 範例 5: Commit Message 規範"]
  },
  {
   "cell_type": "code",
   "execution_count": null,
   "metadata": {},
   "outputs": [],
   "source": ["# 良好的 commit message 範例\n\n# feat: 新功能\n# git commit -m \"feat: add user login functionality\"\n\n# fix: 修復 bug\n# git commit -m \"fix: resolve database connection issue\"\n\n# docs: 文件更新\n# git commit -m \"docs: update README with installation guide\"\n\n# style: 程式碼格式\n# git commit -m \"style: format code with black\"\n\n# refactor: 重構\n# git commit -m \"refactor: simplify authentication logic\"\n\nprint(\"清晰的 commit message 幫助團隊理解變更\")\nprint(\"格式: <type>: <description>\")\nprint(\"常見 type: feat, fix, docs, style, refactor, test\")"]
  },
  {
   "cell_type": "markdown",
   "metadata": {},
   "source": ["### 範例 6: 解決合併衝突"]
  },
  {
   "cell_type": "code",
   "execution_count": null,
   "metadata": {},
   "outputs": [],
   "source": ["# 當合併時出現衝突\n\n# 衝突標記格式:\n# <<<<<<< HEAD\n# 當前分支的內容\n# =======\n# 要合併進來的分支內容\n# >>>>>>> branch-name\n\n# 解決步驟:\n# 1. 編輯檔案，移除標記，保留想要的內容\n# 2. git add <file>\n# 3. git commit -m \"Resolve merge conflict\"\n\nprint(\"衝突是正常的，不要慌張！\")\nprint(\"仔細檢查衝突內容，選擇正確的版本\")"]
  },
  {
   "cell_type": "markdown",
   "metadata": {},
   "source": ["## Part III: 本章總結\n\n### 知識回顧\n\n1. **Git 基礎**: init, add, commit, status, log\n2. **分支管理**: branch, checkout, merge\n3. **.gitignore**: 忽略不需要的檔案\n4. **遠端協作**: clone, push, pull\n5. **Commit 規範**: 清晰的提交訊息\n\n### Git 工作流程\n\n```\n工作區 → (git add) → 暫存區 → (git commit) → 本地倉庫 → (git push) → 遠端倉庫\n```\n\n### 最佳實務\n\n- 小步提交 (每個 commit 是原子性變更)\n- 清晰的 commit message\n- 使用分支進行功能開發\n- 定期推送到遠端備份\n- .gitignore 忽略 venv/, __pycache__/"]
  }
 ],
 "metadata": {
  "kernelspec": {"display_name": "Python 3", "language": "python", "name": "python3"},
  "language_info": {"name": "python", "version": "3.11.0"}
 },
 "nbformat": 4,
 "nbformat_minor": 4
}
