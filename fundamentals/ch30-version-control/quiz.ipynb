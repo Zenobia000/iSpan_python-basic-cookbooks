{
 "cells": [
  {
   "cell_type": "markdown",
   "metadata": {},
   "source": [
    "# 版本控制基礎 | Version Control\n\n## 📝 自我測驗 | Self-Assessment Quiz\n\n**測驗時間**: 20 分鐘\n**總題數**: 20-25 題\n**題型**: 選擇題 + 程式碼題\n\n### 評分標準\n- 18-25 題正確: 優秀 (90-100%)\n- 14-17 題正確: 良好 (70-89%)\n- 10-13 題正確: 及格 (50-69%)\n- 10 題以下: 需要複習"
   ]
  },
  {
   "cell_type": "markdown",
   "metadata": {},
   "source": "### 第 1 題: Git 基本指令\n\n**題目**: （測驗題目）\n\nA) 選項 A\nB) 選項 B\nC) 選項 C\nD) 選項 D\n\n<details>\n<summary>點擊查看解答</summary>\n\n**答案**: A\n\n**解析**: （詳細說明）\n\n</details>"
  },
  {
   "cell_type": "markdown",
   "metadata": {},
   "source": "### 第 2 題: 建立倉庫\n\n**題目**: （測驗題目）\n\nA) 選項 A\nB) 選項 B\nC) 選項 C\nD) 選項 D\n\n<details>\n<summary>點擊查看解答</summary>\n\n**答案**: A\n\n**解析**: （詳細說明）\n\n</details>"
  },
  {
   "cell_type": "markdown",
   "metadata": {},
   "source": "### 第 3 題: 提交變更\n\n**題目**: （測驗題目）\n\nA) 選項 A\nB) 選項 B\nC) 選項 C\nD) 選項 D\n\n<details>\n<summary>點擊查看解答</summary>\n\n**答案**: A\n\n**解析**: （詳細說明）\n\n</details>"
  },
  {
   "cell_type": "markdown",
   "metadata": {},
   "source": "### 第 4 題: 分支管理\n\n**題目**: （測驗題目）\n\nA) 選項 A\nB) 選項 B\nC) 選項 C\nD) 選項 D\n\n<details>\n<summary>點擊查看解答</summary>\n\n**答案**: A\n\n**解析**: （詳細說明）\n\n</details>"
  },
  {
   "cell_type": "markdown",
   "metadata": {},
   "source": "### 第 5 題: 合併衝突\n\n**題目**: （測驗題目）\n\nA) 選項 A\nB) 選項 B\nC) 選項 C\nD) 選項 D\n\n<details>\n<summary>點擊查看解答</summary>\n\n**答案**: A\n\n**解析**: （詳細說明）\n\n</details>"
  },
  {
   "cell_type": "markdown",
   "metadata": {},
   "source": "### 第 6 題: .gitignore\n\n**題目**: （測驗題目）\n\nA) 選項 A\nB) 選項 B\nC) 選項 C\nD) 選項 D\n\n<details>\n<summary>點擊查看解答</summary>\n\n**答案**: A\n\n**解析**: （詳細說明）\n\n</details>"
  },
  {
   "cell_type": "markdown",
   "metadata": {},
   "source": "### 第 7 題: GitHub 協作\n\n**題目**: （測驗題目）\n\nA) 選項 A\nB) 選項 B\nC) 選項 C\nD) 選項 D\n\n<details>\n<summary>點擊查看解答</summary>\n\n**答案**: A\n\n**解析**: （詳細說明）\n\n</details>"
  },
  {
   "cell_type": "markdown",
   "metadata": {},
   "source": "### 第 8 題: commit message 規範\n\n**題目**: （測驗題目）\n\nA) 選項 A\nB) 選項 B\nC) 選項 C\nD) 選項 D\n\n<details>\n<summary>點擊查看解答</summary>\n\n**答案**: A\n\n**解析**: （詳細說明）\n\n</details>"
  },
  {
   "cell_type": "markdown",
   "metadata": {},
   "source": "## 測驗完成\n\n請檢查您的答案並計算分數。"
  }
 ],
 "metadata": {
  "kernelspec": {
   "display_name": "Python 3",
   "language": "python",
   "name": "python3"
  },
  "language_info": {
   "name": "python",
   "version": "3.11.0"
  }
 },
 "nbformat": 4,
 "nbformat_minor": 4
}