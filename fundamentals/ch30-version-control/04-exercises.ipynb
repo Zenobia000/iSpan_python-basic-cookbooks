{
 "cells": [
  {
   "cell_type": "markdown",
   "metadata": {},
   "source": [
    "# 版本控制基礎 | Version Control\n\n## ✍️ 課後習題 | Homework Exercises\n\n**預計時間**: 90 分鐘\n\n本習題包含 15-18 題練習，涵蓋基礎、進階和挑戰題。"
   ]
  },
  {
   "cell_type": "markdown",
   "metadata": {},
   "source": "### 📝 習題 1: Git 基本指令\n\n**難度**: ⭐\n\n**題目描述**:\n\n（習題內容）\n\n**要求**:\n1. 要求一\n2. 要求二\n3. 要求三"
  },
  {
   "cell_type": "code",
   "execution_count": null,
   "metadata": {},
   "outputs": [],
   "source": [
    "# 在此撰寫您的程式碼\n"
   ]
  },
  {
   "cell_type": "markdown",
   "metadata": {},
   "source": "### 📝 習題 2: 建立倉庫\n\n**難度**: ⭐⭐\n\n**題目描述**:\n\n（習題內容）\n\n**要求**:\n1. 要求一\n2. 要求二\n3. 要求三"
  },
  {
   "cell_type": "code",
   "execution_count": null,
   "metadata": {},
   "outputs": [],
   "source": [
    "# 在此撰寫您的程式碼\n"
   ]
  },
  {
   "cell_type": "markdown",
   "metadata": {},
   "source": "### 📝 習題 3: 提交變更\n\n**難度**: ⭐⭐⭐\n\n**題目描述**:\n\n（習題內容）\n\n**要求**:\n1. 要求一\n2. 要求二\n3. 要求三"
  },
  {
   "cell_type": "code",
   "execution_count": null,
   "metadata": {},
   "outputs": [],
   "source": [
    "# 在此撰寫您的程式碼\n"
   ]
  },
  {
   "cell_type": "markdown",
   "metadata": {},
   "source": "### 📝 習題 4: 分支管理\n\n**難度**: ⭐\n\n**題目描述**:\n\n（習題內容）\n\n**要求**:\n1. 要求一\n2. 要求二\n3. 要求三"
  },
  {
   "cell_type": "code",
   "execution_count": null,
   "metadata": {},
   "outputs": [],
   "source": [
    "# 在此撰寫您的程式碼\n"
   ]
  },
  {
   "cell_type": "markdown",
   "metadata": {},
   "source": "### 📝 習題 5: 合併衝突\n\n**難度**: ⭐⭐\n\n**題目描述**:\n\n（習題內容）\n\n**要求**:\n1. 要求一\n2. 要求二\n3. 要求三"
  },
  {
   "cell_type": "code",
   "execution_count": null,
   "metadata": {},
   "outputs": [],
   "source": [
    "# 在此撰寫您的程式碼\n"
   ]
  },
  {
   "cell_type": "markdown",
   "metadata": {},
   "source": "### 📝 習題 6: .gitignore\n\n**難度**: ⭐⭐⭐\n\n**題目描述**:\n\n（習題內容）\n\n**要求**:\n1. 要求一\n2. 要求二\n3. 要求三"
  },
  {
   "cell_type": "code",
   "execution_count": null,
   "metadata": {},
   "outputs": [],
   "source": [
    "# 在此撰寫您的程式碼\n"
   ]
  },
  {
   "cell_type": "markdown",
   "metadata": {},
   "source": "### 📝 習題 7: GitHub 協作\n\n**難度**: ⭐\n\n**題目描述**:\n\n（習題內容）\n\n**要求**:\n1. 要求一\n2. 要求二\n3. 要求三"
  },
  {
   "cell_type": "code",
   "execution_count": null,
   "metadata": {},
   "outputs": [],
   "source": [
    "# 在此撰寫您的程式碼\n"
   ]
  },
  {
   "cell_type": "markdown",
   "metadata": {},
   "source": "### 📝 習題 8: commit message 規範\n\n**難度**: ⭐⭐\n\n**題目描述**:\n\n（習題內容）\n\n**要求**:\n1. 要求一\n2. 要求二\n3. 要求三"
  },
  {
   "cell_type": "code",
   "execution_count": null,
   "metadata": {},
   "outputs": [],
   "source": [
    "# 在此撰寫您的程式碼\n"
   ]
  }
 ],
 "metadata": {
  "kernelspec": {
   "display_name": "Python 3",
   "language": "python",
   "name": "python3"
  },
  "language_info": {
   "name": "python",
   "version": "3.11.0"
  }
 },
 "nbformat": 4,
 "nbformat_minor": 4
}