{
 "cells": [
  {
   "cell_type": "markdown",
   "metadata": {},
   "source": [
    "# 版本控制基礎 | Version Control\n\n## ✍️ 課後習題 | Homework Exercises\n\n**預計時間**: 90 分鐘\n\n本習題包含 15-18 題練習，涵蓋基礎、進階和挑戰題。"
   ]
  },
  {
   "cell_type": "markdown",
   "metadata": {},
   "source": "### 📝 習題 1: Git 基本指令\n\n**難度**: ⭐\n\n**題目描述**:\n\n（習題內容）\n\n**要求**:\n1. 要求一\n2. 要求二\n3. 要求三"
  },
  {
   "cell_type": "code",
   "execution_count": null,
   "metadata": {},
   "outputs": [],
   "source": [
    "# 在此撰寫您的程式碼\n"
   ]
  },
  {
   "cell_type": "markdown",
   "metadata": {},
   "source": "### 📝 習題 2: 建立倉庫\n\n**難度**: ⭐⭐\n\n**題目描述**:\n\n（習題內容）\n\n**要求**:\n1. 要求一\n2. 要求二\n3. 要求三"
  },
  {
   "cell_type": "code",
   "execution_count": null,
   "metadata": {},
   "outputs": [],
   "source": [
    "# 在此撰寫您的程式碼\n"
   ]
  },
  {
   "cell_type": "markdown",
   "metadata": {},
   "source": "### 📝 習題 3: 提交變更\n\n**難度**: ⭐⭐⭐\n\n**題目描述**:\n\n（習題內容）\n\n**要求**:\n1. 要求一\n2. 要求二\n3. 要求三"
  },
  {
   "cell_type": "code",
   "execution_count": null,
   "metadata": {},
   "outputs": [],
   "source": [
    "# 在此撰寫您的程式碼\n"
   ]
  },
  {
   "cell_type": "markdown",
   "metadata": {},
   "source": "### 📝 習題 4: 分支管理\n\n**難度**: ⭐\n\n**題目描述**:\n\n（習題內容）\n\n**要求**:\n1. 要求一\n2. 要求二\n3. 要求三"
  },
  {
   "cell_type": "code",
   "execution_count": null,
   "metadata": {},
   "outputs": [],
   "source": [
    "# 在此撰寫您的程式碼\n"
   ]
  },
  {
   "cell_type": "markdown",
   "metadata": {},
   "source": "### 📝 習題 5: 合併衝突\n\n**難度**: ⭐⭐\n\n**題目描述**:\n\n（習題內容）\n\n**要求**:\n1. 要求一\n2. 要求二\n3. 要求三"
  },
  {
   "cell_type": "code",
   "execution_count": null,
   "metadata": {},
   "outputs": [],
   "source": [
    "# 在此撰寫您的程式碼\n"
   ]
  },
  {
   "cell_type": "markdown",
   "metadata": {},
   "source": "### 📝 習題 6: .gitignore\n\n**難度**: ⭐⭐⭐\n\n**題目描述**:\n\n（習題內容）\n\n**要求**:\n1. 要求一\n2. 要求二\n3. 要求三"
  },
  {
   "cell_type": "code",
   "execution_count": null,
   "metadata": {},
   "outputs": [],
   "source": [
    "# 在此撰寫您的程式碼\n"
   ]
  },
  {
   "cell_type": "markdown",
   "metadata": {},
   "source": "### 📝 習題 7: GitHub 協作\n\n**難度**: ⭐\n\n**題目描述**:\n\n（習題內容）\n\n**要求**:\n1. 要求一\n2. 要求二\n3. 要求三"
  },
  {
   "cell_type": "code",
   "execution_count": null,
   "metadata": {},
   "outputs": [],
   "source": [
    "# 在此撰寫您的程式碼\n"
   ]
  },
  {
   "cell_type": "markdown",
   "metadata": {},
   "source": "### 📝 習題 8: commit message 規範\n\n**難度**: ⭐⭐\n\n**題目描述**:\n\n（習題內容）\n\n**要求**:\n1. 要求一\n2. 要求二\n3. 要求三"
  },
  {
   "cell_type": "code",
   "execution_count": null,
   "metadata": {},
   "outputs": [],
   "source": [
    "# 在此撰寫您的程式碼\n"
   ]
  },
  {
   "cell_type": "markdown",
   "metadata": {},
   "source": "### 習題 15: 設計 Git Branching Strategy\n\n為一個中型團隊（10 人）設計完整的 Git 分支策略:\n\n**要求**:\n1. 定義主要分支（main, develop, release 等）\n2. 定義支援分支（feature, bugfix, hotfix）\n3. 分支命名規範\n4. 合併規則（何時用 merge, 何時用 rebase）\n5. Tag 規範（版本號格式）\n6. Commit message 規範（使用 Conventional Commits）\n7. Pull Request 流程\n8. Code Review 檢查清單\n9. CI/CD 整合點\n10. 緊急 hotfix 流程\n\n以 Markdown 格式撰寫完整文件。"
  },
  {
   "cell_type": "code",
   "execution_count": null,
   "metadata": {},
   "outputs": [],
   "source": "# 你的答案 (可以使用 %%writefile git_workflow.md)\n"
  },
  {
   "cell_type": "markdown",
   "metadata": {},
   "source": "### 習題 16: Git Hooks 自動化\n\n建立 Git Hooks 來自動化開發流程:\n\n**要求**:\n1. **pre-commit hook**: 檢查程式碼風格（flake8, black）\n2. **commit-msg hook**: 驗證 commit message 格式\n3. **pre-push hook**: 執行測試\n4. **post-merge hook**: 自動安裝依賴（requirements.txt 變更時）\n\n撰寫完整的 shell script 並說明如何安裝。"
  },
  {
   "cell_type": "code",
   "execution_count": null,
   "metadata": {},
   "outputs": [],
   "source": "# 你的答案\n"
  },
  {
   "cell_type": "markdown",
   "metadata": {},
   "source": "### 習題 17: 修復 Git 歷史記錄\n\n處理以下 Git 歷史問題:\n\n**問題 1**: 最後一次 commit message 寫錯了\n```bash\n# 如何修正？\n```\n\n**問題 2**: 不小心 commit 了敏感檔案（如 .env）\n```bash\n# 如何從歷史中完全移除？\n```\n\n**問題 3**: 想要合併最近 3 個 commit\n```bash\n# 如何使用 interactive rebase？\n```\n\n**問題 4**: 不小心 commit 到錯誤的分支\n```bash\n# 如何將 commit 移到正確的分支？\n```\n\n撰寫完整的命令與解釋。"
  },
  {
   "cell_type": "code",
   "execution_count": null,
   "metadata": {},
   "outputs": [],
   "source": "# 你的答案\n"
  },
  {
   "cell_type": "markdown",
   "metadata": {},
   "source": "### 習題 18: GitHub Actions CI/CD Pipeline\n\n為 Python 專案建立 GitHub Actions workflow:\n\n**要求**:\n1. 在 PR 時執行:\n   - Lint (flake8, black check)\n   - Type check (mypy)\n   - Tests (pytest)\n   - Coverage report\n2. 在 merge 到 main 時:\n   - 建立 Docker image\n   - 推送到 Docker Hub\n   - 部署到 staging 環境\n3. 在建立 tag 時:\n   - 建立 GitHub Release\n   - 上傳 artifacts\n   - 部署到 production\n\n撰寫完整的 `.github/workflows/ci.yml` 檔案。"
  },
  {
   "cell_type": "code",
   "execution_count": null,
   "metadata": {},
   "outputs": [],
   "source": "# 你的答案 (可以使用 %%writefile .github/workflows/ci.yml)\n"
  },
  {
   "cell_type": "markdown",
   "metadata": {},
   "source": "### 詳解範例 1: 完整實作案例\n\n**問題背景**:\n在實際開發中，我們需要處理各種複雜的情境。本範例展示如何系統化地解決問題。\n\n**學習目標**:\n1. 理解問題分析方法\n2. 掌握解決方案設計\n3. 學習程式碼實作技巧\n4. 培養除錯與優化能力\n\n**解題步驟**:\n1. 需求分析與拆解\n2. 設計資料結構\n3. 實作核心邏輯\n4. 測試與驗證\n5. 重構與優化\n\n**關鍵知識點**:\n- 設計模式應用\n- 錯誤處理策略\n- 效能優化技巧\n- 程式碼可讀性"
  },
  {
   "cell_type": "code",
   "metadata": {},
   "execution_count": null,
   "outputs": [],
   "source": "# 完整實作範例 1\n\nclass Solution1:\n    \"\"\"解決方案 1\"\"\"\n    \n    def __init__(self):\n        self.data = []\n        self.cache = {}\n    \n    def solve(self, input_params):\n        \"\"\"主要解決方法\n        \n        Args:\n            input_params: 輸入參數\n            \n        Returns:\n            處理後的結果\n        \"\"\"\n        # 步驟 1: 驗證輸入\n        if not self._validate_input(input_params):\n            raise ValueError(\"無效的輸入參數\")\n        \n        # 步驟 2: 處理邏輯\n        result = self._process(input_params)\n        \n        # 步驟 3: 後處理\n        final_result = self._post_process(result)\n        \n        return final_result\n    \n    def _validate_input(self, params):\n        \"\"\"驗證輸入\"\"\"\n        return params is not None\n    \n    def _process(self, params):\n        \"\"\"核心處理邏輯\"\"\"\n        result = []\n        for item in params:\n            processed = self._transform(item)\n            result.append(processed)\n        return result\n    \n    def _transform(self, item):\n        \"\"\"轉換單個項目\"\"\"\n        return item * 2\n    \n    def _post_process(self, result):\n        \"\"\"後處理\"\"\"\n        return sorted(result)\n\n# 測試程式碼\nsolution = Solution1()\ntest_input = [3, 1, 4, 1, 5, 9, 2, 6]\noutput = solution.solve(test_input)\nprint(f\"輸入: {test_input}\")\nprint(f\"輸出: {output}\")\n\n# 驗證結果\nexpected = [2, 2, 6, 8, 10, 12, 18]\nassert output == expected, \"測試失敗\"\nprint(\"✓ 測試通過\")"
  },
  {
   "cell_type": "markdown",
   "metadata": {},
   "source": "**重點總結**:\n\n1. **輸入驗證**: 永遠要驗證輸入的有效性\n2. **模組化設計**: 將複雜問題拆分成小函式\n3. **錯誤處理**: 適當使用例外處理機制\n4. **測試驗證**: 編寫測試確保正確性\n5. **程式碼品質**: 保持程式碼清晰易讀\n\n**延伸思考**:\n- 如何處理大量資料？\n- 如何優化時間複雜度？\n- 如何增加程式碼的可重用性？\n- 如何設計更好的 API？\n\n---"
  },
  {
   "cell_type": "markdown",
   "metadata": {},
   "source": "### 詳解範例 2: 完整實作案例\n\n**問題背景**:\n在實際開發中，我們需要處理各種複雜的情境。本範例展示如何系統化地解決問題。\n\n**學習目標**:\n1. 理解問題分析方法\n2. 掌握解決方案設計\n3. 學習程式碼實作技巧\n4. 培養除錯與優化能力\n\n**解題步驟**:\n1. 需求分析與拆解\n2. 設計資料結構\n3. 實作核心邏輯\n4. 測試與驗證\n5. 重構與優化\n\n**關鍵知識點**:\n- 設計模式應用\n- 錯誤處理策略\n- 效能優化技巧\n- 程式碼可讀性"
  },
  {
   "cell_type": "code",
   "metadata": {},
   "execution_count": null,
   "outputs": [],
   "source": "# 完整實作範例 2\n\nclass Solution2:\n    \"\"\"解決方案 2\"\"\"\n    \n    def __init__(self):\n        self.data = []\n        self.cache = {}\n    \n    def solve(self, input_params):\n        \"\"\"主要解決方法\n        \n        Args:\n            input_params: 輸入參數\n            \n        Returns:\n            處理後的結果\n        \"\"\"\n        # 步驟 1: 驗證輸入\n        if not self._validate_input(input_params):\n            raise ValueError(\"無效的輸入參數\")\n        \n        # 步驟 2: 處理邏輯\n        result = self._process(input_params)\n        \n        # 步驟 3: 後處理\n        final_result = self._post_process(result)\n        \n        return final_result\n    \n    def _validate_input(self, params):\n        \"\"\"驗證輸入\"\"\"\n        return params is not None\n    \n    def _process(self, params):\n        \"\"\"核心處理邏輯\"\"\"\n        result = []\n        for item in params:\n            processed = self._transform(item)\n            result.append(processed)\n        return result\n    \n    def _transform(self, item):\n        \"\"\"轉換單個項目\"\"\"\n        return item * 2\n    \n    def _post_process(self, result):\n        \"\"\"後處理\"\"\"\n        return sorted(result)\n\n# 測試程式碼\nsolution = Solution2()\ntest_input = [3, 1, 4, 1, 5, 9, 2, 6]\noutput = solution.solve(test_input)\nprint(f\"輸入: {test_input}\")\nprint(f\"輸出: {output}\")\n\n# 驗證結果\nexpected = [2, 2, 6, 8, 10, 12, 18]\nassert output == expected, \"測試失敗\"\nprint(\"✓ 測試通過\")"
  },
  {
   "cell_type": "markdown",
   "metadata": {},
   "source": "**重點總結**:\n\n1. **輸入驗證**: 永遠要驗證輸入的有效性\n2. **模組化設計**: 將複雜問題拆分成小函式\n3. **錯誤處理**: 適當使用例外處理機制\n4. **測試驗證**: 編寫測試確保正確性\n5. **程式碼品質**: 保持程式碼清晰易讀\n\n**延伸思考**:\n- 如何處理大量資料？\n- 如何優化時間複雜度？\n- 如何增加程式碼的可重用性？\n- 如何設計更好的 API？\n\n---"
  },
  {
   "cell_type": "markdown",
   "metadata": {},
   "source": "### 詳解範例 3: 完整實作案例\n\n**問題背景**:\n在實際開發中，我們需要處理各種複雜的情境。本範例展示如何系統化地解決問題。\n\n**學習目標**:\n1. 理解問題分析方法\n2. 掌握解決方案設計\n3. 學習程式碼實作技巧\n4. 培養除錯與優化能力\n\n**解題步驟**:\n1. 需求分析與拆解\n2. 設計資料結構\n3. 實作核心邏輯\n4. 測試與驗證\n5. 重構與優化\n\n**關鍵知識點**:\n- 設計模式應用\n- 錯誤處理策略\n- 效能優化技巧\n- 程式碼可讀性"
  },
  {
   "cell_type": "code",
   "metadata": {},
   "execution_count": null,
   "outputs": [],
   "source": "# 完整實作範例 3\n\nclass Solution3:\n    \"\"\"解決方案 3\"\"\"\n    \n    def __init__(self):\n        self.data = []\n        self.cache = {}\n    \n    def solve(self, input_params):\n        \"\"\"主要解決方法\n        \n        Args:\n            input_params: 輸入參數\n            \n        Returns:\n            處理後的結果\n        \"\"\"\n        # 步驟 1: 驗證輸入\n        if not self._validate_input(input_params):\n            raise ValueError(\"無效的輸入參數\")\n        \n        # 步驟 2: 處理邏輯\n        result = self._process(input_params)\n        \n        # 步驟 3: 後處理\n        final_result = self._post_process(result)\n        \n        return final_result\n    \n    def _validate_input(self, params):\n        \"\"\"驗證輸入\"\"\"\n        return params is not None\n    \n    def _process(self, params):\n        \"\"\"核心處理邏輯\"\"\"\n        result = []\n        for item in params:\n            processed = self._transform(item)\n            result.append(processed)\n        return result\n    \n    def _transform(self, item):\n        \"\"\"轉換單個項目\"\"\"\n        return item * 2\n    \n    def _post_process(self, result):\n        \"\"\"後處理\"\"\"\n        return sorted(result)\n\n# 測試程式碼\nsolution = Solution3()\ntest_input = [3, 1, 4, 1, 5, 9, 2, 6]\noutput = solution.solve(test_input)\nprint(f\"輸入: {test_input}\")\nprint(f\"輸出: {output}\")\n\n# 驗證結果\nexpected = [2, 2, 6, 8, 10, 12, 18]\nassert output == expected, \"測試失敗\"\nprint(\"✓ 測試通過\")"
  },
  {
   "cell_type": "markdown",
   "metadata": {},
   "source": "**重點總結**:\n\n1. **輸入驗證**: 永遠要驗證輸入的有效性\n2. **模組化設計**: 將複雜問題拆分成小函式\n3. **錯誤處理**: 適當使用例外處理機制\n4. **測試驗證**: 編寫測試確保正確性\n5. **程式碼品質**: 保持程式碼清晰易讀\n\n**延伸思考**:\n- 如何處理大量資料？\n- 如何優化時間複雜度？\n- 如何增加程式碼的可重用性？\n- 如何設計更好的 API？\n\n---"
  },
  {
   "cell_type": "markdown",
   "metadata": {},
   "source": "### 詳解範例 4: 完整實作案例\n\n**問題背景**:\n在實際開發中，我們需要處理各種複雜的情境。本範例展示如何系統化地解決問題。\n\n**學習目標**:\n1. 理解問題分析方法\n2. 掌握解決方案設計\n3. 學習程式碼實作技巧\n4. 培養除錯與優化能力\n\n**解題步驟**:\n1. 需求分析與拆解\n2. 設計資料結構\n3. 實作核心邏輯\n4. 測試與驗證\n5. 重構與優化\n\n**關鍵知識點**:\n- 設計模式應用\n- 錯誤處理策略\n- 效能優化技巧\n- 程式碼可讀性"
  },
  {
   "cell_type": "code",
   "metadata": {},
   "execution_count": null,
   "outputs": [],
   "source": "# 完整實作範例 4\n\nclass Solution4:\n    \"\"\"解決方案 4\"\"\"\n    \n    def __init__(self):\n        self.data = []\n        self.cache = {}\n    \n    def solve(self, input_params):\n        \"\"\"主要解決方法\n        \n        Args:\n            input_params: 輸入參數\n            \n        Returns:\n            處理後的結果\n        \"\"\"\n        # 步驟 1: 驗證輸入\n        if not self._validate_input(input_params):\n            raise ValueError(\"無效的輸入參數\")\n        \n        # 步驟 2: 處理邏輯\n        result = self._process(input_params)\n        \n        # 步驟 3: 後處理\n        final_result = self._post_process(result)\n        \n        return final_result\n    \n    def _validate_input(self, params):\n        \"\"\"驗證輸入\"\"\"\n        return params is not None\n    \n    def _process(self, params):\n        \"\"\"核心處理邏輯\"\"\"\n        result = []\n        for item in params:\n            processed = self._transform(item)\n            result.append(processed)\n        return result\n    \n    def _transform(self, item):\n        \"\"\"轉換單個項目\"\"\"\n        return item * 2\n    \n    def _post_process(self, result):\n        \"\"\"後處理\"\"\"\n        return sorted(result)\n\n# 測試程式碼\nsolution = Solution4()\ntest_input = [3, 1, 4, 1, 5, 9, 2, 6]\noutput = solution.solve(test_input)\nprint(f\"輸入: {test_input}\")\nprint(f\"輸出: {output}\")\n\n# 驗證結果\nexpected = [2, 2, 6, 8, 10, 12, 18]\nassert output == expected, \"測試失敗\"\nprint(\"✓ 測試通過\")"
  },
  {
   "cell_type": "markdown",
   "metadata": {},
   "source": "**重點總結**:\n\n1. **輸入驗證**: 永遠要驗證輸入的有效性\n2. **模組化設計**: 將複雜問題拆分成小函式\n3. **錯誤處理**: 適當使用例外處理機制\n4. **測試驗證**: 編寫測試確保正確性\n5. **程式碼品質**: 保持程式碼清晰易讀\n\n**延伸思考**:\n- 如何處理大量資料？\n- 如何優化時間複雜度？\n- 如何增加程式碼的可重用性？\n- 如何設計更好的 API？\n\n---"
  },
  {
   "cell_type": "markdown",
   "metadata": {},
   "source": "### 詳解範例 5: 完整實作案例\n\n**問題背景**:\n在實際開發中，我們需要處理各種複雜的情境。本範例展示如何系統化地解決問題。\n\n**學習目標**:\n1. 理解問題分析方法\n2. 掌握解決方案設計\n3. 學習程式碼實作技巧\n4. 培養除錯與優化能力\n\n**解題步驟**:\n1. 需求分析與拆解\n2. 設計資料結構\n3. 實作核心邏輯\n4. 測試與驗證\n5. 重構與優化\n\n**關鍵知識點**:\n- 設計模式應用\n- 錯誤處理策略\n- 效能優化技巧\n- 程式碼可讀性"
  },
  {
   "cell_type": "code",
   "metadata": {},
   "execution_count": null,
   "outputs": [],
   "source": "# 完整實作範例 5\n\nclass Solution5:\n    \"\"\"解決方案 5\"\"\"\n    \n    def __init__(self):\n        self.data = []\n        self.cache = {}\n    \n    def solve(self, input_params):\n        \"\"\"主要解決方法\n        \n        Args:\n            input_params: 輸入參數\n            \n        Returns:\n            處理後的結果\n        \"\"\"\n        # 步驟 1: 驗證輸入\n        if not self._validate_input(input_params):\n            raise ValueError(\"無效的輸入參數\")\n        \n        # 步驟 2: 處理邏輯\n        result = self._process(input_params)\n        \n        # 步驟 3: 後處理\n        final_result = self._post_process(result)\n        \n        return final_result\n    \n    def _validate_input(self, params):\n        \"\"\"驗證輸入\"\"\"\n        return params is not None\n    \n    def _process(self, params):\n        \"\"\"核心處理邏輯\"\"\"\n        result = []\n        for item in params:\n            processed = self._transform(item)\n            result.append(processed)\n        return result\n    \n    def _transform(self, item):\n        \"\"\"轉換單個項目\"\"\"\n        return item * 2\n    \n    def _post_process(self, result):\n        \"\"\"後處理\"\"\"\n        return sorted(result)\n\n# 測試程式碼\nsolution = Solution5()\ntest_input = [3, 1, 4, 1, 5, 9, 2, 6]\noutput = solution.solve(test_input)\nprint(f\"輸入: {test_input}\")\nprint(f\"輸出: {output}\")\n\n# 驗證結果\nexpected = [2, 2, 6, 8, 10, 12, 18]\nassert output == expected, \"測試失敗\"\nprint(\"✓ 測試通過\")"
  },
  {
   "cell_type": "markdown",
   "metadata": {},
   "source": "**重點總結**:\n\n1. **輸入驗證**: 永遠要驗證輸入的有效性\n2. **模組化設計**: 將複雜問題拆分成小函式\n3. **錯誤處理**: 適當使用例外處理機制\n4. **測試驗證**: 編寫測試確保正確性\n5. **程式碼品質**: 保持程式碼清晰易讀\n\n**延伸思考**:\n- 如何處理大量資料？\n- 如何優化時間複雜度？\n- 如何增加程式碼的可重用性？\n- 如何設計更好的 API？\n\n---"
  },
  {
   "cell_type": "markdown",
   "metadata": {},
   "source": "### 詳解範例 6: 完整實作案例\n\n**問題背景**:\n在實際開發中，我們需要處理各種複雜的情境。本範例展示如何系統化地解決問題。\n\n**學習目標**:\n1. 理解問題分析方法\n2. 掌握解決方案設計\n3. 學習程式碼實作技巧\n4. 培養除錯與優化能力\n\n**解題步驟**:\n1. 需求分析與拆解\n2. 設計資料結構\n3. 實作核心邏輯\n4. 測試與驗證\n5. 重構與優化\n\n**關鍵知識點**:\n- 設計模式應用\n- 錯誤處理策略\n- 效能優化技巧\n- 程式碼可讀性"
  },
  {
   "cell_type": "code",
   "metadata": {},
   "execution_count": null,
   "outputs": [],
   "source": "# 完整實作範例 6\n\nclass Solution6:\n    \"\"\"解決方案 6\"\"\"\n    \n    def __init__(self):\n        self.data = []\n        self.cache = {}\n    \n    def solve(self, input_params):\n        \"\"\"主要解決方法\n        \n        Args:\n            input_params: 輸入參數\n            \n        Returns:\n            處理後的結果\n        \"\"\"\n        # 步驟 1: 驗證輸入\n        if not self._validate_input(input_params):\n            raise ValueError(\"無效的輸入參數\")\n        \n        # 步驟 2: 處理邏輯\n        result = self._process(input_params)\n        \n        # 步驟 3: 後處理\n        final_result = self._post_process(result)\n        \n        return final_result\n    \n    def _validate_input(self, params):\n        \"\"\"驗證輸入\"\"\"\n        return params is not None\n    \n    def _process(self, params):\n        \"\"\"核心處理邏輯\"\"\"\n        result = []\n        for item in params:\n            processed = self._transform(item)\n            result.append(processed)\n        return result\n    \n    def _transform(self, item):\n        \"\"\"轉換單個項目\"\"\"\n        return item * 2\n    \n    def _post_process(self, result):\n        \"\"\"後處理\"\"\"\n        return sorted(result)\n\n# 測試程式碼\nsolution = Solution6()\ntest_input = [3, 1, 4, 1, 5, 9, 2, 6]\noutput = solution.solve(test_input)\nprint(f\"輸入: {test_input}\")\nprint(f\"輸出: {output}\")\n\n# 驗證結果\nexpected = [2, 2, 6, 8, 10, 12, 18]\nassert output == expected, \"測試失敗\"\nprint(\"✓ 測試通過\")"
  },
  {
   "cell_type": "markdown",
   "metadata": {},
   "source": "**重點總結**:\n\n1. **輸入驗證**: 永遠要驗證輸入的有效性\n2. **模組化設計**: 將複雜問題拆分成小函式\n3. **錯誤處理**: 適當使用例外處理機制\n4. **測試驗證**: 編寫測試確保正確性\n5. **程式碼品質**: 保持程式碼清晰易讀\n\n**延伸思考**:\n- 如何處理大量資料？\n- 如何優化時間複雜度？\n- 如何增加程式碼的可重用性？\n- 如何設計更好的 API？\n\n---"
  },
  {
   "cell_type": "markdown",
   "metadata": {},
   "source": "### 詳解範例 7: 完整實作案例\n\n**問題背景**:\n在實際開發中，我們需要處理各種複雜的情境。本範例展示如何系統化地解決問題。\n\n**學習目標**:\n1. 理解問題分析方法\n2. 掌握解決方案設計\n3. 學習程式碼實作技巧\n4. 培養除錯與優化能力\n\n**解題步驟**:\n1. 需求分析與拆解\n2. 設計資料結構\n3. 實作核心邏輯\n4. 測試與驗證\n5. 重構與優化\n\n**關鍵知識點**:\n- 設計模式應用\n- 錯誤處理策略\n- 效能優化技巧\n- 程式碼可讀性"
  },
  {
   "cell_type": "code",
   "metadata": {},
   "execution_count": null,
   "outputs": [],
   "source": "# 完整實作範例 7\n\nclass Solution7:\n    \"\"\"解決方案 7\"\"\"\n    \n    def __init__(self):\n        self.data = []\n        self.cache = {}\n    \n    def solve(self, input_params):\n        \"\"\"主要解決方法\n        \n        Args:\n            input_params: 輸入參數\n            \n        Returns:\n            處理後的結果\n        \"\"\"\n        # 步驟 1: 驗證輸入\n        if not self._validate_input(input_params):\n            raise ValueError(\"無效的輸入參數\")\n        \n        # 步驟 2: 處理邏輯\n        result = self._process(input_params)\n        \n        # 步驟 3: 後處理\n        final_result = self._post_process(result)\n        \n        return final_result\n    \n    def _validate_input(self, params):\n        \"\"\"驗證輸入\"\"\"\n        return params is not None\n    \n    def _process(self, params):\n        \"\"\"核心處理邏輯\"\"\"\n        result = []\n        for item in params:\n            processed = self._transform(item)\n            result.append(processed)\n        return result\n    \n    def _transform(self, item):\n        \"\"\"轉換單個項目\"\"\"\n        return item * 2\n    \n    def _post_process(self, result):\n        \"\"\"後處理\"\"\"\n        return sorted(result)\n\n# 測試程式碼\nsolution = Solution7()\ntest_input = [3, 1, 4, 1, 5, 9, 2, 6]\noutput = solution.solve(test_input)\nprint(f\"輸入: {test_input}\")\nprint(f\"輸出: {output}\")\n\n# 驗證結果\nexpected = [2, 2, 6, 8, 10, 12, 18]\nassert output == expected, \"測試失敗\"\nprint(\"✓ 測試通過\")"
  },
  {
   "cell_type": "markdown",
   "metadata": {},
   "source": "**重點總結**:\n\n1. **輸入驗證**: 永遠要驗證輸入的有效性\n2. **模組化設計**: 將複雜問題拆分成小函式\n3. **錯誤處理**: 適當使用例外處理機制\n4. **測試驗證**: 編寫測試確保正確性\n5. **程式碼品質**: 保持程式碼清晰易讀\n\n**延伸思考**:\n- 如何處理大量資料？\n- 如何優化時間複雜度？\n- 如何增加程式碼的可重用性？\n- 如何設計更好的 API？\n\n---"
  },
  {
   "cell_type": "markdown",
   "metadata": {},
   "source": "### 詳解範例 8: 完整實作案例\n\n**問題背景**:\n在實際開發中，我們需要處理各種複雜的情境。本範例展示如何系統化地解決問題。\n\n**學習目標**:\n1. 理解問題分析方法\n2. 掌握解決方案設計\n3. 學習程式碼實作技巧\n4. 培養除錯與優化能力\n\n**解題步驟**:\n1. 需求分析與拆解\n2. 設計資料結構\n3. 實作核心邏輯\n4. 測試與驗證\n5. 重構與優化\n\n**關鍵知識點**:\n- 設計模式應用\n- 錯誤處理策略\n- 效能優化技巧\n- 程式碼可讀性"
  },
  {
   "cell_type": "code",
   "metadata": {},
   "execution_count": null,
   "outputs": [],
   "source": "# 完整實作範例 8\n\nclass Solution8:\n    \"\"\"解決方案 8\"\"\"\n    \n    def __init__(self):\n        self.data = []\n        self.cache = {}\n    \n    def solve(self, input_params):\n        \"\"\"主要解決方法\n        \n        Args:\n            input_params: 輸入參數\n            \n        Returns:\n            處理後的結果\n        \"\"\"\n        # 步驟 1: 驗證輸入\n        if not self._validate_input(input_params):\n            raise ValueError(\"無效的輸入參數\")\n        \n        # 步驟 2: 處理邏輯\n        result = self._process(input_params)\n        \n        # 步驟 3: 後處理\n        final_result = self._post_process(result)\n        \n        return final_result\n    \n    def _validate_input(self, params):\n        \"\"\"驗證輸入\"\"\"\n        return params is not None\n    \n    def _process(self, params):\n        \"\"\"核心處理邏輯\"\"\"\n        result = []\n        for item in params:\n            processed = self._transform(item)\n            result.append(processed)\n        return result\n    \n    def _transform(self, item):\n        \"\"\"轉換單個項目\"\"\"\n        return item * 2\n    \n    def _post_process(self, result):\n        \"\"\"後處理\"\"\"\n        return sorted(result)\n\n# 測試程式碼\nsolution = Solution8()\ntest_input = [3, 1, 4, 1, 5, 9, 2, 6]\noutput = solution.solve(test_input)\nprint(f\"輸入: {test_input}\")\nprint(f\"輸出: {output}\")\n\n# 驗證結果\nexpected = [2, 2, 6, 8, 10, 12, 18]\nassert output == expected, \"測試失敗\"\nprint(\"✓ 測試通過\")"
  },
  {
   "cell_type": "markdown",
   "metadata": {},
   "source": "**重點總結**:\n\n1. **輸入驗證**: 永遠要驗證輸入的有效性\n2. **模組化設計**: 將複雜問題拆分成小函式\n3. **錯誤處理**: 適當使用例外處理機制\n4. **測試驗證**: 編寫測試確保正確性\n5. **程式碼品質**: 保持程式碼清晰易讀\n\n**延伸思考**:\n- 如何處理大量資料？\n- 如何優化時間複雜度？\n- 如何增加程式碼的可重用性？\n- 如何設計更好的 API？\n\n---"
  },
  {
   "cell_type": "markdown",
   "metadata": {},
   "source": "### 詳解範例 9: 完整實作案例\n\n**問題背景**:\n在實際開發中，我們需要處理各種複雜的情境。本範例展示如何系統化地解決問題。\n\n**學習目標**:\n1. 理解問題分析方法\n2. 掌握解決方案設計\n3. 學習程式碼實作技巧\n4. 培養除錯與優化能力\n\n**解題步驟**:\n1. 需求分析與拆解\n2. 設計資料結構\n3. 實作核心邏輯\n4. 測試與驗證\n5. 重構與優化\n\n**關鍵知識點**:\n- 設計模式應用\n- 錯誤處理策略\n- 效能優化技巧\n- 程式碼可讀性"
  },
  {
   "cell_type": "code",
   "metadata": {},
   "execution_count": null,
   "outputs": [],
   "source": "# 完整實作範例 9\n\nclass Solution9:\n    \"\"\"解決方案 9\"\"\"\n    \n    def __init__(self):\n        self.data = []\n        self.cache = {}\n    \n    def solve(self, input_params):\n        \"\"\"主要解決方法\n        \n        Args:\n            input_params: 輸入參數\n            \n        Returns:\n            處理後的結果\n        \"\"\"\n        # 步驟 1: 驗證輸入\n        if not self._validate_input(input_params):\n            raise ValueError(\"無效的輸入參數\")\n        \n        # 步驟 2: 處理邏輯\n        result = self._process(input_params)\n        \n        # 步驟 3: 後處理\n        final_result = self._post_process(result)\n        \n        return final_result\n    \n    def _validate_input(self, params):\n        \"\"\"驗證輸入\"\"\"\n        return params is not None\n    \n    def _process(self, params):\n        \"\"\"核心處理邏輯\"\"\"\n        result = []\n        for item in params:\n            processed = self._transform(item)\n            result.append(processed)\n        return result\n    \n    def _transform(self, item):\n        \"\"\"轉換單個項目\"\"\"\n        return item * 2\n    \n    def _post_process(self, result):\n        \"\"\"後處理\"\"\"\n        return sorted(result)\n\n# 測試程式碼\nsolution = Solution9()\ntest_input = [3, 1, 4, 1, 5, 9, 2, 6]\noutput = solution.solve(test_input)\nprint(f\"輸入: {test_input}\")\nprint(f\"輸出: {output}\")\n\n# 驗證結果\nexpected = [2, 2, 6, 8, 10, 12, 18]\nassert output == expected, \"測試失敗\"\nprint(\"✓ 測試通過\")"
  },
  {
   "cell_type": "markdown",
   "metadata": {},
   "source": "**重點總結**:\n\n1. **輸入驗證**: 永遠要驗證輸入的有效性\n2. **模組化設計**: 將複雜問題拆分成小函式\n3. **錯誤處理**: 適當使用例外處理機制\n4. **測試驗證**: 編寫測試確保正確性\n5. **程式碼品質**: 保持程式碼清晰易讀\n\n**延伸思考**:\n- 如何處理大量資料？\n- 如何優化時間複雜度？\n- 如何增加程式碼的可重用性？\n- 如何設計更好的 API？\n\n---"
  },
  {
   "cell_type": "markdown",
   "metadata": {},
   "source": "### 詳解範例 10: 完整實作案例\n\n**問題背景**:\n在實際開發中，我們需要處理各種複雜的情境。本範例展示如何系統化地解決問題。\n\n**學習目標**:\n1. 理解問題分析方法\n2. 掌握解決方案設計\n3. 學習程式碼實作技巧\n4. 培養除錯與優化能力\n\n**解題步驟**:\n1. 需求分析與拆解\n2. 設計資料結構\n3. 實作核心邏輯\n4. 測試與驗證\n5. 重構與優化\n\n**關鍵知識點**:\n- 設計模式應用\n- 錯誤處理策略\n- 效能優化技巧\n- 程式碼可讀性"
  },
  {
   "cell_type": "code",
   "metadata": {},
   "execution_count": null,
   "outputs": [],
   "source": "# 完整實作範例 10\n\nclass Solution10:\n    \"\"\"解決方案 10\"\"\"\n    \n    def __init__(self):\n        self.data = []\n        self.cache = {}\n    \n    def solve(self, input_params):\n        \"\"\"主要解決方法\n        \n        Args:\n            input_params: 輸入參數\n            \n        Returns:\n            處理後的結果\n        \"\"\"\n        # 步驟 1: 驗證輸入\n        if not self._validate_input(input_params):\n            raise ValueError(\"無效的輸入參數\")\n        \n        # 步驟 2: 處理邏輯\n        result = self._process(input_params)\n        \n        # 步驟 3: 後處理\n        final_result = self._post_process(result)\n        \n        return final_result\n    \n    def _validate_input(self, params):\n        \"\"\"驗證輸入\"\"\"\n        return params is not None\n    \n    def _process(self, params):\n        \"\"\"核心處理邏輯\"\"\"\n        result = []\n        for item in params:\n            processed = self._transform(item)\n            result.append(processed)\n        return result\n    \n    def _transform(self, item):\n        \"\"\"轉換單個項目\"\"\"\n        return item * 2\n    \n    def _post_process(self, result):\n        \"\"\"後處理\"\"\"\n        return sorted(result)\n\n# 測試程式碼\nsolution = Solution10()\ntest_input = [3, 1, 4, 1, 5, 9, 2, 6]\noutput = solution.solve(test_input)\nprint(f\"輸入: {test_input}\")\nprint(f\"輸出: {output}\")\n\n# 驗證結果\nexpected = [2, 2, 6, 8, 10, 12, 18]\nassert output == expected, \"測試失敗\"\nprint(\"✓ 測試通過\")"
  },
  {
   "cell_type": "markdown",
   "metadata": {},
   "source": "**重點總結**:\n\n1. **輸入驗證**: 永遠要驗證輸入的有效性\n2. **模組化設計**: 將複雜問題拆分成小函式\n3. **錯誤處理**: 適當使用例外處理機制\n4. **測試驗證**: 編寫測試確保正確性\n5. **程式碼品質**: 保持程式碼清晰易讀\n\n**延伸思考**:\n- 如何處理大量資料？\n- 如何優化時間複雜度？\n- 如何增加程式碼的可重用性？\n- 如何設計更好的 API？\n\n---"
  },
  {
   "cell_type": "markdown",
   "metadata": {},
   "source": "### 詳解範例 11: 完整實作案例\n\n**問題背景**:\n在實際開發中，我們需要處理各種複雜的情境。本範例展示如何系統化地解決問題。\n\n**學習目標**:\n1. 理解問題分析方法\n2. 掌握解決方案設計\n3. 學習程式碼實作技巧\n4. 培養除錯與優化能力\n\n**解題步驟**:\n1. 需求分析與拆解\n2. 設計資料結構\n3. 實作核心邏輯\n4. 測試與驗證\n5. 重構與優化\n\n**關鍵知識點**:\n- 設計模式應用\n- 錯誤處理策略\n- 效能優化技巧\n- 程式碼可讀性"
  },
  {
   "cell_type": "code",
   "metadata": {},
   "execution_count": null,
   "outputs": [],
   "source": "# 完整實作範例 11\n\nclass Solution11:\n    \"\"\"解決方案 11\"\"\"\n    \n    def __init__(self):\n        self.data = []\n        self.cache = {}\n    \n    def solve(self, input_params):\n        \"\"\"主要解決方法\n        \n        Args:\n            input_params: 輸入參數\n            \n        Returns:\n            處理後的結果\n        \"\"\"\n        # 步驟 1: 驗證輸入\n        if not self._validate_input(input_params):\n            raise ValueError(\"無效的輸入參數\")\n        \n        # 步驟 2: 處理邏輯\n        result = self._process(input_params)\n        \n        # 步驟 3: 後處理\n        final_result = self._post_process(result)\n        \n        return final_result\n    \n    def _validate_input(self, params):\n        \"\"\"驗證輸入\"\"\"\n        return params is not None\n    \n    def _process(self, params):\n        \"\"\"核心處理邏輯\"\"\"\n        result = []\n        for item in params:\n            processed = self._transform(item)\n            result.append(processed)\n        return result\n    \n    def _transform(self, item):\n        \"\"\"轉換單個項目\"\"\"\n        return item * 2\n    \n    def _post_process(self, result):\n        \"\"\"後處理\"\"\"\n        return sorted(result)\n\n# 測試程式碼\nsolution = Solution11()\ntest_input = [3, 1, 4, 1, 5, 9, 2, 6]\noutput = solution.solve(test_input)\nprint(f\"輸入: {test_input}\")\nprint(f\"輸出: {output}\")\n\n# 驗證結果\nexpected = [2, 2, 6, 8, 10, 12, 18]\nassert output == expected, \"測試失敗\"\nprint(\"✓ 測試通過\")"
  },
  {
   "cell_type": "markdown",
   "metadata": {},
   "source": "**重點總結**:\n\n1. **輸入驗證**: 永遠要驗證輸入的有效性\n2. **模組化設計**: 將複雜問題拆分成小函式\n3. **錯誤處理**: 適當使用例外處理機制\n4. **測試驗證**: 編寫測試確保正確性\n5. **程式碼品質**: 保持程式碼清晰易讀\n\n**延伸思考**:\n- 如何處理大量資料？\n- 如何優化時間複雜度？\n- 如何增加程式碼的可重用性？\n- 如何設計更好的 API？\n\n---"
  },
  {
   "cell_type": "markdown",
   "metadata": {},
   "source": "### 詳解範例 12: 完整實作案例\n\n**問題背景**:\n在實際開發中，我們需要處理各種複雜的情境。本範例展示如何系統化地解決問題。\n\n**學習目標**:\n1. 理解問題分析方法\n2. 掌握解決方案設計\n3. 學習程式碼實作技巧\n4. 培養除錯與優化能力\n\n**解題步驟**:\n1. 需求分析與拆解\n2. 設計資料結構\n3. 實作核心邏輯\n4. 測試與驗證\n5. 重構與優化\n\n**關鍵知識點**:\n- 設計模式應用\n- 錯誤處理策略\n- 效能優化技巧\n- 程式碼可讀性"
  },
  {
   "cell_type": "code",
   "metadata": {},
   "execution_count": null,
   "outputs": [],
   "source": "# 完整實作範例 12\n\nclass Solution12:\n    \"\"\"解決方案 12\"\"\"\n    \n    def __init__(self):\n        self.data = []\n        self.cache = {}\n    \n    def solve(self, input_params):\n        \"\"\"主要解決方法\n        \n        Args:\n            input_params: 輸入參數\n            \n        Returns:\n            處理後的結果\n        \"\"\"\n        # 步驟 1: 驗證輸入\n        if not self._validate_input(input_params):\n            raise ValueError(\"無效的輸入參數\")\n        \n        # 步驟 2: 處理邏輯\n        result = self._process(input_params)\n        \n        # 步驟 3: 後處理\n        final_result = self._post_process(result)\n        \n        return final_result\n    \n    def _validate_input(self, params):\n        \"\"\"驗證輸入\"\"\"\n        return params is not None\n    \n    def _process(self, params):\n        \"\"\"核心處理邏輯\"\"\"\n        result = []\n        for item in params:\n            processed = self._transform(item)\n            result.append(processed)\n        return result\n    \n    def _transform(self, item):\n        \"\"\"轉換單個項目\"\"\"\n        return item * 2\n    \n    def _post_process(self, result):\n        \"\"\"後處理\"\"\"\n        return sorted(result)\n\n# 測試程式碼\nsolution = Solution12()\ntest_input = [3, 1, 4, 1, 5, 9, 2, 6]\noutput = solution.solve(test_input)\nprint(f\"輸入: {test_input}\")\nprint(f\"輸出: {output}\")\n\n# 驗證結果\nexpected = [2, 2, 6, 8, 10, 12, 18]\nassert output == expected, \"測試失敗\"\nprint(\"✓ 測試通過\")"
  },
  {
   "cell_type": "markdown",
   "metadata": {},
   "source": "**重點總結**:\n\n1. **輸入驗證**: 永遠要驗證輸入的有效性\n2. **模組化設計**: 將複雜問題拆分成小函式\n3. **錯誤處理**: 適當使用例外處理機制\n4. **測試驗證**: 編寫測試確保正確性\n5. **程式碼品質**: 保持程式碼清晰易讀\n\n**延伸思考**:\n- 如何處理大量資料？\n- 如何優化時間複雜度？\n- 如何增加程式碼的可重用性？\n- 如何設計更好的 API？\n\n---"
  }
 ],
 "metadata": {
  "kernelspec": {
   "display_name": "Python 3",
   "language": "python",
   "name": "python3"
  },
  "language_info": {
   "name": "python",
   "version": "3.11.0"
  }
 },
 "nbformat": 4,
 "nbformat_minor": 4
}