{
 "cells": [
  {
   "cell_type": "markdown",
   "metadata": {},
   "source": [
    "# 版本控制基礎 | Version Control\n\n## ✍️ 課後習題 | Homework Exercises\n\n**預計時間**: 90 分鐘\n\n本習題包含 15-18 題練習，涵蓋基礎、進階和挑戰題。"
   ]
  },
  {
   "cell_type": "markdown",
   "metadata": {},
   "source": "### 📝 習題 1: Git 基本指令\n\n**難度**: ⭐\n\n**題目描述**:\n\n（習題內容）\n\n**要求**:\n1. 要求一\n2. 要求二\n3. 要求三"
  },
  {
   "cell_type": "code",
   "execution_count": null,
   "metadata": {},
   "outputs": [],
   "source": [
    "# 在此撰寫您的程式碼\n"
   ]
  },
  {
   "cell_type": "markdown",
   "metadata": {},
   "source": "### 📝 習題 2: 建立倉庫\n\n**難度**: ⭐⭐\n\n**題目描述**:\n\n（習題內容）\n\n**要求**:\n1. 要求一\n2. 要求二\n3. 要求三"
  },
  {
   "cell_type": "code",
   "execution_count": null,
   "metadata": {},
   "outputs": [],
   "source": [
    "# 在此撰寫您的程式碼\n"
   ]
  },
  {
   "cell_type": "markdown",
   "metadata": {},
   "source": "### 📝 習題 3: 提交變更\n\n**難度**: ⭐⭐⭐\n\n**題目描述**:\n\n（習題內容）\n\n**要求**:\n1. 要求一\n2. 要求二\n3. 要求三"
  },
  {
   "cell_type": "code",
   "execution_count": null,
   "metadata": {},
   "outputs": [],
   "source": [
    "# 在此撰寫您的程式碼\n"
   ]
  },
  {
   "cell_type": "markdown",
   "metadata": {},
   "source": "### 📝 習題 4: 分支管理\n\n**難度**: ⭐\n\n**題目描述**:\n\n（習題內容）\n\n**要求**:\n1. 要求一\n2. 要求二\n3. 要求三"
  },
  {
   "cell_type": "code",
   "execution_count": null,
   "metadata": {},
   "outputs": [],
   "source": [
    "# 在此撰寫您的程式碼\n"
   ]
  },
  {
   "cell_type": "markdown",
   "metadata": {},
   "source": "### 📝 習題 5: 合併衝突\n\n**難度**: ⭐⭐\n\n**題目描述**:\n\n（習題內容）\n\n**要求**:\n1. 要求一\n2. 要求二\n3. 要求三"
  },
  {
   "cell_type": "code",
   "execution_count": null,
   "metadata": {},
   "outputs": [],
   "source": [
    "# 在此撰寫您的程式碼\n"
   ]
  },
  {
   "cell_type": "markdown",
   "metadata": {},
   "source": "### 📝 習題 6: .gitignore\n\n**難度**: ⭐⭐⭐\n\n**題目描述**:\n\n（習題內容）\n\n**要求**:\n1. 要求一\n2. 要求二\n3. 要求三"
  },
  {
   "cell_type": "code",
   "execution_count": null,
   "metadata": {},
   "outputs": [],
   "source": [
    "# 在此撰寫您的程式碼\n"
   ]
  },
  {
   "cell_type": "markdown",
   "metadata": {},
   "source": "### 📝 習題 7: GitHub 協作\n\n**難度**: ⭐\n\n**題目描述**:\n\n（習題內容）\n\n**要求**:\n1. 要求一\n2. 要求二\n3. 要求三"
  },
  {
   "cell_type": "code",
   "execution_count": null,
   "metadata": {},
   "outputs": [],
   "source": [
    "# 在此撰寫您的程式碼\n"
   ]
  },
  {
   "cell_type": "markdown",
   "metadata": {},
   "source": "### 📝 習題 8: commit message 規範\n\n**難度**: ⭐⭐\n\n**題目描述**:\n\n（習題內容）\n\n**要求**:\n1. 要求一\n2. 要求二\n3. 要求三"
  },
  {
   "cell_type": "code",
   "execution_count": null,
   "metadata": {},
   "outputs": [],
   "source": [
    "# 在此撰寫您的程式碼\n"
   ]
  },
  {
   "cell_type": "markdown",
   "metadata": {},
   "source": "### 習題 15: 設計 Git Branching Strategy\n\n為一個中型團隊（10 人）設計完整的 Git 分支策略:\n\n**要求**:\n1. 定義主要分支（main, develop, release 等）\n2. 定義支援分支（feature, bugfix, hotfix）\n3. 分支命名規範\n4. 合併規則（何時用 merge, 何時用 rebase）\n5. Tag 規範（版本號格式）\n6. Commit message 規範（使用 Conventional Commits）\n7. Pull Request 流程\n8. Code Review 檢查清單\n9. CI/CD 整合點\n10. 緊急 hotfix 流程\n\n以 Markdown 格式撰寫完整文件。"
  },
  {
   "cell_type": "code",
   "execution_count": null,
   "metadata": {},
   "outputs": [],
   "source": "# 你的答案 (可以使用 %%writefile git_workflow.md)\n"
  },
  {
   "cell_type": "markdown",
   "metadata": {},
   "source": "### 習題 16: Git Hooks 自動化\n\n建立 Git Hooks 來自動化開發流程:\n\n**要求**:\n1. **pre-commit hook**: 檢查程式碼風格（flake8, black）\n2. **commit-msg hook**: 驗證 commit message 格式\n3. **pre-push hook**: 執行測試\n4. **post-merge hook**: 自動安裝依賴（requirements.txt 變更時）\n\n撰寫完整的 shell script 並說明如何安裝。"
  },
  {
   "cell_type": "code",
   "execution_count": null,
   "metadata": {},
   "outputs": [],
   "source": "# 你的答案\n"
  },
  {
   "cell_type": "markdown",
   "metadata": {},
   "source": "### 習題 17: 修復 Git 歷史記錄\n\n處理以下 Git 歷史問題:\n\n**問題 1**: 最後一次 commit message 寫錯了\n```bash\n# 如何修正？\n```\n\n**問題 2**: 不小心 commit 了敏感檔案（如 .env）\n```bash\n# 如何從歷史中完全移除？\n```\n\n**問題 3**: 想要合併最近 3 個 commit\n```bash\n# 如何使用 interactive rebase？\n```\n\n**問題 4**: 不小心 commit 到錯誤的分支\n```bash\n# 如何將 commit 移到正確的分支？\n```\n\n撰寫完整的命令與解釋。"
  },
  {
   "cell_type": "code",
   "execution_count": null,
   "metadata": {},
   "outputs": [],
   "source": "# 你的答案\n"
  },
  {
   "cell_type": "markdown",
   "metadata": {},
   "source": "### 習題 18: GitHub Actions CI/CD Pipeline\n\n為 Python 專案建立 GitHub Actions workflow:\n\n**要求**:\n1. 在 PR 時執行:\n   - Lint (flake8, black check)\n   - Type check (mypy)\n   - Tests (pytest)\n   - Coverage report\n2. 在 merge 到 main 時:\n   - 建立 Docker image\n   - 推送到 Docker Hub\n   - 部署到 staging 環境\n3. 在建立 tag 時:\n   - 建立 GitHub Release\n   - 上傳 artifacts\n   - 部署到 production\n\n撰寫完整的 `.github/workflows/ci.yml` 檔案。"
  },
  {
   "cell_type": "code",
   "execution_count": null,
   "metadata": {},
   "outputs": [],
   "source": "# 你的答案 (可以使用 %%writefile .github/workflows/ci.yml)\n"
  }
 ],
 "metadata": {
  "kernelspec": {
   "display_name": "Python 3",
   "language": "python",
   "name": "python3"
  },
  "language_info": {
   "name": "python",
   "version": "3.11.0"
  }
 },
 "nbformat": 4,
 "nbformat_minor": 4
}