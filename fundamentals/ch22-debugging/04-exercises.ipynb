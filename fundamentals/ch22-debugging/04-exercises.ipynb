{
 "cells": [
  {
   "cell_type": "markdown",
   "metadata": {},
   "source": [
    "# Ch22: 除錯技術 - 課後習題\n",
    "\n",
    "本 Notebook 包含 **12 題習題**，涵蓋除錯技術的各個層面。\n",
    "\n",
    "## 📝 習題說明\n",
    "\n",
    "- **基礎題 (1-4)**：熟悉 print debugging 與 logging 基礎\n",
    "- **中級題 (5-8)**：使用 pdb、breakpoint() 與 logging 進階應用\n",
    "- **進階題 (9-10)**：除錯複雜邏輯（遞迴、多層函式呼叫）\n",
    "- **挑戰題 (11-12)**：撰寫完整除錯報告、效能優化\n",
    "\n",
    "## 💡 學習建議\n",
    "\n",
    "1. 先自己思考並嘗試解題\n",
    "2. 參考 `01-lecture.ipynb` 與 `02-worked-examples.ipynb` 的範例\n",
    "3. 完成後對照 `05-solutions.ipynb` 的詳細解答\n",
    "\n",
    "---"
   ]
  },
  {
   "cell_type": "markdown",
   "metadata": {},
   "source": [
    "## 基礎題\n",
    "\n",
    "---\n",
    "\n",
    "### 習題 1：使用 print debugging 追蹤變數（基礎）⭐\n",
    "\n",
    "**題目**：以下程式要找出列表中的最小值，但結果不正確。使用 print() 追蹤變數值，找出並修正錯誤。"
   ]
  },
  {
   "cell_type": "code",
   "execution_count": null,
   "metadata": {},
   "outputs": [],
   "source": [
    "# 有錯誤的程式\n",
    "\n",
    "def find_min(numbers):\n",
    "    \"\"\"\n",
    "    找出列表中的最小值\n",
    "    \"\"\"\n",
    "    min_val = 0  # 這裡有 bug\n",
    "    for num in numbers:\n",
    "        if num < min_val:\n",
    "            min_val = num\n",
    "    return min_val\n",
    "\n",
    "# 測試\n",
    "print(find_min([5, 2, 8, 1, 9]))  # 期望 1，實際 1 ✓\n",
    "print(find_min([10, 20, 30]))  # 期望 10，實際 0 ✗"
   ]
  },
  {
   "cell_type": "markdown",
   "metadata": {},
   "source": [
    "**要求**：\n",
    "1. 使用 print() 追蹤 `min_val` 和 `num` 的變化\n",
    "2. 找出錯誤原因\n",
    "3. 修正程式碼"
   ]
  },
  {
   "cell_type": "code",
   "execution_count": null,
   "metadata": {},
   "outputs": [],
   "source": [
    "# 請在此撰寫你的解答\n"
   ]
  },
  {
   "cell_type": "markdown",
   "metadata": {},
   "source": [
    "---\n",
    "\n",
    "### 習題 2：使用 logging 記錄程式執行（基礎）⭐\n",
    "\n",
    "**題目**：撰寫一個計算圓面積的函式，使用 logging 模組記錄：\n",
    "- INFO: 輸入的半徑值\n",
    "- DEBUG: 計算過程（π × r²）\n",
    "- WARNING: 如果半徑為負數\n",
    "- ERROR: 如果半徑不是數字"
   ]
  },
  {
   "cell_type": "code",
   "execution_count": null,
   "metadata": {},
   "outputs": [],
   "source": [
    "# 請在此撰寫你的解答\n",
    "\n",
    "import logging\n",
    "import math\n",
    "\n",
    "# 設定 logging\n",
    "logging.basicConfig(level=logging.DEBUG, format='%(levelname)s - %(message)s', force=True)\n",
    "\n",
    "def calculate_circle_area(radius):\n",
    "    \"\"\"\n",
    "    計算圓面積，並使用 logging 記錄過程\n",
    "    \n",
    "    參數:\n",
    "        radius: 半徑\n",
    "    \n",
    "    返回:\n",
    "        圓面積，如果輸入無效則返回 None\n",
    "    \"\"\"\n",
    "    # 在此撰寫你的程式碼\n",
    "    pass\n",
    "\n",
    "# 測試\n",
    "print(calculate_circle_area(5))  # 正常\n",
    "print(calculate_circle_area(-3))  # 負數警告\n",
    "print(calculate_circle_area(\"abc\"))  # 型別錯誤"
   ]
  },
  {
   "cell_type": "markdown",
   "metadata": {},
   "source": [
    "---\n",
    "\n",
    "### 習題 3：解讀 traceback 訊息（基礎）⭐\n",
    "\n",
    "**題目**：以下程式會拋出錯誤，請：\n",
    "1. 執行程式，觀察 traceback 訊息\n",
    "2. 說明錯誤發生在哪一行\n",
    "3. 說明錯誤的原因\n",
    "4. 修正錯誤"
   ]
  },
  {
   "cell_type": "code",
   "execution_count": null,
   "metadata": {},
   "outputs": [],
   "source": [
    "# 有錯誤的程式\n",
    "\n",
    "def calculate_discount(price, discount_rate):\n",
    "    \"\"\"\n",
    "    計算折扣後的價格\n",
    "    \"\"\"\n",
    "    discount = price * discount_rate\n",
    "    final_price = price - discount\n",
    "    return final_price\n",
    "\n",
    "def apply_coupon(price, coupon_code):\n",
    "    \"\"\"\n",
    "    套用優惠券\n",
    "    \"\"\"\n",
    "    discount_rates = {\n",
    "        \"SAVE10\": 0.1,\n",
    "        \"SAVE20\": 0.2\n",
    "    }\n",
    "    rate = discount_rates[coupon_code]  # 這裡可能出錯\n",
    "    return calculate_discount(price, rate)\n",
    "\n",
    "# 測試\n",
    "print(apply_coupon(100, \"SAVE10\"))  # 正常\n",
    "print(apply_coupon(100, \"INVALID\"))  # 會出錯"
   ]
  },
  {
   "cell_type": "markdown",
   "metadata": {},
   "source": [
    "**請回答**：\n",
    "1. 錯誤類型：\n",
    "2. 錯誤發生在哪一行：\n",
    "3. 錯誤原因：\n",
    "4. 修正方案："
   ]
  },
  {
   "cell_type": "code",
   "execution_count": null,
   "metadata": {},
   "outputs": [],
   "source": [
    "# 請在此撰寫修正後的程式碼\n"
   ]
  },
  {
   "cell_type": "markdown",
   "metadata": {},
   "source": [
    "---\n",
    "\n",
    "### 習題 4：修正簡單的語法錯誤（基礎）⭐\n",
    "\n",
    "**題目**：以下程式有多個語法錯誤，請找出並修正所有錯誤。"
   ]
  },
  {
   "cell_type": "code",
   "execution_count": null,
   "metadata": {},
   "outputs": [],
   "source": [
    "# 有多個語法錯誤的程式\n",
    "\n",
    "def check_password(password)\n",
    "    \"\"\"\n",
    "    檢查密碼強度\n",
    "    \"\"\"\n",
    "    if len(password) < 8\n",
    "        return \"密碼太短\"\n",
    "    elif len(password) >= 8 and len(password) < 12:\n",
    "        return \"密碼強度：中等\"\n",
    "    else\n",
    "        return \"密碼強度：強\"\n",
    "\n",
    "# 測試\n",
    "print(check_password(\"abc\"))\n",
    "print(check_password(\"password123\"))\n",
    "print(check_password(\"verylongpassword\"))"
   ]
  },
  {
   "cell_type": "code",
   "execution_count": null,
   "metadata": {},
   "outputs": [],
   "source": [
    "# 請在此撰寫修正後的程式碼\n"
   ]
  },
  {
   "cell_type": "markdown",
   "metadata": {},
   "source": [
    "---\n",
    "\n",
    "## 中級題\n",
    "\n",
    "---\n",
    "\n",
    "### 習題 5：使用 pdb 除錯迴圈（中級）⭐⭐\n",
    "\n",
    "**題目**：以下程式要找出列表中所有的質數，但結果不正確。\n",
    "\n",
    "**要求**：\n",
    "1. 使用 breakpoint() 設定中斷點\n",
    "2. 在 pdb 中使用 `p` 指令檢視變數\n",
    "3. 找出邏輯錯誤並修正\n",
    "\n",
    "**提示**：可以在命令列執行此腳本以使用 pdb，或在 Jupyter 中使用 logging 替代"
   ]
  },
  {
   "cell_type": "code",
   "execution_count": null,
   "metadata": {},
   "outputs": [],
   "source": [
    "# 有錯誤的程式\n",
    "\n",
    "def find_primes(n):\n",
    "    \"\"\"\n",
    "    找出 2 到 n 之間的所有質數\n",
    "    \"\"\"\n",
    "    primes = []\n",
    "    for num in range(2, n + 1):\n",
    "        is_prime = True\n",
    "        for i in range(2, num):\n",
    "            if num % i != 0:  # Bug: 邏輯錯誤\n",
    "                is_prime = False\n",
    "                break\n",
    "        if is_prime:\n",
    "            primes.append(num)\n",
    "    return primes\n",
    "\n",
    "# 測試\n",
    "result = find_primes(10)\n",
    "print(f\"2 到 10 的質數：{result}\")\n",
    "print(f\"期望：[2, 3, 5, 7]\")"
   ]
  },
  {
   "cell_type": "code",
   "execution_count": null,
   "metadata": {},
   "outputs": [],
   "source": [
    "# 請在此撰寫修正後的程式碼（可加入 logging）\n"
   ]
  },
  {
   "cell_type": "markdown",
   "metadata": {},
   "source": [
    "---\n",
    "\n",
    "### 習題 6：使用 breakpoint() 除錯函式（中級）⭐⭐\n",
    "\n",
    "**題目**：撰寫一個函式計算 n! (n 階乘)，使用 breakpoint() 在關鍵位置設定中斷點，並在 pdb 中：\n",
    "1. 使用 `p` 檢視變數值\n",
    "2. 使用 `n` 單步執行\n",
    "3. 使用 `c` 繼續執行\n",
    "\n",
    "**提示**：在 Jupyter 中 breakpoint() 可能無法正常使用，請改用 logging 示範除錯過程"
   ]
  },
  {
   "cell_type": "code",
   "execution_count": null,
   "metadata": {},
   "outputs": [],
   "source": [
    "# 請在此撰寫你的解答（使用 logging 模擬 pdb 除錯過程）\n",
    "\n",
    "import logging\n",
    "\n",
    "logging.basicConfig(level=logging.DEBUG, format='%(message)s', force=True)\n",
    "\n",
    "def factorial(n):\n",
    "    \"\"\"\n",
    "    計算 n! (使用迴圈)\n",
    "    \n",
    "    要求：使用 logging 記錄每次迴圈的變數值\n",
    "    \"\"\"\n",
    "    # 在此撰寫你的程式碼\n",
    "    pass\n",
    "\n",
    "# 測試\n",
    "print(factorial(5))  # 應該是 120"
   ]
  },
  {
   "cell_type": "markdown",
   "metadata": {},
   "source": [
    "---\n",
    "\n",
    "### 習題 7：找出並修正邏輯錯誤（中級）⭐⭐\n",
    "\n",
    "**題目**：以下程式要反轉字串，但結果不正確。使用 logging 追蹤並修正。"
   ]
  },
  {
   "cell_type": "code",
   "execution_count": null,
   "metadata": {},
   "outputs": [],
   "source": [
    "# 有錯誤的程式\n",
    "\n",
    "def reverse_string_buggy(s):\n",
    "    \"\"\"\n",
    "    反轉字串（有 bug）\n",
    "    \"\"\"\n",
    "    result = \"\"\n",
    "    for i in range(len(s)):\n",
    "        result = result + s[i]  # Bug: 沒有反轉\n",
    "    return result\n",
    "\n",
    "# 測試\n",
    "print(reverse_string_buggy(\"hello\"))  # 期望 \"olleh\"，實際 \"hello\""
   ]
  },
  {
   "cell_type": "code",
   "execution_count": null,
   "metadata": {},
   "outputs": [],
   "source": [
    "# 請在此撰寫修正後的程式碼（加入 logging 追蹤過程）\n"
   ]
  },
  {
   "cell_type": "markdown",
   "metadata": {},
   "source": [
    "---\n",
    "\n",
    "### 習題 8：設計 logging 配置（中級）⭐⭐\n",
    "\n",
    "**題目**：設計一個完整的 logging 配置，滿足以下要求：\n",
    "\n",
    "1. **螢幕輸出**：只顯示 WARNING 及以上級別\n",
    "2. **檔案輸出**：記錄所有 DEBUG 及以上級別到 `app.log`\n",
    "3. **格式化**：包含時間、級別、訊息\n",
    "\n",
    "並撰寫一個簡單的程式測試此配置。"
   ]
  },
  {
   "cell_type": "code",
   "execution_count": null,
   "metadata": {},
   "outputs": [],
   "source": [
    "# 請在此撰寫你的解答\n",
    "\n",
    "import logging\n",
    "\n",
    "# 設定 logger\n",
    "logger = logging.getLogger('my_app')\n",
    "logger.setLevel(logging.DEBUG)\n",
    "\n",
    "# 清除現有的 handler（避免重複）\n",
    "logger.handlers = []\n",
    "\n",
    "# 在此設定 handler 與 formatter\n",
    "\n",
    "\n",
    "# 測試函式\n",
    "def process_data(data):\n",
    "    logger.debug(f\"開始處理資料：{data}\")\n",
    "    \n",
    "    if not data:\n",
    "        logger.warning(\"資料為空\")\n",
    "        return None\n",
    "    \n",
    "    try:\n",
    "        result = sum(data) / len(data)\n",
    "        logger.info(f\"計算完成，平均值：{result}\")\n",
    "        return result\n",
    "    except TypeError as e:\n",
    "        logger.error(f\"型別錯誤：{e}\")\n",
    "        return None\n",
    "    except Exception as e:\n",
    "        logger.critical(f\"嚴重錯誤：{e}\")\n",
    "        return None\n",
    "\n",
    "# 測試\n",
    "print(process_data([1, 2, 3, 4, 5]))\n",
    "print(process_data([]))\n",
    "print(process_data([1, \"2\", 3]))"
   ]
  },
  {
   "cell_type": "markdown",
   "metadata": {},
   "source": [
    "---\n",
    "\n",
    "## 進階題\n",
    "\n",
    "---\n",
    "\n",
    "### 習題 9：除錯遞迴函式（進階）⭐⭐⭐\n",
    "\n",
    "**題目**：以下是計算最大公約數 (GCD) 的遞迴函式，但有錯誤。\n",
    "\n",
    "**要求**：\n",
    "1. 使用 logging 追蹤遞迴過程\n",
    "2. 找出錯誤並修正\n",
    "3. 加入邊界條件檢查"
   ]
  },
  {
   "cell_type": "code",
   "execution_count": null,
   "metadata": {},
   "outputs": [],
   "source": [
    "# 有錯誤的程式\n",
    "\n",
    "def gcd_buggy(a, b):\n",
    "    \"\"\"\n",
    "    使用歐幾里得演算法計算最大公約數（有 bug）\n",
    "    \n",
    "    GCD 演算法：\n",
    "    gcd(a, b) = gcd(b, a % b) if b != 0\n",
    "    gcd(a, 0) = a\n",
    "    \"\"\"\n",
    "    if b == 0:\n",
    "        return a\n",
    "    return gcd_buggy(a, a % b)  # Bug: 應該是 gcd_buggy(b, a % b)\n",
    "\n",
    "# 測試\n",
    "print(gcd_buggy(48, 18))  # 期望 6"
   ]
  },
  {
   "cell_type": "code",
   "execution_count": null,
   "metadata": {},
   "outputs": [],
   "source": [
    "# 請在此撰寫修正後的程式碼（加入 logging 追蹤遞迴）\n",
    "\n",
    "import logging\n",
    "\n",
    "logging.basicConfig(level=logging.DEBUG, format='%(message)s', force=True)\n",
    "\n",
    "# 在此撰寫你的程式碼\n"
   ]
  },
  {
   "cell_type": "markdown",
   "metadata": {},
   "source": [
    "---\n",
    "\n",
    "### 習題 10：除錯多層函式呼叫（進階）⭐⭐⭐\n",
    "\n",
    "**題目**：以下是一個計算購物車總價的系統，包含多層函式呼叫。請找出並修正所有錯誤。\n",
    "\n",
    "**要求**：\n",
    "1. 使用 logging 追蹤函式呼叫鏈\n",
    "2. 找出所有錯誤\n",
    "3. 加入完整的錯誤處理"
   ]
  },
  {
   "cell_type": "code",
   "execution_count": null,
   "metadata": {},
   "outputs": [],
   "source": [
    "# 有錯誤的程式\n",
    "\n",
    "def calculate_item_total(item):\n",
    "    \"\"\"\n",
    "    計算單項商品總價\n",
    "    \"\"\"\n",
    "    price = item[\"price\"]\n",
    "    quantity = item[\"quantity\"]\n",
    "    return price * quantity\n",
    "\n",
    "def apply_discount(total, discount_rate):\n",
    "    \"\"\"\n",
    "    套用折扣\n",
    "    \"\"\"\n",
    "    discount = total * discount_rate\n",
    "    return total - discount\n",
    "\n",
    "def calculate_cart_total(cart, discount_rate=0):\n",
    "    \"\"\"\n",
    "    計算購物車總價（有 bug）\n",
    "    \"\"\"\n",
    "    total = 0\n",
    "    for item in cart:\n",
    "        total += calculate_item_total(item)\n",
    "    \n",
    "    if discount_rate > 0:\n",
    "        total = apply_discount(total, discount_rate)\n",
    "    \n",
    "    return total\n",
    "\n",
    "# 測試\n",
    "cart1 = [\n",
    "    {\"name\": \"Apple\", \"price\": 10, \"quantity\": 5},\n",
    "    {\"name\": \"Banana\", \"price\": 5, \"quantity\": 10}\n",
    "]\n",
    "print(calculate_cart_total(cart1))  # 正常\n",
    "\n",
    "cart2 = [\n",
    "    {\"name\": \"Apple\", \"price\": 10},  # Bug: 缺少 quantity\n",
    "    {\"name\": \"Banana\", \"price\": 5, \"quantity\": 10}\n",
    "]\n",
    "print(calculate_cart_total(cart2))  # 會出錯"
   ]
  },
  {
   "cell_type": "code",
   "execution_count": null,
   "metadata": {},
   "outputs": [],
   "source": [
    "# 請在此撰寫修正後的程式碼（加入 logging 與完整錯誤處理）\n"
   ]
  },
  {
   "cell_type": "markdown",
   "metadata": {},
   "source": [
    "---\n",
    "\n",
    "## 挑戰題\n",
    "\n",
    "---\n",
    "\n",
    "### 習題 11：撰寫完整除錯報告（挑戰）⭐⭐⭐⭐\n",
    "\n",
    "**題目**：以下程式有多個 bug。請撰寫一份完整的除錯報告，包含：\n",
    "\n",
    "1. **重現步驟**：如何重現每個錯誤\n",
    "2. **原因分析**：為什麼會出錯\n",
    "3. **修正方案**：如何修正\n",
    "4. **測試驗證**：如何確認修正有效"
   ]
  },
  {
   "cell_type": "code",
   "execution_count": null,
   "metadata": {},
   "outputs": [],
   "source": [
    "# 有多個 bug 的程式\n",
    "\n",
    "class BankAccount:\n",
    "    \"\"\"\n",
    "    銀行帳戶類別（有多個 bug）\n",
    "    \"\"\"\n",
    "    def __init__(self, account_id, balance=0):\n",
    "        self.account_id = account_id\n",
    "        self.balance = balance\n",
    "        self.transactions = []\n",
    "    \n",
    "    def deposit(self, amount):\n",
    "        \"\"\"存款\"\"\"\n",
    "        self.balance += amount\n",
    "        self.transactions.append({\"type\": \"deposit\", \"amount\": amount})\n",
    "    \n",
    "    def withdraw(self, amount):\n",
    "        \"\"\"提款（有 bug）\"\"\"\n",
    "        self.balance -= amount  # Bug 1: 沒有檢查餘額\n",
    "        self.transactions.append({\"type\": \"withdraw\", \"amount\": amount})\n",
    "    \n",
    "    def get_balance(self):\n",
    "        \"\"\"查詢餘額\"\"\"\n",
    "        return self.balance\n",
    "    \n",
    "    def get_transaction_history(self):\n",
    "        \"\"\"查詢交易記錄（有 bug）\"\"\"\n",
    "        return self.transactions[0]  # Bug 2: 應該返回整個列表\n",
    "\n",
    "# 測試\n",
    "account = BankAccount(\"ACC001\", 1000)\n",
    "account.deposit(500)\n",
    "account.withdraw(2000)  # Bug 1: 餘額不足仍可提款\n",
    "print(f\"餘額：{account.get_balance()}\")\n",
    "print(f\"交易記錄：{account.get_transaction_history()}\")  # Bug 2: 只返回第一筆"
   ]
  },
  {
   "cell_type": "markdown",
   "metadata": {},
   "source": [
    "**請在下方撰寫除錯報告**：\n",
    "\n",
    "### Bug 1：提款時沒有檢查餘額\n",
    "\n",
    "**重現步驟**：\n",
    "1. （請填寫）\n",
    "\n",
    "**原因分析**：\n",
    "（請填寫）\n",
    "\n",
    "**修正方案**：\n",
    "（請填寫）\n",
    "\n",
    "**測試驗證**：\n",
    "（請填寫）\n",
    "\n",
    "---\n",
    "\n",
    "### Bug 2：交易記錄返回錯誤\n",
    "\n",
    "**重現步驟**：\n",
    "（請填寫）\n",
    "\n",
    "**原因分析**：\n",
    "（請填寫）\n",
    "\n",
    "**修正方案**：\n",
    "（請填寫）\n",
    "\n",
    "**測試驗證**：\n",
    "（請填寫）"
   ]
  },
  {
   "cell_type": "code",
   "execution_count": null,
   "metadata": {},
   "outputs": [],
   "source": [
    "# 請在此撰寫修正後的程式碼（加入 logging）\n"
   ]
  },
  {
   "cell_type": "markdown",
   "metadata": {},
   "source": [
    "---\n",
    "\n",
    "### 習題 12：效能優化（挑戰）⭐⭐⭐⭐\n",
    "\n",
    "**題目**：以下程式計算列表中重複元素的次數，但執行很慢。\n",
    "\n",
    "**要求**：\n",
    "1. 使用 logging 記錄執行時間\n",
    "2. 找出效能瓶頸\n",
    "3. 優化程式（提示：使用字典）\n",
    "4. 比較優化前後的執行時間"
   ]
  },
  {
   "cell_type": "code",
   "execution_count": null,
   "metadata": {},
   "outputs": [],
   "source": [
    "# 效能不佳的程式\n",
    "\n",
    "import time\n",
    "\n",
    "def count_duplicates_slow(data):\n",
    "    \"\"\"\n",
    "    計算重複元素的次數（效能不佳）\n",
    "    \"\"\"\n",
    "    result = []\n",
    "    for item in data:\n",
    "        # 每次都檢查整個 result 列表（效能瓶頸）\n",
    "        found = False\n",
    "        for r in result:\n",
    "            if r[\"item\"] == item:\n",
    "                r[\"count\"] += 1\n",
    "                found = True\n",
    "                break\n",
    "        if not found:\n",
    "            result.append({\"item\": item, \"count\": 1})\n",
    "    return result\n",
    "\n",
    "# 測試\n",
    "test_data = [1, 2, 3, 1, 2, 1, 4, 5, 3, 2, 1] * 100  # 1100 個元素\n",
    "\n",
    "start = time.time()\n",
    "result = count_duplicates_slow(test_data)\n",
    "end = time.time()\n",
    "\n",
    "print(f\"執行時間：{end - start:.4f} 秒\")\n",
    "print(f\"結果：{result[:5]}...\")  # 只顯示前 5 個"
   ]
  },
  {
   "cell_type": "code",
   "execution_count": null,
   "metadata": {},
   "outputs": [],
   "source": [
    "# 請在此撰寫優化後的程式碼（使用 logging 記錄時間）\n",
    "\n",
    "import time\n",
    "import logging\n",
    "\n",
    "logging.basicConfig(level=logging.INFO, format='%(message)s', force=True)\n",
    "\n",
    "# 在此撰寫你的優化版本\n"
   ]
  },
  {
   "cell_type": "markdown",
   "metadata": {},
   "source": [
    "---\n",
    "\n",
    "## 🎉 習題完成！\n",
    "\n",
    "### 自我檢核\n",
    "\n",
    "完成習題後，請確認：\n",
    "- [ ] 基礎題 (1-4)：能使用 print/logging 追蹤變數，解讀錯誤訊息\n",
    "- [ ] 中級題 (5-8)：能使用 pdb/breakpoint()，設計 logging 配置\n",
    "- [ ] 進階題 (9-10)：能除錯遞迴與多層函式呼叫\n",
    "- [ ] 挑戰題 (11-12)：能撰寫除錯報告，進行效能優化\n",
    "\n",
    "### 除錯技能總結\n",
    "\n",
    "1. **Print Debugging**：快速、直覺，適合簡單問題\n",
    "2. **Logging**：專業、可控，適合長期維護\n",
    "3. **pdb**：互動式、全功能，適合複雜邏輯\n",
    "4. **科學除錯法**：系統化流程（重現→隔離→假設→驗證）\n",
    "\n",
    "### 下一步\n",
    "\n",
    "- 對照 `05-solutions.ipynb` 檢查解答\n",
    "- 挑戰 `quiz.ipynb` 自我測驗\n",
    "- 應用除錯技術到實際專案中\n",
    "\n",
    "---\n",
    "\n",
    "**學習提醒**：除錯是實務技能，需要大量練習！建議每天花 10 分鐘除錯一個小程式。"
   ]
  }
 ],
 "metadata": {
  "kernelspec": {
   "display_name": "Python 3",
   "language": "python",
   "name": "python3"
  },
  "language_info": {
   "codemirror_mode": {
    "name": "ipython",
    "version": 3
   },
   "file_extension": ".py",
   "mimetype": "text/x-python",
   "name": "python",
   "nbconvert_exporter": "python",
   "pygments_lexer": "ipython3",
   "version": "3.9.0"
  }
 },
 "nbformat": 4,
 "nbformat_minor": 4
}
