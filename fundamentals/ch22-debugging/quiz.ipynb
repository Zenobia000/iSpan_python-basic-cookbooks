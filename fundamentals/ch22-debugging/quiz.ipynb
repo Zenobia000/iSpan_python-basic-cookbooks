{
 "cells": [
  {
   "cell_type": "markdown",
   "metadata": {},
   "source": [
    "# Ch22: 除錯技術 - 自我測驗\n",
    "\n",
    "本測驗包含 **20 題**，涵蓋除錯技術的各個層面。\n",
    "\n",
    "## 📝 測驗說明\n",
    "\n",
    "- **第 1-15 題**：選擇題（單選或多選）\n",
    "- **第 16-20 題**：程式題（找錯誤、寫程式碼）\n",
    "\n",
    "## ⏱️ 建議時間\n",
    "\n",
    "30-40 分鐘\n",
    "\n",
    "## 📊 評分標準\n",
    "\n",
    "- 選擇題：每題 4 分，共 60 分\n",
    "- 程式題：每題 8 分，共 40 分\n",
    "- **總分**：100 分\n",
    "- **及格**：60 分\n",
    "\n",
    "---"
   ]
  },
  {
   "cell_type": "markdown",
   "metadata": {},
   "source": [
    "## Part I: 選擇題 (60 分)\n",
    "\n",
    "---"
   ]
  },
  {
   "cell_type": "markdown",
   "metadata": {},
   "source": [
    "### 第 1 題（4 分）\n",
    "\n",
    "以下哪個 **不是** Python 的除錯工具？\n",
    "\n",
    "A. `print()`  \n",
    "B. `logging`  \n",
    "C. `pdb`  \n",
    "D. `debug()`  \n",
    "\n",
    "**答案**：D"
   ]
  },
  {
   "cell_type": "code",
   "execution_count": null,
   "metadata": {},
   "outputs": [],
   "source": [
    "# 在此輸入你的答案（A/B/C/D）\n",
    "answer_1 = \"\"  # 例如：\"A\""
   ]
  },
  {
   "cell_type": "markdown",
   "metadata": {},
   "source": [
    "### 第 2 題（4 分）\n",
    "\n",
    "`logging` 模組中，以下哪個級別的優先權 **最高**（最嚴重）？\n",
    "\n",
    "A. `DEBUG`  \n",
    "B. `INFO`  \n",
    "C. `WARNING`  \n",
    "D. `CRITICAL`  \n",
    "\n",
    "**答案**：D"
   ]
  },
  {
   "cell_type": "code",
   "execution_count": null,
   "metadata": {},
   "outputs": [],
   "source": [
    "# 在此輸入你的答案\n",
    "answer_2 = \"\""
   ]
  },
  {
   "cell_type": "markdown",
   "metadata": {},
   "source": [
    "### 第 3 題（4 分）\n",
    "\n",
    "在 pdb 中，哪個指令用於 **單步執行**（執行當前行並停在下一行）？\n",
    "\n",
    "A. `c`  \n",
    "B. `n`  \n",
    "C. `s`  \n",
    "D. `p`  \n",
    "\n",
    "**答案**：B"
   ]
  },
  {
   "cell_type": "code",
   "execution_count": null,
   "metadata": {},
   "outputs": [],
   "source": [
    "answer_3 = \"\""
   ]
  },
  {
   "cell_type": "markdown",
   "metadata": {},
   "source": [
    "### 第 4 題（4 分）\n",
    "\n",
    "以下哪個是正確的 `breakpoint()` 使用方式？\n",
    "\n",
    "A. `breakpoint(line=10)`  \n",
    "B. `breakpoint()`  \n",
    "C. `set_breakpoint()`  \n",
    "D. `pdb.breakpoint()`  \n",
    "\n",
    "**答案**：B"
   ]
  },
  {
   "cell_type": "code",
   "execution_count": null,
   "metadata": {},
   "outputs": [],
   "source": [
    "answer_4 = \"\""
   ]
  },
  {
   "cell_type": "markdown",
   "metadata": {},
   "source": [
    "### 第 5 題（4 分）\n",
    "\n",
    "科學除錯法的正確步驟順序是？\n",
    "\n",
    "A. 假設→重現→隔離→驗證  \n",
    "B. 重現→隔離→假設→驗證  \n",
    "C. 隔離→重現→假設→驗證  \n",
    "D. 驗證→假設→重現→隔離  \n",
    "\n",
    "**答案**：B"
   ]
  },
  {
   "cell_type": "code",
   "execution_count": null,
   "metadata": {},
   "outputs": [],
   "source": [
    "answer_5 = \"\""
   ]
  },
  {
   "cell_type": "markdown",
   "metadata": {},
   "source": [
    "### 第 6 題（4 分）\n",
    "\n",
    "以下哪個錯誤類型是 **語法錯誤**？\n",
    "\n",
    "A. `IndexError`  \n",
    "B. `KeyError`  \n",
    "C. `SyntaxError`  \n",
    "D. `TypeError`  \n",
    "\n",
    "**答案**：C"
   ]
  },
  {
   "cell_type": "code",
   "execution_count": null,
   "metadata": {},
   "outputs": [],
   "source": [
    "answer_6 = \"\""
   ]
  },
  {
   "cell_type": "markdown",
   "metadata": {},
   "source": [
    "### 第 7 題（4 分）\n",
    "\n",
    "以下程式碼會拋出什麼錯誤？\n",
    "\n",
    "```python\n",
    "numbers = [1, 2, 3]\n",
    "print(numbers[3])\n",
    "```\n",
    "\n",
    "A. `TypeError`  \n",
    "B. `IndexError`  \n",
    "C. `KeyError`  \n",
    "D. `ValueError`  \n",
    "\n",
    "**答案**：B"
   ]
  },
  {
   "cell_type": "code",
   "execution_count": null,
   "metadata": {},
   "outputs": [],
   "source": [
    "answer_7 = \"\""
   ]
  },
  {
   "cell_type": "markdown",
   "metadata": {},
   "source": [
    "### 第 8 題（4 分）\n",
    "\n",
    "`logging.basicConfig()` 的 `level` 參數設為 `logging.WARNING` 時，哪些級別的訊息會被記錄？\n",
    "\n",
    "A. 只有 WARNING  \n",
    "B. WARNING、ERROR、CRITICAL  \n",
    "C. DEBUG、INFO、WARNING  \n",
    "D. 所有級別  \n",
    "\n",
    "**答案**：B"
   ]
  },
  {
   "cell_type": "code",
   "execution_count": null,
   "metadata": {},
   "outputs": [],
   "source": [
    "answer_8 = \"\""
   ]
  },
  {
   "cell_type": "markdown",
   "metadata": {},
   "source": [
    "### 第 9 題（4 分）\n",
    "\n",
    "以下哪個 **不是** pdb 的常用指令？\n",
    "\n",
    "A. `n` (next)  \n",
    "B. `c` (continue)  \n",
    "C. `p` (print)  \n",
    "D. `r` (run)  \n",
    "\n",
    "**答案**：D（pdb 中是 `r` 表示 return，不是 run）"
   ]
  },
  {
   "cell_type": "code",
   "execution_count": null,
   "metadata": {},
   "outputs": [],
   "source": [
    "answer_9 = \"\""
   ]
  },
  {
   "cell_type": "markdown",
   "metadata": {},
   "source": [
    "### 第 10 題（4 分）\n",
    "\n",
    "以下程式碼的問題是什麼？\n",
    "\n",
    "```python\n",
    "def calculate_average(numbers):\n",
    "    return sum(numbers) / len(numbers)\n",
    "\n",
    "result = calculate_average([])\n",
    "```\n",
    "\n",
    "A. SyntaxError  \n",
    "B. TypeError  \n",
    "C. ZeroDivisionError  \n",
    "D. 沒有問題  \n",
    "\n",
    "**答案**：C"
   ]
  },
  {
   "cell_type": "code",
   "execution_count": null,
   "metadata": {},
   "outputs": [],
   "source": [
    "answer_10 = \"\""
   ]
  },
  {
   "cell_type": "markdown",
   "metadata": {},
   "source": [
    "### 第 11 題（4 分）\n",
    "\n",
    "以下哪種除錯方式 **最適合** 正式專案的長期維護？\n",
    "\n",
    "A. print debugging  \n",
    "B. logging  \n",
    "C. pdb  \n",
    "D. 註解除錯  \n",
    "\n",
    "**答案**：B"
   ]
  },
  {
   "cell_type": "code",
   "execution_count": null,
   "metadata": {},
   "outputs": [],
   "source": [
    "answer_11 = \"\""
   ]
  },
  {
   "cell_type": "markdown",
   "metadata": {},
   "source": [
    "### 第 12 題（4 分）\n",
    "\n",
    "Traceback 訊息中，錯誤發生的位置從哪裡開始讀？\n",
    "\n",
    "A. 從上到下  \n",
    "B. 從下到上  \n",
    "C. 從中間開始  \n",
    "D. 順序不重要  \n",
    "\n",
    "**答案**：B（最底下是錯誤發生的位置，往上是呼叫鏈）"
   ]
  },
  {
   "cell_type": "code",
   "execution_count": null,
   "metadata": {},
   "outputs": [],
   "source": [
    "answer_12 = \"\""
   ]
  },
  {
   "cell_type": "markdown",
   "metadata": {},
   "source": [
    "### 第 13 題（4 分）\n",
    "\n",
    "以下哪個是 **邏輯錯誤**？\n",
    "\n",
    "A. `if x > 5`（缺少冒號）  \n",
    "B. `numbers[10]`（列表只有5個元素）  \n",
    "C. `sum = 0; for i in range(n): sum += i`（應該是 `range(1, n+1)`）  \n",
    "D. `dict[\"key\"]`（key 不存在）  \n",
    "\n",
    "**答案**：C"
   ]
  },
  {
   "cell_type": "code",
   "execution_count": null,
   "metadata": {},
   "outputs": [],
   "source": [
    "answer_13 = \"\""
   ]
  },
  {
   "cell_type": "markdown",
   "metadata": {},
   "source": [
    "### 第 14 題（4 分）\n",
    "\n",
    "以下程式會輸出什麼？\n",
    "\n",
    "```python\n",
    "import logging\n",
    "logging.basicConfig(level=logging.ERROR)\n",
    "logging.debug(\"Debug message\")\n",
    "logging.error(\"Error message\")\n",
    "```\n",
    "\n",
    "A. 兩個訊息都輸出  \n",
    "B. 只輸出 Debug message  \n",
    "C. 只輸出 Error message  \n",
    "D. 都不輸出  \n",
    "\n",
    "**答案**：C"
   ]
  },
  {
   "cell_type": "code",
   "execution_count": null,
   "metadata": {},
   "outputs": [],
   "source": [
    "answer_14 = \"\""
   ]
  },
  {
   "cell_type": "markdown",
   "metadata": {},
   "source": [
    "### 第 15 題（4 分）\n",
    "\n",
    "以下哪個情況 **最適合** 使用 pdb？\n",
    "\n",
    "A. 快速檢查變數值  \n",
    "B. 記錄程式執行歷史  \n",
    "C. 除錯複雜的遞迴函式  \n",
    "D. 正式環境的錯誤追蹤  \n",
    "\n",
    "**答案**：C"
   ]
  },
  {
   "cell_type": "code",
   "execution_count": null,
   "metadata": {},
   "outputs": [],
   "source": [
    "answer_15 = \"\""
   ]
  },
  {
   "cell_type": "markdown",
   "metadata": {},
   "source": [
    "---\n",
    "\n",
    "## Part II: 程式題 (40 分)\n",
    "\n",
    "---"
   ]
  },
  {
   "cell_type": "markdown",
   "metadata": {},
   "source": [
    "### 第 16 題（8 分）：找出並修正錯誤\n",
    "\n",
    "以下程式要計算 1 到 100 的偶數和，但結果不正確。請找出錯誤並修正。\n",
    "\n",
    "```python\n",
    "def sum_even_numbers(n):\n",
    "    total = 0\n",
    "    for i in range(n):\n",
    "        if i % 2 != 0:  # Bug: 應該是 == 0\n",
    "            total += i\n",
    "    return total\n",
    "\n",
    "result = sum_even_numbers(100)\n",
    "print(f\"1到100的偶數和：{result}\")  # 期望 2550\n",
    "```\n",
    "\n",
    "**要求**：\n",
    "1. 找出錯誤\n",
    "2. 修正程式碼\n",
    "3. 驗證結果"
   ]
  },
  {
   "cell_type": "code",
   "execution_count": null,
   "metadata": {},
   "outputs": [],
   "source": [
    "# 請在此撰寫修正後的程式碼\n",
    "\n",
    "def sum_even_numbers_fixed(n):\n",
    "    # 在此修正\n",
    "    pass\n",
    "\n",
    "# 測試\n",
    "result = sum_even_numbers_fixed(100)\n",
    "print(f\"1到100的偶數和：{result}\")\n",
    "print(f\"期望：2550\")\n",
    "print(f\"是否正確：{result == 2550}\")"
   ]
  },
  {
   "cell_type": "markdown",
   "metadata": {},
   "source": [
    "### 第 17 題（8 分）：使用 logging 記錄程式執行\n",
    "\n",
    "撰寫一個函式 `divide(a, b)`，計算 a ÷ b，並使用 logging 記錄：\n",
    "- INFO: 輸入的參數\n",
    "- DEBUG: 計算過程\n",
    "- WARNING: b 為 0 時\n",
    "- ERROR: 參數型別錯誤時"
   ]
  },
  {
   "cell_type": "code",
   "execution_count": null,
   "metadata": {},
   "outputs": [],
   "source": [
    "# 請在此撰寫你的程式碼\n",
    "\n",
    "import logging\n",
    "\n",
    "logging.basicConfig(level=logging.DEBUG, format='%(levelname)s - %(message)s', force=True)\n",
    "\n",
    "def divide(a, b):\n",
    "    \"\"\"\n",
    "    計算 a ÷ b，並使用 logging 記錄過程\n",
    "    \"\"\"\n",
    "    # 在此撰寫你的程式碼\n",
    "    pass\n",
    "\n",
    "# 測試\n",
    "print(\"測試 1: divide(10, 2)\")\n",
    "divide(10, 2)\n",
    "\n",
    "print(\"\\n測試 2: divide(10, 0)\")\n",
    "divide(10, 0)\n",
    "\n",
    "print(\"\\n測試 3: divide('10', 2)\")\n",
    "divide(\"10\", 2)"
   ]
  },
  {
   "cell_type": "markdown",
   "metadata": {},
   "source": [
    "### 第 18 題（8 分）：除錯遞迴函式\n",
    "\n",
    "以下遞迴函式要計算階乘，但有錯誤。請找出並修正。\n",
    "\n",
    "```python\n",
    "def factorial_buggy(n):\n",
    "    if n == 1:  # Bug: 應該考慮 n == 0 的情況\n",
    "        return 1\n",
    "    return n * factorial_buggy(n - 1)\n",
    "\n",
    "print(factorial_buggy(0))  # 應該返回 1，但會 RecursionError\n",
    "```"
   ]
  },
  {
   "cell_type": "code",
   "execution_count": null,
   "metadata": {},
   "outputs": [],
   "source": [
    "# 請在此撰寫修正後的程式碼\n",
    "\n",
    "def factorial_fixed(n):\n",
    "    # 在此修正\n",
    "    pass\n",
    "\n",
    "# 測試\n",
    "print(f\"factorial(0) = {factorial_fixed(0)}\")\n",
    "print(f\"factorial(5) = {factorial_fixed(5)}\")\n",
    "print(f\"是否正確：{factorial_fixed(5) == 120}\")"
   ]
  },
  {
   "cell_type": "markdown",
   "metadata": {},
   "source": [
    "### 第 19 題（8 分）：型別檢查與錯誤處理\n",
    "\n",
    "撰寫一個函式 `safe_list_get(lst, index)`，安全地獲取列表元素：\n",
    "- 如果索引有效，返回元素\n",
    "- 如果索引超出範圍，返回 None 並記錄 warning\n",
    "- 如果參數型別錯誤，記錄 error 並返回 None"
   ]
  },
  {
   "cell_type": "code",
   "execution_count": null,
   "metadata": {},
   "outputs": [],
   "source": [
    "# 請在此撰寫你的程式碼\n",
    "\n",
    "import logging\n",
    "\n",
    "logging.basicConfig(level=logging.WARNING, format='%(levelname)s - %(message)s', force=True)\n",
    "\n",
    "def safe_list_get(lst, index):\n",
    "    \"\"\"\n",
    "    安全地獲取列表元素\n",
    "    \"\"\"\n",
    "    # 在此撰寫你的程式碼\n",
    "    pass\n",
    "\n",
    "# 測試\n",
    "numbers = [10, 20, 30, 40, 50]\n",
    "print(\"測試 1: safe_list_get(numbers, 2)\")\n",
    "print(safe_list_get(numbers, 2))  # 應該返回 30\n",
    "\n",
    "print(\"\\n測試 2: safe_list_get(numbers, 10)\")\n",
    "print(safe_list_get(numbers, 10))  # 應該返回 None 並記錄 warning\n",
    "\n",
    "print(\"\\n測試 3: safe_list_get('not a list', 0)\")\n",
    "print(safe_list_get(\"not a list\", 0))  # 應該返回 None 並記錄 error"
   ]
  },
  {
   "cell_type": "markdown",
   "metadata": {},
   "source": [
    "### 第 20 題（8 分）：完整除錯流程\n",
    "\n",
    "以下程式要計算列表中正數的平均值，但有多個錯誤。請：\n",
    "1. 找出所有錯誤\n",
    "2. 修正程式碼\n",
    "3. 加入 logging 追蹤過程\n",
    "\n",
    "```python\n",
    "def average_positive_numbers_buggy(numbers):\n",
    "    total = 0\n",
    "    count = 0\n",
    "    for num in numbers:\n",
    "        if num >= 0:  # Bug 1: 應該是 > 0 （正數不包含0）\n",
    "            total += num\n",
    "            count += 1\n",
    "    return total / count  # Bug 2: 沒有檢查 count 是否為 0\n",
    "\n",
    "result = average_positive_numbers_buggy([-5, -10, -20])\n",
    "print(result)  # 會出錯\n",
    "```"
   ]
  },
  {
   "cell_type": "code",
   "execution_count": null,
   "metadata": {},
   "outputs": [],
   "source": [
    "# 請在此撰寫修正後的程式碼（加入 logging）\n",
    "\n",
    "import logging\n",
    "\n",
    "logging.basicConfig(level=logging.DEBUG, format='%(message)s', force=True)\n",
    "\n",
    "def average_positive_numbers_fixed(numbers):\n",
    "    \"\"\"\n",
    "    計算列表中正數的平均值（修正後，加入 logging）\n",
    "    \"\"\"\n",
    "    # 在此撰寫你的程式碼\n",
    "    pass\n",
    "\n",
    "# 測試\n",
    "print(\"測試 1: [1, 2, 3, 4, 5]\")\n",
    "result1 = average_positive_numbers_fixed([1, 2, 3, 4, 5])\n",
    "print(f\"平均值：{result1}\\n\")\n",
    "\n",
    "print(\"測試 2: [-5, -10, -20]\")\n",
    "result2 = average_positive_numbers_fixed([-5, -10, -20])\n",
    "print(f\"平均值：{result2}\\n\")\n",
    "\n",
    "print(\"測試 3: [-1, 0, 1, 2, 3]\")\n",
    "result3 = average_positive_numbers_fixed([-1, 0, 1, 2, 3])\n",
    "print(f\"平均值：{result3}\")"
   ]
  },
  {
   "cell_type": "markdown",
   "metadata": {},
   "source": [
    "---\n",
    "\n",
    "## 🎉 測驗完成！\n",
    "\n",
    "### 自我評分\n",
    "\n",
    "完成測驗後，請對照 `05-solutions.ipynb` 檢查答案。\n",
    "\n",
    "**選擇題答案**：\n",
    "1. D  2. D  3. B  4. B  5. B  \n",
    "6. C  7. B  8. B  9. D  10. C  \n",
    "11. B  12. B  13. C  14. C  15. C\n",
    "\n",
    "### 評分標準\n",
    "\n",
    "| 分數 | 等級 | 建議 |\n",
    "|:-----|:-----|:-----|\n",
    "| 90-100 | 優秀 | 完全掌握除錯技術！ |\n",
    "| 80-89 | 良好 | 大部分概念清楚，繼續加強實作 |\n",
    "| 70-79 | 中等 | 基礎概念可以，需加強進階技巧 |\n",
    "| 60-69 | 及格 | 需要複習關鍵概念 |\n",
    "| < 60 | 不及格 | 建議重新學習本章並多練習 |\n",
    "\n",
    "### 下一步\n",
    "\n",
    "- 複習錯誤的題目\n",
    "- 完成 `04-exercises.ipynb` 的習題\n",
    "- 將除錯技術應用到實際專案中\n",
    "- 學習使用 IDE 的除錯工具（VS Code、PyCharm）"
   ]
  }
 ],
 "metadata": {
  "kernelspec": {
   "display_name": "Python 3",
   "language": "python",
   "name": "python3"
  },
  "language_info": {
   "codemirror_mode": {
    "name": "ipython",
    "version": 3
   },
   "file_extension": ".py",
   "mimetype": "text/x-python",
   "name": "python",
   "nbconvert_exporter": "python",
   "pygments_lexer": "ipython3",
   "version": "3.8.0"
  }
 },
 "nbformat": 4,
 "nbformat_minor": 4
}
