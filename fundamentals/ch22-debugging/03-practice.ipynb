{
 "cells": [
  {
   "cell_type": "markdown",
   "metadata": {},
   "source": [
    "# Ch22: 除錯技術 - 課堂練習\n",
    "\n",
    "本 Notebook 包含 **8 題找錯並修正的練習**，每題都包含一個有 bug 的程式。\n",
    "\n",
    "## 📝 練習說明\n",
    "\n",
    "每題要求：\n",
    "1. **找出錯誤**：執行程式，觀察錯誤\n",
    "2. **說明錯誤原因**：為什麼會出錯？\n",
    "3. **修正程式碼**：修正 bug\n",
    "4. **驗證修正**：執行測試確認正確\n",
    "\n",
    "## 🎯 難度分布\n",
    "- 練習 1-3：基礎（邏輯錯誤、索引錯誤）\n",
    "- 練習 4-6：中級（NameError、KeyError、無窮迴圈）\n",
    "- 練習 7-8：進階（遞迴錯誤、型別錯誤）\n",
    "\n",
    "---"
   ]
  },
  {
   "cell_type": "markdown",
   "metadata": {},
   "source": [
    "## 練習 1：找出邏輯錯誤（基礎）⭐\n",
    "\n",
    "**問題**：以下程式要計算 1 到 n 的總和，但結果不正確。\n",
    "\n",
    "**任務**：\n",
    "1. 執行程式，觀察錯誤輸出\n",
    "2. 找出錯誤原因\n",
    "3. 修正程式碼\n",
    "4. 驗證修正"
   ]
  },
  {
   "cell_type": "code",
   "execution_count": null,
   "metadata": {},
   "outputs": [],
   "source": [
    "# ❌ 有 bug 的程式\n",
    "\n",
    "def sum_to_n(n):\n",
    "    \"\"\"\n",
    "    計算 1 到 n 的總和\n",
    "    \n",
    "    範例：sum_to_n(5) 應該返回 15 (1+2+3+4+5)\n",
    "    \"\"\"\n",
    "    total = 0\n",
    "    for i in range(n):  # Bug: range(n) 不包含 n\n",
    "        total += i\n",
    "    return total\n",
    "\n",
    "# 測試\n",
    "result = sum_to_n(5)\n",
    "print(f\"sum_to_n(5) = {result}\")  # 期望 15，實際得到 10\n",
    "print(f\"期望結果：15\")\n",
    "print(f\"實際結果：{result}\")\n",
    "print(f\"是否正確：{result == 15}\")"
   ]
  },
  {
   "cell_type": "markdown",
   "metadata": {},
   "source": [
    "**請在下方回答**：\n",
    "\n",
    "1. **錯誤原因**：（請說明）\n",
    "\n",
    "2. **如何修正**：（請說明）"
   ]
  },
  {
   "cell_type": "code",
   "execution_count": null,
   "metadata": {},
   "outputs": [],
   "source": [
    "# ✅ 請在此修正程式碼\n",
    "\n",
    "def sum_to_n_fixed(n):\n",
    "    \"\"\"\n",
    "    計算 1 到 n 的總和（修正後）\n",
    "    \"\"\"\n",
    "    # 在此撰寫修正後的程式碼\n",
    "    pass\n",
    "\n",
    "# 測試修正後的版本\n",
    "result = sum_to_n_fixed(5)\n",
    "print(f\"sum_to_n_fixed(5) = {result}\")\n",
    "print(f\"是否正確：{result == 15}\")"
   ]
  },
  {
   "cell_type": "markdown",
   "metadata": {},
   "source": [
    "---\n",
    "\n",
    "## 練習 2：IndexError（基礎）⭐\n",
    "\n",
    "**問題**：以下程式要印出列表中的所有元素，但會拋出 `IndexError`。\n",
    "\n",
    "**任務**：找出並修正錯誤"
   ]
  },
  {
   "cell_type": "code",
   "execution_count": null,
   "metadata": {},
   "outputs": [],
   "source": [
    "# ❌ 有 bug 的程式\n",
    "\n",
    "numbers = [10, 20, 30, 40, 50]\n",
    "\n",
    "print(\"印出所有元素：\")\n",
    "for i in range(len(numbers)):\n",
    "    print(f\"索引 {i}: {numbers[i+1]}\")  # Bug: 會超出索引"
   ]
  },
  {
   "cell_type": "markdown",
   "metadata": {},
   "source": [
    "**請在下方回答**：\n",
    "\n",
    "1. **錯誤原因**：（請說明）\n",
    "\n",
    "2. **如何修正**：（請說明）"
   ]
  },
  {
   "cell_type": "code",
   "execution_count": null,
   "metadata": {},
   "outputs": [],
   "source": [
    "# ✅ 請在此修正程式碼\n",
    "\n",
    "numbers = [10, 20, 30, 40, 50]\n",
    "\n",
    "# 在此撰寫修正後的程式碼\n",
    "pass"
   ]
  },
  {
   "cell_type": "markdown",
   "metadata": {},
   "source": [
    "---\n",
    "\n",
    "## 練習 3：ZeroDivisionError（基礎）⭐\n",
    "\n",
    "**問題**：以下程式計算列表的平均值，但當列表為空時會出錯。\n",
    "\n",
    "**任務**：加入錯誤處理"
   ]
  },
  {
   "cell_type": "code",
   "execution_count": null,
   "metadata": {},
   "outputs": [],
   "source": [
    "# ❌ 有 bug 的程式\n",
    "\n",
    "def calculate_average(numbers):\n",
    "    \"\"\"\n",
    "    計算列表的平均值\n",
    "    \"\"\"\n",
    "    total = sum(numbers)\n",
    "    return total / len(numbers)  # Bug: 如果 numbers 為空會出錯\n",
    "\n",
    "# 測試\n",
    "print(calculate_average([10, 20, 30]))  # 正常\n",
    "print(calculate_average([]))  # 會拋出 ZeroDivisionError"
   ]
  },
  {
   "cell_type": "markdown",
   "metadata": {},
   "source": [
    "**請在下方回答**：\n",
    "\n",
    "1. **錯誤原因**：（請說明）\n",
    "\n",
    "2. **如何修正**：（請說明）"
   ]
  },
  {
   "cell_type": "code",
   "execution_count": null,
   "metadata": {},
   "outputs": [],
   "source": [
    "# ✅ 請在此修正程式碼\n",
    "\n",
    "def calculate_average_fixed(numbers):\n",
    "    \"\"\"\n",
    "    計算列表的平均值（修正後）\n",
    "    \"\"\"\n",
    "    # 在此撰寫修正後的程式碼\n",
    "    pass\n",
    "\n",
    "# 測試修正後的版本\n",
    "print(calculate_average_fixed([10, 20, 30]))  # 20.0\n",
    "print(calculate_average_fixed([]))  # None 或其他合理的返回值"
   ]
  },
  {
   "cell_type": "markdown",
   "metadata": {},
   "source": [
    "---\n",
    "\n",
    "## 練習 4：NameError（中級）⭐⭐\n",
    "\n",
    "**問題**：以下程式有變數名稱錯誤。\n",
    "\n",
    "**任務**：使用 traceback 找出錯誤並修正"
   ]
  },
  {
   "cell_type": "code",
   "execution_count": null,
   "metadata": {},
   "outputs": [],
   "source": [
    "# ❌ 有 bug 的程式\n",
    "\n",
    "def calculate_rectangle_area(width, height):\n",
    "    \"\"\"\n",
    "    計算矩形面積\n",
    "    \"\"\"\n",
    "    area = width * height\n",
    "    return Area  # Bug: 變數名稱大小寫錯誤\n",
    "\n",
    "# 測試\n",
    "result = calculate_rectangle_area(5, 10)\n",
    "print(f\"面積：{result}\")"
   ]
  },
  {
   "cell_type": "markdown",
   "metadata": {},
   "source": [
    "**請在下方回答**：\n",
    "\n",
    "1. **錯誤原因**：（請說明）\n",
    "\n",
    "2. **如何修正**：（請說明）"
   ]
  },
  {
   "cell_type": "code",
   "execution_count": null,
   "metadata": {},
   "outputs": [],
   "source": [
    "# ✅ 請在此修正程式碼\n",
    "\n",
    "def calculate_rectangle_area_fixed(width, height):\n",
    "    \"\"\"\n",
    "    計算矩形面積（修正後）\n",
    "    \"\"\"\n",
    "    # 在此撰寫修正後的程式碼\n",
    "    pass\n",
    "\n",
    "# 測試修正後的版本\n",
    "result = calculate_rectangle_area_fixed(5, 10)\n",
    "print(f\"面積：{result}\")\n",
    "print(f\"是否正確：{result == 50}\")"
   ]
  },
  {
   "cell_type": "markdown",
   "metadata": {},
   "source": [
    "---\n",
    "\n",
    "## 練習 5：KeyError（中級）⭐⭐\n",
    "\n",
    "**問題**：以下程式訪問字典中不存在的鍵。\n",
    "\n",
    "**任務**：使用 logging 追蹤並修正"
   ]
  },
  {
   "cell_type": "code",
   "execution_count": null,
   "metadata": {},
   "outputs": [],
   "source": [
    "# ❌ 有 bug 的程式\n",
    "\n",
    "student_scores = {\n",
    "    \"Alice\": 85,\n",
    "    \"Bob\": 92,\n",
    "    \"Charlie\": 78\n",
    "}\n",
    "\n",
    "def get_student_score(name):\n",
    "    \"\"\"\n",
    "    獲取學生成績\n",
    "    \"\"\"\n",
    "    return student_scores[name]  # Bug: 如果 name 不存在會出錯\n",
    "\n",
    "# 測試\n",
    "print(get_student_score(\"Alice\"))  # 正常\n",
    "print(get_student_score(\"David\"))  # 會拋出 KeyError"
   ]
  },
  {
   "cell_type": "markdown",
   "metadata": {},
   "source": [
    "**請在下方回答**：\n",
    "\n",
    "1. **錯誤原因**：（請說明）\n",
    "\n",
    "2. **如何修正**：（請說明）"
   ]
  },
  {
   "cell_type": "code",
   "execution_count": null,
   "metadata": {},
   "outputs": [],
   "source": [
    "# ✅ 請在此修正程式碼（加入 logging）\n",
    "\n",
    "import logging\n",
    "\n",
    "logging.basicConfig(level=logging.DEBUG, format='%(levelname)s - %(message)s')\n",
    "\n",
    "student_scores = {\n",
    "    \"Alice\": 85,\n",
    "    \"Bob\": 92,\n",
    "    \"Charlie\": 78\n",
    "}\n",
    "\n",
    "def get_student_score_fixed(name):\n",
    "    \"\"\"\n",
    "    獲取學生成績（修正後，加入 logging）\n",
    "    \"\"\"\n",
    "    # 在此撰寫修正後的程式碼\n",
    "    pass\n",
    "\n",
    "# 測試修正後的版本\n",
    "print(get_student_score_fixed(\"Alice\"))  # 85\n",
    "print(get_student_score_fixed(\"David\"))  # None 或其他合理的返回值"
   ]
  },
  {
   "cell_type": "markdown",
   "metadata": {},
   "source": [
    "---\n",
    "\n",
    "## 練習 6：無窮迴圈（中級）⭐⭐\n",
    "\n",
    "**問題**：以下程式有無窮迴圈。\n",
    "\n",
    "**任務**：找出錯誤並修正\n",
    "\n",
    "**⚠️ 警告**：執行前請先閱讀程式碼，找出錯誤後再執行！"
   ]
  },
  {
   "cell_type": "code",
   "execution_count": null,
   "metadata": {},
   "outputs": [],
   "source": [
    "# ❌ 有 bug 的程式（請勿直接執行！）\n",
    "\n",
    "def countdown(n):\n",
    "    \"\"\"\n",
    "    倒數計數（有無窮迴圈 bug）\n",
    "    \"\"\"\n",
    "    while n > 0:\n",
    "        print(n)\n",
    "        n += 1  # Bug: 應該是 n -= 1\n",
    "    print(\"完成！\")\n",
    "\n",
    "# 測試（會無窮迴圈，請勿執行！）\n",
    "# countdown(5)"
   ]
  },
  {
   "cell_type": "markdown",
   "metadata": {},
   "source": [
    "**請在下方回答**：\n",
    "\n",
    "1. **錯誤原因**：（請說明）\n",
    "\n",
    "2. **如何修正**：（請說明）"
   ]
  },
  {
   "cell_type": "code",
   "execution_count": null,
   "metadata": {},
   "outputs": [],
   "source": [
    "# ✅ 請在此修正程式碼\n",
    "\n",
    "def countdown_fixed(n):\n",
    "    \"\"\"\n",
    "    倒數計數（修正後）\n",
    "    \"\"\"\n",
    "    # 在此撰寫修正後的程式碼\n",
    "    pass\n",
    "\n",
    "# 測試修正後的版本\n",
    "countdown_fixed(5)"
   ]
  },
  {
   "cell_type": "markdown",
   "metadata": {},
   "source": [
    "---\n",
    "\n",
    "## 練習 7：遞迴錯誤（進階）⭐⭐⭐\n",
    "\n",
    "**問題**：以下遞迴函式計算費波那契數列，但有錯誤。\n",
    "\n",
    "**任務**：使用 logging 追蹤遞迴過程並修正"
   ]
  },
  {
   "cell_type": "code",
   "execution_count": null,
   "metadata": {},
   "outputs": [],
   "source": [
    "# ❌ 有 bug 的程式\n",
    "\n",
    "def fibonacci_buggy(n):\n",
    "    \"\"\"\n",
    "    計算費波那契數列第 n 項（有 bug）\n",
    "    \n",
    "    正確的費波那契數列：\n",
    "    0, 1, 1, 2, 3, 5, 8, 13, 21, ...\n",
    "    \n",
    "    fibonacci(0) = 0\n",
    "    fibonacci(1) = 1\n",
    "    fibonacci(n) = fibonacci(n-1) + fibonacci(n-2)\n",
    "    \"\"\"\n",
    "    if n == 0:\n",
    "        return 0\n",
    "    if n == 1:\n",
    "        return 1\n",
    "    \n",
    "    # Bug: 計算錯誤\n",
    "    return fibonacci_buggy(n-1) + fibonacci_buggy(n-3)\n",
    "\n",
    "# 測試\n",
    "for i in range(8):\n",
    "    try:\n",
    "        result = fibonacci_buggy(i)\n",
    "        print(f\"fibonacci({i}) = {result}\")\n",
    "    except RecursionError:\n",
    "        print(f\"fibonacci({i}) = RecursionError\")"
   ]
  },
  {
   "cell_type": "markdown",
   "metadata": {},
   "source": [
    "**請在下方回答**：\n",
    "\n",
    "1. **錯誤原因**：（請說明）\n",
    "\n",
    "2. **如何修正**：（請說明）"
   ]
  },
  {
   "cell_type": "code",
   "execution_count": null,
   "metadata": {},
   "outputs": [],
   "source": [
    "# ✅ 請在此修正程式碼（加入 logging）\n",
    "\n",
    "import logging\n",
    "\n",
    "logging.basicConfig(level=logging.INFO, format='%(message)s', force=True)\n",
    "\n",
    "def fibonacci_fixed(n, depth=0):\n",
    "    \"\"\"\n",
    "    計算費波那契數列第 n 項（修正後，加入 logging）\n",
    "    \"\"\"\n",
    "    # 在此撰寫修正後的程式碼\n",
    "    pass\n",
    "\n",
    "# 測試修正後的版本\n",
    "print(\"正確的費波那契數列：\")\n",
    "for i in range(8):\n",
    "    result = fibonacci_fixed(i)\n",
    "    print(f\"fibonacci({i}) = {result}\")\n",
    "\n",
    "# 期望輸出：0, 1, 1, 2, 3, 5, 8, 13"
   ]
  },
  {
   "cell_type": "markdown",
   "metadata": {},
   "source": [
    "---\n",
    "\n",
    "## 練習 8：型別錯誤（進階）⭐⭐⭐\n",
    "\n",
    "**問題**：以下程式要計算列表中所有數字的總和，但可能包含非數字型別。\n",
    "\n",
    "**任務**：加入型別檢查與 logging"
   ]
  },
  {
   "cell_type": "code",
   "execution_count": null,
   "metadata": {},
   "outputs": [],
   "source": [
    "# ❌ 有 bug 的程式\n",
    "\n",
    "def sum_numbers_buggy(data):\n",
    "    \"\"\"\n",
    "    計算列表中所有數字的總和（有 bug）\n",
    "    \"\"\"\n",
    "    total = 0\n",
    "    for item in data:\n",
    "        total += item  # Bug: 如果 item 不是數字會出錯\n",
    "    return total\n",
    "\n",
    "# 測試\n",
    "print(sum_numbers_buggy([1, 2, 3]))  # 正常\n",
    "print(sum_numbers_buggy([1, \"2\", 3]))  # 會拋出 TypeError"
   ]
  },
  {
   "cell_type": "markdown",
   "metadata": {},
   "source": [
    "**請在下方回答**：\n",
    "\n",
    "1. **錯誤原因**：（請說明）\n",
    "\n",
    "2. **如何修正**：（請說明）"
   ]
  },
  {
   "cell_type": "code",
   "execution_count": null,
   "metadata": {},
   "outputs": [],
   "source": [
    "# ✅ 請在此修正程式碼（加入型別檢查與 logging）\n",
    "\n",
    "import logging\n",
    "\n",
    "logging.basicConfig(level=logging.WARNING, format='%(levelname)s - %(message)s', force=True)\n",
    "\n",
    "def sum_numbers_fixed(data):\n",
    "    \"\"\"\n",
    "    計算列表中所有數字的總和（修正後）\n",
    "    \n",
    "    要求：\n",
    "    1. 跳過非數字型別\n",
    "    2. 使用 logging.warning 記錄跳過的項目\n",
    "    3. 返回數字的總和\n",
    "    \"\"\"\n",
    "    # 在此撰寫修正後的程式碼\n",
    "    pass\n",
    "\n",
    "# 測試修正後的版本\n",
    "print(\"測試 1:\")\n",
    "result1 = sum_numbers_fixed([1, 2, 3])\n",
    "print(f\"總和：{result1}\\n\")\n",
    "\n",
    "print(\"測試 2:\")\n",
    "result2 = sum_numbers_fixed([1, \"2\", 3, None, 5])\n",
    "print(f\"總和：{result2}\\n\")\n",
    "\n",
    "print(\"測試 3:\")\n",
    "result3 = sum_numbers_fixed([1.5, 2.5, 3.0])\n",
    "print(f\"總和：{result3}\")"
   ]
  },
  {
   "cell_type": "markdown",
   "metadata": {},
   "source": [
    "---\n",
    "\n",
    "## 🎉 練習完成！\n",
    "\n",
    "### 檢查清單\n",
    "\n",
    "完成練習後，請確認：\n",
    "- [ ] 所有程式都能正常執行\n",
    "- [ ] 理解每個錯誤的原因\n",
    "- [ ] 能夠說明如何修正\n",
    "- [ ] 驗證修正後的結果正確\n",
    "\n",
    "### 除錯技巧總結\n",
    "\n",
    "1. **邏輯錯誤**：使用 print/logging 追蹤變數值\n",
    "2. **索引錯誤**：檢查範圍是否正確\n",
    "3. **例外處理**：加入邊界條件檢查\n",
    "4. **變數名稱**：注意大小寫\n",
    "5. **字典存取**：使用 get() 或 in 檢查\n",
    "6. **無窮迴圈**：檢查終止條件與變數更新\n",
    "7. **遞迴**：檢查終止條件與遞迴參數\n",
    "8. **型別錯誤**：使用 isinstance() 檢查型別\n",
    "\n",
    "### 下一步\n",
    "\n",
    "完成本練習後，請繼續：\n",
    "- 完成 `04-exercises.ipynb`（課後習題）\n",
    "- 參考 `05-solutions.ipynb`（詳細解答）\n",
    "- 挑戰 `quiz.ipynb`（自我測驗）"
   ]
  }
 ],
 "metadata": {
  "kernelspec": {
   "display_name": "Python 3",
   "language": "python",
   "name": "python3"
  },
  "language_info": {
   "codemirror_mode": {
    "name": "ipython",
    "version": 3
   },
   "file_extension": ".py",
   "mimetype": "text/x-python",
   "name": "python",
   "nbconvert_exporter": "python",
   "pygments_lexer": "ipython3",
   "version": "3.9.0"
  }
 },
 "nbformat": 4,
 "nbformat_minor": 4
}
