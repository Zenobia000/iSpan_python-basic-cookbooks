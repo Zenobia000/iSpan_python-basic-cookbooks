{
 "cells": [
  {
   "cell_type": "markdown",
   "metadata": {},
   "source": [
    "# Ch22: 除錯技術 - 完整解答\n",
    "\n",
    "本 Notebook 提供 `03-practice.ipynb` 和 `04-exercises.ipynb` 的完整解答。\n",
    "\n",
    "## 📚 解答結構\n",
    "\n",
    "每題解答包含：\n",
    "1. **錯誤分析**：說明錯誤原因\n",
    "2. **修正方案**：如何修正\n",
    "3. **完整程式碼**：修正後的程式碼\n",
    "4. **執行結果**：驗證修正\n",
    "5. **知識點**：相關除錯技巧\n",
    "\n",
    "---"
   ]
  },
  {
   "cell_type": "markdown",
   "metadata": {},
   "source": [
    "## Part I: 課堂練習解答 (03-practice.ipynb)\n",
    "\n",
    "---"
   ]
  },
  {
   "cell_type": "markdown",
   "metadata": {},
   "source": [
    "### 練習 1：找出邏輯錯誤\n",
    "\n",
    "**錯誤分析**：\n",
    "- `range(n)` 生成 0 到 n-1，不包含 n\n",
    "- 例如 `range(5)` = [0, 1, 2, 3, 4]，缺少 5\n",
    "- 因此 sum_to_n(5) = 0+1+2+3+4 = 10，而非 1+2+3+4+5 = 15\n",
    "\n",
    "**修正方案**：改用 `range(1, n+1)`"
   ]
  },
  {
   "cell_type": "code",
   "execution_count": null,
   "metadata": {},
   "outputs": [],
   "source": [
    "# ✅ 修正後的程式碼\n",
    "\n",
    "def sum_to_n_fixed(n):\n",
    "    \"\"\"\n",
    "    計算 1 到 n 的總和（修正後）\n",
    "    \n",
    "    修正要點：\n",
    "    1. 使用 range(1, n+1) 包含 1 到 n\n",
    "    2. 或者使用 range(n+1) 然後從 i=1 開始\n",
    "    \"\"\"\n",
    "    total = 0\n",
    "    for i in range(1, n + 1):  # 修正：從 1 開始，到 n\n",
    "        print(f\"  i={i}, total={total} -> total={total + i}\")  # Debug 輸出\n",
    "        total += i\n",
    "    return total\n",
    "\n",
    "# 測試\n",
    "print(\"測試 sum_to_n_fixed(5)：\")\n",
    "result = sum_to_n_fixed(5)\n",
    "print(f\"\\n結果：{result}\")\n",
    "print(f\"是否正確：{result == 15} ✓\")\n",
    "\n",
    "print(\"\\n\" + \"=\"*50)\n",
    "print(\"測試 sum_to_n_fixed(10)：\")\n",
    "result2 = sum_to_n_fixed(10)\n",
    "print(f\"\\n結果：{result2}\")\n",
    "print(f\"期望：55\")\n",
    "print(f\"是否正確：{result2 == 55} ✓\")"
   ]
  },
  {
   "cell_type": "markdown",
   "metadata": {},
   "source": [
    "**知識點**：\n",
    "- `range(n)` 生成 [0, n)\n",
    "- `range(a, b)` 生成 [a, b)\n",
    "- 使用 print() 追蹤變數變化是最簡單的除錯方式"
   ]
  },
  {
   "cell_type": "markdown",
   "metadata": {},
   "source": [
    "---\n",
    "\n",
    "### 練習 2：IndexError\n",
    "\n",
    "**錯誤分析**：\n",
    "- `range(len(numbers))` 生成 [0, 1, 2, 3, 4]\n",
    "- 當 i=4 時，`numbers[i+1]` = `numbers[5]`\n",
    "- 但列表只有 5 個元素（索引 0-4），索引 5 超出範圍\n",
    "\n",
    "**修正方案**：直接使用 `numbers[i]`，或使用 `for item in numbers`"
   ]
  },
  {
   "cell_type": "code",
   "execution_count": null,
   "metadata": {},
   "outputs": [],
   "source": [
    "# ✅ 修正後的程式碼（方法 1：修正索引）\n",
    "\n",
    "numbers = [10, 20, 30, 40, 50]\n",
    "\n",
    "print(\"方法 1：使用正確的索引\")\n",
    "for i in range(len(numbers)):\n",
    "    print(f\"索引 {i}: {numbers[i]}\")  # 修正：使用 i 而非 i+1\n",
    "\n",
    "print(\"\\n方法 2：直接迭代（更 Pythonic）\")\n",
    "for i, num in enumerate(numbers):\n",
    "    print(f\"索引 {i}: {num}\")\n",
    "\n",
    "print(\"\\n方法 3：不需要索引時\")\n",
    "for num in numbers:\n",
    "    print(f\"值: {num}\")"
   ]
  },
  {
   "cell_type": "markdown",
   "metadata": {},
   "source": [
    "**知識點**：\n",
    "- 索引錯誤通常發生在 `±1` 錯誤\n",
    "- 使用 `enumerate()` 可以同時獲得索引和值\n",
    "- 優先使用 `for item in list` 而非索引迴圈"
   ]
  },
  {
   "cell_type": "markdown",
   "metadata": {},
   "source": [
    "---\n",
    "\n",
    "### 練習 3：ZeroDivisionError\n",
    "\n",
    "**錯誤分析**：\n",
    "- 當列表為空時，`len(numbers)` = 0\n",
    "- `total / len(numbers)` = `total / 0`，導致 ZeroDivisionError\n",
    "\n",
    "**修正方案**：加入邊界條件檢查"
   ]
  },
  {
   "cell_type": "code",
   "execution_count": null,
   "metadata": {},
   "outputs": [],
   "source": [
    "# ✅ 修正後的程式碼\n",
    "\n",
    "def calculate_average_fixed(numbers):\n",
    "    \"\"\"\n",
    "    計算列表的平均值（修正後）\n",
    "    \n",
    "    修正要點：\n",
    "    1. 檢查列表是否為空\n",
    "    2. 空列表返回 None 或 0\n",
    "    \"\"\"\n",
    "    if not numbers:  # 或 if len(numbers) == 0:\n",
    "        print(\"警告：列表為空，返回 None\")\n",
    "        return None\n",
    "    \n",
    "    total = sum(numbers)\n",
    "    avg = total / len(numbers)\n",
    "    return avg\n",
    "\n",
    "# 測試\n",
    "print(\"測試 1: [10, 20, 30]\")\n",
    "result1 = calculate_average_fixed([10, 20, 30])\n",
    "print(f\"平均值：{result1}\\n\")\n",
    "\n",
    "print(\"測試 2: []\")\n",
    "result2 = calculate_average_fixed([])\n",
    "print(f\"平均值：{result2}\\n\")\n",
    "\n",
    "print(\"測試 3: [100]\")\n",
    "result3 = calculate_average_fixed([100])\n",
    "print(f\"平均值：{result3}\")"
   ]
  },
  {
   "cell_type": "markdown",
   "metadata": {},
   "source": [
    "**知識點**：\n",
    "- 邊界條件（空列表、零、負數）是常見錯誤來源\n",
    "- 防禦性編程：在可能出錯的地方加入檢查\n",
    "- `if not list:` 是 Pythonic 的空列表檢查"
   ]
  },
  {
   "cell_type": "markdown",
   "metadata": {},
   "source": [
    "---\n",
    "\n",
    "### 練習 4：NameError\n",
    "\n",
    "**錯誤分析**：\n",
    "- Python 變數名稱區分大小寫\n",
    "- `area` ≠ `Area`\n",
    "- 返回 `Area` 時找不到此變數\n",
    "\n",
    "**修正方案**：使用正確的變數名稱"
   ]
  },
  {
   "cell_type": "code",
   "execution_count": null,
   "metadata": {},
   "outputs": [],
   "source": [
    "# ✅ 修正後的程式碼\n",
    "\n",
    "def calculate_rectangle_area_fixed(width, height):\n",
    "    \"\"\"\n",
    "    計算矩形面積（修正後）\n",
    "    \n",
    "    修正要點：\n",
    "    1. 變數名稱大小寫要一致\n",
    "    2. Python 慣例：變數名稱使用小寫\n",
    "    \"\"\"\n",
    "    area = width * height\n",
    "    return area  # 修正：使用小寫 area\n",
    "\n",
    "# 測試\n",
    "result = calculate_rectangle_area_fixed(5, 10)\n",
    "print(f\"面積：{result}\")\n",
    "print(f\"是否正確：{result == 50} ✓\")"
   ]
  },
  {
   "cell_type": "markdown",
   "metadata": {},
   "source": [
    "**知識點**：\n",
    "- NameError 通常是拼寫錯誤或大小寫錯誤\n",
    "- Python 慣例：變數使用 snake_case（小寫+底線）\n",
    "- 使用 IDE 可自動檢測此類錯誤"
   ]
  },
  {
   "cell_type": "markdown",
   "metadata": {},
   "source": [
    "---\n",
    "\n",
    "### 練習 5：KeyError\n",
    "\n",
    "**錯誤分析**：\n",
    "- 直接使用 `dict[key]` 訪問不存在的鍵會拋出 KeyError\n",
    "- \"David\" 不在 `student_scores` 中\n",
    "\n",
    "**修正方案**：\n",
    "1. 使用 `dict.get(key, default)`\n",
    "2. 使用 `if key in dict` 檢查\n",
    "3. 使用 try-except 捕獲例外"
   ]
  },
  {
   "cell_type": "code",
   "execution_count": null,
   "metadata": {},
   "outputs": [],
   "source": [
    "# ✅ 修正後的程式碼（加入 logging）\n",
    "\n",
    "import logging\n",
    "\n",
    "logging.basicConfig(level=logging.DEBUG, format='%(levelname)s - %(message)s', force=True)\n",
    "\n",
    "student_scores = {\n",
    "    \"Alice\": 85,\n",
    "    \"Bob\": 92,\n",
    "    \"Charlie\": 78\n",
    "}\n",
    "\n",
    "def get_student_score_fixed(name):\n",
    "    \"\"\"\n",
    "    獲取學生成績（修正後，加入 logging）\n",
    "    \n",
    "    修正要點：\n",
    "    1. 使用 get() 方法避免 KeyError\n",
    "    2. 使用 logging 記錄查詢過程\n",
    "    \"\"\"\n",
    "    logging.info(f\"查詢學生 '{name}' 的成績\")\n",
    "    \n",
    "    if name in student_scores:\n",
    "        score = student_scores[name]\n",
    "        logging.debug(f\"找到成績：{score}\")\n",
    "        return score\n",
    "    else:\n",
    "        logging.warning(f\"學生 '{name}' 不存在於資料庫中\")\n",
    "        return None\n",
    "\n",
    "# 測試\n",
    "print(\"\\n測試 1: Alice\")\n",
    "result1 = get_student_score_fixed(\"Alice\")\n",
    "print(f\"成績：{result1}\\n\")\n",
    "\n",
    "print(\"測試 2: David\")\n",
    "result2 = get_student_score_fixed(\"David\")\n",
    "print(f\"成績：{result2}\")"
   ]
  },
  {
   "cell_type": "markdown",
   "metadata": {},
   "source": [
    "**知識點**：\n",
    "- `dict.get(key, default)` 安全地獲取值\n",
    "- `if key in dict:` 檢查鍵是否存在\n",
    "- logging 比 print 更專業，可控制輸出級別"
   ]
  },
  {
   "cell_type": "markdown",
   "metadata": {},
   "source": [
    "---\n",
    "\n",
    "### 練習 6：無窮迴圈\n",
    "\n",
    "**錯誤分析**：\n",
    "- 迴圈條件是 `n > 0`\n",
    "- 但 `n += 1` 使 n 越來越大\n",
    "- 永遠不會達到終止條件\n",
    "\n",
    "**修正方案**：改為 `n -= 1`"
   ]
  },
  {
   "cell_type": "code",
   "execution_count": null,
   "metadata": {},
   "outputs": [],
   "source": [
    "# ✅ 修正後的程式碼\n",
    "\n",
    "def countdown_fixed(n):\n",
    "    \"\"\"\n",
    "    倒數計數（修正後）\n",
    "    \n",
    "    修正要點：\n",
    "    1. 使用 n -= 1 使變數朝終止條件靠近\n",
    "    2. 可加入安全機制防止無窮迴圈\n",
    "    \"\"\"\n",
    "    while n > 0:\n",
    "        print(n)\n",
    "        n -= 1  # 修正：遞減而非遞增\n",
    "    print(\"完成！\")\n",
    "\n",
    "# 測試\n",
    "print(\"倒數 5 秒：\")\n",
    "countdown_fixed(5)"
   ]
  },
  {
   "cell_type": "markdown",
   "metadata": {},
   "source": [
    "**知識點**：\n",
    "- 無窮迴圈檢查：變數是否朝終止條件靠近\n",
    "- 可加入計數器防止無窮迴圈（如 `max_iterations`）\n",
    "- Jupyter 中可用 Kernel → Interrupt 停止無窮迴圈"
   ]
  },
  {
   "cell_type": "markdown",
   "metadata": {},
   "source": [
    "---\n",
    "\n",
    "### 練習 7：遞迴錯誤\n",
    "\n",
    "**錯誤分析**：\n",
    "- 費波那契公式：`f(n) = f(n-1) + f(n-2)`\n",
    "- 錯誤程式：`f(n) = f(n-1) + f(n-3)` ❌\n",
    "- 當 n=2 時，會呼叫 `f(-1)`，導致 RecursionError\n",
    "\n",
    "**修正方案**：改為 `f(n-1) + f(n-2)`"
   ]
  },
  {
   "cell_type": "code",
   "execution_count": null,
   "metadata": {},
   "outputs": [],
   "source": [
    "# ✅ 修正後的程式碼（加入 logging）\n",
    "\n",
    "import logging\n",
    "\n",
    "logging.basicConfig(level=logging.INFO, format='%(message)s', force=True)\n",
    "\n",
    "def fibonacci_fixed(n, depth=0):\n",
    "    \"\"\"\n",
    "    計算費波那契數列第 n 項（修正後，加入 logging）\n",
    "    \n",
    "    修正要點：\n",
    "    1. 使用正確的公式 f(n-1) + f(n-2)\n",
    "    2. 使用 depth 參數追蹤遞迴深度\n",
    "    \"\"\"\n",
    "    indent = \"  \" * depth\n",
    "    logging.info(f\"{indent}fibonacci({n}) 被呼叫\")\n",
    "    \n",
    "    # 基本情況\n",
    "    if n == 0:\n",
    "        logging.info(f\"{indent}  -> 返回 0\")\n",
    "        return 0\n",
    "    if n == 1:\n",
    "        logging.info(f\"{indent}  -> 返回 1\")\n",
    "        return 1\n",
    "    \n",
    "    # 遞迴情況（修正）\n",
    "    result = fibonacci_fixed(n-1, depth+1) + fibonacci_fixed(n-2, depth+1)\n",
    "    logging.info(f\"{indent}  -> 返回 {result}\")\n",
    "    return result\n",
    "\n",
    "# 測試\n",
    "print(\"正確的費波那契數列：\")\n",
    "for i in range(8):\n",
    "    result = fibonacci_fixed(i)\n",
    "    print(f\"fibonacci({i}) = {result}\")\n",
    "\n",
    "print(\"\\n期望：0, 1, 1, 2, 3, 5, 8, 13\")"
   ]
  },
  {
   "cell_type": "markdown",
   "metadata": {},
   "source": [
    "**知識點**：\n",
    "- 遞迴除錯：使用 logging 追蹤呼叫深度\n",
    "- 檢查基本情況和遞迴情況是否正確\n",
    "- 費波那契數列：0, 1, 1, 2, 3, 5, 8, 13, 21..."
   ]
  },
  {
   "cell_type": "markdown",
   "metadata": {},
   "source": [
    "---\n",
    "\n",
    "### 練習 8：型別錯誤\n",
    "\n",
    "**錯誤分析**：\n",
    "- `total += item` 要求 item 是數字\n",
    "- 列表中包含字串 \"2\" 或 None\n",
    "- 會拋出 TypeError\n",
    "\n",
    "**修正方案**：加入型別檢查"
   ]
  },
  {
   "cell_type": "code",
   "execution_count": null,
   "metadata": {},
   "outputs": [],
   "source": [
    "# ✅ 修正後的程式碼（加入型別檢查與 logging）\n",
    "\n",
    "import logging\n",
    "\n",
    "logging.basicConfig(level=logging.WARNING, format='%(levelname)s - %(message)s', force=True)\n",
    "\n",
    "def sum_numbers_fixed(data):\n",
    "    \"\"\"\n",
    "    計算列表中所有數字的總和（修正後）\n",
    "    \n",
    "    修正要點：\n",
    "    1. 使用 isinstance() 檢查型別\n",
    "    2. 跳過非數字型別\n",
    "    3. 使用 logging.warning 記錄跳過的項目\n",
    "    \"\"\"\n",
    "    total = 0\n",
    "    for item in data:\n",
    "        # 檢查是否為數字型別（int 或 float）\n",
    "        if isinstance(item, (int, float)) and not isinstance(item, bool):\n",
    "            total += item\n",
    "        else:\n",
    "            logging.warning(f\"跳過非數字項目：{item} (型別: {type(item).__name__})\")\n",
    "    return total\n",
    "\n",
    "# 測試\n",
    "print(\"測試 1: [1, 2, 3]\")\n",
    "result1 = sum_numbers_fixed([1, 2, 3])\n",
    "print(f\"總和：{result1}\\n\")\n",
    "\n",
    "print(\"測試 2: [1, '2', 3, None, 5]\")\n",
    "result2 = sum_numbers_fixed([1, \"2\", 3, None, 5])\n",
    "print(f\"總和：{result2}\\n\")\n",
    "\n",
    "print(\"測試 3: [1.5, 2.5, 3.0]\")\n",
    "result3 = sum_numbers_fixed([1.5, 2.5, 3.0])\n",
    "print(f\"總和：{result3}\")"
   ]
  },
  {
   "cell_type": "markdown",
   "metadata": {},
   "source": [
    "**知識點**：\n",
    "- `isinstance(obj, type)` 檢查型別\n",
    "- `isinstance(obj, (type1, type2))` 檢查多種型別\n",
    "- 注意：bool 是 int 的子類別，需額外排除\n",
    "- logging.warning 適合記錄異常但不致命的情況"
   ]
  },
  {
   "cell_type": "markdown",
   "metadata": {},
   "source": [
    "---\n",
    "\n",
    "## Part II: 課後習題解答 (04-exercises.ipynb)\n",
    "\n",
    "由於篇幅限制，這裡提供前 6 題解答，其餘題目請參考練習思路自行完成。\n",
    "\n",
    "---"
   ]
  },
  {
   "cell_type": "markdown",
   "metadata": {},
   "source": [
    "### 習題 1：使用 print debugging 追蹤變數\n",
    "\n",
    "**錯誤分析**：\n",
    "- `min_val = 0` 初始化錯誤\n",
    "- 當列表中所有值都 > 0 時，最小值永遠是 0\n",
    "\n",
    "**修正方案**：使用列表第一個元素或 `float('inf')` 初始化"
   ]
  },
  {
   "cell_type": "code",
   "execution_count": null,
   "metadata": {},
   "outputs": [],
   "source": [
    "# ✅ 解答\n",
    "\n",
    "def find_min_fixed(numbers):\n",
    "    \"\"\"\n",
    "    找出列表中的最小值（修正後）\n",
    "    \"\"\"\n",
    "    if not numbers:\n",
    "        return None\n",
    "    \n",
    "    min_val = numbers[0]  # 修正：使用第一個元素初始化\n",
    "    print(f\"初始化 min_val = {min_val}\")\n",
    "    \n",
    "    for num in numbers:\n",
    "        print(f\"  檢查 num={num}, min_val={min_val}\", end=\"\")\n",
    "        if num < min_val:\n",
    "            print(f\" -> 更新 min_val={num}\")\n",
    "            min_val = num\n",
    "        else:\n",
    "            print(\" -> 不變\")\n",
    "    \n",
    "    return min_val\n",
    "\n",
    "# 測試\n",
    "print(\"測試 1: [5, 2, 8, 1, 9]\")\n",
    "result1 = find_min_fixed([5, 2, 8, 1, 9])\n",
    "print(f\"最小值：{result1}\\n\")\n",
    "\n",
    "print(\"測試 2: [10, 20, 30]\")\n",
    "result2 = find_min_fixed([10, 20, 30])\n",
    "print(f\"最小值：{result2}\")"
   ]
  },
  {
   "cell_type": "markdown",
   "metadata": {},
   "source": [
    "**知識點**：\n",
    "- 初始值的選擇很重要\n",
    "- `min_val = float('inf')` 也是常見做法\n",
    "- Python 內建 `min()` 函式更簡潔"
   ]
  },
  {
   "cell_type": "markdown",
   "metadata": {},
   "source": [
    "---\n",
    "\n",
    "### 習題 2：使用 logging 記錄程式執行"
   ]
  },
  {
   "cell_type": "code",
   "execution_count": null,
   "metadata": {},
   "outputs": [],
   "source": [
    "# ✅ 解答\n",
    "\n",
    "import logging\n",
    "import math\n",
    "\n",
    "logging.basicConfig(level=logging.DEBUG, format='%(levelname)s - %(message)s', force=True)\n",
    "\n",
    "def calculate_circle_area(radius):\n",
    "    \"\"\"\n",
    "    計算圓面積，並使用 logging 記錄過程\n",
    "    \"\"\"\n",
    "    logging.info(f\"輸入半徑：{radius}\")\n",
    "    \n",
    "    # 型別檢查\n",
    "    if not isinstance(radius, (int, float)):\n",
    "        logging.error(f\"半徑型別錯誤：{type(radius).__name__}，應為 int 或 float\")\n",
    "        return None\n",
    "    \n",
    "    # 負數檢查\n",
    "    if radius < 0:\n",
    "        logging.warning(f\"半徑為負數：{radius}，返回 None\")\n",
    "        return None\n",
    "    \n",
    "    # 計算\n",
    "    area = math.pi * radius ** 2\n",
    "    logging.debug(f\"計算過程：π × {radius}² = {math.pi} × {radius**2} = {area}\")\n",
    "    \n",
    "    return area\n",
    "\n",
    "# 測試\n",
    "print(\"\\n測試 1: radius=5\")\n",
    "result1 = calculate_circle_area(5)\n",
    "print(f\"面積：{result1:.2f}\\n\")\n",
    "\n",
    "print(\"測試 2: radius=-3\")\n",
    "result2 = calculate_circle_area(-3)\n",
    "print(f\"面積：{result2}\\n\")\n",
    "\n",
    "print(\"測試 3: radius='abc'\")\n",
    "result3 = calculate_circle_area(\"abc\")\n",
    "print(f\"面積：{result3}\")"
   ]
  },
  {
   "cell_type": "markdown",
   "metadata": {},
   "source": [
    "**知識點**：\n",
    "- DEBUG: 詳細的執行過程\n",
    "- INFO: 重要的狀態變化\n",
    "- WARNING: 異常但可處理的情況\n",
    "- ERROR: 錯誤情況"
   ]
  },
  {
   "cell_type": "markdown",
   "metadata": {},
   "source": [
    "---\n",
    "\n",
    "### 習題 3：解讀 traceback 訊息"
   ]
  },
  {
   "cell_type": "code",
   "execution_count": null,
   "metadata": {},
   "outputs": [],
   "source": [
    "# ✅ 解答\n",
    "\n",
    "def calculate_discount(price, discount_rate):\n",
    "    \"\"\"計算折扣後的價格\"\"\"\n",
    "    discount = price * discount_rate\n",
    "    final_price = price - discount\n",
    "    return final_price\n",
    "\n",
    "def apply_coupon_fixed(price, coupon_code):\n",
    "    \"\"\"\n",
    "    套用優惠券（修正後）\n",
    "    \"\"\"\n",
    "    discount_rates = {\n",
    "        \"SAVE10\": 0.1,\n",
    "        \"SAVE20\": 0.2\n",
    "    }\n",
    "    \n",
    "    # 修正：使用 get() 或 in 檢查\n",
    "    if coupon_code in discount_rates:\n",
    "        rate = discount_rates[coupon_code]\n",
    "        return calculate_discount(price, rate)\n",
    "    else:\n",
    "        print(f\"警告：無效的優惠碼 '{coupon_code}'，不套用折扣\")\n",
    "        return price\n",
    "\n",
    "# 測試\n",
    "print(\"測試 1: SAVE10\")\n",
    "result1 = apply_coupon_fixed(100, \"SAVE10\")\n",
    "print(f\"折扣後：{result1}\\n\")\n",
    "\n",
    "print(\"測試 2: INVALID\")\n",
    "result2 = apply_coupon_fixed(100, \"INVALID\")\n",
    "print(f\"折扣後：{result2}\")"
   ]
  },
  {
   "cell_type": "markdown",
   "metadata": {},
   "source": [
    "**Traceback 分析**：\n",
    "1. **錯誤類型**：KeyError: 'INVALID'\n",
    "2. **發生位置**：`apply_coupon()` 函式中的 `rate = discount_rates[coupon_code]`\n",
    "3. **原因**：字典中不存在鍵 'INVALID'\n",
    "4. **修正**：使用 `in` 檢查或 `get()` 方法"
   ]
  },
  {
   "cell_type": "markdown",
   "metadata": {},
   "source": [
    "---\n",
    "\n",
    "### 習題 4：修正簡單的語法錯誤"
   ]
  },
  {
   "cell_type": "code",
   "execution_count": null,
   "metadata": {},
   "outputs": [],
   "source": [
    "# ✅ 解答（修正所有語法錯誤）\n",
    "\n",
    "def check_password(password):  # 加冒號\n",
    "    \"\"\"\n",
    "    檢查密碼強度\n",
    "    \"\"\"\n",
    "    if len(password) < 8:  # 加冒號\n",
    "        return \"密碼太短\"\n",
    "    elif len(password) >= 8 and len(password) < 12:\n",
    "        return \"密碼強度：中等\"\n",
    "    else:  # 加冒號\n",
    "        return \"密碼強度：強\"\n",
    "\n",
    "# 測試\n",
    "print(check_password(\"abc\"))\n",
    "print(check_password(\"password123\"))\n",
    "print(check_password(\"verylongpassword\"))"
   ]
  },
  {
   "cell_type": "markdown",
   "metadata": {},
   "source": [
    "**語法錯誤清單**：\n",
    "1. `def check_password(password)` 缺少冒號\n",
    "2. `if len(password) < 8` 缺少冒號\n",
    "3. `else` 缺少冒號"
   ]
  },
  {
   "cell_type": "markdown",
   "metadata": {},
   "source": [
    "---\n",
    "\n",
    "### 習題 5：使用 pdb 除錯迴圈"
   ]
  },
  {
   "cell_type": "code",
   "execution_count": null,
   "metadata": {},
   "outputs": [],
   "source": [
    "# ✅ 解答（使用 logging 模擬 pdb）\n",
    "\n",
    "import logging\n",
    "\n",
    "logging.basicConfig(level=logging.DEBUG, format='%(message)s', force=True)\n",
    "\n",
    "def find_primes_fixed(n):\n",
    "    \"\"\"\n",
    "    找出 2 到 n 之間的所有質數（修正後）\n",
    "    \"\"\"\n",
    "    primes = []\n",
    "    for num in range(2, n + 1):\n",
    "        logging.debug(f\"\\n檢查 {num} 是否為質數\")\n",
    "        is_prime = True\n",
    "        \n",
    "        for i in range(2, num):\n",
    "            logging.debug(f\"  {num} % {i} = {num % i}\")\n",
    "            if num % i == 0:  # 修正：能整除表示不是質數\n",
    "                logging.debug(f\"  -> {num} 可被 {i} 整除，不是質數\")\n",
    "                is_prime = False\n",
    "                break\n",
    "        \n",
    "        if is_prime:\n",
    "            logging.debug(f\"  -> {num} 是質數！\")\n",
    "            primes.append(num)\n",
    "    \n",
    "    return primes\n",
    "\n",
    "# 測試\n",
    "result = find_primes_fixed(10)\n",
    "print(f\"\\n2 到 10 的質數：{result}\")\n",
    "print(f\"期望：[2, 3, 5, 7]\")\n",
    "print(f\"是否正確：{result == [2, 3, 5, 7]} ✓\")"
   ]
  },
  {
   "cell_type": "markdown",
   "metadata": {},
   "source": [
    "**錯誤分析**：\n",
    "- 原程式：`if num % i != 0` (不能整除就設為非質數) ❌\n",
    "- 正確：`if num % i == 0` (能整除才是非質數) ✓"
   ]
  },
  {
   "cell_type": "markdown",
   "metadata": {},
   "source": [
    "---\n",
    "\n",
    "### 習題 6：使用 breakpoint() 除錯函式"
   ]
  },
  {
   "cell_type": "code",
   "execution_count": null,
   "metadata": {},
   "outputs": [],
   "source": [
    "# ✅ 解答（使用 logging 模擬 pdb）\n",
    "\n",
    "import logging\n",
    "\n",
    "logging.basicConfig(level=logging.DEBUG, format='%(message)s', force=True)\n",
    "\n",
    "def factorial(n):\n",
    "    \"\"\"\n",
    "    計算 n! (使用迴圈)\n",
    "    \"\"\"\n",
    "    if n < 0:\n",
    "        logging.error(\"階乘不接受負數\")\n",
    "        return None\n",
    "    \n",
    "    result = 1\n",
    "    logging.debug(f\"初始值：result = {result}\")\n",
    "    \n",
    "    for i in range(1, n + 1):\n",
    "        old_result = result\n",
    "        result *= i\n",
    "        logging.debug(f\"第 {i} 次迴圈：{old_result} × {i} = {result}\")\n",
    "    \n",
    "    logging.info(f\"{n}! = {result}\")\n",
    "    return result\n",
    "\n",
    "# 測試\n",
    "print(\"\\n計算 5!：\")\n",
    "result = factorial(5)\n",
    "print(f\"\\n結果：{result}\")\n",
    "print(f\"是否正確：{result == 120} ✓\")"
   ]
  },
  {
   "cell_type": "markdown",
   "metadata": {},
   "source": [
    "**模擬 pdb 指令**：\n",
    "- `p result` → logging 顯示 result 的值\n",
    "- `n` (next) → logging 顯示每次迴圈\n",
    "- `c` (continue) → 程式繼續執行"
   ]
  },
  {
   "cell_type": "markdown",
   "metadata": {},
   "source": [
    "---\n",
    "\n",
    "## 總結\n",
    "\n",
    "### 除錯技巧回顧\n",
    "\n",
    "| 技巧 | 適用情況 | 優點 | 缺點 |\n",
    "|:-----|:---------|:-----|:-----|\n",
    "| **print debugging** | 簡單錯誤 | 快速、直覺 | 程式碼混亂 |\n",
    "| **logging** | 正式專案 | 專業、可控 | 設定複雜 |\n",
    "| **pdb/breakpoint()** | 複雜邏輯 | 互動式、全功能 | 學習曲線 |\n",
    "| **科學除錯法** | 系統性問題 | 完整、可重現 | 耗時 |\n",
    "\n",
    "### 常見錯誤類型\n",
    "\n",
    "1. **邏輯錯誤**：程式能執行，但結果不正確\n",
    "2. **語法錯誤**：拼寫、缺少冒號/括號\n",
    "3. **執行期錯誤**：IndexError、KeyError、TypeError\n",
    "4. **無窮迴圈**：終止條件錯誤\n",
    "\n",
    "### 下一步\n",
    "\n",
    "- 實際應用除錯技術到你的專案\n",
    "- 養成使用 logging 的習慣\n",
    "- 學習使用 IDE 的除錯工具（VS Code、PyCharm）"
   ]
  }
 ],
 "metadata": {
  "kernelspec": {
   "display_name": "Python 3",
   "language": "python",
   "name": "python3"
  },
  "language_info": {
   "codemirror_mode": {
    "name": "ipython",
    "version": 3
   },
   "file_extension": ".py",
   "mimetype": "text/x-python",
   "name": "python",
   "nbconvert_exporter": "python",
   "pygments_lexer": "ipython3",
   "version": "3.8.0"
  }
 },
 "nbformat": 4,
 "nbformat_minor": 4
}
