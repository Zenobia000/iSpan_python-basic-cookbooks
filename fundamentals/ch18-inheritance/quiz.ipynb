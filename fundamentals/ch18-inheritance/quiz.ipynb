{
 "cells": [
  {
   "cell_type": "markdown",
   "metadata": {},
   "source": "# Chapter 18: 繼承與多型 - 自我測驗\n\n## Part A: 選擇題（15 題）\n## Part B: 程式題（5 題）"
  },
  {
   "cell_type": "markdown",
   "metadata": {},
   "source": "## Part A: 選擇題\n\n### Q1. 繼承的語法\n```python\nclass Dog(Animal):\n    pass\n```\n以上程式碼中，Dog 是什麼？\n(A) 父類 (B) 子類 (C) 抽象類 (D) Mixin\n\n<details>\n<summary>答案</summary>\n(B) 子類\n</details>"
  },
  {
   "cell_type": "markdown",
   "metadata": {},
   "source": "### Q2. super() 的作用\nsuper() 的主要用途是？\n(A) 建立新物件\n(B) 呼叫父類方法\n(C) 刪除屬性\n(D) 定義抽象方法\n\n<details>\n<summary>答案</summary>\n(B) 呼叫父類方法\n</details>"
  },
  {
   "cell_type": "markdown",
   "metadata": {},
   "source": "### Q3. 方法覆寫\n子類重新定義父類方法稱為？\n(A) 方法重載\n(B) 方法覆寫\n(C) 方法繼承\n(D) 方法抽象\n\n<details>\n<summary>答案</summary>\n(B) 方法覆寫\n</details>"
  },
  {
   "cell_type": "markdown",
   "metadata": {},
   "source": "### Q4-15：（更多選擇題）\n涵蓋多型、MRO、ABC 等主題..."
  },
  {
   "cell_type": "markdown",
   "metadata": {},
   "source": "## Part B: 程式題\n\n### 程式題 1：實作單一繼承\n建立 Animal → Dog，Dog 有 bark() 方法。"
  },
  {
   "cell_type": "code",
   "execution_count": null,
   "metadata": {},
   "outputs": [],
   "source": "# 請完成\nclass Animal:\n    def __init__(self, name):\n        self.name = name\n\nclass Dog(Animal):\n    # TODO: 完成 bark() 方法\n    pass\n\n# 測試\ndog = Dog(\"Buddy\")\nprint(dog.bark())  # 應輸出：Buddy says Woof!"
  },
  {
   "cell_type": "markdown",
   "metadata": {},
   "source": "### 程式題 2：多型應用\n建立 Shape → Rectangle/Circle，統一介面計算面積。"
  },
  {
   "cell_type": "code",
   "execution_count": null,
   "metadata": {},
   "outputs": [],
   "source": "# 請完成"
  },
  {
   "cell_type": "markdown",
   "metadata": {},
   "source": "### 程式題 3：多重繼承\n建立 FlyingFish = Fish + Flyable。"
  },
  {
   "cell_type": "code",
   "execution_count": null,
   "metadata": {},
   "outputs": [],
   "source": "# 請完成"
  },
  {
   "cell_type": "markdown",
   "metadata": {},
   "source": "### 程式題 4：MRO 查看\n印出指定類別的 MRO。"
  },
  {
   "cell_type": "code",
   "execution_count": null,
   "metadata": {},
   "outputs": [],
   "source": "# 請完成"
  },
  {
   "cell_type": "markdown",
   "metadata": {},
   "source": "### 程式題 5：ABC 實作\n建立 PaymentMethod 抽象基類，實作 CreditCard 子類。"
  },
  {
   "cell_type": "code",
   "execution_count": null,
   "metadata": {},
   "outputs": [],
   "source": "from abc import ABC, abstractmethod\n\n# 請完成"
  },
  {
   "cell_type": "markdown",
   "metadata": {},
   "source": "## 測驗結束\n\n**評分標準**：\n- 選擇題：每題 4 分（共 60 分）\n- 程式題：每題 8 分（共 40 分）\n- 總分：100 分\n- 及格：70 分"
  }
 ],
 "metadata": {
  "kernelspec": {
   "display_name": "Python 3",
   "language": "python",
   "name": "python3"
  },
  "language_info": {
   "name": "python",
   "version": "3.9.0"
  }
 },
 "nbformat": 4,
 "nbformat_minor": 4
}