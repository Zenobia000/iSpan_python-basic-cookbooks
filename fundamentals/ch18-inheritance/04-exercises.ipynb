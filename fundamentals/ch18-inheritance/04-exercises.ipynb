{
 "cells": [
  {
   "cell_type": "markdown",
   "metadata": {},
   "source": "# Chapter 18: 繼承與多型 - 課後習題\n\n共 12 題（4 基礎 + 4 中級 + 2 進階 + 2 挑戰）"
  },
  {
   "cell_type": "markdown",
   "metadata": {},
   "source": "## 基礎題（4 題）"
  },
  {
   "cell_type": "markdown",
   "metadata": {},
   "source": "### 習題 1：建立 Person 類別階層\n建立 Person → Student，Student 有 student_id 和 grade。"
  },
  {
   "cell_type": "code",
   "execution_count": null,
   "metadata": {},
   "outputs": [],
   "source": "# 請完成"
  },
  {
   "cell_type": "markdown",
   "metadata": {},
   "source": "### 習題 2：寵物類別\n建立 Pet → Dog/Cat，實作 speak() 方法。"
  },
  {
   "cell_type": "code",
   "execution_count": null,
   "metadata": {},
   "outputs": [],
   "source": "# 請完成"
  },
  {
   "cell_type": "markdown",
   "metadata": {},
   "source": "### 習題 3：繼承檢查\n使用 isinstance() 和 issubclass() 檢查。"
  },
  {
   "cell_type": "code",
   "execution_count": null,
   "metadata": {},
   "outputs": [],
   "source": "# 請完成"
  },
  {
   "cell_type": "markdown",
   "metadata": {},
   "source": "### 習題 4：super() 應用\n建立 Book → EBook，EBook 有 file_size 屬性。"
  },
  {
   "cell_type": "code",
   "execution_count": null,
   "metadata": {},
   "outputs": [],
   "source": "# 請完成"
  },
  {
   "cell_type": "markdown",
   "metadata": {},
   "source": "## 中級題（4 題）"
  },
  {
   "cell_type": "markdown",
   "metadata": {},
   "source": "### 習題 5：圖形面積計算系統\n建立 Shape → Square/Triangle，實作 area() 和 perimeter()。"
  },
  {
   "cell_type": "code",
   "execution_count": null,
   "metadata": {},
   "outputs": [],
   "source": "# 請完成"
  },
  {
   "cell_type": "markdown",
   "metadata": {},
   "source": "### 習題 6：員工薪資系統\n建立 Employee → FullTime/PartTime，計算月薪。"
  },
  {
   "cell_type": "code",
   "execution_count": null,
   "metadata": {},
   "outputs": [],
   "source": "# 請完成"
  },
  {
   "cell_type": "markdown",
   "metadata": {},
   "source": "### 習題 7：多重繼承 Mixin\n建立 Logger Mixin 並應用到多個類別。"
  },
  {
   "cell_type": "code",
   "execution_count": null,
   "metadata": {},
   "outputs": [],
   "source": "# 請完成"
  },
  {
   "cell_type": "markdown",
   "metadata": {},
   "source": "### 習題 8：方法覆寫與擴展\n覆寫 display() 方法，同時呼叫 super()。"
  },
  {
   "cell_type": "code",
   "execution_count": null,
   "metadata": {},
   "outputs": [],
   "source": "# 請完成"
  },
  {
   "cell_type": "markdown",
   "metadata": {},
   "source": "## 進階題（2 題）"
  },
  {
   "cell_type": "markdown",
   "metadata": {},
   "source": "### 習題 9：MRO 分析\n建立鑽石繼承，分析 MRO 順序。"
  },
  {
   "cell_type": "code",
   "execution_count": null,
   "metadata": {},
   "outputs": [],
   "source": "# 請完成"
  },
  {
   "cell_type": "markdown",
   "metadata": {},
   "source": "### 習題 10：抽象基類應用\n建立 DataStorage 抽象基類，實作 FileStorage/DBStorage。"
  },
  {
   "cell_type": "code",
   "execution_count": null,
   "metadata": {},
   "outputs": [],
   "source": "# 請完成"
  },
  {
   "cell_type": "markdown",
   "metadata": {},
   "source": "## 挑戰題（2 題）"
  },
  {
   "cell_type": "markdown",
   "metadata": {},
   "source": "### 習題 11：設計完整類別階層\n設計一個電商系統：Product → PhysicalProduct/DigitalProduct。"
  },
  {
   "cell_type": "code",
   "execution_count": null,
   "metadata": {},
   "outputs": [],
   "source": "# 請完成"
  },
  {
   "cell_type": "markdown",
   "metadata": {},
   "source": "### 習題 12：遊戲角色系統（整合）\n設計 RPG 角色系統，包含 3 種角色、2 種技能 Mixin。"
  },
  {
   "cell_type": "code",
   "execution_count": null,
   "metadata": {},
   "outputs": [],
   "source": "# 請完成"
  }
 ],
 "metadata": {
  "kernelspec": {
   "display_name": "Python 3",
   "language": "python",
   "name": "python3"
  },
  "language_info": {
   "name": "python",
   "version": "3.9.0"
  }
 },
 "nbformat": 4,
 "nbformat_minor": 4
}