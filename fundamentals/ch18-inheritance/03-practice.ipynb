{
 "cells": [
  {
   "cell_type": "markdown",
   "metadata": {},
   "source": "# Chapter 18: 繼承與多型 - 課堂練習\n\n共 8 題練習題（3 基礎 + 3 中級 + 2 進階）"
  },
  {
   "cell_type": "markdown",
   "metadata": {},
   "source": "## 基礎題\n\n### 練習 1：建立簡單繼承\n建立 Vehicle 類別和 Car 子類別。"
  },
  {
   "cell_type": "code",
   "execution_count": null,
   "metadata": {},
   "outputs": [],
   "source": "# 請完成以下程式碼\nclass Vehicle:\n    def __init__(self, brand):\n        self.brand = brand\n    \n    def start(self):\n        return f\"{self.brand} 啟動\"\n\nclass Car(Vehicle):\n    # TODO: 完成 Car 類別\n    pass\n\n# 測試\ncar = Car(\"Toyota\")\nprint(car.start())"
  },
  {
   "cell_type": "markdown",
   "metadata": {},
   "source": "### 練習 2：使用 super()\n為 Car 添加 model 屬性，使用 super() 初始化。"
  },
  {
   "cell_type": "code",
   "execution_count": null,
   "metadata": {},
   "outputs": [],
   "source": "class Car(Vehicle):\n    def __init__(self, brand, model):\n        # TODO: 使用 super() 初始化\n        self.model = model\n\n# 測試\ncar = Car(\"Toyota\", \"Camry\")\nprint(f\"{car.brand} {car.model}\")"
  },
  {
   "cell_type": "markdown",
   "metadata": {},
   "source": "### 練習 3：方法覆寫\n覆寫 start() 方法，顯示車款資訊。"
  },
  {
   "cell_type": "code",
   "execution_count": null,
   "metadata": {},
   "outputs": [],
   "source": "class Car(Vehicle):\n    def __init__(self, brand, model):\n        super().__init__(brand)\n        self.model = model\n    \n    def start(self):\n        # TODO: 覆寫 start() 方法\n        pass"
  },
  {
   "cell_type": "markdown",
   "metadata": {},
   "source": "## 中級題\n\n### 練習 4：多型應用\n建立 Rectangle 和 Circle，實作 area() 方法。"
  },
  {
   "cell_type": "code",
   "execution_count": null,
   "metadata": {},
   "outputs": [],
   "source": "import math\n\nclass Rectangle:\n    def __init__(self, width, height):\n        # TODO: 完成\n        pass\n    \n    def area(self):\n        # TODO: 完成\n        pass\n\nclass Circle:\n    def __init__(self, radius):\n        # TODO: 完成\n        pass\n    \n    def area(self):\n        # TODO: 完成\n        pass\n\n# 測試多型\nshapes = [Rectangle(5, 3), Circle(4)]\nfor shape in shapes:\n    print(f\"面積：{shape.area():.2f}\")"
  },
  {
   "cell_type": "markdown",
   "metadata": {},
   "source": "### 練習 5：多重繼承\n建立 Amphibian（兩棲動物）= Animal + Swimmable。"
  },
  {
   "cell_type": "code",
   "execution_count": null,
   "metadata": {},
   "outputs": [],
   "source": "class Animal:\n    def __init__(self, name):\n        self.name = name\n\nclass Swimmable:\n    def swim(self):\n        return f\"{self.name} 在游泳\"\n\nclass Amphibian(Animal, Swimmable):\n    # TODO: 完成\n    pass\n\n# 測試\nfrog = Amphibian(\"青蛙\")\nprint(frog.swim())"
  },
  {
   "cell_type": "markdown",
   "metadata": {},
   "source": "### 練習 6：MRO 查看\n查看 Amphibian 的 MRO。"
  },
  {
   "cell_type": "code",
   "execution_count": null,
   "metadata": {},
   "outputs": [],
   "source": "# TODO: 印出 Amphibian 的 MRO\nfor cls in Amphibian.mro():\n    print(cls.__name__)"
  },
  {
   "cell_type": "markdown",
   "metadata": {},
   "source": "## 進階題\n\n### 練習 7：ABC 抽象基類\n使用 ABC 建立 Payment 抽象基類。"
  },
  {
   "cell_type": "code",
   "execution_count": null,
   "metadata": {},
   "outputs": [],
   "source": "from abc import ABC, abstractmethod\n\nclass Payment(ABC):\n    @abstractmethod\n    def process(self, amount):\n        # TODO: 抽象方法\n        pass\n\nclass CreditCard(Payment):\n    def process(self, amount):\n        # TODO: 實作\n        return f\"信用卡支付 ${amount}\"\n\n# 測試\ncard = CreditCard()\nprint(card.process(100))"
  },
  {
   "cell_type": "markdown",
   "metadata": {},
   "source": "### 練習 8：複雜類別階層\n建立 3 層繼承：Shape → Polygon → Rectangle。"
  },
  {
   "cell_type": "code",
   "execution_count": null,
   "metadata": {},
   "outputs": [],
   "source": "class Shape:\n    def describe(self):\n        return \"這是一個形狀\"\n\nclass Polygon(Shape):\n    def __init__(self, sides):\n        # TODO: 完成\n        pass\n\nclass Rectangle(Polygon):\n    def __init__(self, width, height):\n        # TODO: 使用 super()\n        super().__init__(4)\n        self.width = width\n        self.height = height\n\n# 測試\nrect = Rectangle(5, 3)\nprint(rect.describe())"
  }
 ],
 "metadata": {
  "kernelspec": {
   "display_name": "Python 3",
   "language": "python",
   "name": "python3"
  },
  "language_info": {
   "name": "python",
   "version": "3.9.0"
  }
 },
 "nbformat": 4,
 "nbformat_minor": 4
}