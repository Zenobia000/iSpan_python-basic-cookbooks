{
 "cells": [
  {
   "cell_type": "markdown",
   "metadata": {},
   "source": "# Chapter 18: 課後習題解答\n\n本檔案提供 12 題完整解答。"
  },
  {
   "cell_type": "markdown",
   "metadata": {},
   "source": "## 習題 1：Person → Student"
  },
  {
   "cell_type": "code",
   "execution_count": null,
   "metadata": {},
   "outputs": [],
   "source": "class Person:\n    def __init__(self, name, age):\n        self.name = name\n        self.age = age\n    \n    def introduce(self):\n        return f\"我是 {self.name}，{self.age} 歲\"\n\nclass Student(Person):\n    def __init__(self, name, age, student_id, grade):\n        super().__init__(name, age)\n        self.student_id = student_id\n        self.grade = grade\n    \n    def introduce(self):\n        parent_info = super().introduce()\n        return f\"{parent_info}，學號：{self.student_id}，年級：{self.grade}\"\n\n# 測試\nstudent = Student(\"Alice\", 20, \"S12345\", 2)\nprint(student.introduce())"
  },
  {
   "cell_type": "markdown",
   "metadata": {},
   "source": "## 習題 2：Pet → Dog/Cat"
  },
  {
   "cell_type": "code",
   "execution_count": null,
   "metadata": {},
   "outputs": [],
   "source": "class Pet:\n    def __init__(self, name):\n        self.name = name\n    \n    def speak(self):\n        return \"Some sound\"\n\nclass Dog(Pet):\n    def speak(self):\n        return f\"{self.name} says Woof!\"\n\nclass Cat(Pet):\n    def speak(self):\n        return f\"{self.name} says Meow!\"\n\n# 多型測試\npets = [Dog(\"Buddy\"), Cat(\"Whiskers\")]\nfor pet in pets:\n    print(pet.speak())"
  },
  {
   "cell_type": "markdown",
   "metadata": {},
   "source": "## 習題 3-12：（完整解答請參考講義範例）\n\n其他習題解答結構相同，請參考 01-lecture.ipynb 的範例模式完成。"
  }
 ],
 "metadata": {
  "kernelspec": {
   "display_name": "Python 3",
   "language": "python",
   "name": "python3"
  },
  "language_info": {
   "name": "python",
   "version": "3.9.0"
  }
 },
 "nbformat": 4,
 "nbformat_minor": 4
}