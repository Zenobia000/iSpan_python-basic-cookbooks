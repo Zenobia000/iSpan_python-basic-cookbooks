{
 "cells": [
  {
   "cell_type": "markdown",
   "metadata": {},
   "source": [
    "# Python 常見錯誤解析 | Common Errors Guide\n",
    "\n",
    "本文件整理 Python 初學者最常遇到的錯誤，提供：\n",
    "- 錯誤範例\n",
    "- 錯誤原因\n",
    "- 正確寫法\n",
    "- 預防方法\n",
    "\n",
    "**適用對象**：\n",
    "- 學習 Ch01-Ch15 的初學者\n",
    "- 遇到錯誤不知如何解決的學習者\n",
    "- 想要預防常見錯誤的開發者\n",
    "\n",
    "---"
   ]
  },
  {
   "cell_type": "markdown",
   "metadata": {},
   "source": [
    "## 📑 目錄\n",
    "\n",
    "1. [語法錯誤（SyntaxError）](#1-syntaxerror)\n",
    "2. [型態錯誤（TypeError）](#2-typeerror)\n",
    "3. [名稱錯誤（NameError）](#3-nameerror)\n",
    "4. [值錯誤（ValueError）](#4-valueerror)\n",
    "5. [索引錯誤（IndexError）](#5-indexerror)\n",
    "6. [鍵錯誤（KeyError）](#6-keyerror)\n",
    "7. [屬性錯誤（AttributeError）](#7-attributeerror)\n",
    "8. [縮排錯誤（IndentationError）](#8-indentationerror)\n",
    "9. [除零錯誤（ZeroDivisionError）](#9-zerodivisionerror)\n",
    "10. [邏輯錯誤（非異常）](#10-logic-errors)\n",
    "\n",
    "---"
   ]
  },
  {
   "cell_type": "markdown",
   "metadata": {},
   "source": [
    "## 1. SyntaxError（語法錯誤）\n",
    "\n",
    "### 錯誤 1.1：忘記冒號"
   ]
  },
  {
   "cell_type": "code",
   "execution_count": null,
   "metadata": {},
   "outputs": [],
   "source": [
    "# ❌ 錯誤示範\n",
    "# if x > 5\n",
    "#     print(\"大於5\")\n",
    "# SyntaxError: invalid syntax\n",
    "\n",
    "# ✅ 正確寫法\n",
    "x = 10\n",
    "if x > 5:\n",
    "    print(\"大於5\")"
   ]
  },
  {
   "cell_type": "markdown",
   "metadata": {},
   "source": [
    "**錯誤原因**：Python 的控制結構（if, for, while, def, class）必須以冒號結尾\n",
    "\n",
    "**預防方法**：記住口訣「條件後面加冒號」"
   ]
  },
  {
   "cell_type": "markdown",
   "metadata": {},
   "source": [
    "### 錯誤 1.2：括號不匹配"
   ]
  },
  {
   "cell_type": "code",
   "execution_count": null,
   "metadata": {},
   "outputs": [],
   "source": [
    "# ❌ 錯誤示範\n",
    "# result = (10 + 5 * 2\n",
    "# SyntaxError: unexpected EOF while parsing\n",
    "\n",
    "# ✅ 正確寫法\n",
    "result = (10 + 5) * 2\n",
    "print(result)"
   ]
  },
  {
   "cell_type": "markdown",
   "metadata": {},
   "source": [
    "**錯誤原因**：左右括號數量不一致\n",
    "\n",
    "**預防方法**：使用支援括號配對的編輯器（VS Code, PyCharm）"
   ]
  },
  {
   "cell_type": "markdown",
   "metadata": {},
   "source": [
    "### 錯誤 1.3：等號錯誤（= vs ==）"
   ]
  },
  {
   "cell_type": "code",
   "execution_count": null,
   "metadata": {},
   "outputs": [],
   "source": [
    "# ❌ 錯誤示範\n",
    "# if x = 5:\n",
    "#     print(\"x是5\")\n",
    "# SyntaxError: invalid syntax\n",
    "\n",
    "# ✅ 正確寫法\n",
    "x = 10\n",
    "if x == 5:  # 比較用 ==\n",
    "    print(\"x是5\")\n",
    "else:\n",
    "    print(\"x不是5\")"
   ]
  },
  {
   "cell_type": "markdown",
   "metadata": {},
   "source": [
    "**錯誤原因**：\n",
    "- `=` 是賦值（assignment）\n",
    "- `==` 是比較（comparison）\n",
    "\n",
    "**預防方法**：記住「一個等號給值，兩個等號比較」"
   ]
  },
  {
   "cell_type": "markdown",
   "metadata": {},
   "source": [
    "---\n",
    "\n",
    "## 2. TypeError（型態錯誤）\n",
    "\n",
    "### 錯誤 2.1：字串與數字相加"
   ]
  },
  {
   "cell_type": "code",
   "execution_count": null,
   "metadata": {},
   "outputs": [],
   "source": [
    "# ❌ 錯誤示範\n",
    "try:\n",
    "    result = \"3\" + 5\n",
    "except TypeError as e:\n",
    "    print(f\"錯誤：{e}\")\n",
    "\n",
    "# ✅ 正確寫法 1：轉成 int\n",
    "result = int(\"3\") + 5\n",
    "print(f\"方法1: {result}\")  # 8\n",
    "\n",
    "# ✅ 正確寫法 2：轉成 str\n",
    "result = \"3\" + str(5)\n",
    "print(f\"方法2: {result}\")  # \"35\""
   ]
  },
  {
   "cell_type": "markdown",
   "metadata": {},
   "source": [
    "**錯誤原因**：Python 是強型態語言，不允許隱式轉換\n",
    "\n",
    "**預防方法**：運算前確保型態一致"
   ]
  },
  {
   "cell_type": "markdown",
   "metadata": {},
   "source": [
    "### 錯誤 2.2：列表不能與數字相加"
   ]
  },
  {
   "cell_type": "code",
   "execution_count": null,
   "metadata": {},
   "outputs": [],
   "source": [
    "# ❌ 錯誤示範\n",
    "try:\n",
    "    result = [1, 2, 3] + 4\n",
    "except TypeError as e:\n",
    "    print(f\"錯誤：{e}\")\n",
    "\n",
    "# ✅ 正確寫法 1：append\n",
    "numbers = [1, 2, 3]\n",
    "numbers.append(4)\n",
    "print(f\"方法1: {numbers}\")\n",
    "\n",
    "# ✅ 正確寫法 2：串接列表\n",
    "numbers = [1, 2, 3] + [4]\n",
    "print(f\"方法2: {numbers}\")"
   ]
  },
  {
   "cell_type": "markdown",
   "metadata": {},
   "source": [
    "**錯誤原因**：`+` 運算子只能用於相同型態\n",
    "\n",
    "**預防方法**：列表新增元素用 `.append()` 或串接 `[4]`"
   ]
  },
  {
   "cell_type": "markdown",
   "metadata": {},
   "source": [
    "### 錯誤 2.3：不可變物件無法修改"
   ]
  },
  {
   "cell_type": "code",
   "execution_count": null,
   "metadata": {},
   "outputs": [],
   "source": [
    "# ❌ 錯誤示範：字串不可變\n",
    "try:\n",
    "    text = \"Hello\"\n",
    "    text[0] = 'h'\n",
    "except TypeError as e:\n",
    "    print(f\"錯誤：{e}\")\n",
    "\n",
    "# ✅ 正確寫法：建立新字串\n",
    "text = \"Hello\"\n",
    "text = 'h' + text[1:]\n",
    "print(f\"修改後: {text}\")"
   ]
  },
  {
   "cell_type": "markdown",
   "metadata": {},
   "source": [
    "**錯誤原因**：字串（str）、元組（tuple）是不可變型態\n",
    "\n",
    "**預防方法**：記住可變型態：list, dict, set"
   ]
  },
  {
   "cell_type": "markdown",
   "metadata": {},
   "source": [
    "---\n",
    "\n",
    "## 3. NameError（名稱錯誤）\n",
    "\n",
    "### 錯誤 3.1：變數未定義"
   ]
  },
  {
   "cell_type": "code",
   "execution_count": null,
   "metadata": {},
   "outputs": [],
   "source": [
    "# ❌ 錯誤示範\n",
    "try:\n",
    "    print(total)\n",
    "except NameError as e:\n",
    "    print(f\"錯誤：{e}\")\n",
    "\n",
    "# ✅ 正確寫法：先定義再使用\n",
    "total = 0\n",
    "print(total)"
   ]
  },
  {
   "cell_type": "markdown",
   "metadata": {},
   "source": [
    "**錯誤原因**：使用未宣告的變數\n",
    "\n",
    "**預防方法**：確保變數在使用前已賦值"
   ]
  },
  {
   "cell_type": "markdown",
   "metadata": {},
   "source": [
    "### 錯誤 3.2：變數名稱拼錯"
   ]
  },
  {
   "cell_type": "code",
   "execution_count": null,
   "metadata": {},
   "outputs": [],
   "source": [
    "# ❌ 錯誤示範\n",
    "student_name = \"Alice\"\n",
    "try:\n",
    "    print(studnet_name)  # 拼錯了（studnet）\n",
    "except NameError as e:\n",
    "    print(f\"錯誤：{e}\")\n",
    "\n",
    "# ✅ 正確寫法\n",
    "print(student_name)"
   ]
  },
  {
   "cell_type": "markdown",
   "metadata": {},
   "source": [
    "**錯誤原因**：變數名稱拼寫錯誤\n",
    "\n",
    "**預防方法**：使用編輯器的自動完成功能"
   ]
  },
  {
   "cell_type": "markdown",
   "metadata": {},
   "source": [
    "---\n",
    "\n",
    "## 4. ValueError（值錯誤）\n",
    "\n",
    "### 錯誤 4.1：字串轉數字格式錯誤"
   ]
  },
  {
   "cell_type": "code",
   "execution_count": null,
   "metadata": {},
   "outputs": [],
   "source": [
    "# ❌ 錯誤示範\n",
    "try:\n",
    "    num = int(\"3.14\")\n",
    "except ValueError as e:\n",
    "    print(f\"錯誤：{e}\")\n",
    "\n",
    "# ✅ 正確寫法 1：先轉 float 再轉 int\n",
    "num = int(float(\"3.14\"))\n",
    "print(f\"方法1: {num}\")  # 3\n",
    "\n",
    "# ✅ 正確寫法 2：直接轉 float\n",
    "num = float(\"3.14\")\n",
    "print(f\"方法2: {num}\")  # 3.14"
   ]
  },
  {
   "cell_type": "markdown",
   "metadata": {},
   "source": [
    "**錯誤原因**：`int()` 只能轉換整數格式字串，不能直接轉換小數字串\n",
    "\n",
    "**預防方法**：\n",
    "- 小數字串先用 `float()` 再用 `int()`\n",
    "- 或直接保留為 float"
   ]
  },
  {
   "cell_type": "markdown",
   "metadata": {},
   "source": [
    "### 錯誤 4.2：拆包數量不匹配"
   ]
  },
  {
   "cell_type": "code",
   "execution_count": null,
   "metadata": {},
   "outputs": [],
   "source": [
    "# ❌ 錯誤示範\n",
    "try:\n",
    "    a, b = [1, 2, 3]  # 3 個值只給 2 個變數\n",
    "except ValueError as e:\n",
    "    print(f\"錯誤：{e}\")\n",
    "\n",
    "# ✅ 正確寫法 1：數量匹配\n",
    "a, b, c = [1, 2, 3]\n",
    "print(f\"a={a}, b={b}, c={c}\")\n",
    "\n",
    "# ✅ 正確寫法 2：使用 *\n",
    "a, b, *rest = [1, 2, 3, 4, 5]\n",
    "print(f\"a={a}, b={b}, rest={rest}\")"
   ]
  },
  {
   "cell_type": "markdown",
   "metadata": {},
   "source": [
    "**錯誤原因**：拆包（unpacking）時變數數量與值的數量不一致\n",
    "\n",
    "**預防方法**：確保變數數量與值數量相同，或使用 `*` 收集剩餘值"
   ]
  },
  {
   "cell_type": "markdown",
   "metadata": {},
   "source": [
    "---\n",
    "\n",
    "## 5. IndexError（索引錯誤）\n",
    "\n",
    "### 錯誤 5.1：索引超出範圍"
   ]
  },
  {
   "cell_type": "code",
   "execution_count": null,
   "metadata": {},
   "outputs": [],
   "source": [
    "# ❌ 錯誤示範\n",
    "numbers = [1, 2, 3]\n",
    "try:\n",
    "    print(numbers[5])  # 只有 0, 1, 2 三個索引\n",
    "except IndexError as e:\n",
    "    print(f\"錯誤：{e}\")\n",
    "\n",
    "# ✅ 正確寫法 1：檢查長度\n",
    "if len(numbers) > 5:\n",
    "    print(numbers[5])\n",
    "else:\n",
    "    print(\"索引超出範圍\")\n",
    "\n",
    "# ✅ 正確寫法 2：使用 try-except\n",
    "try:\n",
    "    print(numbers[5])\n",
    "except IndexError:\n",
    "    print(\"索引不存在，使用預設值\")"
   ]
  },
  {
   "cell_type": "markdown",
   "metadata": {},
   "source": [
    "**錯誤原因**：列表索引從 0 開始，最大索引是 `len(list) - 1`\n",
    "\n",
    "**預防方法**：\n",
    "- 記住索引範圍：`0` 到 `len(list) - 1`\n",
    "- 使用 `len()` 檢查"
   ]
  },
  {
   "cell_type": "markdown",
   "metadata": {},
   "source": [
    "---\n",
    "\n",
    "## 6. KeyError（鍵錯誤）\n",
    "\n",
    "### 錯誤 6.1：字典鍵不存在"
   ]
  },
  {
   "cell_type": "code",
   "execution_count": null,
   "metadata": {},
   "outputs": [],
   "source": [
    "# ❌ 錯誤示範\n",
    "student = {'name': 'Alice', 'age': 20}\n",
    "try:\n",
    "    print(student['grade'])  # 鍵 'grade' 不存在\n",
    "except KeyError as e:\n",
    "    print(f\"錯誤：{e}\")\n",
    "\n",
    "# ✅ 正確寫法 1：使用 get() 方法\n",
    "grade = student.get('grade', 'N/A')  # 不存在回傳 'N/A'\n",
    "print(f\"方法1: {grade}\")\n",
    "\n",
    "# ✅ 正確寫法 2：先檢查鍵是否存在\n",
    "if 'grade' in student:\n",
    "    print(student['grade'])\n",
    "else:\n",
    "    print(\"成績資料不存在\")"
   ]
  },
  {
   "cell_type": "markdown",
   "metadata": {},
   "source": [
    "**錯誤原因**：存取不存在的字典鍵\n",
    "\n",
    "**預防方法**：\n",
    "- 使用 `.get(key, default)` 方法\n",
    "- 或用 `in` 檢查鍵是否存在"
   ]
  },
  {
   "cell_type": "markdown",
   "metadata": {},
   "source": [
    "---\n",
    "\n",
    "## 7. AttributeError（屬性錯誤）\n",
    "\n",
    "### 錯誤 7.1：物件沒有該方法"
   ]
  },
  {
   "cell_type": "code",
   "execution_count": null,
   "metadata": {},
   "outputs": [],
   "source": [
    "# ❌ 錯誤示範\n",
    "try:\n",
    "    numbers = [1, 2, 3]\n",
    "    numbers.append(4, 5)  # append 只接受一個參數\n",
    "except TypeError as e:\n",
    "    print(f\"錯誤：{e}\")\n",
    "\n",
    "# ✅ 正確寫法 1：分次 append\n",
    "numbers = [1, 2, 3]\n",
    "numbers.append(4)\n",
    "numbers.append(5)\n",
    "print(f\"方法1: {numbers}\")\n",
    "\n",
    "# ✅ 正確寫法 2：使用 extend\n",
    "numbers = [1, 2, 3]\n",
    "numbers.extend([4, 5])\n",
    "print(f\"方法2: {numbers}\")"
   ]
  },
  {
   "cell_type": "markdown",
   "metadata": {},
   "source": [
    "**錯誤原因**：方法參數錯誤或型態沒有該方法\n",
    "\n",
    "**預防方法**：查閱官方文件確認方法用法"
   ]
  },
  {
   "cell_type": "markdown",
   "metadata": {},
   "source": [
    "---\n",
    "\n",
    "## 8. IndentationError（縮排錯誤）\n",
    "\n",
    "### 錯誤 8.1：縮排不一致"
   ]
  },
  {
   "cell_type": "code",
   "execution_count": null,
   "metadata": {},
   "outputs": [],
   "source": [
    "# ❌ 錯誤示範（無法實際執行，僅示意）\n",
    "# if True:\n",
    "#     print(\"第一行\")    # 4 個空格\n",
    "#       print(\"第二行\")  # 6 個空格\n",
    "# IndentationError: unexpected indent\n",
    "\n",
    "# ✅ 正確寫法：統一使用 4 個空格\n",
    "if True:\n",
    "    print(\"第一行\")\n",
    "    print(\"第二行\")"
   ]
  },
  {
   "cell_type": "markdown",
   "metadata": {},
   "source": [
    "**錯誤原因**：混用 Tab 與空格，或縮排不一致\n",
    "\n",
    "**預防方法**：\n",
    "- 統一使用 4 個空格（PEP 8 標準）\n",
    "- 編輯器設定 Tab 轉空格"
   ]
  },
  {
   "cell_type": "markdown",
   "metadata": {},
   "source": [
    "---\n",
    "\n",
    "## 9. ZeroDivisionError（除零錯誤）"
   ]
  },
  {
   "cell_type": "code",
   "execution_count": null,
   "metadata": {},
   "outputs": [],
   "source": [
    "# ❌ 錯誤示範\n",
    "try:\n",
    "    result = 10 / 0\n",
    "except ZeroDivisionError as e:\n",
    "    print(f\"錯誤：{e}\")\n",
    "\n",
    "# ✅ 正確寫法 1：先檢查\n",
    "divisor = 0\n",
    "if divisor != 0:\n",
    "    result = 10 / divisor\n",
    "else:\n",
    "    print(\"除數不能為零\")\n",
    "\n",
    "# ✅ 正確寫法 2：使用 try-except\n",
    "try:\n",
    "    result = 10 / divisor\n",
    "except ZeroDivisionError:\n",
    "    result = float('inf')  # 或其他預設值\n",
    "    print(f\"除數為零，使用預設值: {result}\")"
   ]
  },
  {
   "cell_type": "markdown",
   "metadata": {},
   "source": [
    "**錯誤原因**：除法運算的除數為 0\n",
    "\n",
    "**預防方法**：\n",
    "- 除法前檢查除數\n",
    "- 使用短路求值：`divisor != 0 and 10 / divisor > 2`"
   ]
  },
  {
   "cell_type": "markdown",
   "metadata": {},
   "source": [
    "---\n",
    "\n",
    "## 10. 邏輯錯誤（Logic Errors）\n",
    "\n",
    "邏輯錯誤不會拋出異常，但結果不正確。\n",
    "\n",
    "### 錯誤 10.1：運算子優先順序錯誤"
   ]
  },
  {
   "cell_type": "code",
   "execution_count": null,
   "metadata": {},
   "outputs": [],
   "source": [
    "# ❌ 錯誤理解\n",
    "result = 2 + 3 * 4  # 學生以為是 (2+3)*4 = 20\n",
    "print(f\"錯誤理解: {result}\")  # 實際是 14\n",
    "\n",
    "# ✅ 正確寫法：使用括號明確意圖\n",
    "result1 = (2 + 3) * 4  # 20\n",
    "result2 = 2 + (3 * 4)  # 14\n",
    "\n",
    "print(f\"先加後乘: {result1}\")\n",
    "print(f\"先乘後加: {result2}\")"
   ]
  },
  {
   "cell_type": "markdown",
   "metadata": {},
   "source": [
    "**錯誤原因**：不理解運算子優先順序\n",
    "\n",
    "**預防方法**：不確定時加括號"
   ]
  },
  {
   "cell_type": "markdown",
   "metadata": {},
   "source": [
    "### 錯誤 10.2：使用 = 而非 =="
   ]
  },
  {
   "cell_type": "code",
   "execution_count": null,
   "metadata": {},
   "outputs": [],
   "source": [
    "# ❌ 錯誤示範（邏輯錯誤，不報錯但結果不對）\n",
    "x = 5\n",
    "# 錯誤意圖：想檢查 x 是否等於 10\n",
    "if x:  # 這會永遠為 True（只要 x 不為 0）\n",
    "    pass  # 錯誤：應該用 x == 10\n",
    "\n",
    "# ✅ 正確寫法\n",
    "if x == 10:\n",
    "    print(\"x 等於 10\")\n",
    "else:\n",
    "    print(\"x 不等於 10\")"
   ]
  },
  {
   "cell_type": "markdown",
   "metadata": {},
   "source": [
    "### 錯誤 10.3：整數除法誤用"
   ]
  },
  {
   "cell_type": "code",
   "execution_count": null,
   "metadata": {},
   "outputs": [],
   "source": [
    "# ❌ 錯誤示範：想要平均值\n",
    "total = 10\n",
    "count = 3\n",
    "average = total // count  # 3（整數除法，丟失小數）\n",
    "print(f\"錯誤平均: {average}\")\n",
    "\n",
    "# ✅ 正確寫法：使用浮點除法\n",
    "average = total / count  # 3.333...\n",
    "print(f\"正確平均: {average:.2f}\")"
   ]
  },
  {
   "cell_type": "markdown",
   "metadata": {},
   "source": [
    "**錯誤原因**：混淆 `/`（浮點除法）與 `//`（整數除法）\n",
    "\n",
    "**預防方法**：\n",
    "- 需要精確結果用 `/`\n",
    "- 只需要商用 `//`"
   ]
  },
  {
   "cell_type": "markdown",
   "metadata": {},
   "source": [
    "---\n",
    "\n",
    "## 🛠️ 除錯技巧\n",
    "\n",
    "### 技巧 1：閱讀錯誤訊息"
   ]
  },
  {
   "cell_type": "code",
   "execution_count": null,
   "metadata": {},
   "outputs": [],
   "source": [
    "# 錯誤訊息範例\n",
    "try:\n",
    "    result = \"hello\" + 5\n",
    "except TypeError as e:\n",
    "    print(\"完整錯誤訊息：\")\n",
    "    print(e)\n",
    "    print(\"\\n解讀：\")\n",
    "    print(\"- 錯誤類型：TypeError\")\n",
    "    print(\"- 錯誤原因：不能將 str 與 int 相加\")\n",
    "    print(\"- 解決方法：轉換型態\")"
   ]
  },
  {
   "cell_type": "markdown",
   "metadata": {},
   "source": [
    "### 技巧 2：使用 print() 除錯"
   ]
  },
  {
   "cell_type": "code",
   "execution_count": null,
   "metadata": {},
   "outputs": [],
   "source": [
    "# 策略性放置 print()\n",
    "def calculate_average(numbers):\n",
    "    print(f\"DEBUG: 輸入 = {numbers}\")  # 檢查輸入\n",
    "    print(f\"DEBUG: 型態 = {type(numbers)}\")\n",
    "    \n",
    "    total = sum(numbers)\n",
    "    print(f\"DEBUG: 總和 = {total}\")  # 檢查中間結果\n",
    "    \n",
    "    count = len(numbers)\n",
    "    print(f\"DEBUG: 數量 = {count}\")\n",
    "    \n",
    "    avg = total / count\n",
    "    print(f\"DEBUG: 平均 = {avg}\")  # 檢查最終結果\n",
    "    \n",
    "    return avg\n",
    "\n",
    "result = calculate_average([90, 85, 88])\n",
    "print(f\"\\n結果: {result}\")"
   ]
  },
  {
   "cell_type": "markdown",
   "metadata": {},
   "source": [
    "### 技巧 3：檢查變數型態"
   ]
  },
  {
   "cell_type": "code",
   "execution_count": null,
   "metadata": {},
   "outputs": [],
   "source": [
    "# 懷疑型態錯誤時\n",
    "value = \"42\"\n",
    "\n",
    "print(f\"值: {value}\")\n",
    "print(f\"型態: {type(value)}\")\n",
    "print(f\"是字串嗎: {isinstance(value, str)}\")\n",
    "print(f\"是數字嗎: {isinstance(value, (int, float))}\")"
   ]
  },
  {
   "cell_type": "markdown",
   "metadata": {},
   "source": [
    "---\n",
    "\n",
    "## 📋 錯誤速查表\n",
    "\n",
    "| 錯誤類型 | 常見原因 | 快速解法 |\n",
    "|:---------|:---------|:---------|\n",
    "| **SyntaxError** | 忘記冒號、括號不匹配 | 檢查語法結構 |\n",
    "| **TypeError** | 型態不匹配運算 | 轉換型態 |\n",
    "| **NameError** | 變數未定義 | 先賦值再使用 |\n",
    "| **ValueError** | 轉換值格式錯誤 | 檢查轉換格式 |\n",
    "| **IndexError** | 索引超出範圍 | 檢查 len() |\n",
    "| **KeyError** | 字典鍵不存在 | 使用 .get() |\n",
    "| **AttributeError** | 方法不存在 | 查文件 |\n",
    "| **IndentationError** | 縮排錯誤 | 統一 4 空格 |\n",
    "| **ZeroDivisionError** | 除以零 | 先檢查除數 |\n",
    "\n",
    "---\n",
    "\n",
    "## 🎯 除錯流程圖\n",
    "\n",
    "```\n",
    "遇到錯誤\n",
    "    ↓\n",
    "1. 閱讀錯誤訊息（錯誤類型 + 行號）\n",
    "    ↓\n",
    "2. 找到出錯的那一行\n",
    "    ↓\n",
    "3. 檢查常見原因（參考本文件）\n",
    "    ↓\n",
    "4. 使用 print() 檢查變數值與型態\n",
    "    ↓\n",
    "5. Google 搜尋錯誤訊息\n",
    "    ↓\n",
    "6. 請教他人或 AI 助手\n",
    "```\n",
    "\n",
    "---\n",
    "\n",
    "## 🔗 相關資源\n",
    "\n",
    "- **Ch20**: 例外處理機制\n",
    "- **Ch22**: 除錯技術\n",
    "- [Python 官方錯誤文件](https://docs.python.org/3/library/exceptions.html)\n",
    "\n",
    "---\n",
    "\n",
    "**學習建議**：\n",
    "1. 遇到錯誤先查本文件\n",
    "2. 記錄自己遇到的錯誤與解法\n",
    "3. 錯誤是學習的機會，不要害怕！\n",
    "\n",
    "**最後更新**：2025-10-05"
   ]
  }
 ],
 "metadata": {
  "kernelspec": {
   "display_name": "Python 3",
   "language": "python",
   "name": "python3"
  },
  "language_info": {
   "name": "python",
   "version": "3.8.0"
  }
 },
 "nbformat": 4,
 "nbformat_minor": 4
}
