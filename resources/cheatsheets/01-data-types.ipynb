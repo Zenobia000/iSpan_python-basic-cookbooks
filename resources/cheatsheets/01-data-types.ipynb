{
 "cells": [
  {
   "cell_type": "markdown",
   "metadata": {},
   "source": [
    "# Python 資料型態速查表 | Data Types Cheatsheet\n",
    "\n",
    "快速參考 Python 的基本與進階資料型態。\n",
    "\n",
    "**適用對象**：\n",
    "- 學完 Ch01-Ch11 的學習者\n",
    "- 需要快速查閱語法的開發者\n",
    "- 準備面試或考試的學生\n",
    "\n",
    "**使用方式**：\n",
    "- 作為考試參考資料\n",
    "- 忘記語法時快速查閱\n",
    "- 複習時整理重點\n",
    "\n",
    "---"
   ]
  },
  {
   "cell_type": "markdown",
   "metadata": {},
   "source": [
    "## 📊 資料型態總覽\n",
    "\n",
    "| 類別 | 型態 | 英文 | 可變性 | 範例 |\n",
    "|:-----|:-----|:-----|:-------|:-----|\n",
    "| **數值** | 整數 | int | 不可變 | `42`, `-10`, `0` |\n",
    "| **數值** | 浮點數 | float | 不可變 | `3.14`, `-0.5`, `2.0` |\n",
    "| **數值** | 複數 | complex | 不可變 | `3+4j`, `2j` |\n",
    "| **文字** | 字串 | str | 不可變 | `\"Hello\"`, `'Python'` |\n",
    "| **布林** | 布林值 | bool | 不可變 | `True`, `False` |\n",
    "| **序列** | 列表 | list | **可變** | `[1, 2, 3]` |\n",
    "| **序列** | 元組 | tuple | 不可變 | `(1, 2, 3)` |\n",
    "| **映射** | 字典 | dict | **可變** | `{'key': 'value'}` |\n",
    "| **集合** | 集合 | set | **可變** | `{1, 2, 3}` |\n",
    "| **集合** | 凍結集合 | frozenset | 不可變 | `frozenset({1, 2})` |\n",
    "| **空值** | 空值 | NoneType | 不可變 | `None` |"
   ]
  },
  {
   "cell_type": "markdown",
   "metadata": {},
   "source": [
    "---\n",
    "\n",
    "## 1️⃣ 數值型態（Numeric Types）\n",
    "\n",
    "### int（整數）"
   ]
  },
  {
   "cell_type": "code",
   "execution_count": null,
   "metadata": {},
   "outputs": [],
   "source": [
    "# 整數宣告\n",
    "a = 42\n",
    "b = -10\n",
    "c = 0\n",
    "\n",
    "# 大整數（無限制）\n",
    "big_num = 123456789012345678901234567890\n",
    "\n",
    "# 不同進位\n",
    "binary = 0b1010      # 二進位 (10)\n",
    "octal = 0o12         # 八進位 (10)\n",
    "hexadecimal = 0xA    # 十六進位 (10)\n",
    "\n",
    "print(f\"二進位 0b1010 = {binary}\")\n",
    "print(f\"八進位 0o12 = {octal}\")\n",
    "print(f\"十六進位 0xA = {hexadecimal}\")"
   ]
  },
  {
   "cell_type": "markdown",
   "metadata": {},
   "source": [
    "### float（浮點數）"
   ]
  },
  {
   "cell_type": "code",
   "execution_count": null,
   "metadata": {},
   "outputs": [],
   "source": [
    "# 浮點數宣告\n",
    "pi = 3.14159\n",
    "negative = -0.5\n",
    "scientific = 2.5e3   # 科學記號 (2.5 × 10³ = 2500.0)\n",
    "\n",
    "# 特殊值\n",
    "infinity = float('inf')\n",
    "neg_infinity = float('-inf')\n",
    "not_a_number = float('nan')\n",
    "\n",
    "print(f\"科學記號 2.5e3 = {scientific}\")\n",
    "print(f\"無限大: {infinity}\")\n",
    "print(f\"非數值: {not_a_number}\")"
   ]
  },
  {
   "cell_type": "markdown",
   "metadata": {},
   "source": [
    "### 型態轉換"
   ]
  },
  {
   "cell_type": "code",
   "execution_count": null,
   "metadata": {},
   "outputs": [],
   "source": [
    "# int ↔ float\n",
    "print(f\"int(3.9) = {int(3.9)}\")        # 3 (截斷)\n",
    "print(f\"float(10) = {float(10)}\")      # 10.0\n",
    "\n",
    "# str → int/float\n",
    "print(f\"int('42') = {int('42')}\")      # 42\n",
    "print(f\"float('3.14') = {float('3.14')}\")  # 3.14\n",
    "\n",
    "# int/float → str\n",
    "print(f\"str(42) = {str(42)}\")          # '42'\n",
    "print(f\"str(3.14) = {str(3.14)}\")      # '3.14'"
   ]
  },
  {
   "cell_type": "markdown",
   "metadata": {},
   "source": [
    "---\n",
    "\n",
    "## 2️⃣ 字串型態（String Type）\n",
    "\n",
    "### 字串建立與操作"
   ]
  },
  {
   "cell_type": "code",
   "execution_count": null,
   "metadata": {},
   "outputs": [],
   "source": [
    "# 字串建立\n",
    "s1 = \"Hello\"\n",
    "s2 = 'World'\n",
    "s3 = \"\"\"多行\n",
    "字串\"\"\"\n",
    "s4 = r\"原始字串\\n不轉義\"  # raw string\n",
    "\n",
    "# 字串運算\n",
    "concat = s1 + \" \" + s2      # 串接\n",
    "repeat = \"Ha\" * 3            # 重複\n",
    "\n",
    "# 索引與切片\n",
    "text = \"Python\"\n",
    "print(f\"第一個字元: {text[0]}\")      # 'P'\n",
    "print(f\"最後一個: {text[-1]}\")        # 'n'\n",
    "print(f\"前三個: {text[:3]}\")          # 'Pyt'\n",
    "print(f\"後三個: {text[-3:]}\")         # 'hon'"
   ]
  },
  {
   "cell_type": "markdown",
   "metadata": {},
   "source": [
    "### 常用字串方法"
   ]
  },
  {
   "cell_type": "code",
   "execution_count": null,
   "metadata": {},
   "outputs": [],
   "source": [
    "text = \"  Hello World  \"\n",
    "\n",
    "# 大小寫轉換\n",
    "print(text.upper())         # '  HELLO WORLD  '\n",
    "print(text.lower())         # '  hello world  '\n",
    "print(text.capitalize())    # '  hello world  '\n",
    "print(text.title())         # '  Hello World  '\n",
    "\n",
    "# 去除空白\n",
    "print(text.strip())         # 'Hello World'\n",
    "print(text.lstrip())        # 'Hello World  '\n",
    "print(text.rstrip())        # '  Hello World'\n",
    "\n",
    "# 尋找與替換\n",
    "print(text.find('World'))   # 8 (索引位置)\n",
    "print(text.replace('World', 'Python'))  # '  Hello Python  '\n",
    "\n",
    "# 分割與結合\n",
    "words = \"apple,banana,cherry\".split(',')  # ['apple', 'banana', 'cherry']\n",
    "joined = '-'.join(['a', 'b', 'c'])        # 'a-b-c'\n",
    "\n",
    "print(f\"分割: {words}\")\n",
    "print(f\"結合: {joined}\")"
   ]
  },
  {
   "cell_type": "markdown",
   "metadata": {},
   "source": [
    "### 字串格式化"
   ]
  },
  {
   "cell_type": "code",
   "execution_count": null,
   "metadata": {},
   "outputs": [],
   "source": [
    "name = \"Alice\"\n",
    "age = 25\n",
    "score = 95.5\n",
    "\n",
    "# f-string（推薦）\n",
    "print(f\"姓名: {name}, 年齡: {age}\")\n",
    "print(f\"分數: {score:.1f}\")  # 保留 1 位小數\n",
    "\n",
    "# format() 方法\n",
    "print(\"{} is {} years old\".format(name, age))\n",
    "\n",
    "# % 格式化（舊式）\n",
    "print(\"%s: %d 分\" % (name, score))"
   ]
  },
  {
   "cell_type": "markdown",
   "metadata": {},
   "source": [
    "---\n",
    "\n",
    "## 3️⃣ 布林型態（Boolean Type）"
   ]
  },
  {
   "cell_type": "code",
   "execution_count": null,
   "metadata": {},
   "outputs": [],
   "source": [
    "# 布林值\n",
    "is_valid = True\n",
    "is_empty = False\n",
    "\n",
    "# 真值測試（Truthiness）\n",
    "print(\"=== False 的值 ===\")\n",
    "print(f\"bool(0) = {bool(0)}\")           # False\n",
    "print(f\"bool('') = {bool('')}\")         # False (空字串)\n",
    "print(f\"bool([]) = {bool([])}\")         # False (空列表)\n",
    "print(f\"bool({{}}) = {bool({})}\")       # False (空字典)\n",
    "print(f\"bool(None) = {bool(None)}\")     # False\n",
    "\n",
    "print(\"\\n=== True 的值 ===\")\n",
    "print(f\"bool(1) = {bool(1)}\")           # True\n",
    "print(f\"bool('Hi') = {bool('Hi')}\")     # True\n",
    "print(f\"bool([1]) = {bool([1])}\")       # True"
   ]
  },
  {
   "cell_type": "markdown",
   "metadata": {},
   "source": [
    "---\n",
    "\n",
    "## 4️⃣ 列表（List）\n",
    "\n",
    "### 列表建立與操作"
   ]
  },
  {
   "cell_type": "code",
   "execution_count": null,
   "metadata": {},
   "outputs": [],
   "source": [
    "# 列表建立\n",
    "numbers = [1, 2, 3, 4, 5]\n",
    "mixed = [1, \"hello\", 3.14, True]\n",
    "nested = [[1, 2], [3, 4], [5, 6]]\n",
    "empty = []\n",
    "\n",
    "# 索引與切片\n",
    "fruits = ['apple', 'banana', 'cherry', 'date']\n",
    "print(f\"第一個: {fruits[0]}\")      # 'apple'\n",
    "print(f\"最後一個: {fruits[-1]}\")    # 'date'\n",
    "print(f\"前兩個: {fruits[:2]}\")      # ['apple', 'banana']\n",
    "print(f\"反轉: {fruits[::-1]}\")      # ['date', 'cherry', 'banana', 'apple']"
   ]
  },
  {
   "cell_type": "markdown",
   "metadata": {},
   "source": [
    "### 常用列表方法"
   ]
  },
  {
   "cell_type": "code",
   "execution_count": null,
   "metadata": {},
   "outputs": [],
   "source": [
    "numbers = [1, 2, 3]\n",
    "\n",
    "# 新增元素\n",
    "numbers.append(4)           # [1, 2, 3, 4] (末端新增)\n",
    "numbers.insert(0, 0)        # [0, 1, 2, 3, 4] (指定位置)\n",
    "numbers.extend([5, 6])      # [0, 1, 2, 3, 4, 5, 6] (擴展)\n",
    "\n",
    "# 刪除元素\n",
    "numbers.remove(0)           # 移除值為 0 的元素\n",
    "popped = numbers.pop()      # 移除並回傳最後一個\n",
    "del numbers[0]              # 刪除索引 0\n",
    "\n",
    "# 排序\n",
    "numbers.sort()              # 原地排序\n",
    "sorted_nums = sorted(numbers)  # 回傳新列表\n",
    "\n",
    "# 其他\n",
    "print(f\"長度: {len(numbers)}\")\n",
    "print(f\"最大值: {max(numbers)}\")\n",
    "print(f\"總和: {sum(numbers)}\")\n",
    "print(f\"反轉: {numbers[::-1]}\")"
   ]
  },
  {
   "cell_type": "markdown",
   "metadata": {},
   "source": [
    "---\n",
    "\n",
    "## 5️⃣ 元組（Tuple）"
   ]
  },
  {
   "cell_type": "code",
   "execution_count": null,
   "metadata": {},
   "outputs": [],
   "source": [
    "# 元組建立\n",
    "point = (3, 4)\n",
    "single = (1,)           # 單元素元組需要逗號\n",
    "colors = ('red', 'green', 'blue')\n",
    "\n",
    "# 元組拆包（Unpacking）\n",
    "x, y = point\n",
    "print(f\"x={x}, y={y}\")\n",
    "\n",
    "# 元組不可變\n",
    "# point[0] = 5  # TypeError: 'tuple' object does not support item assignment\n",
    "\n",
    "# 元組可用於多重賦值\n",
    "a, b = 1, 2\n",
    "a, b = b, a  # 交換變數\n",
    "print(f\"交換後: a={a}, b={b}\")"
   ]
  },
  {
   "cell_type": "markdown",
   "metadata": {},
   "source": [
    "---\n",
    "\n",
    "## 6️⃣ 字典（Dictionary）\n",
    "\n",
    "### 字典建立與操作"
   ]
  },
  {
   "cell_type": "code",
   "execution_count": null,
   "metadata": {},
   "outputs": [],
   "source": [
    "# 字典建立\n",
    "student = {\n",
    "    'name': 'Alice',\n",
    "    'age': 20,\n",
    "    'scores': [90, 85, 88]\n",
    "}\n",
    "\n",
    "# 存取元素\n",
    "print(student['name'])           # 'Alice'\n",
    "print(student.get('grade', 'N/A'))  # 'N/A' (不存在回傳預設值)\n",
    "\n",
    "# 新增/修改\n",
    "student['grade'] = 'A'\n",
    "student['age'] = 21\n",
    "\n",
    "# 刪除\n",
    "del student['scores']\n",
    "popped_value = student.pop('grade')  # 移除並回傳值"
   ]
  },
  {
   "cell_type": "markdown",
   "metadata": {},
   "source": [
    "### 常用字典方法"
   ]
  },
  {
   "cell_type": "code",
   "execution_count": null,
   "metadata": {},
   "outputs": [],
   "source": [
    "data = {'a': 1, 'b': 2, 'c': 3}\n",
    "\n",
    "# 取得鍵、值、項目\n",
    "print(f\"鍵: {list(data.keys())}\")      # ['a', 'b', 'c']\n",
    "print(f\"值: {list(data.values())}\")    # [1, 2, 3]\n",
    "print(f\"項目: {list(data.items())}\")   # [('a', 1), ('b', 2), ('c', 3)]\n",
    "\n",
    "# 檢查鍵是否存在\n",
    "print(f\"'a' in data: {'a' in data}\")   # True\n",
    "\n",
    "# 更新字典\n",
    "data.update({'d': 4, 'e': 5})\n",
    "print(f\"更新後: {data}\")"
   ]
  },
  {
   "cell_type": "markdown",
   "metadata": {},
   "source": [
    "---\n",
    "\n",
    "## 7️⃣ 集合（Set）"
   ]
  },
  {
   "cell_type": "code",
   "execution_count": null,
   "metadata": {},
   "outputs": [],
   "source": [
    "# 集合建立\n",
    "s1 = {1, 2, 3, 4, 5}\n",
    "s2 = {4, 5, 6, 7, 8}\n",
    "\n",
    "# 集合運算\n",
    "print(f\"聯集: {s1 | s2}\")        # {1, 2, 3, 4, 5, 6, 7, 8}\n",
    "print(f\"交集: {s1 & s2}\")        # {4, 5}\n",
    "print(f\"差集: {s1 - s2}\")        # {1, 2, 3}\n",
    "print(f\"對稱差: {s1 ^ s2}\")      # {1, 2, 3, 6, 7, 8}\n",
    "\n",
    "# 新增/刪除\n",
    "s1.add(6)                   # 新增元素\n",
    "s1.remove(1)                # 移除元素（不存在會報錯）\n",
    "s1.discard(99)              # 移除元素（不存在不報錯）\n",
    "\n",
    "# 去重應用\n",
    "duplicates = [1, 2, 2, 3, 3, 3]\n",
    "unique = list(set(duplicates))  # [1, 2, 3]\n",
    "print(f\"去重: {unique}\")"
   ]
  },
  {
   "cell_type": "markdown",
   "metadata": {},
   "source": [
    "---\n",
    "\n",
    "## 8️⃣ None 型態"
   ]
  },
  {
   "cell_type": "code",
   "execution_count": null,
   "metadata": {},
   "outputs": [],
   "source": [
    "# None 表示「無值」\n",
    "result = None\n",
    "\n",
    "# 檢查 None\n",
    "print(result is None)       # True（推薦）\n",
    "print(result == None)       # True（不推薦）\n",
    "\n",
    "# 函式預設回傳 None\n",
    "def no_return():\n",
    "    print(\"沒有 return\")\n",
    "\n",
    "value = no_return()  # None\n",
    "print(f\"回傳值: {value}\")"
   ]
  },
  {
   "cell_type": "markdown",
   "metadata": {},
   "source": [
    "---\n",
    "\n",
    "## 📋 型態檢查與轉換總表\n",
    "\n",
    "### 型態檢查"
   ]
  },
  {
   "cell_type": "code",
   "execution_count": null,
   "metadata": {},
   "outputs": [],
   "source": [
    "# type() - 檢查型態\n",
    "print(type(42))         # <class 'int'>\n",
    "print(type(3.14))       # <class 'float'>\n",
    "print(type(\"Hi\"))       # <class 'str'>\n",
    "\n",
    "# isinstance() - 檢查是否為某型態\n",
    "print(isinstance(42, int))           # True\n",
    "print(isinstance(42, (int, float)))  # True (多重檢查)"
   ]
  },
  {
   "cell_type": "markdown",
   "metadata": {},
   "source": [
    "### 型態轉換矩陣\n",
    "\n",
    "| 從 \\ 到 | int | float | str | bool | list |\n",
    "|:--------|:----|:------|:----|:-----|:-----|\n",
    "| **int** | - | ✅ | ✅ | ✅ | ✅ |\n",
    "| **float** | ✅ (截斷) | - | ✅ | ✅ | ✅ |\n",
    "| **str** | ⚠️ 數字格式 | ⚠️ 數字格式 | - | ✅ | ✅ (字元列表) |\n",
    "| **bool** | ✅ | ✅ | ✅ | - | ✅ |\n",
    "| **list** | ❌ | ❌ | ✅ | ✅ | - |\n",
    "\n",
    "✅ 安全轉換 | ⚠️ 需注意 | ❌ 不支援"
   ]
  },
  {
   "cell_type": "markdown",
   "metadata": {},
   "source": [
    "---\n",
    "\n",
    "## 🔧 實用技巧\n",
    "\n",
    "### 1. 多重賦值"
   ]
  },
  {
   "cell_type": "code",
   "execution_count": null,
   "metadata": {},
   "outputs": [],
   "source": [
    "# 同時賦值多個變數\n",
    "a, b, c = 1, 2, 3\n",
    "\n",
    "# 交換變數\n",
    "x, y = 10, 20\n",
    "x, y = y, x  # x=20, y=10\n",
    "\n",
    "# 拆包（Unpacking）\n",
    "numbers = [1, 2, 3, 4, 5]\n",
    "first, *middle, last = numbers\n",
    "print(f\"first={first}, middle={middle}, last={last}\")"
   ]
  },
  {
   "cell_type": "markdown",
   "metadata": {},
   "source": [
    "### 2. 列表推導式"
   ]
  },
  {
   "cell_type": "code",
   "execution_count": null,
   "metadata": {},
   "outputs": [],
   "source": [
    "# 基本推導式\n",
    "squares = [x**2 for x in range(5)]  # [0, 1, 4, 9, 16]\n",
    "\n",
    "# 條件過濾\n",
    "evens = [x for x in range(10) if x % 2 == 0]  # [0, 2, 4, 6, 8]\n",
    "\n",
    "# 轉換\n",
    "words = ['HELLO', 'WORLD']\n",
    "lower_words = [w.lower() for w in words]  # ['hello', 'world']\n",
    "\n",
    "print(f\"平方: {squares}\")\n",
    "print(f\"偶數: {evens}\")\n",
    "print(f\"小寫: {lower_words}\")"
   ]
  },
  {
   "cell_type": "markdown",
   "metadata": {},
   "source": [
    "### 3. 字典推導式"
   ]
  },
  {
   "cell_type": "code",
   "execution_count": null,
   "metadata": {},
   "outputs": [],
   "source": [
    "# 字典推導式\n",
    "squares_dict = {x: x**2 for x in range(5)}\n",
    "# {0: 0, 1: 1, 2: 4, 3: 9, 4: 16}\n",
    "\n",
    "# 過濾字典\n",
    "scores = {'Alice': 90, 'Bob': 75, 'Charlie': 85}\n",
    "passed = {k: v for k, v in scores.items() if v >= 80}\n",
    "# {'Alice': 90, 'Charlie': 85}\n",
    "\n",
    "print(f\"平方字典: {squares_dict}\")\n",
    "print(f\"及格者: {passed}\")"
   ]
  },
  {
   "cell_type": "markdown",
   "metadata": {},
   "source": [
    "---\n",
    "\n",
    "## 📊 效能比較\n",
    "\n",
    "| 操作 | list | tuple | set | dict |\n",
    "|:-----|:-----|:------|:----|:-----|\n",
    "| **索引存取** | O(1) | O(1) | ❌ | O(1) |\n",
    "| **新增元素** | O(1)* | ❌ | O(1) | O(1) |\n",
    "| **查找元素** | O(n) | O(n) | O(1) | O(1) |\n",
    "| **刪除元素** | O(n) | ❌ | O(1) | O(1) |\n",
    "| **記憶體** | 中 | 小 | 中 | 大 |\n",
    "\n",
    "*append() 是 O(1)，insert(0) 是 O(n)\n",
    "\n",
    "### 選擇建議\n",
    "- **需要順序 + 可變** → `list`\n",
    "- **需要順序 + 不可變** → `tuple`\n",
    "- **需要快速查找 + 去重** → `set`\n",
    "- **需要鍵值對應** → `dict`"
   ]
  },
  {
   "cell_type": "markdown",
   "metadata": {},
   "source": [
    "---\n",
    "\n",
    "## 🎯 快速參考卡\n",
    "\n",
    "### 建立資料結構\n",
    "```python\n",
    "# 列表\n",
    "[1, 2, 3]\n",
    "\n",
    "# 元組\n",
    "(1, 2, 3)\n",
    "\n",
    "# 字典\n",
    "{'key': 'value'}\n",
    "\n",
    "# 集合\n",
    "{1, 2, 3}\n",
    "\n",
    "# 空結構\n",
    "[]          # 空列表\n",
    "()          # 空元組\n",
    "{}          # 空字典（不是空集合！）\n",
    "set()       # 空集合\n",
    "```\n",
    "\n",
    "### 常用內建函式\n",
    "```python\n",
    "len(obj)        # 長度\n",
    "type(obj)       # 型態\n",
    "str(obj)        # 轉字串\n",
    "int(obj)        # 轉整數\n",
    "float(obj)      # 轉浮點數\n",
    "list(obj)       # 轉列表\n",
    "tuple(obj)      # 轉元組\n",
    "set(obj)        # 轉集合\n",
    "dict(obj)       # 轉字典\n",
    "```\n",
    "\n",
    "---\n",
    "\n",
    "## 🔗 相關章節\n",
    "\n",
    "- **Ch01**: 變數與基本型態（int, float, str, bool）\n",
    "- **Ch07**: 列表詳解\n",
    "- **Ch08**: 元組與字串詳解\n",
    "- **Ch09**: 字典詳解\n",
    "- **Ch10**: 集合詳解\n",
    "- **Ch11**: 推導式與生成器\n",
    "\n",
    "---\n",
    "\n",
    "**最後更新**：2025-10-05"
   ]
  }
 ],
 "metadata": {
  "kernelspec": {
   "display_name": "Python 3",
   "language": "python",
   "name": "python3"
  },
  "language_info": {
   "name": "python",
   "version": "3.8.0"
  }
 },
 "nbformat": 4,
 "nbformat_minor": 4
}
